{
 "cells": [
  {
   "cell_type": "markdown",
   "metadata": {},
   "source": [
    "# import data"
   ]
  },
  {
   "cell_type": "code",
   "execution_count": 1,
   "metadata": {},
   "outputs": [
    {
     "name": "stdout",
     "output_type": "stream",
     "text": [
      "dict_keys(['123046.SZ', '300587.SZ', '113642.SH', '603185.SH', '110061.SH', '600674.SH', '128081.SZ', '002203.SZ'])\n",
      "123046.SZ  data length:  31460\n",
      "300587.SZ  data length:  31460\n",
      "113642.SH  data length:  13552\n",
      "603185.SH  data length:  31460\n",
      "110061.SH  data length:  31460\n",
      "600674.SH  data length:  31460\n",
      "128081.SZ  data length:  31460\n",
      "002203.SZ  data length:  31460\n"
     ]
    }
   ],
   "source": [
    "import platform\n",
    "import pandas as pd\n",
    "from datetime import datetime, timedelta, time\n",
    "ohlcv_data = pd.read_pickle('/Users/bokie/code/python/CMS/可转债套利/cms/stock_data_min.pkl')\n",
    "print(ohlcv_data.keys())\n",
    "for k,v in ohlcv_data.items():\n",
    "    print(k,' data length: ',len(v))"
   ]
  },
  {
   "cell_type": "markdown",
   "metadata": {},
   "source": [
    "# bond-stock pair"
   ]
  },
  {
   "cell_type": "code",
   "execution_count": null,
   "metadata": {},
   "outputs": [],
   "source": [
    "cbond_pair = ['128081.SZ','002203.SZ']\n",
    "# cbond_pair = ['123046.SZ','300587.SZ']\n",
    "# cbond_pair = ['110061.SH','600674.SH']\n",
    "# cbond_pair = ['113642.SH','603185.SH']"
   ]
  },
  {
   "cell_type": "code",
   "execution_count": null,
   "metadata": {},
   "outputs": [],
   "source": [
    "cbond_pair_price = pd.DataFrame([])\n",
    "cbond_pair_price = pd.concat([ohlcv_data[cbond_pair[0]]['close'],ohlcv_data[cbond_pair[1]]['close']],axis=1)\n",
    "cbond_pair_price.columns = cbond_pair\n",
    "cbond_pair_price = cbond_pair_price.dropna()\n",
    "cbond_pair_price = cbond_pair_price.loc['2022-03-07 15:00:00':]\n",
    "# cbond_pair_price.to_excel('cbond_pair_price.xlsx')\n",
    "# cbond_pair_price.to_csv('cbond_pair_price.csv')"
   ]
  },
  {
   "cell_type": "code",
   "execution_count": null,
   "metadata": {},
   "outputs": [],
   "source": [
    "print(len(cbond_pair_price))\n",
    "cbond_pair_price.head(10)"
   ]
  },
  {
   "cell_type": "markdown",
   "metadata": {},
   "source": [
    "# signal calculate"
   ]
  },
  {
   "cell_type": "markdown",
   "metadata": {},
   "source": [
    "先算cbond_return(日内收益率，相对于昨日收盘价)，再算cbond_position，计算cbond_position中用到的open_threshold和close_threshold分别是价格止盈价格止损信号。时间止损信号则是，每日15点时强制平仓"
   ]
  },
  {
   "cell_type": "code",
   "execution_count": null,
   "metadata": {},
   "outputs": [],
   "source": [
    "cbond_return = pd.DataFrame([])\n",
    "\n",
    "cbond_preclose = cbond_pair_price.iloc[0,0] # 初始时刻的bond前收盘价\n",
    "stock_preclose = cbond_pair_price.iloc[0,1] # 初始时刻的stock前收盘价\n",
    "\n",
    "for index,row in cbond_pair_price.iterrows():\n",
    "    \n",
    "    cbond_return.loc[index,cbond_pair[0]] = row[cbond_pair[0]]/cbond_preclose - 1 # 算日内的return\n",
    "    cbond_return.loc[index,cbond_pair[1]] = row[cbond_pair[1]]/stock_preclose - 1\n",
    "\n",
    "    if index.time()==time(15,0,0):  #算完日内return，迭代到今日价格的最后一个time bar的时候，将其设为前收盘价\n",
    "        cbond_preclose = row[cbond_pair[0]]    # 日内return指标用 现价/昨日收盘价 计算\n",
    "        stock_preclose = row[cbond_pair[1]]\n",
    "        \n",
    "# 检查df是否有空值\n",
    "cbond_return.isnull().sum(axis=0)  # 按列统计\n",
    "cbond_return.isnull().sum(axis=1) # 按行统计\n",
    "cbond_return.isnull().sum(axis=1).sum() # 统计整张表"
   ]
  },
  {
   "cell_type": "code",
   "execution_count": null,
   "metadata": {},
   "outputs": [],
   "source": [
    "pd.set_option('display.max_rows', None)\n",
    "# pair moving trend: diff = cbond reutrn - stock return \n",
    "cbond_return['diff'] = cbond_return[cbond_pair[0]] - cbond_return[cbond_pair[1]]\n",
    "\n",
    "len(cbond_return)"
   ]
  },
  {
   "cell_type": "code",
   "execution_count": null,
   "metadata": {},
   "outputs": [],
   "source": [
    "# # 画出收益率的时间序列图，对diff序列做平稳性检验\n",
    "# # plot pair moving trend: diff = cbond reutrn - stock return \n",
    "\n",
    "# import plotly.graph_objects as go\n",
    "\n",
    "# fig = go.Figure(data=[\n",
    "#     go.Scatter(name=cbond_pair[0], x=cbond_return.index, y=cbond_return[cbond_pair[0]]),\n",
    "#     go.Scatter(name=cbond_pair[1], x=cbond_return.index, y=cbond_return[cbond_pair[1]]),\n",
    "#     go.Scatter(name='diff', x=cbond_return.index, y=cbond_return['diff']),\n",
    "# ])\n",
    "# fig.show()\n",
    "\n",
    "\n",
    "# # test stationary\n",
    "# from statsmodels.tsa.stattools import adfuller\n",
    "# if adfuller(cbond_return['diff'])[1] < 0.001:\n",
    "#     print(\"This cbond-stock pair is stationary!\")\n",
    "# else:\n",
    "#     print(\"This cbond-stock pair is not stationary!\")"
   ]
  },
  {
   "cell_type": "code",
   "execution_count": null,
   "metadata": {},
   "outputs": [],
   "source": [
    "open_threshold = 0.01\n",
    "# open_threshold = 0.008\n",
    "close_threshold = 0.001\n",
    "open_flag = 0\n",
    "cbond_position = pd.DataFrame([])\n",
    "cbond_position.index = cbond_return.index\n",
    "for index,row in cbond_return.iterrows():\n",
    "    if abs(row['diff']) > open_threshold and open_flag==0:  # diff大于开仓阈值，并且无仓位就开仓\n",
    "        open_flag = 1\n",
    "        if row['diff'] > 0:  # diff 绝对值大于0.01并且diff是正数，说明bond偏高了，做空之，stock则反向开仓\n",
    "            cbond_position.loc[index,cbond_pair[0]] = -1*open_flag  #short bond, long stock\n",
    "            cbond_position.loc[index,cbond_pair[1]] = open_flag\n",
    "        else:                # diff 绝对值大于0.01并且diff是负数，说明bond偏低了，做多之，stock则反向开仓\n",
    "            cbond_position.loc[index,cbond_pair[0]] = open_flag     #long bond, short stock\n",
    "            cbond_position.loc[index,cbond_pair[1]] = -1*open_flag\n",
    "    \n",
    "    elif abs(row['diff']) < close_threshold and open_flag==1: # diff小于平仓阈值，并且有仓位就平仓\n",
    "        open_flag = 0   # diff 绝对值小于阈值时，认为股债的偏移效应减弱，走势收敛，此时平仓\n",
    "        cbond_position.loc[index,cbond_pair[0]] = open_flag\n",
    "        cbond_position.loc[index,cbond_pair[1]] = open_flag\n",
    "    \n",
    "    else: # diff介于开仓阈值和平仓阈值之间，并且diff大于0，short bond long stock,小于0则short stock long bond\n",
    "        if row['diff'] > 0:\n",
    "            cbond_position.loc[index,cbond_pair[0]] = -1*open_flag\n",
    "            cbond_position.loc[index,cbond_pair[1]] = open_flag\n",
    "        else:\n",
    "            cbond_position.loc[index,cbond_pair[0]] = open_flag\n",
    "            cbond_position.loc[index,cbond_pair[1]] = -1*open_flag\n",
    "\n",
    "    if index.time()==time(15,0,0): # 每日收盘时必须平仓（时间止损信号）\n",
    "        open_flag = 0 \n",
    "        cbond_position.loc[index,cbond_pair[0]] = open_flag\n",
    "        cbond_position.loc[index,cbond_pair[1]] = open_flag\n",
    "# cbond_position.to_csv('cbond_position.csv')"
   ]
  },
  {
   "cell_type": "code",
   "execution_count": null,
   "metadata": {},
   "outputs": [],
   "source": [
    "df_signal = pd.concat([cbond_pair_price,cbond_return,cbond_position],axis=1)\n",
    "df_signal.columns = ['bond_price','stock_price','bond_rtn','stock_rtn','diff','bond_pos','stock_pos']\n",
    "df_signal.to_csv('df_signal.csv')\n"
   ]
  },
  {
   "cell_type": "code",
   "execution_count": null,
   "metadata": {},
   "outputs": [],
   "source": [
    "trade_times = 0\n",
    "trade_occur = []\n",
    "for i in range(len(df_signal)-1):\n",
    "    # print(df_signal.values[i])\n",
    "    # if cbond_position.values[i][-1] != cbond_position.values[i+1][-1]:\n",
    "    if df_signal.values[i][-1] != df_signal.values[i+1][-1]:\n",
    "        trade_times += 1\n",
    "        trade_occur.append(df_signal.index.tolist()[i])\n",
    "        trade_occur.append(df_signal.index.tolist()[i+1])\n",
    "    # assert i<100\n",
    "print('trade_times: ',trade_times)"
   ]
  },
  {
   "cell_type": "code",
   "execution_count": null,
   "metadata": {},
   "outputs": [],
   "source": [
    "# diff = bond return - stock return\n",
    "len(trade_occur)\n",
    "df_signal.loc[trade_occur]\n",
    "# df_signal.loc[time(15,0,0)]\n",
    "# df_signal"
   ]
  },
  {
   "cell_type": "code",
   "execution_count": null,
   "metadata": {},
   "outputs": [],
   "source": [
    "# for index,row in df_signal.iterrows():\n",
    "#     print(row)\n",
    "#     assert False\n",
    "\n",
    "# cbond_rtreturn = (cbond_pair_price.pct_change()+1).fillna(0)\n",
    "# cbond_rtreturn"
   ]
  },
  {
   "cell_type": "markdown",
   "metadata": {},
   "source": [
    "# backtest"
   ]
  },
  {
   "cell_type": "code",
   "execution_count": null,
   "metadata": {},
   "outputs": [],
   "source": [
    "# 用来记录交易流水的表格,一边遍历df_signal，一边填入内容到流水表格里\n",
    "import numpy as np\n",
    "cols = ['balance','signal','bond price','stock price','bond hold','stock hold','commission','tax']\n",
    "df_trade = pd.DataFrame(\n",
    "    data = [[0,np.nan,np.nan,np.nan,0,0,0,0]],\n",
    "    columns=cols\n",
    "    ) \n",
    "\n",
    "balance_last = 0 # 现金账户初始余额\n",
    "\n",
    "bond_hold = 0 # 债券持有数量\n",
    "stock_hold = 0 # 股票持有数量\n",
    "\n",
    "commission_rate = 2/10000 # 佣金买卖万二\n",
    "tax_rate = 1/1000 #\n",
    "\n",
    "stock_volume = 100/9.69\n",
    "\n",
    "for i in range(len(df_signal)-1):\n",
    "    if df_signal.values[i][-1] != df_signal.values[i+1][-1]:\n",
    "        index = df_signal.index[i+1]\n",
    "\n",
    "    #  ['bond_price','stock_price','bond_rtn','stock_rtn','diff','bond_pos','stock_pos']\n",
    "        signal = str(int(df_signal.values[i+1][-2]))+str(int(df_signal.values[i+1][-1]))\n",
    "        \n",
    "\n",
    "        bond_price = df_signal.values[i+1][0] \n",
    "\n",
    "        stock_price = df_signal.values[i+1][1]\n",
    "\n",
    "        commission = (bond_price + stock_price * stock_volume) * commission_rate\n",
    "\n",
    "        if signal == '00':\n",
    "            tax = stock_price * tax_rate * stock_volume\n",
    "        else:\n",
    "            tax = 0\n",
    "\n",
    "        if signal == '00':\n",
    "            balance_last += bond_hold*bond_price\n",
    "            balance_last += stock_hold*stock_price\n",
    "            \n",
    "            bond_hold = 0\n",
    "            stock_hold = 0\n",
    "            \n",
    "\n",
    "        if signal == '1-1':\n",
    "            bond_hold += 1\n",
    "            stock_hold += (-1 * stock_volume)\n",
    "            # stock_hold += stock_volume\n",
    "            balance_last -= bond_price\n",
    "            balance_last += stock_price * stock_volume\n",
    "\n",
    "\n",
    "        if signal == '-11':\n",
    "            bond_hold += -1\n",
    "            stock_hold += (1 * stock_volume)\n",
    "            # stock_hold += stock_volume\n",
    "            balance_last += bond_price\n",
    "            balance_last -= stock_price * stock_volume\n",
    "        \n",
    "\n",
    "        balance = balance_last\n",
    "        \n",
    "        \n",
    "        line = [balance,signal,bond_price,stock_price,bond_hold,stock_hold,commission,tax]\n",
    "        # df_trade.loc[index,['balance','asset','signal','bond price','stock price','commission','tax']] = line\n",
    "        # df_trade.loc[index,cols] = [0,0,np.nan,np.nan,np.nan,0,0,0,0]\n",
    "        df_trade.loc[index,cols] = line\n",
    "\n",
    "       \n",
    "# df_trade"
   ]
  },
  {
   "cell_type": "markdown",
   "metadata": {},
   "source": [
    "# result"
   ]
  },
  {
   "cell_type": "code",
   "execution_count": null,
   "metadata": {},
   "outputs": [],
   "source": [
    "df_trade['net value'] = df_trade['balance'] + \\\n",
    "                        df_trade['bond price']*df_trade['bond hold'] + \\\n",
    "                        df_trade['stock price']*df_trade['stock hold'] - \\\n",
    "                        df_trade['commission'] - \\\n",
    "                        df_trade['tax']"
   ]
  },
  {
   "cell_type": "code",
   "execution_count": null,
   "metadata": {
    "scrolled": true
   },
   "outputs": [],
   "source": [
    "df_trade"
   ]
  },
  {
   "cell_type": "code",
   "execution_count": null,
   "metadata": {},
   "outputs": [],
   "source": [
    "df_nv = df_trade[['net value']].iloc[1:]\n",
    "df_nv['time'] = df_nv.index\n",
    "df_tmp = df_signal[['diff']]\n",
    "df_tmp['time'] = df_tmp.index\n",
    "# df_signal['time'] = df_signal.index\n",
    "df_nv_full =  pd.merge(df_nv,df_tmp,how='outer').sort_values(by='time').fillna(method='bfill')\n",
    "df_nv_full.index = df_tmp.index\n",
    "df_nv_full = df_nv_full[['net value']]\n",
    "# # df_signal"
   ]
  },
  {
   "cell_type": "code",
   "execution_count": null,
   "metadata": {},
   "outputs": [],
   "source": [
    "df_nv_full.loc[df_nv_full.index[0]:df_trade.index[1]] = [0]\n",
    "df_nv_full.plot(figsize=(12,6))"
   ]
  },
  {
   "cell_type": "code",
   "execution_count": null,
   "metadata": {},
   "outputs": [],
   "source": [
    "# df_nv_full"
   ]
  },
  {
   "cell_type": "code",
   "execution_count": null,
   "metadata": {},
   "outputs": [],
   "source": [
    "# df_nv_full['return'] = df_nv_full['net value'].pct_change()\n",
    "# df_nv_full"
   ]
  },
  {
   "cell_type": "code",
   "execution_count": null,
   "metadata": {},
   "outputs": [],
   "source": [
    "# df_nv_full.loc[df_trade.index[1]:].plot(figsize=(12,6))"
   ]
  },
  {
   "cell_type": "code",
   "execution_count": null,
   "metadata": {},
   "outputs": [],
   "source": [
    "# balance_final = df_trade['balance'].values[-1] - df_trade['commission'].sum() + df_trade['tax'].sum()\n",
    "# balance_final\n",
    "# df_balance = df_trade[['balance']].iloc[1:]\n",
    "# df_balance['time'] = df_balance.index\n",
    "# df_tmp = df_signal[['diff']]\n",
    "# df_tmp['time'] = df_tmp.index\n",
    "# # df_signal['time'] = df_signal.index\n",
    "# df_balance_full =  pd.merge(df_balance,df_tmp,how='outer').sort_values(by='time').fillna(method='bfill')\n",
    "# df_balance_full.index = df_tmp.index\n",
    "# df_balance_full = df_balance_full[['balance']]\n",
    "# # df_signal\n",
    "# df_balance_full.loc[df_trade.index[2]:].plot(figsize=(12,6))"
   ]
  },
  {
   "cell_type": "code",
   "execution_count": null,
   "metadata": {},
   "outputs": [],
   "source": []
  }
 ],
 "metadata": {
  "kernelspec": {
   "display_name": "Python 3 (ipykernel)",
   "language": "python",
   "name": "python3"
  },
  "language_info": {
   "codemirror_mode": {
    "name": "ipython",
    "version": 3
   },
   "file_extension": ".py",
   "mimetype": "text/x-python",
   "name": "python",
   "nbconvert_exporter": "python",
   "pygments_lexer": "ipython3",
   "version": "3.9.7"
  },
  "toc": {
   "base_numbering": 1,
   "nav_menu": {},
   "number_sections": true,
   "sideBar": true,
   "skip_h1_title": false,
   "title_cell": "Table of Contents",
   "title_sidebar": "Contents",
   "toc_cell": false,
   "toc_position": {
    "height": "calc(100% - 180px)",
    "left": "10px",
    "top": "150px",
    "width": "218.59375px"
   },
   "toc_section_display": true,
   "toc_window_display": true
  },
  "varInspector": {
   "cols": {
    "lenName": 16,
    "lenType": 16,
    "lenVar": 40
   },
   "kernels_config": {
    "python": {
     "delete_cmd_postfix": "",
     "delete_cmd_prefix": "del ",
     "library": "var_list.py",
     "varRefreshCmd": "print(var_dic_list())"
    },
    "r": {
     "delete_cmd_postfix": ") ",
     "delete_cmd_prefix": "rm(",
     "library": "var_list.r",
     "varRefreshCmd": "cat(var_dic_list()) "
    }
   },
   "types_to_exclude": [
    "module",
    "function",
    "builtin_function_or_method",
    "instance",
    "_Feature"
   ],
   "window_display": false
  },
  "vscode": {
   "interpreter": {
    "hash": "4b7a3c99c09164ed3315a85b9be868456d78d186d21965e8a7155bab558fd18f"
   }
  }
 },
 "nbformat": 4,
 "nbformat_minor": 2
}
