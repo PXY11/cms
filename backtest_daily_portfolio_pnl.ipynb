{
 "cells": [
  {
   "cell_type": "code",
   "execution_count": 1,
   "metadata": {},
   "outputs": [
    {
     "name": "stdout",
     "output_type": "stream",
     "text": [
      "['20220909', '20220913', '20220914', '20220915', '20220916', '20220919', '20220920', '20220921', '20220922', '20220923', '20220926', '20220927', '20220928', '20220929', '20220930', '20221010', '20221011', '20221012', '20221013', '20221014', '20221017', '20221018', '20221019', '20221020', '20221021', '20221024', '20221025', '20221026', '20221027', '20221028', '20221031', '20221101', '20221102', '20221103', '20221104', '20221107', '20221108', '20221109', '20221110', '20221111', '20221114']\n"
     ]
    }
   ],
   "source": [
    "import os \n",
    "path = '/Users/bokie/code/python/CMS/可转债套利/cms/daily_track'\n",
    "dates = os.listdir(path)\n",
    "dates.remove('.DS_Store')\n",
    "dates.sort()\n",
    "print(dates)"
   ]
  },
  {
   "cell_type": "code",
   "execution_count": 2,
   "metadata": {},
   "outputs": [
    {
     "data": {
      "text/plain": [
       "['128081.SZ@002203.SZ.csv',\n",
       " '113626.SH@603596.SH.csv',\n",
       " '128017.SZ@002597.SZ.csv',\n",
       " '110061.SH@600674.SH.csv',\n",
       " '128111.SZ@002738.SZ.csv',\n",
       " '113534.SH@603876.SH.csv',\n",
       " '123031.SZ@300655.SZ.csv',\n",
       " '113016.SH@601127.SH.csv',\n",
       " '123092.SZ@300332.SZ.csv',\n",
       " '123046.SZ@300587.SZ.csv',\n",
       " '128095.SZ@002812.SZ.csv',\n",
       " '113025.SH@601677.SH.csv',\n",
       " '128029.SZ@002078.SZ.csv',\n",
       " '113537.SH@603348.SH.csv']"
      ]
     },
     "execution_count": 2,
     "metadata": {},
     "output_type": "execute_result"
    }
   ],
   "source": [
    "daily_csvs = os.listdir(path+f'/{dates[-1]}')\n",
    "daily_csvs_files = [i for i in daily_csvs if len(i.split('@'))==2]\n",
    "daily_csvs_files"
   ]
  },
  {
   "cell_type": "code",
   "execution_count": 3,
   "metadata": {},
   "outputs": [
    {
     "data": {
      "text/plain": [
       "71428.57142857143"
      ]
     },
     "execution_count": 3,
     "metadata": {},
     "output_type": "execute_result"
    }
   ],
   "source": [
    "single_pair_cash = 1000000/len(daily_csvs_files)\n",
    "single_pair_cash"
   ]
  },
  {
   "cell_type": "code",
   "execution_count": 12,
   "metadata": {},
   "outputs": [
    {
     "data": {
      "text/html": [
       "<div>\n",
       "<style scoped>\n",
       "    .dataframe tbody tr th:only-of-type {\n",
       "        vertical-align: middle;\n",
       "    }\n",
       "\n",
       "    .dataframe tbody tr th {\n",
       "        vertical-align: top;\n",
       "    }\n",
       "\n",
       "    .dataframe thead th {\n",
       "        text-align: right;\n",
       "    }\n",
       "</style>\n",
       "<table border=\"1\" class=\"dataframe\">\n",
       "  <thead>\n",
       "    <tr style=\"text-align: right;\">\n",
       "      <th></th>\n",
       "      <th>Unnamed: 0</th>\n",
       "      <th>pair</th>\n",
       "      <th>cash</th>\n",
       "      <th>signal</th>\n",
       "      <th>bond price</th>\n",
       "      <th>stock price</th>\n",
       "      <th>bond hold</th>\n",
       "      <th>stock hold</th>\n",
       "      <th>commission</th>\n",
       "      <th>tax</th>\n",
       "      <th>reverse open</th>\n",
       "      <th>diff</th>\n",
       "      <th>asset value</th>\n",
       "      <th>net value</th>\n",
       "      <th>open/close</th>\n",
       "      <th>operate</th>\n",
       "    </tr>\n",
       "  </thead>\n",
       "  <tbody>\n",
       "    <tr>\n",
       "      <th>0</th>\n",
       "      <td>0</td>\n",
       "      <td>128081.SZ@002203.SZ</td>\n",
       "      <td>0.000000</td>\n",
       "      <td>NaN</td>\n",
       "      <td>NaN</td>\n",
       "      <td>NaN</td>\n",
       "      <td>0.0</td>\n",
       "      <td>0.000000</td>\n",
       "      <td>0.000000</td>\n",
       "      <td>0.00000</td>\n",
       "      <td>NaN</td>\n",
       "      <td>NaN</td>\n",
       "      <td>0.00000</td>\n",
       "      <td>0.000000</td>\n",
       "      <td>0.012,0.002</td>\n",
       "      <td>True</td>\n",
       "    </tr>\n",
       "    <tr>\n",
       "      <th>1</th>\n",
       "      <td>2022-11-07 09:35:00</td>\n",
       "      <td>128081.SZ@002203.SZ</td>\n",
       "      <td>1.708972</td>\n",
       "      <td>1-1</td>\n",
       "      <td>128.499</td>\n",
       "      <td>12.12</td>\n",
       "      <td>1.0</td>\n",
       "      <td>-10.758262</td>\n",
       "      <td>0.051778</td>\n",
       "      <td>0.13039</td>\n",
       "      <td>False</td>\n",
       "      <td>-0.014973</td>\n",
       "      <td>-1.89114</td>\n",
       "      <td>-0.182168</td>\n",
       "      <td>0.012,0.002</td>\n",
       "      <td>True</td>\n",
       "    </tr>\n",
       "    <tr>\n",
       "      <th>2</th>\n",
       "      <td>2022-11-07 15:00:00</td>\n",
       "      <td>128081.SZ@002203.SZ</td>\n",
       "      <td>-0.972926</td>\n",
       "      <td>00</td>\n",
       "      <td>128.298</td>\n",
       "      <td>12.17</td>\n",
       "      <td>0.0</td>\n",
       "      <td>0.000000</td>\n",
       "      <td>0.051845</td>\n",
       "      <td>0.00000</td>\n",
       "      <td>False</td>\n",
       "      <td>-0.020824</td>\n",
       "      <td>0.00000</td>\n",
       "      <td>-0.972926</td>\n",
       "      <td>0.012,0.002</td>\n",
       "      <td>True</td>\n",
       "    </tr>\n",
       "  </tbody>\n",
       "</table>\n",
       "</div>"
      ],
      "text/plain": [
       "            Unnamed: 0                 pair      cash signal  bond price  \\\n",
       "0                    0  128081.SZ@002203.SZ  0.000000    NaN         NaN   \n",
       "1  2022-11-07 09:35:00  128081.SZ@002203.SZ  1.708972    1-1     128.499   \n",
       "2  2022-11-07 15:00:00  128081.SZ@002203.SZ -0.972926     00     128.298   \n",
       "\n",
       "   stock price  bond hold  stock hold  commission      tax reverse open  \\\n",
       "0          NaN        0.0    0.000000    0.000000  0.00000          NaN   \n",
       "1        12.12        1.0  -10.758262    0.051778  0.13039        False   \n",
       "2        12.17        0.0    0.000000    0.051845  0.00000        False   \n",
       "\n",
       "       diff  asset value  net value   open/close  operate  \n",
       "0       NaN      0.00000   0.000000  0.012,0.002     True  \n",
       "1 -0.014973     -1.89114  -0.182168  0.012,0.002     True  \n",
       "2 -0.020824      0.00000  -0.972926  0.012,0.002     True  "
      ]
     },
     "execution_count": 12,
     "metadata": {},
     "output_type": "execute_result"
    }
   ],
   "source": [
    "import pandas as pd\n",
    "\n",
    "pd.read_csv(f'{path}/{dates[-6]}/{daily_csvs_files[0]}')"
   ]
  },
  {
   "cell_type": "code",
   "execution_count": 13,
   "metadata": {},
   "outputs": [
    {
     "data": {
      "text/html": [
       "<div>\n",
       "<style scoped>\n",
       "    .dataframe tbody tr th:only-of-type {\n",
       "        vertical-align: middle;\n",
       "    }\n",
       "\n",
       "    .dataframe tbody tr th {\n",
       "        vertical-align: top;\n",
       "    }\n",
       "\n",
       "    .dataframe thead th {\n",
       "        text-align: right;\n",
       "    }\n",
       "</style>\n",
       "<table border=\"1\" class=\"dataframe\">\n",
       "  <thead>\n",
       "    <tr style=\"text-align: right;\">\n",
       "      <th></th>\n",
       "      <th>Unnamed: 0</th>\n",
       "      <th>pair</th>\n",
       "      <th>cash</th>\n",
       "      <th>signal</th>\n",
       "      <th>bond price</th>\n",
       "      <th>stock price</th>\n",
       "      <th>bond hold</th>\n",
       "      <th>stock hold</th>\n",
       "      <th>commission</th>\n",
       "      <th>tax</th>\n",
       "      <th>reverse open</th>\n",
       "      <th>diff</th>\n",
       "      <th>asset value</th>\n",
       "      <th>net value</th>\n",
       "      <th>open/close</th>\n",
       "      <th>operate</th>\n",
       "    </tr>\n",
       "  </thead>\n",
       "  <tbody>\n",
       "    <tr>\n",
       "      <th>0</th>\n",
       "      <td>0</td>\n",
       "      <td>128081.SZ@002203.SZ</td>\n",
       "      <td>0.000000</td>\n",
       "      <td>NaN</td>\n",
       "      <td>NaN</td>\n",
       "      <td>NaN</td>\n",
       "      <td>0.0</td>\n",
       "      <td>0.000000</td>\n",
       "      <td>0.000000</td>\n",
       "      <td>0.000000</td>\n",
       "      <td>NaN</td>\n",
       "      <td>NaN</td>\n",
       "      <td>0.000000</td>\n",
       "      <td>0.000000</td>\n",
       "      <td>0.012,0.002</td>\n",
       "      <td>True</td>\n",
       "    </tr>\n",
       "    <tr>\n",
       "      <th>1</th>\n",
       "      <td>2022-11-14 13:35:00</td>\n",
       "      <td>128081.SZ@002203.SZ</td>\n",
       "      <td>1.619784</td>\n",
       "      <td>-11.0</td>\n",
       "      <td>131.955</td>\n",
       "      <td>12.64</td>\n",
       "      <td>-1.0</td>\n",
       "      <td>10.307181</td>\n",
       "      <td>0.052448</td>\n",
       "      <td>0.000000</td>\n",
       "      <td>False</td>\n",
       "      <td>0.012394</td>\n",
       "      <td>-1.672231</td>\n",
       "      <td>-0.052448</td>\n",
       "      <td>0.012,0.002</td>\n",
       "      <td>True</td>\n",
       "    </tr>\n",
       "    <tr>\n",
       "      <th>2</th>\n",
       "      <td>2022-11-14 15:00:00</td>\n",
       "      <td>128081.SZ@002203.SZ</td>\n",
       "      <td>0.169671</td>\n",
       "      <td>0.0</td>\n",
       "      <td>133.300</td>\n",
       "      <td>12.81</td>\n",
       "      <td>0.0</td>\n",
       "      <td>0.000000</td>\n",
       "      <td>0.053067</td>\n",
       "      <td>0.132035</td>\n",
       "      <td>False</td>\n",
       "      <td>0.009376</td>\n",
       "      <td>0.000000</td>\n",
       "      <td>0.169671</td>\n",
       "      <td>0.012,0.002</td>\n",
       "      <td>True</td>\n",
       "    </tr>\n",
       "  </tbody>\n",
       "</table>\n",
       "</div>"
      ],
      "text/plain": [
       "            Unnamed: 0                 pair      cash  signal  bond price  \\\n",
       "0                    0  128081.SZ@002203.SZ  0.000000     NaN         NaN   \n",
       "1  2022-11-14 13:35:00  128081.SZ@002203.SZ  1.619784   -11.0     131.955   \n",
       "2  2022-11-14 15:00:00  128081.SZ@002203.SZ  0.169671     0.0     133.300   \n",
       "\n",
       "   stock price  bond hold  stock hold  commission       tax reverse open  \\\n",
       "0          NaN        0.0    0.000000    0.000000  0.000000          NaN   \n",
       "1        12.64       -1.0   10.307181    0.052448  0.000000        False   \n",
       "2        12.81        0.0    0.000000    0.053067  0.132035        False   \n",
       "\n",
       "       diff  asset value  net value   open/close  operate  \n",
       "0       NaN     0.000000   0.000000  0.012,0.002     True  \n",
       "1  0.012394    -1.672231  -0.052448  0.012,0.002     True  \n",
       "2  0.009376     0.000000   0.169671  0.012,0.002     True  "
      ]
     },
     "execution_count": 13,
     "metadata": {},
     "output_type": "execute_result"
    }
   ],
   "source": [
    "pd.read_csv(f'{path}/{dates[-1]}/{daily_csvs_files[0]}')"
   ]
  },
  {
   "cell_type": "code",
   "execution_count": 5,
   "metadata": {},
   "outputs": [
    {
     "data": {
      "text/plain": [
       "-763.3511450381679"
      ]
     },
     "execution_count": 5,
     "metadata": {},
     "output_type": "execute_result"
    }
   ],
   "source": [
    "66666/131*(-1.5)"
   ]
  },
  {
   "cell_type": "code",
   "execution_count": 6,
   "metadata": {},
   "outputs": [],
   "source": [
    "# 100 - 10 + 10 101"
   ]
  }
 ],
 "metadata": {
  "kernelspec": {
   "display_name": "Python 3.9.7 ('base')",
   "language": "python",
   "name": "python3"
  },
  "language_info": {
   "codemirror_mode": {
    "name": "ipython",
    "version": 3
   },
   "file_extension": ".py",
   "mimetype": "text/x-python",
   "name": "python",
   "nbconvert_exporter": "python",
   "pygments_lexer": "ipython3",
   "version": "3.9.7"
  },
  "orig_nbformat": 4,
  "vscode": {
   "interpreter": {
    "hash": "4b7a3c99c09164ed3315a85b9be868456d78d186d21965e8a7155bab558fd18f"
   }
  }
 },
 "nbformat": 4,
 "nbformat_minor": 2
}
