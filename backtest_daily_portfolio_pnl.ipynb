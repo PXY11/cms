{
 "cells": [
  {
   "cell_type": "markdown",
   "metadata": {},
   "source": [
    "# import data"
   ]
  },
  {
   "cell_type": "code",
   "execution_count": 1,
   "metadata": {},
   "outputs": [
    {
     "name": "stdout",
     "output_type": "stream",
     "text": [
      "dates \n",
      " ['20220909', '20220913', '20220914', '20220915', '20220916', '20220919', '20220920', '20220921', '20220922', '20220923', '20220926', '20220927', '20220928', '20220929', '20220930', '20221010', '20221011', '20221012', '20221013', '20221014', '20221017', '20221018', '20221019', '20221020', '20221021', '20221024', '20221025', '20221026', '20221027', '20221028', '20221031', '20221101', '20221102', '20221103', '20221104', '20221107', '20221108', '20221109', '20221110', '20221111', '20221114']\n",
      "20221114 pair_list \n",
      " ['128081.SZ@002203.SZ.csv', '113626.SH@603596.SH.csv', '128017.SZ@002597.SZ.csv', '110061.SH@600674.SH.csv', '128111.SZ@002738.SZ.csv', '113534.SH@603876.SH.csv', '123031.SZ@300655.SZ.csv', '113016.SH@601127.SH.csv', '123092.SZ@300332.SZ.csv', '123046.SZ@300587.SZ.csv', '128095.SZ@002812.SZ.csv', '113025.SH@601677.SH.csv', '128029.SZ@002078.SZ.csv', '113537.SH@603348.SH.csv']\n"
     ]
    }
   ],
   "source": [
    "import os \n",
    "import pandas as pd\n",
    "path = '/Users/bokie/code/python/CMS/可转债套利/cms/daily_track'\n",
    "dates = os.listdir(path)\n",
    "dates.remove('.DS_Store')\n",
    "dates.sort()\n",
    "print('dates \\n',dates)\n",
    "daily_csvs = os.listdir(path+f'/{dates[-1]}')\n",
    "pair_list = [i for i in daily_csvs if len(i.split('@'))==2]\n",
    "print(dates[-1],'pair_list \\n',pair_list)"
   ]
  },
  {
   "cell_type": "code",
   "execution_count": 2,
   "metadata": {},
   "outputs": [
    {
     "data": {
      "text/plain": [
       "71428.57142857143"
      ]
     },
     "execution_count": 2,
     "metadata": {},
     "output_type": "execute_result"
    }
   ],
   "source": [
    "pair_capital = 1000000/len(pair_list)\n",
    "pair_capital"
   ]
  },
  {
   "cell_type": "markdown",
   "metadata": {},
   "source": [
    "# signal 1-1"
   ]
  },
  {
   "cell_type": "code",
   "execution_count": 3,
   "metadata": {},
   "outputs": [
    {
     "name": "stdout",
     "output_type": "stream",
     "text": [
      "20220909 obeserve pairs:  11\n",
      "open pairs:  1\n",
      "single pair pnl: 632.4543410288202\n",
      "20220909 total cash 1000632.4543410288\n",
      "**************************************************\n",
      "20220913 obeserve pairs:  11\n",
      "open pairs:  4\n",
      "single pair pnl: 534.5133939610757\n",
      "single pair pnl: -694.9816364627535\n",
      "single pair pnl: -1546.1152408184853\n",
      "single pair pnl: 249.79215903987063\n",
      "20220913 total cash 999175.6630167486\n",
      "**************************************************\n",
      "20220914 obeserve pairs:  11\n",
      "open pairs:  0\n",
      "20220914 total cash 999175.6630167486\n",
      "**************************************************\n",
      "20220915 obeserve pairs:  11\n",
      "open pairs:  4\n",
      "single pair pnl: 298.51636904104583\n",
      "single pair pnl: 85.00777183862337\n",
      "single pair pnl: -552.8953797226212\n",
      "single pair pnl: 39.24887365416909\n",
      "20220915 total cash 999045.5406515598\n",
      "**************************************************\n",
      "20220916 obeserve pairs:  11\n",
      "open pairs:  3\n",
      "single pair pnl: 979.1659277574054\n",
      "single pair pnl: -172.84804148598118\n",
      "single pair pnl: 563.3630255120753\n",
      "20220916 total cash 1000415.2215633433\n",
      "**************************************************\n",
      "20220919 obeserve pairs:  11\n",
      "open pairs:  4\n",
      "single pair pnl: -468.3157648369096\n",
      "single pair pnl: 421.56113867919436\n",
      "single pair pnl: -603.6495470144165\n",
      "single pair pnl: 622.913670580127\n",
      "20220919 total cash 1000387.7310607512\n",
      "**************************************************\n",
      "20220920 obeserve pairs:  11\n",
      "open pairs:  3\n",
      "single pair pnl: -449.7386425787703\n",
      "single pair pnl: 1342.7013569071787\n",
      "single pair pnl: 1633.1078554410035\n",
      "20220920 total cash 1002913.8016305206\n",
      "**************************************************\n",
      "20220921 obeserve pairs:  11\n",
      "open pairs:  1\n",
      "single pair pnl: 2135.5232085646667\n",
      "20220921 total cash 1005049.3248390852\n",
      "**************************************************\n",
      "20220922 obeserve pairs:  11\n",
      "open pairs:  2\n",
      "single pair pnl: -2381.189694546038\n",
      "single pair pnl: 765.2461147371424\n",
      "20220922 total cash 1003433.3812592763\n",
      "**************************************************\n",
      "20220923 obeserve pairs:  12\n",
      "open pairs:  2\n",
      "single pair pnl: 267.8218119032543\n",
      "single pair pnl: 1354.674742454883\n",
      "20220923 total cash 1005055.8778136345\n",
      "**************************************************\n",
      "20220926 obeserve pairs:  12\n",
      "open pairs:  5\n",
      "single pair pnl: -2111.2395612141904\n",
      "single pair pnl: -560.199504769839\n",
      "single pair pnl: 226.95284332445672\n",
      "single pair pnl: 1418.1820084084802\n",
      "single pair pnl: -241.90932913471963\n",
      "20220926 total cash 1003787.6642702486\n",
      "**************************************************\n",
      "20220927 obeserve pairs:  12\n",
      "open pairs:  3\n",
      "single pair pnl: 48.039634952816144\n",
      "single pair pnl: -341.76543010159736\n",
      "single pair pnl: 375.7414274644545\n",
      "20220927 total cash 1003869.6799025643\n",
      "**************************************************\n",
      "20220928 obeserve pairs:  12\n",
      "open pairs:  1\n",
      "single pair pnl: -635.0003358437665\n",
      "20220928 total cash 1003234.6795667205\n",
      "**************************************************\n",
      "20220929 obeserve pairs:  12\n",
      "open pairs:  4\n",
      "single pair pnl: 993.2090930151128\n",
      "single pair pnl: -1508.5845548603597\n",
      "single pair pnl: 1087.3189381828076\n",
      "single pair pnl: 1454.4879009695148\n",
      "20220929 total cash 1005261.1109440275\n",
      "**************************************************\n",
      "20220930 obeserve pairs:  12\n",
      "open pairs:  3\n",
      "single pair pnl: 874.4171614633117\n",
      "single pair pnl: 1401.2116378239934\n",
      "single pair pnl: -550.1914950820641\n",
      "20220930 total cash 1006986.5482482327\n",
      "**************************************************\n",
      "20221010 obeserve pairs:  12\n",
      "open pairs:  3\n",
      "single pair pnl: 1071.8611918870445\n",
      "single pair pnl: 1221.1798683902946\n",
      "single pair pnl: -420.06283522607646\n",
      "20221010 total cash 1008859.526473284\n",
      "**************************************************\n",
      "20221011 obeserve pairs:  12\n",
      "open pairs:  3\n",
      "single pair pnl: 760.3887381168853\n",
      "single pair pnl: 1280.6894639683644\n",
      "single pair pnl: 1223.4793362419898\n",
      "20221011 total cash 1012124.0840116112\n",
      "**************************************************\n",
      "20221012 obeserve pairs:  12\n",
      "open pairs:  2\n",
      "single pair pnl: -3973.653549440094\n",
      "single pair pnl: 40.91792692866245\n",
      "20221012 total cash 1008191.3483890997\n",
      "**************************************************\n",
      "20221013 obeserve pairs:  12\n",
      "open pairs:  1\n",
      "single pair pnl: 39.108941166544774\n",
      "20221013 total cash 1008230.4573302662\n",
      "**************************************************\n",
      "20221014 obeserve pairs:  16\n",
      "open pairs:  5\n",
      "single pair pnl: -45.24948992701583\n",
      "single pair pnl: 157.76311792324498\n",
      "single pair pnl: -1998.2347791734635\n",
      "single pair pnl: -686.1092701760955\n",
      "single pair pnl: 614.1873561150965\n",
      "20221014 total cash 1006272.814265028\n",
      "**************************************************\n",
      "20221017 obeserve pairs:  16\n",
      "open pairs:  6\n",
      "single pair pnl: -575.8602019058983\n",
      "single pair pnl: -157.38470064945986\n",
      "single pair pnl: 1515.1497247722875\n",
      "single pair pnl: -127.36629521370445\n",
      "single pair pnl: -1806.1316813287228\n",
      "single pair pnl: -582.2333016641404\n",
      "20221017 total cash 1004538.9878090384\n",
      "**************************************************\n",
      "20221018 obeserve pairs:  16\n",
      "open pairs:  1\n",
      "single pair pnl: 1062.5010344583782\n",
      "20221018 total cash 1005601.4888434968\n",
      "**************************************************\n",
      "20221019 obeserve pairs:  16\n",
      "open pairs:  6\n",
      "single pair pnl: -863.6155053631768\n",
      "single pair pnl: -181.38833988180534\n",
      "single pair pnl: 561.6781356010872\n",
      "single pair pnl: 360.09167400575143\n",
      "single pair pnl: 22.9053672458774\n",
      "single pair pnl: -150.5159496643004\n",
      "20221019 total cash 1005350.6442254402\n",
      "**************************************************\n",
      "20221020 obeserve pairs:  15\n",
      "open pairs:  6\n",
      "single pair pnl: 1306.3419112011127\n",
      "single pair pnl: -8.462132276076487\n",
      "single pair pnl: 728.1075095097627\n",
      "single pair pnl: 173.59988164922382\n",
      "single pair pnl: 1274.0111293193215\n",
      "single pair pnl: -78.56864702648085\n",
      "20221020 total cash 1008745.6738778172\n",
      "**************************************************\n",
      "20221021 obeserve pairs:  15\n",
      "open pairs:  4\n",
      "single pair pnl: -995.3771631412995\n",
      "single pair pnl: 747.1354888713978\n",
      "single pair pnl: -611.5898466631018\n",
      "single pair pnl: 942.4581573360684\n",
      "20221021 total cash 1008828.3005142204\n",
      "**************************************************\n",
      "20221024 obeserve pairs:  15\n",
      "open pairs:  6\n",
      "single pair pnl: 713.86258251788\n",
      "single pair pnl: 295.56537267537294\n",
      "single pair pnl: 516.4960058733411\n",
      "single pair pnl: -809.6092314328729\n",
      "single pair pnl: 204.4240428559368\n",
      "single pair pnl: -1568.6002716262005\n",
      "20221024 total cash 1008180.439015084\n",
      "**************************************************\n",
      "20221025 obeserve pairs:  15\n",
      "open pairs:  4\n",
      "single pair pnl: -937.6245217941178\n",
      "single pair pnl: 558.7191418933048\n",
      "single pair pnl: 872.3988795234161\n",
      "single pair pnl: 572.8728877997128\n",
      "20221025 total cash 1009246.8054025063\n",
      "**************************************************\n",
      "20221026 obeserve pairs:  15\n",
      "open pairs:  3\n",
      "single pair pnl: -265.27075628629296\n",
      "single pair pnl: -459.20398976333036\n",
      "single pair pnl: -300.35188604806814\n",
      "20221026 total cash 1008221.9787704085\n",
      "**************************************************\n",
      "20221027 obeserve pairs:  15\n",
      "open pairs:  3\n",
      "single pair pnl: 624.3275517029168\n",
      "single pair pnl: 810.3718162080125\n",
      "single pair pnl: -1047.2043739380247\n",
      "20221027 total cash 1008609.4737643815\n",
      "**************************************************\n",
      "20221028 obeserve pairs:  15\n",
      "open pairs:  5\n",
      "single pair pnl: 1317.1419428704119\n",
      "single pair pnl: -162.78316113113814\n",
      "single pair pnl: 380.99841099654407\n",
      "single pair pnl: 1345.3772963975498\n",
      "single pair pnl: -80.71945032196965\n",
      "20221028 total cash 1011409.488803193\n",
      "**************************************************\n",
      "20221031 obeserve pairs:  15\n",
      "open pairs:  9\n",
      "single pair pnl: -495.22899674681634\n",
      "single pair pnl: 762.1946944796027\n",
      "single pair pnl: 355.6357745234013\n",
      "single pair pnl: -857.358450905993\n",
      "single pair pnl: 189.60401044802217\n",
      "single pair pnl: -385.0103127518546\n",
      "single pair pnl: -62.721473416432104\n",
      "single pair pnl: -2198.131460887565\n",
      "single pair pnl: -6348.3726590277365\n",
      "20221031 total cash 1002370.0999289075\n",
      "**************************************************\n",
      "20221101 obeserve pairs:  15\n",
      "open pairs:  5\n",
      "single pair pnl: 19.43974332200853\n",
      "single pair pnl: 325.3342779398359\n",
      "single pair pnl: -142.83009893422502\n",
      "single pair pnl: -360.61001689583384\n",
      "single pair pnl: 5.136179385262392\n",
      "20221101 total cash 1002216.5700137245\n",
      "**************************************************\n",
      "20221102 obeserve pairs:  15\n",
      "open pairs:  4\n",
      "single pair pnl: -1056.3238945500977\n",
      "single pair pnl: -322.03937646330104\n",
      "single pair pnl: -487.23305551491535\n",
      "single pair pnl: 753.5898654358331\n",
      "20221102 total cash 1001104.5635526321\n",
      "**************************************************\n",
      "20221103 obeserve pairs:  15\n",
      "open pairs:  5\n",
      "single pair pnl: -560.4399373109344\n",
      "single pair pnl: -38.89083534534867\n",
      "single pair pnl: 810.037124803287\n",
      "single pair pnl: 1387.108936361798\n",
      "single pair pnl: 63.599062135447305\n",
      "20221103 total cash 1002765.9779032763\n",
      "**************************************************\n",
      "20221104 obeserve pairs:  15\n",
      "open pairs:  3\n",
      "single pair pnl: 6.128224419785894\n",
      "single pair pnl: 305.47779959141246\n",
      "single pair pnl: -1753.6646332360303\n",
      "20221104 total cash 1001323.9192940515\n",
      "**************************************************\n",
      "20221107 obeserve pairs:  15\n",
      "open pairs:  6\n",
      "single pair pnl: -505.4329199115354\n",
      "single pair pnl: 163.52078423977338\n",
      "single pair pnl: -147.73428301559562\n",
      "single pair pnl: 870.8034504186352\n",
      "single pair pnl: 1427.3853290428117\n",
      "single pair pnl: -1283.194748026485\n",
      "20221107 total cash 1001849.266906799\n",
      "**************************************************\n",
      "20221108 obeserve pairs:  15\n",
      "open pairs:  2\n",
      "single pair pnl: 688.381217906239\n",
      "single pair pnl: 958.4558647290381\n",
      "20221108 total cash 1003496.1039894343\n",
      "**************************************************\n",
      "20221109 obeserve pairs:  15\n",
      "open pairs:  1\n",
      "single pair pnl: -122.91641172281152\n",
      "20221109 total cash 1003373.1875777115\n",
      "**************************************************\n",
      "20221110 obeserve pairs:  15\n",
      "open pairs:  3\n",
      "single pair pnl: -75.19220051673088\n",
      "single pair pnl: 990.5303323142878\n",
      "single pair pnl: -396.715313022702\n",
      "20221110 total cash 1003891.8103964864\n",
      "**************************************************\n",
      "20221111 obeserve pairs:  15\n",
      "open pairs:  3\n",
      "single pair pnl: -780.0848400388955\n",
      "single pair pnl: 1424.9024444766414\n",
      "single pair pnl: -64.22214678162013\n",
      "20221111 total cash 1004472.4058541425\n",
      "**************************************************\n",
      "20221114 obeserve pairs:  14\n",
      "open pairs:  4\n",
      "single pair pnl: -935.0794489269099\n",
      "single pair pnl: -1370.6464872598701\n",
      "single pair pnl: -141.14598386494754\n",
      "single pair pnl: 288.0443624212245\n",
      "20221114 total cash 1002313.578296512\n",
      "**************************************************\n"
     ]
    }
   ],
   "source": [
    "total_cash = 1000000\n",
    "for date in dates[:]:\n",
    "    daily_csvs = os.listdir(path+f'/{date}')\n",
    "    pair_list = [i for i in daily_csvs if len(i.split('@'))==2] #当天观察的所有对子\n",
    "    print(date,'obeserve pairs: ',len(pair_list))\n",
    "    # print(date,'pair_list \\n',pair_list)\n",
    "    df_pair_open_list = []\n",
    "    for pair_csv in  pair_list:\n",
    "        \n",
    "        df_pair_tmp = pd.read_csv(f'{path}/{date}/{pair_csv}')\n",
    "        \n",
    "        if len(df_pair_tmp)==3: #触发信号的,并且信号是 1-1 才放进去\n",
    "            if df_pair_tmp['signal'].tolist()[1] == '1-1':\n",
    "                df_pair_open_list.append(df_pair_tmp)\n",
    "    print('open pairs: ',len(df_pair_open_list))             \n",
    "    pair_capital = total_cash/len(pair_list) # 持有的总现金除以当天观察的对子数目，即是等权分配到每个对子上的资金量\n",
    "    \n",
    "    for df_tmp in df_pair_open_list:\n",
    "        bond_price = df_tmp['bond price'].tolist()[1]\n",
    "        net_value = df_tmp['net value'].tolist()[2]\n",
    "        pair_pnl = pair_capital/bond_price*net_value\n",
    "        print('single pair pnl:',pair_pnl)\n",
    "        total_cash += pair_pnl\n",
    "    print(date,'total cash',total_cash)\n",
    "    print('*'*50)\n",
    "    # print(df_pair_open_list)\n",
    "# df_tmp     "
   ]
  },
  {
   "cell_type": "markdown",
   "metadata": {},
   "source": [
    "# signal -11"
   ]
  },
  {
   "cell_type": "code",
   "execution_count": 4,
   "metadata": {},
   "outputs": [
    {
     "name": "stdout",
     "output_type": "stream",
     "text": [
      "20220909 obeserve pairs:  11\n",
      "open pairs:  2\n",
      "single pair pnl: 1326.0464043354043\n",
      "single pair pnl: -823.2668433784804\n",
      "20220909 total cash 1000502.779560957\n",
      "**************************************************\n",
      "20220913 obeserve pairs:  11\n",
      "open pairs:  0\n",
      "20220913 total cash 1000502.779560957\n",
      "**************************************************\n",
      "20220914 obeserve pairs:  11\n",
      "open pairs:  4\n",
      "single pair pnl: -249.17243407978532\n",
      "single pair pnl: 1501.0225861317144\n",
      "single pair pnl: -115.67576037483119\n",
      "single pair pnl: 694.3013152876481\n",
      "20220914 total cash 1002333.2552679216\n",
      "**************************************************\n",
      "20220915 obeserve pairs:  11\n",
      "open pairs:  5\n",
      "single pair pnl: 15.479975980556201\n",
      "single pair pnl: -521.4248788444062\n",
      "single pair pnl: 1742.4720134027402\n",
      "single pair pnl: 1417.0824426904956\n",
      "single pair pnl: 570.5690842084662\n",
      "20220915 total cash 1005557.4339053595\n",
      "**************************************************\n",
      "20220916 obeserve pairs:  11\n",
      "open pairs:  2\n",
      "single pair pnl: 600.7909994551898\n",
      "single pair pnl: 1579.817829812143\n",
      "20220916 total cash 1007738.0427346268\n",
      "**************************************************\n",
      "20220919 obeserve pairs:  11\n",
      "open pairs:  3\n",
      "single pair pnl: -9.169635229026849\n",
      "single pair pnl: 1015.1947504167675\n",
      "single pair pnl: -1322.1677700741557\n",
      "20220919 total cash 1007421.9000797404\n",
      "**************************************************\n",
      "20220920 obeserve pairs:  11\n",
      "open pairs:  1\n",
      "single pair pnl: -58.74697320711739\n",
      "20220920 total cash 1007363.1531065333\n",
      "**************************************************\n",
      "20220921 obeserve pairs:  11\n",
      "open pairs:  4\n",
      "single pair pnl: -49.68884931898943\n",
      "single pair pnl: -2893.902583805246\n",
      "single pair pnl: -615.9819525317909\n",
      "single pair pnl: 489.78570388376204\n",
      "20220921 total cash 1004293.365424761\n",
      "**************************************************\n",
      "20220922 obeserve pairs:  11\n",
      "open pairs:  5\n",
      "single pair pnl: 1082.2575180932538\n",
      "single pair pnl: 542.5943280433338\n",
      "single pair pnl: 778.1343150580111\n",
      "single pair pnl: 424.09360145587186\n",
      "single pair pnl: 644.8616790420735\n",
      "20220922 total cash 1007765.3068664535\n",
      "**************************************************\n",
      "20220923 obeserve pairs:  12\n",
      "open pairs:  5\n",
      "single pair pnl: -463.47690251496215\n",
      "single pair pnl: -2476.3309192333577\n",
      "single pair pnl: 346.9219337121641\n",
      "single pair pnl: -1025.3107911572702\n",
      "single pair pnl: 1006.4269613047384\n",
      "20220923 total cash 1005153.5371485648\n",
      "**************************************************\n",
      "20220926 obeserve pairs:  12\n",
      "open pairs:  0\n",
      "20220926 total cash 1005153.5371485648\n",
      "**************************************************\n",
      "20220927 obeserve pairs:  12\n",
      "open pairs:  2\n",
      "single pair pnl: 246.78329128984632\n",
      "single pair pnl: -369.8491935482058\n",
      "20220927 total cash 1005030.4712463064\n",
      "**************************************************\n",
      "20220928 obeserve pairs:  12\n",
      "open pairs:  5\n",
      "single pair pnl: -807.329953843302\n",
      "single pair pnl: 1175.9764410121288\n",
      "single pair pnl: -1089.9760465509908\n",
      "single pair pnl: 141.0041735530293\n",
      "single pair pnl: -1004.577584138615\n",
      "20220928 total cash 1003445.5682763387\n",
      "**************************************************\n",
      "20220929 obeserve pairs:  12\n",
      "open pairs:  3\n",
      "single pair pnl: -28.646224042403265\n",
      "single pair pnl: -603.1679385599288\n",
      "single pair pnl: 1011.4894702485351\n",
      "20220929 total cash 1003825.243583985\n",
      "**************************************************\n",
      "20220930 obeserve pairs:  12\n",
      "open pairs:  1\n",
      "single pair pnl: -491.2786819698937\n",
      "20220930 total cash 1003333.9649020152\n",
      "**************************************************\n",
      "20221010 obeserve pairs:  12\n",
      "open pairs:  3\n",
      "single pair pnl: -739.4138685169453\n",
      "single pair pnl: 1522.358882213202\n",
      "single pair pnl: -442.5772760179696\n",
      "20221010 total cash 1003674.3326396935\n",
      "**************************************************\n",
      "20221011 obeserve pairs:  12\n",
      "open pairs:  5\n",
      "single pair pnl: -1320.3333536738219\n",
      "single pair pnl: -924.1093022947686\n",
      "single pair pnl: -4401.531859297983\n",
      "single pair pnl: -285.8548121137073\n",
      "single pair pnl: -23.24497126054716\n",
      "20221011 total cash 996719.2583410527\n",
      "**************************************************\n",
      "20221012 obeserve pairs:  12\n",
      "open pairs:  5\n",
      "single pair pnl: -248.3608157097579\n",
      "single pair pnl: -2181.980035617832\n",
      "single pair pnl: 1887.3201377031635\n",
      "single pair pnl: -1078.2779699437\n",
      "single pair pnl: 253.9146563940351\n",
      "20221012 total cash 995351.8743138786\n",
      "**************************************************\n",
      "20221013 obeserve pairs:  12\n",
      "open pairs:  5\n",
      "single pair pnl: 897.5280706452029\n",
      "single pair pnl: 730.2604248451802\n",
      "single pair pnl: 1116.035966197543\n",
      "single pair pnl: -2416.8831554979984\n",
      "single pair pnl: 1890.1003240639463\n",
      "20221013 total cash 997568.9159441324\n",
      "**************************************************\n",
      "20221014 obeserve pairs:  16\n",
      "open pairs:  6\n",
      "single pair pnl: 1161.4931217985882\n",
      "single pair pnl: 893.3386592293856\n",
      "single pair pnl: 260.8228595934112\n",
      "single pair pnl: 1194.6193060307974\n",
      "single pair pnl: 10.72389471245358\n",
      "single pair pnl: -74.59784958719735\n",
      "20221014 total cash 1001015.3159359097\n",
      "**************************************************\n",
      "20221017 obeserve pairs:  16\n",
      "open pairs:  6\n",
      "single pair pnl: 1308.457005366744\n",
      "single pair pnl: 158.00587032472862\n",
      "single pair pnl: 271.7687098142794\n",
      "single pair pnl: 1383.1804476968932\n",
      "single pair pnl: 614.1915125957144\n",
      "single pair pnl: -297.3654671946356\n",
      "20221017 total cash 1004453.5540145136\n",
      "**************************************************\n",
      "20221018 obeserve pairs:  16\n",
      "open pairs:  6\n",
      "single pair pnl: -81.66991214273895\n",
      "single pair pnl: -374.6824422970404\n",
      "single pair pnl: 98.68082064290682\n",
      "single pair pnl: 59.37869366188414\n",
      "single pair pnl: 700.3106751865824\n",
      "single pair pnl: -34.33327958565494\n",
      "20221018 total cash 1004821.2385699794\n",
      "**************************************************\n",
      "20221019 obeserve pairs:  16\n",
      "open pairs:  1\n",
      "single pair pnl: 644.5195617230679\n",
      "20221019 total cash 1005465.7581317025\n",
      "**************************************************\n",
      "20221020 obeserve pairs:  15\n",
      "open pairs:  4\n",
      "single pair pnl: 828.947331455537\n",
      "single pair pnl: -1188.2667234920677\n",
      "single pair pnl: 1143.672487305846\n",
      "single pair pnl: 1769.726606797303\n",
      "20221020 total cash 1008019.8378337692\n",
      "**************************************************\n",
      "20221021 obeserve pairs:  15\n",
      "open pairs:  3\n",
      "single pair pnl: 255.39489924153938\n",
      "single pair pnl: -399.6320012779421\n",
      "single pair pnl: 1224.200035895011\n",
      "20221021 total cash 1009099.8007676277\n",
      "**************************************************\n",
      "20221024 obeserve pairs:  15\n",
      "open pairs:  4\n",
      "single pair pnl: -69.17157174810879\n",
      "single pair pnl: -223.82667073419933\n",
      "single pair pnl: 1008.200472133303\n",
      "single pair pnl: 619.4661456820893\n",
      "20221024 total cash 1010434.4691429607\n",
      "**************************************************\n",
      "20221025 obeserve pairs:  15\n",
      "open pairs:  4\n",
      "single pair pnl: 1282.9702923033794\n",
      "single pair pnl: 915.9637886334602\n",
      "single pair pnl: 108.40667064917153\n",
      "single pair pnl: 792.2559216632677\n",
      "20221025 total cash 1013534.06581621\n",
      "**************************************************\n",
      "20221026 obeserve pairs:  15\n",
      "open pairs:  5\n",
      "single pair pnl: -718.8527196920969\n",
      "single pair pnl: -44.742550144011844\n",
      "single pair pnl: -352.418130962542\n",
      "single pair pnl: 2015.1356972938431\n",
      "single pair pnl: 132.33100282048136\n",
      "20221026 total cash 1014565.5191155258\n",
      "**************************************************\n",
      "20221027 obeserve pairs:  15\n",
      "open pairs:  4\n",
      "single pair pnl: -1014.7571748873987\n",
      "single pair pnl: 374.72659377270634\n",
      "single pair pnl: -429.1592067245016\n",
      "single pair pnl: -408.8651652981087\n",
      "20221027 total cash 1013087.4641623886\n",
      "**************************************************\n",
      "20221028 obeserve pairs:  15\n",
      "open pairs:  7\n",
      "single pair pnl: -271.09860274868885\n",
      "single pair pnl: 725.6895189324782\n",
      "single pair pnl: 1678.5362814778753\n",
      "single pair pnl: 887.1037440260576\n",
      "single pair pnl: -1135.2254197651264\n",
      "single pair pnl: 148.18562562314006\n",
      "single pair pnl: 733.9857851825583\n",
      "20221028 total cash 1015854.6410951169\n",
      "**************************************************\n",
      "20221031 obeserve pairs:  15\n",
      "open pairs:  3\n",
      "single pair pnl: -892.3181803524224\n",
      "single pair pnl: 688.5227092831146\n",
      "single pair pnl: 945.2049704466109\n",
      "20221031 total cash 1016596.0505944942\n",
      "**************************************************\n",
      "20221101 obeserve pairs:  15\n",
      "open pairs:  4\n",
      "single pair pnl: -339.95395143328165\n",
      "single pair pnl: 772.797644003448\n",
      "single pair pnl: 1610.0602286887856\n",
      "single pair pnl: 749.1899519810806\n",
      "20221101 total cash 1019388.1444677341\n",
      "**************************************************\n",
      "20221102 obeserve pairs:  15\n",
      "open pairs:  7\n",
      "single pair pnl: -80.9963651853373\n",
      "single pair pnl: -1453.3250695610257\n",
      "single pair pnl: 348.8358607722677\n",
      "single pair pnl: 586.263449598539\n",
      "single pair pnl: -1563.5995691518328\n",
      "single pair pnl: -2361.3223149260652\n",
      "single pair pnl: 621.0156162011369\n",
      "20221102 total cash 1015485.0160754818\n",
      "**************************************************\n",
      "20221103 obeserve pairs:  15\n",
      "open pairs:  2\n",
      "single pair pnl: 982.0764979421374\n",
      "single pair pnl: -168.46135701561653\n",
      "20221103 total cash 1016298.6312164082\n",
      "**************************************************\n",
      "20221104 obeserve pairs:  15\n",
      "open pairs:  6\n",
      "single pair pnl: 1665.0159482185159\n",
      "single pair pnl: 1343.01857250899\n",
      "single pair pnl: 1451.0836035399095\n",
      "single pair pnl: 941.873282996289\n",
      "single pair pnl: 1095.7394015659622\n",
      "single pair pnl: 1346.0395433771744\n",
      "20221104 total cash 1024141.4015686149\n",
      "**************************************************\n",
      "20221107 obeserve pairs:  15\n",
      "open pairs:  3\n",
      "single pair pnl: -559.3029272617928\n",
      "single pair pnl: -2458.493909518601\n",
      "single pair pnl: 982.4590120172822\n",
      "20221107 total cash 1022106.0637438517\n",
      "**************************************************\n",
      "20221108 obeserve pairs:  15\n",
      "open pairs:  3\n",
      "single pair pnl: 583.8646704433888\n",
      "single pair pnl: 1107.0288769105082\n",
      "single pair pnl: -46.724217471858324\n",
      "20221108 total cash 1023750.2330737336\n",
      "**************************************************\n",
      "20221109 obeserve pairs:  15\n",
      "open pairs:  5\n",
      "single pair pnl: 343.17760466638066\n",
      "single pair pnl: -194.0026714475393\n",
      "single pair pnl: 1124.111510094159\n",
      "single pair pnl: 458.25903876280086\n",
      "single pair pnl: -116.01459645373792\n",
      "20221109 total cash 1025365.7639593555\n",
      "**************************************************\n",
      "20221110 obeserve pairs:  15\n",
      "open pairs:  4\n",
      "single pair pnl: -50.3379557981225\n",
      "single pair pnl: 714.3458877299961\n",
      "single pair pnl: 1222.3665004958898\n",
      "single pair pnl: 1242.2737047132098\n",
      "20221110 total cash 1028494.4120964966\n",
      "**************************************************\n",
      "20221111 obeserve pairs:  15\n",
      "open pairs:  8\n",
      "single pair pnl: -555.5845213437668\n",
      "single pair pnl: -1052.5672932505602\n",
      "single pair pnl: 600.775166537124\n",
      "single pair pnl: -911.9138978563318\n",
      "single pair pnl: 1051.775865219359\n",
      "single pair pnl: 962.4924767713923\n",
      "single pair pnl: 35.12377038836841\n",
      "single pair pnl: -1437.157723222735\n",
      "20221111 total cash 1027187.3559397394\n",
      "**************************************************\n",
      "20221114 obeserve pairs:  14\n",
      "open pairs:  6\n",
      "single pair pnl: 94.34176732307905\n",
      "single pair pnl: -12.644905310784882\n",
      "single pair pnl: 961.5787070293308\n",
      "single pair pnl: 409.49831527977403\n",
      "single pair pnl: 955.8589631605893\n",
      "single pair pnl: 1287.5097662977753\n",
      "20221114 total cash 1030883.498553519\n",
      "**************************************************\n"
     ]
    }
   ],
   "source": [
    "total_cash = 1000000\n",
    "for date in dates[:]:\n",
    "    daily_csvs = os.listdir(path+f'/{date}')\n",
    "    pair_list = [i for i in daily_csvs if len(i.split('@'))==2] #当天观察的所有对子\n",
    "    print(date,'obeserve pairs: ',len(pair_list))\n",
    "    # print(date,'pair_list \\n',pair_list)\n",
    "    df_pair_open_list = []\n",
    "    for pair_csv in  pair_list:\n",
    "        \n",
    "        df_pair_tmp = pd.read_csv(f'{path}/{date}/{pair_csv}')\n",
    "        \n",
    "        if len(df_pair_tmp)==3: #触发信号的,并且信号是-11的才放进去\n",
    "            if df_pair_tmp['signal'].tolist()[1] == -11:\n",
    "                df_pair_open_list.append(df_pair_tmp)\n",
    "    print('open pairs: ',len(df_pair_open_list))             \n",
    "    pair_capital = total_cash/len(pair_list) # 持有的总现金除以当天观察的对子数目，即是等权分配到每个对子上的资金量\n",
    "    \n",
    "    for df_tmp in df_pair_open_list:\n",
    "        bond_price = df_tmp['bond price'].tolist()[1]\n",
    "        net_value = df_tmp['net value'].tolist()[2]\n",
    "        pair_pnl = pair_capital/bond_price*net_value\n",
    "        print('single pair pnl:',pair_pnl)\n",
    "        total_cash += pair_pnl\n",
    "    print(date,'total cash',total_cash)\n",
    "    print('*'*50)\n",
    "    # print(df_pair_open_list)\n",
    "# df_tmp     "
   ]
  },
  {
   "cell_type": "markdown",
   "metadata": {},
   "source": [
    "# signal 1-1&-11"
   ]
  },
  {
   "cell_type": "code",
   "execution_count": 5,
   "metadata": {},
   "outputs": [
    {
     "name": "stdout",
     "output_type": "stream",
     "text": [
      "20220909 obeserve pairs:  11\n",
      "open pairs:  3\n",
      "single pair pnl: 1326.0464043354043\n",
      "single pair pnl: 632.4543410288202\n",
      "single pair pnl: -824.3585334159509\n",
      "20220909 total bond cash 1000632.4543410288\n",
      "20220909 total stock cash 1000501.6878709195\n",
      "20220909 total cash  2001134.1422119483\n",
      "**************************************************\n",
      "20220913 obeserve pairs:  11\n",
      "open pairs:  4\n",
      "single pair pnl: 534.5133939610757\n",
      "single pair pnl: -695.3528786622593\n",
      "single pair pnl: -1545.8667216169113\n",
      "single pair pnl: 249.36610667041822\n",
      "20220913 total bond cash 999175.1142413812\n",
      "20220913 total stock cash 1000501.6878709195\n",
      "20220913 total cash  1999676.8021123006\n",
      "**************************************************\n",
      "20220914 obeserve pairs:  11\n",
      "open pairs:  4\n",
      "single pair pnl: -249.1721621974183\n",
      "single pair pnl: 1500.6471232120996\n",
      "single pair pnl: -115.82032672545515\n",
      "single pair pnl: 695.0886479773347\n",
      "20220914 total bond cash 999175.1142413812\n",
      "20220914 total stock cash 1002332.431153186\n",
      "20220914 total cash  2001507.5453945673\n",
      "**************************************************\n",
      "20220915 obeserve pairs:  11\n",
      "open pairs:  9\n",
      "single pair pnl: 15.479963252976582\n",
      "single pair pnl: -521.4325029793907\n",
      "single pair pnl: 298.5162050874627\n",
      "single pair pnl: 85.03312228321337\n",
      "single pair pnl: -553.1073136632402\n",
      "single pair pnl: 1741.5910248365078\n",
      "single pair pnl: 1418.8282031499468\n",
      "single pair pnl: 39.24219164714746\n",
      "single pair pnl: 572.0796460949794\n",
      "20220915 total bond cash 999044.7984467357\n",
      "20220915 total stock cash 1005558.977487541\n",
      "20220915 total cash  2004603.7759342766\n",
      "**************************************************\n",
      "20220916 obeserve pairs:  11\n",
      "open pairs:  5\n",
      "single pair pnl: 600.791921700156\n",
      "single pair pnl: 979.165200321422\n",
      "single pair pnl: -173.01732155544255\n",
      "single pair pnl: 563.8171947754108\n",
      "single pair pnl: 1580.7641510628998\n",
      "20220916 total bond cash 1000414.7635202772\n",
      "20220916 total stock cash 1007740.5335603041\n",
      "20220916 total cash  2008155.2970805813\n",
      "**************************************************\n",
      "20220919 obeserve pairs:  11\n",
      "open pairs:  7\n",
      "single pair pnl: -9.169657893610212\n",
      "single pair pnl: 1015.1880221648634\n",
      "single pair pnl: -468.3155504171524\n",
      "single pair pnl: 421.3636039700135\n",
      "single pair pnl: -603.6209398740245\n",
      "single pair pnl: 622.5083028316714\n",
      "single pair pnl: -1323.4909496012033\n",
      "20220919 total bond cash 1000386.6989367878\n",
      "20220919 total stock cash 1007423.0609749742\n",
      "20220919 total cash  2007809.759911762\n",
      "**************************************************\n",
      "20220920 obeserve pairs:  11\n",
      "open pairs:  4\n",
      "single pair pnl: -449.7381785726496\n",
      "single pair pnl: -58.74704090376087\n",
      "single pair pnl: 1342.0963415935394\n",
      "single pair pnl: 1634.5629228223281\n",
      "20220920 total bond cash 1002913.620022631\n",
      "20220920 total stock cash 1007364.3139340704\n",
      "20220920 total cash  2010277.9339567013\n",
      "**************************************************\n",
      "20220921 obeserve pairs:  11\n",
      "open pairs:  5\n",
      "single pair pnl: 2135.522821863574\n",
      "single pair pnl: -49.68890657757031\n",
      "single pair pnl: -2893.7631747620535\n",
      "single pair pnl: -614.1828016438063\n",
      "single pair pnl: 488.0565259371403\n",
      "20220921 total bond cash 1005049.1428444945\n",
      "20220921 total stock cash 1004294.7355770242\n",
      "20220921 total cash  2009343.8784215187\n",
      "**************************************************\n",
      "20220922 obeserve pairs:  11\n",
      "open pairs:  7\n",
      "single pair pnl: -2381.1892633595944\n",
      "single pair pnl: 1082.2589946116086\n",
      "single pair pnl: 543.179785489374\n",
      "single pair pnl: 779.3947792788218\n",
      "single pair pnl: 425.1096945946287\n",
      "single pair pnl: 763.4329349678959\n",
      "single pair pnl: 646.6796792200081\n",
      "20220922 total bond cash 1003431.3865161028\n",
      "20220922 total stock cash 1007771.3585102184\n",
      "20220922 total cash  2011202.7450263212\n",
      "**************************************************\n",
      "20220923 obeserve pairs:  12\n",
      "open pairs:  7\n",
      "single pair pnl: -463.47968569978525\n",
      "single pair pnl: 267.82127949548214\n",
      "single pair pnl: 1355.0336187902285\n",
      "single pair pnl: -2475.2069043502793\n",
      "single pair pnl: 345.91237783689724\n",
      "single pair pnl: -1022.6790330037704\n",
      "single pair pnl: 1002.8223531076444\n",
      "20220923 total bond cash 1005054.2414143885\n",
      "20220923 total stock cash 1005158.7276181091\n",
      "20220923 total cash  2010212.9690324976\n",
      "**************************************************\n",
      "20220926 obeserve pairs:  12\n",
      "open pairs:  5\n",
      "single pair pnl: -2111.2361237626997\n",
      "single pair pnl: -559.0218288145418\n",
      "single pair pnl: 226.34949973571221\n",
      "single pair pnl: 1414.7312274255053\n",
      "single pair pnl: -241.66122011122204\n",
      "20220926 total bond cash 1003783.4029688614\n",
      "20220926 total stock cash 1005158.7276181091\n",
      "20220926 total cash  2008942.1305869706\n",
      "**************************************************\n",
      "20220927 obeserve pairs:  12\n",
      "open pairs:  5\n",
      "single pair pnl: 246.7845656435745\n",
      "single pair pnl: -369.94190850180655\n",
      "single pair pnl: 48.03943101390521\n",
      "single pair pnl: -341.78033549626747\n",
      "single pair pnl: 375.6298782013916\n",
      "20220927 total bond cash 1003865.2919425804\n",
      "20220927 total stock cash 1005035.5702752508\n",
      "20220927 total cash  2008900.8622178312\n",
      "**************************************************\n",
      "20220928 obeserve pairs:  12\n",
      "open pairs:  6\n",
      "single pair pnl: -807.334049837324\n",
      "single pair pnl: 1175.0377535676027\n",
      "single pair pnl: -1090.3803587189595\n",
      "single pair pnl: 140.9034985555886\n",
      "single pair pnl: -1004.0011698721804\n",
      "single pair pnl: -634.9975602284459\n",
      "20220928 total bond cash 1003230.2943823519\n",
      "20220928 total stock cash 1003449.7959489455\n",
      "20220928 total cash  2006680.0903312974\n",
      "**************************************************\n",
      "20220929 obeserve pairs:  12\n",
      "open pairs:  7\n",
      "single pair pnl: 993.2047516530384\n",
      "single pair pnl: -1510.0714631153585\n",
      "single pair pnl: 1086.7539985236788\n",
      "single pair pnl: -28.646344733410835\n",
      "single pair pnl: -603.1532605738031\n",
      "single pair pnl: 1455.3077649386257\n",
      "single pair pnl: 1010.8568675226688\n",
      "20220929 total bond cash 1005255.4894343519\n",
      "20220929 total stock cash 1003828.8532111609\n",
      "20220929 total cash  2009084.342645513\n",
      "**************************************************\n",
      "20220930 obeserve pairs:  12\n",
      "open pairs:  4\n",
      "single pair pnl: 874.4122716446565\n",
      "single pair pnl: -491.2804485451942\n",
      "single pair pnl: 1402.4226264052206\n",
      "single pair pnl: -551.4345574826642\n",
      "20220930 total bond cash 1006980.8897749191\n",
      "20220930 total stock cash 1003337.5727626156\n",
      "20220930 total cash  2010318.4625375348\n",
      "**************************************************\n",
      "20221010 obeserve pairs:  12\n",
      "open pairs:  6\n",
      "single pair pnl: 1071.855168869199\n",
      "single pair pnl: -739.4165273546375\n",
      "single pair pnl: 1521.2424395344651\n",
      "single pair pnl: 1222.4728528324617\n",
      "single pair pnl: -421.01755008404933\n",
      "single pair pnl: -442.9237360719593\n",
      "20221010 total bond cash 1008854.2002465368\n",
      "20221010 total stock cash 1003676.4749387236\n",
      "20221010 total cash  2012530.6751852604\n",
      "**************************************************\n",
      "20221011 obeserve pairs:  12\n",
      "open pairs:  8\n",
      "single pair pnl: 760.3847236800593\n",
      "single pair pnl: -1320.336171867703\n",
      "single pair pnl: 1281.6479675422781\n",
      "single pair pnl: -922.8956065963707\n",
      "single pair pnl: -4391.703744318373\n",
      "single pair pnl: 1225.9493216144697\n",
      "single pair pnl: -283.96573734203486\n",
      "single pair pnl: -23.084779993282297\n",
      "20221011 total bond cash 1012122.1822593736\n",
      "20221011 total stock cash 996734.4888986059\n",
      "20221011 total cash  2008856.6711579794\n",
      "**************************************************\n",
      "20221012 obeserve pairs:  12\n",
      "open pairs:  7\n",
      "single pair pnl: -248.36461083427866\n",
      "single pair pnl: -2181.469667381616\n",
      "single pair pnl: 1882.7480074985515\n",
      "single pair pnl: -3973.6460830586007\n",
      "single pair pnl: 40.75720436668043\n",
      "single pair pnl: -1077.7025939851296\n",
      "single pair pnl: 253.50462072843933\n",
      "20221012 total bond cash 1008189.2933806818\n",
      "20221012 total stock cash 995363.2046546319\n",
      "20221012 total cash  2003552.4980353136\n",
      "**************************************************\n",
      "20221013 obeserve pairs:  12\n",
      "open pairs:  6\n",
      "single pair pnl: 897.5382874329927\n",
      "single pair pnl: 730.9272350533845\n",
      "single pair pnl: 1117.874583482369\n",
      "single pair pnl: -2423.579247024115\n",
      "single pair pnl: 39.10886145032479\n",
      "single pair pnl: 1890.7347387881373\n",
      "20221013 total bond cash 1008228.4022421321\n",
      "20221013 total stock cash 997576.7002523646\n",
      "20221013 total cash  2005805.1024944969\n",
      "**************************************************\n",
      "20221014 obeserve pairs:  16\n",
      "open pairs:  11\n",
      "single pair pnl: -45.249397694442266\n",
      "single pair pnl: 1161.5021852530776\n",
      "single pair pnl: 157.75571594176165\n",
      "single pair pnl: 894.3857736809789\n",
      "single pair pnl: -1998.453684968076\n",
      "single pair pnl: 261.3624242223637\n",
      "single pair pnl: -684.8244686934848\n",
      "single pair pnl: 1197.4036062281382\n",
      "single pair pnl: 10.76176102607965\n",
      "single pair pnl: -74.8620610339691\n",
      "single pair pnl: 612.6200579300166\n",
      "20221014 total bond cash 1006270.2504646479\n",
      "20221014 total stock cash 1001027.2539417414\n",
      "20221014 total cash  2007297.5044063893\n",
      "**************************************************\n",
      "20221017 obeserve pairs:  16\n",
      "open pairs:  12\n",
      "single pair pnl: -575.8587347186866\n",
      "single pair pnl: 1308.4726098905828\n",
      "single pair pnl: 158.2142913400736\n",
      "single pair pnl: -157.29423327694926\n",
      "single pair pnl: 272.17014621279833\n",
      "single pair pnl: 1385.5996569208305\n",
      "single pair pnl: 1514.0419525624927\n",
      "single pair pnl: 616.1159057398407\n",
      "single pair pnl: -127.4648096461487\n",
      "single pair pnl: -1807.2998928971117\n",
      "single pair pnl: -581.5641813327526\n",
      "single pair pnl: -298.4802024586183\n",
      "20221017 total bond cash 1004534.8105653388\n",
      "20221017 total stock cash 1004469.3463493871\n",
      "20221017 total cash  2009004.156914726\n",
      "**************************************************\n",
      "20221018 obeserve pairs:  16\n",
      "open pairs:  7\n",
      "single pair pnl: -81.67119618279882\n",
      "single pair pnl: -374.6578680869612\n",
      "single pair pnl: 1062.4966161871055\n",
      "single pair pnl: 98.63754086575194\n",
      "single pair pnl: 59.358482147774936\n",
      "single pair pnl: 700.1136862147541\n",
      "single pair pnl: -34.34755266956876\n",
      "20221018 total bond cash 1005597.307181526\n",
      "20221018 total stock cash 1004836.7794416761\n",
      "20221018 total cash  2010434.086623202\n",
      "**************************************************\n",
      "20221019 obeserve pairs:  16\n",
      "open pairs:  7\n",
      "single pair pnl: -863.6119141313059\n",
      "single pair pnl: -181.23180905137642\n",
      "single pair pnl: 561.0922030730748\n",
      "single pair pnl: 359.91695203259644\n",
      "single pair pnl: 22.902451320637425\n",
      "single pair pnl: 644.5295300591562\n",
      "single pair pnl: -150.50021649325456\n",
      "20221019 total bond cash 1005345.8748482764\n",
      "20221019 total stock cash 1005481.3089717353\n",
      "20221019 total cash  2010827.1838200116\n",
      "**************************************************\n",
      "20221020 obeserve pairs:  15\n",
      "open pairs:  10\n",
      "single pair pnl: 1306.3357139232623\n",
      "single pair pnl: -8.473087684093588\n",
      "single pair pnl: 828.9601522077536\n",
      "single pair pnl: -1189.2647727061626\n",
      "single pair pnl: 729.044009536451\n",
      "single pair pnl: 1143.2803452458857\n",
      "single pair pnl: 173.94905612958033\n",
      "single pair pnl: 1276.7940771614467\n",
      "single pair pnl: -78.84005433620295\n",
      "single pair pnl: 1771.13209842792\n",
      "20221020 total bond cash 1008744.6845630067\n",
      "20221020 total stock cash 1008035.4167949107\n",
      "20221020 total cash  2016780.1013579173\n",
      "**************************************************\n",
      "20221021 obeserve pairs:  15\n",
      "open pairs:  7\n",
      "single pair pnl: -995.3761869374902\n",
      "single pair pnl: 746.3975228552646\n",
      "single pair pnl: 255.39884637339307\n",
      "single pair pnl: -399.7394311116167\n",
      "single pair pnl: -611.4382942135196\n",
      "single pair pnl: 1224.0436600199416\n",
      "single pair pnl: 941.6533564929099\n",
      "20221021 total bond cash 1008825.920961204\n",
      "20221021 total stock cash 1009115.1198701925\n",
      "20221021 total cash  2017941.0408313964\n",
      "**************************************************\n",
      "20221024 obeserve pairs:  15\n",
      "open pairs:  10\n",
      "single pair pnl: 713.8608987091877\n",
      "single pair pnl: -69.17262183889403\n",
      "single pair pnl: 295.7738216740619\n",
      "single pair pnl: 517.0116964725987\n",
      "single pair pnl: -810.8324926394653\n",
      "single pair pnl: 204.56860971473603\n",
      "single pair pnl: -223.81472557880713\n",
      "single pair pnl: 1007.9230513515885\n",
      "single pair pnl: -1570.0276500259565\n",
      "single pair pnl: 619.9144344737464\n",
      "20221024 total bond cash 1008176.2758451093\n",
      "20221024 total stock cash 1010449.9700086002\n",
      "20221024 total cash  2018626.2458537095\n",
      "**************************************************\n",
      "20221025 obeserve pairs:  15\n",
      "open pairs:  8\n",
      "single pair pnl: -937.6206499770248\n",
      "single pair pnl: 1282.9899740845613\n",
      "single pair pnl: 917.1408769310002\n",
      "single pair pnl: 558.1972188055622\n",
      "single pair pnl: 108.64437954086343\n",
      "single pair pnl: 872.0669542964528\n",
      "single pair pnl: 794.0783273283805\n",
      "single pair pnl: 573.1504543341479\n",
      "20221025 total bond cash 1009242.0698225683\n",
      "20221025 total stock cash 1013552.823566485\n",
      "20221025 total cash  2022794.8933890532\n",
      "**************************************************\n",
      "20221026 obeserve pairs:  15\n",
      "open pairs:  8\n",
      "single pair pnl: -265.2695115849327\n",
      "single pair pnl: -718.8660236946511\n",
      "single pair pnl: -44.71164380293637\n",
      "single pair pnl: -459.0811383313318\n",
      "single pair pnl: -352.15914801171255\n",
      "single pair pnl: 2012.9546540037413\n",
      "single pair pnl: -300.1349099595077\n",
      "single pair pnl: 132.45059620397885\n",
      "20221026 total bond cash 1008217.5842626926\n",
      "20221026 total stock cash 1014582.4920011834\n",
      "20221026 total cash  2022800.0762638762\n",
      "**************************************************\n",
      "20221027 obeserve pairs:  15\n",
      "open pairs:  7\n",
      "single pair pnl: 624.3248304646372\n",
      "single pair pnl: -1014.774150979307\n",
      "single pair pnl: 374.3580590035157\n",
      "single pair pnl: 810.8700934447189\n",
      "single pair pnl: -428.89549148204526\n",
      "single pair pnl: -408.44107771823434\n",
      "single pair pnl: -1048.6904955318998\n",
      "20221027 total bond cash 1008604.0886910701\n",
      "20221027 total stock cash 1013104.7393400073\n",
      "20221027 total cash  2021708.8280310775\n",
      "**************************************************\n",
      "20221028 obeserve pairs:  15\n",
      "open pairs:  12\n",
      "single pair pnl: -271.103225524787\n",
      "single pair pnl: 1317.134910509415\n",
      "single pair pnl: -162.99486922100508\n",
      "single pair pnl: 381.4323488375105\n",
      "single pair pnl: 725.5076981514574\n",
      "single pair pnl: 1679.3177849849058\n",
      "single pair pnl: 1347.4184028206278\n",
      "single pair pnl: 888.9872515668018\n",
      "single pair pnl: -80.94974634632224\n",
      "single pair pnl: -1138.6319053986272\n",
      "single pair pnl: 148.46373897604266\n",
      "single pair pnl: 735.4708851777805\n",
      "20221028 total bond cash 1011406.1297376703\n",
      "20221028 total stock cash 1015872.7515679408\n",
      "20221028 total cash  2027278.8813056112\n",
      "**************************************************\n",
      "20221031 obeserve pairs:  15\n",
      "open pairs:  12\n",
      "single pair pnl: -495.2273520058216\n",
      "single pair pnl: 761.8189614788876\n",
      "single pair pnl: 355.72833338376796\n",
      "single pair pnl: -857.8831358578719\n",
      "single pair pnl: -892.3340884395656\n",
      "single pair pnl: 189.5592208559698\n",
      "single pair pnl: -384.9915218676666\n",
      "single pair pnl: -62.694537384823946\n",
      "single pair pnl: -2197.051206777196\n",
      "single pair pnl: -6331.462443236793\n",
      "single pair pnl: 687.9301807972537\n",
      "single pair pnl: 945.0316331664246\n",
      "20221031 total bond cash 1002383.9260562587\n",
      "20221031 total stock cash 1016613.3792934649\n",
      "20221031 total cash  2018997.3053497237\n",
      "**************************************************\n",
      "20221101 obeserve pairs:  15\n",
      "open pairs:  9\n",
      "single pair pnl: -339.9597462223573\n",
      "single pair pnl: 19.440011462854777\n",
      "single pair pnl: 325.3450749650582\n",
      "single pair pnl: -142.88119829876777\n",
      "single pair pnl: -360.6876273558156\n",
      "single pair pnl: 5.135436617398602\n",
      "single pair pnl: 772.5523858076753\n",
      "single pair pnl: 1610.772803219076\n",
      "single pair pnl: 750.7085997706538\n",
      "20221101 total bond cash 1002230.2777536495\n",
      "20221101 total stock cash 1019407.4533360399\n",
      "20221101 total cash  2021637.7310896893\n",
      "**************************************************\n",
      "20221102 obeserve pairs:  15\n",
      "open pairs:  11\n",
      "single pair pnl: -80.99789938814031\n",
      "single pair pnl: -1056.3383423387857\n",
      "single pair pnl: -1453.237120514457\n",
      "single pair pnl: 348.3174512037763\n",
      "single pair pnl: 585.5925176824322\n",
      "single pair pnl: -1562.7083711740195\n",
      "single pair pnl: -321.70435096169894\n",
      "single pair pnl: -486.5697766309215\n",
      "single pair pnl: -2356.35656693928\n",
      "single pair pnl: 618.2741475413628\n",
      "single pair pnl: 752.1981272744883\n",
      "20221102 total bond cash 1001117.8634109925\n",
      "20221102 total stock cash 1015506.3374944516\n",
      "20221102 total cash  2016624.200905444\n",
      "**************************************************\n",
      "20221103 obeserve pairs:  15\n",
      "open pairs:  7\n",
      "single pair pnl: -560.4473828586395\n",
      "single pair pnl: -38.86957979916541\n",
      "single pair pnl: 809.5629529459878\n",
      "single pair pnl: 1387.4186766782807\n",
      "single pair pnl: 982.0971179061364\n",
      "single pair pnl: -168.6278166341247\n",
      "single pair pnl: 63.70140492427717\n",
      "20221103 total bond cash 1002779.2294828834\n",
      "20221103 total stock cash 1016319.8067957235\n",
      "20221103 total cash  2019099.0362786069\n",
      "**************************************************\n",
      "20221104 obeserve pairs:  15\n",
      "open pairs:  9\n",
      "single pair pnl: 6.128305404437886\n",
      "single pair pnl: 1665.0506404597427\n",
      "single pair pnl: 305.483703386276\n",
      "single pair pnl: 1345.2468871608548\n",
      "single pair pnl: -1754.2327635856366\n",
      "single pair pnl: 1455.4119778827755\n",
      "single pair pnl: 946.0315855418776\n",
      "single pair pnl: 1101.5969917252773\n",
      "single pair pnl: 1354.6941981368473\n",
      "20221104 total bond cash 1001336.6087280884\n",
      "20221104 total stock cash 1024187.8390766308\n",
      "20221104 total cash  2025524.4478047192\n",
      "**************************************************\n",
      "20221107 obeserve pairs:  15\n",
      "open pairs:  9\n",
      "single pair pnl: -505.4393250892943\n",
      "single pair pnl: -559.3282876603942\n",
      "single pair pnl: 163.44031592470932\n",
      "single pair pnl: -147.6856970255536\n",
      "single pair pnl: 870.3886304779339\n",
      "single pair pnl: -2457.2626939305255\n",
      "single pair pnl: 979.60974331013\n",
      "single pair pnl: 1427.946110521608\n",
      "single pair pnl: -1285.5287911825149\n",
      "20221107 total bond cash 1001859.7299717152\n",
      "20221107 total stock cash 1022150.85783835\n",
      "20221107 total cash  2024010.5878100651\n",
      "**************************************************\n",
      "20221108 obeserve pairs:  15\n",
      "open pairs:  5\n",
      "single pair pnl: 583.8902584818027\n",
      "single pair pnl: 688.388407188707\n",
      "single pair pnl: 1107.7097961985335\n",
      "single pair pnl: -46.803594417873015\n",
      "single pair pnl: 959.1244466346591\n",
      "20221108 total bond cash 1003507.2428255386\n",
      "20221108 total stock cash 1023795.6542986125\n",
      "20221108 total cash  2027302.8971241512\n",
      "**************************************************\n",
      "20221109 obeserve pairs:  15\n",
      "open pairs:  6\n",
      "single pair pnl: 343.19283059420115\n",
      "single pair pnl: -194.07631457111404\n",
      "single pair pnl: -122.91777609857667\n",
      "single pair pnl: 1124.3251189477944\n",
      "single pair pnl: 458.8493984099974\n",
      "single pair pnl: -116.21605239835213\n",
      "20221109 total bond cash 1003384.32504944\n",
      "20221109 total stock cash 1025411.7292795951\n",
      "20221109 total cash  2028796.054329035\n",
      "**************************************************\n",
      "20221110 obeserve pairs:  15\n",
      "open pairs:  7\n",
      "single pair pnl: -50.34021235899063\n",
      "single pair pnl: -75.19303515235582\n",
      "single pair pnl: 714.3428398554672\n",
      "single pair pnl: 1223.212872655213\n",
      "single pair pnl: 1244.6158345014667\n",
      "single pair pnl: 990.4670966415486\n",
      "single pair pnl: -397.08159911240267\n",
      "20221110 total bond cash 1003902.5175118168\n",
      "20221110 total stock cash 1028543.5606142483\n",
      "20221110 total cash  2032446.078126065\n",
      "**************************************************\n",
      "20221111 obeserve pairs:  15\n",
      "open pairs:  11\n",
      "single pair pnl: -780.0931601170787\n",
      "single pair pnl: -555.6110709831121\n",
      "single pair pnl: 1423.8103944722398\n",
      "single pair pnl: -1052.0489764638885\n",
      "single pair pnl: -64.26401238527156\n",
      "single pair pnl: 599.8647920977587\n",
      "single pair pnl: -911.0639143533898\n",
      "single pair pnl: 1049.863830972467\n",
      "single pair pnl: 961.7252422701487\n",
      "single pair pnl: 35.128615631117334\n",
      "single pair pnl: -1437.4050624665717\n",
      "20221111 total bond cash 1004481.9707337867\n",
      "20221111 total stock cash 1027234.0140709528\n",
      "20221111 total cash  2031715.9848047395\n",
      "**************************************************\n",
      "20221114 obeserve pairs:  14\n",
      "open pairs:  10\n",
      "single pair pnl: 94.34605262754005\n",
      "single pair pnl: -935.0883530265493\n",
      "single pair pnl: -12.646641103717677\n",
      "single pair pnl: 961.6988661018399\n",
      "single pair pnl: -1369.3835700405666\n",
      "single pair pnl: 409.9328769596841\n",
      "single pair pnl: -140.82350919004884\n",
      "single pair pnl: 957.2547924561748\n",
      "single pair pnl: 1290.5897552896922\n",
      "single pair pnl: 287.34588782902233\n",
      "20221114 total bond cash 1002324.0211893586\n",
      "20221114 total stock cash 1030935.189773284\n",
      "20221114 total cash  2033259.2109626424\n",
      "**************************************************\n"
     ]
    }
   ],
   "source": [
    "total_bond_cash = 1000000\n",
    "total_stock_cash = 1000000\n",
    "total_cash_list = []\n",
    "\n",
    "\n",
    "for date in dates[:]:\n",
    "    daily_csvs = os.listdir(path+f'/{date}')\n",
    "    pair_list = [i for i in daily_csvs if len(i.split('@'))==2] #当天观察的所有对子\n",
    "    print(date,'obeserve pairs: ',len(pair_list))\n",
    "    # print(date,'pair_list \\n',pair_list)\n",
    "    df_pair_open_list = []\n",
    "    for pair_csv in  pair_list:\n",
    "        \n",
    "        df_pair_tmp = pd.read_csv(f'{path}/{date}/{pair_csv}')\n",
    "        \n",
    "        if len(df_pair_tmp)==3: #触发信号的，才放进去\n",
    "            # if pair_csv in target_pair_list:\n",
    "            df_pair_open_list.append(df_pair_tmp)\n",
    "    print('open pairs: ',len(df_pair_open_list))             \n",
    "    # pair_capital = total_cash/len(pair_list) # 持有的总现金除以当天观察的对子数目，即是等权分配到每个对子上的资金量\n",
    "    \n",
    "    for df_tmp in df_pair_open_list:\n",
    "        pair_signal = df_tmp['signal'].tolist()[1]\n",
    "\n",
    "        bond_price = df_tmp['bond price'].tolist()[1]\n",
    "        net_value = df_tmp['net value'].tolist()[2]\n",
    "        # pair_pnl = pair_capital/bond_price*net_value\n",
    "        # print('single pair pnl:',pair_pnl)\n",
    "        if pair_signal == '1-1':\n",
    "            pair_capital = total_bond_cash/len(pair_list)\n",
    "            pair_pnl = pair_capital/bond_price*net_value\n",
    "            total_bond_cash += pair_pnl\n",
    "            print('single pair pnl:',pair_pnl)\n",
    "        elif pair_signal == -11:\n",
    "            pair_capital = total_stock_cash/len(pair_list)\n",
    "            pair_pnl = pair_capital/bond_price*net_value\n",
    "            total_stock_cash += pair_pnl\n",
    "            print('single pair pnl:',pair_pnl)\n",
    "    print(date,'total bond cash',total_bond_cash)\n",
    "    print(date,'total stock cash',total_stock_cash)\n",
    "    print(date,'total cash ',total_bond_cash+total_stock_cash)\n",
    "    total_cash_list.append(total_bond_cash+total_stock_cash)\n",
    "    print('*'*50)\n",
    "    # print(df_pair_open_list)\n",
    "# df_tmp     "
   ]
  },
  {
   "cell_type": "markdown",
   "metadata": {},
   "source": [
    "# signal 1-1&-11 200"
   ]
  },
  {
   "cell_type": "code",
   "execution_count": 6,
   "metadata": {},
   "outputs": [
    {
     "name": "stdout",
     "output_type": "stream",
     "text": [
      "20220909 obeserve pairs:  11\n",
      "open pairs:  2\n",
      "pair 123031.SZ@300655.SZ pnl: 993.8568216167175\n",
      "pair 123046.SZ@300587.SZ pnl: -1293.7050395947551\n",
      "20220909 total bond cash 1000993.8568216168\n",
      "20220909 total stock cash 998706.2949604052\n",
      "20220909 total cash  1999700.1517820219\n",
      "**************************************************\n",
      "20220913 obeserve pairs:  11\n",
      "open pairs:  1\n",
      "pair 123046.SZ@300587.SZ pnl: -2430.487176116559\n",
      "20220913 total bond cash 998563.3696455002\n",
      "20220913 total stock cash 998706.2949604052\n",
      "20220913 total cash  1997269.6646059053\n",
      "**************************************************\n",
      "20220914 obeserve pairs:  11\n",
      "open pairs:  2\n",
      "pair 113534.SH@603876.SH pnl: 2354.5144499903377\n",
      "pair 123031.SZ@300655.SZ pnl: -181.87758044280076\n",
      "20220914 total bond cash 998563.3696455002\n",
      "20220914 total stock cash 1000878.9318299528\n",
      "20220914 total cash  1999442.301475453\n",
      "**************************************************\n",
      "20220915 obeserve pairs:  11\n",
      "open pairs:  3\n",
      "pair 113534.SH@603876.SH pnl: -868.303175535946\n",
      "pair 123031.SZ@300655.SZ pnl: 2734.197391347293\n",
      "pair 123046.SZ@300587.SZ pnl: 61.585407658009956\n",
      "20220915 total bond cash 997756.6518776222\n",
      "20220915 total stock cash 1003613.1292213\n",
      "20220915 total cash  2001369.7810989222\n",
      "**************************************************\n",
      "20220916 obeserve pairs:  11\n",
      "open pairs:  1\n",
      "pair 123046.SZ@300587.SZ pnl: 884.1426306838295\n",
      "20220916 total bond cash 998640.7945083061\n",
      "20220916 total stock cash 1003613.1292213\n",
      "20220916 total cash  2002253.923729606\n",
      "**************************************************\n",
      "20220919 obeserve pairs:  11\n",
      "open pairs:  2\n",
      "pair 113534.SH@603876.SH pnl: 661.2782308918192\n",
      "pair 123046.SZ@300587.SZ pnl: 977.7751700412015\n",
      "20220919 total bond cash 1000279.8479092391\n",
      "20220919 total stock cash 1003613.1292213\n",
      "20220919 total cash  2003892.9771305392\n",
      "**************************************************\n",
      "20220920 obeserve pairs:  11\n",
      "open pairs:  2\n",
      "pair 113534.SH@603876.SH pnl: 2109.7317343083355\n",
      "pair 123046.SZ@300587.SZ pnl: 2571.4477218484144\n",
      "20220920 total bond cash 1004961.0273653958\n",
      "20220920 total stock cash 1003613.1292213\n",
      "20220920 total cash  2008574.156586696\n",
      "**************************************************\n",
      "20220921 obeserve pairs:  11\n",
      "open pairs:  2\n",
      "pair 123031.SZ@300655.SZ pnl: -4530.6323894383295\n",
      "pair 123046.SZ@300587.SZ pnl: -960.0147867870787\n",
      "20220921 total bond cash 1004961.0273653958\n",
      "20220921 total stock cash 998122.4820450746\n",
      "20220921 total cash  2003083.5094104703\n",
      "**************************************************\n",
      "20220922 obeserve pairs:  11\n",
      "open pairs:  2\n",
      "pair 113534.SH@603876.SH pnl: 1215.269104645991\n",
      "pair 123046.SZ@300587.SZ pnl: 1202.4239619915732\n",
      "20220922 total bond cash 1006163.4513273874\n",
      "20220922 total stock cash 999337.7511497205\n",
      "20220922 total cash  2005501.2024771078\n",
      "**************************************************\n",
      "20220923 obeserve pairs:  12\n",
      "open pairs:  3\n",
      "pair 113534.SH@603876.SH pnl: 2328.617905712986\n",
      "pair 123031.SZ@300655.SZ pnl: -4209.638247660188\n",
      "pair 123046.SZ@300587.SZ pnl: -1735.6347085811474\n",
      "20220923 total bond cash 1008492.0692331004\n",
      "20220923 total stock cash 993392.4781934791\n",
      "20220923 total cash  2001884.5474265795\n",
      "**************************************************\n",
      "20220926 obeserve pairs:  12\n",
      "open pairs:  3\n",
      "pair 113534.SH@603876.SH pnl: -963.6253270858897\n",
      "pair 123031.SZ@300655.SZ pnl: 390.0191594842178\n",
      "pair 123046.SZ@300587.SZ pnl: 2438.0935772248595\n",
      "20220926 total bond cash 1010356.5566427236\n",
      "20220926 total stock cash 993392.4781934791\n",
      "20220926 total cash  2003749.0348362029\n",
      "**************************************************\n",
      "20220927 obeserve pairs:  12\n",
      "open pairs:  1\n",
      "pair 123031.SZ@300655.SZ pnl: 82.89259095776224\n",
      "20220927 total bond cash 1010439.4492336814\n",
      "20220927 total stock cash 993392.4781934791\n",
      "20220927 total cash  2003831.9274271606\n",
      "**************************************************\n",
      "20220928 obeserve pairs:  12\n",
      "open pairs:  2\n",
      "pair 113534.SH@603876.SH pnl: -1846.893266905526\n",
      "pair 123046.SZ@300587.SZ pnl: -1699.0264703692608\n",
      "20220928 total bond cash 1010439.4492336814\n",
      "20220928 total stock cash 989846.5584562042\n",
      "20220928 total cash  2000286.0076898858\n",
      "**************************************************\n",
      "20220929 obeserve pairs:  12\n",
      "open pairs:  1\n",
      "pair 123046.SZ@300587.SZ pnl: -1019.9890577541079\n",
      "20220929 total bond cash 1010439.4492336814\n",
      "20220929 total stock cash 988826.5693984502\n",
      "20220929 total cash  1999266.0186321316\n",
      "**************************************************\n",
      "20220930 obeserve pairs:  12\n",
      "open pairs:  1\n",
      "pair 123046.SZ@300587.SZ pnl: 2414.450761957082\n",
      "20220930 total bond cash 1012853.8999956385\n",
      "20220930 total stock cash 988826.5693984502\n",
      "20220930 total cash  2001680.4693940887\n",
      "**************************************************\n",
      "20221010 obeserve pairs:  12\n",
      "open pairs:  2\n",
      "pair 123031.SZ@300655.SZ pnl: -1249.2386461502049\n",
      "pair 123046.SZ@300587.SZ pnl: 2105.6489970515768\n",
      "20221010 total bond cash 1014959.54899269\n",
      "20221010 total stock cash 987577.3307523\n",
      "20221010 total cash  2002536.87974499\n",
      "**************************************************\n",
      "20221011 obeserve pairs:  12\n",
      "open pairs:  3\n",
      "pair 113534.SH@603876.SH pnl: 2208.74244625166\n",
      "pair 123031.SZ@300655.SZ pnl: -1558.7800631079695\n",
      "pair 123046.SZ@300587.SZ pnl: 2114.6668576600114\n",
      "20221011 total bond cash 1019282.9582966018\n",
      "20221011 total stock cash 986018.550689192\n",
      "20221011 total cash  2005301.5089857937\n",
      "**************************************************\n",
      "20221012 obeserve pairs:  12\n",
      "open pairs:  3\n",
      "pair 113534.SH@603876.SH pnl: -3700.3790603416955\n",
      "pair 123031.SZ@300655.SZ pnl: 3188.659224778142\n",
      "pair 123046.SZ@300587.SZ pnl: 70.64116166226248\n",
      "20221012 total bond cash 1019353.5994582641\n",
      "20221012 total stock cash 985506.8308536285\n",
      "20221012 total cash  2004860.4303118926\n",
      "**************************************************\n",
      "20221013 obeserve pairs:  12\n",
      "open pairs:  2\n",
      "pair 113534.SH@603876.SH pnl: 1239.492695527839\n",
      "pair 123046.SZ@300587.SZ pnl: -4107.407003657972\n",
      "20221013 total bond cash 1019353.5994582641\n",
      "20221013 total stock cash 982638.9165454983\n",
      "20221013 total cash  2001992.5160037624\n",
      "**************************************************\n",
      "20221014 obeserve pairs:  16\n",
      "open pairs:  4\n",
      "pair 128111.SZ@002738.SZ pnl: -4617.782826260959\n",
      "pair 113534.SH@603876.SH pnl: 587.2440789427478\n",
      "pair 123046.SZ@300587.SZ pnl: 2691.299240218739\n",
      "pair 128095.SZ@002812.SZ pnl: 24.225465651309815\n",
      "20221014 total bond cash 1014735.816632003\n",
      "20221014 total stock cash 985941.685330311\n",
      "20221014 total cash  2000677.501962314\n",
      "**************************************************\n",
      "20221017 obeserve pairs:  16\n",
      "open pairs:  5\n",
      "pair 128111.SZ@002738.SZ pnl: 611.8315971135514\n",
      "pair 113534.SH@603876.SH pnl: 3115.879906552198\n",
      "pair 123031.SZ@300655.SZ pnl: 3492.3257311334773\n",
      "pair 123046.SZ@300587.SZ pnl: -294.58173474947563\n",
      "pair 128095.SZ@002812.SZ pnl: -4176.139971530816\n",
      "20221017 total bond cash 1013757.4206568563\n",
      "20221017 total stock cash 989669.3968339766\n",
      "20221017 total cash  2003426.8174908329\n",
      "**************************************************\n",
      "20221018 obeserve pairs:  16\n",
      "open pairs:  3\n",
      "pair 113534.SH@603876.SH pnl: 2450.8602793851105\n",
      "pair 123046.SZ@300587.SZ pnl: 133.72507886081848\n",
      "pair 128095.SZ@002812.SZ pnl: 1577.3629975096756\n",
      "20221018 total bond cash 1016208.2809362414\n",
      "20221018 total stock cash 991380.484910347\n",
      "20221018 total cash  2007588.7658465884\n",
      "**************************************************\n",
      "20221019 obeserve pairs:  16\n",
      "open pairs:  2\n",
      "pair 128111.SZ@002738.SZ pnl: 1297.3772645693462\n",
      "pair 113534.SH@603876.SH pnl: 832.8100313790015\n",
      "20221019 total bond cash 1018338.4682321898\n",
      "20221019 total stock cash 991380.484910347\n",
      "20221019 total cash  2009718.9531425368\n",
      "**************************************************\n",
      "20221020 obeserve pairs:  15\n",
      "open pairs:  4\n",
      "pair 128111.SZ@002738.SZ pnl: 1751.431827440321\n",
      "pair 113534.SH@603876.SH pnl: -2515.05107207418\n",
      "pair 123031.SZ@300655.SZ pnl: 1580.3865266909825\n",
      "pair 128095.SZ@002812.SZ pnl: 377.3902742184165\n",
      "20221020 total bond cash 1020296.2450330992\n",
      "20221020 total stock cash 990616.8656657131\n",
      "20221020 total cash  2010913.1106988122\n",
      "**************************************************\n",
      "20221021 obeserve pairs:  15\n",
      "open pairs:  2\n",
      "pair 128111.SZ@002738.SZ pnl: -841.5697482199089\n",
      "pair 128095.SZ@002812.SZ pnl: -1325.5560279528884\n",
      "20221021 total bond cash 1018970.6890051463\n",
      "20221021 total stock cash 989775.2959174932\n",
      "20221021 total cash  2008745.9849226396\n",
      "**************************************************\n",
      "20221024 obeserve pairs:  15\n",
      "open pairs:  6\n",
      "pair 128111.SZ@002738.SZ pnl: 639.7218817844152\n",
      "pair 113534.SH@603876.SH pnl: 1118.606119243648\n",
      "pair 123031.SZ@300655.SZ pnl: -1755.342526441754\n",
      "pair 123092.SZ@300332.SZ pnl: 442.4568255386827\n",
      "pair 123046.SZ@300587.SZ pnl: -470.44357701992885\n",
      "pair 128095.SZ@002812.SZ pnl: 2118.0496400030966\n",
      "20221024 total bond cash 1019416.1313052712\n",
      "20221024 total stock cash 991422.9019804763\n",
      "20221024 total cash  2010839.0332857475\n",
      "**************************************************\n",
      "20221025 obeserve pairs:  15\n",
      "open pairs:  4\n",
      "pair 128111.SZ@002738.SZ pnl: 1925.8493785908536\n",
      "pair 113534.SH@603876.SH pnl: 1210.5981459419347\n",
      "pair 123046.SZ@300587.SZ pnl: 228.3719830080744\n",
      "pair 128095.SZ@002812.SZ pnl: 1892.5047981661771\n",
      "20221025 total bond cash 1022519.2342493794\n",
      "20221025 total stock cash 993577.1233420753\n",
      "20221025 total cash  2016096.3575914546\n",
      "**************************************************\n",
      "20221026 obeserve pairs:  15\n",
      "open pairs:  3\n",
      "pair 128111.SZ@002738.SZ pnl: -996.9490744347654\n",
      "pair 113534.SH@603876.SH pnl: -740.3118410515881\n",
      "pair 123031.SZ@300655.SZ pnl: 4229.96755593281\n",
      "20221026 total bond cash 1021522.2851749446\n",
      "20221026 total stock cash 997066.7790569565\n",
      "20221026 total cash  2018589.064231901\n",
      "**************************************************\n",
      "20221027 obeserve pairs:  15\n",
      "open pairs:  2\n",
      "pair 128111.SZ@002738.SZ pnl: 1759.418816274716\n",
      "pair 128095.SZ@002812.SZ pnl: -861.0284031190207\n",
      "20221027 total bond cash 1023281.7039912193\n",
      "20221027 total stock cash 996205.7506538375\n",
      "20221027 total cash  2019487.4546450567\n",
      "**************************************************\n",
      "20221028 obeserve pairs:  15\n",
      "open pairs:  5\n",
      "pair 128111.SZ@002738.SZ pnl: 1529.1362102554815\n",
      "pair 113534.SH@603876.SH pnl: 3542.3557043071687\n",
      "pair 123031.SZ@300655.SZ pnl: 2924.8896090092044\n",
      "pair 123046.SZ@300587.SZ pnl: -175.98804727880412\n",
      "pair 128095.SZ@002812.SZ pnl: -2404.26719213466\n",
      "20221028 total bond cash 1026030.6055529497\n",
      "20221028 total stock cash 998872.9753762655\n",
      "20221028 total cash  2024903.580929215\n",
      "**************************************************\n",
      "20221031 obeserve pairs:  15\n",
      "open pairs:  6\n",
      "pair 128111.SZ@002738.SZ pnl: -1863.755524833978\n",
      "pair 113534.SH@603876.SH pnl: -1880.1463454669527\n",
      "pair 123031.SZ@300655.SZ pnl: 411.419080323731\n",
      "pair 123092.SZ@300332.SZ pnl: -835.7640730836007\n",
      "pair 123046.SZ@300587.SZ pnl: -136.04205466096803\n",
      "pair 128095.SZ@002812.SZ pnl: -4767.0847919686785\n",
      "20221031 total bond cash 1018839.3781887261\n",
      "20221031 total stock cash 996992.8290307985\n",
      "20221031 total cash  2015832.2072195248\n",
      "**************************************************\n",
      "20221101 obeserve pairs:  15\n",
      "open pairs:  4\n",
      "pair 128111.SZ@002738.SZ pnl: -311.0932404716889\n",
      "pair 113534.SH@603876.SH pnl: -785.192234606455\n",
      "pair 123046.SZ@300587.SZ pnl: 11.174895293507232\n",
      "pair 128095.SZ@002812.SZ pnl: 1624.0620751254758\n",
      "20221101 total bond cash 1017754.2676089415\n",
      "20221101 total stock cash 998616.891105924\n",
      "20221101 total cash  2016371.1587148656\n",
      "**************************************************\n",
      "20221102 obeserve pairs:  15\n",
      "open pairs:  3\n",
      "pair 128111.SZ@002738.SZ pnl: 1230.680636190035\n",
      "pair 123046.SZ@300587.SZ pnl: -700.7829863042451\n",
      "pair 128095.SZ@002812.SZ pnl: -1059.5273625653733\n",
      "20221102 total bond cash 1015993.9572600719\n",
      "20221102 total stock cash 999847.571742114\n",
      "20221102 total cash  2015841.529002186\n",
      "**************************************************\n",
      "20221103 obeserve pairs:  15\n",
      "open pairs:  3\n",
      "pair 128111.SZ@002738.SZ pnl: 1761.6102408692684\n",
      "pair 123046.SZ@300587.SZ pnl: 2072.043238005629\n",
      "pair 128095.SZ@002812.SZ pnl: -356.1663398450573\n",
      "20221103 total bond cash 1017755.5675009411\n",
      "20221103 total stock cash 1001563.4486402746\n",
      "20221103 total cash  2019319.0161412158\n",
      "**************************************************\n",
      "20221104 obeserve pairs:  15\n",
      "open pairs:  4\n",
      "pair 128111.SZ@002738.SZ pnl: 2836.17068508707\n",
      "pair 113534.SH@603876.SH pnl: -3814.0260824309044\n",
      "pair 123046.SZ@300587.SZ pnl: 1994.6692646022611\n",
      "pair 128095.SZ@002812.SZ pnl: 2325.1304326601025\n",
      "20221104 total bond cash 1013941.5414185103\n",
      "20221104 total stock cash 1008719.419022624\n",
      "20221104 total cash  2022660.9604411344\n",
      "**************************************************\n",
      "20221107 obeserve pairs:  15\n",
      "open pairs:  4\n",
      "pair 128111.SZ@002738.SZ pnl: 1889.520840024868\n",
      "pair 113534.SH@603876.SH pnl: -5188.870287446714\n",
      "pair 123046.SZ@300587.SZ pnl: 3102.9969290401364\n",
      "pair 128095.SZ@002812.SZ pnl: -2798.061663609326\n",
      "20221107 total bond cash 1016135.997523966\n",
      "20221107 total stock cash 1003530.5487351773\n",
      "20221107 total cash  2019666.5462591434\n",
      "**************************************************\n",
      "20221108 obeserve pairs:  15\n",
      "open pairs:  3\n",
      "pair 128111.SZ@002738.SZ pnl: 1496.1381031761928\n",
      "pair 113534.SH@603876.SH pnl: 2329.0928457543114\n",
      "pair 128095.SZ@002812.SZ pnl: 2086.189554114631\n",
      "20221108 total bond cash 1019718.3251812567\n",
      "20221108 total stock cash 1005859.6415809316\n",
      "20221108 total cash  2025577.9667621884\n",
      "**************************************************\n",
      "20221109 obeserve pairs:  15\n",
      "open pairs:  2\n",
      "pair 123046.SZ@300587.SZ pnl: -267.6502330224326\n",
      "pair 128095.SZ@002812.SZ pnl: 2366.7151087766647\n",
      "20221109 total bond cash 1019450.6749482343\n",
      "20221109 total stock cash 1008226.3566897083\n",
      "20221109 total cash  2027677.0316379427\n",
      "**************************************************\n",
      "20221110 obeserve pairs:  15\n",
      "open pairs:  3\n",
      "pair 128111.SZ@002738.SZ pnl: 1505.1542242306448\n",
      "pair 113534.SH@603876.SH pnl: 2579.4181733960895\n",
      "pair 123046.SZ@300587.SZ pnl: 2156.575784997011\n",
      "20221110 total bond cash 1021607.2507332313\n",
      "20221110 total stock cash 1012310.9290873351\n",
      "20221110 total cash  2033918.1798205664\n",
      "**************************************************\n",
      "20221111 obeserve pairs:  15\n",
      "open pairs:  4\n",
      "pair 128111.SZ@002738.SZ pnl: 1267.1183511205543\n",
      "pair 113534.SH@603876.SH pnl: -1925.7606704731938\n",
      "pair 123046.SZ@300587.SZ pnl: 2028.7096437915764\n",
      "pair 128095.SZ@002812.SZ pnl: 74.18117648393452\n",
      "20221111 total bond cash 1021607.2507332313\n",
      "20221111 total stock cash 1013755.1775882579\n",
      "20221111 total cash  2035362.4283214891\n",
      "**************************************************\n",
      "20221114 obeserve pairs:  14\n",
      "open pairs:  4\n",
      "pair 128111.SZ@002738.SZ pnl: 1898.0089411591127\n",
      "pair 113534.SH@603876.SH pnl: -2788.0554635764597\n",
      "pair 123046.SZ@300587.SZ pnl: -286.3239186238249\n",
      "pair 128095.SZ@002812.SZ pnl: 1890.2514642396186\n",
      "20221114 total bond cash 1018532.871351031\n",
      "20221114 total stock cash 1017543.4379936567\n",
      "20221114 total cash  2036076.3093446877\n",
      "**************************************************\n"
     ]
    }
   ],
   "source": [
    "total_bond_cash = 1000000\n",
    "total_stock_cash = 1000000\n",
    "total_cash_list = []\n",
    "target_pair_list = [\n",
    "'123046.SZ@300587.SZ.csv',\n",
    "'113016.SH@601127.SH.csv'\n",
    "# '128017.SZ@002597.SZ.csv',\n",
    "'113537.SH@603348.SH.csv',\n",
    "'113534.SH@603876.SH.csv',\n",
    "'123031.SZ@300655.SZ.csv',\n",
    "# '128029.SZ@002078.SZ.csv',\n",
    "'128111.SZ@002738.SZ.csv',\n",
    "'128095.SZ@002812.SZ.csv',\n",
    "'123092.SZ@300332.SZ.csv'\n",
    "]\n",
    "\n",
    "for date in dates[:]:\n",
    "    daily_csvs = os.listdir(path+f'/{date}')\n",
    "    pair_list = [i for i in daily_csvs if len(i.split('@'))==2] #当天观察的所有对子\n",
    "    print(date,'obeserve pairs: ',len(pair_list))\n",
    "    # print(date,'pair_list \\n',pair_list)\n",
    "    df_pair_open_list = []\n",
    "    for pair_csv in  pair_list:\n",
    "        \n",
    "        df_pair_tmp = pd.read_csv(f'{path}/{date}/{pair_csv}')\n",
    "        \n",
    "        if len(df_pair_tmp)==3: #触发信号的,并且对子在target list里的，才放进去\n",
    "            if pair_csv in target_pair_list:\n",
    "                df_pair_open_list.append(df_pair_tmp)\n",
    "    print('open pairs: ',len(df_pair_open_list))             \n",
    "    # pair_capital = total_cash/len(pair_list) # 持有的总现金除以当天观察的对子数目，即是等权分配到每个对子上的资金量\n",
    "    \n",
    "    for df_tmp in df_pair_open_list:\n",
    "        pair_signal = df_tmp['signal'].tolist()[1]\n",
    "\n",
    "        bond_price = df_tmp['bond price'].tolist()[1]\n",
    "        net_value = df_tmp['net value'].tolist()[2]\n",
    "        pair = df_tmp['pair'].tolist()[1]\n",
    "        # pair_pnl = pair_capital/bond_price*net_value\n",
    "        # print('single pair pnl:',pair_pnl)\n",
    "        if pair_signal == '1-1':\n",
    "            pair_capital = total_bond_cash/len(target_pair_list) #资金只分配在7个目标对子上\n",
    "            pair_pnl = pair_capital/bond_price*net_value\n",
    "            total_bond_cash += pair_pnl\n",
    "            print(f'pair {pair} pnl:',pair_pnl)\n",
    "        elif pair_signal == -11:\n",
    "            pair_capital = total_stock_cash/len(target_pair_list) #资金只分配在7个目标对子上\n",
    "            pair_pnl = pair_capital/bond_price*net_value\n",
    "            total_stock_cash += pair_pnl\n",
    "            print(f'pair {pair} pnl:',pair_pnl)\n",
    "    print(date,'total bond cash',total_bond_cash)\n",
    "    print(date,'total stock cash',total_stock_cash)\n",
    "    print(date,'total cash ',total_bond_cash+total_stock_cash)\n",
    "    total_cash_list.append(total_bond_cash+total_stock_cash)\n",
    "    print('*'*50)\n",
    "    # print(df_pair_open_list)\n",
    "# df_tmp     "
   ]
  },
  {
   "cell_type": "markdown",
   "metadata": {},
   "source": [
    "# total cash curve"
   ]
  },
  {
   "cell_type": "code",
   "execution_count": 7,
   "metadata": {},
   "outputs": [
    {
     "data": {
      "application/vnd.plotly.v1+json": {
       "config": {
        "plotlyServerURL": "https://plot.ly"
       },
       "data": [
        {
         "name": "total cash",
         "type": "scatter",
         "x": [
          "2022-09-09T00:00:00",
          "2022-09-13T00:00:00",
          "2022-09-14T00:00:00",
          "2022-09-15T00:00:00",
          "2022-09-16T00:00:00",
          "2022-09-19T00:00:00",
          "2022-09-20T00:00:00",
          "2022-09-21T00:00:00",
          "2022-09-22T00:00:00",
          "2022-09-23T00:00:00",
          "2022-09-26T00:00:00",
          "2022-09-27T00:00:00",
          "2022-09-28T00:00:00",
          "2022-09-29T00:00:00",
          "2022-09-30T00:00:00",
          "2022-10-10T00:00:00",
          "2022-10-11T00:00:00",
          "2022-10-12T00:00:00",
          "2022-10-13T00:00:00",
          "2022-10-14T00:00:00",
          "2022-10-17T00:00:00",
          "2022-10-18T00:00:00",
          "2022-10-19T00:00:00",
          "2022-10-20T00:00:00",
          "2022-10-21T00:00:00",
          "2022-10-24T00:00:00",
          "2022-10-25T00:00:00",
          "2022-10-26T00:00:00",
          "2022-10-27T00:00:00",
          "2022-10-28T00:00:00",
          "2022-10-31T00:00:00",
          "2022-11-01T00:00:00",
          "2022-11-02T00:00:00",
          "2022-11-03T00:00:00",
          "2022-11-04T00:00:00",
          "2022-11-07T00:00:00",
          "2022-11-08T00:00:00",
          "2022-11-09T00:00:00",
          "2022-11-10T00:00:00",
          "2022-11-11T00:00:00",
          "2022-11-14T00:00:00"
         ],
         "y": [
          1999700.1517820219,
          1997269.6646059053,
          1999442.301475453,
          2001369.7810989222,
          2002253.923729606,
          2003892.9771305392,
          2008574.156586696,
          2003083.5094104703,
          2005501.2024771078,
          2001884.5474265795,
          2003749.0348362029,
          2003831.9274271606,
          2000286.0076898858,
          1999266.0186321316,
          2001680.4693940887,
          2002536.87974499,
          2005301.5089857937,
          2004860.4303118926,
          2001992.5160037624,
          2000677.501962314,
          2003426.8174908329,
          2007588.7658465884,
          2009718.9531425368,
          2010913.1106988122,
          2008745.9849226396,
          2010839.0332857475,
          2016096.3575914546,
          2018589.064231901,
          2019487.4546450567,
          2024903.580929215,
          2015832.2072195248,
          2016371.1587148656,
          2015841.529002186,
          2019319.0161412158,
          2022660.9604411344,
          2019666.5462591434,
          2025577.9667621884,
          2027677.0316379427,
          2033918.1798205664,
          2035362.4283214891,
          2036076.3093446877
         ]
        }
       ],
       "layout": {
        "height": 500,
        "legend": {
         "title": {
          "text": ""
         },
         "x": 0.9,
         "y": 1.1
        },
        "template": {
         "data": {
          "bar": [
           {
            "error_x": {
             "color": "#2a3f5f"
            },
            "error_y": {
             "color": "#2a3f5f"
            },
            "marker": {
             "line": {
              "color": "#E5ECF6",
              "width": 0.5
             },
             "pattern": {
              "fillmode": "overlay",
              "size": 10,
              "solidity": 0.2
             }
            },
            "type": "bar"
           }
          ],
          "barpolar": [
           {
            "marker": {
             "line": {
              "color": "#E5ECF6",
              "width": 0.5
             },
             "pattern": {
              "fillmode": "overlay",
              "size": 10,
              "solidity": 0.2
             }
            },
            "type": "barpolar"
           }
          ],
          "carpet": [
           {
            "aaxis": {
             "endlinecolor": "#2a3f5f",
             "gridcolor": "white",
             "linecolor": "white",
             "minorgridcolor": "white",
             "startlinecolor": "#2a3f5f"
            },
            "baxis": {
             "endlinecolor": "#2a3f5f",
             "gridcolor": "white",
             "linecolor": "white",
             "minorgridcolor": "white",
             "startlinecolor": "#2a3f5f"
            },
            "type": "carpet"
           }
          ],
          "choropleth": [
           {
            "colorbar": {
             "outlinewidth": 0,
             "ticks": ""
            },
            "type": "choropleth"
           }
          ],
          "contour": [
           {
            "colorbar": {
             "outlinewidth": 0,
             "ticks": ""
            },
            "colorscale": [
             [
              0,
              "#0d0887"
             ],
             [
              0.1111111111111111,
              "#46039f"
             ],
             [
              0.2222222222222222,
              "#7201a8"
             ],
             [
              0.3333333333333333,
              "#9c179e"
             ],
             [
              0.4444444444444444,
              "#bd3786"
             ],
             [
              0.5555555555555556,
              "#d8576b"
             ],
             [
              0.6666666666666666,
              "#ed7953"
             ],
             [
              0.7777777777777778,
              "#fb9f3a"
             ],
             [
              0.8888888888888888,
              "#fdca26"
             ],
             [
              1,
              "#f0f921"
             ]
            ],
            "type": "contour"
           }
          ],
          "contourcarpet": [
           {
            "colorbar": {
             "outlinewidth": 0,
             "ticks": ""
            },
            "type": "contourcarpet"
           }
          ],
          "heatmap": [
           {
            "colorbar": {
             "outlinewidth": 0,
             "ticks": ""
            },
            "colorscale": [
             [
              0,
              "#0d0887"
             ],
             [
              0.1111111111111111,
              "#46039f"
             ],
             [
              0.2222222222222222,
              "#7201a8"
             ],
             [
              0.3333333333333333,
              "#9c179e"
             ],
             [
              0.4444444444444444,
              "#bd3786"
             ],
             [
              0.5555555555555556,
              "#d8576b"
             ],
             [
              0.6666666666666666,
              "#ed7953"
             ],
             [
              0.7777777777777778,
              "#fb9f3a"
             ],
             [
              0.8888888888888888,
              "#fdca26"
             ],
             [
              1,
              "#f0f921"
             ]
            ],
            "type": "heatmap"
           }
          ],
          "heatmapgl": [
           {
            "colorbar": {
             "outlinewidth": 0,
             "ticks": ""
            },
            "colorscale": [
             [
              0,
              "#0d0887"
             ],
             [
              0.1111111111111111,
              "#46039f"
             ],
             [
              0.2222222222222222,
              "#7201a8"
             ],
             [
              0.3333333333333333,
              "#9c179e"
             ],
             [
              0.4444444444444444,
              "#bd3786"
             ],
             [
              0.5555555555555556,
              "#d8576b"
             ],
             [
              0.6666666666666666,
              "#ed7953"
             ],
             [
              0.7777777777777778,
              "#fb9f3a"
             ],
             [
              0.8888888888888888,
              "#fdca26"
             ],
             [
              1,
              "#f0f921"
             ]
            ],
            "type": "heatmapgl"
           }
          ],
          "histogram": [
           {
            "marker": {
             "pattern": {
              "fillmode": "overlay",
              "size": 10,
              "solidity": 0.2
             }
            },
            "type": "histogram"
           }
          ],
          "histogram2d": [
           {
            "colorbar": {
             "outlinewidth": 0,
             "ticks": ""
            },
            "colorscale": [
             [
              0,
              "#0d0887"
             ],
             [
              0.1111111111111111,
              "#46039f"
             ],
             [
              0.2222222222222222,
              "#7201a8"
             ],
             [
              0.3333333333333333,
              "#9c179e"
             ],
             [
              0.4444444444444444,
              "#bd3786"
             ],
             [
              0.5555555555555556,
              "#d8576b"
             ],
             [
              0.6666666666666666,
              "#ed7953"
             ],
             [
              0.7777777777777778,
              "#fb9f3a"
             ],
             [
              0.8888888888888888,
              "#fdca26"
             ],
             [
              1,
              "#f0f921"
             ]
            ],
            "type": "histogram2d"
           }
          ],
          "histogram2dcontour": [
           {
            "colorbar": {
             "outlinewidth": 0,
             "ticks": ""
            },
            "colorscale": [
             [
              0,
              "#0d0887"
             ],
             [
              0.1111111111111111,
              "#46039f"
             ],
             [
              0.2222222222222222,
              "#7201a8"
             ],
             [
              0.3333333333333333,
              "#9c179e"
             ],
             [
              0.4444444444444444,
              "#bd3786"
             ],
             [
              0.5555555555555556,
              "#d8576b"
             ],
             [
              0.6666666666666666,
              "#ed7953"
             ],
             [
              0.7777777777777778,
              "#fb9f3a"
             ],
             [
              0.8888888888888888,
              "#fdca26"
             ],
             [
              1,
              "#f0f921"
             ]
            ],
            "type": "histogram2dcontour"
           }
          ],
          "mesh3d": [
           {
            "colorbar": {
             "outlinewidth": 0,
             "ticks": ""
            },
            "type": "mesh3d"
           }
          ],
          "parcoords": [
           {
            "line": {
             "colorbar": {
              "outlinewidth": 0,
              "ticks": ""
             }
            },
            "type": "parcoords"
           }
          ],
          "pie": [
           {
            "automargin": true,
            "type": "pie"
           }
          ],
          "scatter": [
           {
            "fillpattern": {
             "fillmode": "overlay",
             "size": 10,
             "solidity": 0.2
            },
            "type": "scatter"
           }
          ],
          "scatter3d": [
           {
            "line": {
             "colorbar": {
              "outlinewidth": 0,
              "ticks": ""
             }
            },
            "marker": {
             "colorbar": {
              "outlinewidth": 0,
              "ticks": ""
             }
            },
            "type": "scatter3d"
           }
          ],
          "scattercarpet": [
           {
            "marker": {
             "colorbar": {
              "outlinewidth": 0,
              "ticks": ""
             }
            },
            "type": "scattercarpet"
           }
          ],
          "scattergeo": [
           {
            "marker": {
             "colorbar": {
              "outlinewidth": 0,
              "ticks": ""
             }
            },
            "type": "scattergeo"
           }
          ],
          "scattergl": [
           {
            "marker": {
             "colorbar": {
              "outlinewidth": 0,
              "ticks": ""
             }
            },
            "type": "scattergl"
           }
          ],
          "scattermapbox": [
           {
            "marker": {
             "colorbar": {
              "outlinewidth": 0,
              "ticks": ""
             }
            },
            "type": "scattermapbox"
           }
          ],
          "scatterpolar": [
           {
            "marker": {
             "colorbar": {
              "outlinewidth": 0,
              "ticks": ""
             }
            },
            "type": "scatterpolar"
           }
          ],
          "scatterpolargl": [
           {
            "marker": {
             "colorbar": {
              "outlinewidth": 0,
              "ticks": ""
             }
            },
            "type": "scatterpolargl"
           }
          ],
          "scatterternary": [
           {
            "marker": {
             "colorbar": {
              "outlinewidth": 0,
              "ticks": ""
             }
            },
            "type": "scatterternary"
           }
          ],
          "surface": [
           {
            "colorbar": {
             "outlinewidth": 0,
             "ticks": ""
            },
            "colorscale": [
             [
              0,
              "#0d0887"
             ],
             [
              0.1111111111111111,
              "#46039f"
             ],
             [
              0.2222222222222222,
              "#7201a8"
             ],
             [
              0.3333333333333333,
              "#9c179e"
             ],
             [
              0.4444444444444444,
              "#bd3786"
             ],
             [
              0.5555555555555556,
              "#d8576b"
             ],
             [
              0.6666666666666666,
              "#ed7953"
             ],
             [
              0.7777777777777778,
              "#fb9f3a"
             ],
             [
              0.8888888888888888,
              "#fdca26"
             ],
             [
              1,
              "#f0f921"
             ]
            ],
            "type": "surface"
           }
          ],
          "table": [
           {
            "cells": {
             "fill": {
              "color": "#EBF0F8"
             },
             "line": {
              "color": "white"
             }
            },
            "header": {
             "fill": {
              "color": "#C8D4E3"
             },
             "line": {
              "color": "white"
             }
            },
            "type": "table"
           }
          ]
         },
         "layout": {
          "annotationdefaults": {
           "arrowcolor": "#2a3f5f",
           "arrowhead": 0,
           "arrowwidth": 1
          },
          "autotypenumbers": "strict",
          "coloraxis": {
           "colorbar": {
            "outlinewidth": 0,
            "ticks": ""
           }
          },
          "colorscale": {
           "diverging": [
            [
             0,
             "#8e0152"
            ],
            [
             0.1,
             "#c51b7d"
            ],
            [
             0.2,
             "#de77ae"
            ],
            [
             0.3,
             "#f1b6da"
            ],
            [
             0.4,
             "#fde0ef"
            ],
            [
             0.5,
             "#f7f7f7"
            ],
            [
             0.6,
             "#e6f5d0"
            ],
            [
             0.7,
             "#b8e186"
            ],
            [
             0.8,
             "#7fbc41"
            ],
            [
             0.9,
             "#4d9221"
            ],
            [
             1,
             "#276419"
            ]
           ],
           "sequential": [
            [
             0,
             "#0d0887"
            ],
            [
             0.1111111111111111,
             "#46039f"
            ],
            [
             0.2222222222222222,
             "#7201a8"
            ],
            [
             0.3333333333333333,
             "#9c179e"
            ],
            [
             0.4444444444444444,
             "#bd3786"
            ],
            [
             0.5555555555555556,
             "#d8576b"
            ],
            [
             0.6666666666666666,
             "#ed7953"
            ],
            [
             0.7777777777777778,
             "#fb9f3a"
            ],
            [
             0.8888888888888888,
             "#fdca26"
            ],
            [
             1,
             "#f0f921"
            ]
           ],
           "sequentialminus": [
            [
             0,
             "#0d0887"
            ],
            [
             0.1111111111111111,
             "#46039f"
            ],
            [
             0.2222222222222222,
             "#7201a8"
            ],
            [
             0.3333333333333333,
             "#9c179e"
            ],
            [
             0.4444444444444444,
             "#bd3786"
            ],
            [
             0.5555555555555556,
             "#d8576b"
            ],
            [
             0.6666666666666666,
             "#ed7953"
            ],
            [
             0.7777777777777778,
             "#fb9f3a"
            ],
            [
             0.8888888888888888,
             "#fdca26"
            ],
            [
             1,
             "#f0f921"
            ]
           ]
          },
          "colorway": [
           "#636efa",
           "#EF553B",
           "#00cc96",
           "#ab63fa",
           "#FFA15A",
           "#19d3f3",
           "#FF6692",
           "#B6E880",
           "#FF97FF",
           "#FECB52"
          ],
          "font": {
           "color": "#2a3f5f"
          },
          "geo": {
           "bgcolor": "white",
           "lakecolor": "white",
           "landcolor": "#E5ECF6",
           "showlakes": true,
           "showland": true,
           "subunitcolor": "white"
          },
          "hoverlabel": {
           "align": "left"
          },
          "hovermode": "closest",
          "mapbox": {
           "style": "light"
          },
          "paper_bgcolor": "white",
          "plot_bgcolor": "#E5ECF6",
          "polar": {
           "angularaxis": {
            "gridcolor": "white",
            "linecolor": "white",
            "ticks": ""
           },
           "bgcolor": "#E5ECF6",
           "radialaxis": {
            "gridcolor": "white",
            "linecolor": "white",
            "ticks": ""
           }
          },
          "scene": {
           "xaxis": {
            "backgroundcolor": "#E5ECF6",
            "gridcolor": "white",
            "gridwidth": 2,
            "linecolor": "white",
            "showbackground": true,
            "ticks": "",
            "zerolinecolor": "white"
           },
           "yaxis": {
            "backgroundcolor": "#E5ECF6",
            "gridcolor": "white",
            "gridwidth": 2,
            "linecolor": "white",
            "showbackground": true,
            "ticks": "",
            "zerolinecolor": "white"
           },
           "zaxis": {
            "backgroundcolor": "#E5ECF6",
            "gridcolor": "white",
            "gridwidth": 2,
            "linecolor": "white",
            "showbackground": true,
            "ticks": "",
            "zerolinecolor": "white"
           }
          },
          "shapedefaults": {
           "line": {
            "color": "#2a3f5f"
           }
          },
          "ternary": {
           "aaxis": {
            "gridcolor": "white",
            "linecolor": "white",
            "ticks": ""
           },
           "baxis": {
            "gridcolor": "white",
            "linecolor": "white",
            "ticks": ""
           },
           "bgcolor": "#E5ECF6",
           "caxis": {
            "gridcolor": "white",
            "linecolor": "white",
            "ticks": ""
           }
          },
          "title": {
           "x": 0.05
          },
          "xaxis": {
           "automargin": true,
           "gridcolor": "white",
           "linecolor": "white",
           "ticks": "",
           "title": {
            "standoff": 15
           },
           "zerolinecolor": "white",
           "zerolinewidth": 2
          },
          "yaxis": {
           "automargin": true,
           "gridcolor": "white",
           "linecolor": "white",
           "ticks": "",
           "title": {
            "standoff": 15
           },
           "zerolinecolor": "white",
           "zerolinewidth": 2
          }
         }
        },
        "title": {
         "text": "total cash",
         "x": 0.5
        },
        "width": 1200,
        "xaxis": {
         "tickformat": ""
        },
        "yaxis": {
         "title": {
          "text": ""
         }
        },
        "yaxis2": {
         "anchor": "x",
         "overlaying": "y",
         "side": "right"
        }
       }
      }
     },
     "metadata": {},
     "output_type": "display_data"
    }
   ],
   "source": [
    "import plotly.graph_objs as go\n",
    "df_total_cash = pd.DataFrame([])\n",
    "df_total_cash['date'] = dates \n",
    "df_total_cash['date'] = pd.to_datetime(df_total_cash['date'])\n",
    "df_total_cash['total cash'] = total_cash_list\n",
    "trace = go.Scatter(\n",
    "    x=df_total_cash['date'],\n",
    "    y=df_total_cash['total cash'],\n",
    "    name='total cash',\n",
    "    # xaxis='x', \n",
    "    # yaxis='y2'#标明设置一个不同于trace1的一个坐标轴\n",
    ")\n",
    "\n",
    "data = [trace]\n",
    "# https://blog.csdn.net/weixin_58587245/article/details/127315679 template 可选参数\n",
    "layout = go.Layout({\n",
    "                #    \"template\": 'simple_white',\n",
    "                #    \"template\": 'presentation',\n",
    "                #    \"template\": 'seaborn',\n",
    "                #    \"template\": 'ggplot2',\n",
    "                   \"title\":{\"text\": 'total cash', \"x\": 0.5}, \n",
    "                   \"xaxis\":{\"title\": {\"text\": None}, \"tickformat\": ''},\n",
    "                   \"yaxis\":{\"title\": {\"text\": \"\"}},\n",
    "                   \"yaxis2\": {'anchor': 'x', \"overlaying\": 'y', \"side\": 'right'}, #设置坐标轴的格式，一般次坐标轴在右侧\n",
    "                   \"legend\":{\"title\": {\"text\": \"\"}, \"x\": 0.9, \"y\": 1.1},\n",
    "                   \"width\": 1200,\n",
    "                   \"height\": 500})\n",
    " \n",
    "fig = go.Figure(data=data, layout=layout)\n",
    "fig.show()"
   ]
  }
 ],
 "metadata": {
  "kernelspec": {
   "display_name": "Python 3.9.7 ('base')",
   "language": "python",
   "name": "python3"
  },
  "language_info": {
   "codemirror_mode": {
    "name": "ipython",
    "version": 3
   },
   "file_extension": ".py",
   "mimetype": "text/x-python",
   "name": "python",
   "nbconvert_exporter": "python",
   "pygments_lexer": "ipython3",
   "version": "3.9.7"
  },
  "orig_nbformat": 4,
  "vscode": {
   "interpreter": {
    "hash": "4b7a3c99c09164ed3315a85b9be868456d78d186d21965e8a7155bab558fd18f"
   }
  }
 },
 "nbformat": 4,
 "nbformat_minor": 2
}
