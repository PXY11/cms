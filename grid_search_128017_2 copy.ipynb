{
 "cells": [
  {
   "cell_type": "markdown",
   "metadata": {},
   "source": [
    "# import data"
   ]
  },
  {
   "cell_type": "code",
   "execution_count": 1,
   "metadata": {},
   "outputs": [
    {
     "name": "stdout",
     "output_type": "stream",
     "text": [
      "dict_keys(['601127.SH', '113016.SH', '002597.SZ', '128017.SZ'])\n",
      "601127.SH  data length:  31702\n",
      "113016.SH  data length:  31702\n",
      "002597.SZ  data length:  31702\n",
      "128017.SZ  data length:  31702\n",
      "数据起始日期 2021-12-13 09:30:00\n",
      "数据结束日期 2022-06-29 15:00:00\n"
     ]
    }
   ],
   "source": [
    "import platform\n",
    "import pandas as pd\n",
    "from datetime import datetime, timedelta, time\n",
    "ohlcv_data = pd.read_pickle('/Users/bokie/code/python/CMS/可转债套利/cms/stock_data_min_113016_128017.pkl')\n",
    "print(ohlcv_data.keys())\n",
    "for k,v in ohlcv_data.items():\n",
    "    print(k,' data length: ',len(v))\n",
    "print('数据起始日期',v.index[0])\n",
    "print('数据结束日期',v.index[-1])\n",
    "# print('113642.SH数据起始日期',ohlcv_data['113642.SH'].index[0])\n",
    "# print('113642.SH数据结束日期',ohlcv_data['113642.SH'].index[-1])"
   ]
  },
  {
   "cell_type": "markdown",
   "metadata": {},
   "source": [
    "# bond-stock pair"
   ]
  },
  {
   "cell_type": "code",
   "execution_count": 2,
   "metadata": {},
   "outputs": [],
   "source": [
    "# cbond_pair = ['128081.SZ','002203.SZ']\n",
    "# part = 1\n",
    "# convert_price = 9.69\n",
    "# stock_volume = 100/convert_price #整个回测期间不变\n",
    "\n",
    "\n",
    "# cbond_pair = ['123046.SZ','300587.SZ']\n",
    "# part = 1 \n",
    "# convert_price = 6.73\n",
    "# stock_volume = 100/convert_price  # 2021-12-13至2022-03-22   # 等于可转债的前收盘价/股票的前收盘价\n",
    "# part = 2\n",
    "# convert_price = 6.74\n",
    "# stock_volume = 100/convert_price  # 2022-03-23至2022-06-28\n",
    "\n",
    "\n",
    "# cbond_pair = ['110061.SH','600674.SH']\n",
    "# part = 1\n",
    "# convert_price = 9.2\n",
    "# stock_volume = 100/convert_price #整个回测期间不变\n",
    "\n",
    "\n",
    "# cbond_pair = ['113642.SH','603185.SH']\n",
    "# part = 1\n",
    "# convert_price = 145.66\n",
    "# stock_volume = 100/convert_price  # 2022-04-06至2022-06-01\n",
    "# part = 2\n",
    "# convert_price = 102.61\n",
    "# stock_volume = 100/convert_price  # 2022-06-02至2022-06-28\n",
    "\n",
    "\n",
    "# cbond_pair = ['113016.SH','601127.SH']\n",
    "# part = 1\n",
    "# convert_price = 16.96\n",
    "# stock_volume = 100/convert_price #整个回测期间不变\n",
    "\n",
    "cbond_pair = ['128017.SZ','002597.SZ']\n",
    "# part = 1\n",
    "# convert_price = 21.97\n",
    "# stock_volume = 100/convert_price # 2021-12-13至2022-04-28\n",
    "part = 2\n",
    "convert_price = 21.33\n",
    "# stock_volume = 100/convert_price # 2022-04-29至2022-06-29\n"
   ]
  },
  {
   "cell_type": "code",
   "execution_count": 3,
   "metadata": {},
   "outputs": [],
   "source": [
    "cbond_pair_price = pd.DataFrame([])\n",
    "cbond_pair_price = pd.concat([ohlcv_data[cbond_pair[0]]['close'],ohlcv_data[cbond_pair[1]]['close']],axis=1)\n",
    "cbond_pair_price.columns = cbond_pair\n",
    "cbond_pair_price = cbond_pair_price.dropna()\n",
    "if cbond_pair[0] == '128081.SZ' or cbond_pair[0] == '110061.SH':\n",
    "    cbond_pair_price = cbond_pair_price.loc['2021-12-13 15:00:00':]\n",
    "elif cbond_pair[0] == '123046.SZ' and part == 1:\n",
    "    cbond_pair_price = cbond_pair_price.loc['2021-12-13 15:00:00':'2022-03-22 15:00:00']\n",
    "elif cbond_pair[0] == '123046.SZ' and part == 2:\n",
    "    cbond_pair_price = cbond_pair_price.loc['2022-03-22 15:00:00':]\n",
    "elif cbond_pair[0] == '113642.SH' and part == 1:\n",
    "    cbond_pair_price = cbond_pair_price.loc['2022-04-07 15:00:00':'2022-06-01 15:00:00']\n",
    "elif cbond_pair[0] == '113642.SH' and part == 2:\n",
    "    cbond_pair_price = cbond_pair_price.loc['2022-06-01 15:00:00':]\n",
    "\n",
    "\n",
    "elif cbond_pair[0] == '113016.SH':\n",
    "    cbond_pair_price = cbond_pair_price.loc['2021-12-13 15:00:00':]\n",
    "elif cbond_pair[0] == '128017.SZ' and part ==1:\n",
    "    cbond_pair_price = cbond_pair_price.loc['2021-12-13 15:00:00':'2022-04-28 15:00:00']\n",
    "elif cbond_pair[0] == '128017.SZ' and part ==2:\n",
    "    cbond_pair_price = cbond_pair_price.loc['2022-04-28 15:00:00':]\n"
   ]
  },
  {
   "cell_type": "markdown",
   "metadata": {},
   "source": [
    "# signal calculate"
   ]
  },
  {
   "cell_type": "code",
   "execution_count": 4,
   "metadata": {},
   "outputs": [
    {
     "data": {
      "text/plain": [
       "0"
      ]
     },
     "execution_count": 4,
     "metadata": {},
     "output_type": "execute_result"
    }
   ],
   "source": [
    "cbond_return = pd.DataFrame([])\n",
    "\n",
    "cbond_preclose = cbond_pair_price.iloc[0,0] # 初始时刻的bond前收盘价\n",
    "stock_preclose = cbond_pair_price.iloc[0,1] # 初始时刻的stock前收盘价\n",
    "\n",
    "for index,row in cbond_pair_price.iterrows():\n",
    "    \n",
    "    cbond_return.loc[index,cbond_pair[0]] = row[cbond_pair[0]]/cbond_preclose - 1 # 算日内的return\n",
    "    cbond_return.loc[index,cbond_pair[1]] = row[cbond_pair[1]]/stock_preclose - 1\n",
    "\n",
    "    if index.time()==time(15,0,0):  #算完日内return，迭代到今日价格的最后一个time bar的时候，将其设为前收盘价\n",
    "        cbond_preclose = row[cbond_pair[0]]    # 日内return指标用 现价/昨日收盘价 计算\n",
    "        stock_preclose = row[cbond_pair[1]]\n",
    "        \n",
    "# 检查df是否有空值\n",
    "cbond_return.isnull().sum(axis=0)  # 按列统计\n",
    "cbond_return.isnull().sum(axis=1) # 按行统计\n",
    "cbond_return.isnull().sum(axis=1).sum() # 统计整张表"
   ]
  },
  {
   "cell_type": "code",
   "execution_count": 5,
   "metadata": {},
   "outputs": [
    {
     "data": {
      "text/plain": [
       "9362"
      ]
     },
     "execution_count": 5,
     "metadata": {},
     "output_type": "execute_result"
    }
   ],
   "source": [
    "pd.set_option('display.max_rows', None)\n",
    "# pair moving trend: diff = cbond reutrn - stock return \n",
    "cbond_return['diff'] = cbond_return[cbond_pair[0]] - cbond_return[cbond_pair[1]]\n",
    "\n",
    "len(cbond_return)"
   ]
  },
  {
   "cell_type": "markdown",
   "metadata": {},
   "source": [
    "# grid search"
   ]
  },
  {
   "cell_type": "code",
   "execution_count": 6,
   "metadata": {},
   "outputs": [],
   "source": [
    "import warnings\n",
    "warnings.filterwarnings(\"ignore\")\n",
    "grid_search_res = {}\n",
    "signal_res = {}\n",
    "trade_res = {}"
   ]
  },
  {
   "cell_type": "code",
   "execution_count": 7,
   "metadata": {},
   "outputs": [
    {
     "name": "stdout",
     "output_type": "stream",
     "text": [
      "0.001@0\n",
      "0.002@0\n",
      "0.002@0.001\n",
      "0.003@0\n",
      "0.003@0.001\n",
      "0.003@0.002\n",
      "0.004@0\n",
      "0.004@0.001\n",
      "0.004@0.002\n",
      "0.004@0.003\n",
      "0.005@0\n",
      "0.005@0.001\n",
      "0.005@0.002\n",
      "0.005@0.003\n",
      "0.006@0\n",
      "0.006@0.001\n",
      "0.006@0.002\n",
      "0.006@0.003\n",
      "0.007@0\n",
      "0.007@0.001\n",
      "0.007@0.002\n",
      "0.007@0.003\n",
      "0.008@0\n",
      "0.008@0.001\n",
      "0.008@0.002\n",
      "0.008@0.003\n",
      "0.009@0\n",
      "0.009@0.001\n",
      "0.009@0.002\n",
      "0.009@0.003\n",
      "0.01@0\n",
      "0.01@0.001\n",
      "0.01@0.002\n",
      "0.01@0.003\n",
      "0.011@0\n",
      "0.011@0.001\n",
      "0.011@0.002\n",
      "0.011@0.003\n",
      "0.012@0\n",
      "0.012@0.001\n",
      "0.012@0.002\n",
      "0.012@0.003\n",
      "0.013@0\n",
      "0.013@0.001\n",
      "0.013@0.002\n",
      "0.013@0.003\n",
      "0.014@0\n",
      "0.014@0.001\n",
      "0.014@0.002\n",
      "0.014@0.003\n",
      "0.015@0\n",
      "0.015@0.001\n",
      "0.015@0.002\n",
      "0.015@0.003\n",
      "0.016@0\n",
      "0.016@0.001\n",
      "0.016@0.002\n",
      "0.016@0.003\n",
      "0.017@0\n",
      "0.017@0.001\n",
      "0.017@0.002\n",
      "0.017@0.003\n",
      "0.018@0\n",
      "0.018@0.001\n",
      "0.018@0.002\n",
      "0.018@0.003\n",
      "0.019@0\n",
      "0.019@0.001\n",
      "0.019@0.002\n",
      "0.019@0.003\n",
      "0.02@0\n",
      "0.02@0.001\n",
      "0.02@0.002\n",
      "0.02@0.003\n"
     ]
    }
   ],
   "source": [
    "# open_threshold_list = [\n",
    "#                         0.0031,0.0032,0.0035,0.004, # 新加参数\n",
    "#                         0.005,0.006,0.007,0.008,0.009, \n",
    "#                         0.01,0.011,0.012,0.013,0.014,0.015, # 0.005 ~ 0.01 ~ 0.015 间隔是0.001\n",
    "#                         0.016,0.017,0.018,0.019,0.020, # 新加参数\n",
    "#                         # 0.021,0.022,0.023,0.024,0.025,\n",
    "#                         # 0.026,0.027,0.028,0.029,0.03, # 新加参数\n",
    "#                         # 0.031,0.032,0.033,0.034,0.035,\n",
    "#                         # 0.036,0.037,0.038,0.039,0.04,\n",
    "#                         # 0.041,0.042,0.043,0.044,0.045,\n",
    "#                         ]\n",
    "open_threshold_list =[\n",
    "                        0.001,0.002,0.003,0.004,0.005,\n",
    "                        0.006,0.007,0.008,0.009,0.010,\n",
    "                        0.011,0.012,0.013,0.014,0.015,\n",
    "                        0.016,0.017,0.018,0.019,0.020,\n",
    "                        # 0.021,0.022,0.023,0.024,0.025,\n",
    "                        # 0.026,0.027,0.028,0.029,0.030,\n",
    "                        # 0.031,0.032,0.033,0.034,0.035\n",
    "                        ]\n",
    "close_threshold_list = [0,0.001,0.002,0.003] #  0 ~ 0.001 ~ 0.002 ~ 0.003\n",
    "for open_threshold in open_threshold_list:\n",
    "    for close_threshold in close_threshold_list:\n",
    "        ############################################################################################################################################\n",
    "        # open_threshold = 0.005  # 0.005 ~ 0.01 ~ 0.015 间隔是0.001\n",
    "        # open_threshold = 0.008\n",
    "        # close_threshold = 0.001 #  0 ~ 0.001 ~ 0.002 ~ 0.003\n",
    "        if open_threshold <= close_threshold:\n",
    "            continue \n",
    "        # 新增每日开仓数目记录\n",
    "        intraday_open_times = 0\n",
    "        max_open = 1\n",
    "\n",
    "        pos_open_flag = 0\n",
    "        neg_open_flag = 0\n",
    "        cbond_position = pd.DataFrame([])\n",
    "        cbond_position.index = cbond_return.index\n",
    "        for index,row in cbond_return.iterrows():\n",
    "\n",
    "            if row['diff'] >= open_threshold and pos_open_flag==0 and neg_open_flag==0:\n",
    "                if intraday_open_times < max_open:\n",
    "                    #diff落在A区间，且无仓位，正开\n",
    "                    pos_open_flag = 1\n",
    "                    neg_open_flag = 0\n",
    "                    cbond_position.loc[index,cbond_pair[0]] = -1*pos_open_flag\n",
    "                    cbond_position.loc[index,cbond_pair[1]] = pos_open_flag\n",
    "                    intraday_open_times += 1\n",
    "                else:\n",
    "                    pos_open_flag = 0\n",
    "                    neg_open_flag = 0\n",
    "                    cbond_position.loc[index,cbond_pair[0]] = -1*pos_open_flag\n",
    "                    cbond_position.loc[index,cbond_pair[1]] = pos_open_flag\n",
    "            elif row['diff'] >= open_threshold and pos_open_flag==0 and neg_open_flag==1:\n",
    "                if intraday_open_times < max_open:\n",
    "                    #diff落在A区间，且有负仓，平仓再正开\n",
    "                    pos_open_flag=1\n",
    "                    neg_open_flag=0\n",
    "                    cbond_position.loc[index,cbond_pair[0]] = -1*pos_open_flag\n",
    "                    cbond_position.loc[index,cbond_pair[1]] = pos_open_flag\n",
    "                    print('reverse open +1')\n",
    "                    intraday_open_times += 1\n",
    "                else:\n",
    "                    pos_open_flag = 0\n",
    "                    neg_open_flag = 0\n",
    "                    cbond_position.loc[index,cbond_pair[0]] = -1*pos_open_flag\n",
    "                    cbond_position.loc[index,cbond_pair[1]] = pos_open_flag\n",
    "            elif row['diff'] >= open_threshold and pos_open_flag==1 and neg_open_flag==0:\n",
    "                #diff落在A区间，且有正仓，keep\n",
    "                pos_open_flag=1\n",
    "                neg_open_flag=0\n",
    "                cbond_position.loc[index,cbond_pair[0]] = -1*pos_open_flag\n",
    "                cbond_position.loc[index,cbond_pair[1]] = pos_open_flag\n",
    "\n",
    "            if row['diff'] > close_threshold and row['diff'] < open_threshold and pos_open_flag==1 and neg_open_flag==0:\n",
    "                #diff 落在B区间，且有正仓，keep\n",
    "                pos_open_flag=1\n",
    "                neg_open_flag=0\n",
    "                cbond_position.loc[index,cbond_pair[0]] = -1*pos_open_flag\n",
    "                cbond_position.loc[index,cbond_pair[1]] = pos_open_flag\n",
    "            elif row['diff'] > close_threshold and row['diff'] < open_threshold and pos_open_flag==0 and neg_open_flag==1:\n",
    "                #diff 落在B区间，且有负仓，平仓\n",
    "                pos_open_flag=0\n",
    "                neg_open_flag=0\n",
    "                cbond_position.loc[index,cbond_pair[0]] = neg_open_flag\n",
    "                cbond_position.loc[index,cbond_pair[1]] = neg_open_flag\n",
    "            elif row['diff'] > close_threshold and row['diff'] < open_threshold and pos_open_flag==0 and neg_open_flag==0:\n",
    "                #diff 落在B区间，且无仓，keep\n",
    "                pos_open_flag=0\n",
    "                neg_open_flag=0\n",
    "                cbond_position.loc[index,cbond_pair[0]] = neg_open_flag\n",
    "                cbond_position.loc[index,cbond_pair[1]] = neg_open_flag\n",
    "            \n",
    "            if row['diff'] >= -1*close_threshold and row['diff'] <= close_threshold and pos_open_flag==1 and neg_open_flag==0:\n",
    "                #diff 落在C区间，且有正仓，平仓\n",
    "                pos_open_flag=0\n",
    "                neg_open_flag=0\n",
    "                cbond_position.loc[index,cbond_pair[0]] = pos_open_flag\n",
    "                cbond_position.loc[index,cbond_pair[1]] = pos_open_flag\n",
    "            elif row['diff'] >= -1*close_threshold and row['diff'] <= close_threshold and pos_open_flag==0 and neg_open_flag==1:\n",
    "                #diff 落在C区间，且有负仓，平仓\n",
    "                pos_open_flag=0\n",
    "                neg_open_flag=0\n",
    "                cbond_position.loc[index,cbond_pair[0]] = neg_open_flag\n",
    "                cbond_position.loc[index,cbond_pair[1]] = neg_open_flag\n",
    "            elif row['diff'] >= -1*close_threshold and row['diff'] <= close_threshold and pos_open_flag==0 and neg_open_flag==0:\n",
    "                #diff 落在C区间，且无仓位，keep\n",
    "                pos_open_flag=0\n",
    "                neg_open_flag=0\n",
    "                cbond_position.loc[index,cbond_pair[0]] = neg_open_flag\n",
    "                cbond_position.loc[index,cbond_pair[1]] = neg_open_flag\n",
    "            \n",
    "            if row['diff'] > -1*open_threshold and row['diff'] < -1*close_threshold and pos_open_flag==0 and neg_open_flag==1:\n",
    "                #diff 落在D区间，且有负仓，keep\n",
    "                pos_open_flag=0\n",
    "                neg_open_flag=1\n",
    "                cbond_position.loc[index,cbond_pair[0]] = neg_open_flag\n",
    "                cbond_position.loc[index,cbond_pair[1]] = -1*neg_open_flag\n",
    "\n",
    "            elif row['diff'] > -1*open_threshold and row['diff'] < -1*close_threshold and pos_open_flag==1 and neg_open_flag==0:\n",
    "                #diff 落在D区间，且有正仓，平仓\n",
    "                pos_open_flag=0\n",
    "                neg_open_flag=0\n",
    "                cbond_position.loc[index,cbond_pair[0]] = pos_open_flag\n",
    "                cbond_position.loc[index,cbond_pair[1]] = pos_open_flag\n",
    "            elif row['diff'] > -1*open_threshold and row['diff'] < -1*close_threshold and pos_open_flag==0 and neg_open_flag==0:\n",
    "                #diff 落在D区间，且无仓位，keep\n",
    "                pos_open_flag=0\n",
    "                neg_open_flag=0\n",
    "                cbond_position.loc[index,cbond_pair[0]] = pos_open_flag\n",
    "                cbond_position.loc[index,cbond_pair[1]] = pos_open_flag\n",
    "\n",
    "            if row['diff'] <= -1*open_threshold and pos_open_flag==0 and neg_open_flag==0:\n",
    "                if intraday_open_times < max_open:\n",
    "                    #diff 落在E区间，且无仓位，反开\n",
    "                    pos_open_flag=0\n",
    "                    neg_open_flag=1\n",
    "                    cbond_position.loc[index,cbond_pair[0]] = neg_open_flag\n",
    "                    cbond_position.loc[index,cbond_pair[1]] = -1*neg_open_flag\n",
    "                    intraday_open_times += 1\n",
    "                else:\n",
    "                    pos_open_flag=0\n",
    "                    neg_open_flag=0\n",
    "                    cbond_position.loc[index,cbond_pair[0]] = neg_open_flag\n",
    "                    cbond_position.loc[index,cbond_pair[1]] = -1*neg_open_flag\n",
    "            elif row['diff'] <= -1*open_threshold and pos_open_flag==1 and neg_open_flag==0:\n",
    "                if intraday_open_times < max_open:\n",
    "                    #diff 落在E区间，且有正仓，平仓反开\n",
    "                    pos_open_flag=0\n",
    "                    neg_open_flag=1\n",
    "                    cbond_position.loc[index,cbond_pair[0]] = neg_open_flag\n",
    "                    cbond_position.loc[index,cbond_pair[1]] = -1*neg_open_flag\n",
    "                    intraday_open_times += 1\n",
    "                else:\n",
    "                    pos_open_flag=0\n",
    "                    neg_open_flag=0\n",
    "                    cbond_position.loc[index,cbond_pair[0]] = neg_open_flag\n",
    "                    cbond_position.loc[index,cbond_pair[1]] = -1*neg_open_flag\n",
    "            elif row['diff'] <= -1*open_threshold and pos_open_flag==0 and neg_open_flag==1:\n",
    "                #diff 落在E区间，且有负仓，keep\n",
    "                pos_open_flag=0\n",
    "                neg_open_flag=1\n",
    "                cbond_position.loc[index,cbond_pair[0]] = neg_open_flag\n",
    "                cbond_position.loc[index,cbond_pair[1]] = -1*neg_open_flag\n",
    "\n",
    "            if index.time()==time(15,0,0): # 每日收盘时必须平仓（时间止损信号）\n",
    "                intraday_open_times = 0 # 下一天开盘前，把当日记录下来的开仓次数清零\n",
    "                pos_open_flag=0\n",
    "                neg_open_flag=0\n",
    "                cbond_position.loc[index,cbond_pair[0]] = pos_open_flag\n",
    "                cbond_position.loc[index,cbond_pair[1]] = pos_open_flag\n",
    "\n",
    "        ############################################################################################################################################\n",
    "\n",
    "        df_signal = pd.concat([cbond_pair_price,cbond_return,cbond_position],axis=1)\n",
    "        df_signal.columns = ['bond_price','stock_price','bond_rtn','stock_rtn','diff','bond_pos','stock_pos']\n",
    "        # df_signal\n",
    "        ############################################################################################################################################\n",
    "        # backtest\n",
    "        # 用来记录交易流水的表格,一边遍历df_signal，一边填入内容到流水表格里\n",
    "\n",
    "        import numpy as np\n",
    "        cols = ['balance','signal','bond price','stock price','bond hold','stock hold','commission','tax','reverse open','diff','asset value']\n",
    "        df_trade = pd.DataFrame(\n",
    "            data = [[0,np.nan,np.nan,np.nan,0,0,0,0,np.nan,np.nan,0]],\n",
    "            columns=cols\n",
    "            ) \n",
    "\n",
    "        balance_last = 0 # 现金账户初始余额\n",
    "\n",
    "        bond_hold = 0 # 债券持有数量\n",
    "        stock_hold = 0 # 股票持有数量\n",
    "\n",
    "        commission_rate = 2/10000 # 佣金买卖万二\n",
    "        tax_rate = 1/1000 #\n",
    "\n",
    "\n",
    "\n",
    "\n",
    "        for i in range(len(df_signal)-1):\n",
    "            if df_signal.index[i].time() == time(15,0,0):\n",
    "                # 修改stock volume 每天固定一个stock volume 应该用债的前收盘价/股票的前收盘价\n",
    "                stock_volume = df_signal['bond_price'][i]/df_signal['stock_price'][i]\n",
    "\n",
    "            if df_signal.values[i][-1] != df_signal.values[i+1][-1]:\n",
    "                index = df_signal.index[i+1]\n",
    "                diff = df_signal.values[i+1][-3] #diff在df_signal中的倒数第三列\n",
    "            # df_signal的columns\n",
    "            # ['bond_price','stock_price','bond_rtn','stock_rtn','diff','bond_pos','stock_pos']\n",
    "                signal = str(int(df_signal.values[i+1][-2]))+str(int(df_signal.values[i+1][-1]))\n",
    "                \n",
    "                bond_price = df_signal.values[i+1][0] \n",
    "\n",
    "                stock_price = df_signal.values[i+1][1]\n",
    "\n",
    "                stock_volume =  bond_price/stock_price # 修改stock volume 每天固定一个stock volume应该用债的前收盘价/股票的前收盘价\n",
    "\n",
    "                commission = (bond_price + stock_price * stock_volume) * commission_rate\n",
    "\n",
    "                reverse_open = False #表明这笔交易，是否包含平仓后再反向开仓的操作\n",
    "\n",
    "                if signal == '00' and stock_hold == stock_volume: #有股票持仓并且需要卖出平仓时，有印花税\n",
    "                    tax = stock_price * tax_rate * stock_volume\n",
    "                else:\n",
    "                    tax = 0\n",
    "\n",
    "                if signal == '00':\n",
    "                    balance_last += bond_hold*bond_price\n",
    "                    balance_last += stock_hold*stock_price\n",
    "                    \n",
    "                    bond_hold = 0\n",
    "                    stock_hold = 0\n",
    "                    \n",
    "\n",
    "                if signal == '1-1':\n",
    "                    '''\n",
    "                    加一个检测之前持仓的模块,如果之前因为-11的信号有持仓,需要先平掉(即买债卖股票),同时再反向开仓\n",
    "                    '''\n",
    "                    reverse_flag = False\n",
    "                    if bond_hold == -1 and stock_hold == 1*stock_volume:\n",
    "                        bond_hold = 0\n",
    "                        stock_hold = 0\n",
    "                        balance_last -= bond_price \n",
    "                        balance_last += stock_price * stock_volume\n",
    "                        commission *= 2 # 因为平掉之后再反向开仓，手续费double\n",
    "                        tax = stock_price * tax_rate * stock_volume # 卖股票要收印花税\n",
    "                        reverse_flag = True\n",
    "                        reverse_open = True\n",
    "\n",
    "                    bond_hold += 1\n",
    "                    stock_hold += (-1 * stock_volume)\n",
    "                    # stock_hold += stock_volume\n",
    "                    balance_last -= bond_price\n",
    "                    balance_last += stock_price * stock_volume\n",
    "                    \n",
    "                    if reverse_flag:\n",
    "                        tax *= 2 #平仓然后反向开仓的时候 已经计算过tax了，直接double\n",
    "                    else:\n",
    "                        tax = stock_price * tax_rate * stock_volume # 卖股票要收印花税\n",
    "\n",
    "                if signal == '-11':\n",
    "                    '''\n",
    "                    加一个检测之前持仓的模块,如果之前因为1-1的信号有持仓,需要先平掉(卖债买股票),同时再反向开仓\n",
    "                    '''\n",
    "                    if bond_hold == 1 and stock_hold == -1*stock_volume:\n",
    "                        bond_hold = 0\n",
    "                        stock_hold = 0\n",
    "                        balance_last += bond_price\n",
    "                        balance_last -= stock_price * stock_volume\n",
    "                        commission *= 2 # 因为平掉之后再反向开仓，手续费double\n",
    "                                        # 买股票无印花税\n",
    "                        reverse_open = True\n",
    "                    bond_hold += -1\n",
    "                    stock_hold += (1 * stock_volume)\n",
    "                    # stock_hold += stock_volume\n",
    "                    balance_last += bond_price\n",
    "                    balance_last -= stock_price * stock_volume\n",
    "                \n",
    "                balance_last = balance_last - commission - tax\n",
    "                balance = balance_last\n",
    "                asset_value = bond_price*bond_hold + stock_price*stock_hold\n",
    "                line = [balance,signal,bond_price,stock_price,bond_hold,stock_hold,commission,tax,reverse_open,diff,asset_value]\n",
    "                # df_trade.loc[index,['balance','asset','signal','bond price','stock price','commission','tax']] = line\n",
    "                # df_trade.loc[index,cols] = [0,0,np.nan,np.nan,np.nan,0,0,0,0]\n",
    "                df_trade.loc[index,cols] = line\n",
    "        df_trade.rename(columns={'balance':'cash'},inplace=True)    \n",
    "        ############################################################################################################################################\n",
    "        # 错误的net value计算方法\n",
    "        # df_trade['net value'] = df_trade['balance'] + \\\n",
    "        #                         df_trade['bond price']*df_trade['bond hold'] + \\\n",
    "        #                         df_trade['stock price']*df_trade['stock hold'] - \\\n",
    "        #                         df_trade['commission'] - \\\n",
    "        #                         df_trade['tax']\n",
    "        # 正确的net value计算方法\n",
    "        # df_trade['net value'] = df_trade['balance'] + df_trade['asset value']\n",
    "        df_trade['net value'] = df_trade['cash'] + df_trade['asset value']\n",
    "        ############################################################################################################################################\n",
    "        #把交易序列单个时间节点的扩展到整个序列\n",
    "        # assert False\n",
    "        df_nv = df_trade[['net value']].iloc[1:]\n",
    "        df_nv['time'] = df_nv.index\n",
    "        df_tmp = df_signal[['diff']]\n",
    "        df_tmp['time'] = df_tmp.index\n",
    "        #  merge之后再前向往后fillna\n",
    "        df_nv_full =  pd.merge(df_nv,df_tmp,how='outer').sort_values(by='time').fillna(method='ffill').fillna(0)\n",
    "        df_nv_full.index = df_tmp.index\n",
    "        df_nv_full = df_nv_full[['net value']]\n",
    "\n",
    "        ############################################################################################################################################\n",
    "        df_trade_2 = df_trade.copy(deep=True)\n",
    "        df_trade_2 = df_trade_2.iloc[1:,:] #删掉df_trade原来构建时带有的空行\n",
    "        rounds = [] #只包含单个来回，每2条交易记录组成一个来回的组\n",
    "        reverse_rounds = [] # 包含多个来回，信号之间包含平仓同时反向开仓的组\n",
    "        # for i in range(len(df_trade)-1,0,-1):\n",
    "        for i in range(len(df_trade)-1,-1,-1):\n",
    "            if df_trade_2.iloc[i-1,:]['signal'] == '00':\n",
    "                round = df_trade_2.iloc[i:,:]\n",
    "                if len(round)>2:\n",
    "                    reverse_rounds.append(round)\n",
    "                elif len(round)==2:\n",
    "                    rounds.append(round)\n",
    "                df_trade_2 = df_trade_2.iloc[:i]\n",
    "        ############################################################################################################################################\n",
    "        #检查切片是否完全\n",
    "        clips_length = 0\n",
    "        for tmp_round in rounds:\n",
    "            clips_length += len(tmp_round)\n",
    "        for tmp_round in reverse_rounds:\n",
    "            clips_length += len(tmp_round)\n",
    "\n",
    "        ############################################################################################################################################\n",
    "        num_round = len(rounds)\n",
    "        for i in reverse_rounds:\n",
    "            num_round += len(i)-1\n",
    "\n",
    "        ############################################################################################################################################\n",
    "        # normal round stat\n",
    "        return_in_rounds = []\n",
    "        win = 0\n",
    "        lose = 0\n",
    "        win_profit = 0\n",
    "        lose_profit = 0\n",
    "        for i in rounds:\n",
    "            \n",
    "            tmp_profit = (i['net value'] - i['net value'].shift(1)).values[-1]- i['commission'].values[0] - i['tax'].values[0] # 修正单个normal round的 profit计算方式\n",
    "            single_round_cost = (i['bond price'].sum() + (i['stock price']*stock_volume).sum())/4\n",
    "            \n",
    "            return_in_round = tmp_profit/single_round_cost\n",
    "            return_in_rounds.append(return_in_round)\n",
    "            \n",
    "            \n",
    "            if tmp_profit>0:\n",
    "                win += 1\n",
    "                win_profit += tmp_profit\n",
    "            else:\n",
    "                lose += 1\n",
    "                lose_profit += tmp_profit\n",
    "\n",
    "        ############################################################################################################################################\n",
    "        ''' \n",
    "        先把连续反向开仓的信号拆开\n",
    "        e.g.  1-1 -11 00 ---> 1-1 00 -11 00\n",
    "        '''\n",
    "\n",
    "        reverse_rounds_reconstruct = []\n",
    "        for reverse_round in reverse_rounds:\n",
    "            reverse_rounds0_reconstruct = []\n",
    "            for i in range(0,len(reverse_round)-1): #4-2\n",
    "\n",
    "                # tmp_cols = reverse_rounds[0].columns\n",
    "                # tmp_index = reverse_rounds[0].iloc[i,:].reset_index()\n",
    "                m = reverse_round.iloc[i,:].tolist()\n",
    "                n = reverse_round.iloc[i+1,:].tolist()\n",
    "                # reverse_rounds0_reconstruct.append(m)\n",
    "                tmp_balance = m[0] + n[2]*m[4] + n[3]*m[5] \n",
    "                tmp_commission = n[6]/2\n",
    "                tmp_tax = n[7]/2\n",
    "                tmp_nv =  tmp_balance - tmp_commission - tmp_tax\n",
    "                \n",
    "                insert_line  = [tmp_balance,'00',np.nan,np.nan,0,0,tmp_commission,tmp_tax,'-',tmp_nv]\n",
    "                reverse_rounds0_reconstruct.append(m)\n",
    "                reverse_rounds0_reconstruct.append(insert_line)\n",
    "            # reverse_rounds0_reconstruct.append(n)    \n",
    "            tmp_cols = reverse_round.columns\n",
    "            reverse_rounds0_reconstruct[-1] = reverse_round.iloc[-1,:].tolist()\n",
    "            tmp_round = pd.DataFrame(reverse_rounds0_reconstruct[:],columns=tmp_cols)\n",
    "            tmp_round\n",
    "            for index,row in tmp_round.iterrows():\n",
    "                if row['reverse open'] == True:\n",
    "                    tmp_round.loc[index,['commission','tax']] = tmp_round.loc[index,['commission','tax']]/2\n",
    "            tmp_round = tmp_round.fillna(method = 'bfill')\n",
    "            \n",
    "            # print(tmp_round)\n",
    "            # tmp_round['new nv'] = tmp_round['balance'] + tmp_round['bond price']*tmp_round['bond hold'] + tmp_round['stock price']*tmp_round['stock hold'] - tmp_round['commission'] - tmp_round['tax']\n",
    "            for i in range(len(tmp_round)-2): #把拆分出来的虚拟平仓的balance赋值为nv，因为没持仓时，cash应该要等于nv\n",
    "                if tmp_round.iloc[i,:]['signal'] == '00':\n",
    "\n",
    "                    tmp_round_new_nv = tmp_round.iloc[i,:]['cash'] + tmp_round.iloc[i,:]['bond price']*tmp_round.iloc[i,:]['bond hold'] + \\\n",
    "                        tmp_round.iloc[i,:]['stock price']*tmp_round.iloc[i,:]['stock hold'] - tmp_round.iloc[i,:]['commission'] - tmp_round.iloc[i,:]['tax']\n",
    "\n",
    "                    tmp_round.iloc[i,11] = tmp_round_new_nv #  net value赋值为new nv  拆出来的虚拟平仓单计算出来的新值\n",
    "                    tmp_round.iloc[i,0] = tmp_round_new_nv #balance赋值为new nv\n",
    "                    tmp_round.iloc[i,9] = tmp_round.iloc[i+1,9] # diff要等于下一行的diff\n",
    "                    tmp_round.iloc[i,10] = 0 # asset_value要等于0\n",
    "            \n",
    "            reverse_rounds_reconstruct.append(tmp_round)\n",
    "\n",
    "        reverse_rounds_detail = []\n",
    "        for reverse_round in reverse_rounds_reconstruct:\n",
    "            # print(len(reverse_round))\n",
    "            for i in range(0,len(reverse_round)-1,2):\n",
    "                df_tmp = reverse_round.iloc[i:i+2,:]\n",
    "                reverse_rounds_detail.append(df_tmp)\n",
    "\n",
    "        ##########################################################################################################################################\n",
    "        # reverse round stat\n",
    "        # return_in_rounds = []\n",
    "        # win = 0\n",
    "        # lose = 0\n",
    "        # win_profit = 0\n",
    "        # lose_profit = 0\n",
    "        for i in reverse_rounds_detail:\n",
    "            \n",
    "            # tmp_profit = (i['new nv'] - i['new nv'].shift(1)).values[-1]\n",
    "            tmp_profit = (i['net value'] - i['net value'].shift(1)).values[-1]- i['commission'].values[0] - i['tax'].values[0] # 修正单个reverse rounds detail的 profit计算方式\n",
    "            single_round_cost = (i['bond price'].sum() + (i['stock price']*stock_volume).sum())/4\n",
    "            \n",
    "            return_in_round = tmp_profit/single_round_cost\n",
    "            return_in_rounds.append(return_in_round)\n",
    "            \n",
    "            \n",
    "            if tmp_profit>0:\n",
    "                win += 1\n",
    "                win_profit += tmp_profit\n",
    "            else:\n",
    "                lose += 1\n",
    "                lose_profit += tmp_profit\n",
    "\n",
    "        ############################################################################################################################################\n",
    "        # close by time&signal stat\n",
    "        close_by_time = 0\n",
    "        close_by_time_win = 0\n",
    "        close_by_time_lose = 0\n",
    "\n",
    "        close_by_signal = 0\n",
    "        close_by_signal_win = 0\n",
    "        close_by_signal_lose = 0\n",
    "\n",
    "        for tmp_round in rounds:\n",
    "            tmp_profit = tmp_round['net value'].tolist()[1] - tmp_round['net value'].tolist()[0]- tmp_round['commission'].values[0] - tmp_round['tax'].values[0] # 修正单个normal round的 profit计算方式\n",
    "            if tmp_round.index[1].time() == time(15,0,0):\n",
    "                close_by_time += 1\n",
    "                if tmp_profit > 0:\n",
    "                    close_by_time_win += 1\n",
    "                else:\n",
    "                    close_by_time_lose += 1\n",
    "            else:\n",
    "                close_by_signal += 1\n",
    "                if tmp_profit > 0:\n",
    "                    close_by_signal_win += 1\n",
    "                else:\n",
    "                    close_by_signal_lose += 1\n",
    "\n",
    "\n",
    "        ############################################################################################################################################\n",
    "\n",
    "        for tmp_round in reverse_rounds_detail: #统计reverse_rounds_detail的时候，所有round都当做是close by signal的\n",
    "            # tmp_profit = tmp_round['new nv'].tolist()[1] - tmp_round['new nv'].tolist()[0]  \n",
    "            tmp_profit = tmp_round['net value'].tolist()[1] - tmp_round['net value'].tolist()[0] - tmp_round['commission'].values[0] - tmp_round['tax'].values[0] # 修正单个normal round的 profit计算方式\n",
    "            close_by_signal += 1\n",
    "            if tmp_profit > 0:\n",
    "                close_by_signal_win += 1\n",
    "            else:\n",
    "                close_by_signal_lose += 1\n",
    "        if len(reverse_rounds) == 1:  #解决只有1个元素时，for循环范围失效的bug\n",
    "            if reverse_rounds[0].index[-1].time()==time(15,0,0):\n",
    "                close_by_time += 1\n",
    "                close_by_signal -= 1\n",
    "                # tmp_profit = reverse_rounds_reconstruct[i]['new nv'].tolist()[-1] - reverse_rounds_reconstruct[i]['new nv'].tolist()[-2]\n",
    "                # 修正单个reverse rounds detail的 profit计算方式\n",
    "                tmp_profit = reverse_rounds_reconstruct[0]['net value'].tolist()[-1] - reverse_rounds_reconstruct[0]['net value'].tolist()[-2]\\\n",
    "                            - reverse_rounds_reconstruct[0]['commission'].values[0] - reverse_rounds_reconstruct[0]['tax'].values[0]\n",
    "                if tmp_profit > 0:\n",
    "                    close_by_time_win += 1\n",
    "                    close_by_signal_win -= 1\n",
    "                else:\n",
    "                    close_by_time_lose += 1\n",
    "                    close_by_signal_lose -= 1      \n",
    "                    \n",
    "        else:\n",
    "\n",
    "            for i in range(len(reverse_rounds)-1):\n",
    "                if reverse_rounds[i].index[-1].time()==time(15,0,0):\n",
    "                    close_by_time += 1\n",
    "                    close_by_signal -= 1\n",
    "                    # tmp_profit = reverse_rounds_reconstruct[i]['new nv'].tolist()[-1] - reverse_rounds_reconstruct[i]['new nv'].tolist()[-2]\n",
    "                    # 修正单个reverse rounds detail的 profit计算方式\n",
    "                    tmp_profit = reverse_rounds_reconstruct[i]['net value'].tolist()[-1] - reverse_rounds_reconstruct[i]['net value'].tolist()[-2]\\\n",
    "                                - reverse_rounds_reconstruct[i]['commission'].values[0] - reverse_rounds_reconstruct[i]['tax'].values[0]\n",
    "                    \n",
    "                    if tmp_profit > 0:\n",
    "                        close_by_time_win += 1\n",
    "                        close_by_signal_win -= 1\n",
    "                    else:\n",
    "                        close_by_time_lose += 1\n",
    "                        close_by_signal_lose -= 1      \n",
    "\n",
    "\n",
    "        ############################################################################################################################################\n",
    "        # final performance\n",
    "        win_rate = win/(win+lose)\n",
    "        win_profit_avg = win_profit/win\n",
    "        lose_profit_avg = lose_profit/lose\n",
    "        profit_ratio = win_profit_avg/abs(lose_profit_avg)\n",
    "\n",
    "        total_round = win + lose \n",
    "\n",
    "        trade_days = len(df_nv_full.resample('D').last().dropna()) -1 \n",
    "        round_per_day = total_round/trade_days\n",
    "        return_per_round = sum(return_in_rounds)/len(return_in_rounds)\n",
    "\n",
    "\n",
    "        ############################################################################################################################################\n",
    "        df_res = pd.DataFrame(data = [[np.nan]*20],\n",
    "            columns=['cbond pair','convert price','win','lose','win profit','lose profit',\n",
    "            'sum of win&lose profit','final net value','win rate',\n",
    "            'profit ratio','trade days','total round','avg round in a day','return per round',\n",
    "            'close by time','close by time win','close by time lose',\n",
    "            'close by signal','close by signal win','close by signal lose'])\n",
    "\n",
    "        tmp_idx = str(df_trade.index[1]) + ' -> ' + str(df_trade.index[-1])\n",
    "        tmp_line = [cbond_pair,convert_price,win,lose,win_profit,lose_profit,\n",
    "                    win_profit+lose_profit,df_trade['net value'].values[-1],win_rate,\n",
    "                    profit_ratio,trade_days,total_round,round_per_day,return_per_round,\n",
    "                    close_by_time,close_by_time_win,close_by_time_lose,\n",
    "                    close_by_signal,close_by_signal_win,close_by_signal_lose]\n",
    "\n",
    "        df_res.loc[tmp_idx,df_res.columns] = tmp_line\n",
    "        df_res = df_res.dropna()\n",
    "        df_res\n",
    "        ############################################################################################################################################\n",
    "        # df_res = pd.DataFrame(data = [[np.nan]*20],\n",
    "        #     columns=['cbond pair','convert price','win','lose','win profit','lose profit',\n",
    "        #     'sum of win&lose profit','final net value','win rate',\n",
    "        #     'profit ratio','trade days','total round','avg round in a day','return per round',\n",
    "        #     'close by time','close by time win','close by time lose',\n",
    "        #     'close by signal','close by signal win','close by signal lose'])\n",
    "\n",
    "        # tmp_idx = str(df_trade.index[1]) + ' -> ' + str(df_trade.index[-1])\n",
    "        # tmp_line = [cbond_pair,convert_price,win,lose,win_profit,lose_profit,\n",
    "        #             win_profit+lose_profit,df_trade['net value'].values[-1],win_rate,\n",
    "        #             profit_ratio,trade_days,total_round,round_per_day,return_per_round,\n",
    "        #             close_by_time,close_by_time_win,close_by_time_lose,\n",
    "        #             close_by_signal,close_by_signal_win,close_by_signal_lose]\n",
    "\n",
    "        # df_res.loc[tmp_idx,df_res.columns] = tmp_line\n",
    "        # df_res = df_res.dropna()\n",
    "        df_res['open threshold'] = open_threshold\n",
    "        df_res['close threshold'] = close_threshold\n",
    "\n",
    "        tmp_key = str(open_threshold) +'@'+ str(close_threshold)\n",
    "        grid_search_res[tmp_key] = df_res\n",
    "        signal_res[tmp_key] = df_signal \n",
    "        trade_res[tmp_key] = df_trade\n",
    "        print(tmp_key)"
   ]
  },
  {
   "cell_type": "markdown",
   "metadata": {},
   "source": [
    "# grid search result"
   ]
  },
  {
   "cell_type": "code",
   "execution_count": 8,
   "metadata": {},
   "outputs": [],
   "source": [
    "# print(len(rounds))\n",
    "# print(len(df_trade))\n",
    "# rounds[0]"
   ]
  },
  {
   "cell_type": "code",
   "execution_count": 9,
   "metadata": {},
   "outputs": [],
   "source": [
    "# print(trade_res.keys())\n",
    "# import matplotlib.pyplot as plt\n",
    "\n",
    "# trade_res['0.045@0.003']['net value'].plot()\n",
    "# plt.show()\n",
    "\n",
    "# trade_res['0.0031@0']['net value'].plot()"
   ]
  },
  {
   "cell_type": "code",
   "execution_count": 10,
   "metadata": {},
   "outputs": [],
   "source": [
    "df_grid_search_res =  pd.concat(list(grid_search_res.values()),axis=0)"
   ]
  },
  {
   "cell_type": "code",
   "execution_count": 11,
   "metadata": {},
   "outputs": [
    {
     "data": {
      "text/html": [
       "<div>\n",
       "<style scoped>\n",
       "    .dataframe tbody tr th:only-of-type {\n",
       "        vertical-align: middle;\n",
       "    }\n",
       "\n",
       "    .dataframe tbody tr th {\n",
       "        vertical-align: top;\n",
       "    }\n",
       "\n",
       "    .dataframe thead th {\n",
       "        text-align: right;\n",
       "    }\n",
       "</style>\n",
       "<table border=\"1\" class=\"dataframe\">\n",
       "  <thead>\n",
       "    <tr style=\"text-align: right;\">\n",
       "      <th></th>\n",
       "      <th>cbond pair</th>\n",
       "      <th>convert price</th>\n",
       "      <th>win</th>\n",
       "      <th>lose</th>\n",
       "      <th>win profit</th>\n",
       "      <th>lose profit</th>\n",
       "      <th>sum of win&amp;lose profit</th>\n",
       "      <th>final net value</th>\n",
       "      <th>win rate</th>\n",
       "      <th>profit ratio</th>\n",
       "      <th>...</th>\n",
       "      <th>avg round in a day</th>\n",
       "      <th>return per round</th>\n",
       "      <th>close by time</th>\n",
       "      <th>close by time win</th>\n",
       "      <th>close by time lose</th>\n",
       "      <th>close by signal</th>\n",
       "      <th>close by signal win</th>\n",
       "      <th>close by signal lose</th>\n",
       "      <th>open threshold</th>\n",
       "      <th>close threshold</th>\n",
       "    </tr>\n",
       "  </thead>\n",
       "  <tbody>\n",
       "    <tr>\n",
       "      <th>2022-04-29 09:30:00 -&gt; 2022-06-29 09:44:00</th>\n",
       "      <td>[128017.SZ, 002597.SZ]</td>\n",
       "      <td>21.33</td>\n",
       "      <td>35.0</td>\n",
       "      <td>5.0</td>\n",
       "      <td>39.227711</td>\n",
       "      <td>-7.741370</td>\n",
       "      <td>31.486341</td>\n",
       "      <td>31.486341</td>\n",
       "      <td>0.875000</td>\n",
       "      <td>0.723898</td>\n",
       "      <td>...</td>\n",
       "      <td>1.000</td>\n",
       "      <td>0.003971</td>\n",
       "      <td>9.0</td>\n",
       "      <td>4.0</td>\n",
       "      <td>5.0</td>\n",
       "      <td>31.0</td>\n",
       "      <td>31.0</td>\n",
       "      <td>0.0</td>\n",
       "      <td>0.001</td>\n",
       "      <td>0.000</td>\n",
       "    </tr>\n",
       "    <tr>\n",
       "      <th>2022-04-29 09:30:00 -&gt; 2022-06-29 09:44:00</th>\n",
       "      <td>[128017.SZ, 002597.SZ]</td>\n",
       "      <td>21.33</td>\n",
       "      <td>34.0</td>\n",
       "      <td>6.0</td>\n",
       "      <td>39.900192</td>\n",
       "      <td>-8.570456</td>\n",
       "      <td>31.329735</td>\n",
       "      <td>31.329735</td>\n",
       "      <td>0.850000</td>\n",
       "      <td>0.821568</td>\n",
       "      <td>...</td>\n",
       "      <td>1.000</td>\n",
       "      <td>0.003953</td>\n",
       "      <td>10.0</td>\n",
       "      <td>4.0</td>\n",
       "      <td>6.0</td>\n",
       "      <td>30.0</td>\n",
       "      <td>30.0</td>\n",
       "      <td>0.0</td>\n",
       "      <td>0.002</td>\n",
       "      <td>0.000</td>\n",
       "    </tr>\n",
       "    <tr>\n",
       "      <th>2022-04-29 09:30:00 -&gt; 2022-06-29 09:35:00</th>\n",
       "      <td>[128017.SZ, 002597.SZ]</td>\n",
       "      <td>21.33</td>\n",
       "      <td>36.0</td>\n",
       "      <td>4.0</td>\n",
       "      <td>36.136964</td>\n",
       "      <td>-4.638291</td>\n",
       "      <td>31.498673</td>\n",
       "      <td>31.498673</td>\n",
       "      <td>0.900000</td>\n",
       "      <td>0.865668</td>\n",
       "      <td>...</td>\n",
       "      <td>1.000</td>\n",
       "      <td>0.003951</td>\n",
       "      <td>6.0</td>\n",
       "      <td>3.0</td>\n",
       "      <td>3.0</td>\n",
       "      <td>34.0</td>\n",
       "      <td>33.0</td>\n",
       "      <td>1.0</td>\n",
       "      <td>0.002</td>\n",
       "      <td>0.001</td>\n",
       "    </tr>\n",
       "    <tr>\n",
       "      <th>2022-04-29 09:30:00 -&gt; 2022-06-29 09:44:00</th>\n",
       "      <td>[128017.SZ, 002597.SZ]</td>\n",
       "      <td>21.33</td>\n",
       "      <td>34.0</td>\n",
       "      <td>6.0</td>\n",
       "      <td>42.054689</td>\n",
       "      <td>-8.570456</td>\n",
       "      <td>33.484233</td>\n",
       "      <td>33.484233</td>\n",
       "      <td>0.850000</td>\n",
       "      <td>0.865930</td>\n",
       "      <td>...</td>\n",
       "      <td>1.000</td>\n",
       "      <td>0.004231</td>\n",
       "      <td>10.0</td>\n",
       "      <td>4.0</td>\n",
       "      <td>6.0</td>\n",
       "      <td>30.0</td>\n",
       "      <td>30.0</td>\n",
       "      <td>0.0</td>\n",
       "      <td>0.003</td>\n",
       "      <td>0.000</td>\n",
       "    </tr>\n",
       "    <tr>\n",
       "      <th>2022-04-29 09:30:00 -&gt; 2022-06-29 09:35:00</th>\n",
       "      <td>[128017.SZ, 002597.SZ]</td>\n",
       "      <td>21.33</td>\n",
       "      <td>37.0</td>\n",
       "      <td>3.0</td>\n",
       "      <td>37.743600</td>\n",
       "      <td>-4.561868</td>\n",
       "      <td>33.181732</td>\n",
       "      <td>33.181732</td>\n",
       "      <td>0.925000</td>\n",
       "      <td>0.670842</td>\n",
       "      <td>...</td>\n",
       "      <td>1.000</td>\n",
       "      <td>0.004169</td>\n",
       "      <td>6.0</td>\n",
       "      <td>3.0</td>\n",
       "      <td>3.0</td>\n",
       "      <td>34.0</td>\n",
       "      <td>34.0</td>\n",
       "      <td>0.0</td>\n",
       "      <td>0.003</td>\n",
       "      <td>0.001</td>\n",
       "    </tr>\n",
       "    <tr>\n",
       "      <th>2022-04-29 09:30:00 -&gt; 2022-06-29 09:34:00</th>\n",
       "      <td>[128017.SZ, 002597.SZ]</td>\n",
       "      <td>21.33</td>\n",
       "      <td>35.0</td>\n",
       "      <td>5.0</td>\n",
       "      <td>35.900459</td>\n",
       "      <td>-4.669502</td>\n",
       "      <td>31.230957</td>\n",
       "      <td>31.230957</td>\n",
       "      <td>0.875000</td>\n",
       "      <td>1.098326</td>\n",
       "      <td>...</td>\n",
       "      <td>1.000</td>\n",
       "      <td>0.003925</td>\n",
       "      <td>4.0</td>\n",
       "      <td>1.0</td>\n",
       "      <td>3.0</td>\n",
       "      <td>36.0</td>\n",
       "      <td>34.0</td>\n",
       "      <td>2.0</td>\n",
       "      <td>0.003</td>\n",
       "      <td>0.002</td>\n",
       "    </tr>\n",
       "    <tr>\n",
       "      <th>2022-04-29 09:30:00 -&gt; 2022-06-29 09:44:00</th>\n",
       "      <td>[128017.SZ, 002597.SZ]</td>\n",
       "      <td>21.33</td>\n",
       "      <td>33.0</td>\n",
       "      <td>7.0</td>\n",
       "      <td>46.267836</td>\n",
       "      <td>-8.863813</td>\n",
       "      <td>37.404024</td>\n",
       "      <td>37.404024</td>\n",
       "      <td>0.825000</td>\n",
       "      <td>1.107242</td>\n",
       "      <td>...</td>\n",
       "      <td>1.000</td>\n",
       "      <td>0.004694</td>\n",
       "      <td>11.0</td>\n",
       "      <td>4.0</td>\n",
       "      <td>7.0</td>\n",
       "      <td>29.0</td>\n",
       "      <td>29.0</td>\n",
       "      <td>0.0</td>\n",
       "      <td>0.004</td>\n",
       "      <td>0.000</td>\n",
       "    </tr>\n",
       "    <tr>\n",
       "      <th>2022-04-29 09:30:00 -&gt; 2022-06-29 09:35:00</th>\n",
       "      <td>[128017.SZ, 002597.SZ]</td>\n",
       "      <td>21.33</td>\n",
       "      <td>37.0</td>\n",
       "      <td>3.0</td>\n",
       "      <td>43.017605</td>\n",
       "      <td>-4.561868</td>\n",
       "      <td>38.455737</td>\n",
       "      <td>38.455737</td>\n",
       "      <td>0.925000</td>\n",
       "      <td>0.764580</td>\n",
       "      <td>...</td>\n",
       "      <td>1.000</td>\n",
       "      <td>0.004811</td>\n",
       "      <td>6.0</td>\n",
       "      <td>3.0</td>\n",
       "      <td>3.0</td>\n",
       "      <td>34.0</td>\n",
       "      <td>34.0</td>\n",
       "      <td>0.0</td>\n",
       "      <td>0.004</td>\n",
       "      <td>0.001</td>\n",
       "    </tr>\n",
       "    <tr>\n",
       "      <th>2022-04-29 09:30:00 -&gt; 2022-06-29 09:34:00</th>\n",
       "      <td>[128017.SZ, 002597.SZ]</td>\n",
       "      <td>21.33</td>\n",
       "      <td>37.0</td>\n",
       "      <td>3.0</td>\n",
       "      <td>40.726725</td>\n",
       "      <td>-4.561868</td>\n",
       "      <td>36.164857</td>\n",
       "      <td>36.164857</td>\n",
       "      <td>0.925000</td>\n",
       "      <td>0.723863</td>\n",
       "      <td>...</td>\n",
       "      <td>1.000</td>\n",
       "      <td>0.004525</td>\n",
       "      <td>4.0</td>\n",
       "      <td>1.0</td>\n",
       "      <td>3.0</td>\n",
       "      <td>36.0</td>\n",
       "      <td>36.0</td>\n",
       "      <td>0.0</td>\n",
       "      <td>0.004</td>\n",
       "      <td>0.002</td>\n",
       "    </tr>\n",
       "    <tr>\n",
       "      <th>2022-04-29 09:30:00 -&gt; 2022-06-29 09:34:00</th>\n",
       "      <td>[128017.SZ, 002597.SZ]</td>\n",
       "      <td>21.33</td>\n",
       "      <td>37.0</td>\n",
       "      <td>3.0</td>\n",
       "      <td>33.192376</td>\n",
       "      <td>-4.561868</td>\n",
       "      <td>28.630508</td>\n",
       "      <td>28.630508</td>\n",
       "      <td>0.925000</td>\n",
       "      <td>0.589950</td>\n",
       "      <td>...</td>\n",
       "      <td>1.000</td>\n",
       "      <td>0.003575</td>\n",
       "      <td>4.0</td>\n",
       "      <td>1.0</td>\n",
       "      <td>3.0</td>\n",
       "      <td>36.0</td>\n",
       "      <td>36.0</td>\n",
       "      <td>0.0</td>\n",
       "      <td>0.004</td>\n",
       "      <td>0.003</td>\n",
       "    </tr>\n",
       "    <tr>\n",
       "      <th>2022-04-29 09:30:00 -&gt; 2022-06-29 09:44:00</th>\n",
       "      <td>[128017.SZ, 002597.SZ]</td>\n",
       "      <td>21.33</td>\n",
       "      <td>32.0</td>\n",
       "      <td>8.0</td>\n",
       "      <td>46.448389</td>\n",
       "      <td>-10.054859</td>\n",
       "      <td>36.393530</td>\n",
       "      <td>36.393530</td>\n",
       "      <td>0.800000</td>\n",
       "      <td>1.154874</td>\n",
       "      <td>...</td>\n",
       "      <td>1.000</td>\n",
       "      <td>0.004569</td>\n",
       "      <td>12.0</td>\n",
       "      <td>4.0</td>\n",
       "      <td>8.0</td>\n",
       "      <td>28.0</td>\n",
       "      <td>28.0</td>\n",
       "      <td>0.0</td>\n",
       "      <td>0.005</td>\n",
       "      <td>0.000</td>\n",
       "    </tr>\n",
       "    <tr>\n",
       "      <th>2022-04-29 09:30:00 -&gt; 2022-06-29 09:35:00</th>\n",
       "      <td>[128017.SZ, 002597.SZ]</td>\n",
       "      <td>21.33</td>\n",
       "      <td>36.0</td>\n",
       "      <td>4.0</td>\n",
       "      <td>43.144674</td>\n",
       "      <td>-5.752915</td>\n",
       "      <td>37.391759</td>\n",
       "      <td>37.391759</td>\n",
       "      <td>0.900000</td>\n",
       "      <td>0.833291</td>\n",
       "      <td>...</td>\n",
       "      <td>1.000</td>\n",
       "      <td>0.004680</td>\n",
       "      <td>7.0</td>\n",
       "      <td>3.0</td>\n",
       "      <td>4.0</td>\n",
       "      <td>33.0</td>\n",
       "      <td>33.0</td>\n",
       "      <td>0.0</td>\n",
       "      <td>0.005</td>\n",
       "      <td>0.001</td>\n",
       "    </tr>\n",
       "    <tr>\n",
       "      <th>2022-04-29 09:30:00 -&gt; 2022-06-29 09:34:00</th>\n",
       "      <td>[128017.SZ, 002597.SZ]</td>\n",
       "      <td>21.33</td>\n",
       "      <td>36.0</td>\n",
       "      <td>4.0</td>\n",
       "      <td>41.092190</td>\n",
       "      <td>-5.752915</td>\n",
       "      <td>35.339275</td>\n",
       "      <td>35.339275</td>\n",
       "      <td>0.900000</td>\n",
       "      <td>0.793650</td>\n",
       "      <td>...</td>\n",
       "      <td>1.000</td>\n",
       "      <td>0.004426</td>\n",
       "      <td>5.0</td>\n",
       "      <td>1.0</td>\n",
       "      <td>4.0</td>\n",
       "      <td>35.0</td>\n",
       "      <td>35.0</td>\n",
       "      <td>0.0</td>\n",
       "      <td>0.005</td>\n",
       "      <td>0.002</td>\n",
       "    </tr>\n",
       "    <tr>\n",
       "      <th>2022-04-29 09:30:00 -&gt; 2022-06-29 09:34:00</th>\n",
       "      <td>[128017.SZ, 002597.SZ]</td>\n",
       "      <td>21.33</td>\n",
       "      <td>37.0</td>\n",
       "      <td>3.0</td>\n",
       "      <td>33.964359</td>\n",
       "      <td>-4.561868</td>\n",
       "      <td>29.402491</td>\n",
       "      <td>29.402491</td>\n",
       "      <td>0.925000</td>\n",
       "      <td>0.603671</td>\n",
       "      <td>...</td>\n",
       "      <td>1.000</td>\n",
       "      <td>0.003667</td>\n",
       "      <td>4.0</td>\n",
       "      <td>1.0</td>\n",
       "      <td>3.0</td>\n",
       "      <td>36.0</td>\n",
       "      <td>36.0</td>\n",
       "      <td>0.0</td>\n",
       "      <td>0.005</td>\n",
       "      <td>0.003</td>\n",
       "    </tr>\n",
       "    <tr>\n",
       "      <th>2022-04-29 09:30:00 -&gt; 2022-06-29 09:44:00</th>\n",
       "      <td>[128017.SZ, 002597.SZ]</td>\n",
       "      <td>21.33</td>\n",
       "      <td>29.0</td>\n",
       "      <td>11.0</td>\n",
       "      <td>46.303995</td>\n",
       "      <td>-12.291758</td>\n",
       "      <td>34.012237</td>\n",
       "      <td>34.012237</td>\n",
       "      <td>0.725000</td>\n",
       "      <td>1.428891</td>\n",
       "      <td>...</td>\n",
       "      <td>1.000</td>\n",
       "      <td>0.004283</td>\n",
       "      <td>15.0</td>\n",
       "      <td>4.0</td>\n",
       "      <td>11.0</td>\n",
       "      <td>25.0</td>\n",
       "      <td>25.0</td>\n",
       "      <td>0.0</td>\n",
       "      <td>0.006</td>\n",
       "      <td>0.000</td>\n",
       "    </tr>\n",
       "    <tr>\n",
       "      <th>2022-04-29 09:30:00 -&gt; 2022-06-29 09:35:00</th>\n",
       "      <td>[128017.SZ, 002597.SZ]</td>\n",
       "      <td>21.33</td>\n",
       "      <td>34.0</td>\n",
       "      <td>6.0</td>\n",
       "      <td>45.083093</td>\n",
       "      <td>-8.656925</td>\n",
       "      <td>36.426168</td>\n",
       "      <td>36.426168</td>\n",
       "      <td>0.850000</td>\n",
       "      <td>0.919015</td>\n",
       "      <td>...</td>\n",
       "      <td>1.000</td>\n",
       "      <td>0.004571</td>\n",
       "      <td>9.0</td>\n",
       "      <td>3.0</td>\n",
       "      <td>6.0</td>\n",
       "      <td>31.0</td>\n",
       "      <td>31.0</td>\n",
       "      <td>0.0</td>\n",
       "      <td>0.006</td>\n",
       "      <td>0.001</td>\n",
       "    </tr>\n",
       "    <tr>\n",
       "      <th>2022-04-29 09:30:00 -&gt; 2022-06-29 09:34:00</th>\n",
       "      <td>[128017.SZ, 002597.SZ]</td>\n",
       "      <td>21.33</td>\n",
       "      <td>34.0</td>\n",
       "      <td>6.0</td>\n",
       "      <td>42.596473</td>\n",
       "      <td>-8.656925</td>\n",
       "      <td>33.939548</td>\n",
       "      <td>33.939548</td>\n",
       "      <td>0.850000</td>\n",
       "      <td>0.868325</td>\n",
       "      <td>...</td>\n",
       "      <td>1.000</td>\n",
       "      <td>0.004258</td>\n",
       "      <td>7.0</td>\n",
       "      <td>1.0</td>\n",
       "      <td>6.0</td>\n",
       "      <td>33.0</td>\n",
       "      <td>33.0</td>\n",
       "      <td>0.0</td>\n",
       "      <td>0.006</td>\n",
       "      <td>0.002</td>\n",
       "    </tr>\n",
       "    <tr>\n",
       "      <th>2022-04-29 09:30:00 -&gt; 2022-06-29 09:34:00</th>\n",
       "      <td>[128017.SZ, 002597.SZ]</td>\n",
       "      <td>21.33</td>\n",
       "      <td>36.0</td>\n",
       "      <td>4.0</td>\n",
       "      <td>39.961925</td>\n",
       "      <td>-7.180684</td>\n",
       "      <td>32.781241</td>\n",
       "      <td>32.781241</td>\n",
       "      <td>0.900000</td>\n",
       "      <td>0.618355</td>\n",
       "      <td>...</td>\n",
       "      <td>1.000</td>\n",
       "      <td>0.004096</td>\n",
       "      <td>5.0</td>\n",
       "      <td>1.0</td>\n",
       "      <td>4.0</td>\n",
       "      <td>35.0</td>\n",
       "      <td>35.0</td>\n",
       "      <td>0.0</td>\n",
       "      <td>0.006</td>\n",
       "      <td>0.003</td>\n",
       "    </tr>\n",
       "    <tr>\n",
       "      <th>2022-04-29 09:30:00 -&gt; 2022-06-29 09:44:00</th>\n",
       "      <td>[128017.SZ, 002597.SZ]</td>\n",
       "      <td>21.33</td>\n",
       "      <td>29.0</td>\n",
       "      <td>10.0</td>\n",
       "      <td>48.831406</td>\n",
       "      <td>-10.534108</td>\n",
       "      <td>38.297298</td>\n",
       "      <td>38.297298</td>\n",
       "      <td>0.743590</td>\n",
       "      <td>1.598466</td>\n",
       "      <td>...</td>\n",
       "      <td>0.975</td>\n",
       "      <td>0.004931</td>\n",
       "      <td>15.0</td>\n",
       "      <td>5.0</td>\n",
       "      <td>10.0</td>\n",
       "      <td>24.0</td>\n",
       "      <td>24.0</td>\n",
       "      <td>0.0</td>\n",
       "      <td>0.007</td>\n",
       "      <td>0.000</td>\n",
       "    </tr>\n",
       "    <tr>\n",
       "      <th>2022-04-29 09:30:00 -&gt; 2022-06-29 09:35:00</th>\n",
       "      <td>[128017.SZ, 002597.SZ]</td>\n",
       "      <td>21.33</td>\n",
       "      <td>32.0</td>\n",
       "      <td>7.0</td>\n",
       "      <td>48.598622</td>\n",
       "      <td>-8.789066</td>\n",
       "      <td>39.809556</td>\n",
       "      <td>39.809556</td>\n",
       "      <td>0.820513</td>\n",
       "      <td>1.209565</td>\n",
       "      <td>...</td>\n",
       "      <td>0.975</td>\n",
       "      <td>0.005106</td>\n",
       "      <td>10.0</td>\n",
       "      <td>3.0</td>\n",
       "      <td>7.0</td>\n",
       "      <td>29.0</td>\n",
       "      <td>29.0</td>\n",
       "      <td>0.0</td>\n",
       "      <td>0.007</td>\n",
       "      <td>0.001</td>\n",
       "    </tr>\n",
       "    <tr>\n",
       "      <th>2022-04-29 09:30:00 -&gt; 2022-06-29 09:34:00</th>\n",
       "      <td>[128017.SZ, 002597.SZ]</td>\n",
       "      <td>21.33</td>\n",
       "      <td>33.0</td>\n",
       "      <td>6.0</td>\n",
       "      <td>47.504947</td>\n",
       "      <td>-8.399969</td>\n",
       "      <td>39.104978</td>\n",
       "      <td>39.104978</td>\n",
       "      <td>0.846154</td>\n",
       "      <td>1.028249</td>\n",
       "      <td>...</td>\n",
       "      <td>0.975</td>\n",
       "      <td>0.005018</td>\n",
       "      <td>7.0</td>\n",
       "      <td>1.0</td>\n",
       "      <td>6.0</td>\n",
       "      <td>32.0</td>\n",
       "      <td>32.0</td>\n",
       "      <td>0.0</td>\n",
       "      <td>0.007</td>\n",
       "      <td>0.002</td>\n",
       "    </tr>\n",
       "    <tr>\n",
       "      <th>2022-04-29 09:30:00 -&gt; 2022-06-29 09:34:00</th>\n",
       "      <td>[128017.SZ, 002597.SZ]</td>\n",
       "      <td>21.33</td>\n",
       "      <td>35.0</td>\n",
       "      <td>4.0</td>\n",
       "      <td>44.697424</td>\n",
       "      <td>-6.923728</td>\n",
       "      <td>37.773696</td>\n",
       "      <td>37.773696</td>\n",
       "      <td>0.897436</td>\n",
       "      <td>0.737793</td>\n",
       "      <td>...</td>\n",
       "      <td>0.975</td>\n",
       "      <td>0.004830</td>\n",
       "      <td>5.0</td>\n",
       "      <td>1.0</td>\n",
       "      <td>4.0</td>\n",
       "      <td>34.0</td>\n",
       "      <td>34.0</td>\n",
       "      <td>0.0</td>\n",
       "      <td>0.007</td>\n",
       "      <td>0.003</td>\n",
       "    </tr>\n",
       "    <tr>\n",
       "      <th>2022-04-29 09:30:00 -&gt; 2022-06-29 09:44:00</th>\n",
       "      <td>[128017.SZ, 002597.SZ]</td>\n",
       "      <td>21.33</td>\n",
       "      <td>27.0</td>\n",
       "      <td>11.0</td>\n",
       "      <td>51.416993</td>\n",
       "      <td>-13.261018</td>\n",
       "      <td>38.155974</td>\n",
       "      <td>38.155974</td>\n",
       "      <td>0.710526</td>\n",
       "      <td>1.579642</td>\n",
       "      <td>...</td>\n",
       "      <td>0.950</td>\n",
       "      <td>0.005061</td>\n",
       "      <td>16.0</td>\n",
       "      <td>5.0</td>\n",
       "      <td>11.0</td>\n",
       "      <td>22.0</td>\n",
       "      <td>22.0</td>\n",
       "      <td>0.0</td>\n",
       "      <td>0.008</td>\n",
       "      <td>0.000</td>\n",
       "    </tr>\n",
       "    <tr>\n",
       "      <th>2022-04-29 09:30:00 -&gt; 2022-06-29 09:35:00</th>\n",
       "      <td>[128017.SZ, 002597.SZ]</td>\n",
       "      <td>21.33</td>\n",
       "      <td>29.0</td>\n",
       "      <td>9.0</td>\n",
       "      <td>49.802347</td>\n",
       "      <td>-12.030089</td>\n",
       "      <td>37.772258</td>\n",
       "      <td>37.772258</td>\n",
       "      <td>0.763158</td>\n",
       "      <td>1.284770</td>\n",
       "      <td>...</td>\n",
       "      <td>0.950</td>\n",
       "      <td>0.005000</td>\n",
       "      <td>12.0</td>\n",
       "      <td>3.0</td>\n",
       "      <td>9.0</td>\n",
       "      <td>26.0</td>\n",
       "      <td>26.0</td>\n",
       "      <td>0.0</td>\n",
       "      <td>0.008</td>\n",
       "      <td>0.001</td>\n",
       "    </tr>\n",
       "    <tr>\n",
       "      <th>2022-04-29 09:30:00 -&gt; 2022-06-29 09:34:00</th>\n",
       "      <td>[128017.SZ, 002597.SZ]</td>\n",
       "      <td>21.33</td>\n",
       "      <td>30.0</td>\n",
       "      <td>8.0</td>\n",
       "      <td>48.925296</td>\n",
       "      <td>-11.804624</td>\n",
       "      <td>37.120672</td>\n",
       "      <td>37.120672</td>\n",
       "      <td>0.789474</td>\n",
       "      <td>1.105223</td>\n",
       "      <td>...</td>\n",
       "      <td>0.950</td>\n",
       "      <td>0.004917</td>\n",
       "      <td>9.0</td>\n",
       "      <td>1.0</td>\n",
       "      <td>8.0</td>\n",
       "      <td>29.0</td>\n",
       "      <td>29.0</td>\n",
       "      <td>0.0</td>\n",
       "      <td>0.008</td>\n",
       "      <td>0.002</td>\n",
       "    </tr>\n",
       "    <tr>\n",
       "      <th>2022-04-29 09:30:00 -&gt; 2022-06-29 09:34:00</th>\n",
       "      <td>[128017.SZ, 002597.SZ]</td>\n",
       "      <td>21.33</td>\n",
       "      <td>32.0</td>\n",
       "      <td>6.0</td>\n",
       "      <td>46.075353</td>\n",
       "      <td>-10.328383</td>\n",
       "      <td>35.746970</td>\n",
       "      <td>35.746970</td>\n",
       "      <td>0.842105</td>\n",
       "      <td>0.836445</td>\n",
       "      <td>...</td>\n",
       "      <td>0.950</td>\n",
       "      <td>0.004716</td>\n",
       "      <td>7.0</td>\n",
       "      <td>1.0</td>\n",
       "      <td>6.0</td>\n",
       "      <td>31.0</td>\n",
       "      <td>31.0</td>\n",
       "      <td>0.0</td>\n",
       "      <td>0.008</td>\n",
       "      <td>0.003</td>\n",
       "    </tr>\n",
       "    <tr>\n",
       "      <th>2022-04-29 09:30:00 -&gt; 2022-06-29 09:44:00</th>\n",
       "      <td>[128017.SZ, 002597.SZ]</td>\n",
       "      <td>21.33</td>\n",
       "      <td>24.0</td>\n",
       "      <td>14.0</td>\n",
       "      <td>48.989131</td>\n",
       "      <td>-17.265618</td>\n",
       "      <td>31.723513</td>\n",
       "      <td>31.723513</td>\n",
       "      <td>0.631579</td>\n",
       "      <td>1.655139</td>\n",
       "      <td>...</td>\n",
       "      <td>0.950</td>\n",
       "      <td>0.004182</td>\n",
       "      <td>20.0</td>\n",
       "      <td>6.0</td>\n",
       "      <td>14.0</td>\n",
       "      <td>18.0</td>\n",
       "      <td>18.0</td>\n",
       "      <td>0.0</td>\n",
       "      <td>0.009</td>\n",
       "      <td>0.000</td>\n",
       "    </tr>\n",
       "    <tr>\n",
       "      <th>2022-04-29 09:30:00 -&gt; 2022-06-29 09:43:00</th>\n",
       "      <td>[128017.SZ, 002597.SZ]</td>\n",
       "      <td>21.33</td>\n",
       "      <td>26.0</td>\n",
       "      <td>12.0</td>\n",
       "      <td>47.953635</td>\n",
       "      <td>-16.109199</td>\n",
       "      <td>31.844436</td>\n",
       "      <td>31.844436</td>\n",
       "      <td>0.684211</td>\n",
       "      <td>1.373901</td>\n",
       "      <td>...</td>\n",
       "      <td>0.950</td>\n",
       "      <td>0.004186</td>\n",
       "      <td>16.0</td>\n",
       "      <td>4.0</td>\n",
       "      <td>12.0</td>\n",
       "      <td>22.0</td>\n",
       "      <td>22.0</td>\n",
       "      <td>0.0</td>\n",
       "      <td>0.009</td>\n",
       "      <td>0.001</td>\n",
       "    </tr>\n",
       "    <tr>\n",
       "      <th>2022-04-29 09:30:00 -&gt; 2022-06-29 09:43:00</th>\n",
       "      <td>[128017.SZ, 002597.SZ]</td>\n",
       "      <td>21.33</td>\n",
       "      <td>26.0</td>\n",
       "      <td>12.0</td>\n",
       "      <td>46.225425</td>\n",
       "      <td>-16.109199</td>\n",
       "      <td>30.116226</td>\n",
       "      <td>30.116226</td>\n",
       "      <td>0.684211</td>\n",
       "      <td>1.324387</td>\n",
       "      <td>...</td>\n",
       "      <td>0.950</td>\n",
       "      <td>0.003954</td>\n",
       "      <td>14.0</td>\n",
       "      <td>2.0</td>\n",
       "      <td>12.0</td>\n",
       "      <td>24.0</td>\n",
       "      <td>24.0</td>\n",
       "      <td>0.0</td>\n",
       "      <td>0.009</td>\n",
       "      <td>0.002</td>\n",
       "    </tr>\n",
       "    <tr>\n",
       "      <th>2022-04-29 09:30:00 -&gt; 2022-06-29 09:43:00</th>\n",
       "      <td>[128017.SZ, 002597.SZ]</td>\n",
       "      <td>21.33</td>\n",
       "      <td>28.0</td>\n",
       "      <td>10.0</td>\n",
       "      <td>44.525320</td>\n",
       "      <td>-14.805342</td>\n",
       "      <td>29.719978</td>\n",
       "      <td>29.719978</td>\n",
       "      <td>0.736842</td>\n",
       "      <td>1.074065</td>\n",
       "      <td>...</td>\n",
       "      <td>0.950</td>\n",
       "      <td>0.003886</td>\n",
       "      <td>12.0</td>\n",
       "      <td>2.0</td>\n",
       "      <td>10.0</td>\n",
       "      <td>26.0</td>\n",
       "      <td>26.0</td>\n",
       "      <td>0.0</td>\n",
       "      <td>0.009</td>\n",
       "      <td>0.003</td>\n",
       "    </tr>\n",
       "    <tr>\n",
       "      <th>2022-04-29 09:30:00 -&gt; 2022-06-29 09:44:00</th>\n",
       "      <td>[128017.SZ, 002597.SZ]</td>\n",
       "      <td>21.33</td>\n",
       "      <td>26.0</td>\n",
       "      <td>10.0</td>\n",
       "      <td>52.233852</td>\n",
       "      <td>-14.677112</td>\n",
       "      <td>37.556740</td>\n",
       "      <td>37.556740</td>\n",
       "      <td>0.722222</td>\n",
       "      <td>1.368794</td>\n",
       "      <td>...</td>\n",
       "      <td>0.900</td>\n",
       "      <td>0.005215</td>\n",
       "      <td>19.0</td>\n",
       "      <td>9.0</td>\n",
       "      <td>10.0</td>\n",
       "      <td>17.0</td>\n",
       "      <td>17.0</td>\n",
       "      <td>0.0</td>\n",
       "      <td>0.010</td>\n",
       "      <td>0.000</td>\n",
       "    </tr>\n",
       "    <tr>\n",
       "      <th>2022-04-29 09:30:00 -&gt; 2022-06-29 09:43:00</th>\n",
       "      <td>[128017.SZ, 002597.SZ]</td>\n",
       "      <td>21.33</td>\n",
       "      <td>27.0</td>\n",
       "      <td>9.0</td>\n",
       "      <td>50.597539</td>\n",
       "      <td>-14.185721</td>\n",
       "      <td>36.411818</td>\n",
       "      <td>36.411818</td>\n",
       "      <td>0.750000</td>\n",
       "      <td>1.188931</td>\n",
       "      <td>...</td>\n",
       "      <td>0.900</td>\n",
       "      <td>0.005042</td>\n",
       "      <td>16.0</td>\n",
       "      <td>7.0</td>\n",
       "      <td>9.0</td>\n",
       "      <td>20.0</td>\n",
       "      <td>20.0</td>\n",
       "      <td>0.0</td>\n",
       "      <td>0.010</td>\n",
       "      <td>0.001</td>\n",
       "    </tr>\n",
       "    <tr>\n",
       "      <th>2022-04-29 09:30:00 -&gt; 2022-06-29 09:43:00</th>\n",
       "      <td>[128017.SZ, 002597.SZ]</td>\n",
       "      <td>21.33</td>\n",
       "      <td>27.0</td>\n",
       "      <td>9.0</td>\n",
       "      <td>48.972052</td>\n",
       "      <td>-14.185721</td>\n",
       "      <td>34.786331</td>\n",
       "      <td>34.786331</td>\n",
       "      <td>0.750000</td>\n",
       "      <td>1.150736</td>\n",
       "      <td>...</td>\n",
       "      <td>0.900</td>\n",
       "      <td>0.004811</td>\n",
       "      <td>14.0</td>\n",
       "      <td>5.0</td>\n",
       "      <td>9.0</td>\n",
       "      <td>22.0</td>\n",
       "      <td>22.0</td>\n",
       "      <td>0.0</td>\n",
       "      <td>0.010</td>\n",
       "      <td>0.002</td>\n",
       "    </tr>\n",
       "    <tr>\n",
       "      <th>2022-04-29 09:30:00 -&gt; 2022-06-29 09:43:00</th>\n",
       "      <td>[128017.SZ, 002597.SZ]</td>\n",
       "      <td>21.33</td>\n",
       "      <td>28.0</td>\n",
       "      <td>8.0</td>\n",
       "      <td>46.587510</td>\n",
       "      <td>-13.984565</td>\n",
       "      <td>32.602945</td>\n",
       "      <td>32.602945</td>\n",
       "      <td>0.777778</td>\n",
       "      <td>0.951815</td>\n",
       "      <td>...</td>\n",
       "      <td>0.900</td>\n",
       "      <td>0.004498</td>\n",
       "      <td>13.0</td>\n",
       "      <td>5.0</td>\n",
       "      <td>8.0</td>\n",
       "      <td>23.0</td>\n",
       "      <td>23.0</td>\n",
       "      <td>0.0</td>\n",
       "      <td>0.010</td>\n",
       "      <td>0.003</td>\n",
       "    </tr>\n",
       "    <tr>\n",
       "      <th>2022-04-29 09:30:00 -&gt; 2022-06-29 15:00:00</th>\n",
       "      <td>[128017.SZ, 002597.SZ]</td>\n",
       "      <td>21.33</td>\n",
       "      <td>24.0</td>\n",
       "      <td>9.0</td>\n",
       "      <td>50.647118</td>\n",
       "      <td>-14.243596</td>\n",
       "      <td>36.403522</td>\n",
       "      <td>36.403522</td>\n",
       "      <td>0.727273</td>\n",
       "      <td>1.333418</td>\n",
       "      <td>...</td>\n",
       "      <td>0.825</td>\n",
       "      <td>0.005489</td>\n",
       "      <td>19.0</td>\n",
       "      <td>10.0</td>\n",
       "      <td>9.0</td>\n",
       "      <td>14.0</td>\n",
       "      <td>14.0</td>\n",
       "      <td>0.0</td>\n",
       "      <td>0.011</td>\n",
       "      <td>0.000</td>\n",
       "    </tr>\n",
       "    <tr>\n",
       "      <th>2022-04-29 09:30:00 -&gt; 2022-06-29 15:00:00</th>\n",
       "      <td>[128017.SZ, 002597.SZ]</td>\n",
       "      <td>21.33</td>\n",
       "      <td>25.0</td>\n",
       "      <td>8.0</td>\n",
       "      <td>49.754189</td>\n",
       "      <td>-13.805545</td>\n",
       "      <td>35.948645</td>\n",
       "      <td>35.948645</td>\n",
       "      <td>0.757576</td>\n",
       "      <td>1.153257</td>\n",
       "      <td>...</td>\n",
       "      <td>0.825</td>\n",
       "      <td>0.005405</td>\n",
       "      <td>16.0</td>\n",
       "      <td>8.0</td>\n",
       "      <td>8.0</td>\n",
       "      <td>17.0</td>\n",
       "      <td>17.0</td>\n",
       "      <td>0.0</td>\n",
       "      <td>0.011</td>\n",
       "      <td>0.001</td>\n",
       "    </tr>\n",
       "    <tr>\n",
       "      <th>2022-04-29 09:30:00 -&gt; 2022-06-29 15:00:00</th>\n",
       "      <td>[128017.SZ, 002597.SZ]</td>\n",
       "      <td>21.33</td>\n",
       "      <td>25.0</td>\n",
       "      <td>8.0</td>\n",
       "      <td>48.402900</td>\n",
       "      <td>-13.805545</td>\n",
       "      <td>34.597356</td>\n",
       "      <td>34.597356</td>\n",
       "      <td>0.757576</td>\n",
       "      <td>1.121935</td>\n",
       "      <td>...</td>\n",
       "      <td>0.825</td>\n",
       "      <td>0.005197</td>\n",
       "      <td>14.0</td>\n",
       "      <td>6.0</td>\n",
       "      <td>8.0</td>\n",
       "      <td>19.0</td>\n",
       "      <td>19.0</td>\n",
       "      <td>0.0</td>\n",
       "      <td>0.011</td>\n",
       "      <td>0.002</td>\n",
       "    </tr>\n",
       "    <tr>\n",
       "      <th>2022-04-29 09:30:00 -&gt; 2022-06-29 13:42:00</th>\n",
       "      <td>[128017.SZ, 002597.SZ]</td>\n",
       "      <td>21.33</td>\n",
       "      <td>26.0</td>\n",
       "      <td>7.0</td>\n",
       "      <td>47.776693</td>\n",
       "      <td>-11.669972</td>\n",
       "      <td>36.106721</td>\n",
       "      <td>36.106721</td>\n",
       "      <td>0.787879</td>\n",
       "      <td>1.102227</td>\n",
       "      <td>...</td>\n",
       "      <td>0.825</td>\n",
       "      <td>0.005423</td>\n",
       "      <td>12.0</td>\n",
       "      <td>5.0</td>\n",
       "      <td>7.0</td>\n",
       "      <td>21.0</td>\n",
       "      <td>21.0</td>\n",
       "      <td>0.0</td>\n",
       "      <td>0.011</td>\n",
       "      <td>0.003</td>\n",
       "    </tr>\n",
       "    <tr>\n",
       "      <th>2022-04-29 09:30:00 -&gt; 2022-06-29 15:00:00</th>\n",
       "      <td>[128017.SZ, 002597.SZ]</td>\n",
       "      <td>21.33</td>\n",
       "      <td>25.0</td>\n",
       "      <td>8.0</td>\n",
       "      <td>54.818665</td>\n",
       "      <td>-11.763075</td>\n",
       "      <td>43.055591</td>\n",
       "      <td>43.055591</td>\n",
       "      <td>0.757576</td>\n",
       "      <td>1.491274</td>\n",
       "      <td>...</td>\n",
       "      <td>0.825</td>\n",
       "      <td>0.006469</td>\n",
       "      <td>19.0</td>\n",
       "      <td>11.0</td>\n",
       "      <td>8.0</td>\n",
       "      <td>14.0</td>\n",
       "      <td>14.0</td>\n",
       "      <td>0.0</td>\n",
       "      <td>0.012</td>\n",
       "      <td>0.000</td>\n",
       "    </tr>\n",
       "    <tr>\n",
       "      <th>2022-04-29 09:30:00 -&gt; 2022-06-29 15:00:00</th>\n",
       "      <td>[128017.SZ, 002597.SZ]</td>\n",
       "      <td>21.33</td>\n",
       "      <td>25.0</td>\n",
       "      <td>8.0</td>\n",
       "      <td>51.885027</td>\n",
       "      <td>-11.763075</td>\n",
       "      <td>40.121952</td>\n",
       "      <td>40.121952</td>\n",
       "      <td>0.757576</td>\n",
       "      <td>1.411468</td>\n",
       "      <td>...</td>\n",
       "      <td>0.825</td>\n",
       "      <td>0.006036</td>\n",
       "      <td>17.0</td>\n",
       "      <td>9.0</td>\n",
       "      <td>8.0</td>\n",
       "      <td>16.0</td>\n",
       "      <td>16.0</td>\n",
       "      <td>0.0</td>\n",
       "      <td>0.012</td>\n",
       "      <td>0.001</td>\n",
       "    </tr>\n",
       "    <tr>\n",
       "      <th>2022-04-29 09:30:00 -&gt; 2022-06-29 15:00:00</th>\n",
       "      <td>[128017.SZ, 002597.SZ]</td>\n",
       "      <td>21.33</td>\n",
       "      <td>25.0</td>\n",
       "      <td>8.0</td>\n",
       "      <td>51.038426</td>\n",
       "      <td>-11.763075</td>\n",
       "      <td>39.275352</td>\n",
       "      <td>39.275352</td>\n",
       "      <td>0.757576</td>\n",
       "      <td>1.388438</td>\n",
       "      <td>...</td>\n",
       "      <td>0.825</td>\n",
       "      <td>0.005897</td>\n",
       "      <td>15.0</td>\n",
       "      <td>7.0</td>\n",
       "      <td>8.0</td>\n",
       "      <td>18.0</td>\n",
       "      <td>18.0</td>\n",
       "      <td>0.0</td>\n",
       "      <td>0.012</td>\n",
       "      <td>0.002</td>\n",
       "    </tr>\n",
       "    <tr>\n",
       "      <th>2022-04-29 09:30:00 -&gt; 2022-06-29 15:00:00</th>\n",
       "      <td>[128017.SZ, 002597.SZ]</td>\n",
       "      <td>21.33</td>\n",
       "      <td>25.0</td>\n",
       "      <td>8.0</td>\n",
       "      <td>49.305754</td>\n",
       "      <td>-11.763075</td>\n",
       "      <td>37.542680</td>\n",
       "      <td>37.542680</td>\n",
       "      <td>0.757576</td>\n",
       "      <td>1.341302</td>\n",
       "      <td>...</td>\n",
       "      <td>0.825</td>\n",
       "      <td>0.005633</td>\n",
       "      <td>14.0</td>\n",
       "      <td>6.0</td>\n",
       "      <td>8.0</td>\n",
       "      <td>19.0</td>\n",
       "      <td>19.0</td>\n",
       "      <td>0.0</td>\n",
       "      <td>0.012</td>\n",
       "      <td>0.003</td>\n",
       "    </tr>\n",
       "    <tr>\n",
       "      <th>2022-04-29 09:30:00 -&gt; 2022-06-29 15:00:00</th>\n",
       "      <td>[128017.SZ, 002597.SZ]</td>\n",
       "      <td>21.33</td>\n",
       "      <td>20.0</td>\n",
       "      <td>8.0</td>\n",
       "      <td>48.080211</td>\n",
       "      <td>-10.549047</td>\n",
       "      <td>37.531164</td>\n",
       "      <td>37.531164</td>\n",
       "      <td>0.714286</td>\n",
       "      <td>1.823111</td>\n",
       "      <td>...</td>\n",
       "      <td>0.700</td>\n",
       "      <td>0.006608</td>\n",
       "      <td>17.0</td>\n",
       "      <td>9.0</td>\n",
       "      <td>8.0</td>\n",
       "      <td>11.0</td>\n",
       "      <td>11.0</td>\n",
       "      <td>0.0</td>\n",
       "      <td>0.013</td>\n",
       "      <td>0.000</td>\n",
       "    </tr>\n",
       "    <tr>\n",
       "      <th>2022-04-29 09:30:00 -&gt; 2022-06-29 15:00:00</th>\n",
       "      <td>[128017.SZ, 002597.SZ]</td>\n",
       "      <td>21.33</td>\n",
       "      <td>20.0</td>\n",
       "      <td>8.0</td>\n",
       "      <td>46.970359</td>\n",
       "      <td>-10.549047</td>\n",
       "      <td>36.421312</td>\n",
       "      <td>36.421312</td>\n",
       "      <td>0.714286</td>\n",
       "      <td>1.781028</td>\n",
       "      <td>...</td>\n",
       "      <td>0.700</td>\n",
       "      <td>0.006415</td>\n",
       "      <td>17.0</td>\n",
       "      <td>9.0</td>\n",
       "      <td>8.0</td>\n",
       "      <td>11.0</td>\n",
       "      <td>11.0</td>\n",
       "      <td>0.0</td>\n",
       "      <td>0.013</td>\n",
       "      <td>0.001</td>\n",
       "    </tr>\n",
       "    <tr>\n",
       "      <th>2022-04-29 09:30:00 -&gt; 2022-06-29 15:00:00</th>\n",
       "      <td>[128017.SZ, 002597.SZ]</td>\n",
       "      <td>21.33</td>\n",
       "      <td>20.0</td>\n",
       "      <td>8.0</td>\n",
       "      <td>46.569048</td>\n",
       "      <td>-10.549047</td>\n",
       "      <td>36.020001</td>\n",
       "      <td>36.020001</td>\n",
       "      <td>0.714286</td>\n",
       "      <td>1.765811</td>\n",
       "      <td>...</td>\n",
       "      <td>0.700</td>\n",
       "      <td>0.006332</td>\n",
       "      <td>15.0</td>\n",
       "      <td>7.0</td>\n",
       "      <td>8.0</td>\n",
       "      <td>13.0</td>\n",
       "      <td>13.0</td>\n",
       "      <td>0.0</td>\n",
       "      <td>0.013</td>\n",
       "      <td>0.002</td>\n",
       "    </tr>\n",
       "    <tr>\n",
       "      <th>2022-04-29 09:30:00 -&gt; 2022-06-29 15:00:00</th>\n",
       "      <td>[128017.SZ, 002597.SZ]</td>\n",
       "      <td>21.33</td>\n",
       "      <td>20.0</td>\n",
       "      <td>8.0</td>\n",
       "      <td>43.873078</td>\n",
       "      <td>-10.549047</td>\n",
       "      <td>33.324031</td>\n",
       "      <td>33.324031</td>\n",
       "      <td>0.714286</td>\n",
       "      <td>1.663584</td>\n",
       "      <td>...</td>\n",
       "      <td>0.700</td>\n",
       "      <td>0.005863</td>\n",
       "      <td>15.0</td>\n",
       "      <td>7.0</td>\n",
       "      <td>8.0</td>\n",
       "      <td>13.0</td>\n",
       "      <td>13.0</td>\n",
       "      <td>0.0</td>\n",
       "      <td>0.013</td>\n",
       "      <td>0.003</td>\n",
       "    </tr>\n",
       "    <tr>\n",
       "      <th>2022-04-29 09:30:00 -&gt; 2022-06-29 15:00:00</th>\n",
       "      <td>[128017.SZ, 002597.SZ]</td>\n",
       "      <td>21.33</td>\n",
       "      <td>16.0</td>\n",
       "      <td>7.0</td>\n",
       "      <td>40.406866</td>\n",
       "      <td>-8.365104</td>\n",
       "      <td>32.041763</td>\n",
       "      <td>32.041763</td>\n",
       "      <td>0.695652</td>\n",
       "      <td>2.113304</td>\n",
       "      <td>...</td>\n",
       "      <td>0.575</td>\n",
       "      <td>0.006874</td>\n",
       "      <td>15.0</td>\n",
       "      <td>8.0</td>\n",
       "      <td>7.0</td>\n",
       "      <td>8.0</td>\n",
       "      <td>8.0</td>\n",
       "      <td>0.0</td>\n",
       "      <td>0.014</td>\n",
       "      <td>0.000</td>\n",
       "    </tr>\n",
       "    <tr>\n",
       "      <th>2022-04-29 09:30:00 -&gt; 2022-06-29 15:00:00</th>\n",
       "      <td>[128017.SZ, 002597.SZ]</td>\n",
       "      <td>21.33</td>\n",
       "      <td>16.0</td>\n",
       "      <td>7.0</td>\n",
       "      <td>39.874442</td>\n",
       "      <td>-8.365104</td>\n",
       "      <td>31.509338</td>\n",
       "      <td>31.509338</td>\n",
       "      <td>0.695652</td>\n",
       "      <td>2.085457</td>\n",
       "      <td>...</td>\n",
       "      <td>0.575</td>\n",
       "      <td>0.006762</td>\n",
       "      <td>15.0</td>\n",
       "      <td>8.0</td>\n",
       "      <td>7.0</td>\n",
       "      <td>8.0</td>\n",
       "      <td>8.0</td>\n",
       "      <td>0.0</td>\n",
       "      <td>0.014</td>\n",
       "      <td>0.001</td>\n",
       "    </tr>\n",
       "    <tr>\n",
       "      <th>2022-04-29 09:30:00 -&gt; 2022-06-29 15:00:00</th>\n",
       "      <td>[128017.SZ, 002597.SZ]</td>\n",
       "      <td>21.33</td>\n",
       "      <td>16.0</td>\n",
       "      <td>7.0</td>\n",
       "      <td>39.768018</td>\n",
       "      <td>-8.365104</td>\n",
       "      <td>31.402914</td>\n",
       "      <td>31.402914</td>\n",
       "      <td>0.695652</td>\n",
       "      <td>2.079891</td>\n",
       "      <td>...</td>\n",
       "      <td>0.575</td>\n",
       "      <td>0.006722</td>\n",
       "      <td>13.0</td>\n",
       "      <td>6.0</td>\n",
       "      <td>7.0</td>\n",
       "      <td>10.0</td>\n",
       "      <td>10.0</td>\n",
       "      <td>0.0</td>\n",
       "      <td>0.014</td>\n",
       "      <td>0.002</td>\n",
       "    </tr>\n",
       "    <tr>\n",
       "      <th>2022-04-29 09:30:00 -&gt; 2022-06-29 15:00:00</th>\n",
       "      <td>[128017.SZ, 002597.SZ]</td>\n",
       "      <td>21.33</td>\n",
       "      <td>16.0</td>\n",
       "      <td>7.0</td>\n",
       "      <td>37.496817</td>\n",
       "      <td>-8.365104</td>\n",
       "      <td>29.131713</td>\n",
       "      <td>29.131713</td>\n",
       "      <td>0.695652</td>\n",
       "      <td>1.961106</td>\n",
       "      <td>...</td>\n",
       "      <td>0.575</td>\n",
       "      <td>0.006247</td>\n",
       "      <td>13.0</td>\n",
       "      <td>6.0</td>\n",
       "      <td>7.0</td>\n",
       "      <td>10.0</td>\n",
       "      <td>10.0</td>\n",
       "      <td>0.0</td>\n",
       "      <td>0.014</td>\n",
       "      <td>0.003</td>\n",
       "    </tr>\n",
       "    <tr>\n",
       "      <th>2022-04-29 09:30:00 -&gt; 2022-06-29 15:00:00</th>\n",
       "      <td>[128017.SZ, 002597.SZ]</td>\n",
       "      <td>21.33</td>\n",
       "      <td>13.0</td>\n",
       "      <td>7.0</td>\n",
       "      <td>33.814269</td>\n",
       "      <td>-7.556138</td>\n",
       "      <td>26.258131</td>\n",
       "      <td>26.258131</td>\n",
       "      <td>0.650000</td>\n",
       "      <td>2.409655</td>\n",
       "      <td>...</td>\n",
       "      <td>0.500</td>\n",
       "      <td>0.006446</td>\n",
       "      <td>13.0</td>\n",
       "      <td>6.0</td>\n",
       "      <td>7.0</td>\n",
       "      <td>7.0</td>\n",
       "      <td>7.0</td>\n",
       "      <td>0.0</td>\n",
       "      <td>0.015</td>\n",
       "      <td>0.000</td>\n",
       "    </tr>\n",
       "    <tr>\n",
       "      <th>2022-04-29 09:30:00 -&gt; 2022-06-29 15:00:00</th>\n",
       "      <td>[128017.SZ, 002597.SZ]</td>\n",
       "      <td>21.33</td>\n",
       "      <td>13.0</td>\n",
       "      <td>7.0</td>\n",
       "      <td>33.281414</td>\n",
       "      <td>-7.556138</td>\n",
       "      <td>25.725276</td>\n",
       "      <td>25.725276</td>\n",
       "      <td>0.650000</td>\n",
       "      <td>2.371683</td>\n",
       "      <td>...</td>\n",
       "      <td>0.500</td>\n",
       "      <td>0.006317</td>\n",
       "      <td>13.0</td>\n",
       "      <td>6.0</td>\n",
       "      <td>7.0</td>\n",
       "      <td>7.0</td>\n",
       "      <td>7.0</td>\n",
       "      <td>0.0</td>\n",
       "      <td>0.015</td>\n",
       "      <td>0.001</td>\n",
       "    </tr>\n",
       "    <tr>\n",
       "      <th>2022-04-29 09:30:00 -&gt; 2022-06-29 15:00:00</th>\n",
       "      <td>[128017.SZ, 002597.SZ]</td>\n",
       "      <td>21.33</td>\n",
       "      <td>13.0</td>\n",
       "      <td>7.0</td>\n",
       "      <td>33.789351</td>\n",
       "      <td>-7.556138</td>\n",
       "      <td>26.233213</td>\n",
       "      <td>26.233213</td>\n",
       "      <td>0.650000</td>\n",
       "      <td>2.407879</td>\n",
       "      <td>...</td>\n",
       "      <td>0.500</td>\n",
       "      <td>0.006430</td>\n",
       "      <td>11.0</td>\n",
       "      <td>4.0</td>\n",
       "      <td>7.0</td>\n",
       "      <td>9.0</td>\n",
       "      <td>9.0</td>\n",
       "      <td>0.0</td>\n",
       "      <td>0.015</td>\n",
       "      <td>0.002</td>\n",
       "    </tr>\n",
       "    <tr>\n",
       "      <th>2022-04-29 09:30:00 -&gt; 2022-06-29 15:00:00</th>\n",
       "      <td>[128017.SZ, 002597.SZ]</td>\n",
       "      <td>21.33</td>\n",
       "      <td>13.0</td>\n",
       "      <td>7.0</td>\n",
       "      <td>31.832593</td>\n",
       "      <td>-7.556138</td>\n",
       "      <td>24.276455</td>\n",
       "      <td>24.276455</td>\n",
       "      <td>0.650000</td>\n",
       "      <td>2.268438</td>\n",
       "      <td>...</td>\n",
       "      <td>0.500</td>\n",
       "      <td>0.005967</td>\n",
       "      <td>11.0</td>\n",
       "      <td>4.0</td>\n",
       "      <td>7.0</td>\n",
       "      <td>9.0</td>\n",
       "      <td>9.0</td>\n",
       "      <td>0.0</td>\n",
       "      <td>0.015</td>\n",
       "      <td>0.003</td>\n",
       "    </tr>\n",
       "    <tr>\n",
       "      <th>2022-04-29 09:30:00 -&gt; 2022-06-29 15:00:00</th>\n",
       "      <td>[128017.SZ, 002597.SZ]</td>\n",
       "      <td>21.33</td>\n",
       "      <td>13.0</td>\n",
       "      <td>6.0</td>\n",
       "      <td>35.038994</td>\n",
       "      <td>-6.658972</td>\n",
       "      <td>28.380022</td>\n",
       "      <td>28.380022</td>\n",
       "      <td>0.684211</td>\n",
       "      <td>2.428579</td>\n",
       "      <td>...</td>\n",
       "      <td>0.475</td>\n",
       "      <td>0.007374</td>\n",
       "      <td>13.0</td>\n",
       "      <td>7.0</td>\n",
       "      <td>6.0</td>\n",
       "      <td>6.0</td>\n",
       "      <td>6.0</td>\n",
       "      <td>0.0</td>\n",
       "      <td>0.016</td>\n",
       "      <td>0.000</td>\n",
       "    </tr>\n",
       "    <tr>\n",
       "      <th>2022-04-29 09:30:00 -&gt; 2022-06-29 15:00:00</th>\n",
       "      <td>[128017.SZ, 002597.SZ]</td>\n",
       "      <td>21.33</td>\n",
       "      <td>13.0</td>\n",
       "      <td>6.0</td>\n",
       "      <td>34.504830</td>\n",
       "      <td>-6.658972</td>\n",
       "      <td>27.845857</td>\n",
       "      <td>27.845857</td>\n",
       "      <td>0.684211</td>\n",
       "      <td>2.391556</td>\n",
       "      <td>...</td>\n",
       "      <td>0.475</td>\n",
       "      <td>0.007238</td>\n",
       "      <td>13.0</td>\n",
       "      <td>7.0</td>\n",
       "      <td>6.0</td>\n",
       "      <td>6.0</td>\n",
       "      <td>6.0</td>\n",
       "      <td>0.0</td>\n",
       "      <td>0.016</td>\n",
       "      <td>0.001</td>\n",
       "    </tr>\n",
       "    <tr>\n",
       "      <th>2022-04-29 09:30:00 -&gt; 2022-06-29 15:00:00</th>\n",
       "      <td>[128017.SZ, 002597.SZ]</td>\n",
       "      <td>21.33</td>\n",
       "      <td>13.0</td>\n",
       "      <td>6.0</td>\n",
       "      <td>35.012536</td>\n",
       "      <td>-6.658972</td>\n",
       "      <td>28.353563</td>\n",
       "      <td>28.353563</td>\n",
       "      <td>0.684211</td>\n",
       "      <td>2.426746</td>\n",
       "      <td>...</td>\n",
       "      <td>0.475</td>\n",
       "      <td>0.007357</td>\n",
       "      <td>11.0</td>\n",
       "      <td>5.0</td>\n",
       "      <td>6.0</td>\n",
       "      <td>8.0</td>\n",
       "      <td>8.0</td>\n",
       "      <td>0.0</td>\n",
       "      <td>0.016</td>\n",
       "      <td>0.002</td>\n",
       "    </tr>\n",
       "    <tr>\n",
       "      <th>2022-04-29 09:30:00 -&gt; 2022-06-29 15:00:00</th>\n",
       "      <td>[128017.SZ, 002597.SZ]</td>\n",
       "      <td>21.33</td>\n",
       "      <td>13.0</td>\n",
       "      <td>6.0</td>\n",
       "      <td>34.154309</td>\n",
       "      <td>-6.658972</td>\n",
       "      <td>27.495337</td>\n",
       "      <td>27.495337</td>\n",
       "      <td>0.684211</td>\n",
       "      <td>2.367261</td>\n",
       "      <td>...</td>\n",
       "      <td>0.475</td>\n",
       "      <td>0.007136</td>\n",
       "      <td>11.0</td>\n",
       "      <td>5.0</td>\n",
       "      <td>6.0</td>\n",
       "      <td>8.0</td>\n",
       "      <td>8.0</td>\n",
       "      <td>0.0</td>\n",
       "      <td>0.016</td>\n",
       "      <td>0.003</td>\n",
       "    </tr>\n",
       "    <tr>\n",
       "      <th>2022-04-29 09:30:00 -&gt; 2022-06-29 15:00:00</th>\n",
       "      <td>[128017.SZ, 002597.SZ]</td>\n",
       "      <td>21.33</td>\n",
       "      <td>12.0</td>\n",
       "      <td>5.0</td>\n",
       "      <td>33.427037</td>\n",
       "      <td>-5.288753</td>\n",
       "      <td>28.138283</td>\n",
       "      <td>28.138283</td>\n",
       "      <td>0.705882</td>\n",
       "      <td>2.633500</td>\n",
       "      <td>...</td>\n",
       "      <td>0.425</td>\n",
       "      <td>0.008150</td>\n",
       "      <td>12.0</td>\n",
       "      <td>7.0</td>\n",
       "      <td>5.0</td>\n",
       "      <td>5.0</td>\n",
       "      <td>5.0</td>\n",
       "      <td>0.0</td>\n",
       "      <td>0.017</td>\n",
       "      <td>0.000</td>\n",
       "    </tr>\n",
       "    <tr>\n",
       "      <th>2022-04-29 09:30:00 -&gt; 2022-06-29 15:00:00</th>\n",
       "      <td>[128017.SZ, 002597.SZ]</td>\n",
       "      <td>21.33</td>\n",
       "      <td>12.0</td>\n",
       "      <td>5.0</td>\n",
       "      <td>33.070606</td>\n",
       "      <td>-5.288753</td>\n",
       "      <td>27.781852</td>\n",
       "      <td>27.781852</td>\n",
       "      <td>0.705882</td>\n",
       "      <td>2.605419</td>\n",
       "      <td>...</td>\n",
       "      <td>0.425</td>\n",
       "      <td>0.008049</td>\n",
       "      <td>12.0</td>\n",
       "      <td>7.0</td>\n",
       "      <td>5.0</td>\n",
       "      <td>5.0</td>\n",
       "      <td>5.0</td>\n",
       "      <td>0.0</td>\n",
       "      <td>0.017</td>\n",
       "      <td>0.001</td>\n",
       "    </tr>\n",
       "    <tr>\n",
       "      <th>2022-04-29 09:30:00 -&gt; 2022-06-29 15:00:00</th>\n",
       "      <td>[128017.SZ, 002597.SZ]</td>\n",
       "      <td>21.33</td>\n",
       "      <td>12.0</td>\n",
       "      <td>5.0</td>\n",
       "      <td>33.851137</td>\n",
       "      <td>-5.288753</td>\n",
       "      <td>28.562384</td>\n",
       "      <td>28.562384</td>\n",
       "      <td>0.705882</td>\n",
       "      <td>2.666912</td>\n",
       "      <td>...</td>\n",
       "      <td>0.425</td>\n",
       "      <td>0.008261</td>\n",
       "      <td>10.0</td>\n",
       "      <td>5.0</td>\n",
       "      <td>5.0</td>\n",
       "      <td>7.0</td>\n",
       "      <td>7.0</td>\n",
       "      <td>0.0</td>\n",
       "      <td>0.017</td>\n",
       "      <td>0.002</td>\n",
       "    </tr>\n",
       "    <tr>\n",
       "      <th>2022-04-29 09:30:00 -&gt; 2022-06-29 15:00:00</th>\n",
       "      <td>[128017.SZ, 002597.SZ]</td>\n",
       "      <td>21.33</td>\n",
       "      <td>12.0</td>\n",
       "      <td>5.0</td>\n",
       "      <td>32.993496</td>\n",
       "      <td>-5.288753</td>\n",
       "      <td>27.704742</td>\n",
       "      <td>27.704742</td>\n",
       "      <td>0.705882</td>\n",
       "      <td>2.599344</td>\n",
       "      <td>...</td>\n",
       "      <td>0.425</td>\n",
       "      <td>0.008014</td>\n",
       "      <td>10.0</td>\n",
       "      <td>5.0</td>\n",
       "      <td>5.0</td>\n",
       "      <td>7.0</td>\n",
       "      <td>7.0</td>\n",
       "      <td>0.0</td>\n",
       "      <td>0.017</td>\n",
       "      <td>0.003</td>\n",
       "    </tr>\n",
       "    <tr>\n",
       "      <th>2022-04-29 09:30:00 -&gt; 2022-06-29 15:00:00</th>\n",
       "      <td>[128017.SZ, 002597.SZ]</td>\n",
       "      <td>21.33</td>\n",
       "      <td>9.0</td>\n",
       "      <td>5.0</td>\n",
       "      <td>24.799762</td>\n",
       "      <td>-4.317659</td>\n",
       "      <td>20.482103</td>\n",
       "      <td>20.482103</td>\n",
       "      <td>0.642857</td>\n",
       "      <td>3.190999</td>\n",
       "      <td>...</td>\n",
       "      <td>0.350</td>\n",
       "      <td>0.007214</td>\n",
       "      <td>11.0</td>\n",
       "      <td>6.0</td>\n",
       "      <td>5.0</td>\n",
       "      <td>3.0</td>\n",
       "      <td>3.0</td>\n",
       "      <td>0.0</td>\n",
       "      <td>0.018</td>\n",
       "      <td>0.000</td>\n",
       "    </tr>\n",
       "    <tr>\n",
       "      <th>2022-04-29 09:30:00 -&gt; 2022-06-29 15:00:00</th>\n",
       "      <td>[128017.SZ, 002597.SZ]</td>\n",
       "      <td>21.33</td>\n",
       "      <td>9.0</td>\n",
       "      <td>5.0</td>\n",
       "      <td>24.590163</td>\n",
       "      <td>-4.317659</td>\n",
       "      <td>20.272504</td>\n",
       "      <td>20.272504</td>\n",
       "      <td>0.642857</td>\n",
       "      <td>3.164030</td>\n",
       "      <td>...</td>\n",
       "      <td>0.350</td>\n",
       "      <td>0.007142</td>\n",
       "      <td>11.0</td>\n",
       "      <td>6.0</td>\n",
       "      <td>5.0</td>\n",
       "      <td>3.0</td>\n",
       "      <td>3.0</td>\n",
       "      <td>0.0</td>\n",
       "      <td>0.018</td>\n",
       "      <td>0.001</td>\n",
       "    </tr>\n",
       "    <tr>\n",
       "      <th>2022-04-29 09:30:00 -&gt; 2022-06-29 15:00:00</th>\n",
       "      <td>[128017.SZ, 002597.SZ]</td>\n",
       "      <td>21.33</td>\n",
       "      <td>9.0</td>\n",
       "      <td>5.0</td>\n",
       "      <td>26.060714</td>\n",
       "      <td>-4.317659</td>\n",
       "      <td>21.743055</td>\n",
       "      <td>21.743055</td>\n",
       "      <td>0.642857</td>\n",
       "      <td>3.353246</td>\n",
       "      <td>...</td>\n",
       "      <td>0.350</td>\n",
       "      <td>0.007641</td>\n",
       "      <td>10.0</td>\n",
       "      <td>5.0</td>\n",
       "      <td>5.0</td>\n",
       "      <td>4.0</td>\n",
       "      <td>4.0</td>\n",
       "      <td>0.0</td>\n",
       "      <td>0.018</td>\n",
       "      <td>0.002</td>\n",
       "    </tr>\n",
       "    <tr>\n",
       "      <th>2022-04-29 09:30:00 -&gt; 2022-06-29 15:00:00</th>\n",
       "      <td>[128017.SZ, 002597.SZ]</td>\n",
       "      <td>21.33</td>\n",
       "      <td>9.0</td>\n",
       "      <td>5.0</td>\n",
       "      <td>25.767031</td>\n",
       "      <td>-4.317659</td>\n",
       "      <td>21.449373</td>\n",
       "      <td>21.449373</td>\n",
       "      <td>0.642857</td>\n",
       "      <td>3.315458</td>\n",
       "      <td>...</td>\n",
       "      <td>0.350</td>\n",
       "      <td>0.007533</td>\n",
       "      <td>10.0</td>\n",
       "      <td>5.0</td>\n",
       "      <td>5.0</td>\n",
       "      <td>4.0</td>\n",
       "      <td>4.0</td>\n",
       "      <td>0.0</td>\n",
       "      <td>0.018</td>\n",
       "      <td>0.003</td>\n",
       "    </tr>\n",
       "    <tr>\n",
       "      <th>2022-04-29 09:30:00 -&gt; 2022-06-29 15:00:00</th>\n",
       "      <td>[128017.SZ, 002597.SZ]</td>\n",
       "      <td>21.33</td>\n",
       "      <td>9.0</td>\n",
       "      <td>5.0</td>\n",
       "      <td>29.961365</td>\n",
       "      <td>-3.298565</td>\n",
       "      <td>26.662799</td>\n",
       "      <td>26.662799</td>\n",
       "      <td>0.642857</td>\n",
       "      <td>5.046195</td>\n",
       "      <td>...</td>\n",
       "      <td>0.350</td>\n",
       "      <td>0.009359</td>\n",
       "      <td>11.0</td>\n",
       "      <td>6.0</td>\n",
       "      <td>5.0</td>\n",
       "      <td>3.0</td>\n",
       "      <td>3.0</td>\n",
       "      <td>0.0</td>\n",
       "      <td>0.019</td>\n",
       "      <td>0.000</td>\n",
       "    </tr>\n",
       "    <tr>\n",
       "      <th>2022-04-29 09:30:00 -&gt; 2022-06-29 15:00:00</th>\n",
       "      <td>[128017.SZ, 002597.SZ]</td>\n",
       "      <td>21.33</td>\n",
       "      <td>9.0</td>\n",
       "      <td>5.0</td>\n",
       "      <td>29.743709</td>\n",
       "      <td>-3.298565</td>\n",
       "      <td>26.445143</td>\n",
       "      <td>26.445143</td>\n",
       "      <td>0.642857</td>\n",
       "      <td>5.009536</td>\n",
       "      <td>...</td>\n",
       "      <td>0.350</td>\n",
       "      <td>0.009285</td>\n",
       "      <td>11.0</td>\n",
       "      <td>6.0</td>\n",
       "      <td>5.0</td>\n",
       "      <td>3.0</td>\n",
       "      <td>3.0</td>\n",
       "      <td>0.0</td>\n",
       "      <td>0.019</td>\n",
       "      <td>0.001</td>\n",
       "    </tr>\n",
       "    <tr>\n",
       "      <th>2022-04-29 09:30:00 -&gt; 2022-06-29 15:00:00</th>\n",
       "      <td>[128017.SZ, 002597.SZ]</td>\n",
       "      <td>21.33</td>\n",
       "      <td>9.0</td>\n",
       "      <td>5.0</td>\n",
       "      <td>31.221370</td>\n",
       "      <td>-3.298565</td>\n",
       "      <td>27.922804</td>\n",
       "      <td>27.922804</td>\n",
       "      <td>0.642857</td>\n",
       "      <td>5.258409</td>\n",
       "      <td>...</td>\n",
       "      <td>0.350</td>\n",
       "      <td>0.009787</td>\n",
       "      <td>10.0</td>\n",
       "      <td>5.0</td>\n",
       "      <td>5.0</td>\n",
       "      <td>4.0</td>\n",
       "      <td>4.0</td>\n",
       "      <td>0.0</td>\n",
       "      <td>0.019</td>\n",
       "      <td>0.002</td>\n",
       "    </tr>\n",
       "    <tr>\n",
       "      <th>2022-04-29 09:30:00 -&gt; 2022-06-29 15:00:00</th>\n",
       "      <td>[128017.SZ, 002597.SZ]</td>\n",
       "      <td>21.33</td>\n",
       "      <td>9.0</td>\n",
       "      <td>5.0</td>\n",
       "      <td>30.959558</td>\n",
       "      <td>-3.298565</td>\n",
       "      <td>27.660993</td>\n",
       "      <td>27.660993</td>\n",
       "      <td>0.642857</td>\n",
       "      <td>5.214314</td>\n",
       "      <td>...</td>\n",
       "      <td>0.350</td>\n",
       "      <td>0.009685</td>\n",
       "      <td>10.0</td>\n",
       "      <td>5.0</td>\n",
       "      <td>5.0</td>\n",
       "      <td>4.0</td>\n",
       "      <td>4.0</td>\n",
       "      <td>0.0</td>\n",
       "      <td>0.019</td>\n",
       "      <td>0.003</td>\n",
       "    </tr>\n",
       "    <tr>\n",
       "      <th>2022-04-29 09:30:00 -&gt; 2022-06-29 15:00:00</th>\n",
       "      <td>[128017.SZ, 002597.SZ]</td>\n",
       "      <td>21.33</td>\n",
       "      <td>9.0</td>\n",
       "      <td>4.0</td>\n",
       "      <td>30.820128</td>\n",
       "      <td>-2.419310</td>\n",
       "      <td>28.400819</td>\n",
       "      <td>28.400819</td>\n",
       "      <td>0.692308</td>\n",
       "      <td>5.661878</td>\n",
       "      <td>...</td>\n",
       "      <td>0.325</td>\n",
       "      <td>0.010715</td>\n",
       "      <td>10.0</td>\n",
       "      <td>6.0</td>\n",
       "      <td>4.0</td>\n",
       "      <td>3.0</td>\n",
       "      <td>3.0</td>\n",
       "      <td>0.0</td>\n",
       "      <td>0.020</td>\n",
       "      <td>0.000</td>\n",
       "    </tr>\n",
       "    <tr>\n",
       "      <th>2022-04-29 09:30:00 -&gt; 2022-06-29 15:00:00</th>\n",
       "      <td>[128017.SZ, 002597.SZ]</td>\n",
       "      <td>21.33</td>\n",
       "      <td>9.0</td>\n",
       "      <td>4.0</td>\n",
       "      <td>30.602472</td>\n",
       "      <td>-2.419310</td>\n",
       "      <td>28.183163</td>\n",
       "      <td>28.183163</td>\n",
       "      <td>0.692308</td>\n",
       "      <td>5.621893</td>\n",
       "      <td>...</td>\n",
       "      <td>0.325</td>\n",
       "      <td>0.010636</td>\n",
       "      <td>10.0</td>\n",
       "      <td>6.0</td>\n",
       "      <td>4.0</td>\n",
       "      <td>3.0</td>\n",
       "      <td>3.0</td>\n",
       "      <td>0.0</td>\n",
       "      <td>0.020</td>\n",
       "      <td>0.001</td>\n",
       "    </tr>\n",
       "    <tr>\n",
       "      <th>2022-04-29 09:30:00 -&gt; 2022-06-29 15:00:00</th>\n",
       "      <td>[128017.SZ, 002597.SZ]</td>\n",
       "      <td>21.33</td>\n",
       "      <td>9.0</td>\n",
       "      <td>4.0</td>\n",
       "      <td>32.080133</td>\n",
       "      <td>-2.419310</td>\n",
       "      <td>29.660824</td>\n",
       "      <td>29.660824</td>\n",
       "      <td>0.692308</td>\n",
       "      <td>5.893350</td>\n",
       "      <td>...</td>\n",
       "      <td>0.325</td>\n",
       "      <td>0.011176</td>\n",
       "      <td>9.0</td>\n",
       "      <td>5.0</td>\n",
       "      <td>4.0</td>\n",
       "      <td>4.0</td>\n",
       "      <td>4.0</td>\n",
       "      <td>0.0</td>\n",
       "      <td>0.020</td>\n",
       "      <td>0.002</td>\n",
       "    </tr>\n",
       "    <tr>\n",
       "      <th>2022-04-29 09:30:00 -&gt; 2022-06-29 15:00:00</th>\n",
       "      <td>[128017.SZ, 002597.SZ]</td>\n",
       "      <td>21.33</td>\n",
       "      <td>9.0</td>\n",
       "      <td>4.0</td>\n",
       "      <td>31.818322</td>\n",
       "      <td>-2.419310</td>\n",
       "      <td>29.399012</td>\n",
       "      <td>29.399012</td>\n",
       "      <td>0.692308</td>\n",
       "      <td>5.845253</td>\n",
       "      <td>...</td>\n",
       "      <td>0.325</td>\n",
       "      <td>0.011066</td>\n",
       "      <td>9.0</td>\n",
       "      <td>5.0</td>\n",
       "      <td>4.0</td>\n",
       "      <td>4.0</td>\n",
       "      <td>4.0</td>\n",
       "      <td>0.0</td>\n",
       "      <td>0.020</td>\n",
       "      <td>0.003</td>\n",
       "    </tr>\n",
       "  </tbody>\n",
       "</table>\n",
       "<p>74 rows × 22 columns</p>\n",
       "</div>"
      ],
      "text/plain": [
       "                                                        cbond pair  \\\n",
       "2022-04-29 09:30:00 -> 2022-06-29 09:44:00  [128017.SZ, 002597.SZ]   \n",
       "2022-04-29 09:30:00 -> 2022-06-29 09:44:00  [128017.SZ, 002597.SZ]   \n",
       "2022-04-29 09:30:00 -> 2022-06-29 09:35:00  [128017.SZ, 002597.SZ]   \n",
       "2022-04-29 09:30:00 -> 2022-06-29 09:44:00  [128017.SZ, 002597.SZ]   \n",
       "2022-04-29 09:30:00 -> 2022-06-29 09:35:00  [128017.SZ, 002597.SZ]   \n",
       "2022-04-29 09:30:00 -> 2022-06-29 09:34:00  [128017.SZ, 002597.SZ]   \n",
       "2022-04-29 09:30:00 -> 2022-06-29 09:44:00  [128017.SZ, 002597.SZ]   \n",
       "2022-04-29 09:30:00 -> 2022-06-29 09:35:00  [128017.SZ, 002597.SZ]   \n",
       "2022-04-29 09:30:00 -> 2022-06-29 09:34:00  [128017.SZ, 002597.SZ]   \n",
       "2022-04-29 09:30:00 -> 2022-06-29 09:34:00  [128017.SZ, 002597.SZ]   \n",
       "2022-04-29 09:30:00 -> 2022-06-29 09:44:00  [128017.SZ, 002597.SZ]   \n",
       "2022-04-29 09:30:00 -> 2022-06-29 09:35:00  [128017.SZ, 002597.SZ]   \n",
       "2022-04-29 09:30:00 -> 2022-06-29 09:34:00  [128017.SZ, 002597.SZ]   \n",
       "2022-04-29 09:30:00 -> 2022-06-29 09:34:00  [128017.SZ, 002597.SZ]   \n",
       "2022-04-29 09:30:00 -> 2022-06-29 09:44:00  [128017.SZ, 002597.SZ]   \n",
       "2022-04-29 09:30:00 -> 2022-06-29 09:35:00  [128017.SZ, 002597.SZ]   \n",
       "2022-04-29 09:30:00 -> 2022-06-29 09:34:00  [128017.SZ, 002597.SZ]   \n",
       "2022-04-29 09:30:00 -> 2022-06-29 09:34:00  [128017.SZ, 002597.SZ]   \n",
       "2022-04-29 09:30:00 -> 2022-06-29 09:44:00  [128017.SZ, 002597.SZ]   \n",
       "2022-04-29 09:30:00 -> 2022-06-29 09:35:00  [128017.SZ, 002597.SZ]   \n",
       "2022-04-29 09:30:00 -> 2022-06-29 09:34:00  [128017.SZ, 002597.SZ]   \n",
       "2022-04-29 09:30:00 -> 2022-06-29 09:34:00  [128017.SZ, 002597.SZ]   \n",
       "2022-04-29 09:30:00 -> 2022-06-29 09:44:00  [128017.SZ, 002597.SZ]   \n",
       "2022-04-29 09:30:00 -> 2022-06-29 09:35:00  [128017.SZ, 002597.SZ]   \n",
       "2022-04-29 09:30:00 -> 2022-06-29 09:34:00  [128017.SZ, 002597.SZ]   \n",
       "2022-04-29 09:30:00 -> 2022-06-29 09:34:00  [128017.SZ, 002597.SZ]   \n",
       "2022-04-29 09:30:00 -> 2022-06-29 09:44:00  [128017.SZ, 002597.SZ]   \n",
       "2022-04-29 09:30:00 -> 2022-06-29 09:43:00  [128017.SZ, 002597.SZ]   \n",
       "2022-04-29 09:30:00 -> 2022-06-29 09:43:00  [128017.SZ, 002597.SZ]   \n",
       "2022-04-29 09:30:00 -> 2022-06-29 09:43:00  [128017.SZ, 002597.SZ]   \n",
       "2022-04-29 09:30:00 -> 2022-06-29 09:44:00  [128017.SZ, 002597.SZ]   \n",
       "2022-04-29 09:30:00 -> 2022-06-29 09:43:00  [128017.SZ, 002597.SZ]   \n",
       "2022-04-29 09:30:00 -> 2022-06-29 09:43:00  [128017.SZ, 002597.SZ]   \n",
       "2022-04-29 09:30:00 -> 2022-06-29 09:43:00  [128017.SZ, 002597.SZ]   \n",
       "2022-04-29 09:30:00 -> 2022-06-29 15:00:00  [128017.SZ, 002597.SZ]   \n",
       "2022-04-29 09:30:00 -> 2022-06-29 15:00:00  [128017.SZ, 002597.SZ]   \n",
       "2022-04-29 09:30:00 -> 2022-06-29 15:00:00  [128017.SZ, 002597.SZ]   \n",
       "2022-04-29 09:30:00 -> 2022-06-29 13:42:00  [128017.SZ, 002597.SZ]   \n",
       "2022-04-29 09:30:00 -> 2022-06-29 15:00:00  [128017.SZ, 002597.SZ]   \n",
       "2022-04-29 09:30:00 -> 2022-06-29 15:00:00  [128017.SZ, 002597.SZ]   \n",
       "2022-04-29 09:30:00 -> 2022-06-29 15:00:00  [128017.SZ, 002597.SZ]   \n",
       "2022-04-29 09:30:00 -> 2022-06-29 15:00:00  [128017.SZ, 002597.SZ]   \n",
       "2022-04-29 09:30:00 -> 2022-06-29 15:00:00  [128017.SZ, 002597.SZ]   \n",
       "2022-04-29 09:30:00 -> 2022-06-29 15:00:00  [128017.SZ, 002597.SZ]   \n",
       "2022-04-29 09:30:00 -> 2022-06-29 15:00:00  [128017.SZ, 002597.SZ]   \n",
       "2022-04-29 09:30:00 -> 2022-06-29 15:00:00  [128017.SZ, 002597.SZ]   \n",
       "2022-04-29 09:30:00 -> 2022-06-29 15:00:00  [128017.SZ, 002597.SZ]   \n",
       "2022-04-29 09:30:00 -> 2022-06-29 15:00:00  [128017.SZ, 002597.SZ]   \n",
       "2022-04-29 09:30:00 -> 2022-06-29 15:00:00  [128017.SZ, 002597.SZ]   \n",
       "2022-04-29 09:30:00 -> 2022-06-29 15:00:00  [128017.SZ, 002597.SZ]   \n",
       "2022-04-29 09:30:00 -> 2022-06-29 15:00:00  [128017.SZ, 002597.SZ]   \n",
       "2022-04-29 09:30:00 -> 2022-06-29 15:00:00  [128017.SZ, 002597.SZ]   \n",
       "2022-04-29 09:30:00 -> 2022-06-29 15:00:00  [128017.SZ, 002597.SZ]   \n",
       "2022-04-29 09:30:00 -> 2022-06-29 15:00:00  [128017.SZ, 002597.SZ]   \n",
       "2022-04-29 09:30:00 -> 2022-06-29 15:00:00  [128017.SZ, 002597.SZ]   \n",
       "2022-04-29 09:30:00 -> 2022-06-29 15:00:00  [128017.SZ, 002597.SZ]   \n",
       "2022-04-29 09:30:00 -> 2022-06-29 15:00:00  [128017.SZ, 002597.SZ]   \n",
       "2022-04-29 09:30:00 -> 2022-06-29 15:00:00  [128017.SZ, 002597.SZ]   \n",
       "2022-04-29 09:30:00 -> 2022-06-29 15:00:00  [128017.SZ, 002597.SZ]   \n",
       "2022-04-29 09:30:00 -> 2022-06-29 15:00:00  [128017.SZ, 002597.SZ]   \n",
       "2022-04-29 09:30:00 -> 2022-06-29 15:00:00  [128017.SZ, 002597.SZ]   \n",
       "2022-04-29 09:30:00 -> 2022-06-29 15:00:00  [128017.SZ, 002597.SZ]   \n",
       "2022-04-29 09:30:00 -> 2022-06-29 15:00:00  [128017.SZ, 002597.SZ]   \n",
       "2022-04-29 09:30:00 -> 2022-06-29 15:00:00  [128017.SZ, 002597.SZ]   \n",
       "2022-04-29 09:30:00 -> 2022-06-29 15:00:00  [128017.SZ, 002597.SZ]   \n",
       "2022-04-29 09:30:00 -> 2022-06-29 15:00:00  [128017.SZ, 002597.SZ]   \n",
       "2022-04-29 09:30:00 -> 2022-06-29 15:00:00  [128017.SZ, 002597.SZ]   \n",
       "2022-04-29 09:30:00 -> 2022-06-29 15:00:00  [128017.SZ, 002597.SZ]   \n",
       "2022-04-29 09:30:00 -> 2022-06-29 15:00:00  [128017.SZ, 002597.SZ]   \n",
       "2022-04-29 09:30:00 -> 2022-06-29 15:00:00  [128017.SZ, 002597.SZ]   \n",
       "2022-04-29 09:30:00 -> 2022-06-29 15:00:00  [128017.SZ, 002597.SZ]   \n",
       "2022-04-29 09:30:00 -> 2022-06-29 15:00:00  [128017.SZ, 002597.SZ]   \n",
       "2022-04-29 09:30:00 -> 2022-06-29 15:00:00  [128017.SZ, 002597.SZ]   \n",
       "2022-04-29 09:30:00 -> 2022-06-29 15:00:00  [128017.SZ, 002597.SZ]   \n",
       "\n",
       "                                            convert price   win  lose  \\\n",
       "2022-04-29 09:30:00 -> 2022-06-29 09:44:00          21.33  35.0   5.0   \n",
       "2022-04-29 09:30:00 -> 2022-06-29 09:44:00          21.33  34.0   6.0   \n",
       "2022-04-29 09:30:00 -> 2022-06-29 09:35:00          21.33  36.0   4.0   \n",
       "2022-04-29 09:30:00 -> 2022-06-29 09:44:00          21.33  34.0   6.0   \n",
       "2022-04-29 09:30:00 -> 2022-06-29 09:35:00          21.33  37.0   3.0   \n",
       "2022-04-29 09:30:00 -> 2022-06-29 09:34:00          21.33  35.0   5.0   \n",
       "2022-04-29 09:30:00 -> 2022-06-29 09:44:00          21.33  33.0   7.0   \n",
       "2022-04-29 09:30:00 -> 2022-06-29 09:35:00          21.33  37.0   3.0   \n",
       "2022-04-29 09:30:00 -> 2022-06-29 09:34:00          21.33  37.0   3.0   \n",
       "2022-04-29 09:30:00 -> 2022-06-29 09:34:00          21.33  37.0   3.0   \n",
       "2022-04-29 09:30:00 -> 2022-06-29 09:44:00          21.33  32.0   8.0   \n",
       "2022-04-29 09:30:00 -> 2022-06-29 09:35:00          21.33  36.0   4.0   \n",
       "2022-04-29 09:30:00 -> 2022-06-29 09:34:00          21.33  36.0   4.0   \n",
       "2022-04-29 09:30:00 -> 2022-06-29 09:34:00          21.33  37.0   3.0   \n",
       "2022-04-29 09:30:00 -> 2022-06-29 09:44:00          21.33  29.0  11.0   \n",
       "2022-04-29 09:30:00 -> 2022-06-29 09:35:00          21.33  34.0   6.0   \n",
       "2022-04-29 09:30:00 -> 2022-06-29 09:34:00          21.33  34.0   6.0   \n",
       "2022-04-29 09:30:00 -> 2022-06-29 09:34:00          21.33  36.0   4.0   \n",
       "2022-04-29 09:30:00 -> 2022-06-29 09:44:00          21.33  29.0  10.0   \n",
       "2022-04-29 09:30:00 -> 2022-06-29 09:35:00          21.33  32.0   7.0   \n",
       "2022-04-29 09:30:00 -> 2022-06-29 09:34:00          21.33  33.0   6.0   \n",
       "2022-04-29 09:30:00 -> 2022-06-29 09:34:00          21.33  35.0   4.0   \n",
       "2022-04-29 09:30:00 -> 2022-06-29 09:44:00          21.33  27.0  11.0   \n",
       "2022-04-29 09:30:00 -> 2022-06-29 09:35:00          21.33  29.0   9.0   \n",
       "2022-04-29 09:30:00 -> 2022-06-29 09:34:00          21.33  30.0   8.0   \n",
       "2022-04-29 09:30:00 -> 2022-06-29 09:34:00          21.33  32.0   6.0   \n",
       "2022-04-29 09:30:00 -> 2022-06-29 09:44:00          21.33  24.0  14.0   \n",
       "2022-04-29 09:30:00 -> 2022-06-29 09:43:00          21.33  26.0  12.0   \n",
       "2022-04-29 09:30:00 -> 2022-06-29 09:43:00          21.33  26.0  12.0   \n",
       "2022-04-29 09:30:00 -> 2022-06-29 09:43:00          21.33  28.0  10.0   \n",
       "2022-04-29 09:30:00 -> 2022-06-29 09:44:00          21.33  26.0  10.0   \n",
       "2022-04-29 09:30:00 -> 2022-06-29 09:43:00          21.33  27.0   9.0   \n",
       "2022-04-29 09:30:00 -> 2022-06-29 09:43:00          21.33  27.0   9.0   \n",
       "2022-04-29 09:30:00 -> 2022-06-29 09:43:00          21.33  28.0   8.0   \n",
       "2022-04-29 09:30:00 -> 2022-06-29 15:00:00          21.33  24.0   9.0   \n",
       "2022-04-29 09:30:00 -> 2022-06-29 15:00:00          21.33  25.0   8.0   \n",
       "2022-04-29 09:30:00 -> 2022-06-29 15:00:00          21.33  25.0   8.0   \n",
       "2022-04-29 09:30:00 -> 2022-06-29 13:42:00          21.33  26.0   7.0   \n",
       "2022-04-29 09:30:00 -> 2022-06-29 15:00:00          21.33  25.0   8.0   \n",
       "2022-04-29 09:30:00 -> 2022-06-29 15:00:00          21.33  25.0   8.0   \n",
       "2022-04-29 09:30:00 -> 2022-06-29 15:00:00          21.33  25.0   8.0   \n",
       "2022-04-29 09:30:00 -> 2022-06-29 15:00:00          21.33  25.0   8.0   \n",
       "2022-04-29 09:30:00 -> 2022-06-29 15:00:00          21.33  20.0   8.0   \n",
       "2022-04-29 09:30:00 -> 2022-06-29 15:00:00          21.33  20.0   8.0   \n",
       "2022-04-29 09:30:00 -> 2022-06-29 15:00:00          21.33  20.0   8.0   \n",
       "2022-04-29 09:30:00 -> 2022-06-29 15:00:00          21.33  20.0   8.0   \n",
       "2022-04-29 09:30:00 -> 2022-06-29 15:00:00          21.33  16.0   7.0   \n",
       "2022-04-29 09:30:00 -> 2022-06-29 15:00:00          21.33  16.0   7.0   \n",
       "2022-04-29 09:30:00 -> 2022-06-29 15:00:00          21.33  16.0   7.0   \n",
       "2022-04-29 09:30:00 -> 2022-06-29 15:00:00          21.33  16.0   7.0   \n",
       "2022-04-29 09:30:00 -> 2022-06-29 15:00:00          21.33  13.0   7.0   \n",
       "2022-04-29 09:30:00 -> 2022-06-29 15:00:00          21.33  13.0   7.0   \n",
       "2022-04-29 09:30:00 -> 2022-06-29 15:00:00          21.33  13.0   7.0   \n",
       "2022-04-29 09:30:00 -> 2022-06-29 15:00:00          21.33  13.0   7.0   \n",
       "2022-04-29 09:30:00 -> 2022-06-29 15:00:00          21.33  13.0   6.0   \n",
       "2022-04-29 09:30:00 -> 2022-06-29 15:00:00          21.33  13.0   6.0   \n",
       "2022-04-29 09:30:00 -> 2022-06-29 15:00:00          21.33  13.0   6.0   \n",
       "2022-04-29 09:30:00 -> 2022-06-29 15:00:00          21.33  13.0   6.0   \n",
       "2022-04-29 09:30:00 -> 2022-06-29 15:00:00          21.33  12.0   5.0   \n",
       "2022-04-29 09:30:00 -> 2022-06-29 15:00:00          21.33  12.0   5.0   \n",
       "2022-04-29 09:30:00 -> 2022-06-29 15:00:00          21.33  12.0   5.0   \n",
       "2022-04-29 09:30:00 -> 2022-06-29 15:00:00          21.33  12.0   5.0   \n",
       "2022-04-29 09:30:00 -> 2022-06-29 15:00:00          21.33   9.0   5.0   \n",
       "2022-04-29 09:30:00 -> 2022-06-29 15:00:00          21.33   9.0   5.0   \n",
       "2022-04-29 09:30:00 -> 2022-06-29 15:00:00          21.33   9.0   5.0   \n",
       "2022-04-29 09:30:00 -> 2022-06-29 15:00:00          21.33   9.0   5.0   \n",
       "2022-04-29 09:30:00 -> 2022-06-29 15:00:00          21.33   9.0   5.0   \n",
       "2022-04-29 09:30:00 -> 2022-06-29 15:00:00          21.33   9.0   5.0   \n",
       "2022-04-29 09:30:00 -> 2022-06-29 15:00:00          21.33   9.0   5.0   \n",
       "2022-04-29 09:30:00 -> 2022-06-29 15:00:00          21.33   9.0   5.0   \n",
       "2022-04-29 09:30:00 -> 2022-06-29 15:00:00          21.33   9.0   4.0   \n",
       "2022-04-29 09:30:00 -> 2022-06-29 15:00:00          21.33   9.0   4.0   \n",
       "2022-04-29 09:30:00 -> 2022-06-29 15:00:00          21.33   9.0   4.0   \n",
       "2022-04-29 09:30:00 -> 2022-06-29 15:00:00          21.33   9.0   4.0   \n",
       "\n",
       "                                            win profit  lose profit  \\\n",
       "2022-04-29 09:30:00 -> 2022-06-29 09:44:00   39.227711    -7.741370   \n",
       "2022-04-29 09:30:00 -> 2022-06-29 09:44:00   39.900192    -8.570456   \n",
       "2022-04-29 09:30:00 -> 2022-06-29 09:35:00   36.136964    -4.638291   \n",
       "2022-04-29 09:30:00 -> 2022-06-29 09:44:00   42.054689    -8.570456   \n",
       "2022-04-29 09:30:00 -> 2022-06-29 09:35:00   37.743600    -4.561868   \n",
       "2022-04-29 09:30:00 -> 2022-06-29 09:34:00   35.900459    -4.669502   \n",
       "2022-04-29 09:30:00 -> 2022-06-29 09:44:00   46.267836    -8.863813   \n",
       "2022-04-29 09:30:00 -> 2022-06-29 09:35:00   43.017605    -4.561868   \n",
       "2022-04-29 09:30:00 -> 2022-06-29 09:34:00   40.726725    -4.561868   \n",
       "2022-04-29 09:30:00 -> 2022-06-29 09:34:00   33.192376    -4.561868   \n",
       "2022-04-29 09:30:00 -> 2022-06-29 09:44:00   46.448389   -10.054859   \n",
       "2022-04-29 09:30:00 -> 2022-06-29 09:35:00   43.144674    -5.752915   \n",
       "2022-04-29 09:30:00 -> 2022-06-29 09:34:00   41.092190    -5.752915   \n",
       "2022-04-29 09:30:00 -> 2022-06-29 09:34:00   33.964359    -4.561868   \n",
       "2022-04-29 09:30:00 -> 2022-06-29 09:44:00   46.303995   -12.291758   \n",
       "2022-04-29 09:30:00 -> 2022-06-29 09:35:00   45.083093    -8.656925   \n",
       "2022-04-29 09:30:00 -> 2022-06-29 09:34:00   42.596473    -8.656925   \n",
       "2022-04-29 09:30:00 -> 2022-06-29 09:34:00   39.961925    -7.180684   \n",
       "2022-04-29 09:30:00 -> 2022-06-29 09:44:00   48.831406   -10.534108   \n",
       "2022-04-29 09:30:00 -> 2022-06-29 09:35:00   48.598622    -8.789066   \n",
       "2022-04-29 09:30:00 -> 2022-06-29 09:34:00   47.504947    -8.399969   \n",
       "2022-04-29 09:30:00 -> 2022-06-29 09:34:00   44.697424    -6.923728   \n",
       "2022-04-29 09:30:00 -> 2022-06-29 09:44:00   51.416993   -13.261018   \n",
       "2022-04-29 09:30:00 -> 2022-06-29 09:35:00   49.802347   -12.030089   \n",
       "2022-04-29 09:30:00 -> 2022-06-29 09:34:00   48.925296   -11.804624   \n",
       "2022-04-29 09:30:00 -> 2022-06-29 09:34:00   46.075353   -10.328383   \n",
       "2022-04-29 09:30:00 -> 2022-06-29 09:44:00   48.989131   -17.265618   \n",
       "2022-04-29 09:30:00 -> 2022-06-29 09:43:00   47.953635   -16.109199   \n",
       "2022-04-29 09:30:00 -> 2022-06-29 09:43:00   46.225425   -16.109199   \n",
       "2022-04-29 09:30:00 -> 2022-06-29 09:43:00   44.525320   -14.805342   \n",
       "2022-04-29 09:30:00 -> 2022-06-29 09:44:00   52.233852   -14.677112   \n",
       "2022-04-29 09:30:00 -> 2022-06-29 09:43:00   50.597539   -14.185721   \n",
       "2022-04-29 09:30:00 -> 2022-06-29 09:43:00   48.972052   -14.185721   \n",
       "2022-04-29 09:30:00 -> 2022-06-29 09:43:00   46.587510   -13.984565   \n",
       "2022-04-29 09:30:00 -> 2022-06-29 15:00:00   50.647118   -14.243596   \n",
       "2022-04-29 09:30:00 -> 2022-06-29 15:00:00   49.754189   -13.805545   \n",
       "2022-04-29 09:30:00 -> 2022-06-29 15:00:00   48.402900   -13.805545   \n",
       "2022-04-29 09:30:00 -> 2022-06-29 13:42:00   47.776693   -11.669972   \n",
       "2022-04-29 09:30:00 -> 2022-06-29 15:00:00   54.818665   -11.763075   \n",
       "2022-04-29 09:30:00 -> 2022-06-29 15:00:00   51.885027   -11.763075   \n",
       "2022-04-29 09:30:00 -> 2022-06-29 15:00:00   51.038426   -11.763075   \n",
       "2022-04-29 09:30:00 -> 2022-06-29 15:00:00   49.305754   -11.763075   \n",
       "2022-04-29 09:30:00 -> 2022-06-29 15:00:00   48.080211   -10.549047   \n",
       "2022-04-29 09:30:00 -> 2022-06-29 15:00:00   46.970359   -10.549047   \n",
       "2022-04-29 09:30:00 -> 2022-06-29 15:00:00   46.569048   -10.549047   \n",
       "2022-04-29 09:30:00 -> 2022-06-29 15:00:00   43.873078   -10.549047   \n",
       "2022-04-29 09:30:00 -> 2022-06-29 15:00:00   40.406866    -8.365104   \n",
       "2022-04-29 09:30:00 -> 2022-06-29 15:00:00   39.874442    -8.365104   \n",
       "2022-04-29 09:30:00 -> 2022-06-29 15:00:00   39.768018    -8.365104   \n",
       "2022-04-29 09:30:00 -> 2022-06-29 15:00:00   37.496817    -8.365104   \n",
       "2022-04-29 09:30:00 -> 2022-06-29 15:00:00   33.814269    -7.556138   \n",
       "2022-04-29 09:30:00 -> 2022-06-29 15:00:00   33.281414    -7.556138   \n",
       "2022-04-29 09:30:00 -> 2022-06-29 15:00:00   33.789351    -7.556138   \n",
       "2022-04-29 09:30:00 -> 2022-06-29 15:00:00   31.832593    -7.556138   \n",
       "2022-04-29 09:30:00 -> 2022-06-29 15:00:00   35.038994    -6.658972   \n",
       "2022-04-29 09:30:00 -> 2022-06-29 15:00:00   34.504830    -6.658972   \n",
       "2022-04-29 09:30:00 -> 2022-06-29 15:00:00   35.012536    -6.658972   \n",
       "2022-04-29 09:30:00 -> 2022-06-29 15:00:00   34.154309    -6.658972   \n",
       "2022-04-29 09:30:00 -> 2022-06-29 15:00:00   33.427037    -5.288753   \n",
       "2022-04-29 09:30:00 -> 2022-06-29 15:00:00   33.070606    -5.288753   \n",
       "2022-04-29 09:30:00 -> 2022-06-29 15:00:00   33.851137    -5.288753   \n",
       "2022-04-29 09:30:00 -> 2022-06-29 15:00:00   32.993496    -5.288753   \n",
       "2022-04-29 09:30:00 -> 2022-06-29 15:00:00   24.799762    -4.317659   \n",
       "2022-04-29 09:30:00 -> 2022-06-29 15:00:00   24.590163    -4.317659   \n",
       "2022-04-29 09:30:00 -> 2022-06-29 15:00:00   26.060714    -4.317659   \n",
       "2022-04-29 09:30:00 -> 2022-06-29 15:00:00   25.767031    -4.317659   \n",
       "2022-04-29 09:30:00 -> 2022-06-29 15:00:00   29.961365    -3.298565   \n",
       "2022-04-29 09:30:00 -> 2022-06-29 15:00:00   29.743709    -3.298565   \n",
       "2022-04-29 09:30:00 -> 2022-06-29 15:00:00   31.221370    -3.298565   \n",
       "2022-04-29 09:30:00 -> 2022-06-29 15:00:00   30.959558    -3.298565   \n",
       "2022-04-29 09:30:00 -> 2022-06-29 15:00:00   30.820128    -2.419310   \n",
       "2022-04-29 09:30:00 -> 2022-06-29 15:00:00   30.602472    -2.419310   \n",
       "2022-04-29 09:30:00 -> 2022-06-29 15:00:00   32.080133    -2.419310   \n",
       "2022-04-29 09:30:00 -> 2022-06-29 15:00:00   31.818322    -2.419310   \n",
       "\n",
       "                                            sum of win&lose profit  \\\n",
       "2022-04-29 09:30:00 -> 2022-06-29 09:44:00               31.486341   \n",
       "2022-04-29 09:30:00 -> 2022-06-29 09:44:00               31.329735   \n",
       "2022-04-29 09:30:00 -> 2022-06-29 09:35:00               31.498673   \n",
       "2022-04-29 09:30:00 -> 2022-06-29 09:44:00               33.484233   \n",
       "2022-04-29 09:30:00 -> 2022-06-29 09:35:00               33.181732   \n",
       "2022-04-29 09:30:00 -> 2022-06-29 09:34:00               31.230957   \n",
       "2022-04-29 09:30:00 -> 2022-06-29 09:44:00               37.404024   \n",
       "2022-04-29 09:30:00 -> 2022-06-29 09:35:00               38.455737   \n",
       "2022-04-29 09:30:00 -> 2022-06-29 09:34:00               36.164857   \n",
       "2022-04-29 09:30:00 -> 2022-06-29 09:34:00               28.630508   \n",
       "2022-04-29 09:30:00 -> 2022-06-29 09:44:00               36.393530   \n",
       "2022-04-29 09:30:00 -> 2022-06-29 09:35:00               37.391759   \n",
       "2022-04-29 09:30:00 -> 2022-06-29 09:34:00               35.339275   \n",
       "2022-04-29 09:30:00 -> 2022-06-29 09:34:00               29.402491   \n",
       "2022-04-29 09:30:00 -> 2022-06-29 09:44:00               34.012237   \n",
       "2022-04-29 09:30:00 -> 2022-06-29 09:35:00               36.426168   \n",
       "2022-04-29 09:30:00 -> 2022-06-29 09:34:00               33.939548   \n",
       "2022-04-29 09:30:00 -> 2022-06-29 09:34:00               32.781241   \n",
       "2022-04-29 09:30:00 -> 2022-06-29 09:44:00               38.297298   \n",
       "2022-04-29 09:30:00 -> 2022-06-29 09:35:00               39.809556   \n",
       "2022-04-29 09:30:00 -> 2022-06-29 09:34:00               39.104978   \n",
       "2022-04-29 09:30:00 -> 2022-06-29 09:34:00               37.773696   \n",
       "2022-04-29 09:30:00 -> 2022-06-29 09:44:00               38.155974   \n",
       "2022-04-29 09:30:00 -> 2022-06-29 09:35:00               37.772258   \n",
       "2022-04-29 09:30:00 -> 2022-06-29 09:34:00               37.120672   \n",
       "2022-04-29 09:30:00 -> 2022-06-29 09:34:00               35.746970   \n",
       "2022-04-29 09:30:00 -> 2022-06-29 09:44:00               31.723513   \n",
       "2022-04-29 09:30:00 -> 2022-06-29 09:43:00               31.844436   \n",
       "2022-04-29 09:30:00 -> 2022-06-29 09:43:00               30.116226   \n",
       "2022-04-29 09:30:00 -> 2022-06-29 09:43:00               29.719978   \n",
       "2022-04-29 09:30:00 -> 2022-06-29 09:44:00               37.556740   \n",
       "2022-04-29 09:30:00 -> 2022-06-29 09:43:00               36.411818   \n",
       "2022-04-29 09:30:00 -> 2022-06-29 09:43:00               34.786331   \n",
       "2022-04-29 09:30:00 -> 2022-06-29 09:43:00               32.602945   \n",
       "2022-04-29 09:30:00 -> 2022-06-29 15:00:00               36.403522   \n",
       "2022-04-29 09:30:00 -> 2022-06-29 15:00:00               35.948645   \n",
       "2022-04-29 09:30:00 -> 2022-06-29 15:00:00               34.597356   \n",
       "2022-04-29 09:30:00 -> 2022-06-29 13:42:00               36.106721   \n",
       "2022-04-29 09:30:00 -> 2022-06-29 15:00:00               43.055591   \n",
       "2022-04-29 09:30:00 -> 2022-06-29 15:00:00               40.121952   \n",
       "2022-04-29 09:30:00 -> 2022-06-29 15:00:00               39.275352   \n",
       "2022-04-29 09:30:00 -> 2022-06-29 15:00:00               37.542680   \n",
       "2022-04-29 09:30:00 -> 2022-06-29 15:00:00               37.531164   \n",
       "2022-04-29 09:30:00 -> 2022-06-29 15:00:00               36.421312   \n",
       "2022-04-29 09:30:00 -> 2022-06-29 15:00:00               36.020001   \n",
       "2022-04-29 09:30:00 -> 2022-06-29 15:00:00               33.324031   \n",
       "2022-04-29 09:30:00 -> 2022-06-29 15:00:00               32.041763   \n",
       "2022-04-29 09:30:00 -> 2022-06-29 15:00:00               31.509338   \n",
       "2022-04-29 09:30:00 -> 2022-06-29 15:00:00               31.402914   \n",
       "2022-04-29 09:30:00 -> 2022-06-29 15:00:00               29.131713   \n",
       "2022-04-29 09:30:00 -> 2022-06-29 15:00:00               26.258131   \n",
       "2022-04-29 09:30:00 -> 2022-06-29 15:00:00               25.725276   \n",
       "2022-04-29 09:30:00 -> 2022-06-29 15:00:00               26.233213   \n",
       "2022-04-29 09:30:00 -> 2022-06-29 15:00:00               24.276455   \n",
       "2022-04-29 09:30:00 -> 2022-06-29 15:00:00               28.380022   \n",
       "2022-04-29 09:30:00 -> 2022-06-29 15:00:00               27.845857   \n",
       "2022-04-29 09:30:00 -> 2022-06-29 15:00:00               28.353563   \n",
       "2022-04-29 09:30:00 -> 2022-06-29 15:00:00               27.495337   \n",
       "2022-04-29 09:30:00 -> 2022-06-29 15:00:00               28.138283   \n",
       "2022-04-29 09:30:00 -> 2022-06-29 15:00:00               27.781852   \n",
       "2022-04-29 09:30:00 -> 2022-06-29 15:00:00               28.562384   \n",
       "2022-04-29 09:30:00 -> 2022-06-29 15:00:00               27.704742   \n",
       "2022-04-29 09:30:00 -> 2022-06-29 15:00:00               20.482103   \n",
       "2022-04-29 09:30:00 -> 2022-06-29 15:00:00               20.272504   \n",
       "2022-04-29 09:30:00 -> 2022-06-29 15:00:00               21.743055   \n",
       "2022-04-29 09:30:00 -> 2022-06-29 15:00:00               21.449373   \n",
       "2022-04-29 09:30:00 -> 2022-06-29 15:00:00               26.662799   \n",
       "2022-04-29 09:30:00 -> 2022-06-29 15:00:00               26.445143   \n",
       "2022-04-29 09:30:00 -> 2022-06-29 15:00:00               27.922804   \n",
       "2022-04-29 09:30:00 -> 2022-06-29 15:00:00               27.660993   \n",
       "2022-04-29 09:30:00 -> 2022-06-29 15:00:00               28.400819   \n",
       "2022-04-29 09:30:00 -> 2022-06-29 15:00:00               28.183163   \n",
       "2022-04-29 09:30:00 -> 2022-06-29 15:00:00               29.660824   \n",
       "2022-04-29 09:30:00 -> 2022-06-29 15:00:00               29.399012   \n",
       "\n",
       "                                            final net value  win rate  \\\n",
       "2022-04-29 09:30:00 -> 2022-06-29 09:44:00        31.486341  0.875000   \n",
       "2022-04-29 09:30:00 -> 2022-06-29 09:44:00        31.329735  0.850000   \n",
       "2022-04-29 09:30:00 -> 2022-06-29 09:35:00        31.498673  0.900000   \n",
       "2022-04-29 09:30:00 -> 2022-06-29 09:44:00        33.484233  0.850000   \n",
       "2022-04-29 09:30:00 -> 2022-06-29 09:35:00        33.181732  0.925000   \n",
       "2022-04-29 09:30:00 -> 2022-06-29 09:34:00        31.230957  0.875000   \n",
       "2022-04-29 09:30:00 -> 2022-06-29 09:44:00        37.404024  0.825000   \n",
       "2022-04-29 09:30:00 -> 2022-06-29 09:35:00        38.455737  0.925000   \n",
       "2022-04-29 09:30:00 -> 2022-06-29 09:34:00        36.164857  0.925000   \n",
       "2022-04-29 09:30:00 -> 2022-06-29 09:34:00        28.630508  0.925000   \n",
       "2022-04-29 09:30:00 -> 2022-06-29 09:44:00        36.393530  0.800000   \n",
       "2022-04-29 09:30:00 -> 2022-06-29 09:35:00        37.391759  0.900000   \n",
       "2022-04-29 09:30:00 -> 2022-06-29 09:34:00        35.339275  0.900000   \n",
       "2022-04-29 09:30:00 -> 2022-06-29 09:34:00        29.402491  0.925000   \n",
       "2022-04-29 09:30:00 -> 2022-06-29 09:44:00        34.012237  0.725000   \n",
       "2022-04-29 09:30:00 -> 2022-06-29 09:35:00        36.426168  0.850000   \n",
       "2022-04-29 09:30:00 -> 2022-06-29 09:34:00        33.939548  0.850000   \n",
       "2022-04-29 09:30:00 -> 2022-06-29 09:34:00        32.781241  0.900000   \n",
       "2022-04-29 09:30:00 -> 2022-06-29 09:44:00        38.297298  0.743590   \n",
       "2022-04-29 09:30:00 -> 2022-06-29 09:35:00        39.809556  0.820513   \n",
       "2022-04-29 09:30:00 -> 2022-06-29 09:34:00        39.104978  0.846154   \n",
       "2022-04-29 09:30:00 -> 2022-06-29 09:34:00        37.773696  0.897436   \n",
       "2022-04-29 09:30:00 -> 2022-06-29 09:44:00        38.155974  0.710526   \n",
       "2022-04-29 09:30:00 -> 2022-06-29 09:35:00        37.772258  0.763158   \n",
       "2022-04-29 09:30:00 -> 2022-06-29 09:34:00        37.120672  0.789474   \n",
       "2022-04-29 09:30:00 -> 2022-06-29 09:34:00        35.746970  0.842105   \n",
       "2022-04-29 09:30:00 -> 2022-06-29 09:44:00        31.723513  0.631579   \n",
       "2022-04-29 09:30:00 -> 2022-06-29 09:43:00        31.844436  0.684211   \n",
       "2022-04-29 09:30:00 -> 2022-06-29 09:43:00        30.116226  0.684211   \n",
       "2022-04-29 09:30:00 -> 2022-06-29 09:43:00        29.719978  0.736842   \n",
       "2022-04-29 09:30:00 -> 2022-06-29 09:44:00        37.556740  0.722222   \n",
       "2022-04-29 09:30:00 -> 2022-06-29 09:43:00        36.411818  0.750000   \n",
       "2022-04-29 09:30:00 -> 2022-06-29 09:43:00        34.786331  0.750000   \n",
       "2022-04-29 09:30:00 -> 2022-06-29 09:43:00        32.602945  0.777778   \n",
       "2022-04-29 09:30:00 -> 2022-06-29 15:00:00        36.403522  0.727273   \n",
       "2022-04-29 09:30:00 -> 2022-06-29 15:00:00        35.948645  0.757576   \n",
       "2022-04-29 09:30:00 -> 2022-06-29 15:00:00        34.597356  0.757576   \n",
       "2022-04-29 09:30:00 -> 2022-06-29 13:42:00        36.106721  0.787879   \n",
       "2022-04-29 09:30:00 -> 2022-06-29 15:00:00        43.055591  0.757576   \n",
       "2022-04-29 09:30:00 -> 2022-06-29 15:00:00        40.121952  0.757576   \n",
       "2022-04-29 09:30:00 -> 2022-06-29 15:00:00        39.275352  0.757576   \n",
       "2022-04-29 09:30:00 -> 2022-06-29 15:00:00        37.542680  0.757576   \n",
       "2022-04-29 09:30:00 -> 2022-06-29 15:00:00        37.531164  0.714286   \n",
       "2022-04-29 09:30:00 -> 2022-06-29 15:00:00        36.421312  0.714286   \n",
       "2022-04-29 09:30:00 -> 2022-06-29 15:00:00        36.020001  0.714286   \n",
       "2022-04-29 09:30:00 -> 2022-06-29 15:00:00        33.324031  0.714286   \n",
       "2022-04-29 09:30:00 -> 2022-06-29 15:00:00        32.041763  0.695652   \n",
       "2022-04-29 09:30:00 -> 2022-06-29 15:00:00        31.509338  0.695652   \n",
       "2022-04-29 09:30:00 -> 2022-06-29 15:00:00        31.402914  0.695652   \n",
       "2022-04-29 09:30:00 -> 2022-06-29 15:00:00        29.131713  0.695652   \n",
       "2022-04-29 09:30:00 -> 2022-06-29 15:00:00        26.258131  0.650000   \n",
       "2022-04-29 09:30:00 -> 2022-06-29 15:00:00        25.725276  0.650000   \n",
       "2022-04-29 09:30:00 -> 2022-06-29 15:00:00        26.233213  0.650000   \n",
       "2022-04-29 09:30:00 -> 2022-06-29 15:00:00        24.276455  0.650000   \n",
       "2022-04-29 09:30:00 -> 2022-06-29 15:00:00        28.380022  0.684211   \n",
       "2022-04-29 09:30:00 -> 2022-06-29 15:00:00        27.845857  0.684211   \n",
       "2022-04-29 09:30:00 -> 2022-06-29 15:00:00        28.353563  0.684211   \n",
       "2022-04-29 09:30:00 -> 2022-06-29 15:00:00        27.495337  0.684211   \n",
       "2022-04-29 09:30:00 -> 2022-06-29 15:00:00        28.138283  0.705882   \n",
       "2022-04-29 09:30:00 -> 2022-06-29 15:00:00        27.781852  0.705882   \n",
       "2022-04-29 09:30:00 -> 2022-06-29 15:00:00        28.562384  0.705882   \n",
       "2022-04-29 09:30:00 -> 2022-06-29 15:00:00        27.704742  0.705882   \n",
       "2022-04-29 09:30:00 -> 2022-06-29 15:00:00        20.482103  0.642857   \n",
       "2022-04-29 09:30:00 -> 2022-06-29 15:00:00        20.272504  0.642857   \n",
       "2022-04-29 09:30:00 -> 2022-06-29 15:00:00        21.743055  0.642857   \n",
       "2022-04-29 09:30:00 -> 2022-06-29 15:00:00        21.449373  0.642857   \n",
       "2022-04-29 09:30:00 -> 2022-06-29 15:00:00        26.662799  0.642857   \n",
       "2022-04-29 09:30:00 -> 2022-06-29 15:00:00        26.445143  0.642857   \n",
       "2022-04-29 09:30:00 -> 2022-06-29 15:00:00        27.922804  0.642857   \n",
       "2022-04-29 09:30:00 -> 2022-06-29 15:00:00        27.660993  0.642857   \n",
       "2022-04-29 09:30:00 -> 2022-06-29 15:00:00        28.400819  0.692308   \n",
       "2022-04-29 09:30:00 -> 2022-06-29 15:00:00        28.183163  0.692308   \n",
       "2022-04-29 09:30:00 -> 2022-06-29 15:00:00        29.660824  0.692308   \n",
       "2022-04-29 09:30:00 -> 2022-06-29 15:00:00        29.399012  0.692308   \n",
       "\n",
       "                                            profit ratio  ...  \\\n",
       "2022-04-29 09:30:00 -> 2022-06-29 09:44:00      0.723898  ...   \n",
       "2022-04-29 09:30:00 -> 2022-06-29 09:44:00      0.821568  ...   \n",
       "2022-04-29 09:30:00 -> 2022-06-29 09:35:00      0.865668  ...   \n",
       "2022-04-29 09:30:00 -> 2022-06-29 09:44:00      0.865930  ...   \n",
       "2022-04-29 09:30:00 -> 2022-06-29 09:35:00      0.670842  ...   \n",
       "2022-04-29 09:30:00 -> 2022-06-29 09:34:00      1.098326  ...   \n",
       "2022-04-29 09:30:00 -> 2022-06-29 09:44:00      1.107242  ...   \n",
       "2022-04-29 09:30:00 -> 2022-06-29 09:35:00      0.764580  ...   \n",
       "2022-04-29 09:30:00 -> 2022-06-29 09:34:00      0.723863  ...   \n",
       "2022-04-29 09:30:00 -> 2022-06-29 09:34:00      0.589950  ...   \n",
       "2022-04-29 09:30:00 -> 2022-06-29 09:44:00      1.154874  ...   \n",
       "2022-04-29 09:30:00 -> 2022-06-29 09:35:00      0.833291  ...   \n",
       "2022-04-29 09:30:00 -> 2022-06-29 09:34:00      0.793650  ...   \n",
       "2022-04-29 09:30:00 -> 2022-06-29 09:34:00      0.603671  ...   \n",
       "2022-04-29 09:30:00 -> 2022-06-29 09:44:00      1.428891  ...   \n",
       "2022-04-29 09:30:00 -> 2022-06-29 09:35:00      0.919015  ...   \n",
       "2022-04-29 09:30:00 -> 2022-06-29 09:34:00      0.868325  ...   \n",
       "2022-04-29 09:30:00 -> 2022-06-29 09:34:00      0.618355  ...   \n",
       "2022-04-29 09:30:00 -> 2022-06-29 09:44:00      1.598466  ...   \n",
       "2022-04-29 09:30:00 -> 2022-06-29 09:35:00      1.209565  ...   \n",
       "2022-04-29 09:30:00 -> 2022-06-29 09:34:00      1.028249  ...   \n",
       "2022-04-29 09:30:00 -> 2022-06-29 09:34:00      0.737793  ...   \n",
       "2022-04-29 09:30:00 -> 2022-06-29 09:44:00      1.579642  ...   \n",
       "2022-04-29 09:30:00 -> 2022-06-29 09:35:00      1.284770  ...   \n",
       "2022-04-29 09:30:00 -> 2022-06-29 09:34:00      1.105223  ...   \n",
       "2022-04-29 09:30:00 -> 2022-06-29 09:34:00      0.836445  ...   \n",
       "2022-04-29 09:30:00 -> 2022-06-29 09:44:00      1.655139  ...   \n",
       "2022-04-29 09:30:00 -> 2022-06-29 09:43:00      1.373901  ...   \n",
       "2022-04-29 09:30:00 -> 2022-06-29 09:43:00      1.324387  ...   \n",
       "2022-04-29 09:30:00 -> 2022-06-29 09:43:00      1.074065  ...   \n",
       "2022-04-29 09:30:00 -> 2022-06-29 09:44:00      1.368794  ...   \n",
       "2022-04-29 09:30:00 -> 2022-06-29 09:43:00      1.188931  ...   \n",
       "2022-04-29 09:30:00 -> 2022-06-29 09:43:00      1.150736  ...   \n",
       "2022-04-29 09:30:00 -> 2022-06-29 09:43:00      0.951815  ...   \n",
       "2022-04-29 09:30:00 -> 2022-06-29 15:00:00      1.333418  ...   \n",
       "2022-04-29 09:30:00 -> 2022-06-29 15:00:00      1.153257  ...   \n",
       "2022-04-29 09:30:00 -> 2022-06-29 15:00:00      1.121935  ...   \n",
       "2022-04-29 09:30:00 -> 2022-06-29 13:42:00      1.102227  ...   \n",
       "2022-04-29 09:30:00 -> 2022-06-29 15:00:00      1.491274  ...   \n",
       "2022-04-29 09:30:00 -> 2022-06-29 15:00:00      1.411468  ...   \n",
       "2022-04-29 09:30:00 -> 2022-06-29 15:00:00      1.388438  ...   \n",
       "2022-04-29 09:30:00 -> 2022-06-29 15:00:00      1.341302  ...   \n",
       "2022-04-29 09:30:00 -> 2022-06-29 15:00:00      1.823111  ...   \n",
       "2022-04-29 09:30:00 -> 2022-06-29 15:00:00      1.781028  ...   \n",
       "2022-04-29 09:30:00 -> 2022-06-29 15:00:00      1.765811  ...   \n",
       "2022-04-29 09:30:00 -> 2022-06-29 15:00:00      1.663584  ...   \n",
       "2022-04-29 09:30:00 -> 2022-06-29 15:00:00      2.113304  ...   \n",
       "2022-04-29 09:30:00 -> 2022-06-29 15:00:00      2.085457  ...   \n",
       "2022-04-29 09:30:00 -> 2022-06-29 15:00:00      2.079891  ...   \n",
       "2022-04-29 09:30:00 -> 2022-06-29 15:00:00      1.961106  ...   \n",
       "2022-04-29 09:30:00 -> 2022-06-29 15:00:00      2.409655  ...   \n",
       "2022-04-29 09:30:00 -> 2022-06-29 15:00:00      2.371683  ...   \n",
       "2022-04-29 09:30:00 -> 2022-06-29 15:00:00      2.407879  ...   \n",
       "2022-04-29 09:30:00 -> 2022-06-29 15:00:00      2.268438  ...   \n",
       "2022-04-29 09:30:00 -> 2022-06-29 15:00:00      2.428579  ...   \n",
       "2022-04-29 09:30:00 -> 2022-06-29 15:00:00      2.391556  ...   \n",
       "2022-04-29 09:30:00 -> 2022-06-29 15:00:00      2.426746  ...   \n",
       "2022-04-29 09:30:00 -> 2022-06-29 15:00:00      2.367261  ...   \n",
       "2022-04-29 09:30:00 -> 2022-06-29 15:00:00      2.633500  ...   \n",
       "2022-04-29 09:30:00 -> 2022-06-29 15:00:00      2.605419  ...   \n",
       "2022-04-29 09:30:00 -> 2022-06-29 15:00:00      2.666912  ...   \n",
       "2022-04-29 09:30:00 -> 2022-06-29 15:00:00      2.599344  ...   \n",
       "2022-04-29 09:30:00 -> 2022-06-29 15:00:00      3.190999  ...   \n",
       "2022-04-29 09:30:00 -> 2022-06-29 15:00:00      3.164030  ...   \n",
       "2022-04-29 09:30:00 -> 2022-06-29 15:00:00      3.353246  ...   \n",
       "2022-04-29 09:30:00 -> 2022-06-29 15:00:00      3.315458  ...   \n",
       "2022-04-29 09:30:00 -> 2022-06-29 15:00:00      5.046195  ...   \n",
       "2022-04-29 09:30:00 -> 2022-06-29 15:00:00      5.009536  ...   \n",
       "2022-04-29 09:30:00 -> 2022-06-29 15:00:00      5.258409  ...   \n",
       "2022-04-29 09:30:00 -> 2022-06-29 15:00:00      5.214314  ...   \n",
       "2022-04-29 09:30:00 -> 2022-06-29 15:00:00      5.661878  ...   \n",
       "2022-04-29 09:30:00 -> 2022-06-29 15:00:00      5.621893  ...   \n",
       "2022-04-29 09:30:00 -> 2022-06-29 15:00:00      5.893350  ...   \n",
       "2022-04-29 09:30:00 -> 2022-06-29 15:00:00      5.845253  ...   \n",
       "\n",
       "                                            avg round in a day  \\\n",
       "2022-04-29 09:30:00 -> 2022-06-29 09:44:00               1.000   \n",
       "2022-04-29 09:30:00 -> 2022-06-29 09:44:00               1.000   \n",
       "2022-04-29 09:30:00 -> 2022-06-29 09:35:00               1.000   \n",
       "2022-04-29 09:30:00 -> 2022-06-29 09:44:00               1.000   \n",
       "2022-04-29 09:30:00 -> 2022-06-29 09:35:00               1.000   \n",
       "2022-04-29 09:30:00 -> 2022-06-29 09:34:00               1.000   \n",
       "2022-04-29 09:30:00 -> 2022-06-29 09:44:00               1.000   \n",
       "2022-04-29 09:30:00 -> 2022-06-29 09:35:00               1.000   \n",
       "2022-04-29 09:30:00 -> 2022-06-29 09:34:00               1.000   \n",
       "2022-04-29 09:30:00 -> 2022-06-29 09:34:00               1.000   \n",
       "2022-04-29 09:30:00 -> 2022-06-29 09:44:00               1.000   \n",
       "2022-04-29 09:30:00 -> 2022-06-29 09:35:00               1.000   \n",
       "2022-04-29 09:30:00 -> 2022-06-29 09:34:00               1.000   \n",
       "2022-04-29 09:30:00 -> 2022-06-29 09:34:00               1.000   \n",
       "2022-04-29 09:30:00 -> 2022-06-29 09:44:00               1.000   \n",
       "2022-04-29 09:30:00 -> 2022-06-29 09:35:00               1.000   \n",
       "2022-04-29 09:30:00 -> 2022-06-29 09:34:00               1.000   \n",
       "2022-04-29 09:30:00 -> 2022-06-29 09:34:00               1.000   \n",
       "2022-04-29 09:30:00 -> 2022-06-29 09:44:00               0.975   \n",
       "2022-04-29 09:30:00 -> 2022-06-29 09:35:00               0.975   \n",
       "2022-04-29 09:30:00 -> 2022-06-29 09:34:00               0.975   \n",
       "2022-04-29 09:30:00 -> 2022-06-29 09:34:00               0.975   \n",
       "2022-04-29 09:30:00 -> 2022-06-29 09:44:00               0.950   \n",
       "2022-04-29 09:30:00 -> 2022-06-29 09:35:00               0.950   \n",
       "2022-04-29 09:30:00 -> 2022-06-29 09:34:00               0.950   \n",
       "2022-04-29 09:30:00 -> 2022-06-29 09:34:00               0.950   \n",
       "2022-04-29 09:30:00 -> 2022-06-29 09:44:00               0.950   \n",
       "2022-04-29 09:30:00 -> 2022-06-29 09:43:00               0.950   \n",
       "2022-04-29 09:30:00 -> 2022-06-29 09:43:00               0.950   \n",
       "2022-04-29 09:30:00 -> 2022-06-29 09:43:00               0.950   \n",
       "2022-04-29 09:30:00 -> 2022-06-29 09:44:00               0.900   \n",
       "2022-04-29 09:30:00 -> 2022-06-29 09:43:00               0.900   \n",
       "2022-04-29 09:30:00 -> 2022-06-29 09:43:00               0.900   \n",
       "2022-04-29 09:30:00 -> 2022-06-29 09:43:00               0.900   \n",
       "2022-04-29 09:30:00 -> 2022-06-29 15:00:00               0.825   \n",
       "2022-04-29 09:30:00 -> 2022-06-29 15:00:00               0.825   \n",
       "2022-04-29 09:30:00 -> 2022-06-29 15:00:00               0.825   \n",
       "2022-04-29 09:30:00 -> 2022-06-29 13:42:00               0.825   \n",
       "2022-04-29 09:30:00 -> 2022-06-29 15:00:00               0.825   \n",
       "2022-04-29 09:30:00 -> 2022-06-29 15:00:00               0.825   \n",
       "2022-04-29 09:30:00 -> 2022-06-29 15:00:00               0.825   \n",
       "2022-04-29 09:30:00 -> 2022-06-29 15:00:00               0.825   \n",
       "2022-04-29 09:30:00 -> 2022-06-29 15:00:00               0.700   \n",
       "2022-04-29 09:30:00 -> 2022-06-29 15:00:00               0.700   \n",
       "2022-04-29 09:30:00 -> 2022-06-29 15:00:00               0.700   \n",
       "2022-04-29 09:30:00 -> 2022-06-29 15:00:00               0.700   \n",
       "2022-04-29 09:30:00 -> 2022-06-29 15:00:00               0.575   \n",
       "2022-04-29 09:30:00 -> 2022-06-29 15:00:00               0.575   \n",
       "2022-04-29 09:30:00 -> 2022-06-29 15:00:00               0.575   \n",
       "2022-04-29 09:30:00 -> 2022-06-29 15:00:00               0.575   \n",
       "2022-04-29 09:30:00 -> 2022-06-29 15:00:00               0.500   \n",
       "2022-04-29 09:30:00 -> 2022-06-29 15:00:00               0.500   \n",
       "2022-04-29 09:30:00 -> 2022-06-29 15:00:00               0.500   \n",
       "2022-04-29 09:30:00 -> 2022-06-29 15:00:00               0.500   \n",
       "2022-04-29 09:30:00 -> 2022-06-29 15:00:00               0.475   \n",
       "2022-04-29 09:30:00 -> 2022-06-29 15:00:00               0.475   \n",
       "2022-04-29 09:30:00 -> 2022-06-29 15:00:00               0.475   \n",
       "2022-04-29 09:30:00 -> 2022-06-29 15:00:00               0.475   \n",
       "2022-04-29 09:30:00 -> 2022-06-29 15:00:00               0.425   \n",
       "2022-04-29 09:30:00 -> 2022-06-29 15:00:00               0.425   \n",
       "2022-04-29 09:30:00 -> 2022-06-29 15:00:00               0.425   \n",
       "2022-04-29 09:30:00 -> 2022-06-29 15:00:00               0.425   \n",
       "2022-04-29 09:30:00 -> 2022-06-29 15:00:00               0.350   \n",
       "2022-04-29 09:30:00 -> 2022-06-29 15:00:00               0.350   \n",
       "2022-04-29 09:30:00 -> 2022-06-29 15:00:00               0.350   \n",
       "2022-04-29 09:30:00 -> 2022-06-29 15:00:00               0.350   \n",
       "2022-04-29 09:30:00 -> 2022-06-29 15:00:00               0.350   \n",
       "2022-04-29 09:30:00 -> 2022-06-29 15:00:00               0.350   \n",
       "2022-04-29 09:30:00 -> 2022-06-29 15:00:00               0.350   \n",
       "2022-04-29 09:30:00 -> 2022-06-29 15:00:00               0.350   \n",
       "2022-04-29 09:30:00 -> 2022-06-29 15:00:00               0.325   \n",
       "2022-04-29 09:30:00 -> 2022-06-29 15:00:00               0.325   \n",
       "2022-04-29 09:30:00 -> 2022-06-29 15:00:00               0.325   \n",
       "2022-04-29 09:30:00 -> 2022-06-29 15:00:00               0.325   \n",
       "\n",
       "                                            return per round  close by time  \\\n",
       "2022-04-29 09:30:00 -> 2022-06-29 09:44:00          0.003971            9.0   \n",
       "2022-04-29 09:30:00 -> 2022-06-29 09:44:00          0.003953           10.0   \n",
       "2022-04-29 09:30:00 -> 2022-06-29 09:35:00          0.003951            6.0   \n",
       "2022-04-29 09:30:00 -> 2022-06-29 09:44:00          0.004231           10.0   \n",
       "2022-04-29 09:30:00 -> 2022-06-29 09:35:00          0.004169            6.0   \n",
       "2022-04-29 09:30:00 -> 2022-06-29 09:34:00          0.003925            4.0   \n",
       "2022-04-29 09:30:00 -> 2022-06-29 09:44:00          0.004694           11.0   \n",
       "2022-04-29 09:30:00 -> 2022-06-29 09:35:00          0.004811            6.0   \n",
       "2022-04-29 09:30:00 -> 2022-06-29 09:34:00          0.004525            4.0   \n",
       "2022-04-29 09:30:00 -> 2022-06-29 09:34:00          0.003575            4.0   \n",
       "2022-04-29 09:30:00 -> 2022-06-29 09:44:00          0.004569           12.0   \n",
       "2022-04-29 09:30:00 -> 2022-06-29 09:35:00          0.004680            7.0   \n",
       "2022-04-29 09:30:00 -> 2022-06-29 09:34:00          0.004426            5.0   \n",
       "2022-04-29 09:30:00 -> 2022-06-29 09:34:00          0.003667            4.0   \n",
       "2022-04-29 09:30:00 -> 2022-06-29 09:44:00          0.004283           15.0   \n",
       "2022-04-29 09:30:00 -> 2022-06-29 09:35:00          0.004571            9.0   \n",
       "2022-04-29 09:30:00 -> 2022-06-29 09:34:00          0.004258            7.0   \n",
       "2022-04-29 09:30:00 -> 2022-06-29 09:34:00          0.004096            5.0   \n",
       "2022-04-29 09:30:00 -> 2022-06-29 09:44:00          0.004931           15.0   \n",
       "2022-04-29 09:30:00 -> 2022-06-29 09:35:00          0.005106           10.0   \n",
       "2022-04-29 09:30:00 -> 2022-06-29 09:34:00          0.005018            7.0   \n",
       "2022-04-29 09:30:00 -> 2022-06-29 09:34:00          0.004830            5.0   \n",
       "2022-04-29 09:30:00 -> 2022-06-29 09:44:00          0.005061           16.0   \n",
       "2022-04-29 09:30:00 -> 2022-06-29 09:35:00          0.005000           12.0   \n",
       "2022-04-29 09:30:00 -> 2022-06-29 09:34:00          0.004917            9.0   \n",
       "2022-04-29 09:30:00 -> 2022-06-29 09:34:00          0.004716            7.0   \n",
       "2022-04-29 09:30:00 -> 2022-06-29 09:44:00          0.004182           20.0   \n",
       "2022-04-29 09:30:00 -> 2022-06-29 09:43:00          0.004186           16.0   \n",
       "2022-04-29 09:30:00 -> 2022-06-29 09:43:00          0.003954           14.0   \n",
       "2022-04-29 09:30:00 -> 2022-06-29 09:43:00          0.003886           12.0   \n",
       "2022-04-29 09:30:00 -> 2022-06-29 09:44:00          0.005215           19.0   \n",
       "2022-04-29 09:30:00 -> 2022-06-29 09:43:00          0.005042           16.0   \n",
       "2022-04-29 09:30:00 -> 2022-06-29 09:43:00          0.004811           14.0   \n",
       "2022-04-29 09:30:00 -> 2022-06-29 09:43:00          0.004498           13.0   \n",
       "2022-04-29 09:30:00 -> 2022-06-29 15:00:00          0.005489           19.0   \n",
       "2022-04-29 09:30:00 -> 2022-06-29 15:00:00          0.005405           16.0   \n",
       "2022-04-29 09:30:00 -> 2022-06-29 15:00:00          0.005197           14.0   \n",
       "2022-04-29 09:30:00 -> 2022-06-29 13:42:00          0.005423           12.0   \n",
       "2022-04-29 09:30:00 -> 2022-06-29 15:00:00          0.006469           19.0   \n",
       "2022-04-29 09:30:00 -> 2022-06-29 15:00:00          0.006036           17.0   \n",
       "2022-04-29 09:30:00 -> 2022-06-29 15:00:00          0.005897           15.0   \n",
       "2022-04-29 09:30:00 -> 2022-06-29 15:00:00          0.005633           14.0   \n",
       "2022-04-29 09:30:00 -> 2022-06-29 15:00:00          0.006608           17.0   \n",
       "2022-04-29 09:30:00 -> 2022-06-29 15:00:00          0.006415           17.0   \n",
       "2022-04-29 09:30:00 -> 2022-06-29 15:00:00          0.006332           15.0   \n",
       "2022-04-29 09:30:00 -> 2022-06-29 15:00:00          0.005863           15.0   \n",
       "2022-04-29 09:30:00 -> 2022-06-29 15:00:00          0.006874           15.0   \n",
       "2022-04-29 09:30:00 -> 2022-06-29 15:00:00          0.006762           15.0   \n",
       "2022-04-29 09:30:00 -> 2022-06-29 15:00:00          0.006722           13.0   \n",
       "2022-04-29 09:30:00 -> 2022-06-29 15:00:00          0.006247           13.0   \n",
       "2022-04-29 09:30:00 -> 2022-06-29 15:00:00          0.006446           13.0   \n",
       "2022-04-29 09:30:00 -> 2022-06-29 15:00:00          0.006317           13.0   \n",
       "2022-04-29 09:30:00 -> 2022-06-29 15:00:00          0.006430           11.0   \n",
       "2022-04-29 09:30:00 -> 2022-06-29 15:00:00          0.005967           11.0   \n",
       "2022-04-29 09:30:00 -> 2022-06-29 15:00:00          0.007374           13.0   \n",
       "2022-04-29 09:30:00 -> 2022-06-29 15:00:00          0.007238           13.0   \n",
       "2022-04-29 09:30:00 -> 2022-06-29 15:00:00          0.007357           11.0   \n",
       "2022-04-29 09:30:00 -> 2022-06-29 15:00:00          0.007136           11.0   \n",
       "2022-04-29 09:30:00 -> 2022-06-29 15:00:00          0.008150           12.0   \n",
       "2022-04-29 09:30:00 -> 2022-06-29 15:00:00          0.008049           12.0   \n",
       "2022-04-29 09:30:00 -> 2022-06-29 15:00:00          0.008261           10.0   \n",
       "2022-04-29 09:30:00 -> 2022-06-29 15:00:00          0.008014           10.0   \n",
       "2022-04-29 09:30:00 -> 2022-06-29 15:00:00          0.007214           11.0   \n",
       "2022-04-29 09:30:00 -> 2022-06-29 15:00:00          0.007142           11.0   \n",
       "2022-04-29 09:30:00 -> 2022-06-29 15:00:00          0.007641           10.0   \n",
       "2022-04-29 09:30:00 -> 2022-06-29 15:00:00          0.007533           10.0   \n",
       "2022-04-29 09:30:00 -> 2022-06-29 15:00:00          0.009359           11.0   \n",
       "2022-04-29 09:30:00 -> 2022-06-29 15:00:00          0.009285           11.0   \n",
       "2022-04-29 09:30:00 -> 2022-06-29 15:00:00          0.009787           10.0   \n",
       "2022-04-29 09:30:00 -> 2022-06-29 15:00:00          0.009685           10.0   \n",
       "2022-04-29 09:30:00 -> 2022-06-29 15:00:00          0.010715           10.0   \n",
       "2022-04-29 09:30:00 -> 2022-06-29 15:00:00          0.010636           10.0   \n",
       "2022-04-29 09:30:00 -> 2022-06-29 15:00:00          0.011176            9.0   \n",
       "2022-04-29 09:30:00 -> 2022-06-29 15:00:00          0.011066            9.0   \n",
       "\n",
       "                                            close by time win  \\\n",
       "2022-04-29 09:30:00 -> 2022-06-29 09:44:00                4.0   \n",
       "2022-04-29 09:30:00 -> 2022-06-29 09:44:00                4.0   \n",
       "2022-04-29 09:30:00 -> 2022-06-29 09:35:00                3.0   \n",
       "2022-04-29 09:30:00 -> 2022-06-29 09:44:00                4.0   \n",
       "2022-04-29 09:30:00 -> 2022-06-29 09:35:00                3.0   \n",
       "2022-04-29 09:30:00 -> 2022-06-29 09:34:00                1.0   \n",
       "2022-04-29 09:30:00 -> 2022-06-29 09:44:00                4.0   \n",
       "2022-04-29 09:30:00 -> 2022-06-29 09:35:00                3.0   \n",
       "2022-04-29 09:30:00 -> 2022-06-29 09:34:00                1.0   \n",
       "2022-04-29 09:30:00 -> 2022-06-29 09:34:00                1.0   \n",
       "2022-04-29 09:30:00 -> 2022-06-29 09:44:00                4.0   \n",
       "2022-04-29 09:30:00 -> 2022-06-29 09:35:00                3.0   \n",
       "2022-04-29 09:30:00 -> 2022-06-29 09:34:00                1.0   \n",
       "2022-04-29 09:30:00 -> 2022-06-29 09:34:00                1.0   \n",
       "2022-04-29 09:30:00 -> 2022-06-29 09:44:00                4.0   \n",
       "2022-04-29 09:30:00 -> 2022-06-29 09:35:00                3.0   \n",
       "2022-04-29 09:30:00 -> 2022-06-29 09:34:00                1.0   \n",
       "2022-04-29 09:30:00 -> 2022-06-29 09:34:00                1.0   \n",
       "2022-04-29 09:30:00 -> 2022-06-29 09:44:00                5.0   \n",
       "2022-04-29 09:30:00 -> 2022-06-29 09:35:00                3.0   \n",
       "2022-04-29 09:30:00 -> 2022-06-29 09:34:00                1.0   \n",
       "2022-04-29 09:30:00 -> 2022-06-29 09:34:00                1.0   \n",
       "2022-04-29 09:30:00 -> 2022-06-29 09:44:00                5.0   \n",
       "2022-04-29 09:30:00 -> 2022-06-29 09:35:00                3.0   \n",
       "2022-04-29 09:30:00 -> 2022-06-29 09:34:00                1.0   \n",
       "2022-04-29 09:30:00 -> 2022-06-29 09:34:00                1.0   \n",
       "2022-04-29 09:30:00 -> 2022-06-29 09:44:00                6.0   \n",
       "2022-04-29 09:30:00 -> 2022-06-29 09:43:00                4.0   \n",
       "2022-04-29 09:30:00 -> 2022-06-29 09:43:00                2.0   \n",
       "2022-04-29 09:30:00 -> 2022-06-29 09:43:00                2.0   \n",
       "2022-04-29 09:30:00 -> 2022-06-29 09:44:00                9.0   \n",
       "2022-04-29 09:30:00 -> 2022-06-29 09:43:00                7.0   \n",
       "2022-04-29 09:30:00 -> 2022-06-29 09:43:00                5.0   \n",
       "2022-04-29 09:30:00 -> 2022-06-29 09:43:00                5.0   \n",
       "2022-04-29 09:30:00 -> 2022-06-29 15:00:00               10.0   \n",
       "2022-04-29 09:30:00 -> 2022-06-29 15:00:00                8.0   \n",
       "2022-04-29 09:30:00 -> 2022-06-29 15:00:00                6.0   \n",
       "2022-04-29 09:30:00 -> 2022-06-29 13:42:00                5.0   \n",
       "2022-04-29 09:30:00 -> 2022-06-29 15:00:00               11.0   \n",
       "2022-04-29 09:30:00 -> 2022-06-29 15:00:00                9.0   \n",
       "2022-04-29 09:30:00 -> 2022-06-29 15:00:00                7.0   \n",
       "2022-04-29 09:30:00 -> 2022-06-29 15:00:00                6.0   \n",
       "2022-04-29 09:30:00 -> 2022-06-29 15:00:00                9.0   \n",
       "2022-04-29 09:30:00 -> 2022-06-29 15:00:00                9.0   \n",
       "2022-04-29 09:30:00 -> 2022-06-29 15:00:00                7.0   \n",
       "2022-04-29 09:30:00 -> 2022-06-29 15:00:00                7.0   \n",
       "2022-04-29 09:30:00 -> 2022-06-29 15:00:00                8.0   \n",
       "2022-04-29 09:30:00 -> 2022-06-29 15:00:00                8.0   \n",
       "2022-04-29 09:30:00 -> 2022-06-29 15:00:00                6.0   \n",
       "2022-04-29 09:30:00 -> 2022-06-29 15:00:00                6.0   \n",
       "2022-04-29 09:30:00 -> 2022-06-29 15:00:00                6.0   \n",
       "2022-04-29 09:30:00 -> 2022-06-29 15:00:00                6.0   \n",
       "2022-04-29 09:30:00 -> 2022-06-29 15:00:00                4.0   \n",
       "2022-04-29 09:30:00 -> 2022-06-29 15:00:00                4.0   \n",
       "2022-04-29 09:30:00 -> 2022-06-29 15:00:00                7.0   \n",
       "2022-04-29 09:30:00 -> 2022-06-29 15:00:00                7.0   \n",
       "2022-04-29 09:30:00 -> 2022-06-29 15:00:00                5.0   \n",
       "2022-04-29 09:30:00 -> 2022-06-29 15:00:00                5.0   \n",
       "2022-04-29 09:30:00 -> 2022-06-29 15:00:00                7.0   \n",
       "2022-04-29 09:30:00 -> 2022-06-29 15:00:00                7.0   \n",
       "2022-04-29 09:30:00 -> 2022-06-29 15:00:00                5.0   \n",
       "2022-04-29 09:30:00 -> 2022-06-29 15:00:00                5.0   \n",
       "2022-04-29 09:30:00 -> 2022-06-29 15:00:00                6.0   \n",
       "2022-04-29 09:30:00 -> 2022-06-29 15:00:00                6.0   \n",
       "2022-04-29 09:30:00 -> 2022-06-29 15:00:00                5.0   \n",
       "2022-04-29 09:30:00 -> 2022-06-29 15:00:00                5.0   \n",
       "2022-04-29 09:30:00 -> 2022-06-29 15:00:00                6.0   \n",
       "2022-04-29 09:30:00 -> 2022-06-29 15:00:00                6.0   \n",
       "2022-04-29 09:30:00 -> 2022-06-29 15:00:00                5.0   \n",
       "2022-04-29 09:30:00 -> 2022-06-29 15:00:00                5.0   \n",
       "2022-04-29 09:30:00 -> 2022-06-29 15:00:00                6.0   \n",
       "2022-04-29 09:30:00 -> 2022-06-29 15:00:00                6.0   \n",
       "2022-04-29 09:30:00 -> 2022-06-29 15:00:00                5.0   \n",
       "2022-04-29 09:30:00 -> 2022-06-29 15:00:00                5.0   \n",
       "\n",
       "                                            close by time lose  \\\n",
       "2022-04-29 09:30:00 -> 2022-06-29 09:44:00                 5.0   \n",
       "2022-04-29 09:30:00 -> 2022-06-29 09:44:00                 6.0   \n",
       "2022-04-29 09:30:00 -> 2022-06-29 09:35:00                 3.0   \n",
       "2022-04-29 09:30:00 -> 2022-06-29 09:44:00                 6.0   \n",
       "2022-04-29 09:30:00 -> 2022-06-29 09:35:00                 3.0   \n",
       "2022-04-29 09:30:00 -> 2022-06-29 09:34:00                 3.0   \n",
       "2022-04-29 09:30:00 -> 2022-06-29 09:44:00                 7.0   \n",
       "2022-04-29 09:30:00 -> 2022-06-29 09:35:00                 3.0   \n",
       "2022-04-29 09:30:00 -> 2022-06-29 09:34:00                 3.0   \n",
       "2022-04-29 09:30:00 -> 2022-06-29 09:34:00                 3.0   \n",
       "2022-04-29 09:30:00 -> 2022-06-29 09:44:00                 8.0   \n",
       "2022-04-29 09:30:00 -> 2022-06-29 09:35:00                 4.0   \n",
       "2022-04-29 09:30:00 -> 2022-06-29 09:34:00                 4.0   \n",
       "2022-04-29 09:30:00 -> 2022-06-29 09:34:00                 3.0   \n",
       "2022-04-29 09:30:00 -> 2022-06-29 09:44:00                11.0   \n",
       "2022-04-29 09:30:00 -> 2022-06-29 09:35:00                 6.0   \n",
       "2022-04-29 09:30:00 -> 2022-06-29 09:34:00                 6.0   \n",
       "2022-04-29 09:30:00 -> 2022-06-29 09:34:00                 4.0   \n",
       "2022-04-29 09:30:00 -> 2022-06-29 09:44:00                10.0   \n",
       "2022-04-29 09:30:00 -> 2022-06-29 09:35:00                 7.0   \n",
       "2022-04-29 09:30:00 -> 2022-06-29 09:34:00                 6.0   \n",
       "2022-04-29 09:30:00 -> 2022-06-29 09:34:00                 4.0   \n",
       "2022-04-29 09:30:00 -> 2022-06-29 09:44:00                11.0   \n",
       "2022-04-29 09:30:00 -> 2022-06-29 09:35:00                 9.0   \n",
       "2022-04-29 09:30:00 -> 2022-06-29 09:34:00                 8.0   \n",
       "2022-04-29 09:30:00 -> 2022-06-29 09:34:00                 6.0   \n",
       "2022-04-29 09:30:00 -> 2022-06-29 09:44:00                14.0   \n",
       "2022-04-29 09:30:00 -> 2022-06-29 09:43:00                12.0   \n",
       "2022-04-29 09:30:00 -> 2022-06-29 09:43:00                12.0   \n",
       "2022-04-29 09:30:00 -> 2022-06-29 09:43:00                10.0   \n",
       "2022-04-29 09:30:00 -> 2022-06-29 09:44:00                10.0   \n",
       "2022-04-29 09:30:00 -> 2022-06-29 09:43:00                 9.0   \n",
       "2022-04-29 09:30:00 -> 2022-06-29 09:43:00                 9.0   \n",
       "2022-04-29 09:30:00 -> 2022-06-29 09:43:00                 8.0   \n",
       "2022-04-29 09:30:00 -> 2022-06-29 15:00:00                 9.0   \n",
       "2022-04-29 09:30:00 -> 2022-06-29 15:00:00                 8.0   \n",
       "2022-04-29 09:30:00 -> 2022-06-29 15:00:00                 8.0   \n",
       "2022-04-29 09:30:00 -> 2022-06-29 13:42:00                 7.0   \n",
       "2022-04-29 09:30:00 -> 2022-06-29 15:00:00                 8.0   \n",
       "2022-04-29 09:30:00 -> 2022-06-29 15:00:00                 8.0   \n",
       "2022-04-29 09:30:00 -> 2022-06-29 15:00:00                 8.0   \n",
       "2022-04-29 09:30:00 -> 2022-06-29 15:00:00                 8.0   \n",
       "2022-04-29 09:30:00 -> 2022-06-29 15:00:00                 8.0   \n",
       "2022-04-29 09:30:00 -> 2022-06-29 15:00:00                 8.0   \n",
       "2022-04-29 09:30:00 -> 2022-06-29 15:00:00                 8.0   \n",
       "2022-04-29 09:30:00 -> 2022-06-29 15:00:00                 8.0   \n",
       "2022-04-29 09:30:00 -> 2022-06-29 15:00:00                 7.0   \n",
       "2022-04-29 09:30:00 -> 2022-06-29 15:00:00                 7.0   \n",
       "2022-04-29 09:30:00 -> 2022-06-29 15:00:00                 7.0   \n",
       "2022-04-29 09:30:00 -> 2022-06-29 15:00:00                 7.0   \n",
       "2022-04-29 09:30:00 -> 2022-06-29 15:00:00                 7.0   \n",
       "2022-04-29 09:30:00 -> 2022-06-29 15:00:00                 7.0   \n",
       "2022-04-29 09:30:00 -> 2022-06-29 15:00:00                 7.0   \n",
       "2022-04-29 09:30:00 -> 2022-06-29 15:00:00                 7.0   \n",
       "2022-04-29 09:30:00 -> 2022-06-29 15:00:00                 6.0   \n",
       "2022-04-29 09:30:00 -> 2022-06-29 15:00:00                 6.0   \n",
       "2022-04-29 09:30:00 -> 2022-06-29 15:00:00                 6.0   \n",
       "2022-04-29 09:30:00 -> 2022-06-29 15:00:00                 6.0   \n",
       "2022-04-29 09:30:00 -> 2022-06-29 15:00:00                 5.0   \n",
       "2022-04-29 09:30:00 -> 2022-06-29 15:00:00                 5.0   \n",
       "2022-04-29 09:30:00 -> 2022-06-29 15:00:00                 5.0   \n",
       "2022-04-29 09:30:00 -> 2022-06-29 15:00:00                 5.0   \n",
       "2022-04-29 09:30:00 -> 2022-06-29 15:00:00                 5.0   \n",
       "2022-04-29 09:30:00 -> 2022-06-29 15:00:00                 5.0   \n",
       "2022-04-29 09:30:00 -> 2022-06-29 15:00:00                 5.0   \n",
       "2022-04-29 09:30:00 -> 2022-06-29 15:00:00                 5.0   \n",
       "2022-04-29 09:30:00 -> 2022-06-29 15:00:00                 5.0   \n",
       "2022-04-29 09:30:00 -> 2022-06-29 15:00:00                 5.0   \n",
       "2022-04-29 09:30:00 -> 2022-06-29 15:00:00                 5.0   \n",
       "2022-04-29 09:30:00 -> 2022-06-29 15:00:00                 5.0   \n",
       "2022-04-29 09:30:00 -> 2022-06-29 15:00:00                 4.0   \n",
       "2022-04-29 09:30:00 -> 2022-06-29 15:00:00                 4.0   \n",
       "2022-04-29 09:30:00 -> 2022-06-29 15:00:00                 4.0   \n",
       "2022-04-29 09:30:00 -> 2022-06-29 15:00:00                 4.0   \n",
       "\n",
       "                                            close by signal  \\\n",
       "2022-04-29 09:30:00 -> 2022-06-29 09:44:00             31.0   \n",
       "2022-04-29 09:30:00 -> 2022-06-29 09:44:00             30.0   \n",
       "2022-04-29 09:30:00 -> 2022-06-29 09:35:00             34.0   \n",
       "2022-04-29 09:30:00 -> 2022-06-29 09:44:00             30.0   \n",
       "2022-04-29 09:30:00 -> 2022-06-29 09:35:00             34.0   \n",
       "2022-04-29 09:30:00 -> 2022-06-29 09:34:00             36.0   \n",
       "2022-04-29 09:30:00 -> 2022-06-29 09:44:00             29.0   \n",
       "2022-04-29 09:30:00 -> 2022-06-29 09:35:00             34.0   \n",
       "2022-04-29 09:30:00 -> 2022-06-29 09:34:00             36.0   \n",
       "2022-04-29 09:30:00 -> 2022-06-29 09:34:00             36.0   \n",
       "2022-04-29 09:30:00 -> 2022-06-29 09:44:00             28.0   \n",
       "2022-04-29 09:30:00 -> 2022-06-29 09:35:00             33.0   \n",
       "2022-04-29 09:30:00 -> 2022-06-29 09:34:00             35.0   \n",
       "2022-04-29 09:30:00 -> 2022-06-29 09:34:00             36.0   \n",
       "2022-04-29 09:30:00 -> 2022-06-29 09:44:00             25.0   \n",
       "2022-04-29 09:30:00 -> 2022-06-29 09:35:00             31.0   \n",
       "2022-04-29 09:30:00 -> 2022-06-29 09:34:00             33.0   \n",
       "2022-04-29 09:30:00 -> 2022-06-29 09:34:00             35.0   \n",
       "2022-04-29 09:30:00 -> 2022-06-29 09:44:00             24.0   \n",
       "2022-04-29 09:30:00 -> 2022-06-29 09:35:00             29.0   \n",
       "2022-04-29 09:30:00 -> 2022-06-29 09:34:00             32.0   \n",
       "2022-04-29 09:30:00 -> 2022-06-29 09:34:00             34.0   \n",
       "2022-04-29 09:30:00 -> 2022-06-29 09:44:00             22.0   \n",
       "2022-04-29 09:30:00 -> 2022-06-29 09:35:00             26.0   \n",
       "2022-04-29 09:30:00 -> 2022-06-29 09:34:00             29.0   \n",
       "2022-04-29 09:30:00 -> 2022-06-29 09:34:00             31.0   \n",
       "2022-04-29 09:30:00 -> 2022-06-29 09:44:00             18.0   \n",
       "2022-04-29 09:30:00 -> 2022-06-29 09:43:00             22.0   \n",
       "2022-04-29 09:30:00 -> 2022-06-29 09:43:00             24.0   \n",
       "2022-04-29 09:30:00 -> 2022-06-29 09:43:00             26.0   \n",
       "2022-04-29 09:30:00 -> 2022-06-29 09:44:00             17.0   \n",
       "2022-04-29 09:30:00 -> 2022-06-29 09:43:00             20.0   \n",
       "2022-04-29 09:30:00 -> 2022-06-29 09:43:00             22.0   \n",
       "2022-04-29 09:30:00 -> 2022-06-29 09:43:00             23.0   \n",
       "2022-04-29 09:30:00 -> 2022-06-29 15:00:00             14.0   \n",
       "2022-04-29 09:30:00 -> 2022-06-29 15:00:00             17.0   \n",
       "2022-04-29 09:30:00 -> 2022-06-29 15:00:00             19.0   \n",
       "2022-04-29 09:30:00 -> 2022-06-29 13:42:00             21.0   \n",
       "2022-04-29 09:30:00 -> 2022-06-29 15:00:00             14.0   \n",
       "2022-04-29 09:30:00 -> 2022-06-29 15:00:00             16.0   \n",
       "2022-04-29 09:30:00 -> 2022-06-29 15:00:00             18.0   \n",
       "2022-04-29 09:30:00 -> 2022-06-29 15:00:00             19.0   \n",
       "2022-04-29 09:30:00 -> 2022-06-29 15:00:00             11.0   \n",
       "2022-04-29 09:30:00 -> 2022-06-29 15:00:00             11.0   \n",
       "2022-04-29 09:30:00 -> 2022-06-29 15:00:00             13.0   \n",
       "2022-04-29 09:30:00 -> 2022-06-29 15:00:00             13.0   \n",
       "2022-04-29 09:30:00 -> 2022-06-29 15:00:00              8.0   \n",
       "2022-04-29 09:30:00 -> 2022-06-29 15:00:00              8.0   \n",
       "2022-04-29 09:30:00 -> 2022-06-29 15:00:00             10.0   \n",
       "2022-04-29 09:30:00 -> 2022-06-29 15:00:00             10.0   \n",
       "2022-04-29 09:30:00 -> 2022-06-29 15:00:00              7.0   \n",
       "2022-04-29 09:30:00 -> 2022-06-29 15:00:00              7.0   \n",
       "2022-04-29 09:30:00 -> 2022-06-29 15:00:00              9.0   \n",
       "2022-04-29 09:30:00 -> 2022-06-29 15:00:00              9.0   \n",
       "2022-04-29 09:30:00 -> 2022-06-29 15:00:00              6.0   \n",
       "2022-04-29 09:30:00 -> 2022-06-29 15:00:00              6.0   \n",
       "2022-04-29 09:30:00 -> 2022-06-29 15:00:00              8.0   \n",
       "2022-04-29 09:30:00 -> 2022-06-29 15:00:00              8.0   \n",
       "2022-04-29 09:30:00 -> 2022-06-29 15:00:00              5.0   \n",
       "2022-04-29 09:30:00 -> 2022-06-29 15:00:00              5.0   \n",
       "2022-04-29 09:30:00 -> 2022-06-29 15:00:00              7.0   \n",
       "2022-04-29 09:30:00 -> 2022-06-29 15:00:00              7.0   \n",
       "2022-04-29 09:30:00 -> 2022-06-29 15:00:00              3.0   \n",
       "2022-04-29 09:30:00 -> 2022-06-29 15:00:00              3.0   \n",
       "2022-04-29 09:30:00 -> 2022-06-29 15:00:00              4.0   \n",
       "2022-04-29 09:30:00 -> 2022-06-29 15:00:00              4.0   \n",
       "2022-04-29 09:30:00 -> 2022-06-29 15:00:00              3.0   \n",
       "2022-04-29 09:30:00 -> 2022-06-29 15:00:00              3.0   \n",
       "2022-04-29 09:30:00 -> 2022-06-29 15:00:00              4.0   \n",
       "2022-04-29 09:30:00 -> 2022-06-29 15:00:00              4.0   \n",
       "2022-04-29 09:30:00 -> 2022-06-29 15:00:00              3.0   \n",
       "2022-04-29 09:30:00 -> 2022-06-29 15:00:00              3.0   \n",
       "2022-04-29 09:30:00 -> 2022-06-29 15:00:00              4.0   \n",
       "2022-04-29 09:30:00 -> 2022-06-29 15:00:00              4.0   \n",
       "\n",
       "                                            close by signal win  \\\n",
       "2022-04-29 09:30:00 -> 2022-06-29 09:44:00                 31.0   \n",
       "2022-04-29 09:30:00 -> 2022-06-29 09:44:00                 30.0   \n",
       "2022-04-29 09:30:00 -> 2022-06-29 09:35:00                 33.0   \n",
       "2022-04-29 09:30:00 -> 2022-06-29 09:44:00                 30.0   \n",
       "2022-04-29 09:30:00 -> 2022-06-29 09:35:00                 34.0   \n",
       "2022-04-29 09:30:00 -> 2022-06-29 09:34:00                 34.0   \n",
       "2022-04-29 09:30:00 -> 2022-06-29 09:44:00                 29.0   \n",
       "2022-04-29 09:30:00 -> 2022-06-29 09:35:00                 34.0   \n",
       "2022-04-29 09:30:00 -> 2022-06-29 09:34:00                 36.0   \n",
       "2022-04-29 09:30:00 -> 2022-06-29 09:34:00                 36.0   \n",
       "2022-04-29 09:30:00 -> 2022-06-29 09:44:00                 28.0   \n",
       "2022-04-29 09:30:00 -> 2022-06-29 09:35:00                 33.0   \n",
       "2022-04-29 09:30:00 -> 2022-06-29 09:34:00                 35.0   \n",
       "2022-04-29 09:30:00 -> 2022-06-29 09:34:00                 36.0   \n",
       "2022-04-29 09:30:00 -> 2022-06-29 09:44:00                 25.0   \n",
       "2022-04-29 09:30:00 -> 2022-06-29 09:35:00                 31.0   \n",
       "2022-04-29 09:30:00 -> 2022-06-29 09:34:00                 33.0   \n",
       "2022-04-29 09:30:00 -> 2022-06-29 09:34:00                 35.0   \n",
       "2022-04-29 09:30:00 -> 2022-06-29 09:44:00                 24.0   \n",
       "2022-04-29 09:30:00 -> 2022-06-29 09:35:00                 29.0   \n",
       "2022-04-29 09:30:00 -> 2022-06-29 09:34:00                 32.0   \n",
       "2022-04-29 09:30:00 -> 2022-06-29 09:34:00                 34.0   \n",
       "2022-04-29 09:30:00 -> 2022-06-29 09:44:00                 22.0   \n",
       "2022-04-29 09:30:00 -> 2022-06-29 09:35:00                 26.0   \n",
       "2022-04-29 09:30:00 -> 2022-06-29 09:34:00                 29.0   \n",
       "2022-04-29 09:30:00 -> 2022-06-29 09:34:00                 31.0   \n",
       "2022-04-29 09:30:00 -> 2022-06-29 09:44:00                 18.0   \n",
       "2022-04-29 09:30:00 -> 2022-06-29 09:43:00                 22.0   \n",
       "2022-04-29 09:30:00 -> 2022-06-29 09:43:00                 24.0   \n",
       "2022-04-29 09:30:00 -> 2022-06-29 09:43:00                 26.0   \n",
       "2022-04-29 09:30:00 -> 2022-06-29 09:44:00                 17.0   \n",
       "2022-04-29 09:30:00 -> 2022-06-29 09:43:00                 20.0   \n",
       "2022-04-29 09:30:00 -> 2022-06-29 09:43:00                 22.0   \n",
       "2022-04-29 09:30:00 -> 2022-06-29 09:43:00                 23.0   \n",
       "2022-04-29 09:30:00 -> 2022-06-29 15:00:00                 14.0   \n",
       "2022-04-29 09:30:00 -> 2022-06-29 15:00:00                 17.0   \n",
       "2022-04-29 09:30:00 -> 2022-06-29 15:00:00                 19.0   \n",
       "2022-04-29 09:30:00 -> 2022-06-29 13:42:00                 21.0   \n",
       "2022-04-29 09:30:00 -> 2022-06-29 15:00:00                 14.0   \n",
       "2022-04-29 09:30:00 -> 2022-06-29 15:00:00                 16.0   \n",
       "2022-04-29 09:30:00 -> 2022-06-29 15:00:00                 18.0   \n",
       "2022-04-29 09:30:00 -> 2022-06-29 15:00:00                 19.0   \n",
       "2022-04-29 09:30:00 -> 2022-06-29 15:00:00                 11.0   \n",
       "2022-04-29 09:30:00 -> 2022-06-29 15:00:00                 11.0   \n",
       "2022-04-29 09:30:00 -> 2022-06-29 15:00:00                 13.0   \n",
       "2022-04-29 09:30:00 -> 2022-06-29 15:00:00                 13.0   \n",
       "2022-04-29 09:30:00 -> 2022-06-29 15:00:00                  8.0   \n",
       "2022-04-29 09:30:00 -> 2022-06-29 15:00:00                  8.0   \n",
       "2022-04-29 09:30:00 -> 2022-06-29 15:00:00                 10.0   \n",
       "2022-04-29 09:30:00 -> 2022-06-29 15:00:00                 10.0   \n",
       "2022-04-29 09:30:00 -> 2022-06-29 15:00:00                  7.0   \n",
       "2022-04-29 09:30:00 -> 2022-06-29 15:00:00                  7.0   \n",
       "2022-04-29 09:30:00 -> 2022-06-29 15:00:00                  9.0   \n",
       "2022-04-29 09:30:00 -> 2022-06-29 15:00:00                  9.0   \n",
       "2022-04-29 09:30:00 -> 2022-06-29 15:00:00                  6.0   \n",
       "2022-04-29 09:30:00 -> 2022-06-29 15:00:00                  6.0   \n",
       "2022-04-29 09:30:00 -> 2022-06-29 15:00:00                  8.0   \n",
       "2022-04-29 09:30:00 -> 2022-06-29 15:00:00                  8.0   \n",
       "2022-04-29 09:30:00 -> 2022-06-29 15:00:00                  5.0   \n",
       "2022-04-29 09:30:00 -> 2022-06-29 15:00:00                  5.0   \n",
       "2022-04-29 09:30:00 -> 2022-06-29 15:00:00                  7.0   \n",
       "2022-04-29 09:30:00 -> 2022-06-29 15:00:00                  7.0   \n",
       "2022-04-29 09:30:00 -> 2022-06-29 15:00:00                  3.0   \n",
       "2022-04-29 09:30:00 -> 2022-06-29 15:00:00                  3.0   \n",
       "2022-04-29 09:30:00 -> 2022-06-29 15:00:00                  4.0   \n",
       "2022-04-29 09:30:00 -> 2022-06-29 15:00:00                  4.0   \n",
       "2022-04-29 09:30:00 -> 2022-06-29 15:00:00                  3.0   \n",
       "2022-04-29 09:30:00 -> 2022-06-29 15:00:00                  3.0   \n",
       "2022-04-29 09:30:00 -> 2022-06-29 15:00:00                  4.0   \n",
       "2022-04-29 09:30:00 -> 2022-06-29 15:00:00                  4.0   \n",
       "2022-04-29 09:30:00 -> 2022-06-29 15:00:00                  3.0   \n",
       "2022-04-29 09:30:00 -> 2022-06-29 15:00:00                  3.0   \n",
       "2022-04-29 09:30:00 -> 2022-06-29 15:00:00                  4.0   \n",
       "2022-04-29 09:30:00 -> 2022-06-29 15:00:00                  4.0   \n",
       "\n",
       "                                            close by signal lose  \\\n",
       "2022-04-29 09:30:00 -> 2022-06-29 09:44:00                   0.0   \n",
       "2022-04-29 09:30:00 -> 2022-06-29 09:44:00                   0.0   \n",
       "2022-04-29 09:30:00 -> 2022-06-29 09:35:00                   1.0   \n",
       "2022-04-29 09:30:00 -> 2022-06-29 09:44:00                   0.0   \n",
       "2022-04-29 09:30:00 -> 2022-06-29 09:35:00                   0.0   \n",
       "2022-04-29 09:30:00 -> 2022-06-29 09:34:00                   2.0   \n",
       "2022-04-29 09:30:00 -> 2022-06-29 09:44:00                   0.0   \n",
       "2022-04-29 09:30:00 -> 2022-06-29 09:35:00                   0.0   \n",
       "2022-04-29 09:30:00 -> 2022-06-29 09:34:00                   0.0   \n",
       "2022-04-29 09:30:00 -> 2022-06-29 09:34:00                   0.0   \n",
       "2022-04-29 09:30:00 -> 2022-06-29 09:44:00                   0.0   \n",
       "2022-04-29 09:30:00 -> 2022-06-29 09:35:00                   0.0   \n",
       "2022-04-29 09:30:00 -> 2022-06-29 09:34:00                   0.0   \n",
       "2022-04-29 09:30:00 -> 2022-06-29 09:34:00                   0.0   \n",
       "2022-04-29 09:30:00 -> 2022-06-29 09:44:00                   0.0   \n",
       "2022-04-29 09:30:00 -> 2022-06-29 09:35:00                   0.0   \n",
       "2022-04-29 09:30:00 -> 2022-06-29 09:34:00                   0.0   \n",
       "2022-04-29 09:30:00 -> 2022-06-29 09:34:00                   0.0   \n",
       "2022-04-29 09:30:00 -> 2022-06-29 09:44:00                   0.0   \n",
       "2022-04-29 09:30:00 -> 2022-06-29 09:35:00                   0.0   \n",
       "2022-04-29 09:30:00 -> 2022-06-29 09:34:00                   0.0   \n",
       "2022-04-29 09:30:00 -> 2022-06-29 09:34:00                   0.0   \n",
       "2022-04-29 09:30:00 -> 2022-06-29 09:44:00                   0.0   \n",
       "2022-04-29 09:30:00 -> 2022-06-29 09:35:00                   0.0   \n",
       "2022-04-29 09:30:00 -> 2022-06-29 09:34:00                   0.0   \n",
       "2022-04-29 09:30:00 -> 2022-06-29 09:34:00                   0.0   \n",
       "2022-04-29 09:30:00 -> 2022-06-29 09:44:00                   0.0   \n",
       "2022-04-29 09:30:00 -> 2022-06-29 09:43:00                   0.0   \n",
       "2022-04-29 09:30:00 -> 2022-06-29 09:43:00                   0.0   \n",
       "2022-04-29 09:30:00 -> 2022-06-29 09:43:00                   0.0   \n",
       "2022-04-29 09:30:00 -> 2022-06-29 09:44:00                   0.0   \n",
       "2022-04-29 09:30:00 -> 2022-06-29 09:43:00                   0.0   \n",
       "2022-04-29 09:30:00 -> 2022-06-29 09:43:00                   0.0   \n",
       "2022-04-29 09:30:00 -> 2022-06-29 09:43:00                   0.0   \n",
       "2022-04-29 09:30:00 -> 2022-06-29 15:00:00                   0.0   \n",
       "2022-04-29 09:30:00 -> 2022-06-29 15:00:00                   0.0   \n",
       "2022-04-29 09:30:00 -> 2022-06-29 15:00:00                   0.0   \n",
       "2022-04-29 09:30:00 -> 2022-06-29 13:42:00                   0.0   \n",
       "2022-04-29 09:30:00 -> 2022-06-29 15:00:00                   0.0   \n",
       "2022-04-29 09:30:00 -> 2022-06-29 15:00:00                   0.0   \n",
       "2022-04-29 09:30:00 -> 2022-06-29 15:00:00                   0.0   \n",
       "2022-04-29 09:30:00 -> 2022-06-29 15:00:00                   0.0   \n",
       "2022-04-29 09:30:00 -> 2022-06-29 15:00:00                   0.0   \n",
       "2022-04-29 09:30:00 -> 2022-06-29 15:00:00                   0.0   \n",
       "2022-04-29 09:30:00 -> 2022-06-29 15:00:00                   0.0   \n",
       "2022-04-29 09:30:00 -> 2022-06-29 15:00:00                   0.0   \n",
       "2022-04-29 09:30:00 -> 2022-06-29 15:00:00                   0.0   \n",
       "2022-04-29 09:30:00 -> 2022-06-29 15:00:00                   0.0   \n",
       "2022-04-29 09:30:00 -> 2022-06-29 15:00:00                   0.0   \n",
       "2022-04-29 09:30:00 -> 2022-06-29 15:00:00                   0.0   \n",
       "2022-04-29 09:30:00 -> 2022-06-29 15:00:00                   0.0   \n",
       "2022-04-29 09:30:00 -> 2022-06-29 15:00:00                   0.0   \n",
       "2022-04-29 09:30:00 -> 2022-06-29 15:00:00                   0.0   \n",
       "2022-04-29 09:30:00 -> 2022-06-29 15:00:00                   0.0   \n",
       "2022-04-29 09:30:00 -> 2022-06-29 15:00:00                   0.0   \n",
       "2022-04-29 09:30:00 -> 2022-06-29 15:00:00                   0.0   \n",
       "2022-04-29 09:30:00 -> 2022-06-29 15:00:00                   0.0   \n",
       "2022-04-29 09:30:00 -> 2022-06-29 15:00:00                   0.0   \n",
       "2022-04-29 09:30:00 -> 2022-06-29 15:00:00                   0.0   \n",
       "2022-04-29 09:30:00 -> 2022-06-29 15:00:00                   0.0   \n",
       "2022-04-29 09:30:00 -> 2022-06-29 15:00:00                   0.0   \n",
       "2022-04-29 09:30:00 -> 2022-06-29 15:00:00                   0.0   \n",
       "2022-04-29 09:30:00 -> 2022-06-29 15:00:00                   0.0   \n",
       "2022-04-29 09:30:00 -> 2022-06-29 15:00:00                   0.0   \n",
       "2022-04-29 09:30:00 -> 2022-06-29 15:00:00                   0.0   \n",
       "2022-04-29 09:30:00 -> 2022-06-29 15:00:00                   0.0   \n",
       "2022-04-29 09:30:00 -> 2022-06-29 15:00:00                   0.0   \n",
       "2022-04-29 09:30:00 -> 2022-06-29 15:00:00                   0.0   \n",
       "2022-04-29 09:30:00 -> 2022-06-29 15:00:00                   0.0   \n",
       "2022-04-29 09:30:00 -> 2022-06-29 15:00:00                   0.0   \n",
       "2022-04-29 09:30:00 -> 2022-06-29 15:00:00                   0.0   \n",
       "2022-04-29 09:30:00 -> 2022-06-29 15:00:00                   0.0   \n",
       "2022-04-29 09:30:00 -> 2022-06-29 15:00:00                   0.0   \n",
       "2022-04-29 09:30:00 -> 2022-06-29 15:00:00                   0.0   \n",
       "\n",
       "                                            open threshold  close threshold  \n",
       "2022-04-29 09:30:00 -> 2022-06-29 09:44:00           0.001            0.000  \n",
       "2022-04-29 09:30:00 -> 2022-06-29 09:44:00           0.002            0.000  \n",
       "2022-04-29 09:30:00 -> 2022-06-29 09:35:00           0.002            0.001  \n",
       "2022-04-29 09:30:00 -> 2022-06-29 09:44:00           0.003            0.000  \n",
       "2022-04-29 09:30:00 -> 2022-06-29 09:35:00           0.003            0.001  \n",
       "2022-04-29 09:30:00 -> 2022-06-29 09:34:00           0.003            0.002  \n",
       "2022-04-29 09:30:00 -> 2022-06-29 09:44:00           0.004            0.000  \n",
       "2022-04-29 09:30:00 -> 2022-06-29 09:35:00           0.004            0.001  \n",
       "2022-04-29 09:30:00 -> 2022-06-29 09:34:00           0.004            0.002  \n",
       "2022-04-29 09:30:00 -> 2022-06-29 09:34:00           0.004            0.003  \n",
       "2022-04-29 09:30:00 -> 2022-06-29 09:44:00           0.005            0.000  \n",
       "2022-04-29 09:30:00 -> 2022-06-29 09:35:00           0.005            0.001  \n",
       "2022-04-29 09:30:00 -> 2022-06-29 09:34:00           0.005            0.002  \n",
       "2022-04-29 09:30:00 -> 2022-06-29 09:34:00           0.005            0.003  \n",
       "2022-04-29 09:30:00 -> 2022-06-29 09:44:00           0.006            0.000  \n",
       "2022-04-29 09:30:00 -> 2022-06-29 09:35:00           0.006            0.001  \n",
       "2022-04-29 09:30:00 -> 2022-06-29 09:34:00           0.006            0.002  \n",
       "2022-04-29 09:30:00 -> 2022-06-29 09:34:00           0.006            0.003  \n",
       "2022-04-29 09:30:00 -> 2022-06-29 09:44:00           0.007            0.000  \n",
       "2022-04-29 09:30:00 -> 2022-06-29 09:35:00           0.007            0.001  \n",
       "2022-04-29 09:30:00 -> 2022-06-29 09:34:00           0.007            0.002  \n",
       "2022-04-29 09:30:00 -> 2022-06-29 09:34:00           0.007            0.003  \n",
       "2022-04-29 09:30:00 -> 2022-06-29 09:44:00           0.008            0.000  \n",
       "2022-04-29 09:30:00 -> 2022-06-29 09:35:00           0.008            0.001  \n",
       "2022-04-29 09:30:00 -> 2022-06-29 09:34:00           0.008            0.002  \n",
       "2022-04-29 09:30:00 -> 2022-06-29 09:34:00           0.008            0.003  \n",
       "2022-04-29 09:30:00 -> 2022-06-29 09:44:00           0.009            0.000  \n",
       "2022-04-29 09:30:00 -> 2022-06-29 09:43:00           0.009            0.001  \n",
       "2022-04-29 09:30:00 -> 2022-06-29 09:43:00           0.009            0.002  \n",
       "2022-04-29 09:30:00 -> 2022-06-29 09:43:00           0.009            0.003  \n",
       "2022-04-29 09:30:00 -> 2022-06-29 09:44:00           0.010            0.000  \n",
       "2022-04-29 09:30:00 -> 2022-06-29 09:43:00           0.010            0.001  \n",
       "2022-04-29 09:30:00 -> 2022-06-29 09:43:00           0.010            0.002  \n",
       "2022-04-29 09:30:00 -> 2022-06-29 09:43:00           0.010            0.003  \n",
       "2022-04-29 09:30:00 -> 2022-06-29 15:00:00           0.011            0.000  \n",
       "2022-04-29 09:30:00 -> 2022-06-29 15:00:00           0.011            0.001  \n",
       "2022-04-29 09:30:00 -> 2022-06-29 15:00:00           0.011            0.002  \n",
       "2022-04-29 09:30:00 -> 2022-06-29 13:42:00           0.011            0.003  \n",
       "2022-04-29 09:30:00 -> 2022-06-29 15:00:00           0.012            0.000  \n",
       "2022-04-29 09:30:00 -> 2022-06-29 15:00:00           0.012            0.001  \n",
       "2022-04-29 09:30:00 -> 2022-06-29 15:00:00           0.012            0.002  \n",
       "2022-04-29 09:30:00 -> 2022-06-29 15:00:00           0.012            0.003  \n",
       "2022-04-29 09:30:00 -> 2022-06-29 15:00:00           0.013            0.000  \n",
       "2022-04-29 09:30:00 -> 2022-06-29 15:00:00           0.013            0.001  \n",
       "2022-04-29 09:30:00 -> 2022-06-29 15:00:00           0.013            0.002  \n",
       "2022-04-29 09:30:00 -> 2022-06-29 15:00:00           0.013            0.003  \n",
       "2022-04-29 09:30:00 -> 2022-06-29 15:00:00           0.014            0.000  \n",
       "2022-04-29 09:30:00 -> 2022-06-29 15:00:00           0.014            0.001  \n",
       "2022-04-29 09:30:00 -> 2022-06-29 15:00:00           0.014            0.002  \n",
       "2022-04-29 09:30:00 -> 2022-06-29 15:00:00           0.014            0.003  \n",
       "2022-04-29 09:30:00 -> 2022-06-29 15:00:00           0.015            0.000  \n",
       "2022-04-29 09:30:00 -> 2022-06-29 15:00:00           0.015            0.001  \n",
       "2022-04-29 09:30:00 -> 2022-06-29 15:00:00           0.015            0.002  \n",
       "2022-04-29 09:30:00 -> 2022-06-29 15:00:00           0.015            0.003  \n",
       "2022-04-29 09:30:00 -> 2022-06-29 15:00:00           0.016            0.000  \n",
       "2022-04-29 09:30:00 -> 2022-06-29 15:00:00           0.016            0.001  \n",
       "2022-04-29 09:30:00 -> 2022-06-29 15:00:00           0.016            0.002  \n",
       "2022-04-29 09:30:00 -> 2022-06-29 15:00:00           0.016            0.003  \n",
       "2022-04-29 09:30:00 -> 2022-06-29 15:00:00           0.017            0.000  \n",
       "2022-04-29 09:30:00 -> 2022-06-29 15:00:00           0.017            0.001  \n",
       "2022-04-29 09:30:00 -> 2022-06-29 15:00:00           0.017            0.002  \n",
       "2022-04-29 09:30:00 -> 2022-06-29 15:00:00           0.017            0.003  \n",
       "2022-04-29 09:30:00 -> 2022-06-29 15:00:00           0.018            0.000  \n",
       "2022-04-29 09:30:00 -> 2022-06-29 15:00:00           0.018            0.001  \n",
       "2022-04-29 09:30:00 -> 2022-06-29 15:00:00           0.018            0.002  \n",
       "2022-04-29 09:30:00 -> 2022-06-29 15:00:00           0.018            0.003  \n",
       "2022-04-29 09:30:00 -> 2022-06-29 15:00:00           0.019            0.000  \n",
       "2022-04-29 09:30:00 -> 2022-06-29 15:00:00           0.019            0.001  \n",
       "2022-04-29 09:30:00 -> 2022-06-29 15:00:00           0.019            0.002  \n",
       "2022-04-29 09:30:00 -> 2022-06-29 15:00:00           0.019            0.003  \n",
       "2022-04-29 09:30:00 -> 2022-06-29 15:00:00           0.020            0.000  \n",
       "2022-04-29 09:30:00 -> 2022-06-29 15:00:00           0.020            0.001  \n",
       "2022-04-29 09:30:00 -> 2022-06-29 15:00:00           0.020            0.002  \n",
       "2022-04-29 09:30:00 -> 2022-06-29 15:00:00           0.020            0.003  \n",
       "\n",
       "[74 rows x 22 columns]"
      ]
     },
     "execution_count": 11,
     "metadata": {},
     "output_type": "execute_result"
    }
   ],
   "source": [
    "df_grid_search_res.columns\n",
    "df_grid_search_res"
   ]
  },
  {
   "cell_type": "code",
   "execution_count": 12,
   "metadata": {},
   "outputs": [
    {
     "data": {
      "text/html": [
       "<div>\n",
       "<style scoped>\n",
       "    .dataframe tbody tr th:only-of-type {\n",
       "        vertical-align: middle;\n",
       "    }\n",
       "\n",
       "    .dataframe tbody tr th {\n",
       "        vertical-align: top;\n",
       "    }\n",
       "\n",
       "    .dataframe thead th {\n",
       "        text-align: right;\n",
       "    }\n",
       "</style>\n",
       "<table border=\"1\" class=\"dataframe\">\n",
       "  <thead>\n",
       "    <tr style=\"text-align: right;\">\n",
       "      <th></th>\n",
       "      <th>win</th>\n",
       "      <th>lose</th>\n",
       "      <th>total round</th>\n",
       "      <th>close by time</th>\n",
       "      <th>close by signal</th>\n",
       "      <th>close by time win</th>\n",
       "      <th>close by time lose</th>\n",
       "      <th>close by signal win</th>\n",
       "      <th>close by signal lose</th>\n",
       "      <th>open threshold</th>\n",
       "      <th>close threshold</th>\n",
       "    </tr>\n",
       "  </thead>\n",
       "  <tbody>\n",
       "    <tr>\n",
       "      <th>2022-04-29 09:30:00 -&gt; 2022-06-29 09:44:00</th>\n",
       "      <td>35.0</td>\n",
       "      <td>5.0</td>\n",
       "      <td>40.0</td>\n",
       "      <td>9.0</td>\n",
       "      <td>31.0</td>\n",
       "      <td>4.0</td>\n",
       "      <td>5.0</td>\n",
       "      <td>31.0</td>\n",
       "      <td>0.0</td>\n",
       "      <td>0.001</td>\n",
       "      <td>0.000</td>\n",
       "    </tr>\n",
       "    <tr>\n",
       "      <th>2022-04-29 09:30:00 -&gt; 2022-06-29 09:44:00</th>\n",
       "      <td>34.0</td>\n",
       "      <td>6.0</td>\n",
       "      <td>40.0</td>\n",
       "      <td>10.0</td>\n",
       "      <td>30.0</td>\n",
       "      <td>4.0</td>\n",
       "      <td>6.0</td>\n",
       "      <td>30.0</td>\n",
       "      <td>0.0</td>\n",
       "      <td>0.002</td>\n",
       "      <td>0.000</td>\n",
       "    </tr>\n",
       "    <tr>\n",
       "      <th>2022-04-29 09:30:00 -&gt; 2022-06-29 09:35:00</th>\n",
       "      <td>36.0</td>\n",
       "      <td>4.0</td>\n",
       "      <td>40.0</td>\n",
       "      <td>6.0</td>\n",
       "      <td>34.0</td>\n",
       "      <td>3.0</td>\n",
       "      <td>3.0</td>\n",
       "      <td>33.0</td>\n",
       "      <td>1.0</td>\n",
       "      <td>0.002</td>\n",
       "      <td>0.001</td>\n",
       "    </tr>\n",
       "    <tr>\n",
       "      <th>2022-04-29 09:30:00 -&gt; 2022-06-29 09:44:00</th>\n",
       "      <td>34.0</td>\n",
       "      <td>6.0</td>\n",
       "      <td>40.0</td>\n",
       "      <td>10.0</td>\n",
       "      <td>30.0</td>\n",
       "      <td>4.0</td>\n",
       "      <td>6.0</td>\n",
       "      <td>30.0</td>\n",
       "      <td>0.0</td>\n",
       "      <td>0.003</td>\n",
       "      <td>0.000</td>\n",
       "    </tr>\n",
       "    <tr>\n",
       "      <th>2022-04-29 09:30:00 -&gt; 2022-06-29 09:35:00</th>\n",
       "      <td>37.0</td>\n",
       "      <td>3.0</td>\n",
       "      <td>40.0</td>\n",
       "      <td>6.0</td>\n",
       "      <td>34.0</td>\n",
       "      <td>3.0</td>\n",
       "      <td>3.0</td>\n",
       "      <td>34.0</td>\n",
       "      <td>0.0</td>\n",
       "      <td>0.003</td>\n",
       "      <td>0.001</td>\n",
       "    </tr>\n",
       "    <tr>\n",
       "      <th>2022-04-29 09:30:00 -&gt; 2022-06-29 09:34:00</th>\n",
       "      <td>35.0</td>\n",
       "      <td>5.0</td>\n",
       "      <td>40.0</td>\n",
       "      <td>4.0</td>\n",
       "      <td>36.0</td>\n",
       "      <td>1.0</td>\n",
       "      <td>3.0</td>\n",
       "      <td>34.0</td>\n",
       "      <td>2.0</td>\n",
       "      <td>0.003</td>\n",
       "      <td>0.002</td>\n",
       "    </tr>\n",
       "    <tr>\n",
       "      <th>2022-04-29 09:30:00 -&gt; 2022-06-29 09:44:00</th>\n",
       "      <td>33.0</td>\n",
       "      <td>7.0</td>\n",
       "      <td>40.0</td>\n",
       "      <td>11.0</td>\n",
       "      <td>29.0</td>\n",
       "      <td>4.0</td>\n",
       "      <td>7.0</td>\n",
       "      <td>29.0</td>\n",
       "      <td>0.0</td>\n",
       "      <td>0.004</td>\n",
       "      <td>0.000</td>\n",
       "    </tr>\n",
       "    <tr>\n",
       "      <th>2022-04-29 09:30:00 -&gt; 2022-06-29 09:35:00</th>\n",
       "      <td>37.0</td>\n",
       "      <td>3.0</td>\n",
       "      <td>40.0</td>\n",
       "      <td>6.0</td>\n",
       "      <td>34.0</td>\n",
       "      <td>3.0</td>\n",
       "      <td>3.0</td>\n",
       "      <td>34.0</td>\n",
       "      <td>0.0</td>\n",
       "      <td>0.004</td>\n",
       "      <td>0.001</td>\n",
       "    </tr>\n",
       "    <tr>\n",
       "      <th>2022-04-29 09:30:00 -&gt; 2022-06-29 09:34:00</th>\n",
       "      <td>37.0</td>\n",
       "      <td>3.0</td>\n",
       "      <td>40.0</td>\n",
       "      <td>4.0</td>\n",
       "      <td>36.0</td>\n",
       "      <td>1.0</td>\n",
       "      <td>3.0</td>\n",
       "      <td>36.0</td>\n",
       "      <td>0.0</td>\n",
       "      <td>0.004</td>\n",
       "      <td>0.002</td>\n",
       "    </tr>\n",
       "    <tr>\n",
       "      <th>2022-04-29 09:30:00 -&gt; 2022-06-29 09:34:00</th>\n",
       "      <td>37.0</td>\n",
       "      <td>3.0</td>\n",
       "      <td>40.0</td>\n",
       "      <td>4.0</td>\n",
       "      <td>36.0</td>\n",
       "      <td>1.0</td>\n",
       "      <td>3.0</td>\n",
       "      <td>36.0</td>\n",
       "      <td>0.0</td>\n",
       "      <td>0.004</td>\n",
       "      <td>0.003</td>\n",
       "    </tr>\n",
       "    <tr>\n",
       "      <th>2022-04-29 09:30:00 -&gt; 2022-06-29 09:44:00</th>\n",
       "      <td>32.0</td>\n",
       "      <td>8.0</td>\n",
       "      <td>40.0</td>\n",
       "      <td>12.0</td>\n",
       "      <td>28.0</td>\n",
       "      <td>4.0</td>\n",
       "      <td>8.0</td>\n",
       "      <td>28.0</td>\n",
       "      <td>0.0</td>\n",
       "      <td>0.005</td>\n",
       "      <td>0.000</td>\n",
       "    </tr>\n",
       "    <tr>\n",
       "      <th>2022-04-29 09:30:00 -&gt; 2022-06-29 09:35:00</th>\n",
       "      <td>36.0</td>\n",
       "      <td>4.0</td>\n",
       "      <td>40.0</td>\n",
       "      <td>7.0</td>\n",
       "      <td>33.0</td>\n",
       "      <td>3.0</td>\n",
       "      <td>4.0</td>\n",
       "      <td>33.0</td>\n",
       "      <td>0.0</td>\n",
       "      <td>0.005</td>\n",
       "      <td>0.001</td>\n",
       "    </tr>\n",
       "    <tr>\n",
       "      <th>2022-04-29 09:30:00 -&gt; 2022-06-29 09:34:00</th>\n",
       "      <td>36.0</td>\n",
       "      <td>4.0</td>\n",
       "      <td>40.0</td>\n",
       "      <td>5.0</td>\n",
       "      <td>35.0</td>\n",
       "      <td>1.0</td>\n",
       "      <td>4.0</td>\n",
       "      <td>35.0</td>\n",
       "      <td>0.0</td>\n",
       "      <td>0.005</td>\n",
       "      <td>0.002</td>\n",
       "    </tr>\n",
       "    <tr>\n",
       "      <th>2022-04-29 09:30:00 -&gt; 2022-06-29 09:34:00</th>\n",
       "      <td>37.0</td>\n",
       "      <td>3.0</td>\n",
       "      <td>40.0</td>\n",
       "      <td>4.0</td>\n",
       "      <td>36.0</td>\n",
       "      <td>1.0</td>\n",
       "      <td>3.0</td>\n",
       "      <td>36.0</td>\n",
       "      <td>0.0</td>\n",
       "      <td>0.005</td>\n",
       "      <td>0.003</td>\n",
       "    </tr>\n",
       "    <tr>\n",
       "      <th>2022-04-29 09:30:00 -&gt; 2022-06-29 09:44:00</th>\n",
       "      <td>29.0</td>\n",
       "      <td>11.0</td>\n",
       "      <td>40.0</td>\n",
       "      <td>15.0</td>\n",
       "      <td>25.0</td>\n",
       "      <td>4.0</td>\n",
       "      <td>11.0</td>\n",
       "      <td>25.0</td>\n",
       "      <td>0.0</td>\n",
       "      <td>0.006</td>\n",
       "      <td>0.000</td>\n",
       "    </tr>\n",
       "    <tr>\n",
       "      <th>2022-04-29 09:30:00 -&gt; 2022-06-29 09:35:00</th>\n",
       "      <td>34.0</td>\n",
       "      <td>6.0</td>\n",
       "      <td>40.0</td>\n",
       "      <td>9.0</td>\n",
       "      <td>31.0</td>\n",
       "      <td>3.0</td>\n",
       "      <td>6.0</td>\n",
       "      <td>31.0</td>\n",
       "      <td>0.0</td>\n",
       "      <td>0.006</td>\n",
       "      <td>0.001</td>\n",
       "    </tr>\n",
       "    <tr>\n",
       "      <th>2022-04-29 09:30:00 -&gt; 2022-06-29 09:34:00</th>\n",
       "      <td>34.0</td>\n",
       "      <td>6.0</td>\n",
       "      <td>40.0</td>\n",
       "      <td>7.0</td>\n",
       "      <td>33.0</td>\n",
       "      <td>1.0</td>\n",
       "      <td>6.0</td>\n",
       "      <td>33.0</td>\n",
       "      <td>0.0</td>\n",
       "      <td>0.006</td>\n",
       "      <td>0.002</td>\n",
       "    </tr>\n",
       "    <tr>\n",
       "      <th>2022-04-29 09:30:00 -&gt; 2022-06-29 09:34:00</th>\n",
       "      <td>36.0</td>\n",
       "      <td>4.0</td>\n",
       "      <td>40.0</td>\n",
       "      <td>5.0</td>\n",
       "      <td>35.0</td>\n",
       "      <td>1.0</td>\n",
       "      <td>4.0</td>\n",
       "      <td>35.0</td>\n",
       "      <td>0.0</td>\n",
       "      <td>0.006</td>\n",
       "      <td>0.003</td>\n",
       "    </tr>\n",
       "    <tr>\n",
       "      <th>2022-04-29 09:30:00 -&gt; 2022-06-29 09:44:00</th>\n",
       "      <td>29.0</td>\n",
       "      <td>10.0</td>\n",
       "      <td>39.0</td>\n",
       "      <td>15.0</td>\n",
       "      <td>24.0</td>\n",
       "      <td>5.0</td>\n",
       "      <td>10.0</td>\n",
       "      <td>24.0</td>\n",
       "      <td>0.0</td>\n",
       "      <td>0.007</td>\n",
       "      <td>0.000</td>\n",
       "    </tr>\n",
       "    <tr>\n",
       "      <th>2022-04-29 09:30:00 -&gt; 2022-06-29 09:35:00</th>\n",
       "      <td>32.0</td>\n",
       "      <td>7.0</td>\n",
       "      <td>39.0</td>\n",
       "      <td>10.0</td>\n",
       "      <td>29.0</td>\n",
       "      <td>3.0</td>\n",
       "      <td>7.0</td>\n",
       "      <td>29.0</td>\n",
       "      <td>0.0</td>\n",
       "      <td>0.007</td>\n",
       "      <td>0.001</td>\n",
       "    </tr>\n",
       "    <tr>\n",
       "      <th>2022-04-29 09:30:00 -&gt; 2022-06-29 09:34:00</th>\n",
       "      <td>33.0</td>\n",
       "      <td>6.0</td>\n",
       "      <td>39.0</td>\n",
       "      <td>7.0</td>\n",
       "      <td>32.0</td>\n",
       "      <td>1.0</td>\n",
       "      <td>6.0</td>\n",
       "      <td>32.0</td>\n",
       "      <td>0.0</td>\n",
       "      <td>0.007</td>\n",
       "      <td>0.002</td>\n",
       "    </tr>\n",
       "    <tr>\n",
       "      <th>2022-04-29 09:30:00 -&gt; 2022-06-29 09:34:00</th>\n",
       "      <td>35.0</td>\n",
       "      <td>4.0</td>\n",
       "      <td>39.0</td>\n",
       "      <td>5.0</td>\n",
       "      <td>34.0</td>\n",
       "      <td>1.0</td>\n",
       "      <td>4.0</td>\n",
       "      <td>34.0</td>\n",
       "      <td>0.0</td>\n",
       "      <td>0.007</td>\n",
       "      <td>0.003</td>\n",
       "    </tr>\n",
       "    <tr>\n",
       "      <th>2022-04-29 09:30:00 -&gt; 2022-06-29 09:44:00</th>\n",
       "      <td>27.0</td>\n",
       "      <td>11.0</td>\n",
       "      <td>38.0</td>\n",
       "      <td>16.0</td>\n",
       "      <td>22.0</td>\n",
       "      <td>5.0</td>\n",
       "      <td>11.0</td>\n",
       "      <td>22.0</td>\n",
       "      <td>0.0</td>\n",
       "      <td>0.008</td>\n",
       "      <td>0.000</td>\n",
       "    </tr>\n",
       "    <tr>\n",
       "      <th>2022-04-29 09:30:00 -&gt; 2022-06-29 09:35:00</th>\n",
       "      <td>29.0</td>\n",
       "      <td>9.0</td>\n",
       "      <td>38.0</td>\n",
       "      <td>12.0</td>\n",
       "      <td>26.0</td>\n",
       "      <td>3.0</td>\n",
       "      <td>9.0</td>\n",
       "      <td>26.0</td>\n",
       "      <td>0.0</td>\n",
       "      <td>0.008</td>\n",
       "      <td>0.001</td>\n",
       "    </tr>\n",
       "    <tr>\n",
       "      <th>2022-04-29 09:30:00 -&gt; 2022-06-29 09:34:00</th>\n",
       "      <td>30.0</td>\n",
       "      <td>8.0</td>\n",
       "      <td>38.0</td>\n",
       "      <td>9.0</td>\n",
       "      <td>29.0</td>\n",
       "      <td>1.0</td>\n",
       "      <td>8.0</td>\n",
       "      <td>29.0</td>\n",
       "      <td>0.0</td>\n",
       "      <td>0.008</td>\n",
       "      <td>0.002</td>\n",
       "    </tr>\n",
       "    <tr>\n",
       "      <th>2022-04-29 09:30:00 -&gt; 2022-06-29 09:34:00</th>\n",
       "      <td>32.0</td>\n",
       "      <td>6.0</td>\n",
       "      <td>38.0</td>\n",
       "      <td>7.0</td>\n",
       "      <td>31.0</td>\n",
       "      <td>1.0</td>\n",
       "      <td>6.0</td>\n",
       "      <td>31.0</td>\n",
       "      <td>0.0</td>\n",
       "      <td>0.008</td>\n",
       "      <td>0.003</td>\n",
       "    </tr>\n",
       "    <tr>\n",
       "      <th>2022-04-29 09:30:00 -&gt; 2022-06-29 09:44:00</th>\n",
       "      <td>24.0</td>\n",
       "      <td>14.0</td>\n",
       "      <td>38.0</td>\n",
       "      <td>20.0</td>\n",
       "      <td>18.0</td>\n",
       "      <td>6.0</td>\n",
       "      <td>14.0</td>\n",
       "      <td>18.0</td>\n",
       "      <td>0.0</td>\n",
       "      <td>0.009</td>\n",
       "      <td>0.000</td>\n",
       "    </tr>\n",
       "    <tr>\n",
       "      <th>2022-04-29 09:30:00 -&gt; 2022-06-29 09:43:00</th>\n",
       "      <td>26.0</td>\n",
       "      <td>12.0</td>\n",
       "      <td>38.0</td>\n",
       "      <td>16.0</td>\n",
       "      <td>22.0</td>\n",
       "      <td>4.0</td>\n",
       "      <td>12.0</td>\n",
       "      <td>22.0</td>\n",
       "      <td>0.0</td>\n",
       "      <td>0.009</td>\n",
       "      <td>0.001</td>\n",
       "    </tr>\n",
       "    <tr>\n",
       "      <th>2022-04-29 09:30:00 -&gt; 2022-06-29 09:43:00</th>\n",
       "      <td>26.0</td>\n",
       "      <td>12.0</td>\n",
       "      <td>38.0</td>\n",
       "      <td>14.0</td>\n",
       "      <td>24.0</td>\n",
       "      <td>2.0</td>\n",
       "      <td>12.0</td>\n",
       "      <td>24.0</td>\n",
       "      <td>0.0</td>\n",
       "      <td>0.009</td>\n",
       "      <td>0.002</td>\n",
       "    </tr>\n",
       "    <tr>\n",
       "      <th>2022-04-29 09:30:00 -&gt; 2022-06-29 09:43:00</th>\n",
       "      <td>28.0</td>\n",
       "      <td>10.0</td>\n",
       "      <td>38.0</td>\n",
       "      <td>12.0</td>\n",
       "      <td>26.0</td>\n",
       "      <td>2.0</td>\n",
       "      <td>10.0</td>\n",
       "      <td>26.0</td>\n",
       "      <td>0.0</td>\n",
       "      <td>0.009</td>\n",
       "      <td>0.003</td>\n",
       "    </tr>\n",
       "    <tr>\n",
       "      <th>2022-04-29 09:30:00 -&gt; 2022-06-29 09:44:00</th>\n",
       "      <td>26.0</td>\n",
       "      <td>10.0</td>\n",
       "      <td>36.0</td>\n",
       "      <td>19.0</td>\n",
       "      <td>17.0</td>\n",
       "      <td>9.0</td>\n",
       "      <td>10.0</td>\n",
       "      <td>17.0</td>\n",
       "      <td>0.0</td>\n",
       "      <td>0.010</td>\n",
       "      <td>0.000</td>\n",
       "    </tr>\n",
       "    <tr>\n",
       "      <th>2022-04-29 09:30:00 -&gt; 2022-06-29 09:43:00</th>\n",
       "      <td>27.0</td>\n",
       "      <td>9.0</td>\n",
       "      <td>36.0</td>\n",
       "      <td>16.0</td>\n",
       "      <td>20.0</td>\n",
       "      <td>7.0</td>\n",
       "      <td>9.0</td>\n",
       "      <td>20.0</td>\n",
       "      <td>0.0</td>\n",
       "      <td>0.010</td>\n",
       "      <td>0.001</td>\n",
       "    </tr>\n",
       "    <tr>\n",
       "      <th>2022-04-29 09:30:00 -&gt; 2022-06-29 09:43:00</th>\n",
       "      <td>27.0</td>\n",
       "      <td>9.0</td>\n",
       "      <td>36.0</td>\n",
       "      <td>14.0</td>\n",
       "      <td>22.0</td>\n",
       "      <td>5.0</td>\n",
       "      <td>9.0</td>\n",
       "      <td>22.0</td>\n",
       "      <td>0.0</td>\n",
       "      <td>0.010</td>\n",
       "      <td>0.002</td>\n",
       "    </tr>\n",
       "    <tr>\n",
       "      <th>2022-04-29 09:30:00 -&gt; 2022-06-29 09:43:00</th>\n",
       "      <td>28.0</td>\n",
       "      <td>8.0</td>\n",
       "      <td>36.0</td>\n",
       "      <td>13.0</td>\n",
       "      <td>23.0</td>\n",
       "      <td>5.0</td>\n",
       "      <td>8.0</td>\n",
       "      <td>23.0</td>\n",
       "      <td>0.0</td>\n",
       "      <td>0.010</td>\n",
       "      <td>0.003</td>\n",
       "    </tr>\n",
       "    <tr>\n",
       "      <th>2022-04-29 09:30:00 -&gt; 2022-06-29 15:00:00</th>\n",
       "      <td>24.0</td>\n",
       "      <td>9.0</td>\n",
       "      <td>33.0</td>\n",
       "      <td>19.0</td>\n",
       "      <td>14.0</td>\n",
       "      <td>10.0</td>\n",
       "      <td>9.0</td>\n",
       "      <td>14.0</td>\n",
       "      <td>0.0</td>\n",
       "      <td>0.011</td>\n",
       "      <td>0.000</td>\n",
       "    </tr>\n",
       "    <tr>\n",
       "      <th>2022-04-29 09:30:00 -&gt; 2022-06-29 15:00:00</th>\n",
       "      <td>25.0</td>\n",
       "      <td>8.0</td>\n",
       "      <td>33.0</td>\n",
       "      <td>16.0</td>\n",
       "      <td>17.0</td>\n",
       "      <td>8.0</td>\n",
       "      <td>8.0</td>\n",
       "      <td>17.0</td>\n",
       "      <td>0.0</td>\n",
       "      <td>0.011</td>\n",
       "      <td>0.001</td>\n",
       "    </tr>\n",
       "    <tr>\n",
       "      <th>2022-04-29 09:30:00 -&gt; 2022-06-29 15:00:00</th>\n",
       "      <td>25.0</td>\n",
       "      <td>8.0</td>\n",
       "      <td>33.0</td>\n",
       "      <td>14.0</td>\n",
       "      <td>19.0</td>\n",
       "      <td>6.0</td>\n",
       "      <td>8.0</td>\n",
       "      <td>19.0</td>\n",
       "      <td>0.0</td>\n",
       "      <td>0.011</td>\n",
       "      <td>0.002</td>\n",
       "    </tr>\n",
       "    <tr>\n",
       "      <th>2022-04-29 09:30:00 -&gt; 2022-06-29 13:42:00</th>\n",
       "      <td>26.0</td>\n",
       "      <td>7.0</td>\n",
       "      <td>33.0</td>\n",
       "      <td>12.0</td>\n",
       "      <td>21.0</td>\n",
       "      <td>5.0</td>\n",
       "      <td>7.0</td>\n",
       "      <td>21.0</td>\n",
       "      <td>0.0</td>\n",
       "      <td>0.011</td>\n",
       "      <td>0.003</td>\n",
       "    </tr>\n",
       "    <tr>\n",
       "      <th>2022-04-29 09:30:00 -&gt; 2022-06-29 15:00:00</th>\n",
       "      <td>25.0</td>\n",
       "      <td>8.0</td>\n",
       "      <td>33.0</td>\n",
       "      <td>19.0</td>\n",
       "      <td>14.0</td>\n",
       "      <td>11.0</td>\n",
       "      <td>8.0</td>\n",
       "      <td>14.0</td>\n",
       "      <td>0.0</td>\n",
       "      <td>0.012</td>\n",
       "      <td>0.000</td>\n",
       "    </tr>\n",
       "    <tr>\n",
       "      <th>2022-04-29 09:30:00 -&gt; 2022-06-29 15:00:00</th>\n",
       "      <td>25.0</td>\n",
       "      <td>8.0</td>\n",
       "      <td>33.0</td>\n",
       "      <td>17.0</td>\n",
       "      <td>16.0</td>\n",
       "      <td>9.0</td>\n",
       "      <td>8.0</td>\n",
       "      <td>16.0</td>\n",
       "      <td>0.0</td>\n",
       "      <td>0.012</td>\n",
       "      <td>0.001</td>\n",
       "    </tr>\n",
       "    <tr>\n",
       "      <th>2022-04-29 09:30:00 -&gt; 2022-06-29 15:00:00</th>\n",
       "      <td>25.0</td>\n",
       "      <td>8.0</td>\n",
       "      <td>33.0</td>\n",
       "      <td>15.0</td>\n",
       "      <td>18.0</td>\n",
       "      <td>7.0</td>\n",
       "      <td>8.0</td>\n",
       "      <td>18.0</td>\n",
       "      <td>0.0</td>\n",
       "      <td>0.012</td>\n",
       "      <td>0.002</td>\n",
       "    </tr>\n",
       "    <tr>\n",
       "      <th>2022-04-29 09:30:00 -&gt; 2022-06-29 15:00:00</th>\n",
       "      <td>25.0</td>\n",
       "      <td>8.0</td>\n",
       "      <td>33.0</td>\n",
       "      <td>14.0</td>\n",
       "      <td>19.0</td>\n",
       "      <td>6.0</td>\n",
       "      <td>8.0</td>\n",
       "      <td>19.0</td>\n",
       "      <td>0.0</td>\n",
       "      <td>0.012</td>\n",
       "      <td>0.003</td>\n",
       "    </tr>\n",
       "    <tr>\n",
       "      <th>2022-04-29 09:30:00 -&gt; 2022-06-29 15:00:00</th>\n",
       "      <td>20.0</td>\n",
       "      <td>8.0</td>\n",
       "      <td>28.0</td>\n",
       "      <td>17.0</td>\n",
       "      <td>11.0</td>\n",
       "      <td>9.0</td>\n",
       "      <td>8.0</td>\n",
       "      <td>11.0</td>\n",
       "      <td>0.0</td>\n",
       "      <td>0.013</td>\n",
       "      <td>0.000</td>\n",
       "    </tr>\n",
       "    <tr>\n",
       "      <th>2022-04-29 09:30:00 -&gt; 2022-06-29 15:00:00</th>\n",
       "      <td>20.0</td>\n",
       "      <td>8.0</td>\n",
       "      <td>28.0</td>\n",
       "      <td>17.0</td>\n",
       "      <td>11.0</td>\n",
       "      <td>9.0</td>\n",
       "      <td>8.0</td>\n",
       "      <td>11.0</td>\n",
       "      <td>0.0</td>\n",
       "      <td>0.013</td>\n",
       "      <td>0.001</td>\n",
       "    </tr>\n",
       "    <tr>\n",
       "      <th>2022-04-29 09:30:00 -&gt; 2022-06-29 15:00:00</th>\n",
       "      <td>20.0</td>\n",
       "      <td>8.0</td>\n",
       "      <td>28.0</td>\n",
       "      <td>15.0</td>\n",
       "      <td>13.0</td>\n",
       "      <td>7.0</td>\n",
       "      <td>8.0</td>\n",
       "      <td>13.0</td>\n",
       "      <td>0.0</td>\n",
       "      <td>0.013</td>\n",
       "      <td>0.002</td>\n",
       "    </tr>\n",
       "    <tr>\n",
       "      <th>2022-04-29 09:30:00 -&gt; 2022-06-29 15:00:00</th>\n",
       "      <td>20.0</td>\n",
       "      <td>8.0</td>\n",
       "      <td>28.0</td>\n",
       "      <td>15.0</td>\n",
       "      <td>13.0</td>\n",
       "      <td>7.0</td>\n",
       "      <td>8.0</td>\n",
       "      <td>13.0</td>\n",
       "      <td>0.0</td>\n",
       "      <td>0.013</td>\n",
       "      <td>0.003</td>\n",
       "    </tr>\n",
       "    <tr>\n",
       "      <th>2022-04-29 09:30:00 -&gt; 2022-06-29 15:00:00</th>\n",
       "      <td>16.0</td>\n",
       "      <td>7.0</td>\n",
       "      <td>23.0</td>\n",
       "      <td>15.0</td>\n",
       "      <td>8.0</td>\n",
       "      <td>8.0</td>\n",
       "      <td>7.0</td>\n",
       "      <td>8.0</td>\n",
       "      <td>0.0</td>\n",
       "      <td>0.014</td>\n",
       "      <td>0.000</td>\n",
       "    </tr>\n",
       "    <tr>\n",
       "      <th>2022-04-29 09:30:00 -&gt; 2022-06-29 15:00:00</th>\n",
       "      <td>16.0</td>\n",
       "      <td>7.0</td>\n",
       "      <td>23.0</td>\n",
       "      <td>15.0</td>\n",
       "      <td>8.0</td>\n",
       "      <td>8.0</td>\n",
       "      <td>7.0</td>\n",
       "      <td>8.0</td>\n",
       "      <td>0.0</td>\n",
       "      <td>0.014</td>\n",
       "      <td>0.001</td>\n",
       "    </tr>\n",
       "    <tr>\n",
       "      <th>2022-04-29 09:30:00 -&gt; 2022-06-29 15:00:00</th>\n",
       "      <td>16.0</td>\n",
       "      <td>7.0</td>\n",
       "      <td>23.0</td>\n",
       "      <td>13.0</td>\n",
       "      <td>10.0</td>\n",
       "      <td>6.0</td>\n",
       "      <td>7.0</td>\n",
       "      <td>10.0</td>\n",
       "      <td>0.0</td>\n",
       "      <td>0.014</td>\n",
       "      <td>0.002</td>\n",
       "    </tr>\n",
       "    <tr>\n",
       "      <th>2022-04-29 09:30:00 -&gt; 2022-06-29 15:00:00</th>\n",
       "      <td>16.0</td>\n",
       "      <td>7.0</td>\n",
       "      <td>23.0</td>\n",
       "      <td>13.0</td>\n",
       "      <td>10.0</td>\n",
       "      <td>6.0</td>\n",
       "      <td>7.0</td>\n",
       "      <td>10.0</td>\n",
       "      <td>0.0</td>\n",
       "      <td>0.014</td>\n",
       "      <td>0.003</td>\n",
       "    </tr>\n",
       "    <tr>\n",
       "      <th>2022-04-29 09:30:00 -&gt; 2022-06-29 15:00:00</th>\n",
       "      <td>13.0</td>\n",
       "      <td>7.0</td>\n",
       "      <td>20.0</td>\n",
       "      <td>13.0</td>\n",
       "      <td>7.0</td>\n",
       "      <td>6.0</td>\n",
       "      <td>7.0</td>\n",
       "      <td>7.0</td>\n",
       "      <td>0.0</td>\n",
       "      <td>0.015</td>\n",
       "      <td>0.000</td>\n",
       "    </tr>\n",
       "    <tr>\n",
       "      <th>2022-04-29 09:30:00 -&gt; 2022-06-29 15:00:00</th>\n",
       "      <td>13.0</td>\n",
       "      <td>7.0</td>\n",
       "      <td>20.0</td>\n",
       "      <td>13.0</td>\n",
       "      <td>7.0</td>\n",
       "      <td>6.0</td>\n",
       "      <td>7.0</td>\n",
       "      <td>7.0</td>\n",
       "      <td>0.0</td>\n",
       "      <td>0.015</td>\n",
       "      <td>0.001</td>\n",
       "    </tr>\n",
       "    <tr>\n",
       "      <th>2022-04-29 09:30:00 -&gt; 2022-06-29 15:00:00</th>\n",
       "      <td>13.0</td>\n",
       "      <td>7.0</td>\n",
       "      <td>20.0</td>\n",
       "      <td>11.0</td>\n",
       "      <td>9.0</td>\n",
       "      <td>4.0</td>\n",
       "      <td>7.0</td>\n",
       "      <td>9.0</td>\n",
       "      <td>0.0</td>\n",
       "      <td>0.015</td>\n",
       "      <td>0.002</td>\n",
       "    </tr>\n",
       "    <tr>\n",
       "      <th>2022-04-29 09:30:00 -&gt; 2022-06-29 15:00:00</th>\n",
       "      <td>13.0</td>\n",
       "      <td>7.0</td>\n",
       "      <td>20.0</td>\n",
       "      <td>11.0</td>\n",
       "      <td>9.0</td>\n",
       "      <td>4.0</td>\n",
       "      <td>7.0</td>\n",
       "      <td>9.0</td>\n",
       "      <td>0.0</td>\n",
       "      <td>0.015</td>\n",
       "      <td>0.003</td>\n",
       "    </tr>\n",
       "    <tr>\n",
       "      <th>2022-04-29 09:30:00 -&gt; 2022-06-29 15:00:00</th>\n",
       "      <td>13.0</td>\n",
       "      <td>6.0</td>\n",
       "      <td>19.0</td>\n",
       "      <td>13.0</td>\n",
       "      <td>6.0</td>\n",
       "      <td>7.0</td>\n",
       "      <td>6.0</td>\n",
       "      <td>6.0</td>\n",
       "      <td>0.0</td>\n",
       "      <td>0.016</td>\n",
       "      <td>0.000</td>\n",
       "    </tr>\n",
       "    <tr>\n",
       "      <th>2022-04-29 09:30:00 -&gt; 2022-06-29 15:00:00</th>\n",
       "      <td>13.0</td>\n",
       "      <td>6.0</td>\n",
       "      <td>19.0</td>\n",
       "      <td>13.0</td>\n",
       "      <td>6.0</td>\n",
       "      <td>7.0</td>\n",
       "      <td>6.0</td>\n",
       "      <td>6.0</td>\n",
       "      <td>0.0</td>\n",
       "      <td>0.016</td>\n",
       "      <td>0.001</td>\n",
       "    </tr>\n",
       "    <tr>\n",
       "      <th>2022-04-29 09:30:00 -&gt; 2022-06-29 15:00:00</th>\n",
       "      <td>13.0</td>\n",
       "      <td>6.0</td>\n",
       "      <td>19.0</td>\n",
       "      <td>11.0</td>\n",
       "      <td>8.0</td>\n",
       "      <td>5.0</td>\n",
       "      <td>6.0</td>\n",
       "      <td>8.0</td>\n",
       "      <td>0.0</td>\n",
       "      <td>0.016</td>\n",
       "      <td>0.002</td>\n",
       "    </tr>\n",
       "    <tr>\n",
       "      <th>2022-04-29 09:30:00 -&gt; 2022-06-29 15:00:00</th>\n",
       "      <td>13.0</td>\n",
       "      <td>6.0</td>\n",
       "      <td>19.0</td>\n",
       "      <td>11.0</td>\n",
       "      <td>8.0</td>\n",
       "      <td>5.0</td>\n",
       "      <td>6.0</td>\n",
       "      <td>8.0</td>\n",
       "      <td>0.0</td>\n",
       "      <td>0.016</td>\n",
       "      <td>0.003</td>\n",
       "    </tr>\n",
       "    <tr>\n",
       "      <th>2022-04-29 09:30:00 -&gt; 2022-06-29 15:00:00</th>\n",
       "      <td>12.0</td>\n",
       "      <td>5.0</td>\n",
       "      <td>17.0</td>\n",
       "      <td>12.0</td>\n",
       "      <td>5.0</td>\n",
       "      <td>7.0</td>\n",
       "      <td>5.0</td>\n",
       "      <td>5.0</td>\n",
       "      <td>0.0</td>\n",
       "      <td>0.017</td>\n",
       "      <td>0.000</td>\n",
       "    </tr>\n",
       "    <tr>\n",
       "      <th>2022-04-29 09:30:00 -&gt; 2022-06-29 15:00:00</th>\n",
       "      <td>12.0</td>\n",
       "      <td>5.0</td>\n",
       "      <td>17.0</td>\n",
       "      <td>12.0</td>\n",
       "      <td>5.0</td>\n",
       "      <td>7.0</td>\n",
       "      <td>5.0</td>\n",
       "      <td>5.0</td>\n",
       "      <td>0.0</td>\n",
       "      <td>0.017</td>\n",
       "      <td>0.001</td>\n",
       "    </tr>\n",
       "    <tr>\n",
       "      <th>2022-04-29 09:30:00 -&gt; 2022-06-29 15:00:00</th>\n",
       "      <td>12.0</td>\n",
       "      <td>5.0</td>\n",
       "      <td>17.0</td>\n",
       "      <td>10.0</td>\n",
       "      <td>7.0</td>\n",
       "      <td>5.0</td>\n",
       "      <td>5.0</td>\n",
       "      <td>7.0</td>\n",
       "      <td>0.0</td>\n",
       "      <td>0.017</td>\n",
       "      <td>0.002</td>\n",
       "    </tr>\n",
       "    <tr>\n",
       "      <th>2022-04-29 09:30:00 -&gt; 2022-06-29 15:00:00</th>\n",
       "      <td>12.0</td>\n",
       "      <td>5.0</td>\n",
       "      <td>17.0</td>\n",
       "      <td>10.0</td>\n",
       "      <td>7.0</td>\n",
       "      <td>5.0</td>\n",
       "      <td>5.0</td>\n",
       "      <td>7.0</td>\n",
       "      <td>0.0</td>\n",
       "      <td>0.017</td>\n",
       "      <td>0.003</td>\n",
       "    </tr>\n",
       "    <tr>\n",
       "      <th>2022-04-29 09:30:00 -&gt; 2022-06-29 15:00:00</th>\n",
       "      <td>9.0</td>\n",
       "      <td>5.0</td>\n",
       "      <td>14.0</td>\n",
       "      <td>11.0</td>\n",
       "      <td>3.0</td>\n",
       "      <td>6.0</td>\n",
       "      <td>5.0</td>\n",
       "      <td>3.0</td>\n",
       "      <td>0.0</td>\n",
       "      <td>0.018</td>\n",
       "      <td>0.000</td>\n",
       "    </tr>\n",
       "    <tr>\n",
       "      <th>2022-04-29 09:30:00 -&gt; 2022-06-29 15:00:00</th>\n",
       "      <td>9.0</td>\n",
       "      <td>5.0</td>\n",
       "      <td>14.0</td>\n",
       "      <td>11.0</td>\n",
       "      <td>3.0</td>\n",
       "      <td>6.0</td>\n",
       "      <td>5.0</td>\n",
       "      <td>3.0</td>\n",
       "      <td>0.0</td>\n",
       "      <td>0.018</td>\n",
       "      <td>0.001</td>\n",
       "    </tr>\n",
       "    <tr>\n",
       "      <th>2022-04-29 09:30:00 -&gt; 2022-06-29 15:00:00</th>\n",
       "      <td>9.0</td>\n",
       "      <td>5.0</td>\n",
       "      <td>14.0</td>\n",
       "      <td>10.0</td>\n",
       "      <td>4.0</td>\n",
       "      <td>5.0</td>\n",
       "      <td>5.0</td>\n",
       "      <td>4.0</td>\n",
       "      <td>0.0</td>\n",
       "      <td>0.018</td>\n",
       "      <td>0.002</td>\n",
       "    </tr>\n",
       "    <tr>\n",
       "      <th>2022-04-29 09:30:00 -&gt; 2022-06-29 15:00:00</th>\n",
       "      <td>9.0</td>\n",
       "      <td>5.0</td>\n",
       "      <td>14.0</td>\n",
       "      <td>10.0</td>\n",
       "      <td>4.0</td>\n",
       "      <td>5.0</td>\n",
       "      <td>5.0</td>\n",
       "      <td>4.0</td>\n",
       "      <td>0.0</td>\n",
       "      <td>0.018</td>\n",
       "      <td>0.003</td>\n",
       "    </tr>\n",
       "    <tr>\n",
       "      <th>2022-04-29 09:30:00 -&gt; 2022-06-29 15:00:00</th>\n",
       "      <td>9.0</td>\n",
       "      <td>5.0</td>\n",
       "      <td>14.0</td>\n",
       "      <td>11.0</td>\n",
       "      <td>3.0</td>\n",
       "      <td>6.0</td>\n",
       "      <td>5.0</td>\n",
       "      <td>3.0</td>\n",
       "      <td>0.0</td>\n",
       "      <td>0.019</td>\n",
       "      <td>0.000</td>\n",
       "    </tr>\n",
       "    <tr>\n",
       "      <th>2022-04-29 09:30:00 -&gt; 2022-06-29 15:00:00</th>\n",
       "      <td>9.0</td>\n",
       "      <td>5.0</td>\n",
       "      <td>14.0</td>\n",
       "      <td>11.0</td>\n",
       "      <td>3.0</td>\n",
       "      <td>6.0</td>\n",
       "      <td>5.0</td>\n",
       "      <td>3.0</td>\n",
       "      <td>0.0</td>\n",
       "      <td>0.019</td>\n",
       "      <td>0.001</td>\n",
       "    </tr>\n",
       "    <tr>\n",
       "      <th>2022-04-29 09:30:00 -&gt; 2022-06-29 15:00:00</th>\n",
       "      <td>9.0</td>\n",
       "      <td>5.0</td>\n",
       "      <td>14.0</td>\n",
       "      <td>10.0</td>\n",
       "      <td>4.0</td>\n",
       "      <td>5.0</td>\n",
       "      <td>5.0</td>\n",
       "      <td>4.0</td>\n",
       "      <td>0.0</td>\n",
       "      <td>0.019</td>\n",
       "      <td>0.002</td>\n",
       "    </tr>\n",
       "    <tr>\n",
       "      <th>2022-04-29 09:30:00 -&gt; 2022-06-29 15:00:00</th>\n",
       "      <td>9.0</td>\n",
       "      <td>5.0</td>\n",
       "      <td>14.0</td>\n",
       "      <td>10.0</td>\n",
       "      <td>4.0</td>\n",
       "      <td>5.0</td>\n",
       "      <td>5.0</td>\n",
       "      <td>4.0</td>\n",
       "      <td>0.0</td>\n",
       "      <td>0.019</td>\n",
       "      <td>0.003</td>\n",
       "    </tr>\n",
       "    <tr>\n",
       "      <th>2022-04-29 09:30:00 -&gt; 2022-06-29 15:00:00</th>\n",
       "      <td>9.0</td>\n",
       "      <td>4.0</td>\n",
       "      <td>13.0</td>\n",
       "      <td>10.0</td>\n",
       "      <td>3.0</td>\n",
       "      <td>6.0</td>\n",
       "      <td>4.0</td>\n",
       "      <td>3.0</td>\n",
       "      <td>0.0</td>\n",
       "      <td>0.020</td>\n",
       "      <td>0.000</td>\n",
       "    </tr>\n",
       "    <tr>\n",
       "      <th>2022-04-29 09:30:00 -&gt; 2022-06-29 15:00:00</th>\n",
       "      <td>9.0</td>\n",
       "      <td>4.0</td>\n",
       "      <td>13.0</td>\n",
       "      <td>10.0</td>\n",
       "      <td>3.0</td>\n",
       "      <td>6.0</td>\n",
       "      <td>4.0</td>\n",
       "      <td>3.0</td>\n",
       "      <td>0.0</td>\n",
       "      <td>0.020</td>\n",
       "      <td>0.001</td>\n",
       "    </tr>\n",
       "    <tr>\n",
       "      <th>2022-04-29 09:30:00 -&gt; 2022-06-29 15:00:00</th>\n",
       "      <td>9.0</td>\n",
       "      <td>4.0</td>\n",
       "      <td>13.0</td>\n",
       "      <td>9.0</td>\n",
       "      <td>4.0</td>\n",
       "      <td>5.0</td>\n",
       "      <td>4.0</td>\n",
       "      <td>4.0</td>\n",
       "      <td>0.0</td>\n",
       "      <td>0.020</td>\n",
       "      <td>0.002</td>\n",
       "    </tr>\n",
       "    <tr>\n",
       "      <th>2022-04-29 09:30:00 -&gt; 2022-06-29 15:00:00</th>\n",
       "      <td>9.0</td>\n",
       "      <td>4.0</td>\n",
       "      <td>13.0</td>\n",
       "      <td>9.0</td>\n",
       "      <td>4.0</td>\n",
       "      <td>5.0</td>\n",
       "      <td>4.0</td>\n",
       "      <td>4.0</td>\n",
       "      <td>0.0</td>\n",
       "      <td>0.020</td>\n",
       "      <td>0.003</td>\n",
       "    </tr>\n",
       "  </tbody>\n",
       "</table>\n",
       "</div>"
      ],
      "text/plain": [
       "                                             win  lose  total round  \\\n",
       "2022-04-29 09:30:00 -> 2022-06-29 09:44:00  35.0   5.0         40.0   \n",
       "2022-04-29 09:30:00 -> 2022-06-29 09:44:00  34.0   6.0         40.0   \n",
       "2022-04-29 09:30:00 -> 2022-06-29 09:35:00  36.0   4.0         40.0   \n",
       "2022-04-29 09:30:00 -> 2022-06-29 09:44:00  34.0   6.0         40.0   \n",
       "2022-04-29 09:30:00 -> 2022-06-29 09:35:00  37.0   3.0         40.0   \n",
       "2022-04-29 09:30:00 -> 2022-06-29 09:34:00  35.0   5.0         40.0   \n",
       "2022-04-29 09:30:00 -> 2022-06-29 09:44:00  33.0   7.0         40.0   \n",
       "2022-04-29 09:30:00 -> 2022-06-29 09:35:00  37.0   3.0         40.0   \n",
       "2022-04-29 09:30:00 -> 2022-06-29 09:34:00  37.0   3.0         40.0   \n",
       "2022-04-29 09:30:00 -> 2022-06-29 09:34:00  37.0   3.0         40.0   \n",
       "2022-04-29 09:30:00 -> 2022-06-29 09:44:00  32.0   8.0         40.0   \n",
       "2022-04-29 09:30:00 -> 2022-06-29 09:35:00  36.0   4.0         40.0   \n",
       "2022-04-29 09:30:00 -> 2022-06-29 09:34:00  36.0   4.0         40.0   \n",
       "2022-04-29 09:30:00 -> 2022-06-29 09:34:00  37.0   3.0         40.0   \n",
       "2022-04-29 09:30:00 -> 2022-06-29 09:44:00  29.0  11.0         40.0   \n",
       "2022-04-29 09:30:00 -> 2022-06-29 09:35:00  34.0   6.0         40.0   \n",
       "2022-04-29 09:30:00 -> 2022-06-29 09:34:00  34.0   6.0         40.0   \n",
       "2022-04-29 09:30:00 -> 2022-06-29 09:34:00  36.0   4.0         40.0   \n",
       "2022-04-29 09:30:00 -> 2022-06-29 09:44:00  29.0  10.0         39.0   \n",
       "2022-04-29 09:30:00 -> 2022-06-29 09:35:00  32.0   7.0         39.0   \n",
       "2022-04-29 09:30:00 -> 2022-06-29 09:34:00  33.0   6.0         39.0   \n",
       "2022-04-29 09:30:00 -> 2022-06-29 09:34:00  35.0   4.0         39.0   \n",
       "2022-04-29 09:30:00 -> 2022-06-29 09:44:00  27.0  11.0         38.0   \n",
       "2022-04-29 09:30:00 -> 2022-06-29 09:35:00  29.0   9.0         38.0   \n",
       "2022-04-29 09:30:00 -> 2022-06-29 09:34:00  30.0   8.0         38.0   \n",
       "2022-04-29 09:30:00 -> 2022-06-29 09:34:00  32.0   6.0         38.0   \n",
       "2022-04-29 09:30:00 -> 2022-06-29 09:44:00  24.0  14.0         38.0   \n",
       "2022-04-29 09:30:00 -> 2022-06-29 09:43:00  26.0  12.0         38.0   \n",
       "2022-04-29 09:30:00 -> 2022-06-29 09:43:00  26.0  12.0         38.0   \n",
       "2022-04-29 09:30:00 -> 2022-06-29 09:43:00  28.0  10.0         38.0   \n",
       "2022-04-29 09:30:00 -> 2022-06-29 09:44:00  26.0  10.0         36.0   \n",
       "2022-04-29 09:30:00 -> 2022-06-29 09:43:00  27.0   9.0         36.0   \n",
       "2022-04-29 09:30:00 -> 2022-06-29 09:43:00  27.0   9.0         36.0   \n",
       "2022-04-29 09:30:00 -> 2022-06-29 09:43:00  28.0   8.0         36.0   \n",
       "2022-04-29 09:30:00 -> 2022-06-29 15:00:00  24.0   9.0         33.0   \n",
       "2022-04-29 09:30:00 -> 2022-06-29 15:00:00  25.0   8.0         33.0   \n",
       "2022-04-29 09:30:00 -> 2022-06-29 15:00:00  25.0   8.0         33.0   \n",
       "2022-04-29 09:30:00 -> 2022-06-29 13:42:00  26.0   7.0         33.0   \n",
       "2022-04-29 09:30:00 -> 2022-06-29 15:00:00  25.0   8.0         33.0   \n",
       "2022-04-29 09:30:00 -> 2022-06-29 15:00:00  25.0   8.0         33.0   \n",
       "2022-04-29 09:30:00 -> 2022-06-29 15:00:00  25.0   8.0         33.0   \n",
       "2022-04-29 09:30:00 -> 2022-06-29 15:00:00  25.0   8.0         33.0   \n",
       "2022-04-29 09:30:00 -> 2022-06-29 15:00:00  20.0   8.0         28.0   \n",
       "2022-04-29 09:30:00 -> 2022-06-29 15:00:00  20.0   8.0         28.0   \n",
       "2022-04-29 09:30:00 -> 2022-06-29 15:00:00  20.0   8.0         28.0   \n",
       "2022-04-29 09:30:00 -> 2022-06-29 15:00:00  20.0   8.0         28.0   \n",
       "2022-04-29 09:30:00 -> 2022-06-29 15:00:00  16.0   7.0         23.0   \n",
       "2022-04-29 09:30:00 -> 2022-06-29 15:00:00  16.0   7.0         23.0   \n",
       "2022-04-29 09:30:00 -> 2022-06-29 15:00:00  16.0   7.0         23.0   \n",
       "2022-04-29 09:30:00 -> 2022-06-29 15:00:00  16.0   7.0         23.0   \n",
       "2022-04-29 09:30:00 -> 2022-06-29 15:00:00  13.0   7.0         20.0   \n",
       "2022-04-29 09:30:00 -> 2022-06-29 15:00:00  13.0   7.0         20.0   \n",
       "2022-04-29 09:30:00 -> 2022-06-29 15:00:00  13.0   7.0         20.0   \n",
       "2022-04-29 09:30:00 -> 2022-06-29 15:00:00  13.0   7.0         20.0   \n",
       "2022-04-29 09:30:00 -> 2022-06-29 15:00:00  13.0   6.0         19.0   \n",
       "2022-04-29 09:30:00 -> 2022-06-29 15:00:00  13.0   6.0         19.0   \n",
       "2022-04-29 09:30:00 -> 2022-06-29 15:00:00  13.0   6.0         19.0   \n",
       "2022-04-29 09:30:00 -> 2022-06-29 15:00:00  13.0   6.0         19.0   \n",
       "2022-04-29 09:30:00 -> 2022-06-29 15:00:00  12.0   5.0         17.0   \n",
       "2022-04-29 09:30:00 -> 2022-06-29 15:00:00  12.0   5.0         17.0   \n",
       "2022-04-29 09:30:00 -> 2022-06-29 15:00:00  12.0   5.0         17.0   \n",
       "2022-04-29 09:30:00 -> 2022-06-29 15:00:00  12.0   5.0         17.0   \n",
       "2022-04-29 09:30:00 -> 2022-06-29 15:00:00   9.0   5.0         14.0   \n",
       "2022-04-29 09:30:00 -> 2022-06-29 15:00:00   9.0   5.0         14.0   \n",
       "2022-04-29 09:30:00 -> 2022-06-29 15:00:00   9.0   5.0         14.0   \n",
       "2022-04-29 09:30:00 -> 2022-06-29 15:00:00   9.0   5.0         14.0   \n",
       "2022-04-29 09:30:00 -> 2022-06-29 15:00:00   9.0   5.0         14.0   \n",
       "2022-04-29 09:30:00 -> 2022-06-29 15:00:00   9.0   5.0         14.0   \n",
       "2022-04-29 09:30:00 -> 2022-06-29 15:00:00   9.0   5.0         14.0   \n",
       "2022-04-29 09:30:00 -> 2022-06-29 15:00:00   9.0   5.0         14.0   \n",
       "2022-04-29 09:30:00 -> 2022-06-29 15:00:00   9.0   4.0         13.0   \n",
       "2022-04-29 09:30:00 -> 2022-06-29 15:00:00   9.0   4.0         13.0   \n",
       "2022-04-29 09:30:00 -> 2022-06-29 15:00:00   9.0   4.0         13.0   \n",
       "2022-04-29 09:30:00 -> 2022-06-29 15:00:00   9.0   4.0         13.0   \n",
       "\n",
       "                                            close by time  close by signal  \\\n",
       "2022-04-29 09:30:00 -> 2022-06-29 09:44:00            9.0             31.0   \n",
       "2022-04-29 09:30:00 -> 2022-06-29 09:44:00           10.0             30.0   \n",
       "2022-04-29 09:30:00 -> 2022-06-29 09:35:00            6.0             34.0   \n",
       "2022-04-29 09:30:00 -> 2022-06-29 09:44:00           10.0             30.0   \n",
       "2022-04-29 09:30:00 -> 2022-06-29 09:35:00            6.0             34.0   \n",
       "2022-04-29 09:30:00 -> 2022-06-29 09:34:00            4.0             36.0   \n",
       "2022-04-29 09:30:00 -> 2022-06-29 09:44:00           11.0             29.0   \n",
       "2022-04-29 09:30:00 -> 2022-06-29 09:35:00            6.0             34.0   \n",
       "2022-04-29 09:30:00 -> 2022-06-29 09:34:00            4.0             36.0   \n",
       "2022-04-29 09:30:00 -> 2022-06-29 09:34:00            4.0             36.0   \n",
       "2022-04-29 09:30:00 -> 2022-06-29 09:44:00           12.0             28.0   \n",
       "2022-04-29 09:30:00 -> 2022-06-29 09:35:00            7.0             33.0   \n",
       "2022-04-29 09:30:00 -> 2022-06-29 09:34:00            5.0             35.0   \n",
       "2022-04-29 09:30:00 -> 2022-06-29 09:34:00            4.0             36.0   \n",
       "2022-04-29 09:30:00 -> 2022-06-29 09:44:00           15.0             25.0   \n",
       "2022-04-29 09:30:00 -> 2022-06-29 09:35:00            9.0             31.0   \n",
       "2022-04-29 09:30:00 -> 2022-06-29 09:34:00            7.0             33.0   \n",
       "2022-04-29 09:30:00 -> 2022-06-29 09:34:00            5.0             35.0   \n",
       "2022-04-29 09:30:00 -> 2022-06-29 09:44:00           15.0             24.0   \n",
       "2022-04-29 09:30:00 -> 2022-06-29 09:35:00           10.0             29.0   \n",
       "2022-04-29 09:30:00 -> 2022-06-29 09:34:00            7.0             32.0   \n",
       "2022-04-29 09:30:00 -> 2022-06-29 09:34:00            5.0             34.0   \n",
       "2022-04-29 09:30:00 -> 2022-06-29 09:44:00           16.0             22.0   \n",
       "2022-04-29 09:30:00 -> 2022-06-29 09:35:00           12.0             26.0   \n",
       "2022-04-29 09:30:00 -> 2022-06-29 09:34:00            9.0             29.0   \n",
       "2022-04-29 09:30:00 -> 2022-06-29 09:34:00            7.0             31.0   \n",
       "2022-04-29 09:30:00 -> 2022-06-29 09:44:00           20.0             18.0   \n",
       "2022-04-29 09:30:00 -> 2022-06-29 09:43:00           16.0             22.0   \n",
       "2022-04-29 09:30:00 -> 2022-06-29 09:43:00           14.0             24.0   \n",
       "2022-04-29 09:30:00 -> 2022-06-29 09:43:00           12.0             26.0   \n",
       "2022-04-29 09:30:00 -> 2022-06-29 09:44:00           19.0             17.0   \n",
       "2022-04-29 09:30:00 -> 2022-06-29 09:43:00           16.0             20.0   \n",
       "2022-04-29 09:30:00 -> 2022-06-29 09:43:00           14.0             22.0   \n",
       "2022-04-29 09:30:00 -> 2022-06-29 09:43:00           13.0             23.0   \n",
       "2022-04-29 09:30:00 -> 2022-06-29 15:00:00           19.0             14.0   \n",
       "2022-04-29 09:30:00 -> 2022-06-29 15:00:00           16.0             17.0   \n",
       "2022-04-29 09:30:00 -> 2022-06-29 15:00:00           14.0             19.0   \n",
       "2022-04-29 09:30:00 -> 2022-06-29 13:42:00           12.0             21.0   \n",
       "2022-04-29 09:30:00 -> 2022-06-29 15:00:00           19.0             14.0   \n",
       "2022-04-29 09:30:00 -> 2022-06-29 15:00:00           17.0             16.0   \n",
       "2022-04-29 09:30:00 -> 2022-06-29 15:00:00           15.0             18.0   \n",
       "2022-04-29 09:30:00 -> 2022-06-29 15:00:00           14.0             19.0   \n",
       "2022-04-29 09:30:00 -> 2022-06-29 15:00:00           17.0             11.0   \n",
       "2022-04-29 09:30:00 -> 2022-06-29 15:00:00           17.0             11.0   \n",
       "2022-04-29 09:30:00 -> 2022-06-29 15:00:00           15.0             13.0   \n",
       "2022-04-29 09:30:00 -> 2022-06-29 15:00:00           15.0             13.0   \n",
       "2022-04-29 09:30:00 -> 2022-06-29 15:00:00           15.0              8.0   \n",
       "2022-04-29 09:30:00 -> 2022-06-29 15:00:00           15.0              8.0   \n",
       "2022-04-29 09:30:00 -> 2022-06-29 15:00:00           13.0             10.0   \n",
       "2022-04-29 09:30:00 -> 2022-06-29 15:00:00           13.0             10.0   \n",
       "2022-04-29 09:30:00 -> 2022-06-29 15:00:00           13.0              7.0   \n",
       "2022-04-29 09:30:00 -> 2022-06-29 15:00:00           13.0              7.0   \n",
       "2022-04-29 09:30:00 -> 2022-06-29 15:00:00           11.0              9.0   \n",
       "2022-04-29 09:30:00 -> 2022-06-29 15:00:00           11.0              9.0   \n",
       "2022-04-29 09:30:00 -> 2022-06-29 15:00:00           13.0              6.0   \n",
       "2022-04-29 09:30:00 -> 2022-06-29 15:00:00           13.0              6.0   \n",
       "2022-04-29 09:30:00 -> 2022-06-29 15:00:00           11.0              8.0   \n",
       "2022-04-29 09:30:00 -> 2022-06-29 15:00:00           11.0              8.0   \n",
       "2022-04-29 09:30:00 -> 2022-06-29 15:00:00           12.0              5.0   \n",
       "2022-04-29 09:30:00 -> 2022-06-29 15:00:00           12.0              5.0   \n",
       "2022-04-29 09:30:00 -> 2022-06-29 15:00:00           10.0              7.0   \n",
       "2022-04-29 09:30:00 -> 2022-06-29 15:00:00           10.0              7.0   \n",
       "2022-04-29 09:30:00 -> 2022-06-29 15:00:00           11.0              3.0   \n",
       "2022-04-29 09:30:00 -> 2022-06-29 15:00:00           11.0              3.0   \n",
       "2022-04-29 09:30:00 -> 2022-06-29 15:00:00           10.0              4.0   \n",
       "2022-04-29 09:30:00 -> 2022-06-29 15:00:00           10.0              4.0   \n",
       "2022-04-29 09:30:00 -> 2022-06-29 15:00:00           11.0              3.0   \n",
       "2022-04-29 09:30:00 -> 2022-06-29 15:00:00           11.0              3.0   \n",
       "2022-04-29 09:30:00 -> 2022-06-29 15:00:00           10.0              4.0   \n",
       "2022-04-29 09:30:00 -> 2022-06-29 15:00:00           10.0              4.0   \n",
       "2022-04-29 09:30:00 -> 2022-06-29 15:00:00           10.0              3.0   \n",
       "2022-04-29 09:30:00 -> 2022-06-29 15:00:00           10.0              3.0   \n",
       "2022-04-29 09:30:00 -> 2022-06-29 15:00:00            9.0              4.0   \n",
       "2022-04-29 09:30:00 -> 2022-06-29 15:00:00            9.0              4.0   \n",
       "\n",
       "                                            close by time win  \\\n",
       "2022-04-29 09:30:00 -> 2022-06-29 09:44:00                4.0   \n",
       "2022-04-29 09:30:00 -> 2022-06-29 09:44:00                4.0   \n",
       "2022-04-29 09:30:00 -> 2022-06-29 09:35:00                3.0   \n",
       "2022-04-29 09:30:00 -> 2022-06-29 09:44:00                4.0   \n",
       "2022-04-29 09:30:00 -> 2022-06-29 09:35:00                3.0   \n",
       "2022-04-29 09:30:00 -> 2022-06-29 09:34:00                1.0   \n",
       "2022-04-29 09:30:00 -> 2022-06-29 09:44:00                4.0   \n",
       "2022-04-29 09:30:00 -> 2022-06-29 09:35:00                3.0   \n",
       "2022-04-29 09:30:00 -> 2022-06-29 09:34:00                1.0   \n",
       "2022-04-29 09:30:00 -> 2022-06-29 09:34:00                1.0   \n",
       "2022-04-29 09:30:00 -> 2022-06-29 09:44:00                4.0   \n",
       "2022-04-29 09:30:00 -> 2022-06-29 09:35:00                3.0   \n",
       "2022-04-29 09:30:00 -> 2022-06-29 09:34:00                1.0   \n",
       "2022-04-29 09:30:00 -> 2022-06-29 09:34:00                1.0   \n",
       "2022-04-29 09:30:00 -> 2022-06-29 09:44:00                4.0   \n",
       "2022-04-29 09:30:00 -> 2022-06-29 09:35:00                3.0   \n",
       "2022-04-29 09:30:00 -> 2022-06-29 09:34:00                1.0   \n",
       "2022-04-29 09:30:00 -> 2022-06-29 09:34:00                1.0   \n",
       "2022-04-29 09:30:00 -> 2022-06-29 09:44:00                5.0   \n",
       "2022-04-29 09:30:00 -> 2022-06-29 09:35:00                3.0   \n",
       "2022-04-29 09:30:00 -> 2022-06-29 09:34:00                1.0   \n",
       "2022-04-29 09:30:00 -> 2022-06-29 09:34:00                1.0   \n",
       "2022-04-29 09:30:00 -> 2022-06-29 09:44:00                5.0   \n",
       "2022-04-29 09:30:00 -> 2022-06-29 09:35:00                3.0   \n",
       "2022-04-29 09:30:00 -> 2022-06-29 09:34:00                1.0   \n",
       "2022-04-29 09:30:00 -> 2022-06-29 09:34:00                1.0   \n",
       "2022-04-29 09:30:00 -> 2022-06-29 09:44:00                6.0   \n",
       "2022-04-29 09:30:00 -> 2022-06-29 09:43:00                4.0   \n",
       "2022-04-29 09:30:00 -> 2022-06-29 09:43:00                2.0   \n",
       "2022-04-29 09:30:00 -> 2022-06-29 09:43:00                2.0   \n",
       "2022-04-29 09:30:00 -> 2022-06-29 09:44:00                9.0   \n",
       "2022-04-29 09:30:00 -> 2022-06-29 09:43:00                7.0   \n",
       "2022-04-29 09:30:00 -> 2022-06-29 09:43:00                5.0   \n",
       "2022-04-29 09:30:00 -> 2022-06-29 09:43:00                5.0   \n",
       "2022-04-29 09:30:00 -> 2022-06-29 15:00:00               10.0   \n",
       "2022-04-29 09:30:00 -> 2022-06-29 15:00:00                8.0   \n",
       "2022-04-29 09:30:00 -> 2022-06-29 15:00:00                6.0   \n",
       "2022-04-29 09:30:00 -> 2022-06-29 13:42:00                5.0   \n",
       "2022-04-29 09:30:00 -> 2022-06-29 15:00:00               11.0   \n",
       "2022-04-29 09:30:00 -> 2022-06-29 15:00:00                9.0   \n",
       "2022-04-29 09:30:00 -> 2022-06-29 15:00:00                7.0   \n",
       "2022-04-29 09:30:00 -> 2022-06-29 15:00:00                6.0   \n",
       "2022-04-29 09:30:00 -> 2022-06-29 15:00:00                9.0   \n",
       "2022-04-29 09:30:00 -> 2022-06-29 15:00:00                9.0   \n",
       "2022-04-29 09:30:00 -> 2022-06-29 15:00:00                7.0   \n",
       "2022-04-29 09:30:00 -> 2022-06-29 15:00:00                7.0   \n",
       "2022-04-29 09:30:00 -> 2022-06-29 15:00:00                8.0   \n",
       "2022-04-29 09:30:00 -> 2022-06-29 15:00:00                8.0   \n",
       "2022-04-29 09:30:00 -> 2022-06-29 15:00:00                6.0   \n",
       "2022-04-29 09:30:00 -> 2022-06-29 15:00:00                6.0   \n",
       "2022-04-29 09:30:00 -> 2022-06-29 15:00:00                6.0   \n",
       "2022-04-29 09:30:00 -> 2022-06-29 15:00:00                6.0   \n",
       "2022-04-29 09:30:00 -> 2022-06-29 15:00:00                4.0   \n",
       "2022-04-29 09:30:00 -> 2022-06-29 15:00:00                4.0   \n",
       "2022-04-29 09:30:00 -> 2022-06-29 15:00:00                7.0   \n",
       "2022-04-29 09:30:00 -> 2022-06-29 15:00:00                7.0   \n",
       "2022-04-29 09:30:00 -> 2022-06-29 15:00:00                5.0   \n",
       "2022-04-29 09:30:00 -> 2022-06-29 15:00:00                5.0   \n",
       "2022-04-29 09:30:00 -> 2022-06-29 15:00:00                7.0   \n",
       "2022-04-29 09:30:00 -> 2022-06-29 15:00:00                7.0   \n",
       "2022-04-29 09:30:00 -> 2022-06-29 15:00:00                5.0   \n",
       "2022-04-29 09:30:00 -> 2022-06-29 15:00:00                5.0   \n",
       "2022-04-29 09:30:00 -> 2022-06-29 15:00:00                6.0   \n",
       "2022-04-29 09:30:00 -> 2022-06-29 15:00:00                6.0   \n",
       "2022-04-29 09:30:00 -> 2022-06-29 15:00:00                5.0   \n",
       "2022-04-29 09:30:00 -> 2022-06-29 15:00:00                5.0   \n",
       "2022-04-29 09:30:00 -> 2022-06-29 15:00:00                6.0   \n",
       "2022-04-29 09:30:00 -> 2022-06-29 15:00:00                6.0   \n",
       "2022-04-29 09:30:00 -> 2022-06-29 15:00:00                5.0   \n",
       "2022-04-29 09:30:00 -> 2022-06-29 15:00:00                5.0   \n",
       "2022-04-29 09:30:00 -> 2022-06-29 15:00:00                6.0   \n",
       "2022-04-29 09:30:00 -> 2022-06-29 15:00:00                6.0   \n",
       "2022-04-29 09:30:00 -> 2022-06-29 15:00:00                5.0   \n",
       "2022-04-29 09:30:00 -> 2022-06-29 15:00:00                5.0   \n",
       "\n",
       "                                            close by time lose  \\\n",
       "2022-04-29 09:30:00 -> 2022-06-29 09:44:00                 5.0   \n",
       "2022-04-29 09:30:00 -> 2022-06-29 09:44:00                 6.0   \n",
       "2022-04-29 09:30:00 -> 2022-06-29 09:35:00                 3.0   \n",
       "2022-04-29 09:30:00 -> 2022-06-29 09:44:00                 6.0   \n",
       "2022-04-29 09:30:00 -> 2022-06-29 09:35:00                 3.0   \n",
       "2022-04-29 09:30:00 -> 2022-06-29 09:34:00                 3.0   \n",
       "2022-04-29 09:30:00 -> 2022-06-29 09:44:00                 7.0   \n",
       "2022-04-29 09:30:00 -> 2022-06-29 09:35:00                 3.0   \n",
       "2022-04-29 09:30:00 -> 2022-06-29 09:34:00                 3.0   \n",
       "2022-04-29 09:30:00 -> 2022-06-29 09:34:00                 3.0   \n",
       "2022-04-29 09:30:00 -> 2022-06-29 09:44:00                 8.0   \n",
       "2022-04-29 09:30:00 -> 2022-06-29 09:35:00                 4.0   \n",
       "2022-04-29 09:30:00 -> 2022-06-29 09:34:00                 4.0   \n",
       "2022-04-29 09:30:00 -> 2022-06-29 09:34:00                 3.0   \n",
       "2022-04-29 09:30:00 -> 2022-06-29 09:44:00                11.0   \n",
       "2022-04-29 09:30:00 -> 2022-06-29 09:35:00                 6.0   \n",
       "2022-04-29 09:30:00 -> 2022-06-29 09:34:00                 6.0   \n",
       "2022-04-29 09:30:00 -> 2022-06-29 09:34:00                 4.0   \n",
       "2022-04-29 09:30:00 -> 2022-06-29 09:44:00                10.0   \n",
       "2022-04-29 09:30:00 -> 2022-06-29 09:35:00                 7.0   \n",
       "2022-04-29 09:30:00 -> 2022-06-29 09:34:00                 6.0   \n",
       "2022-04-29 09:30:00 -> 2022-06-29 09:34:00                 4.0   \n",
       "2022-04-29 09:30:00 -> 2022-06-29 09:44:00                11.0   \n",
       "2022-04-29 09:30:00 -> 2022-06-29 09:35:00                 9.0   \n",
       "2022-04-29 09:30:00 -> 2022-06-29 09:34:00                 8.0   \n",
       "2022-04-29 09:30:00 -> 2022-06-29 09:34:00                 6.0   \n",
       "2022-04-29 09:30:00 -> 2022-06-29 09:44:00                14.0   \n",
       "2022-04-29 09:30:00 -> 2022-06-29 09:43:00                12.0   \n",
       "2022-04-29 09:30:00 -> 2022-06-29 09:43:00                12.0   \n",
       "2022-04-29 09:30:00 -> 2022-06-29 09:43:00                10.0   \n",
       "2022-04-29 09:30:00 -> 2022-06-29 09:44:00                10.0   \n",
       "2022-04-29 09:30:00 -> 2022-06-29 09:43:00                 9.0   \n",
       "2022-04-29 09:30:00 -> 2022-06-29 09:43:00                 9.0   \n",
       "2022-04-29 09:30:00 -> 2022-06-29 09:43:00                 8.0   \n",
       "2022-04-29 09:30:00 -> 2022-06-29 15:00:00                 9.0   \n",
       "2022-04-29 09:30:00 -> 2022-06-29 15:00:00                 8.0   \n",
       "2022-04-29 09:30:00 -> 2022-06-29 15:00:00                 8.0   \n",
       "2022-04-29 09:30:00 -> 2022-06-29 13:42:00                 7.0   \n",
       "2022-04-29 09:30:00 -> 2022-06-29 15:00:00                 8.0   \n",
       "2022-04-29 09:30:00 -> 2022-06-29 15:00:00                 8.0   \n",
       "2022-04-29 09:30:00 -> 2022-06-29 15:00:00                 8.0   \n",
       "2022-04-29 09:30:00 -> 2022-06-29 15:00:00                 8.0   \n",
       "2022-04-29 09:30:00 -> 2022-06-29 15:00:00                 8.0   \n",
       "2022-04-29 09:30:00 -> 2022-06-29 15:00:00                 8.0   \n",
       "2022-04-29 09:30:00 -> 2022-06-29 15:00:00                 8.0   \n",
       "2022-04-29 09:30:00 -> 2022-06-29 15:00:00                 8.0   \n",
       "2022-04-29 09:30:00 -> 2022-06-29 15:00:00                 7.0   \n",
       "2022-04-29 09:30:00 -> 2022-06-29 15:00:00                 7.0   \n",
       "2022-04-29 09:30:00 -> 2022-06-29 15:00:00                 7.0   \n",
       "2022-04-29 09:30:00 -> 2022-06-29 15:00:00                 7.0   \n",
       "2022-04-29 09:30:00 -> 2022-06-29 15:00:00                 7.0   \n",
       "2022-04-29 09:30:00 -> 2022-06-29 15:00:00                 7.0   \n",
       "2022-04-29 09:30:00 -> 2022-06-29 15:00:00                 7.0   \n",
       "2022-04-29 09:30:00 -> 2022-06-29 15:00:00                 7.0   \n",
       "2022-04-29 09:30:00 -> 2022-06-29 15:00:00                 6.0   \n",
       "2022-04-29 09:30:00 -> 2022-06-29 15:00:00                 6.0   \n",
       "2022-04-29 09:30:00 -> 2022-06-29 15:00:00                 6.0   \n",
       "2022-04-29 09:30:00 -> 2022-06-29 15:00:00                 6.0   \n",
       "2022-04-29 09:30:00 -> 2022-06-29 15:00:00                 5.0   \n",
       "2022-04-29 09:30:00 -> 2022-06-29 15:00:00                 5.0   \n",
       "2022-04-29 09:30:00 -> 2022-06-29 15:00:00                 5.0   \n",
       "2022-04-29 09:30:00 -> 2022-06-29 15:00:00                 5.0   \n",
       "2022-04-29 09:30:00 -> 2022-06-29 15:00:00                 5.0   \n",
       "2022-04-29 09:30:00 -> 2022-06-29 15:00:00                 5.0   \n",
       "2022-04-29 09:30:00 -> 2022-06-29 15:00:00                 5.0   \n",
       "2022-04-29 09:30:00 -> 2022-06-29 15:00:00                 5.0   \n",
       "2022-04-29 09:30:00 -> 2022-06-29 15:00:00                 5.0   \n",
       "2022-04-29 09:30:00 -> 2022-06-29 15:00:00                 5.0   \n",
       "2022-04-29 09:30:00 -> 2022-06-29 15:00:00                 5.0   \n",
       "2022-04-29 09:30:00 -> 2022-06-29 15:00:00                 5.0   \n",
       "2022-04-29 09:30:00 -> 2022-06-29 15:00:00                 4.0   \n",
       "2022-04-29 09:30:00 -> 2022-06-29 15:00:00                 4.0   \n",
       "2022-04-29 09:30:00 -> 2022-06-29 15:00:00                 4.0   \n",
       "2022-04-29 09:30:00 -> 2022-06-29 15:00:00                 4.0   \n",
       "\n",
       "                                            close by signal win  \\\n",
       "2022-04-29 09:30:00 -> 2022-06-29 09:44:00                 31.0   \n",
       "2022-04-29 09:30:00 -> 2022-06-29 09:44:00                 30.0   \n",
       "2022-04-29 09:30:00 -> 2022-06-29 09:35:00                 33.0   \n",
       "2022-04-29 09:30:00 -> 2022-06-29 09:44:00                 30.0   \n",
       "2022-04-29 09:30:00 -> 2022-06-29 09:35:00                 34.0   \n",
       "2022-04-29 09:30:00 -> 2022-06-29 09:34:00                 34.0   \n",
       "2022-04-29 09:30:00 -> 2022-06-29 09:44:00                 29.0   \n",
       "2022-04-29 09:30:00 -> 2022-06-29 09:35:00                 34.0   \n",
       "2022-04-29 09:30:00 -> 2022-06-29 09:34:00                 36.0   \n",
       "2022-04-29 09:30:00 -> 2022-06-29 09:34:00                 36.0   \n",
       "2022-04-29 09:30:00 -> 2022-06-29 09:44:00                 28.0   \n",
       "2022-04-29 09:30:00 -> 2022-06-29 09:35:00                 33.0   \n",
       "2022-04-29 09:30:00 -> 2022-06-29 09:34:00                 35.0   \n",
       "2022-04-29 09:30:00 -> 2022-06-29 09:34:00                 36.0   \n",
       "2022-04-29 09:30:00 -> 2022-06-29 09:44:00                 25.0   \n",
       "2022-04-29 09:30:00 -> 2022-06-29 09:35:00                 31.0   \n",
       "2022-04-29 09:30:00 -> 2022-06-29 09:34:00                 33.0   \n",
       "2022-04-29 09:30:00 -> 2022-06-29 09:34:00                 35.0   \n",
       "2022-04-29 09:30:00 -> 2022-06-29 09:44:00                 24.0   \n",
       "2022-04-29 09:30:00 -> 2022-06-29 09:35:00                 29.0   \n",
       "2022-04-29 09:30:00 -> 2022-06-29 09:34:00                 32.0   \n",
       "2022-04-29 09:30:00 -> 2022-06-29 09:34:00                 34.0   \n",
       "2022-04-29 09:30:00 -> 2022-06-29 09:44:00                 22.0   \n",
       "2022-04-29 09:30:00 -> 2022-06-29 09:35:00                 26.0   \n",
       "2022-04-29 09:30:00 -> 2022-06-29 09:34:00                 29.0   \n",
       "2022-04-29 09:30:00 -> 2022-06-29 09:34:00                 31.0   \n",
       "2022-04-29 09:30:00 -> 2022-06-29 09:44:00                 18.0   \n",
       "2022-04-29 09:30:00 -> 2022-06-29 09:43:00                 22.0   \n",
       "2022-04-29 09:30:00 -> 2022-06-29 09:43:00                 24.0   \n",
       "2022-04-29 09:30:00 -> 2022-06-29 09:43:00                 26.0   \n",
       "2022-04-29 09:30:00 -> 2022-06-29 09:44:00                 17.0   \n",
       "2022-04-29 09:30:00 -> 2022-06-29 09:43:00                 20.0   \n",
       "2022-04-29 09:30:00 -> 2022-06-29 09:43:00                 22.0   \n",
       "2022-04-29 09:30:00 -> 2022-06-29 09:43:00                 23.0   \n",
       "2022-04-29 09:30:00 -> 2022-06-29 15:00:00                 14.0   \n",
       "2022-04-29 09:30:00 -> 2022-06-29 15:00:00                 17.0   \n",
       "2022-04-29 09:30:00 -> 2022-06-29 15:00:00                 19.0   \n",
       "2022-04-29 09:30:00 -> 2022-06-29 13:42:00                 21.0   \n",
       "2022-04-29 09:30:00 -> 2022-06-29 15:00:00                 14.0   \n",
       "2022-04-29 09:30:00 -> 2022-06-29 15:00:00                 16.0   \n",
       "2022-04-29 09:30:00 -> 2022-06-29 15:00:00                 18.0   \n",
       "2022-04-29 09:30:00 -> 2022-06-29 15:00:00                 19.0   \n",
       "2022-04-29 09:30:00 -> 2022-06-29 15:00:00                 11.0   \n",
       "2022-04-29 09:30:00 -> 2022-06-29 15:00:00                 11.0   \n",
       "2022-04-29 09:30:00 -> 2022-06-29 15:00:00                 13.0   \n",
       "2022-04-29 09:30:00 -> 2022-06-29 15:00:00                 13.0   \n",
       "2022-04-29 09:30:00 -> 2022-06-29 15:00:00                  8.0   \n",
       "2022-04-29 09:30:00 -> 2022-06-29 15:00:00                  8.0   \n",
       "2022-04-29 09:30:00 -> 2022-06-29 15:00:00                 10.0   \n",
       "2022-04-29 09:30:00 -> 2022-06-29 15:00:00                 10.0   \n",
       "2022-04-29 09:30:00 -> 2022-06-29 15:00:00                  7.0   \n",
       "2022-04-29 09:30:00 -> 2022-06-29 15:00:00                  7.0   \n",
       "2022-04-29 09:30:00 -> 2022-06-29 15:00:00                  9.0   \n",
       "2022-04-29 09:30:00 -> 2022-06-29 15:00:00                  9.0   \n",
       "2022-04-29 09:30:00 -> 2022-06-29 15:00:00                  6.0   \n",
       "2022-04-29 09:30:00 -> 2022-06-29 15:00:00                  6.0   \n",
       "2022-04-29 09:30:00 -> 2022-06-29 15:00:00                  8.0   \n",
       "2022-04-29 09:30:00 -> 2022-06-29 15:00:00                  8.0   \n",
       "2022-04-29 09:30:00 -> 2022-06-29 15:00:00                  5.0   \n",
       "2022-04-29 09:30:00 -> 2022-06-29 15:00:00                  5.0   \n",
       "2022-04-29 09:30:00 -> 2022-06-29 15:00:00                  7.0   \n",
       "2022-04-29 09:30:00 -> 2022-06-29 15:00:00                  7.0   \n",
       "2022-04-29 09:30:00 -> 2022-06-29 15:00:00                  3.0   \n",
       "2022-04-29 09:30:00 -> 2022-06-29 15:00:00                  3.0   \n",
       "2022-04-29 09:30:00 -> 2022-06-29 15:00:00                  4.0   \n",
       "2022-04-29 09:30:00 -> 2022-06-29 15:00:00                  4.0   \n",
       "2022-04-29 09:30:00 -> 2022-06-29 15:00:00                  3.0   \n",
       "2022-04-29 09:30:00 -> 2022-06-29 15:00:00                  3.0   \n",
       "2022-04-29 09:30:00 -> 2022-06-29 15:00:00                  4.0   \n",
       "2022-04-29 09:30:00 -> 2022-06-29 15:00:00                  4.0   \n",
       "2022-04-29 09:30:00 -> 2022-06-29 15:00:00                  3.0   \n",
       "2022-04-29 09:30:00 -> 2022-06-29 15:00:00                  3.0   \n",
       "2022-04-29 09:30:00 -> 2022-06-29 15:00:00                  4.0   \n",
       "2022-04-29 09:30:00 -> 2022-06-29 15:00:00                  4.0   \n",
       "\n",
       "                                            close by signal lose  \\\n",
       "2022-04-29 09:30:00 -> 2022-06-29 09:44:00                   0.0   \n",
       "2022-04-29 09:30:00 -> 2022-06-29 09:44:00                   0.0   \n",
       "2022-04-29 09:30:00 -> 2022-06-29 09:35:00                   1.0   \n",
       "2022-04-29 09:30:00 -> 2022-06-29 09:44:00                   0.0   \n",
       "2022-04-29 09:30:00 -> 2022-06-29 09:35:00                   0.0   \n",
       "2022-04-29 09:30:00 -> 2022-06-29 09:34:00                   2.0   \n",
       "2022-04-29 09:30:00 -> 2022-06-29 09:44:00                   0.0   \n",
       "2022-04-29 09:30:00 -> 2022-06-29 09:35:00                   0.0   \n",
       "2022-04-29 09:30:00 -> 2022-06-29 09:34:00                   0.0   \n",
       "2022-04-29 09:30:00 -> 2022-06-29 09:34:00                   0.0   \n",
       "2022-04-29 09:30:00 -> 2022-06-29 09:44:00                   0.0   \n",
       "2022-04-29 09:30:00 -> 2022-06-29 09:35:00                   0.0   \n",
       "2022-04-29 09:30:00 -> 2022-06-29 09:34:00                   0.0   \n",
       "2022-04-29 09:30:00 -> 2022-06-29 09:34:00                   0.0   \n",
       "2022-04-29 09:30:00 -> 2022-06-29 09:44:00                   0.0   \n",
       "2022-04-29 09:30:00 -> 2022-06-29 09:35:00                   0.0   \n",
       "2022-04-29 09:30:00 -> 2022-06-29 09:34:00                   0.0   \n",
       "2022-04-29 09:30:00 -> 2022-06-29 09:34:00                   0.0   \n",
       "2022-04-29 09:30:00 -> 2022-06-29 09:44:00                   0.0   \n",
       "2022-04-29 09:30:00 -> 2022-06-29 09:35:00                   0.0   \n",
       "2022-04-29 09:30:00 -> 2022-06-29 09:34:00                   0.0   \n",
       "2022-04-29 09:30:00 -> 2022-06-29 09:34:00                   0.0   \n",
       "2022-04-29 09:30:00 -> 2022-06-29 09:44:00                   0.0   \n",
       "2022-04-29 09:30:00 -> 2022-06-29 09:35:00                   0.0   \n",
       "2022-04-29 09:30:00 -> 2022-06-29 09:34:00                   0.0   \n",
       "2022-04-29 09:30:00 -> 2022-06-29 09:34:00                   0.0   \n",
       "2022-04-29 09:30:00 -> 2022-06-29 09:44:00                   0.0   \n",
       "2022-04-29 09:30:00 -> 2022-06-29 09:43:00                   0.0   \n",
       "2022-04-29 09:30:00 -> 2022-06-29 09:43:00                   0.0   \n",
       "2022-04-29 09:30:00 -> 2022-06-29 09:43:00                   0.0   \n",
       "2022-04-29 09:30:00 -> 2022-06-29 09:44:00                   0.0   \n",
       "2022-04-29 09:30:00 -> 2022-06-29 09:43:00                   0.0   \n",
       "2022-04-29 09:30:00 -> 2022-06-29 09:43:00                   0.0   \n",
       "2022-04-29 09:30:00 -> 2022-06-29 09:43:00                   0.0   \n",
       "2022-04-29 09:30:00 -> 2022-06-29 15:00:00                   0.0   \n",
       "2022-04-29 09:30:00 -> 2022-06-29 15:00:00                   0.0   \n",
       "2022-04-29 09:30:00 -> 2022-06-29 15:00:00                   0.0   \n",
       "2022-04-29 09:30:00 -> 2022-06-29 13:42:00                   0.0   \n",
       "2022-04-29 09:30:00 -> 2022-06-29 15:00:00                   0.0   \n",
       "2022-04-29 09:30:00 -> 2022-06-29 15:00:00                   0.0   \n",
       "2022-04-29 09:30:00 -> 2022-06-29 15:00:00                   0.0   \n",
       "2022-04-29 09:30:00 -> 2022-06-29 15:00:00                   0.0   \n",
       "2022-04-29 09:30:00 -> 2022-06-29 15:00:00                   0.0   \n",
       "2022-04-29 09:30:00 -> 2022-06-29 15:00:00                   0.0   \n",
       "2022-04-29 09:30:00 -> 2022-06-29 15:00:00                   0.0   \n",
       "2022-04-29 09:30:00 -> 2022-06-29 15:00:00                   0.0   \n",
       "2022-04-29 09:30:00 -> 2022-06-29 15:00:00                   0.0   \n",
       "2022-04-29 09:30:00 -> 2022-06-29 15:00:00                   0.0   \n",
       "2022-04-29 09:30:00 -> 2022-06-29 15:00:00                   0.0   \n",
       "2022-04-29 09:30:00 -> 2022-06-29 15:00:00                   0.0   \n",
       "2022-04-29 09:30:00 -> 2022-06-29 15:00:00                   0.0   \n",
       "2022-04-29 09:30:00 -> 2022-06-29 15:00:00                   0.0   \n",
       "2022-04-29 09:30:00 -> 2022-06-29 15:00:00                   0.0   \n",
       "2022-04-29 09:30:00 -> 2022-06-29 15:00:00                   0.0   \n",
       "2022-04-29 09:30:00 -> 2022-06-29 15:00:00                   0.0   \n",
       "2022-04-29 09:30:00 -> 2022-06-29 15:00:00                   0.0   \n",
       "2022-04-29 09:30:00 -> 2022-06-29 15:00:00                   0.0   \n",
       "2022-04-29 09:30:00 -> 2022-06-29 15:00:00                   0.0   \n",
       "2022-04-29 09:30:00 -> 2022-06-29 15:00:00                   0.0   \n",
       "2022-04-29 09:30:00 -> 2022-06-29 15:00:00                   0.0   \n",
       "2022-04-29 09:30:00 -> 2022-06-29 15:00:00                   0.0   \n",
       "2022-04-29 09:30:00 -> 2022-06-29 15:00:00                   0.0   \n",
       "2022-04-29 09:30:00 -> 2022-06-29 15:00:00                   0.0   \n",
       "2022-04-29 09:30:00 -> 2022-06-29 15:00:00                   0.0   \n",
       "2022-04-29 09:30:00 -> 2022-06-29 15:00:00                   0.0   \n",
       "2022-04-29 09:30:00 -> 2022-06-29 15:00:00                   0.0   \n",
       "2022-04-29 09:30:00 -> 2022-06-29 15:00:00                   0.0   \n",
       "2022-04-29 09:30:00 -> 2022-06-29 15:00:00                   0.0   \n",
       "2022-04-29 09:30:00 -> 2022-06-29 15:00:00                   0.0   \n",
       "2022-04-29 09:30:00 -> 2022-06-29 15:00:00                   0.0   \n",
       "2022-04-29 09:30:00 -> 2022-06-29 15:00:00                   0.0   \n",
       "2022-04-29 09:30:00 -> 2022-06-29 15:00:00                   0.0   \n",
       "2022-04-29 09:30:00 -> 2022-06-29 15:00:00                   0.0   \n",
       "2022-04-29 09:30:00 -> 2022-06-29 15:00:00                   0.0   \n",
       "\n",
       "                                            open threshold  close threshold  \n",
       "2022-04-29 09:30:00 -> 2022-06-29 09:44:00           0.001            0.000  \n",
       "2022-04-29 09:30:00 -> 2022-06-29 09:44:00           0.002            0.000  \n",
       "2022-04-29 09:30:00 -> 2022-06-29 09:35:00           0.002            0.001  \n",
       "2022-04-29 09:30:00 -> 2022-06-29 09:44:00           0.003            0.000  \n",
       "2022-04-29 09:30:00 -> 2022-06-29 09:35:00           0.003            0.001  \n",
       "2022-04-29 09:30:00 -> 2022-06-29 09:34:00           0.003            0.002  \n",
       "2022-04-29 09:30:00 -> 2022-06-29 09:44:00           0.004            0.000  \n",
       "2022-04-29 09:30:00 -> 2022-06-29 09:35:00           0.004            0.001  \n",
       "2022-04-29 09:30:00 -> 2022-06-29 09:34:00           0.004            0.002  \n",
       "2022-04-29 09:30:00 -> 2022-06-29 09:34:00           0.004            0.003  \n",
       "2022-04-29 09:30:00 -> 2022-06-29 09:44:00           0.005            0.000  \n",
       "2022-04-29 09:30:00 -> 2022-06-29 09:35:00           0.005            0.001  \n",
       "2022-04-29 09:30:00 -> 2022-06-29 09:34:00           0.005            0.002  \n",
       "2022-04-29 09:30:00 -> 2022-06-29 09:34:00           0.005            0.003  \n",
       "2022-04-29 09:30:00 -> 2022-06-29 09:44:00           0.006            0.000  \n",
       "2022-04-29 09:30:00 -> 2022-06-29 09:35:00           0.006            0.001  \n",
       "2022-04-29 09:30:00 -> 2022-06-29 09:34:00           0.006            0.002  \n",
       "2022-04-29 09:30:00 -> 2022-06-29 09:34:00           0.006            0.003  \n",
       "2022-04-29 09:30:00 -> 2022-06-29 09:44:00           0.007            0.000  \n",
       "2022-04-29 09:30:00 -> 2022-06-29 09:35:00           0.007            0.001  \n",
       "2022-04-29 09:30:00 -> 2022-06-29 09:34:00           0.007            0.002  \n",
       "2022-04-29 09:30:00 -> 2022-06-29 09:34:00           0.007            0.003  \n",
       "2022-04-29 09:30:00 -> 2022-06-29 09:44:00           0.008            0.000  \n",
       "2022-04-29 09:30:00 -> 2022-06-29 09:35:00           0.008            0.001  \n",
       "2022-04-29 09:30:00 -> 2022-06-29 09:34:00           0.008            0.002  \n",
       "2022-04-29 09:30:00 -> 2022-06-29 09:34:00           0.008            0.003  \n",
       "2022-04-29 09:30:00 -> 2022-06-29 09:44:00           0.009            0.000  \n",
       "2022-04-29 09:30:00 -> 2022-06-29 09:43:00           0.009            0.001  \n",
       "2022-04-29 09:30:00 -> 2022-06-29 09:43:00           0.009            0.002  \n",
       "2022-04-29 09:30:00 -> 2022-06-29 09:43:00           0.009            0.003  \n",
       "2022-04-29 09:30:00 -> 2022-06-29 09:44:00           0.010            0.000  \n",
       "2022-04-29 09:30:00 -> 2022-06-29 09:43:00           0.010            0.001  \n",
       "2022-04-29 09:30:00 -> 2022-06-29 09:43:00           0.010            0.002  \n",
       "2022-04-29 09:30:00 -> 2022-06-29 09:43:00           0.010            0.003  \n",
       "2022-04-29 09:30:00 -> 2022-06-29 15:00:00           0.011            0.000  \n",
       "2022-04-29 09:30:00 -> 2022-06-29 15:00:00           0.011            0.001  \n",
       "2022-04-29 09:30:00 -> 2022-06-29 15:00:00           0.011            0.002  \n",
       "2022-04-29 09:30:00 -> 2022-06-29 13:42:00           0.011            0.003  \n",
       "2022-04-29 09:30:00 -> 2022-06-29 15:00:00           0.012            0.000  \n",
       "2022-04-29 09:30:00 -> 2022-06-29 15:00:00           0.012            0.001  \n",
       "2022-04-29 09:30:00 -> 2022-06-29 15:00:00           0.012            0.002  \n",
       "2022-04-29 09:30:00 -> 2022-06-29 15:00:00           0.012            0.003  \n",
       "2022-04-29 09:30:00 -> 2022-06-29 15:00:00           0.013            0.000  \n",
       "2022-04-29 09:30:00 -> 2022-06-29 15:00:00           0.013            0.001  \n",
       "2022-04-29 09:30:00 -> 2022-06-29 15:00:00           0.013            0.002  \n",
       "2022-04-29 09:30:00 -> 2022-06-29 15:00:00           0.013            0.003  \n",
       "2022-04-29 09:30:00 -> 2022-06-29 15:00:00           0.014            0.000  \n",
       "2022-04-29 09:30:00 -> 2022-06-29 15:00:00           0.014            0.001  \n",
       "2022-04-29 09:30:00 -> 2022-06-29 15:00:00           0.014            0.002  \n",
       "2022-04-29 09:30:00 -> 2022-06-29 15:00:00           0.014            0.003  \n",
       "2022-04-29 09:30:00 -> 2022-06-29 15:00:00           0.015            0.000  \n",
       "2022-04-29 09:30:00 -> 2022-06-29 15:00:00           0.015            0.001  \n",
       "2022-04-29 09:30:00 -> 2022-06-29 15:00:00           0.015            0.002  \n",
       "2022-04-29 09:30:00 -> 2022-06-29 15:00:00           0.015            0.003  \n",
       "2022-04-29 09:30:00 -> 2022-06-29 15:00:00           0.016            0.000  \n",
       "2022-04-29 09:30:00 -> 2022-06-29 15:00:00           0.016            0.001  \n",
       "2022-04-29 09:30:00 -> 2022-06-29 15:00:00           0.016            0.002  \n",
       "2022-04-29 09:30:00 -> 2022-06-29 15:00:00           0.016            0.003  \n",
       "2022-04-29 09:30:00 -> 2022-06-29 15:00:00           0.017            0.000  \n",
       "2022-04-29 09:30:00 -> 2022-06-29 15:00:00           0.017            0.001  \n",
       "2022-04-29 09:30:00 -> 2022-06-29 15:00:00           0.017            0.002  \n",
       "2022-04-29 09:30:00 -> 2022-06-29 15:00:00           0.017            0.003  \n",
       "2022-04-29 09:30:00 -> 2022-06-29 15:00:00           0.018            0.000  \n",
       "2022-04-29 09:30:00 -> 2022-06-29 15:00:00           0.018            0.001  \n",
       "2022-04-29 09:30:00 -> 2022-06-29 15:00:00           0.018            0.002  \n",
       "2022-04-29 09:30:00 -> 2022-06-29 15:00:00           0.018            0.003  \n",
       "2022-04-29 09:30:00 -> 2022-06-29 15:00:00           0.019            0.000  \n",
       "2022-04-29 09:30:00 -> 2022-06-29 15:00:00           0.019            0.001  \n",
       "2022-04-29 09:30:00 -> 2022-06-29 15:00:00           0.019            0.002  \n",
       "2022-04-29 09:30:00 -> 2022-06-29 15:00:00           0.019            0.003  \n",
       "2022-04-29 09:30:00 -> 2022-06-29 15:00:00           0.020            0.000  \n",
       "2022-04-29 09:30:00 -> 2022-06-29 15:00:00           0.020            0.001  \n",
       "2022-04-29 09:30:00 -> 2022-06-29 15:00:00           0.020            0.002  \n",
       "2022-04-29 09:30:00 -> 2022-06-29 15:00:00           0.020            0.003  "
      ]
     },
     "execution_count": 12,
     "metadata": {},
     "output_type": "execute_result"
    }
   ],
   "source": [
    "df_grid_search_res[['win','lose','total round',\n",
    "                    'close by time','close by signal',\n",
    "                    'close by time win','close by time lose',\n",
    "                    'close by signal win','close by signal lose',\n",
    "                    'open threshold', 'close threshold'\n",
    "                    ]]"
   ]
  },
  {
   "cell_type": "code",
   "execution_count": 13,
   "metadata": {},
   "outputs": [
    {
     "data": {
      "text/html": [
       "<div>\n",
       "<style scoped>\n",
       "    .dataframe tbody tr th:only-of-type {\n",
       "        vertical-align: middle;\n",
       "    }\n",
       "\n",
       "    .dataframe tbody tr th {\n",
       "        vertical-align: top;\n",
       "    }\n",
       "\n",
       "    .dataframe thead th {\n",
       "        text-align: right;\n",
       "    }\n",
       "</style>\n",
       "<table border=\"1\" class=\"dataframe\">\n",
       "  <thead>\n",
       "    <tr style=\"text-align: right;\">\n",
       "      <th></th>\n",
       "      <th>win</th>\n",
       "      <th>lose</th>\n",
       "      <th>total round</th>\n",
       "      <th>close by time</th>\n",
       "      <th>close by signal</th>\n",
       "      <th>close by time win</th>\n",
       "      <th>close by time lose</th>\n",
       "      <th>close by signal win</th>\n",
       "      <th>close by signal lose</th>\n",
       "      <th>open threshold</th>\n",
       "      <th>close threshold</th>\n",
       "      <th>win rate</th>\n",
       "      <th>close by time win/close by time</th>\n",
       "      <th>close by signal win/close by signal</th>\n",
       "      <th>close by time lose/lose</th>\n",
       "    </tr>\n",
       "  </thead>\n",
       "  <tbody>\n",
       "    <tr>\n",
       "      <th>2022-04-29 09:30:00 -&gt; 2022-06-29 09:44:00</th>\n",
       "      <td>35.0</td>\n",
       "      <td>5.0</td>\n",
       "      <td>40.0</td>\n",
       "      <td>9.0</td>\n",
       "      <td>31.0</td>\n",
       "      <td>4.0</td>\n",
       "      <td>5.0</td>\n",
       "      <td>31.0</td>\n",
       "      <td>0.0</td>\n",
       "      <td>0.001</td>\n",
       "      <td>0.000</td>\n",
       "      <td>0.875000</td>\n",
       "      <td>0.444444</td>\n",
       "      <td>1.000000</td>\n",
       "      <td>1.00</td>\n",
       "    </tr>\n",
       "    <tr>\n",
       "      <th>2022-04-29 09:30:00 -&gt; 2022-06-29 09:44:00</th>\n",
       "      <td>34.0</td>\n",
       "      <td>6.0</td>\n",
       "      <td>40.0</td>\n",
       "      <td>10.0</td>\n",
       "      <td>30.0</td>\n",
       "      <td>4.0</td>\n",
       "      <td>6.0</td>\n",
       "      <td>30.0</td>\n",
       "      <td>0.0</td>\n",
       "      <td>0.002</td>\n",
       "      <td>0.000</td>\n",
       "      <td>0.850000</td>\n",
       "      <td>0.400000</td>\n",
       "      <td>1.000000</td>\n",
       "      <td>1.00</td>\n",
       "    </tr>\n",
       "    <tr>\n",
       "      <th>2022-04-29 09:30:00 -&gt; 2022-06-29 09:35:00</th>\n",
       "      <td>36.0</td>\n",
       "      <td>4.0</td>\n",
       "      <td>40.0</td>\n",
       "      <td>6.0</td>\n",
       "      <td>34.0</td>\n",
       "      <td>3.0</td>\n",
       "      <td>3.0</td>\n",
       "      <td>33.0</td>\n",
       "      <td>1.0</td>\n",
       "      <td>0.002</td>\n",
       "      <td>0.001</td>\n",
       "      <td>0.900000</td>\n",
       "      <td>0.500000</td>\n",
       "      <td>0.970588</td>\n",
       "      <td>0.75</td>\n",
       "    </tr>\n",
       "    <tr>\n",
       "      <th>2022-04-29 09:30:00 -&gt; 2022-06-29 09:44:00</th>\n",
       "      <td>34.0</td>\n",
       "      <td>6.0</td>\n",
       "      <td>40.0</td>\n",
       "      <td>10.0</td>\n",
       "      <td>30.0</td>\n",
       "      <td>4.0</td>\n",
       "      <td>6.0</td>\n",
       "      <td>30.0</td>\n",
       "      <td>0.0</td>\n",
       "      <td>0.003</td>\n",
       "      <td>0.000</td>\n",
       "      <td>0.850000</td>\n",
       "      <td>0.400000</td>\n",
       "      <td>1.000000</td>\n",
       "      <td>1.00</td>\n",
       "    </tr>\n",
       "    <tr>\n",
       "      <th>2022-04-29 09:30:00 -&gt; 2022-06-29 09:35:00</th>\n",
       "      <td>37.0</td>\n",
       "      <td>3.0</td>\n",
       "      <td>40.0</td>\n",
       "      <td>6.0</td>\n",
       "      <td>34.0</td>\n",
       "      <td>3.0</td>\n",
       "      <td>3.0</td>\n",
       "      <td>34.0</td>\n",
       "      <td>0.0</td>\n",
       "      <td>0.003</td>\n",
       "      <td>0.001</td>\n",
       "      <td>0.925000</td>\n",
       "      <td>0.500000</td>\n",
       "      <td>1.000000</td>\n",
       "      <td>1.00</td>\n",
       "    </tr>\n",
       "    <tr>\n",
       "      <th>2022-04-29 09:30:00 -&gt; 2022-06-29 09:34:00</th>\n",
       "      <td>35.0</td>\n",
       "      <td>5.0</td>\n",
       "      <td>40.0</td>\n",
       "      <td>4.0</td>\n",
       "      <td>36.0</td>\n",
       "      <td>1.0</td>\n",
       "      <td>3.0</td>\n",
       "      <td>34.0</td>\n",
       "      <td>2.0</td>\n",
       "      <td>0.003</td>\n",
       "      <td>0.002</td>\n",
       "      <td>0.875000</td>\n",
       "      <td>0.250000</td>\n",
       "      <td>0.944444</td>\n",
       "      <td>0.60</td>\n",
       "    </tr>\n",
       "    <tr>\n",
       "      <th>2022-04-29 09:30:00 -&gt; 2022-06-29 09:44:00</th>\n",
       "      <td>33.0</td>\n",
       "      <td>7.0</td>\n",
       "      <td>40.0</td>\n",
       "      <td>11.0</td>\n",
       "      <td>29.0</td>\n",
       "      <td>4.0</td>\n",
       "      <td>7.0</td>\n",
       "      <td>29.0</td>\n",
       "      <td>0.0</td>\n",
       "      <td>0.004</td>\n",
       "      <td>0.000</td>\n",
       "      <td>0.825000</td>\n",
       "      <td>0.363636</td>\n",
       "      <td>1.000000</td>\n",
       "      <td>1.00</td>\n",
       "    </tr>\n",
       "    <tr>\n",
       "      <th>2022-04-29 09:30:00 -&gt; 2022-06-29 09:35:00</th>\n",
       "      <td>37.0</td>\n",
       "      <td>3.0</td>\n",
       "      <td>40.0</td>\n",
       "      <td>6.0</td>\n",
       "      <td>34.0</td>\n",
       "      <td>3.0</td>\n",
       "      <td>3.0</td>\n",
       "      <td>34.0</td>\n",
       "      <td>0.0</td>\n",
       "      <td>0.004</td>\n",
       "      <td>0.001</td>\n",
       "      <td>0.925000</td>\n",
       "      <td>0.500000</td>\n",
       "      <td>1.000000</td>\n",
       "      <td>1.00</td>\n",
       "    </tr>\n",
       "    <tr>\n",
       "      <th>2022-04-29 09:30:00 -&gt; 2022-06-29 09:34:00</th>\n",
       "      <td>37.0</td>\n",
       "      <td>3.0</td>\n",
       "      <td>40.0</td>\n",
       "      <td>4.0</td>\n",
       "      <td>36.0</td>\n",
       "      <td>1.0</td>\n",
       "      <td>3.0</td>\n",
       "      <td>36.0</td>\n",
       "      <td>0.0</td>\n",
       "      <td>0.004</td>\n",
       "      <td>0.002</td>\n",
       "      <td>0.925000</td>\n",
       "      <td>0.250000</td>\n",
       "      <td>1.000000</td>\n",
       "      <td>1.00</td>\n",
       "    </tr>\n",
       "    <tr>\n",
       "      <th>2022-04-29 09:30:00 -&gt; 2022-06-29 09:34:00</th>\n",
       "      <td>37.0</td>\n",
       "      <td>3.0</td>\n",
       "      <td>40.0</td>\n",
       "      <td>4.0</td>\n",
       "      <td>36.0</td>\n",
       "      <td>1.0</td>\n",
       "      <td>3.0</td>\n",
       "      <td>36.0</td>\n",
       "      <td>0.0</td>\n",
       "      <td>0.004</td>\n",
       "      <td>0.003</td>\n",
       "      <td>0.925000</td>\n",
       "      <td>0.250000</td>\n",
       "      <td>1.000000</td>\n",
       "      <td>1.00</td>\n",
       "    </tr>\n",
       "    <tr>\n",
       "      <th>2022-04-29 09:30:00 -&gt; 2022-06-29 09:44:00</th>\n",
       "      <td>32.0</td>\n",
       "      <td>8.0</td>\n",
       "      <td>40.0</td>\n",
       "      <td>12.0</td>\n",
       "      <td>28.0</td>\n",
       "      <td>4.0</td>\n",
       "      <td>8.0</td>\n",
       "      <td>28.0</td>\n",
       "      <td>0.0</td>\n",
       "      <td>0.005</td>\n",
       "      <td>0.000</td>\n",
       "      <td>0.800000</td>\n",
       "      <td>0.333333</td>\n",
       "      <td>1.000000</td>\n",
       "      <td>1.00</td>\n",
       "    </tr>\n",
       "    <tr>\n",
       "      <th>2022-04-29 09:30:00 -&gt; 2022-06-29 09:35:00</th>\n",
       "      <td>36.0</td>\n",
       "      <td>4.0</td>\n",
       "      <td>40.0</td>\n",
       "      <td>7.0</td>\n",
       "      <td>33.0</td>\n",
       "      <td>3.0</td>\n",
       "      <td>4.0</td>\n",
       "      <td>33.0</td>\n",
       "      <td>0.0</td>\n",
       "      <td>0.005</td>\n",
       "      <td>0.001</td>\n",
       "      <td>0.900000</td>\n",
       "      <td>0.428571</td>\n",
       "      <td>1.000000</td>\n",
       "      <td>1.00</td>\n",
       "    </tr>\n",
       "    <tr>\n",
       "      <th>2022-04-29 09:30:00 -&gt; 2022-06-29 09:34:00</th>\n",
       "      <td>36.0</td>\n",
       "      <td>4.0</td>\n",
       "      <td>40.0</td>\n",
       "      <td>5.0</td>\n",
       "      <td>35.0</td>\n",
       "      <td>1.0</td>\n",
       "      <td>4.0</td>\n",
       "      <td>35.0</td>\n",
       "      <td>0.0</td>\n",
       "      <td>0.005</td>\n",
       "      <td>0.002</td>\n",
       "      <td>0.900000</td>\n",
       "      <td>0.200000</td>\n",
       "      <td>1.000000</td>\n",
       "      <td>1.00</td>\n",
       "    </tr>\n",
       "    <tr>\n",
       "      <th>2022-04-29 09:30:00 -&gt; 2022-06-29 09:34:00</th>\n",
       "      <td>37.0</td>\n",
       "      <td>3.0</td>\n",
       "      <td>40.0</td>\n",
       "      <td>4.0</td>\n",
       "      <td>36.0</td>\n",
       "      <td>1.0</td>\n",
       "      <td>3.0</td>\n",
       "      <td>36.0</td>\n",
       "      <td>0.0</td>\n",
       "      <td>0.005</td>\n",
       "      <td>0.003</td>\n",
       "      <td>0.925000</td>\n",
       "      <td>0.250000</td>\n",
       "      <td>1.000000</td>\n",
       "      <td>1.00</td>\n",
       "    </tr>\n",
       "    <tr>\n",
       "      <th>2022-04-29 09:30:00 -&gt; 2022-06-29 09:44:00</th>\n",
       "      <td>29.0</td>\n",
       "      <td>11.0</td>\n",
       "      <td>40.0</td>\n",
       "      <td>15.0</td>\n",
       "      <td>25.0</td>\n",
       "      <td>4.0</td>\n",
       "      <td>11.0</td>\n",
       "      <td>25.0</td>\n",
       "      <td>0.0</td>\n",
       "      <td>0.006</td>\n",
       "      <td>0.000</td>\n",
       "      <td>0.725000</td>\n",
       "      <td>0.266667</td>\n",
       "      <td>1.000000</td>\n",
       "      <td>1.00</td>\n",
       "    </tr>\n",
       "    <tr>\n",
       "      <th>2022-04-29 09:30:00 -&gt; 2022-06-29 09:35:00</th>\n",
       "      <td>34.0</td>\n",
       "      <td>6.0</td>\n",
       "      <td>40.0</td>\n",
       "      <td>9.0</td>\n",
       "      <td>31.0</td>\n",
       "      <td>3.0</td>\n",
       "      <td>6.0</td>\n",
       "      <td>31.0</td>\n",
       "      <td>0.0</td>\n",
       "      <td>0.006</td>\n",
       "      <td>0.001</td>\n",
       "      <td>0.850000</td>\n",
       "      <td>0.333333</td>\n",
       "      <td>1.000000</td>\n",
       "      <td>1.00</td>\n",
       "    </tr>\n",
       "    <tr>\n",
       "      <th>2022-04-29 09:30:00 -&gt; 2022-06-29 09:34:00</th>\n",
       "      <td>34.0</td>\n",
       "      <td>6.0</td>\n",
       "      <td>40.0</td>\n",
       "      <td>7.0</td>\n",
       "      <td>33.0</td>\n",
       "      <td>1.0</td>\n",
       "      <td>6.0</td>\n",
       "      <td>33.0</td>\n",
       "      <td>0.0</td>\n",
       "      <td>0.006</td>\n",
       "      <td>0.002</td>\n",
       "      <td>0.850000</td>\n",
       "      <td>0.142857</td>\n",
       "      <td>1.000000</td>\n",
       "      <td>1.00</td>\n",
       "    </tr>\n",
       "    <tr>\n",
       "      <th>2022-04-29 09:30:00 -&gt; 2022-06-29 09:34:00</th>\n",
       "      <td>36.0</td>\n",
       "      <td>4.0</td>\n",
       "      <td>40.0</td>\n",
       "      <td>5.0</td>\n",
       "      <td>35.0</td>\n",
       "      <td>1.0</td>\n",
       "      <td>4.0</td>\n",
       "      <td>35.0</td>\n",
       "      <td>0.0</td>\n",
       "      <td>0.006</td>\n",
       "      <td>0.003</td>\n",
       "      <td>0.900000</td>\n",
       "      <td>0.200000</td>\n",
       "      <td>1.000000</td>\n",
       "      <td>1.00</td>\n",
       "    </tr>\n",
       "    <tr>\n",
       "      <th>2022-04-29 09:30:00 -&gt; 2022-06-29 09:44:00</th>\n",
       "      <td>29.0</td>\n",
       "      <td>10.0</td>\n",
       "      <td>39.0</td>\n",
       "      <td>15.0</td>\n",
       "      <td>24.0</td>\n",
       "      <td>5.0</td>\n",
       "      <td>10.0</td>\n",
       "      <td>24.0</td>\n",
       "      <td>0.0</td>\n",
       "      <td>0.007</td>\n",
       "      <td>0.000</td>\n",
       "      <td>0.743590</td>\n",
       "      <td>0.333333</td>\n",
       "      <td>1.000000</td>\n",
       "      <td>1.00</td>\n",
       "    </tr>\n",
       "    <tr>\n",
       "      <th>2022-04-29 09:30:00 -&gt; 2022-06-29 09:35:00</th>\n",
       "      <td>32.0</td>\n",
       "      <td>7.0</td>\n",
       "      <td>39.0</td>\n",
       "      <td>10.0</td>\n",
       "      <td>29.0</td>\n",
       "      <td>3.0</td>\n",
       "      <td>7.0</td>\n",
       "      <td>29.0</td>\n",
       "      <td>0.0</td>\n",
       "      <td>0.007</td>\n",
       "      <td>0.001</td>\n",
       "      <td>0.820513</td>\n",
       "      <td>0.300000</td>\n",
       "      <td>1.000000</td>\n",
       "      <td>1.00</td>\n",
       "    </tr>\n",
       "    <tr>\n",
       "      <th>2022-04-29 09:30:00 -&gt; 2022-06-29 09:34:00</th>\n",
       "      <td>33.0</td>\n",
       "      <td>6.0</td>\n",
       "      <td>39.0</td>\n",
       "      <td>7.0</td>\n",
       "      <td>32.0</td>\n",
       "      <td>1.0</td>\n",
       "      <td>6.0</td>\n",
       "      <td>32.0</td>\n",
       "      <td>0.0</td>\n",
       "      <td>0.007</td>\n",
       "      <td>0.002</td>\n",
       "      <td>0.846154</td>\n",
       "      <td>0.142857</td>\n",
       "      <td>1.000000</td>\n",
       "      <td>1.00</td>\n",
       "    </tr>\n",
       "    <tr>\n",
       "      <th>2022-04-29 09:30:00 -&gt; 2022-06-29 09:34:00</th>\n",
       "      <td>35.0</td>\n",
       "      <td>4.0</td>\n",
       "      <td>39.0</td>\n",
       "      <td>5.0</td>\n",
       "      <td>34.0</td>\n",
       "      <td>1.0</td>\n",
       "      <td>4.0</td>\n",
       "      <td>34.0</td>\n",
       "      <td>0.0</td>\n",
       "      <td>0.007</td>\n",
       "      <td>0.003</td>\n",
       "      <td>0.897436</td>\n",
       "      <td>0.200000</td>\n",
       "      <td>1.000000</td>\n",
       "      <td>1.00</td>\n",
       "    </tr>\n",
       "    <tr>\n",
       "      <th>2022-04-29 09:30:00 -&gt; 2022-06-29 09:44:00</th>\n",
       "      <td>27.0</td>\n",
       "      <td>11.0</td>\n",
       "      <td>38.0</td>\n",
       "      <td>16.0</td>\n",
       "      <td>22.0</td>\n",
       "      <td>5.0</td>\n",
       "      <td>11.0</td>\n",
       "      <td>22.0</td>\n",
       "      <td>0.0</td>\n",
       "      <td>0.008</td>\n",
       "      <td>0.000</td>\n",
       "      <td>0.710526</td>\n",
       "      <td>0.312500</td>\n",
       "      <td>1.000000</td>\n",
       "      <td>1.00</td>\n",
       "    </tr>\n",
       "    <tr>\n",
       "      <th>2022-04-29 09:30:00 -&gt; 2022-06-29 09:35:00</th>\n",
       "      <td>29.0</td>\n",
       "      <td>9.0</td>\n",
       "      <td>38.0</td>\n",
       "      <td>12.0</td>\n",
       "      <td>26.0</td>\n",
       "      <td>3.0</td>\n",
       "      <td>9.0</td>\n",
       "      <td>26.0</td>\n",
       "      <td>0.0</td>\n",
       "      <td>0.008</td>\n",
       "      <td>0.001</td>\n",
       "      <td>0.763158</td>\n",
       "      <td>0.250000</td>\n",
       "      <td>1.000000</td>\n",
       "      <td>1.00</td>\n",
       "    </tr>\n",
       "    <tr>\n",
       "      <th>2022-04-29 09:30:00 -&gt; 2022-06-29 09:34:00</th>\n",
       "      <td>30.0</td>\n",
       "      <td>8.0</td>\n",
       "      <td>38.0</td>\n",
       "      <td>9.0</td>\n",
       "      <td>29.0</td>\n",
       "      <td>1.0</td>\n",
       "      <td>8.0</td>\n",
       "      <td>29.0</td>\n",
       "      <td>0.0</td>\n",
       "      <td>0.008</td>\n",
       "      <td>0.002</td>\n",
       "      <td>0.789474</td>\n",
       "      <td>0.111111</td>\n",
       "      <td>1.000000</td>\n",
       "      <td>1.00</td>\n",
       "    </tr>\n",
       "    <tr>\n",
       "      <th>2022-04-29 09:30:00 -&gt; 2022-06-29 09:34:00</th>\n",
       "      <td>32.0</td>\n",
       "      <td>6.0</td>\n",
       "      <td>38.0</td>\n",
       "      <td>7.0</td>\n",
       "      <td>31.0</td>\n",
       "      <td>1.0</td>\n",
       "      <td>6.0</td>\n",
       "      <td>31.0</td>\n",
       "      <td>0.0</td>\n",
       "      <td>0.008</td>\n",
       "      <td>0.003</td>\n",
       "      <td>0.842105</td>\n",
       "      <td>0.142857</td>\n",
       "      <td>1.000000</td>\n",
       "      <td>1.00</td>\n",
       "    </tr>\n",
       "    <tr>\n",
       "      <th>2022-04-29 09:30:00 -&gt; 2022-06-29 09:44:00</th>\n",
       "      <td>24.0</td>\n",
       "      <td>14.0</td>\n",
       "      <td>38.0</td>\n",
       "      <td>20.0</td>\n",
       "      <td>18.0</td>\n",
       "      <td>6.0</td>\n",
       "      <td>14.0</td>\n",
       "      <td>18.0</td>\n",
       "      <td>0.0</td>\n",
       "      <td>0.009</td>\n",
       "      <td>0.000</td>\n",
       "      <td>0.631579</td>\n",
       "      <td>0.300000</td>\n",
       "      <td>1.000000</td>\n",
       "      <td>1.00</td>\n",
       "    </tr>\n",
       "    <tr>\n",
       "      <th>2022-04-29 09:30:00 -&gt; 2022-06-29 09:43:00</th>\n",
       "      <td>26.0</td>\n",
       "      <td>12.0</td>\n",
       "      <td>38.0</td>\n",
       "      <td>16.0</td>\n",
       "      <td>22.0</td>\n",
       "      <td>4.0</td>\n",
       "      <td>12.0</td>\n",
       "      <td>22.0</td>\n",
       "      <td>0.0</td>\n",
       "      <td>0.009</td>\n",
       "      <td>0.001</td>\n",
       "      <td>0.684211</td>\n",
       "      <td>0.250000</td>\n",
       "      <td>1.000000</td>\n",
       "      <td>1.00</td>\n",
       "    </tr>\n",
       "    <tr>\n",
       "      <th>2022-04-29 09:30:00 -&gt; 2022-06-29 09:43:00</th>\n",
       "      <td>26.0</td>\n",
       "      <td>12.0</td>\n",
       "      <td>38.0</td>\n",
       "      <td>14.0</td>\n",
       "      <td>24.0</td>\n",
       "      <td>2.0</td>\n",
       "      <td>12.0</td>\n",
       "      <td>24.0</td>\n",
       "      <td>0.0</td>\n",
       "      <td>0.009</td>\n",
       "      <td>0.002</td>\n",
       "      <td>0.684211</td>\n",
       "      <td>0.142857</td>\n",
       "      <td>1.000000</td>\n",
       "      <td>1.00</td>\n",
       "    </tr>\n",
       "    <tr>\n",
       "      <th>2022-04-29 09:30:00 -&gt; 2022-06-29 09:43:00</th>\n",
       "      <td>28.0</td>\n",
       "      <td>10.0</td>\n",
       "      <td>38.0</td>\n",
       "      <td>12.0</td>\n",
       "      <td>26.0</td>\n",
       "      <td>2.0</td>\n",
       "      <td>10.0</td>\n",
       "      <td>26.0</td>\n",
       "      <td>0.0</td>\n",
       "      <td>0.009</td>\n",
       "      <td>0.003</td>\n",
       "      <td>0.736842</td>\n",
       "      <td>0.166667</td>\n",
       "      <td>1.000000</td>\n",
       "      <td>1.00</td>\n",
       "    </tr>\n",
       "    <tr>\n",
       "      <th>2022-04-29 09:30:00 -&gt; 2022-06-29 09:44:00</th>\n",
       "      <td>26.0</td>\n",
       "      <td>10.0</td>\n",
       "      <td>36.0</td>\n",
       "      <td>19.0</td>\n",
       "      <td>17.0</td>\n",
       "      <td>9.0</td>\n",
       "      <td>10.0</td>\n",
       "      <td>17.0</td>\n",
       "      <td>0.0</td>\n",
       "      <td>0.010</td>\n",
       "      <td>0.000</td>\n",
       "      <td>0.722222</td>\n",
       "      <td>0.473684</td>\n",
       "      <td>1.000000</td>\n",
       "      <td>1.00</td>\n",
       "    </tr>\n",
       "    <tr>\n",
       "      <th>2022-04-29 09:30:00 -&gt; 2022-06-29 09:43:00</th>\n",
       "      <td>27.0</td>\n",
       "      <td>9.0</td>\n",
       "      <td>36.0</td>\n",
       "      <td>16.0</td>\n",
       "      <td>20.0</td>\n",
       "      <td>7.0</td>\n",
       "      <td>9.0</td>\n",
       "      <td>20.0</td>\n",
       "      <td>0.0</td>\n",
       "      <td>0.010</td>\n",
       "      <td>0.001</td>\n",
       "      <td>0.750000</td>\n",
       "      <td>0.437500</td>\n",
       "      <td>1.000000</td>\n",
       "      <td>1.00</td>\n",
       "    </tr>\n",
       "    <tr>\n",
       "      <th>2022-04-29 09:30:00 -&gt; 2022-06-29 09:43:00</th>\n",
       "      <td>27.0</td>\n",
       "      <td>9.0</td>\n",
       "      <td>36.0</td>\n",
       "      <td>14.0</td>\n",
       "      <td>22.0</td>\n",
       "      <td>5.0</td>\n",
       "      <td>9.0</td>\n",
       "      <td>22.0</td>\n",
       "      <td>0.0</td>\n",
       "      <td>0.010</td>\n",
       "      <td>0.002</td>\n",
       "      <td>0.750000</td>\n",
       "      <td>0.357143</td>\n",
       "      <td>1.000000</td>\n",
       "      <td>1.00</td>\n",
       "    </tr>\n",
       "    <tr>\n",
       "      <th>2022-04-29 09:30:00 -&gt; 2022-06-29 09:43:00</th>\n",
       "      <td>28.0</td>\n",
       "      <td>8.0</td>\n",
       "      <td>36.0</td>\n",
       "      <td>13.0</td>\n",
       "      <td>23.0</td>\n",
       "      <td>5.0</td>\n",
       "      <td>8.0</td>\n",
       "      <td>23.0</td>\n",
       "      <td>0.0</td>\n",
       "      <td>0.010</td>\n",
       "      <td>0.003</td>\n",
       "      <td>0.777778</td>\n",
       "      <td>0.384615</td>\n",
       "      <td>1.000000</td>\n",
       "      <td>1.00</td>\n",
       "    </tr>\n",
       "    <tr>\n",
       "      <th>2022-04-29 09:30:00 -&gt; 2022-06-29 15:00:00</th>\n",
       "      <td>24.0</td>\n",
       "      <td>9.0</td>\n",
       "      <td>33.0</td>\n",
       "      <td>19.0</td>\n",
       "      <td>14.0</td>\n",
       "      <td>10.0</td>\n",
       "      <td>9.0</td>\n",
       "      <td>14.0</td>\n",
       "      <td>0.0</td>\n",
       "      <td>0.011</td>\n",
       "      <td>0.000</td>\n",
       "      <td>0.727273</td>\n",
       "      <td>0.526316</td>\n",
       "      <td>1.000000</td>\n",
       "      <td>1.00</td>\n",
       "    </tr>\n",
       "    <tr>\n",
       "      <th>2022-04-29 09:30:00 -&gt; 2022-06-29 15:00:00</th>\n",
       "      <td>25.0</td>\n",
       "      <td>8.0</td>\n",
       "      <td>33.0</td>\n",
       "      <td>16.0</td>\n",
       "      <td>17.0</td>\n",
       "      <td>8.0</td>\n",
       "      <td>8.0</td>\n",
       "      <td>17.0</td>\n",
       "      <td>0.0</td>\n",
       "      <td>0.011</td>\n",
       "      <td>0.001</td>\n",
       "      <td>0.757576</td>\n",
       "      <td>0.500000</td>\n",
       "      <td>1.000000</td>\n",
       "      <td>1.00</td>\n",
       "    </tr>\n",
       "    <tr>\n",
       "      <th>2022-04-29 09:30:00 -&gt; 2022-06-29 15:00:00</th>\n",
       "      <td>25.0</td>\n",
       "      <td>8.0</td>\n",
       "      <td>33.0</td>\n",
       "      <td>14.0</td>\n",
       "      <td>19.0</td>\n",
       "      <td>6.0</td>\n",
       "      <td>8.0</td>\n",
       "      <td>19.0</td>\n",
       "      <td>0.0</td>\n",
       "      <td>0.011</td>\n",
       "      <td>0.002</td>\n",
       "      <td>0.757576</td>\n",
       "      <td>0.428571</td>\n",
       "      <td>1.000000</td>\n",
       "      <td>1.00</td>\n",
       "    </tr>\n",
       "    <tr>\n",
       "      <th>2022-04-29 09:30:00 -&gt; 2022-06-29 13:42:00</th>\n",
       "      <td>26.0</td>\n",
       "      <td>7.0</td>\n",
       "      <td>33.0</td>\n",
       "      <td>12.0</td>\n",
       "      <td>21.0</td>\n",
       "      <td>5.0</td>\n",
       "      <td>7.0</td>\n",
       "      <td>21.0</td>\n",
       "      <td>0.0</td>\n",
       "      <td>0.011</td>\n",
       "      <td>0.003</td>\n",
       "      <td>0.787879</td>\n",
       "      <td>0.416667</td>\n",
       "      <td>1.000000</td>\n",
       "      <td>1.00</td>\n",
       "    </tr>\n",
       "    <tr>\n",
       "      <th>2022-04-29 09:30:00 -&gt; 2022-06-29 15:00:00</th>\n",
       "      <td>25.0</td>\n",
       "      <td>8.0</td>\n",
       "      <td>33.0</td>\n",
       "      <td>19.0</td>\n",
       "      <td>14.0</td>\n",
       "      <td>11.0</td>\n",
       "      <td>8.0</td>\n",
       "      <td>14.0</td>\n",
       "      <td>0.0</td>\n",
       "      <td>0.012</td>\n",
       "      <td>0.000</td>\n",
       "      <td>0.757576</td>\n",
       "      <td>0.578947</td>\n",
       "      <td>1.000000</td>\n",
       "      <td>1.00</td>\n",
       "    </tr>\n",
       "    <tr>\n",
       "      <th>2022-04-29 09:30:00 -&gt; 2022-06-29 15:00:00</th>\n",
       "      <td>25.0</td>\n",
       "      <td>8.0</td>\n",
       "      <td>33.0</td>\n",
       "      <td>17.0</td>\n",
       "      <td>16.0</td>\n",
       "      <td>9.0</td>\n",
       "      <td>8.0</td>\n",
       "      <td>16.0</td>\n",
       "      <td>0.0</td>\n",
       "      <td>0.012</td>\n",
       "      <td>0.001</td>\n",
       "      <td>0.757576</td>\n",
       "      <td>0.529412</td>\n",
       "      <td>1.000000</td>\n",
       "      <td>1.00</td>\n",
       "    </tr>\n",
       "    <tr>\n",
       "      <th>2022-04-29 09:30:00 -&gt; 2022-06-29 15:00:00</th>\n",
       "      <td>25.0</td>\n",
       "      <td>8.0</td>\n",
       "      <td>33.0</td>\n",
       "      <td>15.0</td>\n",
       "      <td>18.0</td>\n",
       "      <td>7.0</td>\n",
       "      <td>8.0</td>\n",
       "      <td>18.0</td>\n",
       "      <td>0.0</td>\n",
       "      <td>0.012</td>\n",
       "      <td>0.002</td>\n",
       "      <td>0.757576</td>\n",
       "      <td>0.466667</td>\n",
       "      <td>1.000000</td>\n",
       "      <td>1.00</td>\n",
       "    </tr>\n",
       "    <tr>\n",
       "      <th>2022-04-29 09:30:00 -&gt; 2022-06-29 15:00:00</th>\n",
       "      <td>25.0</td>\n",
       "      <td>8.0</td>\n",
       "      <td>33.0</td>\n",
       "      <td>14.0</td>\n",
       "      <td>19.0</td>\n",
       "      <td>6.0</td>\n",
       "      <td>8.0</td>\n",
       "      <td>19.0</td>\n",
       "      <td>0.0</td>\n",
       "      <td>0.012</td>\n",
       "      <td>0.003</td>\n",
       "      <td>0.757576</td>\n",
       "      <td>0.428571</td>\n",
       "      <td>1.000000</td>\n",
       "      <td>1.00</td>\n",
       "    </tr>\n",
       "    <tr>\n",
       "      <th>2022-04-29 09:30:00 -&gt; 2022-06-29 15:00:00</th>\n",
       "      <td>20.0</td>\n",
       "      <td>8.0</td>\n",
       "      <td>28.0</td>\n",
       "      <td>17.0</td>\n",
       "      <td>11.0</td>\n",
       "      <td>9.0</td>\n",
       "      <td>8.0</td>\n",
       "      <td>11.0</td>\n",
       "      <td>0.0</td>\n",
       "      <td>0.013</td>\n",
       "      <td>0.000</td>\n",
       "      <td>0.714286</td>\n",
       "      <td>0.529412</td>\n",
       "      <td>1.000000</td>\n",
       "      <td>1.00</td>\n",
       "    </tr>\n",
       "    <tr>\n",
       "      <th>2022-04-29 09:30:00 -&gt; 2022-06-29 15:00:00</th>\n",
       "      <td>20.0</td>\n",
       "      <td>8.0</td>\n",
       "      <td>28.0</td>\n",
       "      <td>17.0</td>\n",
       "      <td>11.0</td>\n",
       "      <td>9.0</td>\n",
       "      <td>8.0</td>\n",
       "      <td>11.0</td>\n",
       "      <td>0.0</td>\n",
       "      <td>0.013</td>\n",
       "      <td>0.001</td>\n",
       "      <td>0.714286</td>\n",
       "      <td>0.529412</td>\n",
       "      <td>1.000000</td>\n",
       "      <td>1.00</td>\n",
       "    </tr>\n",
       "    <tr>\n",
       "      <th>2022-04-29 09:30:00 -&gt; 2022-06-29 15:00:00</th>\n",
       "      <td>20.0</td>\n",
       "      <td>8.0</td>\n",
       "      <td>28.0</td>\n",
       "      <td>15.0</td>\n",
       "      <td>13.0</td>\n",
       "      <td>7.0</td>\n",
       "      <td>8.0</td>\n",
       "      <td>13.0</td>\n",
       "      <td>0.0</td>\n",
       "      <td>0.013</td>\n",
       "      <td>0.002</td>\n",
       "      <td>0.714286</td>\n",
       "      <td>0.466667</td>\n",
       "      <td>1.000000</td>\n",
       "      <td>1.00</td>\n",
       "    </tr>\n",
       "    <tr>\n",
       "      <th>2022-04-29 09:30:00 -&gt; 2022-06-29 15:00:00</th>\n",
       "      <td>20.0</td>\n",
       "      <td>8.0</td>\n",
       "      <td>28.0</td>\n",
       "      <td>15.0</td>\n",
       "      <td>13.0</td>\n",
       "      <td>7.0</td>\n",
       "      <td>8.0</td>\n",
       "      <td>13.0</td>\n",
       "      <td>0.0</td>\n",
       "      <td>0.013</td>\n",
       "      <td>0.003</td>\n",
       "      <td>0.714286</td>\n",
       "      <td>0.466667</td>\n",
       "      <td>1.000000</td>\n",
       "      <td>1.00</td>\n",
       "    </tr>\n",
       "    <tr>\n",
       "      <th>2022-04-29 09:30:00 -&gt; 2022-06-29 15:00:00</th>\n",
       "      <td>16.0</td>\n",
       "      <td>7.0</td>\n",
       "      <td>23.0</td>\n",
       "      <td>15.0</td>\n",
       "      <td>8.0</td>\n",
       "      <td>8.0</td>\n",
       "      <td>7.0</td>\n",
       "      <td>8.0</td>\n",
       "      <td>0.0</td>\n",
       "      <td>0.014</td>\n",
       "      <td>0.000</td>\n",
       "      <td>0.695652</td>\n",
       "      <td>0.533333</td>\n",
       "      <td>1.000000</td>\n",
       "      <td>1.00</td>\n",
       "    </tr>\n",
       "    <tr>\n",
       "      <th>2022-04-29 09:30:00 -&gt; 2022-06-29 15:00:00</th>\n",
       "      <td>16.0</td>\n",
       "      <td>7.0</td>\n",
       "      <td>23.0</td>\n",
       "      <td>15.0</td>\n",
       "      <td>8.0</td>\n",
       "      <td>8.0</td>\n",
       "      <td>7.0</td>\n",
       "      <td>8.0</td>\n",
       "      <td>0.0</td>\n",
       "      <td>0.014</td>\n",
       "      <td>0.001</td>\n",
       "      <td>0.695652</td>\n",
       "      <td>0.533333</td>\n",
       "      <td>1.000000</td>\n",
       "      <td>1.00</td>\n",
       "    </tr>\n",
       "    <tr>\n",
       "      <th>2022-04-29 09:30:00 -&gt; 2022-06-29 15:00:00</th>\n",
       "      <td>16.0</td>\n",
       "      <td>7.0</td>\n",
       "      <td>23.0</td>\n",
       "      <td>13.0</td>\n",
       "      <td>10.0</td>\n",
       "      <td>6.0</td>\n",
       "      <td>7.0</td>\n",
       "      <td>10.0</td>\n",
       "      <td>0.0</td>\n",
       "      <td>0.014</td>\n",
       "      <td>0.002</td>\n",
       "      <td>0.695652</td>\n",
       "      <td>0.461538</td>\n",
       "      <td>1.000000</td>\n",
       "      <td>1.00</td>\n",
       "    </tr>\n",
       "    <tr>\n",
       "      <th>2022-04-29 09:30:00 -&gt; 2022-06-29 15:00:00</th>\n",
       "      <td>16.0</td>\n",
       "      <td>7.0</td>\n",
       "      <td>23.0</td>\n",
       "      <td>13.0</td>\n",
       "      <td>10.0</td>\n",
       "      <td>6.0</td>\n",
       "      <td>7.0</td>\n",
       "      <td>10.0</td>\n",
       "      <td>0.0</td>\n",
       "      <td>0.014</td>\n",
       "      <td>0.003</td>\n",
       "      <td>0.695652</td>\n",
       "      <td>0.461538</td>\n",
       "      <td>1.000000</td>\n",
       "      <td>1.00</td>\n",
       "    </tr>\n",
       "    <tr>\n",
       "      <th>2022-04-29 09:30:00 -&gt; 2022-06-29 15:00:00</th>\n",
       "      <td>13.0</td>\n",
       "      <td>7.0</td>\n",
       "      <td>20.0</td>\n",
       "      <td>13.0</td>\n",
       "      <td>7.0</td>\n",
       "      <td>6.0</td>\n",
       "      <td>7.0</td>\n",
       "      <td>7.0</td>\n",
       "      <td>0.0</td>\n",
       "      <td>0.015</td>\n",
       "      <td>0.000</td>\n",
       "      <td>0.650000</td>\n",
       "      <td>0.461538</td>\n",
       "      <td>1.000000</td>\n",
       "      <td>1.00</td>\n",
       "    </tr>\n",
       "    <tr>\n",
       "      <th>2022-04-29 09:30:00 -&gt; 2022-06-29 15:00:00</th>\n",
       "      <td>13.0</td>\n",
       "      <td>7.0</td>\n",
       "      <td>20.0</td>\n",
       "      <td>13.0</td>\n",
       "      <td>7.0</td>\n",
       "      <td>6.0</td>\n",
       "      <td>7.0</td>\n",
       "      <td>7.0</td>\n",
       "      <td>0.0</td>\n",
       "      <td>0.015</td>\n",
       "      <td>0.001</td>\n",
       "      <td>0.650000</td>\n",
       "      <td>0.461538</td>\n",
       "      <td>1.000000</td>\n",
       "      <td>1.00</td>\n",
       "    </tr>\n",
       "    <tr>\n",
       "      <th>2022-04-29 09:30:00 -&gt; 2022-06-29 15:00:00</th>\n",
       "      <td>13.0</td>\n",
       "      <td>7.0</td>\n",
       "      <td>20.0</td>\n",
       "      <td>11.0</td>\n",
       "      <td>9.0</td>\n",
       "      <td>4.0</td>\n",
       "      <td>7.0</td>\n",
       "      <td>9.0</td>\n",
       "      <td>0.0</td>\n",
       "      <td>0.015</td>\n",
       "      <td>0.002</td>\n",
       "      <td>0.650000</td>\n",
       "      <td>0.363636</td>\n",
       "      <td>1.000000</td>\n",
       "      <td>1.00</td>\n",
       "    </tr>\n",
       "    <tr>\n",
       "      <th>2022-04-29 09:30:00 -&gt; 2022-06-29 15:00:00</th>\n",
       "      <td>13.0</td>\n",
       "      <td>7.0</td>\n",
       "      <td>20.0</td>\n",
       "      <td>11.0</td>\n",
       "      <td>9.0</td>\n",
       "      <td>4.0</td>\n",
       "      <td>7.0</td>\n",
       "      <td>9.0</td>\n",
       "      <td>0.0</td>\n",
       "      <td>0.015</td>\n",
       "      <td>0.003</td>\n",
       "      <td>0.650000</td>\n",
       "      <td>0.363636</td>\n",
       "      <td>1.000000</td>\n",
       "      <td>1.00</td>\n",
       "    </tr>\n",
       "    <tr>\n",
       "      <th>2022-04-29 09:30:00 -&gt; 2022-06-29 15:00:00</th>\n",
       "      <td>13.0</td>\n",
       "      <td>6.0</td>\n",
       "      <td>19.0</td>\n",
       "      <td>13.0</td>\n",
       "      <td>6.0</td>\n",
       "      <td>7.0</td>\n",
       "      <td>6.0</td>\n",
       "      <td>6.0</td>\n",
       "      <td>0.0</td>\n",
       "      <td>0.016</td>\n",
       "      <td>0.000</td>\n",
       "      <td>0.684211</td>\n",
       "      <td>0.538462</td>\n",
       "      <td>1.000000</td>\n",
       "      <td>1.00</td>\n",
       "    </tr>\n",
       "    <tr>\n",
       "      <th>2022-04-29 09:30:00 -&gt; 2022-06-29 15:00:00</th>\n",
       "      <td>13.0</td>\n",
       "      <td>6.0</td>\n",
       "      <td>19.0</td>\n",
       "      <td>13.0</td>\n",
       "      <td>6.0</td>\n",
       "      <td>7.0</td>\n",
       "      <td>6.0</td>\n",
       "      <td>6.0</td>\n",
       "      <td>0.0</td>\n",
       "      <td>0.016</td>\n",
       "      <td>0.001</td>\n",
       "      <td>0.684211</td>\n",
       "      <td>0.538462</td>\n",
       "      <td>1.000000</td>\n",
       "      <td>1.00</td>\n",
       "    </tr>\n",
       "    <tr>\n",
       "      <th>2022-04-29 09:30:00 -&gt; 2022-06-29 15:00:00</th>\n",
       "      <td>13.0</td>\n",
       "      <td>6.0</td>\n",
       "      <td>19.0</td>\n",
       "      <td>11.0</td>\n",
       "      <td>8.0</td>\n",
       "      <td>5.0</td>\n",
       "      <td>6.0</td>\n",
       "      <td>8.0</td>\n",
       "      <td>0.0</td>\n",
       "      <td>0.016</td>\n",
       "      <td>0.002</td>\n",
       "      <td>0.684211</td>\n",
       "      <td>0.454545</td>\n",
       "      <td>1.000000</td>\n",
       "      <td>1.00</td>\n",
       "    </tr>\n",
       "    <tr>\n",
       "      <th>2022-04-29 09:30:00 -&gt; 2022-06-29 15:00:00</th>\n",
       "      <td>13.0</td>\n",
       "      <td>6.0</td>\n",
       "      <td>19.0</td>\n",
       "      <td>11.0</td>\n",
       "      <td>8.0</td>\n",
       "      <td>5.0</td>\n",
       "      <td>6.0</td>\n",
       "      <td>8.0</td>\n",
       "      <td>0.0</td>\n",
       "      <td>0.016</td>\n",
       "      <td>0.003</td>\n",
       "      <td>0.684211</td>\n",
       "      <td>0.454545</td>\n",
       "      <td>1.000000</td>\n",
       "      <td>1.00</td>\n",
       "    </tr>\n",
       "    <tr>\n",
       "      <th>2022-04-29 09:30:00 -&gt; 2022-06-29 15:00:00</th>\n",
       "      <td>12.0</td>\n",
       "      <td>5.0</td>\n",
       "      <td>17.0</td>\n",
       "      <td>12.0</td>\n",
       "      <td>5.0</td>\n",
       "      <td>7.0</td>\n",
       "      <td>5.0</td>\n",
       "      <td>5.0</td>\n",
       "      <td>0.0</td>\n",
       "      <td>0.017</td>\n",
       "      <td>0.000</td>\n",
       "      <td>0.705882</td>\n",
       "      <td>0.583333</td>\n",
       "      <td>1.000000</td>\n",
       "      <td>1.00</td>\n",
       "    </tr>\n",
       "    <tr>\n",
       "      <th>2022-04-29 09:30:00 -&gt; 2022-06-29 15:00:00</th>\n",
       "      <td>12.0</td>\n",
       "      <td>5.0</td>\n",
       "      <td>17.0</td>\n",
       "      <td>12.0</td>\n",
       "      <td>5.0</td>\n",
       "      <td>7.0</td>\n",
       "      <td>5.0</td>\n",
       "      <td>5.0</td>\n",
       "      <td>0.0</td>\n",
       "      <td>0.017</td>\n",
       "      <td>0.001</td>\n",
       "      <td>0.705882</td>\n",
       "      <td>0.583333</td>\n",
       "      <td>1.000000</td>\n",
       "      <td>1.00</td>\n",
       "    </tr>\n",
       "    <tr>\n",
       "      <th>2022-04-29 09:30:00 -&gt; 2022-06-29 15:00:00</th>\n",
       "      <td>12.0</td>\n",
       "      <td>5.0</td>\n",
       "      <td>17.0</td>\n",
       "      <td>10.0</td>\n",
       "      <td>7.0</td>\n",
       "      <td>5.0</td>\n",
       "      <td>5.0</td>\n",
       "      <td>7.0</td>\n",
       "      <td>0.0</td>\n",
       "      <td>0.017</td>\n",
       "      <td>0.002</td>\n",
       "      <td>0.705882</td>\n",
       "      <td>0.500000</td>\n",
       "      <td>1.000000</td>\n",
       "      <td>1.00</td>\n",
       "    </tr>\n",
       "    <tr>\n",
       "      <th>2022-04-29 09:30:00 -&gt; 2022-06-29 15:00:00</th>\n",
       "      <td>12.0</td>\n",
       "      <td>5.0</td>\n",
       "      <td>17.0</td>\n",
       "      <td>10.0</td>\n",
       "      <td>7.0</td>\n",
       "      <td>5.0</td>\n",
       "      <td>5.0</td>\n",
       "      <td>7.0</td>\n",
       "      <td>0.0</td>\n",
       "      <td>0.017</td>\n",
       "      <td>0.003</td>\n",
       "      <td>0.705882</td>\n",
       "      <td>0.500000</td>\n",
       "      <td>1.000000</td>\n",
       "      <td>1.00</td>\n",
       "    </tr>\n",
       "    <tr>\n",
       "      <th>2022-04-29 09:30:00 -&gt; 2022-06-29 15:00:00</th>\n",
       "      <td>9.0</td>\n",
       "      <td>5.0</td>\n",
       "      <td>14.0</td>\n",
       "      <td>11.0</td>\n",
       "      <td>3.0</td>\n",
       "      <td>6.0</td>\n",
       "      <td>5.0</td>\n",
       "      <td>3.0</td>\n",
       "      <td>0.0</td>\n",
       "      <td>0.018</td>\n",
       "      <td>0.000</td>\n",
       "      <td>0.642857</td>\n",
       "      <td>0.545455</td>\n",
       "      <td>1.000000</td>\n",
       "      <td>1.00</td>\n",
       "    </tr>\n",
       "    <tr>\n",
       "      <th>2022-04-29 09:30:00 -&gt; 2022-06-29 15:00:00</th>\n",
       "      <td>9.0</td>\n",
       "      <td>5.0</td>\n",
       "      <td>14.0</td>\n",
       "      <td>11.0</td>\n",
       "      <td>3.0</td>\n",
       "      <td>6.0</td>\n",
       "      <td>5.0</td>\n",
       "      <td>3.0</td>\n",
       "      <td>0.0</td>\n",
       "      <td>0.018</td>\n",
       "      <td>0.001</td>\n",
       "      <td>0.642857</td>\n",
       "      <td>0.545455</td>\n",
       "      <td>1.000000</td>\n",
       "      <td>1.00</td>\n",
       "    </tr>\n",
       "    <tr>\n",
       "      <th>2022-04-29 09:30:00 -&gt; 2022-06-29 15:00:00</th>\n",
       "      <td>9.0</td>\n",
       "      <td>5.0</td>\n",
       "      <td>14.0</td>\n",
       "      <td>10.0</td>\n",
       "      <td>4.0</td>\n",
       "      <td>5.0</td>\n",
       "      <td>5.0</td>\n",
       "      <td>4.0</td>\n",
       "      <td>0.0</td>\n",
       "      <td>0.018</td>\n",
       "      <td>0.002</td>\n",
       "      <td>0.642857</td>\n",
       "      <td>0.500000</td>\n",
       "      <td>1.000000</td>\n",
       "      <td>1.00</td>\n",
       "    </tr>\n",
       "    <tr>\n",
       "      <th>2022-04-29 09:30:00 -&gt; 2022-06-29 15:00:00</th>\n",
       "      <td>9.0</td>\n",
       "      <td>5.0</td>\n",
       "      <td>14.0</td>\n",
       "      <td>10.0</td>\n",
       "      <td>4.0</td>\n",
       "      <td>5.0</td>\n",
       "      <td>5.0</td>\n",
       "      <td>4.0</td>\n",
       "      <td>0.0</td>\n",
       "      <td>0.018</td>\n",
       "      <td>0.003</td>\n",
       "      <td>0.642857</td>\n",
       "      <td>0.500000</td>\n",
       "      <td>1.000000</td>\n",
       "      <td>1.00</td>\n",
       "    </tr>\n",
       "    <tr>\n",
       "      <th>2022-04-29 09:30:00 -&gt; 2022-06-29 15:00:00</th>\n",
       "      <td>9.0</td>\n",
       "      <td>5.0</td>\n",
       "      <td>14.0</td>\n",
       "      <td>11.0</td>\n",
       "      <td>3.0</td>\n",
       "      <td>6.0</td>\n",
       "      <td>5.0</td>\n",
       "      <td>3.0</td>\n",
       "      <td>0.0</td>\n",
       "      <td>0.019</td>\n",
       "      <td>0.000</td>\n",
       "      <td>0.642857</td>\n",
       "      <td>0.545455</td>\n",
       "      <td>1.000000</td>\n",
       "      <td>1.00</td>\n",
       "    </tr>\n",
       "    <tr>\n",
       "      <th>2022-04-29 09:30:00 -&gt; 2022-06-29 15:00:00</th>\n",
       "      <td>9.0</td>\n",
       "      <td>5.0</td>\n",
       "      <td>14.0</td>\n",
       "      <td>11.0</td>\n",
       "      <td>3.0</td>\n",
       "      <td>6.0</td>\n",
       "      <td>5.0</td>\n",
       "      <td>3.0</td>\n",
       "      <td>0.0</td>\n",
       "      <td>0.019</td>\n",
       "      <td>0.001</td>\n",
       "      <td>0.642857</td>\n",
       "      <td>0.545455</td>\n",
       "      <td>1.000000</td>\n",
       "      <td>1.00</td>\n",
       "    </tr>\n",
       "    <tr>\n",
       "      <th>2022-04-29 09:30:00 -&gt; 2022-06-29 15:00:00</th>\n",
       "      <td>9.0</td>\n",
       "      <td>5.0</td>\n",
       "      <td>14.0</td>\n",
       "      <td>10.0</td>\n",
       "      <td>4.0</td>\n",
       "      <td>5.0</td>\n",
       "      <td>5.0</td>\n",
       "      <td>4.0</td>\n",
       "      <td>0.0</td>\n",
       "      <td>0.019</td>\n",
       "      <td>0.002</td>\n",
       "      <td>0.642857</td>\n",
       "      <td>0.500000</td>\n",
       "      <td>1.000000</td>\n",
       "      <td>1.00</td>\n",
       "    </tr>\n",
       "    <tr>\n",
       "      <th>2022-04-29 09:30:00 -&gt; 2022-06-29 15:00:00</th>\n",
       "      <td>9.0</td>\n",
       "      <td>5.0</td>\n",
       "      <td>14.0</td>\n",
       "      <td>10.0</td>\n",
       "      <td>4.0</td>\n",
       "      <td>5.0</td>\n",
       "      <td>5.0</td>\n",
       "      <td>4.0</td>\n",
       "      <td>0.0</td>\n",
       "      <td>0.019</td>\n",
       "      <td>0.003</td>\n",
       "      <td>0.642857</td>\n",
       "      <td>0.500000</td>\n",
       "      <td>1.000000</td>\n",
       "      <td>1.00</td>\n",
       "    </tr>\n",
       "    <tr>\n",
       "      <th>2022-04-29 09:30:00 -&gt; 2022-06-29 15:00:00</th>\n",
       "      <td>9.0</td>\n",
       "      <td>4.0</td>\n",
       "      <td>13.0</td>\n",
       "      <td>10.0</td>\n",
       "      <td>3.0</td>\n",
       "      <td>6.0</td>\n",
       "      <td>4.0</td>\n",
       "      <td>3.0</td>\n",
       "      <td>0.0</td>\n",
       "      <td>0.020</td>\n",
       "      <td>0.000</td>\n",
       "      <td>0.692308</td>\n",
       "      <td>0.600000</td>\n",
       "      <td>1.000000</td>\n",
       "      <td>1.00</td>\n",
       "    </tr>\n",
       "    <tr>\n",
       "      <th>2022-04-29 09:30:00 -&gt; 2022-06-29 15:00:00</th>\n",
       "      <td>9.0</td>\n",
       "      <td>4.0</td>\n",
       "      <td>13.0</td>\n",
       "      <td>10.0</td>\n",
       "      <td>3.0</td>\n",
       "      <td>6.0</td>\n",
       "      <td>4.0</td>\n",
       "      <td>3.0</td>\n",
       "      <td>0.0</td>\n",
       "      <td>0.020</td>\n",
       "      <td>0.001</td>\n",
       "      <td>0.692308</td>\n",
       "      <td>0.600000</td>\n",
       "      <td>1.000000</td>\n",
       "      <td>1.00</td>\n",
       "    </tr>\n",
       "    <tr>\n",
       "      <th>2022-04-29 09:30:00 -&gt; 2022-06-29 15:00:00</th>\n",
       "      <td>9.0</td>\n",
       "      <td>4.0</td>\n",
       "      <td>13.0</td>\n",
       "      <td>9.0</td>\n",
       "      <td>4.0</td>\n",
       "      <td>5.0</td>\n",
       "      <td>4.0</td>\n",
       "      <td>4.0</td>\n",
       "      <td>0.0</td>\n",
       "      <td>0.020</td>\n",
       "      <td>0.002</td>\n",
       "      <td>0.692308</td>\n",
       "      <td>0.555556</td>\n",
       "      <td>1.000000</td>\n",
       "      <td>1.00</td>\n",
       "    </tr>\n",
       "    <tr>\n",
       "      <th>2022-04-29 09:30:00 -&gt; 2022-06-29 15:00:00</th>\n",
       "      <td>9.0</td>\n",
       "      <td>4.0</td>\n",
       "      <td>13.0</td>\n",
       "      <td>9.0</td>\n",
       "      <td>4.0</td>\n",
       "      <td>5.0</td>\n",
       "      <td>4.0</td>\n",
       "      <td>4.0</td>\n",
       "      <td>0.0</td>\n",
       "      <td>0.020</td>\n",
       "      <td>0.003</td>\n",
       "      <td>0.692308</td>\n",
       "      <td>0.555556</td>\n",
       "      <td>1.000000</td>\n",
       "      <td>1.00</td>\n",
       "    </tr>\n",
       "  </tbody>\n",
       "</table>\n",
       "</div>"
      ],
      "text/plain": [
       "                                             win  lose  total round  \\\n",
       "2022-04-29 09:30:00 -> 2022-06-29 09:44:00  35.0   5.0         40.0   \n",
       "2022-04-29 09:30:00 -> 2022-06-29 09:44:00  34.0   6.0         40.0   \n",
       "2022-04-29 09:30:00 -> 2022-06-29 09:35:00  36.0   4.0         40.0   \n",
       "2022-04-29 09:30:00 -> 2022-06-29 09:44:00  34.0   6.0         40.0   \n",
       "2022-04-29 09:30:00 -> 2022-06-29 09:35:00  37.0   3.0         40.0   \n",
       "2022-04-29 09:30:00 -> 2022-06-29 09:34:00  35.0   5.0         40.0   \n",
       "2022-04-29 09:30:00 -> 2022-06-29 09:44:00  33.0   7.0         40.0   \n",
       "2022-04-29 09:30:00 -> 2022-06-29 09:35:00  37.0   3.0         40.0   \n",
       "2022-04-29 09:30:00 -> 2022-06-29 09:34:00  37.0   3.0         40.0   \n",
       "2022-04-29 09:30:00 -> 2022-06-29 09:34:00  37.0   3.0         40.0   \n",
       "2022-04-29 09:30:00 -> 2022-06-29 09:44:00  32.0   8.0         40.0   \n",
       "2022-04-29 09:30:00 -> 2022-06-29 09:35:00  36.0   4.0         40.0   \n",
       "2022-04-29 09:30:00 -> 2022-06-29 09:34:00  36.0   4.0         40.0   \n",
       "2022-04-29 09:30:00 -> 2022-06-29 09:34:00  37.0   3.0         40.0   \n",
       "2022-04-29 09:30:00 -> 2022-06-29 09:44:00  29.0  11.0         40.0   \n",
       "2022-04-29 09:30:00 -> 2022-06-29 09:35:00  34.0   6.0         40.0   \n",
       "2022-04-29 09:30:00 -> 2022-06-29 09:34:00  34.0   6.0         40.0   \n",
       "2022-04-29 09:30:00 -> 2022-06-29 09:34:00  36.0   4.0         40.0   \n",
       "2022-04-29 09:30:00 -> 2022-06-29 09:44:00  29.0  10.0         39.0   \n",
       "2022-04-29 09:30:00 -> 2022-06-29 09:35:00  32.0   7.0         39.0   \n",
       "2022-04-29 09:30:00 -> 2022-06-29 09:34:00  33.0   6.0         39.0   \n",
       "2022-04-29 09:30:00 -> 2022-06-29 09:34:00  35.0   4.0         39.0   \n",
       "2022-04-29 09:30:00 -> 2022-06-29 09:44:00  27.0  11.0         38.0   \n",
       "2022-04-29 09:30:00 -> 2022-06-29 09:35:00  29.0   9.0         38.0   \n",
       "2022-04-29 09:30:00 -> 2022-06-29 09:34:00  30.0   8.0         38.0   \n",
       "2022-04-29 09:30:00 -> 2022-06-29 09:34:00  32.0   6.0         38.0   \n",
       "2022-04-29 09:30:00 -> 2022-06-29 09:44:00  24.0  14.0         38.0   \n",
       "2022-04-29 09:30:00 -> 2022-06-29 09:43:00  26.0  12.0         38.0   \n",
       "2022-04-29 09:30:00 -> 2022-06-29 09:43:00  26.0  12.0         38.0   \n",
       "2022-04-29 09:30:00 -> 2022-06-29 09:43:00  28.0  10.0         38.0   \n",
       "2022-04-29 09:30:00 -> 2022-06-29 09:44:00  26.0  10.0         36.0   \n",
       "2022-04-29 09:30:00 -> 2022-06-29 09:43:00  27.0   9.0         36.0   \n",
       "2022-04-29 09:30:00 -> 2022-06-29 09:43:00  27.0   9.0         36.0   \n",
       "2022-04-29 09:30:00 -> 2022-06-29 09:43:00  28.0   8.0         36.0   \n",
       "2022-04-29 09:30:00 -> 2022-06-29 15:00:00  24.0   9.0         33.0   \n",
       "2022-04-29 09:30:00 -> 2022-06-29 15:00:00  25.0   8.0         33.0   \n",
       "2022-04-29 09:30:00 -> 2022-06-29 15:00:00  25.0   8.0         33.0   \n",
       "2022-04-29 09:30:00 -> 2022-06-29 13:42:00  26.0   7.0         33.0   \n",
       "2022-04-29 09:30:00 -> 2022-06-29 15:00:00  25.0   8.0         33.0   \n",
       "2022-04-29 09:30:00 -> 2022-06-29 15:00:00  25.0   8.0         33.0   \n",
       "2022-04-29 09:30:00 -> 2022-06-29 15:00:00  25.0   8.0         33.0   \n",
       "2022-04-29 09:30:00 -> 2022-06-29 15:00:00  25.0   8.0         33.0   \n",
       "2022-04-29 09:30:00 -> 2022-06-29 15:00:00  20.0   8.0         28.0   \n",
       "2022-04-29 09:30:00 -> 2022-06-29 15:00:00  20.0   8.0         28.0   \n",
       "2022-04-29 09:30:00 -> 2022-06-29 15:00:00  20.0   8.0         28.0   \n",
       "2022-04-29 09:30:00 -> 2022-06-29 15:00:00  20.0   8.0         28.0   \n",
       "2022-04-29 09:30:00 -> 2022-06-29 15:00:00  16.0   7.0         23.0   \n",
       "2022-04-29 09:30:00 -> 2022-06-29 15:00:00  16.0   7.0         23.0   \n",
       "2022-04-29 09:30:00 -> 2022-06-29 15:00:00  16.0   7.0         23.0   \n",
       "2022-04-29 09:30:00 -> 2022-06-29 15:00:00  16.0   7.0         23.0   \n",
       "2022-04-29 09:30:00 -> 2022-06-29 15:00:00  13.0   7.0         20.0   \n",
       "2022-04-29 09:30:00 -> 2022-06-29 15:00:00  13.0   7.0         20.0   \n",
       "2022-04-29 09:30:00 -> 2022-06-29 15:00:00  13.0   7.0         20.0   \n",
       "2022-04-29 09:30:00 -> 2022-06-29 15:00:00  13.0   7.0         20.0   \n",
       "2022-04-29 09:30:00 -> 2022-06-29 15:00:00  13.0   6.0         19.0   \n",
       "2022-04-29 09:30:00 -> 2022-06-29 15:00:00  13.0   6.0         19.0   \n",
       "2022-04-29 09:30:00 -> 2022-06-29 15:00:00  13.0   6.0         19.0   \n",
       "2022-04-29 09:30:00 -> 2022-06-29 15:00:00  13.0   6.0         19.0   \n",
       "2022-04-29 09:30:00 -> 2022-06-29 15:00:00  12.0   5.0         17.0   \n",
       "2022-04-29 09:30:00 -> 2022-06-29 15:00:00  12.0   5.0         17.0   \n",
       "2022-04-29 09:30:00 -> 2022-06-29 15:00:00  12.0   5.0         17.0   \n",
       "2022-04-29 09:30:00 -> 2022-06-29 15:00:00  12.0   5.0         17.0   \n",
       "2022-04-29 09:30:00 -> 2022-06-29 15:00:00   9.0   5.0         14.0   \n",
       "2022-04-29 09:30:00 -> 2022-06-29 15:00:00   9.0   5.0         14.0   \n",
       "2022-04-29 09:30:00 -> 2022-06-29 15:00:00   9.0   5.0         14.0   \n",
       "2022-04-29 09:30:00 -> 2022-06-29 15:00:00   9.0   5.0         14.0   \n",
       "2022-04-29 09:30:00 -> 2022-06-29 15:00:00   9.0   5.0         14.0   \n",
       "2022-04-29 09:30:00 -> 2022-06-29 15:00:00   9.0   5.0         14.0   \n",
       "2022-04-29 09:30:00 -> 2022-06-29 15:00:00   9.0   5.0         14.0   \n",
       "2022-04-29 09:30:00 -> 2022-06-29 15:00:00   9.0   5.0         14.0   \n",
       "2022-04-29 09:30:00 -> 2022-06-29 15:00:00   9.0   4.0         13.0   \n",
       "2022-04-29 09:30:00 -> 2022-06-29 15:00:00   9.0   4.0         13.0   \n",
       "2022-04-29 09:30:00 -> 2022-06-29 15:00:00   9.0   4.0         13.0   \n",
       "2022-04-29 09:30:00 -> 2022-06-29 15:00:00   9.0   4.0         13.0   \n",
       "\n",
       "                                            close by time  close by signal  \\\n",
       "2022-04-29 09:30:00 -> 2022-06-29 09:44:00            9.0             31.0   \n",
       "2022-04-29 09:30:00 -> 2022-06-29 09:44:00           10.0             30.0   \n",
       "2022-04-29 09:30:00 -> 2022-06-29 09:35:00            6.0             34.0   \n",
       "2022-04-29 09:30:00 -> 2022-06-29 09:44:00           10.0             30.0   \n",
       "2022-04-29 09:30:00 -> 2022-06-29 09:35:00            6.0             34.0   \n",
       "2022-04-29 09:30:00 -> 2022-06-29 09:34:00            4.0             36.0   \n",
       "2022-04-29 09:30:00 -> 2022-06-29 09:44:00           11.0             29.0   \n",
       "2022-04-29 09:30:00 -> 2022-06-29 09:35:00            6.0             34.0   \n",
       "2022-04-29 09:30:00 -> 2022-06-29 09:34:00            4.0             36.0   \n",
       "2022-04-29 09:30:00 -> 2022-06-29 09:34:00            4.0             36.0   \n",
       "2022-04-29 09:30:00 -> 2022-06-29 09:44:00           12.0             28.0   \n",
       "2022-04-29 09:30:00 -> 2022-06-29 09:35:00            7.0             33.0   \n",
       "2022-04-29 09:30:00 -> 2022-06-29 09:34:00            5.0             35.0   \n",
       "2022-04-29 09:30:00 -> 2022-06-29 09:34:00            4.0             36.0   \n",
       "2022-04-29 09:30:00 -> 2022-06-29 09:44:00           15.0             25.0   \n",
       "2022-04-29 09:30:00 -> 2022-06-29 09:35:00            9.0             31.0   \n",
       "2022-04-29 09:30:00 -> 2022-06-29 09:34:00            7.0             33.0   \n",
       "2022-04-29 09:30:00 -> 2022-06-29 09:34:00            5.0             35.0   \n",
       "2022-04-29 09:30:00 -> 2022-06-29 09:44:00           15.0             24.0   \n",
       "2022-04-29 09:30:00 -> 2022-06-29 09:35:00           10.0             29.0   \n",
       "2022-04-29 09:30:00 -> 2022-06-29 09:34:00            7.0             32.0   \n",
       "2022-04-29 09:30:00 -> 2022-06-29 09:34:00            5.0             34.0   \n",
       "2022-04-29 09:30:00 -> 2022-06-29 09:44:00           16.0             22.0   \n",
       "2022-04-29 09:30:00 -> 2022-06-29 09:35:00           12.0             26.0   \n",
       "2022-04-29 09:30:00 -> 2022-06-29 09:34:00            9.0             29.0   \n",
       "2022-04-29 09:30:00 -> 2022-06-29 09:34:00            7.0             31.0   \n",
       "2022-04-29 09:30:00 -> 2022-06-29 09:44:00           20.0             18.0   \n",
       "2022-04-29 09:30:00 -> 2022-06-29 09:43:00           16.0             22.0   \n",
       "2022-04-29 09:30:00 -> 2022-06-29 09:43:00           14.0             24.0   \n",
       "2022-04-29 09:30:00 -> 2022-06-29 09:43:00           12.0             26.0   \n",
       "2022-04-29 09:30:00 -> 2022-06-29 09:44:00           19.0             17.0   \n",
       "2022-04-29 09:30:00 -> 2022-06-29 09:43:00           16.0             20.0   \n",
       "2022-04-29 09:30:00 -> 2022-06-29 09:43:00           14.0             22.0   \n",
       "2022-04-29 09:30:00 -> 2022-06-29 09:43:00           13.0             23.0   \n",
       "2022-04-29 09:30:00 -> 2022-06-29 15:00:00           19.0             14.0   \n",
       "2022-04-29 09:30:00 -> 2022-06-29 15:00:00           16.0             17.0   \n",
       "2022-04-29 09:30:00 -> 2022-06-29 15:00:00           14.0             19.0   \n",
       "2022-04-29 09:30:00 -> 2022-06-29 13:42:00           12.0             21.0   \n",
       "2022-04-29 09:30:00 -> 2022-06-29 15:00:00           19.0             14.0   \n",
       "2022-04-29 09:30:00 -> 2022-06-29 15:00:00           17.0             16.0   \n",
       "2022-04-29 09:30:00 -> 2022-06-29 15:00:00           15.0             18.0   \n",
       "2022-04-29 09:30:00 -> 2022-06-29 15:00:00           14.0             19.0   \n",
       "2022-04-29 09:30:00 -> 2022-06-29 15:00:00           17.0             11.0   \n",
       "2022-04-29 09:30:00 -> 2022-06-29 15:00:00           17.0             11.0   \n",
       "2022-04-29 09:30:00 -> 2022-06-29 15:00:00           15.0             13.0   \n",
       "2022-04-29 09:30:00 -> 2022-06-29 15:00:00           15.0             13.0   \n",
       "2022-04-29 09:30:00 -> 2022-06-29 15:00:00           15.0              8.0   \n",
       "2022-04-29 09:30:00 -> 2022-06-29 15:00:00           15.0              8.0   \n",
       "2022-04-29 09:30:00 -> 2022-06-29 15:00:00           13.0             10.0   \n",
       "2022-04-29 09:30:00 -> 2022-06-29 15:00:00           13.0             10.0   \n",
       "2022-04-29 09:30:00 -> 2022-06-29 15:00:00           13.0              7.0   \n",
       "2022-04-29 09:30:00 -> 2022-06-29 15:00:00           13.0              7.0   \n",
       "2022-04-29 09:30:00 -> 2022-06-29 15:00:00           11.0              9.0   \n",
       "2022-04-29 09:30:00 -> 2022-06-29 15:00:00           11.0              9.0   \n",
       "2022-04-29 09:30:00 -> 2022-06-29 15:00:00           13.0              6.0   \n",
       "2022-04-29 09:30:00 -> 2022-06-29 15:00:00           13.0              6.0   \n",
       "2022-04-29 09:30:00 -> 2022-06-29 15:00:00           11.0              8.0   \n",
       "2022-04-29 09:30:00 -> 2022-06-29 15:00:00           11.0              8.0   \n",
       "2022-04-29 09:30:00 -> 2022-06-29 15:00:00           12.0              5.0   \n",
       "2022-04-29 09:30:00 -> 2022-06-29 15:00:00           12.0              5.0   \n",
       "2022-04-29 09:30:00 -> 2022-06-29 15:00:00           10.0              7.0   \n",
       "2022-04-29 09:30:00 -> 2022-06-29 15:00:00           10.0              7.0   \n",
       "2022-04-29 09:30:00 -> 2022-06-29 15:00:00           11.0              3.0   \n",
       "2022-04-29 09:30:00 -> 2022-06-29 15:00:00           11.0              3.0   \n",
       "2022-04-29 09:30:00 -> 2022-06-29 15:00:00           10.0              4.0   \n",
       "2022-04-29 09:30:00 -> 2022-06-29 15:00:00           10.0              4.0   \n",
       "2022-04-29 09:30:00 -> 2022-06-29 15:00:00           11.0              3.0   \n",
       "2022-04-29 09:30:00 -> 2022-06-29 15:00:00           11.0              3.0   \n",
       "2022-04-29 09:30:00 -> 2022-06-29 15:00:00           10.0              4.0   \n",
       "2022-04-29 09:30:00 -> 2022-06-29 15:00:00           10.0              4.0   \n",
       "2022-04-29 09:30:00 -> 2022-06-29 15:00:00           10.0              3.0   \n",
       "2022-04-29 09:30:00 -> 2022-06-29 15:00:00           10.0              3.0   \n",
       "2022-04-29 09:30:00 -> 2022-06-29 15:00:00            9.0              4.0   \n",
       "2022-04-29 09:30:00 -> 2022-06-29 15:00:00            9.0              4.0   \n",
       "\n",
       "                                            close by time win  \\\n",
       "2022-04-29 09:30:00 -> 2022-06-29 09:44:00                4.0   \n",
       "2022-04-29 09:30:00 -> 2022-06-29 09:44:00                4.0   \n",
       "2022-04-29 09:30:00 -> 2022-06-29 09:35:00                3.0   \n",
       "2022-04-29 09:30:00 -> 2022-06-29 09:44:00                4.0   \n",
       "2022-04-29 09:30:00 -> 2022-06-29 09:35:00                3.0   \n",
       "2022-04-29 09:30:00 -> 2022-06-29 09:34:00                1.0   \n",
       "2022-04-29 09:30:00 -> 2022-06-29 09:44:00                4.0   \n",
       "2022-04-29 09:30:00 -> 2022-06-29 09:35:00                3.0   \n",
       "2022-04-29 09:30:00 -> 2022-06-29 09:34:00                1.0   \n",
       "2022-04-29 09:30:00 -> 2022-06-29 09:34:00                1.0   \n",
       "2022-04-29 09:30:00 -> 2022-06-29 09:44:00                4.0   \n",
       "2022-04-29 09:30:00 -> 2022-06-29 09:35:00                3.0   \n",
       "2022-04-29 09:30:00 -> 2022-06-29 09:34:00                1.0   \n",
       "2022-04-29 09:30:00 -> 2022-06-29 09:34:00                1.0   \n",
       "2022-04-29 09:30:00 -> 2022-06-29 09:44:00                4.0   \n",
       "2022-04-29 09:30:00 -> 2022-06-29 09:35:00                3.0   \n",
       "2022-04-29 09:30:00 -> 2022-06-29 09:34:00                1.0   \n",
       "2022-04-29 09:30:00 -> 2022-06-29 09:34:00                1.0   \n",
       "2022-04-29 09:30:00 -> 2022-06-29 09:44:00                5.0   \n",
       "2022-04-29 09:30:00 -> 2022-06-29 09:35:00                3.0   \n",
       "2022-04-29 09:30:00 -> 2022-06-29 09:34:00                1.0   \n",
       "2022-04-29 09:30:00 -> 2022-06-29 09:34:00                1.0   \n",
       "2022-04-29 09:30:00 -> 2022-06-29 09:44:00                5.0   \n",
       "2022-04-29 09:30:00 -> 2022-06-29 09:35:00                3.0   \n",
       "2022-04-29 09:30:00 -> 2022-06-29 09:34:00                1.0   \n",
       "2022-04-29 09:30:00 -> 2022-06-29 09:34:00                1.0   \n",
       "2022-04-29 09:30:00 -> 2022-06-29 09:44:00                6.0   \n",
       "2022-04-29 09:30:00 -> 2022-06-29 09:43:00                4.0   \n",
       "2022-04-29 09:30:00 -> 2022-06-29 09:43:00                2.0   \n",
       "2022-04-29 09:30:00 -> 2022-06-29 09:43:00                2.0   \n",
       "2022-04-29 09:30:00 -> 2022-06-29 09:44:00                9.0   \n",
       "2022-04-29 09:30:00 -> 2022-06-29 09:43:00                7.0   \n",
       "2022-04-29 09:30:00 -> 2022-06-29 09:43:00                5.0   \n",
       "2022-04-29 09:30:00 -> 2022-06-29 09:43:00                5.0   \n",
       "2022-04-29 09:30:00 -> 2022-06-29 15:00:00               10.0   \n",
       "2022-04-29 09:30:00 -> 2022-06-29 15:00:00                8.0   \n",
       "2022-04-29 09:30:00 -> 2022-06-29 15:00:00                6.0   \n",
       "2022-04-29 09:30:00 -> 2022-06-29 13:42:00                5.0   \n",
       "2022-04-29 09:30:00 -> 2022-06-29 15:00:00               11.0   \n",
       "2022-04-29 09:30:00 -> 2022-06-29 15:00:00                9.0   \n",
       "2022-04-29 09:30:00 -> 2022-06-29 15:00:00                7.0   \n",
       "2022-04-29 09:30:00 -> 2022-06-29 15:00:00                6.0   \n",
       "2022-04-29 09:30:00 -> 2022-06-29 15:00:00                9.0   \n",
       "2022-04-29 09:30:00 -> 2022-06-29 15:00:00                9.0   \n",
       "2022-04-29 09:30:00 -> 2022-06-29 15:00:00                7.0   \n",
       "2022-04-29 09:30:00 -> 2022-06-29 15:00:00                7.0   \n",
       "2022-04-29 09:30:00 -> 2022-06-29 15:00:00                8.0   \n",
       "2022-04-29 09:30:00 -> 2022-06-29 15:00:00                8.0   \n",
       "2022-04-29 09:30:00 -> 2022-06-29 15:00:00                6.0   \n",
       "2022-04-29 09:30:00 -> 2022-06-29 15:00:00                6.0   \n",
       "2022-04-29 09:30:00 -> 2022-06-29 15:00:00                6.0   \n",
       "2022-04-29 09:30:00 -> 2022-06-29 15:00:00                6.0   \n",
       "2022-04-29 09:30:00 -> 2022-06-29 15:00:00                4.0   \n",
       "2022-04-29 09:30:00 -> 2022-06-29 15:00:00                4.0   \n",
       "2022-04-29 09:30:00 -> 2022-06-29 15:00:00                7.0   \n",
       "2022-04-29 09:30:00 -> 2022-06-29 15:00:00                7.0   \n",
       "2022-04-29 09:30:00 -> 2022-06-29 15:00:00                5.0   \n",
       "2022-04-29 09:30:00 -> 2022-06-29 15:00:00                5.0   \n",
       "2022-04-29 09:30:00 -> 2022-06-29 15:00:00                7.0   \n",
       "2022-04-29 09:30:00 -> 2022-06-29 15:00:00                7.0   \n",
       "2022-04-29 09:30:00 -> 2022-06-29 15:00:00                5.0   \n",
       "2022-04-29 09:30:00 -> 2022-06-29 15:00:00                5.0   \n",
       "2022-04-29 09:30:00 -> 2022-06-29 15:00:00                6.0   \n",
       "2022-04-29 09:30:00 -> 2022-06-29 15:00:00                6.0   \n",
       "2022-04-29 09:30:00 -> 2022-06-29 15:00:00                5.0   \n",
       "2022-04-29 09:30:00 -> 2022-06-29 15:00:00                5.0   \n",
       "2022-04-29 09:30:00 -> 2022-06-29 15:00:00                6.0   \n",
       "2022-04-29 09:30:00 -> 2022-06-29 15:00:00                6.0   \n",
       "2022-04-29 09:30:00 -> 2022-06-29 15:00:00                5.0   \n",
       "2022-04-29 09:30:00 -> 2022-06-29 15:00:00                5.0   \n",
       "2022-04-29 09:30:00 -> 2022-06-29 15:00:00                6.0   \n",
       "2022-04-29 09:30:00 -> 2022-06-29 15:00:00                6.0   \n",
       "2022-04-29 09:30:00 -> 2022-06-29 15:00:00                5.0   \n",
       "2022-04-29 09:30:00 -> 2022-06-29 15:00:00                5.0   \n",
       "\n",
       "                                            close by time lose  \\\n",
       "2022-04-29 09:30:00 -> 2022-06-29 09:44:00                 5.0   \n",
       "2022-04-29 09:30:00 -> 2022-06-29 09:44:00                 6.0   \n",
       "2022-04-29 09:30:00 -> 2022-06-29 09:35:00                 3.0   \n",
       "2022-04-29 09:30:00 -> 2022-06-29 09:44:00                 6.0   \n",
       "2022-04-29 09:30:00 -> 2022-06-29 09:35:00                 3.0   \n",
       "2022-04-29 09:30:00 -> 2022-06-29 09:34:00                 3.0   \n",
       "2022-04-29 09:30:00 -> 2022-06-29 09:44:00                 7.0   \n",
       "2022-04-29 09:30:00 -> 2022-06-29 09:35:00                 3.0   \n",
       "2022-04-29 09:30:00 -> 2022-06-29 09:34:00                 3.0   \n",
       "2022-04-29 09:30:00 -> 2022-06-29 09:34:00                 3.0   \n",
       "2022-04-29 09:30:00 -> 2022-06-29 09:44:00                 8.0   \n",
       "2022-04-29 09:30:00 -> 2022-06-29 09:35:00                 4.0   \n",
       "2022-04-29 09:30:00 -> 2022-06-29 09:34:00                 4.0   \n",
       "2022-04-29 09:30:00 -> 2022-06-29 09:34:00                 3.0   \n",
       "2022-04-29 09:30:00 -> 2022-06-29 09:44:00                11.0   \n",
       "2022-04-29 09:30:00 -> 2022-06-29 09:35:00                 6.0   \n",
       "2022-04-29 09:30:00 -> 2022-06-29 09:34:00                 6.0   \n",
       "2022-04-29 09:30:00 -> 2022-06-29 09:34:00                 4.0   \n",
       "2022-04-29 09:30:00 -> 2022-06-29 09:44:00                10.0   \n",
       "2022-04-29 09:30:00 -> 2022-06-29 09:35:00                 7.0   \n",
       "2022-04-29 09:30:00 -> 2022-06-29 09:34:00                 6.0   \n",
       "2022-04-29 09:30:00 -> 2022-06-29 09:34:00                 4.0   \n",
       "2022-04-29 09:30:00 -> 2022-06-29 09:44:00                11.0   \n",
       "2022-04-29 09:30:00 -> 2022-06-29 09:35:00                 9.0   \n",
       "2022-04-29 09:30:00 -> 2022-06-29 09:34:00                 8.0   \n",
       "2022-04-29 09:30:00 -> 2022-06-29 09:34:00                 6.0   \n",
       "2022-04-29 09:30:00 -> 2022-06-29 09:44:00                14.0   \n",
       "2022-04-29 09:30:00 -> 2022-06-29 09:43:00                12.0   \n",
       "2022-04-29 09:30:00 -> 2022-06-29 09:43:00                12.0   \n",
       "2022-04-29 09:30:00 -> 2022-06-29 09:43:00                10.0   \n",
       "2022-04-29 09:30:00 -> 2022-06-29 09:44:00                10.0   \n",
       "2022-04-29 09:30:00 -> 2022-06-29 09:43:00                 9.0   \n",
       "2022-04-29 09:30:00 -> 2022-06-29 09:43:00                 9.0   \n",
       "2022-04-29 09:30:00 -> 2022-06-29 09:43:00                 8.0   \n",
       "2022-04-29 09:30:00 -> 2022-06-29 15:00:00                 9.0   \n",
       "2022-04-29 09:30:00 -> 2022-06-29 15:00:00                 8.0   \n",
       "2022-04-29 09:30:00 -> 2022-06-29 15:00:00                 8.0   \n",
       "2022-04-29 09:30:00 -> 2022-06-29 13:42:00                 7.0   \n",
       "2022-04-29 09:30:00 -> 2022-06-29 15:00:00                 8.0   \n",
       "2022-04-29 09:30:00 -> 2022-06-29 15:00:00                 8.0   \n",
       "2022-04-29 09:30:00 -> 2022-06-29 15:00:00                 8.0   \n",
       "2022-04-29 09:30:00 -> 2022-06-29 15:00:00                 8.0   \n",
       "2022-04-29 09:30:00 -> 2022-06-29 15:00:00                 8.0   \n",
       "2022-04-29 09:30:00 -> 2022-06-29 15:00:00                 8.0   \n",
       "2022-04-29 09:30:00 -> 2022-06-29 15:00:00                 8.0   \n",
       "2022-04-29 09:30:00 -> 2022-06-29 15:00:00                 8.0   \n",
       "2022-04-29 09:30:00 -> 2022-06-29 15:00:00                 7.0   \n",
       "2022-04-29 09:30:00 -> 2022-06-29 15:00:00                 7.0   \n",
       "2022-04-29 09:30:00 -> 2022-06-29 15:00:00                 7.0   \n",
       "2022-04-29 09:30:00 -> 2022-06-29 15:00:00                 7.0   \n",
       "2022-04-29 09:30:00 -> 2022-06-29 15:00:00                 7.0   \n",
       "2022-04-29 09:30:00 -> 2022-06-29 15:00:00                 7.0   \n",
       "2022-04-29 09:30:00 -> 2022-06-29 15:00:00                 7.0   \n",
       "2022-04-29 09:30:00 -> 2022-06-29 15:00:00                 7.0   \n",
       "2022-04-29 09:30:00 -> 2022-06-29 15:00:00                 6.0   \n",
       "2022-04-29 09:30:00 -> 2022-06-29 15:00:00                 6.0   \n",
       "2022-04-29 09:30:00 -> 2022-06-29 15:00:00                 6.0   \n",
       "2022-04-29 09:30:00 -> 2022-06-29 15:00:00                 6.0   \n",
       "2022-04-29 09:30:00 -> 2022-06-29 15:00:00                 5.0   \n",
       "2022-04-29 09:30:00 -> 2022-06-29 15:00:00                 5.0   \n",
       "2022-04-29 09:30:00 -> 2022-06-29 15:00:00                 5.0   \n",
       "2022-04-29 09:30:00 -> 2022-06-29 15:00:00                 5.0   \n",
       "2022-04-29 09:30:00 -> 2022-06-29 15:00:00                 5.0   \n",
       "2022-04-29 09:30:00 -> 2022-06-29 15:00:00                 5.0   \n",
       "2022-04-29 09:30:00 -> 2022-06-29 15:00:00                 5.0   \n",
       "2022-04-29 09:30:00 -> 2022-06-29 15:00:00                 5.0   \n",
       "2022-04-29 09:30:00 -> 2022-06-29 15:00:00                 5.0   \n",
       "2022-04-29 09:30:00 -> 2022-06-29 15:00:00                 5.0   \n",
       "2022-04-29 09:30:00 -> 2022-06-29 15:00:00                 5.0   \n",
       "2022-04-29 09:30:00 -> 2022-06-29 15:00:00                 5.0   \n",
       "2022-04-29 09:30:00 -> 2022-06-29 15:00:00                 4.0   \n",
       "2022-04-29 09:30:00 -> 2022-06-29 15:00:00                 4.0   \n",
       "2022-04-29 09:30:00 -> 2022-06-29 15:00:00                 4.0   \n",
       "2022-04-29 09:30:00 -> 2022-06-29 15:00:00                 4.0   \n",
       "\n",
       "                                            close by signal win  \\\n",
       "2022-04-29 09:30:00 -> 2022-06-29 09:44:00                 31.0   \n",
       "2022-04-29 09:30:00 -> 2022-06-29 09:44:00                 30.0   \n",
       "2022-04-29 09:30:00 -> 2022-06-29 09:35:00                 33.0   \n",
       "2022-04-29 09:30:00 -> 2022-06-29 09:44:00                 30.0   \n",
       "2022-04-29 09:30:00 -> 2022-06-29 09:35:00                 34.0   \n",
       "2022-04-29 09:30:00 -> 2022-06-29 09:34:00                 34.0   \n",
       "2022-04-29 09:30:00 -> 2022-06-29 09:44:00                 29.0   \n",
       "2022-04-29 09:30:00 -> 2022-06-29 09:35:00                 34.0   \n",
       "2022-04-29 09:30:00 -> 2022-06-29 09:34:00                 36.0   \n",
       "2022-04-29 09:30:00 -> 2022-06-29 09:34:00                 36.0   \n",
       "2022-04-29 09:30:00 -> 2022-06-29 09:44:00                 28.0   \n",
       "2022-04-29 09:30:00 -> 2022-06-29 09:35:00                 33.0   \n",
       "2022-04-29 09:30:00 -> 2022-06-29 09:34:00                 35.0   \n",
       "2022-04-29 09:30:00 -> 2022-06-29 09:34:00                 36.0   \n",
       "2022-04-29 09:30:00 -> 2022-06-29 09:44:00                 25.0   \n",
       "2022-04-29 09:30:00 -> 2022-06-29 09:35:00                 31.0   \n",
       "2022-04-29 09:30:00 -> 2022-06-29 09:34:00                 33.0   \n",
       "2022-04-29 09:30:00 -> 2022-06-29 09:34:00                 35.0   \n",
       "2022-04-29 09:30:00 -> 2022-06-29 09:44:00                 24.0   \n",
       "2022-04-29 09:30:00 -> 2022-06-29 09:35:00                 29.0   \n",
       "2022-04-29 09:30:00 -> 2022-06-29 09:34:00                 32.0   \n",
       "2022-04-29 09:30:00 -> 2022-06-29 09:34:00                 34.0   \n",
       "2022-04-29 09:30:00 -> 2022-06-29 09:44:00                 22.0   \n",
       "2022-04-29 09:30:00 -> 2022-06-29 09:35:00                 26.0   \n",
       "2022-04-29 09:30:00 -> 2022-06-29 09:34:00                 29.0   \n",
       "2022-04-29 09:30:00 -> 2022-06-29 09:34:00                 31.0   \n",
       "2022-04-29 09:30:00 -> 2022-06-29 09:44:00                 18.0   \n",
       "2022-04-29 09:30:00 -> 2022-06-29 09:43:00                 22.0   \n",
       "2022-04-29 09:30:00 -> 2022-06-29 09:43:00                 24.0   \n",
       "2022-04-29 09:30:00 -> 2022-06-29 09:43:00                 26.0   \n",
       "2022-04-29 09:30:00 -> 2022-06-29 09:44:00                 17.0   \n",
       "2022-04-29 09:30:00 -> 2022-06-29 09:43:00                 20.0   \n",
       "2022-04-29 09:30:00 -> 2022-06-29 09:43:00                 22.0   \n",
       "2022-04-29 09:30:00 -> 2022-06-29 09:43:00                 23.0   \n",
       "2022-04-29 09:30:00 -> 2022-06-29 15:00:00                 14.0   \n",
       "2022-04-29 09:30:00 -> 2022-06-29 15:00:00                 17.0   \n",
       "2022-04-29 09:30:00 -> 2022-06-29 15:00:00                 19.0   \n",
       "2022-04-29 09:30:00 -> 2022-06-29 13:42:00                 21.0   \n",
       "2022-04-29 09:30:00 -> 2022-06-29 15:00:00                 14.0   \n",
       "2022-04-29 09:30:00 -> 2022-06-29 15:00:00                 16.0   \n",
       "2022-04-29 09:30:00 -> 2022-06-29 15:00:00                 18.0   \n",
       "2022-04-29 09:30:00 -> 2022-06-29 15:00:00                 19.0   \n",
       "2022-04-29 09:30:00 -> 2022-06-29 15:00:00                 11.0   \n",
       "2022-04-29 09:30:00 -> 2022-06-29 15:00:00                 11.0   \n",
       "2022-04-29 09:30:00 -> 2022-06-29 15:00:00                 13.0   \n",
       "2022-04-29 09:30:00 -> 2022-06-29 15:00:00                 13.0   \n",
       "2022-04-29 09:30:00 -> 2022-06-29 15:00:00                  8.0   \n",
       "2022-04-29 09:30:00 -> 2022-06-29 15:00:00                  8.0   \n",
       "2022-04-29 09:30:00 -> 2022-06-29 15:00:00                 10.0   \n",
       "2022-04-29 09:30:00 -> 2022-06-29 15:00:00                 10.0   \n",
       "2022-04-29 09:30:00 -> 2022-06-29 15:00:00                  7.0   \n",
       "2022-04-29 09:30:00 -> 2022-06-29 15:00:00                  7.0   \n",
       "2022-04-29 09:30:00 -> 2022-06-29 15:00:00                  9.0   \n",
       "2022-04-29 09:30:00 -> 2022-06-29 15:00:00                  9.0   \n",
       "2022-04-29 09:30:00 -> 2022-06-29 15:00:00                  6.0   \n",
       "2022-04-29 09:30:00 -> 2022-06-29 15:00:00                  6.0   \n",
       "2022-04-29 09:30:00 -> 2022-06-29 15:00:00                  8.0   \n",
       "2022-04-29 09:30:00 -> 2022-06-29 15:00:00                  8.0   \n",
       "2022-04-29 09:30:00 -> 2022-06-29 15:00:00                  5.0   \n",
       "2022-04-29 09:30:00 -> 2022-06-29 15:00:00                  5.0   \n",
       "2022-04-29 09:30:00 -> 2022-06-29 15:00:00                  7.0   \n",
       "2022-04-29 09:30:00 -> 2022-06-29 15:00:00                  7.0   \n",
       "2022-04-29 09:30:00 -> 2022-06-29 15:00:00                  3.0   \n",
       "2022-04-29 09:30:00 -> 2022-06-29 15:00:00                  3.0   \n",
       "2022-04-29 09:30:00 -> 2022-06-29 15:00:00                  4.0   \n",
       "2022-04-29 09:30:00 -> 2022-06-29 15:00:00                  4.0   \n",
       "2022-04-29 09:30:00 -> 2022-06-29 15:00:00                  3.0   \n",
       "2022-04-29 09:30:00 -> 2022-06-29 15:00:00                  3.0   \n",
       "2022-04-29 09:30:00 -> 2022-06-29 15:00:00                  4.0   \n",
       "2022-04-29 09:30:00 -> 2022-06-29 15:00:00                  4.0   \n",
       "2022-04-29 09:30:00 -> 2022-06-29 15:00:00                  3.0   \n",
       "2022-04-29 09:30:00 -> 2022-06-29 15:00:00                  3.0   \n",
       "2022-04-29 09:30:00 -> 2022-06-29 15:00:00                  4.0   \n",
       "2022-04-29 09:30:00 -> 2022-06-29 15:00:00                  4.0   \n",
       "\n",
       "                                            close by signal lose  \\\n",
       "2022-04-29 09:30:00 -> 2022-06-29 09:44:00                   0.0   \n",
       "2022-04-29 09:30:00 -> 2022-06-29 09:44:00                   0.0   \n",
       "2022-04-29 09:30:00 -> 2022-06-29 09:35:00                   1.0   \n",
       "2022-04-29 09:30:00 -> 2022-06-29 09:44:00                   0.0   \n",
       "2022-04-29 09:30:00 -> 2022-06-29 09:35:00                   0.0   \n",
       "2022-04-29 09:30:00 -> 2022-06-29 09:34:00                   2.0   \n",
       "2022-04-29 09:30:00 -> 2022-06-29 09:44:00                   0.0   \n",
       "2022-04-29 09:30:00 -> 2022-06-29 09:35:00                   0.0   \n",
       "2022-04-29 09:30:00 -> 2022-06-29 09:34:00                   0.0   \n",
       "2022-04-29 09:30:00 -> 2022-06-29 09:34:00                   0.0   \n",
       "2022-04-29 09:30:00 -> 2022-06-29 09:44:00                   0.0   \n",
       "2022-04-29 09:30:00 -> 2022-06-29 09:35:00                   0.0   \n",
       "2022-04-29 09:30:00 -> 2022-06-29 09:34:00                   0.0   \n",
       "2022-04-29 09:30:00 -> 2022-06-29 09:34:00                   0.0   \n",
       "2022-04-29 09:30:00 -> 2022-06-29 09:44:00                   0.0   \n",
       "2022-04-29 09:30:00 -> 2022-06-29 09:35:00                   0.0   \n",
       "2022-04-29 09:30:00 -> 2022-06-29 09:34:00                   0.0   \n",
       "2022-04-29 09:30:00 -> 2022-06-29 09:34:00                   0.0   \n",
       "2022-04-29 09:30:00 -> 2022-06-29 09:44:00                   0.0   \n",
       "2022-04-29 09:30:00 -> 2022-06-29 09:35:00                   0.0   \n",
       "2022-04-29 09:30:00 -> 2022-06-29 09:34:00                   0.0   \n",
       "2022-04-29 09:30:00 -> 2022-06-29 09:34:00                   0.0   \n",
       "2022-04-29 09:30:00 -> 2022-06-29 09:44:00                   0.0   \n",
       "2022-04-29 09:30:00 -> 2022-06-29 09:35:00                   0.0   \n",
       "2022-04-29 09:30:00 -> 2022-06-29 09:34:00                   0.0   \n",
       "2022-04-29 09:30:00 -> 2022-06-29 09:34:00                   0.0   \n",
       "2022-04-29 09:30:00 -> 2022-06-29 09:44:00                   0.0   \n",
       "2022-04-29 09:30:00 -> 2022-06-29 09:43:00                   0.0   \n",
       "2022-04-29 09:30:00 -> 2022-06-29 09:43:00                   0.0   \n",
       "2022-04-29 09:30:00 -> 2022-06-29 09:43:00                   0.0   \n",
       "2022-04-29 09:30:00 -> 2022-06-29 09:44:00                   0.0   \n",
       "2022-04-29 09:30:00 -> 2022-06-29 09:43:00                   0.0   \n",
       "2022-04-29 09:30:00 -> 2022-06-29 09:43:00                   0.0   \n",
       "2022-04-29 09:30:00 -> 2022-06-29 09:43:00                   0.0   \n",
       "2022-04-29 09:30:00 -> 2022-06-29 15:00:00                   0.0   \n",
       "2022-04-29 09:30:00 -> 2022-06-29 15:00:00                   0.0   \n",
       "2022-04-29 09:30:00 -> 2022-06-29 15:00:00                   0.0   \n",
       "2022-04-29 09:30:00 -> 2022-06-29 13:42:00                   0.0   \n",
       "2022-04-29 09:30:00 -> 2022-06-29 15:00:00                   0.0   \n",
       "2022-04-29 09:30:00 -> 2022-06-29 15:00:00                   0.0   \n",
       "2022-04-29 09:30:00 -> 2022-06-29 15:00:00                   0.0   \n",
       "2022-04-29 09:30:00 -> 2022-06-29 15:00:00                   0.0   \n",
       "2022-04-29 09:30:00 -> 2022-06-29 15:00:00                   0.0   \n",
       "2022-04-29 09:30:00 -> 2022-06-29 15:00:00                   0.0   \n",
       "2022-04-29 09:30:00 -> 2022-06-29 15:00:00                   0.0   \n",
       "2022-04-29 09:30:00 -> 2022-06-29 15:00:00                   0.0   \n",
       "2022-04-29 09:30:00 -> 2022-06-29 15:00:00                   0.0   \n",
       "2022-04-29 09:30:00 -> 2022-06-29 15:00:00                   0.0   \n",
       "2022-04-29 09:30:00 -> 2022-06-29 15:00:00                   0.0   \n",
       "2022-04-29 09:30:00 -> 2022-06-29 15:00:00                   0.0   \n",
       "2022-04-29 09:30:00 -> 2022-06-29 15:00:00                   0.0   \n",
       "2022-04-29 09:30:00 -> 2022-06-29 15:00:00                   0.0   \n",
       "2022-04-29 09:30:00 -> 2022-06-29 15:00:00                   0.0   \n",
       "2022-04-29 09:30:00 -> 2022-06-29 15:00:00                   0.0   \n",
       "2022-04-29 09:30:00 -> 2022-06-29 15:00:00                   0.0   \n",
       "2022-04-29 09:30:00 -> 2022-06-29 15:00:00                   0.0   \n",
       "2022-04-29 09:30:00 -> 2022-06-29 15:00:00                   0.0   \n",
       "2022-04-29 09:30:00 -> 2022-06-29 15:00:00                   0.0   \n",
       "2022-04-29 09:30:00 -> 2022-06-29 15:00:00                   0.0   \n",
       "2022-04-29 09:30:00 -> 2022-06-29 15:00:00                   0.0   \n",
       "2022-04-29 09:30:00 -> 2022-06-29 15:00:00                   0.0   \n",
       "2022-04-29 09:30:00 -> 2022-06-29 15:00:00                   0.0   \n",
       "2022-04-29 09:30:00 -> 2022-06-29 15:00:00                   0.0   \n",
       "2022-04-29 09:30:00 -> 2022-06-29 15:00:00                   0.0   \n",
       "2022-04-29 09:30:00 -> 2022-06-29 15:00:00                   0.0   \n",
       "2022-04-29 09:30:00 -> 2022-06-29 15:00:00                   0.0   \n",
       "2022-04-29 09:30:00 -> 2022-06-29 15:00:00                   0.0   \n",
       "2022-04-29 09:30:00 -> 2022-06-29 15:00:00                   0.0   \n",
       "2022-04-29 09:30:00 -> 2022-06-29 15:00:00                   0.0   \n",
       "2022-04-29 09:30:00 -> 2022-06-29 15:00:00                   0.0   \n",
       "2022-04-29 09:30:00 -> 2022-06-29 15:00:00                   0.0   \n",
       "2022-04-29 09:30:00 -> 2022-06-29 15:00:00                   0.0   \n",
       "2022-04-29 09:30:00 -> 2022-06-29 15:00:00                   0.0   \n",
       "2022-04-29 09:30:00 -> 2022-06-29 15:00:00                   0.0   \n",
       "\n",
       "                                            open threshold  close threshold  \\\n",
       "2022-04-29 09:30:00 -> 2022-06-29 09:44:00           0.001            0.000   \n",
       "2022-04-29 09:30:00 -> 2022-06-29 09:44:00           0.002            0.000   \n",
       "2022-04-29 09:30:00 -> 2022-06-29 09:35:00           0.002            0.001   \n",
       "2022-04-29 09:30:00 -> 2022-06-29 09:44:00           0.003            0.000   \n",
       "2022-04-29 09:30:00 -> 2022-06-29 09:35:00           0.003            0.001   \n",
       "2022-04-29 09:30:00 -> 2022-06-29 09:34:00           0.003            0.002   \n",
       "2022-04-29 09:30:00 -> 2022-06-29 09:44:00           0.004            0.000   \n",
       "2022-04-29 09:30:00 -> 2022-06-29 09:35:00           0.004            0.001   \n",
       "2022-04-29 09:30:00 -> 2022-06-29 09:34:00           0.004            0.002   \n",
       "2022-04-29 09:30:00 -> 2022-06-29 09:34:00           0.004            0.003   \n",
       "2022-04-29 09:30:00 -> 2022-06-29 09:44:00           0.005            0.000   \n",
       "2022-04-29 09:30:00 -> 2022-06-29 09:35:00           0.005            0.001   \n",
       "2022-04-29 09:30:00 -> 2022-06-29 09:34:00           0.005            0.002   \n",
       "2022-04-29 09:30:00 -> 2022-06-29 09:34:00           0.005            0.003   \n",
       "2022-04-29 09:30:00 -> 2022-06-29 09:44:00           0.006            0.000   \n",
       "2022-04-29 09:30:00 -> 2022-06-29 09:35:00           0.006            0.001   \n",
       "2022-04-29 09:30:00 -> 2022-06-29 09:34:00           0.006            0.002   \n",
       "2022-04-29 09:30:00 -> 2022-06-29 09:34:00           0.006            0.003   \n",
       "2022-04-29 09:30:00 -> 2022-06-29 09:44:00           0.007            0.000   \n",
       "2022-04-29 09:30:00 -> 2022-06-29 09:35:00           0.007            0.001   \n",
       "2022-04-29 09:30:00 -> 2022-06-29 09:34:00           0.007            0.002   \n",
       "2022-04-29 09:30:00 -> 2022-06-29 09:34:00           0.007            0.003   \n",
       "2022-04-29 09:30:00 -> 2022-06-29 09:44:00           0.008            0.000   \n",
       "2022-04-29 09:30:00 -> 2022-06-29 09:35:00           0.008            0.001   \n",
       "2022-04-29 09:30:00 -> 2022-06-29 09:34:00           0.008            0.002   \n",
       "2022-04-29 09:30:00 -> 2022-06-29 09:34:00           0.008            0.003   \n",
       "2022-04-29 09:30:00 -> 2022-06-29 09:44:00           0.009            0.000   \n",
       "2022-04-29 09:30:00 -> 2022-06-29 09:43:00           0.009            0.001   \n",
       "2022-04-29 09:30:00 -> 2022-06-29 09:43:00           0.009            0.002   \n",
       "2022-04-29 09:30:00 -> 2022-06-29 09:43:00           0.009            0.003   \n",
       "2022-04-29 09:30:00 -> 2022-06-29 09:44:00           0.010            0.000   \n",
       "2022-04-29 09:30:00 -> 2022-06-29 09:43:00           0.010            0.001   \n",
       "2022-04-29 09:30:00 -> 2022-06-29 09:43:00           0.010            0.002   \n",
       "2022-04-29 09:30:00 -> 2022-06-29 09:43:00           0.010            0.003   \n",
       "2022-04-29 09:30:00 -> 2022-06-29 15:00:00           0.011            0.000   \n",
       "2022-04-29 09:30:00 -> 2022-06-29 15:00:00           0.011            0.001   \n",
       "2022-04-29 09:30:00 -> 2022-06-29 15:00:00           0.011            0.002   \n",
       "2022-04-29 09:30:00 -> 2022-06-29 13:42:00           0.011            0.003   \n",
       "2022-04-29 09:30:00 -> 2022-06-29 15:00:00           0.012            0.000   \n",
       "2022-04-29 09:30:00 -> 2022-06-29 15:00:00           0.012            0.001   \n",
       "2022-04-29 09:30:00 -> 2022-06-29 15:00:00           0.012            0.002   \n",
       "2022-04-29 09:30:00 -> 2022-06-29 15:00:00           0.012            0.003   \n",
       "2022-04-29 09:30:00 -> 2022-06-29 15:00:00           0.013            0.000   \n",
       "2022-04-29 09:30:00 -> 2022-06-29 15:00:00           0.013            0.001   \n",
       "2022-04-29 09:30:00 -> 2022-06-29 15:00:00           0.013            0.002   \n",
       "2022-04-29 09:30:00 -> 2022-06-29 15:00:00           0.013            0.003   \n",
       "2022-04-29 09:30:00 -> 2022-06-29 15:00:00           0.014            0.000   \n",
       "2022-04-29 09:30:00 -> 2022-06-29 15:00:00           0.014            0.001   \n",
       "2022-04-29 09:30:00 -> 2022-06-29 15:00:00           0.014            0.002   \n",
       "2022-04-29 09:30:00 -> 2022-06-29 15:00:00           0.014            0.003   \n",
       "2022-04-29 09:30:00 -> 2022-06-29 15:00:00           0.015            0.000   \n",
       "2022-04-29 09:30:00 -> 2022-06-29 15:00:00           0.015            0.001   \n",
       "2022-04-29 09:30:00 -> 2022-06-29 15:00:00           0.015            0.002   \n",
       "2022-04-29 09:30:00 -> 2022-06-29 15:00:00           0.015            0.003   \n",
       "2022-04-29 09:30:00 -> 2022-06-29 15:00:00           0.016            0.000   \n",
       "2022-04-29 09:30:00 -> 2022-06-29 15:00:00           0.016            0.001   \n",
       "2022-04-29 09:30:00 -> 2022-06-29 15:00:00           0.016            0.002   \n",
       "2022-04-29 09:30:00 -> 2022-06-29 15:00:00           0.016            0.003   \n",
       "2022-04-29 09:30:00 -> 2022-06-29 15:00:00           0.017            0.000   \n",
       "2022-04-29 09:30:00 -> 2022-06-29 15:00:00           0.017            0.001   \n",
       "2022-04-29 09:30:00 -> 2022-06-29 15:00:00           0.017            0.002   \n",
       "2022-04-29 09:30:00 -> 2022-06-29 15:00:00           0.017            0.003   \n",
       "2022-04-29 09:30:00 -> 2022-06-29 15:00:00           0.018            0.000   \n",
       "2022-04-29 09:30:00 -> 2022-06-29 15:00:00           0.018            0.001   \n",
       "2022-04-29 09:30:00 -> 2022-06-29 15:00:00           0.018            0.002   \n",
       "2022-04-29 09:30:00 -> 2022-06-29 15:00:00           0.018            0.003   \n",
       "2022-04-29 09:30:00 -> 2022-06-29 15:00:00           0.019            0.000   \n",
       "2022-04-29 09:30:00 -> 2022-06-29 15:00:00           0.019            0.001   \n",
       "2022-04-29 09:30:00 -> 2022-06-29 15:00:00           0.019            0.002   \n",
       "2022-04-29 09:30:00 -> 2022-06-29 15:00:00           0.019            0.003   \n",
       "2022-04-29 09:30:00 -> 2022-06-29 15:00:00           0.020            0.000   \n",
       "2022-04-29 09:30:00 -> 2022-06-29 15:00:00           0.020            0.001   \n",
       "2022-04-29 09:30:00 -> 2022-06-29 15:00:00           0.020            0.002   \n",
       "2022-04-29 09:30:00 -> 2022-06-29 15:00:00           0.020            0.003   \n",
       "\n",
       "                                            win rate  \\\n",
       "2022-04-29 09:30:00 -> 2022-06-29 09:44:00  0.875000   \n",
       "2022-04-29 09:30:00 -> 2022-06-29 09:44:00  0.850000   \n",
       "2022-04-29 09:30:00 -> 2022-06-29 09:35:00  0.900000   \n",
       "2022-04-29 09:30:00 -> 2022-06-29 09:44:00  0.850000   \n",
       "2022-04-29 09:30:00 -> 2022-06-29 09:35:00  0.925000   \n",
       "2022-04-29 09:30:00 -> 2022-06-29 09:34:00  0.875000   \n",
       "2022-04-29 09:30:00 -> 2022-06-29 09:44:00  0.825000   \n",
       "2022-04-29 09:30:00 -> 2022-06-29 09:35:00  0.925000   \n",
       "2022-04-29 09:30:00 -> 2022-06-29 09:34:00  0.925000   \n",
       "2022-04-29 09:30:00 -> 2022-06-29 09:34:00  0.925000   \n",
       "2022-04-29 09:30:00 -> 2022-06-29 09:44:00  0.800000   \n",
       "2022-04-29 09:30:00 -> 2022-06-29 09:35:00  0.900000   \n",
       "2022-04-29 09:30:00 -> 2022-06-29 09:34:00  0.900000   \n",
       "2022-04-29 09:30:00 -> 2022-06-29 09:34:00  0.925000   \n",
       "2022-04-29 09:30:00 -> 2022-06-29 09:44:00  0.725000   \n",
       "2022-04-29 09:30:00 -> 2022-06-29 09:35:00  0.850000   \n",
       "2022-04-29 09:30:00 -> 2022-06-29 09:34:00  0.850000   \n",
       "2022-04-29 09:30:00 -> 2022-06-29 09:34:00  0.900000   \n",
       "2022-04-29 09:30:00 -> 2022-06-29 09:44:00  0.743590   \n",
       "2022-04-29 09:30:00 -> 2022-06-29 09:35:00  0.820513   \n",
       "2022-04-29 09:30:00 -> 2022-06-29 09:34:00  0.846154   \n",
       "2022-04-29 09:30:00 -> 2022-06-29 09:34:00  0.897436   \n",
       "2022-04-29 09:30:00 -> 2022-06-29 09:44:00  0.710526   \n",
       "2022-04-29 09:30:00 -> 2022-06-29 09:35:00  0.763158   \n",
       "2022-04-29 09:30:00 -> 2022-06-29 09:34:00  0.789474   \n",
       "2022-04-29 09:30:00 -> 2022-06-29 09:34:00  0.842105   \n",
       "2022-04-29 09:30:00 -> 2022-06-29 09:44:00  0.631579   \n",
       "2022-04-29 09:30:00 -> 2022-06-29 09:43:00  0.684211   \n",
       "2022-04-29 09:30:00 -> 2022-06-29 09:43:00  0.684211   \n",
       "2022-04-29 09:30:00 -> 2022-06-29 09:43:00  0.736842   \n",
       "2022-04-29 09:30:00 -> 2022-06-29 09:44:00  0.722222   \n",
       "2022-04-29 09:30:00 -> 2022-06-29 09:43:00  0.750000   \n",
       "2022-04-29 09:30:00 -> 2022-06-29 09:43:00  0.750000   \n",
       "2022-04-29 09:30:00 -> 2022-06-29 09:43:00  0.777778   \n",
       "2022-04-29 09:30:00 -> 2022-06-29 15:00:00  0.727273   \n",
       "2022-04-29 09:30:00 -> 2022-06-29 15:00:00  0.757576   \n",
       "2022-04-29 09:30:00 -> 2022-06-29 15:00:00  0.757576   \n",
       "2022-04-29 09:30:00 -> 2022-06-29 13:42:00  0.787879   \n",
       "2022-04-29 09:30:00 -> 2022-06-29 15:00:00  0.757576   \n",
       "2022-04-29 09:30:00 -> 2022-06-29 15:00:00  0.757576   \n",
       "2022-04-29 09:30:00 -> 2022-06-29 15:00:00  0.757576   \n",
       "2022-04-29 09:30:00 -> 2022-06-29 15:00:00  0.757576   \n",
       "2022-04-29 09:30:00 -> 2022-06-29 15:00:00  0.714286   \n",
       "2022-04-29 09:30:00 -> 2022-06-29 15:00:00  0.714286   \n",
       "2022-04-29 09:30:00 -> 2022-06-29 15:00:00  0.714286   \n",
       "2022-04-29 09:30:00 -> 2022-06-29 15:00:00  0.714286   \n",
       "2022-04-29 09:30:00 -> 2022-06-29 15:00:00  0.695652   \n",
       "2022-04-29 09:30:00 -> 2022-06-29 15:00:00  0.695652   \n",
       "2022-04-29 09:30:00 -> 2022-06-29 15:00:00  0.695652   \n",
       "2022-04-29 09:30:00 -> 2022-06-29 15:00:00  0.695652   \n",
       "2022-04-29 09:30:00 -> 2022-06-29 15:00:00  0.650000   \n",
       "2022-04-29 09:30:00 -> 2022-06-29 15:00:00  0.650000   \n",
       "2022-04-29 09:30:00 -> 2022-06-29 15:00:00  0.650000   \n",
       "2022-04-29 09:30:00 -> 2022-06-29 15:00:00  0.650000   \n",
       "2022-04-29 09:30:00 -> 2022-06-29 15:00:00  0.684211   \n",
       "2022-04-29 09:30:00 -> 2022-06-29 15:00:00  0.684211   \n",
       "2022-04-29 09:30:00 -> 2022-06-29 15:00:00  0.684211   \n",
       "2022-04-29 09:30:00 -> 2022-06-29 15:00:00  0.684211   \n",
       "2022-04-29 09:30:00 -> 2022-06-29 15:00:00  0.705882   \n",
       "2022-04-29 09:30:00 -> 2022-06-29 15:00:00  0.705882   \n",
       "2022-04-29 09:30:00 -> 2022-06-29 15:00:00  0.705882   \n",
       "2022-04-29 09:30:00 -> 2022-06-29 15:00:00  0.705882   \n",
       "2022-04-29 09:30:00 -> 2022-06-29 15:00:00  0.642857   \n",
       "2022-04-29 09:30:00 -> 2022-06-29 15:00:00  0.642857   \n",
       "2022-04-29 09:30:00 -> 2022-06-29 15:00:00  0.642857   \n",
       "2022-04-29 09:30:00 -> 2022-06-29 15:00:00  0.642857   \n",
       "2022-04-29 09:30:00 -> 2022-06-29 15:00:00  0.642857   \n",
       "2022-04-29 09:30:00 -> 2022-06-29 15:00:00  0.642857   \n",
       "2022-04-29 09:30:00 -> 2022-06-29 15:00:00  0.642857   \n",
       "2022-04-29 09:30:00 -> 2022-06-29 15:00:00  0.642857   \n",
       "2022-04-29 09:30:00 -> 2022-06-29 15:00:00  0.692308   \n",
       "2022-04-29 09:30:00 -> 2022-06-29 15:00:00  0.692308   \n",
       "2022-04-29 09:30:00 -> 2022-06-29 15:00:00  0.692308   \n",
       "2022-04-29 09:30:00 -> 2022-06-29 15:00:00  0.692308   \n",
       "\n",
       "                                            close by time win/close by time  \\\n",
       "2022-04-29 09:30:00 -> 2022-06-29 09:44:00                         0.444444   \n",
       "2022-04-29 09:30:00 -> 2022-06-29 09:44:00                         0.400000   \n",
       "2022-04-29 09:30:00 -> 2022-06-29 09:35:00                         0.500000   \n",
       "2022-04-29 09:30:00 -> 2022-06-29 09:44:00                         0.400000   \n",
       "2022-04-29 09:30:00 -> 2022-06-29 09:35:00                         0.500000   \n",
       "2022-04-29 09:30:00 -> 2022-06-29 09:34:00                         0.250000   \n",
       "2022-04-29 09:30:00 -> 2022-06-29 09:44:00                         0.363636   \n",
       "2022-04-29 09:30:00 -> 2022-06-29 09:35:00                         0.500000   \n",
       "2022-04-29 09:30:00 -> 2022-06-29 09:34:00                         0.250000   \n",
       "2022-04-29 09:30:00 -> 2022-06-29 09:34:00                         0.250000   \n",
       "2022-04-29 09:30:00 -> 2022-06-29 09:44:00                         0.333333   \n",
       "2022-04-29 09:30:00 -> 2022-06-29 09:35:00                         0.428571   \n",
       "2022-04-29 09:30:00 -> 2022-06-29 09:34:00                         0.200000   \n",
       "2022-04-29 09:30:00 -> 2022-06-29 09:34:00                         0.250000   \n",
       "2022-04-29 09:30:00 -> 2022-06-29 09:44:00                         0.266667   \n",
       "2022-04-29 09:30:00 -> 2022-06-29 09:35:00                         0.333333   \n",
       "2022-04-29 09:30:00 -> 2022-06-29 09:34:00                         0.142857   \n",
       "2022-04-29 09:30:00 -> 2022-06-29 09:34:00                         0.200000   \n",
       "2022-04-29 09:30:00 -> 2022-06-29 09:44:00                         0.333333   \n",
       "2022-04-29 09:30:00 -> 2022-06-29 09:35:00                         0.300000   \n",
       "2022-04-29 09:30:00 -> 2022-06-29 09:34:00                         0.142857   \n",
       "2022-04-29 09:30:00 -> 2022-06-29 09:34:00                         0.200000   \n",
       "2022-04-29 09:30:00 -> 2022-06-29 09:44:00                         0.312500   \n",
       "2022-04-29 09:30:00 -> 2022-06-29 09:35:00                         0.250000   \n",
       "2022-04-29 09:30:00 -> 2022-06-29 09:34:00                         0.111111   \n",
       "2022-04-29 09:30:00 -> 2022-06-29 09:34:00                         0.142857   \n",
       "2022-04-29 09:30:00 -> 2022-06-29 09:44:00                         0.300000   \n",
       "2022-04-29 09:30:00 -> 2022-06-29 09:43:00                         0.250000   \n",
       "2022-04-29 09:30:00 -> 2022-06-29 09:43:00                         0.142857   \n",
       "2022-04-29 09:30:00 -> 2022-06-29 09:43:00                         0.166667   \n",
       "2022-04-29 09:30:00 -> 2022-06-29 09:44:00                         0.473684   \n",
       "2022-04-29 09:30:00 -> 2022-06-29 09:43:00                         0.437500   \n",
       "2022-04-29 09:30:00 -> 2022-06-29 09:43:00                         0.357143   \n",
       "2022-04-29 09:30:00 -> 2022-06-29 09:43:00                         0.384615   \n",
       "2022-04-29 09:30:00 -> 2022-06-29 15:00:00                         0.526316   \n",
       "2022-04-29 09:30:00 -> 2022-06-29 15:00:00                         0.500000   \n",
       "2022-04-29 09:30:00 -> 2022-06-29 15:00:00                         0.428571   \n",
       "2022-04-29 09:30:00 -> 2022-06-29 13:42:00                         0.416667   \n",
       "2022-04-29 09:30:00 -> 2022-06-29 15:00:00                         0.578947   \n",
       "2022-04-29 09:30:00 -> 2022-06-29 15:00:00                         0.529412   \n",
       "2022-04-29 09:30:00 -> 2022-06-29 15:00:00                         0.466667   \n",
       "2022-04-29 09:30:00 -> 2022-06-29 15:00:00                         0.428571   \n",
       "2022-04-29 09:30:00 -> 2022-06-29 15:00:00                         0.529412   \n",
       "2022-04-29 09:30:00 -> 2022-06-29 15:00:00                         0.529412   \n",
       "2022-04-29 09:30:00 -> 2022-06-29 15:00:00                         0.466667   \n",
       "2022-04-29 09:30:00 -> 2022-06-29 15:00:00                         0.466667   \n",
       "2022-04-29 09:30:00 -> 2022-06-29 15:00:00                         0.533333   \n",
       "2022-04-29 09:30:00 -> 2022-06-29 15:00:00                         0.533333   \n",
       "2022-04-29 09:30:00 -> 2022-06-29 15:00:00                         0.461538   \n",
       "2022-04-29 09:30:00 -> 2022-06-29 15:00:00                         0.461538   \n",
       "2022-04-29 09:30:00 -> 2022-06-29 15:00:00                         0.461538   \n",
       "2022-04-29 09:30:00 -> 2022-06-29 15:00:00                         0.461538   \n",
       "2022-04-29 09:30:00 -> 2022-06-29 15:00:00                         0.363636   \n",
       "2022-04-29 09:30:00 -> 2022-06-29 15:00:00                         0.363636   \n",
       "2022-04-29 09:30:00 -> 2022-06-29 15:00:00                         0.538462   \n",
       "2022-04-29 09:30:00 -> 2022-06-29 15:00:00                         0.538462   \n",
       "2022-04-29 09:30:00 -> 2022-06-29 15:00:00                         0.454545   \n",
       "2022-04-29 09:30:00 -> 2022-06-29 15:00:00                         0.454545   \n",
       "2022-04-29 09:30:00 -> 2022-06-29 15:00:00                         0.583333   \n",
       "2022-04-29 09:30:00 -> 2022-06-29 15:00:00                         0.583333   \n",
       "2022-04-29 09:30:00 -> 2022-06-29 15:00:00                         0.500000   \n",
       "2022-04-29 09:30:00 -> 2022-06-29 15:00:00                         0.500000   \n",
       "2022-04-29 09:30:00 -> 2022-06-29 15:00:00                         0.545455   \n",
       "2022-04-29 09:30:00 -> 2022-06-29 15:00:00                         0.545455   \n",
       "2022-04-29 09:30:00 -> 2022-06-29 15:00:00                         0.500000   \n",
       "2022-04-29 09:30:00 -> 2022-06-29 15:00:00                         0.500000   \n",
       "2022-04-29 09:30:00 -> 2022-06-29 15:00:00                         0.545455   \n",
       "2022-04-29 09:30:00 -> 2022-06-29 15:00:00                         0.545455   \n",
       "2022-04-29 09:30:00 -> 2022-06-29 15:00:00                         0.500000   \n",
       "2022-04-29 09:30:00 -> 2022-06-29 15:00:00                         0.500000   \n",
       "2022-04-29 09:30:00 -> 2022-06-29 15:00:00                         0.600000   \n",
       "2022-04-29 09:30:00 -> 2022-06-29 15:00:00                         0.600000   \n",
       "2022-04-29 09:30:00 -> 2022-06-29 15:00:00                         0.555556   \n",
       "2022-04-29 09:30:00 -> 2022-06-29 15:00:00                         0.555556   \n",
       "\n",
       "                                            close by signal win/close by signal  \\\n",
       "2022-04-29 09:30:00 -> 2022-06-29 09:44:00                             1.000000   \n",
       "2022-04-29 09:30:00 -> 2022-06-29 09:44:00                             1.000000   \n",
       "2022-04-29 09:30:00 -> 2022-06-29 09:35:00                             0.970588   \n",
       "2022-04-29 09:30:00 -> 2022-06-29 09:44:00                             1.000000   \n",
       "2022-04-29 09:30:00 -> 2022-06-29 09:35:00                             1.000000   \n",
       "2022-04-29 09:30:00 -> 2022-06-29 09:34:00                             0.944444   \n",
       "2022-04-29 09:30:00 -> 2022-06-29 09:44:00                             1.000000   \n",
       "2022-04-29 09:30:00 -> 2022-06-29 09:35:00                             1.000000   \n",
       "2022-04-29 09:30:00 -> 2022-06-29 09:34:00                             1.000000   \n",
       "2022-04-29 09:30:00 -> 2022-06-29 09:34:00                             1.000000   \n",
       "2022-04-29 09:30:00 -> 2022-06-29 09:44:00                             1.000000   \n",
       "2022-04-29 09:30:00 -> 2022-06-29 09:35:00                             1.000000   \n",
       "2022-04-29 09:30:00 -> 2022-06-29 09:34:00                             1.000000   \n",
       "2022-04-29 09:30:00 -> 2022-06-29 09:34:00                             1.000000   \n",
       "2022-04-29 09:30:00 -> 2022-06-29 09:44:00                             1.000000   \n",
       "2022-04-29 09:30:00 -> 2022-06-29 09:35:00                             1.000000   \n",
       "2022-04-29 09:30:00 -> 2022-06-29 09:34:00                             1.000000   \n",
       "2022-04-29 09:30:00 -> 2022-06-29 09:34:00                             1.000000   \n",
       "2022-04-29 09:30:00 -> 2022-06-29 09:44:00                             1.000000   \n",
       "2022-04-29 09:30:00 -> 2022-06-29 09:35:00                             1.000000   \n",
       "2022-04-29 09:30:00 -> 2022-06-29 09:34:00                             1.000000   \n",
       "2022-04-29 09:30:00 -> 2022-06-29 09:34:00                             1.000000   \n",
       "2022-04-29 09:30:00 -> 2022-06-29 09:44:00                             1.000000   \n",
       "2022-04-29 09:30:00 -> 2022-06-29 09:35:00                             1.000000   \n",
       "2022-04-29 09:30:00 -> 2022-06-29 09:34:00                             1.000000   \n",
       "2022-04-29 09:30:00 -> 2022-06-29 09:34:00                             1.000000   \n",
       "2022-04-29 09:30:00 -> 2022-06-29 09:44:00                             1.000000   \n",
       "2022-04-29 09:30:00 -> 2022-06-29 09:43:00                             1.000000   \n",
       "2022-04-29 09:30:00 -> 2022-06-29 09:43:00                             1.000000   \n",
       "2022-04-29 09:30:00 -> 2022-06-29 09:43:00                             1.000000   \n",
       "2022-04-29 09:30:00 -> 2022-06-29 09:44:00                             1.000000   \n",
       "2022-04-29 09:30:00 -> 2022-06-29 09:43:00                             1.000000   \n",
       "2022-04-29 09:30:00 -> 2022-06-29 09:43:00                             1.000000   \n",
       "2022-04-29 09:30:00 -> 2022-06-29 09:43:00                             1.000000   \n",
       "2022-04-29 09:30:00 -> 2022-06-29 15:00:00                             1.000000   \n",
       "2022-04-29 09:30:00 -> 2022-06-29 15:00:00                             1.000000   \n",
       "2022-04-29 09:30:00 -> 2022-06-29 15:00:00                             1.000000   \n",
       "2022-04-29 09:30:00 -> 2022-06-29 13:42:00                             1.000000   \n",
       "2022-04-29 09:30:00 -> 2022-06-29 15:00:00                             1.000000   \n",
       "2022-04-29 09:30:00 -> 2022-06-29 15:00:00                             1.000000   \n",
       "2022-04-29 09:30:00 -> 2022-06-29 15:00:00                             1.000000   \n",
       "2022-04-29 09:30:00 -> 2022-06-29 15:00:00                             1.000000   \n",
       "2022-04-29 09:30:00 -> 2022-06-29 15:00:00                             1.000000   \n",
       "2022-04-29 09:30:00 -> 2022-06-29 15:00:00                             1.000000   \n",
       "2022-04-29 09:30:00 -> 2022-06-29 15:00:00                             1.000000   \n",
       "2022-04-29 09:30:00 -> 2022-06-29 15:00:00                             1.000000   \n",
       "2022-04-29 09:30:00 -> 2022-06-29 15:00:00                             1.000000   \n",
       "2022-04-29 09:30:00 -> 2022-06-29 15:00:00                             1.000000   \n",
       "2022-04-29 09:30:00 -> 2022-06-29 15:00:00                             1.000000   \n",
       "2022-04-29 09:30:00 -> 2022-06-29 15:00:00                             1.000000   \n",
       "2022-04-29 09:30:00 -> 2022-06-29 15:00:00                             1.000000   \n",
       "2022-04-29 09:30:00 -> 2022-06-29 15:00:00                             1.000000   \n",
       "2022-04-29 09:30:00 -> 2022-06-29 15:00:00                             1.000000   \n",
       "2022-04-29 09:30:00 -> 2022-06-29 15:00:00                             1.000000   \n",
       "2022-04-29 09:30:00 -> 2022-06-29 15:00:00                             1.000000   \n",
       "2022-04-29 09:30:00 -> 2022-06-29 15:00:00                             1.000000   \n",
       "2022-04-29 09:30:00 -> 2022-06-29 15:00:00                             1.000000   \n",
       "2022-04-29 09:30:00 -> 2022-06-29 15:00:00                             1.000000   \n",
       "2022-04-29 09:30:00 -> 2022-06-29 15:00:00                             1.000000   \n",
       "2022-04-29 09:30:00 -> 2022-06-29 15:00:00                             1.000000   \n",
       "2022-04-29 09:30:00 -> 2022-06-29 15:00:00                             1.000000   \n",
       "2022-04-29 09:30:00 -> 2022-06-29 15:00:00                             1.000000   \n",
       "2022-04-29 09:30:00 -> 2022-06-29 15:00:00                             1.000000   \n",
       "2022-04-29 09:30:00 -> 2022-06-29 15:00:00                             1.000000   \n",
       "2022-04-29 09:30:00 -> 2022-06-29 15:00:00                             1.000000   \n",
       "2022-04-29 09:30:00 -> 2022-06-29 15:00:00                             1.000000   \n",
       "2022-04-29 09:30:00 -> 2022-06-29 15:00:00                             1.000000   \n",
       "2022-04-29 09:30:00 -> 2022-06-29 15:00:00                             1.000000   \n",
       "2022-04-29 09:30:00 -> 2022-06-29 15:00:00                             1.000000   \n",
       "2022-04-29 09:30:00 -> 2022-06-29 15:00:00                             1.000000   \n",
       "2022-04-29 09:30:00 -> 2022-06-29 15:00:00                             1.000000   \n",
       "2022-04-29 09:30:00 -> 2022-06-29 15:00:00                             1.000000   \n",
       "2022-04-29 09:30:00 -> 2022-06-29 15:00:00                             1.000000   \n",
       "2022-04-29 09:30:00 -> 2022-06-29 15:00:00                             1.000000   \n",
       "\n",
       "                                            close by time lose/lose  \n",
       "2022-04-29 09:30:00 -> 2022-06-29 09:44:00                     1.00  \n",
       "2022-04-29 09:30:00 -> 2022-06-29 09:44:00                     1.00  \n",
       "2022-04-29 09:30:00 -> 2022-06-29 09:35:00                     0.75  \n",
       "2022-04-29 09:30:00 -> 2022-06-29 09:44:00                     1.00  \n",
       "2022-04-29 09:30:00 -> 2022-06-29 09:35:00                     1.00  \n",
       "2022-04-29 09:30:00 -> 2022-06-29 09:34:00                     0.60  \n",
       "2022-04-29 09:30:00 -> 2022-06-29 09:44:00                     1.00  \n",
       "2022-04-29 09:30:00 -> 2022-06-29 09:35:00                     1.00  \n",
       "2022-04-29 09:30:00 -> 2022-06-29 09:34:00                     1.00  \n",
       "2022-04-29 09:30:00 -> 2022-06-29 09:34:00                     1.00  \n",
       "2022-04-29 09:30:00 -> 2022-06-29 09:44:00                     1.00  \n",
       "2022-04-29 09:30:00 -> 2022-06-29 09:35:00                     1.00  \n",
       "2022-04-29 09:30:00 -> 2022-06-29 09:34:00                     1.00  \n",
       "2022-04-29 09:30:00 -> 2022-06-29 09:34:00                     1.00  \n",
       "2022-04-29 09:30:00 -> 2022-06-29 09:44:00                     1.00  \n",
       "2022-04-29 09:30:00 -> 2022-06-29 09:35:00                     1.00  \n",
       "2022-04-29 09:30:00 -> 2022-06-29 09:34:00                     1.00  \n",
       "2022-04-29 09:30:00 -> 2022-06-29 09:34:00                     1.00  \n",
       "2022-04-29 09:30:00 -> 2022-06-29 09:44:00                     1.00  \n",
       "2022-04-29 09:30:00 -> 2022-06-29 09:35:00                     1.00  \n",
       "2022-04-29 09:30:00 -> 2022-06-29 09:34:00                     1.00  \n",
       "2022-04-29 09:30:00 -> 2022-06-29 09:34:00                     1.00  \n",
       "2022-04-29 09:30:00 -> 2022-06-29 09:44:00                     1.00  \n",
       "2022-04-29 09:30:00 -> 2022-06-29 09:35:00                     1.00  \n",
       "2022-04-29 09:30:00 -> 2022-06-29 09:34:00                     1.00  \n",
       "2022-04-29 09:30:00 -> 2022-06-29 09:34:00                     1.00  \n",
       "2022-04-29 09:30:00 -> 2022-06-29 09:44:00                     1.00  \n",
       "2022-04-29 09:30:00 -> 2022-06-29 09:43:00                     1.00  \n",
       "2022-04-29 09:30:00 -> 2022-06-29 09:43:00                     1.00  \n",
       "2022-04-29 09:30:00 -> 2022-06-29 09:43:00                     1.00  \n",
       "2022-04-29 09:30:00 -> 2022-06-29 09:44:00                     1.00  \n",
       "2022-04-29 09:30:00 -> 2022-06-29 09:43:00                     1.00  \n",
       "2022-04-29 09:30:00 -> 2022-06-29 09:43:00                     1.00  \n",
       "2022-04-29 09:30:00 -> 2022-06-29 09:43:00                     1.00  \n",
       "2022-04-29 09:30:00 -> 2022-06-29 15:00:00                     1.00  \n",
       "2022-04-29 09:30:00 -> 2022-06-29 15:00:00                     1.00  \n",
       "2022-04-29 09:30:00 -> 2022-06-29 15:00:00                     1.00  \n",
       "2022-04-29 09:30:00 -> 2022-06-29 13:42:00                     1.00  \n",
       "2022-04-29 09:30:00 -> 2022-06-29 15:00:00                     1.00  \n",
       "2022-04-29 09:30:00 -> 2022-06-29 15:00:00                     1.00  \n",
       "2022-04-29 09:30:00 -> 2022-06-29 15:00:00                     1.00  \n",
       "2022-04-29 09:30:00 -> 2022-06-29 15:00:00                     1.00  \n",
       "2022-04-29 09:30:00 -> 2022-06-29 15:00:00                     1.00  \n",
       "2022-04-29 09:30:00 -> 2022-06-29 15:00:00                     1.00  \n",
       "2022-04-29 09:30:00 -> 2022-06-29 15:00:00                     1.00  \n",
       "2022-04-29 09:30:00 -> 2022-06-29 15:00:00                     1.00  \n",
       "2022-04-29 09:30:00 -> 2022-06-29 15:00:00                     1.00  \n",
       "2022-04-29 09:30:00 -> 2022-06-29 15:00:00                     1.00  \n",
       "2022-04-29 09:30:00 -> 2022-06-29 15:00:00                     1.00  \n",
       "2022-04-29 09:30:00 -> 2022-06-29 15:00:00                     1.00  \n",
       "2022-04-29 09:30:00 -> 2022-06-29 15:00:00                     1.00  \n",
       "2022-04-29 09:30:00 -> 2022-06-29 15:00:00                     1.00  \n",
       "2022-04-29 09:30:00 -> 2022-06-29 15:00:00                     1.00  \n",
       "2022-04-29 09:30:00 -> 2022-06-29 15:00:00                     1.00  \n",
       "2022-04-29 09:30:00 -> 2022-06-29 15:00:00                     1.00  \n",
       "2022-04-29 09:30:00 -> 2022-06-29 15:00:00                     1.00  \n",
       "2022-04-29 09:30:00 -> 2022-06-29 15:00:00                     1.00  \n",
       "2022-04-29 09:30:00 -> 2022-06-29 15:00:00                     1.00  \n",
       "2022-04-29 09:30:00 -> 2022-06-29 15:00:00                     1.00  \n",
       "2022-04-29 09:30:00 -> 2022-06-29 15:00:00                     1.00  \n",
       "2022-04-29 09:30:00 -> 2022-06-29 15:00:00                     1.00  \n",
       "2022-04-29 09:30:00 -> 2022-06-29 15:00:00                     1.00  \n",
       "2022-04-29 09:30:00 -> 2022-06-29 15:00:00                     1.00  \n",
       "2022-04-29 09:30:00 -> 2022-06-29 15:00:00                     1.00  \n",
       "2022-04-29 09:30:00 -> 2022-06-29 15:00:00                     1.00  \n",
       "2022-04-29 09:30:00 -> 2022-06-29 15:00:00                     1.00  \n",
       "2022-04-29 09:30:00 -> 2022-06-29 15:00:00                     1.00  \n",
       "2022-04-29 09:30:00 -> 2022-06-29 15:00:00                     1.00  \n",
       "2022-04-29 09:30:00 -> 2022-06-29 15:00:00                     1.00  \n",
       "2022-04-29 09:30:00 -> 2022-06-29 15:00:00                     1.00  \n",
       "2022-04-29 09:30:00 -> 2022-06-29 15:00:00                     1.00  \n",
       "2022-04-29 09:30:00 -> 2022-06-29 15:00:00                     1.00  \n",
       "2022-04-29 09:30:00 -> 2022-06-29 15:00:00                     1.00  \n",
       "2022-04-29 09:30:00 -> 2022-06-29 15:00:00                     1.00  "
      ]
     },
     "execution_count": 13,
     "metadata": {},
     "output_type": "execute_result"
    }
   ],
   "source": [
    "tmp_grid_res = df_grid_search_res[['win','lose','total round',\n",
    "                    'close by time','close by signal',\n",
    "                    'close by time win','close by time lose',\n",
    "                    'close by signal win','close by signal lose',\n",
    "                    'open threshold', 'close threshold','win rate'\n",
    "                    ]]\n",
    "\n",
    "tmp_grid_res['close by time win/close by time'] = tmp_grid_res['close by time win']/tmp_grid_res['close by time']\n",
    "tmp_grid_res['close by signal win/close by signal'] = tmp_grid_res['close by signal win']/tmp_grid_res['close by signal']\n",
    "tmp_grid_res['close by time lose/lose'] = tmp_grid_res['close by time lose']/tmp_grid_res['lose']\n",
    "# tmp_df.to_excel('')\n",
    "tmp_grid_res.to_excel('tmp_grid_res.xlsx')\n",
    "tmp_grid_res"
   ]
  },
  {
   "cell_type": "markdown",
   "metadata": {},
   "source": [
    "# return per round surface"
   ]
  },
  {
   "cell_type": "code",
   "execution_count": 14,
   "metadata": {},
   "outputs": [
    {
     "name": "stdout",
     "output_type": "stream",
     "text": [
      "max return per round: \n",
      " 0.000    0.010715\n",
      "0.001    0.010636\n",
      "0.002    0.011176\n",
      "0.003    0.011066\n",
      "dtype: float64\n",
      "min return per round: \n",
      " 0.000    0.003953\n",
      "0.001    0.003951\n",
      "0.002    0.003925\n",
      "0.003    0.003575\n",
      "dtype: float64\n"
     ]
    },
    {
     "data": {
      "text/html": [
       "<div>\n",
       "<style scoped>\n",
       "    .dataframe tbody tr th:only-of-type {\n",
       "        vertical-align: middle;\n",
       "    }\n",
       "\n",
       "    .dataframe tbody tr th {\n",
       "        vertical-align: top;\n",
       "    }\n",
       "\n",
       "    .dataframe thead th {\n",
       "        text-align: right;\n",
       "    }\n",
       "</style>\n",
       "<table border=\"1\" class=\"dataframe\">\n",
       "  <thead>\n",
       "    <tr style=\"text-align: right;\">\n",
       "      <th></th>\n",
       "      <th>0.000</th>\n",
       "      <th>0.001</th>\n",
       "      <th>0.002</th>\n",
       "      <th>0.003</th>\n",
       "    </tr>\n",
       "  </thead>\n",
       "  <tbody>\n",
       "    <tr>\n",
       "      <th>0.001</th>\n",
       "      <td>0.003971</td>\n",
       "      <td>NaN</td>\n",
       "      <td>NaN</td>\n",
       "      <td>NaN</td>\n",
       "    </tr>\n",
       "    <tr>\n",
       "      <th>0.002</th>\n",
       "      <td>0.003953</td>\n",
       "      <td>0.003951</td>\n",
       "      <td>NaN</td>\n",
       "      <td>NaN</td>\n",
       "    </tr>\n",
       "    <tr>\n",
       "      <th>0.003</th>\n",
       "      <td>0.004231</td>\n",
       "      <td>0.004169</td>\n",
       "      <td>0.003925</td>\n",
       "      <td>NaN</td>\n",
       "    </tr>\n",
       "    <tr>\n",
       "      <th>0.004</th>\n",
       "      <td>0.004694</td>\n",
       "      <td>0.004811</td>\n",
       "      <td>0.004525</td>\n",
       "      <td>0.003575</td>\n",
       "    </tr>\n",
       "    <tr>\n",
       "      <th>0.005</th>\n",
       "      <td>0.004569</td>\n",
       "      <td>0.004680</td>\n",
       "      <td>0.004426</td>\n",
       "      <td>0.003667</td>\n",
       "    </tr>\n",
       "    <tr>\n",
       "      <th>0.006</th>\n",
       "      <td>0.004283</td>\n",
       "      <td>0.004571</td>\n",
       "      <td>0.004258</td>\n",
       "      <td>0.004096</td>\n",
       "    </tr>\n",
       "    <tr>\n",
       "      <th>0.007</th>\n",
       "      <td>0.004931</td>\n",
       "      <td>0.005106</td>\n",
       "      <td>0.005018</td>\n",
       "      <td>0.004830</td>\n",
       "    </tr>\n",
       "    <tr>\n",
       "      <th>0.008</th>\n",
       "      <td>0.005061</td>\n",
       "      <td>0.005000</td>\n",
       "      <td>0.004917</td>\n",
       "      <td>0.004716</td>\n",
       "    </tr>\n",
       "    <tr>\n",
       "      <th>0.009</th>\n",
       "      <td>0.004182</td>\n",
       "      <td>0.004186</td>\n",
       "      <td>0.003954</td>\n",
       "      <td>0.003886</td>\n",
       "    </tr>\n",
       "    <tr>\n",
       "      <th>0.010</th>\n",
       "      <td>0.005215</td>\n",
       "      <td>0.005042</td>\n",
       "      <td>0.004811</td>\n",
       "      <td>0.004498</td>\n",
       "    </tr>\n",
       "    <tr>\n",
       "      <th>0.011</th>\n",
       "      <td>0.005489</td>\n",
       "      <td>0.005405</td>\n",
       "      <td>0.005197</td>\n",
       "      <td>0.005423</td>\n",
       "    </tr>\n",
       "    <tr>\n",
       "      <th>0.012</th>\n",
       "      <td>0.006469</td>\n",
       "      <td>0.006036</td>\n",
       "      <td>0.005897</td>\n",
       "      <td>0.005633</td>\n",
       "    </tr>\n",
       "    <tr>\n",
       "      <th>0.013</th>\n",
       "      <td>0.006608</td>\n",
       "      <td>0.006415</td>\n",
       "      <td>0.006332</td>\n",
       "      <td>0.005863</td>\n",
       "    </tr>\n",
       "    <tr>\n",
       "      <th>0.014</th>\n",
       "      <td>0.006874</td>\n",
       "      <td>0.006762</td>\n",
       "      <td>0.006722</td>\n",
       "      <td>0.006247</td>\n",
       "    </tr>\n",
       "    <tr>\n",
       "      <th>0.015</th>\n",
       "      <td>0.006446</td>\n",
       "      <td>0.006317</td>\n",
       "      <td>0.006430</td>\n",
       "      <td>0.005967</td>\n",
       "    </tr>\n",
       "    <tr>\n",
       "      <th>0.016</th>\n",
       "      <td>0.007374</td>\n",
       "      <td>0.007238</td>\n",
       "      <td>0.007357</td>\n",
       "      <td>0.007136</td>\n",
       "    </tr>\n",
       "    <tr>\n",
       "      <th>0.017</th>\n",
       "      <td>0.008150</td>\n",
       "      <td>0.008049</td>\n",
       "      <td>0.008261</td>\n",
       "      <td>0.008014</td>\n",
       "    </tr>\n",
       "    <tr>\n",
       "      <th>0.018</th>\n",
       "      <td>0.007214</td>\n",
       "      <td>0.007142</td>\n",
       "      <td>0.007641</td>\n",
       "      <td>0.007533</td>\n",
       "    </tr>\n",
       "    <tr>\n",
       "      <th>0.019</th>\n",
       "      <td>0.009359</td>\n",
       "      <td>0.009285</td>\n",
       "      <td>0.009787</td>\n",
       "      <td>0.009685</td>\n",
       "    </tr>\n",
       "    <tr>\n",
       "      <th>0.020</th>\n",
       "      <td>0.010715</td>\n",
       "      <td>0.010636</td>\n",
       "      <td>0.011176</td>\n",
       "      <td>0.011066</td>\n",
       "    </tr>\n",
       "  </tbody>\n",
       "</table>\n",
       "</div>"
      ],
      "text/plain": [
       "          0.000     0.001     0.002     0.003\n",
       "0.001  0.003971       NaN       NaN       NaN\n",
       "0.002  0.003953  0.003951       NaN       NaN\n",
       "0.003  0.004231  0.004169  0.003925       NaN\n",
       "0.004  0.004694  0.004811  0.004525  0.003575\n",
       "0.005  0.004569  0.004680  0.004426  0.003667\n",
       "0.006  0.004283  0.004571  0.004258  0.004096\n",
       "0.007  0.004931  0.005106  0.005018  0.004830\n",
       "0.008  0.005061  0.005000  0.004917  0.004716\n",
       "0.009  0.004182  0.004186  0.003954  0.003886\n",
       "0.010  0.005215  0.005042  0.004811  0.004498\n",
       "0.011  0.005489  0.005405  0.005197  0.005423\n",
       "0.012  0.006469  0.006036  0.005897  0.005633\n",
       "0.013  0.006608  0.006415  0.006332  0.005863\n",
       "0.014  0.006874  0.006762  0.006722  0.006247\n",
       "0.015  0.006446  0.006317  0.006430  0.005967\n",
       "0.016  0.007374  0.007238  0.007357  0.007136\n",
       "0.017  0.008150  0.008049  0.008261  0.008014\n",
       "0.018  0.007214  0.007142  0.007641  0.007533\n",
       "0.019  0.009359  0.009285  0.009787  0.009685\n",
       "0.020  0.010715  0.010636  0.011176  0.011066"
      ]
     },
     "execution_count": 14,
     "metadata": {},
     "output_type": "execute_result"
    }
   ],
   "source": [
    "df_return_per_round = pd.DataFrame([])\n",
    "for index,row in df_grid_search_res.iterrows():\n",
    "    open_threshold = row['open threshold']\n",
    "    close_threshold = row['close threshold']\n",
    "    df_return_per_round.loc[open_threshold,close_threshold] = row['return per round']\n",
    "print('max return per round: \\n',df_return_per_round.max())\n",
    "print('min return per round: \\n',df_return_per_round.min())\n",
    "df_return_per_round"
   ]
  },
  {
   "cell_type": "code",
   "execution_count": 15,
   "metadata": {},
   "outputs": [
    {
     "data": {
      "application/vnd.plotly.v1+json": {
       "config": {
        "plotlyServerURL": "https://plot.ly"
       },
       "data": [
        {
         "type": "surface",
         "x": [
          0,
          0.001,
          0.002,
          0.003
         ],
         "y": [
          0.001,
          0.002,
          0.003,
          0.004,
          0.005,
          0.006,
          0.007,
          0.008,
          0.009,
          0.01,
          0.011,
          0.012,
          0.013,
          0.014,
          0.015,
          0.016,
          0.017,
          0.018,
          0.019,
          0.02
         ],
         "z": [
          [
           0.003971145672544798,
           null,
           null,
           null
          ],
          [
           0.003953014235314841,
           0.003951361069232795,
           null,
           null
          ],
          [
           0.004230516215878806,
           0.004169183276591621,
           0.0039248783172275495,
           null
          ],
          [
           0.004693925476958869,
           0.004811353902515983,
           0.004525403109998985,
           0.0035750240634797223
          ],
          [
           0.004569064660600407,
           0.004680491877902272,
           0.0044259267583835376,
           0.0036666075960935024
          ],
          [
           0.004282939421687933,
           0.004570688048179716,
           0.00425799193744832,
           0.0040957670049067245
          ],
          [
           0.004931129011924903,
           0.00510574297585055,
           0.0050183242279078005,
           0.0048304325527048384
          ],
          [
           0.005061251471889598,
           0.004999620508591187,
           0.004917442341170193,
           0.004715986762172293
          ],
          [
           0.00418155206427743,
           0.00418647563759426,
           0.003953611109005154,
           0.0038858021068411837
          ],
          [
           0.005215261525023918,
           0.005042324415685446,
           0.004810507364356977,
           0.004498422715493722
          ],
          [
           0.005489097757201028,
           0.005405095677064486,
           0.005196980049288474,
           0.005422709882675415
          ],
          [
           0.006469316643227673,
           0.006035874833158545,
           0.005897467116989817,
           0.005632670706472795
          ],
          [
           0.0066082619247922825,
           0.00641526797746113,
           0.00633159105566073,
           0.005862629936777304
          ],
          [
           0.006873767872813031,
           0.006761631825425104,
           0.006721622331163899,
           0.006247144005695787
          ],
          [
           0.006446167348437564,
           0.006317164865164306,
           0.006429912328911,
           0.005966876097671531
          ],
          [
           0.007374196040683947,
           0.007238240923449968,
           0.007356845277194502,
           0.007135551807528325
          ],
          [
           0.008149912807537203,
           0.008049055578582218,
           0.008261427940607061,
           0.008014306658134542
          ],
          [
           0.007213536049875445,
           0.007141605110010758,
           0.007640692197899389,
           0.00753290795717045
          ],
          [
           0.009358541527180856,
           0.009285183896814595,
           0.009786553956164625,
           0.009684715401315516
          ],
          [
           0.010714660805786834,
           0.010635847467946066,
           0.011175784454938407,
           0.011066112165100905
          ]
         ]
        }
       ],
       "layout": {
        "autosize": false,
        "height": 600,
        "margin": {
         "b": 65,
         "l": 65,
         "r": 50,
         "t": 90
        },
        "scene": {
         "xaxis": {
          "title": {
           "text": "X-close-threshold"
          }
         },
         "yaxis": {
          "title": {
           "text": "Y-open-threshold"
          }
         }
        },
        "template": {
         "data": {
          "bar": [
           {
            "error_x": {
             "color": "#2a3f5f"
            },
            "error_y": {
             "color": "#2a3f5f"
            },
            "marker": {
             "line": {
              "color": "#E5ECF6",
              "width": 0.5
             },
             "pattern": {
              "fillmode": "overlay",
              "size": 10,
              "solidity": 0.2
             }
            },
            "type": "bar"
           }
          ],
          "barpolar": [
           {
            "marker": {
             "line": {
              "color": "#E5ECF6",
              "width": 0.5
             },
             "pattern": {
              "fillmode": "overlay",
              "size": 10,
              "solidity": 0.2
             }
            },
            "type": "barpolar"
           }
          ],
          "carpet": [
           {
            "aaxis": {
             "endlinecolor": "#2a3f5f",
             "gridcolor": "white",
             "linecolor": "white",
             "minorgridcolor": "white",
             "startlinecolor": "#2a3f5f"
            },
            "baxis": {
             "endlinecolor": "#2a3f5f",
             "gridcolor": "white",
             "linecolor": "white",
             "minorgridcolor": "white",
             "startlinecolor": "#2a3f5f"
            },
            "type": "carpet"
           }
          ],
          "choropleth": [
           {
            "colorbar": {
             "outlinewidth": 0,
             "ticks": ""
            },
            "type": "choropleth"
           }
          ],
          "contour": [
           {
            "colorbar": {
             "outlinewidth": 0,
             "ticks": ""
            },
            "colorscale": [
             [
              0,
              "#0d0887"
             ],
             [
              0.1111111111111111,
              "#46039f"
             ],
             [
              0.2222222222222222,
              "#7201a8"
             ],
             [
              0.3333333333333333,
              "#9c179e"
             ],
             [
              0.4444444444444444,
              "#bd3786"
             ],
             [
              0.5555555555555556,
              "#d8576b"
             ],
             [
              0.6666666666666666,
              "#ed7953"
             ],
             [
              0.7777777777777778,
              "#fb9f3a"
             ],
             [
              0.8888888888888888,
              "#fdca26"
             ],
             [
              1,
              "#f0f921"
             ]
            ],
            "type": "contour"
           }
          ],
          "contourcarpet": [
           {
            "colorbar": {
             "outlinewidth": 0,
             "ticks": ""
            },
            "type": "contourcarpet"
           }
          ],
          "heatmap": [
           {
            "colorbar": {
             "outlinewidth": 0,
             "ticks": ""
            },
            "colorscale": [
             [
              0,
              "#0d0887"
             ],
             [
              0.1111111111111111,
              "#46039f"
             ],
             [
              0.2222222222222222,
              "#7201a8"
             ],
             [
              0.3333333333333333,
              "#9c179e"
             ],
             [
              0.4444444444444444,
              "#bd3786"
             ],
             [
              0.5555555555555556,
              "#d8576b"
             ],
             [
              0.6666666666666666,
              "#ed7953"
             ],
             [
              0.7777777777777778,
              "#fb9f3a"
             ],
             [
              0.8888888888888888,
              "#fdca26"
             ],
             [
              1,
              "#f0f921"
             ]
            ],
            "type": "heatmap"
           }
          ],
          "heatmapgl": [
           {
            "colorbar": {
             "outlinewidth": 0,
             "ticks": ""
            },
            "colorscale": [
             [
              0,
              "#0d0887"
             ],
             [
              0.1111111111111111,
              "#46039f"
             ],
             [
              0.2222222222222222,
              "#7201a8"
             ],
             [
              0.3333333333333333,
              "#9c179e"
             ],
             [
              0.4444444444444444,
              "#bd3786"
             ],
             [
              0.5555555555555556,
              "#d8576b"
             ],
             [
              0.6666666666666666,
              "#ed7953"
             ],
             [
              0.7777777777777778,
              "#fb9f3a"
             ],
             [
              0.8888888888888888,
              "#fdca26"
             ],
             [
              1,
              "#f0f921"
             ]
            ],
            "type": "heatmapgl"
           }
          ],
          "histogram": [
           {
            "marker": {
             "pattern": {
              "fillmode": "overlay",
              "size": 10,
              "solidity": 0.2
             }
            },
            "type": "histogram"
           }
          ],
          "histogram2d": [
           {
            "colorbar": {
             "outlinewidth": 0,
             "ticks": ""
            },
            "colorscale": [
             [
              0,
              "#0d0887"
             ],
             [
              0.1111111111111111,
              "#46039f"
             ],
             [
              0.2222222222222222,
              "#7201a8"
             ],
             [
              0.3333333333333333,
              "#9c179e"
             ],
             [
              0.4444444444444444,
              "#bd3786"
             ],
             [
              0.5555555555555556,
              "#d8576b"
             ],
             [
              0.6666666666666666,
              "#ed7953"
             ],
             [
              0.7777777777777778,
              "#fb9f3a"
             ],
             [
              0.8888888888888888,
              "#fdca26"
             ],
             [
              1,
              "#f0f921"
             ]
            ],
            "type": "histogram2d"
           }
          ],
          "histogram2dcontour": [
           {
            "colorbar": {
             "outlinewidth": 0,
             "ticks": ""
            },
            "colorscale": [
             [
              0,
              "#0d0887"
             ],
             [
              0.1111111111111111,
              "#46039f"
             ],
             [
              0.2222222222222222,
              "#7201a8"
             ],
             [
              0.3333333333333333,
              "#9c179e"
             ],
             [
              0.4444444444444444,
              "#bd3786"
             ],
             [
              0.5555555555555556,
              "#d8576b"
             ],
             [
              0.6666666666666666,
              "#ed7953"
             ],
             [
              0.7777777777777778,
              "#fb9f3a"
             ],
             [
              0.8888888888888888,
              "#fdca26"
             ],
             [
              1,
              "#f0f921"
             ]
            ],
            "type": "histogram2dcontour"
           }
          ],
          "mesh3d": [
           {
            "colorbar": {
             "outlinewidth": 0,
             "ticks": ""
            },
            "type": "mesh3d"
           }
          ],
          "parcoords": [
           {
            "line": {
             "colorbar": {
              "outlinewidth": 0,
              "ticks": ""
             }
            },
            "type": "parcoords"
           }
          ],
          "pie": [
           {
            "automargin": true,
            "type": "pie"
           }
          ],
          "scatter": [
           {
            "fillpattern": {
             "fillmode": "overlay",
             "size": 10,
             "solidity": 0.2
            },
            "type": "scatter"
           }
          ],
          "scatter3d": [
           {
            "line": {
             "colorbar": {
              "outlinewidth": 0,
              "ticks": ""
             }
            },
            "marker": {
             "colorbar": {
              "outlinewidth": 0,
              "ticks": ""
             }
            },
            "type": "scatter3d"
           }
          ],
          "scattercarpet": [
           {
            "marker": {
             "colorbar": {
              "outlinewidth": 0,
              "ticks": ""
             }
            },
            "type": "scattercarpet"
           }
          ],
          "scattergeo": [
           {
            "marker": {
             "colorbar": {
              "outlinewidth": 0,
              "ticks": ""
             }
            },
            "type": "scattergeo"
           }
          ],
          "scattergl": [
           {
            "marker": {
             "colorbar": {
              "outlinewidth": 0,
              "ticks": ""
             }
            },
            "type": "scattergl"
           }
          ],
          "scattermapbox": [
           {
            "marker": {
             "colorbar": {
              "outlinewidth": 0,
              "ticks": ""
             }
            },
            "type": "scattermapbox"
           }
          ],
          "scatterpolar": [
           {
            "marker": {
             "colorbar": {
              "outlinewidth": 0,
              "ticks": ""
             }
            },
            "type": "scatterpolar"
           }
          ],
          "scatterpolargl": [
           {
            "marker": {
             "colorbar": {
              "outlinewidth": 0,
              "ticks": ""
             }
            },
            "type": "scatterpolargl"
           }
          ],
          "scatterternary": [
           {
            "marker": {
             "colorbar": {
              "outlinewidth": 0,
              "ticks": ""
             }
            },
            "type": "scatterternary"
           }
          ],
          "surface": [
           {
            "colorbar": {
             "outlinewidth": 0,
             "ticks": ""
            },
            "colorscale": [
             [
              0,
              "#0d0887"
             ],
             [
              0.1111111111111111,
              "#46039f"
             ],
             [
              0.2222222222222222,
              "#7201a8"
             ],
             [
              0.3333333333333333,
              "#9c179e"
             ],
             [
              0.4444444444444444,
              "#bd3786"
             ],
             [
              0.5555555555555556,
              "#d8576b"
             ],
             [
              0.6666666666666666,
              "#ed7953"
             ],
             [
              0.7777777777777778,
              "#fb9f3a"
             ],
             [
              0.8888888888888888,
              "#fdca26"
             ],
             [
              1,
              "#f0f921"
             ]
            ],
            "type": "surface"
           }
          ],
          "table": [
           {
            "cells": {
             "fill": {
              "color": "#EBF0F8"
             },
             "line": {
              "color": "white"
             }
            },
            "header": {
             "fill": {
              "color": "#C8D4E3"
             },
             "line": {
              "color": "white"
             }
            },
            "type": "table"
           }
          ]
         },
         "layout": {
          "annotationdefaults": {
           "arrowcolor": "#2a3f5f",
           "arrowhead": 0,
           "arrowwidth": 1
          },
          "autotypenumbers": "strict",
          "coloraxis": {
           "colorbar": {
            "outlinewidth": 0,
            "ticks": ""
           }
          },
          "colorscale": {
           "diverging": [
            [
             0,
             "#8e0152"
            ],
            [
             0.1,
             "#c51b7d"
            ],
            [
             0.2,
             "#de77ae"
            ],
            [
             0.3,
             "#f1b6da"
            ],
            [
             0.4,
             "#fde0ef"
            ],
            [
             0.5,
             "#f7f7f7"
            ],
            [
             0.6,
             "#e6f5d0"
            ],
            [
             0.7,
             "#b8e186"
            ],
            [
             0.8,
             "#7fbc41"
            ],
            [
             0.9,
             "#4d9221"
            ],
            [
             1,
             "#276419"
            ]
           ],
           "sequential": [
            [
             0,
             "#0d0887"
            ],
            [
             0.1111111111111111,
             "#46039f"
            ],
            [
             0.2222222222222222,
             "#7201a8"
            ],
            [
             0.3333333333333333,
             "#9c179e"
            ],
            [
             0.4444444444444444,
             "#bd3786"
            ],
            [
             0.5555555555555556,
             "#d8576b"
            ],
            [
             0.6666666666666666,
             "#ed7953"
            ],
            [
             0.7777777777777778,
             "#fb9f3a"
            ],
            [
             0.8888888888888888,
             "#fdca26"
            ],
            [
             1,
             "#f0f921"
            ]
           ],
           "sequentialminus": [
            [
             0,
             "#0d0887"
            ],
            [
             0.1111111111111111,
             "#46039f"
            ],
            [
             0.2222222222222222,
             "#7201a8"
            ],
            [
             0.3333333333333333,
             "#9c179e"
            ],
            [
             0.4444444444444444,
             "#bd3786"
            ],
            [
             0.5555555555555556,
             "#d8576b"
            ],
            [
             0.6666666666666666,
             "#ed7953"
            ],
            [
             0.7777777777777778,
             "#fb9f3a"
            ],
            [
             0.8888888888888888,
             "#fdca26"
            ],
            [
             1,
             "#f0f921"
            ]
           ]
          },
          "colorway": [
           "#636efa",
           "#EF553B",
           "#00cc96",
           "#ab63fa",
           "#FFA15A",
           "#19d3f3",
           "#FF6692",
           "#B6E880",
           "#FF97FF",
           "#FECB52"
          ],
          "font": {
           "color": "#2a3f5f"
          },
          "geo": {
           "bgcolor": "white",
           "lakecolor": "white",
           "landcolor": "#E5ECF6",
           "showlakes": true,
           "showland": true,
           "subunitcolor": "white"
          },
          "hoverlabel": {
           "align": "left"
          },
          "hovermode": "closest",
          "mapbox": {
           "style": "light"
          },
          "paper_bgcolor": "white",
          "plot_bgcolor": "#E5ECF6",
          "polar": {
           "angularaxis": {
            "gridcolor": "white",
            "linecolor": "white",
            "ticks": ""
           },
           "bgcolor": "#E5ECF6",
           "radialaxis": {
            "gridcolor": "white",
            "linecolor": "white",
            "ticks": ""
           }
          },
          "scene": {
           "xaxis": {
            "backgroundcolor": "#E5ECF6",
            "gridcolor": "white",
            "gridwidth": 2,
            "linecolor": "white",
            "showbackground": true,
            "ticks": "",
            "zerolinecolor": "white"
           },
           "yaxis": {
            "backgroundcolor": "#E5ECF6",
            "gridcolor": "white",
            "gridwidth": 2,
            "linecolor": "white",
            "showbackground": true,
            "ticks": "",
            "zerolinecolor": "white"
           },
           "zaxis": {
            "backgroundcolor": "#E5ECF6",
            "gridcolor": "white",
            "gridwidth": 2,
            "linecolor": "white",
            "showbackground": true,
            "ticks": "",
            "zerolinecolor": "white"
           }
          },
          "shapedefaults": {
           "line": {
            "color": "#2a3f5f"
           }
          },
          "ternary": {
           "aaxis": {
            "gridcolor": "white",
            "linecolor": "white",
            "ticks": ""
           },
           "baxis": {
            "gridcolor": "white",
            "linecolor": "white",
            "ticks": ""
           },
           "bgcolor": "#E5ECF6",
           "caxis": {
            "gridcolor": "white",
            "linecolor": "white",
            "ticks": ""
           }
          },
          "title": {
           "x": 0.05
          },
          "xaxis": {
           "automargin": true,
           "gridcolor": "white",
           "linecolor": "white",
           "ticks": "",
           "title": {
            "standoff": 15
           },
           "zerolinecolor": "white",
           "zerolinewidth": 2
          },
          "yaxis": {
           "automargin": true,
           "gridcolor": "white",
           "linecolor": "white",
           "ticks": "",
           "title": {
            "standoff": 15
           },
           "zerolinecolor": "white",
           "zerolinewidth": 2
          }
         }
        },
        "title": {
         "text": "return per round"
        },
        "width": 700
       }
      }
     },
     "metadata": {},
     "output_type": "display_data"
    }
   ],
   "source": [
    "import plotly.graph_objects as go\n",
    "\n",
    "x_data = df_return_per_round.columns.to_list() # close threshold\n",
    "\n",
    "y_data = df_return_per_round.index.to_list() # open threshold\n",
    "\n",
    "z_data = df_return_per_round.copy(deep=True) # return per round\n",
    "\n",
    "fig = go.Figure(data=[go.Surface(z=z_data.values,x=x_data,y=y_data)])\n",
    "\n",
    "fig.update_layout(title=\"return per round\", # 标题\n",
    "                  autosize=False,  # 尺度自动缩放\n",
    "                  width=700,  # 长宽\n",
    "                  height=600,\n",
    "                  margin=dict(l=65,r=50,b=65,t=90),  # 4个位置的距离\n",
    "                  scene=dict(xaxis_title='X-close-threshold',yaxis_title='Y-open-threshold')\n",
    "                 )\n",
    "\n",
    "fig.show()"
   ]
  },
  {
   "cell_type": "markdown",
   "metadata": {},
   "source": [
    "# win rate surface"
   ]
  },
  {
   "cell_type": "code",
   "execution_count": 16,
   "metadata": {},
   "outputs": [
    {
     "name": "stdout",
     "output_type": "stream",
     "text": [
      "max win rate: \n",
      " 0.000    0.875\n",
      "0.001    0.925\n",
      "0.002    0.925\n",
      "0.003    0.925\n",
      "dtype: float64\n",
      "min win rate: \n",
      " 0.000    0.631579\n",
      "0.001    0.642857\n",
      "0.002    0.642857\n",
      "0.003    0.642857\n",
      "dtype: float64\n"
     ]
    },
    {
     "data": {
      "text/html": [
       "<div>\n",
       "<style scoped>\n",
       "    .dataframe tbody tr th:only-of-type {\n",
       "        vertical-align: middle;\n",
       "    }\n",
       "\n",
       "    .dataframe tbody tr th {\n",
       "        vertical-align: top;\n",
       "    }\n",
       "\n",
       "    .dataframe thead th {\n",
       "        text-align: right;\n",
       "    }\n",
       "</style>\n",
       "<table border=\"1\" class=\"dataframe\">\n",
       "  <thead>\n",
       "    <tr style=\"text-align: right;\">\n",
       "      <th></th>\n",
       "      <th>0.000</th>\n",
       "      <th>0.001</th>\n",
       "      <th>0.002</th>\n",
       "      <th>0.003</th>\n",
       "    </tr>\n",
       "  </thead>\n",
       "  <tbody>\n",
       "    <tr>\n",
       "      <th>0.001</th>\n",
       "      <td>0.875000</td>\n",
       "      <td>NaN</td>\n",
       "      <td>NaN</td>\n",
       "      <td>NaN</td>\n",
       "    </tr>\n",
       "    <tr>\n",
       "      <th>0.002</th>\n",
       "      <td>0.850000</td>\n",
       "      <td>0.900000</td>\n",
       "      <td>NaN</td>\n",
       "      <td>NaN</td>\n",
       "    </tr>\n",
       "    <tr>\n",
       "      <th>0.003</th>\n",
       "      <td>0.850000</td>\n",
       "      <td>0.925000</td>\n",
       "      <td>0.875000</td>\n",
       "      <td>NaN</td>\n",
       "    </tr>\n",
       "    <tr>\n",
       "      <th>0.004</th>\n",
       "      <td>0.825000</td>\n",
       "      <td>0.925000</td>\n",
       "      <td>0.925000</td>\n",
       "      <td>0.925000</td>\n",
       "    </tr>\n",
       "    <tr>\n",
       "      <th>0.005</th>\n",
       "      <td>0.800000</td>\n",
       "      <td>0.900000</td>\n",
       "      <td>0.900000</td>\n",
       "      <td>0.925000</td>\n",
       "    </tr>\n",
       "    <tr>\n",
       "      <th>0.006</th>\n",
       "      <td>0.725000</td>\n",
       "      <td>0.850000</td>\n",
       "      <td>0.850000</td>\n",
       "      <td>0.900000</td>\n",
       "    </tr>\n",
       "    <tr>\n",
       "      <th>0.007</th>\n",
       "      <td>0.743590</td>\n",
       "      <td>0.820513</td>\n",
       "      <td>0.846154</td>\n",
       "      <td>0.897436</td>\n",
       "    </tr>\n",
       "    <tr>\n",
       "      <th>0.008</th>\n",
       "      <td>0.710526</td>\n",
       "      <td>0.763158</td>\n",
       "      <td>0.789474</td>\n",
       "      <td>0.842105</td>\n",
       "    </tr>\n",
       "    <tr>\n",
       "      <th>0.009</th>\n",
       "      <td>0.631579</td>\n",
       "      <td>0.684211</td>\n",
       "      <td>0.684211</td>\n",
       "      <td>0.736842</td>\n",
       "    </tr>\n",
       "    <tr>\n",
       "      <th>0.010</th>\n",
       "      <td>0.722222</td>\n",
       "      <td>0.750000</td>\n",
       "      <td>0.750000</td>\n",
       "      <td>0.777778</td>\n",
       "    </tr>\n",
       "    <tr>\n",
       "      <th>0.011</th>\n",
       "      <td>0.727273</td>\n",
       "      <td>0.757576</td>\n",
       "      <td>0.757576</td>\n",
       "      <td>0.787879</td>\n",
       "    </tr>\n",
       "    <tr>\n",
       "      <th>0.012</th>\n",
       "      <td>0.757576</td>\n",
       "      <td>0.757576</td>\n",
       "      <td>0.757576</td>\n",
       "      <td>0.757576</td>\n",
       "    </tr>\n",
       "    <tr>\n",
       "      <th>0.013</th>\n",
       "      <td>0.714286</td>\n",
       "      <td>0.714286</td>\n",
       "      <td>0.714286</td>\n",
       "      <td>0.714286</td>\n",
       "    </tr>\n",
       "    <tr>\n",
       "      <th>0.014</th>\n",
       "      <td>0.695652</td>\n",
       "      <td>0.695652</td>\n",
       "      <td>0.695652</td>\n",
       "      <td>0.695652</td>\n",
       "    </tr>\n",
       "    <tr>\n",
       "      <th>0.015</th>\n",
       "      <td>0.650000</td>\n",
       "      <td>0.650000</td>\n",
       "      <td>0.650000</td>\n",
       "      <td>0.650000</td>\n",
       "    </tr>\n",
       "    <tr>\n",
       "      <th>0.016</th>\n",
       "      <td>0.684211</td>\n",
       "      <td>0.684211</td>\n",
       "      <td>0.684211</td>\n",
       "      <td>0.684211</td>\n",
       "    </tr>\n",
       "    <tr>\n",
       "      <th>0.017</th>\n",
       "      <td>0.705882</td>\n",
       "      <td>0.705882</td>\n",
       "      <td>0.705882</td>\n",
       "      <td>0.705882</td>\n",
       "    </tr>\n",
       "    <tr>\n",
       "      <th>0.018</th>\n",
       "      <td>0.642857</td>\n",
       "      <td>0.642857</td>\n",
       "      <td>0.642857</td>\n",
       "      <td>0.642857</td>\n",
       "    </tr>\n",
       "    <tr>\n",
       "      <th>0.019</th>\n",
       "      <td>0.642857</td>\n",
       "      <td>0.642857</td>\n",
       "      <td>0.642857</td>\n",
       "      <td>0.642857</td>\n",
       "    </tr>\n",
       "    <tr>\n",
       "      <th>0.020</th>\n",
       "      <td>0.692308</td>\n",
       "      <td>0.692308</td>\n",
       "      <td>0.692308</td>\n",
       "      <td>0.692308</td>\n",
       "    </tr>\n",
       "  </tbody>\n",
       "</table>\n",
       "</div>"
      ],
      "text/plain": [
       "          0.000     0.001     0.002     0.003\n",
       "0.001  0.875000       NaN       NaN       NaN\n",
       "0.002  0.850000  0.900000       NaN       NaN\n",
       "0.003  0.850000  0.925000  0.875000       NaN\n",
       "0.004  0.825000  0.925000  0.925000  0.925000\n",
       "0.005  0.800000  0.900000  0.900000  0.925000\n",
       "0.006  0.725000  0.850000  0.850000  0.900000\n",
       "0.007  0.743590  0.820513  0.846154  0.897436\n",
       "0.008  0.710526  0.763158  0.789474  0.842105\n",
       "0.009  0.631579  0.684211  0.684211  0.736842\n",
       "0.010  0.722222  0.750000  0.750000  0.777778\n",
       "0.011  0.727273  0.757576  0.757576  0.787879\n",
       "0.012  0.757576  0.757576  0.757576  0.757576\n",
       "0.013  0.714286  0.714286  0.714286  0.714286\n",
       "0.014  0.695652  0.695652  0.695652  0.695652\n",
       "0.015  0.650000  0.650000  0.650000  0.650000\n",
       "0.016  0.684211  0.684211  0.684211  0.684211\n",
       "0.017  0.705882  0.705882  0.705882  0.705882\n",
       "0.018  0.642857  0.642857  0.642857  0.642857\n",
       "0.019  0.642857  0.642857  0.642857  0.642857\n",
       "0.020  0.692308  0.692308  0.692308  0.692308"
      ]
     },
     "execution_count": 16,
     "metadata": {},
     "output_type": "execute_result"
    }
   ],
   "source": [
    "df_win_rate = pd.DataFrame([])\n",
    "for index,row in df_grid_search_res.iterrows():\n",
    "    open_threshold = row['open threshold']\n",
    "    close_threshold = row['close threshold']\n",
    "    df_win_rate.loc[open_threshold,close_threshold] = row['win rate']\n",
    "print('max win rate: \\n',df_win_rate.max())\n",
    "print('min win rate: \\n',df_win_rate.min())    \n",
    "df_win_rate"
   ]
  },
  {
   "cell_type": "code",
   "execution_count": 17,
   "metadata": {},
   "outputs": [
    {
     "data": {
      "application/vnd.plotly.v1+json": {
       "config": {
        "plotlyServerURL": "https://plot.ly"
       },
       "data": [
        {
         "type": "surface",
         "x": [
          0,
          0.001,
          0.002,
          0.003
         ],
         "y": [
          0.001,
          0.002,
          0.003,
          0.004,
          0.005,
          0.006,
          0.007,
          0.008,
          0.009,
          0.01,
          0.011,
          0.012,
          0.013,
          0.014,
          0.015,
          0.016,
          0.017,
          0.018,
          0.019,
          0.02
         ],
         "z": [
          [
           0.875,
           null,
           null,
           null
          ],
          [
           0.85,
           0.9,
           null,
           null
          ],
          [
           0.85,
           0.925,
           0.875,
           null
          ],
          [
           0.825,
           0.925,
           0.925,
           0.925
          ],
          [
           0.8,
           0.9,
           0.9,
           0.925
          ],
          [
           0.725,
           0.85,
           0.85,
           0.9
          ],
          [
           0.7435897435897436,
           0.8205128205128205,
           0.8461538461538461,
           0.8974358974358975
          ],
          [
           0.7105263157894737,
           0.7631578947368421,
           0.7894736842105263,
           0.8421052631578947
          ],
          [
           0.631578947368421,
           0.6842105263157895,
           0.6842105263157895,
           0.7368421052631579
          ],
          [
           0.7222222222222222,
           0.75,
           0.75,
           0.7777777777777778
          ],
          [
           0.7272727272727273,
           0.7575757575757576,
           0.7575757575757576,
           0.7878787878787878
          ],
          [
           0.7575757575757576,
           0.7575757575757576,
           0.7575757575757576,
           0.7575757575757576
          ],
          [
           0.7142857142857143,
           0.7142857142857143,
           0.7142857142857143,
           0.7142857142857143
          ],
          [
           0.6956521739130435,
           0.6956521739130435,
           0.6956521739130435,
           0.6956521739130435
          ],
          [
           0.65,
           0.65,
           0.65,
           0.65
          ],
          [
           0.6842105263157895,
           0.6842105263157895,
           0.6842105263157895,
           0.6842105263157895
          ],
          [
           0.7058823529411765,
           0.7058823529411765,
           0.7058823529411765,
           0.7058823529411765
          ],
          [
           0.6428571428571429,
           0.6428571428571429,
           0.6428571428571429,
           0.6428571428571429
          ],
          [
           0.6428571428571429,
           0.6428571428571429,
           0.6428571428571429,
           0.6428571428571429
          ],
          [
           0.6923076923076923,
           0.6923076923076923,
           0.6923076923076923,
           0.6923076923076923
          ]
         ]
        }
       ],
       "layout": {
        "autosize": false,
        "height": 600,
        "margin": {
         "b": 65,
         "l": 65,
         "r": 50,
         "t": 90
        },
        "scene": {
         "xaxis": {
          "title": {
           "text": "X-close-threshold"
          }
         },
         "yaxis": {
          "title": {
           "text": "Y-open-threshold"
          }
         }
        },
        "template": {
         "data": {
          "bar": [
           {
            "error_x": {
             "color": "#2a3f5f"
            },
            "error_y": {
             "color": "#2a3f5f"
            },
            "marker": {
             "line": {
              "color": "#E5ECF6",
              "width": 0.5
             },
             "pattern": {
              "fillmode": "overlay",
              "size": 10,
              "solidity": 0.2
             }
            },
            "type": "bar"
           }
          ],
          "barpolar": [
           {
            "marker": {
             "line": {
              "color": "#E5ECF6",
              "width": 0.5
             },
             "pattern": {
              "fillmode": "overlay",
              "size": 10,
              "solidity": 0.2
             }
            },
            "type": "barpolar"
           }
          ],
          "carpet": [
           {
            "aaxis": {
             "endlinecolor": "#2a3f5f",
             "gridcolor": "white",
             "linecolor": "white",
             "minorgridcolor": "white",
             "startlinecolor": "#2a3f5f"
            },
            "baxis": {
             "endlinecolor": "#2a3f5f",
             "gridcolor": "white",
             "linecolor": "white",
             "minorgridcolor": "white",
             "startlinecolor": "#2a3f5f"
            },
            "type": "carpet"
           }
          ],
          "choropleth": [
           {
            "colorbar": {
             "outlinewidth": 0,
             "ticks": ""
            },
            "type": "choropleth"
           }
          ],
          "contour": [
           {
            "colorbar": {
             "outlinewidth": 0,
             "ticks": ""
            },
            "colorscale": [
             [
              0,
              "#0d0887"
             ],
             [
              0.1111111111111111,
              "#46039f"
             ],
             [
              0.2222222222222222,
              "#7201a8"
             ],
             [
              0.3333333333333333,
              "#9c179e"
             ],
             [
              0.4444444444444444,
              "#bd3786"
             ],
             [
              0.5555555555555556,
              "#d8576b"
             ],
             [
              0.6666666666666666,
              "#ed7953"
             ],
             [
              0.7777777777777778,
              "#fb9f3a"
             ],
             [
              0.8888888888888888,
              "#fdca26"
             ],
             [
              1,
              "#f0f921"
             ]
            ],
            "type": "contour"
           }
          ],
          "contourcarpet": [
           {
            "colorbar": {
             "outlinewidth": 0,
             "ticks": ""
            },
            "type": "contourcarpet"
           }
          ],
          "heatmap": [
           {
            "colorbar": {
             "outlinewidth": 0,
             "ticks": ""
            },
            "colorscale": [
             [
              0,
              "#0d0887"
             ],
             [
              0.1111111111111111,
              "#46039f"
             ],
             [
              0.2222222222222222,
              "#7201a8"
             ],
             [
              0.3333333333333333,
              "#9c179e"
             ],
             [
              0.4444444444444444,
              "#bd3786"
             ],
             [
              0.5555555555555556,
              "#d8576b"
             ],
             [
              0.6666666666666666,
              "#ed7953"
             ],
             [
              0.7777777777777778,
              "#fb9f3a"
             ],
             [
              0.8888888888888888,
              "#fdca26"
             ],
             [
              1,
              "#f0f921"
             ]
            ],
            "type": "heatmap"
           }
          ],
          "heatmapgl": [
           {
            "colorbar": {
             "outlinewidth": 0,
             "ticks": ""
            },
            "colorscale": [
             [
              0,
              "#0d0887"
             ],
             [
              0.1111111111111111,
              "#46039f"
             ],
             [
              0.2222222222222222,
              "#7201a8"
             ],
             [
              0.3333333333333333,
              "#9c179e"
             ],
             [
              0.4444444444444444,
              "#bd3786"
             ],
             [
              0.5555555555555556,
              "#d8576b"
             ],
             [
              0.6666666666666666,
              "#ed7953"
             ],
             [
              0.7777777777777778,
              "#fb9f3a"
             ],
             [
              0.8888888888888888,
              "#fdca26"
             ],
             [
              1,
              "#f0f921"
             ]
            ],
            "type": "heatmapgl"
           }
          ],
          "histogram": [
           {
            "marker": {
             "pattern": {
              "fillmode": "overlay",
              "size": 10,
              "solidity": 0.2
             }
            },
            "type": "histogram"
           }
          ],
          "histogram2d": [
           {
            "colorbar": {
             "outlinewidth": 0,
             "ticks": ""
            },
            "colorscale": [
             [
              0,
              "#0d0887"
             ],
             [
              0.1111111111111111,
              "#46039f"
             ],
             [
              0.2222222222222222,
              "#7201a8"
             ],
             [
              0.3333333333333333,
              "#9c179e"
             ],
             [
              0.4444444444444444,
              "#bd3786"
             ],
             [
              0.5555555555555556,
              "#d8576b"
             ],
             [
              0.6666666666666666,
              "#ed7953"
             ],
             [
              0.7777777777777778,
              "#fb9f3a"
             ],
             [
              0.8888888888888888,
              "#fdca26"
             ],
             [
              1,
              "#f0f921"
             ]
            ],
            "type": "histogram2d"
           }
          ],
          "histogram2dcontour": [
           {
            "colorbar": {
             "outlinewidth": 0,
             "ticks": ""
            },
            "colorscale": [
             [
              0,
              "#0d0887"
             ],
             [
              0.1111111111111111,
              "#46039f"
             ],
             [
              0.2222222222222222,
              "#7201a8"
             ],
             [
              0.3333333333333333,
              "#9c179e"
             ],
             [
              0.4444444444444444,
              "#bd3786"
             ],
             [
              0.5555555555555556,
              "#d8576b"
             ],
             [
              0.6666666666666666,
              "#ed7953"
             ],
             [
              0.7777777777777778,
              "#fb9f3a"
             ],
             [
              0.8888888888888888,
              "#fdca26"
             ],
             [
              1,
              "#f0f921"
             ]
            ],
            "type": "histogram2dcontour"
           }
          ],
          "mesh3d": [
           {
            "colorbar": {
             "outlinewidth": 0,
             "ticks": ""
            },
            "type": "mesh3d"
           }
          ],
          "parcoords": [
           {
            "line": {
             "colorbar": {
              "outlinewidth": 0,
              "ticks": ""
             }
            },
            "type": "parcoords"
           }
          ],
          "pie": [
           {
            "automargin": true,
            "type": "pie"
           }
          ],
          "scatter": [
           {
            "fillpattern": {
             "fillmode": "overlay",
             "size": 10,
             "solidity": 0.2
            },
            "type": "scatter"
           }
          ],
          "scatter3d": [
           {
            "line": {
             "colorbar": {
              "outlinewidth": 0,
              "ticks": ""
             }
            },
            "marker": {
             "colorbar": {
              "outlinewidth": 0,
              "ticks": ""
             }
            },
            "type": "scatter3d"
           }
          ],
          "scattercarpet": [
           {
            "marker": {
             "colorbar": {
              "outlinewidth": 0,
              "ticks": ""
             }
            },
            "type": "scattercarpet"
           }
          ],
          "scattergeo": [
           {
            "marker": {
             "colorbar": {
              "outlinewidth": 0,
              "ticks": ""
             }
            },
            "type": "scattergeo"
           }
          ],
          "scattergl": [
           {
            "marker": {
             "colorbar": {
              "outlinewidth": 0,
              "ticks": ""
             }
            },
            "type": "scattergl"
           }
          ],
          "scattermapbox": [
           {
            "marker": {
             "colorbar": {
              "outlinewidth": 0,
              "ticks": ""
             }
            },
            "type": "scattermapbox"
           }
          ],
          "scatterpolar": [
           {
            "marker": {
             "colorbar": {
              "outlinewidth": 0,
              "ticks": ""
             }
            },
            "type": "scatterpolar"
           }
          ],
          "scatterpolargl": [
           {
            "marker": {
             "colorbar": {
              "outlinewidth": 0,
              "ticks": ""
             }
            },
            "type": "scatterpolargl"
           }
          ],
          "scatterternary": [
           {
            "marker": {
             "colorbar": {
              "outlinewidth": 0,
              "ticks": ""
             }
            },
            "type": "scatterternary"
           }
          ],
          "surface": [
           {
            "colorbar": {
             "outlinewidth": 0,
             "ticks": ""
            },
            "colorscale": [
             [
              0,
              "#0d0887"
             ],
             [
              0.1111111111111111,
              "#46039f"
             ],
             [
              0.2222222222222222,
              "#7201a8"
             ],
             [
              0.3333333333333333,
              "#9c179e"
             ],
             [
              0.4444444444444444,
              "#bd3786"
             ],
             [
              0.5555555555555556,
              "#d8576b"
             ],
             [
              0.6666666666666666,
              "#ed7953"
             ],
             [
              0.7777777777777778,
              "#fb9f3a"
             ],
             [
              0.8888888888888888,
              "#fdca26"
             ],
             [
              1,
              "#f0f921"
             ]
            ],
            "type": "surface"
           }
          ],
          "table": [
           {
            "cells": {
             "fill": {
              "color": "#EBF0F8"
             },
             "line": {
              "color": "white"
             }
            },
            "header": {
             "fill": {
              "color": "#C8D4E3"
             },
             "line": {
              "color": "white"
             }
            },
            "type": "table"
           }
          ]
         },
         "layout": {
          "annotationdefaults": {
           "arrowcolor": "#2a3f5f",
           "arrowhead": 0,
           "arrowwidth": 1
          },
          "autotypenumbers": "strict",
          "coloraxis": {
           "colorbar": {
            "outlinewidth": 0,
            "ticks": ""
           }
          },
          "colorscale": {
           "diverging": [
            [
             0,
             "#8e0152"
            ],
            [
             0.1,
             "#c51b7d"
            ],
            [
             0.2,
             "#de77ae"
            ],
            [
             0.3,
             "#f1b6da"
            ],
            [
             0.4,
             "#fde0ef"
            ],
            [
             0.5,
             "#f7f7f7"
            ],
            [
             0.6,
             "#e6f5d0"
            ],
            [
             0.7,
             "#b8e186"
            ],
            [
             0.8,
             "#7fbc41"
            ],
            [
             0.9,
             "#4d9221"
            ],
            [
             1,
             "#276419"
            ]
           ],
           "sequential": [
            [
             0,
             "#0d0887"
            ],
            [
             0.1111111111111111,
             "#46039f"
            ],
            [
             0.2222222222222222,
             "#7201a8"
            ],
            [
             0.3333333333333333,
             "#9c179e"
            ],
            [
             0.4444444444444444,
             "#bd3786"
            ],
            [
             0.5555555555555556,
             "#d8576b"
            ],
            [
             0.6666666666666666,
             "#ed7953"
            ],
            [
             0.7777777777777778,
             "#fb9f3a"
            ],
            [
             0.8888888888888888,
             "#fdca26"
            ],
            [
             1,
             "#f0f921"
            ]
           ],
           "sequentialminus": [
            [
             0,
             "#0d0887"
            ],
            [
             0.1111111111111111,
             "#46039f"
            ],
            [
             0.2222222222222222,
             "#7201a8"
            ],
            [
             0.3333333333333333,
             "#9c179e"
            ],
            [
             0.4444444444444444,
             "#bd3786"
            ],
            [
             0.5555555555555556,
             "#d8576b"
            ],
            [
             0.6666666666666666,
             "#ed7953"
            ],
            [
             0.7777777777777778,
             "#fb9f3a"
            ],
            [
             0.8888888888888888,
             "#fdca26"
            ],
            [
             1,
             "#f0f921"
            ]
           ]
          },
          "colorway": [
           "#636efa",
           "#EF553B",
           "#00cc96",
           "#ab63fa",
           "#FFA15A",
           "#19d3f3",
           "#FF6692",
           "#B6E880",
           "#FF97FF",
           "#FECB52"
          ],
          "font": {
           "color": "#2a3f5f"
          },
          "geo": {
           "bgcolor": "white",
           "lakecolor": "white",
           "landcolor": "#E5ECF6",
           "showlakes": true,
           "showland": true,
           "subunitcolor": "white"
          },
          "hoverlabel": {
           "align": "left"
          },
          "hovermode": "closest",
          "mapbox": {
           "style": "light"
          },
          "paper_bgcolor": "white",
          "plot_bgcolor": "#E5ECF6",
          "polar": {
           "angularaxis": {
            "gridcolor": "white",
            "linecolor": "white",
            "ticks": ""
           },
           "bgcolor": "#E5ECF6",
           "radialaxis": {
            "gridcolor": "white",
            "linecolor": "white",
            "ticks": ""
           }
          },
          "scene": {
           "xaxis": {
            "backgroundcolor": "#E5ECF6",
            "gridcolor": "white",
            "gridwidth": 2,
            "linecolor": "white",
            "showbackground": true,
            "ticks": "",
            "zerolinecolor": "white"
           },
           "yaxis": {
            "backgroundcolor": "#E5ECF6",
            "gridcolor": "white",
            "gridwidth": 2,
            "linecolor": "white",
            "showbackground": true,
            "ticks": "",
            "zerolinecolor": "white"
           },
           "zaxis": {
            "backgroundcolor": "#E5ECF6",
            "gridcolor": "white",
            "gridwidth": 2,
            "linecolor": "white",
            "showbackground": true,
            "ticks": "",
            "zerolinecolor": "white"
           }
          },
          "shapedefaults": {
           "line": {
            "color": "#2a3f5f"
           }
          },
          "ternary": {
           "aaxis": {
            "gridcolor": "white",
            "linecolor": "white",
            "ticks": ""
           },
           "baxis": {
            "gridcolor": "white",
            "linecolor": "white",
            "ticks": ""
           },
           "bgcolor": "#E5ECF6",
           "caxis": {
            "gridcolor": "white",
            "linecolor": "white",
            "ticks": ""
           }
          },
          "title": {
           "x": 0.05
          },
          "xaxis": {
           "automargin": true,
           "gridcolor": "white",
           "linecolor": "white",
           "ticks": "",
           "title": {
            "standoff": 15
           },
           "zerolinecolor": "white",
           "zerolinewidth": 2
          },
          "yaxis": {
           "automargin": true,
           "gridcolor": "white",
           "linecolor": "white",
           "ticks": "",
           "title": {
            "standoff": 15
           },
           "zerolinecolor": "white",
           "zerolinewidth": 2
          }
         }
        },
        "title": {
         "text": "win rate"
        },
        "width": 700
       }
      }
     },
     "metadata": {},
     "output_type": "display_data"
    }
   ],
   "source": [
    "import plotly.graph_objects as go\n",
    "\n",
    "x_data = df_win_rate.columns.to_list() # close threshold\n",
    "\n",
    "y_data = df_win_rate.index.to_list() # open threshold\n",
    "\n",
    "z_data = df_win_rate.copy(deep=True) # win rate\n",
    "\n",
    "fig = go.Figure(data=[go.Surface(z=z_data.values,x=x_data,y=y_data)])\n",
    "\n",
    "fig.update_layout(title=\"win rate\", # 标题\n",
    "                  autosize=False,  # 尺度自动缩放\n",
    "                  width=700,  # 长宽\n",
    "                  height=600,\n",
    "                  margin=dict(l=65,r=50,b=65,t=90),  # 4个位置的距离\n",
    "                  scene=dict(xaxis_title='X-close-threshold',yaxis_title='Y-open-threshold')\n",
    "                 )\n",
    "\n",
    "fig.show()"
   ]
  },
  {
   "cell_type": "markdown",
   "metadata": {},
   "source": [
    "# total round surface"
   ]
  },
  {
   "cell_type": "code",
   "execution_count": 18,
   "metadata": {},
   "outputs": [
    {
     "name": "stdout",
     "output_type": "stream",
     "text": [
      "max total round: \n",
      " 0.000    40.0\n",
      "0.001    40.0\n",
      "0.002    40.0\n",
      "0.003    40.0\n",
      "dtype: float64\n",
      "min total round: \n",
      " 0.000    13.0\n",
      "0.001    13.0\n",
      "0.002    13.0\n",
      "0.003    13.0\n",
      "dtype: float64\n"
     ]
    },
    {
     "data": {
      "text/html": [
       "<div>\n",
       "<style scoped>\n",
       "    .dataframe tbody tr th:only-of-type {\n",
       "        vertical-align: middle;\n",
       "    }\n",
       "\n",
       "    .dataframe tbody tr th {\n",
       "        vertical-align: top;\n",
       "    }\n",
       "\n",
       "    .dataframe thead th {\n",
       "        text-align: right;\n",
       "    }\n",
       "</style>\n",
       "<table border=\"1\" class=\"dataframe\">\n",
       "  <thead>\n",
       "    <tr style=\"text-align: right;\">\n",
       "      <th></th>\n",
       "      <th>0.000</th>\n",
       "      <th>0.001</th>\n",
       "      <th>0.002</th>\n",
       "      <th>0.003</th>\n",
       "    </tr>\n",
       "  </thead>\n",
       "  <tbody>\n",
       "    <tr>\n",
       "      <th>0.001</th>\n",
       "      <td>40.0</td>\n",
       "      <td>NaN</td>\n",
       "      <td>NaN</td>\n",
       "      <td>NaN</td>\n",
       "    </tr>\n",
       "    <tr>\n",
       "      <th>0.002</th>\n",
       "      <td>40.0</td>\n",
       "      <td>40.0</td>\n",
       "      <td>NaN</td>\n",
       "      <td>NaN</td>\n",
       "    </tr>\n",
       "    <tr>\n",
       "      <th>0.003</th>\n",
       "      <td>40.0</td>\n",
       "      <td>40.0</td>\n",
       "      <td>40.0</td>\n",
       "      <td>NaN</td>\n",
       "    </tr>\n",
       "    <tr>\n",
       "      <th>0.004</th>\n",
       "      <td>40.0</td>\n",
       "      <td>40.0</td>\n",
       "      <td>40.0</td>\n",
       "      <td>40.0</td>\n",
       "    </tr>\n",
       "    <tr>\n",
       "      <th>0.005</th>\n",
       "      <td>40.0</td>\n",
       "      <td>40.0</td>\n",
       "      <td>40.0</td>\n",
       "      <td>40.0</td>\n",
       "    </tr>\n",
       "    <tr>\n",
       "      <th>0.006</th>\n",
       "      <td>40.0</td>\n",
       "      <td>40.0</td>\n",
       "      <td>40.0</td>\n",
       "      <td>40.0</td>\n",
       "    </tr>\n",
       "    <tr>\n",
       "      <th>0.007</th>\n",
       "      <td>39.0</td>\n",
       "      <td>39.0</td>\n",
       "      <td>39.0</td>\n",
       "      <td>39.0</td>\n",
       "    </tr>\n",
       "    <tr>\n",
       "      <th>0.008</th>\n",
       "      <td>38.0</td>\n",
       "      <td>38.0</td>\n",
       "      <td>38.0</td>\n",
       "      <td>38.0</td>\n",
       "    </tr>\n",
       "    <tr>\n",
       "      <th>0.009</th>\n",
       "      <td>38.0</td>\n",
       "      <td>38.0</td>\n",
       "      <td>38.0</td>\n",
       "      <td>38.0</td>\n",
       "    </tr>\n",
       "    <tr>\n",
       "      <th>0.010</th>\n",
       "      <td>36.0</td>\n",
       "      <td>36.0</td>\n",
       "      <td>36.0</td>\n",
       "      <td>36.0</td>\n",
       "    </tr>\n",
       "    <tr>\n",
       "      <th>0.011</th>\n",
       "      <td>33.0</td>\n",
       "      <td>33.0</td>\n",
       "      <td>33.0</td>\n",
       "      <td>33.0</td>\n",
       "    </tr>\n",
       "    <tr>\n",
       "      <th>0.012</th>\n",
       "      <td>33.0</td>\n",
       "      <td>33.0</td>\n",
       "      <td>33.0</td>\n",
       "      <td>33.0</td>\n",
       "    </tr>\n",
       "    <tr>\n",
       "      <th>0.013</th>\n",
       "      <td>28.0</td>\n",
       "      <td>28.0</td>\n",
       "      <td>28.0</td>\n",
       "      <td>28.0</td>\n",
       "    </tr>\n",
       "    <tr>\n",
       "      <th>0.014</th>\n",
       "      <td>23.0</td>\n",
       "      <td>23.0</td>\n",
       "      <td>23.0</td>\n",
       "      <td>23.0</td>\n",
       "    </tr>\n",
       "    <tr>\n",
       "      <th>0.015</th>\n",
       "      <td>20.0</td>\n",
       "      <td>20.0</td>\n",
       "      <td>20.0</td>\n",
       "      <td>20.0</td>\n",
       "    </tr>\n",
       "    <tr>\n",
       "      <th>0.016</th>\n",
       "      <td>19.0</td>\n",
       "      <td>19.0</td>\n",
       "      <td>19.0</td>\n",
       "      <td>19.0</td>\n",
       "    </tr>\n",
       "    <tr>\n",
       "      <th>0.017</th>\n",
       "      <td>17.0</td>\n",
       "      <td>17.0</td>\n",
       "      <td>17.0</td>\n",
       "      <td>17.0</td>\n",
       "    </tr>\n",
       "    <tr>\n",
       "      <th>0.018</th>\n",
       "      <td>14.0</td>\n",
       "      <td>14.0</td>\n",
       "      <td>14.0</td>\n",
       "      <td>14.0</td>\n",
       "    </tr>\n",
       "    <tr>\n",
       "      <th>0.019</th>\n",
       "      <td>14.0</td>\n",
       "      <td>14.0</td>\n",
       "      <td>14.0</td>\n",
       "      <td>14.0</td>\n",
       "    </tr>\n",
       "    <tr>\n",
       "      <th>0.020</th>\n",
       "      <td>13.0</td>\n",
       "      <td>13.0</td>\n",
       "      <td>13.0</td>\n",
       "      <td>13.0</td>\n",
       "    </tr>\n",
       "  </tbody>\n",
       "</table>\n",
       "</div>"
      ],
      "text/plain": [
       "       0.000  0.001  0.002  0.003\n",
       "0.001   40.0    NaN    NaN    NaN\n",
       "0.002   40.0   40.0    NaN    NaN\n",
       "0.003   40.0   40.0   40.0    NaN\n",
       "0.004   40.0   40.0   40.0   40.0\n",
       "0.005   40.0   40.0   40.0   40.0\n",
       "0.006   40.0   40.0   40.0   40.0\n",
       "0.007   39.0   39.0   39.0   39.0\n",
       "0.008   38.0   38.0   38.0   38.0\n",
       "0.009   38.0   38.0   38.0   38.0\n",
       "0.010   36.0   36.0   36.0   36.0\n",
       "0.011   33.0   33.0   33.0   33.0\n",
       "0.012   33.0   33.0   33.0   33.0\n",
       "0.013   28.0   28.0   28.0   28.0\n",
       "0.014   23.0   23.0   23.0   23.0\n",
       "0.015   20.0   20.0   20.0   20.0\n",
       "0.016   19.0   19.0   19.0   19.0\n",
       "0.017   17.0   17.0   17.0   17.0\n",
       "0.018   14.0   14.0   14.0   14.0\n",
       "0.019   14.0   14.0   14.0   14.0\n",
       "0.020   13.0   13.0   13.0   13.0"
      ]
     },
     "execution_count": 18,
     "metadata": {},
     "output_type": "execute_result"
    }
   ],
   "source": [
    "df_total_round = pd.DataFrame([])\n",
    "for index,row in df_grid_search_res.iterrows():\n",
    "    open_threshold = row['open threshold']\n",
    "    close_threshold = row['close threshold']\n",
    "    df_total_round.loc[open_threshold,close_threshold] = row['total round']\n",
    "print('max total round: \\n',df_total_round.max())\n",
    "print('min total round: \\n',df_total_round.min())    \n",
    "df_total_round"
   ]
  },
  {
   "cell_type": "code",
   "execution_count": 19,
   "metadata": {},
   "outputs": [
    {
     "data": {
      "application/vnd.plotly.v1+json": {
       "config": {
        "plotlyServerURL": "https://plot.ly"
       },
       "data": [
        {
         "type": "surface",
         "x": [
          0,
          0.001,
          0.002,
          0.003
         ],
         "y": [
          0.001,
          0.002,
          0.003,
          0.004,
          0.005,
          0.006,
          0.007,
          0.008,
          0.009,
          0.01,
          0.011,
          0.012,
          0.013,
          0.014,
          0.015,
          0.016,
          0.017,
          0.018,
          0.019,
          0.02
         ],
         "z": [
          [
           40,
           null,
           null,
           null
          ],
          [
           40,
           40,
           null,
           null
          ],
          [
           40,
           40,
           40,
           null
          ],
          [
           40,
           40,
           40,
           40
          ],
          [
           40,
           40,
           40,
           40
          ],
          [
           40,
           40,
           40,
           40
          ],
          [
           39,
           39,
           39,
           39
          ],
          [
           38,
           38,
           38,
           38
          ],
          [
           38,
           38,
           38,
           38
          ],
          [
           36,
           36,
           36,
           36
          ],
          [
           33,
           33,
           33,
           33
          ],
          [
           33,
           33,
           33,
           33
          ],
          [
           28,
           28,
           28,
           28
          ],
          [
           23,
           23,
           23,
           23
          ],
          [
           20,
           20,
           20,
           20
          ],
          [
           19,
           19,
           19,
           19
          ],
          [
           17,
           17,
           17,
           17
          ],
          [
           14,
           14,
           14,
           14
          ],
          [
           14,
           14,
           14,
           14
          ],
          [
           13,
           13,
           13,
           13
          ]
         ]
        }
       ],
       "layout": {
        "autosize": false,
        "height": 600,
        "margin": {
         "b": 65,
         "l": 65,
         "r": 50,
         "t": 90
        },
        "scene": {
         "xaxis": {
          "title": {
           "text": "X-close-threshold"
          }
         },
         "yaxis": {
          "title": {
           "text": "Y-open-threshold"
          }
         }
        },
        "template": {
         "data": {
          "bar": [
           {
            "error_x": {
             "color": "#2a3f5f"
            },
            "error_y": {
             "color": "#2a3f5f"
            },
            "marker": {
             "line": {
              "color": "#E5ECF6",
              "width": 0.5
             },
             "pattern": {
              "fillmode": "overlay",
              "size": 10,
              "solidity": 0.2
             }
            },
            "type": "bar"
           }
          ],
          "barpolar": [
           {
            "marker": {
             "line": {
              "color": "#E5ECF6",
              "width": 0.5
             },
             "pattern": {
              "fillmode": "overlay",
              "size": 10,
              "solidity": 0.2
             }
            },
            "type": "barpolar"
           }
          ],
          "carpet": [
           {
            "aaxis": {
             "endlinecolor": "#2a3f5f",
             "gridcolor": "white",
             "linecolor": "white",
             "minorgridcolor": "white",
             "startlinecolor": "#2a3f5f"
            },
            "baxis": {
             "endlinecolor": "#2a3f5f",
             "gridcolor": "white",
             "linecolor": "white",
             "minorgridcolor": "white",
             "startlinecolor": "#2a3f5f"
            },
            "type": "carpet"
           }
          ],
          "choropleth": [
           {
            "colorbar": {
             "outlinewidth": 0,
             "ticks": ""
            },
            "type": "choropleth"
           }
          ],
          "contour": [
           {
            "colorbar": {
             "outlinewidth": 0,
             "ticks": ""
            },
            "colorscale": [
             [
              0,
              "#0d0887"
             ],
             [
              0.1111111111111111,
              "#46039f"
             ],
             [
              0.2222222222222222,
              "#7201a8"
             ],
             [
              0.3333333333333333,
              "#9c179e"
             ],
             [
              0.4444444444444444,
              "#bd3786"
             ],
             [
              0.5555555555555556,
              "#d8576b"
             ],
             [
              0.6666666666666666,
              "#ed7953"
             ],
             [
              0.7777777777777778,
              "#fb9f3a"
             ],
             [
              0.8888888888888888,
              "#fdca26"
             ],
             [
              1,
              "#f0f921"
             ]
            ],
            "type": "contour"
           }
          ],
          "contourcarpet": [
           {
            "colorbar": {
             "outlinewidth": 0,
             "ticks": ""
            },
            "type": "contourcarpet"
           }
          ],
          "heatmap": [
           {
            "colorbar": {
             "outlinewidth": 0,
             "ticks": ""
            },
            "colorscale": [
             [
              0,
              "#0d0887"
             ],
             [
              0.1111111111111111,
              "#46039f"
             ],
             [
              0.2222222222222222,
              "#7201a8"
             ],
             [
              0.3333333333333333,
              "#9c179e"
             ],
             [
              0.4444444444444444,
              "#bd3786"
             ],
             [
              0.5555555555555556,
              "#d8576b"
             ],
             [
              0.6666666666666666,
              "#ed7953"
             ],
             [
              0.7777777777777778,
              "#fb9f3a"
             ],
             [
              0.8888888888888888,
              "#fdca26"
             ],
             [
              1,
              "#f0f921"
             ]
            ],
            "type": "heatmap"
           }
          ],
          "heatmapgl": [
           {
            "colorbar": {
             "outlinewidth": 0,
             "ticks": ""
            },
            "colorscale": [
             [
              0,
              "#0d0887"
             ],
             [
              0.1111111111111111,
              "#46039f"
             ],
             [
              0.2222222222222222,
              "#7201a8"
             ],
             [
              0.3333333333333333,
              "#9c179e"
             ],
             [
              0.4444444444444444,
              "#bd3786"
             ],
             [
              0.5555555555555556,
              "#d8576b"
             ],
             [
              0.6666666666666666,
              "#ed7953"
             ],
             [
              0.7777777777777778,
              "#fb9f3a"
             ],
             [
              0.8888888888888888,
              "#fdca26"
             ],
             [
              1,
              "#f0f921"
             ]
            ],
            "type": "heatmapgl"
           }
          ],
          "histogram": [
           {
            "marker": {
             "pattern": {
              "fillmode": "overlay",
              "size": 10,
              "solidity": 0.2
             }
            },
            "type": "histogram"
           }
          ],
          "histogram2d": [
           {
            "colorbar": {
             "outlinewidth": 0,
             "ticks": ""
            },
            "colorscale": [
             [
              0,
              "#0d0887"
             ],
             [
              0.1111111111111111,
              "#46039f"
             ],
             [
              0.2222222222222222,
              "#7201a8"
             ],
             [
              0.3333333333333333,
              "#9c179e"
             ],
             [
              0.4444444444444444,
              "#bd3786"
             ],
             [
              0.5555555555555556,
              "#d8576b"
             ],
             [
              0.6666666666666666,
              "#ed7953"
             ],
             [
              0.7777777777777778,
              "#fb9f3a"
             ],
             [
              0.8888888888888888,
              "#fdca26"
             ],
             [
              1,
              "#f0f921"
             ]
            ],
            "type": "histogram2d"
           }
          ],
          "histogram2dcontour": [
           {
            "colorbar": {
             "outlinewidth": 0,
             "ticks": ""
            },
            "colorscale": [
             [
              0,
              "#0d0887"
             ],
             [
              0.1111111111111111,
              "#46039f"
             ],
             [
              0.2222222222222222,
              "#7201a8"
             ],
             [
              0.3333333333333333,
              "#9c179e"
             ],
             [
              0.4444444444444444,
              "#bd3786"
             ],
             [
              0.5555555555555556,
              "#d8576b"
             ],
             [
              0.6666666666666666,
              "#ed7953"
             ],
             [
              0.7777777777777778,
              "#fb9f3a"
             ],
             [
              0.8888888888888888,
              "#fdca26"
             ],
             [
              1,
              "#f0f921"
             ]
            ],
            "type": "histogram2dcontour"
           }
          ],
          "mesh3d": [
           {
            "colorbar": {
             "outlinewidth": 0,
             "ticks": ""
            },
            "type": "mesh3d"
           }
          ],
          "parcoords": [
           {
            "line": {
             "colorbar": {
              "outlinewidth": 0,
              "ticks": ""
             }
            },
            "type": "parcoords"
           }
          ],
          "pie": [
           {
            "automargin": true,
            "type": "pie"
           }
          ],
          "scatter": [
           {
            "fillpattern": {
             "fillmode": "overlay",
             "size": 10,
             "solidity": 0.2
            },
            "type": "scatter"
           }
          ],
          "scatter3d": [
           {
            "line": {
             "colorbar": {
              "outlinewidth": 0,
              "ticks": ""
             }
            },
            "marker": {
             "colorbar": {
              "outlinewidth": 0,
              "ticks": ""
             }
            },
            "type": "scatter3d"
           }
          ],
          "scattercarpet": [
           {
            "marker": {
             "colorbar": {
              "outlinewidth": 0,
              "ticks": ""
             }
            },
            "type": "scattercarpet"
           }
          ],
          "scattergeo": [
           {
            "marker": {
             "colorbar": {
              "outlinewidth": 0,
              "ticks": ""
             }
            },
            "type": "scattergeo"
           }
          ],
          "scattergl": [
           {
            "marker": {
             "colorbar": {
              "outlinewidth": 0,
              "ticks": ""
             }
            },
            "type": "scattergl"
           }
          ],
          "scattermapbox": [
           {
            "marker": {
             "colorbar": {
              "outlinewidth": 0,
              "ticks": ""
             }
            },
            "type": "scattermapbox"
           }
          ],
          "scatterpolar": [
           {
            "marker": {
             "colorbar": {
              "outlinewidth": 0,
              "ticks": ""
             }
            },
            "type": "scatterpolar"
           }
          ],
          "scatterpolargl": [
           {
            "marker": {
             "colorbar": {
              "outlinewidth": 0,
              "ticks": ""
             }
            },
            "type": "scatterpolargl"
           }
          ],
          "scatterternary": [
           {
            "marker": {
             "colorbar": {
              "outlinewidth": 0,
              "ticks": ""
             }
            },
            "type": "scatterternary"
           }
          ],
          "surface": [
           {
            "colorbar": {
             "outlinewidth": 0,
             "ticks": ""
            },
            "colorscale": [
             [
              0,
              "#0d0887"
             ],
             [
              0.1111111111111111,
              "#46039f"
             ],
             [
              0.2222222222222222,
              "#7201a8"
             ],
             [
              0.3333333333333333,
              "#9c179e"
             ],
             [
              0.4444444444444444,
              "#bd3786"
             ],
             [
              0.5555555555555556,
              "#d8576b"
             ],
             [
              0.6666666666666666,
              "#ed7953"
             ],
             [
              0.7777777777777778,
              "#fb9f3a"
             ],
             [
              0.8888888888888888,
              "#fdca26"
             ],
             [
              1,
              "#f0f921"
             ]
            ],
            "type": "surface"
           }
          ],
          "table": [
           {
            "cells": {
             "fill": {
              "color": "#EBF0F8"
             },
             "line": {
              "color": "white"
             }
            },
            "header": {
             "fill": {
              "color": "#C8D4E3"
             },
             "line": {
              "color": "white"
             }
            },
            "type": "table"
           }
          ]
         },
         "layout": {
          "annotationdefaults": {
           "arrowcolor": "#2a3f5f",
           "arrowhead": 0,
           "arrowwidth": 1
          },
          "autotypenumbers": "strict",
          "coloraxis": {
           "colorbar": {
            "outlinewidth": 0,
            "ticks": ""
           }
          },
          "colorscale": {
           "diverging": [
            [
             0,
             "#8e0152"
            ],
            [
             0.1,
             "#c51b7d"
            ],
            [
             0.2,
             "#de77ae"
            ],
            [
             0.3,
             "#f1b6da"
            ],
            [
             0.4,
             "#fde0ef"
            ],
            [
             0.5,
             "#f7f7f7"
            ],
            [
             0.6,
             "#e6f5d0"
            ],
            [
             0.7,
             "#b8e186"
            ],
            [
             0.8,
             "#7fbc41"
            ],
            [
             0.9,
             "#4d9221"
            ],
            [
             1,
             "#276419"
            ]
           ],
           "sequential": [
            [
             0,
             "#0d0887"
            ],
            [
             0.1111111111111111,
             "#46039f"
            ],
            [
             0.2222222222222222,
             "#7201a8"
            ],
            [
             0.3333333333333333,
             "#9c179e"
            ],
            [
             0.4444444444444444,
             "#bd3786"
            ],
            [
             0.5555555555555556,
             "#d8576b"
            ],
            [
             0.6666666666666666,
             "#ed7953"
            ],
            [
             0.7777777777777778,
             "#fb9f3a"
            ],
            [
             0.8888888888888888,
             "#fdca26"
            ],
            [
             1,
             "#f0f921"
            ]
           ],
           "sequentialminus": [
            [
             0,
             "#0d0887"
            ],
            [
             0.1111111111111111,
             "#46039f"
            ],
            [
             0.2222222222222222,
             "#7201a8"
            ],
            [
             0.3333333333333333,
             "#9c179e"
            ],
            [
             0.4444444444444444,
             "#bd3786"
            ],
            [
             0.5555555555555556,
             "#d8576b"
            ],
            [
             0.6666666666666666,
             "#ed7953"
            ],
            [
             0.7777777777777778,
             "#fb9f3a"
            ],
            [
             0.8888888888888888,
             "#fdca26"
            ],
            [
             1,
             "#f0f921"
            ]
           ]
          },
          "colorway": [
           "#636efa",
           "#EF553B",
           "#00cc96",
           "#ab63fa",
           "#FFA15A",
           "#19d3f3",
           "#FF6692",
           "#B6E880",
           "#FF97FF",
           "#FECB52"
          ],
          "font": {
           "color": "#2a3f5f"
          },
          "geo": {
           "bgcolor": "white",
           "lakecolor": "white",
           "landcolor": "#E5ECF6",
           "showlakes": true,
           "showland": true,
           "subunitcolor": "white"
          },
          "hoverlabel": {
           "align": "left"
          },
          "hovermode": "closest",
          "mapbox": {
           "style": "light"
          },
          "paper_bgcolor": "white",
          "plot_bgcolor": "#E5ECF6",
          "polar": {
           "angularaxis": {
            "gridcolor": "white",
            "linecolor": "white",
            "ticks": ""
           },
           "bgcolor": "#E5ECF6",
           "radialaxis": {
            "gridcolor": "white",
            "linecolor": "white",
            "ticks": ""
           }
          },
          "scene": {
           "xaxis": {
            "backgroundcolor": "#E5ECF6",
            "gridcolor": "white",
            "gridwidth": 2,
            "linecolor": "white",
            "showbackground": true,
            "ticks": "",
            "zerolinecolor": "white"
           },
           "yaxis": {
            "backgroundcolor": "#E5ECF6",
            "gridcolor": "white",
            "gridwidth": 2,
            "linecolor": "white",
            "showbackground": true,
            "ticks": "",
            "zerolinecolor": "white"
           },
           "zaxis": {
            "backgroundcolor": "#E5ECF6",
            "gridcolor": "white",
            "gridwidth": 2,
            "linecolor": "white",
            "showbackground": true,
            "ticks": "",
            "zerolinecolor": "white"
           }
          },
          "shapedefaults": {
           "line": {
            "color": "#2a3f5f"
           }
          },
          "ternary": {
           "aaxis": {
            "gridcolor": "white",
            "linecolor": "white",
            "ticks": ""
           },
           "baxis": {
            "gridcolor": "white",
            "linecolor": "white",
            "ticks": ""
           },
           "bgcolor": "#E5ECF6",
           "caxis": {
            "gridcolor": "white",
            "linecolor": "white",
            "ticks": ""
           }
          },
          "title": {
           "x": 0.05
          },
          "xaxis": {
           "automargin": true,
           "gridcolor": "white",
           "linecolor": "white",
           "ticks": "",
           "title": {
            "standoff": 15
           },
           "zerolinecolor": "white",
           "zerolinewidth": 2
          },
          "yaxis": {
           "automargin": true,
           "gridcolor": "white",
           "linecolor": "white",
           "ticks": "",
           "title": {
            "standoff": 15
           },
           "zerolinecolor": "white",
           "zerolinewidth": 2
          }
         }
        },
        "title": {
         "text": "total round"
        },
        "width": 700
       }
      }
     },
     "metadata": {},
     "output_type": "display_data"
    }
   ],
   "source": [
    "import plotly.graph_objects as go\n",
    "\n",
    "x_data = df_total_round.columns.to_list() # close threshold\n",
    "\n",
    "y_data = df_total_round.index.to_list() # open threshold\n",
    "\n",
    "z_data = df_total_round.copy(deep=True) # win rate\n",
    "\n",
    "fig = go.Figure(data=[go.Surface(z=z_data.values,x=x_data,y=y_data)])\n",
    "\n",
    "fig.update_layout(title=\"total round\", # 标题\n",
    "                  autosize=False,  # 尺度自动缩放\n",
    "                  width=700,  # 长宽\n",
    "                  height=600,\n",
    "                  margin=dict(l=65,r=50,b=65,t=90),  # 4个位置的距离\n",
    "                  scene=dict(xaxis_title='X-close-threshold',yaxis_title='Y-open-threshold')\n",
    "                 )\n",
    "\n",
    "fig.show()"
   ]
  },
  {
   "cell_type": "markdown",
   "metadata": {},
   "source": [
    "# win round surface"
   ]
  },
  {
   "cell_type": "code",
   "execution_count": 20,
   "metadata": {},
   "outputs": [
    {
     "name": "stdout",
     "output_type": "stream",
     "text": [
      "max win round: \n",
      " 0.000    35.0\n",
      "0.001    37.0\n",
      "0.002    37.0\n",
      "0.003    37.0\n",
      "dtype: float64\n",
      "min win round: \n",
      " 0.000    9.0\n",
      "0.001    9.0\n",
      "0.002    9.0\n",
      "0.003    9.0\n",
      "dtype: float64\n"
     ]
    },
    {
     "data": {
      "text/html": [
       "<div>\n",
       "<style scoped>\n",
       "    .dataframe tbody tr th:only-of-type {\n",
       "        vertical-align: middle;\n",
       "    }\n",
       "\n",
       "    .dataframe tbody tr th {\n",
       "        vertical-align: top;\n",
       "    }\n",
       "\n",
       "    .dataframe thead th {\n",
       "        text-align: right;\n",
       "    }\n",
       "</style>\n",
       "<table border=\"1\" class=\"dataframe\">\n",
       "  <thead>\n",
       "    <tr style=\"text-align: right;\">\n",
       "      <th></th>\n",
       "      <th>0.000</th>\n",
       "      <th>0.001</th>\n",
       "      <th>0.002</th>\n",
       "      <th>0.003</th>\n",
       "    </tr>\n",
       "  </thead>\n",
       "  <tbody>\n",
       "    <tr>\n",
       "      <th>0.001</th>\n",
       "      <td>35.0</td>\n",
       "      <td>NaN</td>\n",
       "      <td>NaN</td>\n",
       "      <td>NaN</td>\n",
       "    </tr>\n",
       "    <tr>\n",
       "      <th>0.002</th>\n",
       "      <td>34.0</td>\n",
       "      <td>36.0</td>\n",
       "      <td>NaN</td>\n",
       "      <td>NaN</td>\n",
       "    </tr>\n",
       "    <tr>\n",
       "      <th>0.003</th>\n",
       "      <td>34.0</td>\n",
       "      <td>37.0</td>\n",
       "      <td>35.0</td>\n",
       "      <td>NaN</td>\n",
       "    </tr>\n",
       "    <tr>\n",
       "      <th>0.004</th>\n",
       "      <td>33.0</td>\n",
       "      <td>37.0</td>\n",
       "      <td>37.0</td>\n",
       "      <td>37.0</td>\n",
       "    </tr>\n",
       "    <tr>\n",
       "      <th>0.005</th>\n",
       "      <td>32.0</td>\n",
       "      <td>36.0</td>\n",
       "      <td>36.0</td>\n",
       "      <td>37.0</td>\n",
       "    </tr>\n",
       "    <tr>\n",
       "      <th>0.006</th>\n",
       "      <td>29.0</td>\n",
       "      <td>34.0</td>\n",
       "      <td>34.0</td>\n",
       "      <td>36.0</td>\n",
       "    </tr>\n",
       "    <tr>\n",
       "      <th>0.007</th>\n",
       "      <td>29.0</td>\n",
       "      <td>32.0</td>\n",
       "      <td>33.0</td>\n",
       "      <td>35.0</td>\n",
       "    </tr>\n",
       "    <tr>\n",
       "      <th>0.008</th>\n",
       "      <td>27.0</td>\n",
       "      <td>29.0</td>\n",
       "      <td>30.0</td>\n",
       "      <td>32.0</td>\n",
       "    </tr>\n",
       "    <tr>\n",
       "      <th>0.009</th>\n",
       "      <td>24.0</td>\n",
       "      <td>26.0</td>\n",
       "      <td>26.0</td>\n",
       "      <td>28.0</td>\n",
       "    </tr>\n",
       "    <tr>\n",
       "      <th>0.010</th>\n",
       "      <td>26.0</td>\n",
       "      <td>27.0</td>\n",
       "      <td>27.0</td>\n",
       "      <td>28.0</td>\n",
       "    </tr>\n",
       "    <tr>\n",
       "      <th>0.011</th>\n",
       "      <td>24.0</td>\n",
       "      <td>25.0</td>\n",
       "      <td>25.0</td>\n",
       "      <td>26.0</td>\n",
       "    </tr>\n",
       "    <tr>\n",
       "      <th>0.012</th>\n",
       "      <td>25.0</td>\n",
       "      <td>25.0</td>\n",
       "      <td>25.0</td>\n",
       "      <td>25.0</td>\n",
       "    </tr>\n",
       "    <tr>\n",
       "      <th>0.013</th>\n",
       "      <td>20.0</td>\n",
       "      <td>20.0</td>\n",
       "      <td>20.0</td>\n",
       "      <td>20.0</td>\n",
       "    </tr>\n",
       "    <tr>\n",
       "      <th>0.014</th>\n",
       "      <td>16.0</td>\n",
       "      <td>16.0</td>\n",
       "      <td>16.0</td>\n",
       "      <td>16.0</td>\n",
       "    </tr>\n",
       "    <tr>\n",
       "      <th>0.015</th>\n",
       "      <td>13.0</td>\n",
       "      <td>13.0</td>\n",
       "      <td>13.0</td>\n",
       "      <td>13.0</td>\n",
       "    </tr>\n",
       "    <tr>\n",
       "      <th>0.016</th>\n",
       "      <td>13.0</td>\n",
       "      <td>13.0</td>\n",
       "      <td>13.0</td>\n",
       "      <td>13.0</td>\n",
       "    </tr>\n",
       "    <tr>\n",
       "      <th>0.017</th>\n",
       "      <td>12.0</td>\n",
       "      <td>12.0</td>\n",
       "      <td>12.0</td>\n",
       "      <td>12.0</td>\n",
       "    </tr>\n",
       "    <tr>\n",
       "      <th>0.018</th>\n",
       "      <td>9.0</td>\n",
       "      <td>9.0</td>\n",
       "      <td>9.0</td>\n",
       "      <td>9.0</td>\n",
       "    </tr>\n",
       "    <tr>\n",
       "      <th>0.019</th>\n",
       "      <td>9.0</td>\n",
       "      <td>9.0</td>\n",
       "      <td>9.0</td>\n",
       "      <td>9.0</td>\n",
       "    </tr>\n",
       "    <tr>\n",
       "      <th>0.020</th>\n",
       "      <td>9.0</td>\n",
       "      <td>9.0</td>\n",
       "      <td>9.0</td>\n",
       "      <td>9.0</td>\n",
       "    </tr>\n",
       "  </tbody>\n",
       "</table>\n",
       "</div>"
      ],
      "text/plain": [
       "       0.000  0.001  0.002  0.003\n",
       "0.001   35.0    NaN    NaN    NaN\n",
       "0.002   34.0   36.0    NaN    NaN\n",
       "0.003   34.0   37.0   35.0    NaN\n",
       "0.004   33.0   37.0   37.0   37.0\n",
       "0.005   32.0   36.0   36.0   37.0\n",
       "0.006   29.0   34.0   34.0   36.0\n",
       "0.007   29.0   32.0   33.0   35.0\n",
       "0.008   27.0   29.0   30.0   32.0\n",
       "0.009   24.0   26.0   26.0   28.0\n",
       "0.010   26.0   27.0   27.0   28.0\n",
       "0.011   24.0   25.0   25.0   26.0\n",
       "0.012   25.0   25.0   25.0   25.0\n",
       "0.013   20.0   20.0   20.0   20.0\n",
       "0.014   16.0   16.0   16.0   16.0\n",
       "0.015   13.0   13.0   13.0   13.0\n",
       "0.016   13.0   13.0   13.0   13.0\n",
       "0.017   12.0   12.0   12.0   12.0\n",
       "0.018    9.0    9.0    9.0    9.0\n",
       "0.019    9.0    9.0    9.0    9.0\n",
       "0.020    9.0    9.0    9.0    9.0"
      ]
     },
     "execution_count": 20,
     "metadata": {},
     "output_type": "execute_result"
    }
   ],
   "source": [
    "df_win_round = pd.DataFrame([])\n",
    "for index,row in df_grid_search_res.iterrows():\n",
    "    open_threshold = row['open threshold']\n",
    "    close_threshold = row['close threshold']\n",
    "    df_win_round.loc[open_threshold,close_threshold] = row['win']\n",
    "print('max win round: \\n',df_win_round.max())\n",
    "print('min win round: \\n',df_win_round.min())    \n",
    "df_win_round"
   ]
  },
  {
   "cell_type": "code",
   "execution_count": 21,
   "metadata": {},
   "outputs": [
    {
     "data": {
      "application/vnd.plotly.v1+json": {
       "config": {
        "plotlyServerURL": "https://plot.ly"
       },
       "data": [
        {
         "type": "surface",
         "x": [
          0,
          0.001,
          0.002,
          0.003
         ],
         "y": [
          0.001,
          0.002,
          0.003,
          0.004,
          0.005,
          0.006,
          0.007,
          0.008,
          0.009,
          0.01,
          0.011,
          0.012,
          0.013,
          0.014,
          0.015,
          0.016,
          0.017,
          0.018,
          0.019,
          0.02
         ],
         "z": [
          [
           35,
           null,
           null,
           null
          ],
          [
           34,
           36,
           null,
           null
          ],
          [
           34,
           37,
           35,
           null
          ],
          [
           33,
           37,
           37,
           37
          ],
          [
           32,
           36,
           36,
           37
          ],
          [
           29,
           34,
           34,
           36
          ],
          [
           29,
           32,
           33,
           35
          ],
          [
           27,
           29,
           30,
           32
          ],
          [
           24,
           26,
           26,
           28
          ],
          [
           26,
           27,
           27,
           28
          ],
          [
           24,
           25,
           25,
           26
          ],
          [
           25,
           25,
           25,
           25
          ],
          [
           20,
           20,
           20,
           20
          ],
          [
           16,
           16,
           16,
           16
          ],
          [
           13,
           13,
           13,
           13
          ],
          [
           13,
           13,
           13,
           13
          ],
          [
           12,
           12,
           12,
           12
          ],
          [
           9,
           9,
           9,
           9
          ],
          [
           9,
           9,
           9,
           9
          ],
          [
           9,
           9,
           9,
           9
          ]
         ]
        }
       ],
       "layout": {
        "autosize": false,
        "height": 600,
        "margin": {
         "b": 65,
         "l": 65,
         "r": 50,
         "t": 90
        },
        "scene": {
         "xaxis": {
          "title": {
           "text": "X-close-threshold"
          }
         },
         "yaxis": {
          "title": {
           "text": "Y-open-threshold"
          }
         }
        },
        "template": {
         "data": {
          "bar": [
           {
            "error_x": {
             "color": "#2a3f5f"
            },
            "error_y": {
             "color": "#2a3f5f"
            },
            "marker": {
             "line": {
              "color": "#E5ECF6",
              "width": 0.5
             },
             "pattern": {
              "fillmode": "overlay",
              "size": 10,
              "solidity": 0.2
             }
            },
            "type": "bar"
           }
          ],
          "barpolar": [
           {
            "marker": {
             "line": {
              "color": "#E5ECF6",
              "width": 0.5
             },
             "pattern": {
              "fillmode": "overlay",
              "size": 10,
              "solidity": 0.2
             }
            },
            "type": "barpolar"
           }
          ],
          "carpet": [
           {
            "aaxis": {
             "endlinecolor": "#2a3f5f",
             "gridcolor": "white",
             "linecolor": "white",
             "minorgridcolor": "white",
             "startlinecolor": "#2a3f5f"
            },
            "baxis": {
             "endlinecolor": "#2a3f5f",
             "gridcolor": "white",
             "linecolor": "white",
             "minorgridcolor": "white",
             "startlinecolor": "#2a3f5f"
            },
            "type": "carpet"
           }
          ],
          "choropleth": [
           {
            "colorbar": {
             "outlinewidth": 0,
             "ticks": ""
            },
            "type": "choropleth"
           }
          ],
          "contour": [
           {
            "colorbar": {
             "outlinewidth": 0,
             "ticks": ""
            },
            "colorscale": [
             [
              0,
              "#0d0887"
             ],
             [
              0.1111111111111111,
              "#46039f"
             ],
             [
              0.2222222222222222,
              "#7201a8"
             ],
             [
              0.3333333333333333,
              "#9c179e"
             ],
             [
              0.4444444444444444,
              "#bd3786"
             ],
             [
              0.5555555555555556,
              "#d8576b"
             ],
             [
              0.6666666666666666,
              "#ed7953"
             ],
             [
              0.7777777777777778,
              "#fb9f3a"
             ],
             [
              0.8888888888888888,
              "#fdca26"
             ],
             [
              1,
              "#f0f921"
             ]
            ],
            "type": "contour"
           }
          ],
          "contourcarpet": [
           {
            "colorbar": {
             "outlinewidth": 0,
             "ticks": ""
            },
            "type": "contourcarpet"
           }
          ],
          "heatmap": [
           {
            "colorbar": {
             "outlinewidth": 0,
             "ticks": ""
            },
            "colorscale": [
             [
              0,
              "#0d0887"
             ],
             [
              0.1111111111111111,
              "#46039f"
             ],
             [
              0.2222222222222222,
              "#7201a8"
             ],
             [
              0.3333333333333333,
              "#9c179e"
             ],
             [
              0.4444444444444444,
              "#bd3786"
             ],
             [
              0.5555555555555556,
              "#d8576b"
             ],
             [
              0.6666666666666666,
              "#ed7953"
             ],
             [
              0.7777777777777778,
              "#fb9f3a"
             ],
             [
              0.8888888888888888,
              "#fdca26"
             ],
             [
              1,
              "#f0f921"
             ]
            ],
            "type": "heatmap"
           }
          ],
          "heatmapgl": [
           {
            "colorbar": {
             "outlinewidth": 0,
             "ticks": ""
            },
            "colorscale": [
             [
              0,
              "#0d0887"
             ],
             [
              0.1111111111111111,
              "#46039f"
             ],
             [
              0.2222222222222222,
              "#7201a8"
             ],
             [
              0.3333333333333333,
              "#9c179e"
             ],
             [
              0.4444444444444444,
              "#bd3786"
             ],
             [
              0.5555555555555556,
              "#d8576b"
             ],
             [
              0.6666666666666666,
              "#ed7953"
             ],
             [
              0.7777777777777778,
              "#fb9f3a"
             ],
             [
              0.8888888888888888,
              "#fdca26"
             ],
             [
              1,
              "#f0f921"
             ]
            ],
            "type": "heatmapgl"
           }
          ],
          "histogram": [
           {
            "marker": {
             "pattern": {
              "fillmode": "overlay",
              "size": 10,
              "solidity": 0.2
             }
            },
            "type": "histogram"
           }
          ],
          "histogram2d": [
           {
            "colorbar": {
             "outlinewidth": 0,
             "ticks": ""
            },
            "colorscale": [
             [
              0,
              "#0d0887"
             ],
             [
              0.1111111111111111,
              "#46039f"
             ],
             [
              0.2222222222222222,
              "#7201a8"
             ],
             [
              0.3333333333333333,
              "#9c179e"
             ],
             [
              0.4444444444444444,
              "#bd3786"
             ],
             [
              0.5555555555555556,
              "#d8576b"
             ],
             [
              0.6666666666666666,
              "#ed7953"
             ],
             [
              0.7777777777777778,
              "#fb9f3a"
             ],
             [
              0.8888888888888888,
              "#fdca26"
             ],
             [
              1,
              "#f0f921"
             ]
            ],
            "type": "histogram2d"
           }
          ],
          "histogram2dcontour": [
           {
            "colorbar": {
             "outlinewidth": 0,
             "ticks": ""
            },
            "colorscale": [
             [
              0,
              "#0d0887"
             ],
             [
              0.1111111111111111,
              "#46039f"
             ],
             [
              0.2222222222222222,
              "#7201a8"
             ],
             [
              0.3333333333333333,
              "#9c179e"
             ],
             [
              0.4444444444444444,
              "#bd3786"
             ],
             [
              0.5555555555555556,
              "#d8576b"
             ],
             [
              0.6666666666666666,
              "#ed7953"
             ],
             [
              0.7777777777777778,
              "#fb9f3a"
             ],
             [
              0.8888888888888888,
              "#fdca26"
             ],
             [
              1,
              "#f0f921"
             ]
            ],
            "type": "histogram2dcontour"
           }
          ],
          "mesh3d": [
           {
            "colorbar": {
             "outlinewidth": 0,
             "ticks": ""
            },
            "type": "mesh3d"
           }
          ],
          "parcoords": [
           {
            "line": {
             "colorbar": {
              "outlinewidth": 0,
              "ticks": ""
             }
            },
            "type": "parcoords"
           }
          ],
          "pie": [
           {
            "automargin": true,
            "type": "pie"
           }
          ],
          "scatter": [
           {
            "fillpattern": {
             "fillmode": "overlay",
             "size": 10,
             "solidity": 0.2
            },
            "type": "scatter"
           }
          ],
          "scatter3d": [
           {
            "line": {
             "colorbar": {
              "outlinewidth": 0,
              "ticks": ""
             }
            },
            "marker": {
             "colorbar": {
              "outlinewidth": 0,
              "ticks": ""
             }
            },
            "type": "scatter3d"
           }
          ],
          "scattercarpet": [
           {
            "marker": {
             "colorbar": {
              "outlinewidth": 0,
              "ticks": ""
             }
            },
            "type": "scattercarpet"
           }
          ],
          "scattergeo": [
           {
            "marker": {
             "colorbar": {
              "outlinewidth": 0,
              "ticks": ""
             }
            },
            "type": "scattergeo"
           }
          ],
          "scattergl": [
           {
            "marker": {
             "colorbar": {
              "outlinewidth": 0,
              "ticks": ""
             }
            },
            "type": "scattergl"
           }
          ],
          "scattermapbox": [
           {
            "marker": {
             "colorbar": {
              "outlinewidth": 0,
              "ticks": ""
             }
            },
            "type": "scattermapbox"
           }
          ],
          "scatterpolar": [
           {
            "marker": {
             "colorbar": {
              "outlinewidth": 0,
              "ticks": ""
             }
            },
            "type": "scatterpolar"
           }
          ],
          "scatterpolargl": [
           {
            "marker": {
             "colorbar": {
              "outlinewidth": 0,
              "ticks": ""
             }
            },
            "type": "scatterpolargl"
           }
          ],
          "scatterternary": [
           {
            "marker": {
             "colorbar": {
              "outlinewidth": 0,
              "ticks": ""
             }
            },
            "type": "scatterternary"
           }
          ],
          "surface": [
           {
            "colorbar": {
             "outlinewidth": 0,
             "ticks": ""
            },
            "colorscale": [
             [
              0,
              "#0d0887"
             ],
             [
              0.1111111111111111,
              "#46039f"
             ],
             [
              0.2222222222222222,
              "#7201a8"
             ],
             [
              0.3333333333333333,
              "#9c179e"
             ],
             [
              0.4444444444444444,
              "#bd3786"
             ],
             [
              0.5555555555555556,
              "#d8576b"
             ],
             [
              0.6666666666666666,
              "#ed7953"
             ],
             [
              0.7777777777777778,
              "#fb9f3a"
             ],
             [
              0.8888888888888888,
              "#fdca26"
             ],
             [
              1,
              "#f0f921"
             ]
            ],
            "type": "surface"
           }
          ],
          "table": [
           {
            "cells": {
             "fill": {
              "color": "#EBF0F8"
             },
             "line": {
              "color": "white"
             }
            },
            "header": {
             "fill": {
              "color": "#C8D4E3"
             },
             "line": {
              "color": "white"
             }
            },
            "type": "table"
           }
          ]
         },
         "layout": {
          "annotationdefaults": {
           "arrowcolor": "#2a3f5f",
           "arrowhead": 0,
           "arrowwidth": 1
          },
          "autotypenumbers": "strict",
          "coloraxis": {
           "colorbar": {
            "outlinewidth": 0,
            "ticks": ""
           }
          },
          "colorscale": {
           "diverging": [
            [
             0,
             "#8e0152"
            ],
            [
             0.1,
             "#c51b7d"
            ],
            [
             0.2,
             "#de77ae"
            ],
            [
             0.3,
             "#f1b6da"
            ],
            [
             0.4,
             "#fde0ef"
            ],
            [
             0.5,
             "#f7f7f7"
            ],
            [
             0.6,
             "#e6f5d0"
            ],
            [
             0.7,
             "#b8e186"
            ],
            [
             0.8,
             "#7fbc41"
            ],
            [
             0.9,
             "#4d9221"
            ],
            [
             1,
             "#276419"
            ]
           ],
           "sequential": [
            [
             0,
             "#0d0887"
            ],
            [
             0.1111111111111111,
             "#46039f"
            ],
            [
             0.2222222222222222,
             "#7201a8"
            ],
            [
             0.3333333333333333,
             "#9c179e"
            ],
            [
             0.4444444444444444,
             "#bd3786"
            ],
            [
             0.5555555555555556,
             "#d8576b"
            ],
            [
             0.6666666666666666,
             "#ed7953"
            ],
            [
             0.7777777777777778,
             "#fb9f3a"
            ],
            [
             0.8888888888888888,
             "#fdca26"
            ],
            [
             1,
             "#f0f921"
            ]
           ],
           "sequentialminus": [
            [
             0,
             "#0d0887"
            ],
            [
             0.1111111111111111,
             "#46039f"
            ],
            [
             0.2222222222222222,
             "#7201a8"
            ],
            [
             0.3333333333333333,
             "#9c179e"
            ],
            [
             0.4444444444444444,
             "#bd3786"
            ],
            [
             0.5555555555555556,
             "#d8576b"
            ],
            [
             0.6666666666666666,
             "#ed7953"
            ],
            [
             0.7777777777777778,
             "#fb9f3a"
            ],
            [
             0.8888888888888888,
             "#fdca26"
            ],
            [
             1,
             "#f0f921"
            ]
           ]
          },
          "colorway": [
           "#636efa",
           "#EF553B",
           "#00cc96",
           "#ab63fa",
           "#FFA15A",
           "#19d3f3",
           "#FF6692",
           "#B6E880",
           "#FF97FF",
           "#FECB52"
          ],
          "font": {
           "color": "#2a3f5f"
          },
          "geo": {
           "bgcolor": "white",
           "lakecolor": "white",
           "landcolor": "#E5ECF6",
           "showlakes": true,
           "showland": true,
           "subunitcolor": "white"
          },
          "hoverlabel": {
           "align": "left"
          },
          "hovermode": "closest",
          "mapbox": {
           "style": "light"
          },
          "paper_bgcolor": "white",
          "plot_bgcolor": "#E5ECF6",
          "polar": {
           "angularaxis": {
            "gridcolor": "white",
            "linecolor": "white",
            "ticks": ""
           },
           "bgcolor": "#E5ECF6",
           "radialaxis": {
            "gridcolor": "white",
            "linecolor": "white",
            "ticks": ""
           }
          },
          "scene": {
           "xaxis": {
            "backgroundcolor": "#E5ECF6",
            "gridcolor": "white",
            "gridwidth": 2,
            "linecolor": "white",
            "showbackground": true,
            "ticks": "",
            "zerolinecolor": "white"
           },
           "yaxis": {
            "backgroundcolor": "#E5ECF6",
            "gridcolor": "white",
            "gridwidth": 2,
            "linecolor": "white",
            "showbackground": true,
            "ticks": "",
            "zerolinecolor": "white"
           },
           "zaxis": {
            "backgroundcolor": "#E5ECF6",
            "gridcolor": "white",
            "gridwidth": 2,
            "linecolor": "white",
            "showbackground": true,
            "ticks": "",
            "zerolinecolor": "white"
           }
          },
          "shapedefaults": {
           "line": {
            "color": "#2a3f5f"
           }
          },
          "ternary": {
           "aaxis": {
            "gridcolor": "white",
            "linecolor": "white",
            "ticks": ""
           },
           "baxis": {
            "gridcolor": "white",
            "linecolor": "white",
            "ticks": ""
           },
           "bgcolor": "#E5ECF6",
           "caxis": {
            "gridcolor": "white",
            "linecolor": "white",
            "ticks": ""
           }
          },
          "title": {
           "x": 0.05
          },
          "xaxis": {
           "automargin": true,
           "gridcolor": "white",
           "linecolor": "white",
           "ticks": "",
           "title": {
            "standoff": 15
           },
           "zerolinecolor": "white",
           "zerolinewidth": 2
          },
          "yaxis": {
           "automargin": true,
           "gridcolor": "white",
           "linecolor": "white",
           "ticks": "",
           "title": {
            "standoff": 15
           },
           "zerolinecolor": "white",
           "zerolinewidth": 2
          }
         }
        },
        "title": {
         "text": "win round"
        },
        "width": 700
       }
      }
     },
     "metadata": {},
     "output_type": "display_data"
    }
   ],
   "source": [
    "import plotly.graph_objects as go\n",
    "\n",
    "x_data = df_win_round.columns.to_list() # close threshold\n",
    "\n",
    "y_data = df_win_round.index.to_list() # open threshold\n",
    "\n",
    "z_data = df_win_round.copy(deep=True) # win rate\n",
    "\n",
    "fig = go.Figure(data=[go.Surface(z=z_data.values,x=x_data,y=y_data)])\n",
    "\n",
    "fig.update_layout(title=\"win round\", # 标题\n",
    "                  autosize=False,  # 尺度自动缩放\n",
    "                  width=700,  # 长宽\n",
    "                  height=600,\n",
    "                  margin=dict(l=65,r=50,b=65,t=90),  # 4个位置的距离\n",
    "                  scene=dict(xaxis_title='X-close-threshold',yaxis_title='Y-open-threshold')\n",
    "                 )\n",
    "\n",
    "fig.show()"
   ]
  },
  {
   "cell_type": "markdown",
   "metadata": {},
   "source": [
    "# lose round surface"
   ]
  },
  {
   "cell_type": "code",
   "execution_count": 22,
   "metadata": {},
   "outputs": [
    {
     "name": "stdout",
     "output_type": "stream",
     "text": [
      "max win round: \n",
      " 0.000    14.0\n",
      "0.001    12.0\n",
      "0.002    12.0\n",
      "0.003    10.0\n",
      "dtype: float64\n",
      "min win round: \n",
      " 0.000    4.0\n",
      "0.001    3.0\n",
      "0.002    3.0\n",
      "0.003    3.0\n",
      "dtype: float64\n"
     ]
    },
    {
     "data": {
      "text/html": [
       "<div>\n",
       "<style scoped>\n",
       "    .dataframe tbody tr th:only-of-type {\n",
       "        vertical-align: middle;\n",
       "    }\n",
       "\n",
       "    .dataframe tbody tr th {\n",
       "        vertical-align: top;\n",
       "    }\n",
       "\n",
       "    .dataframe thead th {\n",
       "        text-align: right;\n",
       "    }\n",
       "</style>\n",
       "<table border=\"1\" class=\"dataframe\">\n",
       "  <thead>\n",
       "    <tr style=\"text-align: right;\">\n",
       "      <th></th>\n",
       "      <th>0.000</th>\n",
       "      <th>0.001</th>\n",
       "      <th>0.002</th>\n",
       "      <th>0.003</th>\n",
       "    </tr>\n",
       "  </thead>\n",
       "  <tbody>\n",
       "    <tr>\n",
       "      <th>0.001</th>\n",
       "      <td>5.0</td>\n",
       "      <td>NaN</td>\n",
       "      <td>NaN</td>\n",
       "      <td>NaN</td>\n",
       "    </tr>\n",
       "    <tr>\n",
       "      <th>0.002</th>\n",
       "      <td>6.0</td>\n",
       "      <td>4.0</td>\n",
       "      <td>NaN</td>\n",
       "      <td>NaN</td>\n",
       "    </tr>\n",
       "    <tr>\n",
       "      <th>0.003</th>\n",
       "      <td>6.0</td>\n",
       "      <td>3.0</td>\n",
       "      <td>5.0</td>\n",
       "      <td>NaN</td>\n",
       "    </tr>\n",
       "    <tr>\n",
       "      <th>0.004</th>\n",
       "      <td>7.0</td>\n",
       "      <td>3.0</td>\n",
       "      <td>3.0</td>\n",
       "      <td>3.0</td>\n",
       "    </tr>\n",
       "    <tr>\n",
       "      <th>0.005</th>\n",
       "      <td>8.0</td>\n",
       "      <td>4.0</td>\n",
       "      <td>4.0</td>\n",
       "      <td>3.0</td>\n",
       "    </tr>\n",
       "    <tr>\n",
       "      <th>0.006</th>\n",
       "      <td>11.0</td>\n",
       "      <td>6.0</td>\n",
       "      <td>6.0</td>\n",
       "      <td>4.0</td>\n",
       "    </tr>\n",
       "    <tr>\n",
       "      <th>0.007</th>\n",
       "      <td>10.0</td>\n",
       "      <td>7.0</td>\n",
       "      <td>6.0</td>\n",
       "      <td>4.0</td>\n",
       "    </tr>\n",
       "    <tr>\n",
       "      <th>0.008</th>\n",
       "      <td>11.0</td>\n",
       "      <td>9.0</td>\n",
       "      <td>8.0</td>\n",
       "      <td>6.0</td>\n",
       "    </tr>\n",
       "    <tr>\n",
       "      <th>0.009</th>\n",
       "      <td>14.0</td>\n",
       "      <td>12.0</td>\n",
       "      <td>12.0</td>\n",
       "      <td>10.0</td>\n",
       "    </tr>\n",
       "    <tr>\n",
       "      <th>0.010</th>\n",
       "      <td>10.0</td>\n",
       "      <td>9.0</td>\n",
       "      <td>9.0</td>\n",
       "      <td>8.0</td>\n",
       "    </tr>\n",
       "    <tr>\n",
       "      <th>0.011</th>\n",
       "      <td>9.0</td>\n",
       "      <td>8.0</td>\n",
       "      <td>8.0</td>\n",
       "      <td>7.0</td>\n",
       "    </tr>\n",
       "    <tr>\n",
       "      <th>0.012</th>\n",
       "      <td>8.0</td>\n",
       "      <td>8.0</td>\n",
       "      <td>8.0</td>\n",
       "      <td>8.0</td>\n",
       "    </tr>\n",
       "    <tr>\n",
       "      <th>0.013</th>\n",
       "      <td>8.0</td>\n",
       "      <td>8.0</td>\n",
       "      <td>8.0</td>\n",
       "      <td>8.0</td>\n",
       "    </tr>\n",
       "    <tr>\n",
       "      <th>0.014</th>\n",
       "      <td>7.0</td>\n",
       "      <td>7.0</td>\n",
       "      <td>7.0</td>\n",
       "      <td>7.0</td>\n",
       "    </tr>\n",
       "    <tr>\n",
       "      <th>0.015</th>\n",
       "      <td>7.0</td>\n",
       "      <td>7.0</td>\n",
       "      <td>7.0</td>\n",
       "      <td>7.0</td>\n",
       "    </tr>\n",
       "    <tr>\n",
       "      <th>0.016</th>\n",
       "      <td>6.0</td>\n",
       "      <td>6.0</td>\n",
       "      <td>6.0</td>\n",
       "      <td>6.0</td>\n",
       "    </tr>\n",
       "    <tr>\n",
       "      <th>0.017</th>\n",
       "      <td>5.0</td>\n",
       "      <td>5.0</td>\n",
       "      <td>5.0</td>\n",
       "      <td>5.0</td>\n",
       "    </tr>\n",
       "    <tr>\n",
       "      <th>0.018</th>\n",
       "      <td>5.0</td>\n",
       "      <td>5.0</td>\n",
       "      <td>5.0</td>\n",
       "      <td>5.0</td>\n",
       "    </tr>\n",
       "    <tr>\n",
       "      <th>0.019</th>\n",
       "      <td>5.0</td>\n",
       "      <td>5.0</td>\n",
       "      <td>5.0</td>\n",
       "      <td>5.0</td>\n",
       "    </tr>\n",
       "    <tr>\n",
       "      <th>0.020</th>\n",
       "      <td>4.0</td>\n",
       "      <td>4.0</td>\n",
       "      <td>4.0</td>\n",
       "      <td>4.0</td>\n",
       "    </tr>\n",
       "  </tbody>\n",
       "</table>\n",
       "</div>"
      ],
      "text/plain": [
       "       0.000  0.001  0.002  0.003\n",
       "0.001    5.0    NaN    NaN    NaN\n",
       "0.002    6.0    4.0    NaN    NaN\n",
       "0.003    6.0    3.0    5.0    NaN\n",
       "0.004    7.0    3.0    3.0    3.0\n",
       "0.005    8.0    4.0    4.0    3.0\n",
       "0.006   11.0    6.0    6.0    4.0\n",
       "0.007   10.0    7.0    6.0    4.0\n",
       "0.008   11.0    9.0    8.0    6.0\n",
       "0.009   14.0   12.0   12.0   10.0\n",
       "0.010   10.0    9.0    9.0    8.0\n",
       "0.011    9.0    8.0    8.0    7.0\n",
       "0.012    8.0    8.0    8.0    8.0\n",
       "0.013    8.0    8.0    8.0    8.0\n",
       "0.014    7.0    7.0    7.0    7.0\n",
       "0.015    7.0    7.0    7.0    7.0\n",
       "0.016    6.0    6.0    6.0    6.0\n",
       "0.017    5.0    5.0    5.0    5.0\n",
       "0.018    5.0    5.0    5.0    5.0\n",
       "0.019    5.0    5.0    5.0    5.0\n",
       "0.020    4.0    4.0    4.0    4.0"
      ]
     },
     "execution_count": 22,
     "metadata": {},
     "output_type": "execute_result"
    }
   ],
   "source": [
    "df_lose_round = pd.DataFrame([])\n",
    "for index,row in df_grid_search_res.iterrows():\n",
    "    open_threshold = row['open threshold']\n",
    "    close_threshold = row['close threshold']\n",
    "    df_lose_round.loc[open_threshold,close_threshold] = row['lose']\n",
    "print('max win round: \\n',df_lose_round.max())\n",
    "print('min win round: \\n',df_lose_round.min())    \n",
    "df_lose_round"
   ]
  },
  {
   "cell_type": "code",
   "execution_count": 23,
   "metadata": {},
   "outputs": [
    {
     "data": {
      "application/vnd.plotly.v1+json": {
       "config": {
        "plotlyServerURL": "https://plot.ly"
       },
       "data": [
        {
         "type": "surface",
         "x": [
          0,
          0.001,
          0.002,
          0.003
         ],
         "y": [
          0.001,
          0.002,
          0.003,
          0.004,
          0.005,
          0.006,
          0.007,
          0.008,
          0.009,
          0.01,
          0.011,
          0.012,
          0.013,
          0.014,
          0.015,
          0.016,
          0.017,
          0.018,
          0.019,
          0.02
         ],
         "z": [
          [
           5,
           null,
           null,
           null
          ],
          [
           6,
           4,
           null,
           null
          ],
          [
           6,
           3,
           5,
           null
          ],
          [
           7,
           3,
           3,
           3
          ],
          [
           8,
           4,
           4,
           3
          ],
          [
           11,
           6,
           6,
           4
          ],
          [
           10,
           7,
           6,
           4
          ],
          [
           11,
           9,
           8,
           6
          ],
          [
           14,
           12,
           12,
           10
          ],
          [
           10,
           9,
           9,
           8
          ],
          [
           9,
           8,
           8,
           7
          ],
          [
           8,
           8,
           8,
           8
          ],
          [
           8,
           8,
           8,
           8
          ],
          [
           7,
           7,
           7,
           7
          ],
          [
           7,
           7,
           7,
           7
          ],
          [
           6,
           6,
           6,
           6
          ],
          [
           5,
           5,
           5,
           5
          ],
          [
           5,
           5,
           5,
           5
          ],
          [
           5,
           5,
           5,
           5
          ],
          [
           4,
           4,
           4,
           4
          ]
         ]
        }
       ],
       "layout": {
        "autosize": false,
        "height": 600,
        "margin": {
         "b": 65,
         "l": 65,
         "r": 50,
         "t": 90
        },
        "scene": {
         "xaxis": {
          "title": {
           "text": "X-close-threshold"
          }
         },
         "yaxis": {
          "title": {
           "text": "Y-open-threshold"
          }
         }
        },
        "template": {
         "data": {
          "bar": [
           {
            "error_x": {
             "color": "#2a3f5f"
            },
            "error_y": {
             "color": "#2a3f5f"
            },
            "marker": {
             "line": {
              "color": "#E5ECF6",
              "width": 0.5
             },
             "pattern": {
              "fillmode": "overlay",
              "size": 10,
              "solidity": 0.2
             }
            },
            "type": "bar"
           }
          ],
          "barpolar": [
           {
            "marker": {
             "line": {
              "color": "#E5ECF6",
              "width": 0.5
             },
             "pattern": {
              "fillmode": "overlay",
              "size": 10,
              "solidity": 0.2
             }
            },
            "type": "barpolar"
           }
          ],
          "carpet": [
           {
            "aaxis": {
             "endlinecolor": "#2a3f5f",
             "gridcolor": "white",
             "linecolor": "white",
             "minorgridcolor": "white",
             "startlinecolor": "#2a3f5f"
            },
            "baxis": {
             "endlinecolor": "#2a3f5f",
             "gridcolor": "white",
             "linecolor": "white",
             "minorgridcolor": "white",
             "startlinecolor": "#2a3f5f"
            },
            "type": "carpet"
           }
          ],
          "choropleth": [
           {
            "colorbar": {
             "outlinewidth": 0,
             "ticks": ""
            },
            "type": "choropleth"
           }
          ],
          "contour": [
           {
            "colorbar": {
             "outlinewidth": 0,
             "ticks": ""
            },
            "colorscale": [
             [
              0,
              "#0d0887"
             ],
             [
              0.1111111111111111,
              "#46039f"
             ],
             [
              0.2222222222222222,
              "#7201a8"
             ],
             [
              0.3333333333333333,
              "#9c179e"
             ],
             [
              0.4444444444444444,
              "#bd3786"
             ],
             [
              0.5555555555555556,
              "#d8576b"
             ],
             [
              0.6666666666666666,
              "#ed7953"
             ],
             [
              0.7777777777777778,
              "#fb9f3a"
             ],
             [
              0.8888888888888888,
              "#fdca26"
             ],
             [
              1,
              "#f0f921"
             ]
            ],
            "type": "contour"
           }
          ],
          "contourcarpet": [
           {
            "colorbar": {
             "outlinewidth": 0,
             "ticks": ""
            },
            "type": "contourcarpet"
           }
          ],
          "heatmap": [
           {
            "colorbar": {
             "outlinewidth": 0,
             "ticks": ""
            },
            "colorscale": [
             [
              0,
              "#0d0887"
             ],
             [
              0.1111111111111111,
              "#46039f"
             ],
             [
              0.2222222222222222,
              "#7201a8"
             ],
             [
              0.3333333333333333,
              "#9c179e"
             ],
             [
              0.4444444444444444,
              "#bd3786"
             ],
             [
              0.5555555555555556,
              "#d8576b"
             ],
             [
              0.6666666666666666,
              "#ed7953"
             ],
             [
              0.7777777777777778,
              "#fb9f3a"
             ],
             [
              0.8888888888888888,
              "#fdca26"
             ],
             [
              1,
              "#f0f921"
             ]
            ],
            "type": "heatmap"
           }
          ],
          "heatmapgl": [
           {
            "colorbar": {
             "outlinewidth": 0,
             "ticks": ""
            },
            "colorscale": [
             [
              0,
              "#0d0887"
             ],
             [
              0.1111111111111111,
              "#46039f"
             ],
             [
              0.2222222222222222,
              "#7201a8"
             ],
             [
              0.3333333333333333,
              "#9c179e"
             ],
             [
              0.4444444444444444,
              "#bd3786"
             ],
             [
              0.5555555555555556,
              "#d8576b"
             ],
             [
              0.6666666666666666,
              "#ed7953"
             ],
             [
              0.7777777777777778,
              "#fb9f3a"
             ],
             [
              0.8888888888888888,
              "#fdca26"
             ],
             [
              1,
              "#f0f921"
             ]
            ],
            "type": "heatmapgl"
           }
          ],
          "histogram": [
           {
            "marker": {
             "pattern": {
              "fillmode": "overlay",
              "size": 10,
              "solidity": 0.2
             }
            },
            "type": "histogram"
           }
          ],
          "histogram2d": [
           {
            "colorbar": {
             "outlinewidth": 0,
             "ticks": ""
            },
            "colorscale": [
             [
              0,
              "#0d0887"
             ],
             [
              0.1111111111111111,
              "#46039f"
             ],
             [
              0.2222222222222222,
              "#7201a8"
             ],
             [
              0.3333333333333333,
              "#9c179e"
             ],
             [
              0.4444444444444444,
              "#bd3786"
             ],
             [
              0.5555555555555556,
              "#d8576b"
             ],
             [
              0.6666666666666666,
              "#ed7953"
             ],
             [
              0.7777777777777778,
              "#fb9f3a"
             ],
             [
              0.8888888888888888,
              "#fdca26"
             ],
             [
              1,
              "#f0f921"
             ]
            ],
            "type": "histogram2d"
           }
          ],
          "histogram2dcontour": [
           {
            "colorbar": {
             "outlinewidth": 0,
             "ticks": ""
            },
            "colorscale": [
             [
              0,
              "#0d0887"
             ],
             [
              0.1111111111111111,
              "#46039f"
             ],
             [
              0.2222222222222222,
              "#7201a8"
             ],
             [
              0.3333333333333333,
              "#9c179e"
             ],
             [
              0.4444444444444444,
              "#bd3786"
             ],
             [
              0.5555555555555556,
              "#d8576b"
             ],
             [
              0.6666666666666666,
              "#ed7953"
             ],
             [
              0.7777777777777778,
              "#fb9f3a"
             ],
             [
              0.8888888888888888,
              "#fdca26"
             ],
             [
              1,
              "#f0f921"
             ]
            ],
            "type": "histogram2dcontour"
           }
          ],
          "mesh3d": [
           {
            "colorbar": {
             "outlinewidth": 0,
             "ticks": ""
            },
            "type": "mesh3d"
           }
          ],
          "parcoords": [
           {
            "line": {
             "colorbar": {
              "outlinewidth": 0,
              "ticks": ""
             }
            },
            "type": "parcoords"
           }
          ],
          "pie": [
           {
            "automargin": true,
            "type": "pie"
           }
          ],
          "scatter": [
           {
            "fillpattern": {
             "fillmode": "overlay",
             "size": 10,
             "solidity": 0.2
            },
            "type": "scatter"
           }
          ],
          "scatter3d": [
           {
            "line": {
             "colorbar": {
              "outlinewidth": 0,
              "ticks": ""
             }
            },
            "marker": {
             "colorbar": {
              "outlinewidth": 0,
              "ticks": ""
             }
            },
            "type": "scatter3d"
           }
          ],
          "scattercarpet": [
           {
            "marker": {
             "colorbar": {
              "outlinewidth": 0,
              "ticks": ""
             }
            },
            "type": "scattercarpet"
           }
          ],
          "scattergeo": [
           {
            "marker": {
             "colorbar": {
              "outlinewidth": 0,
              "ticks": ""
             }
            },
            "type": "scattergeo"
           }
          ],
          "scattergl": [
           {
            "marker": {
             "colorbar": {
              "outlinewidth": 0,
              "ticks": ""
             }
            },
            "type": "scattergl"
           }
          ],
          "scattermapbox": [
           {
            "marker": {
             "colorbar": {
              "outlinewidth": 0,
              "ticks": ""
             }
            },
            "type": "scattermapbox"
           }
          ],
          "scatterpolar": [
           {
            "marker": {
             "colorbar": {
              "outlinewidth": 0,
              "ticks": ""
             }
            },
            "type": "scatterpolar"
           }
          ],
          "scatterpolargl": [
           {
            "marker": {
             "colorbar": {
              "outlinewidth": 0,
              "ticks": ""
             }
            },
            "type": "scatterpolargl"
           }
          ],
          "scatterternary": [
           {
            "marker": {
             "colorbar": {
              "outlinewidth": 0,
              "ticks": ""
             }
            },
            "type": "scatterternary"
           }
          ],
          "surface": [
           {
            "colorbar": {
             "outlinewidth": 0,
             "ticks": ""
            },
            "colorscale": [
             [
              0,
              "#0d0887"
             ],
             [
              0.1111111111111111,
              "#46039f"
             ],
             [
              0.2222222222222222,
              "#7201a8"
             ],
             [
              0.3333333333333333,
              "#9c179e"
             ],
             [
              0.4444444444444444,
              "#bd3786"
             ],
             [
              0.5555555555555556,
              "#d8576b"
             ],
             [
              0.6666666666666666,
              "#ed7953"
             ],
             [
              0.7777777777777778,
              "#fb9f3a"
             ],
             [
              0.8888888888888888,
              "#fdca26"
             ],
             [
              1,
              "#f0f921"
             ]
            ],
            "type": "surface"
           }
          ],
          "table": [
           {
            "cells": {
             "fill": {
              "color": "#EBF0F8"
             },
             "line": {
              "color": "white"
             }
            },
            "header": {
             "fill": {
              "color": "#C8D4E3"
             },
             "line": {
              "color": "white"
             }
            },
            "type": "table"
           }
          ]
         },
         "layout": {
          "annotationdefaults": {
           "arrowcolor": "#2a3f5f",
           "arrowhead": 0,
           "arrowwidth": 1
          },
          "autotypenumbers": "strict",
          "coloraxis": {
           "colorbar": {
            "outlinewidth": 0,
            "ticks": ""
           }
          },
          "colorscale": {
           "diverging": [
            [
             0,
             "#8e0152"
            ],
            [
             0.1,
             "#c51b7d"
            ],
            [
             0.2,
             "#de77ae"
            ],
            [
             0.3,
             "#f1b6da"
            ],
            [
             0.4,
             "#fde0ef"
            ],
            [
             0.5,
             "#f7f7f7"
            ],
            [
             0.6,
             "#e6f5d0"
            ],
            [
             0.7,
             "#b8e186"
            ],
            [
             0.8,
             "#7fbc41"
            ],
            [
             0.9,
             "#4d9221"
            ],
            [
             1,
             "#276419"
            ]
           ],
           "sequential": [
            [
             0,
             "#0d0887"
            ],
            [
             0.1111111111111111,
             "#46039f"
            ],
            [
             0.2222222222222222,
             "#7201a8"
            ],
            [
             0.3333333333333333,
             "#9c179e"
            ],
            [
             0.4444444444444444,
             "#bd3786"
            ],
            [
             0.5555555555555556,
             "#d8576b"
            ],
            [
             0.6666666666666666,
             "#ed7953"
            ],
            [
             0.7777777777777778,
             "#fb9f3a"
            ],
            [
             0.8888888888888888,
             "#fdca26"
            ],
            [
             1,
             "#f0f921"
            ]
           ],
           "sequentialminus": [
            [
             0,
             "#0d0887"
            ],
            [
             0.1111111111111111,
             "#46039f"
            ],
            [
             0.2222222222222222,
             "#7201a8"
            ],
            [
             0.3333333333333333,
             "#9c179e"
            ],
            [
             0.4444444444444444,
             "#bd3786"
            ],
            [
             0.5555555555555556,
             "#d8576b"
            ],
            [
             0.6666666666666666,
             "#ed7953"
            ],
            [
             0.7777777777777778,
             "#fb9f3a"
            ],
            [
             0.8888888888888888,
             "#fdca26"
            ],
            [
             1,
             "#f0f921"
            ]
           ]
          },
          "colorway": [
           "#636efa",
           "#EF553B",
           "#00cc96",
           "#ab63fa",
           "#FFA15A",
           "#19d3f3",
           "#FF6692",
           "#B6E880",
           "#FF97FF",
           "#FECB52"
          ],
          "font": {
           "color": "#2a3f5f"
          },
          "geo": {
           "bgcolor": "white",
           "lakecolor": "white",
           "landcolor": "#E5ECF6",
           "showlakes": true,
           "showland": true,
           "subunitcolor": "white"
          },
          "hoverlabel": {
           "align": "left"
          },
          "hovermode": "closest",
          "mapbox": {
           "style": "light"
          },
          "paper_bgcolor": "white",
          "plot_bgcolor": "#E5ECF6",
          "polar": {
           "angularaxis": {
            "gridcolor": "white",
            "linecolor": "white",
            "ticks": ""
           },
           "bgcolor": "#E5ECF6",
           "radialaxis": {
            "gridcolor": "white",
            "linecolor": "white",
            "ticks": ""
           }
          },
          "scene": {
           "xaxis": {
            "backgroundcolor": "#E5ECF6",
            "gridcolor": "white",
            "gridwidth": 2,
            "linecolor": "white",
            "showbackground": true,
            "ticks": "",
            "zerolinecolor": "white"
           },
           "yaxis": {
            "backgroundcolor": "#E5ECF6",
            "gridcolor": "white",
            "gridwidth": 2,
            "linecolor": "white",
            "showbackground": true,
            "ticks": "",
            "zerolinecolor": "white"
           },
           "zaxis": {
            "backgroundcolor": "#E5ECF6",
            "gridcolor": "white",
            "gridwidth": 2,
            "linecolor": "white",
            "showbackground": true,
            "ticks": "",
            "zerolinecolor": "white"
           }
          },
          "shapedefaults": {
           "line": {
            "color": "#2a3f5f"
           }
          },
          "ternary": {
           "aaxis": {
            "gridcolor": "white",
            "linecolor": "white",
            "ticks": ""
           },
           "baxis": {
            "gridcolor": "white",
            "linecolor": "white",
            "ticks": ""
           },
           "bgcolor": "#E5ECF6",
           "caxis": {
            "gridcolor": "white",
            "linecolor": "white",
            "ticks": ""
           }
          },
          "title": {
           "x": 0.05
          },
          "xaxis": {
           "automargin": true,
           "gridcolor": "white",
           "linecolor": "white",
           "ticks": "",
           "title": {
            "standoff": 15
           },
           "zerolinecolor": "white",
           "zerolinewidth": 2
          },
          "yaxis": {
           "automargin": true,
           "gridcolor": "white",
           "linecolor": "white",
           "ticks": "",
           "title": {
            "standoff": 15
           },
           "zerolinecolor": "white",
           "zerolinewidth": 2
          }
         }
        },
        "title": {
         "text": "lose round"
        },
        "width": 700
       }
      }
     },
     "metadata": {},
     "output_type": "display_data"
    }
   ],
   "source": [
    "import plotly.graph_objects as go\n",
    "\n",
    "x_data = df_lose_round.columns.to_list() # close threshold\n",
    "\n",
    "y_data = df_lose_round.index.to_list() # open threshold\n",
    "\n",
    "z_data = df_lose_round.copy(deep=True) # win rate\n",
    "\n",
    "fig = go.Figure(data=[go.Surface(z=z_data.values,x=x_data,y=y_data)])\n",
    "\n",
    "fig.update_layout(title=\"lose round\", # 标题\n",
    "                  autosize=False,  # 尺度自动缩放\n",
    "                  width=700,  # 长宽\n",
    "                  height=600,\n",
    "                  margin=dict(l=65,r=50,b=65,t=90),  # 4个位置的距离\n",
    "                  scene=dict(xaxis_title='X-close-threshold',yaxis_title='Y-open-threshold')\n",
    "                )\n",
    "\n",
    "fig.show()"
   ]
  },
  {
   "cell_type": "markdown",
   "metadata": {},
   "source": [
    "# net value surface"
   ]
  },
  {
   "cell_type": "code",
   "execution_count": 24,
   "metadata": {},
   "outputs": [
    {
     "name": "stdout",
     "output_type": "stream",
     "text": [
      "max return per round: \n",
      " 0.000    43.055591\n",
      "0.001    40.121952\n",
      "0.002    39.275352\n",
      "0.003    37.773696\n",
      "dtype: float64\n",
      "min return per round: \n",
      " 0.000    20.482103\n",
      "0.001    20.272504\n",
      "0.002    21.743055\n",
      "0.003    21.449373\n",
      "dtype: float64\n"
     ]
    },
    {
     "data": {
      "text/html": [
       "<div>\n",
       "<style scoped>\n",
       "    .dataframe tbody tr th:only-of-type {\n",
       "        vertical-align: middle;\n",
       "    }\n",
       "\n",
       "    .dataframe tbody tr th {\n",
       "        vertical-align: top;\n",
       "    }\n",
       "\n",
       "    .dataframe thead th {\n",
       "        text-align: right;\n",
       "    }\n",
       "</style>\n",
       "<table border=\"1\" class=\"dataframe\">\n",
       "  <thead>\n",
       "    <tr style=\"text-align: right;\">\n",
       "      <th></th>\n",
       "      <th>0.000</th>\n",
       "      <th>0.001</th>\n",
       "      <th>0.002</th>\n",
       "      <th>0.003</th>\n",
       "    </tr>\n",
       "  </thead>\n",
       "  <tbody>\n",
       "    <tr>\n",
       "      <th>0.001</th>\n",
       "      <td>31.486341</td>\n",
       "      <td>NaN</td>\n",
       "      <td>NaN</td>\n",
       "      <td>NaN</td>\n",
       "    </tr>\n",
       "    <tr>\n",
       "      <th>0.002</th>\n",
       "      <td>31.329735</td>\n",
       "      <td>31.498673</td>\n",
       "      <td>NaN</td>\n",
       "      <td>NaN</td>\n",
       "    </tr>\n",
       "    <tr>\n",
       "      <th>0.003</th>\n",
       "      <td>33.484233</td>\n",
       "      <td>33.181732</td>\n",
       "      <td>31.230957</td>\n",
       "      <td>NaN</td>\n",
       "    </tr>\n",
       "    <tr>\n",
       "      <th>0.004</th>\n",
       "      <td>37.404024</td>\n",
       "      <td>38.455737</td>\n",
       "      <td>36.164857</td>\n",
       "      <td>28.630508</td>\n",
       "    </tr>\n",
       "    <tr>\n",
       "      <th>0.005</th>\n",
       "      <td>36.393530</td>\n",
       "      <td>37.391759</td>\n",
       "      <td>35.339275</td>\n",
       "      <td>29.402491</td>\n",
       "    </tr>\n",
       "    <tr>\n",
       "      <th>0.006</th>\n",
       "      <td>34.012237</td>\n",
       "      <td>36.426168</td>\n",
       "      <td>33.939548</td>\n",
       "      <td>32.781241</td>\n",
       "    </tr>\n",
       "    <tr>\n",
       "      <th>0.007</th>\n",
       "      <td>38.297298</td>\n",
       "      <td>39.809556</td>\n",
       "      <td>39.104978</td>\n",
       "      <td>37.773696</td>\n",
       "    </tr>\n",
       "    <tr>\n",
       "      <th>0.008</th>\n",
       "      <td>38.155974</td>\n",
       "      <td>37.772258</td>\n",
       "      <td>37.120672</td>\n",
       "      <td>35.746970</td>\n",
       "    </tr>\n",
       "    <tr>\n",
       "      <th>0.009</th>\n",
       "      <td>31.723513</td>\n",
       "      <td>31.844436</td>\n",
       "      <td>30.116226</td>\n",
       "      <td>29.719978</td>\n",
       "    </tr>\n",
       "    <tr>\n",
       "      <th>0.010</th>\n",
       "      <td>37.556740</td>\n",
       "      <td>36.411818</td>\n",
       "      <td>34.786331</td>\n",
       "      <td>32.602945</td>\n",
       "    </tr>\n",
       "    <tr>\n",
       "      <th>0.011</th>\n",
       "      <td>36.403522</td>\n",
       "      <td>35.948645</td>\n",
       "      <td>34.597356</td>\n",
       "      <td>36.106721</td>\n",
       "    </tr>\n",
       "    <tr>\n",
       "      <th>0.012</th>\n",
       "      <td>43.055591</td>\n",
       "      <td>40.121952</td>\n",
       "      <td>39.275352</td>\n",
       "      <td>37.542680</td>\n",
       "    </tr>\n",
       "    <tr>\n",
       "      <th>0.013</th>\n",
       "      <td>37.531164</td>\n",
       "      <td>36.421312</td>\n",
       "      <td>36.020001</td>\n",
       "      <td>33.324031</td>\n",
       "    </tr>\n",
       "    <tr>\n",
       "      <th>0.014</th>\n",
       "      <td>32.041763</td>\n",
       "      <td>31.509338</td>\n",
       "      <td>31.402914</td>\n",
       "      <td>29.131713</td>\n",
       "    </tr>\n",
       "    <tr>\n",
       "      <th>0.015</th>\n",
       "      <td>26.258131</td>\n",
       "      <td>25.725276</td>\n",
       "      <td>26.233213</td>\n",
       "      <td>24.276455</td>\n",
       "    </tr>\n",
       "    <tr>\n",
       "      <th>0.016</th>\n",
       "      <td>28.380022</td>\n",
       "      <td>27.845857</td>\n",
       "      <td>28.353563</td>\n",
       "      <td>27.495337</td>\n",
       "    </tr>\n",
       "    <tr>\n",
       "      <th>0.017</th>\n",
       "      <td>28.138283</td>\n",
       "      <td>27.781852</td>\n",
       "      <td>28.562384</td>\n",
       "      <td>27.704742</td>\n",
       "    </tr>\n",
       "    <tr>\n",
       "      <th>0.018</th>\n",
       "      <td>20.482103</td>\n",
       "      <td>20.272504</td>\n",
       "      <td>21.743055</td>\n",
       "      <td>21.449373</td>\n",
       "    </tr>\n",
       "    <tr>\n",
       "      <th>0.019</th>\n",
       "      <td>26.662799</td>\n",
       "      <td>26.445143</td>\n",
       "      <td>27.922804</td>\n",
       "      <td>27.660993</td>\n",
       "    </tr>\n",
       "    <tr>\n",
       "      <th>0.020</th>\n",
       "      <td>28.400819</td>\n",
       "      <td>28.183163</td>\n",
       "      <td>29.660824</td>\n",
       "      <td>29.399012</td>\n",
       "    </tr>\n",
       "  </tbody>\n",
       "</table>\n",
       "</div>"
      ],
      "text/plain": [
       "           0.000      0.001      0.002      0.003\n",
       "0.001  31.486341        NaN        NaN        NaN\n",
       "0.002  31.329735  31.498673        NaN        NaN\n",
       "0.003  33.484233  33.181732  31.230957        NaN\n",
       "0.004  37.404024  38.455737  36.164857  28.630508\n",
       "0.005  36.393530  37.391759  35.339275  29.402491\n",
       "0.006  34.012237  36.426168  33.939548  32.781241\n",
       "0.007  38.297298  39.809556  39.104978  37.773696\n",
       "0.008  38.155974  37.772258  37.120672  35.746970\n",
       "0.009  31.723513  31.844436  30.116226  29.719978\n",
       "0.010  37.556740  36.411818  34.786331  32.602945\n",
       "0.011  36.403522  35.948645  34.597356  36.106721\n",
       "0.012  43.055591  40.121952  39.275352  37.542680\n",
       "0.013  37.531164  36.421312  36.020001  33.324031\n",
       "0.014  32.041763  31.509338  31.402914  29.131713\n",
       "0.015  26.258131  25.725276  26.233213  24.276455\n",
       "0.016  28.380022  27.845857  28.353563  27.495337\n",
       "0.017  28.138283  27.781852  28.562384  27.704742\n",
       "0.018  20.482103  20.272504  21.743055  21.449373\n",
       "0.019  26.662799  26.445143  27.922804  27.660993\n",
       "0.020  28.400819  28.183163  29.660824  29.399012"
      ]
     },
     "execution_count": 24,
     "metadata": {},
     "output_type": "execute_result"
    }
   ],
   "source": [
    "'final net value'\n",
    "df_final_nv = pd.DataFrame([])\n",
    "for index,row in df_grid_search_res.iterrows():\n",
    "    open_threshold = row['open threshold']\n",
    "    close_threshold = row['close threshold']\n",
    "    df_final_nv.loc[open_threshold,close_threshold] = row['final net value']\n",
    "print('max return per round: \\n',df_final_nv.max())\n",
    "print('min return per round: \\n',df_final_nv.min())\n",
    "df_final_nv\n"
   ]
  },
  {
   "cell_type": "code",
   "execution_count": 25,
   "metadata": {},
   "outputs": [
    {
     "data": {
      "application/vnd.plotly.v1+json": {
       "config": {
        "plotlyServerURL": "https://plot.ly"
       },
       "data": [
        {
         "type": "surface",
         "x": [
          0,
          0.001,
          0.002,
          0.003
         ],
         "y": [
          0.001,
          0.002,
          0.003,
          0.004,
          0.005,
          0.006,
          0.007,
          0.008,
          0.009,
          0.01,
          0.011,
          0.012,
          0.013,
          0.014,
          0.015,
          0.016,
          0.017,
          0.018,
          0.019,
          0.02
         ],
         "z": [
          [
           31.486340922935515,
           null,
           null,
           null
          ],
          [
           31.329735360658365,
           31.49867331443701,
           null,
           null
          ],
          [
           33.48423289887282,
           33.181732010101676,
           31.23095712348648,
           null
          ],
          [
           37.40402369299301,
           38.455736967366555,
           36.164856853976936,
           28.6305077437079
          ],
          [
           36.393529807285574,
           37.39175911292639,
           35.33927525099269,
           29.402490590061422
          ],
          [
           34.012236976643635,
           36.42616806980359,
           33.93954774108331,
           32.78124148280673
          ],
          [
           38.2972979313754,
           39.809555769747725,
           39.1049781565467,
           37.77369582469091
          ],
          [
           38.15597422597523,
           37.77225793524129,
           37.12067179881196,
           35.746969993119045
          ],
          [
           31.72351262808397,
           31.844436249553375,
           30.116226232994045,
           29.719977896299888
          ],
          [
           37.55673985845601,
           36.41181800309331,
           34.786331008529935,
           32.602945310755324
          ],
          [
           36.403522026102834,
           35.948644748011006,
           34.59735572603323,
           36.10672137880392
          ],
          [
           43.055590614799044,
           40.12195244885278,
           39.27535169128119,
           37.54267954854852
          ],
          [
           37.53116373123699,
           36.421312040272554,
           36.02000066604212,
           33.32403065884701
          ],
          [
           32.04176271806098,
           31.509337824942534,
           31.4029140747149,
           29.131713048622302
          ],
          [
           26.258131118055346,
           25.725276484310015,
           26.23321339963256,
           24.27645520773244
          ],
          [
           28.380021844255324,
           27.84585707399914,
           28.353563125044687,
           27.49533661245887
          ],
          [
           28.138283204138318,
           27.781852452315334,
           28.5623839250555,
           27.704742174054118
          ],
          [
           20.48210344757156,
           20.272504186464758,
           21.743054779321895,
           21.44937251936956
          ],
          [
           26.662799310549886,
           26.445143362497916,
           27.92280447762967,
           27.660992963102743
          ],
          [
           28.400818776923032,
           28.18316282887109,
           29.660823944002843,
           29.399012429475917
          ]
         ]
        }
       ],
       "layout": {
        "autosize": false,
        "height": 600,
        "margin": {
         "b": 65,
         "l": 65,
         "r": 50,
         "t": 90
        },
        "scene": {
         "xaxis": {
          "title": {
           "text": "X-close-threshold"
          }
         },
         "yaxis": {
          "title": {
           "text": "Y-open-threshold"
          }
         }
        },
        "template": {
         "data": {
          "bar": [
           {
            "error_x": {
             "color": "#2a3f5f"
            },
            "error_y": {
             "color": "#2a3f5f"
            },
            "marker": {
             "line": {
              "color": "#E5ECF6",
              "width": 0.5
             },
             "pattern": {
              "fillmode": "overlay",
              "size": 10,
              "solidity": 0.2
             }
            },
            "type": "bar"
           }
          ],
          "barpolar": [
           {
            "marker": {
             "line": {
              "color": "#E5ECF6",
              "width": 0.5
             },
             "pattern": {
              "fillmode": "overlay",
              "size": 10,
              "solidity": 0.2
             }
            },
            "type": "barpolar"
           }
          ],
          "carpet": [
           {
            "aaxis": {
             "endlinecolor": "#2a3f5f",
             "gridcolor": "white",
             "linecolor": "white",
             "minorgridcolor": "white",
             "startlinecolor": "#2a3f5f"
            },
            "baxis": {
             "endlinecolor": "#2a3f5f",
             "gridcolor": "white",
             "linecolor": "white",
             "minorgridcolor": "white",
             "startlinecolor": "#2a3f5f"
            },
            "type": "carpet"
           }
          ],
          "choropleth": [
           {
            "colorbar": {
             "outlinewidth": 0,
             "ticks": ""
            },
            "type": "choropleth"
           }
          ],
          "contour": [
           {
            "colorbar": {
             "outlinewidth": 0,
             "ticks": ""
            },
            "colorscale": [
             [
              0,
              "#0d0887"
             ],
             [
              0.1111111111111111,
              "#46039f"
             ],
             [
              0.2222222222222222,
              "#7201a8"
             ],
             [
              0.3333333333333333,
              "#9c179e"
             ],
             [
              0.4444444444444444,
              "#bd3786"
             ],
             [
              0.5555555555555556,
              "#d8576b"
             ],
             [
              0.6666666666666666,
              "#ed7953"
             ],
             [
              0.7777777777777778,
              "#fb9f3a"
             ],
             [
              0.8888888888888888,
              "#fdca26"
             ],
             [
              1,
              "#f0f921"
             ]
            ],
            "type": "contour"
           }
          ],
          "contourcarpet": [
           {
            "colorbar": {
             "outlinewidth": 0,
             "ticks": ""
            },
            "type": "contourcarpet"
           }
          ],
          "heatmap": [
           {
            "colorbar": {
             "outlinewidth": 0,
             "ticks": ""
            },
            "colorscale": [
             [
              0,
              "#0d0887"
             ],
             [
              0.1111111111111111,
              "#46039f"
             ],
             [
              0.2222222222222222,
              "#7201a8"
             ],
             [
              0.3333333333333333,
              "#9c179e"
             ],
             [
              0.4444444444444444,
              "#bd3786"
             ],
             [
              0.5555555555555556,
              "#d8576b"
             ],
             [
              0.6666666666666666,
              "#ed7953"
             ],
             [
              0.7777777777777778,
              "#fb9f3a"
             ],
             [
              0.8888888888888888,
              "#fdca26"
             ],
             [
              1,
              "#f0f921"
             ]
            ],
            "type": "heatmap"
           }
          ],
          "heatmapgl": [
           {
            "colorbar": {
             "outlinewidth": 0,
             "ticks": ""
            },
            "colorscale": [
             [
              0,
              "#0d0887"
             ],
             [
              0.1111111111111111,
              "#46039f"
             ],
             [
              0.2222222222222222,
              "#7201a8"
             ],
             [
              0.3333333333333333,
              "#9c179e"
             ],
             [
              0.4444444444444444,
              "#bd3786"
             ],
             [
              0.5555555555555556,
              "#d8576b"
             ],
             [
              0.6666666666666666,
              "#ed7953"
             ],
             [
              0.7777777777777778,
              "#fb9f3a"
             ],
             [
              0.8888888888888888,
              "#fdca26"
             ],
             [
              1,
              "#f0f921"
             ]
            ],
            "type": "heatmapgl"
           }
          ],
          "histogram": [
           {
            "marker": {
             "pattern": {
              "fillmode": "overlay",
              "size": 10,
              "solidity": 0.2
             }
            },
            "type": "histogram"
           }
          ],
          "histogram2d": [
           {
            "colorbar": {
             "outlinewidth": 0,
             "ticks": ""
            },
            "colorscale": [
             [
              0,
              "#0d0887"
             ],
             [
              0.1111111111111111,
              "#46039f"
             ],
             [
              0.2222222222222222,
              "#7201a8"
             ],
             [
              0.3333333333333333,
              "#9c179e"
             ],
             [
              0.4444444444444444,
              "#bd3786"
             ],
             [
              0.5555555555555556,
              "#d8576b"
             ],
             [
              0.6666666666666666,
              "#ed7953"
             ],
             [
              0.7777777777777778,
              "#fb9f3a"
             ],
             [
              0.8888888888888888,
              "#fdca26"
             ],
             [
              1,
              "#f0f921"
             ]
            ],
            "type": "histogram2d"
           }
          ],
          "histogram2dcontour": [
           {
            "colorbar": {
             "outlinewidth": 0,
             "ticks": ""
            },
            "colorscale": [
             [
              0,
              "#0d0887"
             ],
             [
              0.1111111111111111,
              "#46039f"
             ],
             [
              0.2222222222222222,
              "#7201a8"
             ],
             [
              0.3333333333333333,
              "#9c179e"
             ],
             [
              0.4444444444444444,
              "#bd3786"
             ],
             [
              0.5555555555555556,
              "#d8576b"
             ],
             [
              0.6666666666666666,
              "#ed7953"
             ],
             [
              0.7777777777777778,
              "#fb9f3a"
             ],
             [
              0.8888888888888888,
              "#fdca26"
             ],
             [
              1,
              "#f0f921"
             ]
            ],
            "type": "histogram2dcontour"
           }
          ],
          "mesh3d": [
           {
            "colorbar": {
             "outlinewidth": 0,
             "ticks": ""
            },
            "type": "mesh3d"
           }
          ],
          "parcoords": [
           {
            "line": {
             "colorbar": {
              "outlinewidth": 0,
              "ticks": ""
             }
            },
            "type": "parcoords"
           }
          ],
          "pie": [
           {
            "automargin": true,
            "type": "pie"
           }
          ],
          "scatter": [
           {
            "fillpattern": {
             "fillmode": "overlay",
             "size": 10,
             "solidity": 0.2
            },
            "type": "scatter"
           }
          ],
          "scatter3d": [
           {
            "line": {
             "colorbar": {
              "outlinewidth": 0,
              "ticks": ""
             }
            },
            "marker": {
             "colorbar": {
              "outlinewidth": 0,
              "ticks": ""
             }
            },
            "type": "scatter3d"
           }
          ],
          "scattercarpet": [
           {
            "marker": {
             "colorbar": {
              "outlinewidth": 0,
              "ticks": ""
             }
            },
            "type": "scattercarpet"
           }
          ],
          "scattergeo": [
           {
            "marker": {
             "colorbar": {
              "outlinewidth": 0,
              "ticks": ""
             }
            },
            "type": "scattergeo"
           }
          ],
          "scattergl": [
           {
            "marker": {
             "colorbar": {
              "outlinewidth": 0,
              "ticks": ""
             }
            },
            "type": "scattergl"
           }
          ],
          "scattermapbox": [
           {
            "marker": {
             "colorbar": {
              "outlinewidth": 0,
              "ticks": ""
             }
            },
            "type": "scattermapbox"
           }
          ],
          "scatterpolar": [
           {
            "marker": {
             "colorbar": {
              "outlinewidth": 0,
              "ticks": ""
             }
            },
            "type": "scatterpolar"
           }
          ],
          "scatterpolargl": [
           {
            "marker": {
             "colorbar": {
              "outlinewidth": 0,
              "ticks": ""
             }
            },
            "type": "scatterpolargl"
           }
          ],
          "scatterternary": [
           {
            "marker": {
             "colorbar": {
              "outlinewidth": 0,
              "ticks": ""
             }
            },
            "type": "scatterternary"
           }
          ],
          "surface": [
           {
            "colorbar": {
             "outlinewidth": 0,
             "ticks": ""
            },
            "colorscale": [
             [
              0,
              "#0d0887"
             ],
             [
              0.1111111111111111,
              "#46039f"
             ],
             [
              0.2222222222222222,
              "#7201a8"
             ],
             [
              0.3333333333333333,
              "#9c179e"
             ],
             [
              0.4444444444444444,
              "#bd3786"
             ],
             [
              0.5555555555555556,
              "#d8576b"
             ],
             [
              0.6666666666666666,
              "#ed7953"
             ],
             [
              0.7777777777777778,
              "#fb9f3a"
             ],
             [
              0.8888888888888888,
              "#fdca26"
             ],
             [
              1,
              "#f0f921"
             ]
            ],
            "type": "surface"
           }
          ],
          "table": [
           {
            "cells": {
             "fill": {
              "color": "#EBF0F8"
             },
             "line": {
              "color": "white"
             }
            },
            "header": {
             "fill": {
              "color": "#C8D4E3"
             },
             "line": {
              "color": "white"
             }
            },
            "type": "table"
           }
          ]
         },
         "layout": {
          "annotationdefaults": {
           "arrowcolor": "#2a3f5f",
           "arrowhead": 0,
           "arrowwidth": 1
          },
          "autotypenumbers": "strict",
          "coloraxis": {
           "colorbar": {
            "outlinewidth": 0,
            "ticks": ""
           }
          },
          "colorscale": {
           "diverging": [
            [
             0,
             "#8e0152"
            ],
            [
             0.1,
             "#c51b7d"
            ],
            [
             0.2,
             "#de77ae"
            ],
            [
             0.3,
             "#f1b6da"
            ],
            [
             0.4,
             "#fde0ef"
            ],
            [
             0.5,
             "#f7f7f7"
            ],
            [
             0.6,
             "#e6f5d0"
            ],
            [
             0.7,
             "#b8e186"
            ],
            [
             0.8,
             "#7fbc41"
            ],
            [
             0.9,
             "#4d9221"
            ],
            [
             1,
             "#276419"
            ]
           ],
           "sequential": [
            [
             0,
             "#0d0887"
            ],
            [
             0.1111111111111111,
             "#46039f"
            ],
            [
             0.2222222222222222,
             "#7201a8"
            ],
            [
             0.3333333333333333,
             "#9c179e"
            ],
            [
             0.4444444444444444,
             "#bd3786"
            ],
            [
             0.5555555555555556,
             "#d8576b"
            ],
            [
             0.6666666666666666,
             "#ed7953"
            ],
            [
             0.7777777777777778,
             "#fb9f3a"
            ],
            [
             0.8888888888888888,
             "#fdca26"
            ],
            [
             1,
             "#f0f921"
            ]
           ],
           "sequentialminus": [
            [
             0,
             "#0d0887"
            ],
            [
             0.1111111111111111,
             "#46039f"
            ],
            [
             0.2222222222222222,
             "#7201a8"
            ],
            [
             0.3333333333333333,
             "#9c179e"
            ],
            [
             0.4444444444444444,
             "#bd3786"
            ],
            [
             0.5555555555555556,
             "#d8576b"
            ],
            [
             0.6666666666666666,
             "#ed7953"
            ],
            [
             0.7777777777777778,
             "#fb9f3a"
            ],
            [
             0.8888888888888888,
             "#fdca26"
            ],
            [
             1,
             "#f0f921"
            ]
           ]
          },
          "colorway": [
           "#636efa",
           "#EF553B",
           "#00cc96",
           "#ab63fa",
           "#FFA15A",
           "#19d3f3",
           "#FF6692",
           "#B6E880",
           "#FF97FF",
           "#FECB52"
          ],
          "font": {
           "color": "#2a3f5f"
          },
          "geo": {
           "bgcolor": "white",
           "lakecolor": "white",
           "landcolor": "#E5ECF6",
           "showlakes": true,
           "showland": true,
           "subunitcolor": "white"
          },
          "hoverlabel": {
           "align": "left"
          },
          "hovermode": "closest",
          "mapbox": {
           "style": "light"
          },
          "paper_bgcolor": "white",
          "plot_bgcolor": "#E5ECF6",
          "polar": {
           "angularaxis": {
            "gridcolor": "white",
            "linecolor": "white",
            "ticks": ""
           },
           "bgcolor": "#E5ECF6",
           "radialaxis": {
            "gridcolor": "white",
            "linecolor": "white",
            "ticks": ""
           }
          },
          "scene": {
           "xaxis": {
            "backgroundcolor": "#E5ECF6",
            "gridcolor": "white",
            "gridwidth": 2,
            "linecolor": "white",
            "showbackground": true,
            "ticks": "",
            "zerolinecolor": "white"
           },
           "yaxis": {
            "backgroundcolor": "#E5ECF6",
            "gridcolor": "white",
            "gridwidth": 2,
            "linecolor": "white",
            "showbackground": true,
            "ticks": "",
            "zerolinecolor": "white"
           },
           "zaxis": {
            "backgroundcolor": "#E5ECF6",
            "gridcolor": "white",
            "gridwidth": 2,
            "linecolor": "white",
            "showbackground": true,
            "ticks": "",
            "zerolinecolor": "white"
           }
          },
          "shapedefaults": {
           "line": {
            "color": "#2a3f5f"
           }
          },
          "ternary": {
           "aaxis": {
            "gridcolor": "white",
            "linecolor": "white",
            "ticks": ""
           },
           "baxis": {
            "gridcolor": "white",
            "linecolor": "white",
            "ticks": ""
           },
           "bgcolor": "#E5ECF6",
           "caxis": {
            "gridcolor": "white",
            "linecolor": "white",
            "ticks": ""
           }
          },
          "title": {
           "x": 0.05
          },
          "xaxis": {
           "automargin": true,
           "gridcolor": "white",
           "linecolor": "white",
           "ticks": "",
           "title": {
            "standoff": 15
           },
           "zerolinecolor": "white",
           "zerolinewidth": 2
          },
          "yaxis": {
           "automargin": true,
           "gridcolor": "white",
           "linecolor": "white",
           "ticks": "",
           "title": {
            "standoff": 15
           },
           "zerolinecolor": "white",
           "zerolinewidth": 2
          }
         }
        },
        "title": {
         "text": "final net value"
        },
        "width": 700
       }
      }
     },
     "metadata": {},
     "output_type": "display_data"
    }
   ],
   "source": [
    "import plotly.graph_objects as go\n",
    "\n",
    "x_data = df_final_nv.columns.to_list() # close threshold\n",
    "\n",
    "y_data = df_final_nv.index.to_list() # open threshold\n",
    "\n",
    "z_data = df_final_nv.copy(deep=True) # return per round\n",
    "\n",
    "fig = go.Figure(data=[go.Surface(z=z_data.values,x=x_data,y=y_data)])\n",
    "\n",
    "fig.update_layout(title=\"final net value\", # 标题\n",
    "                  autosize=False,  # 尺度自动缩放\n",
    "                  width=700,  # 长宽\n",
    "                  height=600,\n",
    "                  margin=dict(l=65,r=50,b=65,t=90),  # 4个位置的距离\n",
    "                  scene=dict(xaxis_title='X-close-threshold',yaxis_title='Y-open-threshold')\n",
    "                 )\n",
    "\n",
    "fig.show()"
   ]
  },
  {
   "cell_type": "markdown",
   "metadata": {},
   "source": [
    "# breadth analysis"
   ]
  },
  {
   "cell_type": "code",
   "execution_count": 26,
   "metadata": {},
   "outputs": [],
   "source": [
    "df_grid_search_res['signal breadth'] = df_grid_search_res['open threshold'] - df_grid_search_res['close threshold']\n",
    "# tmp_grid_res['signal breadth'] = tmp_grid_res['open threshold'] - tmp_grid_res['close threshold']"
   ]
  },
  {
   "cell_type": "code",
   "execution_count": 27,
   "metadata": {},
   "outputs": [
    {
     "name": "stdout",
     "output_type": "stream",
     "text": [
      "max signal breadth: \n",
      " 0.000    0.020\n",
      "0.001    0.019\n",
      "0.002    0.018\n",
      "0.003    0.017\n",
      "dtype: float64\n",
      "min signal breadth: \n",
      " 0.000    0.001\n",
      "0.001    0.001\n",
      "0.002    0.001\n",
      "0.003    0.001\n",
      "dtype: float64\n"
     ]
    },
    {
     "data": {
      "text/html": [
       "<div>\n",
       "<style scoped>\n",
       "    .dataframe tbody tr th:only-of-type {\n",
       "        vertical-align: middle;\n",
       "    }\n",
       "\n",
       "    .dataframe tbody tr th {\n",
       "        vertical-align: top;\n",
       "    }\n",
       "\n",
       "    .dataframe thead th {\n",
       "        text-align: right;\n",
       "    }\n",
       "</style>\n",
       "<table border=\"1\" class=\"dataframe\">\n",
       "  <thead>\n",
       "    <tr style=\"text-align: right;\">\n",
       "      <th></th>\n",
       "      <th>0.000</th>\n",
       "      <th>0.001</th>\n",
       "      <th>0.002</th>\n",
       "      <th>0.003</th>\n",
       "    </tr>\n",
       "  </thead>\n",
       "  <tbody>\n",
       "    <tr>\n",
       "      <th>0.001</th>\n",
       "      <td>0.001</td>\n",
       "      <td>NaN</td>\n",
       "      <td>NaN</td>\n",
       "      <td>NaN</td>\n",
       "    </tr>\n",
       "    <tr>\n",
       "      <th>0.002</th>\n",
       "      <td>0.002</td>\n",
       "      <td>0.001</td>\n",
       "      <td>NaN</td>\n",
       "      <td>NaN</td>\n",
       "    </tr>\n",
       "    <tr>\n",
       "      <th>0.003</th>\n",
       "      <td>0.003</td>\n",
       "      <td>0.002</td>\n",
       "      <td>0.001</td>\n",
       "      <td>NaN</td>\n",
       "    </tr>\n",
       "    <tr>\n",
       "      <th>0.004</th>\n",
       "      <td>0.004</td>\n",
       "      <td>0.003</td>\n",
       "      <td>0.002</td>\n",
       "      <td>0.001</td>\n",
       "    </tr>\n",
       "    <tr>\n",
       "      <th>0.005</th>\n",
       "      <td>0.005</td>\n",
       "      <td>0.004</td>\n",
       "      <td>0.003</td>\n",
       "      <td>0.002</td>\n",
       "    </tr>\n",
       "    <tr>\n",
       "      <th>0.006</th>\n",
       "      <td>0.006</td>\n",
       "      <td>0.005</td>\n",
       "      <td>0.004</td>\n",
       "      <td>0.003</td>\n",
       "    </tr>\n",
       "    <tr>\n",
       "      <th>0.007</th>\n",
       "      <td>0.007</td>\n",
       "      <td>0.006</td>\n",
       "      <td>0.005</td>\n",
       "      <td>0.004</td>\n",
       "    </tr>\n",
       "    <tr>\n",
       "      <th>0.008</th>\n",
       "      <td>0.008</td>\n",
       "      <td>0.007</td>\n",
       "      <td>0.006</td>\n",
       "      <td>0.005</td>\n",
       "    </tr>\n",
       "    <tr>\n",
       "      <th>0.009</th>\n",
       "      <td>0.009</td>\n",
       "      <td>0.008</td>\n",
       "      <td>0.007</td>\n",
       "      <td>0.006</td>\n",
       "    </tr>\n",
       "    <tr>\n",
       "      <th>0.010</th>\n",
       "      <td>0.010</td>\n",
       "      <td>0.009</td>\n",
       "      <td>0.008</td>\n",
       "      <td>0.007</td>\n",
       "    </tr>\n",
       "    <tr>\n",
       "      <th>0.011</th>\n",
       "      <td>0.011</td>\n",
       "      <td>0.010</td>\n",
       "      <td>0.009</td>\n",
       "      <td>0.008</td>\n",
       "    </tr>\n",
       "    <tr>\n",
       "      <th>0.012</th>\n",
       "      <td>0.012</td>\n",
       "      <td>0.011</td>\n",
       "      <td>0.010</td>\n",
       "      <td>0.009</td>\n",
       "    </tr>\n",
       "    <tr>\n",
       "      <th>0.013</th>\n",
       "      <td>0.013</td>\n",
       "      <td>0.012</td>\n",
       "      <td>0.011</td>\n",
       "      <td>0.010</td>\n",
       "    </tr>\n",
       "    <tr>\n",
       "      <th>0.014</th>\n",
       "      <td>0.014</td>\n",
       "      <td>0.013</td>\n",
       "      <td>0.012</td>\n",
       "      <td>0.011</td>\n",
       "    </tr>\n",
       "    <tr>\n",
       "      <th>0.015</th>\n",
       "      <td>0.015</td>\n",
       "      <td>0.014</td>\n",
       "      <td>0.013</td>\n",
       "      <td>0.012</td>\n",
       "    </tr>\n",
       "    <tr>\n",
       "      <th>0.016</th>\n",
       "      <td>0.016</td>\n",
       "      <td>0.015</td>\n",
       "      <td>0.014</td>\n",
       "      <td>0.013</td>\n",
       "    </tr>\n",
       "    <tr>\n",
       "      <th>0.017</th>\n",
       "      <td>0.017</td>\n",
       "      <td>0.016</td>\n",
       "      <td>0.015</td>\n",
       "      <td>0.014</td>\n",
       "    </tr>\n",
       "    <tr>\n",
       "      <th>0.018</th>\n",
       "      <td>0.018</td>\n",
       "      <td>0.017</td>\n",
       "      <td>0.016</td>\n",
       "      <td>0.015</td>\n",
       "    </tr>\n",
       "    <tr>\n",
       "      <th>0.019</th>\n",
       "      <td>0.019</td>\n",
       "      <td>0.018</td>\n",
       "      <td>0.017</td>\n",
       "      <td>0.016</td>\n",
       "    </tr>\n",
       "    <tr>\n",
       "      <th>0.020</th>\n",
       "      <td>0.020</td>\n",
       "      <td>0.019</td>\n",
       "      <td>0.018</td>\n",
       "      <td>0.017</td>\n",
       "    </tr>\n",
       "  </tbody>\n",
       "</table>\n",
       "</div>"
      ],
      "text/plain": [
       "       0.000  0.001  0.002  0.003\n",
       "0.001  0.001    NaN    NaN    NaN\n",
       "0.002  0.002  0.001    NaN    NaN\n",
       "0.003  0.003  0.002  0.001    NaN\n",
       "0.004  0.004  0.003  0.002  0.001\n",
       "0.005  0.005  0.004  0.003  0.002\n",
       "0.006  0.006  0.005  0.004  0.003\n",
       "0.007  0.007  0.006  0.005  0.004\n",
       "0.008  0.008  0.007  0.006  0.005\n",
       "0.009  0.009  0.008  0.007  0.006\n",
       "0.010  0.010  0.009  0.008  0.007\n",
       "0.011  0.011  0.010  0.009  0.008\n",
       "0.012  0.012  0.011  0.010  0.009\n",
       "0.013  0.013  0.012  0.011  0.010\n",
       "0.014  0.014  0.013  0.012  0.011\n",
       "0.015  0.015  0.014  0.013  0.012\n",
       "0.016  0.016  0.015  0.014  0.013\n",
       "0.017  0.017  0.016  0.015  0.014\n",
       "0.018  0.018  0.017  0.016  0.015\n",
       "0.019  0.019  0.018  0.017  0.016\n",
       "0.020  0.020  0.019  0.018  0.017"
      ]
     },
     "execution_count": 27,
     "metadata": {},
     "output_type": "execute_result"
    }
   ],
   "source": [
    "tmp_grid_res\n",
    "df_breadth = pd.DataFrame([])\n",
    "for index,row in df_grid_search_res.iterrows():\n",
    "    open_threshold = row['open threshold']\n",
    "    close_threshold = row['close threshold']\n",
    "    df_breadth.loc[open_threshold,close_threshold] = row['signal breadth']\n",
    "print('max signal breadth: \\n',df_breadth.max())\n",
    "print('min signal breadth: \\n',df_breadth.min())    \n",
    "df_breadth"
   ]
  },
  {
   "cell_type": "code",
   "execution_count": 28,
   "metadata": {},
   "outputs": [
    {
     "data": {
      "application/vnd.plotly.v1+json": {
       "config": {
        "plotlyServerURL": "https://plot.ly"
       },
       "data": [
        {
         "type": "surface",
         "x": [
          0,
          0.001,
          0.002,
          0.003
         ],
         "y": [
          0.001,
          0.002,
          0.003,
          0.004,
          0.005,
          0.006,
          0.007,
          0.008,
          0.009,
          0.01,
          0.011,
          0.012,
          0.013,
          0.014,
          0.015,
          0.016,
          0.017,
          0.018,
          0.019,
          0.02
         ],
         "z": [
          [
           0.001,
           null,
           null,
           null
          ],
          [
           0.002,
           0.001,
           null,
           null
          ],
          [
           0.003,
           0.002,
           0.001,
           null
          ],
          [
           0.004,
           0.003,
           0.002,
           0.001
          ],
          [
           0.005,
           0.004,
           0.003,
           0.002
          ],
          [
           0.006,
           0.005,
           0.004,
           0.003
          ],
          [
           0.007,
           0.006,
           0.005,
           0.004
          ],
          [
           0.008,
           0.007,
           0.006,
           0.005
          ],
          [
           0.009,
           0.008,
           0.006999999999999999,
           0.005999999999999999
          ],
          [
           0.01,
           0.009000000000000001,
           0.008,
           0.007
          ],
          [
           0.011,
           0.009999999999999998,
           0.009,
           0.008
          ],
          [
           0.012,
           0.011,
           0.01,
           0.009000000000000001
          ],
          [
           0.013,
           0.012,
           0.011,
           0.009999999999999998
          ],
          [
           0.014,
           0.013000000000000001,
           0.012,
           0.011
          ],
          [
           0.015,
           0.013999999999999999,
           0.013,
           0.012
          ],
          [
           0.016,
           0.015,
           0.014,
           0.013000000000000001
          ],
          [
           0.017,
           0.016,
           0.015000000000000001,
           0.014000000000000002
          ],
          [
           0.018,
           0.016999999999999998,
           0.016,
           0.015
          ],
          [
           0.019,
           0.018,
           0.017,
           0.016
          ],
          [
           0.02,
           0.019,
           0.018000000000000002,
           0.017
          ]
         ]
        }
       ],
       "layout": {
        "autosize": false,
        "height": 600,
        "margin": {
         "b": 65,
         "l": 65,
         "r": 50,
         "t": 90
        },
        "scene": {
         "xaxis": {
          "title": {
           "text": "X-close-threshold"
          }
         },
         "yaxis": {
          "title": {
           "text": "Y-open-threshold"
          }
         }
        },
        "template": {
         "data": {
          "bar": [
           {
            "error_x": {
             "color": "#2a3f5f"
            },
            "error_y": {
             "color": "#2a3f5f"
            },
            "marker": {
             "line": {
              "color": "#E5ECF6",
              "width": 0.5
             },
             "pattern": {
              "fillmode": "overlay",
              "size": 10,
              "solidity": 0.2
             }
            },
            "type": "bar"
           }
          ],
          "barpolar": [
           {
            "marker": {
             "line": {
              "color": "#E5ECF6",
              "width": 0.5
             },
             "pattern": {
              "fillmode": "overlay",
              "size": 10,
              "solidity": 0.2
             }
            },
            "type": "barpolar"
           }
          ],
          "carpet": [
           {
            "aaxis": {
             "endlinecolor": "#2a3f5f",
             "gridcolor": "white",
             "linecolor": "white",
             "minorgridcolor": "white",
             "startlinecolor": "#2a3f5f"
            },
            "baxis": {
             "endlinecolor": "#2a3f5f",
             "gridcolor": "white",
             "linecolor": "white",
             "minorgridcolor": "white",
             "startlinecolor": "#2a3f5f"
            },
            "type": "carpet"
           }
          ],
          "choropleth": [
           {
            "colorbar": {
             "outlinewidth": 0,
             "ticks": ""
            },
            "type": "choropleth"
           }
          ],
          "contour": [
           {
            "colorbar": {
             "outlinewidth": 0,
             "ticks": ""
            },
            "colorscale": [
             [
              0,
              "#0d0887"
             ],
             [
              0.1111111111111111,
              "#46039f"
             ],
             [
              0.2222222222222222,
              "#7201a8"
             ],
             [
              0.3333333333333333,
              "#9c179e"
             ],
             [
              0.4444444444444444,
              "#bd3786"
             ],
             [
              0.5555555555555556,
              "#d8576b"
             ],
             [
              0.6666666666666666,
              "#ed7953"
             ],
             [
              0.7777777777777778,
              "#fb9f3a"
             ],
             [
              0.8888888888888888,
              "#fdca26"
             ],
             [
              1,
              "#f0f921"
             ]
            ],
            "type": "contour"
           }
          ],
          "contourcarpet": [
           {
            "colorbar": {
             "outlinewidth": 0,
             "ticks": ""
            },
            "type": "contourcarpet"
           }
          ],
          "heatmap": [
           {
            "colorbar": {
             "outlinewidth": 0,
             "ticks": ""
            },
            "colorscale": [
             [
              0,
              "#0d0887"
             ],
             [
              0.1111111111111111,
              "#46039f"
             ],
             [
              0.2222222222222222,
              "#7201a8"
             ],
             [
              0.3333333333333333,
              "#9c179e"
             ],
             [
              0.4444444444444444,
              "#bd3786"
             ],
             [
              0.5555555555555556,
              "#d8576b"
             ],
             [
              0.6666666666666666,
              "#ed7953"
             ],
             [
              0.7777777777777778,
              "#fb9f3a"
             ],
             [
              0.8888888888888888,
              "#fdca26"
             ],
             [
              1,
              "#f0f921"
             ]
            ],
            "type": "heatmap"
           }
          ],
          "heatmapgl": [
           {
            "colorbar": {
             "outlinewidth": 0,
             "ticks": ""
            },
            "colorscale": [
             [
              0,
              "#0d0887"
             ],
             [
              0.1111111111111111,
              "#46039f"
             ],
             [
              0.2222222222222222,
              "#7201a8"
             ],
             [
              0.3333333333333333,
              "#9c179e"
             ],
             [
              0.4444444444444444,
              "#bd3786"
             ],
             [
              0.5555555555555556,
              "#d8576b"
             ],
             [
              0.6666666666666666,
              "#ed7953"
             ],
             [
              0.7777777777777778,
              "#fb9f3a"
             ],
             [
              0.8888888888888888,
              "#fdca26"
             ],
             [
              1,
              "#f0f921"
             ]
            ],
            "type": "heatmapgl"
           }
          ],
          "histogram": [
           {
            "marker": {
             "pattern": {
              "fillmode": "overlay",
              "size": 10,
              "solidity": 0.2
             }
            },
            "type": "histogram"
           }
          ],
          "histogram2d": [
           {
            "colorbar": {
             "outlinewidth": 0,
             "ticks": ""
            },
            "colorscale": [
             [
              0,
              "#0d0887"
             ],
             [
              0.1111111111111111,
              "#46039f"
             ],
             [
              0.2222222222222222,
              "#7201a8"
             ],
             [
              0.3333333333333333,
              "#9c179e"
             ],
             [
              0.4444444444444444,
              "#bd3786"
             ],
             [
              0.5555555555555556,
              "#d8576b"
             ],
             [
              0.6666666666666666,
              "#ed7953"
             ],
             [
              0.7777777777777778,
              "#fb9f3a"
             ],
             [
              0.8888888888888888,
              "#fdca26"
             ],
             [
              1,
              "#f0f921"
             ]
            ],
            "type": "histogram2d"
           }
          ],
          "histogram2dcontour": [
           {
            "colorbar": {
             "outlinewidth": 0,
             "ticks": ""
            },
            "colorscale": [
             [
              0,
              "#0d0887"
             ],
             [
              0.1111111111111111,
              "#46039f"
             ],
             [
              0.2222222222222222,
              "#7201a8"
             ],
             [
              0.3333333333333333,
              "#9c179e"
             ],
             [
              0.4444444444444444,
              "#bd3786"
             ],
             [
              0.5555555555555556,
              "#d8576b"
             ],
             [
              0.6666666666666666,
              "#ed7953"
             ],
             [
              0.7777777777777778,
              "#fb9f3a"
             ],
             [
              0.8888888888888888,
              "#fdca26"
             ],
             [
              1,
              "#f0f921"
             ]
            ],
            "type": "histogram2dcontour"
           }
          ],
          "mesh3d": [
           {
            "colorbar": {
             "outlinewidth": 0,
             "ticks": ""
            },
            "type": "mesh3d"
           }
          ],
          "parcoords": [
           {
            "line": {
             "colorbar": {
              "outlinewidth": 0,
              "ticks": ""
             }
            },
            "type": "parcoords"
           }
          ],
          "pie": [
           {
            "automargin": true,
            "type": "pie"
           }
          ],
          "scatter": [
           {
            "fillpattern": {
             "fillmode": "overlay",
             "size": 10,
             "solidity": 0.2
            },
            "type": "scatter"
           }
          ],
          "scatter3d": [
           {
            "line": {
             "colorbar": {
              "outlinewidth": 0,
              "ticks": ""
             }
            },
            "marker": {
             "colorbar": {
              "outlinewidth": 0,
              "ticks": ""
             }
            },
            "type": "scatter3d"
           }
          ],
          "scattercarpet": [
           {
            "marker": {
             "colorbar": {
              "outlinewidth": 0,
              "ticks": ""
             }
            },
            "type": "scattercarpet"
           }
          ],
          "scattergeo": [
           {
            "marker": {
             "colorbar": {
              "outlinewidth": 0,
              "ticks": ""
             }
            },
            "type": "scattergeo"
           }
          ],
          "scattergl": [
           {
            "marker": {
             "colorbar": {
              "outlinewidth": 0,
              "ticks": ""
             }
            },
            "type": "scattergl"
           }
          ],
          "scattermapbox": [
           {
            "marker": {
             "colorbar": {
              "outlinewidth": 0,
              "ticks": ""
             }
            },
            "type": "scattermapbox"
           }
          ],
          "scatterpolar": [
           {
            "marker": {
             "colorbar": {
              "outlinewidth": 0,
              "ticks": ""
             }
            },
            "type": "scatterpolar"
           }
          ],
          "scatterpolargl": [
           {
            "marker": {
             "colorbar": {
              "outlinewidth": 0,
              "ticks": ""
             }
            },
            "type": "scatterpolargl"
           }
          ],
          "scatterternary": [
           {
            "marker": {
             "colorbar": {
              "outlinewidth": 0,
              "ticks": ""
             }
            },
            "type": "scatterternary"
           }
          ],
          "surface": [
           {
            "colorbar": {
             "outlinewidth": 0,
             "ticks": ""
            },
            "colorscale": [
             [
              0,
              "#0d0887"
             ],
             [
              0.1111111111111111,
              "#46039f"
             ],
             [
              0.2222222222222222,
              "#7201a8"
             ],
             [
              0.3333333333333333,
              "#9c179e"
             ],
             [
              0.4444444444444444,
              "#bd3786"
             ],
             [
              0.5555555555555556,
              "#d8576b"
             ],
             [
              0.6666666666666666,
              "#ed7953"
             ],
             [
              0.7777777777777778,
              "#fb9f3a"
             ],
             [
              0.8888888888888888,
              "#fdca26"
             ],
             [
              1,
              "#f0f921"
             ]
            ],
            "type": "surface"
           }
          ],
          "table": [
           {
            "cells": {
             "fill": {
              "color": "#EBF0F8"
             },
             "line": {
              "color": "white"
             }
            },
            "header": {
             "fill": {
              "color": "#C8D4E3"
             },
             "line": {
              "color": "white"
             }
            },
            "type": "table"
           }
          ]
         },
         "layout": {
          "annotationdefaults": {
           "arrowcolor": "#2a3f5f",
           "arrowhead": 0,
           "arrowwidth": 1
          },
          "autotypenumbers": "strict",
          "coloraxis": {
           "colorbar": {
            "outlinewidth": 0,
            "ticks": ""
           }
          },
          "colorscale": {
           "diverging": [
            [
             0,
             "#8e0152"
            ],
            [
             0.1,
             "#c51b7d"
            ],
            [
             0.2,
             "#de77ae"
            ],
            [
             0.3,
             "#f1b6da"
            ],
            [
             0.4,
             "#fde0ef"
            ],
            [
             0.5,
             "#f7f7f7"
            ],
            [
             0.6,
             "#e6f5d0"
            ],
            [
             0.7,
             "#b8e186"
            ],
            [
             0.8,
             "#7fbc41"
            ],
            [
             0.9,
             "#4d9221"
            ],
            [
             1,
             "#276419"
            ]
           ],
           "sequential": [
            [
             0,
             "#0d0887"
            ],
            [
             0.1111111111111111,
             "#46039f"
            ],
            [
             0.2222222222222222,
             "#7201a8"
            ],
            [
             0.3333333333333333,
             "#9c179e"
            ],
            [
             0.4444444444444444,
             "#bd3786"
            ],
            [
             0.5555555555555556,
             "#d8576b"
            ],
            [
             0.6666666666666666,
             "#ed7953"
            ],
            [
             0.7777777777777778,
             "#fb9f3a"
            ],
            [
             0.8888888888888888,
             "#fdca26"
            ],
            [
             1,
             "#f0f921"
            ]
           ],
           "sequentialminus": [
            [
             0,
             "#0d0887"
            ],
            [
             0.1111111111111111,
             "#46039f"
            ],
            [
             0.2222222222222222,
             "#7201a8"
            ],
            [
             0.3333333333333333,
             "#9c179e"
            ],
            [
             0.4444444444444444,
             "#bd3786"
            ],
            [
             0.5555555555555556,
             "#d8576b"
            ],
            [
             0.6666666666666666,
             "#ed7953"
            ],
            [
             0.7777777777777778,
             "#fb9f3a"
            ],
            [
             0.8888888888888888,
             "#fdca26"
            ],
            [
             1,
             "#f0f921"
            ]
           ]
          },
          "colorway": [
           "#636efa",
           "#EF553B",
           "#00cc96",
           "#ab63fa",
           "#FFA15A",
           "#19d3f3",
           "#FF6692",
           "#B6E880",
           "#FF97FF",
           "#FECB52"
          ],
          "font": {
           "color": "#2a3f5f"
          },
          "geo": {
           "bgcolor": "white",
           "lakecolor": "white",
           "landcolor": "#E5ECF6",
           "showlakes": true,
           "showland": true,
           "subunitcolor": "white"
          },
          "hoverlabel": {
           "align": "left"
          },
          "hovermode": "closest",
          "mapbox": {
           "style": "light"
          },
          "paper_bgcolor": "white",
          "plot_bgcolor": "#E5ECF6",
          "polar": {
           "angularaxis": {
            "gridcolor": "white",
            "linecolor": "white",
            "ticks": ""
           },
           "bgcolor": "#E5ECF6",
           "radialaxis": {
            "gridcolor": "white",
            "linecolor": "white",
            "ticks": ""
           }
          },
          "scene": {
           "xaxis": {
            "backgroundcolor": "#E5ECF6",
            "gridcolor": "white",
            "gridwidth": 2,
            "linecolor": "white",
            "showbackground": true,
            "ticks": "",
            "zerolinecolor": "white"
           },
           "yaxis": {
            "backgroundcolor": "#E5ECF6",
            "gridcolor": "white",
            "gridwidth": 2,
            "linecolor": "white",
            "showbackground": true,
            "ticks": "",
            "zerolinecolor": "white"
           },
           "zaxis": {
            "backgroundcolor": "#E5ECF6",
            "gridcolor": "white",
            "gridwidth": 2,
            "linecolor": "white",
            "showbackground": true,
            "ticks": "",
            "zerolinecolor": "white"
           }
          },
          "shapedefaults": {
           "line": {
            "color": "#2a3f5f"
           }
          },
          "ternary": {
           "aaxis": {
            "gridcolor": "white",
            "linecolor": "white",
            "ticks": ""
           },
           "baxis": {
            "gridcolor": "white",
            "linecolor": "white",
            "ticks": ""
           },
           "bgcolor": "#E5ECF6",
           "caxis": {
            "gridcolor": "white",
            "linecolor": "white",
            "ticks": ""
           }
          },
          "title": {
           "x": 0.05
          },
          "xaxis": {
           "automargin": true,
           "gridcolor": "white",
           "linecolor": "white",
           "ticks": "",
           "title": {
            "standoff": 15
           },
           "zerolinecolor": "white",
           "zerolinewidth": 2
          },
          "yaxis": {
           "automargin": true,
           "gridcolor": "white",
           "linecolor": "white",
           "ticks": "",
           "title": {
            "standoff": 15
           },
           "zerolinecolor": "white",
           "zerolinewidth": 2
          }
         }
        },
        "title": {
         "text": "signal breadth"
        },
        "width": 700
       }
      }
     },
     "metadata": {},
     "output_type": "display_data"
    }
   ],
   "source": [
    "import plotly.graph_objects as go\n",
    "\n",
    "x_data = df_breadth.columns.to_list() # close threshold\n",
    "\n",
    "y_data = df_breadth.index.to_list() # open threshold\n",
    "\n",
    "z_data = df_breadth.copy(deep=True) # win rate\n",
    "\n",
    "fig = go.Figure(data=[go.Surface(z=z_data.values,x=x_data,y=y_data)])\n",
    "\n",
    "fig.update_layout(title=\"signal breadth\", # 标题\n",
    "                  autosize=False,  # 尺度自动缩放\n",
    "                  width=700,  # 长宽\n",
    "                  height=600,\n",
    "                  margin=dict(l=65,r=50,b=65,t=90),  # 4个位置的距离\n",
    "                  scene=dict(xaxis_title='X-close-threshold',yaxis_title='Y-open-threshold')\n",
    "                )\n",
    "\n",
    "fig.show()"
   ]
  },
  {
   "cell_type": "code",
   "execution_count": 29,
   "metadata": {},
   "outputs": [
    {
     "data": {
      "application/vnd.plotly.v1+json": {
       "config": {
        "plotlyServerURL": "https://plot.ly"
       },
       "data": [
        {
         "hovertemplate": "signal breadth=%{x}<br>win rate=%{y}<extra></extra>",
         "legendgroup": "",
         "marker": {
          "color": "#636efa",
          "symbol": "circle"
         },
         "mode": "markers",
         "name": "",
         "orientation": "v",
         "showlegend": false,
         "type": "scatter",
         "x": [
          0.001,
          0.002,
          0.001,
          0.003,
          0.002,
          0.001,
          0.004,
          0.003,
          0.002,
          0.001,
          0.005,
          0.004,
          0.003,
          0.002,
          0.006,
          0.005,
          0.004,
          0.003,
          0.007,
          0.006,
          0.005,
          0.004,
          0.008,
          0.007,
          0.006,
          0.005,
          0.009,
          0.008,
          0.006999999999999999,
          0.005999999999999999,
          0.01,
          0.009000000000000001,
          0.008,
          0.007,
          0.011,
          0.009999999999999998,
          0.009,
          0.008,
          0.012,
          0.011,
          0.01,
          0.009000000000000001,
          0.013,
          0.012,
          0.011,
          0.009999999999999998,
          0.014,
          0.013000000000000001,
          0.012,
          0.011,
          0.015,
          0.013999999999999999,
          0.013,
          0.012,
          0.016,
          0.015,
          0.014,
          0.013000000000000001,
          0.017,
          0.016,
          0.015000000000000001,
          0.014000000000000002,
          0.018,
          0.016999999999999998,
          0.016,
          0.015,
          0.019,
          0.018,
          0.017,
          0.016,
          0.02,
          0.019,
          0.018000000000000002,
          0.017
         ],
         "xaxis": "x",
         "y": [
          0.875,
          0.85,
          0.9,
          0.85,
          0.925,
          0.875,
          0.825,
          0.925,
          0.925,
          0.925,
          0.8,
          0.9,
          0.9,
          0.925,
          0.725,
          0.85,
          0.85,
          0.9,
          0.7435897435897436,
          0.8205128205128205,
          0.8461538461538461,
          0.8974358974358975,
          0.7105263157894737,
          0.7631578947368421,
          0.7894736842105263,
          0.8421052631578947,
          0.631578947368421,
          0.6842105263157895,
          0.6842105263157895,
          0.7368421052631579,
          0.7222222222222222,
          0.75,
          0.75,
          0.7777777777777778,
          0.7272727272727273,
          0.7575757575757576,
          0.7575757575757576,
          0.7878787878787878,
          0.7575757575757576,
          0.7575757575757576,
          0.7575757575757576,
          0.7575757575757576,
          0.7142857142857143,
          0.7142857142857143,
          0.7142857142857143,
          0.7142857142857143,
          0.6956521739130435,
          0.6956521739130435,
          0.6956521739130435,
          0.6956521739130435,
          0.65,
          0.65,
          0.65,
          0.65,
          0.6842105263157895,
          0.6842105263157895,
          0.6842105263157895,
          0.6842105263157895,
          0.7058823529411765,
          0.7058823529411765,
          0.7058823529411765,
          0.7058823529411765,
          0.6428571428571429,
          0.6428571428571429,
          0.6428571428571429,
          0.6428571428571429,
          0.6428571428571429,
          0.6428571428571429,
          0.6428571428571429,
          0.6428571428571429,
          0.6923076923076923,
          0.6923076923076923,
          0.6923076923076923,
          0.6923076923076923
         ],
         "yaxis": "y"
        }
       ],
       "layout": {
        "legend": {
         "tracegroupgap": 0
        },
        "margin": {
         "t": 60
        },
        "template": {
         "data": {
          "bar": [
           {
            "error_x": {
             "color": "#2a3f5f"
            },
            "error_y": {
             "color": "#2a3f5f"
            },
            "marker": {
             "line": {
              "color": "#E5ECF6",
              "width": 0.5
             },
             "pattern": {
              "fillmode": "overlay",
              "size": 10,
              "solidity": 0.2
             }
            },
            "type": "bar"
           }
          ],
          "barpolar": [
           {
            "marker": {
             "line": {
              "color": "#E5ECF6",
              "width": 0.5
             },
             "pattern": {
              "fillmode": "overlay",
              "size": 10,
              "solidity": 0.2
             }
            },
            "type": "barpolar"
           }
          ],
          "carpet": [
           {
            "aaxis": {
             "endlinecolor": "#2a3f5f",
             "gridcolor": "white",
             "linecolor": "white",
             "minorgridcolor": "white",
             "startlinecolor": "#2a3f5f"
            },
            "baxis": {
             "endlinecolor": "#2a3f5f",
             "gridcolor": "white",
             "linecolor": "white",
             "minorgridcolor": "white",
             "startlinecolor": "#2a3f5f"
            },
            "type": "carpet"
           }
          ],
          "choropleth": [
           {
            "colorbar": {
             "outlinewidth": 0,
             "ticks": ""
            },
            "type": "choropleth"
           }
          ],
          "contour": [
           {
            "colorbar": {
             "outlinewidth": 0,
             "ticks": ""
            },
            "colorscale": [
             [
              0,
              "#0d0887"
             ],
             [
              0.1111111111111111,
              "#46039f"
             ],
             [
              0.2222222222222222,
              "#7201a8"
             ],
             [
              0.3333333333333333,
              "#9c179e"
             ],
             [
              0.4444444444444444,
              "#bd3786"
             ],
             [
              0.5555555555555556,
              "#d8576b"
             ],
             [
              0.6666666666666666,
              "#ed7953"
             ],
             [
              0.7777777777777778,
              "#fb9f3a"
             ],
             [
              0.8888888888888888,
              "#fdca26"
             ],
             [
              1,
              "#f0f921"
             ]
            ],
            "type": "contour"
           }
          ],
          "contourcarpet": [
           {
            "colorbar": {
             "outlinewidth": 0,
             "ticks": ""
            },
            "type": "contourcarpet"
           }
          ],
          "heatmap": [
           {
            "colorbar": {
             "outlinewidth": 0,
             "ticks": ""
            },
            "colorscale": [
             [
              0,
              "#0d0887"
             ],
             [
              0.1111111111111111,
              "#46039f"
             ],
             [
              0.2222222222222222,
              "#7201a8"
             ],
             [
              0.3333333333333333,
              "#9c179e"
             ],
             [
              0.4444444444444444,
              "#bd3786"
             ],
             [
              0.5555555555555556,
              "#d8576b"
             ],
             [
              0.6666666666666666,
              "#ed7953"
             ],
             [
              0.7777777777777778,
              "#fb9f3a"
             ],
             [
              0.8888888888888888,
              "#fdca26"
             ],
             [
              1,
              "#f0f921"
             ]
            ],
            "type": "heatmap"
           }
          ],
          "heatmapgl": [
           {
            "colorbar": {
             "outlinewidth": 0,
             "ticks": ""
            },
            "colorscale": [
             [
              0,
              "#0d0887"
             ],
             [
              0.1111111111111111,
              "#46039f"
             ],
             [
              0.2222222222222222,
              "#7201a8"
             ],
             [
              0.3333333333333333,
              "#9c179e"
             ],
             [
              0.4444444444444444,
              "#bd3786"
             ],
             [
              0.5555555555555556,
              "#d8576b"
             ],
             [
              0.6666666666666666,
              "#ed7953"
             ],
             [
              0.7777777777777778,
              "#fb9f3a"
             ],
             [
              0.8888888888888888,
              "#fdca26"
             ],
             [
              1,
              "#f0f921"
             ]
            ],
            "type": "heatmapgl"
           }
          ],
          "histogram": [
           {
            "marker": {
             "pattern": {
              "fillmode": "overlay",
              "size": 10,
              "solidity": 0.2
             }
            },
            "type": "histogram"
           }
          ],
          "histogram2d": [
           {
            "colorbar": {
             "outlinewidth": 0,
             "ticks": ""
            },
            "colorscale": [
             [
              0,
              "#0d0887"
             ],
             [
              0.1111111111111111,
              "#46039f"
             ],
             [
              0.2222222222222222,
              "#7201a8"
             ],
             [
              0.3333333333333333,
              "#9c179e"
             ],
             [
              0.4444444444444444,
              "#bd3786"
             ],
             [
              0.5555555555555556,
              "#d8576b"
             ],
             [
              0.6666666666666666,
              "#ed7953"
             ],
             [
              0.7777777777777778,
              "#fb9f3a"
             ],
             [
              0.8888888888888888,
              "#fdca26"
             ],
             [
              1,
              "#f0f921"
             ]
            ],
            "type": "histogram2d"
           }
          ],
          "histogram2dcontour": [
           {
            "colorbar": {
             "outlinewidth": 0,
             "ticks": ""
            },
            "colorscale": [
             [
              0,
              "#0d0887"
             ],
             [
              0.1111111111111111,
              "#46039f"
             ],
             [
              0.2222222222222222,
              "#7201a8"
             ],
             [
              0.3333333333333333,
              "#9c179e"
             ],
             [
              0.4444444444444444,
              "#bd3786"
             ],
             [
              0.5555555555555556,
              "#d8576b"
             ],
             [
              0.6666666666666666,
              "#ed7953"
             ],
             [
              0.7777777777777778,
              "#fb9f3a"
             ],
             [
              0.8888888888888888,
              "#fdca26"
             ],
             [
              1,
              "#f0f921"
             ]
            ],
            "type": "histogram2dcontour"
           }
          ],
          "mesh3d": [
           {
            "colorbar": {
             "outlinewidth": 0,
             "ticks": ""
            },
            "type": "mesh3d"
           }
          ],
          "parcoords": [
           {
            "line": {
             "colorbar": {
              "outlinewidth": 0,
              "ticks": ""
             }
            },
            "type": "parcoords"
           }
          ],
          "pie": [
           {
            "automargin": true,
            "type": "pie"
           }
          ],
          "scatter": [
           {
            "fillpattern": {
             "fillmode": "overlay",
             "size": 10,
             "solidity": 0.2
            },
            "type": "scatter"
           }
          ],
          "scatter3d": [
           {
            "line": {
             "colorbar": {
              "outlinewidth": 0,
              "ticks": ""
             }
            },
            "marker": {
             "colorbar": {
              "outlinewidth": 0,
              "ticks": ""
             }
            },
            "type": "scatter3d"
           }
          ],
          "scattercarpet": [
           {
            "marker": {
             "colorbar": {
              "outlinewidth": 0,
              "ticks": ""
             }
            },
            "type": "scattercarpet"
           }
          ],
          "scattergeo": [
           {
            "marker": {
             "colorbar": {
              "outlinewidth": 0,
              "ticks": ""
             }
            },
            "type": "scattergeo"
           }
          ],
          "scattergl": [
           {
            "marker": {
             "colorbar": {
              "outlinewidth": 0,
              "ticks": ""
             }
            },
            "type": "scattergl"
           }
          ],
          "scattermapbox": [
           {
            "marker": {
             "colorbar": {
              "outlinewidth": 0,
              "ticks": ""
             }
            },
            "type": "scattermapbox"
           }
          ],
          "scatterpolar": [
           {
            "marker": {
             "colorbar": {
              "outlinewidth": 0,
              "ticks": ""
             }
            },
            "type": "scatterpolar"
           }
          ],
          "scatterpolargl": [
           {
            "marker": {
             "colorbar": {
              "outlinewidth": 0,
              "ticks": ""
             }
            },
            "type": "scatterpolargl"
           }
          ],
          "scatterternary": [
           {
            "marker": {
             "colorbar": {
              "outlinewidth": 0,
              "ticks": ""
             }
            },
            "type": "scatterternary"
           }
          ],
          "surface": [
           {
            "colorbar": {
             "outlinewidth": 0,
             "ticks": ""
            },
            "colorscale": [
             [
              0,
              "#0d0887"
             ],
             [
              0.1111111111111111,
              "#46039f"
             ],
             [
              0.2222222222222222,
              "#7201a8"
             ],
             [
              0.3333333333333333,
              "#9c179e"
             ],
             [
              0.4444444444444444,
              "#bd3786"
             ],
             [
              0.5555555555555556,
              "#d8576b"
             ],
             [
              0.6666666666666666,
              "#ed7953"
             ],
             [
              0.7777777777777778,
              "#fb9f3a"
             ],
             [
              0.8888888888888888,
              "#fdca26"
             ],
             [
              1,
              "#f0f921"
             ]
            ],
            "type": "surface"
           }
          ],
          "table": [
           {
            "cells": {
             "fill": {
              "color": "#EBF0F8"
             },
             "line": {
              "color": "white"
             }
            },
            "header": {
             "fill": {
              "color": "#C8D4E3"
             },
             "line": {
              "color": "white"
             }
            },
            "type": "table"
           }
          ]
         },
         "layout": {
          "annotationdefaults": {
           "arrowcolor": "#2a3f5f",
           "arrowhead": 0,
           "arrowwidth": 1
          },
          "autotypenumbers": "strict",
          "coloraxis": {
           "colorbar": {
            "outlinewidth": 0,
            "ticks": ""
           }
          },
          "colorscale": {
           "diverging": [
            [
             0,
             "#8e0152"
            ],
            [
             0.1,
             "#c51b7d"
            ],
            [
             0.2,
             "#de77ae"
            ],
            [
             0.3,
             "#f1b6da"
            ],
            [
             0.4,
             "#fde0ef"
            ],
            [
             0.5,
             "#f7f7f7"
            ],
            [
             0.6,
             "#e6f5d0"
            ],
            [
             0.7,
             "#b8e186"
            ],
            [
             0.8,
             "#7fbc41"
            ],
            [
             0.9,
             "#4d9221"
            ],
            [
             1,
             "#276419"
            ]
           ],
           "sequential": [
            [
             0,
             "#0d0887"
            ],
            [
             0.1111111111111111,
             "#46039f"
            ],
            [
             0.2222222222222222,
             "#7201a8"
            ],
            [
             0.3333333333333333,
             "#9c179e"
            ],
            [
             0.4444444444444444,
             "#bd3786"
            ],
            [
             0.5555555555555556,
             "#d8576b"
            ],
            [
             0.6666666666666666,
             "#ed7953"
            ],
            [
             0.7777777777777778,
             "#fb9f3a"
            ],
            [
             0.8888888888888888,
             "#fdca26"
            ],
            [
             1,
             "#f0f921"
            ]
           ],
           "sequentialminus": [
            [
             0,
             "#0d0887"
            ],
            [
             0.1111111111111111,
             "#46039f"
            ],
            [
             0.2222222222222222,
             "#7201a8"
            ],
            [
             0.3333333333333333,
             "#9c179e"
            ],
            [
             0.4444444444444444,
             "#bd3786"
            ],
            [
             0.5555555555555556,
             "#d8576b"
            ],
            [
             0.6666666666666666,
             "#ed7953"
            ],
            [
             0.7777777777777778,
             "#fb9f3a"
            ],
            [
             0.8888888888888888,
             "#fdca26"
            ],
            [
             1,
             "#f0f921"
            ]
           ]
          },
          "colorway": [
           "#636efa",
           "#EF553B",
           "#00cc96",
           "#ab63fa",
           "#FFA15A",
           "#19d3f3",
           "#FF6692",
           "#B6E880",
           "#FF97FF",
           "#FECB52"
          ],
          "font": {
           "color": "#2a3f5f"
          },
          "geo": {
           "bgcolor": "white",
           "lakecolor": "white",
           "landcolor": "#E5ECF6",
           "showlakes": true,
           "showland": true,
           "subunitcolor": "white"
          },
          "hoverlabel": {
           "align": "left"
          },
          "hovermode": "closest",
          "mapbox": {
           "style": "light"
          },
          "paper_bgcolor": "white",
          "plot_bgcolor": "#E5ECF6",
          "polar": {
           "angularaxis": {
            "gridcolor": "white",
            "linecolor": "white",
            "ticks": ""
           },
           "bgcolor": "#E5ECF6",
           "radialaxis": {
            "gridcolor": "white",
            "linecolor": "white",
            "ticks": ""
           }
          },
          "scene": {
           "xaxis": {
            "backgroundcolor": "#E5ECF6",
            "gridcolor": "white",
            "gridwidth": 2,
            "linecolor": "white",
            "showbackground": true,
            "ticks": "",
            "zerolinecolor": "white"
           },
           "yaxis": {
            "backgroundcolor": "#E5ECF6",
            "gridcolor": "white",
            "gridwidth": 2,
            "linecolor": "white",
            "showbackground": true,
            "ticks": "",
            "zerolinecolor": "white"
           },
           "zaxis": {
            "backgroundcolor": "#E5ECF6",
            "gridcolor": "white",
            "gridwidth": 2,
            "linecolor": "white",
            "showbackground": true,
            "ticks": "",
            "zerolinecolor": "white"
           }
          },
          "shapedefaults": {
           "line": {
            "color": "#2a3f5f"
           }
          },
          "ternary": {
           "aaxis": {
            "gridcolor": "white",
            "linecolor": "white",
            "ticks": ""
           },
           "baxis": {
            "gridcolor": "white",
            "linecolor": "white",
            "ticks": ""
           },
           "bgcolor": "#E5ECF6",
           "caxis": {
            "gridcolor": "white",
            "linecolor": "white",
            "ticks": ""
           }
          },
          "title": {
           "x": 0.05
          },
          "xaxis": {
           "automargin": true,
           "gridcolor": "white",
           "linecolor": "white",
           "ticks": "",
           "title": {
            "standoff": 15
           },
           "zerolinecolor": "white",
           "zerolinewidth": 2
          },
          "yaxis": {
           "automargin": true,
           "gridcolor": "white",
           "linecolor": "white",
           "ticks": "",
           "title": {
            "standoff": 15
           },
           "zerolinecolor": "white",
           "zerolinewidth": 2
          }
         }
        },
        "xaxis": {
         "anchor": "y",
         "domain": [
          0,
          1
         ],
         "title": {
          "text": "signal breadth"
         }
        },
        "yaxis": {
         "anchor": "x",
         "domain": [
          0,
          1
         ],
         "title": {
          "text": "win rate"
         }
        }
       }
      }
     },
     "metadata": {},
     "output_type": "display_data"
    }
   ],
   "source": [
    "df_grid_search_res['scatter label'] = list(trade_res.keys())\n",
    "\n",
    "import plotly.express as px\n",
    "fig = px.scatter(df_grid_search_res,x='signal breadth', y='win rate',\n",
    "                # marginal_x=\"histogram\",\n",
    "                # text=df_grid_search_res['scatter label'].tolist()\n",
    "                )\n",
    "fig.show()\n",
    "# tmp_grid_res.plot.scatter(x='signal breadth',y='win rate',s=10)"
   ]
  },
  {
   "cell_type": "code",
   "execution_count": 30,
   "metadata": {},
   "outputs": [
    {
     "data": {
      "application/vnd.plotly.v1+json": {
       "config": {
        "plotlyServerURL": "https://plot.ly"
       },
       "data": [
        {
         "hovertemplate": "signal breadth=%{x}<br>win rate=%{y}<br>text=%{text}<extra></extra>",
         "legendgroup": "",
         "marker": {
          "color": "#636efa",
          "symbol": "circle"
         },
         "mode": "markers+text",
         "name": "",
         "orientation": "v",
         "showlegend": false,
         "text": [
          "0.004@0.003",
          "0.005@0.003",
          "0.006@0.003",
          "0.007@0.003",
          "0.008@0.003",
          "0.009@0.003",
          "0.01@0.003",
          "0.011@0.003",
          "0.012@0.003",
          "0.013@0.003",
          "0.014@0.003",
          "0.015@0.003",
          "0.016@0.003",
          "0.017@0.003",
          "0.018@0.003",
          "0.019@0.003",
          "0.02@0.003"
         ],
         "type": "scatter",
         "x": [
          0.001,
          0.002,
          0.003,
          0.004,
          0.005,
          0.005999999999999999,
          0.007,
          0.008,
          0.009000000000000001,
          0.009999999999999998,
          0.011,
          0.012,
          0.013000000000000001,
          0.014000000000000002,
          0.015,
          0.016,
          0.017
         ],
         "xaxis": "x",
         "y": [
          0.925,
          0.925,
          0.9,
          0.8974358974358975,
          0.8421052631578947,
          0.7368421052631579,
          0.7777777777777778,
          0.7878787878787878,
          0.7575757575757576,
          0.7142857142857143,
          0.6956521739130435,
          0.65,
          0.6842105263157895,
          0.7058823529411765,
          0.6428571428571429,
          0.6428571428571429,
          0.6923076923076923
         ],
         "yaxis": "y"
        }
       ],
       "layout": {
        "legend": {
         "tracegroupgap": 0
        },
        "margin": {
         "t": 60
        },
        "template": {
         "data": {
          "bar": [
           {
            "error_x": {
             "color": "#2a3f5f"
            },
            "error_y": {
             "color": "#2a3f5f"
            },
            "marker": {
             "line": {
              "color": "#E5ECF6",
              "width": 0.5
             },
             "pattern": {
              "fillmode": "overlay",
              "size": 10,
              "solidity": 0.2
             }
            },
            "type": "bar"
           }
          ],
          "barpolar": [
           {
            "marker": {
             "line": {
              "color": "#E5ECF6",
              "width": 0.5
             },
             "pattern": {
              "fillmode": "overlay",
              "size": 10,
              "solidity": 0.2
             }
            },
            "type": "barpolar"
           }
          ],
          "carpet": [
           {
            "aaxis": {
             "endlinecolor": "#2a3f5f",
             "gridcolor": "white",
             "linecolor": "white",
             "minorgridcolor": "white",
             "startlinecolor": "#2a3f5f"
            },
            "baxis": {
             "endlinecolor": "#2a3f5f",
             "gridcolor": "white",
             "linecolor": "white",
             "minorgridcolor": "white",
             "startlinecolor": "#2a3f5f"
            },
            "type": "carpet"
           }
          ],
          "choropleth": [
           {
            "colorbar": {
             "outlinewidth": 0,
             "ticks": ""
            },
            "type": "choropleth"
           }
          ],
          "contour": [
           {
            "colorbar": {
             "outlinewidth": 0,
             "ticks": ""
            },
            "colorscale": [
             [
              0,
              "#0d0887"
             ],
             [
              0.1111111111111111,
              "#46039f"
             ],
             [
              0.2222222222222222,
              "#7201a8"
             ],
             [
              0.3333333333333333,
              "#9c179e"
             ],
             [
              0.4444444444444444,
              "#bd3786"
             ],
             [
              0.5555555555555556,
              "#d8576b"
             ],
             [
              0.6666666666666666,
              "#ed7953"
             ],
             [
              0.7777777777777778,
              "#fb9f3a"
             ],
             [
              0.8888888888888888,
              "#fdca26"
             ],
             [
              1,
              "#f0f921"
             ]
            ],
            "type": "contour"
           }
          ],
          "contourcarpet": [
           {
            "colorbar": {
             "outlinewidth": 0,
             "ticks": ""
            },
            "type": "contourcarpet"
           }
          ],
          "heatmap": [
           {
            "colorbar": {
             "outlinewidth": 0,
             "ticks": ""
            },
            "colorscale": [
             [
              0,
              "#0d0887"
             ],
             [
              0.1111111111111111,
              "#46039f"
             ],
             [
              0.2222222222222222,
              "#7201a8"
             ],
             [
              0.3333333333333333,
              "#9c179e"
             ],
             [
              0.4444444444444444,
              "#bd3786"
             ],
             [
              0.5555555555555556,
              "#d8576b"
             ],
             [
              0.6666666666666666,
              "#ed7953"
             ],
             [
              0.7777777777777778,
              "#fb9f3a"
             ],
             [
              0.8888888888888888,
              "#fdca26"
             ],
             [
              1,
              "#f0f921"
             ]
            ],
            "type": "heatmap"
           }
          ],
          "heatmapgl": [
           {
            "colorbar": {
             "outlinewidth": 0,
             "ticks": ""
            },
            "colorscale": [
             [
              0,
              "#0d0887"
             ],
             [
              0.1111111111111111,
              "#46039f"
             ],
             [
              0.2222222222222222,
              "#7201a8"
             ],
             [
              0.3333333333333333,
              "#9c179e"
             ],
             [
              0.4444444444444444,
              "#bd3786"
             ],
             [
              0.5555555555555556,
              "#d8576b"
             ],
             [
              0.6666666666666666,
              "#ed7953"
             ],
             [
              0.7777777777777778,
              "#fb9f3a"
             ],
             [
              0.8888888888888888,
              "#fdca26"
             ],
             [
              1,
              "#f0f921"
             ]
            ],
            "type": "heatmapgl"
           }
          ],
          "histogram": [
           {
            "marker": {
             "pattern": {
              "fillmode": "overlay",
              "size": 10,
              "solidity": 0.2
             }
            },
            "type": "histogram"
           }
          ],
          "histogram2d": [
           {
            "colorbar": {
             "outlinewidth": 0,
             "ticks": ""
            },
            "colorscale": [
             [
              0,
              "#0d0887"
             ],
             [
              0.1111111111111111,
              "#46039f"
             ],
             [
              0.2222222222222222,
              "#7201a8"
             ],
             [
              0.3333333333333333,
              "#9c179e"
             ],
             [
              0.4444444444444444,
              "#bd3786"
             ],
             [
              0.5555555555555556,
              "#d8576b"
             ],
             [
              0.6666666666666666,
              "#ed7953"
             ],
             [
              0.7777777777777778,
              "#fb9f3a"
             ],
             [
              0.8888888888888888,
              "#fdca26"
             ],
             [
              1,
              "#f0f921"
             ]
            ],
            "type": "histogram2d"
           }
          ],
          "histogram2dcontour": [
           {
            "colorbar": {
             "outlinewidth": 0,
             "ticks": ""
            },
            "colorscale": [
             [
              0,
              "#0d0887"
             ],
             [
              0.1111111111111111,
              "#46039f"
             ],
             [
              0.2222222222222222,
              "#7201a8"
             ],
             [
              0.3333333333333333,
              "#9c179e"
             ],
             [
              0.4444444444444444,
              "#bd3786"
             ],
             [
              0.5555555555555556,
              "#d8576b"
             ],
             [
              0.6666666666666666,
              "#ed7953"
             ],
             [
              0.7777777777777778,
              "#fb9f3a"
             ],
             [
              0.8888888888888888,
              "#fdca26"
             ],
             [
              1,
              "#f0f921"
             ]
            ],
            "type": "histogram2dcontour"
           }
          ],
          "mesh3d": [
           {
            "colorbar": {
             "outlinewidth": 0,
             "ticks": ""
            },
            "type": "mesh3d"
           }
          ],
          "parcoords": [
           {
            "line": {
             "colorbar": {
              "outlinewidth": 0,
              "ticks": ""
             }
            },
            "type": "parcoords"
           }
          ],
          "pie": [
           {
            "automargin": true,
            "type": "pie"
           }
          ],
          "scatter": [
           {
            "fillpattern": {
             "fillmode": "overlay",
             "size": 10,
             "solidity": 0.2
            },
            "type": "scatter"
           }
          ],
          "scatter3d": [
           {
            "line": {
             "colorbar": {
              "outlinewidth": 0,
              "ticks": ""
             }
            },
            "marker": {
             "colorbar": {
              "outlinewidth": 0,
              "ticks": ""
             }
            },
            "type": "scatter3d"
           }
          ],
          "scattercarpet": [
           {
            "marker": {
             "colorbar": {
              "outlinewidth": 0,
              "ticks": ""
             }
            },
            "type": "scattercarpet"
           }
          ],
          "scattergeo": [
           {
            "marker": {
             "colorbar": {
              "outlinewidth": 0,
              "ticks": ""
             }
            },
            "type": "scattergeo"
           }
          ],
          "scattergl": [
           {
            "marker": {
             "colorbar": {
              "outlinewidth": 0,
              "ticks": ""
             }
            },
            "type": "scattergl"
           }
          ],
          "scattermapbox": [
           {
            "marker": {
             "colorbar": {
              "outlinewidth": 0,
              "ticks": ""
             }
            },
            "type": "scattermapbox"
           }
          ],
          "scatterpolar": [
           {
            "marker": {
             "colorbar": {
              "outlinewidth": 0,
              "ticks": ""
             }
            },
            "type": "scatterpolar"
           }
          ],
          "scatterpolargl": [
           {
            "marker": {
             "colorbar": {
              "outlinewidth": 0,
              "ticks": ""
             }
            },
            "type": "scatterpolargl"
           }
          ],
          "scatterternary": [
           {
            "marker": {
             "colorbar": {
              "outlinewidth": 0,
              "ticks": ""
             }
            },
            "type": "scatterternary"
           }
          ],
          "surface": [
           {
            "colorbar": {
             "outlinewidth": 0,
             "ticks": ""
            },
            "colorscale": [
             [
              0,
              "#0d0887"
             ],
             [
              0.1111111111111111,
              "#46039f"
             ],
             [
              0.2222222222222222,
              "#7201a8"
             ],
             [
              0.3333333333333333,
              "#9c179e"
             ],
             [
              0.4444444444444444,
              "#bd3786"
             ],
             [
              0.5555555555555556,
              "#d8576b"
             ],
             [
              0.6666666666666666,
              "#ed7953"
             ],
             [
              0.7777777777777778,
              "#fb9f3a"
             ],
             [
              0.8888888888888888,
              "#fdca26"
             ],
             [
              1,
              "#f0f921"
             ]
            ],
            "type": "surface"
           }
          ],
          "table": [
           {
            "cells": {
             "fill": {
              "color": "#EBF0F8"
             },
             "line": {
              "color": "white"
             }
            },
            "header": {
             "fill": {
              "color": "#C8D4E3"
             },
             "line": {
              "color": "white"
             }
            },
            "type": "table"
           }
          ]
         },
         "layout": {
          "annotationdefaults": {
           "arrowcolor": "#2a3f5f",
           "arrowhead": 0,
           "arrowwidth": 1
          },
          "autotypenumbers": "strict",
          "coloraxis": {
           "colorbar": {
            "outlinewidth": 0,
            "ticks": ""
           }
          },
          "colorscale": {
           "diverging": [
            [
             0,
             "#8e0152"
            ],
            [
             0.1,
             "#c51b7d"
            ],
            [
             0.2,
             "#de77ae"
            ],
            [
             0.3,
             "#f1b6da"
            ],
            [
             0.4,
             "#fde0ef"
            ],
            [
             0.5,
             "#f7f7f7"
            ],
            [
             0.6,
             "#e6f5d0"
            ],
            [
             0.7,
             "#b8e186"
            ],
            [
             0.8,
             "#7fbc41"
            ],
            [
             0.9,
             "#4d9221"
            ],
            [
             1,
             "#276419"
            ]
           ],
           "sequential": [
            [
             0,
             "#0d0887"
            ],
            [
             0.1111111111111111,
             "#46039f"
            ],
            [
             0.2222222222222222,
             "#7201a8"
            ],
            [
             0.3333333333333333,
             "#9c179e"
            ],
            [
             0.4444444444444444,
             "#bd3786"
            ],
            [
             0.5555555555555556,
             "#d8576b"
            ],
            [
             0.6666666666666666,
             "#ed7953"
            ],
            [
             0.7777777777777778,
             "#fb9f3a"
            ],
            [
             0.8888888888888888,
             "#fdca26"
            ],
            [
             1,
             "#f0f921"
            ]
           ],
           "sequentialminus": [
            [
             0,
             "#0d0887"
            ],
            [
             0.1111111111111111,
             "#46039f"
            ],
            [
             0.2222222222222222,
             "#7201a8"
            ],
            [
             0.3333333333333333,
             "#9c179e"
            ],
            [
             0.4444444444444444,
             "#bd3786"
            ],
            [
             0.5555555555555556,
             "#d8576b"
            ],
            [
             0.6666666666666666,
             "#ed7953"
            ],
            [
             0.7777777777777778,
             "#fb9f3a"
            ],
            [
             0.8888888888888888,
             "#fdca26"
            ],
            [
             1,
             "#f0f921"
            ]
           ]
          },
          "colorway": [
           "#636efa",
           "#EF553B",
           "#00cc96",
           "#ab63fa",
           "#FFA15A",
           "#19d3f3",
           "#FF6692",
           "#B6E880",
           "#FF97FF",
           "#FECB52"
          ],
          "font": {
           "color": "#2a3f5f"
          },
          "geo": {
           "bgcolor": "white",
           "lakecolor": "white",
           "landcolor": "#E5ECF6",
           "showlakes": true,
           "showland": true,
           "subunitcolor": "white"
          },
          "hoverlabel": {
           "align": "left"
          },
          "hovermode": "closest",
          "mapbox": {
           "style": "light"
          },
          "paper_bgcolor": "white",
          "plot_bgcolor": "#E5ECF6",
          "polar": {
           "angularaxis": {
            "gridcolor": "white",
            "linecolor": "white",
            "ticks": ""
           },
           "bgcolor": "#E5ECF6",
           "radialaxis": {
            "gridcolor": "white",
            "linecolor": "white",
            "ticks": ""
           }
          },
          "scene": {
           "xaxis": {
            "backgroundcolor": "#E5ECF6",
            "gridcolor": "white",
            "gridwidth": 2,
            "linecolor": "white",
            "showbackground": true,
            "ticks": "",
            "zerolinecolor": "white"
           },
           "yaxis": {
            "backgroundcolor": "#E5ECF6",
            "gridcolor": "white",
            "gridwidth": 2,
            "linecolor": "white",
            "showbackground": true,
            "ticks": "",
            "zerolinecolor": "white"
           },
           "zaxis": {
            "backgroundcolor": "#E5ECF6",
            "gridcolor": "white",
            "gridwidth": 2,
            "linecolor": "white",
            "showbackground": true,
            "ticks": "",
            "zerolinecolor": "white"
           }
          },
          "shapedefaults": {
           "line": {
            "color": "#2a3f5f"
           }
          },
          "ternary": {
           "aaxis": {
            "gridcolor": "white",
            "linecolor": "white",
            "ticks": ""
           },
           "baxis": {
            "gridcolor": "white",
            "linecolor": "white",
            "ticks": ""
           },
           "bgcolor": "#E5ECF6",
           "caxis": {
            "gridcolor": "white",
            "linecolor": "white",
            "ticks": ""
           }
          },
          "title": {
           "x": 0.05
          },
          "xaxis": {
           "automargin": true,
           "gridcolor": "white",
           "linecolor": "white",
           "ticks": "",
           "title": {
            "standoff": 15
           },
           "zerolinecolor": "white",
           "zerolinewidth": 2
          },
          "yaxis": {
           "automargin": true,
           "gridcolor": "white",
           "linecolor": "white",
           "ticks": "",
           "title": {
            "standoff": 15
           },
           "zerolinecolor": "white",
           "zerolinewidth": 2
          }
         }
        },
        "xaxis": {
         "anchor": "y",
         "domain": [
          0,
          1
         ],
         "title": {
          "text": "signal breadth"
         }
        },
        "yaxis": {
         "anchor": "x",
         "domain": [
          0,
          1
         ],
         "title": {
          "text": "win rate"
         }
        }
       }
      }
     },
     "metadata": {},
     "output_type": "display_data"
    }
   ],
   "source": [
    "tmp_grid_res = df_grid_search_res[df_grid_search_res['close threshold']==0.003]\n",
    "\n",
    "import plotly.express as px\n",
    "fig = px.scatter(tmp_grid_res,x='signal breadth', y='win rate',\n",
    "                # marginal_x=\"histogram\",\n",
    "                text=tmp_grid_res['scatter label'].tolist()\n",
    "                )\n",
    "fig.show()"
   ]
  },
  {
   "cell_type": "code",
   "execution_count": 31,
   "metadata": {},
   "outputs": [
    {
     "data": {
      "application/vnd.plotly.v1+json": {
       "config": {
        "plotlyServerURL": "https://plot.ly"
       },
       "data": [
        {
         "hovertemplate": "signal breadth=%{x}<br>return per round=%{y}<br>text=%{text}<extra></extra>",
         "legendgroup": "",
         "marker": {
          "color": "#636efa",
          "symbol": "circle"
         },
         "mode": "markers+text",
         "name": "",
         "orientation": "v",
         "showlegend": false,
         "text": [
          "0.001@0",
          "0.002@0",
          "0.003@0",
          "0.004@0",
          "0.005@0",
          "0.006@0",
          "0.007@0",
          "0.008@0",
          "0.009@0",
          "0.01@0",
          "0.011@0",
          "0.012@0",
          "0.013@0",
          "0.014@0",
          "0.015@0",
          "0.016@0",
          "0.017@0",
          "0.018@0",
          "0.019@0",
          "0.02@0"
         ],
         "type": "scatter",
         "x": [
          0.001,
          0.002,
          0.003,
          0.004,
          0.005,
          0.006,
          0.007,
          0.008,
          0.009,
          0.01,
          0.011,
          0.012,
          0.013,
          0.014,
          0.015,
          0.016,
          0.017,
          0.018,
          0.019,
          0.02
         ],
         "xaxis": "x",
         "y": [
          0.003971145672544798,
          0.003953014235314841,
          0.004230516215878806,
          0.004693925476958869,
          0.004569064660600407,
          0.004282939421687933,
          0.004931129011924903,
          0.005061251471889598,
          0.00418155206427743,
          0.005215261525023918,
          0.005489097757201028,
          0.006469316643227673,
          0.0066082619247922825,
          0.006873767872813031,
          0.006446167348437564,
          0.007374196040683947,
          0.008149912807537203,
          0.007213536049875445,
          0.009358541527180856,
          0.010714660805786834
         ],
         "yaxis": "y"
        }
       ],
       "layout": {
        "legend": {
         "tracegroupgap": 0
        },
        "margin": {
         "t": 60
        },
        "template": {
         "data": {
          "bar": [
           {
            "error_x": {
             "color": "#2a3f5f"
            },
            "error_y": {
             "color": "#2a3f5f"
            },
            "marker": {
             "line": {
              "color": "#E5ECF6",
              "width": 0.5
             },
             "pattern": {
              "fillmode": "overlay",
              "size": 10,
              "solidity": 0.2
             }
            },
            "type": "bar"
           }
          ],
          "barpolar": [
           {
            "marker": {
             "line": {
              "color": "#E5ECF6",
              "width": 0.5
             },
             "pattern": {
              "fillmode": "overlay",
              "size": 10,
              "solidity": 0.2
             }
            },
            "type": "barpolar"
           }
          ],
          "carpet": [
           {
            "aaxis": {
             "endlinecolor": "#2a3f5f",
             "gridcolor": "white",
             "linecolor": "white",
             "minorgridcolor": "white",
             "startlinecolor": "#2a3f5f"
            },
            "baxis": {
             "endlinecolor": "#2a3f5f",
             "gridcolor": "white",
             "linecolor": "white",
             "minorgridcolor": "white",
             "startlinecolor": "#2a3f5f"
            },
            "type": "carpet"
           }
          ],
          "choropleth": [
           {
            "colorbar": {
             "outlinewidth": 0,
             "ticks": ""
            },
            "type": "choropleth"
           }
          ],
          "contour": [
           {
            "colorbar": {
             "outlinewidth": 0,
             "ticks": ""
            },
            "colorscale": [
             [
              0,
              "#0d0887"
             ],
             [
              0.1111111111111111,
              "#46039f"
             ],
             [
              0.2222222222222222,
              "#7201a8"
             ],
             [
              0.3333333333333333,
              "#9c179e"
             ],
             [
              0.4444444444444444,
              "#bd3786"
             ],
             [
              0.5555555555555556,
              "#d8576b"
             ],
             [
              0.6666666666666666,
              "#ed7953"
             ],
             [
              0.7777777777777778,
              "#fb9f3a"
             ],
             [
              0.8888888888888888,
              "#fdca26"
             ],
             [
              1,
              "#f0f921"
             ]
            ],
            "type": "contour"
           }
          ],
          "contourcarpet": [
           {
            "colorbar": {
             "outlinewidth": 0,
             "ticks": ""
            },
            "type": "contourcarpet"
           }
          ],
          "heatmap": [
           {
            "colorbar": {
             "outlinewidth": 0,
             "ticks": ""
            },
            "colorscale": [
             [
              0,
              "#0d0887"
             ],
             [
              0.1111111111111111,
              "#46039f"
             ],
             [
              0.2222222222222222,
              "#7201a8"
             ],
             [
              0.3333333333333333,
              "#9c179e"
             ],
             [
              0.4444444444444444,
              "#bd3786"
             ],
             [
              0.5555555555555556,
              "#d8576b"
             ],
             [
              0.6666666666666666,
              "#ed7953"
             ],
             [
              0.7777777777777778,
              "#fb9f3a"
             ],
             [
              0.8888888888888888,
              "#fdca26"
             ],
             [
              1,
              "#f0f921"
             ]
            ],
            "type": "heatmap"
           }
          ],
          "heatmapgl": [
           {
            "colorbar": {
             "outlinewidth": 0,
             "ticks": ""
            },
            "colorscale": [
             [
              0,
              "#0d0887"
             ],
             [
              0.1111111111111111,
              "#46039f"
             ],
             [
              0.2222222222222222,
              "#7201a8"
             ],
             [
              0.3333333333333333,
              "#9c179e"
             ],
             [
              0.4444444444444444,
              "#bd3786"
             ],
             [
              0.5555555555555556,
              "#d8576b"
             ],
             [
              0.6666666666666666,
              "#ed7953"
             ],
             [
              0.7777777777777778,
              "#fb9f3a"
             ],
             [
              0.8888888888888888,
              "#fdca26"
             ],
             [
              1,
              "#f0f921"
             ]
            ],
            "type": "heatmapgl"
           }
          ],
          "histogram": [
           {
            "marker": {
             "pattern": {
              "fillmode": "overlay",
              "size": 10,
              "solidity": 0.2
             }
            },
            "type": "histogram"
           }
          ],
          "histogram2d": [
           {
            "colorbar": {
             "outlinewidth": 0,
             "ticks": ""
            },
            "colorscale": [
             [
              0,
              "#0d0887"
             ],
             [
              0.1111111111111111,
              "#46039f"
             ],
             [
              0.2222222222222222,
              "#7201a8"
             ],
             [
              0.3333333333333333,
              "#9c179e"
             ],
             [
              0.4444444444444444,
              "#bd3786"
             ],
             [
              0.5555555555555556,
              "#d8576b"
             ],
             [
              0.6666666666666666,
              "#ed7953"
             ],
             [
              0.7777777777777778,
              "#fb9f3a"
             ],
             [
              0.8888888888888888,
              "#fdca26"
             ],
             [
              1,
              "#f0f921"
             ]
            ],
            "type": "histogram2d"
           }
          ],
          "histogram2dcontour": [
           {
            "colorbar": {
             "outlinewidth": 0,
             "ticks": ""
            },
            "colorscale": [
             [
              0,
              "#0d0887"
             ],
             [
              0.1111111111111111,
              "#46039f"
             ],
             [
              0.2222222222222222,
              "#7201a8"
             ],
             [
              0.3333333333333333,
              "#9c179e"
             ],
             [
              0.4444444444444444,
              "#bd3786"
             ],
             [
              0.5555555555555556,
              "#d8576b"
             ],
             [
              0.6666666666666666,
              "#ed7953"
             ],
             [
              0.7777777777777778,
              "#fb9f3a"
             ],
             [
              0.8888888888888888,
              "#fdca26"
             ],
             [
              1,
              "#f0f921"
             ]
            ],
            "type": "histogram2dcontour"
           }
          ],
          "mesh3d": [
           {
            "colorbar": {
             "outlinewidth": 0,
             "ticks": ""
            },
            "type": "mesh3d"
           }
          ],
          "parcoords": [
           {
            "line": {
             "colorbar": {
              "outlinewidth": 0,
              "ticks": ""
             }
            },
            "type": "parcoords"
           }
          ],
          "pie": [
           {
            "automargin": true,
            "type": "pie"
           }
          ],
          "scatter": [
           {
            "fillpattern": {
             "fillmode": "overlay",
             "size": 10,
             "solidity": 0.2
            },
            "type": "scatter"
           }
          ],
          "scatter3d": [
           {
            "line": {
             "colorbar": {
              "outlinewidth": 0,
              "ticks": ""
             }
            },
            "marker": {
             "colorbar": {
              "outlinewidth": 0,
              "ticks": ""
             }
            },
            "type": "scatter3d"
           }
          ],
          "scattercarpet": [
           {
            "marker": {
             "colorbar": {
              "outlinewidth": 0,
              "ticks": ""
             }
            },
            "type": "scattercarpet"
           }
          ],
          "scattergeo": [
           {
            "marker": {
             "colorbar": {
              "outlinewidth": 0,
              "ticks": ""
             }
            },
            "type": "scattergeo"
           }
          ],
          "scattergl": [
           {
            "marker": {
             "colorbar": {
              "outlinewidth": 0,
              "ticks": ""
             }
            },
            "type": "scattergl"
           }
          ],
          "scattermapbox": [
           {
            "marker": {
             "colorbar": {
              "outlinewidth": 0,
              "ticks": ""
             }
            },
            "type": "scattermapbox"
           }
          ],
          "scatterpolar": [
           {
            "marker": {
             "colorbar": {
              "outlinewidth": 0,
              "ticks": ""
             }
            },
            "type": "scatterpolar"
           }
          ],
          "scatterpolargl": [
           {
            "marker": {
             "colorbar": {
              "outlinewidth": 0,
              "ticks": ""
             }
            },
            "type": "scatterpolargl"
           }
          ],
          "scatterternary": [
           {
            "marker": {
             "colorbar": {
              "outlinewidth": 0,
              "ticks": ""
             }
            },
            "type": "scatterternary"
           }
          ],
          "surface": [
           {
            "colorbar": {
             "outlinewidth": 0,
             "ticks": ""
            },
            "colorscale": [
             [
              0,
              "#0d0887"
             ],
             [
              0.1111111111111111,
              "#46039f"
             ],
             [
              0.2222222222222222,
              "#7201a8"
             ],
             [
              0.3333333333333333,
              "#9c179e"
             ],
             [
              0.4444444444444444,
              "#bd3786"
             ],
             [
              0.5555555555555556,
              "#d8576b"
             ],
             [
              0.6666666666666666,
              "#ed7953"
             ],
             [
              0.7777777777777778,
              "#fb9f3a"
             ],
             [
              0.8888888888888888,
              "#fdca26"
             ],
             [
              1,
              "#f0f921"
             ]
            ],
            "type": "surface"
           }
          ],
          "table": [
           {
            "cells": {
             "fill": {
              "color": "#EBF0F8"
             },
             "line": {
              "color": "white"
             }
            },
            "header": {
             "fill": {
              "color": "#C8D4E3"
             },
             "line": {
              "color": "white"
             }
            },
            "type": "table"
           }
          ]
         },
         "layout": {
          "annotationdefaults": {
           "arrowcolor": "#2a3f5f",
           "arrowhead": 0,
           "arrowwidth": 1
          },
          "autotypenumbers": "strict",
          "coloraxis": {
           "colorbar": {
            "outlinewidth": 0,
            "ticks": ""
           }
          },
          "colorscale": {
           "diverging": [
            [
             0,
             "#8e0152"
            ],
            [
             0.1,
             "#c51b7d"
            ],
            [
             0.2,
             "#de77ae"
            ],
            [
             0.3,
             "#f1b6da"
            ],
            [
             0.4,
             "#fde0ef"
            ],
            [
             0.5,
             "#f7f7f7"
            ],
            [
             0.6,
             "#e6f5d0"
            ],
            [
             0.7,
             "#b8e186"
            ],
            [
             0.8,
             "#7fbc41"
            ],
            [
             0.9,
             "#4d9221"
            ],
            [
             1,
             "#276419"
            ]
           ],
           "sequential": [
            [
             0,
             "#0d0887"
            ],
            [
             0.1111111111111111,
             "#46039f"
            ],
            [
             0.2222222222222222,
             "#7201a8"
            ],
            [
             0.3333333333333333,
             "#9c179e"
            ],
            [
             0.4444444444444444,
             "#bd3786"
            ],
            [
             0.5555555555555556,
             "#d8576b"
            ],
            [
             0.6666666666666666,
             "#ed7953"
            ],
            [
             0.7777777777777778,
             "#fb9f3a"
            ],
            [
             0.8888888888888888,
             "#fdca26"
            ],
            [
             1,
             "#f0f921"
            ]
           ],
           "sequentialminus": [
            [
             0,
             "#0d0887"
            ],
            [
             0.1111111111111111,
             "#46039f"
            ],
            [
             0.2222222222222222,
             "#7201a8"
            ],
            [
             0.3333333333333333,
             "#9c179e"
            ],
            [
             0.4444444444444444,
             "#bd3786"
            ],
            [
             0.5555555555555556,
             "#d8576b"
            ],
            [
             0.6666666666666666,
             "#ed7953"
            ],
            [
             0.7777777777777778,
             "#fb9f3a"
            ],
            [
             0.8888888888888888,
             "#fdca26"
            ],
            [
             1,
             "#f0f921"
            ]
           ]
          },
          "colorway": [
           "#636efa",
           "#EF553B",
           "#00cc96",
           "#ab63fa",
           "#FFA15A",
           "#19d3f3",
           "#FF6692",
           "#B6E880",
           "#FF97FF",
           "#FECB52"
          ],
          "font": {
           "color": "#2a3f5f"
          },
          "geo": {
           "bgcolor": "white",
           "lakecolor": "white",
           "landcolor": "#E5ECF6",
           "showlakes": true,
           "showland": true,
           "subunitcolor": "white"
          },
          "hoverlabel": {
           "align": "left"
          },
          "hovermode": "closest",
          "mapbox": {
           "style": "light"
          },
          "paper_bgcolor": "white",
          "plot_bgcolor": "#E5ECF6",
          "polar": {
           "angularaxis": {
            "gridcolor": "white",
            "linecolor": "white",
            "ticks": ""
           },
           "bgcolor": "#E5ECF6",
           "radialaxis": {
            "gridcolor": "white",
            "linecolor": "white",
            "ticks": ""
           }
          },
          "scene": {
           "xaxis": {
            "backgroundcolor": "#E5ECF6",
            "gridcolor": "white",
            "gridwidth": 2,
            "linecolor": "white",
            "showbackground": true,
            "ticks": "",
            "zerolinecolor": "white"
           },
           "yaxis": {
            "backgroundcolor": "#E5ECF6",
            "gridcolor": "white",
            "gridwidth": 2,
            "linecolor": "white",
            "showbackground": true,
            "ticks": "",
            "zerolinecolor": "white"
           },
           "zaxis": {
            "backgroundcolor": "#E5ECF6",
            "gridcolor": "white",
            "gridwidth": 2,
            "linecolor": "white",
            "showbackground": true,
            "ticks": "",
            "zerolinecolor": "white"
           }
          },
          "shapedefaults": {
           "line": {
            "color": "#2a3f5f"
           }
          },
          "ternary": {
           "aaxis": {
            "gridcolor": "white",
            "linecolor": "white",
            "ticks": ""
           },
           "baxis": {
            "gridcolor": "white",
            "linecolor": "white",
            "ticks": ""
           },
           "bgcolor": "#E5ECF6",
           "caxis": {
            "gridcolor": "white",
            "linecolor": "white",
            "ticks": ""
           }
          },
          "title": {
           "x": 0.05
          },
          "xaxis": {
           "automargin": true,
           "gridcolor": "white",
           "linecolor": "white",
           "ticks": "",
           "title": {
            "standoff": 15
           },
           "zerolinecolor": "white",
           "zerolinewidth": 2
          },
          "yaxis": {
           "automargin": true,
           "gridcolor": "white",
           "linecolor": "white",
           "ticks": "",
           "title": {
            "standoff": 15
           },
           "zerolinecolor": "white",
           "zerolinewidth": 2
          }
         }
        },
        "xaxis": {
         "anchor": "y",
         "domain": [
          0,
          1
         ],
         "title": {
          "text": "signal breadth"
         }
        },
        "yaxis": {
         "anchor": "x",
         "domain": [
          0,
          1
         ],
         "title": {
          "text": "return per round"
         }
        }
       }
      }
     },
     "metadata": {},
     "output_type": "display_data"
    }
   ],
   "source": [
    "tmp_grid_res = df_grid_search_res[df_grid_search_res['close threshold']==0]\n",
    "\n",
    "import plotly.express as px\n",
    "fig = px.scatter(tmp_grid_res,x='signal breadth', y='return per round',\n",
    "                # marginal_x=\"histogram\",\n",
    "                text=tmp_grid_res['scatter label'].tolist()\n",
    "                )\n",
    "fig.show()"
   ]
  },
  {
   "cell_type": "code",
   "execution_count": 32,
   "metadata": {},
   "outputs": [
    {
     "data": {
      "application/vnd.plotly.v1+json": {
       "config": {
        "plotlyServerURL": "https://plot.ly"
       },
       "data": [
        {
         "hovertemplate": "signal breadth=%{x}<br>final net value=%{y}<br>text=%{text}<extra></extra>",
         "legendgroup": "",
         "marker": {
          "color": "#636efa",
          "symbol": "circle"
         },
         "mode": "markers+text",
         "name": "",
         "orientation": "v",
         "showlegend": false,
         "text": [
          "0.001@0",
          "0.002@0",
          "0.003@0",
          "0.004@0",
          "0.005@0",
          "0.006@0",
          "0.007@0",
          "0.008@0",
          "0.009@0",
          "0.01@0",
          "0.011@0",
          "0.012@0",
          "0.013@0",
          "0.014@0",
          "0.015@0",
          "0.016@0",
          "0.017@0",
          "0.018@0",
          "0.019@0",
          "0.02@0"
         ],
         "type": "scatter",
         "x": [
          0.001,
          0.002,
          0.003,
          0.004,
          0.005,
          0.006,
          0.007,
          0.008,
          0.009,
          0.01,
          0.011,
          0.012,
          0.013,
          0.014,
          0.015,
          0.016,
          0.017,
          0.018,
          0.019,
          0.02
         ],
         "xaxis": "x",
         "y": [
          31.486340922935515,
          31.329735360658365,
          33.48423289887282,
          37.40402369299301,
          36.393529807285574,
          34.012236976643635,
          38.2972979313754,
          38.15597422597523,
          31.72351262808397,
          37.55673985845601,
          36.403522026102834,
          43.055590614799044,
          37.53116373123699,
          32.04176271806098,
          26.258131118055346,
          28.380021844255324,
          28.138283204138318,
          20.48210344757156,
          26.662799310549886,
          28.400818776923032
         ],
         "yaxis": "y"
        }
       ],
       "layout": {
        "legend": {
         "tracegroupgap": 0
        },
        "margin": {
         "t": 60
        },
        "template": {
         "data": {
          "bar": [
           {
            "error_x": {
             "color": "#2a3f5f"
            },
            "error_y": {
             "color": "#2a3f5f"
            },
            "marker": {
             "line": {
              "color": "#E5ECF6",
              "width": 0.5
             },
             "pattern": {
              "fillmode": "overlay",
              "size": 10,
              "solidity": 0.2
             }
            },
            "type": "bar"
           }
          ],
          "barpolar": [
           {
            "marker": {
             "line": {
              "color": "#E5ECF6",
              "width": 0.5
             },
             "pattern": {
              "fillmode": "overlay",
              "size": 10,
              "solidity": 0.2
             }
            },
            "type": "barpolar"
           }
          ],
          "carpet": [
           {
            "aaxis": {
             "endlinecolor": "#2a3f5f",
             "gridcolor": "white",
             "linecolor": "white",
             "minorgridcolor": "white",
             "startlinecolor": "#2a3f5f"
            },
            "baxis": {
             "endlinecolor": "#2a3f5f",
             "gridcolor": "white",
             "linecolor": "white",
             "minorgridcolor": "white",
             "startlinecolor": "#2a3f5f"
            },
            "type": "carpet"
           }
          ],
          "choropleth": [
           {
            "colorbar": {
             "outlinewidth": 0,
             "ticks": ""
            },
            "type": "choropleth"
           }
          ],
          "contour": [
           {
            "colorbar": {
             "outlinewidth": 0,
             "ticks": ""
            },
            "colorscale": [
             [
              0,
              "#0d0887"
             ],
             [
              0.1111111111111111,
              "#46039f"
             ],
             [
              0.2222222222222222,
              "#7201a8"
             ],
             [
              0.3333333333333333,
              "#9c179e"
             ],
             [
              0.4444444444444444,
              "#bd3786"
             ],
             [
              0.5555555555555556,
              "#d8576b"
             ],
             [
              0.6666666666666666,
              "#ed7953"
             ],
             [
              0.7777777777777778,
              "#fb9f3a"
             ],
             [
              0.8888888888888888,
              "#fdca26"
             ],
             [
              1,
              "#f0f921"
             ]
            ],
            "type": "contour"
           }
          ],
          "contourcarpet": [
           {
            "colorbar": {
             "outlinewidth": 0,
             "ticks": ""
            },
            "type": "contourcarpet"
           }
          ],
          "heatmap": [
           {
            "colorbar": {
             "outlinewidth": 0,
             "ticks": ""
            },
            "colorscale": [
             [
              0,
              "#0d0887"
             ],
             [
              0.1111111111111111,
              "#46039f"
             ],
             [
              0.2222222222222222,
              "#7201a8"
             ],
             [
              0.3333333333333333,
              "#9c179e"
             ],
             [
              0.4444444444444444,
              "#bd3786"
             ],
             [
              0.5555555555555556,
              "#d8576b"
             ],
             [
              0.6666666666666666,
              "#ed7953"
             ],
             [
              0.7777777777777778,
              "#fb9f3a"
             ],
             [
              0.8888888888888888,
              "#fdca26"
             ],
             [
              1,
              "#f0f921"
             ]
            ],
            "type": "heatmap"
           }
          ],
          "heatmapgl": [
           {
            "colorbar": {
             "outlinewidth": 0,
             "ticks": ""
            },
            "colorscale": [
             [
              0,
              "#0d0887"
             ],
             [
              0.1111111111111111,
              "#46039f"
             ],
             [
              0.2222222222222222,
              "#7201a8"
             ],
             [
              0.3333333333333333,
              "#9c179e"
             ],
             [
              0.4444444444444444,
              "#bd3786"
             ],
             [
              0.5555555555555556,
              "#d8576b"
             ],
             [
              0.6666666666666666,
              "#ed7953"
             ],
             [
              0.7777777777777778,
              "#fb9f3a"
             ],
             [
              0.8888888888888888,
              "#fdca26"
             ],
             [
              1,
              "#f0f921"
             ]
            ],
            "type": "heatmapgl"
           }
          ],
          "histogram": [
           {
            "marker": {
             "pattern": {
              "fillmode": "overlay",
              "size": 10,
              "solidity": 0.2
             }
            },
            "type": "histogram"
           }
          ],
          "histogram2d": [
           {
            "colorbar": {
             "outlinewidth": 0,
             "ticks": ""
            },
            "colorscale": [
             [
              0,
              "#0d0887"
             ],
             [
              0.1111111111111111,
              "#46039f"
             ],
             [
              0.2222222222222222,
              "#7201a8"
             ],
             [
              0.3333333333333333,
              "#9c179e"
             ],
             [
              0.4444444444444444,
              "#bd3786"
             ],
             [
              0.5555555555555556,
              "#d8576b"
             ],
             [
              0.6666666666666666,
              "#ed7953"
             ],
             [
              0.7777777777777778,
              "#fb9f3a"
             ],
             [
              0.8888888888888888,
              "#fdca26"
             ],
             [
              1,
              "#f0f921"
             ]
            ],
            "type": "histogram2d"
           }
          ],
          "histogram2dcontour": [
           {
            "colorbar": {
             "outlinewidth": 0,
             "ticks": ""
            },
            "colorscale": [
             [
              0,
              "#0d0887"
             ],
             [
              0.1111111111111111,
              "#46039f"
             ],
             [
              0.2222222222222222,
              "#7201a8"
             ],
             [
              0.3333333333333333,
              "#9c179e"
             ],
             [
              0.4444444444444444,
              "#bd3786"
             ],
             [
              0.5555555555555556,
              "#d8576b"
             ],
             [
              0.6666666666666666,
              "#ed7953"
             ],
             [
              0.7777777777777778,
              "#fb9f3a"
             ],
             [
              0.8888888888888888,
              "#fdca26"
             ],
             [
              1,
              "#f0f921"
             ]
            ],
            "type": "histogram2dcontour"
           }
          ],
          "mesh3d": [
           {
            "colorbar": {
             "outlinewidth": 0,
             "ticks": ""
            },
            "type": "mesh3d"
           }
          ],
          "parcoords": [
           {
            "line": {
             "colorbar": {
              "outlinewidth": 0,
              "ticks": ""
             }
            },
            "type": "parcoords"
           }
          ],
          "pie": [
           {
            "automargin": true,
            "type": "pie"
           }
          ],
          "scatter": [
           {
            "fillpattern": {
             "fillmode": "overlay",
             "size": 10,
             "solidity": 0.2
            },
            "type": "scatter"
           }
          ],
          "scatter3d": [
           {
            "line": {
             "colorbar": {
              "outlinewidth": 0,
              "ticks": ""
             }
            },
            "marker": {
             "colorbar": {
              "outlinewidth": 0,
              "ticks": ""
             }
            },
            "type": "scatter3d"
           }
          ],
          "scattercarpet": [
           {
            "marker": {
             "colorbar": {
              "outlinewidth": 0,
              "ticks": ""
             }
            },
            "type": "scattercarpet"
           }
          ],
          "scattergeo": [
           {
            "marker": {
             "colorbar": {
              "outlinewidth": 0,
              "ticks": ""
             }
            },
            "type": "scattergeo"
           }
          ],
          "scattergl": [
           {
            "marker": {
             "colorbar": {
              "outlinewidth": 0,
              "ticks": ""
             }
            },
            "type": "scattergl"
           }
          ],
          "scattermapbox": [
           {
            "marker": {
             "colorbar": {
              "outlinewidth": 0,
              "ticks": ""
             }
            },
            "type": "scattermapbox"
           }
          ],
          "scatterpolar": [
           {
            "marker": {
             "colorbar": {
              "outlinewidth": 0,
              "ticks": ""
             }
            },
            "type": "scatterpolar"
           }
          ],
          "scatterpolargl": [
           {
            "marker": {
             "colorbar": {
              "outlinewidth": 0,
              "ticks": ""
             }
            },
            "type": "scatterpolargl"
           }
          ],
          "scatterternary": [
           {
            "marker": {
             "colorbar": {
              "outlinewidth": 0,
              "ticks": ""
             }
            },
            "type": "scatterternary"
           }
          ],
          "surface": [
           {
            "colorbar": {
             "outlinewidth": 0,
             "ticks": ""
            },
            "colorscale": [
             [
              0,
              "#0d0887"
             ],
             [
              0.1111111111111111,
              "#46039f"
             ],
             [
              0.2222222222222222,
              "#7201a8"
             ],
             [
              0.3333333333333333,
              "#9c179e"
             ],
             [
              0.4444444444444444,
              "#bd3786"
             ],
             [
              0.5555555555555556,
              "#d8576b"
             ],
             [
              0.6666666666666666,
              "#ed7953"
             ],
             [
              0.7777777777777778,
              "#fb9f3a"
             ],
             [
              0.8888888888888888,
              "#fdca26"
             ],
             [
              1,
              "#f0f921"
             ]
            ],
            "type": "surface"
           }
          ],
          "table": [
           {
            "cells": {
             "fill": {
              "color": "#EBF0F8"
             },
             "line": {
              "color": "white"
             }
            },
            "header": {
             "fill": {
              "color": "#C8D4E3"
             },
             "line": {
              "color": "white"
             }
            },
            "type": "table"
           }
          ]
         },
         "layout": {
          "annotationdefaults": {
           "arrowcolor": "#2a3f5f",
           "arrowhead": 0,
           "arrowwidth": 1
          },
          "autotypenumbers": "strict",
          "coloraxis": {
           "colorbar": {
            "outlinewidth": 0,
            "ticks": ""
           }
          },
          "colorscale": {
           "diverging": [
            [
             0,
             "#8e0152"
            ],
            [
             0.1,
             "#c51b7d"
            ],
            [
             0.2,
             "#de77ae"
            ],
            [
             0.3,
             "#f1b6da"
            ],
            [
             0.4,
             "#fde0ef"
            ],
            [
             0.5,
             "#f7f7f7"
            ],
            [
             0.6,
             "#e6f5d0"
            ],
            [
             0.7,
             "#b8e186"
            ],
            [
             0.8,
             "#7fbc41"
            ],
            [
             0.9,
             "#4d9221"
            ],
            [
             1,
             "#276419"
            ]
           ],
           "sequential": [
            [
             0,
             "#0d0887"
            ],
            [
             0.1111111111111111,
             "#46039f"
            ],
            [
             0.2222222222222222,
             "#7201a8"
            ],
            [
             0.3333333333333333,
             "#9c179e"
            ],
            [
             0.4444444444444444,
             "#bd3786"
            ],
            [
             0.5555555555555556,
             "#d8576b"
            ],
            [
             0.6666666666666666,
             "#ed7953"
            ],
            [
             0.7777777777777778,
             "#fb9f3a"
            ],
            [
             0.8888888888888888,
             "#fdca26"
            ],
            [
             1,
             "#f0f921"
            ]
           ],
           "sequentialminus": [
            [
             0,
             "#0d0887"
            ],
            [
             0.1111111111111111,
             "#46039f"
            ],
            [
             0.2222222222222222,
             "#7201a8"
            ],
            [
             0.3333333333333333,
             "#9c179e"
            ],
            [
             0.4444444444444444,
             "#bd3786"
            ],
            [
             0.5555555555555556,
             "#d8576b"
            ],
            [
             0.6666666666666666,
             "#ed7953"
            ],
            [
             0.7777777777777778,
             "#fb9f3a"
            ],
            [
             0.8888888888888888,
             "#fdca26"
            ],
            [
             1,
             "#f0f921"
            ]
           ]
          },
          "colorway": [
           "#636efa",
           "#EF553B",
           "#00cc96",
           "#ab63fa",
           "#FFA15A",
           "#19d3f3",
           "#FF6692",
           "#B6E880",
           "#FF97FF",
           "#FECB52"
          ],
          "font": {
           "color": "#2a3f5f"
          },
          "geo": {
           "bgcolor": "white",
           "lakecolor": "white",
           "landcolor": "#E5ECF6",
           "showlakes": true,
           "showland": true,
           "subunitcolor": "white"
          },
          "hoverlabel": {
           "align": "left"
          },
          "hovermode": "closest",
          "mapbox": {
           "style": "light"
          },
          "paper_bgcolor": "white",
          "plot_bgcolor": "#E5ECF6",
          "polar": {
           "angularaxis": {
            "gridcolor": "white",
            "linecolor": "white",
            "ticks": ""
           },
           "bgcolor": "#E5ECF6",
           "radialaxis": {
            "gridcolor": "white",
            "linecolor": "white",
            "ticks": ""
           }
          },
          "scene": {
           "xaxis": {
            "backgroundcolor": "#E5ECF6",
            "gridcolor": "white",
            "gridwidth": 2,
            "linecolor": "white",
            "showbackground": true,
            "ticks": "",
            "zerolinecolor": "white"
           },
           "yaxis": {
            "backgroundcolor": "#E5ECF6",
            "gridcolor": "white",
            "gridwidth": 2,
            "linecolor": "white",
            "showbackground": true,
            "ticks": "",
            "zerolinecolor": "white"
           },
           "zaxis": {
            "backgroundcolor": "#E5ECF6",
            "gridcolor": "white",
            "gridwidth": 2,
            "linecolor": "white",
            "showbackground": true,
            "ticks": "",
            "zerolinecolor": "white"
           }
          },
          "shapedefaults": {
           "line": {
            "color": "#2a3f5f"
           }
          },
          "ternary": {
           "aaxis": {
            "gridcolor": "white",
            "linecolor": "white",
            "ticks": ""
           },
           "baxis": {
            "gridcolor": "white",
            "linecolor": "white",
            "ticks": ""
           },
           "bgcolor": "#E5ECF6",
           "caxis": {
            "gridcolor": "white",
            "linecolor": "white",
            "ticks": ""
           }
          },
          "title": {
           "x": 0.05
          },
          "xaxis": {
           "automargin": true,
           "gridcolor": "white",
           "linecolor": "white",
           "ticks": "",
           "title": {
            "standoff": 15
           },
           "zerolinecolor": "white",
           "zerolinewidth": 2
          },
          "yaxis": {
           "automargin": true,
           "gridcolor": "white",
           "linecolor": "white",
           "ticks": "",
           "title": {
            "standoff": 15
           },
           "zerolinecolor": "white",
           "zerolinewidth": 2
          }
         }
        },
        "xaxis": {
         "anchor": "y",
         "domain": [
          0,
          1
         ],
         "title": {
          "text": "signal breadth"
         }
        },
        "yaxis": {
         "anchor": "x",
         "domain": [
          0,
          1
         ],
         "title": {
          "text": "final net value"
         }
        }
       }
      }
     },
     "metadata": {},
     "output_type": "display_data"
    }
   ],
   "source": [
    "tmp_grid_res = df_grid_search_res[df_grid_search_res['close threshold']==0]\n",
    "# tmp_grid_res = df_grid_search_res\n",
    "\n",
    "import plotly.express as px\n",
    "fig = px.scatter(tmp_grid_res,x='signal breadth', y='final net value',\n",
    "                # marginal_x=\"histogram\",\n",
    "                text=tmp_grid_res['scatter label'].tolist()\n",
    "                )\n",
    "fig.show()"
   ]
  },
  {
   "cell_type": "code",
   "execution_count": 33,
   "metadata": {},
   "outputs": [],
   "source": [
    "# (330 + 18x14.88) x (2/10000)\n",
    "#  (334/330 - 1 ) - (18/17.6-1)  "
   ]
  },
  {
   "cell_type": "code",
   "execution_count": 34,
   "metadata": {},
   "outputs": [
    {
     "data": {
      "application/vnd.plotly.v1+json": {
       "config": {
        "plotlyServerURL": "https://plot.ly"
       },
       "data": [
        {
         "hovertemplate": "return per round=%{x}<br>signal breadth=%{y}<br>win rate=%{marker.size}<extra></extra>",
         "legendgroup": "",
         "marker": {
          "color": "#636efa",
          "size": [
           0.875,
           0.85,
           0.85,
           0.825,
           0.8,
           0.725,
           0.7435897435897436,
           0.7105263157894737,
           0.631578947368421,
           0.7222222222222222,
           0.7272727272727273,
           0.7575757575757576,
           0.7142857142857143,
           0.6956521739130435,
           0.65,
           0.6842105263157895,
           0.7058823529411765,
           0.6428571428571429,
           0.6428571428571429,
           0.6923076923076923
          ],
          "sizemode": "area",
          "sizeref": 0.0021875,
          "symbol": "circle"
         },
         "mode": "markers",
         "name": "",
         "scene": "scene",
         "showlegend": false,
         "type": "scatter3d",
         "x": [
          0.003971145672544798,
          0.003953014235314841,
          0.004230516215878806,
          0.004693925476958869,
          0.004569064660600407,
          0.004282939421687933,
          0.004931129011924903,
          0.005061251471889598,
          0.00418155206427743,
          0.005215261525023918,
          0.005489097757201028,
          0.006469316643227673,
          0.0066082619247922825,
          0.006873767872813031,
          0.006446167348437564,
          0.007374196040683947,
          0.008149912807537203,
          0.007213536049875445,
          0.009358541527180856,
          0.010714660805786834
         ],
         "y": [
          0.001,
          0.002,
          0.003,
          0.004,
          0.005,
          0.006,
          0.007,
          0.008,
          0.009,
          0.01,
          0.011,
          0.012,
          0.013,
          0.014,
          0.015,
          0.016,
          0.017,
          0.018,
          0.019,
          0.02
         ],
         "z": [
          0.875,
          0.85,
          0.85,
          0.825,
          0.8,
          0.725,
          0.7435897435897436,
          0.7105263157894737,
          0.631578947368421,
          0.7222222222222222,
          0.7272727272727273,
          0.7575757575757576,
          0.7142857142857143,
          0.6956521739130435,
          0.65,
          0.6842105263157895,
          0.7058823529411765,
          0.6428571428571429,
          0.6428571428571429,
          0.6923076923076923
         ]
        }
       ],
       "layout": {
        "legend": {
         "itemsizing": "constant",
         "tracegroupgap": 0
        },
        "margin": {
         "t": 60
        },
        "scene": {
         "domain": {
          "x": [
           0,
           1
          ],
          "y": [
           0,
           1
          ]
         },
         "xaxis": {
          "title": {
           "text": "return per round"
          }
         },
         "yaxis": {
          "title": {
           "text": "signal breadth"
          }
         },
         "zaxis": {
          "title": {
           "text": "win rate"
          }
         }
        },
        "template": {
         "data": {
          "bar": [
           {
            "error_x": {
             "color": "#2a3f5f"
            },
            "error_y": {
             "color": "#2a3f5f"
            },
            "marker": {
             "line": {
              "color": "#E5ECF6",
              "width": 0.5
             },
             "pattern": {
              "fillmode": "overlay",
              "size": 10,
              "solidity": 0.2
             }
            },
            "type": "bar"
           }
          ],
          "barpolar": [
           {
            "marker": {
             "line": {
              "color": "#E5ECF6",
              "width": 0.5
             },
             "pattern": {
              "fillmode": "overlay",
              "size": 10,
              "solidity": 0.2
             }
            },
            "type": "barpolar"
           }
          ],
          "carpet": [
           {
            "aaxis": {
             "endlinecolor": "#2a3f5f",
             "gridcolor": "white",
             "linecolor": "white",
             "minorgridcolor": "white",
             "startlinecolor": "#2a3f5f"
            },
            "baxis": {
             "endlinecolor": "#2a3f5f",
             "gridcolor": "white",
             "linecolor": "white",
             "minorgridcolor": "white",
             "startlinecolor": "#2a3f5f"
            },
            "type": "carpet"
           }
          ],
          "choropleth": [
           {
            "colorbar": {
             "outlinewidth": 0,
             "ticks": ""
            },
            "type": "choropleth"
           }
          ],
          "contour": [
           {
            "colorbar": {
             "outlinewidth": 0,
             "ticks": ""
            },
            "colorscale": [
             [
              0,
              "#0d0887"
             ],
             [
              0.1111111111111111,
              "#46039f"
             ],
             [
              0.2222222222222222,
              "#7201a8"
             ],
             [
              0.3333333333333333,
              "#9c179e"
             ],
             [
              0.4444444444444444,
              "#bd3786"
             ],
             [
              0.5555555555555556,
              "#d8576b"
             ],
             [
              0.6666666666666666,
              "#ed7953"
             ],
             [
              0.7777777777777778,
              "#fb9f3a"
             ],
             [
              0.8888888888888888,
              "#fdca26"
             ],
             [
              1,
              "#f0f921"
             ]
            ],
            "type": "contour"
           }
          ],
          "contourcarpet": [
           {
            "colorbar": {
             "outlinewidth": 0,
             "ticks": ""
            },
            "type": "contourcarpet"
           }
          ],
          "heatmap": [
           {
            "colorbar": {
             "outlinewidth": 0,
             "ticks": ""
            },
            "colorscale": [
             [
              0,
              "#0d0887"
             ],
             [
              0.1111111111111111,
              "#46039f"
             ],
             [
              0.2222222222222222,
              "#7201a8"
             ],
             [
              0.3333333333333333,
              "#9c179e"
             ],
             [
              0.4444444444444444,
              "#bd3786"
             ],
             [
              0.5555555555555556,
              "#d8576b"
             ],
             [
              0.6666666666666666,
              "#ed7953"
             ],
             [
              0.7777777777777778,
              "#fb9f3a"
             ],
             [
              0.8888888888888888,
              "#fdca26"
             ],
             [
              1,
              "#f0f921"
             ]
            ],
            "type": "heatmap"
           }
          ],
          "heatmapgl": [
           {
            "colorbar": {
             "outlinewidth": 0,
             "ticks": ""
            },
            "colorscale": [
             [
              0,
              "#0d0887"
             ],
             [
              0.1111111111111111,
              "#46039f"
             ],
             [
              0.2222222222222222,
              "#7201a8"
             ],
             [
              0.3333333333333333,
              "#9c179e"
             ],
             [
              0.4444444444444444,
              "#bd3786"
             ],
             [
              0.5555555555555556,
              "#d8576b"
             ],
             [
              0.6666666666666666,
              "#ed7953"
             ],
             [
              0.7777777777777778,
              "#fb9f3a"
             ],
             [
              0.8888888888888888,
              "#fdca26"
             ],
             [
              1,
              "#f0f921"
             ]
            ],
            "type": "heatmapgl"
           }
          ],
          "histogram": [
           {
            "marker": {
             "pattern": {
              "fillmode": "overlay",
              "size": 10,
              "solidity": 0.2
             }
            },
            "type": "histogram"
           }
          ],
          "histogram2d": [
           {
            "colorbar": {
             "outlinewidth": 0,
             "ticks": ""
            },
            "colorscale": [
             [
              0,
              "#0d0887"
             ],
             [
              0.1111111111111111,
              "#46039f"
             ],
             [
              0.2222222222222222,
              "#7201a8"
             ],
             [
              0.3333333333333333,
              "#9c179e"
             ],
             [
              0.4444444444444444,
              "#bd3786"
             ],
             [
              0.5555555555555556,
              "#d8576b"
             ],
             [
              0.6666666666666666,
              "#ed7953"
             ],
             [
              0.7777777777777778,
              "#fb9f3a"
             ],
             [
              0.8888888888888888,
              "#fdca26"
             ],
             [
              1,
              "#f0f921"
             ]
            ],
            "type": "histogram2d"
           }
          ],
          "histogram2dcontour": [
           {
            "colorbar": {
             "outlinewidth": 0,
             "ticks": ""
            },
            "colorscale": [
             [
              0,
              "#0d0887"
             ],
             [
              0.1111111111111111,
              "#46039f"
             ],
             [
              0.2222222222222222,
              "#7201a8"
             ],
             [
              0.3333333333333333,
              "#9c179e"
             ],
             [
              0.4444444444444444,
              "#bd3786"
             ],
             [
              0.5555555555555556,
              "#d8576b"
             ],
             [
              0.6666666666666666,
              "#ed7953"
             ],
             [
              0.7777777777777778,
              "#fb9f3a"
             ],
             [
              0.8888888888888888,
              "#fdca26"
             ],
             [
              1,
              "#f0f921"
             ]
            ],
            "type": "histogram2dcontour"
           }
          ],
          "mesh3d": [
           {
            "colorbar": {
             "outlinewidth": 0,
             "ticks": ""
            },
            "type": "mesh3d"
           }
          ],
          "parcoords": [
           {
            "line": {
             "colorbar": {
              "outlinewidth": 0,
              "ticks": ""
             }
            },
            "type": "parcoords"
           }
          ],
          "pie": [
           {
            "automargin": true,
            "type": "pie"
           }
          ],
          "scatter": [
           {
            "fillpattern": {
             "fillmode": "overlay",
             "size": 10,
             "solidity": 0.2
            },
            "type": "scatter"
           }
          ],
          "scatter3d": [
           {
            "line": {
             "colorbar": {
              "outlinewidth": 0,
              "ticks": ""
             }
            },
            "marker": {
             "colorbar": {
              "outlinewidth": 0,
              "ticks": ""
             }
            },
            "type": "scatter3d"
           }
          ],
          "scattercarpet": [
           {
            "marker": {
             "colorbar": {
              "outlinewidth": 0,
              "ticks": ""
             }
            },
            "type": "scattercarpet"
           }
          ],
          "scattergeo": [
           {
            "marker": {
             "colorbar": {
              "outlinewidth": 0,
              "ticks": ""
             }
            },
            "type": "scattergeo"
           }
          ],
          "scattergl": [
           {
            "marker": {
             "colorbar": {
              "outlinewidth": 0,
              "ticks": ""
             }
            },
            "type": "scattergl"
           }
          ],
          "scattermapbox": [
           {
            "marker": {
             "colorbar": {
              "outlinewidth": 0,
              "ticks": ""
             }
            },
            "type": "scattermapbox"
           }
          ],
          "scatterpolar": [
           {
            "marker": {
             "colorbar": {
              "outlinewidth": 0,
              "ticks": ""
             }
            },
            "type": "scatterpolar"
           }
          ],
          "scatterpolargl": [
           {
            "marker": {
             "colorbar": {
              "outlinewidth": 0,
              "ticks": ""
             }
            },
            "type": "scatterpolargl"
           }
          ],
          "scatterternary": [
           {
            "marker": {
             "colorbar": {
              "outlinewidth": 0,
              "ticks": ""
             }
            },
            "type": "scatterternary"
           }
          ],
          "surface": [
           {
            "colorbar": {
             "outlinewidth": 0,
             "ticks": ""
            },
            "colorscale": [
             [
              0,
              "#0d0887"
             ],
             [
              0.1111111111111111,
              "#46039f"
             ],
             [
              0.2222222222222222,
              "#7201a8"
             ],
             [
              0.3333333333333333,
              "#9c179e"
             ],
             [
              0.4444444444444444,
              "#bd3786"
             ],
             [
              0.5555555555555556,
              "#d8576b"
             ],
             [
              0.6666666666666666,
              "#ed7953"
             ],
             [
              0.7777777777777778,
              "#fb9f3a"
             ],
             [
              0.8888888888888888,
              "#fdca26"
             ],
             [
              1,
              "#f0f921"
             ]
            ],
            "type": "surface"
           }
          ],
          "table": [
           {
            "cells": {
             "fill": {
              "color": "#EBF0F8"
             },
             "line": {
              "color": "white"
             }
            },
            "header": {
             "fill": {
              "color": "#C8D4E3"
             },
             "line": {
              "color": "white"
             }
            },
            "type": "table"
           }
          ]
         },
         "layout": {
          "annotationdefaults": {
           "arrowcolor": "#2a3f5f",
           "arrowhead": 0,
           "arrowwidth": 1
          },
          "autotypenumbers": "strict",
          "coloraxis": {
           "colorbar": {
            "outlinewidth": 0,
            "ticks": ""
           }
          },
          "colorscale": {
           "diverging": [
            [
             0,
             "#8e0152"
            ],
            [
             0.1,
             "#c51b7d"
            ],
            [
             0.2,
             "#de77ae"
            ],
            [
             0.3,
             "#f1b6da"
            ],
            [
             0.4,
             "#fde0ef"
            ],
            [
             0.5,
             "#f7f7f7"
            ],
            [
             0.6,
             "#e6f5d0"
            ],
            [
             0.7,
             "#b8e186"
            ],
            [
             0.8,
             "#7fbc41"
            ],
            [
             0.9,
             "#4d9221"
            ],
            [
             1,
             "#276419"
            ]
           ],
           "sequential": [
            [
             0,
             "#0d0887"
            ],
            [
             0.1111111111111111,
             "#46039f"
            ],
            [
             0.2222222222222222,
             "#7201a8"
            ],
            [
             0.3333333333333333,
             "#9c179e"
            ],
            [
             0.4444444444444444,
             "#bd3786"
            ],
            [
             0.5555555555555556,
             "#d8576b"
            ],
            [
             0.6666666666666666,
             "#ed7953"
            ],
            [
             0.7777777777777778,
             "#fb9f3a"
            ],
            [
             0.8888888888888888,
             "#fdca26"
            ],
            [
             1,
             "#f0f921"
            ]
           ],
           "sequentialminus": [
            [
             0,
             "#0d0887"
            ],
            [
             0.1111111111111111,
             "#46039f"
            ],
            [
             0.2222222222222222,
             "#7201a8"
            ],
            [
             0.3333333333333333,
             "#9c179e"
            ],
            [
             0.4444444444444444,
             "#bd3786"
            ],
            [
             0.5555555555555556,
             "#d8576b"
            ],
            [
             0.6666666666666666,
             "#ed7953"
            ],
            [
             0.7777777777777778,
             "#fb9f3a"
            ],
            [
             0.8888888888888888,
             "#fdca26"
            ],
            [
             1,
             "#f0f921"
            ]
           ]
          },
          "colorway": [
           "#636efa",
           "#EF553B",
           "#00cc96",
           "#ab63fa",
           "#FFA15A",
           "#19d3f3",
           "#FF6692",
           "#B6E880",
           "#FF97FF",
           "#FECB52"
          ],
          "font": {
           "color": "#2a3f5f"
          },
          "geo": {
           "bgcolor": "white",
           "lakecolor": "white",
           "landcolor": "#E5ECF6",
           "showlakes": true,
           "showland": true,
           "subunitcolor": "white"
          },
          "hoverlabel": {
           "align": "left"
          },
          "hovermode": "closest",
          "mapbox": {
           "style": "light"
          },
          "paper_bgcolor": "white",
          "plot_bgcolor": "#E5ECF6",
          "polar": {
           "angularaxis": {
            "gridcolor": "white",
            "linecolor": "white",
            "ticks": ""
           },
           "bgcolor": "#E5ECF6",
           "radialaxis": {
            "gridcolor": "white",
            "linecolor": "white",
            "ticks": ""
           }
          },
          "scene": {
           "xaxis": {
            "backgroundcolor": "#E5ECF6",
            "gridcolor": "white",
            "gridwidth": 2,
            "linecolor": "white",
            "showbackground": true,
            "ticks": "",
            "zerolinecolor": "white"
           },
           "yaxis": {
            "backgroundcolor": "#E5ECF6",
            "gridcolor": "white",
            "gridwidth": 2,
            "linecolor": "white",
            "showbackground": true,
            "ticks": "",
            "zerolinecolor": "white"
           },
           "zaxis": {
            "backgroundcolor": "#E5ECF6",
            "gridcolor": "white",
            "gridwidth": 2,
            "linecolor": "white",
            "showbackground": true,
            "ticks": "",
            "zerolinecolor": "white"
           }
          },
          "shapedefaults": {
           "line": {
            "color": "#2a3f5f"
           }
          },
          "ternary": {
           "aaxis": {
            "gridcolor": "white",
            "linecolor": "white",
            "ticks": ""
           },
           "baxis": {
            "gridcolor": "white",
            "linecolor": "white",
            "ticks": ""
           },
           "bgcolor": "#E5ECF6",
           "caxis": {
            "gridcolor": "white",
            "linecolor": "white",
            "ticks": ""
           }
          },
          "title": {
           "x": 0.05
          },
          "xaxis": {
           "automargin": true,
           "gridcolor": "white",
           "linecolor": "white",
           "ticks": "",
           "title": {
            "standoff": 15
           },
           "zerolinecolor": "white",
           "zerolinewidth": 2
          },
          "yaxis": {
           "automargin": true,
           "gridcolor": "white",
           "linecolor": "white",
           "ticks": "",
           "title": {
            "standoff": 15
           },
           "zerolinecolor": "white",
           "zerolinewidth": 2
          }
         }
        }
       }
      }
     },
     "metadata": {},
     "output_type": "display_data"
    }
   ],
   "source": [
    "import plotly.express as px\n",
    "\n",
    "fig = px.scatter_3d(tmp_grid_res, \n",
    "                    x='return per round', \n",
    "                    y='signal breadth',\n",
    "                    z='win rate',\n",
    "                    # color='species'\n",
    "                    size='win rate'\n",
    "                  )\n",
    "fig.show()"
   ]
  },
  {
   "cell_type": "markdown",
   "metadata": {},
   "source": [
    "# signal check"
   ]
  },
  {
   "cell_type": "code",
   "execution_count": 35,
   "metadata": {},
   "outputs": [
    {
     "name": "stdout",
     "output_type": "stream",
     "text": [
      "open threshold:  0.02 close threshold:  0.003\n"
     ]
    }
   ],
   "source": [
    "print('open threshold: ',open_threshold,'close threshold: ',close_threshold)\n",
    "# df_signal"
   ]
  },
  {
   "cell_type": "code",
   "execution_count": 36,
   "metadata": {},
   "outputs": [
    {
     "data": {
      "text/plain": [
       "13"
      ]
     },
     "execution_count": 36,
     "metadata": {},
     "output_type": "execute_result"
    }
   ],
   "source": [
    "len(rounds)"
   ]
  },
  {
   "cell_type": "code",
   "execution_count": 37,
   "metadata": {},
   "outputs": [
    {
     "name": "stdout",
     "output_type": "stream",
     "text": [
      "9\n"
     ]
    }
   ],
   "source": [
    "cnt = 0\n",
    "for index, row in df_trade.iterrows():\n",
    "    \n",
    "    if str(index)[-8:] == '15:00:00':\n",
    "        cnt += 1\n",
    "print(cnt)"
   ]
  },
  {
   "cell_type": "code",
   "execution_count": 38,
   "metadata": {},
   "outputs": [],
   "source": [
    "df_pos_list = []\n",
    "for k,v in signal_res.items():\n",
    "    # print(k.split('@'))\n",
    "    tmp_df_pos = v[['bond_pos','stock_pos']]\n",
    "    # print(tmp_df_pos.head())\n",
    "    tmp_df_pos.columns = ['bond_pos'+k,'stock_pos']\n",
    "    df_pos_list.append(tmp_df_pos)\n"
   ]
  },
  {
   "cell_type": "code",
   "execution_count": 39,
   "metadata": {},
   "outputs": [
    {
     "name": "stdout",
     "output_type": "stream",
     "text": [
      "9362\n"
     ]
    },
    {
     "data": {
      "text/html": [
       "<div>\n",
       "<style scoped>\n",
       "    .dataframe tbody tr th:only-of-type {\n",
       "        vertical-align: middle;\n",
       "    }\n",
       "\n",
       "    .dataframe tbody tr th {\n",
       "        vertical-align: top;\n",
       "    }\n",
       "\n",
       "    .dataframe thead th {\n",
       "        text-align: right;\n",
       "    }\n",
       "</style>\n",
       "<table border=\"1\" class=\"dataframe\">\n",
       "  <thead>\n",
       "    <tr style=\"text-align: right;\">\n",
       "      <th></th>\n",
       "      <th>bond_price</th>\n",
       "      <th>stock_price</th>\n",
       "      <th>bond_rtn</th>\n",
       "      <th>stock_rtn</th>\n",
       "      <th>diff</th>\n",
       "      <th>bond_pos0.001@0</th>\n",
       "      <th>stock_pos</th>\n",
       "      <th>bond_pos0.02@0</th>\n",
       "      <th>stock_pos</th>\n",
       "    </tr>\n",
       "  </thead>\n",
       "  <tbody>\n",
       "    <tr>\n",
       "      <th>2022-04-28 15:00:00</th>\n",
       "      <td>189.899</td>\n",
       "      <td>37.56</td>\n",
       "      <td>0.000000</td>\n",
       "      <td>0.000000</td>\n",
       "      <td>0.000000</td>\n",
       "      <td>0.0</td>\n",
       "      <td>0.0</td>\n",
       "      <td>0.0</td>\n",
       "      <td>0.0</td>\n",
       "    </tr>\n",
       "    <tr>\n",
       "      <th>2022-04-29 09:30:00</th>\n",
       "      <td>194.899</td>\n",
       "      <td>37.31</td>\n",
       "      <td>0.026330</td>\n",
       "      <td>-0.006656</td>\n",
       "      <td>0.032986</td>\n",
       "      <td>-1.0</td>\n",
       "      <td>1.0</td>\n",
       "      <td>-1.0</td>\n",
       "      <td>1.0</td>\n",
       "    </tr>\n",
       "    <tr>\n",
       "      <th>2022-04-29 09:31:00</th>\n",
       "      <td>192.997</td>\n",
       "      <td>36.96</td>\n",
       "      <td>0.016314</td>\n",
       "      <td>-0.015974</td>\n",
       "      <td>0.032288</td>\n",
       "      <td>-1.0</td>\n",
       "      <td>1.0</td>\n",
       "      <td>-1.0</td>\n",
       "      <td>1.0</td>\n",
       "    </tr>\n",
       "    <tr>\n",
       "      <th>2022-04-29 09:32:00</th>\n",
       "      <td>193.800</td>\n",
       "      <td>37.18</td>\n",
       "      <td>0.020542</td>\n",
       "      <td>-0.010117</td>\n",
       "      <td>0.030660</td>\n",
       "      <td>-1.0</td>\n",
       "      <td>1.0</td>\n",
       "      <td>-1.0</td>\n",
       "      <td>1.0</td>\n",
       "    </tr>\n",
       "    <tr>\n",
       "      <th>2022-04-29 09:33:00</th>\n",
       "      <td>195.768</td>\n",
       "      <td>37.62</td>\n",
       "      <td>0.030906</td>\n",
       "      <td>0.001597</td>\n",
       "      <td>0.029308</td>\n",
       "      <td>-1.0</td>\n",
       "      <td>1.0</td>\n",
       "      <td>-1.0</td>\n",
       "      <td>1.0</td>\n",
       "    </tr>\n",
       "    <tr>\n",
       "      <th>2022-04-29 09:34:00</th>\n",
       "      <td>196.288</td>\n",
       "      <td>37.98</td>\n",
       "      <td>0.033644</td>\n",
       "      <td>0.011182</td>\n",
       "      <td>0.022462</td>\n",
       "      <td>-1.0</td>\n",
       "      <td>1.0</td>\n",
       "      <td>-1.0</td>\n",
       "      <td>1.0</td>\n",
       "    </tr>\n",
       "    <tr>\n",
       "      <th>2022-04-29 09:35:00</th>\n",
       "      <td>198.570</td>\n",
       "      <td>38.05</td>\n",
       "      <td>0.045661</td>\n",
       "      <td>0.013046</td>\n",
       "      <td>0.032615</td>\n",
       "      <td>-1.0</td>\n",
       "      <td>1.0</td>\n",
       "      <td>-1.0</td>\n",
       "      <td>1.0</td>\n",
       "    </tr>\n",
       "    <tr>\n",
       "      <th>2022-04-29 09:36:00</th>\n",
       "      <td>196.716</td>\n",
       "      <td>37.90</td>\n",
       "      <td>0.035898</td>\n",
       "      <td>0.009052</td>\n",
       "      <td>0.026846</td>\n",
       "      <td>-1.0</td>\n",
       "      <td>1.0</td>\n",
       "      <td>-1.0</td>\n",
       "      <td>1.0</td>\n",
       "    </tr>\n",
       "    <tr>\n",
       "      <th>2022-04-29 09:37:00</th>\n",
       "      <td>196.958</td>\n",
       "      <td>37.81</td>\n",
       "      <td>0.037172</td>\n",
       "      <td>0.006656</td>\n",
       "      <td>0.030516</td>\n",
       "      <td>-1.0</td>\n",
       "      <td>1.0</td>\n",
       "      <td>-1.0</td>\n",
       "      <td>1.0</td>\n",
       "    </tr>\n",
       "    <tr>\n",
       "      <th>2022-04-29 09:38:00</th>\n",
       "      <td>198.700</td>\n",
       "      <td>38.09</td>\n",
       "      <td>0.046346</td>\n",
       "      <td>0.014111</td>\n",
       "      <td>0.032235</td>\n",
       "      <td>-1.0</td>\n",
       "      <td>1.0</td>\n",
       "      <td>-1.0</td>\n",
       "      <td>1.0</td>\n",
       "    </tr>\n",
       "    <tr>\n",
       "      <th>2022-04-29 09:39:00</th>\n",
       "      <td>197.755</td>\n",
       "      <td>37.99</td>\n",
       "      <td>0.041369</td>\n",
       "      <td>0.011448</td>\n",
       "      <td>0.029921</td>\n",
       "      <td>-1.0</td>\n",
       "      <td>1.0</td>\n",
       "      <td>-1.0</td>\n",
       "      <td>1.0</td>\n",
       "    </tr>\n",
       "    <tr>\n",
       "      <th>2022-04-29 09:40:00</th>\n",
       "      <td>196.398</td>\n",
       "      <td>37.76</td>\n",
       "      <td>0.034223</td>\n",
       "      <td>0.005325</td>\n",
       "      <td>0.028899</td>\n",
       "      <td>-1.0</td>\n",
       "      <td>1.0</td>\n",
       "      <td>-1.0</td>\n",
       "      <td>1.0</td>\n",
       "    </tr>\n",
       "    <tr>\n",
       "      <th>2022-04-29 09:41:00</th>\n",
       "      <td>195.102</td>\n",
       "      <td>37.76</td>\n",
       "      <td>0.027399</td>\n",
       "      <td>0.005325</td>\n",
       "      <td>0.022074</td>\n",
       "      <td>-1.0</td>\n",
       "      <td>1.0</td>\n",
       "      <td>-1.0</td>\n",
       "      <td>1.0</td>\n",
       "    </tr>\n",
       "    <tr>\n",
       "      <th>2022-04-29 09:42:00</th>\n",
       "      <td>195.732</td>\n",
       "      <td>37.71</td>\n",
       "      <td>0.030716</td>\n",
       "      <td>0.003994</td>\n",
       "      <td>0.026723</td>\n",
       "      <td>-1.0</td>\n",
       "      <td>1.0</td>\n",
       "      <td>-1.0</td>\n",
       "      <td>1.0</td>\n",
       "    </tr>\n",
       "    <tr>\n",
       "      <th>2022-04-29 09:43:00</th>\n",
       "      <td>196.178</td>\n",
       "      <td>37.79</td>\n",
       "      <td>0.033065</td>\n",
       "      <td>0.006124</td>\n",
       "      <td>0.026941</td>\n",
       "      <td>-1.0</td>\n",
       "      <td>1.0</td>\n",
       "      <td>-1.0</td>\n",
       "      <td>1.0</td>\n",
       "    </tr>\n",
       "    <tr>\n",
       "      <th>2022-04-29 09:44:00</th>\n",
       "      <td>195.832</td>\n",
       "      <td>37.85</td>\n",
       "      <td>0.031243</td>\n",
       "      <td>0.007721</td>\n",
       "      <td>0.023522</td>\n",
       "      <td>-1.0</td>\n",
       "      <td>1.0</td>\n",
       "      <td>-1.0</td>\n",
       "      <td>1.0</td>\n",
       "    </tr>\n",
       "    <tr>\n",
       "      <th>2022-04-29 09:45:00</th>\n",
       "      <td>197.001</td>\n",
       "      <td>38.00</td>\n",
       "      <td>0.037399</td>\n",
       "      <td>0.011715</td>\n",
       "      <td>0.025684</td>\n",
       "      <td>-1.0</td>\n",
       "      <td>1.0</td>\n",
       "      <td>-1.0</td>\n",
       "      <td>1.0</td>\n",
       "    </tr>\n",
       "    <tr>\n",
       "      <th>2022-04-29 09:46:00</th>\n",
       "      <td>197.177</td>\n",
       "      <td>37.99</td>\n",
       "      <td>0.038326</td>\n",
       "      <td>0.011448</td>\n",
       "      <td>0.026877</td>\n",
       "      <td>-1.0</td>\n",
       "      <td>1.0</td>\n",
       "      <td>-1.0</td>\n",
       "      <td>1.0</td>\n",
       "    </tr>\n",
       "    <tr>\n",
       "      <th>2022-04-29 09:47:00</th>\n",
       "      <td>198.463</td>\n",
       "      <td>38.18</td>\n",
       "      <td>0.045098</td>\n",
       "      <td>0.016507</td>\n",
       "      <td>0.028591</td>\n",
       "      <td>-1.0</td>\n",
       "      <td>1.0</td>\n",
       "      <td>-1.0</td>\n",
       "      <td>1.0</td>\n",
       "    </tr>\n",
       "    <tr>\n",
       "      <th>2022-04-29 09:48:00</th>\n",
       "      <td>198.511</td>\n",
       "      <td>38.38</td>\n",
       "      <td>0.045350</td>\n",
       "      <td>0.021832</td>\n",
       "      <td>0.023519</td>\n",
       "      <td>-1.0</td>\n",
       "      <td>1.0</td>\n",
       "      <td>-1.0</td>\n",
       "      <td>1.0</td>\n",
       "    </tr>\n",
       "    <tr>\n",
       "      <th>2022-04-29 09:49:00</th>\n",
       "      <td>196.947</td>\n",
       "      <td>38.17</td>\n",
       "      <td>0.037114</td>\n",
       "      <td>0.016241</td>\n",
       "      <td>0.020874</td>\n",
       "      <td>-1.0</td>\n",
       "      <td>1.0</td>\n",
       "      <td>-1.0</td>\n",
       "      <td>1.0</td>\n",
       "    </tr>\n",
       "    <tr>\n",
       "      <th>2022-04-29 09:50:00</th>\n",
       "      <td>197.159</td>\n",
       "      <td>38.16</td>\n",
       "      <td>0.038231</td>\n",
       "      <td>0.015974</td>\n",
       "      <td>0.022256</td>\n",
       "      <td>-1.0</td>\n",
       "      <td>1.0</td>\n",
       "      <td>-1.0</td>\n",
       "      <td>1.0</td>\n",
       "    </tr>\n",
       "    <tr>\n",
       "      <th>2022-04-29 09:51:00</th>\n",
       "      <td>195.154</td>\n",
       "      <td>37.91</td>\n",
       "      <td>0.027673</td>\n",
       "      <td>0.009318</td>\n",
       "      <td>0.018354</td>\n",
       "      <td>-1.0</td>\n",
       "      <td>1.0</td>\n",
       "      <td>-1.0</td>\n",
       "      <td>1.0</td>\n",
       "    </tr>\n",
       "    <tr>\n",
       "      <th>2022-04-29 09:52:00</th>\n",
       "      <td>195.671</td>\n",
       "      <td>37.81</td>\n",
       "      <td>0.030395</td>\n",
       "      <td>0.006656</td>\n",
       "      <td>0.023739</td>\n",
       "      <td>-1.0</td>\n",
       "      <td>1.0</td>\n",
       "      <td>-1.0</td>\n",
       "      <td>1.0</td>\n",
       "    </tr>\n",
       "    <tr>\n",
       "      <th>2022-04-29 09:53:00</th>\n",
       "      <td>195.728</td>\n",
       "      <td>37.78</td>\n",
       "      <td>0.030695</td>\n",
       "      <td>0.005857</td>\n",
       "      <td>0.024838</td>\n",
       "      <td>-1.0</td>\n",
       "      <td>1.0</td>\n",
       "      <td>-1.0</td>\n",
       "      <td>1.0</td>\n",
       "    </tr>\n",
       "    <tr>\n",
       "      <th>2022-04-29 09:54:00</th>\n",
       "      <td>195.100</td>\n",
       "      <td>37.72</td>\n",
       "      <td>0.027388</td>\n",
       "      <td>0.004260</td>\n",
       "      <td>0.023128</td>\n",
       "      <td>-1.0</td>\n",
       "      <td>1.0</td>\n",
       "      <td>-1.0</td>\n",
       "      <td>1.0</td>\n",
       "    </tr>\n",
       "    <tr>\n",
       "      <th>2022-04-29 09:55:00</th>\n",
       "      <td>194.548</td>\n",
       "      <td>37.58</td>\n",
       "      <td>0.024481</td>\n",
       "      <td>0.000532</td>\n",
       "      <td>0.023949</td>\n",
       "      <td>-1.0</td>\n",
       "      <td>1.0</td>\n",
       "      <td>-1.0</td>\n",
       "      <td>1.0</td>\n",
       "    </tr>\n",
       "    <tr>\n",
       "      <th>2022-04-29 09:56:00</th>\n",
       "      <td>194.979</td>\n",
       "      <td>37.69</td>\n",
       "      <td>0.026751</td>\n",
       "      <td>0.003461</td>\n",
       "      <td>0.023290</td>\n",
       "      <td>-1.0</td>\n",
       "      <td>1.0</td>\n",
       "      <td>-1.0</td>\n",
       "      <td>1.0</td>\n",
       "    </tr>\n",
       "    <tr>\n",
       "      <th>2022-04-29 09:57:00</th>\n",
       "      <td>194.891</td>\n",
       "      <td>37.56</td>\n",
       "      <td>0.026288</td>\n",
       "      <td>0.000000</td>\n",
       "      <td>0.026288</td>\n",
       "      <td>-1.0</td>\n",
       "      <td>1.0</td>\n",
       "      <td>-1.0</td>\n",
       "      <td>1.0</td>\n",
       "    </tr>\n",
       "    <tr>\n",
       "      <th>2022-04-29 09:58:00</th>\n",
       "      <td>194.688</td>\n",
       "      <td>37.50</td>\n",
       "      <td>0.025219</td>\n",
       "      <td>-0.001597</td>\n",
       "      <td>0.026816</td>\n",
       "      <td>-1.0</td>\n",
       "      <td>1.0</td>\n",
       "      <td>-1.0</td>\n",
       "      <td>1.0</td>\n",
       "    </tr>\n",
       "    <tr>\n",
       "      <th>2022-04-29 09:59:00</th>\n",
       "      <td>194.231</td>\n",
       "      <td>37.48</td>\n",
       "      <td>0.022812</td>\n",
       "      <td>-0.002130</td>\n",
       "      <td>0.024942</td>\n",
       "      <td>-1.0</td>\n",
       "      <td>1.0</td>\n",
       "      <td>-1.0</td>\n",
       "      <td>1.0</td>\n",
       "    </tr>\n",
       "    <tr>\n",
       "      <th>2022-04-29 10:00:00</th>\n",
       "      <td>194.300</td>\n",
       "      <td>37.49</td>\n",
       "      <td>0.023175</td>\n",
       "      <td>-0.001864</td>\n",
       "      <td>0.025039</td>\n",
       "      <td>-1.0</td>\n",
       "      <td>1.0</td>\n",
       "      <td>-1.0</td>\n",
       "      <td>1.0</td>\n",
       "    </tr>\n",
       "    <tr>\n",
       "      <th>2022-04-29 10:01:00</th>\n",
       "      <td>194.835</td>\n",
       "      <td>37.50</td>\n",
       "      <td>0.025993</td>\n",
       "      <td>-0.001597</td>\n",
       "      <td>0.027590</td>\n",
       "      <td>-1.0</td>\n",
       "      <td>1.0</td>\n",
       "      <td>-1.0</td>\n",
       "      <td>1.0</td>\n",
       "    </tr>\n",
       "    <tr>\n",
       "      <th>2022-04-29 10:02:00</th>\n",
       "      <td>195.700</td>\n",
       "      <td>37.86</td>\n",
       "      <td>0.030548</td>\n",
       "      <td>0.007987</td>\n",
       "      <td>0.022561</td>\n",
       "      <td>-1.0</td>\n",
       "      <td>1.0</td>\n",
       "      <td>-1.0</td>\n",
       "      <td>1.0</td>\n",
       "    </tr>\n",
       "    <tr>\n",
       "      <th>2022-04-29 10:03:00</th>\n",
       "      <td>195.100</td>\n",
       "      <td>37.80</td>\n",
       "      <td>0.027388</td>\n",
       "      <td>0.006390</td>\n",
       "      <td>0.020998</td>\n",
       "      <td>-1.0</td>\n",
       "      <td>1.0</td>\n",
       "      <td>-1.0</td>\n",
       "      <td>1.0</td>\n",
       "    </tr>\n",
       "    <tr>\n",
       "      <th>2022-04-29 10:04:00</th>\n",
       "      <td>196.117</td>\n",
       "      <td>37.95</td>\n",
       "      <td>0.032744</td>\n",
       "      <td>0.010383</td>\n",
       "      <td>0.022360</td>\n",
       "      <td>-1.0</td>\n",
       "      <td>1.0</td>\n",
       "      <td>-1.0</td>\n",
       "      <td>1.0</td>\n",
       "    </tr>\n",
       "    <tr>\n",
       "      <th>2022-04-29 10:05:00</th>\n",
       "      <td>195.600</td>\n",
       "      <td>37.84</td>\n",
       "      <td>0.030021</td>\n",
       "      <td>0.007455</td>\n",
       "      <td>0.022566</td>\n",
       "      <td>-1.0</td>\n",
       "      <td>1.0</td>\n",
       "      <td>-1.0</td>\n",
       "      <td>1.0</td>\n",
       "    </tr>\n",
       "    <tr>\n",
       "      <th>2022-04-29 10:06:00</th>\n",
       "      <td>195.539</td>\n",
       "      <td>37.94</td>\n",
       "      <td>0.029700</td>\n",
       "      <td>0.010117</td>\n",
       "      <td>0.019583</td>\n",
       "      <td>-1.0</td>\n",
       "      <td>1.0</td>\n",
       "      <td>-1.0</td>\n",
       "      <td>1.0</td>\n",
       "    </tr>\n",
       "    <tr>\n",
       "      <th>2022-04-29 10:07:00</th>\n",
       "      <td>195.740</td>\n",
       "      <td>37.83</td>\n",
       "      <td>0.030758</td>\n",
       "      <td>0.007188</td>\n",
       "      <td>0.023570</td>\n",
       "      <td>-1.0</td>\n",
       "      <td>1.0</td>\n",
       "      <td>-1.0</td>\n",
       "      <td>1.0</td>\n",
       "    </tr>\n",
       "    <tr>\n",
       "      <th>2022-04-29 10:08:00</th>\n",
       "      <td>195.994</td>\n",
       "      <td>38.06</td>\n",
       "      <td>0.032096</td>\n",
       "      <td>0.013312</td>\n",
       "      <td>0.018784</td>\n",
       "      <td>-1.0</td>\n",
       "      <td>1.0</td>\n",
       "      <td>-1.0</td>\n",
       "      <td>1.0</td>\n",
       "    </tr>\n",
       "    <tr>\n",
       "      <th>2022-04-29 10:09:00</th>\n",
       "      <td>195.677</td>\n",
       "      <td>37.81</td>\n",
       "      <td>0.030427</td>\n",
       "      <td>0.006656</td>\n",
       "      <td>0.023771</td>\n",
       "      <td>-1.0</td>\n",
       "      <td>1.0</td>\n",
       "      <td>-1.0</td>\n",
       "      <td>1.0</td>\n",
       "    </tr>\n",
       "    <tr>\n",
       "      <th>2022-04-29 10:10:00</th>\n",
       "      <td>195.194</td>\n",
       "      <td>37.70</td>\n",
       "      <td>0.027883</td>\n",
       "      <td>0.003727</td>\n",
       "      <td>0.024156</td>\n",
       "      <td>-1.0</td>\n",
       "      <td>1.0</td>\n",
       "      <td>-1.0</td>\n",
       "      <td>1.0</td>\n",
       "    </tr>\n",
       "    <tr>\n",
       "      <th>2022-04-29 10:11:00</th>\n",
       "      <td>195.300</td>\n",
       "      <td>37.82</td>\n",
       "      <td>0.028441</td>\n",
       "      <td>0.006922</td>\n",
       "      <td>0.021519</td>\n",
       "      <td>-1.0</td>\n",
       "      <td>1.0</td>\n",
       "      <td>-1.0</td>\n",
       "      <td>1.0</td>\n",
       "    </tr>\n",
       "    <tr>\n",
       "      <th>2022-04-29 10:12:00</th>\n",
       "      <td>195.036</td>\n",
       "      <td>37.76</td>\n",
       "      <td>0.027051</td>\n",
       "      <td>0.005325</td>\n",
       "      <td>0.021726</td>\n",
       "      <td>-1.0</td>\n",
       "      <td>1.0</td>\n",
       "      <td>-1.0</td>\n",
       "      <td>1.0</td>\n",
       "    </tr>\n",
       "    <tr>\n",
       "      <th>2022-04-29 10:13:00</th>\n",
       "      <td>195.031</td>\n",
       "      <td>37.68</td>\n",
       "      <td>0.027025</td>\n",
       "      <td>0.003195</td>\n",
       "      <td>0.023830</td>\n",
       "      <td>-1.0</td>\n",
       "      <td>1.0</td>\n",
       "      <td>-1.0</td>\n",
       "      <td>1.0</td>\n",
       "    </tr>\n",
       "    <tr>\n",
       "      <th>2022-04-29 10:14:00</th>\n",
       "      <td>194.997</td>\n",
       "      <td>37.66</td>\n",
       "      <td>0.026846</td>\n",
       "      <td>0.002662</td>\n",
       "      <td>0.024183</td>\n",
       "      <td>-1.0</td>\n",
       "      <td>1.0</td>\n",
       "      <td>-1.0</td>\n",
       "      <td>1.0</td>\n",
       "    </tr>\n",
       "    <tr>\n",
       "      <th>2022-04-29 10:15:00</th>\n",
       "      <td>194.526</td>\n",
       "      <td>37.56</td>\n",
       "      <td>0.024366</td>\n",
       "      <td>0.000000</td>\n",
       "      <td>0.024366</td>\n",
       "      <td>-1.0</td>\n",
       "      <td>1.0</td>\n",
       "      <td>-1.0</td>\n",
       "      <td>1.0</td>\n",
       "    </tr>\n",
       "    <tr>\n",
       "      <th>2022-04-29 10:16:00</th>\n",
       "      <td>194.561</td>\n",
       "      <td>37.64</td>\n",
       "      <td>0.024550</td>\n",
       "      <td>0.002130</td>\n",
       "      <td>0.022420</td>\n",
       "      <td>-1.0</td>\n",
       "      <td>1.0</td>\n",
       "      <td>-1.0</td>\n",
       "      <td>1.0</td>\n",
       "    </tr>\n",
       "    <tr>\n",
       "      <th>2022-04-29 10:17:00</th>\n",
       "      <td>194.755</td>\n",
       "      <td>37.64</td>\n",
       "      <td>0.025571</td>\n",
       "      <td>0.002130</td>\n",
       "      <td>0.023442</td>\n",
       "      <td>-1.0</td>\n",
       "      <td>1.0</td>\n",
       "      <td>-1.0</td>\n",
       "      <td>1.0</td>\n",
       "    </tr>\n",
       "    <tr>\n",
       "      <th>2022-04-29 10:18:00</th>\n",
       "      <td>194.900</td>\n",
       "      <td>37.58</td>\n",
       "      <td>0.026335</td>\n",
       "      <td>0.000532</td>\n",
       "      <td>0.025803</td>\n",
       "      <td>-1.0</td>\n",
       "      <td>1.0</td>\n",
       "      <td>-1.0</td>\n",
       "      <td>1.0</td>\n",
       "    </tr>\n",
       "    <tr>\n",
       "      <th>2022-04-29 10:19:00</th>\n",
       "      <td>195.463</td>\n",
       "      <td>37.74</td>\n",
       "      <td>0.029300</td>\n",
       "      <td>0.004792</td>\n",
       "      <td>0.024507</td>\n",
       "      <td>-1.0</td>\n",
       "      <td>1.0</td>\n",
       "      <td>-1.0</td>\n",
       "      <td>1.0</td>\n",
       "    </tr>\n",
       "    <tr>\n",
       "      <th>2022-04-29 10:20:00</th>\n",
       "      <td>195.666</td>\n",
       "      <td>37.64</td>\n",
       "      <td>0.030369</td>\n",
       "      <td>0.002130</td>\n",
       "      <td>0.028239</td>\n",
       "      <td>-1.0</td>\n",
       "      <td>1.0</td>\n",
       "      <td>-1.0</td>\n",
       "      <td>1.0</td>\n",
       "    </tr>\n",
       "    <tr>\n",
       "      <th>2022-04-29 10:21:00</th>\n",
       "      <td>195.289</td>\n",
       "      <td>37.67</td>\n",
       "      <td>0.028384</td>\n",
       "      <td>0.002929</td>\n",
       "      <td>0.025455</td>\n",
       "      <td>-1.0</td>\n",
       "      <td>1.0</td>\n",
       "      <td>-1.0</td>\n",
       "      <td>1.0</td>\n",
       "    </tr>\n",
       "    <tr>\n",
       "      <th>2022-04-29 10:22:00</th>\n",
       "      <td>195.210</td>\n",
       "      <td>37.60</td>\n",
       "      <td>0.027967</td>\n",
       "      <td>0.001065</td>\n",
       "      <td>0.026903</td>\n",
       "      <td>-1.0</td>\n",
       "      <td>1.0</td>\n",
       "      <td>-1.0</td>\n",
       "      <td>1.0</td>\n",
       "    </tr>\n",
       "    <tr>\n",
       "      <th>2022-04-29 10:23:00</th>\n",
       "      <td>195.010</td>\n",
       "      <td>37.59</td>\n",
       "      <td>0.026914</td>\n",
       "      <td>0.000799</td>\n",
       "      <td>0.026116</td>\n",
       "      <td>-1.0</td>\n",
       "      <td>1.0</td>\n",
       "      <td>-1.0</td>\n",
       "      <td>1.0</td>\n",
       "    </tr>\n",
       "    <tr>\n",
       "      <th>2022-04-29 10:24:00</th>\n",
       "      <td>194.587</td>\n",
       "      <td>37.51</td>\n",
       "      <td>0.024687</td>\n",
       "      <td>-0.001331</td>\n",
       "      <td>0.026018</td>\n",
       "      <td>-1.0</td>\n",
       "      <td>1.0</td>\n",
       "      <td>-1.0</td>\n",
       "      <td>1.0</td>\n",
       "    </tr>\n",
       "    <tr>\n",
       "      <th>2022-04-29 10:25:00</th>\n",
       "      <td>194.619</td>\n",
       "      <td>37.49</td>\n",
       "      <td>0.024855</td>\n",
       "      <td>-0.001864</td>\n",
       "      <td>0.026719</td>\n",
       "      <td>-1.0</td>\n",
       "      <td>1.0</td>\n",
       "      <td>-1.0</td>\n",
       "      <td>1.0</td>\n",
       "    </tr>\n",
       "    <tr>\n",
       "      <th>2022-04-29 10:26:00</th>\n",
       "      <td>194.650</td>\n",
       "      <td>37.49</td>\n",
       "      <td>0.025019</td>\n",
       "      <td>-0.001864</td>\n",
       "      <td>0.026882</td>\n",
       "      <td>-1.0</td>\n",
       "      <td>1.0</td>\n",
       "      <td>-1.0</td>\n",
       "      <td>1.0</td>\n",
       "    </tr>\n",
       "    <tr>\n",
       "      <th>2022-04-29 10:27:00</th>\n",
       "      <td>194.690</td>\n",
       "      <td>37.39</td>\n",
       "      <td>0.025229</td>\n",
       "      <td>-0.004526</td>\n",
       "      <td>0.029755</td>\n",
       "      <td>-1.0</td>\n",
       "      <td>1.0</td>\n",
       "      <td>-1.0</td>\n",
       "      <td>1.0</td>\n",
       "    </tr>\n",
       "    <tr>\n",
       "      <th>2022-04-29 10:28:00</th>\n",
       "      <td>194.450</td>\n",
       "      <td>37.36</td>\n",
       "      <td>0.023965</td>\n",
       "      <td>-0.005325</td>\n",
       "      <td>0.029290</td>\n",
       "      <td>-1.0</td>\n",
       "      <td>1.0</td>\n",
       "      <td>-1.0</td>\n",
       "      <td>1.0</td>\n",
       "    </tr>\n",
       "    <tr>\n",
       "      <th>2022-04-29 10:29:00</th>\n",
       "      <td>193.650</td>\n",
       "      <td>37.34</td>\n",
       "      <td>0.019753</td>\n",
       "      <td>-0.005857</td>\n",
       "      <td>0.025610</td>\n",
       "      <td>-1.0</td>\n",
       "      <td>1.0</td>\n",
       "      <td>-1.0</td>\n",
       "      <td>1.0</td>\n",
       "    </tr>\n",
       "    <tr>\n",
       "      <th>2022-04-29 10:30:00</th>\n",
       "      <td>193.696</td>\n",
       "      <td>37.32</td>\n",
       "      <td>0.019995</td>\n",
       "      <td>-0.006390</td>\n",
       "      <td>0.026385</td>\n",
       "      <td>-1.0</td>\n",
       "      <td>1.0</td>\n",
       "      <td>-1.0</td>\n",
       "      <td>1.0</td>\n",
       "    </tr>\n",
       "    <tr>\n",
       "      <th>2022-04-29 10:31:00</th>\n",
       "      <td>193.512</td>\n",
       "      <td>37.25</td>\n",
       "      <td>0.019026</td>\n",
       "      <td>-0.008253</td>\n",
       "      <td>0.027279</td>\n",
       "      <td>-1.0</td>\n",
       "      <td>1.0</td>\n",
       "      <td>-1.0</td>\n",
       "      <td>1.0</td>\n",
       "    </tr>\n",
       "    <tr>\n",
       "      <th>2022-04-29 10:32:00</th>\n",
       "      <td>193.980</td>\n",
       "      <td>37.32</td>\n",
       "      <td>0.021490</td>\n",
       "      <td>-0.006390</td>\n",
       "      <td>0.027880</td>\n",
       "      <td>-1.0</td>\n",
       "      <td>1.0</td>\n",
       "      <td>-1.0</td>\n",
       "      <td>1.0</td>\n",
       "    </tr>\n",
       "    <tr>\n",
       "      <th>2022-04-29 10:33:00</th>\n",
       "      <td>194.388</td>\n",
       "      <td>37.31</td>\n",
       "      <td>0.023639</td>\n",
       "      <td>-0.006656</td>\n",
       "      <td>0.030295</td>\n",
       "      <td>-1.0</td>\n",
       "      <td>1.0</td>\n",
       "      <td>-1.0</td>\n",
       "      <td>1.0</td>\n",
       "    </tr>\n",
       "    <tr>\n",
       "      <th>2022-04-29 10:34:00</th>\n",
       "      <td>193.533</td>\n",
       "      <td>37.23</td>\n",
       "      <td>0.019136</td>\n",
       "      <td>-0.008786</td>\n",
       "      <td>0.027922</td>\n",
       "      <td>-1.0</td>\n",
       "      <td>1.0</td>\n",
       "      <td>-1.0</td>\n",
       "      <td>1.0</td>\n",
       "    </tr>\n",
       "    <tr>\n",
       "      <th>2022-04-29 10:35:00</th>\n",
       "      <td>193.050</td>\n",
       "      <td>37.21</td>\n",
       "      <td>0.016593</td>\n",
       "      <td>-0.009318</td>\n",
       "      <td>0.025911</td>\n",
       "      <td>-1.0</td>\n",
       "      <td>1.0</td>\n",
       "      <td>-1.0</td>\n",
       "      <td>1.0</td>\n",
       "    </tr>\n",
       "    <tr>\n",
       "      <th>2022-04-29 10:36:00</th>\n",
       "      <td>192.832</td>\n",
       "      <td>37.20</td>\n",
       "      <td>0.015445</td>\n",
       "      <td>-0.009585</td>\n",
       "      <td>0.025030</td>\n",
       "      <td>-1.0</td>\n",
       "      <td>1.0</td>\n",
       "      <td>-1.0</td>\n",
       "      <td>1.0</td>\n",
       "    </tr>\n",
       "    <tr>\n",
       "      <th>2022-04-29 10:37:00</th>\n",
       "      <td>193.285</td>\n",
       "      <td>37.16</td>\n",
       "      <td>0.017831</td>\n",
       "      <td>-0.010650</td>\n",
       "      <td>0.028480</td>\n",
       "      <td>-1.0</td>\n",
       "      <td>1.0</td>\n",
       "      <td>-1.0</td>\n",
       "      <td>1.0</td>\n",
       "    </tr>\n",
       "    <tr>\n",
       "      <th>2022-04-29 10:38:00</th>\n",
       "      <td>192.815</td>\n",
       "      <td>37.21</td>\n",
       "      <td>0.015356</td>\n",
       "      <td>-0.009318</td>\n",
       "      <td>0.024674</td>\n",
       "      <td>-1.0</td>\n",
       "      <td>1.0</td>\n",
       "      <td>-1.0</td>\n",
       "      <td>1.0</td>\n",
       "    </tr>\n",
       "    <tr>\n",
       "      <th>2022-04-29 10:39:00</th>\n",
       "      <td>193.258</td>\n",
       "      <td>37.25</td>\n",
       "      <td>0.017688</td>\n",
       "      <td>-0.008253</td>\n",
       "      <td>0.025942</td>\n",
       "      <td>-1.0</td>\n",
       "      <td>1.0</td>\n",
       "      <td>-1.0</td>\n",
       "      <td>1.0</td>\n",
       "    </tr>\n",
       "    <tr>\n",
       "      <th>2022-04-29 10:40:00</th>\n",
       "      <td>193.002</td>\n",
       "      <td>37.21</td>\n",
       "      <td>0.016340</td>\n",
       "      <td>-0.009318</td>\n",
       "      <td>0.025659</td>\n",
       "      <td>-1.0</td>\n",
       "      <td>1.0</td>\n",
       "      <td>-1.0</td>\n",
       "      <td>1.0</td>\n",
       "    </tr>\n",
       "    <tr>\n",
       "      <th>2022-04-29 10:41:00</th>\n",
       "      <td>193.061</td>\n",
       "      <td>37.21</td>\n",
       "      <td>0.016651</td>\n",
       "      <td>-0.009318</td>\n",
       "      <td>0.025969</td>\n",
       "      <td>-1.0</td>\n",
       "      <td>1.0</td>\n",
       "      <td>-1.0</td>\n",
       "      <td>1.0</td>\n",
       "    </tr>\n",
       "    <tr>\n",
       "      <th>2022-04-29 10:42:00</th>\n",
       "      <td>192.861</td>\n",
       "      <td>37.11</td>\n",
       "      <td>0.015598</td>\n",
       "      <td>-0.011981</td>\n",
       "      <td>0.027579</td>\n",
       "      <td>-1.0</td>\n",
       "      <td>1.0</td>\n",
       "      <td>-1.0</td>\n",
       "      <td>1.0</td>\n",
       "    </tr>\n",
       "    <tr>\n",
       "      <th>2022-04-29 10:43:00</th>\n",
       "      <td>192.306</td>\n",
       "      <td>37.08</td>\n",
       "      <td>0.012675</td>\n",
       "      <td>-0.012780</td>\n",
       "      <td>0.025455</td>\n",
       "      <td>-1.0</td>\n",
       "      <td>1.0</td>\n",
       "      <td>-1.0</td>\n",
       "      <td>1.0</td>\n",
       "    </tr>\n",
       "    <tr>\n",
       "      <th>2022-04-29 10:44:00</th>\n",
       "      <td>192.210</td>\n",
       "      <td>37.09</td>\n",
       "      <td>0.012170</td>\n",
       "      <td>-0.012513</td>\n",
       "      <td>0.024683</td>\n",
       "      <td>-1.0</td>\n",
       "      <td>1.0</td>\n",
       "      <td>-1.0</td>\n",
       "      <td>1.0</td>\n",
       "    </tr>\n",
       "    <tr>\n",
       "      <th>2022-04-29 10:45:00</th>\n",
       "      <td>192.595</td>\n",
       "      <td>37.11</td>\n",
       "      <td>0.014197</td>\n",
       "      <td>-0.011981</td>\n",
       "      <td>0.026178</td>\n",
       "      <td>-1.0</td>\n",
       "      <td>1.0</td>\n",
       "      <td>-1.0</td>\n",
       "      <td>1.0</td>\n",
       "    </tr>\n",
       "    <tr>\n",
       "      <th>2022-04-29 10:46:00</th>\n",
       "      <td>193.300</td>\n",
       "      <td>37.16</td>\n",
       "      <td>0.017910</td>\n",
       "      <td>-0.010650</td>\n",
       "      <td>0.028559</td>\n",
       "      <td>-1.0</td>\n",
       "      <td>1.0</td>\n",
       "      <td>-1.0</td>\n",
       "      <td>1.0</td>\n",
       "    </tr>\n",
       "    <tr>\n",
       "      <th>2022-04-29 10:47:00</th>\n",
       "      <td>193.651</td>\n",
       "      <td>37.15</td>\n",
       "      <td>0.019758</td>\n",
       "      <td>-0.010916</td>\n",
       "      <td>0.030674</td>\n",
       "      <td>-1.0</td>\n",
       "      <td>1.0</td>\n",
       "      <td>-1.0</td>\n",
       "      <td>1.0</td>\n",
       "    </tr>\n",
       "    <tr>\n",
       "      <th>2022-04-29 10:48:00</th>\n",
       "      <td>193.479</td>\n",
       "      <td>37.29</td>\n",
       "      <td>0.018852</td>\n",
       "      <td>-0.007188</td>\n",
       "      <td>0.026041</td>\n",
       "      <td>-1.0</td>\n",
       "      <td>1.0</td>\n",
       "      <td>-1.0</td>\n",
       "      <td>1.0</td>\n",
       "    </tr>\n",
       "    <tr>\n",
       "      <th>2022-04-29 10:49:00</th>\n",
       "      <td>193.110</td>\n",
       "      <td>37.25</td>\n",
       "      <td>0.016909</td>\n",
       "      <td>-0.008253</td>\n",
       "      <td>0.025162</td>\n",
       "      <td>-1.0</td>\n",
       "      <td>1.0</td>\n",
       "      <td>-1.0</td>\n",
       "      <td>1.0</td>\n",
       "    </tr>\n",
       "    <tr>\n",
       "      <th>2022-04-29 10:50:00</th>\n",
       "      <td>193.419</td>\n",
       "      <td>37.28</td>\n",
       "      <td>0.018536</td>\n",
       "      <td>-0.007455</td>\n",
       "      <td>0.025991</td>\n",
       "      <td>-1.0</td>\n",
       "      <td>1.0</td>\n",
       "      <td>-1.0</td>\n",
       "      <td>1.0</td>\n",
       "    </tr>\n",
       "    <tr>\n",
       "      <th>2022-04-29 10:51:00</th>\n",
       "      <td>193.779</td>\n",
       "      <td>37.24</td>\n",
       "      <td>0.020432</td>\n",
       "      <td>-0.008520</td>\n",
       "      <td>0.028952</td>\n",
       "      <td>-1.0</td>\n",
       "      <td>1.0</td>\n",
       "      <td>-1.0</td>\n",
       "      <td>1.0</td>\n",
       "    </tr>\n",
       "    <tr>\n",
       "      <th>2022-04-29 10:52:00</th>\n",
       "      <td>193.600</td>\n",
       "      <td>37.31</td>\n",
       "      <td>0.019489</td>\n",
       "      <td>-0.006656</td>\n",
       "      <td>0.026145</td>\n",
       "      <td>-1.0</td>\n",
       "      <td>1.0</td>\n",
       "      <td>-1.0</td>\n",
       "      <td>1.0</td>\n",
       "    </tr>\n",
       "    <tr>\n",
       "      <th>2022-04-29 10:53:00</th>\n",
       "      <td>193.584</td>\n",
       "      <td>37.33</td>\n",
       "      <td>0.019405</td>\n",
       "      <td>-0.006124</td>\n",
       "      <td>0.025529</td>\n",
       "      <td>-1.0</td>\n",
       "      <td>1.0</td>\n",
       "      <td>-1.0</td>\n",
       "      <td>1.0</td>\n",
       "    </tr>\n",
       "    <tr>\n",
       "      <th>2022-04-29 10:54:00</th>\n",
       "      <td>193.900</td>\n",
       "      <td>37.34</td>\n",
       "      <td>0.021069</td>\n",
       "      <td>-0.005857</td>\n",
       "      <td>0.026926</td>\n",
       "      <td>-1.0</td>\n",
       "      <td>1.0</td>\n",
       "      <td>-1.0</td>\n",
       "      <td>1.0</td>\n",
       "    </tr>\n",
       "    <tr>\n",
       "      <th>2022-04-29 10:55:00</th>\n",
       "      <td>193.100</td>\n",
       "      <td>37.24</td>\n",
       "      <td>0.016856</td>\n",
       "      <td>-0.008520</td>\n",
       "      <td>0.025376</td>\n",
       "      <td>-1.0</td>\n",
       "      <td>1.0</td>\n",
       "      <td>-1.0</td>\n",
       "      <td>1.0</td>\n",
       "    </tr>\n",
       "    <tr>\n",
       "      <th>2022-04-29 10:56:00</th>\n",
       "      <td>192.894</td>\n",
       "      <td>37.14</td>\n",
       "      <td>0.015772</td>\n",
       "      <td>-0.011182</td>\n",
       "      <td>0.026954</td>\n",
       "      <td>-1.0</td>\n",
       "      <td>1.0</td>\n",
       "      <td>-1.0</td>\n",
       "      <td>1.0</td>\n",
       "    </tr>\n",
       "    <tr>\n",
       "      <th>2022-04-29 10:57:00</th>\n",
       "      <td>192.954</td>\n",
       "      <td>37.13</td>\n",
       "      <td>0.016087</td>\n",
       "      <td>-0.011448</td>\n",
       "      <td>0.027536</td>\n",
       "      <td>-1.0</td>\n",
       "      <td>1.0</td>\n",
       "      <td>-1.0</td>\n",
       "      <td>1.0</td>\n",
       "    </tr>\n",
       "    <tr>\n",
       "      <th>2022-04-29 10:58:00</th>\n",
       "      <td>192.925</td>\n",
       "      <td>37.14</td>\n",
       "      <td>0.015935</td>\n",
       "      <td>-0.011182</td>\n",
       "      <td>0.027117</td>\n",
       "      <td>-1.0</td>\n",
       "      <td>1.0</td>\n",
       "      <td>-1.0</td>\n",
       "      <td>1.0</td>\n",
       "    </tr>\n",
       "    <tr>\n",
       "      <th>2022-04-29 10:59:00</th>\n",
       "      <td>193.052</td>\n",
       "      <td>37.09</td>\n",
       "      <td>0.016604</td>\n",
       "      <td>-0.012513</td>\n",
       "      <td>0.029117</td>\n",
       "      <td>-1.0</td>\n",
       "      <td>1.0</td>\n",
       "      <td>-1.0</td>\n",
       "      <td>1.0</td>\n",
       "    </tr>\n",
       "    <tr>\n",
       "      <th>2022-04-29 11:00:00</th>\n",
       "      <td>193.342</td>\n",
       "      <td>37.12</td>\n",
       "      <td>0.018131</td>\n",
       "      <td>-0.011715</td>\n",
       "      <td>0.029845</td>\n",
       "      <td>-1.0</td>\n",
       "      <td>1.0</td>\n",
       "      <td>-1.0</td>\n",
       "      <td>1.0</td>\n",
       "    </tr>\n",
       "    <tr>\n",
       "      <th>2022-04-29 11:01:00</th>\n",
       "      <td>193.367</td>\n",
       "      <td>37.13</td>\n",
       "      <td>0.018262</td>\n",
       "      <td>-0.011448</td>\n",
       "      <td>0.029711</td>\n",
       "      <td>-1.0</td>\n",
       "      <td>1.0</td>\n",
       "      <td>-1.0</td>\n",
       "      <td>1.0</td>\n",
       "    </tr>\n",
       "    <tr>\n",
       "      <th>2022-04-29 11:02:00</th>\n",
       "      <td>193.415</td>\n",
       "      <td>37.10</td>\n",
       "      <td>0.018515</td>\n",
       "      <td>-0.012247</td>\n",
       "      <td>0.030762</td>\n",
       "      <td>-1.0</td>\n",
       "      <td>1.0</td>\n",
       "      <td>-1.0</td>\n",
       "      <td>1.0</td>\n",
       "    </tr>\n",
       "    <tr>\n",
       "      <th>2022-04-29 11:03:00</th>\n",
       "      <td>193.242</td>\n",
       "      <td>37.03</td>\n",
       "      <td>0.017604</td>\n",
       "      <td>-0.014111</td>\n",
       "      <td>0.031715</td>\n",
       "      <td>-1.0</td>\n",
       "      <td>1.0</td>\n",
       "      <td>-1.0</td>\n",
       "      <td>1.0</td>\n",
       "    </tr>\n",
       "    <tr>\n",
       "      <th>2022-04-29 11:04:00</th>\n",
       "      <td>193.130</td>\n",
       "      <td>37.00</td>\n",
       "      <td>0.017014</td>\n",
       "      <td>-0.014909</td>\n",
       "      <td>0.031924</td>\n",
       "      <td>-1.0</td>\n",
       "      <td>1.0</td>\n",
       "      <td>-1.0</td>\n",
       "      <td>1.0</td>\n",
       "    </tr>\n",
       "    <tr>\n",
       "      <th>2022-04-29 11:05:00</th>\n",
       "      <td>192.572</td>\n",
       "      <td>36.94</td>\n",
       "      <td>0.014076</td>\n",
       "      <td>-0.016507</td>\n",
       "      <td>0.030583</td>\n",
       "      <td>-1.0</td>\n",
       "      <td>1.0</td>\n",
       "      <td>-1.0</td>\n",
       "      <td>1.0</td>\n",
       "    </tr>\n",
       "    <tr>\n",
       "      <th>2022-04-29 11:06:00</th>\n",
       "      <td>193.000</td>\n",
       "      <td>36.91</td>\n",
       "      <td>0.016330</td>\n",
       "      <td>-0.017306</td>\n",
       "      <td>0.033635</td>\n",
       "      <td>-1.0</td>\n",
       "      <td>1.0</td>\n",
       "      <td>-1.0</td>\n",
       "      <td>1.0</td>\n",
       "    </tr>\n",
       "    <tr>\n",
       "      <th>2022-04-29 11:07:00</th>\n",
       "      <td>192.859</td>\n",
       "      <td>36.93</td>\n",
       "      <td>0.015587</td>\n",
       "      <td>-0.016773</td>\n",
       "      <td>0.032360</td>\n",
       "      <td>-1.0</td>\n",
       "      <td>1.0</td>\n",
       "      <td>-1.0</td>\n",
       "      <td>1.0</td>\n",
       "    </tr>\n",
       "    <tr>\n",
       "      <th>2022-04-29 11:08:00</th>\n",
       "      <td>192.914</td>\n",
       "      <td>36.92</td>\n",
       "      <td>0.015877</td>\n",
       "      <td>-0.017039</td>\n",
       "      <td>0.032916</td>\n",
       "      <td>-1.0</td>\n",
       "      <td>1.0</td>\n",
       "      <td>-1.0</td>\n",
       "      <td>1.0</td>\n",
       "    </tr>\n",
       "    <tr>\n",
       "      <th>2022-04-29 11:09:00</th>\n",
       "      <td>192.750</td>\n",
       "      <td>36.85</td>\n",
       "      <td>0.015013</td>\n",
       "      <td>-0.018903</td>\n",
       "      <td>0.033916</td>\n",
       "      <td>-1.0</td>\n",
       "      <td>1.0</td>\n",
       "      <td>-1.0</td>\n",
       "      <td>1.0</td>\n",
       "    </tr>\n",
       "    <tr>\n",
       "      <th>2022-04-29 11:10:00</th>\n",
       "      <td>192.653</td>\n",
       "      <td>36.85</td>\n",
       "      <td>0.014502</td>\n",
       "      <td>-0.018903</td>\n",
       "      <td>0.033406</td>\n",
       "      <td>-1.0</td>\n",
       "      <td>1.0</td>\n",
       "      <td>-1.0</td>\n",
       "      <td>1.0</td>\n",
       "    </tr>\n",
       "    <tr>\n",
       "      <th>2022-04-29 11:11:00</th>\n",
       "      <td>192.665</td>\n",
       "      <td>36.85</td>\n",
       "      <td>0.014566</td>\n",
       "      <td>-0.018903</td>\n",
       "      <td>0.033469</td>\n",
       "      <td>-1.0</td>\n",
       "      <td>1.0</td>\n",
       "      <td>-1.0</td>\n",
       "      <td>1.0</td>\n",
       "    </tr>\n",
       "    <tr>\n",
       "      <th>2022-04-29 11:12:00</th>\n",
       "      <td>192.853</td>\n",
       "      <td>36.83</td>\n",
       "      <td>0.015556</td>\n",
       "      <td>-0.019436</td>\n",
       "      <td>0.034991</td>\n",
       "      <td>-1.0</td>\n",
       "      <td>1.0</td>\n",
       "      <td>-1.0</td>\n",
       "      <td>1.0</td>\n",
       "    </tr>\n",
       "    <tr>\n",
       "      <th>2022-04-29 11:13:00</th>\n",
       "      <td>193.089</td>\n",
       "      <td>36.90</td>\n",
       "      <td>0.016798</td>\n",
       "      <td>-0.017572</td>\n",
       "      <td>0.034370</td>\n",
       "      <td>-1.0</td>\n",
       "      <td>1.0</td>\n",
       "      <td>-1.0</td>\n",
       "      <td>1.0</td>\n",
       "    </tr>\n",
       "    <tr>\n",
       "      <th>2022-04-29 11:14:00</th>\n",
       "      <td>193.158</td>\n",
       "      <td>36.96</td>\n",
       "      <td>0.017162</td>\n",
       "      <td>-0.015974</td>\n",
       "      <td>0.033136</td>\n",
       "      <td>-1.0</td>\n",
       "      <td>1.0</td>\n",
       "      <td>-1.0</td>\n",
       "      <td>1.0</td>\n",
       "    </tr>\n",
       "    <tr>\n",
       "      <th>2022-04-29 11:15:00</th>\n",
       "      <td>193.360</td>\n",
       "      <td>36.92</td>\n",
       "      <td>0.018225</td>\n",
       "      <td>-0.017039</td>\n",
       "      <td>0.035265</td>\n",
       "      <td>-1.0</td>\n",
       "      <td>1.0</td>\n",
       "      <td>-1.0</td>\n",
       "      <td>1.0</td>\n",
       "    </tr>\n",
       "    <tr>\n",
       "      <th>2022-04-29 11:16:00</th>\n",
       "      <td>193.089</td>\n",
       "      <td>36.94</td>\n",
       "      <td>0.016798</td>\n",
       "      <td>-0.016507</td>\n",
       "      <td>0.033305</td>\n",
       "      <td>-1.0</td>\n",
       "      <td>1.0</td>\n",
       "      <td>-1.0</td>\n",
       "      <td>1.0</td>\n",
       "    </tr>\n",
       "    <tr>\n",
       "      <th>2022-04-29 11:17:00</th>\n",
       "      <td>193.100</td>\n",
       "      <td>36.97</td>\n",
       "      <td>0.016856</td>\n",
       "      <td>-0.015708</td>\n",
       "      <td>0.032565</td>\n",
       "      <td>-1.0</td>\n",
       "      <td>1.0</td>\n",
       "      <td>-1.0</td>\n",
       "      <td>1.0</td>\n",
       "    </tr>\n",
       "    <tr>\n",
       "      <th>2022-04-29 11:18:00</th>\n",
       "      <td>192.500</td>\n",
       "      <td>36.98</td>\n",
       "      <td>0.013697</td>\n",
       "      <td>-0.015442</td>\n",
       "      <td>0.029139</td>\n",
       "      <td>-1.0</td>\n",
       "      <td>1.0</td>\n",
       "      <td>-1.0</td>\n",
       "      <td>1.0</td>\n",
       "    </tr>\n",
       "    <tr>\n",
       "      <th>2022-04-29 11:19:00</th>\n",
       "      <td>192.448</td>\n",
       "      <td>36.99</td>\n",
       "      <td>0.013423</td>\n",
       "      <td>-0.015176</td>\n",
       "      <td>0.028599</td>\n",
       "      <td>-1.0</td>\n",
       "      <td>1.0</td>\n",
       "      <td>-1.0</td>\n",
       "      <td>1.0</td>\n",
       "    </tr>\n",
       "    <tr>\n",
       "      <th>2022-04-29 11:20:00</th>\n",
       "      <td>192.190</td>\n",
       "      <td>36.95</td>\n",
       "      <td>0.012064</td>\n",
       "      <td>-0.016241</td>\n",
       "      <td>0.028305</td>\n",
       "      <td>-1.0</td>\n",
       "      <td>1.0</td>\n",
       "      <td>-1.0</td>\n",
       "      <td>1.0</td>\n",
       "    </tr>\n",
       "    <tr>\n",
       "      <th>2022-04-29 11:21:00</th>\n",
       "      <td>192.263</td>\n",
       "      <td>36.97</td>\n",
       "      <td>0.012449</td>\n",
       "      <td>-0.015708</td>\n",
       "      <td>0.028157</td>\n",
       "      <td>-1.0</td>\n",
       "      <td>1.0</td>\n",
       "      <td>-1.0</td>\n",
       "      <td>1.0</td>\n",
       "    </tr>\n",
       "    <tr>\n",
       "      <th>2022-04-29 11:22:00</th>\n",
       "      <td>192.490</td>\n",
       "      <td>37.02</td>\n",
       "      <td>0.013644</td>\n",
       "      <td>-0.014377</td>\n",
       "      <td>0.028021</td>\n",
       "      <td>-1.0</td>\n",
       "      <td>1.0</td>\n",
       "      <td>-1.0</td>\n",
       "      <td>1.0</td>\n",
       "    </tr>\n",
       "    <tr>\n",
       "      <th>2022-04-29 11:23:00</th>\n",
       "      <td>192.424</td>\n",
       "      <td>37.08</td>\n",
       "      <td>0.013297</td>\n",
       "      <td>-0.012780</td>\n",
       "      <td>0.026076</td>\n",
       "      <td>-1.0</td>\n",
       "      <td>1.0</td>\n",
       "      <td>-1.0</td>\n",
       "      <td>1.0</td>\n",
       "    </tr>\n",
       "    <tr>\n",
       "      <th>2022-04-29 11:24:00</th>\n",
       "      <td>192.197</td>\n",
       "      <td>37.06</td>\n",
       "      <td>0.012101</td>\n",
       "      <td>-0.013312</td>\n",
       "      <td>0.025413</td>\n",
       "      <td>-1.0</td>\n",
       "      <td>1.0</td>\n",
       "      <td>-1.0</td>\n",
       "      <td>1.0</td>\n",
       "    </tr>\n",
       "    <tr>\n",
       "      <th>2022-04-29 11:25:00</th>\n",
       "      <td>192.270</td>\n",
       "      <td>37.03</td>\n",
       "      <td>0.012486</td>\n",
       "      <td>-0.014111</td>\n",
       "      <td>0.026596</td>\n",
       "      <td>-1.0</td>\n",
       "      <td>1.0</td>\n",
       "      <td>-1.0</td>\n",
       "      <td>1.0</td>\n",
       "    </tr>\n",
       "    <tr>\n",
       "      <th>2022-04-29 11:26:00</th>\n",
       "      <td>192.500</td>\n",
       "      <td>37.09</td>\n",
       "      <td>0.013697</td>\n",
       "      <td>-0.012513</td>\n",
       "      <td>0.026210</td>\n",
       "      <td>-1.0</td>\n",
       "      <td>1.0</td>\n",
       "      <td>-1.0</td>\n",
       "      <td>1.0</td>\n",
       "    </tr>\n",
       "    <tr>\n",
       "      <th>2022-04-29 11:27:00</th>\n",
       "      <td>192.361</td>\n",
       "      <td>37.09</td>\n",
       "      <td>0.012965</td>\n",
       "      <td>-0.012513</td>\n",
       "      <td>0.025478</td>\n",
       "      <td>-1.0</td>\n",
       "      <td>1.0</td>\n",
       "      <td>-1.0</td>\n",
       "      <td>1.0</td>\n",
       "    </tr>\n",
       "    <tr>\n",
       "      <th>2022-04-29 11:28:00</th>\n",
       "      <td>192.500</td>\n",
       "      <td>37.13</td>\n",
       "      <td>0.013697</td>\n",
       "      <td>-0.011448</td>\n",
       "      <td>0.025145</td>\n",
       "      <td>-1.0</td>\n",
       "      <td>1.0</td>\n",
       "      <td>-1.0</td>\n",
       "      <td>1.0</td>\n",
       "    </tr>\n",
       "    <tr>\n",
       "      <th>2022-04-29 11:29:00</th>\n",
       "      <td>192.447</td>\n",
       "      <td>37.11</td>\n",
       "      <td>0.013418</td>\n",
       "      <td>-0.011981</td>\n",
       "      <td>0.025398</td>\n",
       "      <td>-1.0</td>\n",
       "      <td>1.0</td>\n",
       "      <td>-1.0</td>\n",
       "      <td>1.0</td>\n",
       "    </tr>\n",
       "    <tr>\n",
       "      <th>2022-04-29 13:00:00</th>\n",
       "      <td>193.346</td>\n",
       "      <td>37.42</td>\n",
       "      <td>0.018152</td>\n",
       "      <td>-0.003727</td>\n",
       "      <td>0.021879</td>\n",
       "      <td>-1.0</td>\n",
       "      <td>1.0</td>\n",
       "      <td>-1.0</td>\n",
       "      <td>1.0</td>\n",
       "    </tr>\n",
       "    <tr>\n",
       "      <th>2022-04-29 13:01:00</th>\n",
       "      <td>194.397</td>\n",
       "      <td>37.55</td>\n",
       "      <td>0.023686</td>\n",
       "      <td>-0.000266</td>\n",
       "      <td>0.023953</td>\n",
       "      <td>-1.0</td>\n",
       "      <td>1.0</td>\n",
       "      <td>-1.0</td>\n",
       "      <td>1.0</td>\n",
       "    </tr>\n",
       "    <tr>\n",
       "      <th>2022-04-29 13:02:00</th>\n",
       "      <td>194.133</td>\n",
       "      <td>37.60</td>\n",
       "      <td>0.022296</td>\n",
       "      <td>0.001065</td>\n",
       "      <td>0.021231</td>\n",
       "      <td>-1.0</td>\n",
       "      <td>1.0</td>\n",
       "      <td>-1.0</td>\n",
       "      <td>1.0</td>\n",
       "    </tr>\n",
       "    <tr>\n",
       "      <th>2022-04-29 13:03:00</th>\n",
       "      <td>194.397</td>\n",
       "      <td>37.58</td>\n",
       "      <td>0.023686</td>\n",
       "      <td>0.000532</td>\n",
       "      <td>0.023154</td>\n",
       "      <td>-1.0</td>\n",
       "      <td>1.0</td>\n",
       "      <td>-1.0</td>\n",
       "      <td>1.0</td>\n",
       "    </tr>\n",
       "    <tr>\n",
       "      <th>2022-04-29 13:04:00</th>\n",
       "      <td>194.239</td>\n",
       "      <td>37.53</td>\n",
       "      <td>0.022854</td>\n",
       "      <td>-0.000799</td>\n",
       "      <td>0.023653</td>\n",
       "      <td>-1.0</td>\n",
       "      <td>1.0</td>\n",
       "      <td>-1.0</td>\n",
       "      <td>1.0</td>\n",
       "    </tr>\n",
       "    <tr>\n",
       "      <th>2022-04-29 13:05:00</th>\n",
       "      <td>193.979</td>\n",
       "      <td>37.58</td>\n",
       "      <td>0.021485</td>\n",
       "      <td>0.000532</td>\n",
       "      <td>0.020953</td>\n",
       "      <td>-1.0</td>\n",
       "      <td>1.0</td>\n",
       "      <td>-1.0</td>\n",
       "      <td>1.0</td>\n",
       "    </tr>\n",
       "    <tr>\n",
       "      <th>2022-04-29 13:06:00</th>\n",
       "      <td>194.248</td>\n",
       "      <td>37.60</td>\n",
       "      <td>0.022902</td>\n",
       "      <td>0.001065</td>\n",
       "      <td>0.021837</td>\n",
       "      <td>-1.0</td>\n",
       "      <td>1.0</td>\n",
       "      <td>-1.0</td>\n",
       "      <td>1.0</td>\n",
       "    </tr>\n",
       "    <tr>\n",
       "      <th>2022-04-29 13:07:00</th>\n",
       "      <td>194.076</td>\n",
       "      <td>37.67</td>\n",
       "      <td>0.021996</td>\n",
       "      <td>0.002929</td>\n",
       "      <td>0.019067</td>\n",
       "      <td>-1.0</td>\n",
       "      <td>1.0</td>\n",
       "      <td>-1.0</td>\n",
       "      <td>1.0</td>\n",
       "    </tr>\n",
       "    <tr>\n",
       "      <th>2022-04-29 13:08:00</th>\n",
       "      <td>193.241</td>\n",
       "      <td>37.49</td>\n",
       "      <td>0.017599</td>\n",
       "      <td>-0.001864</td>\n",
       "      <td>0.019463</td>\n",
       "      <td>-1.0</td>\n",
       "      <td>1.0</td>\n",
       "      <td>-1.0</td>\n",
       "      <td>1.0</td>\n",
       "    </tr>\n",
       "    <tr>\n",
       "      <th>2022-04-29 13:09:00</th>\n",
       "      <td>194.345</td>\n",
       "      <td>37.57</td>\n",
       "      <td>0.023412</td>\n",
       "      <td>0.000266</td>\n",
       "      <td>0.023146</td>\n",
       "      <td>-1.0</td>\n",
       "      <td>1.0</td>\n",
       "      <td>-1.0</td>\n",
       "      <td>1.0</td>\n",
       "    </tr>\n",
       "    <tr>\n",
       "      <th>2022-04-29 13:10:00</th>\n",
       "      <td>194.410</td>\n",
       "      <td>37.65</td>\n",
       "      <td>0.023755</td>\n",
       "      <td>0.002396</td>\n",
       "      <td>0.021359</td>\n",
       "      <td>-1.0</td>\n",
       "      <td>1.0</td>\n",
       "      <td>-1.0</td>\n",
       "      <td>1.0</td>\n",
       "    </tr>\n",
       "    <tr>\n",
       "      <th>2022-04-29 13:11:00</th>\n",
       "      <td>194.640</td>\n",
       "      <td>37.80</td>\n",
       "      <td>0.024966</td>\n",
       "      <td>0.006390</td>\n",
       "      <td>0.018576</td>\n",
       "      <td>-1.0</td>\n",
       "      <td>1.0</td>\n",
       "      <td>-1.0</td>\n",
       "      <td>1.0</td>\n",
       "    </tr>\n",
       "    <tr>\n",
       "      <th>2022-04-29 13:12:00</th>\n",
       "      <td>195.180</td>\n",
       "      <td>37.85</td>\n",
       "      <td>0.027810</td>\n",
       "      <td>0.007721</td>\n",
       "      <td>0.020089</td>\n",
       "      <td>-1.0</td>\n",
       "      <td>1.0</td>\n",
       "      <td>-1.0</td>\n",
       "      <td>1.0</td>\n",
       "    </tr>\n",
       "    <tr>\n",
       "      <th>2022-04-29 13:13:00</th>\n",
       "      <td>194.996</td>\n",
       "      <td>37.93</td>\n",
       "      <td>0.026841</td>\n",
       "      <td>0.009851</td>\n",
       "      <td>0.016990</td>\n",
       "      <td>-1.0</td>\n",
       "      <td>1.0</td>\n",
       "      <td>-1.0</td>\n",
       "      <td>1.0</td>\n",
       "    </tr>\n",
       "    <tr>\n",
       "      <th>2022-04-29 13:14:00</th>\n",
       "      <td>195.306</td>\n",
       "      <td>37.84</td>\n",
       "      <td>0.028473</td>\n",
       "      <td>0.007455</td>\n",
       "      <td>0.021018</td>\n",
       "      <td>-1.0</td>\n",
       "      <td>1.0</td>\n",
       "      <td>-1.0</td>\n",
       "      <td>1.0</td>\n",
       "    </tr>\n",
       "    <tr>\n",
       "      <th>2022-04-29 13:15:00</th>\n",
       "      <td>194.826</td>\n",
       "      <td>37.81</td>\n",
       "      <td>0.025945</td>\n",
       "      <td>0.006656</td>\n",
       "      <td>0.019289</td>\n",
       "      <td>-1.0</td>\n",
       "      <td>1.0</td>\n",
       "      <td>-1.0</td>\n",
       "      <td>1.0</td>\n",
       "    </tr>\n",
       "    <tr>\n",
       "      <th>2022-04-29 13:16:00</th>\n",
       "      <td>194.999</td>\n",
       "      <td>37.91</td>\n",
       "      <td>0.026856</td>\n",
       "      <td>0.009318</td>\n",
       "      <td>0.017538</td>\n",
       "      <td>-1.0</td>\n",
       "      <td>1.0</td>\n",
       "      <td>-1.0</td>\n",
       "      <td>1.0</td>\n",
       "    </tr>\n",
       "    <tr>\n",
       "      <th>2022-04-29 13:17:00</th>\n",
       "      <td>194.802</td>\n",
       "      <td>37.84</td>\n",
       "      <td>0.025819</td>\n",
       "      <td>0.007455</td>\n",
       "      <td>0.018364</td>\n",
       "      <td>-1.0</td>\n",
       "      <td>1.0</td>\n",
       "      <td>-1.0</td>\n",
       "      <td>1.0</td>\n",
       "    </tr>\n",
       "    <tr>\n",
       "      <th>2022-04-29 13:18:00</th>\n",
       "      <td>195.013</td>\n",
       "      <td>37.81</td>\n",
       "      <td>0.026930</td>\n",
       "      <td>0.006656</td>\n",
       "      <td>0.020274</td>\n",
       "      <td>-1.0</td>\n",
       "      <td>1.0</td>\n",
       "      <td>-1.0</td>\n",
       "      <td>1.0</td>\n",
       "    </tr>\n",
       "    <tr>\n",
       "      <th>2022-04-29 13:19:00</th>\n",
       "      <td>194.761</td>\n",
       "      <td>37.79</td>\n",
       "      <td>0.025603</td>\n",
       "      <td>0.006124</td>\n",
       "      <td>0.019480</td>\n",
       "      <td>-1.0</td>\n",
       "      <td>1.0</td>\n",
       "      <td>-1.0</td>\n",
       "      <td>1.0</td>\n",
       "    </tr>\n",
       "    <tr>\n",
       "      <th>2022-04-29 13:20:00</th>\n",
       "      <td>194.498</td>\n",
       "      <td>37.84</td>\n",
       "      <td>0.024218</td>\n",
       "      <td>0.007455</td>\n",
       "      <td>0.016763</td>\n",
       "      <td>-1.0</td>\n",
       "      <td>1.0</td>\n",
       "      <td>-1.0</td>\n",
       "      <td>1.0</td>\n",
       "    </tr>\n",
       "    <tr>\n",
       "      <th>2022-04-29 13:21:00</th>\n",
       "      <td>195.020</td>\n",
       "      <td>37.86</td>\n",
       "      <td>0.026967</td>\n",
       "      <td>0.007987</td>\n",
       "      <td>0.018980</td>\n",
       "      <td>-1.0</td>\n",
       "      <td>1.0</td>\n",
       "      <td>-1.0</td>\n",
       "      <td>1.0</td>\n",
       "    </tr>\n",
       "    <tr>\n",
       "      <th>2022-04-29 13:22:00</th>\n",
       "      <td>194.988</td>\n",
       "      <td>37.89</td>\n",
       "      <td>0.026798</td>\n",
       "      <td>0.008786</td>\n",
       "      <td>0.018013</td>\n",
       "      <td>-1.0</td>\n",
       "      <td>1.0</td>\n",
       "      <td>-1.0</td>\n",
       "      <td>1.0</td>\n",
       "    </tr>\n",
       "    <tr>\n",
       "      <th>2022-04-29 13:23:00</th>\n",
       "      <td>194.450</td>\n",
       "      <td>37.87</td>\n",
       "      <td>0.023965</td>\n",
       "      <td>0.008253</td>\n",
       "      <td>0.015712</td>\n",
       "      <td>-1.0</td>\n",
       "      <td>1.0</td>\n",
       "      <td>-1.0</td>\n",
       "      <td>1.0</td>\n",
       "    </tr>\n",
       "    <tr>\n",
       "      <th>2022-04-29 13:24:00</th>\n",
       "      <td>194.609</td>\n",
       "      <td>37.83</td>\n",
       "      <td>0.024803</td>\n",
       "      <td>0.007188</td>\n",
       "      <td>0.017614</td>\n",
       "      <td>-1.0</td>\n",
       "      <td>1.0</td>\n",
       "      <td>-1.0</td>\n",
       "      <td>1.0</td>\n",
       "    </tr>\n",
       "    <tr>\n",
       "      <th>2022-04-29 13:25:00</th>\n",
       "      <td>194.028</td>\n",
       "      <td>37.84</td>\n",
       "      <td>0.021743</td>\n",
       "      <td>0.007455</td>\n",
       "      <td>0.014288</td>\n",
       "      <td>-1.0</td>\n",
       "      <td>1.0</td>\n",
       "      <td>-1.0</td>\n",
       "      <td>1.0</td>\n",
       "    </tr>\n",
       "    <tr>\n",
       "      <th>2022-04-29 13:26:00</th>\n",
       "      <td>194.555</td>\n",
       "      <td>37.81</td>\n",
       "      <td>0.024518</td>\n",
       "      <td>0.006656</td>\n",
       "      <td>0.017862</td>\n",
       "      <td>-1.0</td>\n",
       "      <td>1.0</td>\n",
       "      <td>-1.0</td>\n",
       "      <td>1.0</td>\n",
       "    </tr>\n",
       "    <tr>\n",
       "      <th>2022-04-29 13:27:00</th>\n",
       "      <td>194.386</td>\n",
       "      <td>37.80</td>\n",
       "      <td>0.023628</td>\n",
       "      <td>0.006390</td>\n",
       "      <td>0.017239</td>\n",
       "      <td>-1.0</td>\n",
       "      <td>1.0</td>\n",
       "      <td>-1.0</td>\n",
       "      <td>1.0</td>\n",
       "    </tr>\n",
       "    <tr>\n",
       "      <th>2022-04-29 13:28:00</th>\n",
       "      <td>194.441</td>\n",
       "      <td>37.75</td>\n",
       "      <td>0.023918</td>\n",
       "      <td>0.005059</td>\n",
       "      <td>0.018859</td>\n",
       "      <td>-1.0</td>\n",
       "      <td>1.0</td>\n",
       "      <td>-1.0</td>\n",
       "      <td>1.0</td>\n",
       "    </tr>\n",
       "    <tr>\n",
       "      <th>2022-04-29 13:29:00</th>\n",
       "      <td>194.700</td>\n",
       "      <td>37.72</td>\n",
       "      <td>0.025282</td>\n",
       "      <td>0.004260</td>\n",
       "      <td>0.021022</td>\n",
       "      <td>-1.0</td>\n",
       "      <td>1.0</td>\n",
       "      <td>-1.0</td>\n",
       "      <td>1.0</td>\n",
       "    </tr>\n",
       "    <tr>\n",
       "      <th>2022-04-29 13:30:00</th>\n",
       "      <td>194.782</td>\n",
       "      <td>37.65</td>\n",
       "      <td>0.025714</td>\n",
       "      <td>0.002396</td>\n",
       "      <td>0.023318</td>\n",
       "      <td>-1.0</td>\n",
       "      <td>1.0</td>\n",
       "      <td>-1.0</td>\n",
       "      <td>1.0</td>\n",
       "    </tr>\n",
       "    <tr>\n",
       "      <th>2022-04-29 13:31:00</th>\n",
       "      <td>194.996</td>\n",
       "      <td>37.64</td>\n",
       "      <td>0.026841</td>\n",
       "      <td>0.002130</td>\n",
       "      <td>0.024711</td>\n",
       "      <td>-1.0</td>\n",
       "      <td>1.0</td>\n",
       "      <td>-1.0</td>\n",
       "      <td>1.0</td>\n",
       "    </tr>\n",
       "    <tr>\n",
       "      <th>2022-04-29 13:32:00</th>\n",
       "      <td>194.522</td>\n",
       "      <td>37.75</td>\n",
       "      <td>0.024345</td>\n",
       "      <td>0.005059</td>\n",
       "      <td>0.019286</td>\n",
       "      <td>-1.0</td>\n",
       "      <td>1.0</td>\n",
       "      <td>-1.0</td>\n",
       "      <td>1.0</td>\n",
       "    </tr>\n",
       "    <tr>\n",
       "      <th>2022-04-29 13:33:00</th>\n",
       "      <td>194.421</td>\n",
       "      <td>37.73</td>\n",
       "      <td>0.023813</td>\n",
       "      <td>0.004526</td>\n",
       "      <td>0.019287</td>\n",
       "      <td>-1.0</td>\n",
       "      <td>1.0</td>\n",
       "      <td>-1.0</td>\n",
       "      <td>1.0</td>\n",
       "    </tr>\n",
       "    <tr>\n",
       "      <th>2022-04-29 13:34:00</th>\n",
       "      <td>194.343</td>\n",
       "      <td>37.70</td>\n",
       "      <td>0.023402</td>\n",
       "      <td>0.003727</td>\n",
       "      <td>0.019675</td>\n",
       "      <td>-1.0</td>\n",
       "      <td>1.0</td>\n",
       "      <td>-1.0</td>\n",
       "      <td>1.0</td>\n",
       "    </tr>\n",
       "    <tr>\n",
       "      <th>2022-04-29 13:35:00</th>\n",
       "      <td>194.886</td>\n",
       "      <td>37.79</td>\n",
       "      <td>0.026261</td>\n",
       "      <td>0.006124</td>\n",
       "      <td>0.020138</td>\n",
       "      <td>-1.0</td>\n",
       "      <td>1.0</td>\n",
       "      <td>-1.0</td>\n",
       "      <td>1.0</td>\n",
       "    </tr>\n",
       "    <tr>\n",
       "      <th>2022-04-29 13:36:00</th>\n",
       "      <td>194.877</td>\n",
       "      <td>37.75</td>\n",
       "      <td>0.026214</td>\n",
       "      <td>0.005059</td>\n",
       "      <td>0.021155</td>\n",
       "      <td>-1.0</td>\n",
       "      <td>1.0</td>\n",
       "      <td>-1.0</td>\n",
       "      <td>1.0</td>\n",
       "    </tr>\n",
       "    <tr>\n",
       "      <th>2022-04-29 13:37:00</th>\n",
       "      <td>194.900</td>\n",
       "      <td>37.90</td>\n",
       "      <td>0.026335</td>\n",
       "      <td>0.009052</td>\n",
       "      <td>0.017283</td>\n",
       "      <td>-1.0</td>\n",
       "      <td>1.0</td>\n",
       "      <td>-1.0</td>\n",
       "      <td>1.0</td>\n",
       "    </tr>\n",
       "    <tr>\n",
       "      <th>2022-04-29 13:38:00</th>\n",
       "      <td>195.228</td>\n",
       "      <td>37.88</td>\n",
       "      <td>0.028062</td>\n",
       "      <td>0.008520</td>\n",
       "      <td>0.019543</td>\n",
       "      <td>-1.0</td>\n",
       "      <td>1.0</td>\n",
       "      <td>-1.0</td>\n",
       "      <td>1.0</td>\n",
       "    </tr>\n",
       "    <tr>\n",
       "      <th>2022-04-29 13:39:00</th>\n",
       "      <td>195.114</td>\n",
       "      <td>37.80</td>\n",
       "      <td>0.027462</td>\n",
       "      <td>0.006390</td>\n",
       "      <td>0.021072</td>\n",
       "      <td>-1.0</td>\n",
       "      <td>1.0</td>\n",
       "      <td>-1.0</td>\n",
       "      <td>1.0</td>\n",
       "    </tr>\n",
       "    <tr>\n",
       "      <th>2022-04-29 13:40:00</th>\n",
       "      <td>194.649</td>\n",
       "      <td>37.78</td>\n",
       "      <td>0.025013</td>\n",
       "      <td>0.005857</td>\n",
       "      <td>0.019156</td>\n",
       "      <td>-1.0</td>\n",
       "      <td>1.0</td>\n",
       "      <td>-1.0</td>\n",
       "      <td>1.0</td>\n",
       "    </tr>\n",
       "    <tr>\n",
       "      <th>2022-04-29 13:41:00</th>\n",
       "      <td>193.993</td>\n",
       "      <td>37.68</td>\n",
       "      <td>0.021559</td>\n",
       "      <td>0.003195</td>\n",
       "      <td>0.018364</td>\n",
       "      <td>-1.0</td>\n",
       "      <td>1.0</td>\n",
       "      <td>-1.0</td>\n",
       "      <td>1.0</td>\n",
       "    </tr>\n",
       "    <tr>\n",
       "      <th>2022-04-29 13:42:00</th>\n",
       "      <td>193.654</td>\n",
       "      <td>37.58</td>\n",
       "      <td>0.019774</td>\n",
       "      <td>0.000532</td>\n",
       "      <td>0.019241</td>\n",
       "      <td>-1.0</td>\n",
       "      <td>1.0</td>\n",
       "      <td>-1.0</td>\n",
       "      <td>1.0</td>\n",
       "    </tr>\n",
       "    <tr>\n",
       "      <th>2022-04-29 13:43:00</th>\n",
       "      <td>194.500</td>\n",
       "      <td>37.64</td>\n",
       "      <td>0.024229</td>\n",
       "      <td>0.002130</td>\n",
       "      <td>0.022099</td>\n",
       "      <td>-1.0</td>\n",
       "      <td>1.0</td>\n",
       "      <td>-1.0</td>\n",
       "      <td>1.0</td>\n",
       "    </tr>\n",
       "    <tr>\n",
       "      <th>2022-04-29 13:44:00</th>\n",
       "      <td>194.800</td>\n",
       "      <td>37.83</td>\n",
       "      <td>0.025808</td>\n",
       "      <td>0.007188</td>\n",
       "      <td>0.018620</td>\n",
       "      <td>-1.0</td>\n",
       "      <td>1.0</td>\n",
       "      <td>-1.0</td>\n",
       "      <td>1.0</td>\n",
       "    </tr>\n",
       "    <tr>\n",
       "      <th>2022-04-29 13:45:00</th>\n",
       "      <td>195.148</td>\n",
       "      <td>37.93</td>\n",
       "      <td>0.027641</td>\n",
       "      <td>0.009851</td>\n",
       "      <td>0.017790</td>\n",
       "      <td>-1.0</td>\n",
       "      <td>1.0</td>\n",
       "      <td>-1.0</td>\n",
       "      <td>1.0</td>\n",
       "    </tr>\n",
       "    <tr>\n",
       "      <th>2022-04-29 13:46:00</th>\n",
       "      <td>194.700</td>\n",
       "      <td>37.84</td>\n",
       "      <td>0.025282</td>\n",
       "      <td>0.007455</td>\n",
       "      <td>0.017827</td>\n",
       "      <td>-1.0</td>\n",
       "      <td>1.0</td>\n",
       "      <td>-1.0</td>\n",
       "      <td>1.0</td>\n",
       "    </tr>\n",
       "    <tr>\n",
       "      <th>2022-04-29 13:47:00</th>\n",
       "      <td>194.688</td>\n",
       "      <td>37.74</td>\n",
       "      <td>0.025219</td>\n",
       "      <td>0.004792</td>\n",
       "      <td>0.020426</td>\n",
       "      <td>-1.0</td>\n",
       "      <td>1.0</td>\n",
       "      <td>-1.0</td>\n",
       "      <td>1.0</td>\n",
       "    </tr>\n",
       "    <tr>\n",
       "      <th>2022-04-29 13:48:00</th>\n",
       "      <td>194.824</td>\n",
       "      <td>37.82</td>\n",
       "      <td>0.025935</td>\n",
       "      <td>0.006922</td>\n",
       "      <td>0.019013</td>\n",
       "      <td>-1.0</td>\n",
       "      <td>1.0</td>\n",
       "      <td>-1.0</td>\n",
       "      <td>1.0</td>\n",
       "    </tr>\n",
       "    <tr>\n",
       "      <th>2022-04-29 13:50:00</th>\n",
       "      <td>194.500</td>\n",
       "      <td>37.81</td>\n",
       "      <td>0.024229</td>\n",
       "      <td>0.006656</td>\n",
       "      <td>0.017573</td>\n",
       "      <td>-1.0</td>\n",
       "      <td>1.0</td>\n",
       "      <td>-1.0</td>\n",
       "      <td>1.0</td>\n",
       "    </tr>\n",
       "    <tr>\n",
       "      <th>2022-04-29 13:51:00</th>\n",
       "      <td>194.385</td>\n",
       "      <td>37.81</td>\n",
       "      <td>0.023623</td>\n",
       "      <td>0.006656</td>\n",
       "      <td>0.016967</td>\n",
       "      <td>-1.0</td>\n",
       "      <td>1.0</td>\n",
       "      <td>-1.0</td>\n",
       "      <td>1.0</td>\n",
       "    </tr>\n",
       "    <tr>\n",
       "      <th>2022-04-29 13:52:00</th>\n",
       "      <td>194.397</td>\n",
       "      <td>37.81</td>\n",
       "      <td>0.023686</td>\n",
       "      <td>0.006656</td>\n",
       "      <td>0.017030</td>\n",
       "      <td>-1.0</td>\n",
       "      <td>1.0</td>\n",
       "      <td>-1.0</td>\n",
       "      <td>1.0</td>\n",
       "    </tr>\n",
       "    <tr>\n",
       "      <th>2022-04-29 13:53:00</th>\n",
       "      <td>194.830</td>\n",
       "      <td>37.85</td>\n",
       "      <td>0.025966</td>\n",
       "      <td>0.007721</td>\n",
       "      <td>0.018245</td>\n",
       "      <td>-1.0</td>\n",
       "      <td>1.0</td>\n",
       "      <td>-1.0</td>\n",
       "      <td>1.0</td>\n",
       "    </tr>\n",
       "    <tr>\n",
       "      <th>2022-04-29 13:54:00</th>\n",
       "      <td>195.250</td>\n",
       "      <td>38.07</td>\n",
       "      <td>0.028178</td>\n",
       "      <td>0.013578</td>\n",
       "      <td>0.014600</td>\n",
       "      <td>-1.0</td>\n",
       "      <td>1.0</td>\n",
       "      <td>-1.0</td>\n",
       "      <td>1.0</td>\n",
       "    </tr>\n",
       "    <tr>\n",
       "      <th>2022-04-29 13:55:00</th>\n",
       "      <td>195.089</td>\n",
       "      <td>37.90</td>\n",
       "      <td>0.027330</td>\n",
       "      <td>0.009052</td>\n",
       "      <td>0.018278</td>\n",
       "      <td>-1.0</td>\n",
       "      <td>1.0</td>\n",
       "      <td>-1.0</td>\n",
       "      <td>1.0</td>\n",
       "    </tr>\n",
       "    <tr>\n",
       "      <th>2022-04-29 13:56:00</th>\n",
       "      <td>195.323</td>\n",
       "      <td>38.08</td>\n",
       "      <td>0.028563</td>\n",
       "      <td>0.013845</td>\n",
       "      <td>0.014718</td>\n",
       "      <td>-1.0</td>\n",
       "      <td>1.0</td>\n",
       "      <td>-1.0</td>\n",
       "      <td>1.0</td>\n",
       "    </tr>\n",
       "    <tr>\n",
       "      <th>2022-04-29 13:57:00</th>\n",
       "      <td>195.896</td>\n",
       "      <td>38.11</td>\n",
       "      <td>0.031580</td>\n",
       "      <td>0.014643</td>\n",
       "      <td>0.016937</td>\n",
       "      <td>-1.0</td>\n",
       "      <td>1.0</td>\n",
       "      <td>-1.0</td>\n",
       "      <td>1.0</td>\n",
       "    </tr>\n",
       "    <tr>\n",
       "      <th>2022-04-29 13:58:00</th>\n",
       "      <td>195.380</td>\n",
       "      <td>38.09</td>\n",
       "      <td>0.028863</td>\n",
       "      <td>0.014111</td>\n",
       "      <td>0.014752</td>\n",
       "      <td>-1.0</td>\n",
       "      <td>1.0</td>\n",
       "      <td>-1.0</td>\n",
       "      <td>1.0</td>\n",
       "    </tr>\n",
       "    <tr>\n",
       "      <th>2022-04-29 13:59:00</th>\n",
       "      <td>195.333</td>\n",
       "      <td>38.05</td>\n",
       "      <td>0.028615</td>\n",
       "      <td>0.013046</td>\n",
       "      <td>0.015569</td>\n",
       "      <td>-1.0</td>\n",
       "      <td>1.0</td>\n",
       "      <td>-1.0</td>\n",
       "      <td>1.0</td>\n",
       "    </tr>\n",
       "    <tr>\n",
       "      <th>2022-04-29 14:00:00</th>\n",
       "      <td>195.800</td>\n",
       "      <td>38.00</td>\n",
       "      <td>0.031074</td>\n",
       "      <td>0.011715</td>\n",
       "      <td>0.019360</td>\n",
       "      <td>-1.0</td>\n",
       "      <td>1.0</td>\n",
       "      <td>-1.0</td>\n",
       "      <td>1.0</td>\n",
       "    </tr>\n",
       "    <tr>\n",
       "      <th>2022-04-29 14:01:00</th>\n",
       "      <td>195.696</td>\n",
       "      <td>37.98</td>\n",
       "      <td>0.030527</td>\n",
       "      <td>0.011182</td>\n",
       "      <td>0.019345</td>\n",
       "      <td>-1.0</td>\n",
       "      <td>1.0</td>\n",
       "      <td>-1.0</td>\n",
       "      <td>1.0</td>\n",
       "    </tr>\n",
       "    <tr>\n",
       "      <th>2022-04-29 14:02:00</th>\n",
       "      <td>195.328</td>\n",
       "      <td>37.96</td>\n",
       "      <td>0.028589</td>\n",
       "      <td>0.010650</td>\n",
       "      <td>0.017939</td>\n",
       "      <td>-1.0</td>\n",
       "      <td>1.0</td>\n",
       "      <td>-1.0</td>\n",
       "      <td>1.0</td>\n",
       "    </tr>\n",
       "    <tr>\n",
       "      <th>2022-04-29 14:03:00</th>\n",
       "      <td>195.379</td>\n",
       "      <td>38.06</td>\n",
       "      <td>0.028857</td>\n",
       "      <td>0.013312</td>\n",
       "      <td>0.015545</td>\n",
       "      <td>-1.0</td>\n",
       "      <td>1.0</td>\n",
       "      <td>-1.0</td>\n",
       "      <td>1.0</td>\n",
       "    </tr>\n",
       "    <tr>\n",
       "      <th>2022-04-29 14:04:00</th>\n",
       "      <td>195.800</td>\n",
       "      <td>38.15</td>\n",
       "      <td>0.031074</td>\n",
       "      <td>0.015708</td>\n",
       "      <td>0.015366</td>\n",
       "      <td>-1.0</td>\n",
       "      <td>1.0</td>\n",
       "      <td>-1.0</td>\n",
       "      <td>1.0</td>\n",
       "    </tr>\n",
       "    <tr>\n",
       "      <th>2022-04-29 14:05:00</th>\n",
       "      <td>195.897</td>\n",
       "      <td>38.20</td>\n",
       "      <td>0.031585</td>\n",
       "      <td>0.017039</td>\n",
       "      <td>0.014546</td>\n",
       "      <td>-1.0</td>\n",
       "      <td>1.0</td>\n",
       "      <td>-1.0</td>\n",
       "      <td>1.0</td>\n",
       "    </tr>\n",
       "    <tr>\n",
       "      <th>2022-04-29 14:06:00</th>\n",
       "      <td>195.942</td>\n",
       "      <td>38.09</td>\n",
       "      <td>0.031822</td>\n",
       "      <td>0.014111</td>\n",
       "      <td>0.017711</td>\n",
       "      <td>-1.0</td>\n",
       "      <td>1.0</td>\n",
       "      <td>-1.0</td>\n",
       "      <td>1.0</td>\n",
       "    </tr>\n",
       "    <tr>\n",
       "      <th>2022-04-29 14:07:00</th>\n",
       "      <td>195.883</td>\n",
       "      <td>38.07</td>\n",
       "      <td>0.031511</td>\n",
       "      <td>0.013578</td>\n",
       "      <td>0.017933</td>\n",
       "      <td>-1.0</td>\n",
       "      <td>1.0</td>\n",
       "      <td>-1.0</td>\n",
       "      <td>1.0</td>\n",
       "    </tr>\n",
       "    <tr>\n",
       "      <th>2022-04-29 14:08:00</th>\n",
       "      <td>195.566</td>\n",
       "      <td>38.04</td>\n",
       "      <td>0.029842</td>\n",
       "      <td>0.012780</td>\n",
       "      <td>0.017063</td>\n",
       "      <td>-1.0</td>\n",
       "      <td>1.0</td>\n",
       "      <td>-1.0</td>\n",
       "      <td>1.0</td>\n",
       "    </tr>\n",
       "    <tr>\n",
       "      <th>2022-04-29 14:09:00</th>\n",
       "      <td>195.750</td>\n",
       "      <td>38.02</td>\n",
       "      <td>0.030811</td>\n",
       "      <td>0.012247</td>\n",
       "      <td>0.018564</td>\n",
       "      <td>-1.0</td>\n",
       "      <td>1.0</td>\n",
       "      <td>-1.0</td>\n",
       "      <td>1.0</td>\n",
       "    </tr>\n",
       "    <tr>\n",
       "      <th>2022-04-29 14:10:00</th>\n",
       "      <td>195.857</td>\n",
       "      <td>37.99</td>\n",
       "      <td>0.031375</td>\n",
       "      <td>0.011448</td>\n",
       "      <td>0.019926</td>\n",
       "      <td>-1.0</td>\n",
       "      <td>1.0</td>\n",
       "      <td>-1.0</td>\n",
       "      <td>1.0</td>\n",
       "    </tr>\n",
       "    <tr>\n",
       "      <th>2022-04-29 14:11:00</th>\n",
       "      <td>195.415</td>\n",
       "      <td>37.93</td>\n",
       "      <td>0.029047</td>\n",
       "      <td>0.009851</td>\n",
       "      <td>0.019196</td>\n",
       "      <td>-1.0</td>\n",
       "      <td>1.0</td>\n",
       "      <td>-1.0</td>\n",
       "      <td>1.0</td>\n",
       "    </tr>\n",
       "    <tr>\n",
       "      <th>2022-04-29 14:12:00</th>\n",
       "      <td>195.350</td>\n",
       "      <td>37.93</td>\n",
       "      <td>0.028705</td>\n",
       "      <td>0.009851</td>\n",
       "      <td>0.018854</td>\n",
       "      <td>-1.0</td>\n",
       "      <td>1.0</td>\n",
       "      <td>-1.0</td>\n",
       "      <td>1.0</td>\n",
       "    </tr>\n",
       "    <tr>\n",
       "      <th>2022-04-29 14:13:00</th>\n",
       "      <td>195.254</td>\n",
       "      <td>37.94</td>\n",
       "      <td>0.028199</td>\n",
       "      <td>0.010117</td>\n",
       "      <td>0.018082</td>\n",
       "      <td>-1.0</td>\n",
       "      <td>1.0</td>\n",
       "      <td>-1.0</td>\n",
       "      <td>1.0</td>\n",
       "    </tr>\n",
       "    <tr>\n",
       "      <th>2022-04-29 14:14:00</th>\n",
       "      <td>195.375</td>\n",
       "      <td>37.92</td>\n",
       "      <td>0.028836</td>\n",
       "      <td>0.009585</td>\n",
       "      <td>0.019252</td>\n",
       "      <td>-1.0</td>\n",
       "      <td>1.0</td>\n",
       "      <td>-1.0</td>\n",
       "      <td>1.0</td>\n",
       "    </tr>\n",
       "    <tr>\n",
       "      <th>2022-04-29 14:15:00</th>\n",
       "      <td>195.186</td>\n",
       "      <td>37.92</td>\n",
       "      <td>0.027841</td>\n",
       "      <td>0.009585</td>\n",
       "      <td>0.018256</td>\n",
       "      <td>-1.0</td>\n",
       "      <td>1.0</td>\n",
       "      <td>-1.0</td>\n",
       "      <td>1.0</td>\n",
       "    </tr>\n",
       "    <tr>\n",
       "      <th>2022-04-29 14:16:00</th>\n",
       "      <td>195.378</td>\n",
       "      <td>38.00</td>\n",
       "      <td>0.028852</td>\n",
       "      <td>0.011715</td>\n",
       "      <td>0.017138</td>\n",
       "      <td>-1.0</td>\n",
       "      <td>1.0</td>\n",
       "      <td>-1.0</td>\n",
       "      <td>1.0</td>\n",
       "    </tr>\n",
       "    <tr>\n",
       "      <th>2022-04-29 14:17:00</th>\n",
       "      <td>195.598</td>\n",
       "      <td>38.00</td>\n",
       "      <td>0.030011</td>\n",
       "      <td>0.011715</td>\n",
       "      <td>0.018296</td>\n",
       "      <td>-1.0</td>\n",
       "      <td>1.0</td>\n",
       "      <td>-1.0</td>\n",
       "      <td>1.0</td>\n",
       "    </tr>\n",
       "    <tr>\n",
       "      <th>2022-04-29 14:18:00</th>\n",
       "      <td>195.791</td>\n",
       "      <td>38.01</td>\n",
       "      <td>0.031027</td>\n",
       "      <td>0.011981</td>\n",
       "      <td>0.019046</td>\n",
       "      <td>-1.0</td>\n",
       "      <td>1.0</td>\n",
       "      <td>-1.0</td>\n",
       "      <td>1.0</td>\n",
       "    </tr>\n",
       "    <tr>\n",
       "      <th>2022-04-29 14:19:00</th>\n",
       "      <td>195.792</td>\n",
       "      <td>38.00</td>\n",
       "      <td>0.031032</td>\n",
       "      <td>0.011715</td>\n",
       "      <td>0.019318</td>\n",
       "      <td>-1.0</td>\n",
       "      <td>1.0</td>\n",
       "      <td>-1.0</td>\n",
       "      <td>1.0</td>\n",
       "    </tr>\n",
       "    <tr>\n",
       "      <th>2022-04-29 14:20:00</th>\n",
       "      <td>195.658</td>\n",
       "      <td>37.99</td>\n",
       "      <td>0.030327</td>\n",
       "      <td>0.011448</td>\n",
       "      <td>0.018878</td>\n",
       "      <td>-1.0</td>\n",
       "      <td>1.0</td>\n",
       "      <td>-1.0</td>\n",
       "      <td>1.0</td>\n",
       "    </tr>\n",
       "    <tr>\n",
       "      <th>2022-04-29 14:21:00</th>\n",
       "      <td>195.620</td>\n",
       "      <td>38.04</td>\n",
       "      <td>0.030127</td>\n",
       "      <td>0.012780</td>\n",
       "      <td>0.017347</td>\n",
       "      <td>-1.0</td>\n",
       "      <td>1.0</td>\n",
       "      <td>-1.0</td>\n",
       "      <td>1.0</td>\n",
       "    </tr>\n",
       "    <tr>\n",
       "      <th>2022-04-29 14:22:00</th>\n",
       "      <td>195.776</td>\n",
       "      <td>37.99</td>\n",
       "      <td>0.030948</td>\n",
       "      <td>0.011448</td>\n",
       "      <td>0.019500</td>\n",
       "      <td>-1.0</td>\n",
       "      <td>1.0</td>\n",
       "      <td>-1.0</td>\n",
       "      <td>1.0</td>\n",
       "    </tr>\n",
       "    <tr>\n",
       "      <th>2022-04-29 14:23:00</th>\n",
       "      <td>195.469</td>\n",
       "      <td>37.96</td>\n",
       "      <td>0.029331</td>\n",
       "      <td>0.010650</td>\n",
       "      <td>0.018682</td>\n",
       "      <td>-1.0</td>\n",
       "      <td>1.0</td>\n",
       "      <td>-1.0</td>\n",
       "      <td>1.0</td>\n",
       "    </tr>\n",
       "    <tr>\n",
       "      <th>2022-04-29 14:24:00</th>\n",
       "      <td>195.348</td>\n",
       "      <td>37.98</td>\n",
       "      <td>0.028694</td>\n",
       "      <td>0.011182</td>\n",
       "      <td>0.017512</td>\n",
       "      <td>-1.0</td>\n",
       "      <td>1.0</td>\n",
       "      <td>-1.0</td>\n",
       "      <td>1.0</td>\n",
       "    </tr>\n",
       "    <tr>\n",
       "      <th>2022-04-29 14:25:00</th>\n",
       "      <td>195.551</td>\n",
       "      <td>37.96</td>\n",
       "      <td>0.029763</td>\n",
       "      <td>0.010650</td>\n",
       "      <td>0.019114</td>\n",
       "      <td>-1.0</td>\n",
       "      <td>1.0</td>\n",
       "      <td>-1.0</td>\n",
       "      <td>1.0</td>\n",
       "    </tr>\n",
       "    <tr>\n",
       "      <th>2022-04-29 14:26:00</th>\n",
       "      <td>195.425</td>\n",
       "      <td>37.96</td>\n",
       "      <td>0.029100</td>\n",
       "      <td>0.010650</td>\n",
       "      <td>0.018450</td>\n",
       "      <td>-1.0</td>\n",
       "      <td>1.0</td>\n",
       "      <td>-1.0</td>\n",
       "      <td>1.0</td>\n",
       "    </tr>\n",
       "    <tr>\n",
       "      <th>2022-04-29 14:27:00</th>\n",
       "      <td>195.350</td>\n",
       "      <td>37.96</td>\n",
       "      <td>0.028705</td>\n",
       "      <td>0.010650</td>\n",
       "      <td>0.018055</td>\n",
       "      <td>-1.0</td>\n",
       "      <td>1.0</td>\n",
       "      <td>-1.0</td>\n",
       "      <td>1.0</td>\n",
       "    </tr>\n",
       "    <tr>\n",
       "      <th>2022-04-29 14:28:00</th>\n",
       "      <td>195.498</td>\n",
       "      <td>37.95</td>\n",
       "      <td>0.029484</td>\n",
       "      <td>0.010383</td>\n",
       "      <td>0.019101</td>\n",
       "      <td>-1.0</td>\n",
       "      <td>1.0</td>\n",
       "      <td>-1.0</td>\n",
       "      <td>1.0</td>\n",
       "    </tr>\n",
       "    <tr>\n",
       "      <th>2022-04-29 14:29:00</th>\n",
       "      <td>195.500</td>\n",
       "      <td>37.98</td>\n",
       "      <td>0.029495</td>\n",
       "      <td>0.011182</td>\n",
       "      <td>0.018313</td>\n",
       "      <td>-1.0</td>\n",
       "      <td>1.0</td>\n",
       "      <td>-1.0</td>\n",
       "      <td>1.0</td>\n",
       "    </tr>\n",
       "    <tr>\n",
       "      <th>2022-04-29 14:30:00</th>\n",
       "      <td>195.355</td>\n",
       "      <td>37.96</td>\n",
       "      <td>0.028731</td>\n",
       "      <td>0.010650</td>\n",
       "      <td>0.018081</td>\n",
       "      <td>-1.0</td>\n",
       "      <td>1.0</td>\n",
       "      <td>-1.0</td>\n",
       "      <td>1.0</td>\n",
       "    </tr>\n",
       "    <tr>\n",
       "      <th>2022-04-29 14:31:00</th>\n",
       "      <td>195.012</td>\n",
       "      <td>37.90</td>\n",
       "      <td>0.026925</td>\n",
       "      <td>0.009052</td>\n",
       "      <td>0.017873</td>\n",
       "      <td>-1.0</td>\n",
       "      <td>1.0</td>\n",
       "      <td>-1.0</td>\n",
       "      <td>1.0</td>\n",
       "    </tr>\n",
       "    <tr>\n",
       "      <th>2022-04-29 14:32:00</th>\n",
       "      <td>194.395</td>\n",
       "      <td>37.88</td>\n",
       "      <td>0.023676</td>\n",
       "      <td>0.008520</td>\n",
       "      <td>0.015156</td>\n",
       "      <td>-1.0</td>\n",
       "      <td>1.0</td>\n",
       "      <td>-1.0</td>\n",
       "      <td>1.0</td>\n",
       "    </tr>\n",
       "    <tr>\n",
       "      <th>2022-04-29 14:33:00</th>\n",
       "      <td>194.757</td>\n",
       "      <td>37.96</td>\n",
       "      <td>0.025582</td>\n",
       "      <td>0.010650</td>\n",
       "      <td>0.014932</td>\n",
       "      <td>-1.0</td>\n",
       "      <td>1.0</td>\n",
       "      <td>-1.0</td>\n",
       "      <td>1.0</td>\n",
       "    </tr>\n",
       "    <tr>\n",
       "      <th>2022-04-29 14:34:00</th>\n",
       "      <td>194.754</td>\n",
       "      <td>37.96</td>\n",
       "      <td>0.025566</td>\n",
       "      <td>0.010650</td>\n",
       "      <td>0.014917</td>\n",
       "      <td>-1.0</td>\n",
       "      <td>1.0</td>\n",
       "      <td>-1.0</td>\n",
       "      <td>1.0</td>\n",
       "    </tr>\n",
       "    <tr>\n",
       "      <th>2022-04-29 14:35:00</th>\n",
       "      <td>194.720</td>\n",
       "      <td>37.96</td>\n",
       "      <td>0.025387</td>\n",
       "      <td>0.010650</td>\n",
       "      <td>0.014738</td>\n",
       "      <td>-1.0</td>\n",
       "      <td>1.0</td>\n",
       "      <td>-1.0</td>\n",
       "      <td>1.0</td>\n",
       "    </tr>\n",
       "    <tr>\n",
       "      <th>2022-04-29 14:36:00</th>\n",
       "      <td>194.500</td>\n",
       "      <td>37.96</td>\n",
       "      <td>0.024229</td>\n",
       "      <td>0.010650</td>\n",
       "      <td>0.013579</td>\n",
       "      <td>-1.0</td>\n",
       "      <td>1.0</td>\n",
       "      <td>-1.0</td>\n",
       "      <td>1.0</td>\n",
       "    </tr>\n",
       "    <tr>\n",
       "      <th>2022-04-29 14:37:00</th>\n",
       "      <td>194.847</td>\n",
       "      <td>37.98</td>\n",
       "      <td>0.026056</td>\n",
       "      <td>0.011182</td>\n",
       "      <td>0.014874</td>\n",
       "      <td>-1.0</td>\n",
       "      <td>1.0</td>\n",
       "      <td>-1.0</td>\n",
       "      <td>1.0</td>\n",
       "    </tr>\n",
       "    <tr>\n",
       "      <th>2022-04-29 14:38:00</th>\n",
       "      <td>194.733</td>\n",
       "      <td>37.96</td>\n",
       "      <td>0.025456</td>\n",
       "      <td>0.010650</td>\n",
       "      <td>0.014806</td>\n",
       "      <td>-1.0</td>\n",
       "      <td>1.0</td>\n",
       "      <td>-1.0</td>\n",
       "      <td>1.0</td>\n",
       "    </tr>\n",
       "    <tr>\n",
       "      <th>2022-04-29 14:39:00</th>\n",
       "      <td>194.707</td>\n",
       "      <td>37.99</td>\n",
       "      <td>0.025319</td>\n",
       "      <td>0.011448</td>\n",
       "      <td>0.013870</td>\n",
       "      <td>-1.0</td>\n",
       "      <td>1.0</td>\n",
       "      <td>-1.0</td>\n",
       "      <td>1.0</td>\n",
       "    </tr>\n",
       "    <tr>\n",
       "      <th>2022-04-29 14:40:00</th>\n",
       "      <td>194.861</td>\n",
       "      <td>37.97</td>\n",
       "      <td>0.026130</td>\n",
       "      <td>0.010916</td>\n",
       "      <td>0.015214</td>\n",
       "      <td>-1.0</td>\n",
       "      <td>1.0</td>\n",
       "      <td>-1.0</td>\n",
       "      <td>1.0</td>\n",
       "    </tr>\n",
       "    <tr>\n",
       "      <th>2022-04-29 14:41:00</th>\n",
       "      <td>194.800</td>\n",
       "      <td>37.93</td>\n",
       "      <td>0.025808</td>\n",
       "      <td>0.009851</td>\n",
       "      <td>0.015958</td>\n",
       "      <td>-1.0</td>\n",
       "      <td>1.0</td>\n",
       "      <td>-1.0</td>\n",
       "      <td>1.0</td>\n",
       "    </tr>\n",
       "    <tr>\n",
       "      <th>2022-04-29 14:42:00</th>\n",
       "      <td>194.566</td>\n",
       "      <td>37.87</td>\n",
       "      <td>0.024576</td>\n",
       "      <td>0.008253</td>\n",
       "      <td>0.016323</td>\n",
       "      <td>-1.0</td>\n",
       "      <td>1.0</td>\n",
       "      <td>-1.0</td>\n",
       "      <td>1.0</td>\n",
       "    </tr>\n",
       "    <tr>\n",
       "      <th>2022-04-29 14:43:00</th>\n",
       "      <td>194.943</td>\n",
       "      <td>37.95</td>\n",
       "      <td>0.026561</td>\n",
       "      <td>0.010383</td>\n",
       "      <td>0.016178</td>\n",
       "      <td>-1.0</td>\n",
       "      <td>1.0</td>\n",
       "      <td>-1.0</td>\n",
       "      <td>1.0</td>\n",
       "    </tr>\n",
       "    <tr>\n",
       "      <th>2022-04-29 14:44:00</th>\n",
       "      <td>195.002</td>\n",
       "      <td>37.95</td>\n",
       "      <td>0.026872</td>\n",
       "      <td>0.010383</td>\n",
       "      <td>0.016489</td>\n",
       "      <td>-1.0</td>\n",
       "      <td>1.0</td>\n",
       "      <td>-1.0</td>\n",
       "      <td>1.0</td>\n",
       "    </tr>\n",
       "    <tr>\n",
       "      <th>2022-04-29 14:45:00</th>\n",
       "      <td>195.199</td>\n",
       "      <td>37.97</td>\n",
       "      <td>0.027910</td>\n",
       "      <td>0.010916</td>\n",
       "      <td>0.016994</td>\n",
       "      <td>-1.0</td>\n",
       "      <td>1.0</td>\n",
       "      <td>-1.0</td>\n",
       "      <td>1.0</td>\n",
       "    </tr>\n",
       "    <tr>\n",
       "      <th>2022-04-29 14:46:00</th>\n",
       "      <td>195.125</td>\n",
       "      <td>37.96</td>\n",
       "      <td>0.027520</td>\n",
       "      <td>0.010650</td>\n",
       "      <td>0.016870</td>\n",
       "      <td>-1.0</td>\n",
       "      <td>1.0</td>\n",
       "      <td>-1.0</td>\n",
       "      <td>1.0</td>\n",
       "    </tr>\n",
       "    <tr>\n",
       "      <th>2022-04-29 14:47:00</th>\n",
       "      <td>195.150</td>\n",
       "      <td>37.95</td>\n",
       "      <td>0.027652</td>\n",
       "      <td>0.010383</td>\n",
       "      <td>0.017268</td>\n",
       "      <td>-1.0</td>\n",
       "      <td>1.0</td>\n",
       "      <td>-1.0</td>\n",
       "      <td>1.0</td>\n",
       "    </tr>\n",
       "    <tr>\n",
       "      <th>2022-04-29 14:48:00</th>\n",
       "      <td>195.210</td>\n",
       "      <td>38.08</td>\n",
       "      <td>0.027967</td>\n",
       "      <td>0.013845</td>\n",
       "      <td>0.014123</td>\n",
       "      <td>-1.0</td>\n",
       "      <td>1.0</td>\n",
       "      <td>-1.0</td>\n",
       "      <td>1.0</td>\n",
       "    </tr>\n",
       "    <tr>\n",
       "      <th>2022-04-29 14:49:00</th>\n",
       "      <td>194.990</td>\n",
       "      <td>38.13</td>\n",
       "      <td>0.026809</td>\n",
       "      <td>0.015176</td>\n",
       "      <td>0.011633</td>\n",
       "      <td>-1.0</td>\n",
       "      <td>1.0</td>\n",
       "      <td>-1.0</td>\n",
       "      <td>1.0</td>\n",
       "    </tr>\n",
       "    <tr>\n",
       "      <th>2022-04-29 14:50:00</th>\n",
       "      <td>194.738</td>\n",
       "      <td>38.07</td>\n",
       "      <td>0.025482</td>\n",
       "      <td>0.013578</td>\n",
       "      <td>0.011904</td>\n",
       "      <td>-1.0</td>\n",
       "      <td>1.0</td>\n",
       "      <td>-1.0</td>\n",
       "      <td>1.0</td>\n",
       "    </tr>\n",
       "    <tr>\n",
       "      <th>2022-04-29 14:51:00</th>\n",
       "      <td>194.952</td>\n",
       "      <td>37.99</td>\n",
       "      <td>0.026609</td>\n",
       "      <td>0.011448</td>\n",
       "      <td>0.015161</td>\n",
       "      <td>-1.0</td>\n",
       "      <td>1.0</td>\n",
       "      <td>-1.0</td>\n",
       "      <td>1.0</td>\n",
       "    </tr>\n",
       "    <tr>\n",
       "      <th>2022-04-29 14:52:00</th>\n",
       "      <td>194.933</td>\n",
       "      <td>38.10</td>\n",
       "      <td>0.026509</td>\n",
       "      <td>0.014377</td>\n",
       "      <td>0.012132</td>\n",
       "      <td>-1.0</td>\n",
       "      <td>1.0</td>\n",
       "      <td>-1.0</td>\n",
       "      <td>1.0</td>\n",
       "    </tr>\n",
       "    <tr>\n",
       "      <th>2022-04-29 14:53:00</th>\n",
       "      <td>194.528</td>\n",
       "      <td>38.03</td>\n",
       "      <td>0.024376</td>\n",
       "      <td>0.012513</td>\n",
       "      <td>0.011863</td>\n",
       "      <td>-1.0</td>\n",
       "      <td>1.0</td>\n",
       "      <td>-1.0</td>\n",
       "      <td>1.0</td>\n",
       "    </tr>\n",
       "    <tr>\n",
       "      <th>2022-04-29 14:54:00</th>\n",
       "      <td>194.344</td>\n",
       "      <td>38.03</td>\n",
       "      <td>0.023407</td>\n",
       "      <td>0.012513</td>\n",
       "      <td>0.010894</td>\n",
       "      <td>-1.0</td>\n",
       "      <td>1.0</td>\n",
       "      <td>-1.0</td>\n",
       "      <td>1.0</td>\n",
       "    </tr>\n",
       "    <tr>\n",
       "      <th>2022-04-29 14:55:00</th>\n",
       "      <td>194.838</td>\n",
       "      <td>38.07</td>\n",
       "      <td>0.026009</td>\n",
       "      <td>0.013578</td>\n",
       "      <td>0.012430</td>\n",
       "      <td>-1.0</td>\n",
       "      <td>1.0</td>\n",
       "      <td>-1.0</td>\n",
       "      <td>1.0</td>\n",
       "    </tr>\n",
       "    <tr>\n",
       "      <th>2022-04-29 14:56:00</th>\n",
       "      <td>193.788</td>\n",
       "      <td>38.05</td>\n",
       "      <td>0.020479</td>\n",
       "      <td>0.013046</td>\n",
       "      <td>0.007434</td>\n",
       "      <td>-1.0</td>\n",
       "      <td>1.0</td>\n",
       "      <td>-1.0</td>\n",
       "      <td>1.0</td>\n",
       "    </tr>\n",
       "    <tr>\n",
       "      <th>2022-04-29 15:00:00</th>\n",
       "      <td>194.081</td>\n",
       "      <td>38.05</td>\n",
       "      <td>0.022022</td>\n",
       "      <td>0.013046</td>\n",
       "      <td>0.008976</td>\n",
       "      <td>0.0</td>\n",
       "      <td>0.0</td>\n",
       "      <td>0.0</td>\n",
       "      <td>0.0</td>\n",
       "    </tr>\n",
       "    <tr>\n",
       "      <th>2022-05-05 09:30:00</th>\n",
       "      <td>195.594</td>\n",
       "      <td>38.07</td>\n",
       "      <td>0.007796</td>\n",
       "      <td>0.000526</td>\n",
       "      <td>0.007270</td>\n",
       "      <td>-1.0</td>\n",
       "      <td>1.0</td>\n",
       "      <td>0.0</td>\n",
       "      <td>0.0</td>\n",
       "    </tr>\n",
       "    <tr>\n",
       "      <th>2022-05-05 09:31:00</th>\n",
       "      <td>196.293</td>\n",
       "      <td>38.12</td>\n",
       "      <td>0.011397</td>\n",
       "      <td>0.001840</td>\n",
       "      <td>0.009558</td>\n",
       "      <td>-1.0</td>\n",
       "      <td>1.0</td>\n",
       "      <td>0.0</td>\n",
       "      <td>0.0</td>\n",
       "    </tr>\n",
       "    <tr>\n",
       "      <th>2022-05-05 09:32:00</th>\n",
       "      <td>198.076</td>\n",
       "      <td>38.50</td>\n",
       "      <td>0.020584</td>\n",
       "      <td>0.011827</td>\n",
       "      <td>0.008758</td>\n",
       "      <td>-1.0</td>\n",
       "      <td>1.0</td>\n",
       "      <td>0.0</td>\n",
       "      <td>0.0</td>\n",
       "    </tr>\n",
       "    <tr>\n",
       "      <th>2022-05-05 09:33:00</th>\n",
       "      <td>200.083</td>\n",
       "      <td>38.89</td>\n",
       "      <td>0.030925</td>\n",
       "      <td>0.022076</td>\n",
       "      <td>0.008849</td>\n",
       "      <td>-1.0</td>\n",
       "      <td>1.0</td>\n",
       "      <td>0.0</td>\n",
       "      <td>0.0</td>\n",
       "    </tr>\n",
       "    <tr>\n",
       "      <th>2022-05-05 09:34:00</th>\n",
       "      <td>199.949</td>\n",
       "      <td>38.94</td>\n",
       "      <td>0.030235</td>\n",
       "      <td>0.023390</td>\n",
       "      <td>0.006845</td>\n",
       "      <td>-1.0</td>\n",
       "      <td>1.0</td>\n",
       "      <td>0.0</td>\n",
       "      <td>0.0</td>\n",
       "    </tr>\n",
       "    <tr>\n",
       "      <th>2022-05-05 09:35:00</th>\n",
       "      <td>198.132</td>\n",
       "      <td>38.67</td>\n",
       "      <td>0.020873</td>\n",
       "      <td>0.016294</td>\n",
       "      <td>0.004578</td>\n",
       "      <td>-1.0</td>\n",
       "      <td>1.0</td>\n",
       "      <td>0.0</td>\n",
       "      <td>0.0</td>\n",
       "    </tr>\n",
       "    <tr>\n",
       "      <th>2022-05-05 09:36:00</th>\n",
       "      <td>199.344</td>\n",
       "      <td>38.90</td>\n",
       "      <td>0.027118</td>\n",
       "      <td>0.022339</td>\n",
       "      <td>0.004779</td>\n",
       "      <td>-1.0</td>\n",
       "      <td>1.0</td>\n",
       "      <td>0.0</td>\n",
       "      <td>0.0</td>\n",
       "    </tr>\n",
       "    <tr>\n",
       "      <th>2022-05-05 09:37:00</th>\n",
       "      <td>199.942</td>\n",
       "      <td>38.88</td>\n",
       "      <td>0.030199</td>\n",
       "      <td>0.021813</td>\n",
       "      <td>0.008385</td>\n",
       "      <td>-1.0</td>\n",
       "      <td>1.0</td>\n",
       "      <td>0.0</td>\n",
       "      <td>0.0</td>\n",
       "    </tr>\n",
       "    <tr>\n",
       "      <th>2022-05-05 09:38:00</th>\n",
       "      <td>200.796</td>\n",
       "      <td>38.91</td>\n",
       "      <td>0.034599</td>\n",
       "      <td>0.022602</td>\n",
       "      <td>0.011997</td>\n",
       "      <td>-1.0</td>\n",
       "      <td>1.0</td>\n",
       "      <td>0.0</td>\n",
       "      <td>0.0</td>\n",
       "    </tr>\n",
       "    <tr>\n",
       "      <th>2022-05-05 09:39:00</th>\n",
       "      <td>201.800</td>\n",
       "      <td>38.99</td>\n",
       "      <td>0.039772</td>\n",
       "      <td>0.024704</td>\n",
       "      <td>0.015068</td>\n",
       "      <td>-1.0</td>\n",
       "      <td>1.0</td>\n",
       "      <td>0.0</td>\n",
       "      <td>0.0</td>\n",
       "    </tr>\n",
       "    <tr>\n",
       "      <th>2022-05-05 09:40:00</th>\n",
       "      <td>202.334</td>\n",
       "      <td>38.97</td>\n",
       "      <td>0.042523</td>\n",
       "      <td>0.024179</td>\n",
       "      <td>0.018345</td>\n",
       "      <td>-1.0</td>\n",
       "      <td>1.0</td>\n",
       "      <td>0.0</td>\n",
       "      <td>0.0</td>\n",
       "    </tr>\n",
       "    <tr>\n",
       "      <th>2022-05-05 09:41:00</th>\n",
       "      <td>202.137</td>\n",
       "      <td>39.10</td>\n",
       "      <td>0.041508</td>\n",
       "      <td>0.027595</td>\n",
       "      <td>0.013913</td>\n",
       "      <td>-1.0</td>\n",
       "      <td>1.0</td>\n",
       "      <td>0.0</td>\n",
       "      <td>0.0</td>\n",
       "    </tr>\n",
       "    <tr>\n",
       "      <th>2022-05-05 09:42:00</th>\n",
       "      <td>203.475</td>\n",
       "      <td>39.20</td>\n",
       "      <td>0.048402</td>\n",
       "      <td>0.030223</td>\n",
       "      <td>0.018179</td>\n",
       "      <td>-1.0</td>\n",
       "      <td>1.0</td>\n",
       "      <td>0.0</td>\n",
       "      <td>0.0</td>\n",
       "    </tr>\n",
       "    <tr>\n",
       "      <th>2022-05-05 09:43:00</th>\n",
       "      <td>203.591</td>\n",
       "      <td>39.30</td>\n",
       "      <td>0.049000</td>\n",
       "      <td>0.032852</td>\n",
       "      <td>0.016149</td>\n",
       "      <td>-1.0</td>\n",
       "      <td>1.0</td>\n",
       "      <td>0.0</td>\n",
       "      <td>0.0</td>\n",
       "    </tr>\n",
       "    <tr>\n",
       "      <th>2022-05-05 09:44:00</th>\n",
       "      <td>205.379</td>\n",
       "      <td>39.31</td>\n",
       "      <td>0.058213</td>\n",
       "      <td>0.033114</td>\n",
       "      <td>0.025098</td>\n",
       "      <td>-1.0</td>\n",
       "      <td>1.0</td>\n",
       "      <td>-1.0</td>\n",
       "      <td>1.0</td>\n",
       "    </tr>\n",
       "    <tr>\n",
       "      <th>2022-05-05 09:45:00</th>\n",
       "      <td>206.503</td>\n",
       "      <td>39.49</td>\n",
       "      <td>0.064004</td>\n",
       "      <td>0.037845</td>\n",
       "      <td>0.026159</td>\n",
       "      <td>-1.0</td>\n",
       "      <td>1.0</td>\n",
       "      <td>-1.0</td>\n",
       "      <td>1.0</td>\n",
       "    </tr>\n",
       "    <tr>\n",
       "      <th>2022-05-05 09:46:00</th>\n",
       "      <td>205.171</td>\n",
       "      <td>39.43</td>\n",
       "      <td>0.057141</td>\n",
       "      <td>0.036268</td>\n",
       "      <td>0.020873</td>\n",
       "      <td>-1.0</td>\n",
       "      <td>1.0</td>\n",
       "      <td>-1.0</td>\n",
       "      <td>1.0</td>\n",
       "    </tr>\n",
       "    <tr>\n",
       "      <th>2022-05-05 09:47:00</th>\n",
       "      <td>204.056</td>\n",
       "      <td>39.38</td>\n",
       "      <td>0.051396</td>\n",
       "      <td>0.034954</td>\n",
       "      <td>0.016442</td>\n",
       "      <td>-1.0</td>\n",
       "      <td>1.0</td>\n",
       "      <td>-1.0</td>\n",
       "      <td>1.0</td>\n",
       "    </tr>\n",
       "    <tr>\n",
       "      <th>2022-05-05 09:48:00</th>\n",
       "      <td>204.597</td>\n",
       "      <td>39.30</td>\n",
       "      <td>0.054184</td>\n",
       "      <td>0.032852</td>\n",
       "      <td>0.021332</td>\n",
       "      <td>-1.0</td>\n",
       "      <td>1.0</td>\n",
       "      <td>-1.0</td>\n",
       "      <td>1.0</td>\n",
       "    </tr>\n",
       "    <tr>\n",
       "      <th>2022-05-05 09:49:00</th>\n",
       "      <td>204.284</td>\n",
       "      <td>39.32</td>\n",
       "      <td>0.052571</td>\n",
       "      <td>0.033377</td>\n",
       "      <td>0.019194</td>\n",
       "      <td>-1.0</td>\n",
       "      <td>1.0</td>\n",
       "      <td>-1.0</td>\n",
       "      <td>1.0</td>\n",
       "    </tr>\n",
       "    <tr>\n",
       "      <th>2022-05-05 09:50:00</th>\n",
       "      <td>204.061</td>\n",
       "      <td>39.22</td>\n",
       "      <td>0.051422</td>\n",
       "      <td>0.030749</td>\n",
       "      <td>0.020673</td>\n",
       "      <td>-1.0</td>\n",
       "      <td>1.0</td>\n",
       "      <td>-1.0</td>\n",
       "      <td>1.0</td>\n",
       "    </tr>\n",
       "    <tr>\n",
       "      <th>2022-05-05 09:51:00</th>\n",
       "      <td>204.177</td>\n",
       "      <td>39.30</td>\n",
       "      <td>0.052020</td>\n",
       "      <td>0.032852</td>\n",
       "      <td>0.019168</td>\n",
       "      <td>-1.0</td>\n",
       "      <td>1.0</td>\n",
       "      <td>-1.0</td>\n",
       "      <td>1.0</td>\n",
       "    </tr>\n",
       "    <tr>\n",
       "      <th>2022-05-05 09:52:00</th>\n",
       "      <td>203.740</td>\n",
       "      <td>39.20</td>\n",
       "      <td>0.049768</td>\n",
       "      <td>0.030223</td>\n",
       "      <td>0.019544</td>\n",
       "      <td>-1.0</td>\n",
       "      <td>1.0</td>\n",
       "      <td>-1.0</td>\n",
       "      <td>1.0</td>\n",
       "    </tr>\n",
       "    <tr>\n",
       "      <th>2022-05-05 09:53:00</th>\n",
       "      <td>202.021</td>\n",
       "      <td>39.03</td>\n",
       "      <td>0.040911</td>\n",
       "      <td>0.025756</td>\n",
       "      <td>0.015155</td>\n",
       "      <td>-1.0</td>\n",
       "      <td>1.0</td>\n",
       "      <td>-1.0</td>\n",
       "      <td>1.0</td>\n",
       "    </tr>\n",
       "    <tr>\n",
       "      <th>2022-05-05 09:54:00</th>\n",
       "      <td>203.846</td>\n",
       "      <td>39.11</td>\n",
       "      <td>0.050314</td>\n",
       "      <td>0.027858</td>\n",
       "      <td>0.022456</td>\n",
       "      <td>-1.0</td>\n",
       "      <td>1.0</td>\n",
       "      <td>-1.0</td>\n",
       "      <td>1.0</td>\n",
       "    </tr>\n",
       "    <tr>\n",
       "      <th>2022-05-05 09:55:00</th>\n",
       "      <td>204.274</td>\n",
       "      <td>39.25</td>\n",
       "      <td>0.052519</td>\n",
       "      <td>0.031537</td>\n",
       "      <td>0.020982</td>\n",
       "      <td>-1.0</td>\n",
       "      <td>1.0</td>\n",
       "      <td>-1.0</td>\n",
       "      <td>1.0</td>\n",
       "    </tr>\n",
       "    <tr>\n",
       "      <th>2022-05-05 09:56:00</th>\n",
       "      <td>205.083</td>\n",
       "      <td>39.34</td>\n",
       "      <td>0.056688</td>\n",
       "      <td>0.033903</td>\n",
       "      <td>0.022785</td>\n",
       "      <td>-1.0</td>\n",
       "      <td>1.0</td>\n",
       "      <td>-1.0</td>\n",
       "      <td>1.0</td>\n",
       "    </tr>\n",
       "    <tr>\n",
       "      <th>2022-05-05 09:57:00</th>\n",
       "      <td>205.000</td>\n",
       "      <td>39.48</td>\n",
       "      <td>0.056260</td>\n",
       "      <td>0.037582</td>\n",
       "      <td>0.018678</td>\n",
       "      <td>-1.0</td>\n",
       "      <td>1.0</td>\n",
       "      <td>-1.0</td>\n",
       "      <td>1.0</td>\n",
       "    </tr>\n",
       "    <tr>\n",
       "      <th>2022-05-05 09:58:00</th>\n",
       "      <td>204.346</td>\n",
       "      <td>39.36</td>\n",
       "      <td>0.052890</td>\n",
       "      <td>0.034428</td>\n",
       "      <td>0.018462</td>\n",
       "      <td>-1.0</td>\n",
       "      <td>1.0</td>\n",
       "      <td>-1.0</td>\n",
       "      <td>1.0</td>\n",
       "    </tr>\n",
       "    <tr>\n",
       "      <th>2022-05-05 09:59:00</th>\n",
       "      <td>203.880</td>\n",
       "      <td>39.26</td>\n",
       "      <td>0.050489</td>\n",
       "      <td>0.031800</td>\n",
       "      <td>0.018689</td>\n",
       "      <td>-1.0</td>\n",
       "      <td>1.0</td>\n",
       "      <td>-1.0</td>\n",
       "      <td>1.0</td>\n",
       "    </tr>\n",
       "    <tr>\n",
       "      <th>2022-05-05 10:00:00</th>\n",
       "      <td>203.034</td>\n",
       "      <td>39.17</td>\n",
       "      <td>0.046130</td>\n",
       "      <td>0.029435</td>\n",
       "      <td>0.016695</td>\n",
       "      <td>-1.0</td>\n",
       "      <td>1.0</td>\n",
       "      <td>-1.0</td>\n",
       "      <td>1.0</td>\n",
       "    </tr>\n",
       "    <tr>\n",
       "      <th>2022-05-05 10:01:00</th>\n",
       "      <td>204.299</td>\n",
       "      <td>39.37</td>\n",
       "      <td>0.052648</td>\n",
       "      <td>0.034691</td>\n",
       "      <td>0.017957</td>\n",
       "      <td>-1.0</td>\n",
       "      <td>1.0</td>\n",
       "      <td>-1.0</td>\n",
       "      <td>1.0</td>\n",
       "    </tr>\n",
       "    <tr>\n",
       "      <th>2022-05-05 10:02:00</th>\n",
       "      <td>204.750</td>\n",
       "      <td>39.46</td>\n",
       "      <td>0.054972</td>\n",
       "      <td>0.037057</td>\n",
       "      <td>0.017915</td>\n",
       "      <td>-1.0</td>\n",
       "      <td>1.0</td>\n",
       "      <td>-1.0</td>\n",
       "      <td>1.0</td>\n",
       "    </tr>\n",
       "    <tr>\n",
       "      <th>2022-05-05 10:03:00</th>\n",
       "      <td>204.201</td>\n",
       "      <td>39.30</td>\n",
       "      <td>0.052143</td>\n",
       "      <td>0.032852</td>\n",
       "      <td>0.019292</td>\n",
       "      <td>-1.0</td>\n",
       "      <td>1.0</td>\n",
       "      <td>-1.0</td>\n",
       "      <td>1.0</td>\n",
       "    </tr>\n",
       "    <tr>\n",
       "      <th>2022-05-05 10:04:00</th>\n",
       "      <td>205.415</td>\n",
       "      <td>39.40</td>\n",
       "      <td>0.058398</td>\n",
       "      <td>0.035480</td>\n",
       "      <td>0.022919</td>\n",
       "      <td>-1.0</td>\n",
       "      <td>1.0</td>\n",
       "      <td>-1.0</td>\n",
       "      <td>1.0</td>\n",
       "    </tr>\n",
       "    <tr>\n",
       "      <th>2022-05-05 10:05:00</th>\n",
       "      <td>204.910</td>\n",
       "      <td>39.41</td>\n",
       "      <td>0.055796</td>\n",
       "      <td>0.035742</td>\n",
       "      <td>0.020054</td>\n",
       "      <td>-1.0</td>\n",
       "      <td>1.0</td>\n",
       "      <td>-1.0</td>\n",
       "      <td>1.0</td>\n",
       "    </tr>\n",
       "    <tr>\n",
       "      <th>2022-05-05 10:06:00</th>\n",
       "      <td>205.885</td>\n",
       "      <td>39.47</td>\n",
       "      <td>0.060820</td>\n",
       "      <td>0.037319</td>\n",
       "      <td>0.023501</td>\n",
       "      <td>-1.0</td>\n",
       "      <td>1.0</td>\n",
       "      <td>-1.0</td>\n",
       "      <td>1.0</td>\n",
       "    </tr>\n",
       "    <tr>\n",
       "      <th>2022-05-05 10:07:00</th>\n",
       "      <td>205.689</td>\n",
       "      <td>39.52</td>\n",
       "      <td>0.059810</td>\n",
       "      <td>0.038633</td>\n",
       "      <td>0.021177</td>\n",
       "      <td>-1.0</td>\n",
       "      <td>1.0</td>\n",
       "      <td>-1.0</td>\n",
       "      <td>1.0</td>\n",
       "    </tr>\n",
       "    <tr>\n",
       "      <th>2022-05-05 10:08:00</th>\n",
       "      <td>206.128</td>\n",
       "      <td>39.54</td>\n",
       "      <td>0.062072</td>\n",
       "      <td>0.039159</td>\n",
       "      <td>0.022913</td>\n",
       "      <td>-1.0</td>\n",
       "      <td>1.0</td>\n",
       "      <td>-1.0</td>\n",
       "      <td>1.0</td>\n",
       "    </tr>\n",
       "    <tr>\n",
       "      <th>2022-05-05 10:09:00</th>\n",
       "      <td>205.801</td>\n",
       "      <td>39.51</td>\n",
       "      <td>0.060387</td>\n",
       "      <td>0.038371</td>\n",
       "      <td>0.022017</td>\n",
       "      <td>-1.0</td>\n",
       "      <td>1.0</td>\n",
       "      <td>-1.0</td>\n",
       "      <td>1.0</td>\n",
       "    </tr>\n",
       "    <tr>\n",
       "      <th>2022-05-05 10:10:00</th>\n",
       "      <td>205.336</td>\n",
       "      <td>39.48</td>\n",
       "      <td>0.057991</td>\n",
       "      <td>0.037582</td>\n",
       "      <td>0.020409</td>\n",
       "      <td>-1.0</td>\n",
       "      <td>1.0</td>\n",
       "      <td>-1.0</td>\n",
       "      <td>1.0</td>\n",
       "    </tr>\n",
       "    <tr>\n",
       "      <th>2022-05-05 10:11:00</th>\n",
       "      <td>205.798</td>\n",
       "      <td>39.46</td>\n",
       "      <td>0.060372</td>\n",
       "      <td>0.037057</td>\n",
       "      <td>0.023315</td>\n",
       "      <td>-1.0</td>\n",
       "      <td>1.0</td>\n",
       "      <td>-1.0</td>\n",
       "      <td>1.0</td>\n",
       "    </tr>\n",
       "    <tr>\n",
       "      <th>2022-05-05 10:12:00</th>\n",
       "      <td>205.687</td>\n",
       "      <td>39.49</td>\n",
       "      <td>0.059800</td>\n",
       "      <td>0.037845</td>\n",
       "      <td>0.021955</td>\n",
       "      <td>-1.0</td>\n",
       "      <td>1.0</td>\n",
       "      <td>-1.0</td>\n",
       "      <td>1.0</td>\n",
       "    </tr>\n",
       "    <tr>\n",
       "      <th>2022-05-05 10:13:00</th>\n",
       "      <td>205.105</td>\n",
       "      <td>39.47</td>\n",
       "      <td>0.056801</td>\n",
       "      <td>0.037319</td>\n",
       "      <td>0.019482</td>\n",
       "      <td>-1.0</td>\n",
       "      <td>1.0</td>\n",
       "      <td>-1.0</td>\n",
       "      <td>1.0</td>\n",
       "    </tr>\n",
       "    <tr>\n",
       "      <th>2022-05-05 10:14:00</th>\n",
       "      <td>204.950</td>\n",
       "      <td>39.45</td>\n",
       "      <td>0.056002</td>\n",
       "      <td>0.036794</td>\n",
       "      <td>0.019209</td>\n",
       "      <td>-1.0</td>\n",
       "      <td>1.0</td>\n",
       "      <td>-1.0</td>\n",
       "      <td>1.0</td>\n",
       "    </tr>\n",
       "    <tr>\n",
       "      <th>2022-05-05 10:15:00</th>\n",
       "      <td>205.699</td>\n",
       "      <td>39.52</td>\n",
       "      <td>0.059862</td>\n",
       "      <td>0.038633</td>\n",
       "      <td>0.021228</td>\n",
       "      <td>-1.0</td>\n",
       "      <td>1.0</td>\n",
       "      <td>-1.0</td>\n",
       "      <td>1.0</td>\n",
       "    </tr>\n",
       "    <tr>\n",
       "      <th>2022-05-05 10:16:00</th>\n",
       "      <td>205.253</td>\n",
       "      <td>39.52</td>\n",
       "      <td>0.057564</td>\n",
       "      <td>0.038633</td>\n",
       "      <td>0.018930</td>\n",
       "      <td>-1.0</td>\n",
       "      <td>1.0</td>\n",
       "      <td>-1.0</td>\n",
       "      <td>1.0</td>\n",
       "    </tr>\n",
       "    <tr>\n",
       "      <th>2022-05-05 10:17:00</th>\n",
       "      <td>205.269</td>\n",
       "      <td>39.50</td>\n",
       "      <td>0.057646</td>\n",
       "      <td>0.038108</td>\n",
       "      <td>0.019538</td>\n",
       "      <td>-1.0</td>\n",
       "      <td>1.0</td>\n",
       "      <td>-1.0</td>\n",
       "      <td>1.0</td>\n",
       "    </tr>\n",
       "    <tr>\n",
       "      <th>2022-05-05 10:18:00</th>\n",
       "      <td>204.327</td>\n",
       "      <td>39.45</td>\n",
       "      <td>0.052792</td>\n",
       "      <td>0.036794</td>\n",
       "      <td>0.015999</td>\n",
       "      <td>-1.0</td>\n",
       "      <td>1.0</td>\n",
       "      <td>-1.0</td>\n",
       "      <td>1.0</td>\n",
       "    </tr>\n",
       "    <tr>\n",
       "      <th>2022-05-05 10:19:00</th>\n",
       "      <td>204.354</td>\n",
       "      <td>39.41</td>\n",
       "      <td>0.052932</td>\n",
       "      <td>0.035742</td>\n",
       "      <td>0.017189</td>\n",
       "      <td>-1.0</td>\n",
       "      <td>1.0</td>\n",
       "      <td>-1.0</td>\n",
       "      <td>1.0</td>\n",
       "    </tr>\n",
       "    <tr>\n",
       "      <th>2022-05-05 10:20:00</th>\n",
       "      <td>204.886</td>\n",
       "      <td>39.51</td>\n",
       "      <td>0.055673</td>\n",
       "      <td>0.038371</td>\n",
       "      <td>0.017302</td>\n",
       "      <td>-1.0</td>\n",
       "      <td>1.0</td>\n",
       "      <td>-1.0</td>\n",
       "      <td>1.0</td>\n",
       "    </tr>\n",
       "    <tr>\n",
       "      <th>2022-05-05 10:21:00</th>\n",
       "      <td>204.306</td>\n",
       "      <td>39.39</td>\n",
       "      <td>0.052684</td>\n",
       "      <td>0.035217</td>\n",
       "      <td>0.017467</td>\n",
       "      <td>-1.0</td>\n",
       "      <td>1.0</td>\n",
       "      <td>-1.0</td>\n",
       "      <td>1.0</td>\n",
       "    </tr>\n",
       "    <tr>\n",
       "      <th>2022-05-05 10:22:00</th>\n",
       "      <td>204.031</td>\n",
       "      <td>39.42</td>\n",
       "      <td>0.051267</td>\n",
       "      <td>0.036005</td>\n",
       "      <td>0.015262</td>\n",
       "      <td>-1.0</td>\n",
       "      <td>1.0</td>\n",
       "      <td>-1.0</td>\n",
       "      <td>1.0</td>\n",
       "    </tr>\n",
       "    <tr>\n",
       "      <th>2022-05-05 10:23:00</th>\n",
       "      <td>204.771</td>\n",
       "      <td>39.46</td>\n",
       "      <td>0.055080</td>\n",
       "      <td>0.037057</td>\n",
       "      <td>0.018024</td>\n",
       "      <td>-1.0</td>\n",
       "      <td>1.0</td>\n",
       "      <td>-1.0</td>\n",
       "      <td>1.0</td>\n",
       "    </tr>\n",
       "    <tr>\n",
       "      <th>2022-05-05 10:24:00</th>\n",
       "      <td>206.300</td>\n",
       "      <td>39.51</td>\n",
       "      <td>0.062958</td>\n",
       "      <td>0.038371</td>\n",
       "      <td>0.024588</td>\n",
       "      <td>-1.0</td>\n",
       "      <td>1.0</td>\n",
       "      <td>-1.0</td>\n",
       "      <td>1.0</td>\n",
       "    </tr>\n",
       "    <tr>\n",
       "      <th>2022-05-05 10:25:00</th>\n",
       "      <td>208.695</td>\n",
       "      <td>39.73</td>\n",
       "      <td>0.075298</td>\n",
       "      <td>0.044152</td>\n",
       "      <td>0.031146</td>\n",
       "      <td>-1.0</td>\n",
       "      <td>1.0</td>\n",
       "      <td>-1.0</td>\n",
       "      <td>1.0</td>\n",
       "    </tr>\n",
       "    <tr>\n",
       "      <th>2022-05-05 10:26:00</th>\n",
       "      <td>208.176</td>\n",
       "      <td>39.75</td>\n",
       "      <td>0.072624</td>\n",
       "      <td>0.044678</td>\n",
       "      <td>0.027946</td>\n",
       "      <td>-1.0</td>\n",
       "      <td>1.0</td>\n",
       "      <td>-1.0</td>\n",
       "      <td>1.0</td>\n",
       "    </tr>\n",
       "    <tr>\n",
       "      <th>2022-05-05 10:27:00</th>\n",
       "      <td>211.302</td>\n",
       "      <td>39.85</td>\n",
       "      <td>0.088731</td>\n",
       "      <td>0.047306</td>\n",
       "      <td>0.041425</td>\n",
       "      <td>-1.0</td>\n",
       "      <td>1.0</td>\n",
       "      <td>-1.0</td>\n",
       "      <td>1.0</td>\n",
       "    </tr>\n",
       "    <tr>\n",
       "      <th>2022-05-05 10:28:00</th>\n",
       "      <td>209.076</td>\n",
       "      <td>39.87</td>\n",
       "      <td>0.077262</td>\n",
       "      <td>0.047832</td>\n",
       "      <td>0.029430</td>\n",
       "      <td>-1.0</td>\n",
       "      <td>1.0</td>\n",
       "      <td>-1.0</td>\n",
       "      <td>1.0</td>\n",
       "    </tr>\n",
       "    <tr>\n",
       "      <th>2022-05-05 10:29:00</th>\n",
       "      <td>206.258</td>\n",
       "      <td>39.71</td>\n",
       "      <td>0.062742</td>\n",
       "      <td>0.043627</td>\n",
       "      <td>0.019115</td>\n",
       "      <td>-1.0</td>\n",
       "      <td>1.0</td>\n",
       "      <td>-1.0</td>\n",
       "      <td>1.0</td>\n",
       "    </tr>\n",
       "    <tr>\n",
       "      <th>2022-05-05 10:30:00</th>\n",
       "      <td>206.200</td>\n",
       "      <td>39.60</td>\n",
       "      <td>0.062443</td>\n",
       "      <td>0.040736</td>\n",
       "      <td>0.021707</td>\n",
       "      <td>-1.0</td>\n",
       "      <td>1.0</td>\n",
       "      <td>-1.0</td>\n",
       "      <td>1.0</td>\n",
       "    </tr>\n",
       "    <tr>\n",
       "      <th>2022-05-05 10:31:00</th>\n",
       "      <td>206.531</td>\n",
       "      <td>39.56</td>\n",
       "      <td>0.064148</td>\n",
       "      <td>0.039685</td>\n",
       "      <td>0.024464</td>\n",
       "      <td>-1.0</td>\n",
       "      <td>1.0</td>\n",
       "      <td>-1.0</td>\n",
       "      <td>1.0</td>\n",
       "    </tr>\n",
       "  </tbody>\n",
       "</table>\n",
       "</div>"
      ],
      "text/plain": [
       "                     bond_price  stock_price  bond_rtn  stock_rtn      diff  \\\n",
       "2022-04-28 15:00:00     189.899        37.56  0.000000   0.000000  0.000000   \n",
       "2022-04-29 09:30:00     194.899        37.31  0.026330  -0.006656  0.032986   \n",
       "2022-04-29 09:31:00     192.997        36.96  0.016314  -0.015974  0.032288   \n",
       "2022-04-29 09:32:00     193.800        37.18  0.020542  -0.010117  0.030660   \n",
       "2022-04-29 09:33:00     195.768        37.62  0.030906   0.001597  0.029308   \n",
       "2022-04-29 09:34:00     196.288        37.98  0.033644   0.011182  0.022462   \n",
       "2022-04-29 09:35:00     198.570        38.05  0.045661   0.013046  0.032615   \n",
       "2022-04-29 09:36:00     196.716        37.90  0.035898   0.009052  0.026846   \n",
       "2022-04-29 09:37:00     196.958        37.81  0.037172   0.006656  0.030516   \n",
       "2022-04-29 09:38:00     198.700        38.09  0.046346   0.014111  0.032235   \n",
       "2022-04-29 09:39:00     197.755        37.99  0.041369   0.011448  0.029921   \n",
       "2022-04-29 09:40:00     196.398        37.76  0.034223   0.005325  0.028899   \n",
       "2022-04-29 09:41:00     195.102        37.76  0.027399   0.005325  0.022074   \n",
       "2022-04-29 09:42:00     195.732        37.71  0.030716   0.003994  0.026723   \n",
       "2022-04-29 09:43:00     196.178        37.79  0.033065   0.006124  0.026941   \n",
       "2022-04-29 09:44:00     195.832        37.85  0.031243   0.007721  0.023522   \n",
       "2022-04-29 09:45:00     197.001        38.00  0.037399   0.011715  0.025684   \n",
       "2022-04-29 09:46:00     197.177        37.99  0.038326   0.011448  0.026877   \n",
       "2022-04-29 09:47:00     198.463        38.18  0.045098   0.016507  0.028591   \n",
       "2022-04-29 09:48:00     198.511        38.38  0.045350   0.021832  0.023519   \n",
       "2022-04-29 09:49:00     196.947        38.17  0.037114   0.016241  0.020874   \n",
       "2022-04-29 09:50:00     197.159        38.16  0.038231   0.015974  0.022256   \n",
       "2022-04-29 09:51:00     195.154        37.91  0.027673   0.009318  0.018354   \n",
       "2022-04-29 09:52:00     195.671        37.81  0.030395   0.006656  0.023739   \n",
       "2022-04-29 09:53:00     195.728        37.78  0.030695   0.005857  0.024838   \n",
       "2022-04-29 09:54:00     195.100        37.72  0.027388   0.004260  0.023128   \n",
       "2022-04-29 09:55:00     194.548        37.58  0.024481   0.000532  0.023949   \n",
       "2022-04-29 09:56:00     194.979        37.69  0.026751   0.003461  0.023290   \n",
       "2022-04-29 09:57:00     194.891        37.56  0.026288   0.000000  0.026288   \n",
       "2022-04-29 09:58:00     194.688        37.50  0.025219  -0.001597  0.026816   \n",
       "2022-04-29 09:59:00     194.231        37.48  0.022812  -0.002130  0.024942   \n",
       "2022-04-29 10:00:00     194.300        37.49  0.023175  -0.001864  0.025039   \n",
       "2022-04-29 10:01:00     194.835        37.50  0.025993  -0.001597  0.027590   \n",
       "2022-04-29 10:02:00     195.700        37.86  0.030548   0.007987  0.022561   \n",
       "2022-04-29 10:03:00     195.100        37.80  0.027388   0.006390  0.020998   \n",
       "2022-04-29 10:04:00     196.117        37.95  0.032744   0.010383  0.022360   \n",
       "2022-04-29 10:05:00     195.600        37.84  0.030021   0.007455  0.022566   \n",
       "2022-04-29 10:06:00     195.539        37.94  0.029700   0.010117  0.019583   \n",
       "2022-04-29 10:07:00     195.740        37.83  0.030758   0.007188  0.023570   \n",
       "2022-04-29 10:08:00     195.994        38.06  0.032096   0.013312  0.018784   \n",
       "2022-04-29 10:09:00     195.677        37.81  0.030427   0.006656  0.023771   \n",
       "2022-04-29 10:10:00     195.194        37.70  0.027883   0.003727  0.024156   \n",
       "2022-04-29 10:11:00     195.300        37.82  0.028441   0.006922  0.021519   \n",
       "2022-04-29 10:12:00     195.036        37.76  0.027051   0.005325  0.021726   \n",
       "2022-04-29 10:13:00     195.031        37.68  0.027025   0.003195  0.023830   \n",
       "2022-04-29 10:14:00     194.997        37.66  0.026846   0.002662  0.024183   \n",
       "2022-04-29 10:15:00     194.526        37.56  0.024366   0.000000  0.024366   \n",
       "2022-04-29 10:16:00     194.561        37.64  0.024550   0.002130  0.022420   \n",
       "2022-04-29 10:17:00     194.755        37.64  0.025571   0.002130  0.023442   \n",
       "2022-04-29 10:18:00     194.900        37.58  0.026335   0.000532  0.025803   \n",
       "2022-04-29 10:19:00     195.463        37.74  0.029300   0.004792  0.024507   \n",
       "2022-04-29 10:20:00     195.666        37.64  0.030369   0.002130  0.028239   \n",
       "2022-04-29 10:21:00     195.289        37.67  0.028384   0.002929  0.025455   \n",
       "2022-04-29 10:22:00     195.210        37.60  0.027967   0.001065  0.026903   \n",
       "2022-04-29 10:23:00     195.010        37.59  0.026914   0.000799  0.026116   \n",
       "2022-04-29 10:24:00     194.587        37.51  0.024687  -0.001331  0.026018   \n",
       "2022-04-29 10:25:00     194.619        37.49  0.024855  -0.001864  0.026719   \n",
       "2022-04-29 10:26:00     194.650        37.49  0.025019  -0.001864  0.026882   \n",
       "2022-04-29 10:27:00     194.690        37.39  0.025229  -0.004526  0.029755   \n",
       "2022-04-29 10:28:00     194.450        37.36  0.023965  -0.005325  0.029290   \n",
       "2022-04-29 10:29:00     193.650        37.34  0.019753  -0.005857  0.025610   \n",
       "2022-04-29 10:30:00     193.696        37.32  0.019995  -0.006390  0.026385   \n",
       "2022-04-29 10:31:00     193.512        37.25  0.019026  -0.008253  0.027279   \n",
       "2022-04-29 10:32:00     193.980        37.32  0.021490  -0.006390  0.027880   \n",
       "2022-04-29 10:33:00     194.388        37.31  0.023639  -0.006656  0.030295   \n",
       "2022-04-29 10:34:00     193.533        37.23  0.019136  -0.008786  0.027922   \n",
       "2022-04-29 10:35:00     193.050        37.21  0.016593  -0.009318  0.025911   \n",
       "2022-04-29 10:36:00     192.832        37.20  0.015445  -0.009585  0.025030   \n",
       "2022-04-29 10:37:00     193.285        37.16  0.017831  -0.010650  0.028480   \n",
       "2022-04-29 10:38:00     192.815        37.21  0.015356  -0.009318  0.024674   \n",
       "2022-04-29 10:39:00     193.258        37.25  0.017688  -0.008253  0.025942   \n",
       "2022-04-29 10:40:00     193.002        37.21  0.016340  -0.009318  0.025659   \n",
       "2022-04-29 10:41:00     193.061        37.21  0.016651  -0.009318  0.025969   \n",
       "2022-04-29 10:42:00     192.861        37.11  0.015598  -0.011981  0.027579   \n",
       "2022-04-29 10:43:00     192.306        37.08  0.012675  -0.012780  0.025455   \n",
       "2022-04-29 10:44:00     192.210        37.09  0.012170  -0.012513  0.024683   \n",
       "2022-04-29 10:45:00     192.595        37.11  0.014197  -0.011981  0.026178   \n",
       "2022-04-29 10:46:00     193.300        37.16  0.017910  -0.010650  0.028559   \n",
       "2022-04-29 10:47:00     193.651        37.15  0.019758  -0.010916  0.030674   \n",
       "2022-04-29 10:48:00     193.479        37.29  0.018852  -0.007188  0.026041   \n",
       "2022-04-29 10:49:00     193.110        37.25  0.016909  -0.008253  0.025162   \n",
       "2022-04-29 10:50:00     193.419        37.28  0.018536  -0.007455  0.025991   \n",
       "2022-04-29 10:51:00     193.779        37.24  0.020432  -0.008520  0.028952   \n",
       "2022-04-29 10:52:00     193.600        37.31  0.019489  -0.006656  0.026145   \n",
       "2022-04-29 10:53:00     193.584        37.33  0.019405  -0.006124  0.025529   \n",
       "2022-04-29 10:54:00     193.900        37.34  0.021069  -0.005857  0.026926   \n",
       "2022-04-29 10:55:00     193.100        37.24  0.016856  -0.008520  0.025376   \n",
       "2022-04-29 10:56:00     192.894        37.14  0.015772  -0.011182  0.026954   \n",
       "2022-04-29 10:57:00     192.954        37.13  0.016087  -0.011448  0.027536   \n",
       "2022-04-29 10:58:00     192.925        37.14  0.015935  -0.011182  0.027117   \n",
       "2022-04-29 10:59:00     193.052        37.09  0.016604  -0.012513  0.029117   \n",
       "2022-04-29 11:00:00     193.342        37.12  0.018131  -0.011715  0.029845   \n",
       "2022-04-29 11:01:00     193.367        37.13  0.018262  -0.011448  0.029711   \n",
       "2022-04-29 11:02:00     193.415        37.10  0.018515  -0.012247  0.030762   \n",
       "2022-04-29 11:03:00     193.242        37.03  0.017604  -0.014111  0.031715   \n",
       "2022-04-29 11:04:00     193.130        37.00  0.017014  -0.014909  0.031924   \n",
       "2022-04-29 11:05:00     192.572        36.94  0.014076  -0.016507  0.030583   \n",
       "2022-04-29 11:06:00     193.000        36.91  0.016330  -0.017306  0.033635   \n",
       "2022-04-29 11:07:00     192.859        36.93  0.015587  -0.016773  0.032360   \n",
       "2022-04-29 11:08:00     192.914        36.92  0.015877  -0.017039  0.032916   \n",
       "2022-04-29 11:09:00     192.750        36.85  0.015013  -0.018903  0.033916   \n",
       "2022-04-29 11:10:00     192.653        36.85  0.014502  -0.018903  0.033406   \n",
       "2022-04-29 11:11:00     192.665        36.85  0.014566  -0.018903  0.033469   \n",
       "2022-04-29 11:12:00     192.853        36.83  0.015556  -0.019436  0.034991   \n",
       "2022-04-29 11:13:00     193.089        36.90  0.016798  -0.017572  0.034370   \n",
       "2022-04-29 11:14:00     193.158        36.96  0.017162  -0.015974  0.033136   \n",
       "2022-04-29 11:15:00     193.360        36.92  0.018225  -0.017039  0.035265   \n",
       "2022-04-29 11:16:00     193.089        36.94  0.016798  -0.016507  0.033305   \n",
       "2022-04-29 11:17:00     193.100        36.97  0.016856  -0.015708  0.032565   \n",
       "2022-04-29 11:18:00     192.500        36.98  0.013697  -0.015442  0.029139   \n",
       "2022-04-29 11:19:00     192.448        36.99  0.013423  -0.015176  0.028599   \n",
       "2022-04-29 11:20:00     192.190        36.95  0.012064  -0.016241  0.028305   \n",
       "2022-04-29 11:21:00     192.263        36.97  0.012449  -0.015708  0.028157   \n",
       "2022-04-29 11:22:00     192.490        37.02  0.013644  -0.014377  0.028021   \n",
       "2022-04-29 11:23:00     192.424        37.08  0.013297  -0.012780  0.026076   \n",
       "2022-04-29 11:24:00     192.197        37.06  0.012101  -0.013312  0.025413   \n",
       "2022-04-29 11:25:00     192.270        37.03  0.012486  -0.014111  0.026596   \n",
       "2022-04-29 11:26:00     192.500        37.09  0.013697  -0.012513  0.026210   \n",
       "2022-04-29 11:27:00     192.361        37.09  0.012965  -0.012513  0.025478   \n",
       "2022-04-29 11:28:00     192.500        37.13  0.013697  -0.011448  0.025145   \n",
       "2022-04-29 11:29:00     192.447        37.11  0.013418  -0.011981  0.025398   \n",
       "2022-04-29 13:00:00     193.346        37.42  0.018152  -0.003727  0.021879   \n",
       "2022-04-29 13:01:00     194.397        37.55  0.023686  -0.000266  0.023953   \n",
       "2022-04-29 13:02:00     194.133        37.60  0.022296   0.001065  0.021231   \n",
       "2022-04-29 13:03:00     194.397        37.58  0.023686   0.000532  0.023154   \n",
       "2022-04-29 13:04:00     194.239        37.53  0.022854  -0.000799  0.023653   \n",
       "2022-04-29 13:05:00     193.979        37.58  0.021485   0.000532  0.020953   \n",
       "2022-04-29 13:06:00     194.248        37.60  0.022902   0.001065  0.021837   \n",
       "2022-04-29 13:07:00     194.076        37.67  0.021996   0.002929  0.019067   \n",
       "2022-04-29 13:08:00     193.241        37.49  0.017599  -0.001864  0.019463   \n",
       "2022-04-29 13:09:00     194.345        37.57  0.023412   0.000266  0.023146   \n",
       "2022-04-29 13:10:00     194.410        37.65  0.023755   0.002396  0.021359   \n",
       "2022-04-29 13:11:00     194.640        37.80  0.024966   0.006390  0.018576   \n",
       "2022-04-29 13:12:00     195.180        37.85  0.027810   0.007721  0.020089   \n",
       "2022-04-29 13:13:00     194.996        37.93  0.026841   0.009851  0.016990   \n",
       "2022-04-29 13:14:00     195.306        37.84  0.028473   0.007455  0.021018   \n",
       "2022-04-29 13:15:00     194.826        37.81  0.025945   0.006656  0.019289   \n",
       "2022-04-29 13:16:00     194.999        37.91  0.026856   0.009318  0.017538   \n",
       "2022-04-29 13:17:00     194.802        37.84  0.025819   0.007455  0.018364   \n",
       "2022-04-29 13:18:00     195.013        37.81  0.026930   0.006656  0.020274   \n",
       "2022-04-29 13:19:00     194.761        37.79  0.025603   0.006124  0.019480   \n",
       "2022-04-29 13:20:00     194.498        37.84  0.024218   0.007455  0.016763   \n",
       "2022-04-29 13:21:00     195.020        37.86  0.026967   0.007987  0.018980   \n",
       "2022-04-29 13:22:00     194.988        37.89  0.026798   0.008786  0.018013   \n",
       "2022-04-29 13:23:00     194.450        37.87  0.023965   0.008253  0.015712   \n",
       "2022-04-29 13:24:00     194.609        37.83  0.024803   0.007188  0.017614   \n",
       "2022-04-29 13:25:00     194.028        37.84  0.021743   0.007455  0.014288   \n",
       "2022-04-29 13:26:00     194.555        37.81  0.024518   0.006656  0.017862   \n",
       "2022-04-29 13:27:00     194.386        37.80  0.023628   0.006390  0.017239   \n",
       "2022-04-29 13:28:00     194.441        37.75  0.023918   0.005059  0.018859   \n",
       "2022-04-29 13:29:00     194.700        37.72  0.025282   0.004260  0.021022   \n",
       "2022-04-29 13:30:00     194.782        37.65  0.025714   0.002396  0.023318   \n",
       "2022-04-29 13:31:00     194.996        37.64  0.026841   0.002130  0.024711   \n",
       "2022-04-29 13:32:00     194.522        37.75  0.024345   0.005059  0.019286   \n",
       "2022-04-29 13:33:00     194.421        37.73  0.023813   0.004526  0.019287   \n",
       "2022-04-29 13:34:00     194.343        37.70  0.023402   0.003727  0.019675   \n",
       "2022-04-29 13:35:00     194.886        37.79  0.026261   0.006124  0.020138   \n",
       "2022-04-29 13:36:00     194.877        37.75  0.026214   0.005059  0.021155   \n",
       "2022-04-29 13:37:00     194.900        37.90  0.026335   0.009052  0.017283   \n",
       "2022-04-29 13:38:00     195.228        37.88  0.028062   0.008520  0.019543   \n",
       "2022-04-29 13:39:00     195.114        37.80  0.027462   0.006390  0.021072   \n",
       "2022-04-29 13:40:00     194.649        37.78  0.025013   0.005857  0.019156   \n",
       "2022-04-29 13:41:00     193.993        37.68  0.021559   0.003195  0.018364   \n",
       "2022-04-29 13:42:00     193.654        37.58  0.019774   0.000532  0.019241   \n",
       "2022-04-29 13:43:00     194.500        37.64  0.024229   0.002130  0.022099   \n",
       "2022-04-29 13:44:00     194.800        37.83  0.025808   0.007188  0.018620   \n",
       "2022-04-29 13:45:00     195.148        37.93  0.027641   0.009851  0.017790   \n",
       "2022-04-29 13:46:00     194.700        37.84  0.025282   0.007455  0.017827   \n",
       "2022-04-29 13:47:00     194.688        37.74  0.025219   0.004792  0.020426   \n",
       "2022-04-29 13:48:00     194.824        37.82  0.025935   0.006922  0.019013   \n",
       "2022-04-29 13:50:00     194.500        37.81  0.024229   0.006656  0.017573   \n",
       "2022-04-29 13:51:00     194.385        37.81  0.023623   0.006656  0.016967   \n",
       "2022-04-29 13:52:00     194.397        37.81  0.023686   0.006656  0.017030   \n",
       "2022-04-29 13:53:00     194.830        37.85  0.025966   0.007721  0.018245   \n",
       "2022-04-29 13:54:00     195.250        38.07  0.028178   0.013578  0.014600   \n",
       "2022-04-29 13:55:00     195.089        37.90  0.027330   0.009052  0.018278   \n",
       "2022-04-29 13:56:00     195.323        38.08  0.028563   0.013845  0.014718   \n",
       "2022-04-29 13:57:00     195.896        38.11  0.031580   0.014643  0.016937   \n",
       "2022-04-29 13:58:00     195.380        38.09  0.028863   0.014111  0.014752   \n",
       "2022-04-29 13:59:00     195.333        38.05  0.028615   0.013046  0.015569   \n",
       "2022-04-29 14:00:00     195.800        38.00  0.031074   0.011715  0.019360   \n",
       "2022-04-29 14:01:00     195.696        37.98  0.030527   0.011182  0.019345   \n",
       "2022-04-29 14:02:00     195.328        37.96  0.028589   0.010650  0.017939   \n",
       "2022-04-29 14:03:00     195.379        38.06  0.028857   0.013312  0.015545   \n",
       "2022-04-29 14:04:00     195.800        38.15  0.031074   0.015708  0.015366   \n",
       "2022-04-29 14:05:00     195.897        38.20  0.031585   0.017039  0.014546   \n",
       "2022-04-29 14:06:00     195.942        38.09  0.031822   0.014111  0.017711   \n",
       "2022-04-29 14:07:00     195.883        38.07  0.031511   0.013578  0.017933   \n",
       "2022-04-29 14:08:00     195.566        38.04  0.029842   0.012780  0.017063   \n",
       "2022-04-29 14:09:00     195.750        38.02  0.030811   0.012247  0.018564   \n",
       "2022-04-29 14:10:00     195.857        37.99  0.031375   0.011448  0.019926   \n",
       "2022-04-29 14:11:00     195.415        37.93  0.029047   0.009851  0.019196   \n",
       "2022-04-29 14:12:00     195.350        37.93  0.028705   0.009851  0.018854   \n",
       "2022-04-29 14:13:00     195.254        37.94  0.028199   0.010117  0.018082   \n",
       "2022-04-29 14:14:00     195.375        37.92  0.028836   0.009585  0.019252   \n",
       "2022-04-29 14:15:00     195.186        37.92  0.027841   0.009585  0.018256   \n",
       "2022-04-29 14:16:00     195.378        38.00  0.028852   0.011715  0.017138   \n",
       "2022-04-29 14:17:00     195.598        38.00  0.030011   0.011715  0.018296   \n",
       "2022-04-29 14:18:00     195.791        38.01  0.031027   0.011981  0.019046   \n",
       "2022-04-29 14:19:00     195.792        38.00  0.031032   0.011715  0.019318   \n",
       "2022-04-29 14:20:00     195.658        37.99  0.030327   0.011448  0.018878   \n",
       "2022-04-29 14:21:00     195.620        38.04  0.030127   0.012780  0.017347   \n",
       "2022-04-29 14:22:00     195.776        37.99  0.030948   0.011448  0.019500   \n",
       "2022-04-29 14:23:00     195.469        37.96  0.029331   0.010650  0.018682   \n",
       "2022-04-29 14:24:00     195.348        37.98  0.028694   0.011182  0.017512   \n",
       "2022-04-29 14:25:00     195.551        37.96  0.029763   0.010650  0.019114   \n",
       "2022-04-29 14:26:00     195.425        37.96  0.029100   0.010650  0.018450   \n",
       "2022-04-29 14:27:00     195.350        37.96  0.028705   0.010650  0.018055   \n",
       "2022-04-29 14:28:00     195.498        37.95  0.029484   0.010383  0.019101   \n",
       "2022-04-29 14:29:00     195.500        37.98  0.029495   0.011182  0.018313   \n",
       "2022-04-29 14:30:00     195.355        37.96  0.028731   0.010650  0.018081   \n",
       "2022-04-29 14:31:00     195.012        37.90  0.026925   0.009052  0.017873   \n",
       "2022-04-29 14:32:00     194.395        37.88  0.023676   0.008520  0.015156   \n",
       "2022-04-29 14:33:00     194.757        37.96  0.025582   0.010650  0.014932   \n",
       "2022-04-29 14:34:00     194.754        37.96  0.025566   0.010650  0.014917   \n",
       "2022-04-29 14:35:00     194.720        37.96  0.025387   0.010650  0.014738   \n",
       "2022-04-29 14:36:00     194.500        37.96  0.024229   0.010650  0.013579   \n",
       "2022-04-29 14:37:00     194.847        37.98  0.026056   0.011182  0.014874   \n",
       "2022-04-29 14:38:00     194.733        37.96  0.025456   0.010650  0.014806   \n",
       "2022-04-29 14:39:00     194.707        37.99  0.025319   0.011448  0.013870   \n",
       "2022-04-29 14:40:00     194.861        37.97  0.026130   0.010916  0.015214   \n",
       "2022-04-29 14:41:00     194.800        37.93  0.025808   0.009851  0.015958   \n",
       "2022-04-29 14:42:00     194.566        37.87  0.024576   0.008253  0.016323   \n",
       "2022-04-29 14:43:00     194.943        37.95  0.026561   0.010383  0.016178   \n",
       "2022-04-29 14:44:00     195.002        37.95  0.026872   0.010383  0.016489   \n",
       "2022-04-29 14:45:00     195.199        37.97  0.027910   0.010916  0.016994   \n",
       "2022-04-29 14:46:00     195.125        37.96  0.027520   0.010650  0.016870   \n",
       "2022-04-29 14:47:00     195.150        37.95  0.027652   0.010383  0.017268   \n",
       "2022-04-29 14:48:00     195.210        38.08  0.027967   0.013845  0.014123   \n",
       "2022-04-29 14:49:00     194.990        38.13  0.026809   0.015176  0.011633   \n",
       "2022-04-29 14:50:00     194.738        38.07  0.025482   0.013578  0.011904   \n",
       "2022-04-29 14:51:00     194.952        37.99  0.026609   0.011448  0.015161   \n",
       "2022-04-29 14:52:00     194.933        38.10  0.026509   0.014377  0.012132   \n",
       "2022-04-29 14:53:00     194.528        38.03  0.024376   0.012513  0.011863   \n",
       "2022-04-29 14:54:00     194.344        38.03  0.023407   0.012513  0.010894   \n",
       "2022-04-29 14:55:00     194.838        38.07  0.026009   0.013578  0.012430   \n",
       "2022-04-29 14:56:00     193.788        38.05  0.020479   0.013046  0.007434   \n",
       "2022-04-29 15:00:00     194.081        38.05  0.022022   0.013046  0.008976   \n",
       "2022-05-05 09:30:00     195.594        38.07  0.007796   0.000526  0.007270   \n",
       "2022-05-05 09:31:00     196.293        38.12  0.011397   0.001840  0.009558   \n",
       "2022-05-05 09:32:00     198.076        38.50  0.020584   0.011827  0.008758   \n",
       "2022-05-05 09:33:00     200.083        38.89  0.030925   0.022076  0.008849   \n",
       "2022-05-05 09:34:00     199.949        38.94  0.030235   0.023390  0.006845   \n",
       "2022-05-05 09:35:00     198.132        38.67  0.020873   0.016294  0.004578   \n",
       "2022-05-05 09:36:00     199.344        38.90  0.027118   0.022339  0.004779   \n",
       "2022-05-05 09:37:00     199.942        38.88  0.030199   0.021813  0.008385   \n",
       "2022-05-05 09:38:00     200.796        38.91  0.034599   0.022602  0.011997   \n",
       "2022-05-05 09:39:00     201.800        38.99  0.039772   0.024704  0.015068   \n",
       "2022-05-05 09:40:00     202.334        38.97  0.042523   0.024179  0.018345   \n",
       "2022-05-05 09:41:00     202.137        39.10  0.041508   0.027595  0.013913   \n",
       "2022-05-05 09:42:00     203.475        39.20  0.048402   0.030223  0.018179   \n",
       "2022-05-05 09:43:00     203.591        39.30  0.049000   0.032852  0.016149   \n",
       "2022-05-05 09:44:00     205.379        39.31  0.058213   0.033114  0.025098   \n",
       "2022-05-05 09:45:00     206.503        39.49  0.064004   0.037845  0.026159   \n",
       "2022-05-05 09:46:00     205.171        39.43  0.057141   0.036268  0.020873   \n",
       "2022-05-05 09:47:00     204.056        39.38  0.051396   0.034954  0.016442   \n",
       "2022-05-05 09:48:00     204.597        39.30  0.054184   0.032852  0.021332   \n",
       "2022-05-05 09:49:00     204.284        39.32  0.052571   0.033377  0.019194   \n",
       "2022-05-05 09:50:00     204.061        39.22  0.051422   0.030749  0.020673   \n",
       "2022-05-05 09:51:00     204.177        39.30  0.052020   0.032852  0.019168   \n",
       "2022-05-05 09:52:00     203.740        39.20  0.049768   0.030223  0.019544   \n",
       "2022-05-05 09:53:00     202.021        39.03  0.040911   0.025756  0.015155   \n",
       "2022-05-05 09:54:00     203.846        39.11  0.050314   0.027858  0.022456   \n",
       "2022-05-05 09:55:00     204.274        39.25  0.052519   0.031537  0.020982   \n",
       "2022-05-05 09:56:00     205.083        39.34  0.056688   0.033903  0.022785   \n",
       "2022-05-05 09:57:00     205.000        39.48  0.056260   0.037582  0.018678   \n",
       "2022-05-05 09:58:00     204.346        39.36  0.052890   0.034428  0.018462   \n",
       "2022-05-05 09:59:00     203.880        39.26  0.050489   0.031800  0.018689   \n",
       "2022-05-05 10:00:00     203.034        39.17  0.046130   0.029435  0.016695   \n",
       "2022-05-05 10:01:00     204.299        39.37  0.052648   0.034691  0.017957   \n",
       "2022-05-05 10:02:00     204.750        39.46  0.054972   0.037057  0.017915   \n",
       "2022-05-05 10:03:00     204.201        39.30  0.052143   0.032852  0.019292   \n",
       "2022-05-05 10:04:00     205.415        39.40  0.058398   0.035480  0.022919   \n",
       "2022-05-05 10:05:00     204.910        39.41  0.055796   0.035742  0.020054   \n",
       "2022-05-05 10:06:00     205.885        39.47  0.060820   0.037319  0.023501   \n",
       "2022-05-05 10:07:00     205.689        39.52  0.059810   0.038633  0.021177   \n",
       "2022-05-05 10:08:00     206.128        39.54  0.062072   0.039159  0.022913   \n",
       "2022-05-05 10:09:00     205.801        39.51  0.060387   0.038371  0.022017   \n",
       "2022-05-05 10:10:00     205.336        39.48  0.057991   0.037582  0.020409   \n",
       "2022-05-05 10:11:00     205.798        39.46  0.060372   0.037057  0.023315   \n",
       "2022-05-05 10:12:00     205.687        39.49  0.059800   0.037845  0.021955   \n",
       "2022-05-05 10:13:00     205.105        39.47  0.056801   0.037319  0.019482   \n",
       "2022-05-05 10:14:00     204.950        39.45  0.056002   0.036794  0.019209   \n",
       "2022-05-05 10:15:00     205.699        39.52  0.059862   0.038633  0.021228   \n",
       "2022-05-05 10:16:00     205.253        39.52  0.057564   0.038633  0.018930   \n",
       "2022-05-05 10:17:00     205.269        39.50  0.057646   0.038108  0.019538   \n",
       "2022-05-05 10:18:00     204.327        39.45  0.052792   0.036794  0.015999   \n",
       "2022-05-05 10:19:00     204.354        39.41  0.052932   0.035742  0.017189   \n",
       "2022-05-05 10:20:00     204.886        39.51  0.055673   0.038371  0.017302   \n",
       "2022-05-05 10:21:00     204.306        39.39  0.052684   0.035217  0.017467   \n",
       "2022-05-05 10:22:00     204.031        39.42  0.051267   0.036005  0.015262   \n",
       "2022-05-05 10:23:00     204.771        39.46  0.055080   0.037057  0.018024   \n",
       "2022-05-05 10:24:00     206.300        39.51  0.062958   0.038371  0.024588   \n",
       "2022-05-05 10:25:00     208.695        39.73  0.075298   0.044152  0.031146   \n",
       "2022-05-05 10:26:00     208.176        39.75  0.072624   0.044678  0.027946   \n",
       "2022-05-05 10:27:00     211.302        39.85  0.088731   0.047306  0.041425   \n",
       "2022-05-05 10:28:00     209.076        39.87  0.077262   0.047832  0.029430   \n",
       "2022-05-05 10:29:00     206.258        39.71  0.062742   0.043627  0.019115   \n",
       "2022-05-05 10:30:00     206.200        39.60  0.062443   0.040736  0.021707   \n",
       "2022-05-05 10:31:00     206.531        39.56  0.064148   0.039685  0.024464   \n",
       "\n",
       "                     bond_pos0.001@0  stock_pos  bond_pos0.02@0  stock_pos  \n",
       "2022-04-28 15:00:00              0.0        0.0             0.0        0.0  \n",
       "2022-04-29 09:30:00             -1.0        1.0            -1.0        1.0  \n",
       "2022-04-29 09:31:00             -1.0        1.0            -1.0        1.0  \n",
       "2022-04-29 09:32:00             -1.0        1.0            -1.0        1.0  \n",
       "2022-04-29 09:33:00             -1.0        1.0            -1.0        1.0  \n",
       "2022-04-29 09:34:00             -1.0        1.0            -1.0        1.0  \n",
       "2022-04-29 09:35:00             -1.0        1.0            -1.0        1.0  \n",
       "2022-04-29 09:36:00             -1.0        1.0            -1.0        1.0  \n",
       "2022-04-29 09:37:00             -1.0        1.0            -1.0        1.0  \n",
       "2022-04-29 09:38:00             -1.0        1.0            -1.0        1.0  \n",
       "2022-04-29 09:39:00             -1.0        1.0            -1.0        1.0  \n",
       "2022-04-29 09:40:00             -1.0        1.0            -1.0        1.0  \n",
       "2022-04-29 09:41:00             -1.0        1.0            -1.0        1.0  \n",
       "2022-04-29 09:42:00             -1.0        1.0            -1.0        1.0  \n",
       "2022-04-29 09:43:00             -1.0        1.0            -1.0        1.0  \n",
       "2022-04-29 09:44:00             -1.0        1.0            -1.0        1.0  \n",
       "2022-04-29 09:45:00             -1.0        1.0            -1.0        1.0  \n",
       "2022-04-29 09:46:00             -1.0        1.0            -1.0        1.0  \n",
       "2022-04-29 09:47:00             -1.0        1.0            -1.0        1.0  \n",
       "2022-04-29 09:48:00             -1.0        1.0            -1.0        1.0  \n",
       "2022-04-29 09:49:00             -1.0        1.0            -1.0        1.0  \n",
       "2022-04-29 09:50:00             -1.0        1.0            -1.0        1.0  \n",
       "2022-04-29 09:51:00             -1.0        1.0            -1.0        1.0  \n",
       "2022-04-29 09:52:00             -1.0        1.0            -1.0        1.0  \n",
       "2022-04-29 09:53:00             -1.0        1.0            -1.0        1.0  \n",
       "2022-04-29 09:54:00             -1.0        1.0            -1.0        1.0  \n",
       "2022-04-29 09:55:00             -1.0        1.0            -1.0        1.0  \n",
       "2022-04-29 09:56:00             -1.0        1.0            -1.0        1.0  \n",
       "2022-04-29 09:57:00             -1.0        1.0            -1.0        1.0  \n",
       "2022-04-29 09:58:00             -1.0        1.0            -1.0        1.0  \n",
       "2022-04-29 09:59:00             -1.0        1.0            -1.0        1.0  \n",
       "2022-04-29 10:00:00             -1.0        1.0            -1.0        1.0  \n",
       "2022-04-29 10:01:00             -1.0        1.0            -1.0        1.0  \n",
       "2022-04-29 10:02:00             -1.0        1.0            -1.0        1.0  \n",
       "2022-04-29 10:03:00             -1.0        1.0            -1.0        1.0  \n",
       "2022-04-29 10:04:00             -1.0        1.0            -1.0        1.0  \n",
       "2022-04-29 10:05:00             -1.0        1.0            -1.0        1.0  \n",
       "2022-04-29 10:06:00             -1.0        1.0            -1.0        1.0  \n",
       "2022-04-29 10:07:00             -1.0        1.0            -1.0        1.0  \n",
       "2022-04-29 10:08:00             -1.0        1.0            -1.0        1.0  \n",
       "2022-04-29 10:09:00             -1.0        1.0            -1.0        1.0  \n",
       "2022-04-29 10:10:00             -1.0        1.0            -1.0        1.0  \n",
       "2022-04-29 10:11:00             -1.0        1.0            -1.0        1.0  \n",
       "2022-04-29 10:12:00             -1.0        1.0            -1.0        1.0  \n",
       "2022-04-29 10:13:00             -1.0        1.0            -1.0        1.0  \n",
       "2022-04-29 10:14:00             -1.0        1.0            -1.0        1.0  \n",
       "2022-04-29 10:15:00             -1.0        1.0            -1.0        1.0  \n",
       "2022-04-29 10:16:00             -1.0        1.0            -1.0        1.0  \n",
       "2022-04-29 10:17:00             -1.0        1.0            -1.0        1.0  \n",
       "2022-04-29 10:18:00             -1.0        1.0            -1.0        1.0  \n",
       "2022-04-29 10:19:00             -1.0        1.0            -1.0        1.0  \n",
       "2022-04-29 10:20:00             -1.0        1.0            -1.0        1.0  \n",
       "2022-04-29 10:21:00             -1.0        1.0            -1.0        1.0  \n",
       "2022-04-29 10:22:00             -1.0        1.0            -1.0        1.0  \n",
       "2022-04-29 10:23:00             -1.0        1.0            -1.0        1.0  \n",
       "2022-04-29 10:24:00             -1.0        1.0            -1.0        1.0  \n",
       "2022-04-29 10:25:00             -1.0        1.0            -1.0        1.0  \n",
       "2022-04-29 10:26:00             -1.0        1.0            -1.0        1.0  \n",
       "2022-04-29 10:27:00             -1.0        1.0            -1.0        1.0  \n",
       "2022-04-29 10:28:00             -1.0        1.0            -1.0        1.0  \n",
       "2022-04-29 10:29:00             -1.0        1.0            -1.0        1.0  \n",
       "2022-04-29 10:30:00             -1.0        1.0            -1.0        1.0  \n",
       "2022-04-29 10:31:00             -1.0        1.0            -1.0        1.0  \n",
       "2022-04-29 10:32:00             -1.0        1.0            -1.0        1.0  \n",
       "2022-04-29 10:33:00             -1.0        1.0            -1.0        1.0  \n",
       "2022-04-29 10:34:00             -1.0        1.0            -1.0        1.0  \n",
       "2022-04-29 10:35:00             -1.0        1.0            -1.0        1.0  \n",
       "2022-04-29 10:36:00             -1.0        1.0            -1.0        1.0  \n",
       "2022-04-29 10:37:00             -1.0        1.0            -1.0        1.0  \n",
       "2022-04-29 10:38:00             -1.0        1.0            -1.0        1.0  \n",
       "2022-04-29 10:39:00             -1.0        1.0            -1.0        1.0  \n",
       "2022-04-29 10:40:00             -1.0        1.0            -1.0        1.0  \n",
       "2022-04-29 10:41:00             -1.0        1.0            -1.0        1.0  \n",
       "2022-04-29 10:42:00             -1.0        1.0            -1.0        1.0  \n",
       "2022-04-29 10:43:00             -1.0        1.0            -1.0        1.0  \n",
       "2022-04-29 10:44:00             -1.0        1.0            -1.0        1.0  \n",
       "2022-04-29 10:45:00             -1.0        1.0            -1.0        1.0  \n",
       "2022-04-29 10:46:00             -1.0        1.0            -1.0        1.0  \n",
       "2022-04-29 10:47:00             -1.0        1.0            -1.0        1.0  \n",
       "2022-04-29 10:48:00             -1.0        1.0            -1.0        1.0  \n",
       "2022-04-29 10:49:00             -1.0        1.0            -1.0        1.0  \n",
       "2022-04-29 10:50:00             -1.0        1.0            -1.0        1.0  \n",
       "2022-04-29 10:51:00             -1.0        1.0            -1.0        1.0  \n",
       "2022-04-29 10:52:00             -1.0        1.0            -1.0        1.0  \n",
       "2022-04-29 10:53:00             -1.0        1.0            -1.0        1.0  \n",
       "2022-04-29 10:54:00             -1.0        1.0            -1.0        1.0  \n",
       "2022-04-29 10:55:00             -1.0        1.0            -1.0        1.0  \n",
       "2022-04-29 10:56:00             -1.0        1.0            -1.0        1.0  \n",
       "2022-04-29 10:57:00             -1.0        1.0            -1.0        1.0  \n",
       "2022-04-29 10:58:00             -1.0        1.0            -1.0        1.0  \n",
       "2022-04-29 10:59:00             -1.0        1.0            -1.0        1.0  \n",
       "2022-04-29 11:00:00             -1.0        1.0            -1.0        1.0  \n",
       "2022-04-29 11:01:00             -1.0        1.0            -1.0        1.0  \n",
       "2022-04-29 11:02:00             -1.0        1.0            -1.0        1.0  \n",
       "2022-04-29 11:03:00             -1.0        1.0            -1.0        1.0  \n",
       "2022-04-29 11:04:00             -1.0        1.0            -1.0        1.0  \n",
       "2022-04-29 11:05:00             -1.0        1.0            -1.0        1.0  \n",
       "2022-04-29 11:06:00             -1.0        1.0            -1.0        1.0  \n",
       "2022-04-29 11:07:00             -1.0        1.0            -1.0        1.0  \n",
       "2022-04-29 11:08:00             -1.0        1.0            -1.0        1.0  \n",
       "2022-04-29 11:09:00             -1.0        1.0            -1.0        1.0  \n",
       "2022-04-29 11:10:00             -1.0        1.0            -1.0        1.0  \n",
       "2022-04-29 11:11:00             -1.0        1.0            -1.0        1.0  \n",
       "2022-04-29 11:12:00             -1.0        1.0            -1.0        1.0  \n",
       "2022-04-29 11:13:00             -1.0        1.0            -1.0        1.0  \n",
       "2022-04-29 11:14:00             -1.0        1.0            -1.0        1.0  \n",
       "2022-04-29 11:15:00             -1.0        1.0            -1.0        1.0  \n",
       "2022-04-29 11:16:00             -1.0        1.0            -1.0        1.0  \n",
       "2022-04-29 11:17:00             -1.0        1.0            -1.0        1.0  \n",
       "2022-04-29 11:18:00             -1.0        1.0            -1.0        1.0  \n",
       "2022-04-29 11:19:00             -1.0        1.0            -1.0        1.0  \n",
       "2022-04-29 11:20:00             -1.0        1.0            -1.0        1.0  \n",
       "2022-04-29 11:21:00             -1.0        1.0            -1.0        1.0  \n",
       "2022-04-29 11:22:00             -1.0        1.0            -1.0        1.0  \n",
       "2022-04-29 11:23:00             -1.0        1.0            -1.0        1.0  \n",
       "2022-04-29 11:24:00             -1.0        1.0            -1.0        1.0  \n",
       "2022-04-29 11:25:00             -1.0        1.0            -1.0        1.0  \n",
       "2022-04-29 11:26:00             -1.0        1.0            -1.0        1.0  \n",
       "2022-04-29 11:27:00             -1.0        1.0            -1.0        1.0  \n",
       "2022-04-29 11:28:00             -1.0        1.0            -1.0        1.0  \n",
       "2022-04-29 11:29:00             -1.0        1.0            -1.0        1.0  \n",
       "2022-04-29 13:00:00             -1.0        1.0            -1.0        1.0  \n",
       "2022-04-29 13:01:00             -1.0        1.0            -1.0        1.0  \n",
       "2022-04-29 13:02:00             -1.0        1.0            -1.0        1.0  \n",
       "2022-04-29 13:03:00             -1.0        1.0            -1.0        1.0  \n",
       "2022-04-29 13:04:00             -1.0        1.0            -1.0        1.0  \n",
       "2022-04-29 13:05:00             -1.0        1.0            -1.0        1.0  \n",
       "2022-04-29 13:06:00             -1.0        1.0            -1.0        1.0  \n",
       "2022-04-29 13:07:00             -1.0        1.0            -1.0        1.0  \n",
       "2022-04-29 13:08:00             -1.0        1.0            -1.0        1.0  \n",
       "2022-04-29 13:09:00             -1.0        1.0            -1.0        1.0  \n",
       "2022-04-29 13:10:00             -1.0        1.0            -1.0        1.0  \n",
       "2022-04-29 13:11:00             -1.0        1.0            -1.0        1.0  \n",
       "2022-04-29 13:12:00             -1.0        1.0            -1.0        1.0  \n",
       "2022-04-29 13:13:00             -1.0        1.0            -1.0        1.0  \n",
       "2022-04-29 13:14:00             -1.0        1.0            -1.0        1.0  \n",
       "2022-04-29 13:15:00             -1.0        1.0            -1.0        1.0  \n",
       "2022-04-29 13:16:00             -1.0        1.0            -1.0        1.0  \n",
       "2022-04-29 13:17:00             -1.0        1.0            -1.0        1.0  \n",
       "2022-04-29 13:18:00             -1.0        1.0            -1.0        1.0  \n",
       "2022-04-29 13:19:00             -1.0        1.0            -1.0        1.0  \n",
       "2022-04-29 13:20:00             -1.0        1.0            -1.0        1.0  \n",
       "2022-04-29 13:21:00             -1.0        1.0            -1.0        1.0  \n",
       "2022-04-29 13:22:00             -1.0        1.0            -1.0        1.0  \n",
       "2022-04-29 13:23:00             -1.0        1.0            -1.0        1.0  \n",
       "2022-04-29 13:24:00             -1.0        1.0            -1.0        1.0  \n",
       "2022-04-29 13:25:00             -1.0        1.0            -1.0        1.0  \n",
       "2022-04-29 13:26:00             -1.0        1.0            -1.0        1.0  \n",
       "2022-04-29 13:27:00             -1.0        1.0            -1.0        1.0  \n",
       "2022-04-29 13:28:00             -1.0        1.0            -1.0        1.0  \n",
       "2022-04-29 13:29:00             -1.0        1.0            -1.0        1.0  \n",
       "2022-04-29 13:30:00             -1.0        1.0            -1.0        1.0  \n",
       "2022-04-29 13:31:00             -1.0        1.0            -1.0        1.0  \n",
       "2022-04-29 13:32:00             -1.0        1.0            -1.0        1.0  \n",
       "2022-04-29 13:33:00             -1.0        1.0            -1.0        1.0  \n",
       "2022-04-29 13:34:00             -1.0        1.0            -1.0        1.0  \n",
       "2022-04-29 13:35:00             -1.0        1.0            -1.0        1.0  \n",
       "2022-04-29 13:36:00             -1.0        1.0            -1.0        1.0  \n",
       "2022-04-29 13:37:00             -1.0        1.0            -1.0        1.0  \n",
       "2022-04-29 13:38:00             -1.0        1.0            -1.0        1.0  \n",
       "2022-04-29 13:39:00             -1.0        1.0            -1.0        1.0  \n",
       "2022-04-29 13:40:00             -1.0        1.0            -1.0        1.0  \n",
       "2022-04-29 13:41:00             -1.0        1.0            -1.0        1.0  \n",
       "2022-04-29 13:42:00             -1.0        1.0            -1.0        1.0  \n",
       "2022-04-29 13:43:00             -1.0        1.0            -1.0        1.0  \n",
       "2022-04-29 13:44:00             -1.0        1.0            -1.0        1.0  \n",
       "2022-04-29 13:45:00             -1.0        1.0            -1.0        1.0  \n",
       "2022-04-29 13:46:00             -1.0        1.0            -1.0        1.0  \n",
       "2022-04-29 13:47:00             -1.0        1.0            -1.0        1.0  \n",
       "2022-04-29 13:48:00             -1.0        1.0            -1.0        1.0  \n",
       "2022-04-29 13:50:00             -1.0        1.0            -1.0        1.0  \n",
       "2022-04-29 13:51:00             -1.0        1.0            -1.0        1.0  \n",
       "2022-04-29 13:52:00             -1.0        1.0            -1.0        1.0  \n",
       "2022-04-29 13:53:00             -1.0        1.0            -1.0        1.0  \n",
       "2022-04-29 13:54:00             -1.0        1.0            -1.0        1.0  \n",
       "2022-04-29 13:55:00             -1.0        1.0            -1.0        1.0  \n",
       "2022-04-29 13:56:00             -1.0        1.0            -1.0        1.0  \n",
       "2022-04-29 13:57:00             -1.0        1.0            -1.0        1.0  \n",
       "2022-04-29 13:58:00             -1.0        1.0            -1.0        1.0  \n",
       "2022-04-29 13:59:00             -1.0        1.0            -1.0        1.0  \n",
       "2022-04-29 14:00:00             -1.0        1.0            -1.0        1.0  \n",
       "2022-04-29 14:01:00             -1.0        1.0            -1.0        1.0  \n",
       "2022-04-29 14:02:00             -1.0        1.0            -1.0        1.0  \n",
       "2022-04-29 14:03:00             -1.0        1.0            -1.0        1.0  \n",
       "2022-04-29 14:04:00             -1.0        1.0            -1.0        1.0  \n",
       "2022-04-29 14:05:00             -1.0        1.0            -1.0        1.0  \n",
       "2022-04-29 14:06:00             -1.0        1.0            -1.0        1.0  \n",
       "2022-04-29 14:07:00             -1.0        1.0            -1.0        1.0  \n",
       "2022-04-29 14:08:00             -1.0        1.0            -1.0        1.0  \n",
       "2022-04-29 14:09:00             -1.0        1.0            -1.0        1.0  \n",
       "2022-04-29 14:10:00             -1.0        1.0            -1.0        1.0  \n",
       "2022-04-29 14:11:00             -1.0        1.0            -1.0        1.0  \n",
       "2022-04-29 14:12:00             -1.0        1.0            -1.0        1.0  \n",
       "2022-04-29 14:13:00             -1.0        1.0            -1.0        1.0  \n",
       "2022-04-29 14:14:00             -1.0        1.0            -1.0        1.0  \n",
       "2022-04-29 14:15:00             -1.0        1.0            -1.0        1.0  \n",
       "2022-04-29 14:16:00             -1.0        1.0            -1.0        1.0  \n",
       "2022-04-29 14:17:00             -1.0        1.0            -1.0        1.0  \n",
       "2022-04-29 14:18:00             -1.0        1.0            -1.0        1.0  \n",
       "2022-04-29 14:19:00             -1.0        1.0            -1.0        1.0  \n",
       "2022-04-29 14:20:00             -1.0        1.0            -1.0        1.0  \n",
       "2022-04-29 14:21:00             -1.0        1.0            -1.0        1.0  \n",
       "2022-04-29 14:22:00             -1.0        1.0            -1.0        1.0  \n",
       "2022-04-29 14:23:00             -1.0        1.0            -1.0        1.0  \n",
       "2022-04-29 14:24:00             -1.0        1.0            -1.0        1.0  \n",
       "2022-04-29 14:25:00             -1.0        1.0            -1.0        1.0  \n",
       "2022-04-29 14:26:00             -1.0        1.0            -1.0        1.0  \n",
       "2022-04-29 14:27:00             -1.0        1.0            -1.0        1.0  \n",
       "2022-04-29 14:28:00             -1.0        1.0            -1.0        1.0  \n",
       "2022-04-29 14:29:00             -1.0        1.0            -1.0        1.0  \n",
       "2022-04-29 14:30:00             -1.0        1.0            -1.0        1.0  \n",
       "2022-04-29 14:31:00             -1.0        1.0            -1.0        1.0  \n",
       "2022-04-29 14:32:00             -1.0        1.0            -1.0        1.0  \n",
       "2022-04-29 14:33:00             -1.0        1.0            -1.0        1.0  \n",
       "2022-04-29 14:34:00             -1.0        1.0            -1.0        1.0  \n",
       "2022-04-29 14:35:00             -1.0        1.0            -1.0        1.0  \n",
       "2022-04-29 14:36:00             -1.0        1.0            -1.0        1.0  \n",
       "2022-04-29 14:37:00             -1.0        1.0            -1.0        1.0  \n",
       "2022-04-29 14:38:00             -1.0        1.0            -1.0        1.0  \n",
       "2022-04-29 14:39:00             -1.0        1.0            -1.0        1.0  \n",
       "2022-04-29 14:40:00             -1.0        1.0            -1.0        1.0  \n",
       "2022-04-29 14:41:00             -1.0        1.0            -1.0        1.0  \n",
       "2022-04-29 14:42:00             -1.0        1.0            -1.0        1.0  \n",
       "2022-04-29 14:43:00             -1.0        1.0            -1.0        1.0  \n",
       "2022-04-29 14:44:00             -1.0        1.0            -1.0        1.0  \n",
       "2022-04-29 14:45:00             -1.0        1.0            -1.0        1.0  \n",
       "2022-04-29 14:46:00             -1.0        1.0            -1.0        1.0  \n",
       "2022-04-29 14:47:00             -1.0        1.0            -1.0        1.0  \n",
       "2022-04-29 14:48:00             -1.0        1.0            -1.0        1.0  \n",
       "2022-04-29 14:49:00             -1.0        1.0            -1.0        1.0  \n",
       "2022-04-29 14:50:00             -1.0        1.0            -1.0        1.0  \n",
       "2022-04-29 14:51:00             -1.0        1.0            -1.0        1.0  \n",
       "2022-04-29 14:52:00             -1.0        1.0            -1.0        1.0  \n",
       "2022-04-29 14:53:00             -1.0        1.0            -1.0        1.0  \n",
       "2022-04-29 14:54:00             -1.0        1.0            -1.0        1.0  \n",
       "2022-04-29 14:55:00             -1.0        1.0            -1.0        1.0  \n",
       "2022-04-29 14:56:00             -1.0        1.0            -1.0        1.0  \n",
       "2022-04-29 15:00:00              0.0        0.0             0.0        0.0  \n",
       "2022-05-05 09:30:00             -1.0        1.0             0.0        0.0  \n",
       "2022-05-05 09:31:00             -1.0        1.0             0.0        0.0  \n",
       "2022-05-05 09:32:00             -1.0        1.0             0.0        0.0  \n",
       "2022-05-05 09:33:00             -1.0        1.0             0.0        0.0  \n",
       "2022-05-05 09:34:00             -1.0        1.0             0.0        0.0  \n",
       "2022-05-05 09:35:00             -1.0        1.0             0.0        0.0  \n",
       "2022-05-05 09:36:00             -1.0        1.0             0.0        0.0  \n",
       "2022-05-05 09:37:00             -1.0        1.0             0.0        0.0  \n",
       "2022-05-05 09:38:00             -1.0        1.0             0.0        0.0  \n",
       "2022-05-05 09:39:00             -1.0        1.0             0.0        0.0  \n",
       "2022-05-05 09:40:00             -1.0        1.0             0.0        0.0  \n",
       "2022-05-05 09:41:00             -1.0        1.0             0.0        0.0  \n",
       "2022-05-05 09:42:00             -1.0        1.0             0.0        0.0  \n",
       "2022-05-05 09:43:00             -1.0        1.0             0.0        0.0  \n",
       "2022-05-05 09:44:00             -1.0        1.0            -1.0        1.0  \n",
       "2022-05-05 09:45:00             -1.0        1.0            -1.0        1.0  \n",
       "2022-05-05 09:46:00             -1.0        1.0            -1.0        1.0  \n",
       "2022-05-05 09:47:00             -1.0        1.0            -1.0        1.0  \n",
       "2022-05-05 09:48:00             -1.0        1.0            -1.0        1.0  \n",
       "2022-05-05 09:49:00             -1.0        1.0            -1.0        1.0  \n",
       "2022-05-05 09:50:00             -1.0        1.0            -1.0        1.0  \n",
       "2022-05-05 09:51:00             -1.0        1.0            -1.0        1.0  \n",
       "2022-05-05 09:52:00             -1.0        1.0            -1.0        1.0  \n",
       "2022-05-05 09:53:00             -1.0        1.0            -1.0        1.0  \n",
       "2022-05-05 09:54:00             -1.0        1.0            -1.0        1.0  \n",
       "2022-05-05 09:55:00             -1.0        1.0            -1.0        1.0  \n",
       "2022-05-05 09:56:00             -1.0        1.0            -1.0        1.0  \n",
       "2022-05-05 09:57:00             -1.0        1.0            -1.0        1.0  \n",
       "2022-05-05 09:58:00             -1.0        1.0            -1.0        1.0  \n",
       "2022-05-05 09:59:00             -1.0        1.0            -1.0        1.0  \n",
       "2022-05-05 10:00:00             -1.0        1.0            -1.0        1.0  \n",
       "2022-05-05 10:01:00             -1.0        1.0            -1.0        1.0  \n",
       "2022-05-05 10:02:00             -1.0        1.0            -1.0        1.0  \n",
       "2022-05-05 10:03:00             -1.0        1.0            -1.0        1.0  \n",
       "2022-05-05 10:04:00             -1.0        1.0            -1.0        1.0  \n",
       "2022-05-05 10:05:00             -1.0        1.0            -1.0        1.0  \n",
       "2022-05-05 10:06:00             -1.0        1.0            -1.0        1.0  \n",
       "2022-05-05 10:07:00             -1.0        1.0            -1.0        1.0  \n",
       "2022-05-05 10:08:00             -1.0        1.0            -1.0        1.0  \n",
       "2022-05-05 10:09:00             -1.0        1.0            -1.0        1.0  \n",
       "2022-05-05 10:10:00             -1.0        1.0            -1.0        1.0  \n",
       "2022-05-05 10:11:00             -1.0        1.0            -1.0        1.0  \n",
       "2022-05-05 10:12:00             -1.0        1.0            -1.0        1.0  \n",
       "2022-05-05 10:13:00             -1.0        1.0            -1.0        1.0  \n",
       "2022-05-05 10:14:00             -1.0        1.0            -1.0        1.0  \n",
       "2022-05-05 10:15:00             -1.0        1.0            -1.0        1.0  \n",
       "2022-05-05 10:16:00             -1.0        1.0            -1.0        1.0  \n",
       "2022-05-05 10:17:00             -1.0        1.0            -1.0        1.0  \n",
       "2022-05-05 10:18:00             -1.0        1.0            -1.0        1.0  \n",
       "2022-05-05 10:19:00             -1.0        1.0            -1.0        1.0  \n",
       "2022-05-05 10:20:00             -1.0        1.0            -1.0        1.0  \n",
       "2022-05-05 10:21:00             -1.0        1.0            -1.0        1.0  \n",
       "2022-05-05 10:22:00             -1.0        1.0            -1.0        1.0  \n",
       "2022-05-05 10:23:00             -1.0        1.0            -1.0        1.0  \n",
       "2022-05-05 10:24:00             -1.0        1.0            -1.0        1.0  \n",
       "2022-05-05 10:25:00             -1.0        1.0            -1.0        1.0  \n",
       "2022-05-05 10:26:00             -1.0        1.0            -1.0        1.0  \n",
       "2022-05-05 10:27:00             -1.0        1.0            -1.0        1.0  \n",
       "2022-05-05 10:28:00             -1.0        1.0            -1.0        1.0  \n",
       "2022-05-05 10:29:00             -1.0        1.0            -1.0        1.0  \n",
       "2022-05-05 10:30:00             -1.0        1.0            -1.0        1.0  \n",
       "2022-05-05 10:31:00             -1.0        1.0            -1.0        1.0  "
      ]
     },
     "execution_count": 39,
     "metadata": {},
     "output_type": "execute_result"
    }
   ],
   "source": [
    "df_pos = pd.concat([df_signal.iloc[:,:-2],df_pos_list[0],df_pos_list[-4]],axis=1)\n",
    "print(len(df_pos))\n",
    "df_pos.head(300)"
   ]
  },
  {
   "cell_type": "code",
   "execution_count": null,
   "metadata": {},
   "outputs": [],
   "source": []
  },
  {
   "cell_type": "code",
   "execution_count": null,
   "metadata": {},
   "outputs": [],
   "source": []
  }
 ],
 "metadata": {
  "kernelspec": {
   "display_name": "Python 3 (ipykernel)",
   "language": "python",
   "name": "python3"
  },
  "language_info": {
   "codemirror_mode": {
    "name": "ipython",
    "version": 3
   },
   "file_extension": ".py",
   "mimetype": "text/x-python",
   "name": "python",
   "nbconvert_exporter": "python",
   "pygments_lexer": "ipython3",
   "version": "3.9.7"
  },
  "toc": {
   "base_numbering": 1,
   "nav_menu": {},
   "number_sections": true,
   "sideBar": true,
   "skip_h1_title": false,
   "title_cell": "Table of Contents",
   "title_sidebar": "Contents",
   "toc_cell": false,
   "toc_position": {
    "height": "calc(100% - 180px)",
    "left": "10px",
    "top": "150px",
    "width": "202.59375px"
   },
   "toc_section_display": true,
   "toc_window_display": true
  },
  "varInspector": {
   "cols": {
    "lenName": 16,
    "lenType": 16,
    "lenVar": 40
   },
   "kernels_config": {
    "python": {
     "delete_cmd_postfix": "",
     "delete_cmd_prefix": "del ",
     "library": "var_list.py",
     "varRefreshCmd": "print(var_dic_list())"
    },
    "r": {
     "delete_cmd_postfix": ") ",
     "delete_cmd_prefix": "rm(",
     "library": "var_list.r",
     "varRefreshCmd": "cat(var_dic_list()) "
    }
   },
   "types_to_exclude": [
    "module",
    "function",
    "builtin_function_or_method",
    "instance",
    "_Feature"
   ],
   "window_display": false
  },
  "vscode": {
   "interpreter": {
    "hash": "4b7a3c99c09164ed3315a85b9be868456d78d186d21965e8a7155bab558fd18f"
   }
  }
 },
 "nbformat": 4,
 "nbformat_minor": 2
}
