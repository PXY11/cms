{
 "cells": [
  {
   "cell_type": "markdown",
   "metadata": {},
   "source": [
    "# import data"
   ]
  },
  {
   "cell_type": "code",
   "execution_count": 1,
   "metadata": {},
   "outputs": [
    {
     "name": "stdout",
     "output_type": "stream",
     "text": [
      "dict_keys(['123046.SZ', '300587.SZ', '113642.SH', '603185.SH', '110061.SH', '600674.SH', '128081.SZ', '002203.SZ'])\n",
      "123046.SZ  data length:  31460\n",
      "300587.SZ  data length:  31460\n",
      "113642.SH  data length:  13552\n",
      "603185.SH  data length:  31460\n",
      "110061.SH  data length:  31460\n",
      "600674.SH  data length:  31460\n",
      "128081.SZ  data length:  31460\n",
      "002203.SZ  data length:  31460\n",
      "数据起始日期 2021-12-13 09:30:00\n",
      "数据结束日期 2022-06-28 15:00:00\n",
      "113642.SH数据起始日期 2022-04-06 09:30:00\n",
      "113642.SH数据结束日期 2022-06-28 15:00:00\n"
     ]
    }
   ],
   "source": [
    "import platform\n",
    "import pandas as pd\n",
    "from datetime import datetime, timedelta, time\n",
    "ohlcv_data = pd.read_pickle('/Users/bokie/code/python/CMS/可转债套利/cms/stock_data_min_new.pkl')\n",
    "print(ohlcv_data.keys())\n",
    "for k,v in ohlcv_data.items():\n",
    "    print(k,' data length: ',len(v))\n",
    "print('数据起始日期',v.index[0])\n",
    "print('数据结束日期',v.index[-1])\n",
    "print('113642.SH数据起始日期',ohlcv_data['113642.SH'].index[0])\n",
    "print('113642.SH数据结束日期',ohlcv_data['113642.SH'].index[-1])"
   ]
  },
  {
   "cell_type": "markdown",
   "metadata": {},
   "source": [
    "# bond-stock pair"
   ]
  },
  {
   "cell_type": "code",
   "execution_count": 2,
   "metadata": {},
   "outputs": [],
   "source": [
    "# cbond_pair = ['128081.SZ','002203.SZ']\n",
    "# part = 1\n",
    "# convert_price = 9.69\n",
    "# stock_volume = 100/convert_price #整个回测期间不变\n",
    "\n",
    "\n",
    "cbond_pair = ['123046.SZ','300587.SZ']\n",
    "part = 1 \n",
    "convert_price = 6.73\n",
    "stock_volume = 100/convert_price  # 2021-12-13至2022-03-23\n",
    "# part = 2\n",
    "# convert_price = 6.74\n",
    "# stock_volume = 100/convert_price  # 2022-03-24至2022-06-28\n",
    "\n",
    "\n",
    "# cbond_pair = ['110061.SH','600674.SH']\n",
    "# part = 1\n",
    "# convert_price = 9.2\n",
    "# stock_volume = 100/convert_price #整个回测期间不变\n",
    "\n",
    "\n",
    "# cbond_pair = ['113642.SH','603185.SH']\n",
    "# part = 1\n",
    "# convert_price = 145.66\n",
    "# stock_volume = 100/convert_price  # 2022-04-06至2022-06-02\n",
    "# part = 2\n",
    "# convert_price = 102.61\n",
    "# stock_volume = 100/convert_price  # 2022-06-03至2022-06-28\n"
   ]
  },
  {
   "cell_type": "code",
   "execution_count": 3,
   "metadata": {},
   "outputs": [],
   "source": [
    "cbond_pair_price = pd.DataFrame([])\n",
    "cbond_pair_price = pd.concat([ohlcv_data[cbond_pair[0]]['close'],ohlcv_data[cbond_pair[1]]['close']],axis=1)\n",
    "cbond_pair_price.columns = cbond_pair\n",
    "cbond_pair_price = cbond_pair_price.dropna()\n",
    "if cbond_pair[0] == '128081.SZ' or cbond_pair[0] == '110061.SH':\n",
    "    cbond_pair_price = cbond_pair_price.loc['2021-12-13 15:00:00':]\n",
    "elif cbond_pair[0] == '123046.SZ' and part == 1:\n",
    "    cbond_pair_price = cbond_pair_price.loc['2021-12-13 15:00:00':'2022-03-23 15:00:00']\n",
    "elif cbond_pair[0] == '123046.SZ' and part == 2:\n",
    "    cbond_pair_price = cbond_pair_price.loc['2022-03-25 15:00:00':]\n",
    "elif cbond_pair[0] == '113642.SH' and part == 1:\n",
    "    cbond_pair_price = cbond_pair_price.loc['2022-04-07 15:00:00':'2022-06-02 15:00:00']\n",
    "elif cbond_pair[0] == '113642.SH' and part == 2:\n",
    "    cbond_pair_price = cbond_pair_price.loc['2022-06-03 15:00:00':]\n"
   ]
  },
  {
   "cell_type": "markdown",
   "metadata": {},
   "source": [
    "# signal calculate"
   ]
  },
  {
   "cell_type": "code",
   "execution_count": 4,
   "metadata": {},
   "outputs": [
    {
     "data": {
      "text/plain": [
       "0"
      ]
     },
     "execution_count": 4,
     "metadata": {},
     "output_type": "execute_result"
    }
   ],
   "source": [
    "cbond_return = pd.DataFrame([])\n",
    "\n",
    "cbond_preclose = cbond_pair_price.iloc[0,0] # 初始时刻的bond前收盘价\n",
    "stock_preclose = cbond_pair_price.iloc[0,1] # 初始时刻的stock前收盘价\n",
    "\n",
    "for index,row in cbond_pair_price.iterrows():\n",
    "    \n",
    "    cbond_return.loc[index,cbond_pair[0]] = row[cbond_pair[0]]/cbond_preclose - 1 # 算日内的return\n",
    "    cbond_return.loc[index,cbond_pair[1]] = row[cbond_pair[1]]/stock_preclose - 1\n",
    "\n",
    "    if index.time()==time(15,0,0):  #算完日内return，迭代到今日价格的最后一个time bar的时候，将其设为前收盘价\n",
    "        cbond_preclose = row[cbond_pair[0]]    # 日内return指标用 现价/昨日收盘价 计算\n",
    "        stock_preclose = row[cbond_pair[1]]\n",
    "        \n",
    "# 检查df是否有空值\n",
    "cbond_return.isnull().sum(axis=0)  # 按列统计\n",
    "cbond_return.isnull().sum(axis=1) # 按行统计\n",
    "cbond_return.isnull().sum(axis=1).sum() # 统计整张表"
   ]
  },
  {
   "cell_type": "code",
   "execution_count": 5,
   "metadata": {},
   "outputs": [
    {
     "data": {
      "text/plain": [
       "15107"
      ]
     },
     "execution_count": 5,
     "metadata": {},
     "output_type": "execute_result"
    }
   ],
   "source": [
    "pd.set_option('display.max_rows', None)\n",
    "# pair moving trend: diff = cbond reutrn - stock return \n",
    "cbond_return['diff'] = cbond_return[cbond_pair[0]] - cbond_return[cbond_pair[1]]\n",
    "\n",
    "len(cbond_return)"
   ]
  },
  {
   "cell_type": "markdown",
   "metadata": {},
   "source": [
    "# grid search"
   ]
  },
  {
   "cell_type": "code",
   "execution_count": 6,
   "metadata": {},
   "outputs": [],
   "source": [
    "import warnings\n",
    "warnings.filterwarnings(\"ignore\")\n",
    "grid_search_res = {}\n",
    "signal_res = {}\n",
    "trade_res = {}"
   ]
  },
  {
   "cell_type": "code",
   "execution_count": 7,
   "metadata": {},
   "outputs": [
    {
     "name": "stdout",
     "output_type": "stream",
     "text": [
      "0.005@0\n",
      "0.005@0.001\n",
      "0.005@0.002\n",
      "0.005@0.003\n",
      "0.006@0\n",
      "0.006@0.001\n",
      "0.006@0.002\n",
      "0.006@0.003\n",
      "0.007@0\n",
      "0.007@0.001\n",
      "0.007@0.002\n",
      "0.007@0.003\n",
      "0.008@0\n",
      "0.008@0.001\n",
      "0.008@0.002\n",
      "0.008@0.003\n",
      "0.009@0\n",
      "0.009@0.001\n",
      "0.009@0.002\n",
      "0.009@0.003\n",
      "0.01@0\n",
      "0.01@0.001\n",
      "0.01@0.002\n",
      "0.01@0.003\n",
      "0.011@0\n",
      "0.011@0.001\n",
      "0.011@0.002\n",
      "0.011@0.003\n",
      "0.012@0\n",
      "0.012@0.001\n",
      "0.012@0.002\n",
      "0.012@0.003\n",
      "0.013@0\n",
      "0.013@0.001\n",
      "0.013@0.002\n",
      "0.013@0.003\n",
      "0.014@0\n",
      "0.014@0.001\n",
      "0.014@0.002\n",
      "0.014@0.003\n",
      "0.015@0\n",
      "0.015@0.001\n",
      "0.015@0.002\n",
      "0.015@0.003\n"
     ]
    }
   ],
   "source": [
    "open_threshold_list = [0.005,0.006,0.007,0.008,0.009,\n",
    "                        0.01,0.011,0.012,0.013,0.014,0.015,\n",
    "                        # 0.016,0.017,0.018,0.019,0.020,0.021,0.022 # 0.005 ~ 0.01 ~ 0.015 间隔是0.001\n",
    "                        ]\n",
    "\n",
    "close_threshold_list = [0,0.001,0.002,0.003] #  0 ~ 0.001 ~ 0.002 ~ 0.003\n",
    "for open_threshold in open_threshold_list:\n",
    "    for close_threshold in close_threshold_list:\n",
    "        ############################################################################################################################################\n",
    "        # open_threshold = 0.005  # 0.005 ~ 0.01 ~ 0.015 间隔是0.001\n",
    "        # open_threshold = 0.008\n",
    "        # close_threshold = 0.001 #  0 ~ 0.001 ~ 0.002 ~ 0.003\n",
    "        pos_open_flag = 0\n",
    "        neg_open_flag = 0\n",
    "        cbond_position = pd.DataFrame([])\n",
    "        cbond_position.index = cbond_return.index\n",
    "        for index,row in cbond_return.iterrows():\n",
    "\n",
    "            if row['diff'] >= open_threshold and pos_open_flag==0 and neg_open_flag==0:\n",
    "                #diff落在A区间，且无仓位，正开\n",
    "                pos_open_flag = 1\n",
    "                neg_open_flag = 0\n",
    "                cbond_position.loc[index,cbond_pair[0]] = -1*pos_open_flag\n",
    "                cbond_position.loc[index,cbond_pair[1]] = pos_open_flag\n",
    "            elif row['diff'] >= open_threshold and pos_open_flag==0 and neg_open_flag==1:\n",
    "                #diff落在A区间，且有负仓，平仓再正开\n",
    "                pos_open_flag=1\n",
    "                neg_open_flag=0\n",
    "                cbond_position.loc[index,cbond_pair[0]] = -1*pos_open_flag\n",
    "                cbond_position.loc[index,cbond_pair[1]] = pos_open_flag\n",
    "            elif row['diff'] >= open_threshold and pos_open_flag==1 and neg_open_flag==0:\n",
    "                #diff落在A区间，且有正仓，keep\n",
    "                pos_open_flag=1\n",
    "                neg_open_flag=0\n",
    "                cbond_position.loc[index,cbond_pair[0]] = -1*pos_open_flag\n",
    "                cbond_position.loc[index,cbond_pair[1]] = pos_open_flag\n",
    "\n",
    "            if row['diff'] > close_threshold and row['diff'] < open_threshold and pos_open_flag==1 and neg_open_flag==0:\n",
    "                #diff 落在B区间，且有正仓，keep\n",
    "                pos_open_flag=1\n",
    "                neg_open_flag=0\n",
    "                cbond_position.loc[index,cbond_pair[0]] = -1*pos_open_flag\n",
    "                cbond_position.loc[index,cbond_pair[1]] = pos_open_flag\n",
    "            elif row['diff'] > close_threshold and row['diff'] < open_threshold and pos_open_flag==0 and neg_open_flag==1:\n",
    "                #diff 落在B区间，且有负仓，平仓\n",
    "                pos_open_flag=0\n",
    "                neg_open_flag=0\n",
    "                cbond_position.loc[index,cbond_pair[0]] = neg_open_flag\n",
    "                cbond_position.loc[index,cbond_pair[1]] = neg_open_flag\n",
    "            elif row['diff'] > close_threshold and row['diff'] < open_threshold and pos_open_flag==0 and neg_open_flag==0:\n",
    "                #diff 落在B区间，且无仓，keep\n",
    "                pos_open_flag=0\n",
    "                neg_open_flag=0\n",
    "                cbond_position.loc[index,cbond_pair[0]] = neg_open_flag\n",
    "                cbond_position.loc[index,cbond_pair[1]] = neg_open_flag\n",
    "            \n",
    "            if row['diff'] >= -1*close_threshold and row['diff'] <= close_threshold and pos_open_flag==1 and neg_open_flag==0:\n",
    "                #diff 落在C区间，且有正仓，平仓\n",
    "                pos_open_flag=0\n",
    "                neg_open_flag=0\n",
    "                cbond_position.loc[index,cbond_pair[0]] = pos_open_flag\n",
    "                cbond_position.loc[index,cbond_pair[1]] = pos_open_flag\n",
    "            elif row['diff'] >= -1*close_threshold and row['diff'] <= close_threshold and pos_open_flag==0 and neg_open_flag==1:\n",
    "                #diff 落在C区间，且有负仓，平仓\n",
    "                pos_open_flag=0\n",
    "                neg_open_flag=0\n",
    "                cbond_position.loc[index,cbond_pair[0]] = neg_open_flag\n",
    "                cbond_position.loc[index,cbond_pair[1]] = neg_open_flag\n",
    "            elif row['diff'] >= -1*close_threshold and row['diff'] <= close_threshold and pos_open_flag==0 and neg_open_flag==0:\n",
    "                #diff 落在C区间，且无仓位，keep\n",
    "                pos_open_flag=0\n",
    "                neg_open_flag=0\n",
    "                cbond_position.loc[index,cbond_pair[0]] = neg_open_flag\n",
    "                cbond_position.loc[index,cbond_pair[1]] = neg_open_flag\n",
    "            \n",
    "            if row['diff'] > -1*open_threshold and row['diff'] < -1*close_threshold and pos_open_flag==0 and neg_open_flag==1:\n",
    "                #diff 落在D区间，且有负仓，keep\n",
    "                pos_open_flag=0\n",
    "                neg_open_flag=1\n",
    "                cbond_position.loc[index,cbond_pair[0]] = neg_open_flag\n",
    "                cbond_position.loc[index,cbond_pair[1]] = -1*neg_open_flag\n",
    "\n",
    "            elif row['diff'] > -1*open_threshold and row['diff'] < -1*close_threshold and pos_open_flag==1 and neg_open_flag==0:\n",
    "                #diff 落在D区间，且有正仓，平仓\n",
    "                pos_open_flag=0\n",
    "                neg_open_flag=0\n",
    "                cbond_position.loc[index,cbond_pair[0]] = pos_open_flag\n",
    "                cbond_position.loc[index,cbond_pair[1]] = pos_open_flag\n",
    "            elif row['diff'] > -1*open_threshold and row['diff'] < -1*close_threshold and pos_open_flag==0 and neg_open_flag==0:\n",
    "                #diff 落在D区间，且无仓位，keep\n",
    "                pos_open_flag=0\n",
    "                neg_open_flag=0\n",
    "                cbond_position.loc[index,cbond_pair[0]] = pos_open_flag\n",
    "                cbond_position.loc[index,cbond_pair[1]] = pos_open_flag\n",
    "\n",
    "            if row['diff'] <= -1*open_threshold and pos_open_flag==0 and neg_open_flag==0:\n",
    "                #diff 落在E区间，且无仓位，反开\n",
    "                pos_open_flag=0\n",
    "                neg_open_flag=1\n",
    "                cbond_position.loc[index,cbond_pair[0]] = neg_open_flag\n",
    "                cbond_position.loc[index,cbond_pair[1]] = -1*neg_open_flag\n",
    "            elif row['diff'] <= -1*open_threshold and pos_open_flag==1 and neg_open_flag==0:\n",
    "                #diff 落在E区间，且有正仓，平仓反开\n",
    "                pos_open_flag=0\n",
    "                neg_open_flag=1\n",
    "                cbond_position.loc[index,cbond_pair[0]] = neg_open_flag\n",
    "                cbond_position.loc[index,cbond_pair[1]] = -1*neg_open_flag\n",
    "            elif row['diff'] <= -1*open_threshold and pos_open_flag==0 and neg_open_flag==1:\n",
    "                #diff 落在E区间，且有负仓，keep\n",
    "                pos_open_flag=0\n",
    "                neg_open_flag=1\n",
    "                cbond_position.loc[index,cbond_pair[0]] = neg_open_flag\n",
    "                cbond_position.loc[index,cbond_pair[1]] = -1*neg_open_flag\n",
    "\n",
    "            if index.time()==time(15,0,0): # 每日收盘时必须平仓（时间止损信号）\n",
    "                pos_open_flag=0\n",
    "                neg_open_flag=0\n",
    "                cbond_position.loc[index,cbond_pair[0]] = pos_open_flag\n",
    "                cbond_position.loc[index,cbond_pair[1]] = pos_open_flag\n",
    "\n",
    "        ############################################################################################################################################\n",
    "\n",
    "        df_signal = pd.concat([cbond_pair_price,cbond_return,cbond_position],axis=1)\n",
    "        df_signal.columns = ['bond_price','stock_price','bond_rtn','stock_rtn','diff','bond_pos','stock_pos']\n",
    "        # df_signal\n",
    "        ############################################################################################################################################\n",
    "        # backtest\n",
    "        # 用来记录交易流水的表格,一边遍历df_signal，一边填入内容到流水表格里\n",
    "\n",
    "        import numpy as np\n",
    "        cols = ['balance','signal','bond price','stock price','bond hold','stock hold','commission','tax','reverse open','asset value']\n",
    "        df_trade = pd.DataFrame(\n",
    "            data = [[0,np.nan,np.nan,np.nan,0,0,0,0,np.nan,0]],\n",
    "            columns=cols\n",
    "            ) \n",
    "\n",
    "        balance_last = 0 # 现金账户初始余额\n",
    "\n",
    "        bond_hold = 0 # 债券持有数量\n",
    "        stock_hold = 0 # 股票持有数量\n",
    "\n",
    "        commission_rate = 2/10000 # 佣金买卖万二\n",
    "        tax_rate = 1/1000 #\n",
    "\n",
    "\n",
    "\n",
    "        for i in range(len(df_signal)-1):\n",
    "            if df_signal.values[i][-1] != df_signal.values[i+1][-1]:\n",
    "                index = df_signal.index[i+1]\n",
    "\n",
    "            # df_signal的columns\n",
    "            # ['bond_price','stock_price','bond_rtn','stock_rtn','diff','bond_pos','stock_pos']\n",
    "                signal = str(int(df_signal.values[i+1][-2]))+str(int(df_signal.values[i+1][-1]))\n",
    "                \n",
    "                bond_price = df_signal.values[i+1][0] \n",
    "\n",
    "                stock_price = df_signal.values[i+1][1]\n",
    "\n",
    "                commission = (bond_price + stock_price * stock_volume) * commission_rate\n",
    "\n",
    "                reverse_open = False #表明这笔交易，是否包含平仓后再反向开仓的操作\n",
    "\n",
    "                if signal == '00' and stock_hold == stock_volume: #有股票持仓并且需要卖出平仓时，有印花税\n",
    "                    tax = stock_price * tax_rate * stock_volume\n",
    "                else:\n",
    "                    tax = 0\n",
    "\n",
    "                if signal == '00':\n",
    "                    balance_last += bond_hold*bond_price\n",
    "                    balance_last += stock_hold*stock_price\n",
    "                    \n",
    "                    bond_hold = 0\n",
    "                    stock_hold = 0\n",
    "                    \n",
    "\n",
    "                if signal == '1-1':\n",
    "                    '''\n",
    "                    加一个检测之前持仓的模块,如果之前因为-11的信号有持仓,需要先平掉(即买债卖股票),同时再反向开仓\n",
    "                    '''\n",
    "                    reverse_flag = False\n",
    "                    if bond_hold == -1 and stock_hold == 1*stock_volume:\n",
    "                        bond_hold = 0\n",
    "                        stock_hold = 0\n",
    "                        balance_last -= bond_price \n",
    "                        balance_last += stock_price * stock_volume\n",
    "                        commission *= 2 # 因为平掉之后再反向开仓，手续费double\n",
    "                        tax = stock_price * tax_rate * stock_volume # 卖股票要收印花税\n",
    "                        reverse_flag = True\n",
    "                        reverse_open = True\n",
    "\n",
    "                    bond_hold += 1\n",
    "                    stock_hold += (-1 * stock_volume)\n",
    "                    # stock_hold += stock_volume\n",
    "                    balance_last -= bond_price\n",
    "                    balance_last += stock_price * stock_volume\n",
    "                    \n",
    "                    if reverse_flag:\n",
    "                        tax *= 2 #平仓然后反向开仓的时候 已经计算过tax了，直接double\n",
    "                    else:\n",
    "                        tax = stock_price * tax_rate * stock_volume # 卖股票要收印花税\n",
    "\n",
    "                if signal == '-11':\n",
    "                    '''\n",
    "                    加一个检测之前持仓的模块,如果之前因为1-1的信号有持仓,需要先平掉(卖债买股票),同时再反向开仓\n",
    "                    '''\n",
    "                    if bond_hold == 1 and stock_hold == -1*stock_volume:\n",
    "                        bond_hold = 0\n",
    "                        stock_hold = 0\n",
    "                        balance_last += bond_price\n",
    "                        balance_last -= stock_price * stock_volume\n",
    "                        commission *= 2 # 因为平掉之后再反向开仓，手续费double\n",
    "                                        # 买股票无印花税\n",
    "                        reverse_open = True\n",
    "                    bond_hold += -1\n",
    "                    stock_hold += (1 * stock_volume)\n",
    "                    # stock_hold += stock_volume\n",
    "                    balance_last += bond_price\n",
    "                    balance_last -= stock_price * stock_volume\n",
    "                \n",
    "                balance_last = balance_last - commission - tax\n",
    "                balance = balance_last\n",
    "                asset_value = bond_price*bond_hold + stock_price*stock_hold\n",
    "                line = [balance,signal,bond_price,stock_price,bond_hold,stock_hold,commission,tax,reverse_open,asset_value]\n",
    "                # df_trade.loc[index,['balance','asset','signal','bond price','stock price','commission','tax']] = line\n",
    "                # df_trade.loc[index,cols] = [0,0,np.nan,np.nan,np.nan,0,0,0,0]\n",
    "                df_trade.loc[index,cols] = line\n",
    "\n",
    "        ############################################################################################################################################\n",
    "        # 错误的net value计算方法\n",
    "        # df_trade['net value'] = df_trade['balance'] + \\\n",
    "        #                         df_trade['bond price']*df_trade['bond hold'] + \\\n",
    "        #                         df_trade['stock price']*df_trade['stock hold'] - \\\n",
    "        #                         df_trade['commission'] - \\\n",
    "        #                         df_trade['tax']\n",
    "        # 正确的net value计算方法\n",
    "        df_trade['net value'] = df_trade['balance'] + df_trade['asset value']\n",
    "        ############################################################################################################################################\n",
    "        #把交易序列单个时间节点的扩展到整个序列\n",
    "        # assert False\n",
    "        df_nv = df_trade[['net value']].iloc[1:]\n",
    "        df_nv['time'] = df_nv.index\n",
    "        df_tmp = df_signal[['diff']]\n",
    "        df_tmp['time'] = df_tmp.index\n",
    "        #  merge之后再前向往后fillna\n",
    "        df_nv_full =  pd.merge(df_nv,df_tmp,how='outer').sort_values(by='time').fillna(method='ffill').fillna(0)\n",
    "        df_nv_full.index = df_tmp.index\n",
    "        df_nv_full = df_nv_full[['net value']]\n",
    "\n",
    "        ############################################################################################################################################\n",
    "        df_trade_2 = df_trade.copy(deep=True)\n",
    "        df_trade_2 = df_trade_2.iloc[1:,:] #删掉df_trade原来构建时带有的空行\n",
    "        rounds = [] #只包含单个来回，每2条交易记录组成一个来回的组\n",
    "        reverse_rounds = [] # 包含多个来回，信号之间包含平仓同时反向开仓的组\n",
    "        # for i in range(len(df_trade)-1,0,-1):\n",
    "        for i in range(len(df_trade)-1,-1,-1):\n",
    "            if df_trade_2.iloc[i-1,:]['signal'] == '00':\n",
    "                round = df_trade_2.iloc[i:,:]\n",
    "                if len(round)>2:\n",
    "                    reverse_rounds.append(round)\n",
    "                elif len(round)==2:\n",
    "                    rounds.append(round)\n",
    "                df_trade_2 = df_trade_2.iloc[:i]\n",
    "        ############################################################################################################################################\n",
    "        #检查切片是否完全\n",
    "        clips_length = 0\n",
    "        for tmp_round in rounds:\n",
    "            clips_length += len(tmp_round)\n",
    "        for tmp_round in reverse_rounds:\n",
    "            clips_length += len(tmp_round)\n",
    "\n",
    "        ############################################################################################################################################\n",
    "        num_round = len(rounds)\n",
    "        for i in reverse_rounds:\n",
    "            num_round += len(i)-1\n",
    "\n",
    "        ############################################################################################################################################\n",
    "        # normal round stat\n",
    "        return_in_rounds = []\n",
    "        win = 0\n",
    "        lose = 0\n",
    "        win_profit = 0\n",
    "        lose_profit = 0\n",
    "        for i in rounds:\n",
    "            \n",
    "            tmp_profit = (i['net value'] - i['net value'].shift(1)).values[-1]\n",
    "            single_round_cost = (i['bond price'].sum() + (i['stock price']*stock_volume).sum())/4\n",
    "            \n",
    "            return_in_round = tmp_profit/single_round_cost\n",
    "            return_in_rounds.append(return_in_round)\n",
    "            \n",
    "            \n",
    "            if tmp_profit>0:\n",
    "                win += 1\n",
    "                win_profit += tmp_profit\n",
    "            else:\n",
    "                lose += 1\n",
    "                lose_profit += tmp_profit\n",
    "\n",
    "        ############################################################################################################################################\n",
    "        ''' \n",
    "        先把连续反向开仓的信号拆开\n",
    "        e.g.  1-1 -11 00 ---> 1-1 00 -11 00\n",
    "        '''\n",
    "\n",
    "        reverse_rounds_reconstruct = []\n",
    "        for reverse_round in reverse_rounds:\n",
    "            reverse_rounds0_reconstruct = []\n",
    "            for i in range(0,len(reverse_round)-1): #4-2\n",
    "\n",
    "                # tmp_cols = reverse_rounds[0].columns\n",
    "                # tmp_index = reverse_rounds[0].iloc[i,:].reset_index()\n",
    "                m = reverse_round.iloc[i,:].tolist()\n",
    "                n = reverse_round.iloc[i+1,:].tolist()\n",
    "                # reverse_rounds0_reconstruct.append(m)\n",
    "                tmp_balance = m[0] + n[2]*m[4] + n[3]*m[5] \n",
    "                tmp_commission = n[6]/2\n",
    "                tmp_tax = n[7]/2\n",
    "                tmp_nv =  tmp_balance - tmp_commission - tmp_tax\n",
    "                \n",
    "                insert_line  = [tmp_balance,'00',np.nan,np.nan,0,0,tmp_commission,tmp_tax,'-',tmp_nv]\n",
    "                reverse_rounds0_reconstruct.append(m)\n",
    "                reverse_rounds0_reconstruct.append(insert_line)\n",
    "            # reverse_rounds0_reconstruct.append(n)    \n",
    "            tmp_cols = reverse_round.columns\n",
    "            reverse_rounds0_reconstruct[-1] = reverse_round.iloc[-1,:].tolist()\n",
    "            tmp_round = pd.DataFrame(reverse_rounds0_reconstruct[:],columns=tmp_cols)\n",
    "            tmp_round\n",
    "            for index,row in tmp_round.iterrows():\n",
    "                if row['reverse open'] == True:\n",
    "                    tmp_round.loc[index,['commission','tax']] = tmp_round.loc[index,['commission','tax']]/2\n",
    "            tmp_round = tmp_round.fillna(method = 'bfill')\n",
    "            \n",
    "            tmp_round['new nv'] = tmp_round['balance'] + tmp_round['bond price']*tmp_round['bond hold'] + tmp_round['stock price']*tmp_round['stock hold'] - tmp_round['commission'] - tmp_round['tax']\n",
    "            reverse_rounds_reconstruct.append(tmp_round)\n",
    "\n",
    "        reverse_rounds_detail = []\n",
    "        for reverse_round in reverse_rounds_reconstruct:\n",
    "            # print(len(reverse_round))\n",
    "            for i in range(0,len(reverse_round)-1,2):\n",
    "                df_tmp = reverse_round.iloc[i:i+2,:]\n",
    "                reverse_rounds_detail.append(df_tmp)\n",
    "\n",
    "        ##########################################################################################################################################\n",
    "        # reverse round stat\n",
    "        # return_in_rounds = []\n",
    "        # win = 0\n",
    "        # lose = 0\n",
    "        # win_profit = 0\n",
    "        # lose_profit = 0\n",
    "        for i in reverse_rounds_detail:\n",
    "            \n",
    "            tmp_profit = (i['new nv'] - i['new nv'].shift(1)).values[-1]\n",
    "            single_round_cost = (i['bond price'].sum() + (i['stock price']*stock_volume).sum())/4\n",
    "            \n",
    "            return_in_round = tmp_profit/single_round_cost\n",
    "            return_in_rounds.append(return_in_round)\n",
    "            \n",
    "            \n",
    "            if tmp_profit>0:\n",
    "                win += 1\n",
    "                win_profit += tmp_profit\n",
    "            else:\n",
    "                lose += 1\n",
    "                lose_profit += tmp_profit\n",
    "\n",
    "        ############################################################################################################################################\n",
    "        # close by time&signal stat\n",
    "        close_by_time = 0\n",
    "        close_by_time_win = 0\n",
    "        close_by_time_lose = 0\n",
    "\n",
    "        close_by_signal = 0\n",
    "        close_by_signal_win = 0\n",
    "        close_by_signal_lose = 0\n",
    "\n",
    "        for tmp_round in rounds:\n",
    "            tmp_profit = tmp_round['net value'].tolist()[1] - tmp_round['net value'].tolist()[0]\n",
    "            if tmp_round.index[1].time() == time(15,0,0):\n",
    "                close_by_time += 1\n",
    "                if tmp_profit > 0:\n",
    "                    close_by_time_win += 1\n",
    "                else:\n",
    "                    close_by_time_lose += 1\n",
    "            else:\n",
    "                close_by_signal += 1\n",
    "                if tmp_profit > 0:\n",
    "                    close_by_signal_win += 1\n",
    "                else:\n",
    "                    close_by_signal_lose += 1\n",
    "\n",
    "\n",
    "        ############################################################################################################################################\n",
    "\n",
    "        for tmp_round in reverse_rounds_detail: #统计reverse_rounds_detail的时候，所有round都当做是close by signal的\n",
    "            tmp_profit = tmp_round['new nv'].tolist()[1] - tmp_round['new nv'].tolist()[0]  \n",
    "            close_by_signal += 1\n",
    "            if tmp_profit > 0:\n",
    "                close_by_signal_win += 1\n",
    "            else:\n",
    "                close_by_signal_lose += 1\n",
    "\n",
    "        for i in range(len(reverse_rounds)-1):\n",
    "            if reverse_rounds[i].index[-1].time()==time(15,0,0):\n",
    "                close_by_time += 1\n",
    "                close_by_signal -= 1\n",
    "                tmp_profit = reverse_rounds_reconstruct[i]['new nv'].tolist()[-1] - reverse_rounds_reconstruct[i]['new nv'].tolist()[-2]\n",
    "                if tmp_profit > 0:\n",
    "                    close_by_time_win += 1\n",
    "                    close_by_signal_win -= 1\n",
    "                else:\n",
    "                    close_by_time_lose += 1\n",
    "                    close_by_signal_lose -= 1      \n",
    "\n",
    "\n",
    "        ############################################################################################################################################\n",
    "        # final performance\n",
    "        win_rate = win/(win+lose)\n",
    "        win_profit_avg = win_profit/win\n",
    "        lose_profit_avg = lose_profit/lose\n",
    "        profit_ratio = win_profit_avg/abs(lose_profit_avg)\n",
    "\n",
    "        total_round = win + lose \n",
    "\n",
    "        trade_days = len(df_nv_full.resample('D').last().dropna()) -1 \n",
    "        round_per_day = total_round/trade_days\n",
    "        return_per_round = sum(return_in_rounds)/len(return_in_rounds)\n",
    "\n",
    "\n",
    "        ############################################################################################################################################\n",
    "        df_res = pd.DataFrame(data = [[np.nan]*20],\n",
    "            columns=['cbond pair','convert price','win','lose','win profit','lose profit',\n",
    "            'sum of win&lose profit','final net value','win rate',\n",
    "            'profit ratio','trade days','total round','avg round in a day','return per round',\n",
    "            'close by time','close by time win','close by time lose',\n",
    "            'close by signal','close by signal win','close by signal lose'])\n",
    "\n",
    "        tmp_idx = str(df_trade.index[1]) + ' -> ' + str(df_trade.index[-1])\n",
    "        tmp_line = [cbond_pair,convert_price,win,lose,win_profit,lose_profit,\n",
    "                    win_profit+lose_profit,df_trade['net value'].values[-1],win_rate,\n",
    "                    profit_ratio,trade_days,total_round,round_per_day,return_per_round,\n",
    "                    close_by_time,close_by_time_win,close_by_time_lose,\n",
    "                    close_by_signal,close_by_signal_win,close_by_signal_lose]\n",
    "\n",
    "        df_res.loc[tmp_idx,df_res.columns] = tmp_line\n",
    "        df_res = df_res.dropna()\n",
    "        df_res\n",
    "        ############################################################################################################################################\n",
    "        # df_res = pd.DataFrame(data = [[np.nan]*20],\n",
    "        #     columns=['cbond pair','convert price','win','lose','win profit','lose profit',\n",
    "        #     'sum of win&lose profit','final net value','win rate',\n",
    "        #     'profit ratio','trade days','total round','avg round in a day','return per round',\n",
    "        #     'close by time','close by time win','close by time lose',\n",
    "        #     'close by signal','close by signal win','close by signal lose'])\n",
    "\n",
    "        # tmp_idx = str(df_trade.index[1]) + ' -> ' + str(df_trade.index[-1])\n",
    "        # tmp_line = [cbond_pair,convert_price,win,lose,win_profit,lose_profit,\n",
    "        #             win_profit+lose_profit,df_trade['net value'].values[-1],win_rate,\n",
    "        #             profit_ratio,trade_days,total_round,round_per_day,return_per_round,\n",
    "        #             close_by_time,close_by_time_win,close_by_time_lose,\n",
    "        #             close_by_signal,close_by_signal_win,close_by_signal_lose]\n",
    "\n",
    "        # df_res.loc[tmp_idx,df_res.columns] = tmp_line\n",
    "        # df_res = df_res.dropna()\n",
    "        df_res['open threshold'] = open_threshold\n",
    "        df_res['close threshold'] = close_threshold\n",
    "\n",
    "        tmp_key = str(open_threshold) +'@'+ str(close_threshold)\n",
    "        grid_search_res[tmp_key] = df_res\n",
    "        signal_res[tmp_key] = df_signal \n",
    "        trade_res[tmp_key] = df_trade\n",
    "        print(tmp_key)"
   ]
  },
  {
   "cell_type": "code",
   "execution_count": 8,
   "metadata": {},
   "outputs": [],
   "source": [
    "# print(len(rounds))\n",
    "# print(len(df_trade))\n",
    "# rounds[0]"
   ]
  },
  {
   "cell_type": "code",
   "execution_count": 9,
   "metadata": {},
   "outputs": [],
   "source": [
    "# df_trade"
   ]
  },
  {
   "cell_type": "code",
   "execution_count": 10,
   "metadata": {},
   "outputs": [],
   "source": [
    "df_grid_search_res =  pd.concat(list(grid_search_res.values()),axis=0)"
   ]
  },
  {
   "cell_type": "code",
   "execution_count": 11,
   "metadata": {},
   "outputs": [
    {
     "data": {
      "text/plain": [
       "Index(['cbond pair', 'convert price', 'win', 'lose', 'win profit',\n",
       "       'lose profit', 'sum of win&lose profit', 'final net value', 'win rate',\n",
       "       'profit ratio', 'trade days', 'total round', 'avg round in a day',\n",
       "       'return per round', 'close by time', 'close by time win',\n",
       "       'close by time lose', 'close by signal', 'close by signal win',\n",
       "       'close by signal lose', 'open threshold', 'close threshold'],\n",
       "      dtype='object')"
      ]
     },
     "execution_count": 11,
     "metadata": {},
     "output_type": "execute_result"
    }
   ],
   "source": [
    "df_grid_search_res.columns"
   ]
  },
  {
   "cell_type": "code",
   "execution_count": 12,
   "metadata": {},
   "outputs": [
    {
     "data": {
      "text/html": [
       "<div>\n",
       "<style scoped>\n",
       "    .dataframe tbody tr th:only-of-type {\n",
       "        vertical-align: middle;\n",
       "    }\n",
       "\n",
       "    .dataframe tbody tr th {\n",
       "        vertical-align: top;\n",
       "    }\n",
       "\n",
       "    .dataframe thead th {\n",
       "        text-align: right;\n",
       "    }\n",
       "</style>\n",
       "<table border=\"1\" class=\"dataframe\">\n",
       "  <thead>\n",
       "    <tr style=\"text-align: right;\">\n",
       "      <th></th>\n",
       "      <th>win</th>\n",
       "      <th>lose</th>\n",
       "      <th>total round</th>\n",
       "      <th>close by time</th>\n",
       "      <th>close by signal</th>\n",
       "      <th>close by time win</th>\n",
       "      <th>close by time lose</th>\n",
       "      <th>close by signal win</th>\n",
       "      <th>close by signal lose</th>\n",
       "      <th>open threshold</th>\n",
       "      <th>close threshold</th>\n",
       "    </tr>\n",
       "  </thead>\n",
       "  <tbody>\n",
       "    <tr>\n",
       "      <th>2021-12-14 09:30:00 -&gt; 2022-03-23 15:00:00</th>\n",
       "      <td>179.0</td>\n",
       "      <td>47.0</td>\n",
       "      <td>226.0</td>\n",
       "      <td>57.0</td>\n",
       "      <td>169.0</td>\n",
       "      <td>11.0</td>\n",
       "      <td>46.0</td>\n",
       "      <td>168.0</td>\n",
       "      <td>1.0</td>\n",
       "      <td>0.005</td>\n",
       "      <td>0.000</td>\n",
       "    </tr>\n",
       "    <tr>\n",
       "      <th>2021-12-14 09:30:00 -&gt; 2022-03-23 15:00:00</th>\n",
       "      <td>207.0</td>\n",
       "      <td>48.0</td>\n",
       "      <td>255.0</td>\n",
       "      <td>56.0</td>\n",
       "      <td>199.0</td>\n",
       "      <td>10.0</td>\n",
       "      <td>46.0</td>\n",
       "      <td>197.0</td>\n",
       "      <td>2.0</td>\n",
       "      <td>0.005</td>\n",
       "      <td>0.001</td>\n",
       "    </tr>\n",
       "    <tr>\n",
       "      <th>2021-12-14 09:30:00 -&gt; 2022-03-23 15:00:00</th>\n",
       "      <td>262.0</td>\n",
       "      <td>49.0</td>\n",
       "      <td>311.0</td>\n",
       "      <td>56.0</td>\n",
       "      <td>255.0</td>\n",
       "      <td>9.0</td>\n",
       "      <td>47.0</td>\n",
       "      <td>253.0</td>\n",
       "      <td>2.0</td>\n",
       "      <td>0.005</td>\n",
       "      <td>0.002</td>\n",
       "    </tr>\n",
       "    <tr>\n",
       "      <th>2021-12-14 09:30:00 -&gt; 2022-03-23 15:00:00</th>\n",
       "      <td>329.0</td>\n",
       "      <td>49.0</td>\n",
       "      <td>378.0</td>\n",
       "      <td>53.0</td>\n",
       "      <td>325.0</td>\n",
       "      <td>7.0</td>\n",
       "      <td>46.0</td>\n",
       "      <td>322.0</td>\n",
       "      <td>3.0</td>\n",
       "      <td>0.005</td>\n",
       "      <td>0.003</td>\n",
       "    </tr>\n",
       "    <tr>\n",
       "      <th>2021-12-14 09:32:00 -&gt; 2022-03-23 15:00:00</th>\n",
       "      <td>148.0</td>\n",
       "      <td>41.0</td>\n",
       "      <td>189.0</td>\n",
       "      <td>55.0</td>\n",
       "      <td>134.0</td>\n",
       "      <td>15.0</td>\n",
       "      <td>40.0</td>\n",
       "      <td>133.0</td>\n",
       "      <td>1.0</td>\n",
       "      <td>0.006</td>\n",
       "      <td>0.000</td>\n",
       "    </tr>\n",
       "    <tr>\n",
       "      <th>2021-12-14 09:32:00 -&gt; 2022-03-23 15:00:00</th>\n",
       "      <td>165.0</td>\n",
       "      <td>42.0</td>\n",
       "      <td>207.0</td>\n",
       "      <td>53.0</td>\n",
       "      <td>154.0</td>\n",
       "      <td>13.0</td>\n",
       "      <td>40.0</td>\n",
       "      <td>152.0</td>\n",
       "      <td>2.0</td>\n",
       "      <td>0.006</td>\n",
       "      <td>0.001</td>\n",
       "    </tr>\n",
       "    <tr>\n",
       "      <th>2021-12-14 09:32:00 -&gt; 2022-03-23 15:00:00</th>\n",
       "      <td>196.0</td>\n",
       "      <td>44.0</td>\n",
       "      <td>240.0</td>\n",
       "      <td>53.0</td>\n",
       "      <td>187.0</td>\n",
       "      <td>11.0</td>\n",
       "      <td>42.0</td>\n",
       "      <td>185.0</td>\n",
       "      <td>2.0</td>\n",
       "      <td>0.006</td>\n",
       "      <td>0.002</td>\n",
       "    </tr>\n",
       "    <tr>\n",
       "      <th>2021-12-14 09:32:00 -&gt; 2022-03-23 15:00:00</th>\n",
       "      <td>235.0</td>\n",
       "      <td>44.0</td>\n",
       "      <td>279.0</td>\n",
       "      <td>50.0</td>\n",
       "      <td>229.0</td>\n",
       "      <td>8.0</td>\n",
       "      <td>42.0</td>\n",
       "      <td>227.0</td>\n",
       "      <td>2.0</td>\n",
       "      <td>0.006</td>\n",
       "      <td>0.003</td>\n",
       "    </tr>\n",
       "    <tr>\n",
       "      <th>2021-12-14 10:33:00 -&gt; 2022-03-23 15:00:00</th>\n",
       "      <td>107.0</td>\n",
       "      <td>41.0</td>\n",
       "      <td>148.0</td>\n",
       "      <td>52.0</td>\n",
       "      <td>96.0</td>\n",
       "      <td>12.0</td>\n",
       "      <td>40.0</td>\n",
       "      <td>95.0</td>\n",
       "      <td>1.0</td>\n",
       "      <td>0.007</td>\n",
       "      <td>0.000</td>\n",
       "    </tr>\n",
       "    <tr>\n",
       "      <th>2021-12-14 10:33:00 -&gt; 2022-03-23 15:00:00</th>\n",
       "      <td>119.0</td>\n",
       "      <td>42.0</td>\n",
       "      <td>161.0</td>\n",
       "      <td>50.0</td>\n",
       "      <td>111.0</td>\n",
       "      <td>10.0</td>\n",
       "      <td>40.0</td>\n",
       "      <td>109.0</td>\n",
       "      <td>2.0</td>\n",
       "      <td>0.007</td>\n",
       "      <td>0.001</td>\n",
       "    </tr>\n",
       "    <tr>\n",
       "      <th>2021-12-14 10:33:00 -&gt; 2022-03-23 15:00:00</th>\n",
       "      <td>135.0</td>\n",
       "      <td>41.0</td>\n",
       "      <td>176.0</td>\n",
       "      <td>49.0</td>\n",
       "      <td>127.0</td>\n",
       "      <td>10.0</td>\n",
       "      <td>39.0</td>\n",
       "      <td>125.0</td>\n",
       "      <td>2.0</td>\n",
       "      <td>0.007</td>\n",
       "      <td>0.002</td>\n",
       "    </tr>\n",
       "    <tr>\n",
       "      <th>2021-12-14 10:33:00 -&gt; 2022-03-23 15:00:00</th>\n",
       "      <td>159.0</td>\n",
       "      <td>40.0</td>\n",
       "      <td>199.0</td>\n",
       "      <td>48.0</td>\n",
       "      <td>151.0</td>\n",
       "      <td>10.0</td>\n",
       "      <td>38.0</td>\n",
       "      <td>149.0</td>\n",
       "      <td>2.0</td>\n",
       "      <td>0.007</td>\n",
       "      <td>0.003</td>\n",
       "    </tr>\n",
       "    <tr>\n",
       "      <th>2021-12-14 10:34:00 -&gt; 2022-03-23 15:00:00</th>\n",
       "      <td>87.0</td>\n",
       "      <td>40.0</td>\n",
       "      <td>127.0</td>\n",
       "      <td>50.0</td>\n",
       "      <td>77.0</td>\n",
       "      <td>10.0</td>\n",
       "      <td>40.0</td>\n",
       "      <td>77.0</td>\n",
       "      <td>0.0</td>\n",
       "      <td>0.008</td>\n",
       "      <td>0.000</td>\n",
       "    </tr>\n",
       "    <tr>\n",
       "      <th>2021-12-14 10:34:00 -&gt; 2022-03-23 15:00:00</th>\n",
       "      <td>96.0</td>\n",
       "      <td>40.0</td>\n",
       "      <td>136.0</td>\n",
       "      <td>49.0</td>\n",
       "      <td>87.0</td>\n",
       "      <td>9.0</td>\n",
       "      <td>40.0</td>\n",
       "      <td>87.0</td>\n",
       "      <td>0.0</td>\n",
       "      <td>0.008</td>\n",
       "      <td>0.001</td>\n",
       "    </tr>\n",
       "    <tr>\n",
       "      <th>2021-12-14 10:34:00 -&gt; 2022-03-23 15:00:00</th>\n",
       "      <td>105.0</td>\n",
       "      <td>38.0</td>\n",
       "      <td>143.0</td>\n",
       "      <td>46.0</td>\n",
       "      <td>97.0</td>\n",
       "      <td>8.0</td>\n",
       "      <td>38.0</td>\n",
       "      <td>97.0</td>\n",
       "      <td>0.0</td>\n",
       "      <td>0.008</td>\n",
       "      <td>0.002</td>\n",
       "    </tr>\n",
       "    <tr>\n",
       "      <th>2021-12-14 10:34:00 -&gt; 2022-03-23 15:00:00</th>\n",
       "      <td>122.0</td>\n",
       "      <td>37.0</td>\n",
       "      <td>159.0</td>\n",
       "      <td>45.0</td>\n",
       "      <td>114.0</td>\n",
       "      <td>8.0</td>\n",
       "      <td>37.0</td>\n",
       "      <td>114.0</td>\n",
       "      <td>0.0</td>\n",
       "      <td>0.008</td>\n",
       "      <td>0.003</td>\n",
       "    </tr>\n",
       "    <tr>\n",
       "      <th>2021-12-14 10:34:00 -&gt; 2022-03-23 15:00:00</th>\n",
       "      <td>76.0</td>\n",
       "      <td>35.0</td>\n",
       "      <td>111.0</td>\n",
       "      <td>48.0</td>\n",
       "      <td>63.0</td>\n",
       "      <td>13.0</td>\n",
       "      <td>35.0</td>\n",
       "      <td>63.0</td>\n",
       "      <td>0.0</td>\n",
       "      <td>0.009</td>\n",
       "      <td>0.000</td>\n",
       "    </tr>\n",
       "    <tr>\n",
       "      <th>2021-12-14 10:34:00 -&gt; 2022-03-23 15:00:00</th>\n",
       "      <td>84.0</td>\n",
       "      <td>35.0</td>\n",
       "      <td>119.0</td>\n",
       "      <td>47.0</td>\n",
       "      <td>72.0</td>\n",
       "      <td>12.0</td>\n",
       "      <td>35.0</td>\n",
       "      <td>72.0</td>\n",
       "      <td>0.0</td>\n",
       "      <td>0.009</td>\n",
       "      <td>0.001</td>\n",
       "    </tr>\n",
       "    <tr>\n",
       "      <th>2021-12-14 10:34:00 -&gt; 2022-03-23 15:00:00</th>\n",
       "      <td>89.0</td>\n",
       "      <td>35.0</td>\n",
       "      <td>124.0</td>\n",
       "      <td>45.0</td>\n",
       "      <td>79.0</td>\n",
       "      <td>10.0</td>\n",
       "      <td>35.0</td>\n",
       "      <td>79.0</td>\n",
       "      <td>0.0</td>\n",
       "      <td>0.009</td>\n",
       "      <td>0.002</td>\n",
       "    </tr>\n",
       "    <tr>\n",
       "      <th>2021-12-14 10:34:00 -&gt; 2022-03-23 15:00:00</th>\n",
       "      <td>103.0</td>\n",
       "      <td>34.0</td>\n",
       "      <td>137.0</td>\n",
       "      <td>44.0</td>\n",
       "      <td>93.0</td>\n",
       "      <td>10.0</td>\n",
       "      <td>34.0</td>\n",
       "      <td>93.0</td>\n",
       "      <td>0.0</td>\n",
       "      <td>0.009</td>\n",
       "      <td>0.003</td>\n",
       "    </tr>\n",
       "    <tr>\n",
       "      <th>2021-12-14 10:36:00 -&gt; 2022-03-23 15:00:00</th>\n",
       "      <td>70.0</td>\n",
       "      <td>32.0</td>\n",
       "      <td>102.0</td>\n",
       "      <td>46.0</td>\n",
       "      <td>56.0</td>\n",
       "      <td>14.0</td>\n",
       "      <td>32.0</td>\n",
       "      <td>56.0</td>\n",
       "      <td>0.0</td>\n",
       "      <td>0.010</td>\n",
       "      <td>0.000</td>\n",
       "    </tr>\n",
       "    <tr>\n",
       "      <th>2021-12-14 10:36:00 -&gt; 2022-03-23 15:00:00</th>\n",
       "      <td>73.0</td>\n",
       "      <td>32.0</td>\n",
       "      <td>105.0</td>\n",
       "      <td>45.0</td>\n",
       "      <td>60.0</td>\n",
       "      <td>13.0</td>\n",
       "      <td>32.0</td>\n",
       "      <td>60.0</td>\n",
       "      <td>0.0</td>\n",
       "      <td>0.010</td>\n",
       "      <td>0.001</td>\n",
       "    </tr>\n",
       "    <tr>\n",
       "      <th>2021-12-14 10:36:00 -&gt; 2022-03-23 15:00:00</th>\n",
       "      <td>77.0</td>\n",
       "      <td>32.0</td>\n",
       "      <td>109.0</td>\n",
       "      <td>43.0</td>\n",
       "      <td>66.0</td>\n",
       "      <td>11.0</td>\n",
       "      <td>32.0</td>\n",
       "      <td>66.0</td>\n",
       "      <td>0.0</td>\n",
       "      <td>0.010</td>\n",
       "      <td>0.002</td>\n",
       "    </tr>\n",
       "    <tr>\n",
       "      <th>2021-12-14 10:36:00 -&gt; 2022-03-23 15:00:00</th>\n",
       "      <td>83.0</td>\n",
       "      <td>32.0</td>\n",
       "      <td>115.0</td>\n",
       "      <td>43.0</td>\n",
       "      <td>72.0</td>\n",
       "      <td>11.0</td>\n",
       "      <td>32.0</td>\n",
       "      <td>72.0</td>\n",
       "      <td>0.0</td>\n",
       "      <td>0.010</td>\n",
       "      <td>0.003</td>\n",
       "    </tr>\n",
       "    <tr>\n",
       "      <th>2021-12-14 10:36:00 -&gt; 2022-03-23 15:00:00</th>\n",
       "      <td>58.0</td>\n",
       "      <td>30.0</td>\n",
       "      <td>88.0</td>\n",
       "      <td>43.0</td>\n",
       "      <td>45.0</td>\n",
       "      <td>13.0</td>\n",
       "      <td>30.0</td>\n",
       "      <td>45.0</td>\n",
       "      <td>0.0</td>\n",
       "      <td>0.011</td>\n",
       "      <td>0.000</td>\n",
       "    </tr>\n",
       "    <tr>\n",
       "      <th>2021-12-14 10:36:00 -&gt; 2022-03-23 15:00:00</th>\n",
       "      <td>60.0</td>\n",
       "      <td>30.0</td>\n",
       "      <td>90.0</td>\n",
       "      <td>42.0</td>\n",
       "      <td>48.0</td>\n",
       "      <td>12.0</td>\n",
       "      <td>30.0</td>\n",
       "      <td>48.0</td>\n",
       "      <td>0.0</td>\n",
       "      <td>0.011</td>\n",
       "      <td>0.001</td>\n",
       "    </tr>\n",
       "    <tr>\n",
       "      <th>2021-12-14 10:36:00 -&gt; 2022-03-23 15:00:00</th>\n",
       "      <td>63.0</td>\n",
       "      <td>31.0</td>\n",
       "      <td>94.0</td>\n",
       "      <td>41.0</td>\n",
       "      <td>53.0</td>\n",
       "      <td>10.0</td>\n",
       "      <td>31.0</td>\n",
       "      <td>53.0</td>\n",
       "      <td>0.0</td>\n",
       "      <td>0.011</td>\n",
       "      <td>0.002</td>\n",
       "    </tr>\n",
       "    <tr>\n",
       "      <th>2021-12-14 10:36:00 -&gt; 2022-03-23 15:00:00</th>\n",
       "      <td>67.0</td>\n",
       "      <td>32.0</td>\n",
       "      <td>99.0</td>\n",
       "      <td>41.0</td>\n",
       "      <td>58.0</td>\n",
       "      <td>9.0</td>\n",
       "      <td>32.0</td>\n",
       "      <td>58.0</td>\n",
       "      <td>0.0</td>\n",
       "      <td>0.011</td>\n",
       "      <td>0.003</td>\n",
       "    </tr>\n",
       "    <tr>\n",
       "      <th>2021-12-14 10:37:00 -&gt; 2022-03-23 15:00:00</th>\n",
       "      <td>51.0</td>\n",
       "      <td>26.0</td>\n",
       "      <td>77.0</td>\n",
       "      <td>38.0</td>\n",
       "      <td>39.0</td>\n",
       "      <td>12.0</td>\n",
       "      <td>26.0</td>\n",
       "      <td>39.0</td>\n",
       "      <td>0.0</td>\n",
       "      <td>0.012</td>\n",
       "      <td>0.000</td>\n",
       "    </tr>\n",
       "    <tr>\n",
       "      <th>2021-12-14 10:37:00 -&gt; 2022-03-23 15:00:00</th>\n",
       "      <td>53.0</td>\n",
       "      <td>26.0</td>\n",
       "      <td>79.0</td>\n",
       "      <td>37.0</td>\n",
       "      <td>42.0</td>\n",
       "      <td>11.0</td>\n",
       "      <td>26.0</td>\n",
       "      <td>42.0</td>\n",
       "      <td>0.0</td>\n",
       "      <td>0.012</td>\n",
       "      <td>0.001</td>\n",
       "    </tr>\n",
       "    <tr>\n",
       "      <th>2021-12-14 10:37:00 -&gt; 2022-03-23 15:00:00</th>\n",
       "      <td>56.0</td>\n",
       "      <td>26.0</td>\n",
       "      <td>82.0</td>\n",
       "      <td>36.0</td>\n",
       "      <td>46.0</td>\n",
       "      <td>10.0</td>\n",
       "      <td>26.0</td>\n",
       "      <td>46.0</td>\n",
       "      <td>0.0</td>\n",
       "      <td>0.012</td>\n",
       "      <td>0.002</td>\n",
       "    </tr>\n",
       "    <tr>\n",
       "      <th>2021-12-14 10:37:00 -&gt; 2022-03-23 15:00:00</th>\n",
       "      <td>59.0</td>\n",
       "      <td>27.0</td>\n",
       "      <td>86.0</td>\n",
       "      <td>36.0</td>\n",
       "      <td>50.0</td>\n",
       "      <td>9.0</td>\n",
       "      <td>27.0</td>\n",
       "      <td>50.0</td>\n",
       "      <td>0.0</td>\n",
       "      <td>0.012</td>\n",
       "      <td>0.003</td>\n",
       "    </tr>\n",
       "    <tr>\n",
       "      <th>2021-12-14 11:09:00 -&gt; 2022-03-23 15:00:00</th>\n",
       "      <td>46.0</td>\n",
       "      <td>24.0</td>\n",
       "      <td>70.0</td>\n",
       "      <td>37.0</td>\n",
       "      <td>33.0</td>\n",
       "      <td>13.0</td>\n",
       "      <td>24.0</td>\n",
       "      <td>33.0</td>\n",
       "      <td>0.0</td>\n",
       "      <td>0.013</td>\n",
       "      <td>0.000</td>\n",
       "    </tr>\n",
       "    <tr>\n",
       "      <th>2021-12-14 11:09:00 -&gt; 2022-03-23 15:00:00</th>\n",
       "      <td>47.0</td>\n",
       "      <td>24.0</td>\n",
       "      <td>71.0</td>\n",
       "      <td>36.0</td>\n",
       "      <td>35.0</td>\n",
       "      <td>12.0</td>\n",
       "      <td>24.0</td>\n",
       "      <td>35.0</td>\n",
       "      <td>0.0</td>\n",
       "      <td>0.013</td>\n",
       "      <td>0.001</td>\n",
       "    </tr>\n",
       "    <tr>\n",
       "      <th>2021-12-14 11:09:00 -&gt; 2022-03-23 15:00:00</th>\n",
       "      <td>50.0</td>\n",
       "      <td>24.0</td>\n",
       "      <td>74.0</td>\n",
       "      <td>35.0</td>\n",
       "      <td>39.0</td>\n",
       "      <td>11.0</td>\n",
       "      <td>24.0</td>\n",
       "      <td>39.0</td>\n",
       "      <td>0.0</td>\n",
       "      <td>0.013</td>\n",
       "      <td>0.002</td>\n",
       "    </tr>\n",
       "    <tr>\n",
       "      <th>2021-12-14 11:09:00 -&gt; 2022-03-23 15:00:00</th>\n",
       "      <td>53.0</td>\n",
       "      <td>24.0</td>\n",
       "      <td>77.0</td>\n",
       "      <td>35.0</td>\n",
       "      <td>42.0</td>\n",
       "      <td>11.0</td>\n",
       "      <td>24.0</td>\n",
       "      <td>42.0</td>\n",
       "      <td>0.0</td>\n",
       "      <td>0.013</td>\n",
       "      <td>0.003</td>\n",
       "    </tr>\n",
       "    <tr>\n",
       "      <th>2021-12-14 11:14:00 -&gt; 2022-03-23 15:00:00</th>\n",
       "      <td>39.0</td>\n",
       "      <td>23.0</td>\n",
       "      <td>62.0</td>\n",
       "      <td>36.0</td>\n",
       "      <td>26.0</td>\n",
       "      <td>13.0</td>\n",
       "      <td>23.0</td>\n",
       "      <td>26.0</td>\n",
       "      <td>0.0</td>\n",
       "      <td>0.014</td>\n",
       "      <td>0.000</td>\n",
       "    </tr>\n",
       "    <tr>\n",
       "      <th>2021-12-14 11:14:00 -&gt; 2022-03-23 15:00:00</th>\n",
       "      <td>40.0</td>\n",
       "      <td>23.0</td>\n",
       "      <td>63.0</td>\n",
       "      <td>36.0</td>\n",
       "      <td>27.0</td>\n",
       "      <td>13.0</td>\n",
       "      <td>23.0</td>\n",
       "      <td>27.0</td>\n",
       "      <td>0.0</td>\n",
       "      <td>0.014</td>\n",
       "      <td>0.001</td>\n",
       "    </tr>\n",
       "    <tr>\n",
       "      <th>2021-12-14 11:14:00 -&gt; 2022-03-23 15:00:00</th>\n",
       "      <td>44.0</td>\n",
       "      <td>22.0</td>\n",
       "      <td>66.0</td>\n",
       "      <td>35.0</td>\n",
       "      <td>31.0</td>\n",
       "      <td>13.0</td>\n",
       "      <td>22.0</td>\n",
       "      <td>31.0</td>\n",
       "      <td>0.0</td>\n",
       "      <td>0.014</td>\n",
       "      <td>0.002</td>\n",
       "    </tr>\n",
       "    <tr>\n",
       "      <th>2021-12-14 11:14:00 -&gt; 2022-03-23 15:00:00</th>\n",
       "      <td>47.0</td>\n",
       "      <td>22.0</td>\n",
       "      <td>69.0</td>\n",
       "      <td>35.0</td>\n",
       "      <td>34.0</td>\n",
       "      <td>13.0</td>\n",
       "      <td>22.0</td>\n",
       "      <td>34.0</td>\n",
       "      <td>0.0</td>\n",
       "      <td>0.014</td>\n",
       "      <td>0.003</td>\n",
       "    </tr>\n",
       "    <tr>\n",
       "      <th>2021-12-14 11:15:00 -&gt; 2022-03-23 15:00:00</th>\n",
       "      <td>37.0</td>\n",
       "      <td>20.0</td>\n",
       "      <td>57.0</td>\n",
       "      <td>35.0</td>\n",
       "      <td>22.0</td>\n",
       "      <td>15.0</td>\n",
       "      <td>20.0</td>\n",
       "      <td>22.0</td>\n",
       "      <td>0.0</td>\n",
       "      <td>0.015</td>\n",
       "      <td>0.000</td>\n",
       "    </tr>\n",
       "    <tr>\n",
       "      <th>2021-12-14 11:15:00 -&gt; 2022-03-23 15:00:00</th>\n",
       "      <td>37.0</td>\n",
       "      <td>20.0</td>\n",
       "      <td>57.0</td>\n",
       "      <td>34.0</td>\n",
       "      <td>23.0</td>\n",
       "      <td>14.0</td>\n",
       "      <td>20.0</td>\n",
       "      <td>23.0</td>\n",
       "      <td>0.0</td>\n",
       "      <td>0.015</td>\n",
       "      <td>0.001</td>\n",
       "    </tr>\n",
       "    <tr>\n",
       "      <th>2021-12-14 11:15:00 -&gt; 2022-03-23 15:00:00</th>\n",
       "      <td>40.0</td>\n",
       "      <td>19.0</td>\n",
       "      <td>59.0</td>\n",
       "      <td>34.0</td>\n",
       "      <td>25.0</td>\n",
       "      <td>15.0</td>\n",
       "      <td>19.0</td>\n",
       "      <td>25.0</td>\n",
       "      <td>0.0</td>\n",
       "      <td>0.015</td>\n",
       "      <td>0.002</td>\n",
       "    </tr>\n",
       "    <tr>\n",
       "      <th>2021-12-14 11:15:00 -&gt; 2022-03-23 15:00:00</th>\n",
       "      <td>43.0</td>\n",
       "      <td>19.0</td>\n",
       "      <td>62.0</td>\n",
       "      <td>34.0</td>\n",
       "      <td>28.0</td>\n",
       "      <td>15.0</td>\n",
       "      <td>19.0</td>\n",
       "      <td>28.0</td>\n",
       "      <td>0.0</td>\n",
       "      <td>0.015</td>\n",
       "      <td>0.003</td>\n",
       "    </tr>\n",
       "  </tbody>\n",
       "</table>\n",
       "</div>"
      ],
      "text/plain": [
       "                                              win  lose  total round  \\\n",
       "2021-12-14 09:30:00 -> 2022-03-23 15:00:00  179.0  47.0        226.0   \n",
       "2021-12-14 09:30:00 -> 2022-03-23 15:00:00  207.0  48.0        255.0   \n",
       "2021-12-14 09:30:00 -> 2022-03-23 15:00:00  262.0  49.0        311.0   \n",
       "2021-12-14 09:30:00 -> 2022-03-23 15:00:00  329.0  49.0        378.0   \n",
       "2021-12-14 09:32:00 -> 2022-03-23 15:00:00  148.0  41.0        189.0   \n",
       "2021-12-14 09:32:00 -> 2022-03-23 15:00:00  165.0  42.0        207.0   \n",
       "2021-12-14 09:32:00 -> 2022-03-23 15:00:00  196.0  44.0        240.0   \n",
       "2021-12-14 09:32:00 -> 2022-03-23 15:00:00  235.0  44.0        279.0   \n",
       "2021-12-14 10:33:00 -> 2022-03-23 15:00:00  107.0  41.0        148.0   \n",
       "2021-12-14 10:33:00 -> 2022-03-23 15:00:00  119.0  42.0        161.0   \n",
       "2021-12-14 10:33:00 -> 2022-03-23 15:00:00  135.0  41.0        176.0   \n",
       "2021-12-14 10:33:00 -> 2022-03-23 15:00:00  159.0  40.0        199.0   \n",
       "2021-12-14 10:34:00 -> 2022-03-23 15:00:00   87.0  40.0        127.0   \n",
       "2021-12-14 10:34:00 -> 2022-03-23 15:00:00   96.0  40.0        136.0   \n",
       "2021-12-14 10:34:00 -> 2022-03-23 15:00:00  105.0  38.0        143.0   \n",
       "2021-12-14 10:34:00 -> 2022-03-23 15:00:00  122.0  37.0        159.0   \n",
       "2021-12-14 10:34:00 -> 2022-03-23 15:00:00   76.0  35.0        111.0   \n",
       "2021-12-14 10:34:00 -> 2022-03-23 15:00:00   84.0  35.0        119.0   \n",
       "2021-12-14 10:34:00 -> 2022-03-23 15:00:00   89.0  35.0        124.0   \n",
       "2021-12-14 10:34:00 -> 2022-03-23 15:00:00  103.0  34.0        137.0   \n",
       "2021-12-14 10:36:00 -> 2022-03-23 15:00:00   70.0  32.0        102.0   \n",
       "2021-12-14 10:36:00 -> 2022-03-23 15:00:00   73.0  32.0        105.0   \n",
       "2021-12-14 10:36:00 -> 2022-03-23 15:00:00   77.0  32.0        109.0   \n",
       "2021-12-14 10:36:00 -> 2022-03-23 15:00:00   83.0  32.0        115.0   \n",
       "2021-12-14 10:36:00 -> 2022-03-23 15:00:00   58.0  30.0         88.0   \n",
       "2021-12-14 10:36:00 -> 2022-03-23 15:00:00   60.0  30.0         90.0   \n",
       "2021-12-14 10:36:00 -> 2022-03-23 15:00:00   63.0  31.0         94.0   \n",
       "2021-12-14 10:36:00 -> 2022-03-23 15:00:00   67.0  32.0         99.0   \n",
       "2021-12-14 10:37:00 -> 2022-03-23 15:00:00   51.0  26.0         77.0   \n",
       "2021-12-14 10:37:00 -> 2022-03-23 15:00:00   53.0  26.0         79.0   \n",
       "2021-12-14 10:37:00 -> 2022-03-23 15:00:00   56.0  26.0         82.0   \n",
       "2021-12-14 10:37:00 -> 2022-03-23 15:00:00   59.0  27.0         86.0   \n",
       "2021-12-14 11:09:00 -> 2022-03-23 15:00:00   46.0  24.0         70.0   \n",
       "2021-12-14 11:09:00 -> 2022-03-23 15:00:00   47.0  24.0         71.0   \n",
       "2021-12-14 11:09:00 -> 2022-03-23 15:00:00   50.0  24.0         74.0   \n",
       "2021-12-14 11:09:00 -> 2022-03-23 15:00:00   53.0  24.0         77.0   \n",
       "2021-12-14 11:14:00 -> 2022-03-23 15:00:00   39.0  23.0         62.0   \n",
       "2021-12-14 11:14:00 -> 2022-03-23 15:00:00   40.0  23.0         63.0   \n",
       "2021-12-14 11:14:00 -> 2022-03-23 15:00:00   44.0  22.0         66.0   \n",
       "2021-12-14 11:14:00 -> 2022-03-23 15:00:00   47.0  22.0         69.0   \n",
       "2021-12-14 11:15:00 -> 2022-03-23 15:00:00   37.0  20.0         57.0   \n",
       "2021-12-14 11:15:00 -> 2022-03-23 15:00:00   37.0  20.0         57.0   \n",
       "2021-12-14 11:15:00 -> 2022-03-23 15:00:00   40.0  19.0         59.0   \n",
       "2021-12-14 11:15:00 -> 2022-03-23 15:00:00   43.0  19.0         62.0   \n",
       "\n",
       "                                            close by time  close by signal  \\\n",
       "2021-12-14 09:30:00 -> 2022-03-23 15:00:00           57.0            169.0   \n",
       "2021-12-14 09:30:00 -> 2022-03-23 15:00:00           56.0            199.0   \n",
       "2021-12-14 09:30:00 -> 2022-03-23 15:00:00           56.0            255.0   \n",
       "2021-12-14 09:30:00 -> 2022-03-23 15:00:00           53.0            325.0   \n",
       "2021-12-14 09:32:00 -> 2022-03-23 15:00:00           55.0            134.0   \n",
       "2021-12-14 09:32:00 -> 2022-03-23 15:00:00           53.0            154.0   \n",
       "2021-12-14 09:32:00 -> 2022-03-23 15:00:00           53.0            187.0   \n",
       "2021-12-14 09:32:00 -> 2022-03-23 15:00:00           50.0            229.0   \n",
       "2021-12-14 10:33:00 -> 2022-03-23 15:00:00           52.0             96.0   \n",
       "2021-12-14 10:33:00 -> 2022-03-23 15:00:00           50.0            111.0   \n",
       "2021-12-14 10:33:00 -> 2022-03-23 15:00:00           49.0            127.0   \n",
       "2021-12-14 10:33:00 -> 2022-03-23 15:00:00           48.0            151.0   \n",
       "2021-12-14 10:34:00 -> 2022-03-23 15:00:00           50.0             77.0   \n",
       "2021-12-14 10:34:00 -> 2022-03-23 15:00:00           49.0             87.0   \n",
       "2021-12-14 10:34:00 -> 2022-03-23 15:00:00           46.0             97.0   \n",
       "2021-12-14 10:34:00 -> 2022-03-23 15:00:00           45.0            114.0   \n",
       "2021-12-14 10:34:00 -> 2022-03-23 15:00:00           48.0             63.0   \n",
       "2021-12-14 10:34:00 -> 2022-03-23 15:00:00           47.0             72.0   \n",
       "2021-12-14 10:34:00 -> 2022-03-23 15:00:00           45.0             79.0   \n",
       "2021-12-14 10:34:00 -> 2022-03-23 15:00:00           44.0             93.0   \n",
       "2021-12-14 10:36:00 -> 2022-03-23 15:00:00           46.0             56.0   \n",
       "2021-12-14 10:36:00 -> 2022-03-23 15:00:00           45.0             60.0   \n",
       "2021-12-14 10:36:00 -> 2022-03-23 15:00:00           43.0             66.0   \n",
       "2021-12-14 10:36:00 -> 2022-03-23 15:00:00           43.0             72.0   \n",
       "2021-12-14 10:36:00 -> 2022-03-23 15:00:00           43.0             45.0   \n",
       "2021-12-14 10:36:00 -> 2022-03-23 15:00:00           42.0             48.0   \n",
       "2021-12-14 10:36:00 -> 2022-03-23 15:00:00           41.0             53.0   \n",
       "2021-12-14 10:36:00 -> 2022-03-23 15:00:00           41.0             58.0   \n",
       "2021-12-14 10:37:00 -> 2022-03-23 15:00:00           38.0             39.0   \n",
       "2021-12-14 10:37:00 -> 2022-03-23 15:00:00           37.0             42.0   \n",
       "2021-12-14 10:37:00 -> 2022-03-23 15:00:00           36.0             46.0   \n",
       "2021-12-14 10:37:00 -> 2022-03-23 15:00:00           36.0             50.0   \n",
       "2021-12-14 11:09:00 -> 2022-03-23 15:00:00           37.0             33.0   \n",
       "2021-12-14 11:09:00 -> 2022-03-23 15:00:00           36.0             35.0   \n",
       "2021-12-14 11:09:00 -> 2022-03-23 15:00:00           35.0             39.0   \n",
       "2021-12-14 11:09:00 -> 2022-03-23 15:00:00           35.0             42.0   \n",
       "2021-12-14 11:14:00 -> 2022-03-23 15:00:00           36.0             26.0   \n",
       "2021-12-14 11:14:00 -> 2022-03-23 15:00:00           36.0             27.0   \n",
       "2021-12-14 11:14:00 -> 2022-03-23 15:00:00           35.0             31.0   \n",
       "2021-12-14 11:14:00 -> 2022-03-23 15:00:00           35.0             34.0   \n",
       "2021-12-14 11:15:00 -> 2022-03-23 15:00:00           35.0             22.0   \n",
       "2021-12-14 11:15:00 -> 2022-03-23 15:00:00           34.0             23.0   \n",
       "2021-12-14 11:15:00 -> 2022-03-23 15:00:00           34.0             25.0   \n",
       "2021-12-14 11:15:00 -> 2022-03-23 15:00:00           34.0             28.0   \n",
       "\n",
       "                                            close by time win  \\\n",
       "2021-12-14 09:30:00 -> 2022-03-23 15:00:00               11.0   \n",
       "2021-12-14 09:30:00 -> 2022-03-23 15:00:00               10.0   \n",
       "2021-12-14 09:30:00 -> 2022-03-23 15:00:00                9.0   \n",
       "2021-12-14 09:30:00 -> 2022-03-23 15:00:00                7.0   \n",
       "2021-12-14 09:32:00 -> 2022-03-23 15:00:00               15.0   \n",
       "2021-12-14 09:32:00 -> 2022-03-23 15:00:00               13.0   \n",
       "2021-12-14 09:32:00 -> 2022-03-23 15:00:00               11.0   \n",
       "2021-12-14 09:32:00 -> 2022-03-23 15:00:00                8.0   \n",
       "2021-12-14 10:33:00 -> 2022-03-23 15:00:00               12.0   \n",
       "2021-12-14 10:33:00 -> 2022-03-23 15:00:00               10.0   \n",
       "2021-12-14 10:33:00 -> 2022-03-23 15:00:00               10.0   \n",
       "2021-12-14 10:33:00 -> 2022-03-23 15:00:00               10.0   \n",
       "2021-12-14 10:34:00 -> 2022-03-23 15:00:00               10.0   \n",
       "2021-12-14 10:34:00 -> 2022-03-23 15:00:00                9.0   \n",
       "2021-12-14 10:34:00 -> 2022-03-23 15:00:00                8.0   \n",
       "2021-12-14 10:34:00 -> 2022-03-23 15:00:00                8.0   \n",
       "2021-12-14 10:34:00 -> 2022-03-23 15:00:00               13.0   \n",
       "2021-12-14 10:34:00 -> 2022-03-23 15:00:00               12.0   \n",
       "2021-12-14 10:34:00 -> 2022-03-23 15:00:00               10.0   \n",
       "2021-12-14 10:34:00 -> 2022-03-23 15:00:00               10.0   \n",
       "2021-12-14 10:36:00 -> 2022-03-23 15:00:00               14.0   \n",
       "2021-12-14 10:36:00 -> 2022-03-23 15:00:00               13.0   \n",
       "2021-12-14 10:36:00 -> 2022-03-23 15:00:00               11.0   \n",
       "2021-12-14 10:36:00 -> 2022-03-23 15:00:00               11.0   \n",
       "2021-12-14 10:36:00 -> 2022-03-23 15:00:00               13.0   \n",
       "2021-12-14 10:36:00 -> 2022-03-23 15:00:00               12.0   \n",
       "2021-12-14 10:36:00 -> 2022-03-23 15:00:00               10.0   \n",
       "2021-12-14 10:36:00 -> 2022-03-23 15:00:00                9.0   \n",
       "2021-12-14 10:37:00 -> 2022-03-23 15:00:00               12.0   \n",
       "2021-12-14 10:37:00 -> 2022-03-23 15:00:00               11.0   \n",
       "2021-12-14 10:37:00 -> 2022-03-23 15:00:00               10.0   \n",
       "2021-12-14 10:37:00 -> 2022-03-23 15:00:00                9.0   \n",
       "2021-12-14 11:09:00 -> 2022-03-23 15:00:00               13.0   \n",
       "2021-12-14 11:09:00 -> 2022-03-23 15:00:00               12.0   \n",
       "2021-12-14 11:09:00 -> 2022-03-23 15:00:00               11.0   \n",
       "2021-12-14 11:09:00 -> 2022-03-23 15:00:00               11.0   \n",
       "2021-12-14 11:14:00 -> 2022-03-23 15:00:00               13.0   \n",
       "2021-12-14 11:14:00 -> 2022-03-23 15:00:00               13.0   \n",
       "2021-12-14 11:14:00 -> 2022-03-23 15:00:00               13.0   \n",
       "2021-12-14 11:14:00 -> 2022-03-23 15:00:00               13.0   \n",
       "2021-12-14 11:15:00 -> 2022-03-23 15:00:00               15.0   \n",
       "2021-12-14 11:15:00 -> 2022-03-23 15:00:00               14.0   \n",
       "2021-12-14 11:15:00 -> 2022-03-23 15:00:00               15.0   \n",
       "2021-12-14 11:15:00 -> 2022-03-23 15:00:00               15.0   \n",
       "\n",
       "                                            close by time lose  \\\n",
       "2021-12-14 09:30:00 -> 2022-03-23 15:00:00                46.0   \n",
       "2021-12-14 09:30:00 -> 2022-03-23 15:00:00                46.0   \n",
       "2021-12-14 09:30:00 -> 2022-03-23 15:00:00                47.0   \n",
       "2021-12-14 09:30:00 -> 2022-03-23 15:00:00                46.0   \n",
       "2021-12-14 09:32:00 -> 2022-03-23 15:00:00                40.0   \n",
       "2021-12-14 09:32:00 -> 2022-03-23 15:00:00                40.0   \n",
       "2021-12-14 09:32:00 -> 2022-03-23 15:00:00                42.0   \n",
       "2021-12-14 09:32:00 -> 2022-03-23 15:00:00                42.0   \n",
       "2021-12-14 10:33:00 -> 2022-03-23 15:00:00                40.0   \n",
       "2021-12-14 10:33:00 -> 2022-03-23 15:00:00                40.0   \n",
       "2021-12-14 10:33:00 -> 2022-03-23 15:00:00                39.0   \n",
       "2021-12-14 10:33:00 -> 2022-03-23 15:00:00                38.0   \n",
       "2021-12-14 10:34:00 -> 2022-03-23 15:00:00                40.0   \n",
       "2021-12-14 10:34:00 -> 2022-03-23 15:00:00                40.0   \n",
       "2021-12-14 10:34:00 -> 2022-03-23 15:00:00                38.0   \n",
       "2021-12-14 10:34:00 -> 2022-03-23 15:00:00                37.0   \n",
       "2021-12-14 10:34:00 -> 2022-03-23 15:00:00                35.0   \n",
       "2021-12-14 10:34:00 -> 2022-03-23 15:00:00                35.0   \n",
       "2021-12-14 10:34:00 -> 2022-03-23 15:00:00                35.0   \n",
       "2021-12-14 10:34:00 -> 2022-03-23 15:00:00                34.0   \n",
       "2021-12-14 10:36:00 -> 2022-03-23 15:00:00                32.0   \n",
       "2021-12-14 10:36:00 -> 2022-03-23 15:00:00                32.0   \n",
       "2021-12-14 10:36:00 -> 2022-03-23 15:00:00                32.0   \n",
       "2021-12-14 10:36:00 -> 2022-03-23 15:00:00                32.0   \n",
       "2021-12-14 10:36:00 -> 2022-03-23 15:00:00                30.0   \n",
       "2021-12-14 10:36:00 -> 2022-03-23 15:00:00                30.0   \n",
       "2021-12-14 10:36:00 -> 2022-03-23 15:00:00                31.0   \n",
       "2021-12-14 10:36:00 -> 2022-03-23 15:00:00                32.0   \n",
       "2021-12-14 10:37:00 -> 2022-03-23 15:00:00                26.0   \n",
       "2021-12-14 10:37:00 -> 2022-03-23 15:00:00                26.0   \n",
       "2021-12-14 10:37:00 -> 2022-03-23 15:00:00                26.0   \n",
       "2021-12-14 10:37:00 -> 2022-03-23 15:00:00                27.0   \n",
       "2021-12-14 11:09:00 -> 2022-03-23 15:00:00                24.0   \n",
       "2021-12-14 11:09:00 -> 2022-03-23 15:00:00                24.0   \n",
       "2021-12-14 11:09:00 -> 2022-03-23 15:00:00                24.0   \n",
       "2021-12-14 11:09:00 -> 2022-03-23 15:00:00                24.0   \n",
       "2021-12-14 11:14:00 -> 2022-03-23 15:00:00                23.0   \n",
       "2021-12-14 11:14:00 -> 2022-03-23 15:00:00                23.0   \n",
       "2021-12-14 11:14:00 -> 2022-03-23 15:00:00                22.0   \n",
       "2021-12-14 11:14:00 -> 2022-03-23 15:00:00                22.0   \n",
       "2021-12-14 11:15:00 -> 2022-03-23 15:00:00                20.0   \n",
       "2021-12-14 11:15:00 -> 2022-03-23 15:00:00                20.0   \n",
       "2021-12-14 11:15:00 -> 2022-03-23 15:00:00                19.0   \n",
       "2021-12-14 11:15:00 -> 2022-03-23 15:00:00                19.0   \n",
       "\n",
       "                                            close by signal win  \\\n",
       "2021-12-14 09:30:00 -> 2022-03-23 15:00:00                168.0   \n",
       "2021-12-14 09:30:00 -> 2022-03-23 15:00:00                197.0   \n",
       "2021-12-14 09:30:00 -> 2022-03-23 15:00:00                253.0   \n",
       "2021-12-14 09:30:00 -> 2022-03-23 15:00:00                322.0   \n",
       "2021-12-14 09:32:00 -> 2022-03-23 15:00:00                133.0   \n",
       "2021-12-14 09:32:00 -> 2022-03-23 15:00:00                152.0   \n",
       "2021-12-14 09:32:00 -> 2022-03-23 15:00:00                185.0   \n",
       "2021-12-14 09:32:00 -> 2022-03-23 15:00:00                227.0   \n",
       "2021-12-14 10:33:00 -> 2022-03-23 15:00:00                 95.0   \n",
       "2021-12-14 10:33:00 -> 2022-03-23 15:00:00                109.0   \n",
       "2021-12-14 10:33:00 -> 2022-03-23 15:00:00                125.0   \n",
       "2021-12-14 10:33:00 -> 2022-03-23 15:00:00                149.0   \n",
       "2021-12-14 10:34:00 -> 2022-03-23 15:00:00                 77.0   \n",
       "2021-12-14 10:34:00 -> 2022-03-23 15:00:00                 87.0   \n",
       "2021-12-14 10:34:00 -> 2022-03-23 15:00:00                 97.0   \n",
       "2021-12-14 10:34:00 -> 2022-03-23 15:00:00                114.0   \n",
       "2021-12-14 10:34:00 -> 2022-03-23 15:00:00                 63.0   \n",
       "2021-12-14 10:34:00 -> 2022-03-23 15:00:00                 72.0   \n",
       "2021-12-14 10:34:00 -> 2022-03-23 15:00:00                 79.0   \n",
       "2021-12-14 10:34:00 -> 2022-03-23 15:00:00                 93.0   \n",
       "2021-12-14 10:36:00 -> 2022-03-23 15:00:00                 56.0   \n",
       "2021-12-14 10:36:00 -> 2022-03-23 15:00:00                 60.0   \n",
       "2021-12-14 10:36:00 -> 2022-03-23 15:00:00                 66.0   \n",
       "2021-12-14 10:36:00 -> 2022-03-23 15:00:00                 72.0   \n",
       "2021-12-14 10:36:00 -> 2022-03-23 15:00:00                 45.0   \n",
       "2021-12-14 10:36:00 -> 2022-03-23 15:00:00                 48.0   \n",
       "2021-12-14 10:36:00 -> 2022-03-23 15:00:00                 53.0   \n",
       "2021-12-14 10:36:00 -> 2022-03-23 15:00:00                 58.0   \n",
       "2021-12-14 10:37:00 -> 2022-03-23 15:00:00                 39.0   \n",
       "2021-12-14 10:37:00 -> 2022-03-23 15:00:00                 42.0   \n",
       "2021-12-14 10:37:00 -> 2022-03-23 15:00:00                 46.0   \n",
       "2021-12-14 10:37:00 -> 2022-03-23 15:00:00                 50.0   \n",
       "2021-12-14 11:09:00 -> 2022-03-23 15:00:00                 33.0   \n",
       "2021-12-14 11:09:00 -> 2022-03-23 15:00:00                 35.0   \n",
       "2021-12-14 11:09:00 -> 2022-03-23 15:00:00                 39.0   \n",
       "2021-12-14 11:09:00 -> 2022-03-23 15:00:00                 42.0   \n",
       "2021-12-14 11:14:00 -> 2022-03-23 15:00:00                 26.0   \n",
       "2021-12-14 11:14:00 -> 2022-03-23 15:00:00                 27.0   \n",
       "2021-12-14 11:14:00 -> 2022-03-23 15:00:00                 31.0   \n",
       "2021-12-14 11:14:00 -> 2022-03-23 15:00:00                 34.0   \n",
       "2021-12-14 11:15:00 -> 2022-03-23 15:00:00                 22.0   \n",
       "2021-12-14 11:15:00 -> 2022-03-23 15:00:00                 23.0   \n",
       "2021-12-14 11:15:00 -> 2022-03-23 15:00:00                 25.0   \n",
       "2021-12-14 11:15:00 -> 2022-03-23 15:00:00                 28.0   \n",
       "\n",
       "                                            close by signal lose  \\\n",
       "2021-12-14 09:30:00 -> 2022-03-23 15:00:00                   1.0   \n",
       "2021-12-14 09:30:00 -> 2022-03-23 15:00:00                   2.0   \n",
       "2021-12-14 09:30:00 -> 2022-03-23 15:00:00                   2.0   \n",
       "2021-12-14 09:30:00 -> 2022-03-23 15:00:00                   3.0   \n",
       "2021-12-14 09:32:00 -> 2022-03-23 15:00:00                   1.0   \n",
       "2021-12-14 09:32:00 -> 2022-03-23 15:00:00                   2.0   \n",
       "2021-12-14 09:32:00 -> 2022-03-23 15:00:00                   2.0   \n",
       "2021-12-14 09:32:00 -> 2022-03-23 15:00:00                   2.0   \n",
       "2021-12-14 10:33:00 -> 2022-03-23 15:00:00                   1.0   \n",
       "2021-12-14 10:33:00 -> 2022-03-23 15:00:00                   2.0   \n",
       "2021-12-14 10:33:00 -> 2022-03-23 15:00:00                   2.0   \n",
       "2021-12-14 10:33:00 -> 2022-03-23 15:00:00                   2.0   \n",
       "2021-12-14 10:34:00 -> 2022-03-23 15:00:00                   0.0   \n",
       "2021-12-14 10:34:00 -> 2022-03-23 15:00:00                   0.0   \n",
       "2021-12-14 10:34:00 -> 2022-03-23 15:00:00                   0.0   \n",
       "2021-12-14 10:34:00 -> 2022-03-23 15:00:00                   0.0   \n",
       "2021-12-14 10:34:00 -> 2022-03-23 15:00:00                   0.0   \n",
       "2021-12-14 10:34:00 -> 2022-03-23 15:00:00                   0.0   \n",
       "2021-12-14 10:34:00 -> 2022-03-23 15:00:00                   0.0   \n",
       "2021-12-14 10:34:00 -> 2022-03-23 15:00:00                   0.0   \n",
       "2021-12-14 10:36:00 -> 2022-03-23 15:00:00                   0.0   \n",
       "2021-12-14 10:36:00 -> 2022-03-23 15:00:00                   0.0   \n",
       "2021-12-14 10:36:00 -> 2022-03-23 15:00:00                   0.0   \n",
       "2021-12-14 10:36:00 -> 2022-03-23 15:00:00                   0.0   \n",
       "2021-12-14 10:36:00 -> 2022-03-23 15:00:00                   0.0   \n",
       "2021-12-14 10:36:00 -> 2022-03-23 15:00:00                   0.0   \n",
       "2021-12-14 10:36:00 -> 2022-03-23 15:00:00                   0.0   \n",
       "2021-12-14 10:36:00 -> 2022-03-23 15:00:00                   0.0   \n",
       "2021-12-14 10:37:00 -> 2022-03-23 15:00:00                   0.0   \n",
       "2021-12-14 10:37:00 -> 2022-03-23 15:00:00                   0.0   \n",
       "2021-12-14 10:37:00 -> 2022-03-23 15:00:00                   0.0   \n",
       "2021-12-14 10:37:00 -> 2022-03-23 15:00:00                   0.0   \n",
       "2021-12-14 11:09:00 -> 2022-03-23 15:00:00                   0.0   \n",
       "2021-12-14 11:09:00 -> 2022-03-23 15:00:00                   0.0   \n",
       "2021-12-14 11:09:00 -> 2022-03-23 15:00:00                   0.0   \n",
       "2021-12-14 11:09:00 -> 2022-03-23 15:00:00                   0.0   \n",
       "2021-12-14 11:14:00 -> 2022-03-23 15:00:00                   0.0   \n",
       "2021-12-14 11:14:00 -> 2022-03-23 15:00:00                   0.0   \n",
       "2021-12-14 11:14:00 -> 2022-03-23 15:00:00                   0.0   \n",
       "2021-12-14 11:14:00 -> 2022-03-23 15:00:00                   0.0   \n",
       "2021-12-14 11:15:00 -> 2022-03-23 15:00:00                   0.0   \n",
       "2021-12-14 11:15:00 -> 2022-03-23 15:00:00                   0.0   \n",
       "2021-12-14 11:15:00 -> 2022-03-23 15:00:00                   0.0   \n",
       "2021-12-14 11:15:00 -> 2022-03-23 15:00:00                   0.0   \n",
       "\n",
       "                                            open threshold  close threshold  \n",
       "2021-12-14 09:30:00 -> 2022-03-23 15:00:00           0.005            0.000  \n",
       "2021-12-14 09:30:00 -> 2022-03-23 15:00:00           0.005            0.001  \n",
       "2021-12-14 09:30:00 -> 2022-03-23 15:00:00           0.005            0.002  \n",
       "2021-12-14 09:30:00 -> 2022-03-23 15:00:00           0.005            0.003  \n",
       "2021-12-14 09:32:00 -> 2022-03-23 15:00:00           0.006            0.000  \n",
       "2021-12-14 09:32:00 -> 2022-03-23 15:00:00           0.006            0.001  \n",
       "2021-12-14 09:32:00 -> 2022-03-23 15:00:00           0.006            0.002  \n",
       "2021-12-14 09:32:00 -> 2022-03-23 15:00:00           0.006            0.003  \n",
       "2021-12-14 10:33:00 -> 2022-03-23 15:00:00           0.007            0.000  \n",
       "2021-12-14 10:33:00 -> 2022-03-23 15:00:00           0.007            0.001  \n",
       "2021-12-14 10:33:00 -> 2022-03-23 15:00:00           0.007            0.002  \n",
       "2021-12-14 10:33:00 -> 2022-03-23 15:00:00           0.007            0.003  \n",
       "2021-12-14 10:34:00 -> 2022-03-23 15:00:00           0.008            0.000  \n",
       "2021-12-14 10:34:00 -> 2022-03-23 15:00:00           0.008            0.001  \n",
       "2021-12-14 10:34:00 -> 2022-03-23 15:00:00           0.008            0.002  \n",
       "2021-12-14 10:34:00 -> 2022-03-23 15:00:00           0.008            0.003  \n",
       "2021-12-14 10:34:00 -> 2022-03-23 15:00:00           0.009            0.000  \n",
       "2021-12-14 10:34:00 -> 2022-03-23 15:00:00           0.009            0.001  \n",
       "2021-12-14 10:34:00 -> 2022-03-23 15:00:00           0.009            0.002  \n",
       "2021-12-14 10:34:00 -> 2022-03-23 15:00:00           0.009            0.003  \n",
       "2021-12-14 10:36:00 -> 2022-03-23 15:00:00           0.010            0.000  \n",
       "2021-12-14 10:36:00 -> 2022-03-23 15:00:00           0.010            0.001  \n",
       "2021-12-14 10:36:00 -> 2022-03-23 15:00:00           0.010            0.002  \n",
       "2021-12-14 10:36:00 -> 2022-03-23 15:00:00           0.010            0.003  \n",
       "2021-12-14 10:36:00 -> 2022-03-23 15:00:00           0.011            0.000  \n",
       "2021-12-14 10:36:00 -> 2022-03-23 15:00:00           0.011            0.001  \n",
       "2021-12-14 10:36:00 -> 2022-03-23 15:00:00           0.011            0.002  \n",
       "2021-12-14 10:36:00 -> 2022-03-23 15:00:00           0.011            0.003  \n",
       "2021-12-14 10:37:00 -> 2022-03-23 15:00:00           0.012            0.000  \n",
       "2021-12-14 10:37:00 -> 2022-03-23 15:00:00           0.012            0.001  \n",
       "2021-12-14 10:37:00 -> 2022-03-23 15:00:00           0.012            0.002  \n",
       "2021-12-14 10:37:00 -> 2022-03-23 15:00:00           0.012            0.003  \n",
       "2021-12-14 11:09:00 -> 2022-03-23 15:00:00           0.013            0.000  \n",
       "2021-12-14 11:09:00 -> 2022-03-23 15:00:00           0.013            0.001  \n",
       "2021-12-14 11:09:00 -> 2022-03-23 15:00:00           0.013            0.002  \n",
       "2021-12-14 11:09:00 -> 2022-03-23 15:00:00           0.013            0.003  \n",
       "2021-12-14 11:14:00 -> 2022-03-23 15:00:00           0.014            0.000  \n",
       "2021-12-14 11:14:00 -> 2022-03-23 15:00:00           0.014            0.001  \n",
       "2021-12-14 11:14:00 -> 2022-03-23 15:00:00           0.014            0.002  \n",
       "2021-12-14 11:14:00 -> 2022-03-23 15:00:00           0.014            0.003  \n",
       "2021-12-14 11:15:00 -> 2022-03-23 15:00:00           0.015            0.000  \n",
       "2021-12-14 11:15:00 -> 2022-03-23 15:00:00           0.015            0.001  \n",
       "2021-12-14 11:15:00 -> 2022-03-23 15:00:00           0.015            0.002  \n",
       "2021-12-14 11:15:00 -> 2022-03-23 15:00:00           0.015            0.003  "
      ]
     },
     "execution_count": 12,
     "metadata": {},
     "output_type": "execute_result"
    }
   ],
   "source": [
    "df_grid_search_res[['win','lose','total round',\n",
    "                    'close by time','close by signal',\n",
    "                    'close by time win','close by time lose',\n",
    "                    'close by signal win','close by signal lose',\n",
    "                    'open threshold', 'close threshold'\n",
    "                    ]]"
   ]
  },
  {
   "cell_type": "code",
   "execution_count": 37,
   "metadata": {},
   "outputs": [
    {
     "data": {
      "text/html": [
       "<div>\n",
       "<style scoped>\n",
       "    .dataframe tbody tr th:only-of-type {\n",
       "        vertical-align: middle;\n",
       "    }\n",
       "\n",
       "    .dataframe tbody tr th {\n",
       "        vertical-align: top;\n",
       "    }\n",
       "\n",
       "    .dataframe thead th {\n",
       "        text-align: right;\n",
       "    }\n",
       "</style>\n",
       "<table border=\"1\" class=\"dataframe\">\n",
       "  <thead>\n",
       "    <tr style=\"text-align: right;\">\n",
       "      <th></th>\n",
       "      <th>win</th>\n",
       "      <th>lose</th>\n",
       "      <th>total round</th>\n",
       "      <th>close by time</th>\n",
       "      <th>close by signal</th>\n",
       "      <th>close by time win</th>\n",
       "      <th>close by time lose</th>\n",
       "      <th>close by signal win</th>\n",
       "      <th>close by signal lose</th>\n",
       "      <th>open threshold</th>\n",
       "      <th>close threshold</th>\n",
       "      <th>win rate</th>\n",
       "      <th>close by time lose/lose</th>\n",
       "      <th>close by signal win/win</th>\n",
       "    </tr>\n",
       "  </thead>\n",
       "  <tbody>\n",
       "    <tr>\n",
       "      <th>2021-12-14 09:30:00 -&gt; 2022-03-23 15:00:00</th>\n",
       "      <td>179.0</td>\n",
       "      <td>47.0</td>\n",
       "      <td>226.0</td>\n",
       "      <td>57.0</td>\n",
       "      <td>169.0</td>\n",
       "      <td>11.0</td>\n",
       "      <td>46.0</td>\n",
       "      <td>168.0</td>\n",
       "      <td>1.0</td>\n",
       "      <td>0.005</td>\n",
       "      <td>0.000</td>\n",
       "      <td>0.792035</td>\n",
       "      <td>0.978723</td>\n",
       "      <td>0.938547</td>\n",
       "    </tr>\n",
       "    <tr>\n",
       "      <th>2021-12-14 09:30:00 -&gt; 2022-03-23 15:00:00</th>\n",
       "      <td>207.0</td>\n",
       "      <td>48.0</td>\n",
       "      <td>255.0</td>\n",
       "      <td>56.0</td>\n",
       "      <td>199.0</td>\n",
       "      <td>10.0</td>\n",
       "      <td>46.0</td>\n",
       "      <td>197.0</td>\n",
       "      <td>2.0</td>\n",
       "      <td>0.005</td>\n",
       "      <td>0.001</td>\n",
       "      <td>0.811765</td>\n",
       "      <td>0.958333</td>\n",
       "      <td>0.951691</td>\n",
       "    </tr>\n",
       "    <tr>\n",
       "      <th>2021-12-14 09:30:00 -&gt; 2022-03-23 15:00:00</th>\n",
       "      <td>262.0</td>\n",
       "      <td>49.0</td>\n",
       "      <td>311.0</td>\n",
       "      <td>56.0</td>\n",
       "      <td>255.0</td>\n",
       "      <td>9.0</td>\n",
       "      <td>47.0</td>\n",
       "      <td>253.0</td>\n",
       "      <td>2.0</td>\n",
       "      <td>0.005</td>\n",
       "      <td>0.002</td>\n",
       "      <td>0.842444</td>\n",
       "      <td>0.959184</td>\n",
       "      <td>0.965649</td>\n",
       "    </tr>\n",
       "    <tr>\n",
       "      <th>2021-12-14 09:30:00 -&gt; 2022-03-23 15:00:00</th>\n",
       "      <td>329.0</td>\n",
       "      <td>49.0</td>\n",
       "      <td>378.0</td>\n",
       "      <td>53.0</td>\n",
       "      <td>325.0</td>\n",
       "      <td>7.0</td>\n",
       "      <td>46.0</td>\n",
       "      <td>322.0</td>\n",
       "      <td>3.0</td>\n",
       "      <td>0.005</td>\n",
       "      <td>0.003</td>\n",
       "      <td>0.870370</td>\n",
       "      <td>0.938776</td>\n",
       "      <td>0.978723</td>\n",
       "    </tr>\n",
       "    <tr>\n",
       "      <th>2021-12-14 09:32:00 -&gt; 2022-03-23 15:00:00</th>\n",
       "      <td>148.0</td>\n",
       "      <td>41.0</td>\n",
       "      <td>189.0</td>\n",
       "      <td>55.0</td>\n",
       "      <td>134.0</td>\n",
       "      <td>15.0</td>\n",
       "      <td>40.0</td>\n",
       "      <td>133.0</td>\n",
       "      <td>1.0</td>\n",
       "      <td>0.006</td>\n",
       "      <td>0.000</td>\n",
       "      <td>0.783069</td>\n",
       "      <td>0.975610</td>\n",
       "      <td>0.898649</td>\n",
       "    </tr>\n",
       "    <tr>\n",
       "      <th>2021-12-14 09:32:00 -&gt; 2022-03-23 15:00:00</th>\n",
       "      <td>165.0</td>\n",
       "      <td>42.0</td>\n",
       "      <td>207.0</td>\n",
       "      <td>53.0</td>\n",
       "      <td>154.0</td>\n",
       "      <td>13.0</td>\n",
       "      <td>40.0</td>\n",
       "      <td>152.0</td>\n",
       "      <td>2.0</td>\n",
       "      <td>0.006</td>\n",
       "      <td>0.001</td>\n",
       "      <td>0.797101</td>\n",
       "      <td>0.952381</td>\n",
       "      <td>0.921212</td>\n",
       "    </tr>\n",
       "    <tr>\n",
       "      <th>2021-12-14 09:32:00 -&gt; 2022-03-23 15:00:00</th>\n",
       "      <td>196.0</td>\n",
       "      <td>44.0</td>\n",
       "      <td>240.0</td>\n",
       "      <td>53.0</td>\n",
       "      <td>187.0</td>\n",
       "      <td>11.0</td>\n",
       "      <td>42.0</td>\n",
       "      <td>185.0</td>\n",
       "      <td>2.0</td>\n",
       "      <td>0.006</td>\n",
       "      <td>0.002</td>\n",
       "      <td>0.816667</td>\n",
       "      <td>0.954545</td>\n",
       "      <td>0.943878</td>\n",
       "    </tr>\n",
       "    <tr>\n",
       "      <th>2021-12-14 09:32:00 -&gt; 2022-03-23 15:00:00</th>\n",
       "      <td>235.0</td>\n",
       "      <td>44.0</td>\n",
       "      <td>279.0</td>\n",
       "      <td>50.0</td>\n",
       "      <td>229.0</td>\n",
       "      <td>8.0</td>\n",
       "      <td>42.0</td>\n",
       "      <td>227.0</td>\n",
       "      <td>2.0</td>\n",
       "      <td>0.006</td>\n",
       "      <td>0.003</td>\n",
       "      <td>0.842294</td>\n",
       "      <td>0.954545</td>\n",
       "      <td>0.965957</td>\n",
       "    </tr>\n",
       "    <tr>\n",
       "      <th>2021-12-14 10:33:00 -&gt; 2022-03-23 15:00:00</th>\n",
       "      <td>107.0</td>\n",
       "      <td>41.0</td>\n",
       "      <td>148.0</td>\n",
       "      <td>52.0</td>\n",
       "      <td>96.0</td>\n",
       "      <td>12.0</td>\n",
       "      <td>40.0</td>\n",
       "      <td>95.0</td>\n",
       "      <td>1.0</td>\n",
       "      <td>0.007</td>\n",
       "      <td>0.000</td>\n",
       "      <td>0.722973</td>\n",
       "      <td>0.975610</td>\n",
       "      <td>0.887850</td>\n",
       "    </tr>\n",
       "    <tr>\n",
       "      <th>2021-12-14 10:33:00 -&gt; 2022-03-23 15:00:00</th>\n",
       "      <td>119.0</td>\n",
       "      <td>42.0</td>\n",
       "      <td>161.0</td>\n",
       "      <td>50.0</td>\n",
       "      <td>111.0</td>\n",
       "      <td>10.0</td>\n",
       "      <td>40.0</td>\n",
       "      <td>109.0</td>\n",
       "      <td>2.0</td>\n",
       "      <td>0.007</td>\n",
       "      <td>0.001</td>\n",
       "      <td>0.739130</td>\n",
       "      <td>0.952381</td>\n",
       "      <td>0.915966</td>\n",
       "    </tr>\n",
       "    <tr>\n",
       "      <th>2021-12-14 10:33:00 -&gt; 2022-03-23 15:00:00</th>\n",
       "      <td>135.0</td>\n",
       "      <td>41.0</td>\n",
       "      <td>176.0</td>\n",
       "      <td>49.0</td>\n",
       "      <td>127.0</td>\n",
       "      <td>10.0</td>\n",
       "      <td>39.0</td>\n",
       "      <td>125.0</td>\n",
       "      <td>2.0</td>\n",
       "      <td>0.007</td>\n",
       "      <td>0.002</td>\n",
       "      <td>0.767045</td>\n",
       "      <td>0.951220</td>\n",
       "      <td>0.925926</td>\n",
       "    </tr>\n",
       "    <tr>\n",
       "      <th>2021-12-14 10:33:00 -&gt; 2022-03-23 15:00:00</th>\n",
       "      <td>159.0</td>\n",
       "      <td>40.0</td>\n",
       "      <td>199.0</td>\n",
       "      <td>48.0</td>\n",
       "      <td>151.0</td>\n",
       "      <td>10.0</td>\n",
       "      <td>38.0</td>\n",
       "      <td>149.0</td>\n",
       "      <td>2.0</td>\n",
       "      <td>0.007</td>\n",
       "      <td>0.003</td>\n",
       "      <td>0.798995</td>\n",
       "      <td>0.950000</td>\n",
       "      <td>0.937107</td>\n",
       "    </tr>\n",
       "    <tr>\n",
       "      <th>2021-12-14 10:34:00 -&gt; 2022-03-23 15:00:00</th>\n",
       "      <td>87.0</td>\n",
       "      <td>40.0</td>\n",
       "      <td>127.0</td>\n",
       "      <td>50.0</td>\n",
       "      <td>77.0</td>\n",
       "      <td>10.0</td>\n",
       "      <td>40.0</td>\n",
       "      <td>77.0</td>\n",
       "      <td>0.0</td>\n",
       "      <td>0.008</td>\n",
       "      <td>0.000</td>\n",
       "      <td>0.685039</td>\n",
       "      <td>1.000000</td>\n",
       "      <td>0.885057</td>\n",
       "    </tr>\n",
       "    <tr>\n",
       "      <th>2021-12-14 10:34:00 -&gt; 2022-03-23 15:00:00</th>\n",
       "      <td>96.0</td>\n",
       "      <td>40.0</td>\n",
       "      <td>136.0</td>\n",
       "      <td>49.0</td>\n",
       "      <td>87.0</td>\n",
       "      <td>9.0</td>\n",
       "      <td>40.0</td>\n",
       "      <td>87.0</td>\n",
       "      <td>0.0</td>\n",
       "      <td>0.008</td>\n",
       "      <td>0.001</td>\n",
       "      <td>0.705882</td>\n",
       "      <td>1.000000</td>\n",
       "      <td>0.906250</td>\n",
       "    </tr>\n",
       "    <tr>\n",
       "      <th>2021-12-14 10:34:00 -&gt; 2022-03-23 15:00:00</th>\n",
       "      <td>105.0</td>\n",
       "      <td>38.0</td>\n",
       "      <td>143.0</td>\n",
       "      <td>46.0</td>\n",
       "      <td>97.0</td>\n",
       "      <td>8.0</td>\n",
       "      <td>38.0</td>\n",
       "      <td>97.0</td>\n",
       "      <td>0.0</td>\n",
       "      <td>0.008</td>\n",
       "      <td>0.002</td>\n",
       "      <td>0.734266</td>\n",
       "      <td>1.000000</td>\n",
       "      <td>0.923810</td>\n",
       "    </tr>\n",
       "    <tr>\n",
       "      <th>2021-12-14 10:34:00 -&gt; 2022-03-23 15:00:00</th>\n",
       "      <td>122.0</td>\n",
       "      <td>37.0</td>\n",
       "      <td>159.0</td>\n",
       "      <td>45.0</td>\n",
       "      <td>114.0</td>\n",
       "      <td>8.0</td>\n",
       "      <td>37.0</td>\n",
       "      <td>114.0</td>\n",
       "      <td>0.0</td>\n",
       "      <td>0.008</td>\n",
       "      <td>0.003</td>\n",
       "      <td>0.767296</td>\n",
       "      <td>1.000000</td>\n",
       "      <td>0.934426</td>\n",
       "    </tr>\n",
       "    <tr>\n",
       "      <th>2021-12-14 10:34:00 -&gt; 2022-03-23 15:00:00</th>\n",
       "      <td>76.0</td>\n",
       "      <td>35.0</td>\n",
       "      <td>111.0</td>\n",
       "      <td>48.0</td>\n",
       "      <td>63.0</td>\n",
       "      <td>13.0</td>\n",
       "      <td>35.0</td>\n",
       "      <td>63.0</td>\n",
       "      <td>0.0</td>\n",
       "      <td>0.009</td>\n",
       "      <td>0.000</td>\n",
       "      <td>0.684685</td>\n",
       "      <td>1.000000</td>\n",
       "      <td>0.828947</td>\n",
       "    </tr>\n",
       "    <tr>\n",
       "      <th>2021-12-14 10:34:00 -&gt; 2022-03-23 15:00:00</th>\n",
       "      <td>84.0</td>\n",
       "      <td>35.0</td>\n",
       "      <td>119.0</td>\n",
       "      <td>47.0</td>\n",
       "      <td>72.0</td>\n",
       "      <td>12.0</td>\n",
       "      <td>35.0</td>\n",
       "      <td>72.0</td>\n",
       "      <td>0.0</td>\n",
       "      <td>0.009</td>\n",
       "      <td>0.001</td>\n",
       "      <td>0.705882</td>\n",
       "      <td>1.000000</td>\n",
       "      <td>0.857143</td>\n",
       "    </tr>\n",
       "    <tr>\n",
       "      <th>2021-12-14 10:34:00 -&gt; 2022-03-23 15:00:00</th>\n",
       "      <td>89.0</td>\n",
       "      <td>35.0</td>\n",
       "      <td>124.0</td>\n",
       "      <td>45.0</td>\n",
       "      <td>79.0</td>\n",
       "      <td>10.0</td>\n",
       "      <td>35.0</td>\n",
       "      <td>79.0</td>\n",
       "      <td>0.0</td>\n",
       "      <td>0.009</td>\n",
       "      <td>0.002</td>\n",
       "      <td>0.717742</td>\n",
       "      <td>1.000000</td>\n",
       "      <td>0.887640</td>\n",
       "    </tr>\n",
       "    <tr>\n",
       "      <th>2021-12-14 10:34:00 -&gt; 2022-03-23 15:00:00</th>\n",
       "      <td>103.0</td>\n",
       "      <td>34.0</td>\n",
       "      <td>137.0</td>\n",
       "      <td>44.0</td>\n",
       "      <td>93.0</td>\n",
       "      <td>10.0</td>\n",
       "      <td>34.0</td>\n",
       "      <td>93.0</td>\n",
       "      <td>0.0</td>\n",
       "      <td>0.009</td>\n",
       "      <td>0.003</td>\n",
       "      <td>0.751825</td>\n",
       "      <td>1.000000</td>\n",
       "      <td>0.902913</td>\n",
       "    </tr>\n",
       "    <tr>\n",
       "      <th>2021-12-14 10:36:00 -&gt; 2022-03-23 15:00:00</th>\n",
       "      <td>70.0</td>\n",
       "      <td>32.0</td>\n",
       "      <td>102.0</td>\n",
       "      <td>46.0</td>\n",
       "      <td>56.0</td>\n",
       "      <td>14.0</td>\n",
       "      <td>32.0</td>\n",
       "      <td>56.0</td>\n",
       "      <td>0.0</td>\n",
       "      <td>0.010</td>\n",
       "      <td>0.000</td>\n",
       "      <td>0.686275</td>\n",
       "      <td>1.000000</td>\n",
       "      <td>0.800000</td>\n",
       "    </tr>\n",
       "    <tr>\n",
       "      <th>2021-12-14 10:36:00 -&gt; 2022-03-23 15:00:00</th>\n",
       "      <td>73.0</td>\n",
       "      <td>32.0</td>\n",
       "      <td>105.0</td>\n",
       "      <td>45.0</td>\n",
       "      <td>60.0</td>\n",
       "      <td>13.0</td>\n",
       "      <td>32.0</td>\n",
       "      <td>60.0</td>\n",
       "      <td>0.0</td>\n",
       "      <td>0.010</td>\n",
       "      <td>0.001</td>\n",
       "      <td>0.695238</td>\n",
       "      <td>1.000000</td>\n",
       "      <td>0.821918</td>\n",
       "    </tr>\n",
       "    <tr>\n",
       "      <th>2021-12-14 10:36:00 -&gt; 2022-03-23 15:00:00</th>\n",
       "      <td>77.0</td>\n",
       "      <td>32.0</td>\n",
       "      <td>109.0</td>\n",
       "      <td>43.0</td>\n",
       "      <td>66.0</td>\n",
       "      <td>11.0</td>\n",
       "      <td>32.0</td>\n",
       "      <td>66.0</td>\n",
       "      <td>0.0</td>\n",
       "      <td>0.010</td>\n",
       "      <td>0.002</td>\n",
       "      <td>0.706422</td>\n",
       "      <td>1.000000</td>\n",
       "      <td>0.857143</td>\n",
       "    </tr>\n",
       "    <tr>\n",
       "      <th>2021-12-14 10:36:00 -&gt; 2022-03-23 15:00:00</th>\n",
       "      <td>83.0</td>\n",
       "      <td>32.0</td>\n",
       "      <td>115.0</td>\n",
       "      <td>43.0</td>\n",
       "      <td>72.0</td>\n",
       "      <td>11.0</td>\n",
       "      <td>32.0</td>\n",
       "      <td>72.0</td>\n",
       "      <td>0.0</td>\n",
       "      <td>0.010</td>\n",
       "      <td>0.003</td>\n",
       "      <td>0.721739</td>\n",
       "      <td>1.000000</td>\n",
       "      <td>0.867470</td>\n",
       "    </tr>\n",
       "    <tr>\n",
       "      <th>2021-12-14 10:36:00 -&gt; 2022-03-23 15:00:00</th>\n",
       "      <td>58.0</td>\n",
       "      <td>30.0</td>\n",
       "      <td>88.0</td>\n",
       "      <td>43.0</td>\n",
       "      <td>45.0</td>\n",
       "      <td>13.0</td>\n",
       "      <td>30.0</td>\n",
       "      <td>45.0</td>\n",
       "      <td>0.0</td>\n",
       "      <td>0.011</td>\n",
       "      <td>0.000</td>\n",
       "      <td>0.659091</td>\n",
       "      <td>1.000000</td>\n",
       "      <td>0.775862</td>\n",
       "    </tr>\n",
       "    <tr>\n",
       "      <th>2021-12-14 10:36:00 -&gt; 2022-03-23 15:00:00</th>\n",
       "      <td>60.0</td>\n",
       "      <td>30.0</td>\n",
       "      <td>90.0</td>\n",
       "      <td>42.0</td>\n",
       "      <td>48.0</td>\n",
       "      <td>12.0</td>\n",
       "      <td>30.0</td>\n",
       "      <td>48.0</td>\n",
       "      <td>0.0</td>\n",
       "      <td>0.011</td>\n",
       "      <td>0.001</td>\n",
       "      <td>0.666667</td>\n",
       "      <td>1.000000</td>\n",
       "      <td>0.800000</td>\n",
       "    </tr>\n",
       "    <tr>\n",
       "      <th>2021-12-14 10:36:00 -&gt; 2022-03-23 15:00:00</th>\n",
       "      <td>63.0</td>\n",
       "      <td>31.0</td>\n",
       "      <td>94.0</td>\n",
       "      <td>41.0</td>\n",
       "      <td>53.0</td>\n",
       "      <td>10.0</td>\n",
       "      <td>31.0</td>\n",
       "      <td>53.0</td>\n",
       "      <td>0.0</td>\n",
       "      <td>0.011</td>\n",
       "      <td>0.002</td>\n",
       "      <td>0.670213</td>\n",
       "      <td>1.000000</td>\n",
       "      <td>0.841270</td>\n",
       "    </tr>\n",
       "    <tr>\n",
       "      <th>2021-12-14 10:36:00 -&gt; 2022-03-23 15:00:00</th>\n",
       "      <td>67.0</td>\n",
       "      <td>32.0</td>\n",
       "      <td>99.0</td>\n",
       "      <td>41.0</td>\n",
       "      <td>58.0</td>\n",
       "      <td>9.0</td>\n",
       "      <td>32.0</td>\n",
       "      <td>58.0</td>\n",
       "      <td>0.0</td>\n",
       "      <td>0.011</td>\n",
       "      <td>0.003</td>\n",
       "      <td>0.676768</td>\n",
       "      <td>1.000000</td>\n",
       "      <td>0.865672</td>\n",
       "    </tr>\n",
       "    <tr>\n",
       "      <th>2021-12-14 10:37:00 -&gt; 2022-03-23 15:00:00</th>\n",
       "      <td>51.0</td>\n",
       "      <td>26.0</td>\n",
       "      <td>77.0</td>\n",
       "      <td>38.0</td>\n",
       "      <td>39.0</td>\n",
       "      <td>12.0</td>\n",
       "      <td>26.0</td>\n",
       "      <td>39.0</td>\n",
       "      <td>0.0</td>\n",
       "      <td>0.012</td>\n",
       "      <td>0.000</td>\n",
       "      <td>0.662338</td>\n",
       "      <td>1.000000</td>\n",
       "      <td>0.764706</td>\n",
       "    </tr>\n",
       "    <tr>\n",
       "      <th>2021-12-14 10:37:00 -&gt; 2022-03-23 15:00:00</th>\n",
       "      <td>53.0</td>\n",
       "      <td>26.0</td>\n",
       "      <td>79.0</td>\n",
       "      <td>37.0</td>\n",
       "      <td>42.0</td>\n",
       "      <td>11.0</td>\n",
       "      <td>26.0</td>\n",
       "      <td>42.0</td>\n",
       "      <td>0.0</td>\n",
       "      <td>0.012</td>\n",
       "      <td>0.001</td>\n",
       "      <td>0.670886</td>\n",
       "      <td>1.000000</td>\n",
       "      <td>0.792453</td>\n",
       "    </tr>\n",
       "    <tr>\n",
       "      <th>2021-12-14 10:37:00 -&gt; 2022-03-23 15:00:00</th>\n",
       "      <td>56.0</td>\n",
       "      <td>26.0</td>\n",
       "      <td>82.0</td>\n",
       "      <td>36.0</td>\n",
       "      <td>46.0</td>\n",
       "      <td>10.0</td>\n",
       "      <td>26.0</td>\n",
       "      <td>46.0</td>\n",
       "      <td>0.0</td>\n",
       "      <td>0.012</td>\n",
       "      <td>0.002</td>\n",
       "      <td>0.682927</td>\n",
       "      <td>1.000000</td>\n",
       "      <td>0.821429</td>\n",
       "    </tr>\n",
       "    <tr>\n",
       "      <th>2021-12-14 10:37:00 -&gt; 2022-03-23 15:00:00</th>\n",
       "      <td>59.0</td>\n",
       "      <td>27.0</td>\n",
       "      <td>86.0</td>\n",
       "      <td>36.0</td>\n",
       "      <td>50.0</td>\n",
       "      <td>9.0</td>\n",
       "      <td>27.0</td>\n",
       "      <td>50.0</td>\n",
       "      <td>0.0</td>\n",
       "      <td>0.012</td>\n",
       "      <td>0.003</td>\n",
       "      <td>0.686047</td>\n",
       "      <td>1.000000</td>\n",
       "      <td>0.847458</td>\n",
       "    </tr>\n",
       "    <tr>\n",
       "      <th>2021-12-14 11:09:00 -&gt; 2022-03-23 15:00:00</th>\n",
       "      <td>46.0</td>\n",
       "      <td>24.0</td>\n",
       "      <td>70.0</td>\n",
       "      <td>37.0</td>\n",
       "      <td>33.0</td>\n",
       "      <td>13.0</td>\n",
       "      <td>24.0</td>\n",
       "      <td>33.0</td>\n",
       "      <td>0.0</td>\n",
       "      <td>0.013</td>\n",
       "      <td>0.000</td>\n",
       "      <td>0.657143</td>\n",
       "      <td>1.000000</td>\n",
       "      <td>0.717391</td>\n",
       "    </tr>\n",
       "    <tr>\n",
       "      <th>2021-12-14 11:09:00 -&gt; 2022-03-23 15:00:00</th>\n",
       "      <td>47.0</td>\n",
       "      <td>24.0</td>\n",
       "      <td>71.0</td>\n",
       "      <td>36.0</td>\n",
       "      <td>35.0</td>\n",
       "      <td>12.0</td>\n",
       "      <td>24.0</td>\n",
       "      <td>35.0</td>\n",
       "      <td>0.0</td>\n",
       "      <td>0.013</td>\n",
       "      <td>0.001</td>\n",
       "      <td>0.661972</td>\n",
       "      <td>1.000000</td>\n",
       "      <td>0.744681</td>\n",
       "    </tr>\n",
       "    <tr>\n",
       "      <th>2021-12-14 11:09:00 -&gt; 2022-03-23 15:00:00</th>\n",
       "      <td>50.0</td>\n",
       "      <td>24.0</td>\n",
       "      <td>74.0</td>\n",
       "      <td>35.0</td>\n",
       "      <td>39.0</td>\n",
       "      <td>11.0</td>\n",
       "      <td>24.0</td>\n",
       "      <td>39.0</td>\n",
       "      <td>0.0</td>\n",
       "      <td>0.013</td>\n",
       "      <td>0.002</td>\n",
       "      <td>0.675676</td>\n",
       "      <td>1.000000</td>\n",
       "      <td>0.780000</td>\n",
       "    </tr>\n",
       "    <tr>\n",
       "      <th>2021-12-14 11:09:00 -&gt; 2022-03-23 15:00:00</th>\n",
       "      <td>53.0</td>\n",
       "      <td>24.0</td>\n",
       "      <td>77.0</td>\n",
       "      <td>35.0</td>\n",
       "      <td>42.0</td>\n",
       "      <td>11.0</td>\n",
       "      <td>24.0</td>\n",
       "      <td>42.0</td>\n",
       "      <td>0.0</td>\n",
       "      <td>0.013</td>\n",
       "      <td>0.003</td>\n",
       "      <td>0.688312</td>\n",
       "      <td>1.000000</td>\n",
       "      <td>0.792453</td>\n",
       "    </tr>\n",
       "    <tr>\n",
       "      <th>2021-12-14 11:14:00 -&gt; 2022-03-23 15:00:00</th>\n",
       "      <td>39.0</td>\n",
       "      <td>23.0</td>\n",
       "      <td>62.0</td>\n",
       "      <td>36.0</td>\n",
       "      <td>26.0</td>\n",
       "      <td>13.0</td>\n",
       "      <td>23.0</td>\n",
       "      <td>26.0</td>\n",
       "      <td>0.0</td>\n",
       "      <td>0.014</td>\n",
       "      <td>0.000</td>\n",
       "      <td>0.629032</td>\n",
       "      <td>1.000000</td>\n",
       "      <td>0.666667</td>\n",
       "    </tr>\n",
       "    <tr>\n",
       "      <th>2021-12-14 11:14:00 -&gt; 2022-03-23 15:00:00</th>\n",
       "      <td>40.0</td>\n",
       "      <td>23.0</td>\n",
       "      <td>63.0</td>\n",
       "      <td>36.0</td>\n",
       "      <td>27.0</td>\n",
       "      <td>13.0</td>\n",
       "      <td>23.0</td>\n",
       "      <td>27.0</td>\n",
       "      <td>0.0</td>\n",
       "      <td>0.014</td>\n",
       "      <td>0.001</td>\n",
       "      <td>0.634921</td>\n",
       "      <td>1.000000</td>\n",
       "      <td>0.675000</td>\n",
       "    </tr>\n",
       "    <tr>\n",
       "      <th>2021-12-14 11:14:00 -&gt; 2022-03-23 15:00:00</th>\n",
       "      <td>44.0</td>\n",
       "      <td>22.0</td>\n",
       "      <td>66.0</td>\n",
       "      <td>35.0</td>\n",
       "      <td>31.0</td>\n",
       "      <td>13.0</td>\n",
       "      <td>22.0</td>\n",
       "      <td>31.0</td>\n",
       "      <td>0.0</td>\n",
       "      <td>0.014</td>\n",
       "      <td>0.002</td>\n",
       "      <td>0.666667</td>\n",
       "      <td>1.000000</td>\n",
       "      <td>0.704545</td>\n",
       "    </tr>\n",
       "    <tr>\n",
       "      <th>2021-12-14 11:14:00 -&gt; 2022-03-23 15:00:00</th>\n",
       "      <td>47.0</td>\n",
       "      <td>22.0</td>\n",
       "      <td>69.0</td>\n",
       "      <td>35.0</td>\n",
       "      <td>34.0</td>\n",
       "      <td>13.0</td>\n",
       "      <td>22.0</td>\n",
       "      <td>34.0</td>\n",
       "      <td>0.0</td>\n",
       "      <td>0.014</td>\n",
       "      <td>0.003</td>\n",
       "      <td>0.681159</td>\n",
       "      <td>1.000000</td>\n",
       "      <td>0.723404</td>\n",
       "    </tr>\n",
       "    <tr>\n",
       "      <th>2021-12-14 11:15:00 -&gt; 2022-03-23 15:00:00</th>\n",
       "      <td>37.0</td>\n",
       "      <td>20.0</td>\n",
       "      <td>57.0</td>\n",
       "      <td>35.0</td>\n",
       "      <td>22.0</td>\n",
       "      <td>15.0</td>\n",
       "      <td>20.0</td>\n",
       "      <td>22.0</td>\n",
       "      <td>0.0</td>\n",
       "      <td>0.015</td>\n",
       "      <td>0.000</td>\n",
       "      <td>0.649123</td>\n",
       "      <td>1.000000</td>\n",
       "      <td>0.594595</td>\n",
       "    </tr>\n",
       "    <tr>\n",
       "      <th>2021-12-14 11:15:00 -&gt; 2022-03-23 15:00:00</th>\n",
       "      <td>37.0</td>\n",
       "      <td>20.0</td>\n",
       "      <td>57.0</td>\n",
       "      <td>34.0</td>\n",
       "      <td>23.0</td>\n",
       "      <td>14.0</td>\n",
       "      <td>20.0</td>\n",
       "      <td>23.0</td>\n",
       "      <td>0.0</td>\n",
       "      <td>0.015</td>\n",
       "      <td>0.001</td>\n",
       "      <td>0.649123</td>\n",
       "      <td>1.000000</td>\n",
       "      <td>0.621622</td>\n",
       "    </tr>\n",
       "    <tr>\n",
       "      <th>2021-12-14 11:15:00 -&gt; 2022-03-23 15:00:00</th>\n",
       "      <td>40.0</td>\n",
       "      <td>19.0</td>\n",
       "      <td>59.0</td>\n",
       "      <td>34.0</td>\n",
       "      <td>25.0</td>\n",
       "      <td>15.0</td>\n",
       "      <td>19.0</td>\n",
       "      <td>25.0</td>\n",
       "      <td>0.0</td>\n",
       "      <td>0.015</td>\n",
       "      <td>0.002</td>\n",
       "      <td>0.677966</td>\n",
       "      <td>1.000000</td>\n",
       "      <td>0.625000</td>\n",
       "    </tr>\n",
       "    <tr>\n",
       "      <th>2021-12-14 11:15:00 -&gt; 2022-03-23 15:00:00</th>\n",
       "      <td>43.0</td>\n",
       "      <td>19.0</td>\n",
       "      <td>62.0</td>\n",
       "      <td>34.0</td>\n",
       "      <td>28.0</td>\n",
       "      <td>15.0</td>\n",
       "      <td>19.0</td>\n",
       "      <td>28.0</td>\n",
       "      <td>0.0</td>\n",
       "      <td>0.015</td>\n",
       "      <td>0.003</td>\n",
       "      <td>0.693548</td>\n",
       "      <td>1.000000</td>\n",
       "      <td>0.651163</td>\n",
       "    </tr>\n",
       "  </tbody>\n",
       "</table>\n",
       "</div>"
      ],
      "text/plain": [
       "                                              win  lose  total round  \\\n",
       "2021-12-14 09:30:00 -> 2022-03-23 15:00:00  179.0  47.0        226.0   \n",
       "2021-12-14 09:30:00 -> 2022-03-23 15:00:00  207.0  48.0        255.0   \n",
       "2021-12-14 09:30:00 -> 2022-03-23 15:00:00  262.0  49.0        311.0   \n",
       "2021-12-14 09:30:00 -> 2022-03-23 15:00:00  329.0  49.0        378.0   \n",
       "2021-12-14 09:32:00 -> 2022-03-23 15:00:00  148.0  41.0        189.0   \n",
       "2021-12-14 09:32:00 -> 2022-03-23 15:00:00  165.0  42.0        207.0   \n",
       "2021-12-14 09:32:00 -> 2022-03-23 15:00:00  196.0  44.0        240.0   \n",
       "2021-12-14 09:32:00 -> 2022-03-23 15:00:00  235.0  44.0        279.0   \n",
       "2021-12-14 10:33:00 -> 2022-03-23 15:00:00  107.0  41.0        148.0   \n",
       "2021-12-14 10:33:00 -> 2022-03-23 15:00:00  119.0  42.0        161.0   \n",
       "2021-12-14 10:33:00 -> 2022-03-23 15:00:00  135.0  41.0        176.0   \n",
       "2021-12-14 10:33:00 -> 2022-03-23 15:00:00  159.0  40.0        199.0   \n",
       "2021-12-14 10:34:00 -> 2022-03-23 15:00:00   87.0  40.0        127.0   \n",
       "2021-12-14 10:34:00 -> 2022-03-23 15:00:00   96.0  40.0        136.0   \n",
       "2021-12-14 10:34:00 -> 2022-03-23 15:00:00  105.0  38.0        143.0   \n",
       "2021-12-14 10:34:00 -> 2022-03-23 15:00:00  122.0  37.0        159.0   \n",
       "2021-12-14 10:34:00 -> 2022-03-23 15:00:00   76.0  35.0        111.0   \n",
       "2021-12-14 10:34:00 -> 2022-03-23 15:00:00   84.0  35.0        119.0   \n",
       "2021-12-14 10:34:00 -> 2022-03-23 15:00:00   89.0  35.0        124.0   \n",
       "2021-12-14 10:34:00 -> 2022-03-23 15:00:00  103.0  34.0        137.0   \n",
       "2021-12-14 10:36:00 -> 2022-03-23 15:00:00   70.0  32.0        102.0   \n",
       "2021-12-14 10:36:00 -> 2022-03-23 15:00:00   73.0  32.0        105.0   \n",
       "2021-12-14 10:36:00 -> 2022-03-23 15:00:00   77.0  32.0        109.0   \n",
       "2021-12-14 10:36:00 -> 2022-03-23 15:00:00   83.0  32.0        115.0   \n",
       "2021-12-14 10:36:00 -> 2022-03-23 15:00:00   58.0  30.0         88.0   \n",
       "2021-12-14 10:36:00 -> 2022-03-23 15:00:00   60.0  30.0         90.0   \n",
       "2021-12-14 10:36:00 -> 2022-03-23 15:00:00   63.0  31.0         94.0   \n",
       "2021-12-14 10:36:00 -> 2022-03-23 15:00:00   67.0  32.0         99.0   \n",
       "2021-12-14 10:37:00 -> 2022-03-23 15:00:00   51.0  26.0         77.0   \n",
       "2021-12-14 10:37:00 -> 2022-03-23 15:00:00   53.0  26.0         79.0   \n",
       "2021-12-14 10:37:00 -> 2022-03-23 15:00:00   56.0  26.0         82.0   \n",
       "2021-12-14 10:37:00 -> 2022-03-23 15:00:00   59.0  27.0         86.0   \n",
       "2021-12-14 11:09:00 -> 2022-03-23 15:00:00   46.0  24.0         70.0   \n",
       "2021-12-14 11:09:00 -> 2022-03-23 15:00:00   47.0  24.0         71.0   \n",
       "2021-12-14 11:09:00 -> 2022-03-23 15:00:00   50.0  24.0         74.0   \n",
       "2021-12-14 11:09:00 -> 2022-03-23 15:00:00   53.0  24.0         77.0   \n",
       "2021-12-14 11:14:00 -> 2022-03-23 15:00:00   39.0  23.0         62.0   \n",
       "2021-12-14 11:14:00 -> 2022-03-23 15:00:00   40.0  23.0         63.0   \n",
       "2021-12-14 11:14:00 -> 2022-03-23 15:00:00   44.0  22.0         66.0   \n",
       "2021-12-14 11:14:00 -> 2022-03-23 15:00:00   47.0  22.0         69.0   \n",
       "2021-12-14 11:15:00 -> 2022-03-23 15:00:00   37.0  20.0         57.0   \n",
       "2021-12-14 11:15:00 -> 2022-03-23 15:00:00   37.0  20.0         57.0   \n",
       "2021-12-14 11:15:00 -> 2022-03-23 15:00:00   40.0  19.0         59.0   \n",
       "2021-12-14 11:15:00 -> 2022-03-23 15:00:00   43.0  19.0         62.0   \n",
       "\n",
       "                                            close by time  close by signal  \\\n",
       "2021-12-14 09:30:00 -> 2022-03-23 15:00:00           57.0            169.0   \n",
       "2021-12-14 09:30:00 -> 2022-03-23 15:00:00           56.0            199.0   \n",
       "2021-12-14 09:30:00 -> 2022-03-23 15:00:00           56.0            255.0   \n",
       "2021-12-14 09:30:00 -> 2022-03-23 15:00:00           53.0            325.0   \n",
       "2021-12-14 09:32:00 -> 2022-03-23 15:00:00           55.0            134.0   \n",
       "2021-12-14 09:32:00 -> 2022-03-23 15:00:00           53.0            154.0   \n",
       "2021-12-14 09:32:00 -> 2022-03-23 15:00:00           53.0            187.0   \n",
       "2021-12-14 09:32:00 -> 2022-03-23 15:00:00           50.0            229.0   \n",
       "2021-12-14 10:33:00 -> 2022-03-23 15:00:00           52.0             96.0   \n",
       "2021-12-14 10:33:00 -> 2022-03-23 15:00:00           50.0            111.0   \n",
       "2021-12-14 10:33:00 -> 2022-03-23 15:00:00           49.0            127.0   \n",
       "2021-12-14 10:33:00 -> 2022-03-23 15:00:00           48.0            151.0   \n",
       "2021-12-14 10:34:00 -> 2022-03-23 15:00:00           50.0             77.0   \n",
       "2021-12-14 10:34:00 -> 2022-03-23 15:00:00           49.0             87.0   \n",
       "2021-12-14 10:34:00 -> 2022-03-23 15:00:00           46.0             97.0   \n",
       "2021-12-14 10:34:00 -> 2022-03-23 15:00:00           45.0            114.0   \n",
       "2021-12-14 10:34:00 -> 2022-03-23 15:00:00           48.0             63.0   \n",
       "2021-12-14 10:34:00 -> 2022-03-23 15:00:00           47.0             72.0   \n",
       "2021-12-14 10:34:00 -> 2022-03-23 15:00:00           45.0             79.0   \n",
       "2021-12-14 10:34:00 -> 2022-03-23 15:00:00           44.0             93.0   \n",
       "2021-12-14 10:36:00 -> 2022-03-23 15:00:00           46.0             56.0   \n",
       "2021-12-14 10:36:00 -> 2022-03-23 15:00:00           45.0             60.0   \n",
       "2021-12-14 10:36:00 -> 2022-03-23 15:00:00           43.0             66.0   \n",
       "2021-12-14 10:36:00 -> 2022-03-23 15:00:00           43.0             72.0   \n",
       "2021-12-14 10:36:00 -> 2022-03-23 15:00:00           43.0             45.0   \n",
       "2021-12-14 10:36:00 -> 2022-03-23 15:00:00           42.0             48.0   \n",
       "2021-12-14 10:36:00 -> 2022-03-23 15:00:00           41.0             53.0   \n",
       "2021-12-14 10:36:00 -> 2022-03-23 15:00:00           41.0             58.0   \n",
       "2021-12-14 10:37:00 -> 2022-03-23 15:00:00           38.0             39.0   \n",
       "2021-12-14 10:37:00 -> 2022-03-23 15:00:00           37.0             42.0   \n",
       "2021-12-14 10:37:00 -> 2022-03-23 15:00:00           36.0             46.0   \n",
       "2021-12-14 10:37:00 -> 2022-03-23 15:00:00           36.0             50.0   \n",
       "2021-12-14 11:09:00 -> 2022-03-23 15:00:00           37.0             33.0   \n",
       "2021-12-14 11:09:00 -> 2022-03-23 15:00:00           36.0             35.0   \n",
       "2021-12-14 11:09:00 -> 2022-03-23 15:00:00           35.0             39.0   \n",
       "2021-12-14 11:09:00 -> 2022-03-23 15:00:00           35.0             42.0   \n",
       "2021-12-14 11:14:00 -> 2022-03-23 15:00:00           36.0             26.0   \n",
       "2021-12-14 11:14:00 -> 2022-03-23 15:00:00           36.0             27.0   \n",
       "2021-12-14 11:14:00 -> 2022-03-23 15:00:00           35.0             31.0   \n",
       "2021-12-14 11:14:00 -> 2022-03-23 15:00:00           35.0             34.0   \n",
       "2021-12-14 11:15:00 -> 2022-03-23 15:00:00           35.0             22.0   \n",
       "2021-12-14 11:15:00 -> 2022-03-23 15:00:00           34.0             23.0   \n",
       "2021-12-14 11:15:00 -> 2022-03-23 15:00:00           34.0             25.0   \n",
       "2021-12-14 11:15:00 -> 2022-03-23 15:00:00           34.0             28.0   \n",
       "\n",
       "                                            close by time win  \\\n",
       "2021-12-14 09:30:00 -> 2022-03-23 15:00:00               11.0   \n",
       "2021-12-14 09:30:00 -> 2022-03-23 15:00:00               10.0   \n",
       "2021-12-14 09:30:00 -> 2022-03-23 15:00:00                9.0   \n",
       "2021-12-14 09:30:00 -> 2022-03-23 15:00:00                7.0   \n",
       "2021-12-14 09:32:00 -> 2022-03-23 15:00:00               15.0   \n",
       "2021-12-14 09:32:00 -> 2022-03-23 15:00:00               13.0   \n",
       "2021-12-14 09:32:00 -> 2022-03-23 15:00:00               11.0   \n",
       "2021-12-14 09:32:00 -> 2022-03-23 15:00:00                8.0   \n",
       "2021-12-14 10:33:00 -> 2022-03-23 15:00:00               12.0   \n",
       "2021-12-14 10:33:00 -> 2022-03-23 15:00:00               10.0   \n",
       "2021-12-14 10:33:00 -> 2022-03-23 15:00:00               10.0   \n",
       "2021-12-14 10:33:00 -> 2022-03-23 15:00:00               10.0   \n",
       "2021-12-14 10:34:00 -> 2022-03-23 15:00:00               10.0   \n",
       "2021-12-14 10:34:00 -> 2022-03-23 15:00:00                9.0   \n",
       "2021-12-14 10:34:00 -> 2022-03-23 15:00:00                8.0   \n",
       "2021-12-14 10:34:00 -> 2022-03-23 15:00:00                8.0   \n",
       "2021-12-14 10:34:00 -> 2022-03-23 15:00:00               13.0   \n",
       "2021-12-14 10:34:00 -> 2022-03-23 15:00:00               12.0   \n",
       "2021-12-14 10:34:00 -> 2022-03-23 15:00:00               10.0   \n",
       "2021-12-14 10:34:00 -> 2022-03-23 15:00:00               10.0   \n",
       "2021-12-14 10:36:00 -> 2022-03-23 15:00:00               14.0   \n",
       "2021-12-14 10:36:00 -> 2022-03-23 15:00:00               13.0   \n",
       "2021-12-14 10:36:00 -> 2022-03-23 15:00:00               11.0   \n",
       "2021-12-14 10:36:00 -> 2022-03-23 15:00:00               11.0   \n",
       "2021-12-14 10:36:00 -> 2022-03-23 15:00:00               13.0   \n",
       "2021-12-14 10:36:00 -> 2022-03-23 15:00:00               12.0   \n",
       "2021-12-14 10:36:00 -> 2022-03-23 15:00:00               10.0   \n",
       "2021-12-14 10:36:00 -> 2022-03-23 15:00:00                9.0   \n",
       "2021-12-14 10:37:00 -> 2022-03-23 15:00:00               12.0   \n",
       "2021-12-14 10:37:00 -> 2022-03-23 15:00:00               11.0   \n",
       "2021-12-14 10:37:00 -> 2022-03-23 15:00:00               10.0   \n",
       "2021-12-14 10:37:00 -> 2022-03-23 15:00:00                9.0   \n",
       "2021-12-14 11:09:00 -> 2022-03-23 15:00:00               13.0   \n",
       "2021-12-14 11:09:00 -> 2022-03-23 15:00:00               12.0   \n",
       "2021-12-14 11:09:00 -> 2022-03-23 15:00:00               11.0   \n",
       "2021-12-14 11:09:00 -> 2022-03-23 15:00:00               11.0   \n",
       "2021-12-14 11:14:00 -> 2022-03-23 15:00:00               13.0   \n",
       "2021-12-14 11:14:00 -> 2022-03-23 15:00:00               13.0   \n",
       "2021-12-14 11:14:00 -> 2022-03-23 15:00:00               13.0   \n",
       "2021-12-14 11:14:00 -> 2022-03-23 15:00:00               13.0   \n",
       "2021-12-14 11:15:00 -> 2022-03-23 15:00:00               15.0   \n",
       "2021-12-14 11:15:00 -> 2022-03-23 15:00:00               14.0   \n",
       "2021-12-14 11:15:00 -> 2022-03-23 15:00:00               15.0   \n",
       "2021-12-14 11:15:00 -> 2022-03-23 15:00:00               15.0   \n",
       "\n",
       "                                            close by time lose  \\\n",
       "2021-12-14 09:30:00 -> 2022-03-23 15:00:00                46.0   \n",
       "2021-12-14 09:30:00 -> 2022-03-23 15:00:00                46.0   \n",
       "2021-12-14 09:30:00 -> 2022-03-23 15:00:00                47.0   \n",
       "2021-12-14 09:30:00 -> 2022-03-23 15:00:00                46.0   \n",
       "2021-12-14 09:32:00 -> 2022-03-23 15:00:00                40.0   \n",
       "2021-12-14 09:32:00 -> 2022-03-23 15:00:00                40.0   \n",
       "2021-12-14 09:32:00 -> 2022-03-23 15:00:00                42.0   \n",
       "2021-12-14 09:32:00 -> 2022-03-23 15:00:00                42.0   \n",
       "2021-12-14 10:33:00 -> 2022-03-23 15:00:00                40.0   \n",
       "2021-12-14 10:33:00 -> 2022-03-23 15:00:00                40.0   \n",
       "2021-12-14 10:33:00 -> 2022-03-23 15:00:00                39.0   \n",
       "2021-12-14 10:33:00 -> 2022-03-23 15:00:00                38.0   \n",
       "2021-12-14 10:34:00 -> 2022-03-23 15:00:00                40.0   \n",
       "2021-12-14 10:34:00 -> 2022-03-23 15:00:00                40.0   \n",
       "2021-12-14 10:34:00 -> 2022-03-23 15:00:00                38.0   \n",
       "2021-12-14 10:34:00 -> 2022-03-23 15:00:00                37.0   \n",
       "2021-12-14 10:34:00 -> 2022-03-23 15:00:00                35.0   \n",
       "2021-12-14 10:34:00 -> 2022-03-23 15:00:00                35.0   \n",
       "2021-12-14 10:34:00 -> 2022-03-23 15:00:00                35.0   \n",
       "2021-12-14 10:34:00 -> 2022-03-23 15:00:00                34.0   \n",
       "2021-12-14 10:36:00 -> 2022-03-23 15:00:00                32.0   \n",
       "2021-12-14 10:36:00 -> 2022-03-23 15:00:00                32.0   \n",
       "2021-12-14 10:36:00 -> 2022-03-23 15:00:00                32.0   \n",
       "2021-12-14 10:36:00 -> 2022-03-23 15:00:00                32.0   \n",
       "2021-12-14 10:36:00 -> 2022-03-23 15:00:00                30.0   \n",
       "2021-12-14 10:36:00 -> 2022-03-23 15:00:00                30.0   \n",
       "2021-12-14 10:36:00 -> 2022-03-23 15:00:00                31.0   \n",
       "2021-12-14 10:36:00 -> 2022-03-23 15:00:00                32.0   \n",
       "2021-12-14 10:37:00 -> 2022-03-23 15:00:00                26.0   \n",
       "2021-12-14 10:37:00 -> 2022-03-23 15:00:00                26.0   \n",
       "2021-12-14 10:37:00 -> 2022-03-23 15:00:00                26.0   \n",
       "2021-12-14 10:37:00 -> 2022-03-23 15:00:00                27.0   \n",
       "2021-12-14 11:09:00 -> 2022-03-23 15:00:00                24.0   \n",
       "2021-12-14 11:09:00 -> 2022-03-23 15:00:00                24.0   \n",
       "2021-12-14 11:09:00 -> 2022-03-23 15:00:00                24.0   \n",
       "2021-12-14 11:09:00 -> 2022-03-23 15:00:00                24.0   \n",
       "2021-12-14 11:14:00 -> 2022-03-23 15:00:00                23.0   \n",
       "2021-12-14 11:14:00 -> 2022-03-23 15:00:00                23.0   \n",
       "2021-12-14 11:14:00 -> 2022-03-23 15:00:00                22.0   \n",
       "2021-12-14 11:14:00 -> 2022-03-23 15:00:00                22.0   \n",
       "2021-12-14 11:15:00 -> 2022-03-23 15:00:00                20.0   \n",
       "2021-12-14 11:15:00 -> 2022-03-23 15:00:00                20.0   \n",
       "2021-12-14 11:15:00 -> 2022-03-23 15:00:00                19.0   \n",
       "2021-12-14 11:15:00 -> 2022-03-23 15:00:00                19.0   \n",
       "\n",
       "                                            close by signal win  \\\n",
       "2021-12-14 09:30:00 -> 2022-03-23 15:00:00                168.0   \n",
       "2021-12-14 09:30:00 -> 2022-03-23 15:00:00                197.0   \n",
       "2021-12-14 09:30:00 -> 2022-03-23 15:00:00                253.0   \n",
       "2021-12-14 09:30:00 -> 2022-03-23 15:00:00                322.0   \n",
       "2021-12-14 09:32:00 -> 2022-03-23 15:00:00                133.0   \n",
       "2021-12-14 09:32:00 -> 2022-03-23 15:00:00                152.0   \n",
       "2021-12-14 09:32:00 -> 2022-03-23 15:00:00                185.0   \n",
       "2021-12-14 09:32:00 -> 2022-03-23 15:00:00                227.0   \n",
       "2021-12-14 10:33:00 -> 2022-03-23 15:00:00                 95.0   \n",
       "2021-12-14 10:33:00 -> 2022-03-23 15:00:00                109.0   \n",
       "2021-12-14 10:33:00 -> 2022-03-23 15:00:00                125.0   \n",
       "2021-12-14 10:33:00 -> 2022-03-23 15:00:00                149.0   \n",
       "2021-12-14 10:34:00 -> 2022-03-23 15:00:00                 77.0   \n",
       "2021-12-14 10:34:00 -> 2022-03-23 15:00:00                 87.0   \n",
       "2021-12-14 10:34:00 -> 2022-03-23 15:00:00                 97.0   \n",
       "2021-12-14 10:34:00 -> 2022-03-23 15:00:00                114.0   \n",
       "2021-12-14 10:34:00 -> 2022-03-23 15:00:00                 63.0   \n",
       "2021-12-14 10:34:00 -> 2022-03-23 15:00:00                 72.0   \n",
       "2021-12-14 10:34:00 -> 2022-03-23 15:00:00                 79.0   \n",
       "2021-12-14 10:34:00 -> 2022-03-23 15:00:00                 93.0   \n",
       "2021-12-14 10:36:00 -> 2022-03-23 15:00:00                 56.0   \n",
       "2021-12-14 10:36:00 -> 2022-03-23 15:00:00                 60.0   \n",
       "2021-12-14 10:36:00 -> 2022-03-23 15:00:00                 66.0   \n",
       "2021-12-14 10:36:00 -> 2022-03-23 15:00:00                 72.0   \n",
       "2021-12-14 10:36:00 -> 2022-03-23 15:00:00                 45.0   \n",
       "2021-12-14 10:36:00 -> 2022-03-23 15:00:00                 48.0   \n",
       "2021-12-14 10:36:00 -> 2022-03-23 15:00:00                 53.0   \n",
       "2021-12-14 10:36:00 -> 2022-03-23 15:00:00                 58.0   \n",
       "2021-12-14 10:37:00 -> 2022-03-23 15:00:00                 39.0   \n",
       "2021-12-14 10:37:00 -> 2022-03-23 15:00:00                 42.0   \n",
       "2021-12-14 10:37:00 -> 2022-03-23 15:00:00                 46.0   \n",
       "2021-12-14 10:37:00 -> 2022-03-23 15:00:00                 50.0   \n",
       "2021-12-14 11:09:00 -> 2022-03-23 15:00:00                 33.0   \n",
       "2021-12-14 11:09:00 -> 2022-03-23 15:00:00                 35.0   \n",
       "2021-12-14 11:09:00 -> 2022-03-23 15:00:00                 39.0   \n",
       "2021-12-14 11:09:00 -> 2022-03-23 15:00:00                 42.0   \n",
       "2021-12-14 11:14:00 -> 2022-03-23 15:00:00                 26.0   \n",
       "2021-12-14 11:14:00 -> 2022-03-23 15:00:00                 27.0   \n",
       "2021-12-14 11:14:00 -> 2022-03-23 15:00:00                 31.0   \n",
       "2021-12-14 11:14:00 -> 2022-03-23 15:00:00                 34.0   \n",
       "2021-12-14 11:15:00 -> 2022-03-23 15:00:00                 22.0   \n",
       "2021-12-14 11:15:00 -> 2022-03-23 15:00:00                 23.0   \n",
       "2021-12-14 11:15:00 -> 2022-03-23 15:00:00                 25.0   \n",
       "2021-12-14 11:15:00 -> 2022-03-23 15:00:00                 28.0   \n",
       "\n",
       "                                            close by signal lose  \\\n",
       "2021-12-14 09:30:00 -> 2022-03-23 15:00:00                   1.0   \n",
       "2021-12-14 09:30:00 -> 2022-03-23 15:00:00                   2.0   \n",
       "2021-12-14 09:30:00 -> 2022-03-23 15:00:00                   2.0   \n",
       "2021-12-14 09:30:00 -> 2022-03-23 15:00:00                   3.0   \n",
       "2021-12-14 09:32:00 -> 2022-03-23 15:00:00                   1.0   \n",
       "2021-12-14 09:32:00 -> 2022-03-23 15:00:00                   2.0   \n",
       "2021-12-14 09:32:00 -> 2022-03-23 15:00:00                   2.0   \n",
       "2021-12-14 09:32:00 -> 2022-03-23 15:00:00                   2.0   \n",
       "2021-12-14 10:33:00 -> 2022-03-23 15:00:00                   1.0   \n",
       "2021-12-14 10:33:00 -> 2022-03-23 15:00:00                   2.0   \n",
       "2021-12-14 10:33:00 -> 2022-03-23 15:00:00                   2.0   \n",
       "2021-12-14 10:33:00 -> 2022-03-23 15:00:00                   2.0   \n",
       "2021-12-14 10:34:00 -> 2022-03-23 15:00:00                   0.0   \n",
       "2021-12-14 10:34:00 -> 2022-03-23 15:00:00                   0.0   \n",
       "2021-12-14 10:34:00 -> 2022-03-23 15:00:00                   0.0   \n",
       "2021-12-14 10:34:00 -> 2022-03-23 15:00:00                   0.0   \n",
       "2021-12-14 10:34:00 -> 2022-03-23 15:00:00                   0.0   \n",
       "2021-12-14 10:34:00 -> 2022-03-23 15:00:00                   0.0   \n",
       "2021-12-14 10:34:00 -> 2022-03-23 15:00:00                   0.0   \n",
       "2021-12-14 10:34:00 -> 2022-03-23 15:00:00                   0.0   \n",
       "2021-12-14 10:36:00 -> 2022-03-23 15:00:00                   0.0   \n",
       "2021-12-14 10:36:00 -> 2022-03-23 15:00:00                   0.0   \n",
       "2021-12-14 10:36:00 -> 2022-03-23 15:00:00                   0.0   \n",
       "2021-12-14 10:36:00 -> 2022-03-23 15:00:00                   0.0   \n",
       "2021-12-14 10:36:00 -> 2022-03-23 15:00:00                   0.0   \n",
       "2021-12-14 10:36:00 -> 2022-03-23 15:00:00                   0.0   \n",
       "2021-12-14 10:36:00 -> 2022-03-23 15:00:00                   0.0   \n",
       "2021-12-14 10:36:00 -> 2022-03-23 15:00:00                   0.0   \n",
       "2021-12-14 10:37:00 -> 2022-03-23 15:00:00                   0.0   \n",
       "2021-12-14 10:37:00 -> 2022-03-23 15:00:00                   0.0   \n",
       "2021-12-14 10:37:00 -> 2022-03-23 15:00:00                   0.0   \n",
       "2021-12-14 10:37:00 -> 2022-03-23 15:00:00                   0.0   \n",
       "2021-12-14 11:09:00 -> 2022-03-23 15:00:00                   0.0   \n",
       "2021-12-14 11:09:00 -> 2022-03-23 15:00:00                   0.0   \n",
       "2021-12-14 11:09:00 -> 2022-03-23 15:00:00                   0.0   \n",
       "2021-12-14 11:09:00 -> 2022-03-23 15:00:00                   0.0   \n",
       "2021-12-14 11:14:00 -> 2022-03-23 15:00:00                   0.0   \n",
       "2021-12-14 11:14:00 -> 2022-03-23 15:00:00                   0.0   \n",
       "2021-12-14 11:14:00 -> 2022-03-23 15:00:00                   0.0   \n",
       "2021-12-14 11:14:00 -> 2022-03-23 15:00:00                   0.0   \n",
       "2021-12-14 11:15:00 -> 2022-03-23 15:00:00                   0.0   \n",
       "2021-12-14 11:15:00 -> 2022-03-23 15:00:00                   0.0   \n",
       "2021-12-14 11:15:00 -> 2022-03-23 15:00:00                   0.0   \n",
       "2021-12-14 11:15:00 -> 2022-03-23 15:00:00                   0.0   \n",
       "\n",
       "                                            open threshold  close threshold  \\\n",
       "2021-12-14 09:30:00 -> 2022-03-23 15:00:00           0.005            0.000   \n",
       "2021-12-14 09:30:00 -> 2022-03-23 15:00:00           0.005            0.001   \n",
       "2021-12-14 09:30:00 -> 2022-03-23 15:00:00           0.005            0.002   \n",
       "2021-12-14 09:30:00 -> 2022-03-23 15:00:00           0.005            0.003   \n",
       "2021-12-14 09:32:00 -> 2022-03-23 15:00:00           0.006            0.000   \n",
       "2021-12-14 09:32:00 -> 2022-03-23 15:00:00           0.006            0.001   \n",
       "2021-12-14 09:32:00 -> 2022-03-23 15:00:00           0.006            0.002   \n",
       "2021-12-14 09:32:00 -> 2022-03-23 15:00:00           0.006            0.003   \n",
       "2021-12-14 10:33:00 -> 2022-03-23 15:00:00           0.007            0.000   \n",
       "2021-12-14 10:33:00 -> 2022-03-23 15:00:00           0.007            0.001   \n",
       "2021-12-14 10:33:00 -> 2022-03-23 15:00:00           0.007            0.002   \n",
       "2021-12-14 10:33:00 -> 2022-03-23 15:00:00           0.007            0.003   \n",
       "2021-12-14 10:34:00 -> 2022-03-23 15:00:00           0.008            0.000   \n",
       "2021-12-14 10:34:00 -> 2022-03-23 15:00:00           0.008            0.001   \n",
       "2021-12-14 10:34:00 -> 2022-03-23 15:00:00           0.008            0.002   \n",
       "2021-12-14 10:34:00 -> 2022-03-23 15:00:00           0.008            0.003   \n",
       "2021-12-14 10:34:00 -> 2022-03-23 15:00:00           0.009            0.000   \n",
       "2021-12-14 10:34:00 -> 2022-03-23 15:00:00           0.009            0.001   \n",
       "2021-12-14 10:34:00 -> 2022-03-23 15:00:00           0.009            0.002   \n",
       "2021-12-14 10:34:00 -> 2022-03-23 15:00:00           0.009            0.003   \n",
       "2021-12-14 10:36:00 -> 2022-03-23 15:00:00           0.010            0.000   \n",
       "2021-12-14 10:36:00 -> 2022-03-23 15:00:00           0.010            0.001   \n",
       "2021-12-14 10:36:00 -> 2022-03-23 15:00:00           0.010            0.002   \n",
       "2021-12-14 10:36:00 -> 2022-03-23 15:00:00           0.010            0.003   \n",
       "2021-12-14 10:36:00 -> 2022-03-23 15:00:00           0.011            0.000   \n",
       "2021-12-14 10:36:00 -> 2022-03-23 15:00:00           0.011            0.001   \n",
       "2021-12-14 10:36:00 -> 2022-03-23 15:00:00           0.011            0.002   \n",
       "2021-12-14 10:36:00 -> 2022-03-23 15:00:00           0.011            0.003   \n",
       "2021-12-14 10:37:00 -> 2022-03-23 15:00:00           0.012            0.000   \n",
       "2021-12-14 10:37:00 -> 2022-03-23 15:00:00           0.012            0.001   \n",
       "2021-12-14 10:37:00 -> 2022-03-23 15:00:00           0.012            0.002   \n",
       "2021-12-14 10:37:00 -> 2022-03-23 15:00:00           0.012            0.003   \n",
       "2021-12-14 11:09:00 -> 2022-03-23 15:00:00           0.013            0.000   \n",
       "2021-12-14 11:09:00 -> 2022-03-23 15:00:00           0.013            0.001   \n",
       "2021-12-14 11:09:00 -> 2022-03-23 15:00:00           0.013            0.002   \n",
       "2021-12-14 11:09:00 -> 2022-03-23 15:00:00           0.013            0.003   \n",
       "2021-12-14 11:14:00 -> 2022-03-23 15:00:00           0.014            0.000   \n",
       "2021-12-14 11:14:00 -> 2022-03-23 15:00:00           0.014            0.001   \n",
       "2021-12-14 11:14:00 -> 2022-03-23 15:00:00           0.014            0.002   \n",
       "2021-12-14 11:14:00 -> 2022-03-23 15:00:00           0.014            0.003   \n",
       "2021-12-14 11:15:00 -> 2022-03-23 15:00:00           0.015            0.000   \n",
       "2021-12-14 11:15:00 -> 2022-03-23 15:00:00           0.015            0.001   \n",
       "2021-12-14 11:15:00 -> 2022-03-23 15:00:00           0.015            0.002   \n",
       "2021-12-14 11:15:00 -> 2022-03-23 15:00:00           0.015            0.003   \n",
       "\n",
       "                                            win rate  close by time lose/lose  \\\n",
       "2021-12-14 09:30:00 -> 2022-03-23 15:00:00  0.792035                 0.978723   \n",
       "2021-12-14 09:30:00 -> 2022-03-23 15:00:00  0.811765                 0.958333   \n",
       "2021-12-14 09:30:00 -> 2022-03-23 15:00:00  0.842444                 0.959184   \n",
       "2021-12-14 09:30:00 -> 2022-03-23 15:00:00  0.870370                 0.938776   \n",
       "2021-12-14 09:32:00 -> 2022-03-23 15:00:00  0.783069                 0.975610   \n",
       "2021-12-14 09:32:00 -> 2022-03-23 15:00:00  0.797101                 0.952381   \n",
       "2021-12-14 09:32:00 -> 2022-03-23 15:00:00  0.816667                 0.954545   \n",
       "2021-12-14 09:32:00 -> 2022-03-23 15:00:00  0.842294                 0.954545   \n",
       "2021-12-14 10:33:00 -> 2022-03-23 15:00:00  0.722973                 0.975610   \n",
       "2021-12-14 10:33:00 -> 2022-03-23 15:00:00  0.739130                 0.952381   \n",
       "2021-12-14 10:33:00 -> 2022-03-23 15:00:00  0.767045                 0.951220   \n",
       "2021-12-14 10:33:00 -> 2022-03-23 15:00:00  0.798995                 0.950000   \n",
       "2021-12-14 10:34:00 -> 2022-03-23 15:00:00  0.685039                 1.000000   \n",
       "2021-12-14 10:34:00 -> 2022-03-23 15:00:00  0.705882                 1.000000   \n",
       "2021-12-14 10:34:00 -> 2022-03-23 15:00:00  0.734266                 1.000000   \n",
       "2021-12-14 10:34:00 -> 2022-03-23 15:00:00  0.767296                 1.000000   \n",
       "2021-12-14 10:34:00 -> 2022-03-23 15:00:00  0.684685                 1.000000   \n",
       "2021-12-14 10:34:00 -> 2022-03-23 15:00:00  0.705882                 1.000000   \n",
       "2021-12-14 10:34:00 -> 2022-03-23 15:00:00  0.717742                 1.000000   \n",
       "2021-12-14 10:34:00 -> 2022-03-23 15:00:00  0.751825                 1.000000   \n",
       "2021-12-14 10:36:00 -> 2022-03-23 15:00:00  0.686275                 1.000000   \n",
       "2021-12-14 10:36:00 -> 2022-03-23 15:00:00  0.695238                 1.000000   \n",
       "2021-12-14 10:36:00 -> 2022-03-23 15:00:00  0.706422                 1.000000   \n",
       "2021-12-14 10:36:00 -> 2022-03-23 15:00:00  0.721739                 1.000000   \n",
       "2021-12-14 10:36:00 -> 2022-03-23 15:00:00  0.659091                 1.000000   \n",
       "2021-12-14 10:36:00 -> 2022-03-23 15:00:00  0.666667                 1.000000   \n",
       "2021-12-14 10:36:00 -> 2022-03-23 15:00:00  0.670213                 1.000000   \n",
       "2021-12-14 10:36:00 -> 2022-03-23 15:00:00  0.676768                 1.000000   \n",
       "2021-12-14 10:37:00 -> 2022-03-23 15:00:00  0.662338                 1.000000   \n",
       "2021-12-14 10:37:00 -> 2022-03-23 15:00:00  0.670886                 1.000000   \n",
       "2021-12-14 10:37:00 -> 2022-03-23 15:00:00  0.682927                 1.000000   \n",
       "2021-12-14 10:37:00 -> 2022-03-23 15:00:00  0.686047                 1.000000   \n",
       "2021-12-14 11:09:00 -> 2022-03-23 15:00:00  0.657143                 1.000000   \n",
       "2021-12-14 11:09:00 -> 2022-03-23 15:00:00  0.661972                 1.000000   \n",
       "2021-12-14 11:09:00 -> 2022-03-23 15:00:00  0.675676                 1.000000   \n",
       "2021-12-14 11:09:00 -> 2022-03-23 15:00:00  0.688312                 1.000000   \n",
       "2021-12-14 11:14:00 -> 2022-03-23 15:00:00  0.629032                 1.000000   \n",
       "2021-12-14 11:14:00 -> 2022-03-23 15:00:00  0.634921                 1.000000   \n",
       "2021-12-14 11:14:00 -> 2022-03-23 15:00:00  0.666667                 1.000000   \n",
       "2021-12-14 11:14:00 -> 2022-03-23 15:00:00  0.681159                 1.000000   \n",
       "2021-12-14 11:15:00 -> 2022-03-23 15:00:00  0.649123                 1.000000   \n",
       "2021-12-14 11:15:00 -> 2022-03-23 15:00:00  0.649123                 1.000000   \n",
       "2021-12-14 11:15:00 -> 2022-03-23 15:00:00  0.677966                 1.000000   \n",
       "2021-12-14 11:15:00 -> 2022-03-23 15:00:00  0.693548                 1.000000   \n",
       "\n",
       "                                            close by signal win/win  \n",
       "2021-12-14 09:30:00 -> 2022-03-23 15:00:00                 0.938547  \n",
       "2021-12-14 09:30:00 -> 2022-03-23 15:00:00                 0.951691  \n",
       "2021-12-14 09:30:00 -> 2022-03-23 15:00:00                 0.965649  \n",
       "2021-12-14 09:30:00 -> 2022-03-23 15:00:00                 0.978723  \n",
       "2021-12-14 09:32:00 -> 2022-03-23 15:00:00                 0.898649  \n",
       "2021-12-14 09:32:00 -> 2022-03-23 15:00:00                 0.921212  \n",
       "2021-12-14 09:32:00 -> 2022-03-23 15:00:00                 0.943878  \n",
       "2021-12-14 09:32:00 -> 2022-03-23 15:00:00                 0.965957  \n",
       "2021-12-14 10:33:00 -> 2022-03-23 15:00:00                 0.887850  \n",
       "2021-12-14 10:33:00 -> 2022-03-23 15:00:00                 0.915966  \n",
       "2021-12-14 10:33:00 -> 2022-03-23 15:00:00                 0.925926  \n",
       "2021-12-14 10:33:00 -> 2022-03-23 15:00:00                 0.937107  \n",
       "2021-12-14 10:34:00 -> 2022-03-23 15:00:00                 0.885057  \n",
       "2021-12-14 10:34:00 -> 2022-03-23 15:00:00                 0.906250  \n",
       "2021-12-14 10:34:00 -> 2022-03-23 15:00:00                 0.923810  \n",
       "2021-12-14 10:34:00 -> 2022-03-23 15:00:00                 0.934426  \n",
       "2021-12-14 10:34:00 -> 2022-03-23 15:00:00                 0.828947  \n",
       "2021-12-14 10:34:00 -> 2022-03-23 15:00:00                 0.857143  \n",
       "2021-12-14 10:34:00 -> 2022-03-23 15:00:00                 0.887640  \n",
       "2021-12-14 10:34:00 -> 2022-03-23 15:00:00                 0.902913  \n",
       "2021-12-14 10:36:00 -> 2022-03-23 15:00:00                 0.800000  \n",
       "2021-12-14 10:36:00 -> 2022-03-23 15:00:00                 0.821918  \n",
       "2021-12-14 10:36:00 -> 2022-03-23 15:00:00                 0.857143  \n",
       "2021-12-14 10:36:00 -> 2022-03-23 15:00:00                 0.867470  \n",
       "2021-12-14 10:36:00 -> 2022-03-23 15:00:00                 0.775862  \n",
       "2021-12-14 10:36:00 -> 2022-03-23 15:00:00                 0.800000  \n",
       "2021-12-14 10:36:00 -> 2022-03-23 15:00:00                 0.841270  \n",
       "2021-12-14 10:36:00 -> 2022-03-23 15:00:00                 0.865672  \n",
       "2021-12-14 10:37:00 -> 2022-03-23 15:00:00                 0.764706  \n",
       "2021-12-14 10:37:00 -> 2022-03-23 15:00:00                 0.792453  \n",
       "2021-12-14 10:37:00 -> 2022-03-23 15:00:00                 0.821429  \n",
       "2021-12-14 10:37:00 -> 2022-03-23 15:00:00                 0.847458  \n",
       "2021-12-14 11:09:00 -> 2022-03-23 15:00:00                 0.717391  \n",
       "2021-12-14 11:09:00 -> 2022-03-23 15:00:00                 0.744681  \n",
       "2021-12-14 11:09:00 -> 2022-03-23 15:00:00                 0.780000  \n",
       "2021-12-14 11:09:00 -> 2022-03-23 15:00:00                 0.792453  \n",
       "2021-12-14 11:14:00 -> 2022-03-23 15:00:00                 0.666667  \n",
       "2021-12-14 11:14:00 -> 2022-03-23 15:00:00                 0.675000  \n",
       "2021-12-14 11:14:00 -> 2022-03-23 15:00:00                 0.704545  \n",
       "2021-12-14 11:14:00 -> 2022-03-23 15:00:00                 0.723404  \n",
       "2021-12-14 11:15:00 -> 2022-03-23 15:00:00                 0.594595  \n",
       "2021-12-14 11:15:00 -> 2022-03-23 15:00:00                 0.621622  \n",
       "2021-12-14 11:15:00 -> 2022-03-23 15:00:00                 0.625000  \n",
       "2021-12-14 11:15:00 -> 2022-03-23 15:00:00                 0.651163  "
      ]
     },
     "execution_count": 37,
     "metadata": {},
     "output_type": "execute_result"
    }
   ],
   "source": [
    "tmp_grid_res = df_grid_search_res[['win','lose','total round',\n",
    "                    'close by time','close by signal',\n",
    "                    'close by time win','close by time lose',\n",
    "                    'close by signal win','close by signal lose',\n",
    "                    'open threshold', 'close threshold','win rate'\n",
    "                    ]]\n",
    "tmp_grid_res['close by time lose/lose'] = tmp_grid_res['close by time lose']/tmp_grid_res['lose']\n",
    "tmp_grid_res['close by signal win/win'] = tmp_grid_res['close by signal win']/tmp_grid_res['win']\n",
    "# tmp_df.to_excel('')\n",
    "# tmp_grid_res.to_excel('tmp_grid_res.xlsx')\n",
    "tmp_grid_res"
   ]
  },
  {
   "cell_type": "markdown",
   "metadata": {},
   "source": [
    "# return per round surface"
   ]
  },
  {
   "cell_type": "code",
   "execution_count": 14,
   "metadata": {},
   "outputs": [
    {
     "name": "stdout",
     "output_type": "stream",
     "text": [
      "max return per round: \n",
      " 0.000    0.005445\n",
      "0.001    0.005202\n",
      "0.002    0.005288\n",
      "0.003    0.005349\n",
      "dtype: float64\n",
      "min return per round: \n",
      " 0.000    0.003373\n",
      "0.001    0.003071\n",
      "0.002    0.002642\n",
      "0.003    0.002183\n",
      "dtype: float64\n"
     ]
    },
    {
     "data": {
      "text/html": [
       "<div>\n",
       "<style scoped>\n",
       "    .dataframe tbody tr th:only-of-type {\n",
       "        vertical-align: middle;\n",
       "    }\n",
       "\n",
       "    .dataframe tbody tr th {\n",
       "        vertical-align: top;\n",
       "    }\n",
       "\n",
       "    .dataframe thead th {\n",
       "        text-align: right;\n",
       "    }\n",
       "</style>\n",
       "<table border=\"1\" class=\"dataframe\">\n",
       "  <thead>\n",
       "    <tr style=\"text-align: right;\">\n",
       "      <th></th>\n",
       "      <th>0.000</th>\n",
       "      <th>0.001</th>\n",
       "      <th>0.002</th>\n",
       "      <th>0.003</th>\n",
       "    </tr>\n",
       "  </thead>\n",
       "  <tbody>\n",
       "    <tr>\n",
       "      <th>0.005</th>\n",
       "      <td>0.003373</td>\n",
       "      <td>0.003071</td>\n",
       "      <td>0.002642</td>\n",
       "      <td>0.002183</td>\n",
       "    </tr>\n",
       "    <tr>\n",
       "      <th>0.006</th>\n",
       "      <td>0.003587</td>\n",
       "      <td>0.003310</td>\n",
       "      <td>0.002900</td>\n",
       "      <td>0.002542</td>\n",
       "    </tr>\n",
       "    <tr>\n",
       "      <th>0.007</th>\n",
       "      <td>0.003527</td>\n",
       "      <td>0.003323</td>\n",
       "      <td>0.002909</td>\n",
       "      <td>0.002655</td>\n",
       "    </tr>\n",
       "    <tr>\n",
       "      <th>0.008</th>\n",
       "      <td>0.003747</td>\n",
       "      <td>0.003527</td>\n",
       "      <td>0.003216</td>\n",
       "      <td>0.003027</td>\n",
       "    </tr>\n",
       "    <tr>\n",
       "      <th>0.009</th>\n",
       "      <td>0.003941</td>\n",
       "      <td>0.003778</td>\n",
       "      <td>0.003420</td>\n",
       "      <td>0.003364</td>\n",
       "    </tr>\n",
       "    <tr>\n",
       "      <th>0.010</th>\n",
       "      <td>0.004237</td>\n",
       "      <td>0.003904</td>\n",
       "      <td>0.003596</td>\n",
       "      <td>0.003456</td>\n",
       "    </tr>\n",
       "    <tr>\n",
       "      <th>0.011</th>\n",
       "      <td>0.004277</td>\n",
       "      <td>0.003908</td>\n",
       "      <td>0.003582</td>\n",
       "      <td>0.003541</td>\n",
       "    </tr>\n",
       "    <tr>\n",
       "      <th>0.012</th>\n",
       "      <td>0.004864</td>\n",
       "      <td>0.004450</td>\n",
       "      <td>0.004295</td>\n",
       "      <td>0.004204</td>\n",
       "    </tr>\n",
       "    <tr>\n",
       "      <th>0.013</th>\n",
       "      <td>0.005302</td>\n",
       "      <td>0.004936</td>\n",
       "      <td>0.004836</td>\n",
       "      <td>0.004772</td>\n",
       "    </tr>\n",
       "    <tr>\n",
       "      <th>0.014</th>\n",
       "      <td>0.005445</td>\n",
       "      <td>0.005202</td>\n",
       "      <td>0.005288</td>\n",
       "      <td>0.005349</td>\n",
       "    </tr>\n",
       "    <tr>\n",
       "      <th>0.015</th>\n",
       "      <td>0.005116</td>\n",
       "      <td>0.004801</td>\n",
       "      <td>0.004801</td>\n",
       "      <td>0.005003</td>\n",
       "    </tr>\n",
       "  </tbody>\n",
       "</table>\n",
       "</div>"
      ],
      "text/plain": [
       "          0.000     0.001     0.002     0.003\n",
       "0.005  0.003373  0.003071  0.002642  0.002183\n",
       "0.006  0.003587  0.003310  0.002900  0.002542\n",
       "0.007  0.003527  0.003323  0.002909  0.002655\n",
       "0.008  0.003747  0.003527  0.003216  0.003027\n",
       "0.009  0.003941  0.003778  0.003420  0.003364\n",
       "0.010  0.004237  0.003904  0.003596  0.003456\n",
       "0.011  0.004277  0.003908  0.003582  0.003541\n",
       "0.012  0.004864  0.004450  0.004295  0.004204\n",
       "0.013  0.005302  0.004936  0.004836  0.004772\n",
       "0.014  0.005445  0.005202  0.005288  0.005349\n",
       "0.015  0.005116  0.004801  0.004801  0.005003"
      ]
     },
     "execution_count": 14,
     "metadata": {},
     "output_type": "execute_result"
    }
   ],
   "source": [
    "df_return_per_round = pd.DataFrame([])\n",
    "for index,row in df_grid_search_res.iterrows():\n",
    "    open_threshold = row['open threshold']\n",
    "    close_threshold = row['close threshold']\n",
    "    df_return_per_round.loc[open_threshold,close_threshold] = row['return per round']\n",
    "print('max return per round: \\n',df_return_per_round.max())\n",
    "print('min return per round: \\n',df_return_per_round.min())\n",
    "df_return_per_round"
   ]
  },
  {
   "cell_type": "code",
   "execution_count": 15,
   "metadata": {},
   "outputs": [
    {
     "data": {
      "application/vnd.plotly.v1+json": {
       "config": {
        "plotlyServerURL": "https://plot.ly"
       },
       "data": [
        {
         "type": "surface",
         "x": [
          0,
          0.001,
          0.002,
          0.003
         ],
         "y": [
          0.005,
          0.006,
          0.007,
          0.008,
          0.009,
          0.01,
          0.011,
          0.012,
          0.013,
          0.014,
          0.015
         ],
         "z": [
          [
           0.0033726448139997037,
           0.0030711482108242323,
           0.002642095374058005,
           0.0021829253221569587
          ],
          [
           0.0035870050356118996,
           0.0033097471467873865,
           0.0028998650147316527,
           0.002542405646111776
          ],
          [
           0.003527426492763028,
           0.003322801733360488,
           0.0029086985547261287,
           0.0026554673220122857
          ],
          [
           0.0037472456419794884,
           0.0035272332454786416,
           0.0032160257448917077,
           0.003027200658578506
          ],
          [
           0.00394102291118139,
           0.0037777245829923086,
           0.0034197567933594705,
           0.0033643036203216104
          ],
          [
           0.00423678705253027,
           0.003903641621966402,
           0.0035958944749597916,
           0.003456389776668151
          ],
          [
           0.004277439385622203,
           0.003908459349528763,
           0.0035824919158914128,
           0.003540748924407757
          ],
          [
           0.0048643643712473926,
           0.004449537452785148,
           0.004294662756713903,
           0.004203640843877093
          ],
          [
           0.005301900029490305,
           0.004936312184469148,
           0.0048357642447329294,
           0.00477157901494044
          ],
          [
           0.005444989390986226,
           0.005201885444516434,
           0.005288128243209793,
           0.0053492756311937515
          ],
          [
           0.005116428221717069,
           0.004801282702580623,
           0.004800792084827017,
           0.0050033108778089926
          ]
         ]
        }
       ],
       "layout": {
        "autosize": false,
        "height": 600,
        "margin": {
         "b": 65,
         "l": 65,
         "r": 50,
         "t": 90
        },
        "scene": {
         "xaxis": {
          "title": {
           "text": "X-close-threshold"
          }
         },
         "yaxis": {
          "title": {
           "text": "Y-open-threshold"
          }
         }
        },
        "template": {
         "data": {
          "bar": [
           {
            "error_x": {
             "color": "#2a3f5f"
            },
            "error_y": {
             "color": "#2a3f5f"
            },
            "marker": {
             "line": {
              "color": "#E5ECF6",
              "width": 0.5
             },
             "pattern": {
              "fillmode": "overlay",
              "size": 10,
              "solidity": 0.2
             }
            },
            "type": "bar"
           }
          ],
          "barpolar": [
           {
            "marker": {
             "line": {
              "color": "#E5ECF6",
              "width": 0.5
             },
             "pattern": {
              "fillmode": "overlay",
              "size": 10,
              "solidity": 0.2
             }
            },
            "type": "barpolar"
           }
          ],
          "carpet": [
           {
            "aaxis": {
             "endlinecolor": "#2a3f5f",
             "gridcolor": "white",
             "linecolor": "white",
             "minorgridcolor": "white",
             "startlinecolor": "#2a3f5f"
            },
            "baxis": {
             "endlinecolor": "#2a3f5f",
             "gridcolor": "white",
             "linecolor": "white",
             "minorgridcolor": "white",
             "startlinecolor": "#2a3f5f"
            },
            "type": "carpet"
           }
          ],
          "choropleth": [
           {
            "colorbar": {
             "outlinewidth": 0,
             "ticks": ""
            },
            "type": "choropleth"
           }
          ],
          "contour": [
           {
            "colorbar": {
             "outlinewidth": 0,
             "ticks": ""
            },
            "colorscale": [
             [
              0,
              "#0d0887"
             ],
             [
              0.1111111111111111,
              "#46039f"
             ],
             [
              0.2222222222222222,
              "#7201a8"
             ],
             [
              0.3333333333333333,
              "#9c179e"
             ],
             [
              0.4444444444444444,
              "#bd3786"
             ],
             [
              0.5555555555555556,
              "#d8576b"
             ],
             [
              0.6666666666666666,
              "#ed7953"
             ],
             [
              0.7777777777777778,
              "#fb9f3a"
             ],
             [
              0.8888888888888888,
              "#fdca26"
             ],
             [
              1,
              "#f0f921"
             ]
            ],
            "type": "contour"
           }
          ],
          "contourcarpet": [
           {
            "colorbar": {
             "outlinewidth": 0,
             "ticks": ""
            },
            "type": "contourcarpet"
           }
          ],
          "heatmap": [
           {
            "colorbar": {
             "outlinewidth": 0,
             "ticks": ""
            },
            "colorscale": [
             [
              0,
              "#0d0887"
             ],
             [
              0.1111111111111111,
              "#46039f"
             ],
             [
              0.2222222222222222,
              "#7201a8"
             ],
             [
              0.3333333333333333,
              "#9c179e"
             ],
             [
              0.4444444444444444,
              "#bd3786"
             ],
             [
              0.5555555555555556,
              "#d8576b"
             ],
             [
              0.6666666666666666,
              "#ed7953"
             ],
             [
              0.7777777777777778,
              "#fb9f3a"
             ],
             [
              0.8888888888888888,
              "#fdca26"
             ],
             [
              1,
              "#f0f921"
             ]
            ],
            "type": "heatmap"
           }
          ],
          "heatmapgl": [
           {
            "colorbar": {
             "outlinewidth": 0,
             "ticks": ""
            },
            "colorscale": [
             [
              0,
              "#0d0887"
             ],
             [
              0.1111111111111111,
              "#46039f"
             ],
             [
              0.2222222222222222,
              "#7201a8"
             ],
             [
              0.3333333333333333,
              "#9c179e"
             ],
             [
              0.4444444444444444,
              "#bd3786"
             ],
             [
              0.5555555555555556,
              "#d8576b"
             ],
             [
              0.6666666666666666,
              "#ed7953"
             ],
             [
              0.7777777777777778,
              "#fb9f3a"
             ],
             [
              0.8888888888888888,
              "#fdca26"
             ],
             [
              1,
              "#f0f921"
             ]
            ],
            "type": "heatmapgl"
           }
          ],
          "histogram": [
           {
            "marker": {
             "pattern": {
              "fillmode": "overlay",
              "size": 10,
              "solidity": 0.2
             }
            },
            "type": "histogram"
           }
          ],
          "histogram2d": [
           {
            "colorbar": {
             "outlinewidth": 0,
             "ticks": ""
            },
            "colorscale": [
             [
              0,
              "#0d0887"
             ],
             [
              0.1111111111111111,
              "#46039f"
             ],
             [
              0.2222222222222222,
              "#7201a8"
             ],
             [
              0.3333333333333333,
              "#9c179e"
             ],
             [
              0.4444444444444444,
              "#bd3786"
             ],
             [
              0.5555555555555556,
              "#d8576b"
             ],
             [
              0.6666666666666666,
              "#ed7953"
             ],
             [
              0.7777777777777778,
              "#fb9f3a"
             ],
             [
              0.8888888888888888,
              "#fdca26"
             ],
             [
              1,
              "#f0f921"
             ]
            ],
            "type": "histogram2d"
           }
          ],
          "histogram2dcontour": [
           {
            "colorbar": {
             "outlinewidth": 0,
             "ticks": ""
            },
            "colorscale": [
             [
              0,
              "#0d0887"
             ],
             [
              0.1111111111111111,
              "#46039f"
             ],
             [
              0.2222222222222222,
              "#7201a8"
             ],
             [
              0.3333333333333333,
              "#9c179e"
             ],
             [
              0.4444444444444444,
              "#bd3786"
             ],
             [
              0.5555555555555556,
              "#d8576b"
             ],
             [
              0.6666666666666666,
              "#ed7953"
             ],
             [
              0.7777777777777778,
              "#fb9f3a"
             ],
             [
              0.8888888888888888,
              "#fdca26"
             ],
             [
              1,
              "#f0f921"
             ]
            ],
            "type": "histogram2dcontour"
           }
          ],
          "mesh3d": [
           {
            "colorbar": {
             "outlinewidth": 0,
             "ticks": ""
            },
            "type": "mesh3d"
           }
          ],
          "parcoords": [
           {
            "line": {
             "colorbar": {
              "outlinewidth": 0,
              "ticks": ""
             }
            },
            "type": "parcoords"
           }
          ],
          "pie": [
           {
            "automargin": true,
            "type": "pie"
           }
          ],
          "scatter": [
           {
            "fillpattern": {
             "fillmode": "overlay",
             "size": 10,
             "solidity": 0.2
            },
            "type": "scatter"
           }
          ],
          "scatter3d": [
           {
            "line": {
             "colorbar": {
              "outlinewidth": 0,
              "ticks": ""
             }
            },
            "marker": {
             "colorbar": {
              "outlinewidth": 0,
              "ticks": ""
             }
            },
            "type": "scatter3d"
           }
          ],
          "scattercarpet": [
           {
            "marker": {
             "colorbar": {
              "outlinewidth": 0,
              "ticks": ""
             }
            },
            "type": "scattercarpet"
           }
          ],
          "scattergeo": [
           {
            "marker": {
             "colorbar": {
              "outlinewidth": 0,
              "ticks": ""
             }
            },
            "type": "scattergeo"
           }
          ],
          "scattergl": [
           {
            "marker": {
             "colorbar": {
              "outlinewidth": 0,
              "ticks": ""
             }
            },
            "type": "scattergl"
           }
          ],
          "scattermapbox": [
           {
            "marker": {
             "colorbar": {
              "outlinewidth": 0,
              "ticks": ""
             }
            },
            "type": "scattermapbox"
           }
          ],
          "scatterpolar": [
           {
            "marker": {
             "colorbar": {
              "outlinewidth": 0,
              "ticks": ""
             }
            },
            "type": "scatterpolar"
           }
          ],
          "scatterpolargl": [
           {
            "marker": {
             "colorbar": {
              "outlinewidth": 0,
              "ticks": ""
             }
            },
            "type": "scatterpolargl"
           }
          ],
          "scatterternary": [
           {
            "marker": {
             "colorbar": {
              "outlinewidth": 0,
              "ticks": ""
             }
            },
            "type": "scatterternary"
           }
          ],
          "surface": [
           {
            "colorbar": {
             "outlinewidth": 0,
             "ticks": ""
            },
            "colorscale": [
             [
              0,
              "#0d0887"
             ],
             [
              0.1111111111111111,
              "#46039f"
             ],
             [
              0.2222222222222222,
              "#7201a8"
             ],
             [
              0.3333333333333333,
              "#9c179e"
             ],
             [
              0.4444444444444444,
              "#bd3786"
             ],
             [
              0.5555555555555556,
              "#d8576b"
             ],
             [
              0.6666666666666666,
              "#ed7953"
             ],
             [
              0.7777777777777778,
              "#fb9f3a"
             ],
             [
              0.8888888888888888,
              "#fdca26"
             ],
             [
              1,
              "#f0f921"
             ]
            ],
            "type": "surface"
           }
          ],
          "table": [
           {
            "cells": {
             "fill": {
              "color": "#EBF0F8"
             },
             "line": {
              "color": "white"
             }
            },
            "header": {
             "fill": {
              "color": "#C8D4E3"
             },
             "line": {
              "color": "white"
             }
            },
            "type": "table"
           }
          ]
         },
         "layout": {
          "annotationdefaults": {
           "arrowcolor": "#2a3f5f",
           "arrowhead": 0,
           "arrowwidth": 1
          },
          "autotypenumbers": "strict",
          "coloraxis": {
           "colorbar": {
            "outlinewidth": 0,
            "ticks": ""
           }
          },
          "colorscale": {
           "diverging": [
            [
             0,
             "#8e0152"
            ],
            [
             0.1,
             "#c51b7d"
            ],
            [
             0.2,
             "#de77ae"
            ],
            [
             0.3,
             "#f1b6da"
            ],
            [
             0.4,
             "#fde0ef"
            ],
            [
             0.5,
             "#f7f7f7"
            ],
            [
             0.6,
             "#e6f5d0"
            ],
            [
             0.7,
             "#b8e186"
            ],
            [
             0.8,
             "#7fbc41"
            ],
            [
             0.9,
             "#4d9221"
            ],
            [
             1,
             "#276419"
            ]
           ],
           "sequential": [
            [
             0,
             "#0d0887"
            ],
            [
             0.1111111111111111,
             "#46039f"
            ],
            [
             0.2222222222222222,
             "#7201a8"
            ],
            [
             0.3333333333333333,
             "#9c179e"
            ],
            [
             0.4444444444444444,
             "#bd3786"
            ],
            [
             0.5555555555555556,
             "#d8576b"
            ],
            [
             0.6666666666666666,
             "#ed7953"
            ],
            [
             0.7777777777777778,
             "#fb9f3a"
            ],
            [
             0.8888888888888888,
             "#fdca26"
            ],
            [
             1,
             "#f0f921"
            ]
           ],
           "sequentialminus": [
            [
             0,
             "#0d0887"
            ],
            [
             0.1111111111111111,
             "#46039f"
            ],
            [
             0.2222222222222222,
             "#7201a8"
            ],
            [
             0.3333333333333333,
             "#9c179e"
            ],
            [
             0.4444444444444444,
             "#bd3786"
            ],
            [
             0.5555555555555556,
             "#d8576b"
            ],
            [
             0.6666666666666666,
             "#ed7953"
            ],
            [
             0.7777777777777778,
             "#fb9f3a"
            ],
            [
             0.8888888888888888,
             "#fdca26"
            ],
            [
             1,
             "#f0f921"
            ]
           ]
          },
          "colorway": [
           "#636efa",
           "#EF553B",
           "#00cc96",
           "#ab63fa",
           "#FFA15A",
           "#19d3f3",
           "#FF6692",
           "#B6E880",
           "#FF97FF",
           "#FECB52"
          ],
          "font": {
           "color": "#2a3f5f"
          },
          "geo": {
           "bgcolor": "white",
           "lakecolor": "white",
           "landcolor": "#E5ECF6",
           "showlakes": true,
           "showland": true,
           "subunitcolor": "white"
          },
          "hoverlabel": {
           "align": "left"
          },
          "hovermode": "closest",
          "mapbox": {
           "style": "light"
          },
          "paper_bgcolor": "white",
          "plot_bgcolor": "#E5ECF6",
          "polar": {
           "angularaxis": {
            "gridcolor": "white",
            "linecolor": "white",
            "ticks": ""
           },
           "bgcolor": "#E5ECF6",
           "radialaxis": {
            "gridcolor": "white",
            "linecolor": "white",
            "ticks": ""
           }
          },
          "scene": {
           "xaxis": {
            "backgroundcolor": "#E5ECF6",
            "gridcolor": "white",
            "gridwidth": 2,
            "linecolor": "white",
            "showbackground": true,
            "ticks": "",
            "zerolinecolor": "white"
           },
           "yaxis": {
            "backgroundcolor": "#E5ECF6",
            "gridcolor": "white",
            "gridwidth": 2,
            "linecolor": "white",
            "showbackground": true,
            "ticks": "",
            "zerolinecolor": "white"
           },
           "zaxis": {
            "backgroundcolor": "#E5ECF6",
            "gridcolor": "white",
            "gridwidth": 2,
            "linecolor": "white",
            "showbackground": true,
            "ticks": "",
            "zerolinecolor": "white"
           }
          },
          "shapedefaults": {
           "line": {
            "color": "#2a3f5f"
           }
          },
          "ternary": {
           "aaxis": {
            "gridcolor": "white",
            "linecolor": "white",
            "ticks": ""
           },
           "baxis": {
            "gridcolor": "white",
            "linecolor": "white",
            "ticks": ""
           },
           "bgcolor": "#E5ECF6",
           "caxis": {
            "gridcolor": "white",
            "linecolor": "white",
            "ticks": ""
           }
          },
          "title": {
           "x": 0.05
          },
          "xaxis": {
           "automargin": true,
           "gridcolor": "white",
           "linecolor": "white",
           "ticks": "",
           "title": {
            "standoff": 15
           },
           "zerolinecolor": "white",
           "zerolinewidth": 2
          },
          "yaxis": {
           "automargin": true,
           "gridcolor": "white",
           "linecolor": "white",
           "ticks": "",
           "title": {
            "standoff": 15
           },
           "zerolinecolor": "white",
           "zerolinewidth": 2
          }
         }
        },
        "title": {
         "text": "return per round"
        },
        "width": 700
       }
      }
     },
     "metadata": {},
     "output_type": "display_data"
    }
   ],
   "source": [
    "import plotly.graph_objects as go\n",
    "\n",
    "x_data = df_return_per_round.columns.to_list() # close threshold\n",
    "\n",
    "y_data = df_return_per_round.index.to_list() # open threshold\n",
    "\n",
    "z_data = df_return_per_round.copy(deep=True) # return per round\n",
    "\n",
    "fig = go.Figure(data=[go.Surface(z=z_data.values,x=x_data,y=y_data)])\n",
    "\n",
    "fig.update_layout(title=\"return per round\", # 标题\n",
    "                  autosize=False,  # 尺度自动缩放\n",
    "                  width=700,  # 长宽\n",
    "                  height=600,\n",
    "                  margin=dict(l=65,r=50,b=65,t=90),  # 4个位置的距离\n",
    "                  scene=dict(xaxis_title='X-close-threshold',yaxis_title='Y-open-threshold')\n",
    "                 )\n",
    "\n",
    "fig.show()"
   ]
  },
  {
   "cell_type": "markdown",
   "metadata": {},
   "source": [
    "# win rate surface"
   ]
  },
  {
   "cell_type": "code",
   "execution_count": 16,
   "metadata": {},
   "outputs": [
    {
     "name": "stdout",
     "output_type": "stream",
     "text": [
      "max win rate: \n",
      " 0.000    0.792035\n",
      "0.001    0.811765\n",
      "0.002    0.842444\n",
      "0.003    0.870370\n",
      "dtype: float64\n",
      "min win rate: \n",
      " 0.000    0.629032\n",
      "0.001    0.634921\n",
      "0.002    0.666667\n",
      "0.003    0.676768\n",
      "dtype: float64\n"
     ]
    },
    {
     "data": {
      "text/html": [
       "<div>\n",
       "<style scoped>\n",
       "    .dataframe tbody tr th:only-of-type {\n",
       "        vertical-align: middle;\n",
       "    }\n",
       "\n",
       "    .dataframe tbody tr th {\n",
       "        vertical-align: top;\n",
       "    }\n",
       "\n",
       "    .dataframe thead th {\n",
       "        text-align: right;\n",
       "    }\n",
       "</style>\n",
       "<table border=\"1\" class=\"dataframe\">\n",
       "  <thead>\n",
       "    <tr style=\"text-align: right;\">\n",
       "      <th></th>\n",
       "      <th>0.000</th>\n",
       "      <th>0.001</th>\n",
       "      <th>0.002</th>\n",
       "      <th>0.003</th>\n",
       "    </tr>\n",
       "  </thead>\n",
       "  <tbody>\n",
       "    <tr>\n",
       "      <th>0.005</th>\n",
       "      <td>0.792035</td>\n",
       "      <td>0.811765</td>\n",
       "      <td>0.842444</td>\n",
       "      <td>0.870370</td>\n",
       "    </tr>\n",
       "    <tr>\n",
       "      <th>0.006</th>\n",
       "      <td>0.783069</td>\n",
       "      <td>0.797101</td>\n",
       "      <td>0.816667</td>\n",
       "      <td>0.842294</td>\n",
       "    </tr>\n",
       "    <tr>\n",
       "      <th>0.007</th>\n",
       "      <td>0.722973</td>\n",
       "      <td>0.739130</td>\n",
       "      <td>0.767045</td>\n",
       "      <td>0.798995</td>\n",
       "    </tr>\n",
       "    <tr>\n",
       "      <th>0.008</th>\n",
       "      <td>0.685039</td>\n",
       "      <td>0.705882</td>\n",
       "      <td>0.734266</td>\n",
       "      <td>0.767296</td>\n",
       "    </tr>\n",
       "    <tr>\n",
       "      <th>0.009</th>\n",
       "      <td>0.684685</td>\n",
       "      <td>0.705882</td>\n",
       "      <td>0.717742</td>\n",
       "      <td>0.751825</td>\n",
       "    </tr>\n",
       "    <tr>\n",
       "      <th>0.010</th>\n",
       "      <td>0.686275</td>\n",
       "      <td>0.695238</td>\n",
       "      <td>0.706422</td>\n",
       "      <td>0.721739</td>\n",
       "    </tr>\n",
       "    <tr>\n",
       "      <th>0.011</th>\n",
       "      <td>0.659091</td>\n",
       "      <td>0.666667</td>\n",
       "      <td>0.670213</td>\n",
       "      <td>0.676768</td>\n",
       "    </tr>\n",
       "    <tr>\n",
       "      <th>0.012</th>\n",
       "      <td>0.662338</td>\n",
       "      <td>0.670886</td>\n",
       "      <td>0.682927</td>\n",
       "      <td>0.686047</td>\n",
       "    </tr>\n",
       "    <tr>\n",
       "      <th>0.013</th>\n",
       "      <td>0.657143</td>\n",
       "      <td>0.661972</td>\n",
       "      <td>0.675676</td>\n",
       "      <td>0.688312</td>\n",
       "    </tr>\n",
       "    <tr>\n",
       "      <th>0.014</th>\n",
       "      <td>0.629032</td>\n",
       "      <td>0.634921</td>\n",
       "      <td>0.666667</td>\n",
       "      <td>0.681159</td>\n",
       "    </tr>\n",
       "    <tr>\n",
       "      <th>0.015</th>\n",
       "      <td>0.649123</td>\n",
       "      <td>0.649123</td>\n",
       "      <td>0.677966</td>\n",
       "      <td>0.693548</td>\n",
       "    </tr>\n",
       "  </tbody>\n",
       "</table>\n",
       "</div>"
      ],
      "text/plain": [
       "          0.000     0.001     0.002     0.003\n",
       "0.005  0.792035  0.811765  0.842444  0.870370\n",
       "0.006  0.783069  0.797101  0.816667  0.842294\n",
       "0.007  0.722973  0.739130  0.767045  0.798995\n",
       "0.008  0.685039  0.705882  0.734266  0.767296\n",
       "0.009  0.684685  0.705882  0.717742  0.751825\n",
       "0.010  0.686275  0.695238  0.706422  0.721739\n",
       "0.011  0.659091  0.666667  0.670213  0.676768\n",
       "0.012  0.662338  0.670886  0.682927  0.686047\n",
       "0.013  0.657143  0.661972  0.675676  0.688312\n",
       "0.014  0.629032  0.634921  0.666667  0.681159\n",
       "0.015  0.649123  0.649123  0.677966  0.693548"
      ]
     },
     "execution_count": 16,
     "metadata": {},
     "output_type": "execute_result"
    }
   ],
   "source": [
    "df_win_rate = pd.DataFrame([])\n",
    "for index,row in df_grid_search_res.iterrows():\n",
    "    open_threshold = row['open threshold']\n",
    "    close_threshold = row['close threshold']\n",
    "    df_win_rate.loc[open_threshold,close_threshold] = row['win rate']\n",
    "print('max win rate: \\n',df_win_rate.max())\n",
    "print('min win rate: \\n',df_win_rate.min())    \n",
    "df_win_rate"
   ]
  },
  {
   "cell_type": "code",
   "execution_count": 17,
   "metadata": {},
   "outputs": [
    {
     "data": {
      "application/vnd.plotly.v1+json": {
       "config": {
        "plotlyServerURL": "https://plot.ly"
       },
       "data": [
        {
         "type": "surface",
         "x": [
          0,
          0.001,
          0.002,
          0.003
         ],
         "y": [
          0.005,
          0.006,
          0.007,
          0.008,
          0.009,
          0.01,
          0.011,
          0.012,
          0.013,
          0.014,
          0.015
         ],
         "z": [
          [
           0.7920353982300885,
           0.8117647058823529,
           0.842443729903537,
           0.8703703703703703
          ],
          [
           0.783068783068783,
           0.7971014492753623,
           0.8166666666666667,
           0.8422939068100358
          ],
          [
           0.722972972972973,
           0.7391304347826086,
           0.7670454545454546,
           0.7989949748743719
          ],
          [
           0.6850393700787402,
           0.7058823529411765,
           0.7342657342657343,
           0.7672955974842768
          ],
          [
           0.6846846846846847,
           0.7058823529411765,
           0.717741935483871,
           0.7518248175182481
          ],
          [
           0.6862745098039216,
           0.6952380952380952,
           0.7064220183486238,
           0.7217391304347827
          ],
          [
           0.6590909090909091,
           0.6666666666666666,
           0.6702127659574468,
           0.6767676767676768
          ],
          [
           0.6623376623376623,
           0.6708860759493671,
           0.6829268292682927,
           0.686046511627907
          ],
          [
           0.6571428571428571,
           0.6619718309859155,
           0.6756756756756757,
           0.6883116883116883
          ],
          [
           0.6290322580645161,
           0.6349206349206349,
           0.6666666666666666,
           0.6811594202898551
          ],
          [
           0.6491228070175439,
           0.6491228070175439,
           0.6779661016949152,
           0.6935483870967742
          ]
         ]
        }
       ],
       "layout": {
        "autosize": false,
        "height": 600,
        "margin": {
         "b": 65,
         "l": 65,
         "r": 50,
         "t": 90
        },
        "scene": {
         "xaxis": {
          "title": {
           "text": "X-close-threshold"
          }
         },
         "yaxis": {
          "title": {
           "text": "Y-open-threshold"
          }
         }
        },
        "template": {
         "data": {
          "bar": [
           {
            "error_x": {
             "color": "#2a3f5f"
            },
            "error_y": {
             "color": "#2a3f5f"
            },
            "marker": {
             "line": {
              "color": "#E5ECF6",
              "width": 0.5
             },
             "pattern": {
              "fillmode": "overlay",
              "size": 10,
              "solidity": 0.2
             }
            },
            "type": "bar"
           }
          ],
          "barpolar": [
           {
            "marker": {
             "line": {
              "color": "#E5ECF6",
              "width": 0.5
             },
             "pattern": {
              "fillmode": "overlay",
              "size": 10,
              "solidity": 0.2
             }
            },
            "type": "barpolar"
           }
          ],
          "carpet": [
           {
            "aaxis": {
             "endlinecolor": "#2a3f5f",
             "gridcolor": "white",
             "linecolor": "white",
             "minorgridcolor": "white",
             "startlinecolor": "#2a3f5f"
            },
            "baxis": {
             "endlinecolor": "#2a3f5f",
             "gridcolor": "white",
             "linecolor": "white",
             "minorgridcolor": "white",
             "startlinecolor": "#2a3f5f"
            },
            "type": "carpet"
           }
          ],
          "choropleth": [
           {
            "colorbar": {
             "outlinewidth": 0,
             "ticks": ""
            },
            "type": "choropleth"
           }
          ],
          "contour": [
           {
            "colorbar": {
             "outlinewidth": 0,
             "ticks": ""
            },
            "colorscale": [
             [
              0,
              "#0d0887"
             ],
             [
              0.1111111111111111,
              "#46039f"
             ],
             [
              0.2222222222222222,
              "#7201a8"
             ],
             [
              0.3333333333333333,
              "#9c179e"
             ],
             [
              0.4444444444444444,
              "#bd3786"
             ],
             [
              0.5555555555555556,
              "#d8576b"
             ],
             [
              0.6666666666666666,
              "#ed7953"
             ],
             [
              0.7777777777777778,
              "#fb9f3a"
             ],
             [
              0.8888888888888888,
              "#fdca26"
             ],
             [
              1,
              "#f0f921"
             ]
            ],
            "type": "contour"
           }
          ],
          "contourcarpet": [
           {
            "colorbar": {
             "outlinewidth": 0,
             "ticks": ""
            },
            "type": "contourcarpet"
           }
          ],
          "heatmap": [
           {
            "colorbar": {
             "outlinewidth": 0,
             "ticks": ""
            },
            "colorscale": [
             [
              0,
              "#0d0887"
             ],
             [
              0.1111111111111111,
              "#46039f"
             ],
             [
              0.2222222222222222,
              "#7201a8"
             ],
             [
              0.3333333333333333,
              "#9c179e"
             ],
             [
              0.4444444444444444,
              "#bd3786"
             ],
             [
              0.5555555555555556,
              "#d8576b"
             ],
             [
              0.6666666666666666,
              "#ed7953"
             ],
             [
              0.7777777777777778,
              "#fb9f3a"
             ],
             [
              0.8888888888888888,
              "#fdca26"
             ],
             [
              1,
              "#f0f921"
             ]
            ],
            "type": "heatmap"
           }
          ],
          "heatmapgl": [
           {
            "colorbar": {
             "outlinewidth": 0,
             "ticks": ""
            },
            "colorscale": [
             [
              0,
              "#0d0887"
             ],
             [
              0.1111111111111111,
              "#46039f"
             ],
             [
              0.2222222222222222,
              "#7201a8"
             ],
             [
              0.3333333333333333,
              "#9c179e"
             ],
             [
              0.4444444444444444,
              "#bd3786"
             ],
             [
              0.5555555555555556,
              "#d8576b"
             ],
             [
              0.6666666666666666,
              "#ed7953"
             ],
             [
              0.7777777777777778,
              "#fb9f3a"
             ],
             [
              0.8888888888888888,
              "#fdca26"
             ],
             [
              1,
              "#f0f921"
             ]
            ],
            "type": "heatmapgl"
           }
          ],
          "histogram": [
           {
            "marker": {
             "pattern": {
              "fillmode": "overlay",
              "size": 10,
              "solidity": 0.2
             }
            },
            "type": "histogram"
           }
          ],
          "histogram2d": [
           {
            "colorbar": {
             "outlinewidth": 0,
             "ticks": ""
            },
            "colorscale": [
             [
              0,
              "#0d0887"
             ],
             [
              0.1111111111111111,
              "#46039f"
             ],
             [
              0.2222222222222222,
              "#7201a8"
             ],
             [
              0.3333333333333333,
              "#9c179e"
             ],
             [
              0.4444444444444444,
              "#bd3786"
             ],
             [
              0.5555555555555556,
              "#d8576b"
             ],
             [
              0.6666666666666666,
              "#ed7953"
             ],
             [
              0.7777777777777778,
              "#fb9f3a"
             ],
             [
              0.8888888888888888,
              "#fdca26"
             ],
             [
              1,
              "#f0f921"
             ]
            ],
            "type": "histogram2d"
           }
          ],
          "histogram2dcontour": [
           {
            "colorbar": {
             "outlinewidth": 0,
             "ticks": ""
            },
            "colorscale": [
             [
              0,
              "#0d0887"
             ],
             [
              0.1111111111111111,
              "#46039f"
             ],
             [
              0.2222222222222222,
              "#7201a8"
             ],
             [
              0.3333333333333333,
              "#9c179e"
             ],
             [
              0.4444444444444444,
              "#bd3786"
             ],
             [
              0.5555555555555556,
              "#d8576b"
             ],
             [
              0.6666666666666666,
              "#ed7953"
             ],
             [
              0.7777777777777778,
              "#fb9f3a"
             ],
             [
              0.8888888888888888,
              "#fdca26"
             ],
             [
              1,
              "#f0f921"
             ]
            ],
            "type": "histogram2dcontour"
           }
          ],
          "mesh3d": [
           {
            "colorbar": {
             "outlinewidth": 0,
             "ticks": ""
            },
            "type": "mesh3d"
           }
          ],
          "parcoords": [
           {
            "line": {
             "colorbar": {
              "outlinewidth": 0,
              "ticks": ""
             }
            },
            "type": "parcoords"
           }
          ],
          "pie": [
           {
            "automargin": true,
            "type": "pie"
           }
          ],
          "scatter": [
           {
            "fillpattern": {
             "fillmode": "overlay",
             "size": 10,
             "solidity": 0.2
            },
            "type": "scatter"
           }
          ],
          "scatter3d": [
           {
            "line": {
             "colorbar": {
              "outlinewidth": 0,
              "ticks": ""
             }
            },
            "marker": {
             "colorbar": {
              "outlinewidth": 0,
              "ticks": ""
             }
            },
            "type": "scatter3d"
           }
          ],
          "scattercarpet": [
           {
            "marker": {
             "colorbar": {
              "outlinewidth": 0,
              "ticks": ""
             }
            },
            "type": "scattercarpet"
           }
          ],
          "scattergeo": [
           {
            "marker": {
             "colorbar": {
              "outlinewidth": 0,
              "ticks": ""
             }
            },
            "type": "scattergeo"
           }
          ],
          "scattergl": [
           {
            "marker": {
             "colorbar": {
              "outlinewidth": 0,
              "ticks": ""
             }
            },
            "type": "scattergl"
           }
          ],
          "scattermapbox": [
           {
            "marker": {
             "colorbar": {
              "outlinewidth": 0,
              "ticks": ""
             }
            },
            "type": "scattermapbox"
           }
          ],
          "scatterpolar": [
           {
            "marker": {
             "colorbar": {
              "outlinewidth": 0,
              "ticks": ""
             }
            },
            "type": "scatterpolar"
           }
          ],
          "scatterpolargl": [
           {
            "marker": {
             "colorbar": {
              "outlinewidth": 0,
              "ticks": ""
             }
            },
            "type": "scatterpolargl"
           }
          ],
          "scatterternary": [
           {
            "marker": {
             "colorbar": {
              "outlinewidth": 0,
              "ticks": ""
             }
            },
            "type": "scatterternary"
           }
          ],
          "surface": [
           {
            "colorbar": {
             "outlinewidth": 0,
             "ticks": ""
            },
            "colorscale": [
             [
              0,
              "#0d0887"
             ],
             [
              0.1111111111111111,
              "#46039f"
             ],
             [
              0.2222222222222222,
              "#7201a8"
             ],
             [
              0.3333333333333333,
              "#9c179e"
             ],
             [
              0.4444444444444444,
              "#bd3786"
             ],
             [
              0.5555555555555556,
              "#d8576b"
             ],
             [
              0.6666666666666666,
              "#ed7953"
             ],
             [
              0.7777777777777778,
              "#fb9f3a"
             ],
             [
              0.8888888888888888,
              "#fdca26"
             ],
             [
              1,
              "#f0f921"
             ]
            ],
            "type": "surface"
           }
          ],
          "table": [
           {
            "cells": {
             "fill": {
              "color": "#EBF0F8"
             },
             "line": {
              "color": "white"
             }
            },
            "header": {
             "fill": {
              "color": "#C8D4E3"
             },
             "line": {
              "color": "white"
             }
            },
            "type": "table"
           }
          ]
         },
         "layout": {
          "annotationdefaults": {
           "arrowcolor": "#2a3f5f",
           "arrowhead": 0,
           "arrowwidth": 1
          },
          "autotypenumbers": "strict",
          "coloraxis": {
           "colorbar": {
            "outlinewidth": 0,
            "ticks": ""
           }
          },
          "colorscale": {
           "diverging": [
            [
             0,
             "#8e0152"
            ],
            [
             0.1,
             "#c51b7d"
            ],
            [
             0.2,
             "#de77ae"
            ],
            [
             0.3,
             "#f1b6da"
            ],
            [
             0.4,
             "#fde0ef"
            ],
            [
             0.5,
             "#f7f7f7"
            ],
            [
             0.6,
             "#e6f5d0"
            ],
            [
             0.7,
             "#b8e186"
            ],
            [
             0.8,
             "#7fbc41"
            ],
            [
             0.9,
             "#4d9221"
            ],
            [
             1,
             "#276419"
            ]
           ],
           "sequential": [
            [
             0,
             "#0d0887"
            ],
            [
             0.1111111111111111,
             "#46039f"
            ],
            [
             0.2222222222222222,
             "#7201a8"
            ],
            [
             0.3333333333333333,
             "#9c179e"
            ],
            [
             0.4444444444444444,
             "#bd3786"
            ],
            [
             0.5555555555555556,
             "#d8576b"
            ],
            [
             0.6666666666666666,
             "#ed7953"
            ],
            [
             0.7777777777777778,
             "#fb9f3a"
            ],
            [
             0.8888888888888888,
             "#fdca26"
            ],
            [
             1,
             "#f0f921"
            ]
           ],
           "sequentialminus": [
            [
             0,
             "#0d0887"
            ],
            [
             0.1111111111111111,
             "#46039f"
            ],
            [
             0.2222222222222222,
             "#7201a8"
            ],
            [
             0.3333333333333333,
             "#9c179e"
            ],
            [
             0.4444444444444444,
             "#bd3786"
            ],
            [
             0.5555555555555556,
             "#d8576b"
            ],
            [
             0.6666666666666666,
             "#ed7953"
            ],
            [
             0.7777777777777778,
             "#fb9f3a"
            ],
            [
             0.8888888888888888,
             "#fdca26"
            ],
            [
             1,
             "#f0f921"
            ]
           ]
          },
          "colorway": [
           "#636efa",
           "#EF553B",
           "#00cc96",
           "#ab63fa",
           "#FFA15A",
           "#19d3f3",
           "#FF6692",
           "#B6E880",
           "#FF97FF",
           "#FECB52"
          ],
          "font": {
           "color": "#2a3f5f"
          },
          "geo": {
           "bgcolor": "white",
           "lakecolor": "white",
           "landcolor": "#E5ECF6",
           "showlakes": true,
           "showland": true,
           "subunitcolor": "white"
          },
          "hoverlabel": {
           "align": "left"
          },
          "hovermode": "closest",
          "mapbox": {
           "style": "light"
          },
          "paper_bgcolor": "white",
          "plot_bgcolor": "#E5ECF6",
          "polar": {
           "angularaxis": {
            "gridcolor": "white",
            "linecolor": "white",
            "ticks": ""
           },
           "bgcolor": "#E5ECF6",
           "radialaxis": {
            "gridcolor": "white",
            "linecolor": "white",
            "ticks": ""
           }
          },
          "scene": {
           "xaxis": {
            "backgroundcolor": "#E5ECF6",
            "gridcolor": "white",
            "gridwidth": 2,
            "linecolor": "white",
            "showbackground": true,
            "ticks": "",
            "zerolinecolor": "white"
           },
           "yaxis": {
            "backgroundcolor": "#E5ECF6",
            "gridcolor": "white",
            "gridwidth": 2,
            "linecolor": "white",
            "showbackground": true,
            "ticks": "",
            "zerolinecolor": "white"
           },
           "zaxis": {
            "backgroundcolor": "#E5ECF6",
            "gridcolor": "white",
            "gridwidth": 2,
            "linecolor": "white",
            "showbackground": true,
            "ticks": "",
            "zerolinecolor": "white"
           }
          },
          "shapedefaults": {
           "line": {
            "color": "#2a3f5f"
           }
          },
          "ternary": {
           "aaxis": {
            "gridcolor": "white",
            "linecolor": "white",
            "ticks": ""
           },
           "baxis": {
            "gridcolor": "white",
            "linecolor": "white",
            "ticks": ""
           },
           "bgcolor": "#E5ECF6",
           "caxis": {
            "gridcolor": "white",
            "linecolor": "white",
            "ticks": ""
           }
          },
          "title": {
           "x": 0.05
          },
          "xaxis": {
           "automargin": true,
           "gridcolor": "white",
           "linecolor": "white",
           "ticks": "",
           "title": {
            "standoff": 15
           },
           "zerolinecolor": "white",
           "zerolinewidth": 2
          },
          "yaxis": {
           "automargin": true,
           "gridcolor": "white",
           "linecolor": "white",
           "ticks": "",
           "title": {
            "standoff": 15
           },
           "zerolinecolor": "white",
           "zerolinewidth": 2
          }
         }
        },
        "title": {
         "text": "win rate"
        },
        "width": 700
       }
      }
     },
     "metadata": {},
     "output_type": "display_data"
    }
   ],
   "source": [
    "import plotly.graph_objects as go\n",
    "\n",
    "x_data = df_win_rate.columns.to_list() # close threshold\n",
    "\n",
    "y_data = df_win_rate.index.to_list() # open threshold\n",
    "\n",
    "z_data = df_win_rate.copy(deep=True) # win rate\n",
    "\n",
    "fig = go.Figure(data=[go.Surface(z=z_data.values,x=x_data,y=y_data)])\n",
    "\n",
    "fig.update_layout(title=\"win rate\", # 标题\n",
    "                  autosize=False,  # 尺度自动缩放\n",
    "                  width=700,  # 长宽\n",
    "                  height=600,\n",
    "                  margin=dict(l=65,r=50,b=65,t=90),  # 4个位置的距离\n",
    "                  scene=dict(xaxis_title='X-close-threshold',yaxis_title='Y-open-threshold')\n",
    "                 )\n",
    "\n",
    "fig.show()"
   ]
  },
  {
   "cell_type": "markdown",
   "metadata": {},
   "source": [
    "# total round surface"
   ]
  },
  {
   "cell_type": "code",
   "execution_count": 18,
   "metadata": {},
   "outputs": [
    {
     "name": "stdout",
     "output_type": "stream",
     "text": [
      "max total round: \n",
      " 0.000    226.0\n",
      "0.001    255.0\n",
      "0.002    311.0\n",
      "0.003    378.0\n",
      "dtype: float64\n",
      "min total round: \n",
      " 0.000    57.0\n",
      "0.001    57.0\n",
      "0.002    59.0\n",
      "0.003    62.0\n",
      "dtype: float64\n"
     ]
    },
    {
     "data": {
      "text/html": [
       "<div>\n",
       "<style scoped>\n",
       "    .dataframe tbody tr th:only-of-type {\n",
       "        vertical-align: middle;\n",
       "    }\n",
       "\n",
       "    .dataframe tbody tr th {\n",
       "        vertical-align: top;\n",
       "    }\n",
       "\n",
       "    .dataframe thead th {\n",
       "        text-align: right;\n",
       "    }\n",
       "</style>\n",
       "<table border=\"1\" class=\"dataframe\">\n",
       "  <thead>\n",
       "    <tr style=\"text-align: right;\">\n",
       "      <th></th>\n",
       "      <th>0.000</th>\n",
       "      <th>0.001</th>\n",
       "      <th>0.002</th>\n",
       "      <th>0.003</th>\n",
       "    </tr>\n",
       "  </thead>\n",
       "  <tbody>\n",
       "    <tr>\n",
       "      <th>0.005</th>\n",
       "      <td>226.0</td>\n",
       "      <td>255.0</td>\n",
       "      <td>311.0</td>\n",
       "      <td>378.0</td>\n",
       "    </tr>\n",
       "    <tr>\n",
       "      <th>0.006</th>\n",
       "      <td>189.0</td>\n",
       "      <td>207.0</td>\n",
       "      <td>240.0</td>\n",
       "      <td>279.0</td>\n",
       "    </tr>\n",
       "    <tr>\n",
       "      <th>0.007</th>\n",
       "      <td>148.0</td>\n",
       "      <td>161.0</td>\n",
       "      <td>176.0</td>\n",
       "      <td>199.0</td>\n",
       "    </tr>\n",
       "    <tr>\n",
       "      <th>0.008</th>\n",
       "      <td>127.0</td>\n",
       "      <td>136.0</td>\n",
       "      <td>143.0</td>\n",
       "      <td>159.0</td>\n",
       "    </tr>\n",
       "    <tr>\n",
       "      <th>0.009</th>\n",
       "      <td>111.0</td>\n",
       "      <td>119.0</td>\n",
       "      <td>124.0</td>\n",
       "      <td>137.0</td>\n",
       "    </tr>\n",
       "    <tr>\n",
       "      <th>0.010</th>\n",
       "      <td>102.0</td>\n",
       "      <td>105.0</td>\n",
       "      <td>109.0</td>\n",
       "      <td>115.0</td>\n",
       "    </tr>\n",
       "    <tr>\n",
       "      <th>0.011</th>\n",
       "      <td>88.0</td>\n",
       "      <td>90.0</td>\n",
       "      <td>94.0</td>\n",
       "      <td>99.0</td>\n",
       "    </tr>\n",
       "    <tr>\n",
       "      <th>0.012</th>\n",
       "      <td>77.0</td>\n",
       "      <td>79.0</td>\n",
       "      <td>82.0</td>\n",
       "      <td>86.0</td>\n",
       "    </tr>\n",
       "    <tr>\n",
       "      <th>0.013</th>\n",
       "      <td>70.0</td>\n",
       "      <td>71.0</td>\n",
       "      <td>74.0</td>\n",
       "      <td>77.0</td>\n",
       "    </tr>\n",
       "    <tr>\n",
       "      <th>0.014</th>\n",
       "      <td>62.0</td>\n",
       "      <td>63.0</td>\n",
       "      <td>66.0</td>\n",
       "      <td>69.0</td>\n",
       "    </tr>\n",
       "    <tr>\n",
       "      <th>0.015</th>\n",
       "      <td>57.0</td>\n",
       "      <td>57.0</td>\n",
       "      <td>59.0</td>\n",
       "      <td>62.0</td>\n",
       "    </tr>\n",
       "  </tbody>\n",
       "</table>\n",
       "</div>"
      ],
      "text/plain": [
       "       0.000  0.001  0.002  0.003\n",
       "0.005  226.0  255.0  311.0  378.0\n",
       "0.006  189.0  207.0  240.0  279.0\n",
       "0.007  148.0  161.0  176.0  199.0\n",
       "0.008  127.0  136.0  143.0  159.0\n",
       "0.009  111.0  119.0  124.0  137.0\n",
       "0.010  102.0  105.0  109.0  115.0\n",
       "0.011   88.0   90.0   94.0   99.0\n",
       "0.012   77.0   79.0   82.0   86.0\n",
       "0.013   70.0   71.0   74.0   77.0\n",
       "0.014   62.0   63.0   66.0   69.0\n",
       "0.015   57.0   57.0   59.0   62.0"
      ]
     },
     "execution_count": 18,
     "metadata": {},
     "output_type": "execute_result"
    }
   ],
   "source": [
    "df_total_round = pd.DataFrame([])\n",
    "for index,row in df_grid_search_res.iterrows():\n",
    "    open_threshold = row['open threshold']\n",
    "    close_threshold = row['close threshold']\n",
    "    df_total_round.loc[open_threshold,close_threshold] = row['total round']\n",
    "print('max total round: \\n',df_total_round.max())\n",
    "print('min total round: \\n',df_total_round.min())    \n",
    "df_total_round"
   ]
  },
  {
   "cell_type": "code",
   "execution_count": 19,
   "metadata": {},
   "outputs": [
    {
     "data": {
      "application/vnd.plotly.v1+json": {
       "config": {
        "plotlyServerURL": "https://plot.ly"
       },
       "data": [
        {
         "type": "surface",
         "x": [
          0,
          0.001,
          0.002,
          0.003
         ],
         "y": [
          0.005,
          0.006,
          0.007,
          0.008,
          0.009,
          0.01,
          0.011,
          0.012,
          0.013,
          0.014,
          0.015
         ],
         "z": [
          [
           226,
           255,
           311,
           378
          ],
          [
           189,
           207,
           240,
           279
          ],
          [
           148,
           161,
           176,
           199
          ],
          [
           127,
           136,
           143,
           159
          ],
          [
           111,
           119,
           124,
           137
          ],
          [
           102,
           105,
           109,
           115
          ],
          [
           88,
           90,
           94,
           99
          ],
          [
           77,
           79,
           82,
           86
          ],
          [
           70,
           71,
           74,
           77
          ],
          [
           62,
           63,
           66,
           69
          ],
          [
           57,
           57,
           59,
           62
          ]
         ]
        }
       ],
       "layout": {
        "autosize": false,
        "height": 600,
        "margin": {
         "b": 65,
         "l": 65,
         "r": 50,
         "t": 90
        },
        "scene": {
         "xaxis": {
          "title": {
           "text": "X-close-threshold"
          }
         },
         "yaxis": {
          "title": {
           "text": "Y-open-threshold"
          }
         }
        },
        "template": {
         "data": {
          "bar": [
           {
            "error_x": {
             "color": "#2a3f5f"
            },
            "error_y": {
             "color": "#2a3f5f"
            },
            "marker": {
             "line": {
              "color": "#E5ECF6",
              "width": 0.5
             },
             "pattern": {
              "fillmode": "overlay",
              "size": 10,
              "solidity": 0.2
             }
            },
            "type": "bar"
           }
          ],
          "barpolar": [
           {
            "marker": {
             "line": {
              "color": "#E5ECF6",
              "width": 0.5
             },
             "pattern": {
              "fillmode": "overlay",
              "size": 10,
              "solidity": 0.2
             }
            },
            "type": "barpolar"
           }
          ],
          "carpet": [
           {
            "aaxis": {
             "endlinecolor": "#2a3f5f",
             "gridcolor": "white",
             "linecolor": "white",
             "minorgridcolor": "white",
             "startlinecolor": "#2a3f5f"
            },
            "baxis": {
             "endlinecolor": "#2a3f5f",
             "gridcolor": "white",
             "linecolor": "white",
             "minorgridcolor": "white",
             "startlinecolor": "#2a3f5f"
            },
            "type": "carpet"
           }
          ],
          "choropleth": [
           {
            "colorbar": {
             "outlinewidth": 0,
             "ticks": ""
            },
            "type": "choropleth"
           }
          ],
          "contour": [
           {
            "colorbar": {
             "outlinewidth": 0,
             "ticks": ""
            },
            "colorscale": [
             [
              0,
              "#0d0887"
             ],
             [
              0.1111111111111111,
              "#46039f"
             ],
             [
              0.2222222222222222,
              "#7201a8"
             ],
             [
              0.3333333333333333,
              "#9c179e"
             ],
             [
              0.4444444444444444,
              "#bd3786"
             ],
             [
              0.5555555555555556,
              "#d8576b"
             ],
             [
              0.6666666666666666,
              "#ed7953"
             ],
             [
              0.7777777777777778,
              "#fb9f3a"
             ],
             [
              0.8888888888888888,
              "#fdca26"
             ],
             [
              1,
              "#f0f921"
             ]
            ],
            "type": "contour"
           }
          ],
          "contourcarpet": [
           {
            "colorbar": {
             "outlinewidth": 0,
             "ticks": ""
            },
            "type": "contourcarpet"
           }
          ],
          "heatmap": [
           {
            "colorbar": {
             "outlinewidth": 0,
             "ticks": ""
            },
            "colorscale": [
             [
              0,
              "#0d0887"
             ],
             [
              0.1111111111111111,
              "#46039f"
             ],
             [
              0.2222222222222222,
              "#7201a8"
             ],
             [
              0.3333333333333333,
              "#9c179e"
             ],
             [
              0.4444444444444444,
              "#bd3786"
             ],
             [
              0.5555555555555556,
              "#d8576b"
             ],
             [
              0.6666666666666666,
              "#ed7953"
             ],
             [
              0.7777777777777778,
              "#fb9f3a"
             ],
             [
              0.8888888888888888,
              "#fdca26"
             ],
             [
              1,
              "#f0f921"
             ]
            ],
            "type": "heatmap"
           }
          ],
          "heatmapgl": [
           {
            "colorbar": {
             "outlinewidth": 0,
             "ticks": ""
            },
            "colorscale": [
             [
              0,
              "#0d0887"
             ],
             [
              0.1111111111111111,
              "#46039f"
             ],
             [
              0.2222222222222222,
              "#7201a8"
             ],
             [
              0.3333333333333333,
              "#9c179e"
             ],
             [
              0.4444444444444444,
              "#bd3786"
             ],
             [
              0.5555555555555556,
              "#d8576b"
             ],
             [
              0.6666666666666666,
              "#ed7953"
             ],
             [
              0.7777777777777778,
              "#fb9f3a"
             ],
             [
              0.8888888888888888,
              "#fdca26"
             ],
             [
              1,
              "#f0f921"
             ]
            ],
            "type": "heatmapgl"
           }
          ],
          "histogram": [
           {
            "marker": {
             "pattern": {
              "fillmode": "overlay",
              "size": 10,
              "solidity": 0.2
             }
            },
            "type": "histogram"
           }
          ],
          "histogram2d": [
           {
            "colorbar": {
             "outlinewidth": 0,
             "ticks": ""
            },
            "colorscale": [
             [
              0,
              "#0d0887"
             ],
             [
              0.1111111111111111,
              "#46039f"
             ],
             [
              0.2222222222222222,
              "#7201a8"
             ],
             [
              0.3333333333333333,
              "#9c179e"
             ],
             [
              0.4444444444444444,
              "#bd3786"
             ],
             [
              0.5555555555555556,
              "#d8576b"
             ],
             [
              0.6666666666666666,
              "#ed7953"
             ],
             [
              0.7777777777777778,
              "#fb9f3a"
             ],
             [
              0.8888888888888888,
              "#fdca26"
             ],
             [
              1,
              "#f0f921"
             ]
            ],
            "type": "histogram2d"
           }
          ],
          "histogram2dcontour": [
           {
            "colorbar": {
             "outlinewidth": 0,
             "ticks": ""
            },
            "colorscale": [
             [
              0,
              "#0d0887"
             ],
             [
              0.1111111111111111,
              "#46039f"
             ],
             [
              0.2222222222222222,
              "#7201a8"
             ],
             [
              0.3333333333333333,
              "#9c179e"
             ],
             [
              0.4444444444444444,
              "#bd3786"
             ],
             [
              0.5555555555555556,
              "#d8576b"
             ],
             [
              0.6666666666666666,
              "#ed7953"
             ],
             [
              0.7777777777777778,
              "#fb9f3a"
             ],
             [
              0.8888888888888888,
              "#fdca26"
             ],
             [
              1,
              "#f0f921"
             ]
            ],
            "type": "histogram2dcontour"
           }
          ],
          "mesh3d": [
           {
            "colorbar": {
             "outlinewidth": 0,
             "ticks": ""
            },
            "type": "mesh3d"
           }
          ],
          "parcoords": [
           {
            "line": {
             "colorbar": {
              "outlinewidth": 0,
              "ticks": ""
             }
            },
            "type": "parcoords"
           }
          ],
          "pie": [
           {
            "automargin": true,
            "type": "pie"
           }
          ],
          "scatter": [
           {
            "fillpattern": {
             "fillmode": "overlay",
             "size": 10,
             "solidity": 0.2
            },
            "type": "scatter"
           }
          ],
          "scatter3d": [
           {
            "line": {
             "colorbar": {
              "outlinewidth": 0,
              "ticks": ""
             }
            },
            "marker": {
             "colorbar": {
              "outlinewidth": 0,
              "ticks": ""
             }
            },
            "type": "scatter3d"
           }
          ],
          "scattercarpet": [
           {
            "marker": {
             "colorbar": {
              "outlinewidth": 0,
              "ticks": ""
             }
            },
            "type": "scattercarpet"
           }
          ],
          "scattergeo": [
           {
            "marker": {
             "colorbar": {
              "outlinewidth": 0,
              "ticks": ""
             }
            },
            "type": "scattergeo"
           }
          ],
          "scattergl": [
           {
            "marker": {
             "colorbar": {
              "outlinewidth": 0,
              "ticks": ""
             }
            },
            "type": "scattergl"
           }
          ],
          "scattermapbox": [
           {
            "marker": {
             "colorbar": {
              "outlinewidth": 0,
              "ticks": ""
             }
            },
            "type": "scattermapbox"
           }
          ],
          "scatterpolar": [
           {
            "marker": {
             "colorbar": {
              "outlinewidth": 0,
              "ticks": ""
             }
            },
            "type": "scatterpolar"
           }
          ],
          "scatterpolargl": [
           {
            "marker": {
             "colorbar": {
              "outlinewidth": 0,
              "ticks": ""
             }
            },
            "type": "scatterpolargl"
           }
          ],
          "scatterternary": [
           {
            "marker": {
             "colorbar": {
              "outlinewidth": 0,
              "ticks": ""
             }
            },
            "type": "scatterternary"
           }
          ],
          "surface": [
           {
            "colorbar": {
             "outlinewidth": 0,
             "ticks": ""
            },
            "colorscale": [
             [
              0,
              "#0d0887"
             ],
             [
              0.1111111111111111,
              "#46039f"
             ],
             [
              0.2222222222222222,
              "#7201a8"
             ],
             [
              0.3333333333333333,
              "#9c179e"
             ],
             [
              0.4444444444444444,
              "#bd3786"
             ],
             [
              0.5555555555555556,
              "#d8576b"
             ],
             [
              0.6666666666666666,
              "#ed7953"
             ],
             [
              0.7777777777777778,
              "#fb9f3a"
             ],
             [
              0.8888888888888888,
              "#fdca26"
             ],
             [
              1,
              "#f0f921"
             ]
            ],
            "type": "surface"
           }
          ],
          "table": [
           {
            "cells": {
             "fill": {
              "color": "#EBF0F8"
             },
             "line": {
              "color": "white"
             }
            },
            "header": {
             "fill": {
              "color": "#C8D4E3"
             },
             "line": {
              "color": "white"
             }
            },
            "type": "table"
           }
          ]
         },
         "layout": {
          "annotationdefaults": {
           "arrowcolor": "#2a3f5f",
           "arrowhead": 0,
           "arrowwidth": 1
          },
          "autotypenumbers": "strict",
          "coloraxis": {
           "colorbar": {
            "outlinewidth": 0,
            "ticks": ""
           }
          },
          "colorscale": {
           "diverging": [
            [
             0,
             "#8e0152"
            ],
            [
             0.1,
             "#c51b7d"
            ],
            [
             0.2,
             "#de77ae"
            ],
            [
             0.3,
             "#f1b6da"
            ],
            [
             0.4,
             "#fde0ef"
            ],
            [
             0.5,
             "#f7f7f7"
            ],
            [
             0.6,
             "#e6f5d0"
            ],
            [
             0.7,
             "#b8e186"
            ],
            [
             0.8,
             "#7fbc41"
            ],
            [
             0.9,
             "#4d9221"
            ],
            [
             1,
             "#276419"
            ]
           ],
           "sequential": [
            [
             0,
             "#0d0887"
            ],
            [
             0.1111111111111111,
             "#46039f"
            ],
            [
             0.2222222222222222,
             "#7201a8"
            ],
            [
             0.3333333333333333,
             "#9c179e"
            ],
            [
             0.4444444444444444,
             "#bd3786"
            ],
            [
             0.5555555555555556,
             "#d8576b"
            ],
            [
             0.6666666666666666,
             "#ed7953"
            ],
            [
             0.7777777777777778,
             "#fb9f3a"
            ],
            [
             0.8888888888888888,
             "#fdca26"
            ],
            [
             1,
             "#f0f921"
            ]
           ],
           "sequentialminus": [
            [
             0,
             "#0d0887"
            ],
            [
             0.1111111111111111,
             "#46039f"
            ],
            [
             0.2222222222222222,
             "#7201a8"
            ],
            [
             0.3333333333333333,
             "#9c179e"
            ],
            [
             0.4444444444444444,
             "#bd3786"
            ],
            [
             0.5555555555555556,
             "#d8576b"
            ],
            [
             0.6666666666666666,
             "#ed7953"
            ],
            [
             0.7777777777777778,
             "#fb9f3a"
            ],
            [
             0.8888888888888888,
             "#fdca26"
            ],
            [
             1,
             "#f0f921"
            ]
           ]
          },
          "colorway": [
           "#636efa",
           "#EF553B",
           "#00cc96",
           "#ab63fa",
           "#FFA15A",
           "#19d3f3",
           "#FF6692",
           "#B6E880",
           "#FF97FF",
           "#FECB52"
          ],
          "font": {
           "color": "#2a3f5f"
          },
          "geo": {
           "bgcolor": "white",
           "lakecolor": "white",
           "landcolor": "#E5ECF6",
           "showlakes": true,
           "showland": true,
           "subunitcolor": "white"
          },
          "hoverlabel": {
           "align": "left"
          },
          "hovermode": "closest",
          "mapbox": {
           "style": "light"
          },
          "paper_bgcolor": "white",
          "plot_bgcolor": "#E5ECF6",
          "polar": {
           "angularaxis": {
            "gridcolor": "white",
            "linecolor": "white",
            "ticks": ""
           },
           "bgcolor": "#E5ECF6",
           "radialaxis": {
            "gridcolor": "white",
            "linecolor": "white",
            "ticks": ""
           }
          },
          "scene": {
           "xaxis": {
            "backgroundcolor": "#E5ECF6",
            "gridcolor": "white",
            "gridwidth": 2,
            "linecolor": "white",
            "showbackground": true,
            "ticks": "",
            "zerolinecolor": "white"
           },
           "yaxis": {
            "backgroundcolor": "#E5ECF6",
            "gridcolor": "white",
            "gridwidth": 2,
            "linecolor": "white",
            "showbackground": true,
            "ticks": "",
            "zerolinecolor": "white"
           },
           "zaxis": {
            "backgroundcolor": "#E5ECF6",
            "gridcolor": "white",
            "gridwidth": 2,
            "linecolor": "white",
            "showbackground": true,
            "ticks": "",
            "zerolinecolor": "white"
           }
          },
          "shapedefaults": {
           "line": {
            "color": "#2a3f5f"
           }
          },
          "ternary": {
           "aaxis": {
            "gridcolor": "white",
            "linecolor": "white",
            "ticks": ""
           },
           "baxis": {
            "gridcolor": "white",
            "linecolor": "white",
            "ticks": ""
           },
           "bgcolor": "#E5ECF6",
           "caxis": {
            "gridcolor": "white",
            "linecolor": "white",
            "ticks": ""
           }
          },
          "title": {
           "x": 0.05
          },
          "xaxis": {
           "automargin": true,
           "gridcolor": "white",
           "linecolor": "white",
           "ticks": "",
           "title": {
            "standoff": 15
           },
           "zerolinecolor": "white",
           "zerolinewidth": 2
          },
          "yaxis": {
           "automargin": true,
           "gridcolor": "white",
           "linecolor": "white",
           "ticks": "",
           "title": {
            "standoff": 15
           },
           "zerolinecolor": "white",
           "zerolinewidth": 2
          }
         }
        },
        "title": {
         "text": "total round"
        },
        "width": 700
       }
      }
     },
     "metadata": {},
     "output_type": "display_data"
    }
   ],
   "source": [
    "import plotly.graph_objects as go\n",
    "\n",
    "x_data = df_total_round.columns.to_list() # close threshold\n",
    "\n",
    "y_data = df_total_round.index.to_list() # open threshold\n",
    "\n",
    "z_data = df_total_round.copy(deep=True) # win rate\n",
    "\n",
    "fig = go.Figure(data=[go.Surface(z=z_data.values,x=x_data,y=y_data)])\n",
    "\n",
    "fig.update_layout(title=\"total round\", # 标题\n",
    "                  autosize=False,  # 尺度自动缩放\n",
    "                  width=700,  # 长宽\n",
    "                  height=600,\n",
    "                  margin=dict(l=65,r=50,b=65,t=90),  # 4个位置的距离\n",
    "                  scene=dict(xaxis_title='X-close-threshold',yaxis_title='Y-open-threshold')\n",
    "                 )\n",
    "\n",
    "fig.show()"
   ]
  },
  {
   "cell_type": "markdown",
   "metadata": {},
   "source": [
    "# win round surface"
   ]
  },
  {
   "cell_type": "code",
   "execution_count": 20,
   "metadata": {},
   "outputs": [
    {
     "name": "stdout",
     "output_type": "stream",
     "text": [
      "max win round: \n",
      " 0.000    179.0\n",
      "0.001    207.0\n",
      "0.002    262.0\n",
      "0.003    329.0\n",
      "dtype: float64\n",
      "min win round: \n",
      " 0.000    37.0\n",
      "0.001    37.0\n",
      "0.002    40.0\n",
      "0.003    43.0\n",
      "dtype: float64\n"
     ]
    },
    {
     "data": {
      "text/html": [
       "<div>\n",
       "<style scoped>\n",
       "    .dataframe tbody tr th:only-of-type {\n",
       "        vertical-align: middle;\n",
       "    }\n",
       "\n",
       "    .dataframe tbody tr th {\n",
       "        vertical-align: top;\n",
       "    }\n",
       "\n",
       "    .dataframe thead th {\n",
       "        text-align: right;\n",
       "    }\n",
       "</style>\n",
       "<table border=\"1\" class=\"dataframe\">\n",
       "  <thead>\n",
       "    <tr style=\"text-align: right;\">\n",
       "      <th></th>\n",
       "      <th>0.000</th>\n",
       "      <th>0.001</th>\n",
       "      <th>0.002</th>\n",
       "      <th>0.003</th>\n",
       "    </tr>\n",
       "  </thead>\n",
       "  <tbody>\n",
       "    <tr>\n",
       "      <th>0.005</th>\n",
       "      <td>179.0</td>\n",
       "      <td>207.0</td>\n",
       "      <td>262.0</td>\n",
       "      <td>329.0</td>\n",
       "    </tr>\n",
       "    <tr>\n",
       "      <th>0.006</th>\n",
       "      <td>148.0</td>\n",
       "      <td>165.0</td>\n",
       "      <td>196.0</td>\n",
       "      <td>235.0</td>\n",
       "    </tr>\n",
       "    <tr>\n",
       "      <th>0.007</th>\n",
       "      <td>107.0</td>\n",
       "      <td>119.0</td>\n",
       "      <td>135.0</td>\n",
       "      <td>159.0</td>\n",
       "    </tr>\n",
       "    <tr>\n",
       "      <th>0.008</th>\n",
       "      <td>87.0</td>\n",
       "      <td>96.0</td>\n",
       "      <td>105.0</td>\n",
       "      <td>122.0</td>\n",
       "    </tr>\n",
       "    <tr>\n",
       "      <th>0.009</th>\n",
       "      <td>76.0</td>\n",
       "      <td>84.0</td>\n",
       "      <td>89.0</td>\n",
       "      <td>103.0</td>\n",
       "    </tr>\n",
       "    <tr>\n",
       "      <th>0.010</th>\n",
       "      <td>70.0</td>\n",
       "      <td>73.0</td>\n",
       "      <td>77.0</td>\n",
       "      <td>83.0</td>\n",
       "    </tr>\n",
       "    <tr>\n",
       "      <th>0.011</th>\n",
       "      <td>58.0</td>\n",
       "      <td>60.0</td>\n",
       "      <td>63.0</td>\n",
       "      <td>67.0</td>\n",
       "    </tr>\n",
       "    <tr>\n",
       "      <th>0.012</th>\n",
       "      <td>51.0</td>\n",
       "      <td>53.0</td>\n",
       "      <td>56.0</td>\n",
       "      <td>59.0</td>\n",
       "    </tr>\n",
       "    <tr>\n",
       "      <th>0.013</th>\n",
       "      <td>46.0</td>\n",
       "      <td>47.0</td>\n",
       "      <td>50.0</td>\n",
       "      <td>53.0</td>\n",
       "    </tr>\n",
       "    <tr>\n",
       "      <th>0.014</th>\n",
       "      <td>39.0</td>\n",
       "      <td>40.0</td>\n",
       "      <td>44.0</td>\n",
       "      <td>47.0</td>\n",
       "    </tr>\n",
       "    <tr>\n",
       "      <th>0.015</th>\n",
       "      <td>37.0</td>\n",
       "      <td>37.0</td>\n",
       "      <td>40.0</td>\n",
       "      <td>43.0</td>\n",
       "    </tr>\n",
       "  </tbody>\n",
       "</table>\n",
       "</div>"
      ],
      "text/plain": [
       "       0.000  0.001  0.002  0.003\n",
       "0.005  179.0  207.0  262.0  329.0\n",
       "0.006  148.0  165.0  196.0  235.0\n",
       "0.007  107.0  119.0  135.0  159.0\n",
       "0.008   87.0   96.0  105.0  122.0\n",
       "0.009   76.0   84.0   89.0  103.0\n",
       "0.010   70.0   73.0   77.0   83.0\n",
       "0.011   58.0   60.0   63.0   67.0\n",
       "0.012   51.0   53.0   56.0   59.0\n",
       "0.013   46.0   47.0   50.0   53.0\n",
       "0.014   39.0   40.0   44.0   47.0\n",
       "0.015   37.0   37.0   40.0   43.0"
      ]
     },
     "execution_count": 20,
     "metadata": {},
     "output_type": "execute_result"
    }
   ],
   "source": [
    "df_win_round = pd.DataFrame([])\n",
    "for index,row in df_grid_search_res.iterrows():\n",
    "    open_threshold = row['open threshold']\n",
    "    close_threshold = row['close threshold']\n",
    "    df_win_round.loc[open_threshold,close_threshold] = row['win']\n",
    "print('max win round: \\n',df_win_round.max())\n",
    "print('min win round: \\n',df_win_round.min())    \n",
    "df_win_round"
   ]
  },
  {
   "cell_type": "code",
   "execution_count": 21,
   "metadata": {},
   "outputs": [
    {
     "data": {
      "application/vnd.plotly.v1+json": {
       "config": {
        "plotlyServerURL": "https://plot.ly"
       },
       "data": [
        {
         "type": "surface",
         "x": [
          0,
          0.001,
          0.002,
          0.003
         ],
         "y": [
          0.005,
          0.006,
          0.007,
          0.008,
          0.009,
          0.01,
          0.011,
          0.012,
          0.013,
          0.014,
          0.015
         ],
         "z": [
          [
           179,
           207,
           262,
           329
          ],
          [
           148,
           165,
           196,
           235
          ],
          [
           107,
           119,
           135,
           159
          ],
          [
           87,
           96,
           105,
           122
          ],
          [
           76,
           84,
           89,
           103
          ],
          [
           70,
           73,
           77,
           83
          ],
          [
           58,
           60,
           63,
           67
          ],
          [
           51,
           53,
           56,
           59
          ],
          [
           46,
           47,
           50,
           53
          ],
          [
           39,
           40,
           44,
           47
          ],
          [
           37,
           37,
           40,
           43
          ]
         ]
        }
       ],
       "layout": {
        "autosize": false,
        "height": 600,
        "margin": {
         "b": 65,
         "l": 65,
         "r": 50,
         "t": 90
        },
        "scene": {
         "xaxis": {
          "title": {
           "text": "X-close-threshold"
          }
         },
         "yaxis": {
          "title": {
           "text": "Y-open-threshold"
          }
         }
        },
        "template": {
         "data": {
          "bar": [
           {
            "error_x": {
             "color": "#2a3f5f"
            },
            "error_y": {
             "color": "#2a3f5f"
            },
            "marker": {
             "line": {
              "color": "#E5ECF6",
              "width": 0.5
             },
             "pattern": {
              "fillmode": "overlay",
              "size": 10,
              "solidity": 0.2
             }
            },
            "type": "bar"
           }
          ],
          "barpolar": [
           {
            "marker": {
             "line": {
              "color": "#E5ECF6",
              "width": 0.5
             },
             "pattern": {
              "fillmode": "overlay",
              "size": 10,
              "solidity": 0.2
             }
            },
            "type": "barpolar"
           }
          ],
          "carpet": [
           {
            "aaxis": {
             "endlinecolor": "#2a3f5f",
             "gridcolor": "white",
             "linecolor": "white",
             "minorgridcolor": "white",
             "startlinecolor": "#2a3f5f"
            },
            "baxis": {
             "endlinecolor": "#2a3f5f",
             "gridcolor": "white",
             "linecolor": "white",
             "minorgridcolor": "white",
             "startlinecolor": "#2a3f5f"
            },
            "type": "carpet"
           }
          ],
          "choropleth": [
           {
            "colorbar": {
             "outlinewidth": 0,
             "ticks": ""
            },
            "type": "choropleth"
           }
          ],
          "contour": [
           {
            "colorbar": {
             "outlinewidth": 0,
             "ticks": ""
            },
            "colorscale": [
             [
              0,
              "#0d0887"
             ],
             [
              0.1111111111111111,
              "#46039f"
             ],
             [
              0.2222222222222222,
              "#7201a8"
             ],
             [
              0.3333333333333333,
              "#9c179e"
             ],
             [
              0.4444444444444444,
              "#bd3786"
             ],
             [
              0.5555555555555556,
              "#d8576b"
             ],
             [
              0.6666666666666666,
              "#ed7953"
             ],
             [
              0.7777777777777778,
              "#fb9f3a"
             ],
             [
              0.8888888888888888,
              "#fdca26"
             ],
             [
              1,
              "#f0f921"
             ]
            ],
            "type": "contour"
           }
          ],
          "contourcarpet": [
           {
            "colorbar": {
             "outlinewidth": 0,
             "ticks": ""
            },
            "type": "contourcarpet"
           }
          ],
          "heatmap": [
           {
            "colorbar": {
             "outlinewidth": 0,
             "ticks": ""
            },
            "colorscale": [
             [
              0,
              "#0d0887"
             ],
             [
              0.1111111111111111,
              "#46039f"
             ],
             [
              0.2222222222222222,
              "#7201a8"
             ],
             [
              0.3333333333333333,
              "#9c179e"
             ],
             [
              0.4444444444444444,
              "#bd3786"
             ],
             [
              0.5555555555555556,
              "#d8576b"
             ],
             [
              0.6666666666666666,
              "#ed7953"
             ],
             [
              0.7777777777777778,
              "#fb9f3a"
             ],
             [
              0.8888888888888888,
              "#fdca26"
             ],
             [
              1,
              "#f0f921"
             ]
            ],
            "type": "heatmap"
           }
          ],
          "heatmapgl": [
           {
            "colorbar": {
             "outlinewidth": 0,
             "ticks": ""
            },
            "colorscale": [
             [
              0,
              "#0d0887"
             ],
             [
              0.1111111111111111,
              "#46039f"
             ],
             [
              0.2222222222222222,
              "#7201a8"
             ],
             [
              0.3333333333333333,
              "#9c179e"
             ],
             [
              0.4444444444444444,
              "#bd3786"
             ],
             [
              0.5555555555555556,
              "#d8576b"
             ],
             [
              0.6666666666666666,
              "#ed7953"
             ],
             [
              0.7777777777777778,
              "#fb9f3a"
             ],
             [
              0.8888888888888888,
              "#fdca26"
             ],
             [
              1,
              "#f0f921"
             ]
            ],
            "type": "heatmapgl"
           }
          ],
          "histogram": [
           {
            "marker": {
             "pattern": {
              "fillmode": "overlay",
              "size": 10,
              "solidity": 0.2
             }
            },
            "type": "histogram"
           }
          ],
          "histogram2d": [
           {
            "colorbar": {
             "outlinewidth": 0,
             "ticks": ""
            },
            "colorscale": [
             [
              0,
              "#0d0887"
             ],
             [
              0.1111111111111111,
              "#46039f"
             ],
             [
              0.2222222222222222,
              "#7201a8"
             ],
             [
              0.3333333333333333,
              "#9c179e"
             ],
             [
              0.4444444444444444,
              "#bd3786"
             ],
             [
              0.5555555555555556,
              "#d8576b"
             ],
             [
              0.6666666666666666,
              "#ed7953"
             ],
             [
              0.7777777777777778,
              "#fb9f3a"
             ],
             [
              0.8888888888888888,
              "#fdca26"
             ],
             [
              1,
              "#f0f921"
             ]
            ],
            "type": "histogram2d"
           }
          ],
          "histogram2dcontour": [
           {
            "colorbar": {
             "outlinewidth": 0,
             "ticks": ""
            },
            "colorscale": [
             [
              0,
              "#0d0887"
             ],
             [
              0.1111111111111111,
              "#46039f"
             ],
             [
              0.2222222222222222,
              "#7201a8"
             ],
             [
              0.3333333333333333,
              "#9c179e"
             ],
             [
              0.4444444444444444,
              "#bd3786"
             ],
             [
              0.5555555555555556,
              "#d8576b"
             ],
             [
              0.6666666666666666,
              "#ed7953"
             ],
             [
              0.7777777777777778,
              "#fb9f3a"
             ],
             [
              0.8888888888888888,
              "#fdca26"
             ],
             [
              1,
              "#f0f921"
             ]
            ],
            "type": "histogram2dcontour"
           }
          ],
          "mesh3d": [
           {
            "colorbar": {
             "outlinewidth": 0,
             "ticks": ""
            },
            "type": "mesh3d"
           }
          ],
          "parcoords": [
           {
            "line": {
             "colorbar": {
              "outlinewidth": 0,
              "ticks": ""
             }
            },
            "type": "parcoords"
           }
          ],
          "pie": [
           {
            "automargin": true,
            "type": "pie"
           }
          ],
          "scatter": [
           {
            "fillpattern": {
             "fillmode": "overlay",
             "size": 10,
             "solidity": 0.2
            },
            "type": "scatter"
           }
          ],
          "scatter3d": [
           {
            "line": {
             "colorbar": {
              "outlinewidth": 0,
              "ticks": ""
             }
            },
            "marker": {
             "colorbar": {
              "outlinewidth": 0,
              "ticks": ""
             }
            },
            "type": "scatter3d"
           }
          ],
          "scattercarpet": [
           {
            "marker": {
             "colorbar": {
              "outlinewidth": 0,
              "ticks": ""
             }
            },
            "type": "scattercarpet"
           }
          ],
          "scattergeo": [
           {
            "marker": {
             "colorbar": {
              "outlinewidth": 0,
              "ticks": ""
             }
            },
            "type": "scattergeo"
           }
          ],
          "scattergl": [
           {
            "marker": {
             "colorbar": {
              "outlinewidth": 0,
              "ticks": ""
             }
            },
            "type": "scattergl"
           }
          ],
          "scattermapbox": [
           {
            "marker": {
             "colorbar": {
              "outlinewidth": 0,
              "ticks": ""
             }
            },
            "type": "scattermapbox"
           }
          ],
          "scatterpolar": [
           {
            "marker": {
             "colorbar": {
              "outlinewidth": 0,
              "ticks": ""
             }
            },
            "type": "scatterpolar"
           }
          ],
          "scatterpolargl": [
           {
            "marker": {
             "colorbar": {
              "outlinewidth": 0,
              "ticks": ""
             }
            },
            "type": "scatterpolargl"
           }
          ],
          "scatterternary": [
           {
            "marker": {
             "colorbar": {
              "outlinewidth": 0,
              "ticks": ""
             }
            },
            "type": "scatterternary"
           }
          ],
          "surface": [
           {
            "colorbar": {
             "outlinewidth": 0,
             "ticks": ""
            },
            "colorscale": [
             [
              0,
              "#0d0887"
             ],
             [
              0.1111111111111111,
              "#46039f"
             ],
             [
              0.2222222222222222,
              "#7201a8"
             ],
             [
              0.3333333333333333,
              "#9c179e"
             ],
             [
              0.4444444444444444,
              "#bd3786"
             ],
             [
              0.5555555555555556,
              "#d8576b"
             ],
             [
              0.6666666666666666,
              "#ed7953"
             ],
             [
              0.7777777777777778,
              "#fb9f3a"
             ],
             [
              0.8888888888888888,
              "#fdca26"
             ],
             [
              1,
              "#f0f921"
             ]
            ],
            "type": "surface"
           }
          ],
          "table": [
           {
            "cells": {
             "fill": {
              "color": "#EBF0F8"
             },
             "line": {
              "color": "white"
             }
            },
            "header": {
             "fill": {
              "color": "#C8D4E3"
             },
             "line": {
              "color": "white"
             }
            },
            "type": "table"
           }
          ]
         },
         "layout": {
          "annotationdefaults": {
           "arrowcolor": "#2a3f5f",
           "arrowhead": 0,
           "arrowwidth": 1
          },
          "autotypenumbers": "strict",
          "coloraxis": {
           "colorbar": {
            "outlinewidth": 0,
            "ticks": ""
           }
          },
          "colorscale": {
           "diverging": [
            [
             0,
             "#8e0152"
            ],
            [
             0.1,
             "#c51b7d"
            ],
            [
             0.2,
             "#de77ae"
            ],
            [
             0.3,
             "#f1b6da"
            ],
            [
             0.4,
             "#fde0ef"
            ],
            [
             0.5,
             "#f7f7f7"
            ],
            [
             0.6,
             "#e6f5d0"
            ],
            [
             0.7,
             "#b8e186"
            ],
            [
             0.8,
             "#7fbc41"
            ],
            [
             0.9,
             "#4d9221"
            ],
            [
             1,
             "#276419"
            ]
           ],
           "sequential": [
            [
             0,
             "#0d0887"
            ],
            [
             0.1111111111111111,
             "#46039f"
            ],
            [
             0.2222222222222222,
             "#7201a8"
            ],
            [
             0.3333333333333333,
             "#9c179e"
            ],
            [
             0.4444444444444444,
             "#bd3786"
            ],
            [
             0.5555555555555556,
             "#d8576b"
            ],
            [
             0.6666666666666666,
             "#ed7953"
            ],
            [
             0.7777777777777778,
             "#fb9f3a"
            ],
            [
             0.8888888888888888,
             "#fdca26"
            ],
            [
             1,
             "#f0f921"
            ]
           ],
           "sequentialminus": [
            [
             0,
             "#0d0887"
            ],
            [
             0.1111111111111111,
             "#46039f"
            ],
            [
             0.2222222222222222,
             "#7201a8"
            ],
            [
             0.3333333333333333,
             "#9c179e"
            ],
            [
             0.4444444444444444,
             "#bd3786"
            ],
            [
             0.5555555555555556,
             "#d8576b"
            ],
            [
             0.6666666666666666,
             "#ed7953"
            ],
            [
             0.7777777777777778,
             "#fb9f3a"
            ],
            [
             0.8888888888888888,
             "#fdca26"
            ],
            [
             1,
             "#f0f921"
            ]
           ]
          },
          "colorway": [
           "#636efa",
           "#EF553B",
           "#00cc96",
           "#ab63fa",
           "#FFA15A",
           "#19d3f3",
           "#FF6692",
           "#B6E880",
           "#FF97FF",
           "#FECB52"
          ],
          "font": {
           "color": "#2a3f5f"
          },
          "geo": {
           "bgcolor": "white",
           "lakecolor": "white",
           "landcolor": "#E5ECF6",
           "showlakes": true,
           "showland": true,
           "subunitcolor": "white"
          },
          "hoverlabel": {
           "align": "left"
          },
          "hovermode": "closest",
          "mapbox": {
           "style": "light"
          },
          "paper_bgcolor": "white",
          "plot_bgcolor": "#E5ECF6",
          "polar": {
           "angularaxis": {
            "gridcolor": "white",
            "linecolor": "white",
            "ticks": ""
           },
           "bgcolor": "#E5ECF6",
           "radialaxis": {
            "gridcolor": "white",
            "linecolor": "white",
            "ticks": ""
           }
          },
          "scene": {
           "xaxis": {
            "backgroundcolor": "#E5ECF6",
            "gridcolor": "white",
            "gridwidth": 2,
            "linecolor": "white",
            "showbackground": true,
            "ticks": "",
            "zerolinecolor": "white"
           },
           "yaxis": {
            "backgroundcolor": "#E5ECF6",
            "gridcolor": "white",
            "gridwidth": 2,
            "linecolor": "white",
            "showbackground": true,
            "ticks": "",
            "zerolinecolor": "white"
           },
           "zaxis": {
            "backgroundcolor": "#E5ECF6",
            "gridcolor": "white",
            "gridwidth": 2,
            "linecolor": "white",
            "showbackground": true,
            "ticks": "",
            "zerolinecolor": "white"
           }
          },
          "shapedefaults": {
           "line": {
            "color": "#2a3f5f"
           }
          },
          "ternary": {
           "aaxis": {
            "gridcolor": "white",
            "linecolor": "white",
            "ticks": ""
           },
           "baxis": {
            "gridcolor": "white",
            "linecolor": "white",
            "ticks": ""
           },
           "bgcolor": "#E5ECF6",
           "caxis": {
            "gridcolor": "white",
            "linecolor": "white",
            "ticks": ""
           }
          },
          "title": {
           "x": 0.05
          },
          "xaxis": {
           "automargin": true,
           "gridcolor": "white",
           "linecolor": "white",
           "ticks": "",
           "title": {
            "standoff": 15
           },
           "zerolinecolor": "white",
           "zerolinewidth": 2
          },
          "yaxis": {
           "automargin": true,
           "gridcolor": "white",
           "linecolor": "white",
           "ticks": "",
           "title": {
            "standoff": 15
           },
           "zerolinecolor": "white",
           "zerolinewidth": 2
          }
         }
        },
        "title": {
         "text": "win round"
        },
        "width": 700
       }
      }
     },
     "metadata": {},
     "output_type": "display_data"
    }
   ],
   "source": [
    "import plotly.graph_objects as go\n",
    "\n",
    "x_data = df_win_round.columns.to_list() # close threshold\n",
    "\n",
    "y_data = df_win_round.index.to_list() # open threshold\n",
    "\n",
    "z_data = df_win_round.copy(deep=True) # win rate\n",
    "\n",
    "fig = go.Figure(data=[go.Surface(z=z_data.values,x=x_data,y=y_data)])\n",
    "\n",
    "fig.update_layout(title=\"win round\", # 标题\n",
    "                  autosize=False,  # 尺度自动缩放\n",
    "                  width=700,  # 长宽\n",
    "                  height=600,\n",
    "                  margin=dict(l=65,r=50,b=65,t=90),  # 4个位置的距离\n",
    "                  scene=dict(xaxis_title='X-close-threshold',yaxis_title='Y-open-threshold')\n",
    "                 )\n",
    "\n",
    "fig.show()"
   ]
  },
  {
   "cell_type": "markdown",
   "metadata": {},
   "source": [
    "# lose round surface"
   ]
  },
  {
   "cell_type": "code",
   "execution_count": 22,
   "metadata": {},
   "outputs": [
    {
     "name": "stdout",
     "output_type": "stream",
     "text": [
      "max win round: \n",
      " 0.000    47.0\n",
      "0.001    48.0\n",
      "0.002    49.0\n",
      "0.003    49.0\n",
      "dtype: float64\n",
      "min win round: \n",
      " 0.000    20.0\n",
      "0.001    20.0\n",
      "0.002    19.0\n",
      "0.003    19.0\n",
      "dtype: float64\n"
     ]
    },
    {
     "data": {
      "text/html": [
       "<div>\n",
       "<style scoped>\n",
       "    .dataframe tbody tr th:only-of-type {\n",
       "        vertical-align: middle;\n",
       "    }\n",
       "\n",
       "    .dataframe tbody tr th {\n",
       "        vertical-align: top;\n",
       "    }\n",
       "\n",
       "    .dataframe thead th {\n",
       "        text-align: right;\n",
       "    }\n",
       "</style>\n",
       "<table border=\"1\" class=\"dataframe\">\n",
       "  <thead>\n",
       "    <tr style=\"text-align: right;\">\n",
       "      <th></th>\n",
       "      <th>0.000</th>\n",
       "      <th>0.001</th>\n",
       "      <th>0.002</th>\n",
       "      <th>0.003</th>\n",
       "    </tr>\n",
       "  </thead>\n",
       "  <tbody>\n",
       "    <tr>\n",
       "      <th>0.005</th>\n",
       "      <td>47.0</td>\n",
       "      <td>48.0</td>\n",
       "      <td>49.0</td>\n",
       "      <td>49.0</td>\n",
       "    </tr>\n",
       "    <tr>\n",
       "      <th>0.006</th>\n",
       "      <td>41.0</td>\n",
       "      <td>42.0</td>\n",
       "      <td>44.0</td>\n",
       "      <td>44.0</td>\n",
       "    </tr>\n",
       "    <tr>\n",
       "      <th>0.007</th>\n",
       "      <td>41.0</td>\n",
       "      <td>42.0</td>\n",
       "      <td>41.0</td>\n",
       "      <td>40.0</td>\n",
       "    </tr>\n",
       "    <tr>\n",
       "      <th>0.008</th>\n",
       "      <td>40.0</td>\n",
       "      <td>40.0</td>\n",
       "      <td>38.0</td>\n",
       "      <td>37.0</td>\n",
       "    </tr>\n",
       "    <tr>\n",
       "      <th>0.009</th>\n",
       "      <td>35.0</td>\n",
       "      <td>35.0</td>\n",
       "      <td>35.0</td>\n",
       "      <td>34.0</td>\n",
       "    </tr>\n",
       "    <tr>\n",
       "      <th>0.010</th>\n",
       "      <td>32.0</td>\n",
       "      <td>32.0</td>\n",
       "      <td>32.0</td>\n",
       "      <td>32.0</td>\n",
       "    </tr>\n",
       "    <tr>\n",
       "      <th>0.011</th>\n",
       "      <td>30.0</td>\n",
       "      <td>30.0</td>\n",
       "      <td>31.0</td>\n",
       "      <td>32.0</td>\n",
       "    </tr>\n",
       "    <tr>\n",
       "      <th>0.012</th>\n",
       "      <td>26.0</td>\n",
       "      <td>26.0</td>\n",
       "      <td>26.0</td>\n",
       "      <td>27.0</td>\n",
       "    </tr>\n",
       "    <tr>\n",
       "      <th>0.013</th>\n",
       "      <td>24.0</td>\n",
       "      <td>24.0</td>\n",
       "      <td>24.0</td>\n",
       "      <td>24.0</td>\n",
       "    </tr>\n",
       "    <tr>\n",
       "      <th>0.014</th>\n",
       "      <td>23.0</td>\n",
       "      <td>23.0</td>\n",
       "      <td>22.0</td>\n",
       "      <td>22.0</td>\n",
       "    </tr>\n",
       "    <tr>\n",
       "      <th>0.015</th>\n",
       "      <td>20.0</td>\n",
       "      <td>20.0</td>\n",
       "      <td>19.0</td>\n",
       "      <td>19.0</td>\n",
       "    </tr>\n",
       "  </tbody>\n",
       "</table>\n",
       "</div>"
      ],
      "text/plain": [
       "       0.000  0.001  0.002  0.003\n",
       "0.005   47.0   48.0   49.0   49.0\n",
       "0.006   41.0   42.0   44.0   44.0\n",
       "0.007   41.0   42.0   41.0   40.0\n",
       "0.008   40.0   40.0   38.0   37.0\n",
       "0.009   35.0   35.0   35.0   34.0\n",
       "0.010   32.0   32.0   32.0   32.0\n",
       "0.011   30.0   30.0   31.0   32.0\n",
       "0.012   26.0   26.0   26.0   27.0\n",
       "0.013   24.0   24.0   24.0   24.0\n",
       "0.014   23.0   23.0   22.0   22.0\n",
       "0.015   20.0   20.0   19.0   19.0"
      ]
     },
     "execution_count": 22,
     "metadata": {},
     "output_type": "execute_result"
    }
   ],
   "source": [
    "df_lose_round = pd.DataFrame([])\n",
    "for index,row in df_grid_search_res.iterrows():\n",
    "    open_threshold = row['open threshold']\n",
    "    close_threshold = row['close threshold']\n",
    "    df_lose_round.loc[open_threshold,close_threshold] = row['lose']\n",
    "print('max win round: \\n',df_lose_round.max())\n",
    "print('min win round: \\n',df_lose_round.min())    \n",
    "df_lose_round"
   ]
  },
  {
   "cell_type": "code",
   "execution_count": 23,
   "metadata": {},
   "outputs": [
    {
     "data": {
      "application/vnd.plotly.v1+json": {
       "config": {
        "plotlyServerURL": "https://plot.ly"
       },
       "data": [
        {
         "type": "surface",
         "x": [
          0,
          0.001,
          0.002,
          0.003
         ],
         "y": [
          0.005,
          0.006,
          0.007,
          0.008,
          0.009,
          0.01,
          0.011,
          0.012,
          0.013,
          0.014,
          0.015
         ],
         "z": [
          [
           47,
           48,
           49,
           49
          ],
          [
           41,
           42,
           44,
           44
          ],
          [
           41,
           42,
           41,
           40
          ],
          [
           40,
           40,
           38,
           37
          ],
          [
           35,
           35,
           35,
           34
          ],
          [
           32,
           32,
           32,
           32
          ],
          [
           30,
           30,
           31,
           32
          ],
          [
           26,
           26,
           26,
           27
          ],
          [
           24,
           24,
           24,
           24
          ],
          [
           23,
           23,
           22,
           22
          ],
          [
           20,
           20,
           19,
           19
          ]
         ]
        }
       ],
       "layout": {
        "autosize": false,
        "height": 600,
        "margin": {
         "b": 65,
         "l": 65,
         "r": 50,
         "t": 90
        },
        "scene": {
         "xaxis": {
          "title": {
           "text": "X-close-threshold"
          }
         },
         "yaxis": {
          "title": {
           "text": "Y-open-threshold"
          }
         }
        },
        "template": {
         "data": {
          "bar": [
           {
            "error_x": {
             "color": "#2a3f5f"
            },
            "error_y": {
             "color": "#2a3f5f"
            },
            "marker": {
             "line": {
              "color": "#E5ECF6",
              "width": 0.5
             },
             "pattern": {
              "fillmode": "overlay",
              "size": 10,
              "solidity": 0.2
             }
            },
            "type": "bar"
           }
          ],
          "barpolar": [
           {
            "marker": {
             "line": {
              "color": "#E5ECF6",
              "width": 0.5
             },
             "pattern": {
              "fillmode": "overlay",
              "size": 10,
              "solidity": 0.2
             }
            },
            "type": "barpolar"
           }
          ],
          "carpet": [
           {
            "aaxis": {
             "endlinecolor": "#2a3f5f",
             "gridcolor": "white",
             "linecolor": "white",
             "minorgridcolor": "white",
             "startlinecolor": "#2a3f5f"
            },
            "baxis": {
             "endlinecolor": "#2a3f5f",
             "gridcolor": "white",
             "linecolor": "white",
             "minorgridcolor": "white",
             "startlinecolor": "#2a3f5f"
            },
            "type": "carpet"
           }
          ],
          "choropleth": [
           {
            "colorbar": {
             "outlinewidth": 0,
             "ticks": ""
            },
            "type": "choropleth"
           }
          ],
          "contour": [
           {
            "colorbar": {
             "outlinewidth": 0,
             "ticks": ""
            },
            "colorscale": [
             [
              0,
              "#0d0887"
             ],
             [
              0.1111111111111111,
              "#46039f"
             ],
             [
              0.2222222222222222,
              "#7201a8"
             ],
             [
              0.3333333333333333,
              "#9c179e"
             ],
             [
              0.4444444444444444,
              "#bd3786"
             ],
             [
              0.5555555555555556,
              "#d8576b"
             ],
             [
              0.6666666666666666,
              "#ed7953"
             ],
             [
              0.7777777777777778,
              "#fb9f3a"
             ],
             [
              0.8888888888888888,
              "#fdca26"
             ],
             [
              1,
              "#f0f921"
             ]
            ],
            "type": "contour"
           }
          ],
          "contourcarpet": [
           {
            "colorbar": {
             "outlinewidth": 0,
             "ticks": ""
            },
            "type": "contourcarpet"
           }
          ],
          "heatmap": [
           {
            "colorbar": {
             "outlinewidth": 0,
             "ticks": ""
            },
            "colorscale": [
             [
              0,
              "#0d0887"
             ],
             [
              0.1111111111111111,
              "#46039f"
             ],
             [
              0.2222222222222222,
              "#7201a8"
             ],
             [
              0.3333333333333333,
              "#9c179e"
             ],
             [
              0.4444444444444444,
              "#bd3786"
             ],
             [
              0.5555555555555556,
              "#d8576b"
             ],
             [
              0.6666666666666666,
              "#ed7953"
             ],
             [
              0.7777777777777778,
              "#fb9f3a"
             ],
             [
              0.8888888888888888,
              "#fdca26"
             ],
             [
              1,
              "#f0f921"
             ]
            ],
            "type": "heatmap"
           }
          ],
          "heatmapgl": [
           {
            "colorbar": {
             "outlinewidth": 0,
             "ticks": ""
            },
            "colorscale": [
             [
              0,
              "#0d0887"
             ],
             [
              0.1111111111111111,
              "#46039f"
             ],
             [
              0.2222222222222222,
              "#7201a8"
             ],
             [
              0.3333333333333333,
              "#9c179e"
             ],
             [
              0.4444444444444444,
              "#bd3786"
             ],
             [
              0.5555555555555556,
              "#d8576b"
             ],
             [
              0.6666666666666666,
              "#ed7953"
             ],
             [
              0.7777777777777778,
              "#fb9f3a"
             ],
             [
              0.8888888888888888,
              "#fdca26"
             ],
             [
              1,
              "#f0f921"
             ]
            ],
            "type": "heatmapgl"
           }
          ],
          "histogram": [
           {
            "marker": {
             "pattern": {
              "fillmode": "overlay",
              "size": 10,
              "solidity": 0.2
             }
            },
            "type": "histogram"
           }
          ],
          "histogram2d": [
           {
            "colorbar": {
             "outlinewidth": 0,
             "ticks": ""
            },
            "colorscale": [
             [
              0,
              "#0d0887"
             ],
             [
              0.1111111111111111,
              "#46039f"
             ],
             [
              0.2222222222222222,
              "#7201a8"
             ],
             [
              0.3333333333333333,
              "#9c179e"
             ],
             [
              0.4444444444444444,
              "#bd3786"
             ],
             [
              0.5555555555555556,
              "#d8576b"
             ],
             [
              0.6666666666666666,
              "#ed7953"
             ],
             [
              0.7777777777777778,
              "#fb9f3a"
             ],
             [
              0.8888888888888888,
              "#fdca26"
             ],
             [
              1,
              "#f0f921"
             ]
            ],
            "type": "histogram2d"
           }
          ],
          "histogram2dcontour": [
           {
            "colorbar": {
             "outlinewidth": 0,
             "ticks": ""
            },
            "colorscale": [
             [
              0,
              "#0d0887"
             ],
             [
              0.1111111111111111,
              "#46039f"
             ],
             [
              0.2222222222222222,
              "#7201a8"
             ],
             [
              0.3333333333333333,
              "#9c179e"
             ],
             [
              0.4444444444444444,
              "#bd3786"
             ],
             [
              0.5555555555555556,
              "#d8576b"
             ],
             [
              0.6666666666666666,
              "#ed7953"
             ],
             [
              0.7777777777777778,
              "#fb9f3a"
             ],
             [
              0.8888888888888888,
              "#fdca26"
             ],
             [
              1,
              "#f0f921"
             ]
            ],
            "type": "histogram2dcontour"
           }
          ],
          "mesh3d": [
           {
            "colorbar": {
             "outlinewidth": 0,
             "ticks": ""
            },
            "type": "mesh3d"
           }
          ],
          "parcoords": [
           {
            "line": {
             "colorbar": {
              "outlinewidth": 0,
              "ticks": ""
             }
            },
            "type": "parcoords"
           }
          ],
          "pie": [
           {
            "automargin": true,
            "type": "pie"
           }
          ],
          "scatter": [
           {
            "fillpattern": {
             "fillmode": "overlay",
             "size": 10,
             "solidity": 0.2
            },
            "type": "scatter"
           }
          ],
          "scatter3d": [
           {
            "line": {
             "colorbar": {
              "outlinewidth": 0,
              "ticks": ""
             }
            },
            "marker": {
             "colorbar": {
              "outlinewidth": 0,
              "ticks": ""
             }
            },
            "type": "scatter3d"
           }
          ],
          "scattercarpet": [
           {
            "marker": {
             "colorbar": {
              "outlinewidth": 0,
              "ticks": ""
             }
            },
            "type": "scattercarpet"
           }
          ],
          "scattergeo": [
           {
            "marker": {
             "colorbar": {
              "outlinewidth": 0,
              "ticks": ""
             }
            },
            "type": "scattergeo"
           }
          ],
          "scattergl": [
           {
            "marker": {
             "colorbar": {
              "outlinewidth": 0,
              "ticks": ""
             }
            },
            "type": "scattergl"
           }
          ],
          "scattermapbox": [
           {
            "marker": {
             "colorbar": {
              "outlinewidth": 0,
              "ticks": ""
             }
            },
            "type": "scattermapbox"
           }
          ],
          "scatterpolar": [
           {
            "marker": {
             "colorbar": {
              "outlinewidth": 0,
              "ticks": ""
             }
            },
            "type": "scatterpolar"
           }
          ],
          "scatterpolargl": [
           {
            "marker": {
             "colorbar": {
              "outlinewidth": 0,
              "ticks": ""
             }
            },
            "type": "scatterpolargl"
           }
          ],
          "scatterternary": [
           {
            "marker": {
             "colorbar": {
              "outlinewidth": 0,
              "ticks": ""
             }
            },
            "type": "scatterternary"
           }
          ],
          "surface": [
           {
            "colorbar": {
             "outlinewidth": 0,
             "ticks": ""
            },
            "colorscale": [
             [
              0,
              "#0d0887"
             ],
             [
              0.1111111111111111,
              "#46039f"
             ],
             [
              0.2222222222222222,
              "#7201a8"
             ],
             [
              0.3333333333333333,
              "#9c179e"
             ],
             [
              0.4444444444444444,
              "#bd3786"
             ],
             [
              0.5555555555555556,
              "#d8576b"
             ],
             [
              0.6666666666666666,
              "#ed7953"
             ],
             [
              0.7777777777777778,
              "#fb9f3a"
             ],
             [
              0.8888888888888888,
              "#fdca26"
             ],
             [
              1,
              "#f0f921"
             ]
            ],
            "type": "surface"
           }
          ],
          "table": [
           {
            "cells": {
             "fill": {
              "color": "#EBF0F8"
             },
             "line": {
              "color": "white"
             }
            },
            "header": {
             "fill": {
              "color": "#C8D4E3"
             },
             "line": {
              "color": "white"
             }
            },
            "type": "table"
           }
          ]
         },
         "layout": {
          "annotationdefaults": {
           "arrowcolor": "#2a3f5f",
           "arrowhead": 0,
           "arrowwidth": 1
          },
          "autotypenumbers": "strict",
          "coloraxis": {
           "colorbar": {
            "outlinewidth": 0,
            "ticks": ""
           }
          },
          "colorscale": {
           "diverging": [
            [
             0,
             "#8e0152"
            ],
            [
             0.1,
             "#c51b7d"
            ],
            [
             0.2,
             "#de77ae"
            ],
            [
             0.3,
             "#f1b6da"
            ],
            [
             0.4,
             "#fde0ef"
            ],
            [
             0.5,
             "#f7f7f7"
            ],
            [
             0.6,
             "#e6f5d0"
            ],
            [
             0.7,
             "#b8e186"
            ],
            [
             0.8,
             "#7fbc41"
            ],
            [
             0.9,
             "#4d9221"
            ],
            [
             1,
             "#276419"
            ]
           ],
           "sequential": [
            [
             0,
             "#0d0887"
            ],
            [
             0.1111111111111111,
             "#46039f"
            ],
            [
             0.2222222222222222,
             "#7201a8"
            ],
            [
             0.3333333333333333,
             "#9c179e"
            ],
            [
             0.4444444444444444,
             "#bd3786"
            ],
            [
             0.5555555555555556,
             "#d8576b"
            ],
            [
             0.6666666666666666,
             "#ed7953"
            ],
            [
             0.7777777777777778,
             "#fb9f3a"
            ],
            [
             0.8888888888888888,
             "#fdca26"
            ],
            [
             1,
             "#f0f921"
            ]
           ],
           "sequentialminus": [
            [
             0,
             "#0d0887"
            ],
            [
             0.1111111111111111,
             "#46039f"
            ],
            [
             0.2222222222222222,
             "#7201a8"
            ],
            [
             0.3333333333333333,
             "#9c179e"
            ],
            [
             0.4444444444444444,
             "#bd3786"
            ],
            [
             0.5555555555555556,
             "#d8576b"
            ],
            [
             0.6666666666666666,
             "#ed7953"
            ],
            [
             0.7777777777777778,
             "#fb9f3a"
            ],
            [
             0.8888888888888888,
             "#fdca26"
            ],
            [
             1,
             "#f0f921"
            ]
           ]
          },
          "colorway": [
           "#636efa",
           "#EF553B",
           "#00cc96",
           "#ab63fa",
           "#FFA15A",
           "#19d3f3",
           "#FF6692",
           "#B6E880",
           "#FF97FF",
           "#FECB52"
          ],
          "font": {
           "color": "#2a3f5f"
          },
          "geo": {
           "bgcolor": "white",
           "lakecolor": "white",
           "landcolor": "#E5ECF6",
           "showlakes": true,
           "showland": true,
           "subunitcolor": "white"
          },
          "hoverlabel": {
           "align": "left"
          },
          "hovermode": "closest",
          "mapbox": {
           "style": "light"
          },
          "paper_bgcolor": "white",
          "plot_bgcolor": "#E5ECF6",
          "polar": {
           "angularaxis": {
            "gridcolor": "white",
            "linecolor": "white",
            "ticks": ""
           },
           "bgcolor": "#E5ECF6",
           "radialaxis": {
            "gridcolor": "white",
            "linecolor": "white",
            "ticks": ""
           }
          },
          "scene": {
           "xaxis": {
            "backgroundcolor": "#E5ECF6",
            "gridcolor": "white",
            "gridwidth": 2,
            "linecolor": "white",
            "showbackground": true,
            "ticks": "",
            "zerolinecolor": "white"
           },
           "yaxis": {
            "backgroundcolor": "#E5ECF6",
            "gridcolor": "white",
            "gridwidth": 2,
            "linecolor": "white",
            "showbackground": true,
            "ticks": "",
            "zerolinecolor": "white"
           },
           "zaxis": {
            "backgroundcolor": "#E5ECF6",
            "gridcolor": "white",
            "gridwidth": 2,
            "linecolor": "white",
            "showbackground": true,
            "ticks": "",
            "zerolinecolor": "white"
           }
          },
          "shapedefaults": {
           "line": {
            "color": "#2a3f5f"
           }
          },
          "ternary": {
           "aaxis": {
            "gridcolor": "white",
            "linecolor": "white",
            "ticks": ""
           },
           "baxis": {
            "gridcolor": "white",
            "linecolor": "white",
            "ticks": ""
           },
           "bgcolor": "#E5ECF6",
           "caxis": {
            "gridcolor": "white",
            "linecolor": "white",
            "ticks": ""
           }
          },
          "title": {
           "x": 0.05
          },
          "xaxis": {
           "automargin": true,
           "gridcolor": "white",
           "linecolor": "white",
           "ticks": "",
           "title": {
            "standoff": 15
           },
           "zerolinecolor": "white",
           "zerolinewidth": 2
          },
          "yaxis": {
           "automargin": true,
           "gridcolor": "white",
           "linecolor": "white",
           "ticks": "",
           "title": {
            "standoff": 15
           },
           "zerolinecolor": "white",
           "zerolinewidth": 2
          }
         }
        },
        "title": {
         "text": "lose round"
        },
        "width": 700
       }
      }
     },
     "metadata": {},
     "output_type": "display_data"
    }
   ],
   "source": [
    "import plotly.graph_objects as go\n",
    "\n",
    "x_data = df_lose_round.columns.to_list() # close threshold\n",
    "\n",
    "y_data = df_lose_round.index.to_list() # open threshold\n",
    "\n",
    "z_data = df_lose_round.copy(deep=True) # win rate\n",
    "\n",
    "fig = go.Figure(data=[go.Surface(z=z_data.values,x=x_data,y=y_data)])\n",
    "\n",
    "fig.update_layout(title=\"lose round\", # 标题\n",
    "                  autosize=False,  # 尺度自动缩放\n",
    "                  width=700,  # 长宽\n",
    "                  height=600,\n",
    "                  margin=dict(l=65,r=50,b=65,t=90),  # 4个位置的距离\n",
    "                  scene=dict(xaxis_title='X-close-threshold',yaxis_title='Y-open-threshold')\n",
    "                )\n",
    "\n",
    "fig.show()"
   ]
  },
  {
   "cell_type": "markdown",
   "metadata": {},
   "source": [
    "# close by signal win ratio surface"
   ]
  },
  {
   "cell_type": "code",
   "execution_count": 24,
   "metadata": {},
   "outputs": [
    {
     "name": "stdout",
     "output_type": "stream",
     "text": [
      "max close by signal win/win: \n",
      " 0.000    0.938547\n",
      "0.001    0.951691\n",
      "0.002    0.965649\n",
      "0.003    0.978723\n",
      "dtype: float64\n",
      "min close by signal win/win: \n",
      " 0.000    0.594595\n",
      "0.001    0.621622\n",
      "0.002    0.625000\n",
      "0.003    0.651163\n",
      "dtype: float64\n"
     ]
    },
    {
     "data": {
      "text/html": [
       "<div>\n",
       "<style scoped>\n",
       "    .dataframe tbody tr th:only-of-type {\n",
       "        vertical-align: middle;\n",
       "    }\n",
       "\n",
       "    .dataframe tbody tr th {\n",
       "        vertical-align: top;\n",
       "    }\n",
       "\n",
       "    .dataframe thead th {\n",
       "        text-align: right;\n",
       "    }\n",
       "</style>\n",
       "<table border=\"1\" class=\"dataframe\">\n",
       "  <thead>\n",
       "    <tr style=\"text-align: right;\">\n",
       "      <th></th>\n",
       "      <th>0.000</th>\n",
       "      <th>0.001</th>\n",
       "      <th>0.002</th>\n",
       "      <th>0.003</th>\n",
       "    </tr>\n",
       "  </thead>\n",
       "  <tbody>\n",
       "    <tr>\n",
       "      <th>0.005</th>\n",
       "      <td>0.938547</td>\n",
       "      <td>0.951691</td>\n",
       "      <td>0.965649</td>\n",
       "      <td>0.978723</td>\n",
       "    </tr>\n",
       "    <tr>\n",
       "      <th>0.006</th>\n",
       "      <td>0.898649</td>\n",
       "      <td>0.921212</td>\n",
       "      <td>0.943878</td>\n",
       "      <td>0.965957</td>\n",
       "    </tr>\n",
       "    <tr>\n",
       "      <th>0.007</th>\n",
       "      <td>0.887850</td>\n",
       "      <td>0.915966</td>\n",
       "      <td>0.925926</td>\n",
       "      <td>0.937107</td>\n",
       "    </tr>\n",
       "    <tr>\n",
       "      <th>0.008</th>\n",
       "      <td>0.885057</td>\n",
       "      <td>0.906250</td>\n",
       "      <td>0.923810</td>\n",
       "      <td>0.934426</td>\n",
       "    </tr>\n",
       "    <tr>\n",
       "      <th>0.009</th>\n",
       "      <td>0.828947</td>\n",
       "      <td>0.857143</td>\n",
       "      <td>0.887640</td>\n",
       "      <td>0.902913</td>\n",
       "    </tr>\n",
       "    <tr>\n",
       "      <th>0.010</th>\n",
       "      <td>0.800000</td>\n",
       "      <td>0.821918</td>\n",
       "      <td>0.857143</td>\n",
       "      <td>0.867470</td>\n",
       "    </tr>\n",
       "    <tr>\n",
       "      <th>0.011</th>\n",
       "      <td>0.775862</td>\n",
       "      <td>0.800000</td>\n",
       "      <td>0.841270</td>\n",
       "      <td>0.865672</td>\n",
       "    </tr>\n",
       "    <tr>\n",
       "      <th>0.012</th>\n",
       "      <td>0.764706</td>\n",
       "      <td>0.792453</td>\n",
       "      <td>0.821429</td>\n",
       "      <td>0.847458</td>\n",
       "    </tr>\n",
       "    <tr>\n",
       "      <th>0.013</th>\n",
       "      <td>0.717391</td>\n",
       "      <td>0.744681</td>\n",
       "      <td>0.780000</td>\n",
       "      <td>0.792453</td>\n",
       "    </tr>\n",
       "    <tr>\n",
       "      <th>0.014</th>\n",
       "      <td>0.666667</td>\n",
       "      <td>0.675000</td>\n",
       "      <td>0.704545</td>\n",
       "      <td>0.723404</td>\n",
       "    </tr>\n",
       "    <tr>\n",
       "      <th>0.015</th>\n",
       "      <td>0.594595</td>\n",
       "      <td>0.621622</td>\n",
       "      <td>0.625000</td>\n",
       "      <td>0.651163</td>\n",
       "    </tr>\n",
       "  </tbody>\n",
       "</table>\n",
       "</div>"
      ],
      "text/plain": [
       "          0.000     0.001     0.002     0.003\n",
       "0.005  0.938547  0.951691  0.965649  0.978723\n",
       "0.006  0.898649  0.921212  0.943878  0.965957\n",
       "0.007  0.887850  0.915966  0.925926  0.937107\n",
       "0.008  0.885057  0.906250  0.923810  0.934426\n",
       "0.009  0.828947  0.857143  0.887640  0.902913\n",
       "0.010  0.800000  0.821918  0.857143  0.867470\n",
       "0.011  0.775862  0.800000  0.841270  0.865672\n",
       "0.012  0.764706  0.792453  0.821429  0.847458\n",
       "0.013  0.717391  0.744681  0.780000  0.792453\n",
       "0.014  0.666667  0.675000  0.704545  0.723404\n",
       "0.015  0.594595  0.621622  0.625000  0.651163"
      ]
     },
     "execution_count": 24,
     "metadata": {},
     "output_type": "execute_result"
    }
   ],
   "source": [
    "tmp_grid_res\n",
    "df_cbsw = pd.DataFrame([])\n",
    "for index,row in tmp_grid_res.iterrows():\n",
    "    open_threshold = row['open threshold']\n",
    "    close_threshold = row['close threshold']\n",
    "    df_cbsw.loc[open_threshold,close_threshold] = row['close by signal win/win']\n",
    "print('max close by signal win/win: \\n',df_cbsw.max())\n",
    "print('min close by signal win/win: \\n',df_cbsw.min())    \n",
    "df_cbsw"
   ]
  },
  {
   "cell_type": "code",
   "execution_count": 25,
   "metadata": {},
   "outputs": [
    {
     "data": {
      "application/vnd.plotly.v1+json": {
       "config": {
        "plotlyServerURL": "https://plot.ly"
       },
       "data": [
        {
         "type": "surface",
         "x": [
          0,
          0.001,
          0.002,
          0.003
         ],
         "y": [
          0.005,
          0.006,
          0.007,
          0.008,
          0.009,
          0.01,
          0.011,
          0.012,
          0.013,
          0.014,
          0.015
         ],
         "z": [
          [
           0.9385474860335196,
           0.9516908212560387,
           0.9656488549618321,
           0.9787234042553191
          ],
          [
           0.8986486486486487,
           0.9212121212121213,
           0.9438775510204082,
           0.9659574468085106
          ],
          [
           0.8878504672897196,
           0.9159663865546218,
           0.9259259259259259,
           0.9371069182389937
          ],
          [
           0.8850574712643678,
           0.90625,
           0.9238095238095239,
           0.9344262295081968
          ],
          [
           0.8289473684210527,
           0.8571428571428571,
           0.8876404494382022,
           0.9029126213592233
          ],
          [
           0.8,
           0.821917808219178,
           0.8571428571428571,
           0.8674698795180723
          ],
          [
           0.7758620689655172,
           0.8,
           0.8412698412698413,
           0.8656716417910447
          ],
          [
           0.7647058823529411,
           0.7924528301886793,
           0.8214285714285714,
           0.847457627118644
          ],
          [
           0.717391304347826,
           0.7446808510638298,
           0.78,
           0.7924528301886793
          ],
          [
           0.6666666666666666,
           0.675,
           0.7045454545454546,
           0.723404255319149
          ],
          [
           0.5945945945945946,
           0.6216216216216216,
           0.625,
           0.6511627906976745
          ]
         ]
        }
       ],
       "layout": {
        "autosize": false,
        "height": 600,
        "margin": {
         "b": 65,
         "l": 65,
         "r": 50,
         "t": 90
        },
        "scene": {
         "xaxis": {
          "title": {
           "text": "X-close-threshold"
          }
         },
         "yaxis": {
          "title": {
           "text": "Y-open-threshold"
          }
         }
        },
        "template": {
         "data": {
          "bar": [
           {
            "error_x": {
             "color": "#2a3f5f"
            },
            "error_y": {
             "color": "#2a3f5f"
            },
            "marker": {
             "line": {
              "color": "#E5ECF6",
              "width": 0.5
             },
             "pattern": {
              "fillmode": "overlay",
              "size": 10,
              "solidity": 0.2
             }
            },
            "type": "bar"
           }
          ],
          "barpolar": [
           {
            "marker": {
             "line": {
              "color": "#E5ECF6",
              "width": 0.5
             },
             "pattern": {
              "fillmode": "overlay",
              "size": 10,
              "solidity": 0.2
             }
            },
            "type": "barpolar"
           }
          ],
          "carpet": [
           {
            "aaxis": {
             "endlinecolor": "#2a3f5f",
             "gridcolor": "white",
             "linecolor": "white",
             "minorgridcolor": "white",
             "startlinecolor": "#2a3f5f"
            },
            "baxis": {
             "endlinecolor": "#2a3f5f",
             "gridcolor": "white",
             "linecolor": "white",
             "minorgridcolor": "white",
             "startlinecolor": "#2a3f5f"
            },
            "type": "carpet"
           }
          ],
          "choropleth": [
           {
            "colorbar": {
             "outlinewidth": 0,
             "ticks": ""
            },
            "type": "choropleth"
           }
          ],
          "contour": [
           {
            "colorbar": {
             "outlinewidth": 0,
             "ticks": ""
            },
            "colorscale": [
             [
              0,
              "#0d0887"
             ],
             [
              0.1111111111111111,
              "#46039f"
             ],
             [
              0.2222222222222222,
              "#7201a8"
             ],
             [
              0.3333333333333333,
              "#9c179e"
             ],
             [
              0.4444444444444444,
              "#bd3786"
             ],
             [
              0.5555555555555556,
              "#d8576b"
             ],
             [
              0.6666666666666666,
              "#ed7953"
             ],
             [
              0.7777777777777778,
              "#fb9f3a"
             ],
             [
              0.8888888888888888,
              "#fdca26"
             ],
             [
              1,
              "#f0f921"
             ]
            ],
            "type": "contour"
           }
          ],
          "contourcarpet": [
           {
            "colorbar": {
             "outlinewidth": 0,
             "ticks": ""
            },
            "type": "contourcarpet"
           }
          ],
          "heatmap": [
           {
            "colorbar": {
             "outlinewidth": 0,
             "ticks": ""
            },
            "colorscale": [
             [
              0,
              "#0d0887"
             ],
             [
              0.1111111111111111,
              "#46039f"
             ],
             [
              0.2222222222222222,
              "#7201a8"
             ],
             [
              0.3333333333333333,
              "#9c179e"
             ],
             [
              0.4444444444444444,
              "#bd3786"
             ],
             [
              0.5555555555555556,
              "#d8576b"
             ],
             [
              0.6666666666666666,
              "#ed7953"
             ],
             [
              0.7777777777777778,
              "#fb9f3a"
             ],
             [
              0.8888888888888888,
              "#fdca26"
             ],
             [
              1,
              "#f0f921"
             ]
            ],
            "type": "heatmap"
           }
          ],
          "heatmapgl": [
           {
            "colorbar": {
             "outlinewidth": 0,
             "ticks": ""
            },
            "colorscale": [
             [
              0,
              "#0d0887"
             ],
             [
              0.1111111111111111,
              "#46039f"
             ],
             [
              0.2222222222222222,
              "#7201a8"
             ],
             [
              0.3333333333333333,
              "#9c179e"
             ],
             [
              0.4444444444444444,
              "#bd3786"
             ],
             [
              0.5555555555555556,
              "#d8576b"
             ],
             [
              0.6666666666666666,
              "#ed7953"
             ],
             [
              0.7777777777777778,
              "#fb9f3a"
             ],
             [
              0.8888888888888888,
              "#fdca26"
             ],
             [
              1,
              "#f0f921"
             ]
            ],
            "type": "heatmapgl"
           }
          ],
          "histogram": [
           {
            "marker": {
             "pattern": {
              "fillmode": "overlay",
              "size": 10,
              "solidity": 0.2
             }
            },
            "type": "histogram"
           }
          ],
          "histogram2d": [
           {
            "colorbar": {
             "outlinewidth": 0,
             "ticks": ""
            },
            "colorscale": [
             [
              0,
              "#0d0887"
             ],
             [
              0.1111111111111111,
              "#46039f"
             ],
             [
              0.2222222222222222,
              "#7201a8"
             ],
             [
              0.3333333333333333,
              "#9c179e"
             ],
             [
              0.4444444444444444,
              "#bd3786"
             ],
             [
              0.5555555555555556,
              "#d8576b"
             ],
             [
              0.6666666666666666,
              "#ed7953"
             ],
             [
              0.7777777777777778,
              "#fb9f3a"
             ],
             [
              0.8888888888888888,
              "#fdca26"
             ],
             [
              1,
              "#f0f921"
             ]
            ],
            "type": "histogram2d"
           }
          ],
          "histogram2dcontour": [
           {
            "colorbar": {
             "outlinewidth": 0,
             "ticks": ""
            },
            "colorscale": [
             [
              0,
              "#0d0887"
             ],
             [
              0.1111111111111111,
              "#46039f"
             ],
             [
              0.2222222222222222,
              "#7201a8"
             ],
             [
              0.3333333333333333,
              "#9c179e"
             ],
             [
              0.4444444444444444,
              "#bd3786"
             ],
             [
              0.5555555555555556,
              "#d8576b"
             ],
             [
              0.6666666666666666,
              "#ed7953"
             ],
             [
              0.7777777777777778,
              "#fb9f3a"
             ],
             [
              0.8888888888888888,
              "#fdca26"
             ],
             [
              1,
              "#f0f921"
             ]
            ],
            "type": "histogram2dcontour"
           }
          ],
          "mesh3d": [
           {
            "colorbar": {
             "outlinewidth": 0,
             "ticks": ""
            },
            "type": "mesh3d"
           }
          ],
          "parcoords": [
           {
            "line": {
             "colorbar": {
              "outlinewidth": 0,
              "ticks": ""
             }
            },
            "type": "parcoords"
           }
          ],
          "pie": [
           {
            "automargin": true,
            "type": "pie"
           }
          ],
          "scatter": [
           {
            "fillpattern": {
             "fillmode": "overlay",
             "size": 10,
             "solidity": 0.2
            },
            "type": "scatter"
           }
          ],
          "scatter3d": [
           {
            "line": {
             "colorbar": {
              "outlinewidth": 0,
              "ticks": ""
             }
            },
            "marker": {
             "colorbar": {
              "outlinewidth": 0,
              "ticks": ""
             }
            },
            "type": "scatter3d"
           }
          ],
          "scattercarpet": [
           {
            "marker": {
             "colorbar": {
              "outlinewidth": 0,
              "ticks": ""
             }
            },
            "type": "scattercarpet"
           }
          ],
          "scattergeo": [
           {
            "marker": {
             "colorbar": {
              "outlinewidth": 0,
              "ticks": ""
             }
            },
            "type": "scattergeo"
           }
          ],
          "scattergl": [
           {
            "marker": {
             "colorbar": {
              "outlinewidth": 0,
              "ticks": ""
             }
            },
            "type": "scattergl"
           }
          ],
          "scattermapbox": [
           {
            "marker": {
             "colorbar": {
              "outlinewidth": 0,
              "ticks": ""
             }
            },
            "type": "scattermapbox"
           }
          ],
          "scatterpolar": [
           {
            "marker": {
             "colorbar": {
              "outlinewidth": 0,
              "ticks": ""
             }
            },
            "type": "scatterpolar"
           }
          ],
          "scatterpolargl": [
           {
            "marker": {
             "colorbar": {
              "outlinewidth": 0,
              "ticks": ""
             }
            },
            "type": "scatterpolargl"
           }
          ],
          "scatterternary": [
           {
            "marker": {
             "colorbar": {
              "outlinewidth": 0,
              "ticks": ""
             }
            },
            "type": "scatterternary"
           }
          ],
          "surface": [
           {
            "colorbar": {
             "outlinewidth": 0,
             "ticks": ""
            },
            "colorscale": [
             [
              0,
              "#0d0887"
             ],
             [
              0.1111111111111111,
              "#46039f"
             ],
             [
              0.2222222222222222,
              "#7201a8"
             ],
             [
              0.3333333333333333,
              "#9c179e"
             ],
             [
              0.4444444444444444,
              "#bd3786"
             ],
             [
              0.5555555555555556,
              "#d8576b"
             ],
             [
              0.6666666666666666,
              "#ed7953"
             ],
             [
              0.7777777777777778,
              "#fb9f3a"
             ],
             [
              0.8888888888888888,
              "#fdca26"
             ],
             [
              1,
              "#f0f921"
             ]
            ],
            "type": "surface"
           }
          ],
          "table": [
           {
            "cells": {
             "fill": {
              "color": "#EBF0F8"
             },
             "line": {
              "color": "white"
             }
            },
            "header": {
             "fill": {
              "color": "#C8D4E3"
             },
             "line": {
              "color": "white"
             }
            },
            "type": "table"
           }
          ]
         },
         "layout": {
          "annotationdefaults": {
           "arrowcolor": "#2a3f5f",
           "arrowhead": 0,
           "arrowwidth": 1
          },
          "autotypenumbers": "strict",
          "coloraxis": {
           "colorbar": {
            "outlinewidth": 0,
            "ticks": ""
           }
          },
          "colorscale": {
           "diverging": [
            [
             0,
             "#8e0152"
            ],
            [
             0.1,
             "#c51b7d"
            ],
            [
             0.2,
             "#de77ae"
            ],
            [
             0.3,
             "#f1b6da"
            ],
            [
             0.4,
             "#fde0ef"
            ],
            [
             0.5,
             "#f7f7f7"
            ],
            [
             0.6,
             "#e6f5d0"
            ],
            [
             0.7,
             "#b8e186"
            ],
            [
             0.8,
             "#7fbc41"
            ],
            [
             0.9,
             "#4d9221"
            ],
            [
             1,
             "#276419"
            ]
           ],
           "sequential": [
            [
             0,
             "#0d0887"
            ],
            [
             0.1111111111111111,
             "#46039f"
            ],
            [
             0.2222222222222222,
             "#7201a8"
            ],
            [
             0.3333333333333333,
             "#9c179e"
            ],
            [
             0.4444444444444444,
             "#bd3786"
            ],
            [
             0.5555555555555556,
             "#d8576b"
            ],
            [
             0.6666666666666666,
             "#ed7953"
            ],
            [
             0.7777777777777778,
             "#fb9f3a"
            ],
            [
             0.8888888888888888,
             "#fdca26"
            ],
            [
             1,
             "#f0f921"
            ]
           ],
           "sequentialminus": [
            [
             0,
             "#0d0887"
            ],
            [
             0.1111111111111111,
             "#46039f"
            ],
            [
             0.2222222222222222,
             "#7201a8"
            ],
            [
             0.3333333333333333,
             "#9c179e"
            ],
            [
             0.4444444444444444,
             "#bd3786"
            ],
            [
             0.5555555555555556,
             "#d8576b"
            ],
            [
             0.6666666666666666,
             "#ed7953"
            ],
            [
             0.7777777777777778,
             "#fb9f3a"
            ],
            [
             0.8888888888888888,
             "#fdca26"
            ],
            [
             1,
             "#f0f921"
            ]
           ]
          },
          "colorway": [
           "#636efa",
           "#EF553B",
           "#00cc96",
           "#ab63fa",
           "#FFA15A",
           "#19d3f3",
           "#FF6692",
           "#B6E880",
           "#FF97FF",
           "#FECB52"
          ],
          "font": {
           "color": "#2a3f5f"
          },
          "geo": {
           "bgcolor": "white",
           "lakecolor": "white",
           "landcolor": "#E5ECF6",
           "showlakes": true,
           "showland": true,
           "subunitcolor": "white"
          },
          "hoverlabel": {
           "align": "left"
          },
          "hovermode": "closest",
          "mapbox": {
           "style": "light"
          },
          "paper_bgcolor": "white",
          "plot_bgcolor": "#E5ECF6",
          "polar": {
           "angularaxis": {
            "gridcolor": "white",
            "linecolor": "white",
            "ticks": ""
           },
           "bgcolor": "#E5ECF6",
           "radialaxis": {
            "gridcolor": "white",
            "linecolor": "white",
            "ticks": ""
           }
          },
          "scene": {
           "xaxis": {
            "backgroundcolor": "#E5ECF6",
            "gridcolor": "white",
            "gridwidth": 2,
            "linecolor": "white",
            "showbackground": true,
            "ticks": "",
            "zerolinecolor": "white"
           },
           "yaxis": {
            "backgroundcolor": "#E5ECF6",
            "gridcolor": "white",
            "gridwidth": 2,
            "linecolor": "white",
            "showbackground": true,
            "ticks": "",
            "zerolinecolor": "white"
           },
           "zaxis": {
            "backgroundcolor": "#E5ECF6",
            "gridcolor": "white",
            "gridwidth": 2,
            "linecolor": "white",
            "showbackground": true,
            "ticks": "",
            "zerolinecolor": "white"
           }
          },
          "shapedefaults": {
           "line": {
            "color": "#2a3f5f"
           }
          },
          "ternary": {
           "aaxis": {
            "gridcolor": "white",
            "linecolor": "white",
            "ticks": ""
           },
           "baxis": {
            "gridcolor": "white",
            "linecolor": "white",
            "ticks": ""
           },
           "bgcolor": "#E5ECF6",
           "caxis": {
            "gridcolor": "white",
            "linecolor": "white",
            "ticks": ""
           }
          },
          "title": {
           "x": 0.05
          },
          "xaxis": {
           "automargin": true,
           "gridcolor": "white",
           "linecolor": "white",
           "ticks": "",
           "title": {
            "standoff": 15
           },
           "zerolinecolor": "white",
           "zerolinewidth": 2
          },
          "yaxis": {
           "automargin": true,
           "gridcolor": "white",
           "linecolor": "white",
           "ticks": "",
           "title": {
            "standoff": 15
           },
           "zerolinecolor": "white",
           "zerolinewidth": 2
          }
         }
        },
        "title": {
         "text": "lose round"
        },
        "width": 700
       }
      }
     },
     "metadata": {},
     "output_type": "display_data"
    }
   ],
   "source": [
    "import plotly.graph_objects as go\n",
    "\n",
    "x_data = df_cbsw.columns.to_list() # close threshold\n",
    "\n",
    "y_data = df_cbsw.index.to_list() # open threshold\n",
    "\n",
    "z_data = df_cbsw.copy(deep=True) # win rate\n",
    "\n",
    "fig = go.Figure(data=[go.Surface(z=z_data.values,x=x_data,y=y_data)])\n",
    "\n",
    "fig.update_layout(title=\"lose round\", # 标题\n",
    "                  autosize=False,  # 尺度自动缩放\n",
    "                  width=700,  # 长宽\n",
    "                  height=600,\n",
    "                  margin=dict(l=65,r=50,b=65,t=90),  # 4个位置的距离\n",
    "                  scene=dict(xaxis_title='X-close-threshold',yaxis_title='Y-open-threshold')\n",
    "                )\n",
    "\n",
    "fig.show()"
   ]
  },
  {
   "cell_type": "markdown",
   "metadata": {},
   "source": [
    "# signal check"
   ]
  },
  {
   "cell_type": "code",
   "execution_count": 26,
   "metadata": {},
   "outputs": [
    {
     "name": "stdout",
     "output_type": "stream",
     "text": [
      "open threshold:  0.015 close threshold:  0.003\n"
     ]
    }
   ],
   "source": [
    "print('open threshold: ',open_threshold,'close threshold: ',close_threshold)\n",
    "# df_signal"
   ]
  },
  {
   "cell_type": "code",
   "execution_count": 27,
   "metadata": {},
   "outputs": [
    {
     "data": {
      "text/plain": [
       "62"
      ]
     },
     "execution_count": 27,
     "metadata": {},
     "output_type": "execute_result"
    }
   ],
   "source": [
    "len(rounds)"
   ]
  },
  {
   "cell_type": "code",
   "execution_count": 28,
   "metadata": {},
   "outputs": [
    {
     "name": "stdout",
     "output_type": "stream",
     "text": [
      "34\n"
     ]
    }
   ],
   "source": [
    "cnt = 0\n",
    "for index, row in df_trade.iterrows():\n",
    "    \n",
    "    if str(index)[-8:] == '15:00:00':\n",
    "        cnt += 1\n",
    "print(cnt)"
   ]
  },
  {
   "cell_type": "code",
   "execution_count": 29,
   "metadata": {},
   "outputs": [],
   "source": [
    "df_pos_list = []\n",
    "for k,v in signal_res.items():\n",
    "    # print(k.split('@'))\n",
    "    tmp_df_pos = v[['bond_pos','stock_pos']]\n",
    "    # print(tmp_df_pos.head())\n",
    "    tmp_df_pos.columns = ['bond_pos'+k,'stock_pos']\n",
    "    df_pos_list.append(tmp_df_pos)\n"
   ]
  },
  {
   "cell_type": "code",
   "execution_count": 30,
   "metadata": {},
   "outputs": [
    {
     "name": "stdout",
     "output_type": "stream",
     "text": [
      "15107\n"
     ]
    },
    {
     "data": {
      "text/html": [
       "<div>\n",
       "<style scoped>\n",
       "    .dataframe tbody tr th:only-of-type {\n",
       "        vertical-align: middle;\n",
       "    }\n",
       "\n",
       "    .dataframe tbody tr th {\n",
       "        vertical-align: top;\n",
       "    }\n",
       "\n",
       "    .dataframe thead th {\n",
       "        text-align: right;\n",
       "    }\n",
       "</style>\n",
       "<table border=\"1\" class=\"dataframe\">\n",
       "  <thead>\n",
       "    <tr style=\"text-align: right;\">\n",
       "      <th></th>\n",
       "      <th>bond_price</th>\n",
       "      <th>stock_price</th>\n",
       "      <th>bond_rtn</th>\n",
       "      <th>stock_rtn</th>\n",
       "      <th>diff</th>\n",
       "      <th>bond_pos0.005@0</th>\n",
       "      <th>stock_pos</th>\n",
       "      <th>bond_pos0.015@0</th>\n",
       "      <th>stock_pos</th>\n",
       "    </tr>\n",
       "  </thead>\n",
       "  <tbody>\n",
       "    <tr>\n",
       "      <th>2021-12-13 15:00:00</th>\n",
       "      <td>350.180</td>\n",
       "      <td>20.00</td>\n",
       "      <td>0.000000</td>\n",
       "      <td>0.000000</td>\n",
       "      <td>0.000000</td>\n",
       "      <td>0.0</td>\n",
       "      <td>0.0</td>\n",
       "      <td>0.0</td>\n",
       "      <td>0.0</td>\n",
       "    </tr>\n",
       "    <tr>\n",
       "      <th>2021-12-14 09:30:00</th>\n",
       "      <td>351.144</td>\n",
       "      <td>19.95</td>\n",
       "      <td>0.002753</td>\n",
       "      <td>-0.002500</td>\n",
       "      <td>0.005253</td>\n",
       "      <td>-1.0</td>\n",
       "      <td>1.0</td>\n",
       "      <td>0.0</td>\n",
       "      <td>0.0</td>\n",
       "    </tr>\n",
       "    <tr>\n",
       "      <th>2021-12-14 09:31:00</th>\n",
       "      <td>351.370</td>\n",
       "      <td>19.96</td>\n",
       "      <td>0.003398</td>\n",
       "      <td>-0.002000</td>\n",
       "      <td>0.005398</td>\n",
       "      <td>-1.0</td>\n",
       "      <td>1.0</td>\n",
       "      <td>0.0</td>\n",
       "      <td>0.0</td>\n",
       "    </tr>\n",
       "    <tr>\n",
       "      <th>2021-12-14 09:32:00</th>\n",
       "      <td>351.368</td>\n",
       "      <td>19.94</td>\n",
       "      <td>0.003393</td>\n",
       "      <td>-0.003000</td>\n",
       "      <td>0.006393</td>\n",
       "      <td>-1.0</td>\n",
       "      <td>1.0</td>\n",
       "      <td>0.0</td>\n",
       "      <td>0.0</td>\n",
       "    </tr>\n",
       "    <tr>\n",
       "      <th>2021-12-14 09:33:00</th>\n",
       "      <td>351.005</td>\n",
       "      <td>19.99</td>\n",
       "      <td>0.002356</td>\n",
       "      <td>-0.000500</td>\n",
       "      <td>0.002856</td>\n",
       "      <td>-1.0</td>\n",
       "      <td>1.0</td>\n",
       "      <td>0.0</td>\n",
       "      <td>0.0</td>\n",
       "    </tr>\n",
       "    <tr>\n",
       "      <th>2021-12-14 09:34:00</th>\n",
       "      <td>348.547</td>\n",
       "      <td>20.01</td>\n",
       "      <td>-0.004663</td>\n",
       "      <td>0.000500</td>\n",
       "      <td>-0.005163</td>\n",
       "      <td>1.0</td>\n",
       "      <td>-1.0</td>\n",
       "      <td>0.0</td>\n",
       "      <td>0.0</td>\n",
       "    </tr>\n",
       "    <tr>\n",
       "      <th>2021-12-14 09:35:00</th>\n",
       "      <td>348.900</td>\n",
       "      <td>19.97</td>\n",
       "      <td>-0.003655</td>\n",
       "      <td>-0.001500</td>\n",
       "      <td>-0.002155</td>\n",
       "      <td>1.0</td>\n",
       "      <td>-1.0</td>\n",
       "      <td>0.0</td>\n",
       "      <td>0.0</td>\n",
       "    </tr>\n",
       "    <tr>\n",
       "      <th>2021-12-14 09:36:00</th>\n",
       "      <td>350.196</td>\n",
       "      <td>20.07</td>\n",
       "      <td>0.000046</td>\n",
       "      <td>0.003500</td>\n",
       "      <td>-0.003454</td>\n",
       "      <td>1.0</td>\n",
       "      <td>-1.0</td>\n",
       "      <td>0.0</td>\n",
       "      <td>0.0</td>\n",
       "    </tr>\n",
       "    <tr>\n",
       "      <th>2021-12-14 09:37:00</th>\n",
       "      <td>350.226</td>\n",
       "      <td>20.08</td>\n",
       "      <td>0.000131</td>\n",
       "      <td>0.004000</td>\n",
       "      <td>-0.003869</td>\n",
       "      <td>1.0</td>\n",
       "      <td>-1.0</td>\n",
       "      <td>0.0</td>\n",
       "      <td>0.0</td>\n",
       "    </tr>\n",
       "    <tr>\n",
       "      <th>2021-12-14 09:38:00</th>\n",
       "      <td>351.280</td>\n",
       "      <td>20.02</td>\n",
       "      <td>0.003141</td>\n",
       "      <td>0.001000</td>\n",
       "      <td>0.002141</td>\n",
       "      <td>0.0</td>\n",
       "      <td>0.0</td>\n",
       "      <td>0.0</td>\n",
       "      <td>0.0</td>\n",
       "    </tr>\n",
       "    <tr>\n",
       "      <th>2021-12-14 09:39:00</th>\n",
       "      <td>350.667</td>\n",
       "      <td>20.00</td>\n",
       "      <td>0.001391</td>\n",
       "      <td>0.000000</td>\n",
       "      <td>0.001391</td>\n",
       "      <td>0.0</td>\n",
       "      <td>0.0</td>\n",
       "      <td>0.0</td>\n",
       "      <td>0.0</td>\n",
       "    </tr>\n",
       "    <tr>\n",
       "      <th>2021-12-14 09:40:00</th>\n",
       "      <td>351.000</td>\n",
       "      <td>20.04</td>\n",
       "      <td>0.002342</td>\n",
       "      <td>0.002000</td>\n",
       "      <td>0.000342</td>\n",
       "      <td>0.0</td>\n",
       "      <td>0.0</td>\n",
       "      <td>0.0</td>\n",
       "      <td>0.0</td>\n",
       "    </tr>\n",
       "    <tr>\n",
       "      <th>2021-12-14 09:41:00</th>\n",
       "      <td>350.653</td>\n",
       "      <td>20.02</td>\n",
       "      <td>0.001351</td>\n",
       "      <td>0.001000</td>\n",
       "      <td>0.000351</td>\n",
       "      <td>0.0</td>\n",
       "      <td>0.0</td>\n",
       "      <td>0.0</td>\n",
       "      <td>0.0</td>\n",
       "    </tr>\n",
       "    <tr>\n",
       "      <th>2021-12-14 09:42:00</th>\n",
       "      <td>349.140</td>\n",
       "      <td>20.00</td>\n",
       "      <td>-0.002970</td>\n",
       "      <td>0.000000</td>\n",
       "      <td>-0.002970</td>\n",
       "      <td>0.0</td>\n",
       "      <td>0.0</td>\n",
       "      <td>0.0</td>\n",
       "      <td>0.0</td>\n",
       "    </tr>\n",
       "    <tr>\n",
       "      <th>2021-12-14 09:43:00</th>\n",
       "      <td>348.015</td>\n",
       "      <td>19.99</td>\n",
       "      <td>-0.006183</td>\n",
       "      <td>-0.000500</td>\n",
       "      <td>-0.005683</td>\n",
       "      <td>1.0</td>\n",
       "      <td>-1.0</td>\n",
       "      <td>0.0</td>\n",
       "      <td>0.0</td>\n",
       "    </tr>\n",
       "    <tr>\n",
       "      <th>2021-12-14 09:44:00</th>\n",
       "      <td>348.066</td>\n",
       "      <td>19.97</td>\n",
       "      <td>-0.006037</td>\n",
       "      <td>-0.001500</td>\n",
       "      <td>-0.004537</td>\n",
       "      <td>1.0</td>\n",
       "      <td>-1.0</td>\n",
       "      <td>0.0</td>\n",
       "      <td>0.0</td>\n",
       "    </tr>\n",
       "    <tr>\n",
       "      <th>2021-12-14 09:45:00</th>\n",
       "      <td>348.681</td>\n",
       "      <td>20.01</td>\n",
       "      <td>-0.004281</td>\n",
       "      <td>0.000500</td>\n",
       "      <td>-0.004781</td>\n",
       "      <td>1.0</td>\n",
       "      <td>-1.0</td>\n",
       "      <td>0.0</td>\n",
       "      <td>0.0</td>\n",
       "    </tr>\n",
       "    <tr>\n",
       "      <th>2021-12-14 09:46:00</th>\n",
       "      <td>349.493</td>\n",
       "      <td>20.07</td>\n",
       "      <td>-0.001962</td>\n",
       "      <td>0.003500</td>\n",
       "      <td>-0.005462</td>\n",
       "      <td>1.0</td>\n",
       "      <td>-1.0</td>\n",
       "      <td>0.0</td>\n",
       "      <td>0.0</td>\n",
       "    </tr>\n",
       "    <tr>\n",
       "      <th>2021-12-14 09:47:00</th>\n",
       "      <td>349.079</td>\n",
       "      <td>20.04</td>\n",
       "      <td>-0.003144</td>\n",
       "      <td>0.002000</td>\n",
       "      <td>-0.005144</td>\n",
       "      <td>1.0</td>\n",
       "      <td>-1.0</td>\n",
       "      <td>0.0</td>\n",
       "      <td>0.0</td>\n",
       "    </tr>\n",
       "    <tr>\n",
       "      <th>2021-12-14 09:48:00</th>\n",
       "      <td>349.313</td>\n",
       "      <td>20.05</td>\n",
       "      <td>-0.002476</td>\n",
       "      <td>0.002500</td>\n",
       "      <td>-0.004976</td>\n",
       "      <td>1.0</td>\n",
       "      <td>-1.0</td>\n",
       "      <td>0.0</td>\n",
       "      <td>0.0</td>\n",
       "    </tr>\n",
       "    <tr>\n",
       "      <th>2021-12-14 09:49:00</th>\n",
       "      <td>348.917</td>\n",
       "      <td>19.98</td>\n",
       "      <td>-0.003607</td>\n",
       "      <td>-0.001000</td>\n",
       "      <td>-0.002607</td>\n",
       "      <td>1.0</td>\n",
       "      <td>-1.0</td>\n",
       "      <td>0.0</td>\n",
       "      <td>0.0</td>\n",
       "    </tr>\n",
       "    <tr>\n",
       "      <th>2021-12-14 09:50:00</th>\n",
       "      <td>349.711</td>\n",
       "      <td>20.01</td>\n",
       "      <td>-0.001339</td>\n",
       "      <td>0.000500</td>\n",
       "      <td>-0.001839</td>\n",
       "      <td>1.0</td>\n",
       "      <td>-1.0</td>\n",
       "      <td>0.0</td>\n",
       "      <td>0.0</td>\n",
       "    </tr>\n",
       "    <tr>\n",
       "      <th>2021-12-14 09:51:00</th>\n",
       "      <td>348.300</td>\n",
       "      <td>19.97</td>\n",
       "      <td>-0.005369</td>\n",
       "      <td>-0.001500</td>\n",
       "      <td>-0.003869</td>\n",
       "      <td>1.0</td>\n",
       "      <td>-1.0</td>\n",
       "      <td>0.0</td>\n",
       "      <td>0.0</td>\n",
       "    </tr>\n",
       "    <tr>\n",
       "      <th>2021-12-14 09:52:00</th>\n",
       "      <td>348.153</td>\n",
       "      <td>19.97</td>\n",
       "      <td>-0.005788</td>\n",
       "      <td>-0.001500</td>\n",
       "      <td>-0.004288</td>\n",
       "      <td>1.0</td>\n",
       "      <td>-1.0</td>\n",
       "      <td>0.0</td>\n",
       "      <td>0.0</td>\n",
       "    </tr>\n",
       "    <tr>\n",
       "      <th>2021-12-14 09:53:00</th>\n",
       "      <td>348.802</td>\n",
       "      <td>19.99</td>\n",
       "      <td>-0.003935</td>\n",
       "      <td>-0.000500</td>\n",
       "      <td>-0.003435</td>\n",
       "      <td>1.0</td>\n",
       "      <td>-1.0</td>\n",
       "      <td>0.0</td>\n",
       "      <td>0.0</td>\n",
       "    </tr>\n",
       "    <tr>\n",
       "      <th>2021-12-14 09:54:00</th>\n",
       "      <td>348.789</td>\n",
       "      <td>19.98</td>\n",
       "      <td>-0.003972</td>\n",
       "      <td>-0.001000</td>\n",
       "      <td>-0.002972</td>\n",
       "      <td>1.0</td>\n",
       "      <td>-1.0</td>\n",
       "      <td>0.0</td>\n",
       "      <td>0.0</td>\n",
       "    </tr>\n",
       "    <tr>\n",
       "      <th>2021-12-14 09:55:00</th>\n",
       "      <td>348.790</td>\n",
       "      <td>19.99</td>\n",
       "      <td>-0.003969</td>\n",
       "      <td>-0.000500</td>\n",
       "      <td>-0.003469</td>\n",
       "      <td>1.0</td>\n",
       "      <td>-1.0</td>\n",
       "      <td>0.0</td>\n",
       "      <td>0.0</td>\n",
       "    </tr>\n",
       "    <tr>\n",
       "      <th>2021-12-14 09:56:00</th>\n",
       "      <td>347.650</td>\n",
       "      <td>19.91</td>\n",
       "      <td>-0.007225</td>\n",
       "      <td>-0.004500</td>\n",
       "      <td>-0.002725</td>\n",
       "      <td>1.0</td>\n",
       "      <td>-1.0</td>\n",
       "      <td>0.0</td>\n",
       "      <td>0.0</td>\n",
       "    </tr>\n",
       "    <tr>\n",
       "      <th>2021-12-14 09:57:00</th>\n",
       "      <td>347.537</td>\n",
       "      <td>19.88</td>\n",
       "      <td>-0.007548</td>\n",
       "      <td>-0.006000</td>\n",
       "      <td>-0.001548</td>\n",
       "      <td>1.0</td>\n",
       "      <td>-1.0</td>\n",
       "      <td>0.0</td>\n",
       "      <td>0.0</td>\n",
       "    </tr>\n",
       "    <tr>\n",
       "      <th>2021-12-14 09:58:00</th>\n",
       "      <td>347.044</td>\n",
       "      <td>19.93</td>\n",
       "      <td>-0.008955</td>\n",
       "      <td>-0.003500</td>\n",
       "      <td>-0.005455</td>\n",
       "      <td>1.0</td>\n",
       "      <td>-1.0</td>\n",
       "      <td>0.0</td>\n",
       "      <td>0.0</td>\n",
       "    </tr>\n",
       "    <tr>\n",
       "      <th>2021-12-14 09:59:00</th>\n",
       "      <td>347.500</td>\n",
       "      <td>19.93</td>\n",
       "      <td>-0.007653</td>\n",
       "      <td>-0.003500</td>\n",
       "      <td>-0.004153</td>\n",
       "      <td>1.0</td>\n",
       "      <td>-1.0</td>\n",
       "      <td>0.0</td>\n",
       "      <td>0.0</td>\n",
       "    </tr>\n",
       "    <tr>\n",
       "      <th>2021-12-14 10:00:00</th>\n",
       "      <td>346.544</td>\n",
       "      <td>19.92</td>\n",
       "      <td>-0.010383</td>\n",
       "      <td>-0.004000</td>\n",
       "      <td>-0.006383</td>\n",
       "      <td>1.0</td>\n",
       "      <td>-1.0</td>\n",
       "      <td>0.0</td>\n",
       "      <td>0.0</td>\n",
       "    </tr>\n",
       "    <tr>\n",
       "      <th>2021-12-14 10:01:00</th>\n",
       "      <td>346.975</td>\n",
       "      <td>19.93</td>\n",
       "      <td>-0.009152</td>\n",
       "      <td>-0.003500</td>\n",
       "      <td>-0.005652</td>\n",
       "      <td>1.0</td>\n",
       "      <td>-1.0</td>\n",
       "      <td>0.0</td>\n",
       "      <td>0.0</td>\n",
       "    </tr>\n",
       "    <tr>\n",
       "      <th>2021-12-14 10:02:00</th>\n",
       "      <td>347.200</td>\n",
       "      <td>19.92</td>\n",
       "      <td>-0.008510</td>\n",
       "      <td>-0.004000</td>\n",
       "      <td>-0.004510</td>\n",
       "      <td>1.0</td>\n",
       "      <td>-1.0</td>\n",
       "      <td>0.0</td>\n",
       "      <td>0.0</td>\n",
       "    </tr>\n",
       "    <tr>\n",
       "      <th>2021-12-14 10:03:00</th>\n",
       "      <td>346.600</td>\n",
       "      <td>19.88</td>\n",
       "      <td>-0.010223</td>\n",
       "      <td>-0.006000</td>\n",
       "      <td>-0.004223</td>\n",
       "      <td>1.0</td>\n",
       "      <td>-1.0</td>\n",
       "      <td>0.0</td>\n",
       "      <td>0.0</td>\n",
       "    </tr>\n",
       "    <tr>\n",
       "      <th>2021-12-14 10:04:00</th>\n",
       "      <td>347.028</td>\n",
       "      <td>19.88</td>\n",
       "      <td>-0.009001</td>\n",
       "      <td>-0.006000</td>\n",
       "      <td>-0.003001</td>\n",
       "      <td>1.0</td>\n",
       "      <td>-1.0</td>\n",
       "      <td>0.0</td>\n",
       "      <td>0.0</td>\n",
       "    </tr>\n",
       "    <tr>\n",
       "      <th>2021-12-14 10:05:00</th>\n",
       "      <td>347.202</td>\n",
       "      <td>19.87</td>\n",
       "      <td>-0.008504</td>\n",
       "      <td>-0.006500</td>\n",
       "      <td>-0.002004</td>\n",
       "      <td>1.0</td>\n",
       "      <td>-1.0</td>\n",
       "      <td>0.0</td>\n",
       "      <td>0.0</td>\n",
       "    </tr>\n",
       "    <tr>\n",
       "      <th>2021-12-14 10:06:00</th>\n",
       "      <td>346.400</td>\n",
       "      <td>19.83</td>\n",
       "      <td>-0.010794</td>\n",
       "      <td>-0.008500</td>\n",
       "      <td>-0.002294</td>\n",
       "      <td>1.0</td>\n",
       "      <td>-1.0</td>\n",
       "      <td>0.0</td>\n",
       "      <td>0.0</td>\n",
       "    </tr>\n",
       "    <tr>\n",
       "      <th>2021-12-14 10:07:00</th>\n",
       "      <td>346.258</td>\n",
       "      <td>19.83</td>\n",
       "      <td>-0.011200</td>\n",
       "      <td>-0.008500</td>\n",
       "      <td>-0.002700</td>\n",
       "      <td>1.0</td>\n",
       "      <td>-1.0</td>\n",
       "      <td>0.0</td>\n",
       "      <td>0.0</td>\n",
       "    </tr>\n",
       "    <tr>\n",
       "      <th>2021-12-14 10:08:00</th>\n",
       "      <td>346.260</td>\n",
       "      <td>19.85</td>\n",
       "      <td>-0.011194</td>\n",
       "      <td>-0.007500</td>\n",
       "      <td>-0.003694</td>\n",
       "      <td>1.0</td>\n",
       "      <td>-1.0</td>\n",
       "      <td>0.0</td>\n",
       "      <td>0.0</td>\n",
       "    </tr>\n",
       "    <tr>\n",
       "      <th>2021-12-14 10:09:00</th>\n",
       "      <td>346.707</td>\n",
       "      <td>19.85</td>\n",
       "      <td>-0.009918</td>\n",
       "      <td>-0.007500</td>\n",
       "      <td>-0.002418</td>\n",
       "      <td>1.0</td>\n",
       "      <td>-1.0</td>\n",
       "      <td>0.0</td>\n",
       "      <td>0.0</td>\n",
       "    </tr>\n",
       "    <tr>\n",
       "      <th>2021-12-14 10:10:00</th>\n",
       "      <td>346.600</td>\n",
       "      <td>19.83</td>\n",
       "      <td>-0.010223</td>\n",
       "      <td>-0.008500</td>\n",
       "      <td>-0.001723</td>\n",
       "      <td>1.0</td>\n",
       "      <td>-1.0</td>\n",
       "      <td>0.0</td>\n",
       "      <td>0.0</td>\n",
       "    </tr>\n",
       "    <tr>\n",
       "      <th>2021-12-14 10:11:00</th>\n",
       "      <td>346.030</td>\n",
       "      <td>19.80</td>\n",
       "      <td>-0.011851</td>\n",
       "      <td>-0.010000</td>\n",
       "      <td>-0.001851</td>\n",
       "      <td>1.0</td>\n",
       "      <td>-1.0</td>\n",
       "      <td>0.0</td>\n",
       "      <td>0.0</td>\n",
       "    </tr>\n",
       "    <tr>\n",
       "      <th>2021-12-14 10:12:00</th>\n",
       "      <td>346.350</td>\n",
       "      <td>19.85</td>\n",
       "      <td>-0.010937</td>\n",
       "      <td>-0.007500</td>\n",
       "      <td>-0.003437</td>\n",
       "      <td>1.0</td>\n",
       "      <td>-1.0</td>\n",
       "      <td>0.0</td>\n",
       "      <td>0.0</td>\n",
       "    </tr>\n",
       "    <tr>\n",
       "      <th>2021-12-14 10:13:00</th>\n",
       "      <td>346.711</td>\n",
       "      <td>19.84</td>\n",
       "      <td>-0.009906</td>\n",
       "      <td>-0.008000</td>\n",
       "      <td>-0.001906</td>\n",
       "      <td>1.0</td>\n",
       "      <td>-1.0</td>\n",
       "      <td>0.0</td>\n",
       "      <td>0.0</td>\n",
       "    </tr>\n",
       "    <tr>\n",
       "      <th>2021-12-14 10:14:00</th>\n",
       "      <td>346.087</td>\n",
       "      <td>19.86</td>\n",
       "      <td>-0.011688</td>\n",
       "      <td>-0.007000</td>\n",
       "      <td>-0.004688</td>\n",
       "      <td>1.0</td>\n",
       "      <td>-1.0</td>\n",
       "      <td>0.0</td>\n",
       "      <td>0.0</td>\n",
       "    </tr>\n",
       "    <tr>\n",
       "      <th>2021-12-14 10:15:00</th>\n",
       "      <td>346.418</td>\n",
       "      <td>19.90</td>\n",
       "      <td>-0.010743</td>\n",
       "      <td>-0.005000</td>\n",
       "      <td>-0.005743</td>\n",
       "      <td>1.0</td>\n",
       "      <td>-1.0</td>\n",
       "      <td>0.0</td>\n",
       "      <td>0.0</td>\n",
       "    </tr>\n",
       "    <tr>\n",
       "      <th>2021-12-14 10:16:00</th>\n",
       "      <td>346.868</td>\n",
       "      <td>19.90</td>\n",
       "      <td>-0.009458</td>\n",
       "      <td>-0.005000</td>\n",
       "      <td>-0.004458</td>\n",
       "      <td>1.0</td>\n",
       "      <td>-1.0</td>\n",
       "      <td>0.0</td>\n",
       "      <td>0.0</td>\n",
       "    </tr>\n",
       "    <tr>\n",
       "      <th>2021-12-14 10:17:00</th>\n",
       "      <td>346.999</td>\n",
       "      <td>19.90</td>\n",
       "      <td>-0.009084</td>\n",
       "      <td>-0.005000</td>\n",
       "      <td>-0.004084</td>\n",
       "      <td>1.0</td>\n",
       "      <td>-1.0</td>\n",
       "      <td>0.0</td>\n",
       "      <td>0.0</td>\n",
       "    </tr>\n",
       "    <tr>\n",
       "      <th>2021-12-14 10:18:00</th>\n",
       "      <td>347.322</td>\n",
       "      <td>19.90</td>\n",
       "      <td>-0.008162</td>\n",
       "      <td>-0.005000</td>\n",
       "      <td>-0.003162</td>\n",
       "      <td>1.0</td>\n",
       "      <td>-1.0</td>\n",
       "      <td>0.0</td>\n",
       "      <td>0.0</td>\n",
       "    </tr>\n",
       "    <tr>\n",
       "      <th>2021-12-14 10:19:00</th>\n",
       "      <td>347.128</td>\n",
       "      <td>19.89</td>\n",
       "      <td>-0.008716</td>\n",
       "      <td>-0.005500</td>\n",
       "      <td>-0.003216</td>\n",
       "      <td>1.0</td>\n",
       "      <td>-1.0</td>\n",
       "      <td>0.0</td>\n",
       "      <td>0.0</td>\n",
       "    </tr>\n",
       "    <tr>\n",
       "      <th>2021-12-14 10:20:00</th>\n",
       "      <td>347.120</td>\n",
       "      <td>19.88</td>\n",
       "      <td>-0.008738</td>\n",
       "      <td>-0.006000</td>\n",
       "      <td>-0.002738</td>\n",
       "      <td>1.0</td>\n",
       "      <td>-1.0</td>\n",
       "      <td>0.0</td>\n",
       "      <td>0.0</td>\n",
       "    </tr>\n",
       "    <tr>\n",
       "      <th>2021-12-14 10:21:00</th>\n",
       "      <td>347.082</td>\n",
       "      <td>19.88</td>\n",
       "      <td>-0.008847</td>\n",
       "      <td>-0.006000</td>\n",
       "      <td>-0.002847</td>\n",
       "      <td>1.0</td>\n",
       "      <td>-1.0</td>\n",
       "      <td>0.0</td>\n",
       "      <td>0.0</td>\n",
       "    </tr>\n",
       "    <tr>\n",
       "      <th>2021-12-14 10:22:00</th>\n",
       "      <td>346.502</td>\n",
       "      <td>19.87</td>\n",
       "      <td>-0.010503</td>\n",
       "      <td>-0.006500</td>\n",
       "      <td>-0.004003</td>\n",
       "      <td>1.0</td>\n",
       "      <td>-1.0</td>\n",
       "      <td>0.0</td>\n",
       "      <td>0.0</td>\n",
       "    </tr>\n",
       "    <tr>\n",
       "      <th>2021-12-14 10:23:00</th>\n",
       "      <td>346.502</td>\n",
       "      <td>19.86</td>\n",
       "      <td>-0.010503</td>\n",
       "      <td>-0.007000</td>\n",
       "      <td>-0.003503</td>\n",
       "      <td>1.0</td>\n",
       "      <td>-1.0</td>\n",
       "      <td>0.0</td>\n",
       "      <td>0.0</td>\n",
       "    </tr>\n",
       "    <tr>\n",
       "      <th>2021-12-14 10:24:00</th>\n",
       "      <td>347.259</td>\n",
       "      <td>19.87</td>\n",
       "      <td>-0.008341</td>\n",
       "      <td>-0.006500</td>\n",
       "      <td>-0.001841</td>\n",
       "      <td>1.0</td>\n",
       "      <td>-1.0</td>\n",
       "      <td>0.0</td>\n",
       "      <td>0.0</td>\n",
       "    </tr>\n",
       "    <tr>\n",
       "      <th>2021-12-14 10:25:00</th>\n",
       "      <td>347.000</td>\n",
       "      <td>19.87</td>\n",
       "      <td>-0.009081</td>\n",
       "      <td>-0.006500</td>\n",
       "      <td>-0.002581</td>\n",
       "      <td>1.0</td>\n",
       "      <td>-1.0</td>\n",
       "      <td>0.0</td>\n",
       "      <td>0.0</td>\n",
       "    </tr>\n",
       "    <tr>\n",
       "      <th>2021-12-14 10:26:00</th>\n",
       "      <td>347.001</td>\n",
       "      <td>19.87</td>\n",
       "      <td>-0.009078</td>\n",
       "      <td>-0.006500</td>\n",
       "      <td>-0.002578</td>\n",
       "      <td>1.0</td>\n",
       "      <td>-1.0</td>\n",
       "      <td>0.0</td>\n",
       "      <td>0.0</td>\n",
       "    </tr>\n",
       "    <tr>\n",
       "      <th>2021-12-14 10:27:00</th>\n",
       "      <td>346.896</td>\n",
       "      <td>19.86</td>\n",
       "      <td>-0.009378</td>\n",
       "      <td>-0.007000</td>\n",
       "      <td>-0.002378</td>\n",
       "      <td>1.0</td>\n",
       "      <td>-1.0</td>\n",
       "      <td>0.0</td>\n",
       "      <td>0.0</td>\n",
       "    </tr>\n",
       "    <tr>\n",
       "      <th>2021-12-14 10:28:00</th>\n",
       "      <td>346.681</td>\n",
       "      <td>19.85</td>\n",
       "      <td>-0.009992</td>\n",
       "      <td>-0.007500</td>\n",
       "      <td>-0.002492</td>\n",
       "      <td>1.0</td>\n",
       "      <td>-1.0</td>\n",
       "      <td>0.0</td>\n",
       "      <td>0.0</td>\n",
       "    </tr>\n",
       "    <tr>\n",
       "      <th>2021-12-14 10:29:00</th>\n",
       "      <td>346.553</td>\n",
       "      <td>19.86</td>\n",
       "      <td>-0.010358</td>\n",
       "      <td>-0.007000</td>\n",
       "      <td>-0.003358</td>\n",
       "      <td>1.0</td>\n",
       "      <td>-1.0</td>\n",
       "      <td>0.0</td>\n",
       "      <td>0.0</td>\n",
       "    </tr>\n",
       "    <tr>\n",
       "      <th>2021-12-14 10:30:00</th>\n",
       "      <td>346.200</td>\n",
       "      <td>19.85</td>\n",
       "      <td>-0.011366</td>\n",
       "      <td>-0.007500</td>\n",
       "      <td>-0.003866</td>\n",
       "      <td>1.0</td>\n",
       "      <td>-1.0</td>\n",
       "      <td>0.0</td>\n",
       "      <td>0.0</td>\n",
       "    </tr>\n",
       "    <tr>\n",
       "      <th>2021-12-14 10:31:00</th>\n",
       "      <td>345.466</td>\n",
       "      <td>19.81</td>\n",
       "      <td>-0.013462</td>\n",
       "      <td>-0.009500</td>\n",
       "      <td>-0.003962</td>\n",
       "      <td>1.0</td>\n",
       "      <td>-1.0</td>\n",
       "      <td>0.0</td>\n",
       "      <td>0.0</td>\n",
       "    </tr>\n",
       "    <tr>\n",
       "      <th>2021-12-14 10:32:00</th>\n",
       "      <td>345.245</td>\n",
       "      <td>19.80</td>\n",
       "      <td>-0.014093</td>\n",
       "      <td>-0.010000</td>\n",
       "      <td>-0.004093</td>\n",
       "      <td>1.0</td>\n",
       "      <td>-1.0</td>\n",
       "      <td>0.0</td>\n",
       "      <td>0.0</td>\n",
       "    </tr>\n",
       "    <tr>\n",
       "      <th>2021-12-14 10:33:00</th>\n",
       "      <td>344.510</td>\n",
       "      <td>19.83</td>\n",
       "      <td>-0.016192</td>\n",
       "      <td>-0.008500</td>\n",
       "      <td>-0.007692</td>\n",
       "      <td>1.0</td>\n",
       "      <td>-1.0</td>\n",
       "      <td>0.0</td>\n",
       "      <td>0.0</td>\n",
       "    </tr>\n",
       "    <tr>\n",
       "      <th>2021-12-14 10:34:00</th>\n",
       "      <td>344.076</td>\n",
       "      <td>19.84</td>\n",
       "      <td>-0.017431</td>\n",
       "      <td>-0.008000</td>\n",
       "      <td>-0.009431</td>\n",
       "      <td>1.0</td>\n",
       "      <td>-1.0</td>\n",
       "      <td>0.0</td>\n",
       "      <td>0.0</td>\n",
       "    </tr>\n",
       "    <tr>\n",
       "      <th>2021-12-14 10:35:00</th>\n",
       "      <td>344.007</td>\n",
       "      <td>19.84</td>\n",
       "      <td>-0.017628</td>\n",
       "      <td>-0.008000</td>\n",
       "      <td>-0.009628</td>\n",
       "      <td>1.0</td>\n",
       "      <td>-1.0</td>\n",
       "      <td>0.0</td>\n",
       "      <td>0.0</td>\n",
       "    </tr>\n",
       "    <tr>\n",
       "      <th>2021-12-14 10:36:00</th>\n",
       "      <td>342.722</td>\n",
       "      <td>19.80</td>\n",
       "      <td>-0.021298</td>\n",
       "      <td>-0.010000</td>\n",
       "      <td>-0.011298</td>\n",
       "      <td>1.0</td>\n",
       "      <td>-1.0</td>\n",
       "      <td>0.0</td>\n",
       "      <td>0.0</td>\n",
       "    </tr>\n",
       "    <tr>\n",
       "      <th>2021-12-14 10:37:00</th>\n",
       "      <td>342.500</td>\n",
       "      <td>19.81</td>\n",
       "      <td>-0.021932</td>\n",
       "      <td>-0.009500</td>\n",
       "      <td>-0.012432</td>\n",
       "      <td>1.0</td>\n",
       "      <td>-1.0</td>\n",
       "      <td>0.0</td>\n",
       "      <td>0.0</td>\n",
       "    </tr>\n",
       "    <tr>\n",
       "      <th>2021-12-14 10:38:00</th>\n",
       "      <td>342.720</td>\n",
       "      <td>19.79</td>\n",
       "      <td>-0.021303</td>\n",
       "      <td>-0.010500</td>\n",
       "      <td>-0.010803</td>\n",
       "      <td>1.0</td>\n",
       "      <td>-1.0</td>\n",
       "      <td>0.0</td>\n",
       "      <td>0.0</td>\n",
       "    </tr>\n",
       "    <tr>\n",
       "      <th>2021-12-14 10:39:00</th>\n",
       "      <td>343.056</td>\n",
       "      <td>19.79</td>\n",
       "      <td>-0.020344</td>\n",
       "      <td>-0.010500</td>\n",
       "      <td>-0.009844</td>\n",
       "      <td>1.0</td>\n",
       "      <td>-1.0</td>\n",
       "      <td>0.0</td>\n",
       "      <td>0.0</td>\n",
       "    </tr>\n",
       "    <tr>\n",
       "      <th>2021-12-14 10:40:00</th>\n",
       "      <td>344.131</td>\n",
       "      <td>19.80</td>\n",
       "      <td>-0.017274</td>\n",
       "      <td>-0.010000</td>\n",
       "      <td>-0.007274</td>\n",
       "      <td>1.0</td>\n",
       "      <td>-1.0</td>\n",
       "      <td>0.0</td>\n",
       "      <td>0.0</td>\n",
       "    </tr>\n",
       "    <tr>\n",
       "      <th>2021-12-14 10:41:00</th>\n",
       "      <td>343.211</td>\n",
       "      <td>19.82</td>\n",
       "      <td>-0.019901</td>\n",
       "      <td>-0.009000</td>\n",
       "      <td>-0.010901</td>\n",
       "      <td>1.0</td>\n",
       "      <td>-1.0</td>\n",
       "      <td>0.0</td>\n",
       "      <td>0.0</td>\n",
       "    </tr>\n",
       "    <tr>\n",
       "      <th>2021-12-14 10:42:00</th>\n",
       "      <td>342.784</td>\n",
       "      <td>19.80</td>\n",
       "      <td>-0.021121</td>\n",
       "      <td>-0.010000</td>\n",
       "      <td>-0.011121</td>\n",
       "      <td>1.0</td>\n",
       "      <td>-1.0</td>\n",
       "      <td>0.0</td>\n",
       "      <td>0.0</td>\n",
       "    </tr>\n",
       "    <tr>\n",
       "      <th>2021-12-14 10:43:00</th>\n",
       "      <td>342.612</td>\n",
       "      <td>19.81</td>\n",
       "      <td>-0.021612</td>\n",
       "      <td>-0.009500</td>\n",
       "      <td>-0.012112</td>\n",
       "      <td>1.0</td>\n",
       "      <td>-1.0</td>\n",
       "      <td>0.0</td>\n",
       "      <td>0.0</td>\n",
       "    </tr>\n",
       "    <tr>\n",
       "      <th>2021-12-14 10:44:00</th>\n",
       "      <td>342.939</td>\n",
       "      <td>19.79</td>\n",
       "      <td>-0.020678</td>\n",
       "      <td>-0.010500</td>\n",
       "      <td>-0.010178</td>\n",
       "      <td>1.0</td>\n",
       "      <td>-1.0</td>\n",
       "      <td>0.0</td>\n",
       "      <td>0.0</td>\n",
       "    </tr>\n",
       "    <tr>\n",
       "      <th>2021-12-14 10:45:00</th>\n",
       "      <td>342.720</td>\n",
       "      <td>19.80</td>\n",
       "      <td>-0.021303</td>\n",
       "      <td>-0.010000</td>\n",
       "      <td>-0.011303</td>\n",
       "      <td>1.0</td>\n",
       "      <td>-1.0</td>\n",
       "      <td>0.0</td>\n",
       "      <td>0.0</td>\n",
       "    </tr>\n",
       "    <tr>\n",
       "      <th>2021-12-14 10:46:00</th>\n",
       "      <td>343.199</td>\n",
       "      <td>19.82</td>\n",
       "      <td>-0.019935</td>\n",
       "      <td>-0.009000</td>\n",
       "      <td>-0.010935</td>\n",
       "      <td>1.0</td>\n",
       "      <td>-1.0</td>\n",
       "      <td>0.0</td>\n",
       "      <td>0.0</td>\n",
       "    </tr>\n",
       "    <tr>\n",
       "      <th>2021-12-14 10:47:00</th>\n",
       "      <td>343.900</td>\n",
       "      <td>19.80</td>\n",
       "      <td>-0.017934</td>\n",
       "      <td>-0.010000</td>\n",
       "      <td>-0.007934</td>\n",
       "      <td>1.0</td>\n",
       "      <td>-1.0</td>\n",
       "      <td>0.0</td>\n",
       "      <td>0.0</td>\n",
       "    </tr>\n",
       "    <tr>\n",
       "      <th>2021-12-14 10:48:00</th>\n",
       "      <td>342.710</td>\n",
       "      <td>19.80</td>\n",
       "      <td>-0.021332</td>\n",
       "      <td>-0.010000</td>\n",
       "      <td>-0.011332</td>\n",
       "      <td>1.0</td>\n",
       "      <td>-1.0</td>\n",
       "      <td>0.0</td>\n",
       "      <td>0.0</td>\n",
       "    </tr>\n",
       "    <tr>\n",
       "      <th>2021-12-14 10:49:00</th>\n",
       "      <td>342.014</td>\n",
       "      <td>19.74</td>\n",
       "      <td>-0.023319</td>\n",
       "      <td>-0.013000</td>\n",
       "      <td>-0.010319</td>\n",
       "      <td>1.0</td>\n",
       "      <td>-1.0</td>\n",
       "      <td>0.0</td>\n",
       "      <td>0.0</td>\n",
       "    </tr>\n",
       "    <tr>\n",
       "      <th>2021-12-14 10:50:00</th>\n",
       "      <td>341.673</td>\n",
       "      <td>19.75</td>\n",
       "      <td>-0.024293</td>\n",
       "      <td>-0.012500</td>\n",
       "      <td>-0.011793</td>\n",
       "      <td>1.0</td>\n",
       "      <td>-1.0</td>\n",
       "      <td>0.0</td>\n",
       "      <td>0.0</td>\n",
       "    </tr>\n",
       "    <tr>\n",
       "      <th>2021-12-14 10:51:00</th>\n",
       "      <td>341.799</td>\n",
       "      <td>19.74</td>\n",
       "      <td>-0.023933</td>\n",
       "      <td>-0.013000</td>\n",
       "      <td>-0.010933</td>\n",
       "      <td>1.0</td>\n",
       "      <td>-1.0</td>\n",
       "      <td>0.0</td>\n",
       "      <td>0.0</td>\n",
       "    </tr>\n",
       "    <tr>\n",
       "      <th>2021-12-14 10:52:00</th>\n",
       "      <td>342.156</td>\n",
       "      <td>19.75</td>\n",
       "      <td>-0.022914</td>\n",
       "      <td>-0.012500</td>\n",
       "      <td>-0.010414</td>\n",
       "      <td>1.0</td>\n",
       "      <td>-1.0</td>\n",
       "      <td>0.0</td>\n",
       "      <td>0.0</td>\n",
       "    </tr>\n",
       "    <tr>\n",
       "      <th>2021-12-14 10:53:00</th>\n",
       "      <td>342.030</td>\n",
       "      <td>19.74</td>\n",
       "      <td>-0.023274</td>\n",
       "      <td>-0.013000</td>\n",
       "      <td>-0.010274</td>\n",
       "      <td>1.0</td>\n",
       "      <td>-1.0</td>\n",
       "      <td>0.0</td>\n",
       "      <td>0.0</td>\n",
       "    </tr>\n",
       "    <tr>\n",
       "      <th>2021-12-14 10:54:00</th>\n",
       "      <td>342.802</td>\n",
       "      <td>19.78</td>\n",
       "      <td>-0.021069</td>\n",
       "      <td>-0.011000</td>\n",
       "      <td>-0.010069</td>\n",
       "      <td>1.0</td>\n",
       "      <td>-1.0</td>\n",
       "      <td>0.0</td>\n",
       "      <td>0.0</td>\n",
       "    </tr>\n",
       "    <tr>\n",
       "      <th>2021-12-14 10:55:00</th>\n",
       "      <td>342.806</td>\n",
       "      <td>19.78</td>\n",
       "      <td>-0.021058</td>\n",
       "      <td>-0.011000</td>\n",
       "      <td>-0.010058</td>\n",
       "      <td>1.0</td>\n",
       "      <td>-1.0</td>\n",
       "      <td>0.0</td>\n",
       "      <td>0.0</td>\n",
       "    </tr>\n",
       "    <tr>\n",
       "      <th>2021-12-14 10:56:00</th>\n",
       "      <td>341.969</td>\n",
       "      <td>19.77</td>\n",
       "      <td>-0.023448</td>\n",
       "      <td>-0.011500</td>\n",
       "      <td>-0.011948</td>\n",
       "      <td>1.0</td>\n",
       "      <td>-1.0</td>\n",
       "      <td>0.0</td>\n",
       "      <td>0.0</td>\n",
       "    </tr>\n",
       "    <tr>\n",
       "      <th>2021-12-14 10:57:00</th>\n",
       "      <td>342.000</td>\n",
       "      <td>19.78</td>\n",
       "      <td>-0.023359</td>\n",
       "      <td>-0.011000</td>\n",
       "      <td>-0.012359</td>\n",
       "      <td>1.0</td>\n",
       "      <td>-1.0</td>\n",
       "      <td>0.0</td>\n",
       "      <td>0.0</td>\n",
       "    </tr>\n",
       "    <tr>\n",
       "      <th>2021-12-14 10:58:00</th>\n",
       "      <td>342.060</td>\n",
       "      <td>19.76</td>\n",
       "      <td>-0.023188</td>\n",
       "      <td>-0.012000</td>\n",
       "      <td>-0.011188</td>\n",
       "      <td>1.0</td>\n",
       "      <td>-1.0</td>\n",
       "      <td>0.0</td>\n",
       "      <td>0.0</td>\n",
       "    </tr>\n",
       "    <tr>\n",
       "      <th>2021-12-14 10:59:00</th>\n",
       "      <td>341.411</td>\n",
       "      <td>19.74</td>\n",
       "      <td>-0.025041</td>\n",
       "      <td>-0.013000</td>\n",
       "      <td>-0.012041</td>\n",
       "      <td>1.0</td>\n",
       "      <td>-1.0</td>\n",
       "      <td>0.0</td>\n",
       "      <td>0.0</td>\n",
       "    </tr>\n",
       "    <tr>\n",
       "      <th>2021-12-14 11:00:00</th>\n",
       "      <td>340.999</td>\n",
       "      <td>19.72</td>\n",
       "      <td>-0.026218</td>\n",
       "      <td>-0.014000</td>\n",
       "      <td>-0.012218</td>\n",
       "      <td>1.0</td>\n",
       "      <td>-1.0</td>\n",
       "      <td>0.0</td>\n",
       "      <td>0.0</td>\n",
       "    </tr>\n",
       "    <tr>\n",
       "      <th>2021-12-14 11:01:00</th>\n",
       "      <td>341.006</td>\n",
       "      <td>19.72</td>\n",
       "      <td>-0.026198</td>\n",
       "      <td>-0.014000</td>\n",
       "      <td>-0.012198</td>\n",
       "      <td>1.0</td>\n",
       "      <td>-1.0</td>\n",
       "      <td>0.0</td>\n",
       "      <td>0.0</td>\n",
       "    </tr>\n",
       "    <tr>\n",
       "      <th>2021-12-14 11:02:00</th>\n",
       "      <td>341.046</td>\n",
       "      <td>19.73</td>\n",
       "      <td>-0.026084</td>\n",
       "      <td>-0.013500</td>\n",
       "      <td>-0.012584</td>\n",
       "      <td>1.0</td>\n",
       "      <td>-1.0</td>\n",
       "      <td>0.0</td>\n",
       "      <td>0.0</td>\n",
       "    </tr>\n",
       "    <tr>\n",
       "      <th>2021-12-14 11:03:00</th>\n",
       "      <td>341.277</td>\n",
       "      <td>19.73</td>\n",
       "      <td>-0.025424</td>\n",
       "      <td>-0.013500</td>\n",
       "      <td>-0.011924</td>\n",
       "      <td>1.0</td>\n",
       "      <td>-1.0</td>\n",
       "      <td>0.0</td>\n",
       "      <td>0.0</td>\n",
       "    </tr>\n",
       "    <tr>\n",
       "      <th>2021-12-14 11:04:00</th>\n",
       "      <td>341.092</td>\n",
       "      <td>19.73</td>\n",
       "      <td>-0.025952</td>\n",
       "      <td>-0.013500</td>\n",
       "      <td>-0.012452</td>\n",
       "      <td>1.0</td>\n",
       "      <td>-1.0</td>\n",
       "      <td>0.0</td>\n",
       "      <td>0.0</td>\n",
       "    </tr>\n",
       "    <tr>\n",
       "      <th>2021-12-14 11:05:00</th>\n",
       "      <td>341.600</td>\n",
       "      <td>19.74</td>\n",
       "      <td>-0.024502</td>\n",
       "      <td>-0.013000</td>\n",
       "      <td>-0.011502</td>\n",
       "      <td>1.0</td>\n",
       "      <td>-1.0</td>\n",
       "      <td>0.0</td>\n",
       "      <td>0.0</td>\n",
       "    </tr>\n",
       "    <tr>\n",
       "      <th>2021-12-14 11:06:00</th>\n",
       "      <td>341.341</td>\n",
       "      <td>19.75</td>\n",
       "      <td>-0.025241</td>\n",
       "      <td>-0.012500</td>\n",
       "      <td>-0.012741</td>\n",
       "      <td>1.0</td>\n",
       "      <td>-1.0</td>\n",
       "      <td>0.0</td>\n",
       "      <td>0.0</td>\n",
       "    </tr>\n",
       "    <tr>\n",
       "      <th>2021-12-14 11:07:00</th>\n",
       "      <td>341.624</td>\n",
       "      <td>19.76</td>\n",
       "      <td>-0.024433</td>\n",
       "      <td>-0.012000</td>\n",
       "      <td>-0.012433</td>\n",
       "      <td>1.0</td>\n",
       "      <td>-1.0</td>\n",
       "      <td>0.0</td>\n",
       "      <td>0.0</td>\n",
       "    </tr>\n",
       "    <tr>\n",
       "      <th>2021-12-14 11:08:00</th>\n",
       "      <td>341.958</td>\n",
       "      <td>19.78</td>\n",
       "      <td>-0.023479</td>\n",
       "      <td>-0.011000</td>\n",
       "      <td>-0.012479</td>\n",
       "      <td>1.0</td>\n",
       "      <td>-1.0</td>\n",
       "      <td>0.0</td>\n",
       "      <td>0.0</td>\n",
       "    </tr>\n",
       "    <tr>\n",
       "      <th>2021-12-14 11:09:00</th>\n",
       "      <td>341.930</td>\n",
       "      <td>19.79</td>\n",
       "      <td>-0.023559</td>\n",
       "      <td>-0.010500</td>\n",
       "      <td>-0.013059</td>\n",
       "      <td>1.0</td>\n",
       "      <td>-1.0</td>\n",
       "      <td>0.0</td>\n",
       "      <td>0.0</td>\n",
       "    </tr>\n",
       "    <tr>\n",
       "      <th>2021-12-14 11:10:00</th>\n",
       "      <td>341.993</td>\n",
       "      <td>19.78</td>\n",
       "      <td>-0.023379</td>\n",
       "      <td>-0.011000</td>\n",
       "      <td>-0.012379</td>\n",
       "      <td>1.0</td>\n",
       "      <td>-1.0</td>\n",
       "      <td>0.0</td>\n",
       "      <td>0.0</td>\n",
       "    </tr>\n",
       "    <tr>\n",
       "      <th>2021-12-14 11:11:00</th>\n",
       "      <td>342.400</td>\n",
       "      <td>19.78</td>\n",
       "      <td>-0.022217</td>\n",
       "      <td>-0.011000</td>\n",
       "      <td>-0.011217</td>\n",
       "      <td>1.0</td>\n",
       "      <td>-1.0</td>\n",
       "      <td>0.0</td>\n",
       "      <td>0.0</td>\n",
       "    </tr>\n",
       "    <tr>\n",
       "      <th>2021-12-14 11:12:00</th>\n",
       "      <td>343.000</td>\n",
       "      <td>19.84</td>\n",
       "      <td>-0.020504</td>\n",
       "      <td>-0.008000</td>\n",
       "      <td>-0.012504</td>\n",
       "      <td>1.0</td>\n",
       "      <td>-1.0</td>\n",
       "      <td>0.0</td>\n",
       "      <td>0.0</td>\n",
       "    </tr>\n",
       "    <tr>\n",
       "      <th>2021-12-14 11:13:00</th>\n",
       "      <td>342.823</td>\n",
       "      <td>19.85</td>\n",
       "      <td>-0.021009</td>\n",
       "      <td>-0.007500</td>\n",
       "      <td>-0.013509</td>\n",
       "      <td>1.0</td>\n",
       "      <td>-1.0</td>\n",
       "      <td>0.0</td>\n",
       "      <td>0.0</td>\n",
       "    </tr>\n",
       "    <tr>\n",
       "      <th>2021-12-14 11:14:00</th>\n",
       "      <td>342.719</td>\n",
       "      <td>19.87</td>\n",
       "      <td>-0.021306</td>\n",
       "      <td>-0.006500</td>\n",
       "      <td>-0.014806</td>\n",
       "      <td>1.0</td>\n",
       "      <td>-1.0</td>\n",
       "      <td>0.0</td>\n",
       "      <td>0.0</td>\n",
       "    </tr>\n",
       "    <tr>\n",
       "      <th>2021-12-14 11:15:00</th>\n",
       "      <td>343.000</td>\n",
       "      <td>19.89</td>\n",
       "      <td>-0.020504</td>\n",
       "      <td>-0.005500</td>\n",
       "      <td>-0.015004</td>\n",
       "      <td>1.0</td>\n",
       "      <td>-1.0</td>\n",
       "      <td>1.0</td>\n",
       "      <td>-1.0</td>\n",
       "    </tr>\n",
       "    <tr>\n",
       "      <th>2021-12-14 11:16:00</th>\n",
       "      <td>342.381</td>\n",
       "      <td>19.88</td>\n",
       "      <td>-0.022271</td>\n",
       "      <td>-0.006000</td>\n",
       "      <td>-0.016271</td>\n",
       "      <td>1.0</td>\n",
       "      <td>-1.0</td>\n",
       "      <td>1.0</td>\n",
       "      <td>-1.0</td>\n",
       "    </tr>\n",
       "    <tr>\n",
       "      <th>2021-12-14 11:17:00</th>\n",
       "      <td>342.214</td>\n",
       "      <td>19.85</td>\n",
       "      <td>-0.022748</td>\n",
       "      <td>-0.007500</td>\n",
       "      <td>-0.015248</td>\n",
       "      <td>1.0</td>\n",
       "      <td>-1.0</td>\n",
       "      <td>1.0</td>\n",
       "      <td>-1.0</td>\n",
       "    </tr>\n",
       "    <tr>\n",
       "      <th>2021-12-14 11:18:00</th>\n",
       "      <td>341.881</td>\n",
       "      <td>19.84</td>\n",
       "      <td>-0.023699</td>\n",
       "      <td>-0.008000</td>\n",
       "      <td>-0.015699</td>\n",
       "      <td>1.0</td>\n",
       "      <td>-1.0</td>\n",
       "      <td>1.0</td>\n",
       "      <td>-1.0</td>\n",
       "    </tr>\n",
       "    <tr>\n",
       "      <th>2021-12-14 11:19:00</th>\n",
       "      <td>342.100</td>\n",
       "      <td>19.85</td>\n",
       "      <td>-0.023074</td>\n",
       "      <td>-0.007500</td>\n",
       "      <td>-0.015574</td>\n",
       "      <td>1.0</td>\n",
       "      <td>-1.0</td>\n",
       "      <td>1.0</td>\n",
       "      <td>-1.0</td>\n",
       "    </tr>\n",
       "    <tr>\n",
       "      <th>2021-12-14 11:20:00</th>\n",
       "      <td>342.150</td>\n",
       "      <td>19.85</td>\n",
       "      <td>-0.022931</td>\n",
       "      <td>-0.007500</td>\n",
       "      <td>-0.015431</td>\n",
       "      <td>1.0</td>\n",
       "      <td>-1.0</td>\n",
       "      <td>1.0</td>\n",
       "      <td>-1.0</td>\n",
       "    </tr>\n",
       "    <tr>\n",
       "      <th>2021-12-14 11:21:00</th>\n",
       "      <td>342.498</td>\n",
       "      <td>19.87</td>\n",
       "      <td>-0.021937</td>\n",
       "      <td>-0.006500</td>\n",
       "      <td>-0.015437</td>\n",
       "      <td>1.0</td>\n",
       "      <td>-1.0</td>\n",
       "      <td>1.0</td>\n",
       "      <td>-1.0</td>\n",
       "    </tr>\n",
       "    <tr>\n",
       "      <th>2021-12-14 11:22:00</th>\n",
       "      <td>342.500</td>\n",
       "      <td>19.87</td>\n",
       "      <td>-0.021932</td>\n",
       "      <td>-0.006500</td>\n",
       "      <td>-0.015432</td>\n",
       "      <td>1.0</td>\n",
       "      <td>-1.0</td>\n",
       "      <td>1.0</td>\n",
       "      <td>-1.0</td>\n",
       "    </tr>\n",
       "    <tr>\n",
       "      <th>2021-12-14 11:23:00</th>\n",
       "      <td>342.773</td>\n",
       "      <td>19.88</td>\n",
       "      <td>-0.021152</td>\n",
       "      <td>-0.006000</td>\n",
       "      <td>-0.015152</td>\n",
       "      <td>1.0</td>\n",
       "      <td>-1.0</td>\n",
       "      <td>1.0</td>\n",
       "      <td>-1.0</td>\n",
       "    </tr>\n",
       "    <tr>\n",
       "      <th>2021-12-14 11:24:00</th>\n",
       "      <td>342.997</td>\n",
       "      <td>19.89</td>\n",
       "      <td>-0.020512</td>\n",
       "      <td>-0.005500</td>\n",
       "      <td>-0.015012</td>\n",
       "      <td>1.0</td>\n",
       "      <td>-1.0</td>\n",
       "      <td>1.0</td>\n",
       "      <td>-1.0</td>\n",
       "    </tr>\n",
       "    <tr>\n",
       "      <th>2021-12-14 11:25:00</th>\n",
       "      <td>342.401</td>\n",
       "      <td>19.89</td>\n",
       "      <td>-0.022214</td>\n",
       "      <td>-0.005500</td>\n",
       "      <td>-0.016714</td>\n",
       "      <td>1.0</td>\n",
       "      <td>-1.0</td>\n",
       "      <td>1.0</td>\n",
       "      <td>-1.0</td>\n",
       "    </tr>\n",
       "    <tr>\n",
       "      <th>2021-12-14 11:26:00</th>\n",
       "      <td>342.777</td>\n",
       "      <td>19.91</td>\n",
       "      <td>-0.021141</td>\n",
       "      <td>-0.004500</td>\n",
       "      <td>-0.016641</td>\n",
       "      <td>1.0</td>\n",
       "      <td>-1.0</td>\n",
       "      <td>1.0</td>\n",
       "      <td>-1.0</td>\n",
       "    </tr>\n",
       "    <tr>\n",
       "      <th>2021-12-14 11:27:00</th>\n",
       "      <td>343.116</td>\n",
       "      <td>19.90</td>\n",
       "      <td>-0.020172</td>\n",
       "      <td>-0.005000</td>\n",
       "      <td>-0.015172</td>\n",
       "      <td>1.0</td>\n",
       "      <td>-1.0</td>\n",
       "      <td>1.0</td>\n",
       "      <td>-1.0</td>\n",
       "    </tr>\n",
       "    <tr>\n",
       "      <th>2021-12-14 11:28:00</th>\n",
       "      <td>343.114</td>\n",
       "      <td>19.90</td>\n",
       "      <td>-0.020178</td>\n",
       "      <td>-0.005000</td>\n",
       "      <td>-0.015178</td>\n",
       "      <td>1.0</td>\n",
       "      <td>-1.0</td>\n",
       "      <td>1.0</td>\n",
       "      <td>-1.0</td>\n",
       "    </tr>\n",
       "    <tr>\n",
       "      <th>2021-12-14 11:29:00</th>\n",
       "      <td>342.705</td>\n",
       "      <td>19.91</td>\n",
       "      <td>-0.021346</td>\n",
       "      <td>-0.004500</td>\n",
       "      <td>-0.016846</td>\n",
       "      <td>1.0</td>\n",
       "      <td>-1.0</td>\n",
       "      <td>1.0</td>\n",
       "      <td>-1.0</td>\n",
       "    </tr>\n",
       "    <tr>\n",
       "      <th>2021-12-14 13:00:00</th>\n",
       "      <td>341.903</td>\n",
       "      <td>19.87</td>\n",
       "      <td>-0.023636</td>\n",
       "      <td>-0.006500</td>\n",
       "      <td>-0.017136</td>\n",
       "      <td>1.0</td>\n",
       "      <td>-1.0</td>\n",
       "      <td>1.0</td>\n",
       "      <td>-1.0</td>\n",
       "    </tr>\n",
       "    <tr>\n",
       "      <th>2021-12-14 13:01:00</th>\n",
       "      <td>342.963</td>\n",
       "      <td>19.92</td>\n",
       "      <td>-0.020609</td>\n",
       "      <td>-0.004000</td>\n",
       "      <td>-0.016609</td>\n",
       "      <td>1.0</td>\n",
       "      <td>-1.0</td>\n",
       "      <td>1.0</td>\n",
       "      <td>-1.0</td>\n",
       "    </tr>\n",
       "    <tr>\n",
       "      <th>2021-12-14 13:02:00</th>\n",
       "      <td>341.831</td>\n",
       "      <td>19.87</td>\n",
       "      <td>-0.023842</td>\n",
       "      <td>-0.006500</td>\n",
       "      <td>-0.017342</td>\n",
       "      <td>1.0</td>\n",
       "      <td>-1.0</td>\n",
       "      <td>1.0</td>\n",
       "      <td>-1.0</td>\n",
       "    </tr>\n",
       "    <tr>\n",
       "      <th>2021-12-14 13:03:00</th>\n",
       "      <td>341.837</td>\n",
       "      <td>19.87</td>\n",
       "      <td>-0.023825</td>\n",
       "      <td>-0.006500</td>\n",
       "      <td>-0.017325</td>\n",
       "      <td>1.0</td>\n",
       "      <td>-1.0</td>\n",
       "      <td>1.0</td>\n",
       "      <td>-1.0</td>\n",
       "    </tr>\n",
       "    <tr>\n",
       "      <th>2021-12-14 13:04:00</th>\n",
       "      <td>341.840</td>\n",
       "      <td>19.86</td>\n",
       "      <td>-0.023816</td>\n",
       "      <td>-0.007000</td>\n",
       "      <td>-0.016816</td>\n",
       "      <td>1.0</td>\n",
       "      <td>-1.0</td>\n",
       "      <td>1.0</td>\n",
       "      <td>-1.0</td>\n",
       "    </tr>\n",
       "    <tr>\n",
       "      <th>2021-12-14 13:05:00</th>\n",
       "      <td>342.059</td>\n",
       "      <td>19.85</td>\n",
       "      <td>-0.023191</td>\n",
       "      <td>-0.007500</td>\n",
       "      <td>-0.015691</td>\n",
       "      <td>1.0</td>\n",
       "      <td>-1.0</td>\n",
       "      <td>1.0</td>\n",
       "      <td>-1.0</td>\n",
       "    </tr>\n",
       "    <tr>\n",
       "      <th>2021-12-14 13:06:00</th>\n",
       "      <td>341.671</td>\n",
       "      <td>19.83</td>\n",
       "      <td>-0.024299</td>\n",
       "      <td>-0.008500</td>\n",
       "      <td>-0.015799</td>\n",
       "      <td>1.0</td>\n",
       "      <td>-1.0</td>\n",
       "      <td>1.0</td>\n",
       "      <td>-1.0</td>\n",
       "    </tr>\n",
       "    <tr>\n",
       "      <th>2021-12-14 13:07:00</th>\n",
       "      <td>341.500</td>\n",
       "      <td>19.85</td>\n",
       "      <td>-0.024787</td>\n",
       "      <td>-0.007500</td>\n",
       "      <td>-0.017287</td>\n",
       "      <td>1.0</td>\n",
       "      <td>-1.0</td>\n",
       "      <td>1.0</td>\n",
       "      <td>-1.0</td>\n",
       "    </tr>\n",
       "    <tr>\n",
       "      <th>2021-12-14 13:09:00</th>\n",
       "      <td>342.009</td>\n",
       "      <td>19.82</td>\n",
       "      <td>-0.023334</td>\n",
       "      <td>-0.009000</td>\n",
       "      <td>-0.014334</td>\n",
       "      <td>1.0</td>\n",
       "      <td>-1.0</td>\n",
       "      <td>1.0</td>\n",
       "      <td>-1.0</td>\n",
       "    </tr>\n",
       "    <tr>\n",
       "      <th>2021-12-14 13:10:00</th>\n",
       "      <td>341.916</td>\n",
       "      <td>19.84</td>\n",
       "      <td>-0.023599</td>\n",
       "      <td>-0.008000</td>\n",
       "      <td>-0.015599</td>\n",
       "      <td>1.0</td>\n",
       "      <td>-1.0</td>\n",
       "      <td>1.0</td>\n",
       "      <td>-1.0</td>\n",
       "    </tr>\n",
       "    <tr>\n",
       "      <th>2021-12-14 13:11:00</th>\n",
       "      <td>342.100</td>\n",
       "      <td>19.86</td>\n",
       "      <td>-0.023074</td>\n",
       "      <td>-0.007000</td>\n",
       "      <td>-0.016074</td>\n",
       "      <td>1.0</td>\n",
       "      <td>-1.0</td>\n",
       "      <td>1.0</td>\n",
       "      <td>-1.0</td>\n",
       "    </tr>\n",
       "    <tr>\n",
       "      <th>2021-12-14 13:12:00</th>\n",
       "      <td>342.351</td>\n",
       "      <td>19.84</td>\n",
       "      <td>-0.022357</td>\n",
       "      <td>-0.008000</td>\n",
       "      <td>-0.014357</td>\n",
       "      <td>1.0</td>\n",
       "      <td>-1.0</td>\n",
       "      <td>1.0</td>\n",
       "      <td>-1.0</td>\n",
       "    </tr>\n",
       "    <tr>\n",
       "      <th>2021-12-14 13:13:00</th>\n",
       "      <td>342.246</td>\n",
       "      <td>19.83</td>\n",
       "      <td>-0.022657</td>\n",
       "      <td>-0.008500</td>\n",
       "      <td>-0.014157</td>\n",
       "      <td>1.0</td>\n",
       "      <td>-1.0</td>\n",
       "      <td>1.0</td>\n",
       "      <td>-1.0</td>\n",
       "    </tr>\n",
       "    <tr>\n",
       "      <th>2021-12-14 13:14:00</th>\n",
       "      <td>341.882</td>\n",
       "      <td>19.85</td>\n",
       "      <td>-0.023696</td>\n",
       "      <td>-0.007500</td>\n",
       "      <td>-0.016196</td>\n",
       "      <td>1.0</td>\n",
       "      <td>-1.0</td>\n",
       "      <td>1.0</td>\n",
       "      <td>-1.0</td>\n",
       "    </tr>\n",
       "    <tr>\n",
       "      <th>2021-12-14 13:15:00</th>\n",
       "      <td>341.900</td>\n",
       "      <td>19.84</td>\n",
       "      <td>-0.023645</td>\n",
       "      <td>-0.008000</td>\n",
       "      <td>-0.015645</td>\n",
       "      <td>1.0</td>\n",
       "      <td>-1.0</td>\n",
       "      <td>1.0</td>\n",
       "      <td>-1.0</td>\n",
       "    </tr>\n",
       "    <tr>\n",
       "      <th>2021-12-14 13:16:00</th>\n",
       "      <td>341.822</td>\n",
       "      <td>19.82</td>\n",
       "      <td>-0.023868</td>\n",
       "      <td>-0.009000</td>\n",
       "      <td>-0.014868</td>\n",
       "      <td>1.0</td>\n",
       "      <td>-1.0</td>\n",
       "      <td>1.0</td>\n",
       "      <td>-1.0</td>\n",
       "    </tr>\n",
       "    <tr>\n",
       "      <th>2021-12-14 13:17:00</th>\n",
       "      <td>341.601</td>\n",
       "      <td>19.83</td>\n",
       "      <td>-0.024499</td>\n",
       "      <td>-0.008500</td>\n",
       "      <td>-0.015999</td>\n",
       "      <td>1.0</td>\n",
       "      <td>-1.0</td>\n",
       "      <td>1.0</td>\n",
       "      <td>-1.0</td>\n",
       "    </tr>\n",
       "    <tr>\n",
       "      <th>2021-12-14 13:18:00</th>\n",
       "      <td>341.620</td>\n",
       "      <td>19.84</td>\n",
       "      <td>-0.024445</td>\n",
       "      <td>-0.008000</td>\n",
       "      <td>-0.016445</td>\n",
       "      <td>1.0</td>\n",
       "      <td>-1.0</td>\n",
       "      <td>1.0</td>\n",
       "      <td>-1.0</td>\n",
       "    </tr>\n",
       "    <tr>\n",
       "      <th>2021-12-14 13:19:00</th>\n",
       "      <td>341.617</td>\n",
       "      <td>19.81</td>\n",
       "      <td>-0.024453</td>\n",
       "      <td>-0.009500</td>\n",
       "      <td>-0.014953</td>\n",
       "      <td>1.0</td>\n",
       "      <td>-1.0</td>\n",
       "      <td>1.0</td>\n",
       "      <td>-1.0</td>\n",
       "    </tr>\n",
       "    <tr>\n",
       "      <th>2021-12-14 13:20:00</th>\n",
       "      <td>341.620</td>\n",
       "      <td>19.81</td>\n",
       "      <td>-0.024445</td>\n",
       "      <td>-0.009500</td>\n",
       "      <td>-0.014945</td>\n",
       "      <td>1.0</td>\n",
       "      <td>-1.0</td>\n",
       "      <td>1.0</td>\n",
       "      <td>-1.0</td>\n",
       "    </tr>\n",
       "    <tr>\n",
       "      <th>2021-12-14 13:21:00</th>\n",
       "      <td>341.610</td>\n",
       "      <td>19.81</td>\n",
       "      <td>-0.024473</td>\n",
       "      <td>-0.009500</td>\n",
       "      <td>-0.014973</td>\n",
       "      <td>1.0</td>\n",
       "      <td>-1.0</td>\n",
       "      <td>1.0</td>\n",
       "      <td>-1.0</td>\n",
       "    </tr>\n",
       "    <tr>\n",
       "      <th>2021-12-14 13:22:00</th>\n",
       "      <td>341.601</td>\n",
       "      <td>19.80</td>\n",
       "      <td>-0.024499</td>\n",
       "      <td>-0.010000</td>\n",
       "      <td>-0.014499</td>\n",
       "      <td>1.0</td>\n",
       "      <td>-1.0</td>\n",
       "      <td>1.0</td>\n",
       "      <td>-1.0</td>\n",
       "    </tr>\n",
       "    <tr>\n",
       "      <th>2021-12-14 13:23:00</th>\n",
       "      <td>341.600</td>\n",
       "      <td>19.81</td>\n",
       "      <td>-0.024502</td>\n",
       "      <td>-0.009500</td>\n",
       "      <td>-0.015002</td>\n",
       "      <td>1.0</td>\n",
       "      <td>-1.0</td>\n",
       "      <td>1.0</td>\n",
       "      <td>-1.0</td>\n",
       "    </tr>\n",
       "    <tr>\n",
       "      <th>2021-12-14 13:24:00</th>\n",
       "      <td>341.805</td>\n",
       "      <td>19.81</td>\n",
       "      <td>-0.023916</td>\n",
       "      <td>-0.009500</td>\n",
       "      <td>-0.014416</td>\n",
       "      <td>1.0</td>\n",
       "      <td>-1.0</td>\n",
       "      <td>1.0</td>\n",
       "      <td>-1.0</td>\n",
       "    </tr>\n",
       "    <tr>\n",
       "      <th>2021-12-14 13:25:00</th>\n",
       "      <td>341.585</td>\n",
       "      <td>19.79</td>\n",
       "      <td>-0.024545</td>\n",
       "      <td>-0.010500</td>\n",
       "      <td>-0.014045</td>\n",
       "      <td>1.0</td>\n",
       "      <td>-1.0</td>\n",
       "      <td>1.0</td>\n",
       "      <td>-1.0</td>\n",
       "    </tr>\n",
       "    <tr>\n",
       "      <th>2021-12-14 13:26:00</th>\n",
       "      <td>341.590</td>\n",
       "      <td>19.80</td>\n",
       "      <td>-0.024530</td>\n",
       "      <td>-0.010000</td>\n",
       "      <td>-0.014530</td>\n",
       "      <td>1.0</td>\n",
       "      <td>-1.0</td>\n",
       "      <td>1.0</td>\n",
       "      <td>-1.0</td>\n",
       "    </tr>\n",
       "    <tr>\n",
       "      <th>2021-12-14 13:27:00</th>\n",
       "      <td>341.510</td>\n",
       "      <td>19.79</td>\n",
       "      <td>-0.024759</td>\n",
       "      <td>-0.010500</td>\n",
       "      <td>-0.014259</td>\n",
       "      <td>1.0</td>\n",
       "      <td>-1.0</td>\n",
       "      <td>1.0</td>\n",
       "      <td>-1.0</td>\n",
       "    </tr>\n",
       "    <tr>\n",
       "      <th>2021-12-14 13:28:00</th>\n",
       "      <td>341.510</td>\n",
       "      <td>19.78</td>\n",
       "      <td>-0.024759</td>\n",
       "      <td>-0.011000</td>\n",
       "      <td>-0.013759</td>\n",
       "      <td>1.0</td>\n",
       "      <td>-1.0</td>\n",
       "      <td>1.0</td>\n",
       "      <td>-1.0</td>\n",
       "    </tr>\n",
       "    <tr>\n",
       "      <th>2021-12-14 13:29:00</th>\n",
       "      <td>341.510</td>\n",
       "      <td>19.78</td>\n",
       "      <td>-0.024759</td>\n",
       "      <td>-0.011000</td>\n",
       "      <td>-0.013759</td>\n",
       "      <td>1.0</td>\n",
       "      <td>-1.0</td>\n",
       "      <td>1.0</td>\n",
       "      <td>-1.0</td>\n",
       "    </tr>\n",
       "    <tr>\n",
       "      <th>2021-12-14 13:30:00</th>\n",
       "      <td>341.880</td>\n",
       "      <td>19.79</td>\n",
       "      <td>-0.023702</td>\n",
       "      <td>-0.010500</td>\n",
       "      <td>-0.013202</td>\n",
       "      <td>1.0</td>\n",
       "      <td>-1.0</td>\n",
       "      <td>1.0</td>\n",
       "      <td>-1.0</td>\n",
       "    </tr>\n",
       "    <tr>\n",
       "      <th>2021-12-14 13:31:00</th>\n",
       "      <td>342.200</td>\n",
       "      <td>19.79</td>\n",
       "      <td>-0.022788</td>\n",
       "      <td>-0.010500</td>\n",
       "      <td>-0.012288</td>\n",
       "      <td>1.0</td>\n",
       "      <td>-1.0</td>\n",
       "      <td>1.0</td>\n",
       "      <td>-1.0</td>\n",
       "    </tr>\n",
       "    <tr>\n",
       "      <th>2021-12-14 13:32:00</th>\n",
       "      <td>342.578</td>\n",
       "      <td>19.82</td>\n",
       "      <td>-0.021709</td>\n",
       "      <td>-0.009000</td>\n",
       "      <td>-0.012709</td>\n",
       "      <td>1.0</td>\n",
       "      <td>-1.0</td>\n",
       "      <td>1.0</td>\n",
       "      <td>-1.0</td>\n",
       "    </tr>\n",
       "    <tr>\n",
       "      <th>2021-12-14 13:33:00</th>\n",
       "      <td>342.200</td>\n",
       "      <td>19.84</td>\n",
       "      <td>-0.022788</td>\n",
       "      <td>-0.008000</td>\n",
       "      <td>-0.014788</td>\n",
       "      <td>1.0</td>\n",
       "      <td>-1.0</td>\n",
       "      <td>1.0</td>\n",
       "      <td>-1.0</td>\n",
       "    </tr>\n",
       "    <tr>\n",
       "      <th>2021-12-14 13:34:00</th>\n",
       "      <td>342.101</td>\n",
       "      <td>19.87</td>\n",
       "      <td>-0.023071</td>\n",
       "      <td>-0.006500</td>\n",
       "      <td>-0.016571</td>\n",
       "      <td>1.0</td>\n",
       "      <td>-1.0</td>\n",
       "      <td>1.0</td>\n",
       "      <td>-1.0</td>\n",
       "    </tr>\n",
       "    <tr>\n",
       "      <th>2021-12-14 13:35:00</th>\n",
       "      <td>342.461</td>\n",
       "      <td>19.88</td>\n",
       "      <td>-0.022043</td>\n",
       "      <td>-0.006000</td>\n",
       "      <td>-0.016043</td>\n",
       "      <td>1.0</td>\n",
       "      <td>-1.0</td>\n",
       "      <td>1.0</td>\n",
       "      <td>-1.0</td>\n",
       "    </tr>\n",
       "    <tr>\n",
       "      <th>2021-12-14 13:36:00</th>\n",
       "      <td>344.570</td>\n",
       "      <td>19.95</td>\n",
       "      <td>-0.016020</td>\n",
       "      <td>-0.002500</td>\n",
       "      <td>-0.013520</td>\n",
       "      <td>1.0</td>\n",
       "      <td>-1.0</td>\n",
       "      <td>1.0</td>\n",
       "      <td>-1.0</td>\n",
       "    </tr>\n",
       "    <tr>\n",
       "      <th>2021-12-14 13:37:00</th>\n",
       "      <td>344.486</td>\n",
       "      <td>19.96</td>\n",
       "      <td>-0.016260</td>\n",
       "      <td>-0.002000</td>\n",
       "      <td>-0.014260</td>\n",
       "      <td>1.0</td>\n",
       "      <td>-1.0</td>\n",
       "      <td>1.0</td>\n",
       "      <td>-1.0</td>\n",
       "    </tr>\n",
       "    <tr>\n",
       "      <th>2021-12-14 13:38:00</th>\n",
       "      <td>344.200</td>\n",
       "      <td>19.98</td>\n",
       "      <td>-0.017077</td>\n",
       "      <td>-0.001000</td>\n",
       "      <td>-0.016077</td>\n",
       "      <td>1.0</td>\n",
       "      <td>-1.0</td>\n",
       "      <td>1.0</td>\n",
       "      <td>-1.0</td>\n",
       "    </tr>\n",
       "    <tr>\n",
       "      <th>2021-12-14 13:39:00</th>\n",
       "      <td>344.530</td>\n",
       "      <td>20.00</td>\n",
       "      <td>-0.016135</td>\n",
       "      <td>0.000000</td>\n",
       "      <td>-0.016135</td>\n",
       "      <td>1.0</td>\n",
       "      <td>-1.0</td>\n",
       "      <td>1.0</td>\n",
       "      <td>-1.0</td>\n",
       "    </tr>\n",
       "    <tr>\n",
       "      <th>2021-12-14 13:40:00</th>\n",
       "      <td>345.048</td>\n",
       "      <td>20.08</td>\n",
       "      <td>-0.014655</td>\n",
       "      <td>0.004000</td>\n",
       "      <td>-0.018655</td>\n",
       "      <td>1.0</td>\n",
       "      <td>-1.0</td>\n",
       "      <td>1.0</td>\n",
       "      <td>-1.0</td>\n",
       "    </tr>\n",
       "    <tr>\n",
       "      <th>2021-12-14 13:41:00</th>\n",
       "      <td>345.200</td>\n",
       "      <td>20.04</td>\n",
       "      <td>-0.014221</td>\n",
       "      <td>0.002000</td>\n",
       "      <td>-0.016221</td>\n",
       "      <td>1.0</td>\n",
       "      <td>-1.0</td>\n",
       "      <td>1.0</td>\n",
       "      <td>-1.0</td>\n",
       "    </tr>\n",
       "    <tr>\n",
       "      <th>2021-12-14 13:42:00</th>\n",
       "      <td>344.732</td>\n",
       "      <td>20.05</td>\n",
       "      <td>-0.015558</td>\n",
       "      <td>0.002500</td>\n",
       "      <td>-0.018058</td>\n",
       "      <td>1.0</td>\n",
       "      <td>-1.0</td>\n",
       "      <td>1.0</td>\n",
       "      <td>-1.0</td>\n",
       "    </tr>\n",
       "    <tr>\n",
       "      <th>2021-12-14 13:43:00</th>\n",
       "      <td>344.500</td>\n",
       "      <td>20.03</td>\n",
       "      <td>-0.016220</td>\n",
       "      <td>0.001500</td>\n",
       "      <td>-0.017720</td>\n",
       "      <td>1.0</td>\n",
       "      <td>-1.0</td>\n",
       "      <td>1.0</td>\n",
       "      <td>-1.0</td>\n",
       "    </tr>\n",
       "    <tr>\n",
       "      <th>2021-12-14 13:44:00</th>\n",
       "      <td>344.903</td>\n",
       "      <td>20.05</td>\n",
       "      <td>-0.015069</td>\n",
       "      <td>0.002500</td>\n",
       "      <td>-0.017569</td>\n",
       "      <td>1.0</td>\n",
       "      <td>-1.0</td>\n",
       "      <td>1.0</td>\n",
       "      <td>-1.0</td>\n",
       "    </tr>\n",
       "    <tr>\n",
       "      <th>2021-12-14 13:45:00</th>\n",
       "      <td>345.190</td>\n",
       "      <td>20.10</td>\n",
       "      <td>-0.014250</td>\n",
       "      <td>0.005000</td>\n",
       "      <td>-0.019250</td>\n",
       "      <td>1.0</td>\n",
       "      <td>-1.0</td>\n",
       "      <td>1.0</td>\n",
       "      <td>-1.0</td>\n",
       "    </tr>\n",
       "    <tr>\n",
       "      <th>2021-12-14 13:46:00</th>\n",
       "      <td>345.511</td>\n",
       "      <td>20.10</td>\n",
       "      <td>-0.013333</td>\n",
       "      <td>0.005000</td>\n",
       "      <td>-0.018333</td>\n",
       "      <td>1.0</td>\n",
       "      <td>-1.0</td>\n",
       "      <td>1.0</td>\n",
       "      <td>-1.0</td>\n",
       "    </tr>\n",
       "    <tr>\n",
       "      <th>2021-12-14 13:47:00</th>\n",
       "      <td>345.520</td>\n",
       "      <td>20.12</td>\n",
       "      <td>-0.013307</td>\n",
       "      <td>0.006000</td>\n",
       "      <td>-0.019307</td>\n",
       "      <td>1.0</td>\n",
       "      <td>-1.0</td>\n",
       "      <td>1.0</td>\n",
       "      <td>-1.0</td>\n",
       "    </tr>\n",
       "    <tr>\n",
       "      <th>2021-12-14 13:48:00</th>\n",
       "      <td>345.300</td>\n",
       "      <td>20.08</td>\n",
       "      <td>-0.013936</td>\n",
       "      <td>0.004000</td>\n",
       "      <td>-0.017936</td>\n",
       "      <td>1.0</td>\n",
       "      <td>-1.0</td>\n",
       "      <td>1.0</td>\n",
       "      <td>-1.0</td>\n",
       "    </tr>\n",
       "    <tr>\n",
       "      <th>2021-12-14 13:49:00</th>\n",
       "      <td>345.687</td>\n",
       "      <td>20.12</td>\n",
       "      <td>-0.012831</td>\n",
       "      <td>0.006000</td>\n",
       "      <td>-0.018831</td>\n",
       "      <td>1.0</td>\n",
       "      <td>-1.0</td>\n",
       "      <td>1.0</td>\n",
       "      <td>-1.0</td>\n",
       "    </tr>\n",
       "    <tr>\n",
       "      <th>2021-12-14 13:50:00</th>\n",
       "      <td>345.255</td>\n",
       "      <td>20.14</td>\n",
       "      <td>-0.014064</td>\n",
       "      <td>0.007000</td>\n",
       "      <td>-0.021064</td>\n",
       "      <td>1.0</td>\n",
       "      <td>-1.0</td>\n",
       "      <td>1.0</td>\n",
       "      <td>-1.0</td>\n",
       "    </tr>\n",
       "    <tr>\n",
       "      <th>2021-12-14 13:51:00</th>\n",
       "      <td>346.627</td>\n",
       "      <td>20.14</td>\n",
       "      <td>-0.010146</td>\n",
       "      <td>0.007000</td>\n",
       "      <td>-0.017146</td>\n",
       "      <td>1.0</td>\n",
       "      <td>-1.0</td>\n",
       "      <td>1.0</td>\n",
       "      <td>-1.0</td>\n",
       "    </tr>\n",
       "    <tr>\n",
       "      <th>2021-12-14 13:52:00</th>\n",
       "      <td>345.669</td>\n",
       "      <td>20.09</td>\n",
       "      <td>-0.012882</td>\n",
       "      <td>0.004500</td>\n",
       "      <td>-0.017382</td>\n",
       "      <td>1.0</td>\n",
       "      <td>-1.0</td>\n",
       "      <td>1.0</td>\n",
       "      <td>-1.0</td>\n",
       "    </tr>\n",
       "    <tr>\n",
       "      <th>2021-12-14 13:53:00</th>\n",
       "      <td>344.574</td>\n",
       "      <td>20.06</td>\n",
       "      <td>-0.016009</td>\n",
       "      <td>0.003000</td>\n",
       "      <td>-0.019009</td>\n",
       "      <td>1.0</td>\n",
       "      <td>-1.0</td>\n",
       "      <td>1.0</td>\n",
       "      <td>-1.0</td>\n",
       "    </tr>\n",
       "    <tr>\n",
       "      <th>2021-12-14 13:54:00</th>\n",
       "      <td>345.024</td>\n",
       "      <td>20.07</td>\n",
       "      <td>-0.014724</td>\n",
       "      <td>0.003500</td>\n",
       "      <td>-0.018224</td>\n",
       "      <td>1.0</td>\n",
       "      <td>-1.0</td>\n",
       "      <td>1.0</td>\n",
       "      <td>-1.0</td>\n",
       "    </tr>\n",
       "    <tr>\n",
       "      <th>2021-12-14 13:55:00</th>\n",
       "      <td>344.979</td>\n",
       "      <td>20.08</td>\n",
       "      <td>-0.014852</td>\n",
       "      <td>0.004000</td>\n",
       "      <td>-0.018852</td>\n",
       "      <td>1.0</td>\n",
       "      <td>-1.0</td>\n",
       "      <td>1.0</td>\n",
       "      <td>-1.0</td>\n",
       "    </tr>\n",
       "    <tr>\n",
       "      <th>2021-12-14 13:56:00</th>\n",
       "      <td>344.616</td>\n",
       "      <td>20.08</td>\n",
       "      <td>-0.015889</td>\n",
       "      <td>0.004000</td>\n",
       "      <td>-0.019889</td>\n",
       "      <td>1.0</td>\n",
       "      <td>-1.0</td>\n",
       "      <td>1.0</td>\n",
       "      <td>-1.0</td>\n",
       "    </tr>\n",
       "    <tr>\n",
       "      <th>2021-12-14 13:57:00</th>\n",
       "      <td>344.475</td>\n",
       "      <td>20.09</td>\n",
       "      <td>-0.016292</td>\n",
       "      <td>0.004500</td>\n",
       "      <td>-0.020792</td>\n",
       "      <td>1.0</td>\n",
       "      <td>-1.0</td>\n",
       "      <td>1.0</td>\n",
       "      <td>-1.0</td>\n",
       "    </tr>\n",
       "    <tr>\n",
       "      <th>2021-12-14 13:58:00</th>\n",
       "      <td>344.886</td>\n",
       "      <td>20.08</td>\n",
       "      <td>-0.015118</td>\n",
       "      <td>0.004000</td>\n",
       "      <td>-0.019118</td>\n",
       "      <td>1.0</td>\n",
       "      <td>-1.0</td>\n",
       "      <td>1.0</td>\n",
       "      <td>-1.0</td>\n",
       "    </tr>\n",
       "    <tr>\n",
       "      <th>2021-12-14 13:59:00</th>\n",
       "      <td>344.291</td>\n",
       "      <td>20.06</td>\n",
       "      <td>-0.016817</td>\n",
       "      <td>0.003000</td>\n",
       "      <td>-0.019817</td>\n",
       "      <td>1.0</td>\n",
       "      <td>-1.0</td>\n",
       "      <td>1.0</td>\n",
       "      <td>-1.0</td>\n",
       "    </tr>\n",
       "    <tr>\n",
       "      <th>2021-12-14 14:00:00</th>\n",
       "      <td>345.417</td>\n",
       "      <td>20.10</td>\n",
       "      <td>-0.013602</td>\n",
       "      <td>0.005000</td>\n",
       "      <td>-0.018602</td>\n",
       "      <td>1.0</td>\n",
       "      <td>-1.0</td>\n",
       "      <td>1.0</td>\n",
       "      <td>-1.0</td>\n",
       "    </tr>\n",
       "    <tr>\n",
       "      <th>2021-12-14 14:01:00</th>\n",
       "      <td>345.350</td>\n",
       "      <td>20.10</td>\n",
       "      <td>-0.013793</td>\n",
       "      <td>0.005000</td>\n",
       "      <td>-0.018793</td>\n",
       "      <td>1.0</td>\n",
       "      <td>-1.0</td>\n",
       "      <td>1.0</td>\n",
       "      <td>-1.0</td>\n",
       "    </tr>\n",
       "    <tr>\n",
       "      <th>2021-12-14 14:02:00</th>\n",
       "      <td>344.250</td>\n",
       "      <td>20.05</td>\n",
       "      <td>-0.016934</td>\n",
       "      <td>0.002500</td>\n",
       "      <td>-0.019434</td>\n",
       "      <td>1.0</td>\n",
       "      <td>-1.0</td>\n",
       "      <td>1.0</td>\n",
       "      <td>-1.0</td>\n",
       "    </tr>\n",
       "    <tr>\n",
       "      <th>2021-12-14 14:03:00</th>\n",
       "      <td>344.089</td>\n",
       "      <td>20.06</td>\n",
       "      <td>-0.017394</td>\n",
       "      <td>0.003000</td>\n",
       "      <td>-0.020394</td>\n",
       "      <td>1.0</td>\n",
       "      <td>-1.0</td>\n",
       "      <td>1.0</td>\n",
       "      <td>-1.0</td>\n",
       "    </tr>\n",
       "    <tr>\n",
       "      <th>2021-12-14 14:04:00</th>\n",
       "      <td>344.117</td>\n",
       "      <td>20.06</td>\n",
       "      <td>-0.017314</td>\n",
       "      <td>0.003000</td>\n",
       "      <td>-0.020314</td>\n",
       "      <td>1.0</td>\n",
       "      <td>-1.0</td>\n",
       "      <td>1.0</td>\n",
       "      <td>-1.0</td>\n",
       "    </tr>\n",
       "    <tr>\n",
       "      <th>2021-12-14 14:05:00</th>\n",
       "      <td>344.566</td>\n",
       "      <td>20.03</td>\n",
       "      <td>-0.016032</td>\n",
       "      <td>0.001500</td>\n",
       "      <td>-0.017532</td>\n",
       "      <td>1.0</td>\n",
       "      <td>-1.0</td>\n",
       "      <td>1.0</td>\n",
       "      <td>-1.0</td>\n",
       "    </tr>\n",
       "    <tr>\n",
       "      <th>2021-12-14 14:07:00</th>\n",
       "      <td>343.801</td>\n",
       "      <td>20.02</td>\n",
       "      <td>-0.018216</td>\n",
       "      <td>0.001000</td>\n",
       "      <td>-0.019216</td>\n",
       "      <td>1.0</td>\n",
       "      <td>-1.0</td>\n",
       "      <td>1.0</td>\n",
       "      <td>-1.0</td>\n",
       "    </tr>\n",
       "    <tr>\n",
       "      <th>2021-12-14 14:08:00</th>\n",
       "      <td>343.805</td>\n",
       "      <td>20.02</td>\n",
       "      <td>-0.018205</td>\n",
       "      <td>0.001000</td>\n",
       "      <td>-0.019205</td>\n",
       "      <td>1.0</td>\n",
       "      <td>-1.0</td>\n",
       "      <td>1.0</td>\n",
       "      <td>-1.0</td>\n",
       "    </tr>\n",
       "    <tr>\n",
       "      <th>2021-12-14 14:09:00</th>\n",
       "      <td>343.809</td>\n",
       "      <td>20.00</td>\n",
       "      <td>-0.018194</td>\n",
       "      <td>0.000000</td>\n",
       "      <td>-0.018194</td>\n",
       "      <td>1.0</td>\n",
       "      <td>-1.0</td>\n",
       "      <td>1.0</td>\n",
       "      <td>-1.0</td>\n",
       "    </tr>\n",
       "    <tr>\n",
       "      <th>2021-12-14 14:10:00</th>\n",
       "      <td>344.000</td>\n",
       "      <td>20.01</td>\n",
       "      <td>-0.017648</td>\n",
       "      <td>0.000500</td>\n",
       "      <td>-0.018148</td>\n",
       "      <td>1.0</td>\n",
       "      <td>-1.0</td>\n",
       "      <td>1.0</td>\n",
       "      <td>-1.0</td>\n",
       "    </tr>\n",
       "    <tr>\n",
       "      <th>2021-12-14 14:11:00</th>\n",
       "      <td>343.538</td>\n",
       "      <td>20.00</td>\n",
       "      <td>-0.018967</td>\n",
       "      <td>0.000000</td>\n",
       "      <td>-0.018967</td>\n",
       "      <td>1.0</td>\n",
       "      <td>-1.0</td>\n",
       "      <td>1.0</td>\n",
       "      <td>-1.0</td>\n",
       "    </tr>\n",
       "    <tr>\n",
       "      <th>2021-12-14 14:12:00</th>\n",
       "      <td>343.942</td>\n",
       "      <td>20.01</td>\n",
       "      <td>-0.017814</td>\n",
       "      <td>0.000500</td>\n",
       "      <td>-0.018314</td>\n",
       "      <td>1.0</td>\n",
       "      <td>-1.0</td>\n",
       "      <td>1.0</td>\n",
       "      <td>-1.0</td>\n",
       "    </tr>\n",
       "    <tr>\n",
       "      <th>2021-12-14 14:13:00</th>\n",
       "      <td>343.550</td>\n",
       "      <td>20.03</td>\n",
       "      <td>-0.018933</td>\n",
       "      <td>0.001500</td>\n",
       "      <td>-0.020433</td>\n",
       "      <td>1.0</td>\n",
       "      <td>-1.0</td>\n",
       "      <td>1.0</td>\n",
       "      <td>-1.0</td>\n",
       "    </tr>\n",
       "    <tr>\n",
       "      <th>2021-12-14 14:14:00</th>\n",
       "      <td>343.700</td>\n",
       "      <td>20.01</td>\n",
       "      <td>-0.018505</td>\n",
       "      <td>0.000500</td>\n",
       "      <td>-0.019005</td>\n",
       "      <td>1.0</td>\n",
       "      <td>-1.0</td>\n",
       "      <td>1.0</td>\n",
       "      <td>-1.0</td>\n",
       "    </tr>\n",
       "    <tr>\n",
       "      <th>2021-12-14 14:15:00</th>\n",
       "      <td>343.712</td>\n",
       "      <td>20.01</td>\n",
       "      <td>-0.018471</td>\n",
       "      <td>0.000500</td>\n",
       "      <td>-0.018971</td>\n",
       "      <td>1.0</td>\n",
       "      <td>-1.0</td>\n",
       "      <td>1.0</td>\n",
       "      <td>-1.0</td>\n",
       "    </tr>\n",
       "    <tr>\n",
       "      <th>2021-12-14 14:16:00</th>\n",
       "      <td>343.410</td>\n",
       "      <td>19.96</td>\n",
       "      <td>-0.019333</td>\n",
       "      <td>-0.002000</td>\n",
       "      <td>-0.017333</td>\n",
       "      <td>1.0</td>\n",
       "      <td>-1.0</td>\n",
       "      <td>1.0</td>\n",
       "      <td>-1.0</td>\n",
       "    </tr>\n",
       "    <tr>\n",
       "      <th>2021-12-14 14:17:00</th>\n",
       "      <td>343.072</td>\n",
       "      <td>19.96</td>\n",
       "      <td>-0.020298</td>\n",
       "      <td>-0.002000</td>\n",
       "      <td>-0.018298</td>\n",
       "      <td>1.0</td>\n",
       "      <td>-1.0</td>\n",
       "      <td>1.0</td>\n",
       "      <td>-1.0</td>\n",
       "    </tr>\n",
       "    <tr>\n",
       "      <th>2021-12-14 14:18:00</th>\n",
       "      <td>343.075</td>\n",
       "      <td>19.98</td>\n",
       "      <td>-0.020290</td>\n",
       "      <td>-0.001000</td>\n",
       "      <td>-0.019290</td>\n",
       "      <td>1.0</td>\n",
       "      <td>-1.0</td>\n",
       "      <td>1.0</td>\n",
       "      <td>-1.0</td>\n",
       "    </tr>\n",
       "    <tr>\n",
       "      <th>2021-12-14 14:19:00</th>\n",
       "      <td>342.505</td>\n",
       "      <td>19.96</td>\n",
       "      <td>-0.021917</td>\n",
       "      <td>-0.002000</td>\n",
       "      <td>-0.019917</td>\n",
       "      <td>1.0</td>\n",
       "      <td>-1.0</td>\n",
       "      <td>1.0</td>\n",
       "      <td>-1.0</td>\n",
       "    </tr>\n",
       "    <tr>\n",
       "      <th>2021-12-14 14:20:00</th>\n",
       "      <td>343.100</td>\n",
       "      <td>19.95</td>\n",
       "      <td>-0.020218</td>\n",
       "      <td>-0.002500</td>\n",
       "      <td>-0.017718</td>\n",
       "      <td>1.0</td>\n",
       "      <td>-1.0</td>\n",
       "      <td>1.0</td>\n",
       "      <td>-1.0</td>\n",
       "    </tr>\n",
       "    <tr>\n",
       "      <th>2021-12-14 14:21:00</th>\n",
       "      <td>343.658</td>\n",
       "      <td>19.96</td>\n",
       "      <td>-0.018625</td>\n",
       "      <td>-0.002000</td>\n",
       "      <td>-0.016625</td>\n",
       "      <td>1.0</td>\n",
       "      <td>-1.0</td>\n",
       "      <td>1.0</td>\n",
       "      <td>-1.0</td>\n",
       "    </tr>\n",
       "    <tr>\n",
       "      <th>2021-12-14 14:22:00</th>\n",
       "      <td>343.700</td>\n",
       "      <td>19.96</td>\n",
       "      <td>-0.018505</td>\n",
       "      <td>-0.002000</td>\n",
       "      <td>-0.016505</td>\n",
       "      <td>1.0</td>\n",
       "      <td>-1.0</td>\n",
       "      <td>1.0</td>\n",
       "      <td>-1.0</td>\n",
       "    </tr>\n",
       "    <tr>\n",
       "      <th>2021-12-14 14:23:00</th>\n",
       "      <td>344.306</td>\n",
       "      <td>20.00</td>\n",
       "      <td>-0.016774</td>\n",
       "      <td>0.000000</td>\n",
       "      <td>-0.016774</td>\n",
       "      <td>1.0</td>\n",
       "      <td>-1.0</td>\n",
       "      <td>1.0</td>\n",
       "      <td>-1.0</td>\n",
       "    </tr>\n",
       "    <tr>\n",
       "      <th>2021-12-14 14:24:00</th>\n",
       "      <td>344.365</td>\n",
       "      <td>19.98</td>\n",
       "      <td>-0.016606</td>\n",
       "      <td>-0.001000</td>\n",
       "      <td>-0.015606</td>\n",
       "      <td>1.0</td>\n",
       "      <td>-1.0</td>\n",
       "      <td>1.0</td>\n",
       "      <td>-1.0</td>\n",
       "    </tr>\n",
       "    <tr>\n",
       "      <th>2021-12-14 14:26:00</th>\n",
       "      <td>344.059</td>\n",
       "      <td>19.97</td>\n",
       "      <td>-0.017480</td>\n",
       "      <td>-0.001500</td>\n",
       "      <td>-0.015980</td>\n",
       "      <td>1.0</td>\n",
       "      <td>-1.0</td>\n",
       "      <td>1.0</td>\n",
       "      <td>-1.0</td>\n",
       "    </tr>\n",
       "    <tr>\n",
       "      <th>2021-12-14 14:27:00</th>\n",
       "      <td>344.487</td>\n",
       "      <td>19.96</td>\n",
       "      <td>-0.016257</td>\n",
       "      <td>-0.002000</td>\n",
       "      <td>-0.014257</td>\n",
       "      <td>1.0</td>\n",
       "      <td>-1.0</td>\n",
       "      <td>1.0</td>\n",
       "      <td>-1.0</td>\n",
       "    </tr>\n",
       "    <tr>\n",
       "      <th>2021-12-14 14:28:00</th>\n",
       "      <td>344.579</td>\n",
       "      <td>19.95</td>\n",
       "      <td>-0.015995</td>\n",
       "      <td>-0.002500</td>\n",
       "      <td>-0.013495</td>\n",
       "      <td>1.0</td>\n",
       "      <td>-1.0</td>\n",
       "      <td>1.0</td>\n",
       "      <td>-1.0</td>\n",
       "    </tr>\n",
       "    <tr>\n",
       "      <th>2021-12-14 14:29:00</th>\n",
       "      <td>344.352</td>\n",
       "      <td>19.95</td>\n",
       "      <td>-0.016643</td>\n",
       "      <td>-0.002500</td>\n",
       "      <td>-0.014143</td>\n",
       "      <td>1.0</td>\n",
       "      <td>-1.0</td>\n",
       "      <td>1.0</td>\n",
       "      <td>-1.0</td>\n",
       "    </tr>\n",
       "    <tr>\n",
       "      <th>2021-12-14 14:30:00</th>\n",
       "      <td>344.370</td>\n",
       "      <td>19.96</td>\n",
       "      <td>-0.016591</td>\n",
       "      <td>-0.002000</td>\n",
       "      <td>-0.014591</td>\n",
       "      <td>1.0</td>\n",
       "      <td>-1.0</td>\n",
       "      <td>1.0</td>\n",
       "      <td>-1.0</td>\n",
       "    </tr>\n",
       "    <tr>\n",
       "      <th>2021-12-14 14:31:00</th>\n",
       "      <td>344.370</td>\n",
       "      <td>19.95</td>\n",
       "      <td>-0.016591</td>\n",
       "      <td>-0.002500</td>\n",
       "      <td>-0.014091</td>\n",
       "      <td>1.0</td>\n",
       "      <td>-1.0</td>\n",
       "      <td>1.0</td>\n",
       "      <td>-1.0</td>\n",
       "    </tr>\n",
       "    <tr>\n",
       "      <th>2021-12-14 14:32:00</th>\n",
       "      <td>343.957</td>\n",
       "      <td>19.93</td>\n",
       "      <td>-0.017771</td>\n",
       "      <td>-0.003500</td>\n",
       "      <td>-0.014271</td>\n",
       "      <td>1.0</td>\n",
       "      <td>-1.0</td>\n",
       "      <td>1.0</td>\n",
       "      <td>-1.0</td>\n",
       "    </tr>\n",
       "    <tr>\n",
       "      <th>2021-12-14 14:33:00</th>\n",
       "      <td>343.507</td>\n",
       "      <td>19.95</td>\n",
       "      <td>-0.019056</td>\n",
       "      <td>-0.002500</td>\n",
       "      <td>-0.016556</td>\n",
       "      <td>1.0</td>\n",
       "      <td>-1.0</td>\n",
       "      <td>1.0</td>\n",
       "      <td>-1.0</td>\n",
       "    </tr>\n",
       "    <tr>\n",
       "      <th>2021-12-14 14:34:00</th>\n",
       "      <td>343.219</td>\n",
       "      <td>19.91</td>\n",
       "      <td>-0.019878</td>\n",
       "      <td>-0.004500</td>\n",
       "      <td>-0.015378</td>\n",
       "      <td>1.0</td>\n",
       "      <td>-1.0</td>\n",
       "      <td>1.0</td>\n",
       "      <td>-1.0</td>\n",
       "    </tr>\n",
       "    <tr>\n",
       "      <th>2021-12-14 14:35:00</th>\n",
       "      <td>344.115</td>\n",
       "      <td>19.89</td>\n",
       "      <td>-0.017320</td>\n",
       "      <td>-0.005500</td>\n",
       "      <td>-0.011820</td>\n",
       "      <td>1.0</td>\n",
       "      <td>-1.0</td>\n",
       "      <td>1.0</td>\n",
       "      <td>-1.0</td>\n",
       "    </tr>\n",
       "    <tr>\n",
       "      <th>2021-12-14 14:36:00</th>\n",
       "      <td>343.900</td>\n",
       "      <td>19.88</td>\n",
       "      <td>-0.017934</td>\n",
       "      <td>-0.006000</td>\n",
       "      <td>-0.011934</td>\n",
       "      <td>1.0</td>\n",
       "      <td>-1.0</td>\n",
       "      <td>1.0</td>\n",
       "      <td>-1.0</td>\n",
       "    </tr>\n",
       "    <tr>\n",
       "      <th>2021-12-14 14:37:00</th>\n",
       "      <td>343.869</td>\n",
       "      <td>19.87</td>\n",
       "      <td>-0.018022</td>\n",
       "      <td>-0.006500</td>\n",
       "      <td>-0.011522</td>\n",
       "      <td>1.0</td>\n",
       "      <td>-1.0</td>\n",
       "      <td>1.0</td>\n",
       "      <td>-1.0</td>\n",
       "    </tr>\n",
       "    <tr>\n",
       "      <th>2021-12-14 14:38:00</th>\n",
       "      <td>343.750</td>\n",
       "      <td>19.86</td>\n",
       "      <td>-0.018362</td>\n",
       "      <td>-0.007000</td>\n",
       "      <td>-0.011362</td>\n",
       "      <td>1.0</td>\n",
       "      <td>-1.0</td>\n",
       "      <td>1.0</td>\n",
       "      <td>-1.0</td>\n",
       "    </tr>\n",
       "    <tr>\n",
       "      <th>2021-12-14 14:39:00</th>\n",
       "      <td>343.365</td>\n",
       "      <td>19.86</td>\n",
       "      <td>-0.019461</td>\n",
       "      <td>-0.007000</td>\n",
       "      <td>-0.012461</td>\n",
       "      <td>1.0</td>\n",
       "      <td>-1.0</td>\n",
       "      <td>1.0</td>\n",
       "      <td>-1.0</td>\n",
       "    </tr>\n",
       "    <tr>\n",
       "      <th>2021-12-14 14:40:00</th>\n",
       "      <td>343.965</td>\n",
       "      <td>19.86</td>\n",
       "      <td>-0.017748</td>\n",
       "      <td>-0.007000</td>\n",
       "      <td>-0.010748</td>\n",
       "      <td>1.0</td>\n",
       "      <td>-1.0</td>\n",
       "      <td>1.0</td>\n",
       "      <td>-1.0</td>\n",
       "    </tr>\n",
       "    <tr>\n",
       "      <th>2021-12-14 14:41:00</th>\n",
       "      <td>344.088</td>\n",
       "      <td>19.88</td>\n",
       "      <td>-0.017397</td>\n",
       "      <td>-0.006000</td>\n",
       "      <td>-0.011397</td>\n",
       "      <td>1.0</td>\n",
       "      <td>-1.0</td>\n",
       "      <td>1.0</td>\n",
       "      <td>-1.0</td>\n",
       "    </tr>\n",
       "    <tr>\n",
       "      <th>2021-12-14 14:42:00</th>\n",
       "      <td>343.990</td>\n",
       "      <td>19.87</td>\n",
       "      <td>-0.017677</td>\n",
       "      <td>-0.006500</td>\n",
       "      <td>-0.011177</td>\n",
       "      <td>1.0</td>\n",
       "      <td>-1.0</td>\n",
       "      <td>1.0</td>\n",
       "      <td>-1.0</td>\n",
       "    </tr>\n",
       "    <tr>\n",
       "      <th>2021-12-14 14:43:00</th>\n",
       "      <td>343.289</td>\n",
       "      <td>19.84</td>\n",
       "      <td>-0.019678</td>\n",
       "      <td>-0.008000</td>\n",
       "      <td>-0.011678</td>\n",
       "      <td>1.0</td>\n",
       "      <td>-1.0</td>\n",
       "      <td>1.0</td>\n",
       "      <td>-1.0</td>\n",
       "    </tr>\n",
       "    <tr>\n",
       "      <th>2021-12-14 14:44:00</th>\n",
       "      <td>343.935</td>\n",
       "      <td>19.86</td>\n",
       "      <td>-0.017834</td>\n",
       "      <td>-0.007000</td>\n",
       "      <td>-0.010834</td>\n",
       "      <td>1.0</td>\n",
       "      <td>-1.0</td>\n",
       "      <td>1.0</td>\n",
       "      <td>-1.0</td>\n",
       "    </tr>\n",
       "    <tr>\n",
       "      <th>2021-12-14 14:45:00</th>\n",
       "      <td>343.830</td>\n",
       "      <td>19.86</td>\n",
       "      <td>-0.018134</td>\n",
       "      <td>-0.007000</td>\n",
       "      <td>-0.011134</td>\n",
       "      <td>1.0</td>\n",
       "      <td>-1.0</td>\n",
       "      <td>1.0</td>\n",
       "      <td>-1.0</td>\n",
       "    </tr>\n",
       "    <tr>\n",
       "      <th>2021-12-14 14:46:00</th>\n",
       "      <td>343.996</td>\n",
       "      <td>19.87</td>\n",
       "      <td>-0.017659</td>\n",
       "      <td>-0.006500</td>\n",
       "      <td>-0.011159</td>\n",
       "      <td>1.0</td>\n",
       "      <td>-1.0</td>\n",
       "      <td>1.0</td>\n",
       "      <td>-1.0</td>\n",
       "    </tr>\n",
       "    <tr>\n",
       "      <th>2021-12-14 14:47:00</th>\n",
       "      <td>343.982</td>\n",
       "      <td>19.86</td>\n",
       "      <td>-0.017699</td>\n",
       "      <td>-0.007000</td>\n",
       "      <td>-0.010699</td>\n",
       "      <td>1.0</td>\n",
       "      <td>-1.0</td>\n",
       "      <td>1.0</td>\n",
       "      <td>-1.0</td>\n",
       "    </tr>\n",
       "    <tr>\n",
       "      <th>2021-12-14 14:48:00</th>\n",
       "      <td>343.504</td>\n",
       "      <td>19.86</td>\n",
       "      <td>-0.019064</td>\n",
       "      <td>-0.007000</td>\n",
       "      <td>-0.012064</td>\n",
       "      <td>1.0</td>\n",
       "      <td>-1.0</td>\n",
       "      <td>1.0</td>\n",
       "      <td>-1.0</td>\n",
       "    </tr>\n",
       "    <tr>\n",
       "      <th>2021-12-14 14:49:00</th>\n",
       "      <td>343.782</td>\n",
       "      <td>19.85</td>\n",
       "      <td>-0.018271</td>\n",
       "      <td>-0.007500</td>\n",
       "      <td>-0.010771</td>\n",
       "      <td>1.0</td>\n",
       "      <td>-1.0</td>\n",
       "      <td>1.0</td>\n",
       "      <td>-1.0</td>\n",
       "    </tr>\n",
       "    <tr>\n",
       "      <th>2021-12-14 14:50:00</th>\n",
       "      <td>344.997</td>\n",
       "      <td>19.92</td>\n",
       "      <td>-0.014801</td>\n",
       "      <td>-0.004000</td>\n",
       "      <td>-0.010801</td>\n",
       "      <td>1.0</td>\n",
       "      <td>-1.0</td>\n",
       "      <td>1.0</td>\n",
       "      <td>-1.0</td>\n",
       "    </tr>\n",
       "    <tr>\n",
       "      <th>2021-12-14 14:51:00</th>\n",
       "      <td>344.137</td>\n",
       "      <td>19.90</td>\n",
       "      <td>-0.017257</td>\n",
       "      <td>-0.005000</td>\n",
       "      <td>-0.012257</td>\n",
       "      <td>1.0</td>\n",
       "      <td>-1.0</td>\n",
       "      <td>1.0</td>\n",
       "      <td>-1.0</td>\n",
       "    </tr>\n",
       "    <tr>\n",
       "      <th>2021-12-14 14:52:00</th>\n",
       "      <td>344.370</td>\n",
       "      <td>19.90</td>\n",
       "      <td>-0.016591</td>\n",
       "      <td>-0.005000</td>\n",
       "      <td>-0.011591</td>\n",
       "      <td>1.0</td>\n",
       "      <td>-1.0</td>\n",
       "      <td>1.0</td>\n",
       "      <td>-1.0</td>\n",
       "    </tr>\n",
       "    <tr>\n",
       "      <th>2021-12-14 14:53:00</th>\n",
       "      <td>344.370</td>\n",
       "      <td>19.86</td>\n",
       "      <td>-0.016591</td>\n",
       "      <td>-0.007000</td>\n",
       "      <td>-0.009591</td>\n",
       "      <td>1.0</td>\n",
       "      <td>-1.0</td>\n",
       "      <td>1.0</td>\n",
       "      <td>-1.0</td>\n",
       "    </tr>\n",
       "    <tr>\n",
       "      <th>2021-12-14 14:54:00</th>\n",
       "      <td>344.500</td>\n",
       "      <td>19.84</td>\n",
       "      <td>-0.016220</td>\n",
       "      <td>-0.008000</td>\n",
       "      <td>-0.008220</td>\n",
       "      <td>1.0</td>\n",
       "      <td>-1.0</td>\n",
       "      <td>1.0</td>\n",
       "      <td>-1.0</td>\n",
       "    </tr>\n",
       "    <tr>\n",
       "      <th>2021-12-14 14:55:00</th>\n",
       "      <td>344.500</td>\n",
       "      <td>19.90</td>\n",
       "      <td>-0.016220</td>\n",
       "      <td>-0.005000</td>\n",
       "      <td>-0.011220</td>\n",
       "      <td>1.0</td>\n",
       "      <td>-1.0</td>\n",
       "      <td>1.0</td>\n",
       "      <td>-1.0</td>\n",
       "    </tr>\n",
       "    <tr>\n",
       "      <th>2021-12-14 14:56:00</th>\n",
       "      <td>343.600</td>\n",
       "      <td>19.86</td>\n",
       "      <td>-0.018790</td>\n",
       "      <td>-0.007000</td>\n",
       "      <td>-0.011790</td>\n",
       "      <td>1.0</td>\n",
       "      <td>-1.0</td>\n",
       "      <td>1.0</td>\n",
       "      <td>-1.0</td>\n",
       "    </tr>\n",
       "    <tr>\n",
       "      <th>2021-12-14 15:00:00</th>\n",
       "      <td>344.500</td>\n",
       "      <td>19.87</td>\n",
       "      <td>-0.016220</td>\n",
       "      <td>-0.006500</td>\n",
       "      <td>-0.009720</td>\n",
       "      <td>0.0</td>\n",
       "      <td>0.0</td>\n",
       "      <td>0.0</td>\n",
       "      <td>0.0</td>\n",
       "    </tr>\n",
       "    <tr>\n",
       "      <th>2021-12-15 09:30:00</th>\n",
       "      <td>344.241</td>\n",
       "      <td>19.96</td>\n",
       "      <td>-0.000752</td>\n",
       "      <td>0.004529</td>\n",
       "      <td>-0.005281</td>\n",
       "      <td>1.0</td>\n",
       "      <td>-1.0</td>\n",
       "      <td>0.0</td>\n",
       "      <td>0.0</td>\n",
       "    </tr>\n",
       "    <tr>\n",
       "      <th>2021-12-15 09:31:00</th>\n",
       "      <td>343.421</td>\n",
       "      <td>19.93</td>\n",
       "      <td>-0.003132</td>\n",
       "      <td>0.003020</td>\n",
       "      <td>-0.006152</td>\n",
       "      <td>1.0</td>\n",
       "      <td>-1.0</td>\n",
       "      <td>0.0</td>\n",
       "      <td>0.0</td>\n",
       "    </tr>\n",
       "    <tr>\n",
       "      <th>2021-12-15 09:32:00</th>\n",
       "      <td>341.140</td>\n",
       "      <td>19.92</td>\n",
       "      <td>-0.009753</td>\n",
       "      <td>0.002516</td>\n",
       "      <td>-0.012270</td>\n",
       "      <td>1.0</td>\n",
       "      <td>-1.0</td>\n",
       "      <td>0.0</td>\n",
       "      <td>0.0</td>\n",
       "    </tr>\n",
       "    <tr>\n",
       "      <th>2021-12-15 09:33:00</th>\n",
       "      <td>341.902</td>\n",
       "      <td>19.95</td>\n",
       "      <td>-0.007541</td>\n",
       "      <td>0.004026</td>\n",
       "      <td>-0.011568</td>\n",
       "      <td>1.0</td>\n",
       "      <td>-1.0</td>\n",
       "      <td>0.0</td>\n",
       "      <td>0.0</td>\n",
       "    </tr>\n",
       "    <tr>\n",
       "      <th>2021-12-15 09:34:00</th>\n",
       "      <td>342.652</td>\n",
       "      <td>20.01</td>\n",
       "      <td>-0.005364</td>\n",
       "      <td>0.007046</td>\n",
       "      <td>-0.012410</td>\n",
       "      <td>1.0</td>\n",
       "      <td>-1.0</td>\n",
       "      <td>0.0</td>\n",
       "      <td>0.0</td>\n",
       "    </tr>\n",
       "    <tr>\n",
       "      <th>2021-12-15 09:35:00</th>\n",
       "      <td>343.282</td>\n",
       "      <td>20.05</td>\n",
       "      <td>-0.003536</td>\n",
       "      <td>0.009059</td>\n",
       "      <td>-0.012594</td>\n",
       "      <td>1.0</td>\n",
       "      <td>-1.0</td>\n",
       "      <td>0.0</td>\n",
       "      <td>0.0</td>\n",
       "    </tr>\n",
       "    <tr>\n",
       "      <th>2021-12-15 09:36:00</th>\n",
       "      <td>342.854</td>\n",
       "      <td>20.01</td>\n",
       "      <td>-0.004778</td>\n",
       "      <td>0.007046</td>\n",
       "      <td>-0.011824</td>\n",
       "      <td>1.0</td>\n",
       "      <td>-1.0</td>\n",
       "      <td>0.0</td>\n",
       "      <td>0.0</td>\n",
       "    </tr>\n",
       "    <tr>\n",
       "      <th>2021-12-15 09:37:00</th>\n",
       "      <td>341.900</td>\n",
       "      <td>19.98</td>\n",
       "      <td>-0.007547</td>\n",
       "      <td>0.005536</td>\n",
       "      <td>-0.013083</td>\n",
       "      <td>1.0</td>\n",
       "      <td>-1.0</td>\n",
       "      <td>0.0</td>\n",
       "      <td>0.0</td>\n",
       "    </tr>\n",
       "    <tr>\n",
       "      <th>2021-12-15 09:38:00</th>\n",
       "      <td>341.146</td>\n",
       "      <td>19.97</td>\n",
       "      <td>-0.009736</td>\n",
       "      <td>0.005033</td>\n",
       "      <td>-0.014769</td>\n",
       "      <td>1.0</td>\n",
       "      <td>-1.0</td>\n",
       "      <td>0.0</td>\n",
       "      <td>0.0</td>\n",
       "    </tr>\n",
       "    <tr>\n",
       "      <th>2021-12-15 09:39:00</th>\n",
       "      <td>341.297</td>\n",
       "      <td>19.94</td>\n",
       "      <td>-0.009298</td>\n",
       "      <td>0.003523</td>\n",
       "      <td>-0.012820</td>\n",
       "      <td>1.0</td>\n",
       "      <td>-1.0</td>\n",
       "      <td>0.0</td>\n",
       "      <td>0.0</td>\n",
       "    </tr>\n",
       "    <tr>\n",
       "      <th>2021-12-15 09:40:00</th>\n",
       "      <td>340.988</td>\n",
       "      <td>19.89</td>\n",
       "      <td>-0.010194</td>\n",
       "      <td>0.001007</td>\n",
       "      <td>-0.011201</td>\n",
       "      <td>1.0</td>\n",
       "      <td>-1.0</td>\n",
       "      <td>0.0</td>\n",
       "      <td>0.0</td>\n",
       "    </tr>\n",
       "    <tr>\n",
       "      <th>2021-12-15 09:41:00</th>\n",
       "      <td>341.383</td>\n",
       "      <td>19.91</td>\n",
       "      <td>-0.009048</td>\n",
       "      <td>0.002013</td>\n",
       "      <td>-0.011061</td>\n",
       "      <td>1.0</td>\n",
       "      <td>-1.0</td>\n",
       "      <td>0.0</td>\n",
       "      <td>0.0</td>\n",
       "    </tr>\n",
       "    <tr>\n",
       "      <th>2021-12-15 09:42:00</th>\n",
       "      <td>340.800</td>\n",
       "      <td>19.88</td>\n",
       "      <td>-0.010740</td>\n",
       "      <td>0.000503</td>\n",
       "      <td>-0.011243</td>\n",
       "      <td>1.0</td>\n",
       "      <td>-1.0</td>\n",
       "      <td>0.0</td>\n",
       "      <td>0.0</td>\n",
       "    </tr>\n",
       "    <tr>\n",
       "      <th>2021-12-15 09:43:00</th>\n",
       "      <td>341.016</td>\n",
       "      <td>19.87</td>\n",
       "      <td>-0.010113</td>\n",
       "      <td>0.000000</td>\n",
       "      <td>-0.010113</td>\n",
       "      <td>1.0</td>\n",
       "      <td>-1.0</td>\n",
       "      <td>0.0</td>\n",
       "      <td>0.0</td>\n",
       "    </tr>\n",
       "    <tr>\n",
       "      <th>2021-12-15 09:44:00</th>\n",
       "      <td>340.800</td>\n",
       "      <td>19.89</td>\n",
       "      <td>-0.010740</td>\n",
       "      <td>0.001007</td>\n",
       "      <td>-0.011747</td>\n",
       "      <td>1.0</td>\n",
       "      <td>-1.0</td>\n",
       "      <td>0.0</td>\n",
       "      <td>0.0</td>\n",
       "    </tr>\n",
       "    <tr>\n",
       "      <th>2021-12-15 09:45:00</th>\n",
       "      <td>340.303</td>\n",
       "      <td>19.91</td>\n",
       "      <td>-0.012183</td>\n",
       "      <td>0.002013</td>\n",
       "      <td>-0.014196</td>\n",
       "      <td>1.0</td>\n",
       "      <td>-1.0</td>\n",
       "      <td>0.0</td>\n",
       "      <td>0.0</td>\n",
       "    </tr>\n",
       "    <tr>\n",
       "      <th>2021-12-15 09:46:00</th>\n",
       "      <td>340.662</td>\n",
       "      <td>19.91</td>\n",
       "      <td>-0.011141</td>\n",
       "      <td>0.002013</td>\n",
       "      <td>-0.013154</td>\n",
       "      <td>1.0</td>\n",
       "      <td>-1.0</td>\n",
       "      <td>0.0</td>\n",
       "      <td>0.0</td>\n",
       "    </tr>\n",
       "    <tr>\n",
       "      <th>2021-12-15 09:47:00</th>\n",
       "      <td>341.127</td>\n",
       "      <td>19.94</td>\n",
       "      <td>-0.009791</td>\n",
       "      <td>0.003523</td>\n",
       "      <td>-0.013314</td>\n",
       "      <td>1.0</td>\n",
       "      <td>-1.0</td>\n",
       "      <td>0.0</td>\n",
       "      <td>0.0</td>\n",
       "    </tr>\n",
       "    <tr>\n",
       "      <th>2021-12-15 09:48:00</th>\n",
       "      <td>341.242</td>\n",
       "      <td>19.95</td>\n",
       "      <td>-0.009457</td>\n",
       "      <td>0.004026</td>\n",
       "      <td>-0.013483</td>\n",
       "      <td>1.0</td>\n",
       "      <td>-1.0</td>\n",
       "      <td>0.0</td>\n",
       "      <td>0.0</td>\n",
       "    </tr>\n",
       "    <tr>\n",
       "      <th>2021-12-15 09:49:00</th>\n",
       "      <td>341.466</td>\n",
       "      <td>19.94</td>\n",
       "      <td>-0.008807</td>\n",
       "      <td>0.003523</td>\n",
       "      <td>-0.012330</td>\n",
       "      <td>1.0</td>\n",
       "      <td>-1.0</td>\n",
       "      <td>0.0</td>\n",
       "      <td>0.0</td>\n",
       "    </tr>\n",
       "    <tr>\n",
       "      <th>2021-12-15 09:50:00</th>\n",
       "      <td>341.000</td>\n",
       "      <td>19.91</td>\n",
       "      <td>-0.010160</td>\n",
       "      <td>0.002013</td>\n",
       "      <td>-0.012173</td>\n",
       "      <td>1.0</td>\n",
       "      <td>-1.0</td>\n",
       "      <td>0.0</td>\n",
       "      <td>0.0</td>\n",
       "    </tr>\n",
       "    <tr>\n",
       "      <th>2021-12-15 09:51:00</th>\n",
       "      <td>341.660</td>\n",
       "      <td>19.96</td>\n",
       "      <td>-0.008244</td>\n",
       "      <td>0.004529</td>\n",
       "      <td>-0.012773</td>\n",
       "      <td>1.0</td>\n",
       "      <td>-1.0</td>\n",
       "      <td>0.0</td>\n",
       "      <td>0.0</td>\n",
       "    </tr>\n",
       "    <tr>\n",
       "      <th>2021-12-15 09:52:00</th>\n",
       "      <td>342.256</td>\n",
       "      <td>20.01</td>\n",
       "      <td>-0.006514</td>\n",
       "      <td>0.007046</td>\n",
       "      <td>-0.013560</td>\n",
       "      <td>1.0</td>\n",
       "      <td>-1.0</td>\n",
       "      <td>0.0</td>\n",
       "      <td>0.0</td>\n",
       "    </tr>\n",
       "    <tr>\n",
       "      <th>2021-12-15 09:53:00</th>\n",
       "      <td>341.760</td>\n",
       "      <td>19.98</td>\n",
       "      <td>-0.007954</td>\n",
       "      <td>0.005536</td>\n",
       "      <td>-0.013490</td>\n",
       "      <td>1.0</td>\n",
       "      <td>-1.0</td>\n",
       "      <td>0.0</td>\n",
       "      <td>0.0</td>\n",
       "    </tr>\n",
       "    <tr>\n",
       "      <th>2021-12-15 09:54:00</th>\n",
       "      <td>341.813</td>\n",
       "      <td>19.96</td>\n",
       "      <td>-0.007800</td>\n",
       "      <td>0.004529</td>\n",
       "      <td>-0.012329</td>\n",
       "      <td>1.0</td>\n",
       "      <td>-1.0</td>\n",
       "      <td>0.0</td>\n",
       "      <td>0.0</td>\n",
       "    </tr>\n",
       "    <tr>\n",
       "      <th>2021-12-15 09:55:00</th>\n",
       "      <td>341.600</td>\n",
       "      <td>19.97</td>\n",
       "      <td>-0.008418</td>\n",
       "      <td>0.005033</td>\n",
       "      <td>-0.013451</td>\n",
       "      <td>1.0</td>\n",
       "      <td>-1.0</td>\n",
       "      <td>0.0</td>\n",
       "      <td>0.0</td>\n",
       "    </tr>\n",
       "    <tr>\n",
       "      <th>2021-12-15 09:56:00</th>\n",
       "      <td>341.600</td>\n",
       "      <td>19.97</td>\n",
       "      <td>-0.008418</td>\n",
       "      <td>0.005033</td>\n",
       "      <td>-0.013451</td>\n",
       "      <td>1.0</td>\n",
       "      <td>-1.0</td>\n",
       "      <td>0.0</td>\n",
       "      <td>0.0</td>\n",
       "    </tr>\n",
       "    <tr>\n",
       "      <th>2021-12-15 09:57:00</th>\n",
       "      <td>341.998</td>\n",
       "      <td>19.95</td>\n",
       "      <td>-0.007263</td>\n",
       "      <td>0.004026</td>\n",
       "      <td>-0.011289</td>\n",
       "      <td>1.0</td>\n",
       "      <td>-1.0</td>\n",
       "      <td>0.0</td>\n",
       "      <td>0.0</td>\n",
       "    </tr>\n",
       "    <tr>\n",
       "      <th>2021-12-15 09:58:00</th>\n",
       "      <td>341.899</td>\n",
       "      <td>19.93</td>\n",
       "      <td>-0.007550</td>\n",
       "      <td>0.003020</td>\n",
       "      <td>-0.010570</td>\n",
       "      <td>1.0</td>\n",
       "      <td>-1.0</td>\n",
       "      <td>0.0</td>\n",
       "      <td>0.0</td>\n",
       "    </tr>\n",
       "    <tr>\n",
       "      <th>2021-12-15 09:59:00</th>\n",
       "      <td>341.946</td>\n",
       "      <td>19.90</td>\n",
       "      <td>-0.007414</td>\n",
       "      <td>0.001510</td>\n",
       "      <td>-0.008923</td>\n",
       "      <td>1.0</td>\n",
       "      <td>-1.0</td>\n",
       "      <td>0.0</td>\n",
       "      <td>0.0</td>\n",
       "    </tr>\n",
       "    <tr>\n",
       "      <th>2021-12-15 10:00:00</th>\n",
       "      <td>341.647</td>\n",
       "      <td>19.89</td>\n",
       "      <td>-0.008282</td>\n",
       "      <td>0.001007</td>\n",
       "      <td>-0.009288</td>\n",
       "      <td>1.0</td>\n",
       "      <td>-1.0</td>\n",
       "      <td>0.0</td>\n",
       "      <td>0.0</td>\n",
       "    </tr>\n",
       "    <tr>\n",
       "      <th>2021-12-15 10:01:00</th>\n",
       "      <td>341.949</td>\n",
       "      <td>19.91</td>\n",
       "      <td>-0.007405</td>\n",
       "      <td>0.002013</td>\n",
       "      <td>-0.009418</td>\n",
       "      <td>1.0</td>\n",
       "      <td>-1.0</td>\n",
       "      <td>0.0</td>\n",
       "      <td>0.0</td>\n",
       "    </tr>\n",
       "    <tr>\n",
       "      <th>2021-12-15 10:02:00</th>\n",
       "      <td>341.999</td>\n",
       "      <td>19.87</td>\n",
       "      <td>-0.007260</td>\n",
       "      <td>0.000000</td>\n",
       "      <td>-0.007260</td>\n",
       "      <td>1.0</td>\n",
       "      <td>-1.0</td>\n",
       "      <td>0.0</td>\n",
       "      <td>0.0</td>\n",
       "    </tr>\n",
       "    <tr>\n",
       "      <th>2021-12-15 10:03:00</th>\n",
       "      <td>341.936</td>\n",
       "      <td>19.89</td>\n",
       "      <td>-0.007443</td>\n",
       "      <td>0.001007</td>\n",
       "      <td>-0.008449</td>\n",
       "      <td>1.0</td>\n",
       "      <td>-1.0</td>\n",
       "      <td>0.0</td>\n",
       "      <td>0.0</td>\n",
       "    </tr>\n",
       "    <tr>\n",
       "      <th>2021-12-15 10:04:00</th>\n",
       "      <td>342.593</td>\n",
       "      <td>19.89</td>\n",
       "      <td>-0.005536</td>\n",
       "      <td>0.001007</td>\n",
       "      <td>-0.006542</td>\n",
       "      <td>1.0</td>\n",
       "      <td>-1.0</td>\n",
       "      <td>0.0</td>\n",
       "      <td>0.0</td>\n",
       "    </tr>\n",
       "    <tr>\n",
       "      <th>2021-12-15 10:05:00</th>\n",
       "      <td>342.961</td>\n",
       "      <td>19.90</td>\n",
       "      <td>-0.004467</td>\n",
       "      <td>0.001510</td>\n",
       "      <td>-0.005977</td>\n",
       "      <td>1.0</td>\n",
       "      <td>-1.0</td>\n",
       "      <td>0.0</td>\n",
       "      <td>0.0</td>\n",
       "    </tr>\n",
       "    <tr>\n",
       "      <th>2021-12-15 10:06:00</th>\n",
       "      <td>343.380</td>\n",
       "      <td>19.91</td>\n",
       "      <td>-0.003251</td>\n",
       "      <td>0.002013</td>\n",
       "      <td>-0.005264</td>\n",
       "      <td>1.0</td>\n",
       "      <td>-1.0</td>\n",
       "      <td>0.0</td>\n",
       "      <td>0.0</td>\n",
       "    </tr>\n",
       "    <tr>\n",
       "      <th>2021-12-15 10:07:00</th>\n",
       "      <td>343.000</td>\n",
       "      <td>19.91</td>\n",
       "      <td>-0.004354</td>\n",
       "      <td>0.002013</td>\n",
       "      <td>-0.006367</td>\n",
       "      <td>1.0</td>\n",
       "      <td>-1.0</td>\n",
       "      <td>0.0</td>\n",
       "      <td>0.0</td>\n",
       "    </tr>\n",
       "    <tr>\n",
       "      <th>2021-12-15 10:08:00</th>\n",
       "      <td>342.412</td>\n",
       "      <td>19.85</td>\n",
       "      <td>-0.006061</td>\n",
       "      <td>-0.001007</td>\n",
       "      <td>-0.005054</td>\n",
       "      <td>1.0</td>\n",
       "      <td>-1.0</td>\n",
       "      <td>0.0</td>\n",
       "      <td>0.0</td>\n",
       "    </tr>\n",
       "    <tr>\n",
       "      <th>2021-12-15 10:09:00</th>\n",
       "      <td>342.794</td>\n",
       "      <td>19.87</td>\n",
       "      <td>-0.004952</td>\n",
       "      <td>0.000000</td>\n",
       "      <td>-0.004952</td>\n",
       "      <td>1.0</td>\n",
       "      <td>-1.0</td>\n",
       "      <td>0.0</td>\n",
       "      <td>0.0</td>\n",
       "    </tr>\n",
       "    <tr>\n",
       "      <th>2021-12-15 10:10:00</th>\n",
       "      <td>343.000</td>\n",
       "      <td>19.90</td>\n",
       "      <td>-0.004354</td>\n",
       "      <td>0.001510</td>\n",
       "      <td>-0.005864</td>\n",
       "      <td>1.0</td>\n",
       "      <td>-1.0</td>\n",
       "      <td>0.0</td>\n",
       "      <td>0.0</td>\n",
       "    </tr>\n",
       "    <tr>\n",
       "      <th>2021-12-15 10:11:00</th>\n",
       "      <td>343.100</td>\n",
       "      <td>19.89</td>\n",
       "      <td>-0.004064</td>\n",
       "      <td>0.001007</td>\n",
       "      <td>-0.005070</td>\n",
       "      <td>1.0</td>\n",
       "      <td>-1.0</td>\n",
       "      <td>0.0</td>\n",
       "      <td>0.0</td>\n",
       "    </tr>\n",
       "    <tr>\n",
       "      <th>2021-12-15 10:12:00</th>\n",
       "      <td>342.618</td>\n",
       "      <td>19.88</td>\n",
       "      <td>-0.005463</td>\n",
       "      <td>0.000503</td>\n",
       "      <td>-0.005966</td>\n",
       "      <td>1.0</td>\n",
       "      <td>-1.0</td>\n",
       "      <td>0.0</td>\n",
       "      <td>0.0</td>\n",
       "    </tr>\n",
       "    <tr>\n",
       "      <th>2021-12-15 10:13:00</th>\n",
       "      <td>342.780</td>\n",
       "      <td>19.85</td>\n",
       "      <td>-0.004993</td>\n",
       "      <td>-0.001007</td>\n",
       "      <td>-0.003986</td>\n",
       "      <td>1.0</td>\n",
       "      <td>-1.0</td>\n",
       "      <td>0.0</td>\n",
       "      <td>0.0</td>\n",
       "    </tr>\n",
       "    <tr>\n",
       "      <th>2021-12-15 10:14:00</th>\n",
       "      <td>342.520</td>\n",
       "      <td>19.85</td>\n",
       "      <td>-0.005747</td>\n",
       "      <td>-0.001007</td>\n",
       "      <td>-0.004741</td>\n",
       "      <td>1.0</td>\n",
       "      <td>-1.0</td>\n",
       "      <td>0.0</td>\n",
       "      <td>0.0</td>\n",
       "    </tr>\n",
       "    <tr>\n",
       "      <th>2021-12-15 10:15:00</th>\n",
       "      <td>342.200</td>\n",
       "      <td>19.83</td>\n",
       "      <td>-0.006676</td>\n",
       "      <td>-0.002013</td>\n",
       "      <td>-0.004663</td>\n",
       "      <td>1.0</td>\n",
       "      <td>-1.0</td>\n",
       "      <td>0.0</td>\n",
       "      <td>0.0</td>\n",
       "    </tr>\n",
       "    <tr>\n",
       "      <th>2021-12-15 10:16:00</th>\n",
       "      <td>342.016</td>\n",
       "      <td>19.83</td>\n",
       "      <td>-0.007210</td>\n",
       "      <td>-0.002013</td>\n",
       "      <td>-0.005197</td>\n",
       "      <td>1.0</td>\n",
       "      <td>-1.0</td>\n",
       "      <td>0.0</td>\n",
       "      <td>0.0</td>\n",
       "    </tr>\n",
       "    <tr>\n",
       "      <th>2021-12-15 10:17:00</th>\n",
       "      <td>342.000</td>\n",
       "      <td>19.84</td>\n",
       "      <td>-0.007257</td>\n",
       "      <td>-0.001510</td>\n",
       "      <td>-0.005747</td>\n",
       "      <td>1.0</td>\n",
       "      <td>-1.0</td>\n",
       "      <td>0.0</td>\n",
       "      <td>0.0</td>\n",
       "    </tr>\n",
       "    <tr>\n",
       "      <th>2021-12-15 10:18:00</th>\n",
       "      <td>341.645</td>\n",
       "      <td>19.83</td>\n",
       "      <td>-0.008287</td>\n",
       "      <td>-0.002013</td>\n",
       "      <td>-0.006274</td>\n",
       "      <td>1.0</td>\n",
       "      <td>-1.0</td>\n",
       "      <td>0.0</td>\n",
       "      <td>0.0</td>\n",
       "    </tr>\n",
       "    <tr>\n",
       "      <th>2021-12-15 10:19:00</th>\n",
       "      <td>341.120</td>\n",
       "      <td>19.82</td>\n",
       "      <td>-0.009811</td>\n",
       "      <td>-0.002516</td>\n",
       "      <td>-0.007295</td>\n",
       "      <td>1.0</td>\n",
       "      <td>-1.0</td>\n",
       "      <td>0.0</td>\n",
       "      <td>0.0</td>\n",
       "    </tr>\n",
       "    <tr>\n",
       "      <th>2021-12-15 10:21:00</th>\n",
       "      <td>341.181</td>\n",
       "      <td>19.84</td>\n",
       "      <td>-0.009634</td>\n",
       "      <td>-0.001510</td>\n",
       "      <td>-0.008124</td>\n",
       "      <td>1.0</td>\n",
       "      <td>-1.0</td>\n",
       "      <td>0.0</td>\n",
       "      <td>0.0</td>\n",
       "    </tr>\n",
       "    <tr>\n",
       "      <th>2021-12-15 10:22:00</th>\n",
       "      <td>341.547</td>\n",
       "      <td>19.88</td>\n",
       "      <td>-0.008572</td>\n",
       "      <td>0.000503</td>\n",
       "      <td>-0.009075</td>\n",
       "      <td>1.0</td>\n",
       "      <td>-1.0</td>\n",
       "      <td>0.0</td>\n",
       "      <td>0.0</td>\n",
       "    </tr>\n",
       "    <tr>\n",
       "      <th>2021-12-15 10:23:00</th>\n",
       "      <td>341.640</td>\n",
       "      <td>19.87</td>\n",
       "      <td>-0.008302</td>\n",
       "      <td>0.000000</td>\n",
       "      <td>-0.008302</td>\n",
       "      <td>1.0</td>\n",
       "      <td>-1.0</td>\n",
       "      <td>0.0</td>\n",
       "      <td>0.0</td>\n",
       "    </tr>\n",
       "    <tr>\n",
       "      <th>2021-12-15 10:24:00</th>\n",
       "      <td>342.204</td>\n",
       "      <td>19.88</td>\n",
       "      <td>-0.006665</td>\n",
       "      <td>0.000503</td>\n",
       "      <td>-0.007168</td>\n",
       "      <td>1.0</td>\n",
       "      <td>-1.0</td>\n",
       "      <td>0.0</td>\n",
       "      <td>0.0</td>\n",
       "    </tr>\n",
       "    <tr>\n",
       "      <th>2021-12-15 10:25:00</th>\n",
       "      <td>342.240</td>\n",
       "      <td>19.92</td>\n",
       "      <td>-0.006560</td>\n",
       "      <td>0.002516</td>\n",
       "      <td>-0.009077</td>\n",
       "      <td>1.0</td>\n",
       "      <td>-1.0</td>\n",
       "      <td>0.0</td>\n",
       "      <td>0.0</td>\n",
       "    </tr>\n",
       "    <tr>\n",
       "      <th>2021-12-15 10:26:00</th>\n",
       "      <td>342.001</td>\n",
       "      <td>19.92</td>\n",
       "      <td>-0.007254</td>\n",
       "      <td>0.002516</td>\n",
       "      <td>-0.009770</td>\n",
       "      <td>1.0</td>\n",
       "      <td>-1.0</td>\n",
       "      <td>0.0</td>\n",
       "      <td>0.0</td>\n",
       "    </tr>\n",
       "    <tr>\n",
       "      <th>2021-12-15 10:27:00</th>\n",
       "      <td>342.000</td>\n",
       "      <td>19.91</td>\n",
       "      <td>-0.007257</td>\n",
       "      <td>0.002013</td>\n",
       "      <td>-0.009270</td>\n",
       "      <td>1.0</td>\n",
       "      <td>-1.0</td>\n",
       "      <td>0.0</td>\n",
       "      <td>0.0</td>\n",
       "    </tr>\n",
       "    <tr>\n",
       "      <th>2021-12-15 10:28:00</th>\n",
       "      <td>341.999</td>\n",
       "      <td>19.89</td>\n",
       "      <td>-0.007260</td>\n",
       "      <td>0.001007</td>\n",
       "      <td>-0.008266</td>\n",
       "      <td>1.0</td>\n",
       "      <td>-1.0</td>\n",
       "      <td>0.0</td>\n",
       "      <td>0.0</td>\n",
       "    </tr>\n",
       "    <tr>\n",
       "      <th>2021-12-15 10:29:00</th>\n",
       "      <td>342.000</td>\n",
       "      <td>19.91</td>\n",
       "      <td>-0.007257</td>\n",
       "      <td>0.002013</td>\n",
       "      <td>-0.009270</td>\n",
       "      <td>1.0</td>\n",
       "      <td>-1.0</td>\n",
       "      <td>0.0</td>\n",
       "      <td>0.0</td>\n",
       "    </tr>\n",
       "    <tr>\n",
       "      <th>2021-12-15 10:30:00</th>\n",
       "      <td>341.999</td>\n",
       "      <td>19.90</td>\n",
       "      <td>-0.007260</td>\n",
       "      <td>0.001510</td>\n",
       "      <td>-0.008770</td>\n",
       "      <td>1.0</td>\n",
       "      <td>-1.0</td>\n",
       "      <td>0.0</td>\n",
       "      <td>0.0</td>\n",
       "    </tr>\n",
       "    <tr>\n",
       "      <th>2021-12-15 10:31:00</th>\n",
       "      <td>341.874</td>\n",
       "      <td>19.89</td>\n",
       "      <td>-0.007623</td>\n",
       "      <td>0.001007</td>\n",
       "      <td>-0.008629</td>\n",
       "      <td>1.0</td>\n",
       "      <td>-1.0</td>\n",
       "      <td>0.0</td>\n",
       "      <td>0.0</td>\n",
       "    </tr>\n",
       "    <tr>\n",
       "      <th>2021-12-15 10:32:00</th>\n",
       "      <td>341.400</td>\n",
       "      <td>19.88</td>\n",
       "      <td>-0.008999</td>\n",
       "      <td>0.000503</td>\n",
       "      <td>-0.009502</td>\n",
       "      <td>1.0</td>\n",
       "      <td>-1.0</td>\n",
       "      <td>0.0</td>\n",
       "      <td>0.0</td>\n",
       "    </tr>\n",
       "    <tr>\n",
       "      <th>2021-12-15 10:33:00</th>\n",
       "      <td>341.410</td>\n",
       "      <td>19.88</td>\n",
       "      <td>-0.008970</td>\n",
       "      <td>0.000503</td>\n",
       "      <td>-0.009473</td>\n",
       "      <td>1.0</td>\n",
       "      <td>-1.0</td>\n",
       "      <td>0.0</td>\n",
       "      <td>0.0</td>\n",
       "    </tr>\n",
       "    <tr>\n",
       "      <th>2021-12-15 10:34:00</th>\n",
       "      <td>341.658</td>\n",
       "      <td>19.86</td>\n",
       "      <td>-0.008250</td>\n",
       "      <td>-0.000503</td>\n",
       "      <td>-0.007746</td>\n",
       "      <td>1.0</td>\n",
       "      <td>-1.0</td>\n",
       "      <td>0.0</td>\n",
       "      <td>0.0</td>\n",
       "    </tr>\n",
       "  </tbody>\n",
       "</table>\n",
       "</div>"
      ],
      "text/plain": [
       "                     bond_price  stock_price  bond_rtn  stock_rtn      diff  \\\n",
       "2021-12-13 15:00:00     350.180        20.00  0.000000   0.000000  0.000000   \n",
       "2021-12-14 09:30:00     351.144        19.95  0.002753  -0.002500  0.005253   \n",
       "2021-12-14 09:31:00     351.370        19.96  0.003398  -0.002000  0.005398   \n",
       "2021-12-14 09:32:00     351.368        19.94  0.003393  -0.003000  0.006393   \n",
       "2021-12-14 09:33:00     351.005        19.99  0.002356  -0.000500  0.002856   \n",
       "2021-12-14 09:34:00     348.547        20.01 -0.004663   0.000500 -0.005163   \n",
       "2021-12-14 09:35:00     348.900        19.97 -0.003655  -0.001500 -0.002155   \n",
       "2021-12-14 09:36:00     350.196        20.07  0.000046   0.003500 -0.003454   \n",
       "2021-12-14 09:37:00     350.226        20.08  0.000131   0.004000 -0.003869   \n",
       "2021-12-14 09:38:00     351.280        20.02  0.003141   0.001000  0.002141   \n",
       "2021-12-14 09:39:00     350.667        20.00  0.001391   0.000000  0.001391   \n",
       "2021-12-14 09:40:00     351.000        20.04  0.002342   0.002000  0.000342   \n",
       "2021-12-14 09:41:00     350.653        20.02  0.001351   0.001000  0.000351   \n",
       "2021-12-14 09:42:00     349.140        20.00 -0.002970   0.000000 -0.002970   \n",
       "2021-12-14 09:43:00     348.015        19.99 -0.006183  -0.000500 -0.005683   \n",
       "2021-12-14 09:44:00     348.066        19.97 -0.006037  -0.001500 -0.004537   \n",
       "2021-12-14 09:45:00     348.681        20.01 -0.004281   0.000500 -0.004781   \n",
       "2021-12-14 09:46:00     349.493        20.07 -0.001962   0.003500 -0.005462   \n",
       "2021-12-14 09:47:00     349.079        20.04 -0.003144   0.002000 -0.005144   \n",
       "2021-12-14 09:48:00     349.313        20.05 -0.002476   0.002500 -0.004976   \n",
       "2021-12-14 09:49:00     348.917        19.98 -0.003607  -0.001000 -0.002607   \n",
       "2021-12-14 09:50:00     349.711        20.01 -0.001339   0.000500 -0.001839   \n",
       "2021-12-14 09:51:00     348.300        19.97 -0.005369  -0.001500 -0.003869   \n",
       "2021-12-14 09:52:00     348.153        19.97 -0.005788  -0.001500 -0.004288   \n",
       "2021-12-14 09:53:00     348.802        19.99 -0.003935  -0.000500 -0.003435   \n",
       "2021-12-14 09:54:00     348.789        19.98 -0.003972  -0.001000 -0.002972   \n",
       "2021-12-14 09:55:00     348.790        19.99 -0.003969  -0.000500 -0.003469   \n",
       "2021-12-14 09:56:00     347.650        19.91 -0.007225  -0.004500 -0.002725   \n",
       "2021-12-14 09:57:00     347.537        19.88 -0.007548  -0.006000 -0.001548   \n",
       "2021-12-14 09:58:00     347.044        19.93 -0.008955  -0.003500 -0.005455   \n",
       "2021-12-14 09:59:00     347.500        19.93 -0.007653  -0.003500 -0.004153   \n",
       "2021-12-14 10:00:00     346.544        19.92 -0.010383  -0.004000 -0.006383   \n",
       "2021-12-14 10:01:00     346.975        19.93 -0.009152  -0.003500 -0.005652   \n",
       "2021-12-14 10:02:00     347.200        19.92 -0.008510  -0.004000 -0.004510   \n",
       "2021-12-14 10:03:00     346.600        19.88 -0.010223  -0.006000 -0.004223   \n",
       "2021-12-14 10:04:00     347.028        19.88 -0.009001  -0.006000 -0.003001   \n",
       "2021-12-14 10:05:00     347.202        19.87 -0.008504  -0.006500 -0.002004   \n",
       "2021-12-14 10:06:00     346.400        19.83 -0.010794  -0.008500 -0.002294   \n",
       "2021-12-14 10:07:00     346.258        19.83 -0.011200  -0.008500 -0.002700   \n",
       "2021-12-14 10:08:00     346.260        19.85 -0.011194  -0.007500 -0.003694   \n",
       "2021-12-14 10:09:00     346.707        19.85 -0.009918  -0.007500 -0.002418   \n",
       "2021-12-14 10:10:00     346.600        19.83 -0.010223  -0.008500 -0.001723   \n",
       "2021-12-14 10:11:00     346.030        19.80 -0.011851  -0.010000 -0.001851   \n",
       "2021-12-14 10:12:00     346.350        19.85 -0.010937  -0.007500 -0.003437   \n",
       "2021-12-14 10:13:00     346.711        19.84 -0.009906  -0.008000 -0.001906   \n",
       "2021-12-14 10:14:00     346.087        19.86 -0.011688  -0.007000 -0.004688   \n",
       "2021-12-14 10:15:00     346.418        19.90 -0.010743  -0.005000 -0.005743   \n",
       "2021-12-14 10:16:00     346.868        19.90 -0.009458  -0.005000 -0.004458   \n",
       "2021-12-14 10:17:00     346.999        19.90 -0.009084  -0.005000 -0.004084   \n",
       "2021-12-14 10:18:00     347.322        19.90 -0.008162  -0.005000 -0.003162   \n",
       "2021-12-14 10:19:00     347.128        19.89 -0.008716  -0.005500 -0.003216   \n",
       "2021-12-14 10:20:00     347.120        19.88 -0.008738  -0.006000 -0.002738   \n",
       "2021-12-14 10:21:00     347.082        19.88 -0.008847  -0.006000 -0.002847   \n",
       "2021-12-14 10:22:00     346.502        19.87 -0.010503  -0.006500 -0.004003   \n",
       "2021-12-14 10:23:00     346.502        19.86 -0.010503  -0.007000 -0.003503   \n",
       "2021-12-14 10:24:00     347.259        19.87 -0.008341  -0.006500 -0.001841   \n",
       "2021-12-14 10:25:00     347.000        19.87 -0.009081  -0.006500 -0.002581   \n",
       "2021-12-14 10:26:00     347.001        19.87 -0.009078  -0.006500 -0.002578   \n",
       "2021-12-14 10:27:00     346.896        19.86 -0.009378  -0.007000 -0.002378   \n",
       "2021-12-14 10:28:00     346.681        19.85 -0.009992  -0.007500 -0.002492   \n",
       "2021-12-14 10:29:00     346.553        19.86 -0.010358  -0.007000 -0.003358   \n",
       "2021-12-14 10:30:00     346.200        19.85 -0.011366  -0.007500 -0.003866   \n",
       "2021-12-14 10:31:00     345.466        19.81 -0.013462  -0.009500 -0.003962   \n",
       "2021-12-14 10:32:00     345.245        19.80 -0.014093  -0.010000 -0.004093   \n",
       "2021-12-14 10:33:00     344.510        19.83 -0.016192  -0.008500 -0.007692   \n",
       "2021-12-14 10:34:00     344.076        19.84 -0.017431  -0.008000 -0.009431   \n",
       "2021-12-14 10:35:00     344.007        19.84 -0.017628  -0.008000 -0.009628   \n",
       "2021-12-14 10:36:00     342.722        19.80 -0.021298  -0.010000 -0.011298   \n",
       "2021-12-14 10:37:00     342.500        19.81 -0.021932  -0.009500 -0.012432   \n",
       "2021-12-14 10:38:00     342.720        19.79 -0.021303  -0.010500 -0.010803   \n",
       "2021-12-14 10:39:00     343.056        19.79 -0.020344  -0.010500 -0.009844   \n",
       "2021-12-14 10:40:00     344.131        19.80 -0.017274  -0.010000 -0.007274   \n",
       "2021-12-14 10:41:00     343.211        19.82 -0.019901  -0.009000 -0.010901   \n",
       "2021-12-14 10:42:00     342.784        19.80 -0.021121  -0.010000 -0.011121   \n",
       "2021-12-14 10:43:00     342.612        19.81 -0.021612  -0.009500 -0.012112   \n",
       "2021-12-14 10:44:00     342.939        19.79 -0.020678  -0.010500 -0.010178   \n",
       "2021-12-14 10:45:00     342.720        19.80 -0.021303  -0.010000 -0.011303   \n",
       "2021-12-14 10:46:00     343.199        19.82 -0.019935  -0.009000 -0.010935   \n",
       "2021-12-14 10:47:00     343.900        19.80 -0.017934  -0.010000 -0.007934   \n",
       "2021-12-14 10:48:00     342.710        19.80 -0.021332  -0.010000 -0.011332   \n",
       "2021-12-14 10:49:00     342.014        19.74 -0.023319  -0.013000 -0.010319   \n",
       "2021-12-14 10:50:00     341.673        19.75 -0.024293  -0.012500 -0.011793   \n",
       "2021-12-14 10:51:00     341.799        19.74 -0.023933  -0.013000 -0.010933   \n",
       "2021-12-14 10:52:00     342.156        19.75 -0.022914  -0.012500 -0.010414   \n",
       "2021-12-14 10:53:00     342.030        19.74 -0.023274  -0.013000 -0.010274   \n",
       "2021-12-14 10:54:00     342.802        19.78 -0.021069  -0.011000 -0.010069   \n",
       "2021-12-14 10:55:00     342.806        19.78 -0.021058  -0.011000 -0.010058   \n",
       "2021-12-14 10:56:00     341.969        19.77 -0.023448  -0.011500 -0.011948   \n",
       "2021-12-14 10:57:00     342.000        19.78 -0.023359  -0.011000 -0.012359   \n",
       "2021-12-14 10:58:00     342.060        19.76 -0.023188  -0.012000 -0.011188   \n",
       "2021-12-14 10:59:00     341.411        19.74 -0.025041  -0.013000 -0.012041   \n",
       "2021-12-14 11:00:00     340.999        19.72 -0.026218  -0.014000 -0.012218   \n",
       "2021-12-14 11:01:00     341.006        19.72 -0.026198  -0.014000 -0.012198   \n",
       "2021-12-14 11:02:00     341.046        19.73 -0.026084  -0.013500 -0.012584   \n",
       "2021-12-14 11:03:00     341.277        19.73 -0.025424  -0.013500 -0.011924   \n",
       "2021-12-14 11:04:00     341.092        19.73 -0.025952  -0.013500 -0.012452   \n",
       "2021-12-14 11:05:00     341.600        19.74 -0.024502  -0.013000 -0.011502   \n",
       "2021-12-14 11:06:00     341.341        19.75 -0.025241  -0.012500 -0.012741   \n",
       "2021-12-14 11:07:00     341.624        19.76 -0.024433  -0.012000 -0.012433   \n",
       "2021-12-14 11:08:00     341.958        19.78 -0.023479  -0.011000 -0.012479   \n",
       "2021-12-14 11:09:00     341.930        19.79 -0.023559  -0.010500 -0.013059   \n",
       "2021-12-14 11:10:00     341.993        19.78 -0.023379  -0.011000 -0.012379   \n",
       "2021-12-14 11:11:00     342.400        19.78 -0.022217  -0.011000 -0.011217   \n",
       "2021-12-14 11:12:00     343.000        19.84 -0.020504  -0.008000 -0.012504   \n",
       "2021-12-14 11:13:00     342.823        19.85 -0.021009  -0.007500 -0.013509   \n",
       "2021-12-14 11:14:00     342.719        19.87 -0.021306  -0.006500 -0.014806   \n",
       "2021-12-14 11:15:00     343.000        19.89 -0.020504  -0.005500 -0.015004   \n",
       "2021-12-14 11:16:00     342.381        19.88 -0.022271  -0.006000 -0.016271   \n",
       "2021-12-14 11:17:00     342.214        19.85 -0.022748  -0.007500 -0.015248   \n",
       "2021-12-14 11:18:00     341.881        19.84 -0.023699  -0.008000 -0.015699   \n",
       "2021-12-14 11:19:00     342.100        19.85 -0.023074  -0.007500 -0.015574   \n",
       "2021-12-14 11:20:00     342.150        19.85 -0.022931  -0.007500 -0.015431   \n",
       "2021-12-14 11:21:00     342.498        19.87 -0.021937  -0.006500 -0.015437   \n",
       "2021-12-14 11:22:00     342.500        19.87 -0.021932  -0.006500 -0.015432   \n",
       "2021-12-14 11:23:00     342.773        19.88 -0.021152  -0.006000 -0.015152   \n",
       "2021-12-14 11:24:00     342.997        19.89 -0.020512  -0.005500 -0.015012   \n",
       "2021-12-14 11:25:00     342.401        19.89 -0.022214  -0.005500 -0.016714   \n",
       "2021-12-14 11:26:00     342.777        19.91 -0.021141  -0.004500 -0.016641   \n",
       "2021-12-14 11:27:00     343.116        19.90 -0.020172  -0.005000 -0.015172   \n",
       "2021-12-14 11:28:00     343.114        19.90 -0.020178  -0.005000 -0.015178   \n",
       "2021-12-14 11:29:00     342.705        19.91 -0.021346  -0.004500 -0.016846   \n",
       "2021-12-14 13:00:00     341.903        19.87 -0.023636  -0.006500 -0.017136   \n",
       "2021-12-14 13:01:00     342.963        19.92 -0.020609  -0.004000 -0.016609   \n",
       "2021-12-14 13:02:00     341.831        19.87 -0.023842  -0.006500 -0.017342   \n",
       "2021-12-14 13:03:00     341.837        19.87 -0.023825  -0.006500 -0.017325   \n",
       "2021-12-14 13:04:00     341.840        19.86 -0.023816  -0.007000 -0.016816   \n",
       "2021-12-14 13:05:00     342.059        19.85 -0.023191  -0.007500 -0.015691   \n",
       "2021-12-14 13:06:00     341.671        19.83 -0.024299  -0.008500 -0.015799   \n",
       "2021-12-14 13:07:00     341.500        19.85 -0.024787  -0.007500 -0.017287   \n",
       "2021-12-14 13:09:00     342.009        19.82 -0.023334  -0.009000 -0.014334   \n",
       "2021-12-14 13:10:00     341.916        19.84 -0.023599  -0.008000 -0.015599   \n",
       "2021-12-14 13:11:00     342.100        19.86 -0.023074  -0.007000 -0.016074   \n",
       "2021-12-14 13:12:00     342.351        19.84 -0.022357  -0.008000 -0.014357   \n",
       "2021-12-14 13:13:00     342.246        19.83 -0.022657  -0.008500 -0.014157   \n",
       "2021-12-14 13:14:00     341.882        19.85 -0.023696  -0.007500 -0.016196   \n",
       "2021-12-14 13:15:00     341.900        19.84 -0.023645  -0.008000 -0.015645   \n",
       "2021-12-14 13:16:00     341.822        19.82 -0.023868  -0.009000 -0.014868   \n",
       "2021-12-14 13:17:00     341.601        19.83 -0.024499  -0.008500 -0.015999   \n",
       "2021-12-14 13:18:00     341.620        19.84 -0.024445  -0.008000 -0.016445   \n",
       "2021-12-14 13:19:00     341.617        19.81 -0.024453  -0.009500 -0.014953   \n",
       "2021-12-14 13:20:00     341.620        19.81 -0.024445  -0.009500 -0.014945   \n",
       "2021-12-14 13:21:00     341.610        19.81 -0.024473  -0.009500 -0.014973   \n",
       "2021-12-14 13:22:00     341.601        19.80 -0.024499  -0.010000 -0.014499   \n",
       "2021-12-14 13:23:00     341.600        19.81 -0.024502  -0.009500 -0.015002   \n",
       "2021-12-14 13:24:00     341.805        19.81 -0.023916  -0.009500 -0.014416   \n",
       "2021-12-14 13:25:00     341.585        19.79 -0.024545  -0.010500 -0.014045   \n",
       "2021-12-14 13:26:00     341.590        19.80 -0.024530  -0.010000 -0.014530   \n",
       "2021-12-14 13:27:00     341.510        19.79 -0.024759  -0.010500 -0.014259   \n",
       "2021-12-14 13:28:00     341.510        19.78 -0.024759  -0.011000 -0.013759   \n",
       "2021-12-14 13:29:00     341.510        19.78 -0.024759  -0.011000 -0.013759   \n",
       "2021-12-14 13:30:00     341.880        19.79 -0.023702  -0.010500 -0.013202   \n",
       "2021-12-14 13:31:00     342.200        19.79 -0.022788  -0.010500 -0.012288   \n",
       "2021-12-14 13:32:00     342.578        19.82 -0.021709  -0.009000 -0.012709   \n",
       "2021-12-14 13:33:00     342.200        19.84 -0.022788  -0.008000 -0.014788   \n",
       "2021-12-14 13:34:00     342.101        19.87 -0.023071  -0.006500 -0.016571   \n",
       "2021-12-14 13:35:00     342.461        19.88 -0.022043  -0.006000 -0.016043   \n",
       "2021-12-14 13:36:00     344.570        19.95 -0.016020  -0.002500 -0.013520   \n",
       "2021-12-14 13:37:00     344.486        19.96 -0.016260  -0.002000 -0.014260   \n",
       "2021-12-14 13:38:00     344.200        19.98 -0.017077  -0.001000 -0.016077   \n",
       "2021-12-14 13:39:00     344.530        20.00 -0.016135   0.000000 -0.016135   \n",
       "2021-12-14 13:40:00     345.048        20.08 -0.014655   0.004000 -0.018655   \n",
       "2021-12-14 13:41:00     345.200        20.04 -0.014221   0.002000 -0.016221   \n",
       "2021-12-14 13:42:00     344.732        20.05 -0.015558   0.002500 -0.018058   \n",
       "2021-12-14 13:43:00     344.500        20.03 -0.016220   0.001500 -0.017720   \n",
       "2021-12-14 13:44:00     344.903        20.05 -0.015069   0.002500 -0.017569   \n",
       "2021-12-14 13:45:00     345.190        20.10 -0.014250   0.005000 -0.019250   \n",
       "2021-12-14 13:46:00     345.511        20.10 -0.013333   0.005000 -0.018333   \n",
       "2021-12-14 13:47:00     345.520        20.12 -0.013307   0.006000 -0.019307   \n",
       "2021-12-14 13:48:00     345.300        20.08 -0.013936   0.004000 -0.017936   \n",
       "2021-12-14 13:49:00     345.687        20.12 -0.012831   0.006000 -0.018831   \n",
       "2021-12-14 13:50:00     345.255        20.14 -0.014064   0.007000 -0.021064   \n",
       "2021-12-14 13:51:00     346.627        20.14 -0.010146   0.007000 -0.017146   \n",
       "2021-12-14 13:52:00     345.669        20.09 -0.012882   0.004500 -0.017382   \n",
       "2021-12-14 13:53:00     344.574        20.06 -0.016009   0.003000 -0.019009   \n",
       "2021-12-14 13:54:00     345.024        20.07 -0.014724   0.003500 -0.018224   \n",
       "2021-12-14 13:55:00     344.979        20.08 -0.014852   0.004000 -0.018852   \n",
       "2021-12-14 13:56:00     344.616        20.08 -0.015889   0.004000 -0.019889   \n",
       "2021-12-14 13:57:00     344.475        20.09 -0.016292   0.004500 -0.020792   \n",
       "2021-12-14 13:58:00     344.886        20.08 -0.015118   0.004000 -0.019118   \n",
       "2021-12-14 13:59:00     344.291        20.06 -0.016817   0.003000 -0.019817   \n",
       "2021-12-14 14:00:00     345.417        20.10 -0.013602   0.005000 -0.018602   \n",
       "2021-12-14 14:01:00     345.350        20.10 -0.013793   0.005000 -0.018793   \n",
       "2021-12-14 14:02:00     344.250        20.05 -0.016934   0.002500 -0.019434   \n",
       "2021-12-14 14:03:00     344.089        20.06 -0.017394   0.003000 -0.020394   \n",
       "2021-12-14 14:04:00     344.117        20.06 -0.017314   0.003000 -0.020314   \n",
       "2021-12-14 14:05:00     344.566        20.03 -0.016032   0.001500 -0.017532   \n",
       "2021-12-14 14:07:00     343.801        20.02 -0.018216   0.001000 -0.019216   \n",
       "2021-12-14 14:08:00     343.805        20.02 -0.018205   0.001000 -0.019205   \n",
       "2021-12-14 14:09:00     343.809        20.00 -0.018194   0.000000 -0.018194   \n",
       "2021-12-14 14:10:00     344.000        20.01 -0.017648   0.000500 -0.018148   \n",
       "2021-12-14 14:11:00     343.538        20.00 -0.018967   0.000000 -0.018967   \n",
       "2021-12-14 14:12:00     343.942        20.01 -0.017814   0.000500 -0.018314   \n",
       "2021-12-14 14:13:00     343.550        20.03 -0.018933   0.001500 -0.020433   \n",
       "2021-12-14 14:14:00     343.700        20.01 -0.018505   0.000500 -0.019005   \n",
       "2021-12-14 14:15:00     343.712        20.01 -0.018471   0.000500 -0.018971   \n",
       "2021-12-14 14:16:00     343.410        19.96 -0.019333  -0.002000 -0.017333   \n",
       "2021-12-14 14:17:00     343.072        19.96 -0.020298  -0.002000 -0.018298   \n",
       "2021-12-14 14:18:00     343.075        19.98 -0.020290  -0.001000 -0.019290   \n",
       "2021-12-14 14:19:00     342.505        19.96 -0.021917  -0.002000 -0.019917   \n",
       "2021-12-14 14:20:00     343.100        19.95 -0.020218  -0.002500 -0.017718   \n",
       "2021-12-14 14:21:00     343.658        19.96 -0.018625  -0.002000 -0.016625   \n",
       "2021-12-14 14:22:00     343.700        19.96 -0.018505  -0.002000 -0.016505   \n",
       "2021-12-14 14:23:00     344.306        20.00 -0.016774   0.000000 -0.016774   \n",
       "2021-12-14 14:24:00     344.365        19.98 -0.016606  -0.001000 -0.015606   \n",
       "2021-12-14 14:26:00     344.059        19.97 -0.017480  -0.001500 -0.015980   \n",
       "2021-12-14 14:27:00     344.487        19.96 -0.016257  -0.002000 -0.014257   \n",
       "2021-12-14 14:28:00     344.579        19.95 -0.015995  -0.002500 -0.013495   \n",
       "2021-12-14 14:29:00     344.352        19.95 -0.016643  -0.002500 -0.014143   \n",
       "2021-12-14 14:30:00     344.370        19.96 -0.016591  -0.002000 -0.014591   \n",
       "2021-12-14 14:31:00     344.370        19.95 -0.016591  -0.002500 -0.014091   \n",
       "2021-12-14 14:32:00     343.957        19.93 -0.017771  -0.003500 -0.014271   \n",
       "2021-12-14 14:33:00     343.507        19.95 -0.019056  -0.002500 -0.016556   \n",
       "2021-12-14 14:34:00     343.219        19.91 -0.019878  -0.004500 -0.015378   \n",
       "2021-12-14 14:35:00     344.115        19.89 -0.017320  -0.005500 -0.011820   \n",
       "2021-12-14 14:36:00     343.900        19.88 -0.017934  -0.006000 -0.011934   \n",
       "2021-12-14 14:37:00     343.869        19.87 -0.018022  -0.006500 -0.011522   \n",
       "2021-12-14 14:38:00     343.750        19.86 -0.018362  -0.007000 -0.011362   \n",
       "2021-12-14 14:39:00     343.365        19.86 -0.019461  -0.007000 -0.012461   \n",
       "2021-12-14 14:40:00     343.965        19.86 -0.017748  -0.007000 -0.010748   \n",
       "2021-12-14 14:41:00     344.088        19.88 -0.017397  -0.006000 -0.011397   \n",
       "2021-12-14 14:42:00     343.990        19.87 -0.017677  -0.006500 -0.011177   \n",
       "2021-12-14 14:43:00     343.289        19.84 -0.019678  -0.008000 -0.011678   \n",
       "2021-12-14 14:44:00     343.935        19.86 -0.017834  -0.007000 -0.010834   \n",
       "2021-12-14 14:45:00     343.830        19.86 -0.018134  -0.007000 -0.011134   \n",
       "2021-12-14 14:46:00     343.996        19.87 -0.017659  -0.006500 -0.011159   \n",
       "2021-12-14 14:47:00     343.982        19.86 -0.017699  -0.007000 -0.010699   \n",
       "2021-12-14 14:48:00     343.504        19.86 -0.019064  -0.007000 -0.012064   \n",
       "2021-12-14 14:49:00     343.782        19.85 -0.018271  -0.007500 -0.010771   \n",
       "2021-12-14 14:50:00     344.997        19.92 -0.014801  -0.004000 -0.010801   \n",
       "2021-12-14 14:51:00     344.137        19.90 -0.017257  -0.005000 -0.012257   \n",
       "2021-12-14 14:52:00     344.370        19.90 -0.016591  -0.005000 -0.011591   \n",
       "2021-12-14 14:53:00     344.370        19.86 -0.016591  -0.007000 -0.009591   \n",
       "2021-12-14 14:54:00     344.500        19.84 -0.016220  -0.008000 -0.008220   \n",
       "2021-12-14 14:55:00     344.500        19.90 -0.016220  -0.005000 -0.011220   \n",
       "2021-12-14 14:56:00     343.600        19.86 -0.018790  -0.007000 -0.011790   \n",
       "2021-12-14 15:00:00     344.500        19.87 -0.016220  -0.006500 -0.009720   \n",
       "2021-12-15 09:30:00     344.241        19.96 -0.000752   0.004529 -0.005281   \n",
       "2021-12-15 09:31:00     343.421        19.93 -0.003132   0.003020 -0.006152   \n",
       "2021-12-15 09:32:00     341.140        19.92 -0.009753   0.002516 -0.012270   \n",
       "2021-12-15 09:33:00     341.902        19.95 -0.007541   0.004026 -0.011568   \n",
       "2021-12-15 09:34:00     342.652        20.01 -0.005364   0.007046 -0.012410   \n",
       "2021-12-15 09:35:00     343.282        20.05 -0.003536   0.009059 -0.012594   \n",
       "2021-12-15 09:36:00     342.854        20.01 -0.004778   0.007046 -0.011824   \n",
       "2021-12-15 09:37:00     341.900        19.98 -0.007547   0.005536 -0.013083   \n",
       "2021-12-15 09:38:00     341.146        19.97 -0.009736   0.005033 -0.014769   \n",
       "2021-12-15 09:39:00     341.297        19.94 -0.009298   0.003523 -0.012820   \n",
       "2021-12-15 09:40:00     340.988        19.89 -0.010194   0.001007 -0.011201   \n",
       "2021-12-15 09:41:00     341.383        19.91 -0.009048   0.002013 -0.011061   \n",
       "2021-12-15 09:42:00     340.800        19.88 -0.010740   0.000503 -0.011243   \n",
       "2021-12-15 09:43:00     341.016        19.87 -0.010113   0.000000 -0.010113   \n",
       "2021-12-15 09:44:00     340.800        19.89 -0.010740   0.001007 -0.011747   \n",
       "2021-12-15 09:45:00     340.303        19.91 -0.012183   0.002013 -0.014196   \n",
       "2021-12-15 09:46:00     340.662        19.91 -0.011141   0.002013 -0.013154   \n",
       "2021-12-15 09:47:00     341.127        19.94 -0.009791   0.003523 -0.013314   \n",
       "2021-12-15 09:48:00     341.242        19.95 -0.009457   0.004026 -0.013483   \n",
       "2021-12-15 09:49:00     341.466        19.94 -0.008807   0.003523 -0.012330   \n",
       "2021-12-15 09:50:00     341.000        19.91 -0.010160   0.002013 -0.012173   \n",
       "2021-12-15 09:51:00     341.660        19.96 -0.008244   0.004529 -0.012773   \n",
       "2021-12-15 09:52:00     342.256        20.01 -0.006514   0.007046 -0.013560   \n",
       "2021-12-15 09:53:00     341.760        19.98 -0.007954   0.005536 -0.013490   \n",
       "2021-12-15 09:54:00     341.813        19.96 -0.007800   0.004529 -0.012329   \n",
       "2021-12-15 09:55:00     341.600        19.97 -0.008418   0.005033 -0.013451   \n",
       "2021-12-15 09:56:00     341.600        19.97 -0.008418   0.005033 -0.013451   \n",
       "2021-12-15 09:57:00     341.998        19.95 -0.007263   0.004026 -0.011289   \n",
       "2021-12-15 09:58:00     341.899        19.93 -0.007550   0.003020 -0.010570   \n",
       "2021-12-15 09:59:00     341.946        19.90 -0.007414   0.001510 -0.008923   \n",
       "2021-12-15 10:00:00     341.647        19.89 -0.008282   0.001007 -0.009288   \n",
       "2021-12-15 10:01:00     341.949        19.91 -0.007405   0.002013 -0.009418   \n",
       "2021-12-15 10:02:00     341.999        19.87 -0.007260   0.000000 -0.007260   \n",
       "2021-12-15 10:03:00     341.936        19.89 -0.007443   0.001007 -0.008449   \n",
       "2021-12-15 10:04:00     342.593        19.89 -0.005536   0.001007 -0.006542   \n",
       "2021-12-15 10:05:00     342.961        19.90 -0.004467   0.001510 -0.005977   \n",
       "2021-12-15 10:06:00     343.380        19.91 -0.003251   0.002013 -0.005264   \n",
       "2021-12-15 10:07:00     343.000        19.91 -0.004354   0.002013 -0.006367   \n",
       "2021-12-15 10:08:00     342.412        19.85 -0.006061  -0.001007 -0.005054   \n",
       "2021-12-15 10:09:00     342.794        19.87 -0.004952   0.000000 -0.004952   \n",
       "2021-12-15 10:10:00     343.000        19.90 -0.004354   0.001510 -0.005864   \n",
       "2021-12-15 10:11:00     343.100        19.89 -0.004064   0.001007 -0.005070   \n",
       "2021-12-15 10:12:00     342.618        19.88 -0.005463   0.000503 -0.005966   \n",
       "2021-12-15 10:13:00     342.780        19.85 -0.004993  -0.001007 -0.003986   \n",
       "2021-12-15 10:14:00     342.520        19.85 -0.005747  -0.001007 -0.004741   \n",
       "2021-12-15 10:15:00     342.200        19.83 -0.006676  -0.002013 -0.004663   \n",
       "2021-12-15 10:16:00     342.016        19.83 -0.007210  -0.002013 -0.005197   \n",
       "2021-12-15 10:17:00     342.000        19.84 -0.007257  -0.001510 -0.005747   \n",
       "2021-12-15 10:18:00     341.645        19.83 -0.008287  -0.002013 -0.006274   \n",
       "2021-12-15 10:19:00     341.120        19.82 -0.009811  -0.002516 -0.007295   \n",
       "2021-12-15 10:21:00     341.181        19.84 -0.009634  -0.001510 -0.008124   \n",
       "2021-12-15 10:22:00     341.547        19.88 -0.008572   0.000503 -0.009075   \n",
       "2021-12-15 10:23:00     341.640        19.87 -0.008302   0.000000 -0.008302   \n",
       "2021-12-15 10:24:00     342.204        19.88 -0.006665   0.000503 -0.007168   \n",
       "2021-12-15 10:25:00     342.240        19.92 -0.006560   0.002516 -0.009077   \n",
       "2021-12-15 10:26:00     342.001        19.92 -0.007254   0.002516 -0.009770   \n",
       "2021-12-15 10:27:00     342.000        19.91 -0.007257   0.002013 -0.009270   \n",
       "2021-12-15 10:28:00     341.999        19.89 -0.007260   0.001007 -0.008266   \n",
       "2021-12-15 10:29:00     342.000        19.91 -0.007257   0.002013 -0.009270   \n",
       "2021-12-15 10:30:00     341.999        19.90 -0.007260   0.001510 -0.008770   \n",
       "2021-12-15 10:31:00     341.874        19.89 -0.007623   0.001007 -0.008629   \n",
       "2021-12-15 10:32:00     341.400        19.88 -0.008999   0.000503 -0.009502   \n",
       "2021-12-15 10:33:00     341.410        19.88 -0.008970   0.000503 -0.009473   \n",
       "2021-12-15 10:34:00     341.658        19.86 -0.008250  -0.000503 -0.007746   \n",
       "\n",
       "                     bond_pos0.005@0  stock_pos  bond_pos0.015@0  stock_pos  \n",
       "2021-12-13 15:00:00              0.0        0.0              0.0        0.0  \n",
       "2021-12-14 09:30:00             -1.0        1.0              0.0        0.0  \n",
       "2021-12-14 09:31:00             -1.0        1.0              0.0        0.0  \n",
       "2021-12-14 09:32:00             -1.0        1.0              0.0        0.0  \n",
       "2021-12-14 09:33:00             -1.0        1.0              0.0        0.0  \n",
       "2021-12-14 09:34:00              1.0       -1.0              0.0        0.0  \n",
       "2021-12-14 09:35:00              1.0       -1.0              0.0        0.0  \n",
       "2021-12-14 09:36:00              1.0       -1.0              0.0        0.0  \n",
       "2021-12-14 09:37:00              1.0       -1.0              0.0        0.0  \n",
       "2021-12-14 09:38:00              0.0        0.0              0.0        0.0  \n",
       "2021-12-14 09:39:00              0.0        0.0              0.0        0.0  \n",
       "2021-12-14 09:40:00              0.0        0.0              0.0        0.0  \n",
       "2021-12-14 09:41:00              0.0        0.0              0.0        0.0  \n",
       "2021-12-14 09:42:00              0.0        0.0              0.0        0.0  \n",
       "2021-12-14 09:43:00              1.0       -1.0              0.0        0.0  \n",
       "2021-12-14 09:44:00              1.0       -1.0              0.0        0.0  \n",
       "2021-12-14 09:45:00              1.0       -1.0              0.0        0.0  \n",
       "2021-12-14 09:46:00              1.0       -1.0              0.0        0.0  \n",
       "2021-12-14 09:47:00              1.0       -1.0              0.0        0.0  \n",
       "2021-12-14 09:48:00              1.0       -1.0              0.0        0.0  \n",
       "2021-12-14 09:49:00              1.0       -1.0              0.0        0.0  \n",
       "2021-12-14 09:50:00              1.0       -1.0              0.0        0.0  \n",
       "2021-12-14 09:51:00              1.0       -1.0              0.0        0.0  \n",
       "2021-12-14 09:52:00              1.0       -1.0              0.0        0.0  \n",
       "2021-12-14 09:53:00              1.0       -1.0              0.0        0.0  \n",
       "2021-12-14 09:54:00              1.0       -1.0              0.0        0.0  \n",
       "2021-12-14 09:55:00              1.0       -1.0              0.0        0.0  \n",
       "2021-12-14 09:56:00              1.0       -1.0              0.0        0.0  \n",
       "2021-12-14 09:57:00              1.0       -1.0              0.0        0.0  \n",
       "2021-12-14 09:58:00              1.0       -1.0              0.0        0.0  \n",
       "2021-12-14 09:59:00              1.0       -1.0              0.0        0.0  \n",
       "2021-12-14 10:00:00              1.0       -1.0              0.0        0.0  \n",
       "2021-12-14 10:01:00              1.0       -1.0              0.0        0.0  \n",
       "2021-12-14 10:02:00              1.0       -1.0              0.0        0.0  \n",
       "2021-12-14 10:03:00              1.0       -1.0              0.0        0.0  \n",
       "2021-12-14 10:04:00              1.0       -1.0              0.0        0.0  \n",
       "2021-12-14 10:05:00              1.0       -1.0              0.0        0.0  \n",
       "2021-12-14 10:06:00              1.0       -1.0              0.0        0.0  \n",
       "2021-12-14 10:07:00              1.0       -1.0              0.0        0.0  \n",
       "2021-12-14 10:08:00              1.0       -1.0              0.0        0.0  \n",
       "2021-12-14 10:09:00              1.0       -1.0              0.0        0.0  \n",
       "2021-12-14 10:10:00              1.0       -1.0              0.0        0.0  \n",
       "2021-12-14 10:11:00              1.0       -1.0              0.0        0.0  \n",
       "2021-12-14 10:12:00              1.0       -1.0              0.0        0.0  \n",
       "2021-12-14 10:13:00              1.0       -1.0              0.0        0.0  \n",
       "2021-12-14 10:14:00              1.0       -1.0              0.0        0.0  \n",
       "2021-12-14 10:15:00              1.0       -1.0              0.0        0.0  \n",
       "2021-12-14 10:16:00              1.0       -1.0              0.0        0.0  \n",
       "2021-12-14 10:17:00              1.0       -1.0              0.0        0.0  \n",
       "2021-12-14 10:18:00              1.0       -1.0              0.0        0.0  \n",
       "2021-12-14 10:19:00              1.0       -1.0              0.0        0.0  \n",
       "2021-12-14 10:20:00              1.0       -1.0              0.0        0.0  \n",
       "2021-12-14 10:21:00              1.0       -1.0              0.0        0.0  \n",
       "2021-12-14 10:22:00              1.0       -1.0              0.0        0.0  \n",
       "2021-12-14 10:23:00              1.0       -1.0              0.0        0.0  \n",
       "2021-12-14 10:24:00              1.0       -1.0              0.0        0.0  \n",
       "2021-12-14 10:25:00              1.0       -1.0              0.0        0.0  \n",
       "2021-12-14 10:26:00              1.0       -1.0              0.0        0.0  \n",
       "2021-12-14 10:27:00              1.0       -1.0              0.0        0.0  \n",
       "2021-12-14 10:28:00              1.0       -1.0              0.0        0.0  \n",
       "2021-12-14 10:29:00              1.0       -1.0              0.0        0.0  \n",
       "2021-12-14 10:30:00              1.0       -1.0              0.0        0.0  \n",
       "2021-12-14 10:31:00              1.0       -1.0              0.0        0.0  \n",
       "2021-12-14 10:32:00              1.0       -1.0              0.0        0.0  \n",
       "2021-12-14 10:33:00              1.0       -1.0              0.0        0.0  \n",
       "2021-12-14 10:34:00              1.0       -1.0              0.0        0.0  \n",
       "2021-12-14 10:35:00              1.0       -1.0              0.0        0.0  \n",
       "2021-12-14 10:36:00              1.0       -1.0              0.0        0.0  \n",
       "2021-12-14 10:37:00              1.0       -1.0              0.0        0.0  \n",
       "2021-12-14 10:38:00              1.0       -1.0              0.0        0.0  \n",
       "2021-12-14 10:39:00              1.0       -1.0              0.0        0.0  \n",
       "2021-12-14 10:40:00              1.0       -1.0              0.0        0.0  \n",
       "2021-12-14 10:41:00              1.0       -1.0              0.0        0.0  \n",
       "2021-12-14 10:42:00              1.0       -1.0              0.0        0.0  \n",
       "2021-12-14 10:43:00              1.0       -1.0              0.0        0.0  \n",
       "2021-12-14 10:44:00              1.0       -1.0              0.0        0.0  \n",
       "2021-12-14 10:45:00              1.0       -1.0              0.0        0.0  \n",
       "2021-12-14 10:46:00              1.0       -1.0              0.0        0.0  \n",
       "2021-12-14 10:47:00              1.0       -1.0              0.0        0.0  \n",
       "2021-12-14 10:48:00              1.0       -1.0              0.0        0.0  \n",
       "2021-12-14 10:49:00              1.0       -1.0              0.0        0.0  \n",
       "2021-12-14 10:50:00              1.0       -1.0              0.0        0.0  \n",
       "2021-12-14 10:51:00              1.0       -1.0              0.0        0.0  \n",
       "2021-12-14 10:52:00              1.0       -1.0              0.0        0.0  \n",
       "2021-12-14 10:53:00              1.0       -1.0              0.0        0.0  \n",
       "2021-12-14 10:54:00              1.0       -1.0              0.0        0.0  \n",
       "2021-12-14 10:55:00              1.0       -1.0              0.0        0.0  \n",
       "2021-12-14 10:56:00              1.0       -1.0              0.0        0.0  \n",
       "2021-12-14 10:57:00              1.0       -1.0              0.0        0.0  \n",
       "2021-12-14 10:58:00              1.0       -1.0              0.0        0.0  \n",
       "2021-12-14 10:59:00              1.0       -1.0              0.0        0.0  \n",
       "2021-12-14 11:00:00              1.0       -1.0              0.0        0.0  \n",
       "2021-12-14 11:01:00              1.0       -1.0              0.0        0.0  \n",
       "2021-12-14 11:02:00              1.0       -1.0              0.0        0.0  \n",
       "2021-12-14 11:03:00              1.0       -1.0              0.0        0.0  \n",
       "2021-12-14 11:04:00              1.0       -1.0              0.0        0.0  \n",
       "2021-12-14 11:05:00              1.0       -1.0              0.0        0.0  \n",
       "2021-12-14 11:06:00              1.0       -1.0              0.0        0.0  \n",
       "2021-12-14 11:07:00              1.0       -1.0              0.0        0.0  \n",
       "2021-12-14 11:08:00              1.0       -1.0              0.0        0.0  \n",
       "2021-12-14 11:09:00              1.0       -1.0              0.0        0.0  \n",
       "2021-12-14 11:10:00              1.0       -1.0              0.0        0.0  \n",
       "2021-12-14 11:11:00              1.0       -1.0              0.0        0.0  \n",
       "2021-12-14 11:12:00              1.0       -1.0              0.0        0.0  \n",
       "2021-12-14 11:13:00              1.0       -1.0              0.0        0.0  \n",
       "2021-12-14 11:14:00              1.0       -1.0              0.0        0.0  \n",
       "2021-12-14 11:15:00              1.0       -1.0              1.0       -1.0  \n",
       "2021-12-14 11:16:00              1.0       -1.0              1.0       -1.0  \n",
       "2021-12-14 11:17:00              1.0       -1.0              1.0       -1.0  \n",
       "2021-12-14 11:18:00              1.0       -1.0              1.0       -1.0  \n",
       "2021-12-14 11:19:00              1.0       -1.0              1.0       -1.0  \n",
       "2021-12-14 11:20:00              1.0       -1.0              1.0       -1.0  \n",
       "2021-12-14 11:21:00              1.0       -1.0              1.0       -1.0  \n",
       "2021-12-14 11:22:00              1.0       -1.0              1.0       -1.0  \n",
       "2021-12-14 11:23:00              1.0       -1.0              1.0       -1.0  \n",
       "2021-12-14 11:24:00              1.0       -1.0              1.0       -1.0  \n",
       "2021-12-14 11:25:00              1.0       -1.0              1.0       -1.0  \n",
       "2021-12-14 11:26:00              1.0       -1.0              1.0       -1.0  \n",
       "2021-12-14 11:27:00              1.0       -1.0              1.0       -1.0  \n",
       "2021-12-14 11:28:00              1.0       -1.0              1.0       -1.0  \n",
       "2021-12-14 11:29:00              1.0       -1.0              1.0       -1.0  \n",
       "2021-12-14 13:00:00              1.0       -1.0              1.0       -1.0  \n",
       "2021-12-14 13:01:00              1.0       -1.0              1.0       -1.0  \n",
       "2021-12-14 13:02:00              1.0       -1.0              1.0       -1.0  \n",
       "2021-12-14 13:03:00              1.0       -1.0              1.0       -1.0  \n",
       "2021-12-14 13:04:00              1.0       -1.0              1.0       -1.0  \n",
       "2021-12-14 13:05:00              1.0       -1.0              1.0       -1.0  \n",
       "2021-12-14 13:06:00              1.0       -1.0              1.0       -1.0  \n",
       "2021-12-14 13:07:00              1.0       -1.0              1.0       -1.0  \n",
       "2021-12-14 13:09:00              1.0       -1.0              1.0       -1.0  \n",
       "2021-12-14 13:10:00              1.0       -1.0              1.0       -1.0  \n",
       "2021-12-14 13:11:00              1.0       -1.0              1.0       -1.0  \n",
       "2021-12-14 13:12:00              1.0       -1.0              1.0       -1.0  \n",
       "2021-12-14 13:13:00              1.0       -1.0              1.0       -1.0  \n",
       "2021-12-14 13:14:00              1.0       -1.0              1.0       -1.0  \n",
       "2021-12-14 13:15:00              1.0       -1.0              1.0       -1.0  \n",
       "2021-12-14 13:16:00              1.0       -1.0              1.0       -1.0  \n",
       "2021-12-14 13:17:00              1.0       -1.0              1.0       -1.0  \n",
       "2021-12-14 13:18:00              1.0       -1.0              1.0       -1.0  \n",
       "2021-12-14 13:19:00              1.0       -1.0              1.0       -1.0  \n",
       "2021-12-14 13:20:00              1.0       -1.0              1.0       -1.0  \n",
       "2021-12-14 13:21:00              1.0       -1.0              1.0       -1.0  \n",
       "2021-12-14 13:22:00              1.0       -1.0              1.0       -1.0  \n",
       "2021-12-14 13:23:00              1.0       -1.0              1.0       -1.0  \n",
       "2021-12-14 13:24:00              1.0       -1.0              1.0       -1.0  \n",
       "2021-12-14 13:25:00              1.0       -1.0              1.0       -1.0  \n",
       "2021-12-14 13:26:00              1.0       -1.0              1.0       -1.0  \n",
       "2021-12-14 13:27:00              1.0       -1.0              1.0       -1.0  \n",
       "2021-12-14 13:28:00              1.0       -1.0              1.0       -1.0  \n",
       "2021-12-14 13:29:00              1.0       -1.0              1.0       -1.0  \n",
       "2021-12-14 13:30:00              1.0       -1.0              1.0       -1.0  \n",
       "2021-12-14 13:31:00              1.0       -1.0              1.0       -1.0  \n",
       "2021-12-14 13:32:00              1.0       -1.0              1.0       -1.0  \n",
       "2021-12-14 13:33:00              1.0       -1.0              1.0       -1.0  \n",
       "2021-12-14 13:34:00              1.0       -1.0              1.0       -1.0  \n",
       "2021-12-14 13:35:00              1.0       -1.0              1.0       -1.0  \n",
       "2021-12-14 13:36:00              1.0       -1.0              1.0       -1.0  \n",
       "2021-12-14 13:37:00              1.0       -1.0              1.0       -1.0  \n",
       "2021-12-14 13:38:00              1.0       -1.0              1.0       -1.0  \n",
       "2021-12-14 13:39:00              1.0       -1.0              1.0       -1.0  \n",
       "2021-12-14 13:40:00              1.0       -1.0              1.0       -1.0  \n",
       "2021-12-14 13:41:00              1.0       -1.0              1.0       -1.0  \n",
       "2021-12-14 13:42:00              1.0       -1.0              1.0       -1.0  \n",
       "2021-12-14 13:43:00              1.0       -1.0              1.0       -1.0  \n",
       "2021-12-14 13:44:00              1.0       -1.0              1.0       -1.0  \n",
       "2021-12-14 13:45:00              1.0       -1.0              1.0       -1.0  \n",
       "2021-12-14 13:46:00              1.0       -1.0              1.0       -1.0  \n",
       "2021-12-14 13:47:00              1.0       -1.0              1.0       -1.0  \n",
       "2021-12-14 13:48:00              1.0       -1.0              1.0       -1.0  \n",
       "2021-12-14 13:49:00              1.0       -1.0              1.0       -1.0  \n",
       "2021-12-14 13:50:00              1.0       -1.0              1.0       -1.0  \n",
       "2021-12-14 13:51:00              1.0       -1.0              1.0       -1.0  \n",
       "2021-12-14 13:52:00              1.0       -1.0              1.0       -1.0  \n",
       "2021-12-14 13:53:00              1.0       -1.0              1.0       -1.0  \n",
       "2021-12-14 13:54:00              1.0       -1.0              1.0       -1.0  \n",
       "2021-12-14 13:55:00              1.0       -1.0              1.0       -1.0  \n",
       "2021-12-14 13:56:00              1.0       -1.0              1.0       -1.0  \n",
       "2021-12-14 13:57:00              1.0       -1.0              1.0       -1.0  \n",
       "2021-12-14 13:58:00              1.0       -1.0              1.0       -1.0  \n",
       "2021-12-14 13:59:00              1.0       -1.0              1.0       -1.0  \n",
       "2021-12-14 14:00:00              1.0       -1.0              1.0       -1.0  \n",
       "2021-12-14 14:01:00              1.0       -1.0              1.0       -1.0  \n",
       "2021-12-14 14:02:00              1.0       -1.0              1.0       -1.0  \n",
       "2021-12-14 14:03:00              1.0       -1.0              1.0       -1.0  \n",
       "2021-12-14 14:04:00              1.0       -1.0              1.0       -1.0  \n",
       "2021-12-14 14:05:00              1.0       -1.0              1.0       -1.0  \n",
       "2021-12-14 14:07:00              1.0       -1.0              1.0       -1.0  \n",
       "2021-12-14 14:08:00              1.0       -1.0              1.0       -1.0  \n",
       "2021-12-14 14:09:00              1.0       -1.0              1.0       -1.0  \n",
       "2021-12-14 14:10:00              1.0       -1.0              1.0       -1.0  \n",
       "2021-12-14 14:11:00              1.0       -1.0              1.0       -1.0  \n",
       "2021-12-14 14:12:00              1.0       -1.0              1.0       -1.0  \n",
       "2021-12-14 14:13:00              1.0       -1.0              1.0       -1.0  \n",
       "2021-12-14 14:14:00              1.0       -1.0              1.0       -1.0  \n",
       "2021-12-14 14:15:00              1.0       -1.0              1.0       -1.0  \n",
       "2021-12-14 14:16:00              1.0       -1.0              1.0       -1.0  \n",
       "2021-12-14 14:17:00              1.0       -1.0              1.0       -1.0  \n",
       "2021-12-14 14:18:00              1.0       -1.0              1.0       -1.0  \n",
       "2021-12-14 14:19:00              1.0       -1.0              1.0       -1.0  \n",
       "2021-12-14 14:20:00              1.0       -1.0              1.0       -1.0  \n",
       "2021-12-14 14:21:00              1.0       -1.0              1.0       -1.0  \n",
       "2021-12-14 14:22:00              1.0       -1.0              1.0       -1.0  \n",
       "2021-12-14 14:23:00              1.0       -1.0              1.0       -1.0  \n",
       "2021-12-14 14:24:00              1.0       -1.0              1.0       -1.0  \n",
       "2021-12-14 14:26:00              1.0       -1.0              1.0       -1.0  \n",
       "2021-12-14 14:27:00              1.0       -1.0              1.0       -1.0  \n",
       "2021-12-14 14:28:00              1.0       -1.0              1.0       -1.0  \n",
       "2021-12-14 14:29:00              1.0       -1.0              1.0       -1.0  \n",
       "2021-12-14 14:30:00              1.0       -1.0              1.0       -1.0  \n",
       "2021-12-14 14:31:00              1.0       -1.0              1.0       -1.0  \n",
       "2021-12-14 14:32:00              1.0       -1.0              1.0       -1.0  \n",
       "2021-12-14 14:33:00              1.0       -1.0              1.0       -1.0  \n",
       "2021-12-14 14:34:00              1.0       -1.0              1.0       -1.0  \n",
       "2021-12-14 14:35:00              1.0       -1.0              1.0       -1.0  \n",
       "2021-12-14 14:36:00              1.0       -1.0              1.0       -1.0  \n",
       "2021-12-14 14:37:00              1.0       -1.0              1.0       -1.0  \n",
       "2021-12-14 14:38:00              1.0       -1.0              1.0       -1.0  \n",
       "2021-12-14 14:39:00              1.0       -1.0              1.0       -1.0  \n",
       "2021-12-14 14:40:00              1.0       -1.0              1.0       -1.0  \n",
       "2021-12-14 14:41:00              1.0       -1.0              1.0       -1.0  \n",
       "2021-12-14 14:42:00              1.0       -1.0              1.0       -1.0  \n",
       "2021-12-14 14:43:00              1.0       -1.0              1.0       -1.0  \n",
       "2021-12-14 14:44:00              1.0       -1.0              1.0       -1.0  \n",
       "2021-12-14 14:45:00              1.0       -1.0              1.0       -1.0  \n",
       "2021-12-14 14:46:00              1.0       -1.0              1.0       -1.0  \n",
       "2021-12-14 14:47:00              1.0       -1.0              1.0       -1.0  \n",
       "2021-12-14 14:48:00              1.0       -1.0              1.0       -1.0  \n",
       "2021-12-14 14:49:00              1.0       -1.0              1.0       -1.0  \n",
       "2021-12-14 14:50:00              1.0       -1.0              1.0       -1.0  \n",
       "2021-12-14 14:51:00              1.0       -1.0              1.0       -1.0  \n",
       "2021-12-14 14:52:00              1.0       -1.0              1.0       -1.0  \n",
       "2021-12-14 14:53:00              1.0       -1.0              1.0       -1.0  \n",
       "2021-12-14 14:54:00              1.0       -1.0              1.0       -1.0  \n",
       "2021-12-14 14:55:00              1.0       -1.0              1.0       -1.0  \n",
       "2021-12-14 14:56:00              1.0       -1.0              1.0       -1.0  \n",
       "2021-12-14 15:00:00              0.0        0.0              0.0        0.0  \n",
       "2021-12-15 09:30:00              1.0       -1.0              0.0        0.0  \n",
       "2021-12-15 09:31:00              1.0       -1.0              0.0        0.0  \n",
       "2021-12-15 09:32:00              1.0       -1.0              0.0        0.0  \n",
       "2021-12-15 09:33:00              1.0       -1.0              0.0        0.0  \n",
       "2021-12-15 09:34:00              1.0       -1.0              0.0        0.0  \n",
       "2021-12-15 09:35:00              1.0       -1.0              0.0        0.0  \n",
       "2021-12-15 09:36:00              1.0       -1.0              0.0        0.0  \n",
       "2021-12-15 09:37:00              1.0       -1.0              0.0        0.0  \n",
       "2021-12-15 09:38:00              1.0       -1.0              0.0        0.0  \n",
       "2021-12-15 09:39:00              1.0       -1.0              0.0        0.0  \n",
       "2021-12-15 09:40:00              1.0       -1.0              0.0        0.0  \n",
       "2021-12-15 09:41:00              1.0       -1.0              0.0        0.0  \n",
       "2021-12-15 09:42:00              1.0       -1.0              0.0        0.0  \n",
       "2021-12-15 09:43:00              1.0       -1.0              0.0        0.0  \n",
       "2021-12-15 09:44:00              1.0       -1.0              0.0        0.0  \n",
       "2021-12-15 09:45:00              1.0       -1.0              0.0        0.0  \n",
       "2021-12-15 09:46:00              1.0       -1.0              0.0        0.0  \n",
       "2021-12-15 09:47:00              1.0       -1.0              0.0        0.0  \n",
       "2021-12-15 09:48:00              1.0       -1.0              0.0        0.0  \n",
       "2021-12-15 09:49:00              1.0       -1.0              0.0        0.0  \n",
       "2021-12-15 09:50:00              1.0       -1.0              0.0        0.0  \n",
       "2021-12-15 09:51:00              1.0       -1.0              0.0        0.0  \n",
       "2021-12-15 09:52:00              1.0       -1.0              0.0        0.0  \n",
       "2021-12-15 09:53:00              1.0       -1.0              0.0        0.0  \n",
       "2021-12-15 09:54:00              1.0       -1.0              0.0        0.0  \n",
       "2021-12-15 09:55:00              1.0       -1.0              0.0        0.0  \n",
       "2021-12-15 09:56:00              1.0       -1.0              0.0        0.0  \n",
       "2021-12-15 09:57:00              1.0       -1.0              0.0        0.0  \n",
       "2021-12-15 09:58:00              1.0       -1.0              0.0        0.0  \n",
       "2021-12-15 09:59:00              1.0       -1.0              0.0        0.0  \n",
       "2021-12-15 10:00:00              1.0       -1.0              0.0        0.0  \n",
       "2021-12-15 10:01:00              1.0       -1.0              0.0        0.0  \n",
       "2021-12-15 10:02:00              1.0       -1.0              0.0        0.0  \n",
       "2021-12-15 10:03:00              1.0       -1.0              0.0        0.0  \n",
       "2021-12-15 10:04:00              1.0       -1.0              0.0        0.0  \n",
       "2021-12-15 10:05:00              1.0       -1.0              0.0        0.0  \n",
       "2021-12-15 10:06:00              1.0       -1.0              0.0        0.0  \n",
       "2021-12-15 10:07:00              1.0       -1.0              0.0        0.0  \n",
       "2021-12-15 10:08:00              1.0       -1.0              0.0        0.0  \n",
       "2021-12-15 10:09:00              1.0       -1.0              0.0        0.0  \n",
       "2021-12-15 10:10:00              1.0       -1.0              0.0        0.0  \n",
       "2021-12-15 10:11:00              1.0       -1.0              0.0        0.0  \n",
       "2021-12-15 10:12:00              1.0       -1.0              0.0        0.0  \n",
       "2021-12-15 10:13:00              1.0       -1.0              0.0        0.0  \n",
       "2021-12-15 10:14:00              1.0       -1.0              0.0        0.0  \n",
       "2021-12-15 10:15:00              1.0       -1.0              0.0        0.0  \n",
       "2021-12-15 10:16:00              1.0       -1.0              0.0        0.0  \n",
       "2021-12-15 10:17:00              1.0       -1.0              0.0        0.0  \n",
       "2021-12-15 10:18:00              1.0       -1.0              0.0        0.0  \n",
       "2021-12-15 10:19:00              1.0       -1.0              0.0        0.0  \n",
       "2021-12-15 10:21:00              1.0       -1.0              0.0        0.0  \n",
       "2021-12-15 10:22:00              1.0       -1.0              0.0        0.0  \n",
       "2021-12-15 10:23:00              1.0       -1.0              0.0        0.0  \n",
       "2021-12-15 10:24:00              1.0       -1.0              0.0        0.0  \n",
       "2021-12-15 10:25:00              1.0       -1.0              0.0        0.0  \n",
       "2021-12-15 10:26:00              1.0       -1.0              0.0        0.0  \n",
       "2021-12-15 10:27:00              1.0       -1.0              0.0        0.0  \n",
       "2021-12-15 10:28:00              1.0       -1.0              0.0        0.0  \n",
       "2021-12-15 10:29:00              1.0       -1.0              0.0        0.0  \n",
       "2021-12-15 10:30:00              1.0       -1.0              0.0        0.0  \n",
       "2021-12-15 10:31:00              1.0       -1.0              0.0        0.0  \n",
       "2021-12-15 10:32:00              1.0       -1.0              0.0        0.0  \n",
       "2021-12-15 10:33:00              1.0       -1.0              0.0        0.0  \n",
       "2021-12-15 10:34:00              1.0       -1.0              0.0        0.0  "
      ]
     },
     "execution_count": 30,
     "metadata": {},
     "output_type": "execute_result"
    }
   ],
   "source": [
    "df_pos = pd.concat([df_signal.iloc[:,:-2],df_pos_list[0],df_pos_list[-4]],axis=1)\n",
    "print(len(df_pos))\n",
    "df_pos.head(300)"
   ]
  },
  {
   "cell_type": "code",
   "execution_count": null,
   "metadata": {},
   "outputs": [],
   "source": []
  },
  {
   "cell_type": "code",
   "execution_count": 31,
   "metadata": {},
   "outputs": [
    {
     "name": "stdout",
     "output_type": "stream",
     "text": [
      "34\n"
     ]
    }
   ],
   "source": [
    "cnt = 0\n",
    "for index,row in df_trade.iloc[1:,:].iterrows():\n",
    "    if index.time() == time(15,0,0):\n",
    "        cnt += 1\n",
    "print(cnt)"
   ]
  },
  {
   "cell_type": "code",
   "execution_count": 32,
   "metadata": {},
   "outputs": [
    {
     "data": {
      "text/plain": [
       "62"
      ]
     },
     "execution_count": 32,
     "metadata": {},
     "output_type": "execute_result"
    }
   ],
   "source": [
    "len(rounds)"
   ]
  },
  {
   "cell_type": "code",
   "execution_count": 33,
   "metadata": {},
   "outputs": [],
   "source": [
    "# trade_res['0.005@0.001']"
   ]
  },
  {
   "cell_type": "code",
   "execution_count": null,
   "metadata": {},
   "outputs": [],
   "source": []
  }
 ],
 "metadata": {
  "kernelspec": {
   "display_name": "Python 3 (ipykernel)",
   "language": "python",
   "name": "python3"
  },
  "language_info": {
   "codemirror_mode": {
    "name": "ipython",
    "version": 3
   },
   "file_extension": ".py",
   "mimetype": "text/x-python",
   "name": "python",
   "nbconvert_exporter": "python",
   "pygments_lexer": "ipython3",
   "version": "3.9.7"
  },
  "toc": {
   "base_numbering": 1,
   "nav_menu": {},
   "number_sections": true,
   "sideBar": true,
   "skip_h1_title": false,
   "title_cell": "Table of Contents",
   "title_sidebar": "Contents",
   "toc_cell": false,
   "toc_position": {
    "height": "calc(100% - 180px)",
    "left": "10px",
    "top": "150px",
    "width": "202.59375px"
   },
   "toc_section_display": true,
   "toc_window_display": true
  },
  "varInspector": {
   "cols": {
    "lenName": 16,
    "lenType": 16,
    "lenVar": 40
   },
   "kernels_config": {
    "python": {
     "delete_cmd_postfix": "",
     "delete_cmd_prefix": "del ",
     "library": "var_list.py",
     "varRefreshCmd": "print(var_dic_list())"
    },
    "r": {
     "delete_cmd_postfix": ") ",
     "delete_cmd_prefix": "rm(",
     "library": "var_list.r",
     "varRefreshCmd": "cat(var_dic_list()) "
    }
   },
   "types_to_exclude": [
    "module",
    "function",
    "builtin_function_or_method",
    "instance",
    "_Feature"
   ],
   "window_display": false
  },
  "vscode": {
   "interpreter": {
    "hash": "4b7a3c99c09164ed3315a85b9be868456d78d186d21965e8a7155bab558fd18f"
   }
  }
 },
 "nbformat": 4,
 "nbformat_minor": 2
}
