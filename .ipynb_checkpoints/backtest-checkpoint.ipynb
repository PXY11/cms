{
 "cells": [
  {
   "cell_type": "markdown",
   "metadata": {},
   "source": [
    "# import data"
   ]
  },
  {
   "cell_type": "code",
   "execution_count": 1,
   "metadata": {},
   "outputs": [
    {
     "name": "stdout",
     "output_type": "stream",
     "text": [
      "dict_keys(['123046.SZ', '300587.SZ', '113642.SH', '603185.SH', '110061.SH', '600674.SH', '128081.SZ', '002203.SZ'])\n",
      "123046.SZ  data length:  24684\n",
      "300587.SZ  data length:  24684\n",
      "113642.SH  data length:  19844\n",
      "603185.SH  data length:  24684\n",
      "110061.SH  data length:  24684\n",
      "600674.SH  data length:  24684\n",
      "128081.SZ  data length:  24684\n",
      "002203.SZ  data length:  24684\n"
     ]
    }
   ],
   "source": [
    "import platform\n",
    "import pandas as pd\n",
    "from datetime import datetime, timedelta, time\n",
    "ohlcv_data = pd.read_pickle('/Users/bokie/code/python/CMS/可转债套利/cms/stock_data_min.pkl')\n",
    "print(ohlcv_data.keys())\n",
    "for k,v in ohlcv_data.items():\n",
    "    print(k,' data length: ',len(v))"
   ]
  },
  {
   "cell_type": "markdown",
   "metadata": {},
   "source": [
    "# bond-stock pair"
   ]
  },
  {
   "cell_type": "code",
   "execution_count": 2,
   "metadata": {},
   "outputs": [],
   "source": [
    "cbond_pair = ['128081.SZ','002203.SZ']\n",
    "# cbond_pair = ['123046.SZ','300587.SZ']\n",
    "# cbond_pair = ['110061.SH','600674.SH']\n",
    "# cbond_pair = ['113642.SH','603185.SH']"
   ]
  },
  {
   "cell_type": "code",
   "execution_count": 3,
   "metadata": {},
   "outputs": [
    {
     "data": {
      "text/html": [
       "<div>\n",
       "<style scoped>\n",
       "    .dataframe tbody tr th:only-of-type {\n",
       "        vertical-align: middle;\n",
       "    }\n",
       "\n",
       "    .dataframe tbody tr th {\n",
       "        vertical-align: top;\n",
       "    }\n",
       "\n",
       "    .dataframe thead th {\n",
       "        text-align: right;\n",
       "    }\n",
       "</style>\n",
       "<table border=\"1\" class=\"dataframe\">\n",
       "  <thead>\n",
       "    <tr style=\"text-align: right;\">\n",
       "      <th></th>\n",
       "      <th>128081.SZ</th>\n",
       "      <th>002203.SZ</th>\n",
       "    </tr>\n",
       "  </thead>\n",
       "  <tbody>\n",
       "    <tr>\n",
       "      <th>2022-03-07 15:00:00</th>\n",
       "      <td>125.675</td>\n",
       "      <td>43.392708</td>\n",
       "    </tr>\n",
       "    <tr>\n",
       "      <th>2022-03-08 09:30:00</th>\n",
       "      <td>126.001</td>\n",
       "      <td>43.580718</td>\n",
       "    </tr>\n",
       "    <tr>\n",
       "      <th>2022-03-08 09:31:00</th>\n",
       "      <td>125.809</td>\n",
       "      <td>43.430310</td>\n",
       "    </tr>\n",
       "    <tr>\n",
       "      <th>2022-03-08 09:32:00</th>\n",
       "      <td>125.519</td>\n",
       "      <td>43.279902</td>\n",
       "    </tr>\n",
       "    <tr>\n",
       "      <th>2022-03-08 09:33:00</th>\n",
       "      <td>125.280</td>\n",
       "      <td>43.129494</td>\n",
       "    </tr>\n",
       "    <tr>\n",
       "      <th>...</th>\n",
       "      <td>...</td>\n",
       "      <td>...</td>\n",
       "    </tr>\n",
       "    <tr>\n",
       "      <th>2022-08-03 14:53:00</th>\n",
       "      <td>127.430</td>\n",
       "      <td>44.601924</td>\n",
       "    </tr>\n",
       "    <tr>\n",
       "      <th>2022-08-03 14:54:00</th>\n",
       "      <td>127.598</td>\n",
       "      <td>44.601924</td>\n",
       "    </tr>\n",
       "    <tr>\n",
       "      <th>2022-08-03 14:55:00</th>\n",
       "      <td>127.439</td>\n",
       "      <td>44.564093</td>\n",
       "    </tr>\n",
       "    <tr>\n",
       "      <th>2022-08-03 14:56:00</th>\n",
       "      <td>127.500</td>\n",
       "      <td>44.526263</td>\n",
       "    </tr>\n",
       "    <tr>\n",
       "      <th>2022-08-03 15:00:00</th>\n",
       "      <td>127.101</td>\n",
       "      <td>44.526263</td>\n",
       "    </tr>\n",
       "  </tbody>\n",
       "</table>\n",
       "<p>23246 rows × 2 columns</p>\n",
       "</div>"
      ],
      "text/plain": [
       "                     128081.SZ  002203.SZ\n",
       "2022-03-07 15:00:00    125.675  43.392708\n",
       "2022-03-08 09:30:00    126.001  43.580718\n",
       "2022-03-08 09:31:00    125.809  43.430310\n",
       "2022-03-08 09:32:00    125.519  43.279902\n",
       "2022-03-08 09:33:00    125.280  43.129494\n",
       "...                        ...        ...\n",
       "2022-08-03 14:53:00    127.430  44.601924\n",
       "2022-08-03 14:54:00    127.598  44.601924\n",
       "2022-08-03 14:55:00    127.439  44.564093\n",
       "2022-08-03 14:56:00    127.500  44.526263\n",
       "2022-08-03 15:00:00    127.101  44.526263\n",
       "\n",
       "[23246 rows x 2 columns]"
      ]
     },
     "execution_count": 3,
     "metadata": {},
     "output_type": "execute_result"
    }
   ],
   "source": [
    "cbond_pair_price = pd.DataFrame([])\n",
    "cbond_pair_price = pd.concat([ohlcv_data[cbond_pair[0]]['close'],ohlcv_data[cbond_pair[1]]['close']],axis=1)\n",
    "cbond_pair_price.columns = cbond_pair\n",
    "cbond_pair_price = cbond_pair_price.dropna()\n",
    "cbond_pair_price = cbond_pair_price.loc['2022-03-07 15:00:00':]\n",
    "cbond_pair_price"
   ]
  },
  {
   "cell_type": "markdown",
   "metadata": {},
   "source": [
    "# signal calculate"
   ]
  },
  {
   "cell_type": "code",
   "execution_count": 4,
   "metadata": {},
   "outputs": [],
   "source": [
    "cbond_return = pd.DataFrame([])\n",
    "\n",
    "for index,row in cbond_pair_price.iterrows():\n",
    "    \n",
    "    if index.time()==time(15,0,0):\n",
    "        cbond_preclose = row[cbond_pair[0]]    # 日内return指标用 现价/昨日收盘价 计算\n",
    "        stock_preclose = row[cbond_pair[1]]  \n",
    "    \n",
    "    cbond_return.loc[index,cbond_pair[0]] = row[cbond_pair[0]]/cbond_preclose - 1\n",
    "    cbond_return.loc[index,cbond_pair[1]] = row[cbond_pair[1]]/stock_preclose - 1"
   ]
  },
  {
   "cell_type": "code",
   "execution_count": 5,
   "metadata": {},
   "outputs": [
    {
     "data": {
      "text/plain": [
       "0"
      ]
     },
     "execution_count": 5,
     "metadata": {},
     "output_type": "execute_result"
    }
   ],
   "source": [
    "# 检查df是否有空值\n",
    "cbond_return.isnull().sum(axis=0)  # 按列统计\n",
    "cbond_return.isnull().sum(axis=1) # 按行统计\n",
    "cbond_return.isnull().sum(axis=1).sum() # 统计整张表"
   ]
  },
  {
   "cell_type": "code",
   "execution_count": 6,
   "metadata": {},
   "outputs": [
    {
     "data": {
      "text/html": [
       "<div>\n",
       "<style scoped>\n",
       "    .dataframe tbody tr th:only-of-type {\n",
       "        vertical-align: middle;\n",
       "    }\n",
       "\n",
       "    .dataframe tbody tr th {\n",
       "        vertical-align: top;\n",
       "    }\n",
       "\n",
       "    .dataframe thead th {\n",
       "        text-align: right;\n",
       "    }\n",
       "</style>\n",
       "<table border=\"1\" class=\"dataframe\">\n",
       "  <thead>\n",
       "    <tr style=\"text-align: right;\">\n",
       "      <th></th>\n",
       "      <th>128081.SZ</th>\n",
       "      <th>002203.SZ</th>\n",
       "    </tr>\n",
       "  </thead>\n",
       "  <tbody>\n",
       "    <tr>\n",
       "      <th>2022-03-07 15:00:00</th>\n",
       "      <td>0.000000</td>\n",
       "      <td>0.000000</td>\n",
       "    </tr>\n",
       "    <tr>\n",
       "      <th>2022-03-08 09:30:00</th>\n",
       "      <td>0.002594</td>\n",
       "      <td>0.004333</td>\n",
       "    </tr>\n",
       "    <tr>\n",
       "      <th>2022-03-08 09:31:00</th>\n",
       "      <td>0.001066</td>\n",
       "      <td>0.000867</td>\n",
       "    </tr>\n",
       "    <tr>\n",
       "      <th>2022-03-08 09:32:00</th>\n",
       "      <td>-0.001241</td>\n",
       "      <td>-0.002600</td>\n",
       "    </tr>\n",
       "    <tr>\n",
       "      <th>2022-03-08 09:33:00</th>\n",
       "      <td>-0.003143</td>\n",
       "      <td>-0.006066</td>\n",
       "    </tr>\n",
       "    <tr>\n",
       "      <th>...</th>\n",
       "      <td>...</td>\n",
       "      <td>...</td>\n",
       "    </tr>\n",
       "    <tr>\n",
       "      <th>2022-08-03 14:53:00</th>\n",
       "      <td>-0.015992</td>\n",
       "      <td>-0.020764</td>\n",
       "    </tr>\n",
       "    <tr>\n",
       "      <th>2022-08-03 14:54:00</th>\n",
       "      <td>-0.014695</td>\n",
       "      <td>-0.020764</td>\n",
       "    </tr>\n",
       "    <tr>\n",
       "      <th>2022-08-03 14:55:00</th>\n",
       "      <td>-0.015923</td>\n",
       "      <td>-0.021595</td>\n",
       "    </tr>\n",
       "    <tr>\n",
       "      <th>2022-08-03 14:56:00</th>\n",
       "      <td>-0.015452</td>\n",
       "      <td>-0.022425</td>\n",
       "    </tr>\n",
       "    <tr>\n",
       "      <th>2022-08-03 15:00:00</th>\n",
       "      <td>0.000000</td>\n",
       "      <td>0.000000</td>\n",
       "    </tr>\n",
       "  </tbody>\n",
       "</table>\n",
       "<p>23246 rows × 2 columns</p>\n",
       "</div>"
      ],
      "text/plain": [
       "                     128081.SZ  002203.SZ\n",
       "2022-03-07 15:00:00   0.000000   0.000000\n",
       "2022-03-08 09:30:00   0.002594   0.004333\n",
       "2022-03-08 09:31:00   0.001066   0.000867\n",
       "2022-03-08 09:32:00  -0.001241  -0.002600\n",
       "2022-03-08 09:33:00  -0.003143  -0.006066\n",
       "...                        ...        ...\n",
       "2022-08-03 14:53:00  -0.015992  -0.020764\n",
       "2022-08-03 14:54:00  -0.014695  -0.020764\n",
       "2022-08-03 14:55:00  -0.015923  -0.021595\n",
       "2022-08-03 14:56:00  -0.015452  -0.022425\n",
       "2022-08-03 15:00:00   0.000000   0.000000\n",
       "\n",
       "[23246 rows x 2 columns]"
      ]
     },
     "execution_count": 6,
     "metadata": {},
     "output_type": "execute_result"
    }
   ],
   "source": [
    "cbond_return"
   ]
  },
  {
   "cell_type": "code",
   "execution_count": null,
   "metadata": {},
   "outputs": [],
   "source": [
    "# plot pair moving trend: diff = cbond reutrn - stock return \n",
    "cbond_return['diff'] = cbond_return[cbond_pair[0]] - cbond_return[cbond_pair[1]]\n",
    "\n",
    "import plotly.graph_objects as go\n",
    "\n",
    "fig = go.Figure(data=[\n",
    "    go.Scatter(name=cbond_pair[0], x=cbond_return.index, y=cbond_return[cbond_pair[0]]),\n",
    "    go.Scatter(name=cbond_pair[1], x=cbond_return.index, y=cbond_return[cbond_pair[1]]),\n",
    "    go.Scatter(name='diff', x=cbond_return.index, y=cbond_return['diff']),\n",
    "])\n",
    "fig.show()\n",
    "\n",
    "    \n",
    "# test stationary\n",
    "from statsmodels.tsa.stattools import adfuller\n",
    "if adfuller(cbond_return['diff'])[1] < 0.001:\n",
    "    print(\"This cbond-stock pair is stationary!\")\n",
    "else:\n",
    "    print(\"This cbond-stock pair is not stationary!\")"
   ]
  },
  {
   "cell_type": "markdown",
   "metadata": {},
   "source": [
    "# backtest"
   ]
  },
  {
   "cell_type": "code",
   "execution_count": null,
   "metadata": {},
   "outputs": [],
   "source": []
  }
 ],
 "metadata": {
  "kernelspec": {
   "display_name": "Python 3 (ipykernel)",
   "language": "python",
   "name": "python3"
  },
  "language_info": {
   "codemirror_mode": {
    "name": "ipython",
    "version": 3
   },
   "file_extension": ".py",
   "mimetype": "text/x-python",
   "name": "python",
   "nbconvert_exporter": "python",
   "pygments_lexer": "ipython3",
   "version": "3.9.7"
  },
  "toc": {
   "base_numbering": 1,
   "nav_menu": {},
   "number_sections": true,
   "sideBar": true,
   "skip_h1_title": false,
   "title_cell": "Table of Contents",
   "title_sidebar": "Contents",
   "toc_cell": false,
   "toc_position": {
    "height": "calc(100% - 180px)",
    "left": "10px",
    "top": "150px",
    "width": "218.59375px"
   },
   "toc_section_display": true,
   "toc_window_display": true
  },
  "varInspector": {
   "cols": {
    "lenName": 16,
    "lenType": 16,
    "lenVar": 40
   },
   "kernels_config": {
    "python": {
     "delete_cmd_postfix": "",
     "delete_cmd_prefix": "del ",
     "library": "var_list.py",
     "varRefreshCmd": "print(var_dic_list())"
    },
    "r": {
     "delete_cmd_postfix": ") ",
     "delete_cmd_prefix": "rm(",
     "library": "var_list.r",
     "varRefreshCmd": "cat(var_dic_list()) "
    }
   },
   "types_to_exclude": [
    "module",
    "function",
    "builtin_function_or_method",
    "instance",
    "_Feature"
   ],
   "window_display": false
  },
  "vscode": {
   "interpreter": {
    "hash": "4b7a3c99c09164ed3315a85b9be868456d78d186d21965e8a7155bab558fd18f"
   }
  }
 },
 "nbformat": 4,
 "nbformat_minor": 2
}
