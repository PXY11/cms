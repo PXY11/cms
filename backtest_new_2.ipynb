{
 "cells": [
  {
   "cell_type": "markdown",
   "metadata": {},
   "source": [
    "# import data"
   ]
  },
  {
   "cell_type": "code",
   "execution_count": 1,
   "metadata": {},
   "outputs": [
    {
     "name": "stdout",
     "output_type": "stream",
     "text": [
      "dict_keys(['123046.SZ', '300587.SZ', '113642.SH', '603185.SH', '110061.SH', '600674.SH', '128081.SZ', '002203.SZ'])\n",
      "123046.SZ  data length:  31460\n",
      "300587.SZ  data length:  31460\n",
      "113642.SH  data length:  13552\n",
      "603185.SH  data length:  31460\n",
      "110061.SH  data length:  31460\n",
      "600674.SH  data length:  31460\n",
      "128081.SZ  data length:  31460\n",
      "002203.SZ  data length:  31460\n",
      "数据起始日期 2021-12-13 09:30:00\n",
      "数据结束日期 2022-06-28 15:00:00\n",
      "113642.SH数据起始日期 2022-04-06 09:30:00\n",
      "113642.SH数据结束日期 2022-06-28 15:00:00\n"
     ]
    }
   ],
   "source": [
    "import platform\n",
    "import pandas as pd\n",
    "from datetime import datetime, timedelta, time\n",
    "ohlcv_data = pd.read_pickle('/Users/bokie/code/python/CMS/可转债套利/cms/stock_data_min_new.pkl')\n",
    "print(ohlcv_data.keys())\n",
    "for k,v in ohlcv_data.items():\n",
    "    print(k,' data length: ',len(v))\n",
    "print('数据起始日期',v.index[0])\n",
    "print('数据结束日期',v.index[-1])\n",
    "print('113642.SH数据起始日期',ohlcv_data['113642.SH'].index[0])\n",
    "print('113642.SH数据结束日期',ohlcv_data['113642.SH'].index[-1])"
   ]
  },
  {
   "cell_type": "markdown",
   "metadata": {},
   "source": [
    "# bond-stock pair"
   ]
  },
  {
   "cell_type": "code",
   "execution_count": 2,
   "metadata": {},
   "outputs": [],
   "source": [
    "# cbond_pair = ['128081.SZ','002203.SZ']\n",
    "# part = 1\n",
    "# convert_price = 9.69\n",
    "# stock_volume = 100/convert_price #整个回测期间不变\n",
    "\n",
    "\n",
    "# cbond_pair = ['123046.SZ','300587.SZ']\n",
    "# part = 1 \n",
    "# convert_price = 6.73\n",
    "# stock_volume = 100/convert_price  # 2021-12-13至2022-03-23\n",
    "# part = 2\n",
    "# convert_price = 6.74\n",
    "# stock_volume = 100/convert_price  # 2022-03-24至2022-06-28\n",
    "\n",
    "\n",
    "# cbond_pair = ['110061.SH','600674.SH']\n",
    "# part = 1\n",
    "# convert_price = 9.2\n",
    "# stock_volume = 100/convert_price #整个回测期间不变\n",
    "\n",
    "\n",
    "cbond_pair = ['113642.SH','603185.SH']\n",
    "# part = 1\n",
    "# convert_price = 145.66\n",
    "# stock_volume = 100/convert_price  # 2022-04-06至2022-06-02\n",
    "part = 2\n",
    "convert_price = 102.61\n",
    "stock_volume = 100/convert_price  # 2022-06-03至2022-06-28\n"
   ]
  },
  {
   "cell_type": "code",
   "execution_count": 3,
   "metadata": {},
   "outputs": [],
   "source": [
    "cbond_pair_price = pd.DataFrame([])\n",
    "cbond_pair_price = pd.concat([ohlcv_data[cbond_pair[0]]['close'],ohlcv_data[cbond_pair[1]]['close']],axis=1)\n",
    "cbond_pair_price.columns = cbond_pair\n",
    "cbond_pair_price = cbond_pair_price.dropna()\n",
    "if cbond_pair[0] == '128081.SZ' or cbond_pair[0] == '110061.SH':\n",
    "    cbond_pair_price = cbond_pair_price.loc['2021-12-13 15:00:00':]\n",
    "elif cbond_pair[0] == '123046.SZ' and part == 1:\n",
    "    cbond_pair_price = cbond_pair_price.loc['2021-12-13 15:00:00':'2022-03-23 15:00:00']\n",
    "elif cbond_pair[0] == '123046.SZ' and part == 2:\n",
    "    cbond_pair_price = cbond_pair_price.loc['2022-03-25 15:00:00':]\n",
    "elif cbond_pair[0] == '113642.SH' and part == 1:\n",
    "    cbond_pair_price = cbond_pair_price.loc['2022-04-07 15:00:00':'2022-06-02 15:00:00']\n",
    "elif cbond_pair[0] == '113642.SH' and part == 2:\n",
    "    cbond_pair_price = cbond_pair_price.loc['2022-06-03 15:00:00':]\n"
   ]
  },
  {
   "cell_type": "markdown",
   "metadata": {},
   "source": [
    "# signal calculate"
   ]
  },
  {
   "cell_type": "code",
   "execution_count": 4,
   "metadata": {},
   "outputs": [
    {
     "data": {
      "text/plain": [
       "0"
      ]
     },
     "execution_count": 4,
     "metadata": {},
     "output_type": "execute_result"
    }
   ],
   "source": [
    "cbond_return = pd.DataFrame([])\n",
    "\n",
    "cbond_preclose = cbond_pair_price.iloc[0,0] # 初始时刻的bond前收盘价\n",
    "stock_preclose = cbond_pair_price.iloc[0,1] # 初始时刻的stock前收盘价\n",
    "\n",
    "for index,row in cbond_pair_price.iterrows():\n",
    "    \n",
    "    cbond_return.loc[index,cbond_pair[0]] = row[cbond_pair[0]]/cbond_preclose - 1 # 算日内的return\n",
    "    cbond_return.loc[index,cbond_pair[1]] = row[cbond_pair[1]]/stock_preclose - 1\n",
    "\n",
    "    if index.time()==time(15,0,0):  #算完日内return，迭代到今日价格的最后一个time bar的时候，将其设为前收盘价\n",
    "        cbond_preclose = row[cbond_pair[0]]    # 日内return指标用 现价/昨日收盘价 计算\n",
    "        stock_preclose = row[cbond_pair[1]]\n",
    "        \n",
    "# 检查df是否有空值\n",
    "cbond_return.isnull().sum(axis=0)  # 按列统计\n",
    "cbond_return.isnull().sum(axis=1) # 按行统计\n",
    "cbond_return.isnull().sum(axis=1).sum() # 统计整张表"
   ]
  },
  {
   "cell_type": "code",
   "execution_count": 5,
   "metadata": {},
   "outputs": [],
   "source": [
    "pd.set_option('display.max_rows', None)\n",
    "cbond_return['diff'] = cbond_return[cbond_pair[0]] - cbond_return[cbond_pair[1]]"
   ]
  },
  {
   "cell_type": "code",
   "execution_count": 6,
   "metadata": {},
   "outputs": [],
   "source": [
    "open_threshold = 0.01  # 0.005 ~ 0.01 ~ 0.015 间隔是0.001\n",
    "# open_threshold = 0.008\n",
    "close_threshold = 0.001 #  0 ~ 0.001 ~ 0.002 ~ 0.003\n",
    "open_flag = 0\n",
    "cbond_position = pd.DataFrame([])\n",
    "cbond_position.index = cbond_return.index\n",
    "for index,row in cbond_return.iterrows():\n",
    "    if abs(row['diff']) > open_threshold and open_flag==0:  # diff大于开仓阈值，并且无仓位就开仓\n",
    "        open_flag = 1\n",
    "        if row['diff'] > 0:  # diff 绝对值大于0.01并且diff是正数，说明bond偏高了，做空之，stock则反向开仓\n",
    "            cbond_position.loc[index,cbond_pair[0]] = -1*open_flag  #short bond, long stock\n",
    "            cbond_position.loc[index,cbond_pair[1]] = open_flag\n",
    "        else:                # diff 绝对值大于0.01并且diff是负数，说明bond偏低了，做多之，stock则反向开仓\n",
    "            cbond_position.loc[index,cbond_pair[0]] = open_flag     #long bond, short stock\n",
    "            cbond_position.loc[index,cbond_pair[1]] = -1*open_flag\n",
    "    \n",
    "    elif abs(row['diff']) < close_threshold and open_flag==1: # diff小于平仓阈值，并且有仓位就平仓\n",
    "    # elif abs(row['diff']) < close_threshold and open_flag==1: # diff小于平仓阈值，并且有仓位就平仓\n",
    "        open_flag = 0   # diff 绝对值小于阈值时，认为股债的偏移效应减弱，走势收敛，此时平仓\n",
    "        cbond_position.loc[index,cbond_pair[0]] = open_flag\n",
    "        cbond_position.loc[index,cbond_pair[1]] = open_flag\n",
    "    \n",
    "    else: # diff介于开仓阈值和平仓阈值之间，并且diff大于0，short bond long stock,小于0则short stock long bond\n",
    "        if row['diff'] > 0:\n",
    "            cbond_position.loc[index,cbond_pair[0]] = -1*open_flag\n",
    "            cbond_position.loc[index,cbond_pair[1]] = open_flag\n",
    "        else:\n",
    "            cbond_position.loc[index,cbond_pair[0]] = open_flag\n",
    "            cbond_position.loc[index,cbond_pair[1]] = -1*open_flag\n",
    "\n",
    "    if index.time()==time(15,0,0): # 每日收盘时必须平仓（时间止损信号）\n",
    "        open_flag = 0 \n",
    "        cbond_position.loc[index,cbond_pair[0]] = open_flag\n",
    "        cbond_position.loc[index,cbond_pair[1]] = open_flag\n",
    "# cbond_position.to_csv('cbond_position.csv')"
   ]
  },
  {
   "cell_type": "code",
   "execution_count": 7,
   "metadata": {},
   "outputs": [],
   "source": [
    "open_threshold = 0.01  # 0.005 ~ 0.01 ~ 0.015 间隔是0.001\n",
    "# open_threshold = 0.008\n",
    "close_threshold = 0.001 #  0 ~ 0.001 ~ 0.002 ~ 0.003\n",
    "pos_open_flag = 0\n",
    "neg_open_flag = 0\n",
    "cbond_position = pd.DataFrame([])\n",
    "cbond_position.index = cbond_return.index\n",
    "for index,row in cbond_return.iterrows():\n",
    "\n",
    "    if row['diff'] >= open_threshold and pos_open_flag==0 and neg_open_flag==0:\n",
    "        #diff落在A区间，且无仓位，正开\n",
    "        pos_open_flag = 1\n",
    "        neg_open_flag = 0\n",
    "        cbond_position.loc[index,cbond_pair[0]] = -1*pos_open_flag\n",
    "        cbond_position.loc[index,cbond_pair[1]] = pos_open_flag\n",
    "    elif row['diff'] >= open_threshold and pos_open_flag==0 and neg_open_flag==1:\n",
    "        #diff落在A区间，且有负仓，平仓再正开\n",
    "        pos_open_flag=1\n",
    "        neg_open_flag=0\n",
    "        cbond_position.loc[index,cbond_pair[0]] = -1*pos_open_flag\n",
    "        cbond_position.loc[index,cbond_pair[1]] = pos_open_flag\n",
    "    elif row['diff'] >= open_threshold and pos_open_flag==1 and neg_open_flag==0:\n",
    "        #diff落在A区间，且有正仓，keep\n",
    "        pos_open_flag=1\n",
    "        neg_open_flag=0\n",
    "        cbond_position.loc[index,cbond_pair[0]] = -1*pos_open_flag\n",
    "        cbond_position.loc[index,cbond_pair[1]] = pos_open_flag\n",
    "\n",
    "    if row['diff'] > close_threshold and row['diff'] < open_threshold and pos_open_flag==1 and neg_open_flag==0:\n",
    "        #diff 落在B区间，且有正仓，keep\n",
    "        pos_open_flag=1\n",
    "        neg_open_flag=0\n",
    "        cbond_position.loc[index,cbond_pair[0]] = -1*pos_open_flag\n",
    "        cbond_position.loc[index,cbond_pair[1]] = pos_open_flag\n",
    "    elif row['diff'] > close_threshold and row['diff'] < open_threshold and pos_open_flag==0 and neg_open_flag==1:\n",
    "        #diff 落在B区间，且有负仓，平仓\n",
    "        pos_open_flag=0\n",
    "        neg_open_flag=0\n",
    "        cbond_position.loc[index,cbond_pair[0]] = neg_open_flag\n",
    "        cbond_position.loc[index,cbond_pair[1]] = neg_open_flag\n",
    "    elif row['diff'] > close_threshold and row['diff'] < open_threshold and pos_open_flag==0 and neg_open_flag==0:\n",
    "        #diff 落在B区间，且无仓，keep\n",
    "        pos_open_flag=0\n",
    "        neg_open_flag=0\n",
    "        cbond_position.loc[index,cbond_pair[0]] = neg_open_flag\n",
    "        cbond_position.loc[index,cbond_pair[1]] = neg_open_flag\n",
    "    \n",
    "    if row['diff'] >= -1*close_threshold and row['diff'] <= close_threshold and pos_open_flag==1 and neg_open_flag==0:\n",
    "        #diff 落在C区间，且有正仓，平仓\n",
    "        pos_open_flag=0\n",
    "        neg_open_flag=0\n",
    "        cbond_position.loc[index,cbond_pair[0]] = pos_open_flag\n",
    "        cbond_position.loc[index,cbond_pair[1]] = pos_open_flag\n",
    "    elif row['diff'] >= -1*close_threshold and row['diff'] <= close_threshold and pos_open_flag==0 and neg_open_flag==1:\n",
    "        #diff 落在C区间，且有负仓，平仓\n",
    "        pos_open_flag=0\n",
    "        neg_open_flag=0\n",
    "        cbond_position.loc[index,cbond_pair[0]] = neg_open_flag\n",
    "        cbond_position.loc[index,cbond_pair[1]] = neg_open_flag\n",
    "    elif row['diff'] >= -1*close_threshold and row['diff'] <= close_threshold and pos_open_flag==0 and neg_open_flag==0:\n",
    "        #diff 落在C区间，且无仓位，keep\n",
    "        pos_open_flag=0\n",
    "        neg_open_flag=0\n",
    "        cbond_position.loc[index,cbond_pair[0]] = neg_open_flag\n",
    "        cbond_position.loc[index,cbond_pair[1]] = neg_open_flag\n",
    "    \n",
    "    if row['diff'] > -1*open_threshold and row['diff'] < -1*close_threshold and pos_open_flag==0 and neg_open_flag==1:\n",
    "        #diff 落在D区间，且有负仓，keep\n",
    "        pos_open_flag=0\n",
    "        neg_open_flag=1\n",
    "        cbond_position.loc[index,cbond_pair[0]] = neg_open_flag\n",
    "        cbond_position.loc[index,cbond_pair[1]] = -1*neg_open_flag\n",
    "\n",
    "    elif row['diff'] > -1*open_threshold and row['diff'] < -1*close_threshold and pos_open_flag==1 and neg_open_flag==0:\n",
    "        #diff 落在D区间，且有正仓，平仓\n",
    "        pos_open_flag=0\n",
    "        neg_open_flag=0\n",
    "        cbond_position.loc[index,cbond_pair[0]] = pos_open_flag\n",
    "        cbond_position.loc[index,cbond_pair[1]] = pos_open_flag\n",
    "    elif row['diff'] > -1*open_threshold and row['diff'] < -1*close_threshold and pos_open_flag==0 and neg_open_flag==0:\n",
    "        #diff 落在D区间，且无仓位，keep\n",
    "        pos_open_flag=0\n",
    "        neg_open_flag=0\n",
    "        cbond_position.loc[index,cbond_pair[0]] = pos_open_flag\n",
    "        cbond_position.loc[index,cbond_pair[1]] = pos_open_flag\n",
    "\n",
    "    if row['diff'] <= -1*open_threshold and pos_open_flag==0 and neg_open_flag==0:\n",
    "        #diff 落在E区间，且无仓位，反开\n",
    "        pos_open_flag=0\n",
    "        neg_open_flag=1\n",
    "        cbond_position.loc[index,cbond_pair[0]] = neg_open_flag\n",
    "        cbond_position.loc[index,cbond_pair[1]] = -1*neg_open_flag\n",
    "    elif row['diff'] <= -1*open_threshold and pos_open_flag==1 and neg_open_flag==0:\n",
    "        #diff 落在E区间，且有正仓，平仓反开\n",
    "        pos_open_flag=0\n",
    "        neg_open_flag=1\n",
    "        cbond_position.loc[index,cbond_pair[0]] = neg_open_flag\n",
    "        cbond_position.loc[index,cbond_pair[1]] = -1*neg_open_flag\n",
    "    elif row['diff'] <= -1*open_threshold and pos_open_flag==0 and neg_open_flag==1:\n",
    "        #diff 落在E区间，且有负仓，keep\n",
    "        pos_open_flag=0\n",
    "        neg_open_flag=1\n",
    "        cbond_position.loc[index,cbond_pair[0]] = neg_open_flag\n",
    "        cbond_position.loc[index,cbond_pair[1]] = -1*neg_open_flag\n",
    "\n",
    "    if index.time()==time(15,0,0): # 每日收盘时必须平仓（时间止损信号）\n",
    "        pos_open_flag=0\n",
    "        neg_open_flag=0\n",
    "        cbond_position.loc[index,cbond_pair[0]] = pos_open_flag\n",
    "        cbond_position.loc[index,cbond_pair[1]] = pos_open_flag"
   ]
  },
  {
   "cell_type": "code",
   "execution_count": 8,
   "metadata": {},
   "outputs": [
    {
     "name": "stdout",
     "output_type": "stream",
     "text": [
      "open threshold 0.01 close threshold 0.001\n"
     ]
    }
   ],
   "source": [
    "df_signal = pd.concat([cbond_pair_price,cbond_return,cbond_position],axis=1)\n",
    "df_signal.columns = ['bond_price','stock_price','bond_rtn','stock_rtn','diff','bond_pos','stock_pos']\n",
    "print('open threshold',open_threshold,'close threshold',close_threshold)\n",
    "df_signal.to_csv('tmp_signal.csv')\n",
    "# df_signal"
   ]
  },
  {
   "cell_type": "markdown",
   "metadata": {},
   "source": [
    "# backtest"
   ]
  },
  {
   "cell_type": "code",
   "execution_count": 9,
   "metadata": {},
   "outputs": [],
   "source": [
    "# 用来记录交易流水的表格,一边遍历df_signal，一边填入内容到流水表格里\n",
    "\n",
    "import numpy as np\n",
    "cols = ['balance','signal','bond price','stock price','bond hold','stock hold','commission','tax','reverse open']\n",
    "df_trade = pd.DataFrame(\n",
    "    data = [[0,np.nan,np.nan,np.nan,0,0,0,0,np.nan]],\n",
    "    columns=cols\n",
    "    ) \n",
    "\n",
    "balance_last = 0 # 现金账户初始余额\n",
    "\n",
    "bond_hold = 0 # 债券持有数量\n",
    "stock_hold = 0 # 股票持有数量\n",
    "\n",
    "commission_rate = 2/10000 # 佣金买卖万二\n",
    "tax_rate = 1/1000 #\n",
    "\n",
    "\n",
    "\n",
    "for i in range(len(df_signal)-1):\n",
    "    if df_signal.values[i][-1] != df_signal.values[i+1][-1]:\n",
    "        index = df_signal.index[i+1]\n",
    "\n",
    "    # df_signal的columns\n",
    "    # ['bond_price','stock_price','bond_rtn','stock_rtn','diff','bond_pos','stock_pos']\n",
    "        signal = str(int(df_signal.values[i+1][-2]))+str(int(df_signal.values[i+1][-1]))\n",
    "        \n",
    "        bond_price = df_signal.values[i+1][0] \n",
    "\n",
    "        stock_price = df_signal.values[i+1][1]\n",
    "\n",
    "        commission = (bond_price + stock_price * stock_volume) * commission_rate\n",
    "\n",
    "        reverse_open = False #表明这笔交易，是否包含平仓后再反向开仓的操作\n",
    "\n",
    "        if signal == '00' and stock_hold == stock_volume: #有股票持仓并且需要卖出平仓时，有印花税\n",
    "            tax = stock_price * tax_rate * stock_volume\n",
    "        else:\n",
    "            tax = 0\n",
    "\n",
    "        if signal == '00':\n",
    "            balance_last += bond_hold*bond_price\n",
    "            balance_last += stock_hold*stock_price\n",
    "            \n",
    "            bond_hold = 0\n",
    "            stock_hold = 0\n",
    "            \n",
    "\n",
    "        if signal == '1-1':\n",
    "            '''\n",
    "            加一个检测之前持仓的模块,如果之前因为-11的信号有持仓,需要先平掉(即买债卖股票),同时再反向开仓\n",
    "            '''\n",
    "            reverse_flag = False\n",
    "            if bond_hold == -1 and stock_hold == 1*stock_volume:\n",
    "                bond_hold = 0\n",
    "                stock_hold = 0\n",
    "                balance_last -= bond_price \n",
    "                balance_last += stock_price * stock_volume\n",
    "                commission *= 2 # 因为平掉之后再反向开仓，手续费double\n",
    "                tax = stock_price * tax_rate * stock_volume # 卖股票要收印花税\n",
    "                reverse_flag = True\n",
    "                reverse_open = True\n",
    "\n",
    "            bond_hold += 1\n",
    "            stock_hold += (-1 * stock_volume)\n",
    "            # stock_hold += stock_volume\n",
    "            balance_last -= bond_price\n",
    "            balance_last += stock_price * stock_volume\n",
    "            \n",
    "            if reverse_flag:\n",
    "                tax *= 2 #平仓然后反向开仓的时候 已经计算过tax了，直接double\n",
    "            else:\n",
    "                tax = stock_price * tax_rate * stock_volume # 卖股票要收印花税\n",
    "\n",
    "        if signal == '-11':\n",
    "            '''\n",
    "            加一个检测之前持仓的模块,如果之前因为1-1的信号有持仓,需要先平掉(卖债买股票),同时再反向开仓\n",
    "            '''\n",
    "            if bond_hold == 1 and stock_hold == -1*stock_volume:\n",
    "                bond_hold = 0\n",
    "                stock_hold = 0\n",
    "                balance_last += bond_price\n",
    "                balance_last -= stock_price * stock_volume\n",
    "                commission *= 2 # 因为平掉之后再反向开仓，手续费double\n",
    "                                # 买股票无印花税\n",
    "                reverse_open = True\n",
    "            bond_hold += -1\n",
    "            stock_hold += (1 * stock_volume)\n",
    "            # stock_hold += stock_volume\n",
    "            balance_last += bond_price\n",
    "            balance_last -= stock_price * stock_volume\n",
    "        \n",
    "\n",
    "        balance = balance_last\n",
    "\n",
    "        line = [balance,signal,bond_price,stock_price,bond_hold,stock_hold,commission,tax,reverse_open]\n",
    "        # df_trade.loc[index,['balance','asset','signal','bond price','stock price','commission','tax']] = line\n",
    "        # df_trade.loc[index,cols] = [0,0,np.nan,np.nan,np.nan,0,0,0,0]\n",
    "        df_trade.loc[index,cols] = line\n",
    "\n",
    "       \n",
    "# df_trade"
   ]
  },
  {
   "cell_type": "code",
   "execution_count": 10,
   "metadata": {},
   "outputs": [],
   "source": [
    "df_trade['net value'] = df_trade['balance'] + \\\n",
    "                        df_trade['bond price']*df_trade['bond hold'] + \\\n",
    "                        df_trade['stock price']*df_trade['stock hold'] - \\\n",
    "                        df_trade['commission'] - \\\n",
    "                        df_trade['tax']\n",
    "# df_trade"
   ]
  },
  {
   "cell_type": "code",
   "execution_count": 11,
   "metadata": {},
   "outputs": [
    {
     "name": "stderr",
     "output_type": "stream",
     "text": [
      "/var/folders/4y/tm0f5s2n00s3g71c6qrvd0bh0000gn/T/ipykernel_94063/788458400.py:6: SettingWithCopyWarning: \n",
      "A value is trying to be set on a copy of a slice from a DataFrame.\n",
      "Try using .loc[row_indexer,col_indexer] = value instead\n",
      "\n",
      "See the caveats in the documentation: https://pandas.pydata.org/pandas-docs/stable/user_guide/indexing.html#returning-a-view-versus-a-copy\n",
      "  df_tmp['time'] = df_tmp.index\n"
     ]
    }
   ],
   "source": [
    "#把交易序列单个时间节点的扩展到整个序列\n",
    "# assert False\n",
    "df_nv = df_trade[['net value']].iloc[1:]\n",
    "df_nv['time'] = df_nv.index\n",
    "df_tmp = df_signal[['diff']]\n",
    "df_tmp['time'] = df_tmp.index\n",
    "#  merge之后再前向往后fillna\n",
    "df_nv_full =  pd.merge(df_nv,df_tmp,how='outer').sort_values(by='time').fillna(method='ffill').fillna(0)\n",
    "df_nv_full.index = df_tmp.index\n",
    "df_nv_full = df_nv_full[['net value']]\n"
   ]
  },
  {
   "cell_type": "code",
   "execution_count": 12,
   "metadata": {},
   "outputs": [
    {
     "data": {
      "text/plain": [
       "<AxesSubplot:>"
      ]
     },
     "execution_count": 12,
     "metadata": {},
     "output_type": "execute_result"
    },
    {
     "data": {
      "image/png": "[encoded data removed]",
      "text/plain": [
       "<Figure size 864x432 with 1 Axes>"
      ]
     },
     "metadata": {
      "needs_background": "light"
     },
     "output_type": "display_data"
    }
   ],
   "source": [
    "df_nv_full.plot(figsize=(12,6),grid=True,)"
   ]
  },
  {
   "cell_type": "markdown",
   "metadata": {},
   "source": [
    "# statistic & analysis"
   ]
  },
  {
   "cell_type": "code",
   "execution_count": 13,
   "metadata": {},
   "outputs": [],
   "source": [
    "df_trade_2 = df_trade.copy(deep=True)\n",
    "rounds = [] #只包含单个来回，每2条交易记录组成一个来回的组\n",
    "reverse_rounds = [] # 包含多个来回，信号之间包含平仓同时反向开仓的组\n",
    "for i in range(len(df_trade)-1,0,-1):\n",
    "# for i in range(len(df_trade)-1,-1,-1):\n",
    "    if df_trade_2.iloc[i-1,:]['signal'] == '00':\n",
    "        round = df_trade_2.iloc[i:,:]\n",
    "        if len(round)>2:\n",
    "            reverse_rounds.append(round)\n",
    "        else:\n",
    "            rounds.append(round)\n",
    "        df_trade_2 = df_trade_2.iloc[:i]"
   ]
  },
  {
   "cell_type": "code",
   "execution_count": 14,
   "metadata": {},
   "outputs": [
    {
     "name": "stdout",
     "output_type": "stream",
     "text": [
      "single round: 32\n",
      "reverse rounds:  0\n"
     ]
    }
   ],
   "source": [
    "num_round = len(rounds)\n",
    "for i in reverse_rounds:\n",
    "    num_round += len(i)-1\n",
    "print('single round:',num_round)\n",
    "print('reverse rounds: ',len(reverse_rounds))"
   ]
  },
  {
   "cell_type": "code",
   "execution_count": 15,
   "metadata": {},
   "outputs": [
    {
     "name": "stdout",
     "output_type": "stream",
     "text": [
      "win:  27\n",
      "lose:  5\n",
      "win profit:  36.599211434752874\n",
      "lose profit:  -5.131994547120177\n",
      "32\n"
     ]
    }
   ],
   "source": [
    "return_in_rounds = []\n",
    "win = 0\n",
    "lose = 0\n",
    "win_profit = 0\n",
    "lose_profit = 0\n",
    "for i in rounds:\n",
    "    \n",
    "    tmp_profit = (i['net value'] - i['net value'].shift(1)).values[-1]\n",
    "    single_round_cost = (i['bond price'].sum() + (i['stock price']*stock_volume).sum())/4\n",
    "    \n",
    "    return_in_round = tmp_profit/single_round_cost\n",
    "    return_in_rounds.append(return_in_round)\n",
    "    \n",
    "    \n",
    "    if tmp_profit>0:\n",
    "        win += 1\n",
    "        win_profit += tmp_profit\n",
    "    else:\n",
    "        lose += 1\n",
    "        lose_profit += tmp_profit\n",
    "print('win: ',win)\n",
    "print('lose: ',lose)\n",
    "print('win profit: ',win_profit)\n",
    "print('lose profit: ',lose_profit)\n",
    "print(len(return_in_rounds))"
   ]
  },
  {
   "cell_type": "code",
   "execution_count": 16,
   "metadata": {},
   "outputs": [],
   "source": [
    "''' \n",
    "先把连续反向开仓的信号拆开\n",
    "e.g.  1-1 -11 00 ---> 1-1 00 -11 00\n",
    "'''\n",
    "\n",
    "reverse_rounds_reconstruct = []\n",
    "for reverse_round in reverse_rounds:\n",
    "    reverse_rounds0_reconstruct = []\n",
    "    for i in range(0,len(reverse_round)-1): #4-2\n",
    "\n",
    "        # tmp_cols = reverse_rounds[0].columns\n",
    "        # tmp_index = reverse_rounds[0].iloc[i,:].reset_index()\n",
    "        m = reverse_round.iloc[i,:].tolist()\n",
    "        n = reverse_round.iloc[i+1,:].tolist()\n",
    "        # reverse_rounds0_reconstruct.append(m)\n",
    "        tmp_balance = m[0] + n[2]*m[4] + n[3]*m[5] \n",
    "        tmp_commission = n[6]/2\n",
    "        tmp_tax = n[7]/2\n",
    "        tmp_nv =  tmp_balance - tmp_commission - tmp_tax\n",
    "        \n",
    "        insert_line  = [tmp_balance,'00',np.nan,np.nan,0,0,tmp_commission,tmp_tax,'-',tmp_nv]\n",
    "        reverse_rounds0_reconstruct.append(m)\n",
    "        reverse_rounds0_reconstruct.append(insert_line)\n",
    "    # reverse_rounds0_reconstruct.append(n)    \n",
    "    tmp_cols = reverse_round.columns\n",
    "    reverse_rounds0_reconstruct[-1] = reverse_round.iloc[-1,:].tolist()\n",
    "    tmp_round = pd.DataFrame(reverse_rounds0_reconstruct[:],columns=tmp_cols)\n",
    "    tmp_round\n",
    "    for index,row in tmp_round.iterrows():\n",
    "        if row['reverse open'] == True:\n",
    "            tmp_round.loc[index,['commission','tax']] = tmp_round.loc[index,['commission','tax']]/2\n",
    "    tmp_round = tmp_round.fillna(method = 'bfill')\n",
    "    reverse_rounds_reconstruct.append(tmp_round)\n",
    "    tmp_round['new nv'] = tmp_round['balance'] + tmp_round['bond price']*tmp_round['bond hold'] + tmp_round['stock price']*tmp_round['stock hold'] - tmp_round['commission'] - tmp_round['tax']\n",
    "\n",
    "\n"
   ]
  },
  {
   "cell_type": "code",
   "execution_count": 17,
   "metadata": {},
   "outputs": [
    {
     "name": "stdout",
     "output_type": "stream",
     "text": [
      "0\n"
     ]
    }
   ],
   "source": [
    "reverse_rounds_detail = []\n",
    "for reverse_round in reverse_rounds_reconstruct:\n",
    "    print(len(reverse_round))\n",
    "    for i in range(0,len(reverse_round)-1,2):\n",
    "        df_tmp = reverse_round.iloc[i:i+2,:]\n",
    "        reverse_rounds_detail.append(df_tmp)\n",
    "print(len(reverse_rounds_detail))"
   ]
  },
  {
   "cell_type": "code",
   "execution_count": 18,
   "metadata": {},
   "outputs": [
    {
     "name": "stdout",
     "output_type": "stream",
     "text": [
      "win:  27\n",
      "lose:  5\n",
      "win profit:  36.599211434752874\n",
      "lose profit:  -5.131994547120177\n",
      "32\n"
     ]
    }
   ],
   "source": [
    "# return_in_rounds = []\n",
    "# win = 0\n",
    "# lose = 0\n",
    "# win_profit = 0\n",
    "# lose_profit = 0\n",
    "for i in reverse_rounds_detail:\n",
    "    \n",
    "    tmp_profit = (i['new nv'] - i['new nv'].shift(1)).values[-1]\n",
    "    single_round_cost = (i['bond price'].sum() + (i['stock price']*stock_volume).sum())/4\n",
    "    \n",
    "    return_in_round = tmp_profit/single_round_cost\n",
    "    return_in_rounds.append(return_in_round)\n",
    "    \n",
    "    \n",
    "    if tmp_profit>0:\n",
    "        win += 1\n",
    "        win_profit += tmp_profit\n",
    "    else:\n",
    "        lose += 1\n",
    "        lose_profit += tmp_profit\n",
    "print('win: ',win)\n",
    "print('lose: ',lose)\n",
    "print('win profit: ',win_profit)\n",
    "print('lose profit: ',lose_profit)\n",
    "print(len(return_in_rounds))"
   ]
  },
  {
   "cell_type": "markdown",
   "metadata": {},
   "source": [
    "# final performance"
   ]
  },
  {
   "cell_type": "code",
   "execution_count": 19,
   "metadata": {},
   "outputs": [
    {
     "name": "stdout",
     "output_type": "stream",
     "text": [
      "$$$$$$$$$$$$$$$$$$$$$$$$$$$$$$$$$$$$$$$$$$$$$$$$$$\n",
      "pair code: ['113642.SH', '603185.SH']\n",
      "convert price:  102.61\n",
      "first trade time 2022-06-06 09:41:00\n",
      "last trade time 2022-06-28 15:00:00\n",
      "$$$$$$$$$$$$$$$$$$$$$$$$$$$$$$$$$$$$$$$$$$$$$$$$$$\n",
      "win:  27\n",
      "lose:  5\n",
      "win profit:  36.599211434752874\n",
      "lose profit:  -5.131994547120177\n",
      "sum of win&lose profit:  31.467216887632695\n",
      "final net value: 34.56309177877399\n",
      "win rate:  0.84375\n",
      "profit ratio:  1.3206623048693087\n",
      "trade days:  16\n",
      "total round:  32\n",
      "avg round in a day:  2.0\n",
      "return_per_round:  0.007185507757367106\n",
      "@@@@@@@@@@@@@@@@@@@@@@@@@@@@@@@@@@@@@@@@@@@@@@@@@@@@@@@@@@@@@@@@@@@@@@@@@@@@@@@@\n"
     ]
    }
   ],
   "source": [
    "win_rate = win/(win+lose)\n",
    "win_profit_avg = win_profit/win\n",
    "lose_profit_avg = lose_profit/lose\n",
    "profit_ratio = win_profit_avg/abs(lose_profit_avg)\n",
    "\n",
    "total_round = win + lose \n",
    "\n",
    "trade_days = len(df_nv_full.resample('D').last().dropna()) -1 \n",
    "round_per_day = total_round/trade_days\n",
    "return_per_round = sum(return_in_rounds)/len(return_in_rounds)\n",
    "print('$'*50)\n",
    "print('pair code:',cbond_pair)\n",
    "print('convert price: ',convert_price)\n",
    "print('first trade time',df_trade.index[1])\n",
    "print('last trade time',df_trade.index[-1])\n",
    "print('$'*50)\n",
    "print('win: ',win)\n",
    "print('lose: ',lose)\n",
    "print('win profit: ',win_profit)\n",
    "print('lose profit: ',lose_profit)\n",
    "print('sum of win&lose profit: ',win_profit+lose_profit)\n",
    "print('final net value:',df_trade['net value'].values[-1])\n",
    "print('win rate: ', win_rate)\n",
    "print('profit ratio: ',profit_ratio)\n",
    "print('trade days: ',trade_days)\n",
    "print('total round: ',total_round)\n",
    "print('avg round in a day: ',round_per_day)\n",
    "print('return_per_round: ',return_per_round)\n",
    "print('@'*80)\n"
   ]
  },
  {
   "cell_type": "code",
   "execution_count": 20,
   "metadata": {},
   "outputs": [
    {
     "name": "stderr",
     "output_type": "stream",
     "text": [
      "/Users/bokie/opt/anaconda3/lib/python3.9/site-packages/numpy/core/_asarray.py:102: VisibleDeprecationWarning: Creating an ndarray from ragged nested sequences (which is a list-or-tuple of lists-or-tuples-or ndarrays with different lengths or shapes) is deprecated. If you meant to do this, you must specify 'dtype=object' when creating the ndarray.\n",
      "  return array(a, dtype, copy=False, order=order)\n"
     ]
    },
    {
     "data": {
      "text/html": [
       "<div>\n",
       "<style scoped>\n",
       "    .dataframe tbody tr th:only-of-type {\n",
       "        vertical-align: middle;\n",
       "    }\n",
       "\n",
       "    .dataframe tbody tr th {\n",
       "        vertical-align: top;\n",
       "    }\n",
       "\n",
       "    .dataframe thead th {\n",
       "        text-align: right;\n",
       "    }\n",
       "</style>\n",
       "<table border=\"1\" class=\"dataframe\">\n",
       "  <thead>\n",
       "    <tr style=\"text-align: right;\">\n",
       "      <th></th>\n",
       "      <th>cbond pair</th>\n",
       "      <th>convert price</th>\n",
       "      <th>win</th>\n",
       "      <th>lose</th>\n",
       "      <th>win profit</th>\n",
       "      <th>lose profit</th>\n",
       "      <th>sum of win&amp;lose profit</th>\n",
       "      <th>final net value</th>\n",
       "      <th>win rate</th>\n",
       "      <th>profit ratio</th>\n",
       "      <th>trade days</th>\n",
       "      <th>total round</th>\n",
       "      <th>avg round in a day</th>\n",
       "      <th>return per round</th>\n",
       "    </tr>\n",
       "  </thead>\n",
       "  <tbody>\n",
       "    <tr>\n",
       "      <th>2022-06-06 09:41:00 -&gt; 2022-06-28 15:00:00</th>\n",
       "      <td>[113642.SH, 603185.SH]</td>\n",
       "      <td>102.61</td>\n",
       "      <td>27.0</td>\n",
       "      <td>5.0</td>\n",
       "      <td>36.599211</td>\n",
       "      <td>-5.131995</td>\n",
       "      <td>31.467217</td>\n",
       "      <td>34.563092</td>\n",
       "      <td>0.84375</td>\n",
       "      <td>1.320662</td>\n",
       "      <td>16.0</td>\n",
       "      <td>32.0</td>\n",
       "      <td>2.0</td>\n",
       "      <td>0.007186</td>\n",
       "    </tr>\n",
       "  </tbody>\n",
       "</table>\n",
       "</div>"
      ],
      "text/plain": [
       "                                                        cbond pair  \\\n",
       "2022-06-06 09:41:00 -> 2022-06-28 15:00:00  [113642.SH, 603185.SH]   \n",
       "\n",
       "                                            convert price   win  lose  \\\n",
       "2022-06-06 09:41:00 -> 2022-06-28 15:00:00         102.61  27.0   5.0   \n",
       "\n",
       "                                            win profit  lose profit  \\\n",
       "2022-06-06 09:41:00 -> 2022-06-28 15:00:00   36.599211    -5.131995   \n",
       "\n",
       "                                            sum of win&lose profit  \\\n",
       "2022-06-06 09:41:00 -> 2022-06-28 15:00:00               31.467217   \n",
       "\n",
       "                                            final net value  win rate  \\\n",
       "2022-06-06 09:41:00 -> 2022-06-28 15:00:00        34.563092   0.84375   \n",
       "\n",
       "                                            profit ratio  trade days  \\\n",
       "2022-06-06 09:41:00 -> 2022-06-28 15:00:00      1.320662        16.0   \n",
       "\n",
       "                                            total round  avg round in a day  \\\n",
       "2022-06-06 09:41:00 -> 2022-06-28 15:00:00         32.0                 2.0   \n",
       "\n",
       "                                            return per round  \n",
       "2022-06-06 09:41:00 -> 2022-06-28 15:00:00          0.007186  "
      ]
     },
     "execution_count": 20,
     "metadata": {},
     "output_type": "execute_result"
    }
   ],
   "source": [
    "df_res = pd.DataFrame(data = [[np.nan]*14],\n",
    "    columns=['cbond pair','convert price','win','lose','win profit','lose profit',\n",
    "    'sum of win&lose profit','final net value','win rate',\n",
    "    'profit ratio','trade days','total round','avg round in a day','return per round'])\n",
    "\n",
    "tmp_idx = str(df_trade.index[1]) + ' -> ' + str(df_trade.index[-1])\n",
    "tmp_line = [cbond_pair,convert_price,win,lose,win_profit,lose_profit,\n",
    "            win_profit+lose_profit,df_trade['net value'].values[-1],win_rate,\n",
    "            profit_ratio,trade_days,total_round,round_per_day,return_per_round]\n",
    "\n",
    "df_res.loc[tmp_idx,df_res.columns] = tmp_line\n",
    "df_res = df_res.dropna()\n",
    "df_res"
   ]
  },
  {
   "cell_type": "markdown",
   "metadata": {},
   "source": [
    "# output to excel"
   ]
  },
  {
   "cell_type": "code",
   "execution_count": 21,
   "metadata": {},
   "outputs": [],
   "source": [
    "df_performance = pd.read_excel('performance_2.xlsx',index_col=0)\n",
    "df_performance = df_performance.append(df_res)\n",
    "df_performance.to_excel('performance_2.xlsx')"
   ]
  }
 ],
 "metadata": {
  "language_info": {
   "name": "python"
  },
  "orig_nbformat": 4
 },
 "nbformat": 4,
 "nbformat_minor": 2
}
