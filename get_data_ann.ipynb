{
 "cells": [
  {
   "cell_type": "code",
   "execution_count": 10,
   "metadata": {},
   "outputs": [
    {
     "name": "stdout",
     "output_type": "stream",
     "text": [
      "[2022-11-01T15:17:00.703093+0800] [87493] [INFO] [session.py] [63] PROD Env Init Completed!\n",
      "[2022-11-01T15:17:00.786737+0800] [87493] [DEBUG] [tianyan_provider.py] [130] retrieve total 0 rows of data\n",
      "[2022-11-01T15:17:00.863468+0800] [87493] [DEBUG] [tianyan_provider.py] [130] retrieve total 0 rows of data\n",
      "[2022-11-01T15:17:00.945135+0800] [87493] [DEBUG] [tianyan_provider.py] [130] retrieve total 0 rows of data\n",
      "[2022-11-01T15:17:01.024288+0800] [87493] [DEBUG] [tianyan_provider.py] [130] retrieve total 0 rows of data\n",
      "[2022-11-01T15:17:01.103199+0800] [87493] [DEBUG] [tianyan_provider.py] [130] retrieve total 0 rows of data\n",
      "[2022-11-01T15:17:01.181789+0800] [87493] [DEBUG] [tianyan_provider.py] [130] retrieve total 0 rows of data\n",
      "[2022-11-01T15:17:01.256104+0800] [87493] [DEBUG] [tianyan_provider.py] [130] retrieve total 0 rows of data\n",
      "[2022-11-01T15:17:01.331841+0800] [87493] [DEBUG] [tianyan_provider.py] [130] retrieve total 0 rows of data\n",
      "[2022-11-01T15:17:01.401660+0800] [87493] [DEBUG] [tianyan_provider.py] [130] retrieve total 0 rows of data\n",
      "[2022-11-01T15:17:01.480241+0800] [87493] [DEBUG] [tianyan_provider.py] [130] retrieve total 0 rows of data\n",
      "[2022-11-01T15:17:01.559857+0800] [87493] [DEBUG] [tianyan_provider.py] [130] retrieve total 0 rows of data\n",
      "[2022-11-01T15:17:01.639031+0800] [87493] [DEBUG] [tianyan_provider.py] [130] retrieve total 0 rows of data\n",
      "[2022-11-01T15:17:01.972514+0800] [87493] [DEBUG] [tianyan_provider.py] [130] retrieve total 0 rows of data\n",
      "[2022-11-01T15:17:02.056178+0800] [87493] [DEBUG] [tianyan_provider.py] [130] retrieve total 0 rows of data\n",
      "[2022-11-01T15:17:02.128676+0800] [87493] [DEBUG] [tianyan_provider.py] [130] retrieve total 0 rows of data\n",
      "[2022-11-01T15:17:02.212706+0800] [87493] [DEBUG] [tianyan_provider.py] [130] retrieve total 0 rows of data\n"
     ]
    }
   ],
   "source": [
    "from cmschina_tianyan.session import CmsSession\n",
    "import pandas as pd\n",
    "dataset = CmsSession.init(appId=\"cb632213cf764a019b32f8cc9d2040b7\", appSecret=\"b23700b9fbf0090709c7b72ac0fdcb390cd19cc663bcf1c7a07c12b8c32bf377\")\n",
    "\n",
    "stk_code_list = ['300587.SZ',\n",
    "'603185.SH',\n",
    "'600674.SH',\n",
    "'002203.SZ',\n",
    "'601127.SH',\n",
    "'002597.SZ',\n",
    "'603348.SH',\n",
    "'300487.SZ',\n",
    "'603876.SH',\n",
    "'601677.SH',\n",
    "'300655.SZ',\n",
    "'002078.SZ',\n",
    "'002738.SZ', #2022-10-14新增4个对子\n",
    "'002812.SZ',\n",
    "'603596.SH',\n",
    "'300332.SZ',]\n",
    "\n",
    "stk_code = '603355.SH'\n",
    "\n",
    "date = '20221030'\n",
    "\n",
    "formatted_date = date[:4]+'-'+date[4:6]+'-'+date[6:]\n",
    "df_res = []\n",
    "for stk_code in stk_code_list:\n",
    "    sql = f''' \n",
    "    SELECT * FROM wind_admin.ASHAREANNINF \n",
    "    where S_INFO_WINDCODE='{stk_code}' and ANN_DT = '{formatted_date}'\n",
    "    order by ANN_DT desc\n",
    "    '''\n",
    "\n",
    "    df_ann = dataset.get_data(sql)\n",
    "    \n",
    "    # df_ann.to_excel(f'./news_ann/ann/{stk_code}.xlsx')\n",
    "    if len(df_ann) != 0:\n",
    "        df_ann_tmp = df_ann[['S_INFO_WINDCODE','ANN_DT','N_INFO_TITLE']]\n",
    "        df_res.append(df_ann_tmp)\n"
   ]
  },
  {
   "cell_type": "code",
   "execution_count": 13,
   "metadata": {},
   "outputs": [
    {
     "data": {
      "text/html": [
       "<div>\n",
       "<style scoped>\n",
       "    .dataframe tbody tr th:only-of-type {\n",
       "        vertical-align: middle;\n",
       "    }\n",
       "\n",
       "    .dataframe tbody tr th {\n",
       "        vertical-align: top;\n",
       "    }\n",
       "\n",
       "    .dataframe thead th {\n",
       "        text-align: right;\n",
       "    }\n",
       "</style>\n",
       "<table border=\"1\" class=\"dataframe\">\n",
       "  <thead>\n",
       "    <tr style=\"text-align: right;\">\n",
       "      <th></th>\n",
       "    </tr>\n",
       "  </thead>\n",
       "  <tbody>\n",
       "  </tbody>\n",
       "</table>\n",
       "</div>"
      ],
      "text/plain": [
       "Empty DataFrame\n",
       "Columns: []\n",
       "Index: []"
      ]
     },
     "execution_count": 13,
     "metadata": {},
     "output_type": "execute_result"
    }
   ],
   "source": [
    "if len(df_res)!=0:\n",
    "    df_total = pd.concat(df_res)    \n",
    "    df_total.to_excel(f'./news_ann/ann/{date}_ann.xlsx')\n",
    "else:\n",
    "    df_total = pd.DataFrame([])\n",
    "    df_total.to_excel(f'./news_ann/ann/{date}_ann.xlsx')\n",
    "df_total"
   ]
  }
 ],
 "metadata": {
  "kernelspec": {
   "display_name": "Python 3.9.7 ('base')",
   "language": "python",
   "name": "python3"
  },
  "language_info": {
   "codemirror_mode": {
    "name": "ipython",
    "version": 3
   },
   "file_extension": ".py",
   "mimetype": "text/x-python",
   "name": "python",
   "nbconvert_exporter": "python",
   "pygments_lexer": "ipython3",
   "version": "3.9.7"
  },
  "orig_nbformat": 4,
  "vscode": {
   "interpreter": {
    "hash": "4b7a3c99c09164ed3315a85b9be868456d78d186d21965e8a7155bab558fd18f"
   }
  }
 },
 "nbformat": 4,
 "nbformat_minor": 2
}
