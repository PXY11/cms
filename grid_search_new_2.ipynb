{
 "cells": [
  {
   "cell_type": "markdown",
   "metadata": {},
   "source": [
    "# import data"
   ]
  },
  {
   "cell_type": "code",
   "execution_count": 1,
   "metadata": {},
   "outputs": [
    {
     "name": "stdout",
     "output_type": "stream",
     "text": [
      "dict_keys(['123046.SZ', '300587.SZ', '113642.SH', '603185.SH', '110061.SH', '600674.SH', '128081.SZ', '002203.SZ'])\n",
      "123046.SZ  data length:  31460\n",
      "300587.SZ  data length:  31460\n",
      "113642.SH  data length:  13552\n",
      "603185.SH  data length:  31460\n",
      "110061.SH  data length:  31460\n",
      "600674.SH  data length:  31460\n",
      "128081.SZ  data length:  31460\n",
      "002203.SZ  data length:  31460\n",
      "数据起始日期 2021-12-13 09:30:00\n",
      "数据结束日期 2022-06-28 15:00:00\n",
      "113642.SH数据起始日期 2022-04-06 09:30:00\n",
      "113642.SH数据结束日期 2022-06-28 15:00:00\n"
     ]
    }
   ],
   "source": [
    "import platform\n",
    "import pandas as pd\n",
    "from datetime import datetime, timedelta, time\n",
    "ohlcv_data = pd.read_pickle('/Users/bokie/code/python/CMS/可转债套利/cms/stock_data_min_new.pkl')\n",
    "print(ohlcv_data.keys())\n",
    "for k,v in ohlcv_data.items():\n",
    "    print(k,' data length: ',len(v))\n",
    "print('数据起始日期',v.index[0])\n",
    "print('数据结束日期',v.index[-1])\n",
    "print('113642.SH数据起始日期',ohlcv_data['113642.SH'].index[0])\n",
    "print('113642.SH数据结束日期',ohlcv_data['113642.SH'].index[-1])"
   ]
  },
  {
   "cell_type": "markdown",
   "metadata": {},
   "source": [
    "# bond-stock pair"
   ]
  },
  {
   "cell_type": "code",
   "execution_count": 2,
   "metadata": {},
   "outputs": [],
   "source": [
    "cbond_pair = ['128081.SZ','002203.SZ']\n",
    "part = 1\n",
    "convert_price = 9.69\n",
    "stock_volume = 100/convert_price #整个回测期间不变\n",
    "\n",
    "\n",
    "# cbond_pair = ['123046.SZ','300587.SZ']\n",
    "# part = 1 \n",
    "# convert_price = 6.73\n",
    "# stock_volume = 100/convert_price  # 2021-12-13至2022-03-23\n",
    "# part = 2\n",
    "# convert_price = 6.74\n",
    "# stock_volume = 100/convert_price  # 2022-03-24至2022-06-28\n",
    "\n",
    "\n",
    "# cbond_pair = ['110061.SH','600674.SH']\n",
    "# part = 1\n",
    "# convert_price = 9.2\n",
    "# stock_volume = 100/convert_price #整个回测期间不变\n",
    "\n",
    "\n",
    "# cbond_pair = ['113642.SH','603185.SH']\n",
    "# part = 1\n",
    "# convert_price = 145.66\n",
    "# stock_volume = 100/convert_price  # 2022-04-06至2022-06-02\n",
    "# part = 2\n",
    "# convert_price = 102.61\n",
    "# stock_volume = 100/convert_price  # 2022-06-03至2022-06-28\n"
   ]
  },
  {
   "cell_type": "code",
   "execution_count": 3,
   "metadata": {},
   "outputs": [],
   "source": [
    "cbond_pair_price = pd.DataFrame([])\n",
    "cbond_pair_price = pd.concat([ohlcv_data[cbond_pair[0]]['close'],ohlcv_data[cbond_pair[1]]['close']],axis=1)\n",
    "cbond_pair_price.columns = cbond_pair\n",
    "cbond_pair_price = cbond_pair_price.dropna()\n",
    "if cbond_pair[0] == '128081.SZ' or cbond_pair[0] == '110061.SH':\n",
    "    cbond_pair_price = cbond_pair_price.loc['2021-12-13 15:00:00':]\n",
    "elif cbond_pair[0] == '123046.SZ' and part == 1:\n",
    "    cbond_pair_price = cbond_pair_price.loc['2021-12-13 15:00:00':'2022-03-23 15:00:00']\n",
    "elif cbond_pair[0] == '123046.SZ' and part == 2:\n",
    "    cbond_pair_price = cbond_pair_price.loc['2022-03-25 15:00:00':]\n",
    "elif cbond_pair[0] == '113642.SH' and part == 1:\n",
    "    cbond_pair_price = cbond_pair_price.loc['2022-04-07 15:00:00':'2022-06-02 15:00:00']\n",
    "elif cbond_pair[0] == '113642.SH' and part == 2:\n",
    "    cbond_pair_price = cbond_pair_price.loc['2022-06-03 15:00:00':]\n"
   ]
  },
  {
   "cell_type": "markdown",
   "metadata": {},
   "source": [
    "# signal calculate"
   ]
  },
  {
   "cell_type": "code",
   "execution_count": 4,
   "metadata": {},
   "outputs": [
    {
     "data": {
      "text/plain": [
       "0"
      ]
     },
     "execution_count": 4,
     "metadata": {},
     "output_type": "execute_result"
    }
   ],
   "source": [
    "cbond_return = pd.DataFrame([])\n",
    "\n",
    "cbond_preclose = cbond_pair_price.iloc[0,0] # 初始时刻的bond前收盘价\n",
    "stock_preclose = cbond_pair_price.iloc[0,1] # 初始时刻的stock前收盘价\n",
    "\n",
    "for index,row in cbond_pair_price.iterrows():\n",
    "    \n",
    "    cbond_return.loc[index,cbond_pair[0]] = row[cbond_pair[0]]/cbond_preclose - 1 # 算日内的return\n",
    "    cbond_return.loc[index,cbond_pair[1]] = row[cbond_pair[1]]/stock_preclose - 1\n",
    "\n",
    "    if index.time()==time(15,0,0):  #算完日内return，迭代到今日价格的最后一个time bar的时候，将其设为前收盘价\n",
    "        cbond_preclose = row[cbond_pair[0]]    # 日内return指标用 现价/昨日收盘价 计算\n",
    "        stock_preclose = row[cbond_pair[1]]\n",
    "        \n",
    "# 检查df是否有空值\n",
    "cbond_return.isnull().sum(axis=0)  # 按列统计\n",
    "cbond_return.isnull().sum(axis=1) # 按行统计\n",
    "cbond_return.isnull().sum(axis=1).sum() # 统计整张表"
   ]
  },
  {
   "cell_type": "code",
   "execution_count": 5,
   "metadata": {},
   "outputs": [
    {
     "data": {
      "text/plain": [
       "29709"
      ]
     },
     "execution_count": 5,
     "metadata": {},
     "output_type": "execute_result"
    }
   ],
   "source": [
    "pd.set_option('display.max_rows', None)\n",
    "# pair moving trend: diff = cbond reutrn - stock return \n",
    "cbond_return['diff'] = cbond_return[cbond_pair[0]] - cbond_return[cbond_pair[1]]\n",
    "\n",
    "len(cbond_return)"
   ]
  },
  {
   "cell_type": "markdown",
   "metadata": {},
   "source": [
    "# grid search"
   ]
  },
  {
   "cell_type": "code",
   "execution_count": 6,
   "metadata": {},
   "outputs": [],
   "source": [
    "import warnings\n",
    "warnings.filterwarnings(\"ignore\")\n",
    "grid_search_res = {}"
   ]
  },
  {
   "cell_type": "code",
   "execution_count": 7,
   "metadata": {},
   "outputs": [
    {
     "name": "stdout",
     "output_type": "stream",
     "text": [
      "0.005@1e-06\n",
      "0.005@0.001\n",
      "0.005@0.002\n",
      "0.005@0.003\n",
      "0.006@1e-06\n",
      "0.006@0.001\n",
      "0.006@0.002\n",
      "0.006@0.003\n",
      "0.007@1e-06\n",
      "0.007@0.001\n",
      "0.007@0.002\n",
      "0.007@0.003\n",
      "0.008@1e-06\n",
      "0.008@0.001\n",
      "0.008@0.002\n",
      "0.008@0.003\n",
      "0.009@1e-06\n",
      "0.009@0.001\n",
      "0.009@0.002\n",
      "0.009@0.003\n",
      "0.01@1e-06\n",
      "0.01@0.001\n",
      "0.01@0.002\n",
      "0.01@0.003\n",
      "0.011@1e-06\n",
      "0.011@0.001\n",
      "0.011@0.002\n",
      "0.011@0.003\n",
      "0.012@1e-06\n",
      "0.012@0.001\n",
      "0.012@0.002\n",
      "0.012@0.003\n",
      "0.013@1e-06\n",
      "0.013@0.001\n",
      "0.013@0.002\n",
      "0.013@0.003\n",
      "0.014@1e-06\n",
      "0.014@0.001\n",
      "0.014@0.002\n",
      "0.014@0.003\n",
      "0.015@1e-06\n",
      "0.015@0.001\n",
      "0.015@0.002\n",
      "0.015@0.003\n"
     ]
    }
   ],
   "source": [
    "open_threshold_list = [0.005,0.006,0.007,0.008,0.009,\n",
    "                        0.01,0.011,0.012,0.013,0.014,0.015] # 0.005 ~ 0.01 ~ 0.015 间隔是0.001\n",
    "# close_threshold_list = [0,0.001,0.002,0.003] #  0 ~ 0.001 ~ 0.002 ~ 0.003\n",
    "close_threshold_list = [0.000001,0.001,0.002,0.003] #  0 ~ 0.001 ~ 0.002 ~ 0.003\n",
    "for open_threshold in open_threshold_list[:]:\n",
    "    for close_threshold in close_threshold_list[:]:\n",
    "        ######################################################################################################################################################\n",
    "        # open_threshold = 0.01  # 0.005 ~ 0.01 ~ 0.015 间隔是0.001\n",
    "        # open_threshold = 0.008\n",
    "        # close_threshold = 0.001 #  0 ~ 0.001 ~ 0.002 ~ 0.003\n",
    "        pos_open_flag = 0\n",
    "        neg_open_flag = 0\n",
    "        cbond_position = pd.DataFrame([])\n",
    "        cbond_position.index = cbond_return.index\n",
    "        for index,row in cbond_return.iterrows():\n",
    "\n",
    "            if row['diff'] >= open_threshold and pos_open_flag==0 and neg_open_flag==0:\n",
    "                #diff落在A区间，且无仓位，正开\n",
    "                pos_open_flag = 1\n",
    "                neg_open_flag = 0\n",
    "                cbond_position.loc[index,cbond_pair[0]] = -1*pos_open_flag\n",
    "                cbond_position.loc[index,cbond_pair[1]] = pos_open_flag\n",
    "            elif row['diff'] >= open_threshold and pos_open_flag==0 and neg_open_flag==1:\n",
    "                #diff落在A区间，且有负仓，平仓再正开\n",
    "                pos_open_flag=1\n",
    "                neg_open_flag=0\n",
    "                cbond_position.loc[index,cbond_pair[0]] = -1*pos_open_flag\n",
    "                cbond_position.loc[index,cbond_pair[1]] = pos_open_flag\n",
    "            elif row['diff'] >= open_threshold and pos_open_flag==1 and neg_open_flag==0:\n",
    "                #diff落在A区间，且有正仓，keep\n",
    "                pos_open_flag=1\n",
    "                neg_open_flag=0\n",
    "                cbond_position.loc[index,cbond_pair[0]] = -1*pos_open_flag\n",
    "                cbond_position.loc[index,cbond_pair[1]] = pos_open_flag\n",
    "\n",
    "            if row['diff'] > close_threshold and row['diff'] < open_threshold and pos_open_flag==1 and neg_open_flag==0:\n",
    "                #diff 落在B区间，且有正仓，keep\n",
    "                pos_open_flag=1\n",
    "                neg_open_flag=0\n",
    "                cbond_position.loc[index,cbond_pair[0]] = -1*pos_open_flag\n",
    "                cbond_position.loc[index,cbond_pair[1]] = pos_open_flag\n",
    "            elif row['diff'] > close_threshold and row['diff'] < open_threshold and pos_open_flag==0 and neg_open_flag==1:\n",
    "                #diff 落在B区间，且有负仓，平仓\n",
    "                pos_open_flag=0\n",
    "                neg_open_flag=0\n",
    "                cbond_position.loc[index,cbond_pair[0]] = neg_open_flag\n",
    "                cbond_position.loc[index,cbond_pair[1]] = neg_open_flag\n",
    "            elif row['diff'] > close_threshold and row['diff'] < open_threshold and pos_open_flag==0 and neg_open_flag==0:\n",
    "                #diff 落在B区间，且无仓，keep\n",
    "                pos_open_flag=0\n",
    "                neg_open_flag=0\n",
    "                cbond_position.loc[index,cbond_pair[0]] = neg_open_flag\n",
    "                cbond_position.loc[index,cbond_pair[1]] = neg_open_flag\n",
    "            \n",
    "            if row['diff'] >= -1*close_threshold and row['diff'] <= close_threshold and pos_open_flag==1 and neg_open_flag==0:\n",
    "                #diff 落在C区间，且有正仓，平仓\n",
    "                pos_open_flag=0\n",
    "                neg_open_flag=0\n",
    "                cbond_position.loc[index,cbond_pair[0]] = pos_open_flag\n",
    "                cbond_position.loc[index,cbond_pair[1]] = pos_open_flag\n",
    "            elif row['diff'] >= -1*close_threshold and row['diff'] <= close_threshold and pos_open_flag==0 and neg_open_flag==1:\n",
    "                #diff 落在C区间，且有负仓，平仓\n",
    "                pos_open_flag=0\n",
    "                neg_open_flag=0\n",
    "                cbond_position.loc[index,cbond_pair[0]] = neg_open_flag\n",
    "                cbond_position.loc[index,cbond_pair[1]] = neg_open_flag\n",
    "            elif row['diff'] >= -1*close_threshold and row['diff'] <= close_threshold and pos_open_flag==0 and neg_open_flag==0:\n",
    "                #diff 落在C区间，且无仓位，keep\n",
    "                pos_open_flag=0\n",
    "                neg_open_flag=0\n",
    "                cbond_position.loc[index,cbond_pair[0]] = neg_open_flag\n",
    "                cbond_position.loc[index,cbond_pair[1]] = neg_open_flag\n",
    "            \n",
    "            if row['diff'] > -1*open_threshold and row['diff'] < -1*close_threshold and pos_open_flag==0 and neg_open_flag==1:\n",
    "                #diff 落在D区间，且有负仓，keep\n",
    "                pos_open_flag=0\n",
    "                neg_open_flag=1\n",
    "                cbond_position.loc[index,cbond_pair[0]] = neg_open_flag\n",
    "                cbond_position.loc[index,cbond_pair[1]] = -1*neg_open_flag\n",
    "\n",
    "            elif row['diff'] > -1*open_threshold and row['diff'] < -1*close_threshold and pos_open_flag==1 and neg_open_flag==0:\n",
    "                #diff 落在D区间，且有正仓，平仓\n",
    "                pos_open_flag=0\n",
    "                neg_open_flag=0\n",
    "                cbond_position.loc[index,cbond_pair[0]] = pos_open_flag\n",
    "                cbond_position.loc[index,cbond_pair[1]] = pos_open_flag\n",
    "            elif row['diff'] > -1*open_threshold and row['diff'] < -1*close_threshold and pos_open_flag==0 and neg_open_flag==0:\n",
    "                #diff 落在D区间，且无仓位，keep\n",
    "                pos_open_flag=0\n",
    "                neg_open_flag=0\n",
    "                cbond_position.loc[index,cbond_pair[0]] = pos_open_flag\n",
    "                cbond_position.loc[index,cbond_pair[1]] = pos_open_flag\n",
    "\n",
    "            if row['diff'] <= -1*open_threshold and pos_open_flag==0 and neg_open_flag==0:\n",
    "                #diff 落在E区间，且无仓位，反开\n",
    "                pos_open_flag=0\n",
    "                neg_open_flag=1\n",
    "                cbond_position.loc[index,cbond_pair[0]] = neg_open_flag\n",
    "                cbond_position.loc[index,cbond_pair[1]] = -1*neg_open_flag\n",
    "            elif row['diff'] <= -1*open_threshold and pos_open_flag==1 and neg_open_flag==0:\n",
    "                #diff 落在E区间，且有正仓，平仓反开\n",
    "                pos_open_flag=0\n",
    "                neg_open_flag=1\n",
    "                cbond_position.loc[index,cbond_pair[0]] = neg_open_flag\n",
    "                cbond_position.loc[index,cbond_pair[1]] = -1*neg_open_flag\n",
    "            elif row['diff'] <= -1*open_threshold and pos_open_flag==0 and neg_open_flag==1:\n",
    "                #diff 落在E区间，且有负仓，keep\n",
    "                pos_open_flag=0\n",
    "                neg_open_flag=1\n",
    "                cbond_position.loc[index,cbond_pair[0]] = neg_open_flag\n",
    "                cbond_position.loc[index,cbond_pair[1]] = -1*neg_open_flag\n",
    "\n",
    "            if index.time()==time(15,0,0): # 每日收盘时必须平仓（时间止损信号）\n",
    "                pos_open_flag=0\n",
    "                neg_open_flag=0\n",
    "                cbond_position.loc[index,cbond_pair[0]] = pos_open_flag\n",
    "                cbond_position.loc[index,cbond_pair[1]] = pos_open_flag\n",
    "        ######################################################################################################################################################\n",
    "        # cbond_position.to_csv('cbond_position.csv')\n",
    "        df_signal = pd.concat([cbond_pair_price,cbond_return,cbond_position],axis=1)\n",
    "        df_signal.columns = ['bond_price','stock_price','bond_rtn','stock_rtn','diff','bond_pos','stock_pos']\n",
    "        # df_signal.to_csv('df_signal.csv')\n",
    "\n",
    "        # 用来记录交易流水的表格,一边遍历df_signal，一边填入内容到流水表格里\n",
    "\n",
    "        import numpy as np\n",
    "        cols = ['balance','signal','bond price','stock price','bond hold','stock hold','commission','tax','reverse open']\n",
    "        df_trade = pd.DataFrame(\n",
    "            data = [[0,np.nan,np.nan,np.nan,0,0,0,0,np.nan]],\n",
    "            columns=cols\n",
    "            ) \n",
    "\n",
    "        balance_last = 0 # 现金账户初始余额\n",
    "\n",
    "        bond_hold = 0 # 债券持有数量\n",
    "        stock_hold = 0 # 股票持有数量\n",
    "\n",
    "        commission_rate = 2/10000 # 佣金买卖万二\n",
    "        tax_rate = 1/1000 #\n",
    "\n",
    "\n",
    "\n",
    "        for i in range(len(df_signal)-1):\n",
    "            if df_signal.values[i][-1] != df_signal.values[i+1][-1]:\n",
    "                index = df_signal.index[i+1]\n",
    "\n",
    "            # df_signal的columns\n",
    "            # ['bond_price','stock_price','bond_rtn','stock_rtn','diff','bond_pos','stock_pos']\n",
    "                signal = str(int(df_signal.values[i+1][-2]))+str(int(df_signal.values[i+1][-1]))\n",
    "                \n",
    "                bond_price = df_signal.values[i+1][0] \n",
    "\n",
    "                stock_price = df_signal.values[i+1][1]\n",
    "\n",
    "                commission = (bond_price + stock_price * stock_volume) * commission_rate\n",
    "\n",
    "                reverse_open = False #表明这笔交易，是否包含平仓后再反向开仓的操作\n",
    "\n",
    "                if signal == '00' and stock_hold == stock_volume: #有股票持仓并且需要卖出平仓时，有印花税\n",
    "                    tax = stock_price * tax_rate * stock_volume\n",
    "                else:\n",
    "                    tax = 0\n",
    "\n",
    "                if signal == '00':\n",
    "                    balance_last += bond_hold*bond_price\n",
    "                    balance_last += stock_hold*stock_price\n",
    "                    \n",
    "                    bond_hold = 0\n",
    "                    stock_hold = 0\n",
    "                    \n",
    "\n",
    "                if signal == '1-1':\n",
    "                    '''\n",
    "                    加一个检测之前持仓的模块,如果之前因为-11的信号有持仓,需要先平掉(即买债卖股票),同时再反向开仓\n",
    "                    '''\n",
    "                    reverse_flag = False\n",
    "                    if bond_hold == -1 and stock_hold == 1*stock_volume:\n",
    "                        bond_hold = 0\n",
    "                        stock_hold = 0\n",
    "                        balance_last -= bond_price \n",
    "                        balance_last += stock_price * stock_volume\n",
    "                        commission *= 2 # 因为平掉之后再反向开仓，手续费double\n",
    "                        tax = stock_price * tax_rate * stock_volume # 卖股票要收印花税\n",
    "                        reverse_flag = True\n",
    "                        reverse_open = True\n",
    "\n",
    "                    bond_hold += 1\n",
    "                    stock_hold += (-1 * stock_volume)\n",
    "                    # stock_hold += stock_volume\n",
    "                    balance_last -= bond_price\n",
    "                    balance_last += stock_price * stock_volume\n",
    "                    \n",
    "                    if reverse_flag:\n",
    "                        tax *= 2 #平仓然后反向开仓的时候 已经计算过tax了，直接double\n",
    "                    else:\n",
    "                        tax = stock_price * tax_rate * stock_volume # 卖股票要收印花税\n",
    "\n",
    "                if signal == '-11':\n",
    "                    '''\n",
    "                    加一个检测之前持仓的模块,如果之前因为1-1的信号有持仓,需要先平掉(卖债买股票),同时再反向开仓\n",
    "                    '''\n",
    "                    if bond_hold == 1 and stock_hold == -1*stock_volume:\n",
    "                        bond_hold = 0\n",
    "                        stock_hold = 0\n",
    "                        balance_last += bond_price\n",
    "                        balance_last -= stock_price * stock_volume\n",
    "                        commission *= 2 # 因为平掉之后再反向开仓，手续费double\n",
    "                                        # 买股票无印花税\n",
    "                        reverse_open = True\n",
    "                    bond_hold += -1\n",
    "                    stock_hold += (1 * stock_volume)\n",
    "                    # stock_hold += stock_volume\n",
    "                    balance_last += bond_price\n",
    "                    balance_last -= stock_price * stock_volume\n",
    "                \n",
    "\n",
    "                balance = balance_last\n",
    "\n",
    "                line = [balance,signal,bond_price,stock_price,bond_hold,stock_hold,commission,tax,reverse_open]\n",
    "                # df_trade.loc[index,['balance','asset','signal','bond price','stock price','commission','tax']] = line\n",
    "                # df_trade.loc[index,cols] = [0,0,np.nan,np.nan,np.nan,0,0,0,0]\n",
    "                df_trade.loc[index,cols] = line\n",
    "\n",
    "        df_trade['net value'] = df_trade['balance'] + \\\n",
    "                                df_trade['bond price']*df_trade['bond hold'] + \\\n",
    "                                df_trade['stock price']*df_trade['stock hold'] - \\\n",
    "                                df_trade['commission'] - \\\n",
    "                                df_trade['tax']       \n",
    "        #把交易序列单个时间节点的扩展到整个序列\n",
    "        # assert False\n",
    "        df_nv = df_trade[['net value']].iloc[1:]\n",
    "        df_nv['time'] = df_nv.index\n",
    "        df_tmp = df_signal[['diff']]\n",
    "        df_tmp['time'] = df_tmp.index\n",
    "        #  merge之后再前向往后fillna\n",
    "        df_nv_full =  pd.merge(df_nv,df_tmp,how='outer').sort_values(by='time').fillna(method='ffill').fillna(0)\n",
    "        df_nv_full.index = df_tmp.index\n",
    "        df_nv_full = df_nv_full[['net value']]\n",
    "        df_trade_2 = df_trade.copy(deep=True)\n",
    "        rounds = [] #只包含单个来回，每2条交易记录组成一个来回的组\n",
    "        reverse_rounds = [] # 包含多个来回，信号之间包含平仓同时反向开仓的组\n",
    "        for i in range(len(df_trade)-1,0,-1):\n",
    "        # for i in range(len(df_trade)-1,-1,-1):\n",
    "            if df_trade_2.iloc[i-1,:]['signal'] == '00':\n",
    "                round = df_trade_2.iloc[i:,:]\n",
    "                if len(round)>2:\n",
    "                    reverse_rounds.append(round)\n",
    "                else:\n",
    "                    rounds.append(round)\n",
    "                df_trade_2 = df_trade_2.iloc[:i]\n",
    "\n",
    "        num_round = len(rounds)\n",
    "        for i in reverse_rounds:\n",
    "            num_round += len(i)-1\n",
    "        # # print('single round:',num_round)\n",
    "        # # print('reverse rounds: ',len(reverse_rounds))\n",
    "\n",
    "        return_in_rounds = []\n",
    "        win = 0\n",
    "        lose = 0\n",
    "        win_profit = 0\n",
    "        lose_profit = 0\n",
    "        for i in rounds:\n",
    "            \n",
    "            tmp_profit = (i['net value'] - i['net value'].shift(1)).values[-1]\n",
    "            single_round_cost = (i['bond price'].sum() + (i['stock price']*stock_volume).sum())/4\n",
    "            \n",
    "            return_in_round = tmp_profit/single_round_cost\n",
    "            return_in_rounds.append(return_in_round)\n",
    "            \n",
    "            \n",
    "            if tmp_profit>0:\n",
    "                win += 1\n",
    "                win_profit += tmp_profit\n",
    "            else:\n",
    "                lose += 1\n",
    "                lose_profit += tmp_profit\n",
    "        # # print('win: ',win)\n",
    "        # # print('lose: ',lose)\n",
    "        # # print('win profit: ',win_profit)\n",
    "        # # print('lose profit: ',lose_profit)\n",
    "        # # print(len(return_in_rounds))\n",
    "\n",
    "        ''' \n",
    "        先把连续反向开仓的信号拆开\n",
    "        e.g.  1-1 -11 00 ---> 1-1 00 -11 00\n",
    "        '''\n",
    "\n",
    "        reverse_rounds_reconstruct = []\n",
    "        for reverse_round in reverse_rounds:\n",
    "            reverse_rounds0_reconstruct = []\n",
    "            for i in range(0,len(reverse_round)-1): #4-2\n",
    "\n",
    "                # tmp_cols = reverse_rounds[0].columns\n",
    "                # tmp_index = reverse_rounds[0].iloc[i,:].reset_index()\n",
    "                m = reverse_round.iloc[i,:].tolist()\n",
    "                n = reverse_round.iloc[i+1,:].tolist()\n",
    "                # reverse_rounds0_reconstruct.append(m)\n",
    "                tmp_balance = m[0] + n[2]*m[4] + n[3]*m[5] \n",
    "                tmp_commission = n[6]/2\n",
    "                tmp_tax = n[7]/2\n",
    "                tmp_nv =  tmp_balance - tmp_commission - tmp_tax\n",
    "                \n",
    "                insert_line  = [tmp_balance,'00',np.nan,np.nan,0,0,tmp_commission,tmp_tax,'-',tmp_nv]\n",
    "                reverse_rounds0_reconstruct.append(m)\n",
    "                reverse_rounds0_reconstruct.append(insert_line)\n",
    "            # reverse_rounds0_reconstruct.append(n)    \n",
    "            tmp_cols = reverse_round.columns\n",
    "            reverse_rounds0_reconstruct[-1] = reverse_round.iloc[-1,:].tolist()\n",
    "            tmp_round = pd.DataFrame(reverse_rounds0_reconstruct[:],columns=tmp_cols)\n",
    "            tmp_round\n",
    "            for index,row in tmp_round.iterrows():\n",
    "                if row['reverse open'] == True:\n",
    "                    tmp_round.loc[index,['commission','tax']] = tmp_round.loc[index,['commission','tax']]/2\n",
    "            tmp_round = tmp_round.fillna(method = 'bfill')\n",
    "            reverse_rounds_reconstruct.append(tmp_round)\n",
    "            tmp_round['new nv'] = tmp_round['balance'] + tmp_round['bond price']*tmp_round['bond hold'] + tmp_round['stock price']*tmp_round['stock hold'] - tmp_round['commission'] - tmp_round['tax']\n",
    "\n",
    "        # reverse_rounds_reconstruct[0]\n",
    "        reverse_rounds_detail = []\n",
    "        for reverse_round in reverse_rounds_reconstruct:\n",
    "            # print(len(reverse_round))\n",
    "            for i in range(0,len(reverse_round)-1,2):\n",
    "                df_tmp = reverse_round.iloc[i:i+2,:]\n",
    "                reverse_rounds_detail.append(df_tmp)\n",
    "        # print(len(reverse_rounds_detail))\n",
    "\n",
    "        # return_in_rounds = []\n",
    "        # win = 0\n",
    "        # lose = 0\n",
    "        # win_profit = 0\n",
    "        # lose_profit = 0\n",
    "        for i in reverse_rounds_detail:\n",
    "            \n",
    "            tmp_profit = (i['new nv'] - i['new nv'].shift(1)).values[-1]\n",
    "            single_round_cost = (i['bond price'].sum() + (i['stock price']*stock_volume).sum())/4\n",
    "            \n",
    "            return_in_round = tmp_profit/single_round_cost\n",
    "            return_in_rounds.append(return_in_round)\n",
    "            \n",
    "            \n",
    "            if tmp_profit>0:\n",
    "                win += 1\n",
    "                win_profit += tmp_profit\n",
    "            else:\n",
    "                lose += 1\n",
    "                lose_profit += tmp_profit\n",
    "        # print('win: ',win)\n",
    "        # print('lose: ',lose)\n",
    "        # print('win profit: ',win_profit)\n",
    "        # print('lose profit: ',lose_profit)\n",
    "        # print(len(return_in_rounds))\n",
    "\n",
    "        win_rate = win/(win+lose)\n",
    "        win_profit_avg = win_profit/win\n",
    "        lose_profit_avg = lose_profit/lose\n",
    "        profit_ratio = win_profit_avg/abs(lose_profit_avg)\n",
    "\n",
    "        total_round = win + lose \n",
    "\n",
    "        trade_days = len(df_nv_full.resample('D').last().dropna()) -1 \n",
    "        round_per_day = total_round/trade_days\n",
    "        return_per_round = sum(return_in_rounds)/len(return_in_rounds)\n",
    "        # print('$'*50)\n",
    "        # print('pair code:',cbond_pair)\n",
    "        # print('convert price: ',convert_price)\n",
    "        # print('first trade time',df_trade.index[1])\n",
    "        # print('last trade time',df_trade.index[-1])\n",
    "        # print('$'*50)\n",
    "        # print('win: ',win)\n",
    "        # print('lose: ',lose)\n",
    "        # print('win profit: ',win_profit)\n",
    "        # print('lose profit: ',lose_profit)\n",
    "        # print('sum of win&lose profit: ',win_profit+lose_profit)\n",
    "        # print('final net value:',df_trade['net value'].values[-1])\n",
    "        # print('win rate: ', win_rate)\n",
    "        # print('profit ratio: ',profit_ratio)\n",
    "        # print('trade days: ',trade_days)\n",
    "        # print('total round: ',total_round)\n",
    "        # print('avg round in a day: ',round_per_day)\n",
    "        # print('return_per_round: ',return_per_round)\n",
    "        # print('@'*80)\n",
    "        df_res = pd.DataFrame(data = [[np.nan]*14],\n",
    "            columns=['cbond pair','convert price','win','lose','win profit','lose profit',\n",
    "            'sum of win&lose profit','final net value','win rate',\n",
    "            'profit ratio','trade days','total round','avg round in a day','return per round'])\n",
    "\n",
    "        tmp_idx = str(df_trade.index[1]) + ' -> ' + str(df_trade.index[-1])\n",
    "        tmp_line = [cbond_pair,convert_price,win,lose,win_profit,lose_profit,\n",
    "                    win_profit+lose_profit,df_trade['net value'].values[-1],win_rate,\n",
    "                    profit_ratio,trade_days,total_round,round_per_day,return_per_round]\n",
    "\n",
    "        df_res.loc[tmp_idx,df_res.columns] = tmp_line\n",
    "        df_res = df_res.dropna()\n",
    "        df_res['open threshold'] = open_threshold\n",
    "        df_res['close threshold'] = close_threshold\n",
    "        \n",
    "        tmp_key = str(open_threshold) +'@'+ str(close_threshold)\n",
    "        grid_search_res[tmp_key] = df_res\n",
    "        \n",
    "        print(tmp_key)"
   ]
  },
  {
   "cell_type": "code",
   "execution_count": 8,
   "metadata": {},
   "outputs": [],
   "source": [
    "df_grid_search_res =  pd.concat(list(grid_search_res.values()),axis=0)"
   ]
  },
  {
   "cell_type": "code",
   "execution_count": 9,
   "metadata": {},
   "outputs": [
    {
     "data": {
      "text/html": [
       "<div>\n",
       "<style scoped>\n",
       "    .dataframe tbody tr th:only-of-type {\n",
       "        vertical-align: middle;\n",
       "    }\n",
       "\n",
       "    .dataframe tbody tr th {\n",
       "        vertical-align: top;\n",
       "    }\n",
       "\n",
       "    .dataframe thead th {\n",
       "        text-align: right;\n",
       "    }\n",
       "</style>\n",
       "<table border=\"1\" class=\"dataframe\">\n",
       "  <thead>\n",
       "    <tr style=\"text-align: right;\">\n",
       "      <th></th>\n",
       "      <th>cbond pair</th>\n",
       "      <th>convert price</th>\n",
       "      <th>win</th>\n",
       "      <th>lose</th>\n",
       "      <th>win profit</th>\n",
       "      <th>lose profit</th>\n",
       "      <th>sum of win&amp;lose profit</th>\n",
       "      <th>final net value</th>\n",
       "      <th>win rate</th>\n",
       "      <th>profit ratio</th>\n",
       "      <th>trade days</th>\n",
       "      <th>total round</th>\n",
       "      <th>avg round in a day</th>\n",
       "      <th>return per round</th>\n",
       "      <th>open threshold</th>\n",
       "      <th>close threshold</th>\n",
       "    </tr>\n",
       "  </thead>\n",
       "  <tbody>\n",
       "    <tr>\n",
       "      <th>2021-12-14 09:58:00 -&gt; 2022-06-28 15:00:00</th>\n",
       "      <td>[128081.SZ, 002203.SZ]</td>\n",
       "      <td>9.69</td>\n",
       "      <td>206.0</td>\n",
       "      <td>76.0</td>\n",
       "      <td>154.770774</td>\n",
       "      <td>-65.785935</td>\n",
       "      <td>88.984839</td>\n",
       "      <td>90.466613</td>\n",
       "      <td>0.730496</td>\n",
       "      <td>0.867965</td>\n",
       "      <td>129.0</td>\n",
       "      <td>282.0</td>\n",
       "      <td>2.186047</td>\n",
       "      <td>0.002608</td>\n",
       "      <td>0.005</td>\n",
       "      <td>0.000001</td>\n",
       "    </tr>\n",
       "    <tr>\n",
       "      <th>2021-12-14 09:58:00 -&gt; 2022-06-28 15:00:00</th>\n",
       "      <td>[128081.SZ, 002203.SZ]</td>\n",
       "      <td>9.69</td>\n",
       "      <td>247.0</td>\n",
       "      <td>78.0</td>\n",
       "      <td>167.778895</td>\n",
       "      <td>-65.628899</td>\n",
       "      <td>102.149996</td>\n",
       "      <td>102.992364</td>\n",
       "      <td>0.760000</td>\n",
       "      <td>0.807309</td>\n",
       "      <td>129.0</td>\n",
       "      <td>325.0</td>\n",
       "      <td>2.519380</td>\n",
       "      <td>0.002592</td>\n",
       "      <td>0.005</td>\n",
       "      <td>0.001000</td>\n",
       "    </tr>\n",
       "    <tr>\n",
       "      <th>2021-12-14 09:58:00 -&gt; 2022-06-28 15:00:00</th>\n",
       "      <td>[128081.SZ, 002203.SZ]</td>\n",
       "      <td>9.69</td>\n",
       "      <td>326.0</td>\n",
       "      <td>75.0</td>\n",
       "      <td>187.503332</td>\n",
       "      <td>-64.886171</td>\n",
       "      <td>122.617161</td>\n",
       "      <td>123.243854</td>\n",
       "      <td>0.812968</td>\n",
       "      <td>0.664815</td>\n",
       "      <td>129.0</td>\n",
       "      <td>401.0</td>\n",
       "      <td>3.108527</td>\n",
       "      <td>0.002530</td>\n",
       "      <td>0.005</td>\n",
       "      <td>0.002000</td>\n",
       "    </tr>\n",
       "    <tr>\n",
       "      <th>2021-12-14 09:58:00 -&gt; 2022-06-28 15:00:00</th>\n",
       "      <td>[128081.SZ, 002203.SZ]</td>\n",
       "      <td>9.69</td>\n",
       "      <td>439.0</td>\n",
       "      <td>73.0</td>\n",
       "      <td>207.957748</td>\n",
       "      <td>-64.467288</td>\n",
       "      <td>143.490460</td>\n",
       "      <td>144.216942</td>\n",
       "      <td>0.857422</td>\n",
       "      <td>0.536407</td>\n",
       "      <td>129.0</td>\n",
       "      <td>512.0</td>\n",
       "      <td>3.968992</td>\n",
       "      <td>0.002318</td>\n",
       "      <td>0.005</td>\n",
       "      <td>0.003000</td>\n",
       "    </tr>\n",
       "    <tr>\n",
       "      <th>2021-12-14 09:59:00 -&gt; 2022-06-28 15:00:00</th>\n",
       "      <td>[128081.SZ, 002203.SZ]</td>\n",
       "      <td>9.69</td>\n",
       "      <td>166.0</td>\n",
       "      <td>62.0</td>\n",
       "      <td>128.297672</td>\n",
       "      <td>-58.536851</td>\n",
       "      <td>69.760822</td>\n",
       "      <td>71.577663</td>\n",
       "      <td>0.728070</td>\n",
       "      <td>0.818602</td>\n",
       "      <td>129.0</td>\n",
       "      <td>228.0</td>\n",
       "      <td>1.767442</td>\n",
       "      <td>0.002538</td>\n",
       "      <td>0.006</td>\n",
       "      <td>0.000001</td>\n",
       "    </tr>\n",
       "    <tr>\n",
       "      <th>2021-12-14 09:59:00 -&gt; 2022-06-28 15:00:00</th>\n",
       "      <td>[128081.SZ, 002203.SZ]</td>\n",
       "      <td>9.69</td>\n",
       "      <td>191.0</td>\n",
       "      <td>61.0</td>\n",
       "      <td>136.634166</td>\n",
       "      <td>-58.250848</td>\n",
       "      <td>78.383318</td>\n",
       "      <td>80.071430</td>\n",
       "      <td>0.757937</td>\n",
       "      <td>0.749124</td>\n",
       "      <td>129.0</td>\n",
       "      <td>252.0</td>\n",
       "      <td>1.953488</td>\n",
       "      <td>0.002576</td>\n",
       "      <td>0.006</td>\n",
       "      <td>0.001000</td>\n",
       "    </tr>\n",
       "    <tr>\n",
       "      <th>2021-12-14 09:59:00 -&gt; 2022-06-28 15:00:00</th>\n",
       "      <td>[128081.SZ, 002203.SZ]</td>\n",
       "      <td>9.69</td>\n",
       "      <td>234.0</td>\n",
       "      <td>63.0</td>\n",
       "      <td>150.259850</td>\n",
       "      <td>-57.339182</td>\n",
       "      <td>92.920668</td>\n",
       "      <td>94.070356</td>\n",
       "      <td>0.787879</td>\n",
       "      <td>0.705531</td>\n",
       "      <td>129.0</td>\n",
       "      <td>297.0</td>\n",
       "      <td>2.302326</td>\n",
       "      <td>0.002601</td>\n",
       "      <td>0.006</td>\n",
       "      <td>0.002000</td>\n",
       "    </tr>\n",
       "    <tr>\n",
       "      <th>2021-12-14 09:59:00 -&gt; 2022-06-28 15:00:00</th>\n",
       "      <td>[128081.SZ, 002203.SZ]</td>\n",
       "      <td>9.69</td>\n",
       "      <td>297.0</td>\n",
       "      <td>60.0</td>\n",
       "      <td>168.125337</td>\n",
       "      <td>-56.875398</td>\n",
       "      <td>111.249939</td>\n",
       "      <td>111.749095</td>\n",
       "      <td>0.831933</td>\n",
       "      <td>0.597178</td>\n",
       "      <td>129.0</td>\n",
       "      <td>357.0</td>\n",
       "      <td>2.767442</td>\n",
       "      <td>0.002585</td>\n",
       "      <td>0.006</td>\n",
       "      <td>0.003000</td>\n",
       "    </tr>\n",
       "    <tr>\n",
       "      <th>2021-12-14 13:28:00 -&gt; 2022-06-28 15:00:00</th>\n",
       "      <td>[128081.SZ, 002203.SZ]</td>\n",
       "      <td>9.69</td>\n",
       "      <td>135.0</td>\n",
       "      <td>58.0</td>\n",
       "      <td>117.440192</td>\n",
       "      <td>-52.639584</td>\n",
       "      <td>64.800609</td>\n",
       "      <td>64.993858</td>\n",
       "      <td>0.699482</td>\n",
       "      <td>0.958514</td>\n",
       "      <td>129.0</td>\n",
       "      <td>193.0</td>\n",
       "      <td>1.496124</td>\n",
       "      <td>0.002787</td>\n",
       "      <td>0.007</td>\n",
       "      <td>0.000001</td>\n",
       "    </tr>\n",
       "    <tr>\n",
       "      <th>2021-12-14 13:28:00 -&gt; 2022-06-28 15:00:00</th>\n",
       "      <td>[128081.SZ, 002203.SZ]</td>\n",
       "      <td>9.69</td>\n",
       "      <td>154.0</td>\n",
       "      <td>57.0</td>\n",
       "      <td>126.525007</td>\n",
       "      <td>-52.501762</td>\n",
       "      <td>74.023245</td>\n",
       "      <td>73.876609</td>\n",
       "      <td>0.729858</td>\n",
       "      <td>0.891983</td>\n",
       "      <td>129.0</td>\n",
       "      <td>211.0</td>\n",
       "      <td>1.635659</td>\n",
       "      <td>0.002902</td>\n",
       "      <td>0.007</td>\n",
       "      <td>0.001000</td>\n",
       "    </tr>\n",
       "    <tr>\n",
       "      <th>2021-12-14 13:28:00 -&gt; 2022-06-28 15:00:00</th>\n",
       "      <td>[128081.SZ, 002203.SZ]</td>\n",
       "      <td>9.69</td>\n",
       "      <td>184.0</td>\n",
       "      <td>57.0</td>\n",
       "      <td>136.389731</td>\n",
       "      <td>-51.661524</td>\n",
       "      <td>84.728207</td>\n",
       "      <td>84.148165</td>\n",
       "      <td>0.763485</td>\n",
       "      <td>0.817846</td>\n",
       "      <td>129.0</td>\n",
       "      <td>241.0</td>\n",
       "      <td>1.868217</td>\n",
       "      <td>0.002917</td>\n",
       "      <td>0.007</td>\n",
       "      <td>0.002000</td>\n",
       "    </tr>\n",
       "    <tr>\n",
       "      <th>2021-12-14 13:28:00 -&gt; 2022-06-28 15:00:00</th>\n",
       "      <td>[128081.SZ, 002203.SZ]</td>\n",
       "      <td>9.69</td>\n",
       "      <td>218.0</td>\n",
       "      <td>56.0</td>\n",
       "      <td>145.635073</td>\n",
       "      <td>-51.252423</td>\n",
       "      <td>94.382650</td>\n",
       "      <td>94.138530</td>\n",
       "      <td>0.795620</td>\n",
       "      <td>0.729933</td>\n",
       "      <td>129.0</td>\n",
       "      <td>274.0</td>\n",
       "      <td>2.124031</td>\n",
       "      <td>0.002857</td>\n",
       "      <td>0.007</td>\n",
       "      <td>0.003000</td>\n",
       "    </tr>\n",
       "    <tr>\n",
       "      <th>2021-12-14 13:33:00 -&gt; 2022-06-28 15:00:00</th>\n",
       "      <td>[128081.SZ, 002203.SZ]</td>\n",
       "      <td>9.69</td>\n",
       "      <td>114.0</td>\n",
       "      <td>50.0</td>\n",
       "      <td>103.501229</td>\n",
       "      <td>-47.221811</td>\n",
       "      <td>56.279418</td>\n",
       "      <td>56.232886</td>\n",
       "      <td>0.695122</td>\n",
       "      <td>0.961320</td>\n",
       "      <td>129.0</td>\n",
       "      <td>164.0</td>\n",
       "      <td>1.271318</td>\n",
       "      <td>0.002834</td>\n",
       "      <td>0.008</td>\n",
       "      <td>0.000001</td>\n",
       "    </tr>\n",
       "    <tr>\n",
       "      <th>2021-12-14 13:33:00 -&gt; 2022-06-28 15:00:00</th>\n",
       "      <td>[128081.SZ, 002203.SZ]</td>\n",
       "      <td>9.69</td>\n",
       "      <td>126.0</td>\n",
       "      <td>50.0</td>\n",
       "      <td>110.743168</td>\n",
       "      <td>-47.190601</td>\n",
       "      <td>63.552567</td>\n",
       "      <td>63.424646</td>\n",
       "      <td>0.715909</td>\n",
       "      <td>0.931238</td>\n",
       "      <td>129.0</td>\n",
       "      <td>176.0</td>\n",
       "      <td>1.364341</td>\n",
       "      <td>0.002976</td>\n",
       "      <td>0.008</td>\n",
       "      <td>0.001000</td>\n",
       "    </tr>\n",
       "    <tr>\n",
       "      <th>2021-12-14 13:33:00 -&gt; 2022-06-28 15:00:00</th>\n",
       "      <td>[128081.SZ, 002203.SZ]</td>\n",
       "      <td>9.69</td>\n",
       "      <td>147.0</td>\n",
       "      <td>50.0</td>\n",
       "      <td>119.869690</td>\n",
       "      <td>-47.213312</td>\n",
       "      <td>72.656378</td>\n",
       "      <td>72.263414</td>\n",
       "      <td>0.746193</td>\n",
       "      <td>0.863570</td>\n",
       "      <td>129.0</td>\n",
       "      <td>197.0</td>\n",
       "      <td>1.527132</td>\n",
       "      <td>0.003054</td>\n",
       "      <td>0.008</td>\n",
       "      <td>0.002000</td>\n",
       "    </tr>\n",
       "    <tr>\n",
       "      <th>2021-12-14 13:33:00 -&gt; 2022-06-28 15:00:00</th>\n",
       "      <td>[128081.SZ, 002203.SZ]</td>\n",
       "      <td>9.69</td>\n",
       "      <td>171.0</td>\n",
       "      <td>49.0</td>\n",
       "      <td>127.440205</td>\n",
       "      <td>-46.841664</td>\n",
       "      <td>80.598542</td>\n",
       "      <td>80.386982</td>\n",
       "      <td>0.777273</td>\n",
       "      <td>0.779604</td>\n",
       "      <td>129.0</td>\n",
       "      <td>220.0</td>\n",
       "      <td>1.705426</td>\n",
       "      <td>0.003038</td>\n",
       "      <td>0.008</td>\n",
       "      <td>0.003000</td>\n",
       "    </tr>\n",
       "    <tr>\n",
       "      <th>2021-12-14 13:37:00 -&gt; 2022-06-28 15:00:00</th>\n",
       "      <td>[128081.SZ, 002203.SZ]</td>\n",
       "      <td>9.69</td>\n",
       "      <td>101.0</td>\n",
       "      <td>43.0</td>\n",
       "      <td>94.414655</td>\n",
       "      <td>-42.375332</td>\n",
       "      <td>52.039324</td>\n",
       "      <td>52.649882</td>\n",
       "      <td>0.701389</td>\n",
       "      <td>0.948579</td>\n",
       "      <td>129.0</td>\n",
       "      <td>144.0</td>\n",
       "      <td>1.116279</td>\n",
       "      <td>0.002982</td>\n",
       "      <td>0.009</td>\n",
       "      <td>0.000001</td>\n",
       "    </tr>\n",
       "    <tr>\n",
       "      <th>2021-12-14 13:37:00 -&gt; 2022-06-28 15:00:00</th>\n",
       "      <td>[128081.SZ, 002203.SZ]</td>\n",
       "      <td>9.69</td>\n",
       "      <td>108.0</td>\n",
       "      <td>43.0</td>\n",
       "      <td>98.508983</td>\n",
       "      <td>-42.458103</td>\n",
       "      <td>56.050880</td>\n",
       "      <td>56.492870</td>\n",
       "      <td>0.715232</td>\n",
       "      <td>0.923762</td>\n",
       "      <td>129.0</td>\n",
       "      <td>151.0</td>\n",
       "      <td>1.170543</td>\n",
       "      <td>0.003060</td>\n",
       "      <td>0.009</td>\n",
       "      <td>0.001000</td>\n",
       "    </tr>\n",
       "    <tr>\n",
       "      <th>2021-12-14 13:37:00 -&gt; 2022-06-28 15:00:00</th>\n",
       "      <td>[128081.SZ, 002203.SZ]</td>\n",
       "      <td>9.69</td>\n",
       "      <td>122.0</td>\n",
       "      <td>44.0</td>\n",
       "      <td>104.876177</td>\n",
       "      <td>-42.994897</td>\n",
       "      <td>61.881280</td>\n",
       "      <td>62.557260</td>\n",
       "      <td>0.734940</td>\n",
       "      <td>0.879737</td>\n",
       "      <td>129.0</td>\n",
       "      <td>166.0</td>\n",
       "      <td>1.286822</td>\n",
       "      <td>0.003103</td>\n",
       "      <td>0.009</td>\n",
       "      <td>0.002000</td>\n",
       "    </tr>\n",
       "    <tr>\n",
       "      <th>2021-12-14 13:37:00 -&gt; 2022-06-28 15:00:00</th>\n",
       "      <td>[128081.SZ, 002203.SZ]</td>\n",
       "      <td>9.69</td>\n",
       "      <td>133.0</td>\n",
       "      <td>44.0</td>\n",
       "      <td>105.766769</td>\n",
       "      <td>-42.622165</td>\n",
       "      <td>63.144604</td>\n",
       "      <td>64.325049</td>\n",
       "      <td>0.751412</td>\n",
       "      <td>0.820946</td>\n",
       "      <td>129.0</td>\n",
       "      <td>177.0</td>\n",
       "      <td>1.372093</td>\n",
       "      <td>0.002974</td>\n",
       "      <td>0.009</td>\n",
       "      <td>0.003000</td>\n",
       "    </tr>\n",
       "    <tr>\n",
       "      <th>2021-12-14 14:46:00 -&gt; 2022-06-28 15:00:00</th>\n",
       "      <td>[128081.SZ, 002203.SZ]</td>\n",
       "      <td>9.69</td>\n",
       "      <td>86.0</td>\n",
       "      <td>40.0</td>\n",
       "      <td>83.466393</td>\n",
       "      <td>-38.804911</td>\n",
       "      <td>44.661482</td>\n",
       "      <td>46.099534</td>\n",
       "      <td>0.682540</td>\n",
       "      <td>1.000430</td>\n",
       "      <td>129.0</td>\n",
       "      <td>126.0</td>\n",
       "      <td>0.976744</td>\n",
       "      <td>0.002950</td>\n",
       "      <td>0.010</td>\n",
       "      <td>0.000001</td>\n",
       "    </tr>\n",
       "    <tr>\n",
       "      <th>2021-12-14 14:46:00 -&gt; 2022-06-28 15:00:00</th>\n",
       "      <td>[128081.SZ, 002203.SZ]</td>\n",
       "      <td>9.69</td>\n",
       "      <td>92.0</td>\n",
       "      <td>40.0</td>\n",
       "      <td>87.526707</td>\n",
       "      <td>-38.946639</td>\n",
       "      <td>48.580068</td>\n",
       "      <td>49.967322</td>\n",
       "      <td>0.696970</td>\n",
       "      <td>0.977108</td>\n",
       "      <td>129.0</td>\n",
       "      <td>132.0</td>\n",
       "      <td>1.023256</td>\n",
       "      <td>0.003058</td>\n",
       "      <td>0.010</td>\n",
       "      <td>0.001000</td>\n",
       "    </tr>\n",
       "    <tr>\n",
       "      <th>2021-12-14 14:46:00 -&gt; 2022-06-28 15:00:00</th>\n",
       "      <td>[128081.SZ, 002203.SZ]</td>\n",
       "      <td>9.69</td>\n",
       "      <td>100.0</td>\n",
       "      <td>40.0</td>\n",
       "      <td>91.182214</td>\n",
       "      <td>-38.912363</td>\n",
       "      <td>52.269851</td>\n",
       "      <td>53.851733</td>\n",
       "      <td>0.714286</td>\n",
       "      <td>0.937308</td>\n",
       "      <td>129.0</td>\n",
       "      <td>140.0</td>\n",
       "      <td>1.085271</td>\n",
       "      <td>0.003128</td>\n",
       "      <td>0.010</td>\n",
       "      <td>0.002000</td>\n",
       "    </tr>\n",
       "    <tr>\n",
       "      <th>2021-12-14 14:46:00 -&gt; 2022-06-28 15:00:00</th>\n",
       "      <td>[128081.SZ, 002203.SZ]</td>\n",
       "      <td>9.69</td>\n",
       "      <td>103.0</td>\n",
       "      <td>40.0</td>\n",
       "      <td>90.151278</td>\n",
       "      <td>-38.912363</td>\n",
       "      <td>51.238915</td>\n",
       "      <td>52.482347</td>\n",
       "      <td>0.720280</td>\n",
       "      <td>0.899719</td>\n",
       "      <td>129.0</td>\n",
       "      <td>143.0</td>\n",
       "      <td>1.108527</td>\n",
       "      <td>0.002997</td>\n",
       "      <td>0.010</td>\n",
       "      <td>0.003000</td>\n",
       "    </tr>\n",
       "    <tr>\n",
       "      <th>2021-12-14 14:46:00 -&gt; 2022-06-28 15:00:00</th>\n",
       "      <td>[128081.SZ, 002203.SZ]</td>\n",
       "      <td>9.69</td>\n",
       "      <td>73.0</td>\n",
       "      <td>37.0</td>\n",
       "      <td>75.677938</td>\n",
       "      <td>-34.470630</td>\n",
       "      <td>41.207308</td>\n",
       "      <td>42.438517</td>\n",
       "      <td>0.663636</td>\n",
       "      <td>1.112753</td>\n",
       "      <td>129.0</td>\n",
       "      <td>110.0</td>\n",
       "      <td>0.852713</td>\n",
       "      <td>0.003110</td>\n",
       "      <td>0.011</td>\n",
       "      <td>0.000001</td>\n",
       "    </tr>\n",
       "    <tr>\n",
       "      <th>2021-12-14 14:46:00 -&gt; 2022-06-28 15:00:00</th>\n",
       "      <td>[128081.SZ, 002203.SZ]</td>\n",
       "      <td>9.69</td>\n",
       "      <td>77.0</td>\n",
       "      <td>37.0</td>\n",
       "      <td>77.830773</td>\n",
       "      <td>-34.752769</td>\n",
       "      <td>43.078004</td>\n",
       "      <td>44.279115</td>\n",
       "      <td>0.675439</td>\n",
       "      <td>1.076150</td>\n",
       "      <td>129.0</td>\n",
       "      <td>114.0</td>\n",
       "      <td>0.883721</td>\n",
       "      <td>0.003132</td>\n",
       "      <td>0.011</td>\n",
       "      <td>0.001000</td>\n",
       "    </tr>\n",
       "    <tr>\n",
       "      <th>2021-12-14 14:46:00 -&gt; 2022-06-28 15:00:00</th>\n",
       "      <td>[128081.SZ, 002203.SZ]</td>\n",
       "      <td>9.69</td>\n",
       "      <td>82.0</td>\n",
       "      <td>37.0</td>\n",
       "      <td>81.777773</td>\n",
       "      <td>-34.495501</td>\n",
       "      <td>47.282272</td>\n",
       "      <td>48.810115</td>\n",
       "      <td>0.689076</td>\n",
       "      <td>1.069697</td>\n",
       "      <td>129.0</td>\n",
       "      <td>119.0</td>\n",
       "      <td>0.922481</td>\n",
       "      <td>0.003326</td>\n",
       "      <td>0.011</td>\n",
       "      <td>0.002000</td>\n",
       "    </tr>\n",
       "    <tr>\n",
       "      <th>2021-12-14 14:46:00 -&gt; 2022-06-28 15:00:00</th>\n",
       "      <td>[128081.SZ, 002203.SZ]</td>\n",
       "      <td>9.69</td>\n",
       "      <td>83.0</td>\n",
       "      <td>37.0</td>\n",
       "      <td>78.621117</td>\n",
       "      <td>-34.495501</td>\n",
       "      <td>44.125615</td>\n",
       "      <td>45.529729</td>\n",
       "      <td>0.691667</td>\n",
       "      <td>1.016016</td>\n",
       "      <td>129.0</td>\n",
       "      <td>120.0</td>\n",
       "      <td>0.930233</td>\n",
       "      <td>0.003070</td>\n",
       "      <td>0.011</td>\n",
       "      <td>0.003000</td>\n",
       "    </tr>\n",
       "    <tr>\n",
       "      <th>2021-12-15 10:04:00 -&gt; 2022-06-27 15:00:00</th>\n",
       "      <td>[128081.SZ, 002203.SZ]</td>\n",
       "      <td>9.69</td>\n",
       "      <td>61.0</td>\n",
       "      <td>34.0</td>\n",
       "      <td>67.797650</td>\n",
       "      <td>-31.362447</td>\n",
       "      <td>36.435202</td>\n",
       "      <td>37.844444</td>\n",
       "      <td>0.642105</td>\n",
       "      <td>1.204908</td>\n",
       "      <td>129.0</td>\n",
       "      <td>95.0</td>\n",
       "      <td>0.736434</td>\n",
       "      <td>0.003218</td>\n",
       "      <td>0.012</td>\n",
       "      <td>0.000001</td>\n",
       "    </tr>\n",
       "    <tr>\n",
       "      <th>2021-12-15 10:04:00 -&gt; 2022-06-27 15:00:00</th>\n",
       "      <td>[128081.SZ, 002203.SZ]</td>\n",
       "      <td>9.69</td>\n",
       "      <td>63.0</td>\n",
       "      <td>34.0</td>\n",
       "      <td>68.161851</td>\n",
       "      <td>-31.479681</td>\n",
       "      <td>36.682170</td>\n",
       "      <td>38.066867</td>\n",
       "      <td>0.649485</td>\n",
       "      <td>1.168556</td>\n",
       "      <td>129.0</td>\n",
       "      <td>97.0</td>\n",
       "      <td>0.751938</td>\n",
       "      <td>0.003165</td>\n",
       "      <td>0.012</td>\n",
       "      <td>0.001000</td>\n",
       "    </tr>\n",
       "    <tr>\n",
       "      <th>2021-12-15 10:04:00 -&gt; 2022-06-27 15:00:00</th>\n",
       "      <td>[128081.SZ, 002203.SZ]</td>\n",
       "      <td>9.69</td>\n",
       "      <td>68.0</td>\n",
       "      <td>34.0</td>\n",
       "      <td>71.397384</td>\n",
       "      <td>-31.464953</td>\n",
       "      <td>39.932431</td>\n",
       "      <td>41.643468</td>\n",
       "      <td>0.666667</td>\n",
       "      <td>1.134554</td>\n",
       "      <td>129.0</td>\n",
       "      <td>102.0</td>\n",
       "      <td>0.790698</td>\n",
       "      <td>0.003313</td>\n",
       "      <td>0.012</td>\n",
       "      <td>0.002000</td>\n",
       "    </tr>\n",
       "    <tr>\n",
       "      <th>2021-12-15 10:04:00 -&gt; 2022-06-27 15:00:00</th>\n",
       "      <td>[128081.SZ, 002203.SZ]</td>\n",
       "      <td>9.69</td>\n",
       "      <td>69.0</td>\n",
       "      <td>34.0</td>\n",
       "      <td>69.598846</td>\n",
       "      <td>-31.464953</td>\n",
       "      <td>38.133893</td>\n",
       "      <td>39.720473</td>\n",
       "      <td>0.669903</td>\n",
       "      <td>1.089945</td>\n",
       "      <td>129.0</td>\n",
       "      <td>103.0</td>\n",
       "      <td>0.798450</td>\n",
       "      <td>0.003123</td>\n",
       "      <td>0.012</td>\n",
       "      <td>0.003000</td>\n",
       "    </tr>\n",
       "    <tr>\n",
       "      <th>2021-12-15 10:09:00 -&gt; 2022-06-27 15:00:00</th>\n",
       "      <td>[128081.SZ, 002203.SZ]</td>\n",
       "      <td>9.69</td>\n",
       "      <td>53.0</td>\n",
       "      <td>31.0</td>\n",
       "      <td>61.551627</td>\n",
       "      <td>-27.294809</td>\n",
       "      <td>34.256818</td>\n",
       "      <td>35.709058</td>\n",
       "      <td>0.630952</td>\n",
       "      <td>1.319002</td>\n",
       "      <td>129.0</td>\n",
       "      <td>84.0</td>\n",
       "      <td>0.651163</td>\n",
       "      <td>0.003458</td>\n",
       "      <td>0.013</td>\n",
       "      <td>0.000001</td>\n",
       "    </tr>\n",
       "    <tr>\n",
       "      <th>2021-12-15 10:09:00 -&gt; 2022-06-27 15:00:00</th>\n",
       "      <td>[128081.SZ, 002203.SZ]</td>\n",
       "      <td>9.69</td>\n",
       "      <td>53.0</td>\n",
       "      <td>31.0</td>\n",
       "      <td>59.452631</td>\n",
       "      <td>-27.294809</td>\n",
       "      <td>32.157821</td>\n",
       "      <td>33.604692</td>\n",
       "      <td>0.630952</td>\n",
       "      <td>1.274022</td>\n",
       "      <td>129.0</td>\n",
       "      <td>84.0</td>\n",
       "      <td>0.651163</td>\n",
       "      <td>0.003241</td>\n",
       "      <td>0.013</td>\n",
       "      <td>0.001000</td>\n",
       "    </tr>\n",
       "    <tr>\n",
       "      <th>2021-12-15 10:09:00 -&gt; 2022-06-27 15:00:00</th>\n",
       "      <td>[128081.SZ, 002203.SZ]</td>\n",
       "      <td>9.69</td>\n",
       "      <td>57.0</td>\n",
       "      <td>31.0</td>\n",
       "      <td>61.356633</td>\n",
       "      <td>-26.860470</td>\n",
       "      <td>34.496163</td>\n",
       "      <td>36.152501</td>\n",
       "      <td>0.647727</td>\n",
       "      <td>1.242324</td>\n",
       "      <td>129.0</td>\n",
       "      <td>88.0</td>\n",
       "      <td>0.682171</td>\n",
       "      <td>0.003372</td>\n",
       "      <td>0.013</td>\n",
       "      <td>0.002000</td>\n",
       "    </tr>\n",
       "    <tr>\n",
       "      <th>2021-12-15 10:09:00 -&gt; 2022-06-27 15:00:00</th>\n",
       "      <td>[128081.SZ, 002203.SZ]</td>\n",
       "      <td>9.69</td>\n",
       "      <td>58.0</td>\n",
       "      <td>31.0</td>\n",
       "      <td>59.947349</td>\n",
       "      <td>-26.860470</td>\n",
       "      <td>33.086878</td>\n",
       "      <td>34.619501</td>\n",
       "      <td>0.651685</td>\n",
       "      <td>1.192862</td>\n",
       "      <td>129.0</td>\n",
       "      <td>89.0</td>\n",
       "      <td>0.689922</td>\n",
       "      <td>0.003192</td>\n",
       "      <td>0.013</td>\n",
       "      <td>0.003000</td>\n",
       "    </tr>\n",
       "    <tr>\n",
       "      <th>2021-12-15 10:15:00 -&gt; 2022-06-24 15:00:00</th>\n",
       "      <td>[128081.SZ, 002203.SZ]</td>\n",
       "      <td>9.69</td>\n",
       "      <td>46.0</td>\n",
       "      <td>27.0</td>\n",
       "      <td>50.246058</td>\n",
       "      <td>-23.855097</td>\n",
       "      <td>26.390961</td>\n",
       "      <td>28.009052</td>\n",
       "      <td>0.630137</td>\n",
       "      <td>1.236308</td>\n",
       "      <td>129.0</td>\n",
       "      <td>73.0</td>\n",
       "      <td>0.565891</td>\n",
       "      <td>0.003136</td>\n",
       "      <td>0.014</td>\n",
       "      <td>0.000001</td>\n",
       "    </tr>\n",
       "    <tr>\n",
       "      <th>2021-12-15 10:15:00 -&gt; 2022-06-24 15:00:00</th>\n",
       "      <td>[128081.SZ, 002203.SZ]</td>\n",
       "      <td>9.69</td>\n",
       "      <td>46.0</td>\n",
       "      <td>27.0</td>\n",
       "      <td>48.790137</td>\n",
       "      <td>-23.855097</td>\n",
       "      <td>24.935040</td>\n",
       "      <td>26.550471</td>\n",
       "      <td>0.630137</td>\n",
       "      <td>1.200485</td>\n",
       "      <td>129.0</td>\n",
       "      <td>73.0</td>\n",
       "      <td>0.565891</td>\n",
       "      <td>0.002961</td>\n",
       "      <td>0.014</td>\n",
       "      <td>0.001000</td>\n",
       "    </tr>\n",
       "    <tr>\n",
       "      <th>2021-12-15 10:15:00 -&gt; 2022-06-24 15:00:00</th>\n",
       "      <td>[128081.SZ, 002203.SZ]</td>\n",
       "      <td>9.69</td>\n",
       "      <td>50.0</td>\n",
       "      <td>27.0</td>\n",
       "      <td>52.424465</td>\n",
       "      <td>-23.873438</td>\n",
       "      <td>28.551027</td>\n",
       "      <td>30.375870</td>\n",
       "      <td>0.649351</td>\n",
       "      <td>1.185804</td>\n",
       "      <td>129.0</td>\n",
       "      <td>77.0</td>\n",
       "      <td>0.596899</td>\n",
       "      <td>0.003266</td>\n",
       "      <td>0.014</td>\n",
       "      <td>0.002000</td>\n",
       "    </tr>\n",
       "    <tr>\n",
       "      <th>2021-12-15 10:15:00 -&gt; 2022-06-24 15:00:00</th>\n",
       "      <td>[128081.SZ, 002203.SZ]</td>\n",
       "      <td>9.69</td>\n",
       "      <td>50.0</td>\n",
       "      <td>27.0</td>\n",
       "      <td>49.725602</td>\n",
       "      <td>-23.873438</td>\n",
       "      <td>25.852164</td>\n",
       "      <td>27.671492</td>\n",
       "      <td>0.649351</td>\n",
       "      <td>1.124757</td>\n",
       "      <td>129.0</td>\n",
       "      <td>77.0</td>\n",
       "      <td>0.596899</td>\n",
       "      <td>0.002963</td>\n",
       "      <td>0.014</td>\n",
       "      <td>0.003000</td>\n",
       "    </tr>\n",
       "    <tr>\n",
       "      <th>2021-12-15 11:01:00 -&gt; 2022-06-24 15:00:00</th>\n",
       "      <td>[128081.SZ, 002203.SZ]</td>\n",
       "      <td>9.69</td>\n",
       "      <td>46.0</td>\n",
       "      <td>23.0</td>\n",
       "      <td>47.727511</td>\n",
       "      <td>-21.689575</td>\n",
       "      <td>26.037936</td>\n",
       "      <td>27.832219</td>\n",
       "      <td>0.666667</td>\n",
       "      <td>1.100241</td>\n",
       "      <td>129.0</td>\n",
       "      <td>69.0</td>\n",
       "      <td>0.534884</td>\n",
       "      <td>0.003290</td>\n",
       "      <td>0.015</td>\n",
       "      <td>0.000001</td>\n",
       "    </tr>\n",
       "    <tr>\n",
       "      <th>2021-12-15 11:01:00 -&gt; 2022-06-24 15:00:00</th>\n",
       "      <td>[128081.SZ, 002203.SZ]</td>\n",
       "      <td>9.69</td>\n",
       "      <td>46.0</td>\n",
       "      <td>23.0</td>\n",
       "      <td>46.371884</td>\n",
       "      <td>-21.689575</td>\n",
       "      <td>24.682310</td>\n",
       "      <td>26.474633</td>\n",
       "      <td>0.666667</td>\n",
       "      <td>1.068990</td>\n",
       "      <td>129.0</td>\n",
       "      <td>69.0</td>\n",
       "      <td>0.534884</td>\n",
       "      <td>0.003117</td>\n",
       "      <td>0.015</td>\n",
       "      <td>0.001000</td>\n",
       "    </tr>\n",
       "    <tr>\n",
       "      <th>2021-12-15 11:01:00 -&gt; 2022-06-24 15:00:00</th>\n",
       "      <td>[128081.SZ, 002203.SZ]</td>\n",
       "      <td>9.69</td>\n",
       "      <td>50.0</td>\n",
       "      <td>23.0</td>\n",
       "      <td>50.302310</td>\n",
       "      <td>-21.296627</td>\n",
       "      <td>29.005683</td>\n",
       "      <td>31.007227</td>\n",
       "      <td>0.684932</td>\n",
       "      <td>1.086513</td>\n",
       "      <td>129.0</td>\n",
       "      <td>73.0</td>\n",
       "      <td>0.565891</td>\n",
       "      <td>0.003511</td>\n",
       "      <td>0.015</td>\n",
       "      <td>0.002000</td>\n",
       "    </tr>\n",
       "    <tr>\n",
       "      <th>2021-12-15 11:01:00 -&gt; 2022-06-24 15:00:00</th>\n",
       "      <td>[128081.SZ, 002203.SZ]</td>\n",
       "      <td>9.69</td>\n",
       "      <td>50.0</td>\n",
       "      <td>23.0</td>\n",
       "      <td>48.393960</td>\n",
       "      <td>-21.296627</td>\n",
       "      <td>27.097333</td>\n",
       "      <td>29.094264</td>\n",
       "      <td>0.684932</td>\n",
       "      <td>1.045293</td>\n",
       "      <td>129.0</td>\n",
       "      <td>73.0</td>\n",
       "      <td>0.565891</td>\n",
       "      <td>0.003283</td>\n",
       "      <td>0.015</td>\n",
       "      <td>0.003000</td>\n",
       "    </tr>\n",
       "  </tbody>\n",
       "</table>\n",
       "</div>"
      ],
      "text/plain": [
       "                                                        cbond pair  \\\n",
       "2021-12-14 09:58:00 -> 2022-06-28 15:00:00  [128081.SZ, 002203.SZ]   \n",
       "2021-12-14 09:58:00 -> 2022-06-28 15:00:00  [128081.SZ, 002203.SZ]   \n",
       "2021-12-14 09:58:00 -> 2022-06-28 15:00:00  [128081.SZ, 002203.SZ]   \n",
       "2021-12-14 09:58:00 -> 2022-06-28 15:00:00  [128081.SZ, 002203.SZ]   \n",
       "2021-12-14 09:59:00 -> 2022-06-28 15:00:00  [128081.SZ, 002203.SZ]   \n",
       "2021-12-14 09:59:00 -> 2022-06-28 15:00:00  [128081.SZ, 002203.SZ]   \n",
       "2021-12-14 09:59:00 -> 2022-06-28 15:00:00  [128081.SZ, 002203.SZ]   \n",
       "2021-12-14 09:59:00 -> 2022-06-28 15:00:00  [128081.SZ, 002203.SZ]   \n",
       "2021-12-14 13:28:00 -> 2022-06-28 15:00:00  [128081.SZ, 002203.SZ]   \n",
       "2021-12-14 13:28:00 -> 2022-06-28 15:00:00  [128081.SZ, 002203.SZ]   \n",
       "2021-12-14 13:28:00 -> 2022-06-28 15:00:00  [128081.SZ, 002203.SZ]   \n",
       "2021-12-14 13:28:00 -> 2022-06-28 15:00:00  [128081.SZ, 002203.SZ]   \n",
       "2021-12-14 13:33:00 -> 2022-06-28 15:00:00  [128081.SZ, 002203.SZ]   \n",
       "2021-12-14 13:33:00 -> 2022-06-28 15:00:00  [128081.SZ, 002203.SZ]   \n",
       "2021-12-14 13:33:00 -> 2022-06-28 15:00:00  [128081.SZ, 002203.SZ]   \n",
       "2021-12-14 13:33:00 -> 2022-06-28 15:00:00  [128081.SZ, 002203.SZ]   \n",
       "2021-12-14 13:37:00 -> 2022-06-28 15:00:00  [128081.SZ, 002203.SZ]   \n",
       "2021-12-14 13:37:00 -> 2022-06-28 15:00:00  [128081.SZ, 002203.SZ]   \n",
       "2021-12-14 13:37:00 -> 2022-06-28 15:00:00  [128081.SZ, 002203.SZ]   \n",
       "2021-12-14 13:37:00 -> 2022-06-28 15:00:00  [128081.SZ, 002203.SZ]   \n",
       "2021-12-14 14:46:00 -> 2022-06-28 15:00:00  [128081.SZ, 002203.SZ]   \n",
       "2021-12-14 14:46:00 -> 2022-06-28 15:00:00  [128081.SZ, 002203.SZ]   \n",
       "2021-12-14 14:46:00 -> 2022-06-28 15:00:00  [128081.SZ, 002203.SZ]   \n",
       "2021-12-14 14:46:00 -> 2022-06-28 15:00:00  [128081.SZ, 002203.SZ]   \n",
       "2021-12-14 14:46:00 -> 2022-06-28 15:00:00  [128081.SZ, 002203.SZ]   \n",
       "2021-12-14 14:46:00 -> 2022-06-28 15:00:00  [128081.SZ, 002203.SZ]   \n",
       "2021-12-14 14:46:00 -> 2022-06-28 15:00:00  [128081.SZ, 002203.SZ]   \n",
       "2021-12-14 14:46:00 -> 2022-06-28 15:00:00  [128081.SZ, 002203.SZ]   \n",
       "2021-12-15 10:04:00 -> 2022-06-27 15:00:00  [128081.SZ, 002203.SZ]   \n",
       "2021-12-15 10:04:00 -> 2022-06-27 15:00:00  [128081.SZ, 002203.SZ]   \n",
       "2021-12-15 10:04:00 -> 2022-06-27 15:00:00  [128081.SZ, 002203.SZ]   \n",
       "2021-12-15 10:04:00 -> 2022-06-27 15:00:00  [128081.SZ, 002203.SZ]   \n",
       "2021-12-15 10:09:00 -> 2022-06-27 15:00:00  [128081.SZ, 002203.SZ]   \n",
       "2021-12-15 10:09:00 -> 2022-06-27 15:00:00  [128081.SZ, 002203.SZ]   \n",
       "2021-12-15 10:09:00 -> 2022-06-27 15:00:00  [128081.SZ, 002203.SZ]   \n",
       "2021-12-15 10:09:00 -> 2022-06-27 15:00:00  [128081.SZ, 002203.SZ]   \n",
       "2021-12-15 10:15:00 -> 2022-06-24 15:00:00  [128081.SZ, 002203.SZ]   \n",
       "2021-12-15 10:15:00 -> 2022-06-24 15:00:00  [128081.SZ, 002203.SZ]   \n",
       "2021-12-15 10:15:00 -> 2022-06-24 15:00:00  [128081.SZ, 002203.SZ]   \n",
       "2021-12-15 10:15:00 -> 2022-06-24 15:00:00  [128081.SZ, 002203.SZ]   \n",
       "2021-12-15 11:01:00 -> 2022-06-24 15:00:00  [128081.SZ, 002203.SZ]   \n",
       "2021-12-15 11:01:00 -> 2022-06-24 15:00:00  [128081.SZ, 002203.SZ]   \n",
       "2021-12-15 11:01:00 -> 2022-06-24 15:00:00  [128081.SZ, 002203.SZ]   \n",
       "2021-12-15 11:01:00 -> 2022-06-24 15:00:00  [128081.SZ, 002203.SZ]   \n",
       "\n",
       "                                            convert price    win  lose  \\\n",
       "2021-12-14 09:58:00 -> 2022-06-28 15:00:00           9.69  206.0  76.0   \n",
       "2021-12-14 09:58:00 -> 2022-06-28 15:00:00           9.69  247.0  78.0   \n",
       "2021-12-14 09:58:00 -> 2022-06-28 15:00:00           9.69  326.0  75.0   \n",
       "2021-12-14 09:58:00 -> 2022-06-28 15:00:00           9.69  439.0  73.0   \n",
       "2021-12-14 09:59:00 -> 2022-06-28 15:00:00           9.69  166.0  62.0   \n",
       "2021-12-14 09:59:00 -> 2022-06-28 15:00:00           9.69  191.0  61.0   \n",
       "2021-12-14 09:59:00 -> 2022-06-28 15:00:00           9.69  234.0  63.0   \n",
       "2021-12-14 09:59:00 -> 2022-06-28 15:00:00           9.69  297.0  60.0   \n",
       "2021-12-14 13:28:00 -> 2022-06-28 15:00:00           9.69  135.0  58.0   \n",
       "2021-12-14 13:28:00 -> 2022-06-28 15:00:00           9.69  154.0  57.0   \n",
       "2021-12-14 13:28:00 -> 2022-06-28 15:00:00           9.69  184.0  57.0   \n",
       "2021-12-14 13:28:00 -> 2022-06-28 15:00:00           9.69  218.0  56.0   \n",
       "2021-12-14 13:33:00 -> 2022-06-28 15:00:00           9.69  114.0  50.0   \n",
       "2021-12-14 13:33:00 -> 2022-06-28 15:00:00           9.69  126.0  50.0   \n",
       "2021-12-14 13:33:00 -> 2022-06-28 15:00:00           9.69  147.0  50.0   \n",
       "2021-12-14 13:33:00 -> 2022-06-28 15:00:00           9.69  171.0  49.0   \n",
       "2021-12-14 13:37:00 -> 2022-06-28 15:00:00           9.69  101.0  43.0   \n",
       "2021-12-14 13:37:00 -> 2022-06-28 15:00:00           9.69  108.0  43.0   \n",
       "2021-12-14 13:37:00 -> 2022-06-28 15:00:00           9.69  122.0  44.0   \n",
       "2021-12-14 13:37:00 -> 2022-06-28 15:00:00           9.69  133.0  44.0   \n",
       "2021-12-14 14:46:00 -> 2022-06-28 15:00:00           9.69   86.0  40.0   \n",
       "2021-12-14 14:46:00 -> 2022-06-28 15:00:00           9.69   92.0  40.0   \n",
       "2021-12-14 14:46:00 -> 2022-06-28 15:00:00           9.69  100.0  40.0   \n",
       "2021-12-14 14:46:00 -> 2022-06-28 15:00:00           9.69  103.0  40.0   \n",
       "2021-12-14 14:46:00 -> 2022-06-28 15:00:00           9.69   73.0  37.0   \n",
       "2021-12-14 14:46:00 -> 2022-06-28 15:00:00           9.69   77.0  37.0   \n",
       "2021-12-14 14:46:00 -> 2022-06-28 15:00:00           9.69   82.0  37.0   \n",
       "2021-12-14 14:46:00 -> 2022-06-28 15:00:00           9.69   83.0  37.0   \n",
       "2021-12-15 10:04:00 -> 2022-06-27 15:00:00           9.69   61.0  34.0   \n",
       "2021-12-15 10:04:00 -> 2022-06-27 15:00:00           9.69   63.0  34.0   \n",
       "2021-12-15 10:04:00 -> 2022-06-27 15:00:00           9.69   68.0  34.0   \n",
       "2021-12-15 10:04:00 -> 2022-06-27 15:00:00           9.69   69.0  34.0   \n",
       "2021-12-15 10:09:00 -> 2022-06-27 15:00:00           9.69   53.0  31.0   \n",
       "2021-12-15 10:09:00 -> 2022-06-27 15:00:00           9.69   53.0  31.0   \n",
       "2021-12-15 10:09:00 -> 2022-06-27 15:00:00           9.69   57.0  31.0   \n",
       "2021-12-15 10:09:00 -> 2022-06-27 15:00:00           9.69   58.0  31.0   \n",
       "2021-12-15 10:15:00 -> 2022-06-24 15:00:00           9.69   46.0  27.0   \n",
       "2021-12-15 10:15:00 -> 2022-06-24 15:00:00           9.69   46.0  27.0   \n",
       "2021-12-15 10:15:00 -> 2022-06-24 15:00:00           9.69   50.0  27.0   \n",
       "2021-12-15 10:15:00 -> 2022-06-24 15:00:00           9.69   50.0  27.0   \n",
       "2021-12-15 11:01:00 -> 2022-06-24 15:00:00           9.69   46.0  23.0   \n",
       "2021-12-15 11:01:00 -> 2022-06-24 15:00:00           9.69   46.0  23.0   \n",
       "2021-12-15 11:01:00 -> 2022-06-24 15:00:00           9.69   50.0  23.0   \n",
       "2021-12-15 11:01:00 -> 2022-06-24 15:00:00           9.69   50.0  23.0   \n",
       "\n",
       "                                            win profit  lose profit  \\\n",
       "2021-12-14 09:58:00 -> 2022-06-28 15:00:00  154.770774   -65.785935   \n",
       "2021-12-14 09:58:00 -> 2022-06-28 15:00:00  167.778895   -65.628899   \n",
       "2021-12-14 09:58:00 -> 2022-06-28 15:00:00  187.503332   -64.886171   \n",
       "2021-12-14 09:58:00 -> 2022-06-28 15:00:00  207.957748   -64.467288   \n",
       "2021-12-14 09:59:00 -> 2022-06-28 15:00:00  128.297672   -58.536851   \n",
       "2021-12-14 09:59:00 -> 2022-06-28 15:00:00  136.634166   -58.250848   \n",
       "2021-12-14 09:59:00 -> 2022-06-28 15:00:00  150.259850   -57.339182   \n",
       "2021-12-14 09:59:00 -> 2022-06-28 15:00:00  168.125337   -56.875398   \n",
       "2021-12-14 13:28:00 -> 2022-06-28 15:00:00  117.440192   -52.639584   \n",
       "2021-12-14 13:28:00 -> 2022-06-28 15:00:00  126.525007   -52.501762   \n",
       "2021-12-14 13:28:00 -> 2022-06-28 15:00:00  136.389731   -51.661524   \n",
       "2021-12-14 13:28:00 -> 2022-06-28 15:00:00  145.635073   -51.252423   \n",
       "2021-12-14 13:33:00 -> 2022-06-28 15:00:00  103.501229   -47.221811   \n",
       "2021-12-14 13:33:00 -> 2022-06-28 15:00:00  110.743168   -47.190601   \n",
       "2021-12-14 13:33:00 -> 2022-06-28 15:00:00  119.869690   -47.213312   \n",
       "2021-12-14 13:33:00 -> 2022-06-28 15:00:00  127.440205   -46.841664   \n",
       "2021-12-14 13:37:00 -> 2022-06-28 15:00:00   94.414655   -42.375332   \n",
       "2021-12-14 13:37:00 -> 2022-06-28 15:00:00   98.508983   -42.458103   \n",
       "2021-12-14 13:37:00 -> 2022-06-28 15:00:00  104.876177   -42.994897   \n",
       "2021-12-14 13:37:00 -> 2022-06-28 15:00:00  105.766769   -42.622165   \n",
       "2021-12-14 14:46:00 -> 2022-06-28 15:00:00   83.466393   -38.804911   \n",
       "2021-12-14 14:46:00 -> 2022-06-28 15:00:00   87.526707   -38.946639   \n",
       "2021-12-14 14:46:00 -> 2022-06-28 15:00:00   91.182214   -38.912363   \n",
       "2021-12-14 14:46:00 -> 2022-06-28 15:00:00   90.151278   -38.912363   \n",
       "2021-12-14 14:46:00 -> 2022-06-28 15:00:00   75.677938   -34.470630   \n",
       "2021-12-14 14:46:00 -> 2022-06-28 15:00:00   77.830773   -34.752769   \n",
       "2021-12-14 14:46:00 -> 2022-06-28 15:00:00   81.777773   -34.495501   \n",
       "2021-12-14 14:46:00 -> 2022-06-28 15:00:00   78.621117   -34.495501   \n",
       "2021-12-15 10:04:00 -> 2022-06-27 15:00:00   67.797650   -31.362447   \n",
       "2021-12-15 10:04:00 -> 2022-06-27 15:00:00   68.161851   -31.479681   \n",
       "2021-12-15 10:04:00 -> 2022-06-27 15:00:00   71.397384   -31.464953   \n",
       "2021-12-15 10:04:00 -> 2022-06-27 15:00:00   69.598846   -31.464953   \n",
       "2021-12-15 10:09:00 -> 2022-06-27 15:00:00   61.551627   -27.294809   \n",
       "2021-12-15 10:09:00 -> 2022-06-27 15:00:00   59.452631   -27.294809   \n",
       "2021-12-15 10:09:00 -> 2022-06-27 15:00:00   61.356633   -26.860470   \n",
       "2021-12-15 10:09:00 -> 2022-06-27 15:00:00   59.947349   -26.860470   \n",
       "2021-12-15 10:15:00 -> 2022-06-24 15:00:00   50.246058   -23.855097   \n",
       "2021-12-15 10:15:00 -> 2022-06-24 15:00:00   48.790137   -23.855097   \n",
       "2021-12-15 10:15:00 -> 2022-06-24 15:00:00   52.424465   -23.873438   \n",
       "2021-12-15 10:15:00 -> 2022-06-24 15:00:00   49.725602   -23.873438   \n",
       "2021-12-15 11:01:00 -> 2022-06-24 15:00:00   47.727511   -21.689575   \n",
       "2021-12-15 11:01:00 -> 2022-06-24 15:00:00   46.371884   -21.689575   \n",
       "2021-12-15 11:01:00 -> 2022-06-24 15:00:00   50.302310   -21.296627   \n",
       "2021-12-15 11:01:00 -> 2022-06-24 15:00:00   48.393960   -21.296627   \n",
       "\n",
       "                                            sum of win&lose profit  \\\n",
       "2021-12-14 09:58:00 -> 2022-06-28 15:00:00               88.984839   \n",
       "2021-12-14 09:58:00 -> 2022-06-28 15:00:00              102.149996   \n",
       "2021-12-14 09:58:00 -> 2022-06-28 15:00:00              122.617161   \n",
       "2021-12-14 09:58:00 -> 2022-06-28 15:00:00              143.490460   \n",
       "2021-12-14 09:59:00 -> 2022-06-28 15:00:00               69.760822   \n",
       "2021-12-14 09:59:00 -> 2022-06-28 15:00:00               78.383318   \n",
       "2021-12-14 09:59:00 -> 2022-06-28 15:00:00               92.920668   \n",
       "2021-12-14 09:59:00 -> 2022-06-28 15:00:00              111.249939   \n",
       "2021-12-14 13:28:00 -> 2022-06-28 15:00:00               64.800609   \n",
       "2021-12-14 13:28:00 -> 2022-06-28 15:00:00               74.023245   \n",
       "2021-12-14 13:28:00 -> 2022-06-28 15:00:00               84.728207   \n",
       "2021-12-14 13:28:00 -> 2022-06-28 15:00:00               94.382650   \n",
       "2021-12-14 13:33:00 -> 2022-06-28 15:00:00               56.279418   \n",
       "2021-12-14 13:33:00 -> 2022-06-28 15:00:00               63.552567   \n",
       "2021-12-14 13:33:00 -> 2022-06-28 15:00:00               72.656378   \n",
       "2021-12-14 13:33:00 -> 2022-06-28 15:00:00               80.598542   \n",
       "2021-12-14 13:37:00 -> 2022-06-28 15:00:00               52.039324   \n",
       "2021-12-14 13:37:00 -> 2022-06-28 15:00:00               56.050880   \n",
       "2021-12-14 13:37:00 -> 2022-06-28 15:00:00               61.881280   \n",
       "2021-12-14 13:37:00 -> 2022-06-28 15:00:00               63.144604   \n",
       "2021-12-14 14:46:00 -> 2022-06-28 15:00:00               44.661482   \n",
       "2021-12-14 14:46:00 -> 2022-06-28 15:00:00               48.580068   \n",
       "2021-12-14 14:46:00 -> 2022-06-28 15:00:00               52.269851   \n",
       "2021-12-14 14:46:00 -> 2022-06-28 15:00:00               51.238915   \n",
       "2021-12-14 14:46:00 -> 2022-06-28 15:00:00               41.207308   \n",
       "2021-12-14 14:46:00 -> 2022-06-28 15:00:00               43.078004   \n",
       "2021-12-14 14:46:00 -> 2022-06-28 15:00:00               47.282272   \n",
       "2021-12-14 14:46:00 -> 2022-06-28 15:00:00               44.125615   \n",
       "2021-12-15 10:04:00 -> 2022-06-27 15:00:00               36.435202   \n",
       "2021-12-15 10:04:00 -> 2022-06-27 15:00:00               36.682170   \n",
       "2021-12-15 10:04:00 -> 2022-06-27 15:00:00               39.932431   \n",
       "2021-12-15 10:04:00 -> 2022-06-27 15:00:00               38.133893   \n",
       "2021-12-15 10:09:00 -> 2022-06-27 15:00:00               34.256818   \n",
       "2021-12-15 10:09:00 -> 2022-06-27 15:00:00               32.157821   \n",
       "2021-12-15 10:09:00 -> 2022-06-27 15:00:00               34.496163   \n",
       "2021-12-15 10:09:00 -> 2022-06-27 15:00:00               33.086878   \n",
       "2021-12-15 10:15:00 -> 2022-06-24 15:00:00               26.390961   \n",
       "2021-12-15 10:15:00 -> 2022-06-24 15:00:00               24.935040   \n",
       "2021-12-15 10:15:00 -> 2022-06-24 15:00:00               28.551027   \n",
       "2021-12-15 10:15:00 -> 2022-06-24 15:00:00               25.852164   \n",
       "2021-12-15 11:01:00 -> 2022-06-24 15:00:00               26.037936   \n",
       "2021-12-15 11:01:00 -> 2022-06-24 15:00:00               24.682310   \n",
       "2021-12-15 11:01:00 -> 2022-06-24 15:00:00               29.005683   \n",
       "2021-12-15 11:01:00 -> 2022-06-24 15:00:00               27.097333   \n",
       "\n",
       "                                            final net value  win rate  \\\n",
       "2021-12-14 09:58:00 -> 2022-06-28 15:00:00        90.466613  0.730496   \n",
       "2021-12-14 09:58:00 -> 2022-06-28 15:00:00       102.992364  0.760000   \n",
       "2021-12-14 09:58:00 -> 2022-06-28 15:00:00       123.243854  0.812968   \n",
       "2021-12-14 09:58:00 -> 2022-06-28 15:00:00       144.216942  0.857422   \n",
       "2021-12-14 09:59:00 -> 2022-06-28 15:00:00        71.577663  0.728070   \n",
       "2021-12-14 09:59:00 -> 2022-06-28 15:00:00        80.071430  0.757937   \n",
       "2021-12-14 09:59:00 -> 2022-06-28 15:00:00        94.070356  0.787879   \n",
       "2021-12-14 09:59:00 -> 2022-06-28 15:00:00       111.749095  0.831933   \n",
       "2021-12-14 13:28:00 -> 2022-06-28 15:00:00        64.993858  0.699482   \n",
       "2021-12-14 13:28:00 -> 2022-06-28 15:00:00        73.876609  0.729858   \n",
       "2021-12-14 13:28:00 -> 2022-06-28 15:00:00        84.148165  0.763485   \n",
       "2021-12-14 13:28:00 -> 2022-06-28 15:00:00        94.138530  0.795620   \n",
       "2021-12-14 13:33:00 -> 2022-06-28 15:00:00        56.232886  0.695122   \n",
       "2021-12-14 13:33:00 -> 2022-06-28 15:00:00        63.424646  0.715909   \n",
       "2021-12-14 13:33:00 -> 2022-06-28 15:00:00        72.263414  0.746193   \n",
       "2021-12-14 13:33:00 -> 2022-06-28 15:00:00        80.386982  0.777273   \n",
       "2021-12-14 13:37:00 -> 2022-06-28 15:00:00        52.649882  0.701389   \n",
       "2021-12-14 13:37:00 -> 2022-06-28 15:00:00        56.492870  0.715232   \n",
       "2021-12-14 13:37:00 -> 2022-06-28 15:00:00        62.557260  0.734940   \n",
       "2021-12-14 13:37:00 -> 2022-06-28 15:00:00        64.325049  0.751412   \n",
       "2021-12-14 14:46:00 -> 2022-06-28 15:00:00        46.099534  0.682540   \n",
       "2021-12-14 14:46:00 -> 2022-06-28 15:00:00        49.967322  0.696970   \n",
       "2021-12-14 14:46:00 -> 2022-06-28 15:00:00        53.851733  0.714286   \n",
       "2021-12-14 14:46:00 -> 2022-06-28 15:00:00        52.482347  0.720280   \n",
       "2021-12-14 14:46:00 -> 2022-06-28 15:00:00        42.438517  0.663636   \n",
       "2021-12-14 14:46:00 -> 2022-06-28 15:00:00        44.279115  0.675439   \n",
       "2021-12-14 14:46:00 -> 2022-06-28 15:00:00        48.810115  0.689076   \n",
       "2021-12-14 14:46:00 -> 2022-06-28 15:00:00        45.529729  0.691667   \n",
       "2021-12-15 10:04:00 -> 2022-06-27 15:00:00        37.844444  0.642105   \n",
       "2021-12-15 10:04:00 -> 2022-06-27 15:00:00        38.066867  0.649485   \n",
       "2021-12-15 10:04:00 -> 2022-06-27 15:00:00        41.643468  0.666667   \n",
       "2021-12-15 10:04:00 -> 2022-06-27 15:00:00        39.720473  0.669903   \n",
       "2021-12-15 10:09:00 -> 2022-06-27 15:00:00        35.709058  0.630952   \n",
       "2021-12-15 10:09:00 -> 2022-06-27 15:00:00        33.604692  0.630952   \n",
       "2021-12-15 10:09:00 -> 2022-06-27 15:00:00        36.152501  0.647727   \n",
       "2021-12-15 10:09:00 -> 2022-06-27 15:00:00        34.619501  0.651685   \n",
       "2021-12-15 10:15:00 -> 2022-06-24 15:00:00        28.009052  0.630137   \n",
       "2021-12-15 10:15:00 -> 2022-06-24 15:00:00        26.550471  0.630137   \n",
       "2021-12-15 10:15:00 -> 2022-06-24 15:00:00        30.375870  0.649351   \n",
       "2021-12-15 10:15:00 -> 2022-06-24 15:00:00        27.671492  0.649351   \n",
       "2021-12-15 11:01:00 -> 2022-06-24 15:00:00        27.832219  0.666667   \n",
       "2021-12-15 11:01:00 -> 2022-06-24 15:00:00        26.474633  0.666667   \n",
       "2021-12-15 11:01:00 -> 2022-06-24 15:00:00        31.007227  0.684932   \n",
       "2021-12-15 11:01:00 -> 2022-06-24 15:00:00        29.094264  0.684932   \n",
       "\n",
       "                                            profit ratio  trade days  \\\n",
       "2021-12-14 09:58:00 -> 2022-06-28 15:00:00      0.867965       129.0   \n",
       "2021-12-14 09:58:00 -> 2022-06-28 15:00:00      0.807309       129.0   \n",
       "2021-12-14 09:58:00 -> 2022-06-28 15:00:00      0.664815       129.0   \n",
       "2021-12-14 09:58:00 -> 2022-06-28 15:00:00      0.536407       129.0   \n",
       "2021-12-14 09:59:00 -> 2022-06-28 15:00:00      0.818602       129.0   \n",
       "2021-12-14 09:59:00 -> 2022-06-28 15:00:00      0.749124       129.0   \n",
       "2021-12-14 09:59:00 -> 2022-06-28 15:00:00      0.705531       129.0   \n",
       "2021-12-14 09:59:00 -> 2022-06-28 15:00:00      0.597178       129.0   \n",
       "2021-12-14 13:28:00 -> 2022-06-28 15:00:00      0.958514       129.0   \n",
       "2021-12-14 13:28:00 -> 2022-06-28 15:00:00      0.891983       129.0   \n",
       "2021-12-14 13:28:00 -> 2022-06-28 15:00:00      0.817846       129.0   \n",
       "2021-12-14 13:28:00 -> 2022-06-28 15:00:00      0.729933       129.0   \n",
       "2021-12-14 13:33:00 -> 2022-06-28 15:00:00      0.961320       129.0   \n",
       "2021-12-14 13:33:00 -> 2022-06-28 15:00:00      0.931238       129.0   \n",
       "2021-12-14 13:33:00 -> 2022-06-28 15:00:00      0.863570       129.0   \n",
       "2021-12-14 13:33:00 -> 2022-06-28 15:00:00      0.779604       129.0   \n",
       "2021-12-14 13:37:00 -> 2022-06-28 15:00:00      0.948579       129.0   \n",
       "2021-12-14 13:37:00 -> 2022-06-28 15:00:00      0.923762       129.0   \n",
       "2021-12-14 13:37:00 -> 2022-06-28 15:00:00      0.879737       129.0   \n",
       "2021-12-14 13:37:00 -> 2022-06-28 15:00:00      0.820946       129.0   \n",
       "2021-12-14 14:46:00 -> 2022-06-28 15:00:00      1.000430       129.0   \n",
       "2021-12-14 14:46:00 -> 2022-06-28 15:00:00      0.977108       129.0   \n",
       "2021-12-14 14:46:00 -> 2022-06-28 15:00:00      0.937308       129.0   \n",
       "2021-12-14 14:46:00 -> 2022-06-28 15:00:00      0.899719       129.0   \n",
       "2021-12-14 14:46:00 -> 2022-06-28 15:00:00      1.112753       129.0   \n",
       "2021-12-14 14:46:00 -> 2022-06-28 15:00:00      1.076150       129.0   \n",
       "2021-12-14 14:46:00 -> 2022-06-28 15:00:00      1.069697       129.0   \n",
       "2021-12-14 14:46:00 -> 2022-06-28 15:00:00      1.016016       129.0   \n",
       "2021-12-15 10:04:00 -> 2022-06-27 15:00:00      1.204908       129.0   \n",
       "2021-12-15 10:04:00 -> 2022-06-27 15:00:00      1.168556       129.0   \n",
       "2021-12-15 10:04:00 -> 2022-06-27 15:00:00      1.134554       129.0   \n",
       "2021-12-15 10:04:00 -> 2022-06-27 15:00:00      1.089945       129.0   \n",
       "2021-12-15 10:09:00 -> 2022-06-27 15:00:00      1.319002       129.0   \n",
       "2021-12-15 10:09:00 -> 2022-06-27 15:00:00      1.274022       129.0   \n",
       "2021-12-15 10:09:00 -> 2022-06-27 15:00:00      1.242324       129.0   \n",
       "2021-12-15 10:09:00 -> 2022-06-27 15:00:00      1.192862       129.0   \n",
       "2021-12-15 10:15:00 -> 2022-06-24 15:00:00      1.236308       129.0   \n",
       "2021-12-15 10:15:00 -> 2022-06-24 15:00:00      1.200485       129.0   \n",
       "2021-12-15 10:15:00 -> 2022-06-24 15:00:00      1.185804       129.0   \n",
       "2021-12-15 10:15:00 -> 2022-06-24 15:00:00      1.124757       129.0   \n",
       "2021-12-15 11:01:00 -> 2022-06-24 15:00:00      1.100241       129.0   \n",
       "2021-12-15 11:01:00 -> 2022-06-24 15:00:00      1.068990       129.0   \n",
       "2021-12-15 11:01:00 -> 2022-06-24 15:00:00      1.086513       129.0   \n",
       "2021-12-15 11:01:00 -> 2022-06-24 15:00:00      1.045293       129.0   \n",
       "\n",
       "                                            total round  avg round in a day  \\\n",
       "2021-12-14 09:58:00 -> 2022-06-28 15:00:00        282.0            2.186047   \n",
       "2021-12-14 09:58:00 -> 2022-06-28 15:00:00        325.0            2.519380   \n",
       "2021-12-14 09:58:00 -> 2022-06-28 15:00:00        401.0            3.108527   \n",
       "2021-12-14 09:58:00 -> 2022-06-28 15:00:00        512.0            3.968992   \n",
       "2021-12-14 09:59:00 -> 2022-06-28 15:00:00        228.0            1.767442   \n",
       "2021-12-14 09:59:00 -> 2022-06-28 15:00:00        252.0            1.953488   \n",
       "2021-12-14 09:59:00 -> 2022-06-28 15:00:00        297.0            2.302326   \n",
       "2021-12-14 09:59:00 -> 2022-06-28 15:00:00        357.0            2.767442   \n",
       "2021-12-14 13:28:00 -> 2022-06-28 15:00:00        193.0            1.496124   \n",
       "2021-12-14 13:28:00 -> 2022-06-28 15:00:00        211.0            1.635659   \n",
       "2021-12-14 13:28:00 -> 2022-06-28 15:00:00        241.0            1.868217   \n",
       "2021-12-14 13:28:00 -> 2022-06-28 15:00:00        274.0            2.124031   \n",
       "2021-12-14 13:33:00 -> 2022-06-28 15:00:00        164.0            1.271318   \n",
       "2021-12-14 13:33:00 -> 2022-06-28 15:00:00        176.0            1.364341   \n",
       "2021-12-14 13:33:00 -> 2022-06-28 15:00:00        197.0            1.527132   \n",
       "2021-12-14 13:33:00 -> 2022-06-28 15:00:00        220.0            1.705426   \n",
       "2021-12-14 13:37:00 -> 2022-06-28 15:00:00        144.0            1.116279   \n",
       "2021-12-14 13:37:00 -> 2022-06-28 15:00:00        151.0            1.170543   \n",
       "2021-12-14 13:37:00 -> 2022-06-28 15:00:00        166.0            1.286822   \n",
       "2021-12-14 13:37:00 -> 2022-06-28 15:00:00        177.0            1.372093   \n",
       "2021-12-14 14:46:00 -> 2022-06-28 15:00:00        126.0            0.976744   \n",
       "2021-12-14 14:46:00 -> 2022-06-28 15:00:00        132.0            1.023256   \n",
       "2021-12-14 14:46:00 -> 2022-06-28 15:00:00        140.0            1.085271   \n",
       "2021-12-14 14:46:00 -> 2022-06-28 15:00:00        143.0            1.108527   \n",
       "2021-12-14 14:46:00 -> 2022-06-28 15:00:00        110.0            0.852713   \n",
       "2021-12-14 14:46:00 -> 2022-06-28 15:00:00        114.0            0.883721   \n",
       "2021-12-14 14:46:00 -> 2022-06-28 15:00:00        119.0            0.922481   \n",
       "2021-12-14 14:46:00 -> 2022-06-28 15:00:00        120.0            0.930233   \n",
       "2021-12-15 10:04:00 -> 2022-06-27 15:00:00         95.0            0.736434   \n",
       "2021-12-15 10:04:00 -> 2022-06-27 15:00:00         97.0            0.751938   \n",
       "2021-12-15 10:04:00 -> 2022-06-27 15:00:00        102.0            0.790698   \n",
       "2021-12-15 10:04:00 -> 2022-06-27 15:00:00        103.0            0.798450   \n",
       "2021-12-15 10:09:00 -> 2022-06-27 15:00:00         84.0            0.651163   \n",
       "2021-12-15 10:09:00 -> 2022-06-27 15:00:00         84.0            0.651163   \n",
       "2021-12-15 10:09:00 -> 2022-06-27 15:00:00         88.0            0.682171   \n",
       "2021-12-15 10:09:00 -> 2022-06-27 15:00:00         89.0            0.689922   \n",
       "2021-12-15 10:15:00 -> 2022-06-24 15:00:00         73.0            0.565891   \n",
       "2021-12-15 10:15:00 -> 2022-06-24 15:00:00         73.0            0.565891   \n",
       "2021-12-15 10:15:00 -> 2022-06-24 15:00:00         77.0            0.596899   \n",
       "2021-12-15 10:15:00 -> 2022-06-24 15:00:00         77.0            0.596899   \n",
       "2021-12-15 11:01:00 -> 2022-06-24 15:00:00         69.0            0.534884   \n",
       "2021-12-15 11:01:00 -> 2022-06-24 15:00:00         69.0            0.534884   \n",
       "2021-12-15 11:01:00 -> 2022-06-24 15:00:00         73.0            0.565891   \n",
       "2021-12-15 11:01:00 -> 2022-06-24 15:00:00         73.0            0.565891   \n",
       "\n",
       "                                            return per round  open threshold  \\\n",
       "2021-12-14 09:58:00 -> 2022-06-28 15:00:00          0.002608           0.005   \n",
       "2021-12-14 09:58:00 -> 2022-06-28 15:00:00          0.002592           0.005   \n",
       "2021-12-14 09:58:00 -> 2022-06-28 15:00:00          0.002530           0.005   \n",
       "2021-12-14 09:58:00 -> 2022-06-28 15:00:00          0.002318           0.005   \n",
       "2021-12-14 09:59:00 -> 2022-06-28 15:00:00          0.002538           0.006   \n",
       "2021-12-14 09:59:00 -> 2022-06-28 15:00:00          0.002576           0.006   \n",
       "2021-12-14 09:59:00 -> 2022-06-28 15:00:00          0.002601           0.006   \n",
       "2021-12-14 09:59:00 -> 2022-06-28 15:00:00          0.002585           0.006   \n",
       "2021-12-14 13:28:00 -> 2022-06-28 15:00:00          0.002787           0.007   \n",
       "2021-12-14 13:28:00 -> 2022-06-28 15:00:00          0.002902           0.007   \n",
       "2021-12-14 13:28:00 -> 2022-06-28 15:00:00          0.002917           0.007   \n",
       "2021-12-14 13:28:00 -> 2022-06-28 15:00:00          0.002857           0.007   \n",
       "2021-12-14 13:33:00 -> 2022-06-28 15:00:00          0.002834           0.008   \n",
       "2021-12-14 13:33:00 -> 2022-06-28 15:00:00          0.002976           0.008   \n",
       "2021-12-14 13:33:00 -> 2022-06-28 15:00:00          0.003054           0.008   \n",
       "2021-12-14 13:33:00 -> 2022-06-28 15:00:00          0.003038           0.008   \n",
       "2021-12-14 13:37:00 -> 2022-06-28 15:00:00          0.002982           0.009   \n",
       "2021-12-14 13:37:00 -> 2022-06-28 15:00:00          0.003060           0.009   \n",
       "2021-12-14 13:37:00 -> 2022-06-28 15:00:00          0.003103           0.009   \n",
       "2021-12-14 13:37:00 -> 2022-06-28 15:00:00          0.002974           0.009   \n",
       "2021-12-14 14:46:00 -> 2022-06-28 15:00:00          0.002950           0.010   \n",
       "2021-12-14 14:46:00 -> 2022-06-28 15:00:00          0.003058           0.010   \n",
       "2021-12-14 14:46:00 -> 2022-06-28 15:00:00          0.003128           0.010   \n",
       "2021-12-14 14:46:00 -> 2022-06-28 15:00:00          0.002997           0.010   \n",
       "2021-12-14 14:46:00 -> 2022-06-28 15:00:00          0.003110           0.011   \n",
       "2021-12-14 14:46:00 -> 2022-06-28 15:00:00          0.003132           0.011   \n",
       "2021-12-14 14:46:00 -> 2022-06-28 15:00:00          0.003326           0.011   \n",
       "2021-12-14 14:46:00 -> 2022-06-28 15:00:00          0.003070           0.011   \n",
       "2021-12-15 10:04:00 -> 2022-06-27 15:00:00          0.003218           0.012   \n",
       "2021-12-15 10:04:00 -> 2022-06-27 15:00:00          0.003165           0.012   \n",
       "2021-12-15 10:04:00 -> 2022-06-27 15:00:00          0.003313           0.012   \n",
       "2021-12-15 10:04:00 -> 2022-06-27 15:00:00          0.003123           0.012   \n",
       "2021-12-15 10:09:00 -> 2022-06-27 15:00:00          0.003458           0.013   \n",
       "2021-12-15 10:09:00 -> 2022-06-27 15:00:00          0.003241           0.013   \n",
       "2021-12-15 10:09:00 -> 2022-06-27 15:00:00          0.003372           0.013   \n",
       "2021-12-15 10:09:00 -> 2022-06-27 15:00:00          0.003192           0.013   \n",
       "2021-12-15 10:15:00 -> 2022-06-24 15:00:00          0.003136           0.014   \n",
       "2021-12-15 10:15:00 -> 2022-06-24 15:00:00          0.002961           0.014   \n",
       "2021-12-15 10:15:00 -> 2022-06-24 15:00:00          0.003266           0.014   \n",
       "2021-12-15 10:15:00 -> 2022-06-24 15:00:00          0.002963           0.014   \n",
       "2021-12-15 11:01:00 -> 2022-06-24 15:00:00          0.003290           0.015   \n",
       "2021-12-15 11:01:00 -> 2022-06-24 15:00:00          0.003117           0.015   \n",
       "2021-12-15 11:01:00 -> 2022-06-24 15:00:00          0.003511           0.015   \n",
       "2021-12-15 11:01:00 -> 2022-06-24 15:00:00          0.003283           0.015   \n",
       "\n",
       "                                            close threshold  \n",
       "2021-12-14 09:58:00 -> 2022-06-28 15:00:00         0.000001  \n",
       "2021-12-14 09:58:00 -> 2022-06-28 15:00:00         0.001000  \n",
       "2021-12-14 09:58:00 -> 2022-06-28 15:00:00         0.002000  \n",
       "2021-12-14 09:58:00 -> 2022-06-28 15:00:00         0.003000  \n",
       "2021-12-14 09:59:00 -> 2022-06-28 15:00:00         0.000001  \n",
       "2021-12-14 09:59:00 -> 2022-06-28 15:00:00         0.001000  \n",
       "2021-12-14 09:59:00 -> 2022-06-28 15:00:00         0.002000  \n",
       "2021-12-14 09:59:00 -> 2022-06-28 15:00:00         0.003000  \n",
       "2021-12-14 13:28:00 -> 2022-06-28 15:00:00         0.000001  \n",
       "2021-12-14 13:28:00 -> 2022-06-28 15:00:00         0.001000  \n",
       "2021-12-14 13:28:00 -> 2022-06-28 15:00:00         0.002000  \n",
       "2021-12-14 13:28:00 -> 2022-06-28 15:00:00         0.003000  \n",
       "2021-12-14 13:33:00 -> 2022-06-28 15:00:00         0.000001  \n",
       "2021-12-14 13:33:00 -> 2022-06-28 15:00:00         0.001000  \n",
       "2021-12-14 13:33:00 -> 2022-06-28 15:00:00         0.002000  \n",
       "2021-12-14 13:33:00 -> 2022-06-28 15:00:00         0.003000  \n",
       "2021-12-14 13:37:00 -> 2022-06-28 15:00:00         0.000001  \n",
       "2021-12-14 13:37:00 -> 2022-06-28 15:00:00         0.001000  \n",
       "2021-12-14 13:37:00 -> 2022-06-28 15:00:00         0.002000  \n",
       "2021-12-14 13:37:00 -> 2022-06-28 15:00:00         0.003000  \n",
       "2021-12-14 14:46:00 -> 2022-06-28 15:00:00         0.000001  \n",
       "2021-12-14 14:46:00 -> 2022-06-28 15:00:00         0.001000  \n",
       "2021-12-14 14:46:00 -> 2022-06-28 15:00:00         0.002000  \n",
       "2021-12-14 14:46:00 -> 2022-06-28 15:00:00         0.003000  \n",
       "2021-12-14 14:46:00 -> 2022-06-28 15:00:00         0.000001  \n",
       "2021-12-14 14:46:00 -> 2022-06-28 15:00:00         0.001000  \n",
       "2021-12-14 14:46:00 -> 2022-06-28 15:00:00         0.002000  \n",
       "2021-12-14 14:46:00 -> 2022-06-28 15:00:00         0.003000  \n",
       "2021-12-15 10:04:00 -> 2022-06-27 15:00:00         0.000001  \n",
       "2021-12-15 10:04:00 -> 2022-06-27 15:00:00         0.001000  \n",
       "2021-12-15 10:04:00 -> 2022-06-27 15:00:00         0.002000  \n",
       "2021-12-15 10:04:00 -> 2022-06-27 15:00:00         0.003000  \n",
       "2021-12-15 10:09:00 -> 2022-06-27 15:00:00         0.000001  \n",
       "2021-12-15 10:09:00 -> 2022-06-27 15:00:00         0.001000  \n",
       "2021-12-15 10:09:00 -> 2022-06-27 15:00:00         0.002000  \n",
       "2021-12-15 10:09:00 -> 2022-06-27 15:00:00         0.003000  \n",
       "2021-12-15 10:15:00 -> 2022-06-24 15:00:00         0.000001  \n",
       "2021-12-15 10:15:00 -> 2022-06-24 15:00:00         0.001000  \n",
       "2021-12-15 10:15:00 -> 2022-06-24 15:00:00         0.002000  \n",
       "2021-12-15 10:15:00 -> 2022-06-24 15:00:00         0.003000  \n",
       "2021-12-15 11:01:00 -> 2022-06-24 15:00:00         0.000001  \n",
       "2021-12-15 11:01:00 -> 2022-06-24 15:00:00         0.001000  \n",
       "2021-12-15 11:01:00 -> 2022-06-24 15:00:00         0.002000  \n",
       "2021-12-15 11:01:00 -> 2022-06-24 15:00:00         0.003000  "
      ]
     },
     "execution_count": 9,
     "metadata": {},
     "output_type": "execute_result"
    }
   ],
   "source": [
    "df_grid_search_res"
   ]
  },
  {
   "cell_type": "markdown",
   "metadata": {},
   "source": [
    "# return per round surface"
   ]
  },
  {
   "cell_type": "code",
   "execution_count": 10,
   "metadata": {},
   "outputs": [
    {
     "name": "stdout",
     "output_type": "stream",
     "text": [
      "max return per round: \n",
      " 0.000001    0.003458\n",
      "0.001000    0.003241\n",
      "0.002000    0.003511\n",
      "0.003000    0.003283\n",
      "dtype: float64\n",
      "min return per round: \n",
      " 0.000001    0.002538\n",
      "0.001000    0.002576\n",
      "0.002000    0.002530\n",
      "0.003000    0.002318\n",
      "dtype: float64\n"
     ]
    },
    {
     "data": {
      "text/html": [
       "<div>\n",
       "<style scoped>\n",
       "    .dataframe tbody tr th:only-of-type {\n",
       "        vertical-align: middle;\n",
       "    }\n",
       "\n",
       "    .dataframe tbody tr th {\n",
       "        vertical-align: top;\n",
       "    }\n",
       "\n",
       "    .dataframe thead th {\n",
       "        text-align: right;\n",
       "    }\n",
       "</style>\n",
       "<table border=\"1\" class=\"dataframe\">\n",
       "  <thead>\n",
       "    <tr style=\"text-align: right;\">\n",
       "      <th></th>\n",
       "      <th>0.000001</th>\n",
       "      <th>0.001000</th>\n",
       "      <th>0.002000</th>\n",
       "      <th>0.003000</th>\n",
       "    </tr>\n",
       "  </thead>\n",
       "  <tbody>\n",
       "    <tr>\n",
       "      <th>0.005</th>\n",
       "      <td>0.002608</td>\n",
       "      <td>0.002592</td>\n",
       "      <td>0.002530</td>\n",
       "      <td>0.002318</td>\n",
       "    </tr>\n",
       "    <tr>\n",
       "      <th>0.006</th>\n",
       "      <td>0.002538</td>\n",
       "      <td>0.002576</td>\n",
       "      <td>0.002601</td>\n",
       "      <td>0.002585</td>\n",
       "    </tr>\n",
       "    <tr>\n",
       "      <th>0.007</th>\n",
       "      <td>0.002787</td>\n",
       "      <td>0.002902</td>\n",
       "      <td>0.002917</td>\n",
       "      <td>0.002857</td>\n",
       "    </tr>\n",
       "    <tr>\n",
       "      <th>0.008</th>\n",
       "      <td>0.002834</td>\n",
       "      <td>0.002976</td>\n",
       "      <td>0.003054</td>\n",
       "      <td>0.003038</td>\n",
       "    </tr>\n",
       "    <tr>\n",
       "      <th>0.009</th>\n",
       "      <td>0.002982</td>\n",
       "      <td>0.003060</td>\n",
       "      <td>0.003103</td>\n",
       "      <td>0.002974</td>\n",
       "    </tr>\n",
       "    <tr>\n",
       "      <th>0.010</th>\n",
       "      <td>0.002950</td>\n",
       "      <td>0.003058</td>\n",
       "      <td>0.003128</td>\n",
       "      <td>0.002997</td>\n",
       "    </tr>\n",
       "    <tr>\n",
       "      <th>0.011</th>\n",
       "      <td>0.003110</td>\n",
       "      <td>0.003132</td>\n",
       "      <td>0.003326</td>\n",
       "      <td>0.003070</td>\n",
       "    </tr>\n",
       "    <tr>\n",
       "      <th>0.012</th>\n",
       "      <td>0.003218</td>\n",
       "      <td>0.003165</td>\n",
       "      <td>0.003313</td>\n",
       "      <td>0.003123</td>\n",
       "    </tr>\n",
       "    <tr>\n",
       "      <th>0.013</th>\n",
       "      <td>0.003458</td>\n",
       "      <td>0.003241</td>\n",
       "      <td>0.003372</td>\n",
       "      <td>0.003192</td>\n",
       "    </tr>\n",
       "    <tr>\n",
       "      <th>0.014</th>\n",
       "      <td>0.003136</td>\n",
       "      <td>0.002961</td>\n",
       "      <td>0.003266</td>\n",
       "      <td>0.002963</td>\n",
       "    </tr>\n",
       "    <tr>\n",
       "      <th>0.015</th>\n",
       "      <td>0.003290</td>\n",
       "      <td>0.003117</td>\n",
       "      <td>0.003511</td>\n",
       "      <td>0.003283</td>\n",
       "    </tr>\n",
       "  </tbody>\n",
       "</table>\n",
       "</div>"
      ],
      "text/plain": [
       "       0.000001  0.001000  0.002000  0.003000\n",
       "0.005  0.002608  0.002592  0.002530  0.002318\n",
       "0.006  0.002538  0.002576  0.002601  0.002585\n",
       "0.007  0.002787  0.002902  0.002917  0.002857\n",
       "0.008  0.002834  0.002976  0.003054  0.003038\n",
       "0.009  0.002982  0.003060  0.003103  0.002974\n",
       "0.010  0.002950  0.003058  0.003128  0.002997\n",
       "0.011  0.003110  0.003132  0.003326  0.003070\n",
       "0.012  0.003218  0.003165  0.003313  0.003123\n",
       "0.013  0.003458  0.003241  0.003372  0.003192\n",
       "0.014  0.003136  0.002961  0.003266  0.002963\n",
       "0.015  0.003290  0.003117  0.003511  0.003283"
      ]
     },
     "execution_count": 10,
     "metadata": {},
     "output_type": "execute_result"
    }
   ],
   "source": [
    "df_return_per_round = pd.DataFrame([])\n",
    "for index,row in df_grid_search_res.iterrows():\n",
    "    open_threshold = row['open threshold']\n",
    "    close_threshold = row['close threshold']\n",
    "    df_return_per_round.loc[open_threshold,close_threshold] = row['return per round']\n",
    "print('max return per round: \\n',df_return_per_round.max())\n",
    "print('min return per round: \\n',df_return_per_round.min())\n",
    "df_return_per_round"
   ]
  },
  {
   "cell_type": "code",
   "execution_count": 11,
   "metadata": {},
   "outputs": [
    {
     "data": {
      "application/vnd.plotly.v1+json": {
       "config": {
        "plotlyServerURL": "https://plot.ly"
       },
       "data": [
        {
         "type": "surface",
         "x": [
          0.000001,
          0.001,
          0.002,
          0.003
         ],
         "y": [
          0.005,
          0.006,
          0.007,
          0.008,
          0.009,
          0.01,
          0.011,
          0.012,
          0.013,
          0.014,
          0.015
         ],
         "z": [
          [
           0.002608372874022922,
           0.00259235056158632,
           0.0025295549290388223,
           0.002317799970993361
          ],
          [
           0.002538406577704032,
           0.002575764532707272,
           0.0026012979089452804,
           0.00258520324071685
          ],
          [
           0.002786538377513538,
           0.002901735308911044,
           0.002916702854679793,
           0.0028566347218054403
          ],
          [
           0.0028339986679580542,
           0.002976267107092787,
           0.0030544488757758954,
           0.0030375227492442903
          ],
          [
           0.0029820402076937086,
           0.0030597274034436365,
           0.0031025374351844755,
           0.002973690533899369
          ],
          [
           0.0029498135874056032,
           0.0030577730752185807,
           0.0031280513320498227,
           0.002997398782363442
          ],
          [
           0.003109927203175582,
           0.0031324275956146827,
           0.003325772783071118,
           0.003070012283110669
          ],
          [
           0.0032183626057816985,
           0.003165168997607408,
           0.0033130643894392947,
           0.0031231577064633406
          ],
          [
           0.003457811941247276,
           0.0032413402899036567,
           0.003371894272332483,
           0.0031922659475033307
          ],
          [
           0.003136378834666842,
           0.0029609837111841484,
           0.0032661912270351818,
           0.0029631536402666787
          ],
          [
           0.003289723432653207,
           0.0031165924680175193,
           0.003510661510269689,
           0.0032833328904429437
          ]
         ]
        }
       ],
       "layout": {
        "autosize": false,
        "height": 600,
        "margin": {
         "b": 65,
         "l": 65,
         "r": 50,
         "t": 90
        },
        "template": {
         "data": {
          "bar": [
           {
            "error_x": {
             "color": "#2a3f5f"
            },
            "error_y": {
             "color": "#2a3f5f"
            },
            "marker": {
             "line": {
              "color": "#E5ECF6",
              "width": 0.5
             },
             "pattern": {
              "fillmode": "overlay",
              "size": 10,
              "solidity": 0.2
             }
            },
            "type": "bar"
           }
          ],
          "barpolar": [
           {
            "marker": {
             "line": {
              "color": "#E5ECF6",
              "width": 0.5
             },
             "pattern": {
              "fillmode": "overlay",
              "size": 10,
              "solidity": 0.2
             }
            },
            "type": "barpolar"
           }
          ],
          "carpet": [
           {
            "aaxis": {
             "endlinecolor": "#2a3f5f",
             "gridcolor": "white",
             "linecolor": "white",
             "minorgridcolor": "white",
             "startlinecolor": "#2a3f5f"
            },
            "baxis": {
             "endlinecolor": "#2a3f5f",
             "gridcolor": "white",
             "linecolor": "white",
             "minorgridcolor": "white",
             "startlinecolor": "#2a3f5f"
            },
            "type": "carpet"
           }
          ],
          "choropleth": [
           {
            "colorbar": {
             "outlinewidth": 0,
             "ticks": ""
            },
            "type": "choropleth"
           }
          ],
          "contour": [
           {
            "colorbar": {
             "outlinewidth": 0,
             "ticks": ""
            },
            "colorscale": [
             [
              0,
              "#0d0887"
             ],
             [
              0.1111111111111111,
              "#46039f"
             ],
             [
              0.2222222222222222,
              "#7201a8"
             ],
             [
              0.3333333333333333,
              "#9c179e"
             ],
             [
              0.4444444444444444,
              "#bd3786"
             ],
             [
              0.5555555555555556,
              "#d8576b"
             ],
             [
              0.6666666666666666,
              "#ed7953"
             ],
             [
              0.7777777777777778,
              "#fb9f3a"
             ],
             [
              0.8888888888888888,
              "#fdca26"
             ],
             [
              1,
              "#f0f921"
             ]
            ],
            "type": "contour"
           }
          ],
          "contourcarpet": [
           {
            "colorbar": {
             "outlinewidth": 0,
             "ticks": ""
            },
            "type": "contourcarpet"
           }
          ],
          "heatmap": [
           {
            "colorbar": {
             "outlinewidth": 0,
             "ticks": ""
            },
            "colorscale": [
             [
              0,
              "#0d0887"
             ],
             [
              0.1111111111111111,
              "#46039f"
             ],
             [
              0.2222222222222222,
              "#7201a8"
             ],
             [
              0.3333333333333333,
              "#9c179e"
             ],
             [
              0.4444444444444444,
              "#bd3786"
             ],
             [
              0.5555555555555556,
              "#d8576b"
             ],
             [
              0.6666666666666666,
              "#ed7953"
             ],
             [
              0.7777777777777778,
              "#fb9f3a"
             ],
             [
              0.8888888888888888,
              "#fdca26"
             ],
             [
              1,
              "#f0f921"
             ]
            ],
            "type": "heatmap"
           }
          ],
          "heatmapgl": [
           {
            "colorbar": {
             "outlinewidth": 0,
             "ticks": ""
            },
            "colorscale": [
             [
              0,
              "#0d0887"
             ],
             [
              0.1111111111111111,
              "#46039f"
             ],
             [
              0.2222222222222222,
              "#7201a8"
             ],
             [
              0.3333333333333333,
              "#9c179e"
             ],
             [
              0.4444444444444444,
              "#bd3786"
             ],
             [
              0.5555555555555556,
              "#d8576b"
             ],
             [
              0.6666666666666666,
              "#ed7953"
             ],
             [
              0.7777777777777778,
              "#fb9f3a"
             ],
             [
              0.8888888888888888,
              "#fdca26"
             ],
             [
              1,
              "#f0f921"
             ]
            ],
            "type": "heatmapgl"
           }
          ],
          "histogram": [
           {
            "marker": {
             "pattern": {
              "fillmode": "overlay",
              "size": 10,
              "solidity": 0.2
             }
            },
            "type": "histogram"
           }
          ],
          "histogram2d": [
           {
            "colorbar": {
             "outlinewidth": 0,
             "ticks": ""
            },
            "colorscale": [
             [
              0,
              "#0d0887"
             ],
             [
              0.1111111111111111,
              "#46039f"
             ],
             [
              0.2222222222222222,
              "#7201a8"
             ],
             [
              0.3333333333333333,
              "#9c179e"
             ],
             [
              0.4444444444444444,
              "#bd3786"
             ],
             [
              0.5555555555555556,
              "#d8576b"
             ],
             [
              0.6666666666666666,
              "#ed7953"
             ],
             [
              0.7777777777777778,
              "#fb9f3a"
             ],
             [
              0.8888888888888888,
              "#fdca26"
             ],
             [
              1,
              "#f0f921"
             ]
            ],
            "type": "histogram2d"
           }
          ],
          "histogram2dcontour": [
           {
            "colorbar": {
             "outlinewidth": 0,
             "ticks": ""
            },
            "colorscale": [
             [
              0,
              "#0d0887"
             ],
             [
              0.1111111111111111,
              "#46039f"
             ],
             [
              0.2222222222222222,
              "#7201a8"
             ],
             [
              0.3333333333333333,
              "#9c179e"
             ],
             [
              0.4444444444444444,
              "#bd3786"
             ],
             [
              0.5555555555555556,
              "#d8576b"
             ],
             [
              0.6666666666666666,
              "#ed7953"
             ],
             [
              0.7777777777777778,
              "#fb9f3a"
             ],
             [
              0.8888888888888888,
              "#fdca26"
             ],
             [
              1,
              "#f0f921"
             ]
            ],
            "type": "histogram2dcontour"
           }
          ],
          "mesh3d": [
           {
            "colorbar": {
             "outlinewidth": 0,
             "ticks": ""
            },
            "type": "mesh3d"
           }
          ],
          "parcoords": [
           {
            "line": {
             "colorbar": {
              "outlinewidth": 0,
              "ticks": ""
             }
            },
            "type": "parcoords"
           }
          ],
          "pie": [
           {
            "automargin": true,
            "type": "pie"
           }
          ],
          "scatter": [
           {
            "fillpattern": {
             "fillmode": "overlay",
             "size": 10,
             "solidity": 0.2
            },
            "type": "scatter"
           }
          ],
          "scatter3d": [
           {
            "line": {
             "colorbar": {
              "outlinewidth": 0,
              "ticks": ""
             }
            },
            "marker": {
             "colorbar": {
              "outlinewidth": 0,
              "ticks": ""
             }
            },
            "type": "scatter3d"
           }
          ],
          "scattercarpet": [
           {
            "marker": {
             "colorbar": {
              "outlinewidth": 0,
              "ticks": ""
             }
            },
            "type": "scattercarpet"
           }
          ],
          "scattergeo": [
           {
            "marker": {
             "colorbar": {
              "outlinewidth": 0,
              "ticks": ""
             }
            },
            "type": "scattergeo"
           }
          ],
          "scattergl": [
           {
            "marker": {
             "colorbar": {
              "outlinewidth": 0,
              "ticks": ""
             }
            },
            "type": "scattergl"
           }
          ],
          "scattermapbox": [
           {
            "marker": {
             "colorbar": {
              "outlinewidth": 0,
              "ticks": ""
             }
            },
            "type": "scattermapbox"
           }
          ],
          "scatterpolar": [
           {
            "marker": {
             "colorbar": {
              "outlinewidth": 0,
              "ticks": ""
             }
            },
            "type": "scatterpolar"
           }
          ],
          "scatterpolargl": [
           {
            "marker": {
             "colorbar": {
              "outlinewidth": 0,
              "ticks": ""
             }
            },
            "type": "scatterpolargl"
           }
          ],
          "scatterternary": [
           {
            "marker": {
             "colorbar": {
              "outlinewidth": 0,
              "ticks": ""
             }
            },
            "type": "scatterternary"
           }
          ],
          "surface": [
           {
            "colorbar": {
             "outlinewidth": 0,
             "ticks": ""
            },
            "colorscale": [
             [
              0,
              "#0d0887"
             ],
             [
              0.1111111111111111,
              "#46039f"
             ],
             [
              0.2222222222222222,
              "#7201a8"
             ],
             [
              0.3333333333333333,
              "#9c179e"
             ],
             [
              0.4444444444444444,
              "#bd3786"
             ],
             [
              0.5555555555555556,
              "#d8576b"
             ],
             [
              0.6666666666666666,
              "#ed7953"
             ],
             [
              0.7777777777777778,
              "#fb9f3a"
             ],
             [
              0.8888888888888888,
              "#fdca26"
             ],
             [
              1,
              "#f0f921"
             ]
            ],
            "type": "surface"
           }
          ],
          "table": [
           {
            "cells": {
             "fill": {
              "color": "#EBF0F8"
             },
             "line": {
              "color": "white"
             }
            },
            "header": {
             "fill": {
              "color": "#C8D4E3"
             },
             "line": {
              "color": "white"
             }
            },
            "type": "table"
           }
          ]
         },
         "layout": {
          "annotationdefaults": {
           "arrowcolor": "#2a3f5f",
           "arrowhead": 0,
           "arrowwidth": 1
          },
          "autotypenumbers": "strict",
          "coloraxis": {
           "colorbar": {
            "outlinewidth": 0,
            "ticks": ""
           }
          },
          "colorscale": {
           "diverging": [
            [
             0,
             "#8e0152"
            ],
            [
             0.1,
             "#c51b7d"
            ],
            [
             0.2,
             "#de77ae"
            ],
            [
             0.3,
             "#f1b6da"
            ],
            [
             0.4,
             "#fde0ef"
            ],
            [
             0.5,
             "#f7f7f7"
            ],
            [
             0.6,
             "#e6f5d0"
            ],
            [
             0.7,
             "#b8e186"
            ],
            [
             0.8,
             "#7fbc41"
            ],
            [
             0.9,
             "#4d9221"
            ],
            [
             1,
             "#276419"
            ]
           ],
           "sequential": [
            [
             0,
             "#0d0887"
            ],
            [
             0.1111111111111111,
             "#46039f"
            ],
            [
             0.2222222222222222,
             "#7201a8"
            ],
            [
             0.3333333333333333,
             "#9c179e"
            ],
            [
             0.4444444444444444,
             "#bd3786"
            ],
            [
             0.5555555555555556,
             "#d8576b"
            ],
            [
             0.6666666666666666,
             "#ed7953"
            ],
            [
             0.7777777777777778,
             "#fb9f3a"
            ],
            [
             0.8888888888888888,
             "#fdca26"
            ],
            [
             1,
             "#f0f921"
            ]
           ],
           "sequentialminus": [
            [
             0,
             "#0d0887"
            ],
            [
             0.1111111111111111,
             "#46039f"
            ],
            [
             0.2222222222222222,
             "#7201a8"
            ],
            [
             0.3333333333333333,
             "#9c179e"
            ],
            [
             0.4444444444444444,
             "#bd3786"
            ],
            [
             0.5555555555555556,
             "#d8576b"
            ],
            [
             0.6666666666666666,
             "#ed7953"
            ],
            [
             0.7777777777777778,
             "#fb9f3a"
            ],
            [
             0.8888888888888888,
             "#fdca26"
            ],
            [
             1,
             "#f0f921"
            ]
           ]
          },
          "colorway": [
           "#636efa",
           "#EF553B",
           "#00cc96",
           "#ab63fa",
           "#FFA15A",
           "#19d3f3",
           "#FF6692",
           "#B6E880",
           "#FF97FF",
           "#FECB52"
          ],
          "font": {
           "color": "#2a3f5f"
          },
          "geo": {
           "bgcolor": "white",
           "lakecolor": "white",
           "landcolor": "#E5ECF6",
           "showlakes": true,
           "showland": true,
           "subunitcolor": "white"
          },
          "hoverlabel": {
           "align": "left"
          },
          "hovermode": "closest",
          "mapbox": {
           "style": "light"
          },
          "paper_bgcolor": "white",
          "plot_bgcolor": "#E5ECF6",
          "polar": {
           "angularaxis": {
            "gridcolor": "white",
            "linecolor": "white",
            "ticks": ""
           },
           "bgcolor": "#E5ECF6",
           "radialaxis": {
            "gridcolor": "white",
            "linecolor": "white",
            "ticks": ""
           }
          },
          "scene": {
           "xaxis": {
            "backgroundcolor": "#E5ECF6",
            "gridcolor": "white",
            "gridwidth": 2,
            "linecolor": "white",
            "showbackground": true,
            "ticks": "",
            "zerolinecolor": "white"
           },
           "yaxis": {
            "backgroundcolor": "#E5ECF6",
            "gridcolor": "white",
            "gridwidth": 2,
            "linecolor": "white",
            "showbackground": true,
            "ticks": "",
            "zerolinecolor": "white"
           },
           "zaxis": {
            "backgroundcolor": "#E5ECF6",
            "gridcolor": "white",
            "gridwidth": 2,
            "linecolor": "white",
            "showbackground": true,
            "ticks": "",
            "zerolinecolor": "white"
           }
          },
          "shapedefaults": {
           "line": {
            "color": "#2a3f5f"
           }
          },
          "ternary": {
           "aaxis": {
            "gridcolor": "white",
            "linecolor": "white",
            "ticks": ""
           },
           "baxis": {
            "gridcolor": "white",
            "linecolor": "white",
            "ticks": ""
           },
           "bgcolor": "#E5ECF6",
           "caxis": {
            "gridcolor": "white",
            "linecolor": "white",
            "ticks": ""
           }
          },
          "title": {
           "x": 0.05
          },
          "xaxis": {
           "automargin": true,
           "gridcolor": "white",
           "linecolor": "white",
           "ticks": "",
           "title": {
            "standoff": 15
           },
           "zerolinecolor": "white",
           "zerolinewidth": 2
          },
          "yaxis": {
           "automargin": true,
           "gridcolor": "white",
           "linecolor": "white",
           "ticks": "",
           "title": {
            "standoff": 15
           },
           "zerolinecolor": "white",
           "zerolinewidth": 2
          }
         }
        },
        "title": {
         "text": "return per round"
        },
        "width": 700
       }
      }
     },
     "metadata": {},
     "output_type": "display_data"
    }
   ],
   "source": [
    "import plotly.graph_objects as go\n",
    "\n",
    "x_data = df_return_per_round.columns.to_list() # close threshold\n",
    "\n",
    "y_data = df_return_per_round.index.to_list() # open threshold\n",
    "\n",
    "z_data = df_return_per_round.copy(deep=True) # return per round\n",
    "\n",
    "fig = go.Figure(data=[go.Surface(z=z_data.values,x=x_data,y=y_data)])\n",
    "\n",
    "fig.update_layout(title=\"return per round\", # 标题\n",
    "                  autosize=False,  # 尺度自动缩放\n",
    "                  width=700,  # 长宽\n",
    "                  height=600,\n",
    "                  margin=dict(l=65,r=50,b=65,t=90)  # 4个位置的距离\n",
    "                 )\n",
    "\n",
    "fig.show()"
   ]
  },
  {
   "cell_type": "markdown",
   "metadata": {},
   "source": [
    "# win rate surface"
   ]
  },
  {
   "cell_type": "code",
   "execution_count": 12,
   "metadata": {},
   "outputs": [
    {
     "name": "stdout",
     "output_type": "stream",
     "text": [
      "max win rate: \n",
      " 0.000001    0.730496\n",
      "0.001000    0.760000\n",
      "0.002000    0.812968\n",
      "0.003000    0.857422\n",
      "dtype: float64\n",
      "min win rate: \n",
      " 0.000001    0.630137\n",
      "0.001000    0.630137\n",
      "0.002000    0.647727\n",
      "0.003000    0.649351\n",
      "dtype: float64\n"
     ]
    },
    {
     "data": {
      "text/html": [
       "<div>\n",
       "<style scoped>\n",
       "    .dataframe tbody tr th:only-of-type {\n",
       "        vertical-align: middle;\n",
       "    }\n",
       "\n",
       "    .dataframe tbody tr th {\n",
       "        vertical-align: top;\n",
       "    }\n",
       "\n",
       "    .dataframe thead th {\n",
       "        text-align: right;\n",
       "    }\n",
       "</style>\n",
       "<table border=\"1\" class=\"dataframe\">\n",
       "  <thead>\n",
       "    <tr style=\"text-align: right;\">\n",
       "      <th></th>\n",
       "      <th>0.000001</th>\n",
       "      <th>0.001000</th>\n",
       "      <th>0.002000</th>\n",
       "      <th>0.003000</th>\n",
       "    </tr>\n",
       "  </thead>\n",
       "  <tbody>\n",
       "    <tr>\n",
       "      <th>0.005</th>\n",
       "      <td>0.730496</td>\n",
       "      <td>0.760000</td>\n",
       "      <td>0.812968</td>\n",
       "      <td>0.857422</td>\n",
       "    </tr>\n",
       "    <tr>\n",
       "      <th>0.006</th>\n",
       "      <td>0.728070</td>\n",
       "      <td>0.757937</td>\n",
       "      <td>0.787879</td>\n",
       "      <td>0.831933</td>\n",
       "    </tr>\n",
       "    <tr>\n",
       "      <th>0.007</th>\n",
       "      <td>0.699482</td>\n",
       "      <td>0.729858</td>\n",
       "      <td>0.763485</td>\n",
       "      <td>0.795620</td>\n",
       "    </tr>\n",
       "    <tr>\n",
       "      <th>0.008</th>\n",
       "      <td>0.695122</td>\n",
       "      <td>0.715909</td>\n",
       "      <td>0.746193</td>\n",
       "      <td>0.777273</td>\n",
       "    </tr>\n",
       "    <tr>\n",
       "      <th>0.009</th>\n",
       "      <td>0.701389</td>\n",
       "      <td>0.715232</td>\n",
       "      <td>0.734940</td>\n",
       "      <td>0.751412</td>\n",
       "    </tr>\n",
       "    <tr>\n",
       "      <th>0.010</th>\n",
       "      <td>0.682540</td>\n",
       "      <td>0.696970</td>\n",
       "      <td>0.714286</td>\n",
       "      <td>0.720280</td>\n",
       "    </tr>\n",
       "    <tr>\n",
       "      <th>0.011</th>\n",
       "      <td>0.663636</td>\n",
       "      <td>0.675439</td>\n",
       "      <td>0.689076</td>\n",
       "      <td>0.691667</td>\n",
       "    </tr>\n",
       "    <tr>\n",
       "      <th>0.012</th>\n",
       "      <td>0.642105</td>\n",
       "      <td>0.649485</td>\n",
       "      <td>0.666667</td>\n",
       "      <td>0.669903</td>\n",
       "    </tr>\n",
       "    <tr>\n",
       "      <th>0.013</th>\n",
       "      <td>0.630952</td>\n",
       "      <td>0.630952</td>\n",
       "      <td>0.647727</td>\n",
       "      <td>0.651685</td>\n",
       "    </tr>\n",
       "    <tr>\n",
       "      <th>0.014</th>\n",
       "      <td>0.630137</td>\n",
       "      <td>0.630137</td>\n",
       "      <td>0.649351</td>\n",
       "      <td>0.649351</td>\n",
       "    </tr>\n",
       "    <tr>\n",
       "      <th>0.015</th>\n",
       "      <td>0.666667</td>\n",
       "      <td>0.666667</td>\n",
       "      <td>0.684932</td>\n",
       "      <td>0.684932</td>\n",
       "    </tr>\n",
       "  </tbody>\n",
       "</table>\n",
       "</div>"
      ],
      "text/plain": [
       "       0.000001  0.001000  0.002000  0.003000\n",
       "0.005  0.730496  0.760000  0.812968  0.857422\n",
       "0.006  0.728070  0.757937  0.787879  0.831933\n",
       "0.007  0.699482  0.729858  0.763485  0.795620\n",
       "0.008  0.695122  0.715909  0.746193  0.777273\n",
       "0.009  0.701389  0.715232  0.734940  0.751412\n",
       "0.010  0.682540  0.696970  0.714286  0.720280\n",
       "0.011  0.663636  0.675439  0.689076  0.691667\n",
       "0.012  0.642105  0.649485  0.666667  0.669903\n",
       "0.013  0.630952  0.630952  0.647727  0.651685\n",
       "0.014  0.630137  0.630137  0.649351  0.649351\n",
       "0.015  0.666667  0.666667  0.684932  0.684932"
      ]
     },
     "execution_count": 12,
     "metadata": {},
     "output_type": "execute_result"
    }
   ],
   "source": [
    "df_win_rate = pd.DataFrame([])\n",
    "for index,row in df_grid_search_res.iterrows():\n",
    "    open_threshold = row['open threshold']\n",
    "    close_threshold = row['close threshold']\n",
    "    df_win_rate.loc[open_threshold,close_threshold] = row['win rate']\n",
    "print('max win rate: \\n',df_win_rate.max())\n",
    "print('min win rate: \\n',df_win_rate.min())    \n",
    "df_win_rate"
   ]
  },
  {
   "cell_type": "code",
   "execution_count": 13,
   "metadata": {},
   "outputs": [
    {
     "data": {
      "application/vnd.plotly.v1+json": {
       "config": {
        "plotlyServerURL": "https://plot.ly"
       },
       "data": [
        {
         "type": "surface",
         "x": [
          0.000001,
          0.001,
          0.002,
          0.003
         ],
         "y": [
          0.005,
          0.006,
          0.007,
          0.008,
          0.009,
          0.01,
          0.011,
          0.012,
          0.013,
          0.014,
          0.015
         ],
         "z": [
          [
           0.7304964539007093,
           0.76,
           0.8129675810473815,
           0.857421875
          ],
          [
           0.7280701754385965,
           0.7579365079365079,
           0.7878787878787878,
           0.8319327731092437
          ],
          [
           0.6994818652849741,
           0.7298578199052133,
           0.7634854771784232,
           0.7956204379562044
          ],
          [
           0.6951219512195121,
           0.7159090909090909,
           0.7461928934010152,
           0.7772727272727272
          ],
          [
           0.7013888888888888,
           0.7152317880794702,
           0.7349397590361446,
           0.751412429378531
          ],
          [
           0.6825396825396826,
           0.696969696969697,
           0.7142857142857143,
           0.7202797202797203
          ],
          [
           0.6636363636363637,
           0.6754385964912281,
           0.6890756302521008,
           0.6916666666666667
          ],
          [
           0.6421052631578947,
           0.6494845360824743,
           0.6666666666666666,
           0.6699029126213593
          ],
          [
           0.6309523809523809,
           0.6309523809523809,
           0.6477272727272727,
           0.651685393258427
          ],
          [
           0.6301369863013698,
           0.6301369863013698,
           0.6493506493506493,
           0.6493506493506493
          ],
          [
           0.6666666666666666,
           0.6666666666666666,
           0.684931506849315,
           0.684931506849315
          ]
         ]
        }
       ],
       "layout": {
        "autosize": false,
        "height": 600,
        "margin": {
         "b": 65,
         "l": 65,
         "r": 50,
         "t": 90
        },
        "template": {
         "data": {
          "bar": [
           {
            "error_x": {
             "color": "#2a3f5f"
            },
            "error_y": {
             "color": "#2a3f5f"
            },
            "marker": {
             "line": {
              "color": "#E5ECF6",
              "width": 0.5
             },
             "pattern": {
              "fillmode": "overlay",
              "size": 10,
              "solidity": 0.2
             }
            },
            "type": "bar"
           }
          ],
          "barpolar": [
           {
            "marker": {
             "line": {
              "color": "#E5ECF6",
              "width": 0.5
             },
             "pattern": {
              "fillmode": "overlay",
              "size": 10,
              "solidity": 0.2
             }
            },
            "type": "barpolar"
           }
          ],
          "carpet": [
           {
            "aaxis": {
             "endlinecolor": "#2a3f5f",
             "gridcolor": "white",
             "linecolor": "white",
             "minorgridcolor": "white",
             "startlinecolor": "#2a3f5f"
            },
            "baxis": {
             "endlinecolor": "#2a3f5f",
             "gridcolor": "white",
             "linecolor": "white",
             "minorgridcolor": "white",
             "startlinecolor": "#2a3f5f"
            },
            "type": "carpet"
           }
          ],
          "choropleth": [
           {
            "colorbar": {
             "outlinewidth": 0,
             "ticks": ""
            },
            "type": "choropleth"
           }
          ],
          "contour": [
           {
            "colorbar": {
             "outlinewidth": 0,
             "ticks": ""
            },
            "colorscale": [
             [
              0,
              "#0d0887"
             ],
             [
              0.1111111111111111,
              "#46039f"
             ],
             [
              0.2222222222222222,
              "#7201a8"
             ],
             [
              0.3333333333333333,
              "#9c179e"
             ],
             [
              0.4444444444444444,
              "#bd3786"
             ],
             [
              0.5555555555555556,
              "#d8576b"
             ],
             [
              0.6666666666666666,
              "#ed7953"
             ],
             [
              0.7777777777777778,
              "#fb9f3a"
             ],
             [
              0.8888888888888888,
              "#fdca26"
             ],
             [
              1,
              "#f0f921"
             ]
            ],
            "type": "contour"
           }
          ],
          "contourcarpet": [
           {
            "colorbar": {
             "outlinewidth": 0,
             "ticks": ""
            },
            "type": "contourcarpet"
           }
          ],
          "heatmap": [
           {
            "colorbar": {
             "outlinewidth": 0,
             "ticks": ""
            },
            "colorscale": [
             [
              0,
              "#0d0887"
             ],
             [
              0.1111111111111111,
              "#46039f"
             ],
             [
              0.2222222222222222,
              "#7201a8"
             ],
             [
              0.3333333333333333,
              "#9c179e"
             ],
             [
              0.4444444444444444,
              "#bd3786"
             ],
             [
              0.5555555555555556,
              "#d8576b"
             ],
             [
              0.6666666666666666,
              "#ed7953"
             ],
             [
              0.7777777777777778,
              "#fb9f3a"
             ],
             [
              0.8888888888888888,
              "#fdca26"
             ],
             [
              1,
              "#f0f921"
             ]
            ],
            "type": "heatmap"
           }
          ],
          "heatmapgl": [
           {
            "colorbar": {
             "outlinewidth": 0,
             "ticks": ""
            },
            "colorscale": [
             [
              0,
              "#0d0887"
             ],
             [
              0.1111111111111111,
              "#46039f"
             ],
             [
              0.2222222222222222,
              "#7201a8"
             ],
             [
              0.3333333333333333,
              "#9c179e"
             ],
             [
              0.4444444444444444,
              "#bd3786"
             ],
             [
              0.5555555555555556,
              "#d8576b"
             ],
             [
              0.6666666666666666,
              "#ed7953"
             ],
             [
              0.7777777777777778,
              "#fb9f3a"
             ],
             [
              0.8888888888888888,
              "#fdca26"
             ],
             [
              1,
              "#f0f921"
             ]
            ],
            "type": "heatmapgl"
           }
          ],
          "histogram": [
           {
            "marker": {
             "pattern": {
              "fillmode": "overlay",
              "size": 10,
              "solidity": 0.2
             }
            },
            "type": "histogram"
           }
          ],
          "histogram2d": [
           {
            "colorbar": {
             "outlinewidth": 0,
             "ticks": ""
            },
            "colorscale": [
             [
              0,
              "#0d0887"
             ],
             [
              0.1111111111111111,
              "#46039f"
             ],
             [
              0.2222222222222222,
              "#7201a8"
             ],
             [
              0.3333333333333333,
              "#9c179e"
             ],
             [
              0.4444444444444444,
              "#bd3786"
             ],
             [
              0.5555555555555556,
              "#d8576b"
             ],
             [
              0.6666666666666666,
              "#ed7953"
             ],
             [
              0.7777777777777778,
              "#fb9f3a"
             ],
             [
              0.8888888888888888,
              "#fdca26"
             ],
             [
              1,
              "#f0f921"
             ]
            ],
            "type": "histogram2d"
           }
          ],
          "histogram2dcontour": [
           {
            "colorbar": {
             "outlinewidth": 0,
             "ticks": ""
            },
            "colorscale": [
             [
              0,
              "#0d0887"
             ],
             [
              0.1111111111111111,
              "#46039f"
             ],
             [
              0.2222222222222222,
              "#7201a8"
             ],
             [
              0.3333333333333333,
              "#9c179e"
             ],
             [
              0.4444444444444444,
              "#bd3786"
             ],
             [
              0.5555555555555556,
              "#d8576b"
             ],
             [
              0.6666666666666666,
              "#ed7953"
             ],
             [
              0.7777777777777778,
              "#fb9f3a"
             ],
             [
              0.8888888888888888,
              "#fdca26"
             ],
             [
              1,
              "#f0f921"
             ]
            ],
            "type": "histogram2dcontour"
           }
          ],
          "mesh3d": [
           {
            "colorbar": {
             "outlinewidth": 0,
             "ticks": ""
            },
            "type": "mesh3d"
           }
          ],
          "parcoords": [
           {
            "line": {
             "colorbar": {
              "outlinewidth": 0,
              "ticks": ""
             }
            },
            "type": "parcoords"
           }
          ],
          "pie": [
           {
            "automargin": true,
            "type": "pie"
           }
          ],
          "scatter": [
           {
            "fillpattern": {
             "fillmode": "overlay",
             "size": 10,
             "solidity": 0.2
            },
            "type": "scatter"
           }
          ],
          "scatter3d": [
           {
            "line": {
             "colorbar": {
              "outlinewidth": 0,
              "ticks": ""
             }
            },
            "marker": {
             "colorbar": {
              "outlinewidth": 0,
              "ticks": ""
             }
            },
            "type": "scatter3d"
           }
          ],
          "scattercarpet": [
           {
            "marker": {
             "colorbar": {
              "outlinewidth": 0,
              "ticks": ""
             }
            },
            "type": "scattercarpet"
           }
          ],
          "scattergeo": [
           {
            "marker": {
             "colorbar": {
              "outlinewidth": 0,
              "ticks": ""
             }
            },
            "type": "scattergeo"
           }
          ],
          "scattergl": [
           {
            "marker": {
             "colorbar": {
              "outlinewidth": 0,
              "ticks": ""
             }
            },
            "type": "scattergl"
           }
          ],
          "scattermapbox": [
           {
            "marker": {
             "colorbar": {
              "outlinewidth": 0,
              "ticks": ""
             }
            },
            "type": "scattermapbox"
           }
          ],
          "scatterpolar": [
           {
            "marker": {
             "colorbar": {
              "outlinewidth": 0,
              "ticks": ""
             }
            },
            "type": "scatterpolar"
           }
          ],
          "scatterpolargl": [
           {
            "marker": {
             "colorbar": {
              "outlinewidth": 0,
              "ticks": ""
             }
            },
            "type": "scatterpolargl"
           }
          ],
          "scatterternary": [
           {
            "marker": {
             "colorbar": {
              "outlinewidth": 0,
              "ticks": ""
             }
            },
            "type": "scatterternary"
           }
          ],
          "surface": [
           {
            "colorbar": {
             "outlinewidth": 0,
             "ticks": ""
            },
            "colorscale": [
             [
              0,
              "#0d0887"
             ],
             [
              0.1111111111111111,
              "#46039f"
             ],
             [
              0.2222222222222222,
              "#7201a8"
             ],
             [
              0.3333333333333333,
              "#9c179e"
             ],
             [
              0.4444444444444444,
              "#bd3786"
             ],
             [
              0.5555555555555556,
              "#d8576b"
             ],
             [
              0.6666666666666666,
              "#ed7953"
             ],
             [
              0.7777777777777778,
              "#fb9f3a"
             ],
             [
              0.8888888888888888,
              "#fdca26"
             ],
             [
              1,
              "#f0f921"
             ]
            ],
            "type": "surface"
           }
          ],
          "table": [
           {
            "cells": {
             "fill": {
              "color": "#EBF0F8"
             },
             "line": {
              "color": "white"
             }
            },
            "header": {
             "fill": {
              "color": "#C8D4E3"
             },
             "line": {
              "color": "white"
             }
            },
            "type": "table"
           }
          ]
         },
         "layout": {
          "annotationdefaults": {
           "arrowcolor": "#2a3f5f",
           "arrowhead": 0,
           "arrowwidth": 1
          },
          "autotypenumbers": "strict",
          "coloraxis": {
           "colorbar": {
            "outlinewidth": 0,
            "ticks": ""
           }
          },
          "colorscale": {
           "diverging": [
            [
             0,
             "#8e0152"
            ],
            [
             0.1,
             "#c51b7d"
            ],
            [
             0.2,
             "#de77ae"
            ],
            [
             0.3,
             "#f1b6da"
            ],
            [
             0.4,
             "#fde0ef"
            ],
            [
             0.5,
             "#f7f7f7"
            ],
            [
             0.6,
             "#e6f5d0"
            ],
            [
             0.7,
             "#b8e186"
            ],
            [
             0.8,
             "#7fbc41"
            ],
            [
             0.9,
             "#4d9221"
            ],
            [
             1,
             "#276419"
            ]
           ],
           "sequential": [
            [
             0,
             "#0d0887"
            ],
            [
             0.1111111111111111,
             "#46039f"
            ],
            [
             0.2222222222222222,
             "#7201a8"
            ],
            [
             0.3333333333333333,
             "#9c179e"
            ],
            [
             0.4444444444444444,
             "#bd3786"
            ],
            [
             0.5555555555555556,
             "#d8576b"
            ],
            [
             0.6666666666666666,
             "#ed7953"
            ],
            [
             0.7777777777777778,
             "#fb9f3a"
            ],
            [
             0.8888888888888888,
             "#fdca26"
            ],
            [
             1,
             "#f0f921"
            ]
           ],
           "sequentialminus": [
            [
             0,
             "#0d0887"
            ],
            [
             0.1111111111111111,
             "#46039f"
            ],
            [
             0.2222222222222222,
             "#7201a8"
            ],
            [
             0.3333333333333333,
             "#9c179e"
            ],
            [
             0.4444444444444444,
             "#bd3786"
            ],
            [
             0.5555555555555556,
             "#d8576b"
            ],
            [
             0.6666666666666666,
             "#ed7953"
            ],
            [
             0.7777777777777778,
             "#fb9f3a"
            ],
            [
             0.8888888888888888,
             "#fdca26"
            ],
            [
             1,
             "#f0f921"
            ]
           ]
          },
          "colorway": [
           "#636efa",
           "#EF553B",
           "#00cc96",
           "#ab63fa",
           "#FFA15A",
           "#19d3f3",
           "#FF6692",
           "#B6E880",
           "#FF97FF",
           "#FECB52"
          ],
          "font": {
           "color": "#2a3f5f"
          },
          "geo": {
           "bgcolor": "white",
           "lakecolor": "white",
           "landcolor": "#E5ECF6",
           "showlakes": true,
           "showland": true,
           "subunitcolor": "white"
          },
          "hoverlabel": {
           "align": "left"
          },
          "hovermode": "closest",
          "mapbox": {
           "style": "light"
          },
          "paper_bgcolor": "white",
          "plot_bgcolor": "#E5ECF6",
          "polar": {
           "angularaxis": {
            "gridcolor": "white",
            "linecolor": "white",
            "ticks": ""
           },
           "bgcolor": "#E5ECF6",
           "radialaxis": {
            "gridcolor": "white",
            "linecolor": "white",
            "ticks": ""
           }
          },
          "scene": {
           "xaxis": {
            "backgroundcolor": "#E5ECF6",
            "gridcolor": "white",
            "gridwidth": 2,
            "linecolor": "white",
            "showbackground": true,
            "ticks": "",
            "zerolinecolor": "white"
           },
           "yaxis": {
            "backgroundcolor": "#E5ECF6",
            "gridcolor": "white",
            "gridwidth": 2,
            "linecolor": "white",
            "showbackground": true,
            "ticks": "",
            "zerolinecolor": "white"
           },
           "zaxis": {
            "backgroundcolor": "#E5ECF6",
            "gridcolor": "white",
            "gridwidth": 2,
            "linecolor": "white",
            "showbackground": true,
            "ticks": "",
            "zerolinecolor": "white"
           }
          },
          "shapedefaults": {
           "line": {
            "color": "#2a3f5f"
           }
          },
          "ternary": {
           "aaxis": {
            "gridcolor": "white",
            "linecolor": "white",
            "ticks": ""
           },
           "baxis": {
            "gridcolor": "white",
            "linecolor": "white",
            "ticks": ""
           },
           "bgcolor": "#E5ECF6",
           "caxis": {
            "gridcolor": "white",
            "linecolor": "white",
            "ticks": ""
           }
          },
          "title": {
           "x": 0.05
          },
          "xaxis": {
           "automargin": true,
           "gridcolor": "white",
           "linecolor": "white",
           "ticks": "",
           "title": {
            "standoff": 15
           },
           "zerolinecolor": "white",
           "zerolinewidth": 2
          },
          "yaxis": {
           "automargin": true,
           "gridcolor": "white",
           "linecolor": "white",
           "ticks": "",
           "title": {
            "standoff": 15
           },
           "zerolinecolor": "white",
           "zerolinewidth": 2
          }
         }
        },
        "title": {
         "text": "win rate"
        },
        "width": 700
       }
      }
     },
     "metadata": {},
     "output_type": "display_data"
    }
   ],
   "source": [
    "import plotly.graph_objects as go\n",
    "\n",
    "x_data = df_win_rate.columns.to_list() # close threshold\n",
    "\n",
    "y_data = df_win_rate.index.to_list() # open threshold\n",
    "\n",
    "z_data = df_win_rate.copy(deep=True) # win rate\n",
    "\n",
    "fig = go.Figure(data=[go.Surface(z=z_data.values,x=x_data,y=y_data)])\n",
    "\n",
    "fig.update_layout(title=\"win rate\", # 标题\n",
    "                  autosize=False,  # 尺度自动缩放\n",
    "                  width=700,  # 长宽\n",
    "                  height=600,\n",
    "                  margin=dict(l=65,r=50,b=65,t=90)  # 4个位置的距离\n",
    "                 )\n",
    "\n",
    "fig.show()"
   ]
  }
 ],
 "metadata": {
  "kernelspec": {
   "display_name": "Python 3.9.7 ('base')",
   "language": "python",
   "name": "python3"
  },
  "language_info": {
   "codemirror_mode": {
    "name": "ipython",
    "version": 3
   },
   "file_extension": ".py",
   "mimetype": "text/x-python",
   "name": "python",
   "nbconvert_exporter": "python",
   "pygments_lexer": "ipython3",
   "version": "3.9.7"
  },
  "orig_nbformat": 4,
  "vscode": {
   "interpreter": {
    "hash": "4b7a3c99c09164ed3315a85b9be868456d78d186d21965e8a7155bab558fd18f"
   }
  }
 },
 "nbformat": 4,
 "nbformat_minor": 2
}
