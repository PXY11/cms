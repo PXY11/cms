{
 "cells": [
  {
   "cell_type": "markdown",
   "metadata": {},
   "source": [
    "# import data"
   ]
  },
  {
   "cell_type": "code",
   "execution_count": null,
   "metadata": {},
   "outputs": [],
   "source": [
    "import os \n",
    "import numpy as np\n",
    "import pandas as pd\n",
    "import statsmodels.api as sm\n",
    "from statsmodels.tsa.stattools import adfuller"
   ]
  },
  {
   "cell_type": "code",
   "execution_count": null,
   "metadata": {},
   "outputs": [],
   "source": [
    "data_path = '/Users/bokie/code/python/CMS/可转债套利/cms/stat_arb/stk_data'\n",
    "df_price_dic = {}\n",
    "df_return_dic = {}\n",
    "industry = os.listdir(data_path+'/price')\n",
    "\n",
    "for tmp_industry in industry:\n",
    "    tmp_price_path = data_path + '/price/' + tmp_industry\n",
    "    tmp_return_path = data_path + '/return/' + tmp_industry\n",
    "    tmp_df_price = pd.read_pickle(tmp_price_path)\n",
    "    tmp_df_return = pd.read_pickle(tmp_return_path)\n",
    "    tmp_key = tmp_industry.split('.')[0]\n",
    "    df_price_dic[tmp_key] = tmp_df_price\n",
    "    df_return_dic[tmp_key] = tmp_df_return"
   ]
  },
  {
   "cell_type": "code",
   "execution_count": null,
   "metadata": {},
   "outputs": [],
   "source": [
    "corr_dic = {}\n",
    "for k,v in df_return_dic.items():\n",
    "    corr_mat = v.corr(method='pearson')\n",
    "    for i in range(len(corr_mat)):\n",
    "        corr_mat.iloc[i,i] = np.nan\n",
    "    corr_dic[k] = corr_mat"
   ]
  },
  {
   "cell_type": "markdown",
   "metadata": {},
   "source": [
    "# pair correlation"
   ]
  },
  {
   "cell_type": "code",
   "execution_count": null,
   "metadata": {},
   "outputs": [],
   "source": [
    "corr_pair_dic = {}\n",
    "for tmp_industry in corr_dic.keys():\n",
    "    tmp_corr_max = corr_dic[tmp_industry].max()\n",
    "    tmp_df_corr = corr_dic[tmp_industry]\n",
    "\n",
    "    tmp_corr_max,type(tmp_corr_max),tmp_corr_max.index.tolist()\n",
    "    industry_corr_pair_dic = {}\n",
    "\n",
    "    main_code_list = tmp_corr_max.index.tolist()\n",
    "    for main_code in main_code_list:\n",
    "        tmp_line = tmp_df_corr.loc[main_code]\n",
    "        tmp_line = pd.DataFrame(tmp_line)\n",
    "        for index,row in tmp_line.iterrows():\n",
    "            if row[main_code] == tmp_corr_max.loc[main_code]:\n",
    "                # print(index)\n",
    "                sec_code = index\n",
    "                tmp_corr = tmp_corr_max.loc[main_code]\n",
    "        # print(f'\\'{main_code}\\',\\'{sec_code}\\'','@',tmp_corr)\n",
    "        tmp_key = main_code+'@'+sec_code\n",
    "        tmp_key_reverse = sec_code+'@'+main_code\n",
    "        if (tmp_key not in industry_corr_pair_dic) and (tmp_key_reverse not in industry_corr_pair_dic):\n",
    "            industry_corr_pair_dic[tmp_key] = tmp_corr\n",
    "        \n",
    "    corr_pair_dic[tmp_industry] = sorted(industry_corr_pair_dic.items(), key=lambda x:x[1],reverse=True)\n"
   ]
  },
  {
   "cell_type": "code",
   "execution_count": null,
   "metadata": {},
   "outputs": [],
   "source": [
    "df_corr_pair = pd.DataFrame(columns=['industry','corr'])\n",
    "for k,v in corr_pair_dic.items():\n",
    "    for pair_corr in v:\n",
    "        tmp_pair = pair_corr[0]\n",
    "        tmp_corr = pair_corr[1]\n",
    "        if tmp_corr>0:\n",
    "            # print(k,tmp_pair,tmp_corr)\n",
    "            df_corr_pair.loc[tmp_pair] = [k,tmp_corr]\n",
    "            # print(\"%-10s\\t\\t%-10s\\t\\t%-10s\"%(k,tmp_pair,tmp_corr))\n",
    "df_corr_pair = df_corr_pair.reset_index()\n",
    "df_corr_pair.columns = ['pair','industry','corr']\n",
    "df_corr_pair"
   ]
  },
  {
   "cell_type": "markdown",
   "metadata": {},
   "source": [
    "# pair cointegration test"
   ]
  },
  {
   "cell_type": "code",
   "execution_count": null,
   "metadata": {},
   "outputs": [],
   "source": [
    "df_return_dic['煤炭'][['600395.SH','002128.SZ']]"
   ]
  },
  {
   "cell_type": "code",
   "execution_count": null,
   "metadata": {},
   "outputs": [],
   "source": [
    "def cointegration_test(y, x):\n",
    "    ols_result = sm.OLS(y, x).fit()\n",
    "    return adfuller(ols_result.resid)\n",
    "\n",
    "df_coint_pair = pd.DataFrame(columns=['industry','coint','reverse coint'])\n",
    "for index,row in df_corr_pair.iterrows():\n",
    "    pair = row['pair']\n",
    "    industry = row['industry']\n",
    "    pair_return = df_return_dic[industry]\n",
    "    x_code = pair.split('@')[0]\n",
    "    y_code = pair.split('@')[1]\n",
    "    x = pair_return[x_code].tolist()\n",
    "    y = pair_return[y_code].tolist()\n",
    "    res = cointegration_test(y, x),\n",
    "    reverse_res = cointegration_test(x, y)\n",
    "    \n",
    "    df_coint_pair.loc[pair] = [industry,res,reverse_res]\n",
    "    print(index,industry,pair)"
   ]
  },
  {
   "cell_type": "code",
   "execution_count": null,
   "metadata": {},
   "outputs": [],
   "source": [
    "df_coint_pair"
   ]
  },
  {
   "cell_type": "code",
   "execution_count": null,
   "metadata": {},
   "outputs": [],
   "source": [
    "df_coint_pair.to_excel('coint_res.xlsx')"
   ]
  }
 ],
 "metadata": {
  "kernelspec": {
   "display_name": "Python 3.9.7 ('base')",
   "language": "python",
   "name": "python3"
  },
  "language_info": {
   "codemirror_mode": {
    "name": "ipython",
    "version": 3
   },
   "file_extension": ".py",
   "mimetype": "text/x-python",
   "name": "python",
   "nbconvert_exporter": "python",
   "pygments_lexer": "ipython3",
   "version": "3.9.7"
  },
  "orig_nbformat": 4,
  "vscode": {
   "interpreter": {
    "hash": "4b7a3c99c09164ed3315a85b9be868456d78d186d21965e8a7155bab558fd18f"
   }
  }
 },
 "nbformat": 4,
 "nbformat_minor": 2
}
