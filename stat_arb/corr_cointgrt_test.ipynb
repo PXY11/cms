{
 "cells": [
  {
   "cell_type": "markdown",
   "metadata": {},
   "source": [
    "# import data"
   ]
  },
  {
   "cell_type": "code",
   "execution_count": null,
   "metadata": {},
   "outputs": [],
   "source": [
    "import pandas as pd\n",
    "import numpy as np\n",
    "from WindPy import *\n",
    "#Wind API 使用W账户密码登录\n",
    "w.start() \n",
    "#return True and then can go to next operation.\n",
    "w.isconnected()"
   ]
  },
  {
   "cell_type": "code",
   "execution_count": null,
   "metadata": {},
   "outputs": [],
   "source": [
    "df_origin = pd.read_excel('stocks.xlsx')\n",
    "df_contract_value =  df_origin.set_index('date')[['lastUpdateTime','Unnamed: 82']].reset_index()\n",
    "df_contract_value.columns = ['code','value','industry']\n",
    "code_list = df_origin['date'].unique().tolist()\n",
    "stk_code_list = []\n",
    "for code in code_list:\n",
    "    if len(str(code).split('.')) == 2:\n",
    "        if str(code).split('.')[1] == 'HK' or str(code).split('.')[1] == 'SH' or str(code).split('.')[1] == 'SZ':\n",
    "            if len(str(code).split('.')[0]) == 6:\n",
    "                stk_code_list.append(code)\n",
    "stk_code_str = ','.join(stk_code_list)\n",
    "print(len(stk_code_list))\n",
    "df_stk_wind =  w.wss(f\"{stk_code_str}\", \"sec_name\", \"tradeDate=20221102;\",usedf=True)[1]\n",
    "code_list = df_origin['date'].unique().tolist()\n",
    "stk_code_list = []\n",
    "for code in code_list:\n",
    "    if len(str(code).split('.')) == 2:\n",
    "        if str(code).split('.')[1] == 'HK' or str(code).split('.')[1] == 'SH' or str(code).split('.')[1] == 'SZ':\n",
    "            if len(str(code).split('.')[0]) == 6:\n",
    "                stk_code_list.append(code)\n",
    "stk_code_str = ','.join(stk_code_list)\n",
    "print(len(stk_code_list))\n",
    "df_stk_info = df_contract_value.set_index('code').loc[stk_code_list]\n",
    "# pd.set_option('display.max_rows', None)\n",
    "df_stk_info['name'] = df_stk_wind['SEC_NAME']\n",
    "df_stk_clean = df_stk_info[df_stk_info['industry']!=0].fillna('工业').sort_values(by='industry').reset_index()\n",
    "df_stk_clean = df_stk_clean[['code','name','value','industry']]\n",
    "# pd.set_option('display.max_rows', None)\n",
    "df_stk_clean['value'] = df_stk_clean['value'].apply(lambda x: format(x, 'f'))\n",
    "\n",
    "tmp_str = ','.join(df_stk_clean['code'].tolist())\n",
    "df_ipo_date = w.wss(tmp_str, \"ipo_date\", \"\",usedf=True)[1].reset_index()\n",
    "df_stk_clean['IPO_DATE'] = df_ipo_date['IPO_DATE']\n",
    "# df_stk_clean.to_excel('stock_hold.xlsx')"
   ]
  },
  {
   "cell_type": "code",
   "execution_count": null,
   "metadata": {},
   "outputs": [],
   "source": [
    "# pd.set_option('display.max_rows', None)\n",
    "df_stk_clean"
   ]
  },
  {
   "cell_type": "code",
   "execution_count": null,
   "metadata": {},
   "outputs": [],
   "source": [
    "idsty_stk_dic = {}\n",
    "for index,row in df_stk_clean.iterrows():\n",
    "    tmp_code = row['code']\n",
    "    tmp_industry = row['industry']\n",
    "    if tmp_industry not in idsty_stk_dic:\n",
    "        idsty_stk_dic[tmp_industry] = [tmp_code]\n",
    "    else:\n",
    "        idsty_stk_dic[tmp_industry].append(tmp_code)\n",
    "print(idsty_stk_dic.keys())\n",
    "df_industry_count = pd.DataFrame(df_stk_clean['industry'].value_counts())\n",
    "df_industry_count = df_industry_count.reset_index()\n",
    "# df_industry_count.to_excel('industry.xlsx')\n",
    "df_industry_count"
   ]
  },
  {
   "cell_type": "markdown",
   "metadata": {},
   "source": [
    "# industry setting"
   ]
  },
  {
   "cell_type": "code",
   "execution_count": null,
   "metadata": {},
   "outputs": [],
   "source": [
    "target_industry = '交通运输'\n",
    "df_stk_clean[df_stk_clean['industry']==target_industry]"
   ]
  },
  {
   "cell_type": "markdown",
   "metadata": {},
   "source": [
    "# return calculate"
   ]
  },
  {
   "cell_type": "code",
   "execution_count": null,
   "metadata": {},
   "outputs": [],
   "source": [
    "# cbond_list = ['113516.SH','110043.SH',\n",
    "# ]\n",
    "cbond_list = idsty_stk_dic[target_industry]  \n",
    "# ###############################################################\n",
    "before_trade_date = '20201029'#监测当日前一个交易日\n",
    "present_date = '20201030' #监测当日\n",
    "# before_trade_date = '20201026'#监测当日前一个交易日\n",
    "# present_date = '20201027' #监测当日\n",
    "# next_trade_date = '20220917' #监测当日下一个自然日\n",
    "# ###############################################################\n",
    "\n",
    "start_date = pd.to_datetime(before_trade_date) \n",
    "\n",
    "end_date = pd.to_datetime('20221030') #多一个月没关系，切片的时候，不需要这多出来的一个月的对子会切掉\n",
    "\n",
    "cbond_price = pd.DataFrame([])\n",
    "for code in cbond_list:\n",
    "    price_df = w.wsi(code, \"close\", start_date, end_date,usedf=True)[1]   #只要了收盘价\n",
    "    price_df.columns = [code]\n",
    "    cbond_price = pd.concat([cbond_price,price_df],axis=1)\n",
    "cbond_price = cbond_price.ffill()\n",
    "# cbond_price = cbond_price[cbond_price.index.time!=time(15,0,0)]\n",
    "# cbond_price = cbond_price.loc['2022-09-09 15:00:00':] #从前一个交易日的收盘价开始截取\n",
    "cbond_price_begin_time = before_trade_date[:4]+'-' + \\\n",
    "                    before_trade_date[4:6]+'-' + \\\n",
    "                    before_trade_date[6:8]+' 15:00:00'\n",
    "cbond_price = cbond_price.loc[cbond_price_begin_time:]\n",
    "cbond_price"
   ]
  },
  {
   "cell_type": "code",
   "execution_count": null,
   "metadata": {},
   "outputs": [],
   "source": [
    "# cbond_return_2 = pd.DataFrame(columns=cbond_list)\n",
    "# # tmp_stk_code = '601006.SH'\n",
    "# # cbond_preclose = cbond_pair_price.iloc[0,0] # 初始时刻的bond前收盘价\n",
    "# stock_preclose_2 = cbond_price.iloc[0,:] # 初始时刻的stock前收盘价\n",
    "# stock_preclose_2\n",
    "# for index,row in cbond_price.iterrows():\n",
    "#     # cbond_return.loc[index,cbond_pair[0]] = row[cbond_pair[0]]/cbond_preclose - 1 # 算日内的return\n",
    "#     cbond_return_2.loc[index] = (row/stock_preclose_2-1).tolist()\n",
    "#     if index.time()==time(15,0,0):  #算完日内return，迭代到今日价格的最后一个time bar的时候，将其设为前收盘价\n",
    "#         # cbond_preclose = row[cbond_pair[0]]    # 日内return指标用 现价/昨日收盘价 计算\n",
    "#         stock_preclose_2 = row\n",
    "# cbond_return_2        "
   ]
  },
  {
   "cell_type": "code",
   "execution_count": null,
   "metadata": {},
   "outputs": [],
   "source": [
    "cbond_return = pd.DataFrame([])\n",
    "# tmp_stk_code = '601006.SH'\n",
    "# cbond_preclose = cbond_pair_price.iloc[0,0] # 初始时刻的bond前收盘价\n",
    "stock_preclose = cbond_price.iloc[0,:].tolist() # 初始时刻的stock前收盘价\n",
    "\n",
    "for index,row in cbond_price.iterrows():\n",
    "    \n",
    "    # cbond_return.loc[index,cbond_pair[0]] = row[cbond_pair[0]]/cbond_preclose - 1 # 算日内的return\n",
    "    for i in range(len(cbond_list)):\n",
    "        cbond_return.loc[index,cbond_list[i]] = row[cbond_list[i]]/stock_preclose[i] - 1\n",
    "        if index.time()==time(15,0,0):  #算完日内return，迭代到今日价格的最后一个time bar的时候，将其设为前收盘价\n",
    "            # cbond_preclose = row[cbond_pair[0]]    # 日内return指标用 现价/昨日收盘价 计算\n",
    "            stock_preclose[i] = row[cbond_list[i]]\n",
    "        \n",
    "# 检查df是否有空值\n",
    "cbond_return.isnull().sum(axis=0)  # 按列统计\n",
    "cbond_return.isnull().sum(axis=1) # 按行统计\n",
    "cbond_return.isnull().sum(axis=1).sum() # 统计整张表"
   ]
  },
  {
   "cell_type": "code",
   "execution_count": null,
   "metadata": {},
   "outputs": [],
   "source": [
    "# cbond_return = cbond_return.dropna()\n",
    "cbond_return"
   ]
  },
  {
   "cell_type": "code",
   "execution_count": null,
   "metadata": {},
   "outputs": [],
   "source": [
    "cbond_return.isnull().sum(axis=0)  # 按列统计"
   ]
  },
  {
   "cell_type": "code",
   "execution_count": null,
   "metadata": {},
   "outputs": [],
   "source": [
    "# cbond_return = cbond_return.dropna()"
   ]
  },
  {
   "cell_type": "markdown",
   "metadata": {},
   "source": [
    "# correlation & cointegration test"
   ]
  },
  {
   "cell_type": "code",
   "execution_count": null,
   "metadata": {},
   "outputs": [],
   "source": [
    "# print(cbond_return.corr(method='pearson').describe())\n",
    "pd.set_option('display.max_columns',None)\n",
    "df_corr = cbond_return.corr(method='pearson')\n",
    "for i in range(len(df_corr)):\n",
    "    df_corr.iloc[i,i]=np.nan\n",
    "tmp_se = df_corr.max()\n",
    "# df_corr\n",
    "print('max corr code:',f'\\'{tmp_se.idxmax()}\\'')\n",
    "tmp_se.sort_values(ascending=False)"
   ]
  },
  {
   "cell_type": "code",
   "execution_count": null,
   "metadata": {},
   "outputs": [],
   "source": [
    "main_code = '000422.SZ'\n",
    "tmp_line = df_corr.loc[main_code]\n",
    "tmp_line = pd.DataFrame(tmp_line)\n",
    "for index,row in tmp_line.iterrows():\n",
    "    if row[main_code] == tmp_se.loc[main_code]:\n",
    "        # print(index)\n",
    "        sec_code = index\n",
    "        tmp_corr = tmp_se.loc[main_code]\n",
    "print(f'\\'{main_code}\\',\\'{sec_code}\\'','@',tmp_corr)"
   ]
  },
  {
   "cell_type": "code",
   "execution_count": null,
   "metadata": {},
   "outputs": [],
   "source": [
    "import statsmodels.api as sm\n",
    "from statsmodels.tsa.stattools import adfuller\n",
    "def cointegration_test(y, x):\n",
    "    ols_result = sm.OLS(y, x).fit()\n",
    "    return adfuller(ols_result.resid)\n",
    "pair_code = [main_code,sec_code]\n",
    "x_code = pair_code[0]\n",
    "y_code = pair_code[1]   \n",
    "x = cbond_price[x_code].tolist()\n",
    "y = cbond_price[y_code].tolist()\n",
    "\n",
    "cointegration_test(y, x),cointegration_test(x, y)"
   ]
  },
  {
   "cell_type": "markdown",
   "metadata": {},
   "source": [
    "# output to pickle"
   ]
  },
  {
   "cell_type": "code",
   "execution_count": null,
   "metadata": {},
   "outputs": [],
   "source": [
    "save_path = f'/Users/bokie/code/python/CMS/可转债套利/cms/stat_arb/stk_data/price/{target_industry}.pkl'\n",
    "cbond_price.to_pickle(save_path)\n",
    "save_path = f'/Users/bokie/code/python/CMS/可转债套利/cms/stat_arb/stk_data/return/{target_industry}.pkl'\n",
    "cbond_return.to_pickle(save_path)\n",
    "target_industry"
   ]
  }
 ],
 "metadata": {
  "kernelspec": {
   "display_name": "Python 3.9.7 ('base')",
   "language": "python",
   "name": "python3"
  },
  "language_info": {
   "codemirror_mode": {
    "name": "ipython",
    "version": 3
   },
   "file_extension": ".py",
   "mimetype": "text/x-python",
   "name": "python",
   "nbconvert_exporter": "python",
   "pygments_lexer": "ipython3",
   "version": "3.9.7"
  },
  "orig_nbformat": 4,
  "vscode": {
   "interpreter": {
    "hash": "4b7a3c99c09164ed3315a85b9be868456d78d186d21965e8a7155bab558fd18f"
   }
  }
 },
 "nbformat": 4,
 "nbformat_minor": 2
}
