{
 "cells": [
  {
   "cell_type": "code",
   "execution_count": 1,
   "metadata": {},
   "outputs": [
    {
     "name": "stdout",
     "output_type": "stream",
     "text": [
      "22.11.1.52440\n",
      "Welcome to use Wind Quant API for Python (WindPy)!\n",
      "\n",
      "COPYRIGHT (C) 2021 WIND INFORMATION CO., LTD. ALL RIGHTS RESERVED.\n",
      "IN NO CIRCUMSTANCE SHALL WIND BE RESPONSIBLE FOR ANY DAMAGES OR LOSSES CAUSED BY USING WIND QUANT API FOR Python.\n"
     ]
    }
   ],
   "source": [
    "import pandas as pd\n",
    "from WindPy import *\n",
    "import pandas as pd\n",
    "#Wind API 使用W账户密码登录\n",
    "w.start() \n",
    "#return True and then can go to next operation.\n",
    "w.isconnected()\n",
    "df = pd.read_excel('stock_hold.xlsx')"
   ]
  },
  {
   "cell_type": "code",
   "execution_count": 5,
   "metadata": {},
   "outputs": [
    {
     "name": "stdout",
     "output_type": "stream",
     "text": [
      "213 ['601006.SH', '000088.SZ', '600798.SH', '000099.SZ', '002027.SZ', '002291.SZ', '002555.SZ', '002624.SZ', '300251.SZ', '300315.SZ', '300518.SZ', '601985.SH', '600452.SH', '601222.SH', '600163.SH', '600021.SH', '002556.SZ', '002714.SZ', '601952.SH', '002505.SZ', '300601.SZ', '300003.SZ', '600645.SH', '600436.SH', '600276.SH', '600267.SH', '300122.SZ', '600993.SH', '600055.SH', '300244.SZ', '300630.SZ', '000661.SZ', '002252.SZ', '002044.SZ', '688658.SH', '300760.SZ', '002675.SZ', '600763.SH', '603259.SH', '000931.SZ', '300233.SZ', '600859.SH', '600729.SH', '601888.SH', '000861.SZ', '600738.SH', '600790.SH', '600316.SH', '000738.SZ', '600150.SH', '002013.SZ', '000519.SZ', '002625.SZ', '600372.SH', '000792.SZ', '600989.SH', '000422.SZ', '000731.SZ', '600352.SH', '002497.SZ', '600309.SH', '600273.SH', '600230.SH', '002145.SZ', '600378.SH', '603303.SH', '603486.SH', '000333.SZ', '000651.SZ', '600839.SH', '603868.SH', '603355.SH', '002035.SZ', '688707.SH', '000789.SZ', '002080.SZ', '600585.SH', '002271.SZ', '603737.SH', '601636.SH', '002233.SZ', '002717.SZ', '601186.SH', '601390.SH', '601611.SH', '601800.SH', '600039.SH', '603359.SH', '600970.SH', '000090.SZ', '000402.SZ', '600225.SH', '600466.SH', '600246.SH', '601899.SH', '688388.SH', '603993.SH', '300618.SZ', '002460.SZ', '600110.SH', '000762.SZ', '600531.SH', '002203.SZ', '600711.SH', '000426.SZ', '600888.SH', '600330.SH', '605286.SH', '600375.SH', '002595.SZ', '300802.SZ', '000625.SZ', '603306.SH', '600104.SH', '002488.SZ', '601127.SH', '600699.SH', '600395.SH', '002128.SZ', '000551.SZ', '000035.SZ', '600217.SH', '300769.SZ', '300763.SZ', '002459.SZ', '300750.SZ', '300014.SZ', '600885.SH', '300724.SZ', '300207.SZ', '600089.SH', '002623.SZ', '300457.SZ', '300037.SZ', '002452.SZ', '600438.SH', '300274.SZ', '600458.SH', '601012.SH', '600525.SH', '601615.SH', '300316.SZ', '300232.SZ', '002729.SZ', '000100.SZ', '002436.SZ', '002273.SZ', '300296.SZ', '002138.SZ', '002993.SZ', '000725.SZ', '002992.SZ', '300054.SZ', '002288.SZ', '603501.SH', '600552.SH', '600703.SH', '600745.SH', '300782.SZ', '300679.SZ', '300433.SZ', '300602.SZ', '603228.SH', '300191.SZ', '000703.SZ', '002261.SZ', '603983.SH', '000555.SZ', '002065.SZ', '603881.SH', '300496.SZ', '002236.SZ', '002268.SZ', '300598.SZ', '600570.SH', '002410.SZ', '002415.SZ', '605377.SH', '002701.SZ', '002078.SZ', '000488.SZ', '300308.SZ', '600050.SH', '600019.SH', '000778.SZ', '600516.SH', '600919.SH', '000001.SZ', '601166.SH', '601077.SH', '000627.SZ', '000776.SZ', '000783.SZ', '000166.SZ', '603300.SH', '600909.SH', '601318.SH', '601601.SH', '002736.SZ', '002797.SZ', '300059.SZ', '600030.SH', '002507.SZ', '600809.SH', '600519.SH', '600132.SH', '002461.SZ', '000729.SZ', '002726.SZ', '002626.SZ', '000858.SZ', '600197.SH', '600597.SH']\n"
     ]
    }
   ],
   "source": [
    "stk_code_list = df['code'].tolist()\n",
    "print(len(stk_code_list),stk_code_list)"
   ]
  },
  {
   "cell_type": "code",
   "execution_count": 6,
   "metadata": {},
   "outputs": [
    {
     "data": {
      "text/html": [
       "<div>\n",
       "<style scoped>\n",
       "    .dataframe tbody tr th:only-of-type {\n",
       "        vertical-align: middle;\n",
       "    }\n",
       "\n",
       "    .dataframe tbody tr th {\n",
       "        vertical-align: top;\n",
       "    }\n",
       "\n",
       "    .dataframe thead th {\n",
       "        text-align: right;\n",
       "    }\n",
       "</style>\n",
       "<table border=\"1\" class=\"dataframe\">\n",
       "  <thead>\n",
       "    <tr style=\"text-align: right;\">\n",
       "      <th></th>\n",
       "      <th>000088.SZ</th>\n",
       "      <th>600798.SH</th>\n",
       "    </tr>\n",
       "  </thead>\n",
       "  <tbody>\n",
       "    <tr>\n",
       "      <th>2020-10-29 15:00:00</th>\n",
       "      <td>176200.0</td>\n",
       "      <td>90400.0</td>\n",
       "    </tr>\n",
       "    <tr>\n",
       "      <th>2020-10-30 09:30:00</th>\n",
       "      <td>164064.0</td>\n",
       "      <td>73200.0</td>\n",
       "    </tr>\n",
       "    <tr>\n",
       "      <th>2020-10-30 09:31:00</th>\n",
       "      <td>61644.0</td>\n",
       "      <td>64500.0</td>\n",
       "    </tr>\n",
       "    <tr>\n",
       "      <th>2020-10-30 09:32:00</th>\n",
       "      <td>34100.0</td>\n",
       "      <td>40200.0</td>\n",
       "    </tr>\n",
       "    <tr>\n",
       "      <th>2020-10-30 09:33:00</th>\n",
       "      <td>90800.0</td>\n",
       "      <td>10700.0</td>\n",
       "    </tr>\n",
       "    <tr>\n",
       "      <th>...</th>\n",
       "      <td>...</td>\n",
       "      <td>...</td>\n",
       "    </tr>\n",
       "    <tr>\n",
       "      <th>2022-10-28 14:56:00</th>\n",
       "      <td>93900.0</td>\n",
       "      <td>161100.0</td>\n",
       "    </tr>\n",
       "    <tr>\n",
       "      <th>2022-10-28 14:57:00</th>\n",
       "      <td>700.0</td>\n",
       "      <td>1900.0</td>\n",
       "    </tr>\n",
       "    <tr>\n",
       "      <th>2022-10-28 14:58:00</th>\n",
       "      <td>0.0</td>\n",
       "      <td>0.0</td>\n",
       "    </tr>\n",
       "    <tr>\n",
       "      <th>2022-10-28 14:59:00</th>\n",
       "      <td>0.0</td>\n",
       "      <td>0.0</td>\n",
       "    </tr>\n",
       "    <tr>\n",
       "      <th>2022-10-28 15:00:00</th>\n",
       "      <td>45400.0</td>\n",
       "      <td>438600.0</td>\n",
       "    </tr>\n",
       "  </tbody>\n",
       "</table>\n",
       "<p>117371 rows × 2 columns</p>\n",
       "</div>"
      ],
      "text/plain": [
       "                     000088.SZ  600798.SH\n",
       "2020-10-29 15:00:00   176200.0    90400.0\n",
       "2020-10-30 09:30:00   164064.0    73200.0\n",
       "2020-10-30 09:31:00    61644.0    64500.0\n",
       "2020-10-30 09:32:00    34100.0    40200.0\n",
       "2020-10-30 09:33:00    90800.0    10700.0\n",
       "...                        ...        ...\n",
       "2022-10-28 14:56:00    93900.0   161100.0\n",
       "2022-10-28 14:57:00      700.0     1900.0\n",
       "2022-10-28 14:58:00        0.0        0.0\n",
       "2022-10-28 14:59:00        0.0        0.0\n",
       "2022-10-28 15:00:00    45400.0   438600.0\n",
       "\n",
       "[117371 rows x 2 columns]"
      ]
     },
     "execution_count": 6,
     "metadata": {},
     "output_type": "execute_result"
    }
   ],
   "source": [
    "before_trade_date = '20201029'#监测当日前一个交易日\n",
    "present_date = '20201030' #监测当日\n",
    "start_date = pd.to_datetime(before_trade_date) \n",
    "end_date = pd.to_datetime('20221030') #多一个月没关系，切片的时候，不需要这多出来的一个月的对子会切掉\n",
    "\n",
    "cbond_list = ['000088.SZ','600798.SH']\n",
    "\n",
    "cbond_volume = pd.DataFrame([])\n",
    "for code in cbond_list:\n",
    "    # price_df = w.wsi(code, \"close\", start_date, end_date,usedf=True)[1]   #只要了收盘价\n",
    "    # price_df = w.wsi(code, \"amt\", start_date, end_date,usedf=True)[1]   #只要了成交额\n",
    "    price_df = w.wsi(code, \"volume\", start_date, end_date,usedf=True)[1]   #只要了成交量\n",
    "    price_df.columns = [code]\n",
    "    cbond_volume = pd.concat([cbond_volume,price_df],axis=1)\n",
    "cbond_volume = cbond_volume.ffill()    \n",
    "# cbond_price = cbond_price[cbond_price.index.time!=time(15,0,0)]\n",
    "# cbond_price = cbond_price.loc['2022-09-09 15:00:00':] #从前一个交易日的收盘价开始截取\n",
    "cbond_price_begin_time = before_trade_date[:4]+'-' + \\\n",
    "                    before_trade_date[4:6]+'-' + \\\n",
    "                    before_trade_date[6:8]+' 15:00:00'\n",
    "cbond_volume = cbond_volume.loc[cbond_price_begin_time:]\n",
    "cbond_volume"
   ]
  },
  {
   "cell_type": "code",
   "execution_count": 7,
   "metadata": {},
   "outputs": [],
   "source": [
    "path = '/Users/bokie/code/python/CMS/可转债套利/cms/stat_arb/stk_data/volume'\n",
    "cbond_volume.to_excel(f'{path}/stk_volume.xlsx')"
   ]
  }
 ],
 "metadata": {
  "kernelspec": {
   "display_name": "Python 3.9.7 ('base')",
   "language": "python",
   "name": "python3"
  },
  "language_info": {
   "codemirror_mode": {
    "name": "ipython",
    "version": 3
   },
   "file_extension": ".py",
   "mimetype": "text/x-python",
   "name": "python",
   "nbconvert_exporter": "python",
   "pygments_lexer": "ipython3",
   "version": "3.9.7"
  },
  "orig_nbformat": 4,
  "vscode": {
   "interpreter": {
    "hash": "4b7a3c99c09164ed3315a85b9be868456d78d186d21965e8a7155bab558fd18f"
   }
  }
 },
 "nbformat": 4,
 "nbformat_minor": 2
}
