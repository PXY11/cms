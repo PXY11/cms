{
 "cells": [
  {
   "cell_type": "markdown",
   "metadata": {},
   "source": [
    "# import data"
   ]
  },
  {
   "cell_type": "code",
   "execution_count": 1,
   "metadata": {},
   "outputs": [
    {
     "name": "stdout",
     "output_type": "stream",
     "text": [
      "dict_keys(['123046.SZ', '300587.SZ', '113642.SH', '603185.SH', '110061.SH', '600674.SH', '128081.SZ', '002203.SZ'])\n",
      "123046.SZ  data length:  31460\n",
      "300587.SZ  data length:  31460\n",
      "113642.SH  data length:  13552\n",
      "603185.SH  data length:  31460\n",
      "110061.SH  data length:  31460\n",
      "600674.SH  data length:  31460\n",
      "128081.SZ  data length:  31460\n",
      "002203.SZ  data length:  31460\n",
      "数据起始日期 2021-12-13 09:30:00\n",
      "数据结束日期 2022-06-28 15:00:00\n",
      "113642.SH数据起始日期 2022-04-06 09:30:00\n",
      "113642.SH数据结束日期 2022-06-28 15:00:00\n"
     ]
    }
   ],
   "source": [
    "import platform\n",
    "import pandas as pd\n",
    "from datetime import datetime, timedelta, time\n",
    "ohlcv_data = pd.read_pickle('/Users/bokie/code/python/CMS/可转债套利/cms/stock_data_min_new.pkl')\n",
    "print(ohlcv_data.keys())\n",
    "for k,v in ohlcv_data.items():\n",
    "    print(k,' data length: ',len(v))\n",
    "print('数据起始日期',v.index[0])\n",
    "print('数据结束日期',v.index[-1])\n",
    "print('113642.SH数据起始日期',ohlcv_data['113642.SH'].index[0])\n",
    "print('113642.SH数据结束日期',ohlcv_data['113642.SH'].index[-1])"
   ]
  },
  {
   "cell_type": "markdown",
   "metadata": {},
   "source": [
    "# bond-stock pair"
   ]
  },
  {
   "cell_type": "code",
   "execution_count": 2,
   "metadata": {},
   "outputs": [],
   "source": [
    "from lib2to3.pytree import convert\n",
    "\n",
    "# cbond_pair = ['128081.SZ','002203.SZ']\n",
    "# part = 1\n",
    "# convert_price = 9.69\n",
    "# stock_volume = 100/convert_price #整个回测期间不变\n",
    "\n",
    "\n",
    "cbond_pair = ['123046.SZ','300587.SZ']\n",
    "# part = 1 \n",
    "# convert_price = 6.73\n",
    "# stock_volume = 100/convert_price  # 2021-12-13至2022-03-23\n",
    "part = 2\n",
    "convert_price = 6.74\n",
    "stock_volume = 100/convert_price  # 2022-03-24至2022-06-28\n",
    "\n",
    "\n",
    "# cbond_pair = ['110061.SH','600674.SH']\n",
    "# part = 1\n",
    "# convert_price = 9.2\n",
    "# stock_volume = 100/convert_price #整个回测期间不变\n",
    "\n",
    "\n",
    "# cbond_pair = ['113642.SH','603185.SH']\n",
    "# part = 1\n",
    "# convert_price = 145.66\n",
    "# stock_volume = 100/convert_price  # 2022-04-06至2022-06-02\n",
    "# part = 2\n",
    "# convert_price = 102.61\n",
    "# stock_volume = 100/convert_price  # 2022-06-03至2022-06-28\n"
   ]
  },
  {
   "cell_type": "code",
   "execution_count": 3,
   "metadata": {},
   "outputs": [],
   "source": [
    "cbond_pair_price = pd.DataFrame([])\n",
    "cbond_pair_price = pd.concat([ohlcv_data[cbond_pair[0]]['close'],ohlcv_data[cbond_pair[1]]['close']],axis=1)\n",
    "cbond_pair_price.columns = cbond_pair\n",
    "cbond_pair_price = cbond_pair_price.dropna()\n",
    "if cbond_pair[0] == '128081.SZ' or cbond_pair[0] == '110061.SH':\n",
    "    cbond_pair_price = cbond_pair_price.loc['2021-12-13 15:00:00':]\n",
    "elif cbond_pair[0] == '123046.SZ' and part == 1:\n",
    "    cbond_pair_price = cbond_pair_price.loc['2021-12-13 15:00:00':'2022-03-23 15:00:00']\n",
    "elif cbond_pair[0] == '123046.SZ' and part == 2:\n",
    "    cbond_pair_price = cbond_pair_price.loc['2022-03-25 15:00:00':]\n",
    "elif cbond_pair[0] == '113642.SH' and part == 1:\n",
    "    cbond_pair_price = cbond_pair_price.loc['2022-04-07 15:00:00':'2022-06-02 15:00:00']\n",
    "elif cbond_pair[0] == '113642.SH' and part == 2:\n",
    "    cbond_pair_price = cbond_pair_price.loc['2022-06-03 15:00:00':]\n",
    "\n",
    "# cbond_pair_price = cbond_pair_price.loc['2022-04-06 15:00:00':]\n",
    "# cbond_pair_price.to_excel('cbond_pair_price.xlsx')\n",
    "# cbond_pair_price.to_csv('cbond_pair_price.csv')\n",
    "# cbond_pair_price"
   ]
  },
  {
   "cell_type": "markdown",
   "metadata": {},
   "source": [
    "# signal calculate"
   ]
  },
  {
   "cell_type": "markdown",
   "metadata": {},
   "source": [
    "先算cbond_return(日内收益率，相对于昨日收盘价)，再算cbond_position，计算cbond_position中用到的open_threshold和close_threshold分别是价格止盈价格止损信号。时间止损信号则是，每日15点时强制平仓"
   ]
  },
  {
   "cell_type": "code",
   "execution_count": 4,
   "metadata": {},
   "outputs": [
    {
     "data": {
      "text/plain": [
       "0"
      ]
     },
     "execution_count": 4,
     "metadata": {},
     "output_type": "execute_result"
    }
   ],
   "source": [
    "cbond_return = pd.DataFrame([])\n",
    "\n",
    "cbond_preclose = cbond_pair_price.iloc[0,0] # 初始时刻的bond前收盘价\n",
    "stock_preclose = cbond_pair_price.iloc[0,1] # 初始时刻的stock前收盘价\n",
    "\n",
    "for index,row in cbond_pair_price.iterrows():\n",
    "    \n",
    "    cbond_return.loc[index,cbond_pair[0]] = row[cbond_pair[0]]/cbond_preclose - 1 # 算日内的return\n",
    "    cbond_return.loc[index,cbond_pair[1]] = row[cbond_pair[1]]/stock_preclose - 1\n",
    "\n",
    "    if index.time()==time(15,0,0):  #算完日内return，迭代到今日价格的最后一个time bar的时候，将其设为前收盘价\n",
    "        cbond_preclose = row[cbond_pair[0]]    # 日内return指标用 现价/昨日收盘价 计算\n",
    "        stock_preclose = row[cbond_pair[1]]\n",
    "        \n",
    "# 检查df是否有空值\n",
    "cbond_return.isnull().sum(axis=0)  # 按列统计\n",
    "cbond_return.isnull().sum(axis=1) # 按行统计\n",
    "cbond_return.isnull().sum(axis=1).sum() # 统计整张表"
   ]
  },
  {
   "cell_type": "code",
   "execution_count": 5,
   "metadata": {},
   "outputs": [
    {
     "data": {
      "text/plain": [
       "14475"
      ]
     },
     "execution_count": 5,
     "metadata": {},
     "output_type": "execute_result"
    }
   ],
   "source": [
    "pd.set_option('display.max_rows', None)\n",
    "# pair moving trend: diff = cbond reutrn - stock return \n",
    "cbond_return['diff'] = cbond_return[cbond_pair[0]] - cbond_return[cbond_pair[1]]\n",
    "\n",
    "len(cbond_return)"
   ]
  },
  {
   "cell_type": "markdown",
   "metadata": {},
   "source": [
    "# grid search"
   ]
  },
  {
   "cell_type": "code",
   "execution_count": 6,
   "metadata": {},
   "outputs": [],
   "source": [
    "import warnings\n",
    "warnings.filterwarnings(\"ignore\")\n",
    "grid_search_res = {}"
   ]
  },
  {
   "cell_type": "code",
   "execution_count": 7,
   "metadata": {},
   "outputs": [
    {
     "name": "stdout",
     "output_type": "stream",
     "text": [
      "0.005@0\n",
      "0.005@0.001\n",
      "0.005@0.002\n",
      "0.005@0.003\n",
      "0.006@0\n",
      "0.006@0.001\n",
      "0.006@0.002\n",
      "0.006@0.003\n",
      "0.007@0\n",
      "0.007@0.001\n",
      "0.007@0.002\n",
      "0.007@0.003\n",
      "0.008@0\n",
      "0.008@0.001\n",
      "0.008@0.002\n",
      "0.008@0.003\n",
      "0.009@0\n",
      "0.009@0.001\n",
      "0.009@0.002\n",
      "0.009@0.003\n",
      "0.01@0\n",
      "0.01@0.001\n",
      "0.01@0.002\n",
      "0.01@0.003\n",
      "0.011@0\n",
      "0.011@0.001\n",
      "0.011@0.002\n",
      "0.011@0.003\n",
      "0.012@0\n",
      "0.012@0.001\n",
      "0.012@0.002\n",
      "0.012@0.003\n",
      "0.013@0\n",
      "0.013@0.001\n",
      "0.013@0.002\n",
      "0.013@0.003\n",
      "0.014@0\n",
      "0.014@0.001\n",
      "0.014@0.002\n",
      "0.014@0.003\n",
      "0.015@0\n",
      "0.015@0.001\n",
      "0.015@0.002\n",
      "0.015@0.003\n"
     ]
    }
   ],
   "source": [
    "open_threshold_list = [0.005,0.006,0.007,0.008,0.009,\n",
    "                        0.01,0.011,0.012,0.013,0.014,0.015] # 0.005 ~ 0.01 ~ 0.015 间隔是0.001\n",
    "close_threshold_list = [0,0.001,0.002,0.003] #  0 ~ 0.001 ~ 0.002 ~ 0.003\n",
    "for open_threshold in open_threshold_list[:]:\n",
    "    for close_threshold in close_threshold_list[:]:\n",
    "\n",
    "        # open_threshold = 0.01  \n",
    "        # open_threshold = 0.008\n",
    "        # close_threshold = 0.001 \n",
    "\n",
    "\n",
    "        open_flag = 0\n",
    "        cbond_position = pd.DataFrame([])\n",
    "        cbond_position.index = cbond_return.index\n",
    "        for index,row in cbond_return.iterrows():\n",
    "            if abs(row['diff']) > open_threshold and open_flag==0:  # diff大于开仓阈值，并且无仓位就开仓\n",
    "                open_flag = 1\n",
    "                if row['diff'] > 0:  # diff 绝对值大于0.01并且diff是正数，说明bond偏高了，做空之，stock则反向开仓\n",
    "                    cbond_position.loc[index,cbond_pair[0]] = -1*open_flag  #short bond, long stock\n",
    "                    cbond_position.loc[index,cbond_pair[1]] = open_flag\n",
    "                else:                # diff 绝对值大于0.01并且diff是负数，说明bond偏低了，做多之，stock则反向开仓\n",
    "                    cbond_position.loc[index,cbond_pair[0]] = open_flag     #long bond, short stock\n",
    "                    cbond_position.loc[index,cbond_pair[1]] = -1*open_flag\n",
    "            \n",
    "            elif abs(row['diff']) < close_threshold and open_flag==1: # diff小于平仓阈值，并且有仓位就平仓\n",
    "                open_flag = 0   # diff 绝对值小于阈值时，认为股债的偏移效应减弱，走势收敛，此时平仓\n",
    "                cbond_position.loc[index,cbond_pair[0]] = open_flag\n",
    "                cbond_position.loc[index,cbond_pair[1]] = open_flag\n",
    "            \n",
    "            else: # diff介于开仓阈值和平仓阈值之间，并且diff大于0，short bond long stock,小于0则short stock long bond\n",
    "                if row['diff'] > 0:\n",
    "                    cbond_position.loc[index,cbond_pair[0]] = -1*open_flag\n",
    "                    cbond_position.loc[index,cbond_pair[1]] = open_flag\n",
    "                else:\n",
    "                    cbond_position.loc[index,cbond_pair[0]] = open_flag\n",
    "                    cbond_position.loc[index,cbond_pair[1]] = -1*open_flag\n",
    "\n",
    "            if index.time()==time(15,0,0): # 每日收盘时必须平仓（时间止损信号）\n",
    "                open_flag = 0 \n",
    "                cbond_position.loc[index,cbond_pair[0]] = open_flag\n",
    "                cbond_position.loc[index,cbond_pair[1]] = open_flag\n",
    "        # cbond_position.to_csv('cbond_position.csv')\n",
    "        df_signal = pd.concat([cbond_pair_price,cbond_return,cbond_position],axis=1)\n",
    "        df_signal.columns = ['bond_price','stock_price','bond_rtn','stock_rtn','diff','bond_pos','stock_pos']\n",
    "        # df_signal.to_csv('df_signal.csv')\n",
    "\n",
    "        # 用来记录交易流水的表格,一边遍历df_signal，一边填入内容到流水表格里\n",
    "\n",
    "        import numpy as np\n",
    "        cols = ['balance','signal','bond price','stock price','bond hold','stock hold','commission','tax','reverse open']\n",
    "        df_trade = pd.DataFrame(\n",
    "            data = [[0,np.nan,np.nan,np.nan,0,0,0,0,np.nan]],\n",
    "            columns=cols\n",
    "            ) \n",
    "\n",
    "        balance_last = 0 # 现金账户初始余额\n",
    "\n",
    "        bond_hold = 0 # 债券持有数量\n",
    "        stock_hold = 0 # 股票持有数量\n",
    "\n",
    "        commission_rate = 2/10000 # 佣金买卖万二\n",
    "        tax_rate = 1/1000 #\n",
    "\n",
    "\n",
    "\n",
    "        for i in range(len(df_signal)-1):\n",
    "            if df_signal.values[i][-1] != df_signal.values[i+1][-1]:\n",
    "                index = df_signal.index[i+1]\n",
    "\n",
    "            # df_signal的columns\n",
    "            # ['bond_price','stock_price','bond_rtn','stock_rtn','diff','bond_pos','stock_pos']\n",
    "                signal = str(int(df_signal.values[i+1][-2]))+str(int(df_signal.values[i+1][-1]))\n",
    "                \n",
    "                bond_price = df_signal.values[i+1][0] \n",
    "\n",
    "                stock_price = df_signal.values[i+1][1]\n",
    "\n",
    "                commission = (bond_price + stock_price * stock_volume) * commission_rate\n",
    "\n",
    "                reverse_open = False #表明这笔交易，是否包含平仓后再反向开仓的操作\n",
    "\n",
    "                if signal == '00' and stock_hold == stock_volume: #有股票持仓并且需要卖出平仓时，有印花税\n",
    "                    tax = stock_price * tax_rate * stock_volume\n",
    "                else:\n",
    "                    tax = 0\n",
    "\n",
    "                if signal == '00':\n",
    "                    balance_last += bond_hold*bond_price\n",
    "                    balance_last += stock_hold*stock_price\n",
    "                    \n",
    "                    bond_hold = 0\n",
    "                    stock_hold = 0\n",
    "                    \n",
    "\n",
    "                if signal == '1-1':\n",
    "                    '''\n",
    "                    加一个检测之前持仓的模块,如果之前因为-11的信号有持仓,需要先平掉(即买债卖股票),同时再反向开仓\n",
    "                    '''\n",
    "                    reverse_flag = False\n",
    "                    if bond_hold == -1 and stock_hold == 1*stock_volume:\n",
    "                        bond_hold = 0\n",
    "                        stock_hold = 0\n",
    "                        balance_last -= bond_price \n",
    "                        balance_last += stock_price * stock_volume\n",
    "                        commission *= 2 # 因为平掉之后再反向开仓，手续费double\n",
    "                        tax = stock_price * tax_rate * stock_volume # 卖股票要收印花税\n",
    "                        reverse_flag = True\n",
    "                        reverse_open = True\n",
    "\n",
    "                    bond_hold += 1\n",
    "                    stock_hold += (-1 * stock_volume)\n",
    "                    # stock_hold += stock_volume\n",
    "                    balance_last -= bond_price\n",
    "                    balance_last += stock_price * stock_volume\n",
    "                    \n",
    "                    if reverse_flag:\n",
    "                        tax *= 2 #平仓然后反向开仓的时候 已经计算过tax了，直接double\n",
    "                    else:\n",
    "                        tax = stock_price * tax_rate * stock_volume # 卖股票要收印花税\n",
    "\n",
    "                if signal == '-11':\n",
    "                    '''\n",
    "                    加一个检测之前持仓的模块,如果之前因为1-1的信号有持仓,需要先平掉(卖债买股票),同时再反向开仓\n",
    "                    '''\n",
    "                    if bond_hold == 1 and stock_hold == -1*stock_volume:\n",
    "                        bond_hold = 0\n",
    "                        stock_hold = 0\n",
    "                        balance_last += bond_price\n",
    "                        balance_last -= stock_price * stock_volume\n",
    "                        commission *= 2 # 因为平掉之后再反向开仓，手续费double\n",
    "                                        # 买股票无印花税\n",
    "                        reverse_open = True\n",
    "                    bond_hold += -1\n",
    "                    stock_hold += (1 * stock_volume)\n",
    "                    # stock_hold += stock_volume\n",
    "                    balance_last += bond_price\n",
    "                    balance_last -= stock_price * stock_volume\n",
    "                \n",
    "\n",
    "                balance = balance_last\n",
    "\n",
    "                line = [balance,signal,bond_price,stock_price,bond_hold,stock_hold,commission,tax,reverse_open]\n",
    "                # df_trade.loc[index,['balance','asset','signal','bond price','stock price','commission','tax']] = line\n",
    "                # df_trade.loc[index,cols] = [0,0,np.nan,np.nan,np.nan,0,0,0,0]\n",
    "                df_trade.loc[index,cols] = line\n",
    "\n",
    "        df_trade['net value'] = df_trade['balance'] + \\\n",
    "                                df_trade['bond price']*df_trade['bond hold'] + \\\n",
    "                                df_trade['stock price']*df_trade['stock hold'] - \\\n",
    "                                df_trade['commission'] - \\\n",
    "                                df_trade['tax']       \n",
    "        #把交易序列单个时间节点的扩展到整个序列\n",
    "        # assert False\n",
    "        df_nv = df_trade[['net value']].iloc[1:]\n",
    "        df_nv['time'] = df_nv.index\n",
    "        df_tmp = df_signal[['diff']]\n",
    "        df_tmp['time'] = df_tmp.index\n",
    "        #  merge之后再前向往后fillna\n",
    "        df_nv_full =  pd.merge(df_nv,df_tmp,how='outer').sort_values(by='time').fillna(method='ffill').fillna(0)\n",
    "        df_nv_full.index = df_tmp.index\n",
    "        df_nv_full = df_nv_full[['net value']]\n",
    "        df_trade_2 = df_trade.copy(deep=True)\n",
    "        rounds = [] #只包含单个来回，每2条交易记录组成一个来回的组\n",
    "        reverse_rounds = [] # 包含多个来回，信号之间包含平仓同时反向开仓的组\n",
    "        for i in range(len(df_trade)-1,0,-1):\n",
    "        # for i in range(len(df_trade)-1,-1,-1):\n",
    "            if df_trade_2.iloc[i-1,:]['signal'] == '00':\n",
    "                round = df_trade_2.iloc[i:,:]\n",
    "                if len(round)>2:\n",
    "                    reverse_rounds.append(round)\n",
    "                else:\n",
    "                    rounds.append(round)\n",
    "                df_trade_2 = df_trade_2.iloc[:i]\n",
    "\n",
    "        num_round = len(rounds)\n",
    "        for i in reverse_rounds:\n",
    "            num_round += len(i)-1\n",
    "        # # print('single round:',num_round)\n",
    "        # # print('reverse rounds: ',len(reverse_rounds))\n",
    "\n",
    "        return_in_rounds = []\n",
    "        win = 0\n",
    "        lose = 0\n",
    "        win_profit = 0\n",
    "        lose_profit = 0\n",
    "        for i in rounds:\n",
    "            \n",
    "            tmp_profit = (i['net value'] - i['net value'].shift(1)).values[-1]\n",
    "            single_round_cost = (i['bond price'].sum() + (i['stock price']*stock_volume).sum())/4\n",
    "            \n",
    "            return_in_round = tmp_profit/single_round_cost\n",
    "            return_in_rounds.append(return_in_round)\n",
    "            \n",
    "            \n",
    "            if tmp_profit>0:\n",
    "                win += 1\n",
    "                win_profit += tmp_profit\n",
    "            else:\n",
    "                lose += 1\n",
    "                lose_profit += tmp_profit\n",
    "        # # print('win: ',win)\n",
    "        # # print('lose: ',lose)\n",
    "        # # print('win profit: ',win_profit)\n",
    "        # # print('lose profit: ',lose_profit)\n",
    "        # # print(len(return_in_rounds))\n",
    "\n",
    "        ''' \n",
    "        先把连续反向开仓的信号拆开\n",
    "        e.g.  1-1 -11 00 ---> 1-1 00 -11 00\n",
    "        '''\n",
    "\n",
    "        reverse_rounds_reconstruct = []\n",
    "        for reverse_round in reverse_rounds:\n",
    "            reverse_rounds0_reconstruct = []\n",
    "            for i in range(0,len(reverse_round)-1): #4-2\n",
    "\n",
    "                # tmp_cols = reverse_rounds[0].columns\n",
    "                # tmp_index = reverse_rounds[0].iloc[i,:].reset_index()\n",
    "                m = reverse_round.iloc[i,:].tolist()\n",
    "                n = reverse_round.iloc[i+1,:].tolist()\n",
    "                # reverse_rounds0_reconstruct.append(m)\n",
    "                tmp_balance = m[0] + n[2]*m[4] + n[3]*m[5] \n",
    "                tmp_commission = n[6]/2\n",
    "                tmp_tax = n[7]/2\n",
    "                tmp_nv =  tmp_balance - tmp_commission - tmp_tax\n",
    "                \n",
    "                insert_line  = [tmp_balance,'00',np.nan,np.nan,0,0,tmp_commission,tmp_tax,'-',tmp_nv]\n",
    "                reverse_rounds0_reconstruct.append(m)\n",
    "                reverse_rounds0_reconstruct.append(insert_line)\n",
    "            # reverse_rounds0_reconstruct.append(n)    \n",
    "            tmp_cols = reverse_round.columns\n",
    "            reverse_rounds0_reconstruct[-1] = reverse_round.iloc[-1,:].tolist()\n",
    "            tmp_round = pd.DataFrame(reverse_rounds0_reconstruct[:],columns=tmp_cols)\n",
    "            tmp_round\n",
    "            for index,row in tmp_round.iterrows():\n",
    "                if row['reverse open'] == True:\n",
    "                    tmp_round.loc[index,['commission','tax']] = tmp_round.loc[index,['commission','tax']]/2\n",
    "            tmp_round = tmp_round.fillna(method = 'bfill')\n",
    "            reverse_rounds_reconstruct.append(tmp_round)\n",
    "            tmp_round['new nv'] = tmp_round['balance'] + tmp_round['bond price']*tmp_round['bond hold'] + tmp_round['stock price']*tmp_round['stock hold'] - tmp_round['commission'] - tmp_round['tax']\n",
    "\n",
    "        # reverse_rounds_reconstruct[0]\n",
    "        reverse_rounds_detail = []\n",
    "        for reverse_round in reverse_rounds_reconstruct:\n",
    "            # print(len(reverse_round))\n",
    "            for i in range(0,len(reverse_round)-1,2):\n",
    "                df_tmp = reverse_round.iloc[i:i+2,:]\n",
    "                reverse_rounds_detail.append(df_tmp)\n",
    "        # print(len(reverse_rounds_detail))\n",
    "\n",
    "        # return_in_rounds = []\n",
    "        # win = 0\n",
    "        # lose = 0\n",
    "        # win_profit = 0\n",
    "        # lose_profit = 0\n",
    "        for i in reverse_rounds_detail:\n",
    "            \n",
    "            tmp_profit = (i['new nv'] - i['new nv'].shift(1)).values[-1]\n",
    "            single_round_cost = (i['bond price'].sum() + (i['stock price']*stock_volume).sum())/4\n",
    "            \n",
    "            return_in_round = tmp_profit/single_round_cost\n",
    "            return_in_rounds.append(return_in_round)\n",
    "            \n",
    "            \n",
    "            if tmp_profit>0:\n",
    "                win += 1\n",
    "                win_profit += tmp_profit\n",
    "            else:\n",
    "                lose += 1\n",
    "                lose_profit += tmp_profit\n",
    "        # print('win: ',win)\n",
    "        # print('lose: ',lose)\n",
    "        # print('win profit: ',win_profit)\n",
    "        # print('lose profit: ',lose_profit)\n",
    "        # print(len(return_in_rounds))\n",
    "\n",
    "        win_rate = win/(win+lose)\n",
    "        win_profit_avg = win_profit/win\n",
    "        lose_profit_avg = lose_profit/lose\n",
    "        profit_ratio = win_profit_avg/abs(lose_profit_avg)\n",
    "\n",
    "        total_round = win + lose \n",
    "\n",
    "        trade_days = len(df_nv_full.resample('D').last().dropna()) -1 \n",
    "        round_per_day = total_round/trade_days\n",
    "        return_per_round = sum(return_in_rounds)/len(return_in_rounds)\n",
    "        # print('$'*50)\n",
    "        # print('pair code:',cbond_pair)\n",
    "        # print('convert price: ',convert_price)\n",
    "        # print('first trade time',df_trade.index[1])\n",
    "        # print('last trade time',df_trade.index[-1])\n",
    "        # print('$'*50)\n",
    "        # print('win: ',win)\n",
    "        # print('lose: ',lose)\n",
    "        # print('win profit: ',win_profit)\n",
    "        # print('lose profit: ',lose_profit)\n",
    "        # print('sum of win&lose profit: ',win_profit+lose_profit)\n",
    "        # print('final net value:',df_trade['net value'].values[-1])\n",
    "        # print('win rate: ', win_rate)\n",
    "        # print('profit ratio: ',profit_ratio)\n",
    "        # print('trade days: ',trade_days)\n",
    "        # print('total round: ',total_round)\n",
    "        # print('avg round in a day: ',round_per_day)\n",
    "        # print('return_per_round: ',return_per_round)\n",
    "        # print('@'*80)\n",
    "        df_res = pd.DataFrame(data = [[np.nan]*14],\n",
    "            columns=['cbond pair','convert price','win','lose','win profit','lose profit',\n",
    "            'sum of win&lose profit','final net value','win rate',\n",
    "            'profit ratio','trade days','total round','avg round in a day','return per round'])\n",
    "\n",
    "        tmp_idx = str(df_trade.index[1]) + ' -> ' + str(df_trade.index[-1])\n",
    "        tmp_line = [cbond_pair,convert_price,win,lose,win_profit,lose_profit,\n",
    "                    win_profit+lose_profit,df_trade['net value'].values[-1],win_rate,\n",
    "                    profit_ratio,trade_days,total_round,round_per_day,return_per_round]\n",
    "\n",
    "        df_res.loc[tmp_idx,df_res.columns] = tmp_line\n",
    "        df_res = df_res.dropna()\n",
    "        df_res['open threshold'] = open_threshold\n",
    "        df_res['close threshold'] = close_threshold\n",
    "        \n",
    "        tmp_key = str(open_threshold) +'@'+ str(close_threshold)\n",
    "        grid_search_res[tmp_key] = df_res\n",
    "        \n",
    "        print(tmp_key)"
   ]
  },
  {
   "cell_type": "code",
   "execution_count": 8,
   "metadata": {},
   "outputs": [],
   "source": [
    "df_grid_search_res =  pd.concat(list(grid_search_res.values()),axis=0)"
   ]
  },
  {
   "cell_type": "markdown",
   "metadata": {},
   "source": [
    "# return per round surface"
   ]
  },
  {
   "cell_type": "code",
   "execution_count": 9,
   "metadata": {},
   "outputs": [
    {
     "data": {
      "text/html": [
       "<div>\n",
       "<style scoped>\n",
       "    .dataframe tbody tr th:only-of-type {\n",
       "        vertical-align: middle;\n",
       "    }\n",
       "\n",
       "    .dataframe tbody tr th {\n",
       "        vertical-align: top;\n",
       "    }\n",
       "\n",
       "    .dataframe thead th {\n",
       "        text-align: right;\n",
       "    }\n",
       "</style>\n",
       "<table border=\"1\" class=\"dataframe\">\n",
       "  <thead>\n",
       "    <tr style=\"text-align: right;\">\n",
       "      <th></th>\n",
       "      <th>0.000</th>\n",
       "      <th>0.001</th>\n",
       "      <th>0.002</th>\n",
       "      <th>0.003</th>\n",
       "    </tr>\n",
       "  </thead>\n",
       "  <tbody>\n",
       "    <tr>\n",
       "      <th>0.005</th>\n",
       "      <td>0.002040</td>\n",
       "      <td>0.003484</td>\n",
       "      <td>0.003485</td>\n",
       "      <td>0.003157</td>\n",
       "    </tr>\n",
       "    <tr>\n",
       "      <th>0.006</th>\n",
       "      <td>0.002037</td>\n",
       "      <td>0.003662</td>\n",
       "      <td>0.003709</td>\n",
       "      <td>0.003571</td>\n",
       "    </tr>\n",
       "    <tr>\n",
       "      <th>0.007</th>\n",
       "      <td>0.002007</td>\n",
       "      <td>0.003815</td>\n",
       "      <td>0.003943</td>\n",
       "      <td>0.003765</td>\n",
       "    </tr>\n",
       "    <tr>\n",
       "      <th>0.008</th>\n",
       "      <td>0.002070</td>\n",
       "      <td>0.004252</td>\n",
       "      <td>0.004526</td>\n",
       "      <td>0.004332</td>\n",
       "    </tr>\n",
       "    <tr>\n",
       "      <th>0.009</th>\n",
       "      <td>0.002124</td>\n",
       "      <td>0.004343</td>\n",
       "      <td>0.004666</td>\n",
       "      <td>0.004453</td>\n",
       "    </tr>\n",
       "    <tr>\n",
       "      <th>0.010</th>\n",
       "      <td>0.002176</td>\n",
       "      <td>0.004221</td>\n",
       "      <td>0.004522</td>\n",
       "      <td>0.004539</td>\n",
       "    </tr>\n",
       "    <tr>\n",
       "      <th>0.011</th>\n",
       "      <td>0.002283</td>\n",
       "      <td>0.004423</td>\n",
       "      <td>0.004568</td>\n",
       "      <td>0.004639</td>\n",
       "    </tr>\n",
       "    <tr>\n",
       "      <th>0.012</th>\n",
       "      <td>0.002383</td>\n",
       "      <td>0.004503</td>\n",
       "      <td>0.004524</td>\n",
       "      <td>0.004607</td>\n",
       "    </tr>\n",
       "    <tr>\n",
       "      <th>0.013</th>\n",
       "      <td>0.002450</td>\n",
       "      <td>0.004571</td>\n",
       "      <td>0.004637</td>\n",
       "      <td>0.004830</td>\n",
       "    </tr>\n",
       "    <tr>\n",
       "      <th>0.014</th>\n",
       "      <td>0.002513</td>\n",
       "      <td>0.005311</td>\n",
       "      <td>0.005322</td>\n",
       "      <td>0.005171</td>\n",
       "    </tr>\n",
       "    <tr>\n",
       "      <th>0.015</th>\n",
       "      <td>0.002605</td>\n",
       "      <td>0.005467</td>\n",
       "      <td>0.005502</td>\n",
       "      <td>0.005382</td>\n",
       "    </tr>\n",
       "  </tbody>\n",
       "</table>\n",
       "</div>"
      ],
      "text/plain": [
       "          0.000     0.001     0.002     0.003\n",
       "0.005  0.002040  0.003484  0.003485  0.003157\n",
       "0.006  0.002037  0.003662  0.003709  0.003571\n",
       "0.007  0.002007  0.003815  0.003943  0.003765\n",
       "0.008  0.002070  0.004252  0.004526  0.004332\n",
       "0.009  0.002124  0.004343  0.004666  0.004453\n",
       "0.010  0.002176  0.004221  0.004522  0.004539\n",
       "0.011  0.002283  0.004423  0.004568  0.004639\n",
       "0.012  0.002383  0.004503  0.004524  0.004607\n",
       "0.013  0.002450  0.004571  0.004637  0.004830\n",
       "0.014  0.002513  0.005311  0.005322  0.005171\n",
       "0.015  0.002605  0.005467  0.005502  0.005382"
      ]
     },
     "execution_count": 9,
     "metadata": {},
     "output_type": "execute_result"
    }
   ],
   "source": [
    "df_return_per_round = pd.DataFrame([])\n",
    "for index,row in df_grid_search_res.iterrows():\n",
    "    open_threshold = row['open threshold']\n",
    "    close_threshold = row['close threshold']\n",
    "    df_return_per_round.loc[open_threshold,close_threshold] = row['return per round']\n",
    "df_return_per_round"
   ]
  },
  {
   "cell_type": "code",
   "execution_count": 13,
   "metadata": {},
   "outputs": [
    {
     "data": {
      "text/plain": [
       "0.000    0.002605\n",
       "0.001    0.005467\n",
       "0.002    0.005502\n",
       "0.003    0.005382\n",
       "dtype: float64"
      ]
     },
     "execution_count": 13,
     "metadata": {},
     "output_type": "execute_result"
    }
   ],
   "source": [
    "df_return_per_round.max()"
   ]
  },
  {
   "cell_type": "code",
   "execution_count": 14,
   "metadata": {},
   "outputs": [
    {
     "data": {
      "text/plain": [
       "0.000    0.002007\n",
       "0.001    0.003484\n",
       "0.002    0.003485\n",
       "0.003    0.003157\n",
       "dtype: float64"
      ]
     },
     "execution_count": 14,
     "metadata": {},
     "output_type": "execute_result"
    }
   ],
   "source": [
    "df_return_per_round.min()"
   ]
  },
  {
   "cell_type": "code",
   "execution_count": 10,
   "metadata": {},
   "outputs": [
    {
     "data": {
      "application/vnd.plotly.v1+json": {
       "config": {
        "plotlyServerURL": "https://plot.ly"
       },
       "data": [
        {
         "type": "surface",
         "z": [
          [
           0.002040350857521449,
           0.0034843475026491095,
           0.0034848533376290926,
           0.0031574197324993
          ],
          [
           0.002036906925752924,
           0.0036617505114544466,
           0.0037085827001545105,
           0.003570686103461384
          ],
          [
           0.0020072238729673566,
           0.0038151099395371457,
           0.003943456229552337,
           0.003765025987903404
          ],
          [
           0.0020704458626371277,
           0.004252262815205839,
           0.004526468793629001,
           0.0043320589137069675
          ],
          [
           0.0021237635332433348,
           0.00434332875660954,
           0.004666050694022238,
           0.004452919860601266
          ],
          [
           0.002176340163354431,
           0.004221460265195041,
           0.004522489604964393,
           0.004538845869161974
          ],
          [
           0.002283398028614933,
           0.004422865925779303,
           0.004568163847966643,
           0.004639066617154843
          ],
          [
           0.0023827191158747154,
           0.00450284895360533,
           0.0045240571429943375,
           0.004606676772480371
          ],
          [
           0.002450455155211818,
           0.004571251267313075,
           0.004636809287409275,
           0.004830497685049561
          ],
          [
           0.0025130790513957653,
           0.005310594929136887,
           0.00532223345051796,
           0.00517148803647513
          ],
          [
           0.0026052309276160418,
           0.005467091940004851,
           0.0055022299149420995,
           0.005382180943511671
          ]
         ]
        }
       ],
       "layout": {
        "autosize": false,
        "height": 600,
        "margin": {
         "b": 65,
         "l": 65,
         "r": 50,
         "t": 90
        },
        "template": {
         "data": {
          "bar": [
           {
            "error_x": {
             "color": "#2a3f5f"
            },
            "error_y": {
             "color": "#2a3f5f"
            },
            "marker": {
             "line": {
              "color": "#E5ECF6",
              "width": 0.5
             },
             "pattern": {
              "fillmode": "overlay",
              "size": 10,
              "solidity": 0.2
             }
            },
            "type": "bar"
           }
          ],
          "barpolar": [
           {
            "marker": {
             "line": {
              "color": "#E5ECF6",
              "width": 0.5
             },
             "pattern": {
              "fillmode": "overlay",
              "size": 10,
              "solidity": 0.2
             }
            },
            "type": "barpolar"
           }
          ],
          "carpet": [
           {
            "aaxis": {
             "endlinecolor": "#2a3f5f",
             "gridcolor": "white",
             "linecolor": "white",
             "minorgridcolor": "white",
             "startlinecolor": "#2a3f5f"
            },
            "baxis": {
             "endlinecolor": "#2a3f5f",
             "gridcolor": "white",
             "linecolor": "white",
             "minorgridcolor": "white",
             "startlinecolor": "#2a3f5f"
            },
            "type": "carpet"
           }
          ],
          "choropleth": [
           {
            "colorbar": {
             "outlinewidth": 0,
             "ticks": ""
            },
            "type": "choropleth"
           }
          ],
          "contour": [
           {
            "colorbar": {
             "outlinewidth": 0,
             "ticks": ""
            },
            "colorscale": [
             [
              0,
              "#0d0887"
             ],
             [
              0.1111111111111111,
              "#46039f"
             ],
             [
              0.2222222222222222,
              "#7201a8"
             ],
             [
              0.3333333333333333,
              "#9c179e"
             ],
             [
              0.4444444444444444,
              "#bd3786"
             ],
             [
              0.5555555555555556,
              "#d8576b"
             ],
             [
              0.6666666666666666,
              "#ed7953"
             ],
             [
              0.7777777777777778,
              "#fb9f3a"
             ],
             [
              0.8888888888888888,
              "#fdca26"
             ],
             [
              1,
              "#f0f921"
             ]
            ],
            "type": "contour"
           }
          ],
          "contourcarpet": [
           {
            "colorbar": {
             "outlinewidth": 0,
             "ticks": ""
            },
            "type": "contourcarpet"
           }
          ],
          "heatmap": [
           {
            "colorbar": {
             "outlinewidth": 0,
             "ticks": ""
            },
            "colorscale": [
             [
              0,
              "#0d0887"
             ],
             [
              0.1111111111111111,
              "#46039f"
             ],
             [
              0.2222222222222222,
              "#7201a8"
             ],
             [
              0.3333333333333333,
              "#9c179e"
             ],
             [
              0.4444444444444444,
              "#bd3786"
             ],
             [
              0.5555555555555556,
              "#d8576b"
             ],
             [
              0.6666666666666666,
              "#ed7953"
             ],
             [
              0.7777777777777778,
              "#fb9f3a"
             ],
             [
              0.8888888888888888,
              "#fdca26"
             ],
             [
              1,
              "#f0f921"
             ]
            ],
            "type": "heatmap"
           }
          ],
          "heatmapgl": [
           {
            "colorbar": {
             "outlinewidth": 0,
             "ticks": ""
            },
            "colorscale": [
             [
              0,
              "#0d0887"
             ],
             [
              0.1111111111111111,
              "#46039f"
             ],
             [
              0.2222222222222222,
              "#7201a8"
             ],
             [
              0.3333333333333333,
              "#9c179e"
             ],
             [
              0.4444444444444444,
              "#bd3786"
             ],
             [
              0.5555555555555556,
              "#d8576b"
             ],
             [
              0.6666666666666666,
              "#ed7953"
             ],
             [
              0.7777777777777778,
              "#fb9f3a"
             ],
             [
              0.8888888888888888,
              "#fdca26"
             ],
             [
              1,
              "#f0f921"
             ]
            ],
            "type": "heatmapgl"
           }
          ],
          "histogram": [
           {
            "marker": {
             "pattern": {
              "fillmode": "overlay",
              "size": 10,
              "solidity": 0.2
             }
            },
            "type": "histogram"
           }
          ],
          "histogram2d": [
           {
            "colorbar": {
             "outlinewidth": 0,
             "ticks": ""
            },
            "colorscale": [
             [
              0,
              "#0d0887"
             ],
             [
              0.1111111111111111,
              "#46039f"
             ],
             [
              0.2222222222222222,
              "#7201a8"
             ],
             [
              0.3333333333333333,
              "#9c179e"
             ],
             [
              0.4444444444444444,
              "#bd3786"
             ],
             [
              0.5555555555555556,
              "#d8576b"
             ],
             [
              0.6666666666666666,
              "#ed7953"
             ],
             [
              0.7777777777777778,
              "#fb9f3a"
             ],
             [
              0.8888888888888888,
              "#fdca26"
             ],
             [
              1,
              "#f0f921"
             ]
            ],
            "type": "histogram2d"
           }
          ],
          "histogram2dcontour": [
           {
            "colorbar": {
             "outlinewidth": 0,
             "ticks": ""
            },
            "colorscale": [
             [
              0,
              "#0d0887"
             ],
             [
              0.1111111111111111,
              "#46039f"
             ],
             [
              0.2222222222222222,
              "#7201a8"
             ],
             [
              0.3333333333333333,
              "#9c179e"
             ],
             [
              0.4444444444444444,
              "#bd3786"
             ],
             [
              0.5555555555555556,
              "#d8576b"
             ],
             [
              0.6666666666666666,
              "#ed7953"
             ],
             [
              0.7777777777777778,
              "#fb9f3a"
             ],
             [
              0.8888888888888888,
              "#fdca26"
             ],
             [
              1,
              "#f0f921"
             ]
            ],
            "type": "histogram2dcontour"
           }
          ],
          "mesh3d": [
           {
            "colorbar": {
             "outlinewidth": 0,
             "ticks": ""
            },
            "type": "mesh3d"
           }
          ],
          "parcoords": [
           {
            "line": {
             "colorbar": {
              "outlinewidth": 0,
              "ticks": ""
             }
            },
            "type": "parcoords"
           }
          ],
          "pie": [
           {
            "automargin": true,
            "type": "pie"
           }
          ],
          "scatter": [
           {
            "fillpattern": {
             "fillmode": "overlay",
             "size": 10,
             "solidity": 0.2
            },
            "type": "scatter"
           }
          ],
          "scatter3d": [
           {
            "line": {
             "colorbar": {
              "outlinewidth": 0,
              "ticks": ""
             }
            },
            "marker": {
             "colorbar": {
              "outlinewidth": 0,
              "ticks": ""
             }
            },
            "type": "scatter3d"
           }
          ],
          "scattercarpet": [
           {
            "marker": {
             "colorbar": {
              "outlinewidth": 0,
              "ticks": ""
             }
            },
            "type": "scattercarpet"
           }
          ],
          "scattergeo": [
           {
            "marker": {
             "colorbar": {
              "outlinewidth": 0,
              "ticks": ""
             }
            },
            "type": "scattergeo"
           }
          ],
          "scattergl": [
           {
            "marker": {
             "colorbar": {
              "outlinewidth": 0,
              "ticks": ""
             }
            },
            "type": "scattergl"
           }
          ],
          "scattermapbox": [
           {
            "marker": {
             "colorbar": {
              "outlinewidth": 0,
              "ticks": ""
             }
            },
            "type": "scattermapbox"
           }
          ],
          "scatterpolar": [
           {
            "marker": {
             "colorbar": {
              "outlinewidth": 0,
              "ticks": ""
             }
            },
            "type": "scatterpolar"
           }
          ],
          "scatterpolargl": [
           {
            "marker": {
             "colorbar": {
              "outlinewidth": 0,
              "ticks": ""
             }
            },
            "type": "scatterpolargl"
           }
          ],
          "scatterternary": [
           {
            "marker": {
             "colorbar": {
              "outlinewidth": 0,
              "ticks": ""
             }
            },
            "type": "scatterternary"
           }
          ],
          "surface": [
           {
            "colorbar": {
             "outlinewidth": 0,
             "ticks": ""
            },
            "colorscale": [
             [
              0,
              "#0d0887"
             ],
             [
              0.1111111111111111,
              "#46039f"
             ],
             [
              0.2222222222222222,
              "#7201a8"
             ],
             [
              0.3333333333333333,
              "#9c179e"
             ],
             [
              0.4444444444444444,
              "#bd3786"
             ],
             [
              0.5555555555555556,
              "#d8576b"
             ],
             [
              0.6666666666666666,
              "#ed7953"
             ],
             [
              0.7777777777777778,
              "#fb9f3a"
             ],
             [
              0.8888888888888888,
              "#fdca26"
             ],
             [
              1,
              "#f0f921"
             ]
            ],
            "type": "surface"
           }
          ],
          "table": [
           {
            "cells": {
             "fill": {
              "color": "#EBF0F8"
             },
             "line": {
              "color": "white"
             }
            },
            "header": {
             "fill": {
              "color": "#C8D4E3"
             },
             "line": {
              "color": "white"
             }
            },
            "type": "table"
           }
          ]
         },
         "layout": {
          "annotationdefaults": {
           "arrowcolor": "#2a3f5f",
           "arrowhead": 0,
           "arrowwidth": 1
          },
          "autotypenumbers": "strict",
          "coloraxis": {
           "colorbar": {
            "outlinewidth": 0,
            "ticks": ""
           }
          },
          "colorscale": {
           "diverging": [
            [
             0,
             "#8e0152"
            ],
            [
             0.1,
             "#c51b7d"
            ],
            [
             0.2,
             "#de77ae"
            ],
            [
             0.3,
             "#f1b6da"
            ],
            [
             0.4,
             "#fde0ef"
            ],
            [
             0.5,
             "#f7f7f7"
            ],
            [
             0.6,
             "#e6f5d0"
            ],
            [
             0.7,
             "#b8e186"
            ],
            [
             0.8,
             "#7fbc41"
            ],
            [
             0.9,
             "#4d9221"
            ],
            [
             1,
             "#276419"
            ]
           ],
           "sequential": [
            [
             0,
             "#0d0887"
            ],
            [
             0.1111111111111111,
             "#46039f"
            ],
            [
             0.2222222222222222,
             "#7201a8"
            ],
            [
             0.3333333333333333,
             "#9c179e"
            ],
            [
             0.4444444444444444,
             "#bd3786"
            ],
            [
             0.5555555555555556,
             "#d8576b"
            ],
            [
             0.6666666666666666,
             "#ed7953"
            ],
            [
             0.7777777777777778,
             "#fb9f3a"
            ],
            [
             0.8888888888888888,
             "#fdca26"
            ],
            [
             1,
             "#f0f921"
            ]
           ],
           "sequentialminus": [
            [
             0,
             "#0d0887"
            ],
            [
             0.1111111111111111,
             "#46039f"
            ],
            [
             0.2222222222222222,
             "#7201a8"
            ],
            [
             0.3333333333333333,
             "#9c179e"
            ],
            [
             0.4444444444444444,
             "#bd3786"
            ],
            [
             0.5555555555555556,
             "#d8576b"
            ],
            [
             0.6666666666666666,
             "#ed7953"
            ],
            [
             0.7777777777777778,
             "#fb9f3a"
            ],
            [
             0.8888888888888888,
             "#fdca26"
            ],
            [
             1,
             "#f0f921"
            ]
           ]
          },
          "colorway": [
           "#636efa",
           "#EF553B",
           "#00cc96",
           "#ab63fa",
           "#FFA15A",
           "#19d3f3",
           "#FF6692",
           "#B6E880",
           "#FF97FF",
           "#FECB52"
          ],
          "font": {
           "color": "#2a3f5f"
          },
          "geo": {
           "bgcolor": "white",
           "lakecolor": "white",
           "landcolor": "#E5ECF6",
           "showlakes": true,
           "showland": true,
           "subunitcolor": "white"
          },
          "hoverlabel": {
           "align": "left"
          },
          "hovermode": "closest",
          "mapbox": {
           "style": "light"
          },
          "paper_bgcolor": "white",
          "plot_bgcolor": "#E5ECF6",
          "polar": {
           "angularaxis": {
            "gridcolor": "white",
            "linecolor": "white",
            "ticks": ""
           },
           "bgcolor": "#E5ECF6",
           "radialaxis": {
            "gridcolor": "white",
            "linecolor": "white",
            "ticks": ""
           }
          },
          "scene": {
           "xaxis": {
            "backgroundcolor": "#E5ECF6",
            "gridcolor": "white",
            "gridwidth": 2,
            "linecolor": "white",
            "showbackground": true,
            "ticks": "",
            "zerolinecolor": "white"
           },
           "yaxis": {
            "backgroundcolor": "#E5ECF6",
            "gridcolor": "white",
            "gridwidth": 2,
            "linecolor": "white",
            "showbackground": true,
            "ticks": "",
            "zerolinecolor": "white"
           },
           "zaxis": {
            "backgroundcolor": "#E5ECF6",
            "gridcolor": "white",
            "gridwidth": 2,
            "linecolor": "white",
            "showbackground": true,
            "ticks": "",
            "zerolinecolor": "white"
           }
          },
          "shapedefaults": {
           "line": {
            "color": "#2a3f5f"
           }
          },
          "ternary": {
           "aaxis": {
            "gridcolor": "white",
            "linecolor": "white",
            "ticks": ""
           },
           "baxis": {
            "gridcolor": "white",
            "linecolor": "white",
            "ticks": ""
           },
           "bgcolor": "#E5ECF6",
           "caxis": {
            "gridcolor": "white",
            "linecolor": "white",
            "ticks": ""
           }
          },
          "title": {
           "x": 0.05
          },
          "xaxis": {
           "automargin": true,
           "gridcolor": "white",
           "linecolor": "white",
           "ticks": "",
           "title": {
            "standoff": 15
           },
           "zerolinecolor": "white",
           "zerolinewidth": 2
          },
          "yaxis": {
           "automargin": true,
           "gridcolor": "white",
           "linecolor": "white",
           "ticks": "",
           "title": {
            "standoff": 15
           },
           "zerolinecolor": "white",
           "zerolinewidth": 2
          }
         }
        },
        "title": {
         "text": "return per round"
        },
        "width": 700
       }
      }
     },
     "metadata": {},
     "output_type": "display_data"
    }
   ],
   "source": [
    "import plotly.graph_objects as go\n",
    "\n",
    "z_data = df_return_per_round.copy(deep=True)\n",
    "fig = go.Figure(data=[go.Surface(z=z_data.values)])\n",
    "\n",
    "fig.update_layout(title=\"return per round\", # 标题\n",
    "                  autosize=False,  # 尺度自动缩放\n",
    "                  width=700,  # 长宽\n",
    "                  height=600,\n",
    "                  margin=dict(l=65,r=50,b=65,t=90)  # 4个位置的距离\n",
    "                 )\n",
    "\n",
    "fig.show()"
   ]
  },
  {
   "cell_type": "markdown",
   "metadata": {},
   "source": [
    "# win rate surface"
   ]
  },
  {
   "cell_type": "code",
   "execution_count": 11,
   "metadata": {},
   "outputs": [
    {
     "data": {
      "text/html": [
       "<div>\n",
       "<style scoped>\n",
       "    .dataframe tbody tr th:only-of-type {\n",
       "        vertical-align: middle;\n",
       "    }\n",
       "\n",
       "    .dataframe tbody tr th {\n",
       "        vertical-align: top;\n",
       "    }\n",
       "\n",
       "    .dataframe thead th {\n",
       "        text-align: right;\n",
       "    }\n",
       "</style>\n",
       "<table border=\"1\" class=\"dataframe\">\n",
       "  <thead>\n",
       "    <tr style=\"text-align: right;\">\n",
       "      <th></th>\n",
       "      <th>0.000</th>\n",
       "      <th>0.001</th>\n",
       "      <th>0.002</th>\n",
       "      <th>0.003</th>\n",
       "    </tr>\n",
       "  </thead>\n",
       "  <tbody>\n",
       "    <tr>\n",
       "      <th>0.005</th>\n",
       "      <td>0.878583</td>\n",
       "      <td>0.821429</td>\n",
       "      <td>0.844444</td>\n",
       "      <td>0.868263</td>\n",
       "    </tr>\n",
       "    <tr>\n",
       "      <th>0.006</th>\n",
       "      <td>0.876501</td>\n",
       "      <td>0.805430</td>\n",
       "      <td>0.825532</td>\n",
       "      <td>0.854478</td>\n",
       "    </tr>\n",
       "    <tr>\n",
       "      <th>0.007</th>\n",
       "      <td>0.869159</td>\n",
       "      <td>0.766304</td>\n",
       "      <td>0.788360</td>\n",
       "      <td>0.819048</td>\n",
       "    </tr>\n",
       "    <tr>\n",
       "      <th>0.008</th>\n",
       "      <td>0.868263</td>\n",
       "      <td>0.758824</td>\n",
       "      <td>0.775148</td>\n",
       "      <td>0.797753</td>\n",
       "    </tr>\n",
       "    <tr>\n",
       "      <th>0.009</th>\n",
       "      <td>0.866521</td>\n",
       "      <td>0.766234</td>\n",
       "      <td>0.777778</td>\n",
       "      <td>0.789809</td>\n",
       "    </tr>\n",
       "    <tr>\n",
       "      <th>0.010</th>\n",
       "      <td>0.857143</td>\n",
       "      <td>0.744526</td>\n",
       "      <td>0.759398</td>\n",
       "      <td>0.773723</td>\n",
       "    </tr>\n",
       "    <tr>\n",
       "      <th>0.011</th>\n",
       "      <td>0.860000</td>\n",
       "      <td>0.750000</td>\n",
       "      <td>0.750000</td>\n",
       "      <td>0.764228</td>\n",
       "    </tr>\n",
       "    <tr>\n",
       "      <th>0.012</th>\n",
       "      <td>0.862694</td>\n",
       "      <td>0.734513</td>\n",
       "      <td>0.721154</td>\n",
       "      <td>0.735849</td>\n",
       "    </tr>\n",
       "    <tr>\n",
       "      <th>0.013</th>\n",
       "      <td>0.861582</td>\n",
       "      <td>0.728972</td>\n",
       "      <td>0.714286</td>\n",
       "      <td>0.730000</td>\n",
       "    </tr>\n",
       "    <tr>\n",
       "      <th>0.014</th>\n",
       "      <td>0.854785</td>\n",
       "      <td>0.726316</td>\n",
       "      <td>0.719101</td>\n",
       "      <td>0.712644</td>\n",
       "    </tr>\n",
       "    <tr>\n",
       "      <th>0.015</th>\n",
       "      <td>0.853659</td>\n",
       "      <td>0.714286</td>\n",
       "      <td>0.705882</td>\n",
       "      <td>0.710843</td>\n",
       "    </tr>\n",
       "  </tbody>\n",
       "</table>\n",
       "</div>"
      ],
      "text/plain": [
       "          0.000     0.001     0.002     0.003\n",
       "0.005  0.878583  0.821429  0.844444  0.868263\n",
       "0.006  0.876501  0.805430  0.825532  0.854478\n",
       "0.007  0.869159  0.766304  0.788360  0.819048\n",
       "0.008  0.868263  0.758824  0.775148  0.797753\n",
       "0.009  0.866521  0.766234  0.777778  0.789809\n",
       "0.010  0.857143  0.744526  0.759398  0.773723\n",
       "0.011  0.860000  0.750000  0.750000  0.764228\n",
       "0.012  0.862694  0.734513  0.721154  0.735849\n",
       "0.013  0.861582  0.728972  0.714286  0.730000\n",
       "0.014  0.854785  0.726316  0.719101  0.712644\n",
       "0.015  0.853659  0.714286  0.705882  0.710843"
      ]
     },
     "execution_count": 11,
     "metadata": {},
     "output_type": "execute_result"
    }
   ],
   "source": [
    "df_win_rate = pd.DataFrame([])\n",
    "for index,row in df_grid_search_res.iterrows():\n",
    "    open_threshold = row['open threshold']\n",
    "    close_threshold = row['close threshold']\n",
    "    df_win_rate.loc[open_threshold,close_threshold] = row['win rate']\n",
    "df_win_rate"
   ]
  },
  {
   "cell_type": "code",
   "execution_count": 15,
   "metadata": {},
   "outputs": [
    {
     "data": {
      "text/plain": [
       "0.000    0.878583\n",
       "0.001    0.821429\n",
       "0.002    0.844444\n",
       "0.003    0.868263\n",
       "dtype: float64"
      ]
     },
     "execution_count": 15,
     "metadata": {},
     "output_type": "execute_result"
    }
   ],
   "source": [
    "df_win_rate.max()"
   ]
  },
  {
   "cell_type": "code",
   "execution_count": 16,
   "metadata": {},
   "outputs": [
    {
     "data": {
      "text/plain": [
       "0.000    0.853659\n",
       "0.001    0.714286\n",
       "0.002    0.705882\n",
       "0.003    0.710843\n",
       "dtype: float64"
      ]
     },
     "execution_count": 16,
     "metadata": {},
     "output_type": "execute_result"
    }
   ],
   "source": [
    "df_win_rate.min()"
   ]
  },
  {
   "cell_type": "code",
   "execution_count": 12,
   "metadata": {},
   "outputs": [
    {
     "data": {
      "application/vnd.plotly.v1+json": {
       "config": {
        "plotlyServerURL": "https://plot.ly"
       },
       "data": [
        {
         "type": "surface",
         "z": [
          [
           0.8785834738617201,
           0.8214285714285714,
           0.8444444444444444,
           0.8682634730538922
          ],
          [
           0.8765008576329331,
           0.8054298642533937,
           0.825531914893617,
           0.8544776119402985
          ],
          [
           0.8691588785046729,
           0.7663043478260869,
           0.7883597883597884,
           0.819047619047619
          ],
          [
           0.8682634730538922,
           0.7588235294117647,
           0.7751479289940828,
           0.797752808988764
          ],
          [
           0.8665207877461707,
           0.7662337662337663,
           0.7777777777777778,
           0.7898089171974523
          ],
          [
           0.8571428571428571,
           0.7445255474452555,
           0.7593984962406015,
           0.7737226277372263
          ],
          [
           0.86,
           0.75,
           0.75,
           0.7642276422764228
          ],
          [
           0.8626943005181347,
           0.7345132743362832,
           0.7211538461538461,
           0.7358490566037735
          ],
          [
           0.8615819209039548,
           0.7289719626168224,
           0.7142857142857143,
           0.73
          ],
          [
           0.8547854785478548,
           0.7263157894736842,
           0.7191011235955056,
           0.7126436781609196
          ],
          [
           0.8536585365853658,
           0.7142857142857143,
           0.7058823529411765,
           0.7108433734939759
          ]
         ]
        }
       ],
       "layout": {
        "autosize": false,
        "height": 600,
        "margin": {
         "b": 65,
         "l": 65,
         "r": 50,
         "t": 90
        },
        "template": {
         "data": {
          "bar": [
           {
            "error_x": {
             "color": "#2a3f5f"
            },
            "error_y": {
             "color": "#2a3f5f"
            },
            "marker": {
             "line": {
              "color": "#E5ECF6",
              "width": 0.5
             },
             "pattern": {
              "fillmode": "overlay",
              "size": 10,
              "solidity": 0.2
             }
            },
            "type": "bar"
           }
          ],
          "barpolar": [
           {
            "marker": {
             "line": {
              "color": "#E5ECF6",
              "width": 0.5
             },
             "pattern": {
              "fillmode": "overlay",
              "size": 10,
              "solidity": 0.2
             }
            },
            "type": "barpolar"
           }
          ],
          "carpet": [
           {
            "aaxis": {
             "endlinecolor": "#2a3f5f",
             "gridcolor": "white",
             "linecolor": "white",
             "minorgridcolor": "white",
             "startlinecolor": "#2a3f5f"
            },
            "baxis": {
             "endlinecolor": "#2a3f5f",
             "gridcolor": "white",
             "linecolor": "white",
             "minorgridcolor": "white",
             "startlinecolor": "#2a3f5f"
            },
            "type": "carpet"
           }
          ],
          "choropleth": [
           {
            "colorbar": {
             "outlinewidth": 0,
             "ticks": ""
            },
            "type": "choropleth"
           }
          ],
          "contour": [
           {
            "colorbar": {
             "outlinewidth": 0,
             "ticks": ""
            },
            "colorscale": [
             [
              0,
              "#0d0887"
             ],
             [
              0.1111111111111111,
              "#46039f"
             ],
             [
              0.2222222222222222,
              "#7201a8"
             ],
             [
              0.3333333333333333,
              "#9c179e"
             ],
             [
              0.4444444444444444,
              "#bd3786"
             ],
             [
              0.5555555555555556,
              "#d8576b"
             ],
             [
              0.6666666666666666,
              "#ed7953"
             ],
             [
              0.7777777777777778,
              "#fb9f3a"
             ],
             [
              0.8888888888888888,
              "#fdca26"
             ],
             [
              1,
              "#f0f921"
             ]
            ],
            "type": "contour"
           }
          ],
          "contourcarpet": [
           {
            "colorbar": {
             "outlinewidth": 0,
             "ticks": ""
            },
            "type": "contourcarpet"
           }
          ],
          "heatmap": [
           {
            "colorbar": {
             "outlinewidth": 0,
             "ticks": ""
            },
            "colorscale": [
             [
              0,
              "#0d0887"
             ],
             [
              0.1111111111111111,
              "#46039f"
             ],
             [
              0.2222222222222222,
              "#7201a8"
             ],
             [
              0.3333333333333333,
              "#9c179e"
             ],
             [
              0.4444444444444444,
              "#bd3786"
             ],
             [
              0.5555555555555556,
              "#d8576b"
             ],
             [
              0.6666666666666666,
              "#ed7953"
             ],
             [
              0.7777777777777778,
              "#fb9f3a"
             ],
             [
              0.8888888888888888,
              "#fdca26"
             ],
             [
              1,
              "#f0f921"
             ]
            ],
            "type": "heatmap"
           }
          ],
          "heatmapgl": [
           {
            "colorbar": {
             "outlinewidth": 0,
             "ticks": ""
            },
            "colorscale": [
             [
              0,
              "#0d0887"
             ],
             [
              0.1111111111111111,
              "#46039f"
             ],
             [
              0.2222222222222222,
              "#7201a8"
             ],
             [
              0.3333333333333333,
              "#9c179e"
             ],
             [
              0.4444444444444444,
              "#bd3786"
             ],
             [
              0.5555555555555556,
              "#d8576b"
             ],
             [
              0.6666666666666666,
              "#ed7953"
             ],
             [
              0.7777777777777778,
              "#fb9f3a"
             ],
             [
              0.8888888888888888,
              "#fdca26"
             ],
             [
              1,
              "#f0f921"
             ]
            ],
            "type": "heatmapgl"
           }
          ],
          "histogram": [
           {
            "marker": {
             "pattern": {
              "fillmode": "overlay",
              "size": 10,
              "solidity": 0.2
             }
            },
            "type": "histogram"
           }
          ],
          "histogram2d": [
           {
            "colorbar": {
             "outlinewidth": 0,
             "ticks": ""
            },
            "colorscale": [
             [
              0,
              "#0d0887"
             ],
             [
              0.1111111111111111,
              "#46039f"
             ],
             [
              0.2222222222222222,
              "#7201a8"
             ],
             [
              0.3333333333333333,
              "#9c179e"
             ],
             [
              0.4444444444444444,
              "#bd3786"
             ],
             [
              0.5555555555555556,
              "#d8576b"
             ],
             [
              0.6666666666666666,
              "#ed7953"
             ],
             [
              0.7777777777777778,
              "#fb9f3a"
             ],
             [
              0.8888888888888888,
              "#fdca26"
             ],
             [
              1,
              "#f0f921"
             ]
            ],
            "type": "histogram2d"
           }
          ],
          "histogram2dcontour": [
           {
            "colorbar": {
             "outlinewidth": 0,
             "ticks": ""
            },
            "colorscale": [
             [
              0,
              "#0d0887"
             ],
             [
              0.1111111111111111,
              "#46039f"
             ],
             [
              0.2222222222222222,
              "#7201a8"
             ],
             [
              0.3333333333333333,
              "#9c179e"
             ],
             [
              0.4444444444444444,
              "#bd3786"
             ],
             [
              0.5555555555555556,
              "#d8576b"
             ],
             [
              0.6666666666666666,
              "#ed7953"
             ],
             [
              0.7777777777777778,
              "#fb9f3a"
             ],
             [
              0.8888888888888888,
              "#fdca26"
             ],
             [
              1,
              "#f0f921"
             ]
            ],
            "type": "histogram2dcontour"
           }
          ],
          "mesh3d": [
           {
            "colorbar": {
             "outlinewidth": 0,
             "ticks": ""
            },
            "type": "mesh3d"
           }
          ],
          "parcoords": [
           {
            "line": {
             "colorbar": {
              "outlinewidth": 0,
              "ticks": ""
             }
            },
            "type": "parcoords"
           }
          ],
          "pie": [
           {
            "automargin": true,
            "type": "pie"
           }
          ],
          "scatter": [
           {
            "fillpattern": {
             "fillmode": "overlay",
             "size": 10,
             "solidity": 0.2
            },
            "type": "scatter"
           }
          ],
          "scatter3d": [
           {
            "line": {
             "colorbar": {
              "outlinewidth": 0,
              "ticks": ""
             }
            },
            "marker": {
             "colorbar": {
              "outlinewidth": 0,
              "ticks": ""
             }
            },
            "type": "scatter3d"
           }
          ],
          "scattercarpet": [
           {
            "marker": {
             "colorbar": {
              "outlinewidth": 0,
              "ticks": ""
             }
            },
            "type": "scattercarpet"
           }
          ],
          "scattergeo": [
           {
            "marker": {
             "colorbar": {
              "outlinewidth": 0,
              "ticks": ""
             }
            },
            "type": "scattergeo"
           }
          ],
          "scattergl": [
           {
            "marker": {
             "colorbar": {
              "outlinewidth": 0,
              "ticks": ""
             }
            },
            "type": "scattergl"
           }
          ],
          "scattermapbox": [
           {
            "marker": {
             "colorbar": {
              "outlinewidth": 0,
              "ticks": ""
             }
            },
            "type": "scattermapbox"
           }
          ],
          "scatterpolar": [
           {
            "marker": {
             "colorbar": {
              "outlinewidth": 0,
              "ticks": ""
             }
            },
            "type": "scatterpolar"
           }
          ],
          "scatterpolargl": [
           {
            "marker": {
             "colorbar": {
              "outlinewidth": 0,
              "ticks": ""
             }
            },
            "type": "scatterpolargl"
           }
          ],
          "scatterternary": [
           {
            "marker": {
             "colorbar": {
              "outlinewidth": 0,
              "ticks": ""
             }
            },
            "type": "scatterternary"
           }
          ],
          "surface": [
           {
            "colorbar": {
             "outlinewidth": 0,
             "ticks": ""
            },
            "colorscale": [
             [
              0,
              "#0d0887"
             ],
             [
              0.1111111111111111,
              "#46039f"
             ],
             [
              0.2222222222222222,
              "#7201a8"
             ],
             [
              0.3333333333333333,
              "#9c179e"
             ],
             [
              0.4444444444444444,
              "#bd3786"
             ],
             [
              0.5555555555555556,
              "#d8576b"
             ],
             [
              0.6666666666666666,
              "#ed7953"
             ],
             [
              0.7777777777777778,
              "#fb9f3a"
             ],
             [
              0.8888888888888888,
              "#fdca26"
             ],
             [
              1,
              "#f0f921"
             ]
            ],
            "type": "surface"
           }
          ],
          "table": [
           {
            "cells": {
             "fill": {
              "color": "#EBF0F8"
             },
             "line": {
              "color": "white"
             }
            },
            "header": {
             "fill": {
              "color": "#C8D4E3"
             },
             "line": {
              "color": "white"
             }
            },
            "type": "table"
           }
          ]
         },
         "layout": {
          "annotationdefaults": {
           "arrowcolor": "#2a3f5f",
           "arrowhead": 0,
           "arrowwidth": 1
          },
          "autotypenumbers": "strict",
          "coloraxis": {
           "colorbar": {
            "outlinewidth": 0,
            "ticks": ""
           }
          },
          "colorscale": {
           "diverging": [
            [
             0,
             "#8e0152"
            ],
            [
             0.1,
             "#c51b7d"
            ],
            [
             0.2,
             "#de77ae"
            ],
            [
             0.3,
             "#f1b6da"
            ],
            [
             0.4,
             "#fde0ef"
            ],
            [
             0.5,
             "#f7f7f7"
            ],
            [
             0.6,
             "#e6f5d0"
            ],
            [
             0.7,
             "#b8e186"
            ],
            [
             0.8,
             "#7fbc41"
            ],
            [
             0.9,
             "#4d9221"
            ],
            [
             1,
             "#276419"
            ]
           ],
           "sequential": [
            [
             0,
             "#0d0887"
            ],
            [
             0.1111111111111111,
             "#46039f"
            ],
            [
             0.2222222222222222,
             "#7201a8"
            ],
            [
             0.3333333333333333,
             "#9c179e"
            ],
            [
             0.4444444444444444,
             "#bd3786"
            ],
            [
             0.5555555555555556,
             "#d8576b"
            ],
            [
             0.6666666666666666,
             "#ed7953"
            ],
            [
             0.7777777777777778,
             "#fb9f3a"
            ],
            [
             0.8888888888888888,
             "#fdca26"
            ],
            [
             1,
             "#f0f921"
            ]
           ],
           "sequentialminus": [
            [
             0,
             "#0d0887"
            ],
            [
             0.1111111111111111,
             "#46039f"
            ],
            [
             0.2222222222222222,
             "#7201a8"
            ],
            [
             0.3333333333333333,
             "#9c179e"
            ],
            [
             0.4444444444444444,
             "#bd3786"
            ],
            [
             0.5555555555555556,
             "#d8576b"
            ],
            [
             0.6666666666666666,
             "#ed7953"
            ],
            [
             0.7777777777777778,
             "#fb9f3a"
            ],
            [
             0.8888888888888888,
             "#fdca26"
            ],
            [
             1,
             "#f0f921"
            ]
           ]
          },
          "colorway": [
           "#636efa",
           "#EF553B",
           "#00cc96",
           "#ab63fa",
           "#FFA15A",
           "#19d3f3",
           "#FF6692",
           "#B6E880",
           "#FF97FF",
           "#FECB52"
          ],
          "font": {
           "color": "#2a3f5f"
          },
          "geo": {
           "bgcolor": "white",
           "lakecolor": "white",
           "landcolor": "#E5ECF6",
           "showlakes": true,
           "showland": true,
           "subunitcolor": "white"
          },
          "hoverlabel": {
           "align": "left"
          },
          "hovermode": "closest",
          "mapbox": {
           "style": "light"
          },
          "paper_bgcolor": "white",
          "plot_bgcolor": "#E5ECF6",
          "polar": {
           "angularaxis": {
            "gridcolor": "white",
            "linecolor": "white",
            "ticks": ""
           },
           "bgcolor": "#E5ECF6",
           "radialaxis": {
            "gridcolor": "white",
            "linecolor": "white",
            "ticks": ""
           }
          },
          "scene": {
           "xaxis": {
            "backgroundcolor": "#E5ECF6",
            "gridcolor": "white",
            "gridwidth": 2,
            "linecolor": "white",
            "showbackground": true,
            "ticks": "",
            "zerolinecolor": "white"
           },
           "yaxis": {
            "backgroundcolor": "#E5ECF6",
            "gridcolor": "white",
            "gridwidth": 2,
            "linecolor": "white",
            "showbackground": true,
            "ticks": "",
            "zerolinecolor": "white"
           },
           "zaxis": {
            "backgroundcolor": "#E5ECF6",
            "gridcolor": "white",
            "gridwidth": 2,
            "linecolor": "white",
            "showbackground": true,
            "ticks": "",
            "zerolinecolor": "white"
           }
          },
          "shapedefaults": {
           "line": {
            "color": "#2a3f5f"
           }
          },
          "ternary": {
           "aaxis": {
            "gridcolor": "white",
            "linecolor": "white",
            "ticks": ""
           },
           "baxis": {
            "gridcolor": "white",
            "linecolor": "white",
            "ticks": ""
           },
           "bgcolor": "#E5ECF6",
           "caxis": {
            "gridcolor": "white",
            "linecolor": "white",
            "ticks": ""
           }
          },
          "title": {
           "x": 0.05
          },
          "xaxis": {
           "automargin": true,
           "gridcolor": "white",
           "linecolor": "white",
           "ticks": "",
           "title": {
            "standoff": 15
           },
           "zerolinecolor": "white",
           "zerolinewidth": 2
          },
          "yaxis": {
           "automargin": true,
           "gridcolor": "white",
           "linecolor": "white",
           "ticks": "",
           "title": {
            "standoff": 15
           },
           "zerolinecolor": "white",
           "zerolinewidth": 2
          }
         }
        },
        "title": {
         "text": "win rate"
        },
        "width": 700
       }
      }
     },
     "metadata": {},
     "output_type": "display_data"
    }
   ],
   "source": [
    "import plotly.graph_objects as go\n",
    "\n",
    "z_data = df_win_rate.copy(deep=True)\n",
    "fig = go.Figure(data=[go.Surface(z=z_data.values)])\n",
    "\n",
    "fig.update_layout(title=\"win rate\", # 标题\n",
    "                  autosize=False,  # 尺度自动缩放\n",
    "                  width=700,  # 长宽\n",
    "                  height=600,\n",
    "                  margin=dict(l=65,r=50,b=65,t=90)  # 4个位置的距离\n",
    "                 )\n",
    "\n",
    "fig.show()"
   ]
  }
 ],
 "metadata": {
  "kernelspec": {
   "display_name": "Python 3 (ipykernel)",
   "language": "python",
   "name": "python3"
  },
  "language_info": {
   "codemirror_mode": {
    "name": "ipython",
    "version": 3
   },
   "file_extension": ".py",
   "mimetype": "text/x-python",
   "name": "python",
   "nbconvert_exporter": "python",
   "pygments_lexer": "ipython3",
   "version": "3.9.7"
  },
  "toc": {
   "base_numbering": 1,
   "nav_menu": {},
   "number_sections": true,
   "sideBar": true,
   "skip_h1_title": false,
   "title_cell": "Table of Contents",
   "title_sidebar": "Contents",
   "toc_cell": false,
   "toc_position": {
    "height": "calc(100% - 180px)",
    "left": "10px",
    "top": "150px",
    "width": "218.59375px"
   },
   "toc_section_display": true,
   "toc_window_display": true
  },
  "varInspector": {
   "cols": {
    "lenName": 16,
    "lenType": 16,
    "lenVar": 40
   },
   "kernels_config": {
    "python": {
     "delete_cmd_postfix": "",
     "delete_cmd_prefix": "del ",
     "library": "var_list.py",
     "varRefreshCmd": "print(var_dic_list())"
    },
    "r": {
     "delete_cmd_postfix": ") ",
     "delete_cmd_prefix": "rm(",
     "library": "var_list.r",
     "varRefreshCmd": "cat(var_dic_list()) "
    }
   },
   "types_to_exclude": [
    "module",
    "function",
    "builtin_function_or_method",
    "instance",
    "_Feature"
   ],
   "window_display": false
  },
  "vscode": {
   "interpreter": {
    "hash": "4b7a3c99c09164ed3315a85b9be868456d78d186d21965e8a7155bab558fd18f"
   }
  }
 },
 "nbformat": 4,
 "nbformat_minor": 2
}
