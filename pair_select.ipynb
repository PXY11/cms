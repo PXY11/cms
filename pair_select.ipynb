{
 "cells": [
  {
   "cell_type": "code",
   "execution_count": 9,
   "metadata": {},
   "outputs": [],
   "source": [
    "import pandas as pd\n",
    "\n",
    "df_data = pd.read_excel('股债对信息统计.xlsx')\n",
    "df_data.columns = ['bond code','bond name','stock code','stock name',\n",
    "                    'stock price','convert price','bond life','premium rate','bond balance']\n"
   ]
  },
  {
   "cell_type": "code",
   "execution_count": 10,
   "metadata": {},
   "outputs": [],
   "source": [
    "df_data = df_data.dropna(axis=0,how='any')\n",
    "df_data['moneyness'] = (df_data['stock price'] - df_data['convert price']) /  df_data['stock price']\n",
    "df_itm = df_data[df_data['moneyness'] > 0.5]\n",
    "df_itm\n"
   ]
  },
  {
   "cell_type": "code",
   "execution_count": 13,
   "metadata": {},
   "outputs": [],
   "source": [
    "df_itm_lesstime = df_itm[df_itm['bond life']<3]"
   ]
  },
  {
   "cell_type": "code",
   "execution_count": 14,
   "metadata": {},
   "outputs": [
    {
     "data": {
      "text/html": [
       "<div>\n",
       "<style scoped>\n",
       "    .dataframe tbody tr th:only-of-type {\n",
       "        vertical-align: middle;\n",
       "    }\n",
       "\n",
       "    .dataframe tbody tr th {\n",
       "        vertical-align: top;\n",
       "    }\n",
       "\n",
       "    .dataframe thead th {\n",
       "        text-align: right;\n",
       "    }\n",
       "</style>\n",
       "<table border=\"1\" class=\"dataframe\">\n",
       "  <thead>\n",
       "    <tr style=\"text-align: right;\">\n",
       "      <th></th>\n",
       "      <th>bond code</th>\n",
       "      <th>bond name</th>\n",
       "      <th>stock code</th>\n",
       "      <th>stock name</th>\n",
       "      <th>stock price</th>\n",
       "      <th>convert price</th>\n",
       "      <th>bond life</th>\n",
       "      <th>premium rate</th>\n",
       "      <th>bond balance</th>\n",
       "      <th>moneyness</th>\n",
       "    </tr>\n",
       "  </thead>\n",
       "  <tbody>\n",
       "    <tr>\n",
       "      <th>6</th>\n",
       "      <td>113537.SH</td>\n",
       "      <td>文灿转债</td>\n",
       "      <td>603348.SH</td>\n",
       "      <td>文灿股份</td>\n",
       "      <td>79.92</td>\n",
       "      <td>19.13</td>\n",
       "      <td>2.7315</td>\n",
       "      <td>-0.7007</td>\n",
       "      <td>1.2409</td>\n",
       "      <td>0.760636</td>\n",
       "    </tr>\n",
       "    <tr>\n",
       "      <th>25</th>\n",
       "      <td>123027.SZ</td>\n",
       "      <td>蓝晓转债</td>\n",
       "      <td>300487.SZ</td>\n",
       "      <td>蓝晓科技</td>\n",
       "      <td>77.97</td>\n",
       "      <td>19.07</td>\n",
       "      <td>2.7342</td>\n",
       "      <td>0.2165</td>\n",
       "      <td>0.9177</td>\n",
       "      <td>0.755419</td>\n",
       "    </tr>\n",
       "    <tr>\n",
       "      <th>45</th>\n",
       "      <td>113534.SH</td>\n",
       "      <td>鼎胜转债</td>\n",
       "      <td>603876.SH</td>\n",
       "      <td>鼎胜新材</td>\n",
       "      <td>54.43</td>\n",
       "      <td>14.98</td>\n",
       "      <td>2.5616</td>\n",
       "      <td>5.2142</td>\n",
       "      <td>3.9335</td>\n",
       "      <td>0.724784</td>\n",
       "    </tr>\n",
       "    <tr>\n",
       "      <th>95</th>\n",
       "      <td>113025.SH</td>\n",
       "      <td>明泰转债</td>\n",
       "      <td>601677.SH</td>\n",
       "      <td>明泰铝业</td>\n",
       "      <td>20.95</td>\n",
       "      <td>7.66</td>\n",
       "      <td>2.5644</td>\n",
       "      <td>16.1209</td>\n",
       "      <td>10.1476</td>\n",
       "      <td>0.634368</td>\n",
       "    </tr>\n",
       "    <tr>\n",
       "      <th>133</th>\n",
       "      <td>113016.SH</td>\n",
       "      <td>小康转债</td>\n",
       "      <td>601127.SH</td>\n",
       "      <td>赛力斯</td>\n",
       "      <td>63.34</td>\n",
       "      <td>20.17</td>\n",
       "      <td>1.1397</td>\n",
       "      <td>21.3688</td>\n",
       "      <td>2.0640</td>\n",
       "      <td>0.681560</td>\n",
       "    </tr>\n",
       "    <tr>\n",
       "      <th>137</th>\n",
       "      <td>123031.SZ</td>\n",
       "      <td>晶瑞转债</td>\n",
       "      <td>300655.SZ</td>\n",
       "      <td>晶瑞电材</td>\n",
       "      <td>16.85</td>\n",
       "      <td>6.25</td>\n",
       "      <td>2.9507</td>\n",
       "      <td>21.7362</td>\n",
       "      <td>0.5292</td>\n",
       "      <td>0.629080</td>\n",
       "    </tr>\n",
       "  </tbody>\n",
       "</table>\n",
       "</div>"
      ],
      "text/plain": [
       "     bond code bond name stock code stock name  stock price  convert price  \\\n",
       "6    113537.SH      文灿转债  603348.SH       文灿股份        79.92          19.13   \n",
       "25   123027.SZ      蓝晓转债  300487.SZ       蓝晓科技        77.97          19.07   \n",
       "45   113534.SH      鼎胜转债  603876.SH       鼎胜新材        54.43          14.98   \n",
       "95   113025.SH      明泰转债  601677.SH       明泰铝业        20.95           7.66   \n",
       "133  113016.SH      小康转债  601127.SH        赛力斯        63.34          20.17   \n",
       "137  123031.SZ      晶瑞转债  300655.SZ       晶瑞电材        16.85           6.25   \n",
       "\n",
       "     bond life  premium rate  bond balance  moneyness  \n",
       "6       2.7315       -0.7007        1.2409   0.760636  \n",
       "25      2.7342        0.2165        0.9177   0.755419  \n",
       "45      2.5616        5.2142        3.9335   0.724784  \n",
       "95      2.5644       16.1209       10.1476   0.634368  \n",
       "133     1.1397       21.3688        2.0640   0.681560  \n",
       "137     2.9507       21.7362        0.5292   0.629080  "
      ]
     },
     "execution_count": 14,
     "metadata": {},
     "output_type": "execute_result"
    }
   ],
   "source": [
    "df_itm_lesstime"
   ]
  },
  {
   "cell_type": "code",
   "execution_count": 15,
   "metadata": {},
   "outputs": [],
   "source": [
    "# df_itm_lesstime.to_excel('tmp_pair_select.xlsx')"
   ]
  }
 ],
 "metadata": {
  "kernelspec": {
   "display_name": "Python 3.9.7 ('base')",
   "language": "python",
   "name": "python3"
  },
  "language_info": {
   "codemirror_mode": {
    "name": "ipython",
    "version": 3
   },
   "file_extension": ".py",
   "mimetype": "text/x-python",
   "name": "python",
   "nbconvert_exporter": "python",
   "pygments_lexer": "ipython3",
   "version": "3.9.7"
  },
  "orig_nbformat": 4,
  "vscode": {
   "interpreter": {
    "hash": "4b7a3c99c09164ed3315a85b9be868456d78d186d21965e8a7155bab558fd18f"
   }
  }
 },
 "nbformat": 4,
 "nbformat_minor": 2
}
