{
 "cells": [
  {
   "cell_type": "markdown",
   "metadata": {},
   "source": [
    "# import data"
   ]
  },
  {
   "cell_type": "code",
   "execution_count": 1,
   "metadata": {},
   "outputs": [
    {
     "name": "stdout",
     "output_type": "stream",
     "text": [
      "dict_keys(['123046.SZ', '300587.SZ', '113642.SH', '603185.SH', '110061.SH', '600674.SH', '128081.SZ', '002203.SZ'])\n",
      "123046.SZ  data length:  31460\n",
      "300587.SZ  data length:  31460\n",
      "113642.SH  data length:  13552\n",
      "603185.SH  data length:  31460\n",
      "110061.SH  data length:  31460\n",
      "600674.SH  data length:  31460\n",
      "128081.SZ  data length:  31460\n",
      "002203.SZ  data length:  31460\n",
      "数据起始日期 2021-12-13 09:30:00\n",
      "数据结束日期 2022-06-28 15:00:00\n",
      "113642.SH数据起始日期 2022-04-06 09:30:00\n",
      "113642.SH数据结束日期 2022-06-28 15:00:00\n"
     ]
    }
   ],
   "source": [
    "import platform\n",
    "import pandas as pd\n",
    "from datetime import datetime, timedelta, time\n",
    "ohlcv_data = pd.read_pickle('/Users/bokie/code/python/CMS/可转债套利/cms/stock_data_min_new.pkl')\n",
    "print(ohlcv_data.keys())\n",
    "for k,v in ohlcv_data.items():\n",
    "    print(k,' data length: ',len(v))\n",
    "print('数据起始日期',v.index[0])\n",
    "print('数据结束日期',v.index[-1])\n",
    "print('113642.SH数据起始日期',ohlcv_data['113642.SH'].index[0])\n",
    "print('113642.SH数据结束日期',ohlcv_data['113642.SH'].index[-1])"
   ]
  },
  {
   "cell_type": "markdown",
   "metadata": {},
   "source": [
    "# bond-stock pair"
   ]
  },
  {
   "cell_type": "code",
   "execution_count": 2,
   "metadata": {},
   "outputs": [],
   "source": [
    "# cbond_pair = ['128081.SZ','002203.SZ']\n",
    "# part = 1\n",
    "# convert_price = 9.69\n",
    "# stock_volume = 100/convert_price #整个回测期间不变\n",
    "\n",
    "\n",
    "cbond_pair = ['123046.SZ','300587.SZ']\n",
    "part = 1 \n",
    "convert_price = 6.73\n",
    "stock_volume = 100/convert_price  # 2021-12-13至2022-03-23\n",
    "# part = 2\n",
    "# convert_price = 6.74\n",
    "# stock_volume = 100/convert_price  # 2022-03-24至2022-06-28\n",
    "\n",
    "\n",
    "# cbond_pair = ['110061.SH','600674.SH']\n",
    "# part = 1\n",
    "# convert_price = 9.2\n",
    "# stock_volume = 100/convert_price #整个回测期间不变\n",
    "\n",
    "\n",
    "# cbond_pair = ['113642.SH','603185.SH']\n",
    "# part = 1\n",
    "# convert_price = 145.66\n",
    "# stock_volume = 100/convert_price  # 2022-04-06至2022-06-02\n",
    "# part = 2\n",
    "# convert_price = 102.61\n",
    "# stock_volume = 100/convert_price  # 2022-06-03至2022-06-28\n"
   ]
  },
  {
   "cell_type": "code",
   "execution_count": 3,
   "metadata": {},
   "outputs": [],
   "source": [
    "cbond_pair_price = pd.DataFrame([])\n",
    "cbond_pair_price = pd.concat([ohlcv_data[cbond_pair[0]]['close'],ohlcv_data[cbond_pair[1]]['close']],axis=1)\n",
    "cbond_pair_price.columns = cbond_pair\n",
    "cbond_pair_price = cbond_pair_price.dropna()\n",
    "if cbond_pair[0] == '128081.SZ' or cbond_pair[0] == '110061.SH':\n",
    "    cbond_pair_price = cbond_pair_price.loc['2021-12-13 15:00:00':]\n",
    "elif cbond_pair[0] == '123046.SZ' and part == 1:\n",
    "    cbond_pair_price = cbond_pair_price.loc['2021-12-13 15:00:00':'2022-03-23 15:00:00']\n",
    "elif cbond_pair[0] == '123046.SZ' and part == 2:\n",
    "    cbond_pair_price = cbond_pair_price.loc['2022-03-25 15:00:00':]\n",
    "elif cbond_pair[0] == '113642.SH' and part == 1:\n",
    "    cbond_pair_price = cbond_pair_price.loc['2022-04-07 15:00:00':'2022-06-02 15:00:00']\n",
    "elif cbond_pair[0] == '113642.SH' and part == 2:\n",
    "    cbond_pair_price = cbond_pair_price.loc['2022-06-03 15:00:00':]\n"
   ]
  },
  {
   "cell_type": "markdown",
   "metadata": {},
   "source": [
    "# signal calculate"
   ]
  },
  {
   "cell_type": "code",
   "execution_count": 4,
   "metadata": {},
   "outputs": [
    {
     "data": {
      "text/plain": [
       "0"
      ]
     },
     "execution_count": 4,
     "metadata": {},
     "output_type": "execute_result"
    }
   ],
   "source": [
    "cbond_return = pd.DataFrame([])\n",
    "\n",
    "cbond_preclose = cbond_pair_price.iloc[0,0] # 初始时刻的bond前收盘价\n",
    "stock_preclose = cbond_pair_price.iloc[0,1] # 初始时刻的stock前收盘价\n",
    "\n",
    "for index,row in cbond_pair_price.iterrows():\n",
    "    \n",
    "    cbond_return.loc[index,cbond_pair[0]] = row[cbond_pair[0]]/cbond_preclose - 1 # 算日内的return\n",
    "    cbond_return.loc[index,cbond_pair[1]] = row[cbond_pair[1]]/stock_preclose - 1\n",
    "\n",
    "    if index.time()==time(15,0,0):  #算完日内return，迭代到今日价格的最后一个time bar的时候，将其设为前收盘价\n",
    "        cbond_preclose = row[cbond_pair[0]]    # 日内return指标用 现价/昨日收盘价 计算\n",
    "        stock_preclose = row[cbond_pair[1]]\n",
    "        \n",
    "# 检查df是否有空值\n",
    "cbond_return.isnull().sum(axis=0)  # 按列统计\n",
    "cbond_return.isnull().sum(axis=1) # 按行统计\n",
    "cbond_return.isnull().sum(axis=1).sum() # 统计整张表"
   ]
  },
  {
   "cell_type": "code",
   "execution_count": 5,
   "metadata": {},
   "outputs": [
    {
     "data": {
      "text/plain": [
       "15107"
      ]
     },
     "execution_count": 5,
     "metadata": {},
     "output_type": "execute_result"
    }
   ],
   "source": [
    "pd.set_option('display.max_rows', None)\n",
    "# pair moving trend: diff = cbond reutrn - stock return \n",
    "cbond_return['diff'] = cbond_return[cbond_pair[0]] - cbond_return[cbond_pair[1]]\n",
    "\n",
    "len(cbond_return)"
   ]
  },
  {
   "cell_type": "markdown",
   "metadata": {},
   "source": [
    "# grid search"
   ]
  },
  {
   "cell_type": "code",
   "execution_count": 6,
   "metadata": {},
   "outputs": [],
   "source": [
    "import warnings\n",
    "warnings.filterwarnings(\"ignore\")\n",
    "grid_search_res = {}\n",
    "signal_res = {}\n",
    "trade_res = {}"
   ]
  },
  {
   "cell_type": "code",
   "execution_count": 7,
   "metadata": {},
   "outputs": [
    {
     "name": "stdout",
     "output_type": "stream",
     "text": [
      "0.005@0\n",
      "0.005@0.001\n",
      "0.005@0.002\n",
      "0.005@0.003\n",
      "0.006@0\n",
      "0.006@0.001\n",
      "0.006@0.002\n",
      "0.006@0.003\n",
      "0.007@0\n",
      "0.007@0.001\n",
      "0.007@0.002\n",
      "0.007@0.003\n",
      "0.008@0\n",
      "0.008@0.001\n",
      "0.008@0.002\n",
      "0.008@0.003\n",
      "0.009@0\n",
      "0.009@0.001\n",
      "0.009@0.002\n",
      "0.009@0.003\n",
      "0.01@0\n",
      "0.01@0.001\n",
      "0.01@0.002\n",
      "0.01@0.003\n",
      "0.011@0\n",
      "0.011@0.001\n",
      "0.011@0.002\n",
      "0.011@0.003\n",
      "0.012@0\n",
      "0.012@0.001\n",
      "0.012@0.002\n",
      "0.012@0.003\n",
      "0.013@0\n",
      "0.013@0.001\n",
      "0.013@0.002\n",
      "0.013@0.003\n",
      "0.014@0\n",
      "0.014@0.001\n",
      "0.014@0.002\n",
      "0.014@0.003\n",
      "0.015@0\n",
      "0.015@0.001\n",
      "0.015@0.002\n",
      "0.015@0.003\n"
     ]
    }
   ],
   "source": [
    "open_threshold_list = [0.005,0.006,0.007,0.008,0.009,\n",
    "                        0.01,0.011,0.012,0.013,0.014,0.015,\n",
    "                        # 0.016,0.017,0.018,0.019,0.020,0.021,0.022 # 0.005 ~ 0.01 ~ 0.015 间隔是0.001\n",
    "                        ]\n",
    "\n",
    "close_threshold_list = [0,0.001,0.002,0.003] #  0 ~ 0.001 ~ 0.002 ~ 0.003\n",
    "for open_threshold in open_threshold_list:\n",
    "    for close_threshold in close_threshold_list:\n",
    "        ############################################################################################################################################\n",
    "        # open_threshold = 0.005  # 0.005 ~ 0.01 ~ 0.015 间隔是0.001\n",
    "        # open_threshold = 0.008\n",
    "        # close_threshold = 0.001 #  0 ~ 0.001 ~ 0.002 ~ 0.003\n",
    "        pos_open_flag = 0\n",
    "        neg_open_flag = 0\n",
    "        cbond_position = pd.DataFrame([])\n",
    "        cbond_position.index = cbond_return.index\n",
    "        for index,row in cbond_return.iterrows():\n",
    "\n",
    "            if row['diff'] >= open_threshold and pos_open_flag==0 and neg_open_flag==0:\n",
    "                #diff落在A区间，且无仓位，正开\n",
    "                pos_open_flag = 1\n",
    "                neg_open_flag = 0\n",
    "                cbond_position.loc[index,cbond_pair[0]] = -1*pos_open_flag\n",
    "                cbond_position.loc[index,cbond_pair[1]] = pos_open_flag\n",
    "            elif row['diff'] >= open_threshold and pos_open_flag==0 and neg_open_flag==1:\n",
    "                #diff落在A区间，且有负仓，平仓再正开\n",
    "                pos_open_flag=1\n",
    "                neg_open_flag=0\n",
    "                cbond_position.loc[index,cbond_pair[0]] = -1*pos_open_flag\n",
    "                cbond_position.loc[index,cbond_pair[1]] = pos_open_flag\n",
    "            elif row['diff'] >= open_threshold and pos_open_flag==1 and neg_open_flag==0:\n",
    "                #diff落在A区间，且有正仓，keep\n",
    "                pos_open_flag=1\n",
    "                neg_open_flag=0\n",
    "                cbond_position.loc[index,cbond_pair[0]] = -1*pos_open_flag\n",
    "                cbond_position.loc[index,cbond_pair[1]] = pos_open_flag\n",
    "\n",
    "            if row['diff'] > close_threshold and row['diff'] < open_threshold and pos_open_flag==1 and neg_open_flag==0:\n",
    "                #diff 落在B区间，且有正仓，keep\n",
    "                pos_open_flag=1\n",
    "                neg_open_flag=0\n",
    "                cbond_position.loc[index,cbond_pair[0]] = -1*pos_open_flag\n",
    "                cbond_position.loc[index,cbond_pair[1]] = pos_open_flag\n",
    "            elif row['diff'] > close_threshold and row['diff'] < open_threshold and pos_open_flag==0 and neg_open_flag==1:\n",
    "                #diff 落在B区间，且有负仓，平仓\n",
    "                pos_open_flag=0\n",
    "                neg_open_flag=0\n",
    "                cbond_position.loc[index,cbond_pair[0]] = neg_open_flag\n",
    "                cbond_position.loc[index,cbond_pair[1]] = neg_open_flag\n",
    "            elif row['diff'] > close_threshold and row['diff'] < open_threshold and pos_open_flag==0 and neg_open_flag==0:\n",
    "                #diff 落在B区间，且无仓，keep\n",
    "                pos_open_flag=0\n",
    "                neg_open_flag=0\n",
    "                cbond_position.loc[index,cbond_pair[0]] = neg_open_flag\n",
    "                cbond_position.loc[index,cbond_pair[1]] = neg_open_flag\n",
    "            \n",
    "            if row['diff'] >= -1*close_threshold and row['diff'] <= close_threshold and pos_open_flag==1 and neg_open_flag==0:\n",
    "                #diff 落在C区间，且有正仓，平仓\n",
    "                pos_open_flag=0\n",
    "                neg_open_flag=0\n",
    "                cbond_position.loc[index,cbond_pair[0]] = pos_open_flag\n",
    "                cbond_position.loc[index,cbond_pair[1]] = pos_open_flag\n",
    "            elif row['diff'] >= -1*close_threshold and row['diff'] <= close_threshold and pos_open_flag==0 and neg_open_flag==1:\n",
    "                #diff 落在C区间，且有负仓，平仓\n",
    "                pos_open_flag=0\n",
    "                neg_open_flag=0\n",
    "                cbond_position.loc[index,cbond_pair[0]] = neg_open_flag\n",
    "                cbond_position.loc[index,cbond_pair[1]] = neg_open_flag\n",
    "            elif row['diff'] >= -1*close_threshold and row['diff'] <= close_threshold and pos_open_flag==0 and neg_open_flag==0:\n",
    "                #diff 落在C区间，且无仓位，keep\n",
    "                pos_open_flag=0\n",
    "                neg_open_flag=0\n",
    "                cbond_position.loc[index,cbond_pair[0]] = neg_open_flag\n",
    "                cbond_position.loc[index,cbond_pair[1]] = neg_open_flag\n",
    "            \n",
    "            if row['diff'] > -1*open_threshold and row['diff'] < -1*close_threshold and pos_open_flag==0 and neg_open_flag==1:\n",
    "                #diff 落在D区间，且有负仓，keep\n",
    "                pos_open_flag=0\n",
    "                neg_open_flag=1\n",
    "                cbond_position.loc[index,cbond_pair[0]] = neg_open_flag\n",
    "                cbond_position.loc[index,cbond_pair[1]] = -1*neg_open_flag\n",
    "\n",
    "            elif row['diff'] > -1*open_threshold and row['diff'] < -1*close_threshold and pos_open_flag==1 and neg_open_flag==0:\n",
    "                #diff 落在D区间，且有正仓，平仓\n",
    "                pos_open_flag=0\n",
    "                neg_open_flag=0\n",
    "                cbond_position.loc[index,cbond_pair[0]] = pos_open_flag\n",
    "                cbond_position.loc[index,cbond_pair[1]] = pos_open_flag\n",
    "            elif row['diff'] > -1*open_threshold and row['diff'] < -1*close_threshold and pos_open_flag==0 and neg_open_flag==0:\n",
    "                #diff 落在D区间，且无仓位，keep\n",
    "                pos_open_flag=0\n",
    "                neg_open_flag=0\n",
    "                cbond_position.loc[index,cbond_pair[0]] = pos_open_flag\n",
    "                cbond_position.loc[index,cbond_pair[1]] = pos_open_flag\n",
    "\n",
    "            if row['diff'] <= -1*open_threshold and pos_open_flag==0 and neg_open_flag==0:\n",
    "                #diff 落在E区间，且无仓位，反开\n",
    "                pos_open_flag=0\n",
    "                neg_open_flag=1\n",
    "                cbond_position.loc[index,cbond_pair[0]] = neg_open_flag\n",
    "                cbond_position.loc[index,cbond_pair[1]] = -1*neg_open_flag\n",
    "            elif row['diff'] <= -1*open_threshold and pos_open_flag==1 and neg_open_flag==0:\n",
    "                #diff 落在E区间，且有正仓，平仓反开\n",
    "                pos_open_flag=0\n",
    "                neg_open_flag=1\n",
    "                cbond_position.loc[index,cbond_pair[0]] = neg_open_flag\n",
    "                cbond_position.loc[index,cbond_pair[1]] = -1*neg_open_flag\n",
    "            elif row['diff'] <= -1*open_threshold and pos_open_flag==0 and neg_open_flag==1:\n",
    "                #diff 落在E区间，且有负仓，keep\n",
    "                pos_open_flag=0\n",
    "                neg_open_flag=1\n",
    "                cbond_position.loc[index,cbond_pair[0]] = neg_open_flag\n",
    "                cbond_position.loc[index,cbond_pair[1]] = -1*neg_open_flag\n",
    "\n",
    "            if index.time()==time(15,0,0): # 每日收盘时必须平仓（时间止损信号）\n",
    "                pos_open_flag=0\n",
    "                neg_open_flag=0\n",
    "                cbond_position.loc[index,cbond_pair[0]] = pos_open_flag\n",
    "                cbond_position.loc[index,cbond_pair[1]] = pos_open_flag\n",
    "\n",
    "        ############################################################################################################################################\n",
    "\n",
    "        df_signal = pd.concat([cbond_pair_price,cbond_return,cbond_position],axis=1)\n",
    "        df_signal.columns = ['bond_price','stock_price','bond_rtn','stock_rtn','diff','bond_pos','stock_pos']\n",
    "        # df_signal\n",
    "        ############################################################################################################################################\n",
    "        # backtest\n",
    "        # 用来记录交易流水的表格,一边遍历df_signal，一边填入内容到流水表格里\n",
    "\n",
    "        import numpy as np\n",
    "        cols = ['balance','signal','bond price','stock price','bond hold','stock hold','commission','tax','reverse open','diff','asset value']\n",
    "        df_trade = pd.DataFrame(\n",
    "            data = [[0,np.nan,np.nan,np.nan,0,0,0,0,np.nan,np.nan,0]],\n",
    "            columns=cols\n",
    "            ) \n",
    "\n",
    "        balance_last = 0 # 现金账户初始余额\n",
    "\n",
    "        bond_hold = 0 # 债券持有数量\n",
    "        stock_hold = 0 # 股票持有数量\n",
    "\n",
    "        commission_rate = 2/10000 # 佣金买卖万二\n",
    "        tax_rate = 1/1000 #\n",
    "\n",
    "\n",
    "\n",
    "\n",
    "        for i in range(len(df_signal)-1):\n",
    "            if df_signal.values[i][-1] != df_signal.values[i+1][-1]:\n",
    "                index = df_signal.index[i+1]\n",
    "                diff = df_signal.values[i+1][-3] #diff在df_signal中的倒数第三列\n",
    "            # df_signal的columns\n",
    "            # ['bond_price','stock_price','bond_rtn','stock_rtn','diff','bond_pos','stock_pos']\n",
    "                signal = str(int(df_signal.values[i+1][-2]))+str(int(df_signal.values[i+1][-1]))\n",
    "                \n",
    "                bond_price = df_signal.values[i+1][0] \n",
    "\n",
    "                stock_price = df_signal.values[i+1][1]\n",
    "\n",
    "                commission = (bond_price + stock_price * stock_volume) * commission_rate\n",
    "\n",
    "                reverse_open = False #表明这笔交易，是否包含平仓后再反向开仓的操作\n",
    "\n",
    "                if signal == '00' and stock_hold == stock_volume: #有股票持仓并且需要卖出平仓时，有印花税\n",
    "                    tax = stock_price * tax_rate * stock_volume\n",
    "                else:\n",
    "                    tax = 0\n",
    "\n",
    "                if signal == '00':\n",
    "                    balance_last += bond_hold*bond_price\n",
    "                    balance_last += stock_hold*stock_price\n",
    "                    \n",
    "                    bond_hold = 0\n",
    "                    stock_hold = 0\n",
    "                    \n",
    "\n",
    "                if signal == '1-1':\n",
    "                    '''\n",
    "                    加一个检测之前持仓的模块,如果之前因为-11的信号有持仓,需要先平掉(即买债卖股票),同时再反向开仓\n",
    "                    '''\n",
    "                    reverse_flag = False\n",
    "                    if bond_hold == -1 and stock_hold == 1*stock_volume:\n",
    "                        bond_hold = 0\n",
    "                        stock_hold = 0\n",
    "                        balance_last -= bond_price \n",
    "                        balance_last += stock_price * stock_volume\n",
    "                        commission *= 2 # 因为平掉之后再反向开仓，手续费double\n",
    "                        tax = stock_price * tax_rate * stock_volume # 卖股票要收印花税\n",
    "                        reverse_flag = True\n",
    "                        reverse_open = True\n",
    "\n",
    "                    bond_hold += 1\n",
    "                    stock_hold += (-1 * stock_volume)\n",
    "                    # stock_hold += stock_volume\n",
    "                    balance_last -= bond_price\n",
    "                    balance_last += stock_price * stock_volume\n",
    "                    \n",
    "                    if reverse_flag:\n",
    "                        tax *= 2 #平仓然后反向开仓的时候 已经计算过tax了，直接double\n",
    "                    else:\n",
    "                        tax = stock_price * tax_rate * stock_volume # 卖股票要收印花税\n",
    "\n",
    "                if signal == '-11':\n",
    "                    '''\n",
    "                    加一个检测之前持仓的模块,如果之前因为1-1的信号有持仓,需要先平掉(卖债买股票),同时再反向开仓\n",
    "                    '''\n",
    "                    if bond_hold == 1 and stock_hold == -1*stock_volume:\n",
    "                        bond_hold = 0\n",
    "                        stock_hold = 0\n",
    "                        balance_last += bond_price\n",
    "                        balance_last -= stock_price * stock_volume\n",
    "                        commission *= 2 # 因为平掉之后再反向开仓，手续费double\n",
    "                                        # 买股票无印花税\n",
    "                        reverse_open = True\n",
    "                    bond_hold += -1\n",
    "                    stock_hold += (1 * stock_volume)\n",
    "                    # stock_hold += stock_volume\n",
    "                    balance_last += bond_price\n",
    "                    balance_last -= stock_price * stock_volume\n",
    "                \n",
    "                balance_last = balance_last - commission - tax\n",
    "                balance = balance_last\n",
    "                asset_value = bond_price*bond_hold + stock_price*stock_hold\n",
    "                line = [balance,signal,bond_price,stock_price,bond_hold,stock_hold,commission,tax,reverse_open,diff,asset_value]\n",
    "                # df_trade.loc[index,['balance','asset','signal','bond price','stock price','commission','tax']] = line\n",
    "                # df_trade.loc[index,cols] = [0,0,np.nan,np.nan,np.nan,0,0,0,0]\n",
    "                df_trade.loc[index,cols] = line\n",
    "        df_trade.rename(columns={'balance':'cash'},inplace=True)    \n",
    "        ############################################################################################################################################\n",
    "        # 错误的net value计算方法\n",
    "        # df_trade['net value'] = df_trade['balance'] + \\\n",
    "        #                         df_trade['bond price']*df_trade['bond hold'] + \\\n",
    "        #                         df_trade['stock price']*df_trade['stock hold'] - \\\n",
    "        #                         df_trade['commission'] - \\\n",
    "        #                         df_trade['tax']\n",
    "        # 正确的net value计算方法\n",
    "        # df_trade['net value'] = df_trade['balance'] + df_trade['asset value']\n",
    "        df_trade['net value'] = df_trade['cash'] + df_trade['asset value']\n",
    "        ############################################################################################################################################\n",
    "        #把交易序列单个时间节点的扩展到整个序列\n",
    "        # assert False\n",
    "        df_nv = df_trade[['net value']].iloc[1:]\n",
    "        df_nv['time'] = df_nv.index\n",
    "        df_tmp = df_signal[['diff']]\n",
    "        df_tmp['time'] = df_tmp.index\n",
    "        #  merge之后再前向往后fillna\n",
    "        df_nv_full =  pd.merge(df_nv,df_tmp,how='outer').sort_values(by='time').fillna(method='ffill').fillna(0)\n",
    "        df_nv_full.index = df_tmp.index\n",
    "        df_nv_full = df_nv_full[['net value']]\n",
    "\n",
    "        ############################################################################################################################################\n",
    "        df_trade_2 = df_trade.copy(deep=True)\n",
    "        df_trade_2 = df_trade_2.iloc[1:,:] #删掉df_trade原来构建时带有的空行\n",
    "        rounds = [] #只包含单个来回，每2条交易记录组成一个来回的组\n",
    "        reverse_rounds = [] # 包含多个来回，信号之间包含平仓同时反向开仓的组\n",
    "        # for i in range(len(df_trade)-1,0,-1):\n",
    "        for i in range(len(df_trade)-1,-1,-1):\n",
    "            if df_trade_2.iloc[i-1,:]['signal'] == '00':\n",
    "                round = df_trade_2.iloc[i:,:]\n",
    "                if len(round)>2:\n",
    "                    reverse_rounds.append(round)\n",
    "                elif len(round)==2:\n",
    "                    rounds.append(round)\n",
    "                df_trade_2 = df_trade_2.iloc[:i]\n",
    "        ############################################################################################################################################\n",
    "        #检查切片是否完全\n",
    "        clips_length = 0\n",
    "        for tmp_round in rounds:\n",
    "            clips_length += len(tmp_round)\n",
    "        for tmp_round in reverse_rounds:\n",
    "            clips_length += len(tmp_round)\n",
    "\n",
    "        ############################################################################################################################################\n",
    "        num_round = len(rounds)\n",
    "        for i in reverse_rounds:\n",
    "            num_round += len(i)-1\n",
    "\n",
    "        ############################################################################################################################################\n",
    "        # normal round stat\n",
    "        return_in_rounds = []\n",
    "        win = 0\n",
    "        lose = 0\n",
    "        win_profit = 0\n",
    "        lose_profit = 0\n",
    "        for i in rounds:\n",
    "            \n",
    "            tmp_profit = (i['net value'] - i['net value'].shift(1)).values[-1]\n",
    "            single_round_cost = (i['bond price'].sum() + (i['stock price']*stock_volume).sum())/4\n",
    "            \n",
    "            return_in_round = tmp_profit/single_round_cost\n",
    "            return_in_rounds.append(return_in_round)\n",
    "            \n",
    "            \n",
    "            if tmp_profit>0:\n",
    "                win += 1\n",
    "                win_profit += tmp_profit\n",
    "            else:\n",
    "                lose += 1\n",
    "                lose_profit += tmp_profit\n",
    "\n",
    "        ############################################################################################################################################\n",
    "        ''' \n",
    "        先把连续反向开仓的信号拆开\n",
    "        e.g.  1-1 -11 00 ---> 1-1 00 -11 00\n",
    "        '''\n",
    "\n",
    "        reverse_rounds_reconstruct = []\n",
    "        for reverse_round in reverse_rounds:\n",
    "            reverse_rounds0_reconstruct = []\n",
    "            for i in range(0,len(reverse_round)-1): #4-2\n",
    "\n",
    "                # tmp_cols = reverse_rounds[0].columns\n",
    "                # tmp_index = reverse_rounds[0].iloc[i,:].reset_index()\n",
    "                m = reverse_round.iloc[i,:].tolist()\n",
    "                n = reverse_round.iloc[i+1,:].tolist()\n",
    "                # reverse_rounds0_reconstruct.append(m)\n",
    "                tmp_balance = m[0] + n[2]*m[4] + n[3]*m[5] \n",
    "                tmp_commission = n[6]/2\n",
    "                tmp_tax = n[7]/2\n",
    "                tmp_nv =  tmp_balance - tmp_commission - tmp_tax\n",
    "                \n",
    "                insert_line  = [tmp_balance,'00',np.nan,np.nan,0,0,tmp_commission,tmp_tax,'-',tmp_nv]\n",
    "                reverse_rounds0_reconstruct.append(m)\n",
    "                reverse_rounds0_reconstruct.append(insert_line)\n",
    "            # reverse_rounds0_reconstruct.append(n)    \n",
    "            tmp_cols = reverse_round.columns\n",
    "            reverse_rounds0_reconstruct[-1] = reverse_round.iloc[-1,:].tolist()\n",
    "            tmp_round = pd.DataFrame(reverse_rounds0_reconstruct[:],columns=tmp_cols)\n",
    "            tmp_round\n",
    "            for index,row in tmp_round.iterrows():\n",
    "                if row['reverse open'] == True:\n",
    "                    tmp_round.loc[index,['commission','tax']] = tmp_round.loc[index,['commission','tax']]/2\n",
    "            tmp_round = tmp_round.fillna(method = 'bfill')\n",
    "            \n",
    "            # print(tmp_round)\n",
    "            # tmp_round['new nv'] = tmp_round['balance'] + tmp_round['bond price']*tmp_round['bond hold'] + tmp_round['stock price']*tmp_round['stock hold'] - tmp_round['commission'] - tmp_round['tax']\n",
    "            for i in range(len(tmp_round)-2): #把拆分出来的虚拟平仓的balance赋值为nv，因为没持仓时，cash应该要等于nv\n",
    "                if tmp_round.iloc[i,:]['signal'] == '00':\n",
    "\n",
    "                    tmp_round_new_nv = tmp_round.iloc[i,:]['cash'] + tmp_round.iloc[i,:]['bond price']*tmp_round.iloc[i,:]['bond hold'] + \\\n",
    "                        tmp_round.iloc[i,:]['stock price']*tmp_round.iloc[i,:]['stock hold'] - tmp_round.iloc[i,:]['commission'] - tmp_round.iloc[i,:]['tax']\n",
    "\n",
    "                    tmp_round.iloc[i,11] = tmp_round_new_nv #  net value赋值为new nv  拆出来的虚拟平仓单计算出来的新值\n",
    "                    tmp_round.iloc[i,0] = tmp_round_new_nv #balance赋值为new nv\n",
    "                    tmp_round.iloc[i,9] = tmp_round.iloc[i+1,9] # diff要等于下一行的diff\n",
    "                    tmp_round.iloc[i,10] = 0 # asset_value要等于0\n",
    "            \n",
    "            reverse_rounds_reconstruct.append(tmp_round)\n",
    "\n",
    "        reverse_rounds_detail = []\n",
    "        for reverse_round in reverse_rounds_reconstruct:\n",
    "            # print(len(reverse_round))\n",
    "            for i in range(0,len(reverse_round)-1,2):\n",
    "                df_tmp = reverse_round.iloc[i:i+2,:]\n",
    "                reverse_rounds_detail.append(df_tmp)\n",
    "\n",
    "        ##########################################################################################################################################\n",
    "        # reverse round stat\n",
    "        # return_in_rounds = []\n",
    "        # win = 0\n",
    "        # lose = 0\n",
    "        # win_profit = 0\n",
    "        # lose_profit = 0\n",
    "        for i in reverse_rounds_detail:\n",
    "            \n",
    "            # tmp_profit = (i['new nv'] - i['new nv'].shift(1)).values[-1]\n",
    "            tmp_profit = (i['net value'] - i['net value'].shift(1)).values[-1]\n",
    "            single_round_cost = (i['bond price'].sum() + (i['stock price']*stock_volume).sum())/4\n",
    "            \n",
    "            return_in_round = tmp_profit/single_round_cost\n",
    "            return_in_rounds.append(return_in_round)\n",
    "            \n",
    "            \n",
    "            if tmp_profit>0:\n",
    "                win += 1\n",
    "                win_profit += tmp_profit\n",
    "            else:\n",
    "                lose += 1\n",
    "                lose_profit += tmp_profit\n",
    "\n",
    "        ############################################################################################################################################\n",
    "        # close by time&signal stat\n",
    "        close_by_time = 0\n",
    "        close_by_time_win = 0\n",
    "        close_by_time_lose = 0\n",
    "\n",
    "        close_by_signal = 0\n",
    "        close_by_signal_win = 0\n",
    "        close_by_signal_lose = 0\n",
    "\n",
    "        for tmp_round in rounds:\n",
    "            tmp_profit = tmp_round['net value'].tolist()[1] - tmp_round['net value'].tolist()[0]\n",
    "            if tmp_round.index[1].time() == time(15,0,0):\n",
    "                close_by_time += 1\n",
    "                if tmp_profit > 0:\n",
    "                    close_by_time_win += 1\n",
    "                else:\n",
    "                    close_by_time_lose += 1\n",
    "            else:\n",
    "                close_by_signal += 1\n",
    "                if tmp_profit > 0:\n",
    "                    close_by_signal_win += 1\n",
    "                else:\n",
    "                    close_by_signal_lose += 1\n",
    "\n",
    "\n",
    "        ############################################################################################################################################\n",
    "\n",
    "        for tmp_round in reverse_rounds_detail: #统计reverse_rounds_detail的时候，所有round都当做是close by signal的\n",
    "            # tmp_profit = tmp_round['new nv'].tolist()[1] - tmp_round['new nv'].tolist()[0]  \n",
    "            tmp_profit = tmp_round['net value'].tolist()[1] - tmp_round['net value'].tolist()[0]  \n",
    "            close_by_signal += 1\n",
    "            if tmp_profit > 0:\n",
    "                close_by_signal_win += 1\n",
    "            else:\n",
    "                close_by_signal_lose += 1\n",
    "\n",
    "        for i in range(len(reverse_rounds)-1):\n",
    "            if reverse_rounds[i].index[-1].time()==time(15,0,0):\n",
    "                close_by_time += 1\n",
    "                close_by_signal -= 1\n",
    "                # tmp_profit = reverse_rounds_reconstruct[i]['new nv'].tolist()[-1] - reverse_rounds_reconstruct[i]['new nv'].tolist()[-2]\n",
    "                tmp_profit = reverse_rounds_reconstruct[i]['net value'].tolist()[-1] - reverse_rounds_reconstruct[i]['net value'].tolist()[-2]\n",
    "                if tmp_profit > 0:\n",
    "                    close_by_time_win += 1\n",
    "                    close_by_signal_win -= 1\n",
    "                else:\n",
    "                    close_by_time_lose += 1\n",
    "                    close_by_signal_lose -= 1      \n",
    "\n",
    "\n",
    "        ############################################################################################################################################\n",
    "        # final performance\n",
    "        win_rate = win/(win+lose)\n",
    "        win_profit_avg = win_profit/win\n",
    "        lose_profit_avg = lose_profit/lose\n",
    "        profit_ratio = win_profit_avg/abs(lose_profit_avg)\n",
    "\n",
    "        total_round = win + lose \n",
    "\n",
    "        trade_days = len(df_nv_full.resample('D').last().dropna()) -1 \n",
    "        round_per_day = total_round/trade_days\n",
    "        return_per_round = sum(return_in_rounds)/len(return_in_rounds)\n",
    "\n",
    "\n",
    "        ############################################################################################################################################\n",
    "        df_res = pd.DataFrame(data = [[np.nan]*20],\n",
    "            columns=['cbond pair','convert price','win','lose','win profit','lose profit',\n",
    "            'sum of win&lose profit','final net value','win rate',\n",
    "            'profit ratio','trade days','total round','avg round in a day','return per round',\n",
    "            'close by time','close by time win','close by time lose',\n",
    "            'close by signal','close by signal win','close by signal lose'])\n",
    "\n",
    "        tmp_idx = str(df_trade.index[1]) + ' -> ' + str(df_trade.index[-1])\n",
    "        tmp_line = [cbond_pair,convert_price,win,lose,win_profit,lose_profit,\n",
    "                    win_profit+lose_profit,df_trade['net value'].values[-1],win_rate,\n",
    "                    profit_ratio,trade_days,total_round,round_per_day,return_per_round,\n",
    "                    close_by_time,close_by_time_win,close_by_time_lose,\n",
    "                    close_by_signal,close_by_signal_win,close_by_signal_lose]\n",
    "\n",
    "        df_res.loc[tmp_idx,df_res.columns] = tmp_line\n",
    "        df_res = df_res.dropna()\n",
    "        df_res\n",
    "        ############################################################################################################################################\n",
    "        # df_res = pd.DataFrame(data = [[np.nan]*20],\n",
    "        #     columns=['cbond pair','convert price','win','lose','win profit','lose profit',\n",
    "        #     'sum of win&lose profit','final net value','win rate',\n",
    "        #     'profit ratio','trade days','total round','avg round in a day','return per round',\n",
    "        #     'close by time','close by time win','close by time lose',\n",
    "        #     'close by signal','close by signal win','close by signal lose'])\n",
    "\n",
    "        # tmp_idx = str(df_trade.index[1]) + ' -> ' + str(df_trade.index[-1])\n",
    "        # tmp_line = [cbond_pair,convert_price,win,lose,win_profit,lose_profit,\n",
    "        #             win_profit+lose_profit,df_trade['net value'].values[-1],win_rate,\n",
    "        #             profit_ratio,trade_days,total_round,round_per_day,return_per_round,\n",
    "        #             close_by_time,close_by_time_win,close_by_time_lose,\n",
    "        #             close_by_signal,close_by_signal_win,close_by_signal_lose]\n",
    "\n",
    "        # df_res.loc[tmp_idx,df_res.columns] = tmp_line\n",
    "        # df_res = df_res.dropna()\n",
    "        df_res['open threshold'] = open_threshold\n",
    "        df_res['close threshold'] = close_threshold\n",
    "\n",
    "        tmp_key = str(open_threshold) +'@'+ str(close_threshold)\n",
    "        grid_search_res[tmp_key] = df_res\n",
    "        signal_res[tmp_key] = df_signal \n",
    "        trade_res[tmp_key] = df_trade\n",
    "        print(tmp_key)"
   ]
  },
  {
   "cell_type": "code",
   "execution_count": 8,
   "metadata": {},
   "outputs": [],
   "source": [
    "# print(len(rounds))\n",
    "# print(len(df_trade))\n",
    "# rounds[0]"
   ]
  },
  {
   "cell_type": "code",
   "execution_count": 9,
   "metadata": {},
   "outputs": [],
   "source": [
    "# df_trade"
   ]
  },
  {
   "cell_type": "code",
   "execution_count": 10,
   "metadata": {},
   "outputs": [],
   "source": [
    "df_grid_search_res =  pd.concat(list(grid_search_res.values()),axis=0)"
   ]
  },
  {
   "cell_type": "code",
   "execution_count": 11,
   "metadata": {},
   "outputs": [
    {
     "data": {
      "text/plain": [
       "Index(['cbond pair', 'convert price', 'win', 'lose', 'win profit',\n",
       "       'lose profit', 'sum of win&lose profit', 'final net value', 'win rate',\n",
       "       'profit ratio', 'trade days', 'total round', 'avg round in a day',\n",
       "       'return per round', 'close by time', 'close by time win',\n",
       "       'close by time lose', 'close by signal', 'close by signal win',\n",
       "       'close by signal lose', 'open threshold', 'close threshold'],\n",
       "      dtype='object')"
      ]
     },
     "execution_count": 11,
     "metadata": {},
     "output_type": "execute_result"
    }
   ],
   "source": [
    "df_grid_search_res.columns"
   ]
  },
  {
   "cell_type": "code",
   "execution_count": 12,
   "metadata": {},
   "outputs": [
    {
     "data": {
      "text/html": [
       "<div>\n",
       "<style scoped>\n",
       "    .dataframe tbody tr th:only-of-type {\n",
       "        vertical-align: middle;\n",
       "    }\n",
       "\n",
       "    .dataframe tbody tr th {\n",
       "        vertical-align: top;\n",
       "    }\n",
       "\n",
       "    .dataframe thead th {\n",
       "        text-align: right;\n",
       "    }\n",
       "</style>\n",
       "<table border=\"1\" class=\"dataframe\">\n",
       "  <thead>\n",
       "    <tr style=\"text-align: right;\">\n",
       "      <th></th>\n",
       "      <th>win</th>\n",
       "      <th>lose</th>\n",
       "      <th>total round</th>\n",
       "      <th>close by time</th>\n",
       "      <th>close by signal</th>\n",
       "      <th>close by time win</th>\n",
       "      <th>close by time lose</th>\n",
       "      <th>close by signal win</th>\n",
       "      <th>close by signal lose</th>\n",
       "      <th>open threshold</th>\n",
       "      <th>close threshold</th>\n",
       "    </tr>\n",
       "  </thead>\n",
       "  <tbody>\n",
       "    <tr>\n",
       "      <th>2021-12-14 09:30:00 -&gt; 2022-03-23 15:00:00</th>\n",
       "      <td>179.0</td>\n",
       "      <td>47.0</td>\n",
       "      <td>226.0</td>\n",
       "      <td>57.0</td>\n",
       "      <td>169.0</td>\n",
       "      <td>11.0</td>\n",
       "      <td>46.0</td>\n",
       "      <td>168.0</td>\n",
       "      <td>1.0</td>\n",
       "      <td>0.005</td>\n",
       "      <td>0.000</td>\n",
       "    </tr>\n",
       "    <tr>\n",
       "      <th>2021-12-14 09:30:00 -&gt; 2022-03-23 15:00:00</th>\n",
       "      <td>207.0</td>\n",
       "      <td>48.0</td>\n",
       "      <td>255.0</td>\n",
       "      <td>56.0</td>\n",
       "      <td>199.0</td>\n",
       "      <td>10.0</td>\n",
       "      <td>46.0</td>\n",
       "      <td>197.0</td>\n",
       "      <td>2.0</td>\n",
       "      <td>0.005</td>\n",
       "      <td>0.001</td>\n",
       "    </tr>\n",
       "    <tr>\n",
       "      <th>2021-12-14 09:30:00 -&gt; 2022-03-23 15:00:00</th>\n",
       "      <td>262.0</td>\n",
       "      <td>49.0</td>\n",
       "      <td>311.0</td>\n",
       "      <td>56.0</td>\n",
       "      <td>255.0</td>\n",
       "      <td>9.0</td>\n",
       "      <td>47.0</td>\n",
       "      <td>253.0</td>\n",
       "      <td>2.0</td>\n",
       "      <td>0.005</td>\n",
       "      <td>0.002</td>\n",
       "    </tr>\n",
       "    <tr>\n",
       "      <th>2021-12-14 09:30:00 -&gt; 2022-03-23 15:00:00</th>\n",
       "      <td>329.0</td>\n",
       "      <td>49.0</td>\n",
       "      <td>378.0</td>\n",
       "      <td>53.0</td>\n",
       "      <td>325.0</td>\n",
       "      <td>7.0</td>\n",
       "      <td>46.0</td>\n",
       "      <td>322.0</td>\n",
       "      <td>3.0</td>\n",
       "      <td>0.005</td>\n",
       "      <td>0.003</td>\n",
       "    </tr>\n",
       "    <tr>\n",
       "      <th>2021-12-14 09:32:00 -&gt; 2022-03-23 15:00:00</th>\n",
       "      <td>148.0</td>\n",
       "      <td>41.0</td>\n",
       "      <td>189.0</td>\n",
       "      <td>55.0</td>\n",
       "      <td>134.0</td>\n",
       "      <td>15.0</td>\n",
       "      <td>40.0</td>\n",
       "      <td>133.0</td>\n",
       "      <td>1.0</td>\n",
       "      <td>0.006</td>\n",
       "      <td>0.000</td>\n",
       "    </tr>\n",
       "    <tr>\n",
       "      <th>2021-12-14 09:32:00 -&gt; 2022-03-23 15:00:00</th>\n",
       "      <td>165.0</td>\n",
       "      <td>42.0</td>\n",
       "      <td>207.0</td>\n",
       "      <td>53.0</td>\n",
       "      <td>154.0</td>\n",
       "      <td>13.0</td>\n",
       "      <td>40.0</td>\n",
       "      <td>152.0</td>\n",
       "      <td>2.0</td>\n",
       "      <td>0.006</td>\n",
       "      <td>0.001</td>\n",
       "    </tr>\n",
       "    <tr>\n",
       "      <th>2021-12-14 09:32:00 -&gt; 2022-03-23 15:00:00</th>\n",
       "      <td>196.0</td>\n",
       "      <td>44.0</td>\n",
       "      <td>240.0</td>\n",
       "      <td>53.0</td>\n",
       "      <td>187.0</td>\n",
       "      <td>11.0</td>\n",
       "      <td>42.0</td>\n",
       "      <td>185.0</td>\n",
       "      <td>2.0</td>\n",
       "      <td>0.006</td>\n",
       "      <td>0.002</td>\n",
       "    </tr>\n",
       "    <tr>\n",
       "      <th>2021-12-14 09:32:00 -&gt; 2022-03-23 15:00:00</th>\n",
       "      <td>235.0</td>\n",
       "      <td>44.0</td>\n",
       "      <td>279.0</td>\n",
       "      <td>50.0</td>\n",
       "      <td>229.0</td>\n",
       "      <td>8.0</td>\n",
       "      <td>42.0</td>\n",
       "      <td>227.0</td>\n",
       "      <td>2.0</td>\n",
       "      <td>0.006</td>\n",
       "      <td>0.003</td>\n",
       "    </tr>\n",
       "    <tr>\n",
       "      <th>2021-12-14 10:33:00 -&gt; 2022-03-23 15:00:00</th>\n",
       "      <td>107.0</td>\n",
       "      <td>41.0</td>\n",
       "      <td>148.0</td>\n",
       "      <td>52.0</td>\n",
       "      <td>96.0</td>\n",
       "      <td>12.0</td>\n",
       "      <td>40.0</td>\n",
       "      <td>95.0</td>\n",
       "      <td>1.0</td>\n",
       "      <td>0.007</td>\n",
       "      <td>0.000</td>\n",
       "    </tr>\n",
       "    <tr>\n",
       "      <th>2021-12-14 10:33:00 -&gt; 2022-03-23 15:00:00</th>\n",
       "      <td>119.0</td>\n",
       "      <td>42.0</td>\n",
       "      <td>161.0</td>\n",
       "      <td>50.0</td>\n",
       "      <td>111.0</td>\n",
       "      <td>10.0</td>\n",
       "      <td>40.0</td>\n",
       "      <td>109.0</td>\n",
       "      <td>2.0</td>\n",
       "      <td>0.007</td>\n",
       "      <td>0.001</td>\n",
       "    </tr>\n",
       "    <tr>\n",
       "      <th>2021-12-14 10:33:00 -&gt; 2022-03-23 15:00:00</th>\n",
       "      <td>135.0</td>\n",
       "      <td>41.0</td>\n",
       "      <td>176.0</td>\n",
       "      <td>49.0</td>\n",
       "      <td>127.0</td>\n",
       "      <td>10.0</td>\n",
       "      <td>39.0</td>\n",
       "      <td>125.0</td>\n",
       "      <td>2.0</td>\n",
       "      <td>0.007</td>\n",
       "      <td>0.002</td>\n",
       "    </tr>\n",
       "    <tr>\n",
       "      <th>2021-12-14 10:33:00 -&gt; 2022-03-23 15:00:00</th>\n",
       "      <td>159.0</td>\n",
       "      <td>40.0</td>\n",
       "      <td>199.0</td>\n",
       "      <td>48.0</td>\n",
       "      <td>151.0</td>\n",
       "      <td>10.0</td>\n",
       "      <td>38.0</td>\n",
       "      <td>149.0</td>\n",
       "      <td>2.0</td>\n",
       "      <td>0.007</td>\n",
       "      <td>0.003</td>\n",
       "    </tr>\n",
       "    <tr>\n",
       "      <th>2021-12-14 10:34:00 -&gt; 2022-03-23 15:00:00</th>\n",
       "      <td>87.0</td>\n",
       "      <td>40.0</td>\n",
       "      <td>127.0</td>\n",
       "      <td>50.0</td>\n",
       "      <td>77.0</td>\n",
       "      <td>10.0</td>\n",
       "      <td>40.0</td>\n",
       "      <td>77.0</td>\n",
       "      <td>0.0</td>\n",
       "      <td>0.008</td>\n",
       "      <td>0.000</td>\n",
       "    </tr>\n",
       "    <tr>\n",
       "      <th>2021-12-14 10:34:00 -&gt; 2022-03-23 15:00:00</th>\n",
       "      <td>96.0</td>\n",
       "      <td>40.0</td>\n",
       "      <td>136.0</td>\n",
       "      <td>49.0</td>\n",
       "      <td>87.0</td>\n",
       "      <td>9.0</td>\n",
       "      <td>40.0</td>\n",
       "      <td>87.0</td>\n",
       "      <td>0.0</td>\n",
       "      <td>0.008</td>\n",
       "      <td>0.001</td>\n",
       "    </tr>\n",
       "    <tr>\n",
       "      <th>2021-12-14 10:34:00 -&gt; 2022-03-23 15:00:00</th>\n",
       "      <td>105.0</td>\n",
       "      <td>38.0</td>\n",
       "      <td>143.0</td>\n",
       "      <td>46.0</td>\n",
       "      <td>97.0</td>\n",
       "      <td>8.0</td>\n",
       "      <td>38.0</td>\n",
       "      <td>97.0</td>\n",
       "      <td>0.0</td>\n",
       "      <td>0.008</td>\n",
       "      <td>0.002</td>\n",
       "    </tr>\n",
       "    <tr>\n",
       "      <th>2021-12-14 10:34:00 -&gt; 2022-03-23 15:00:00</th>\n",
       "      <td>122.0</td>\n",
       "      <td>37.0</td>\n",
       "      <td>159.0</td>\n",
       "      <td>45.0</td>\n",
       "      <td>114.0</td>\n",
       "      <td>8.0</td>\n",
       "      <td>37.0</td>\n",
       "      <td>114.0</td>\n",
       "      <td>0.0</td>\n",
       "      <td>0.008</td>\n",
       "      <td>0.003</td>\n",
       "    </tr>\n",
       "    <tr>\n",
       "      <th>2021-12-14 10:34:00 -&gt; 2022-03-23 15:00:00</th>\n",
       "      <td>76.0</td>\n",
       "      <td>35.0</td>\n",
       "      <td>111.0</td>\n",
       "      <td>48.0</td>\n",
       "      <td>63.0</td>\n",
       "      <td>13.0</td>\n",
       "      <td>35.0</td>\n",
       "      <td>63.0</td>\n",
       "      <td>0.0</td>\n",
       "      <td>0.009</td>\n",
       "      <td>0.000</td>\n",
       "    </tr>\n",
       "    <tr>\n",
       "      <th>2021-12-14 10:34:00 -&gt; 2022-03-23 15:00:00</th>\n",
       "      <td>84.0</td>\n",
       "      <td>35.0</td>\n",
       "      <td>119.0</td>\n",
       "      <td>47.0</td>\n",
       "      <td>72.0</td>\n",
       "      <td>12.0</td>\n",
       "      <td>35.0</td>\n",
       "      <td>72.0</td>\n",
       "      <td>0.0</td>\n",
       "      <td>0.009</td>\n",
       "      <td>0.001</td>\n",
       "    </tr>\n",
       "    <tr>\n",
       "      <th>2021-12-14 10:34:00 -&gt; 2022-03-23 15:00:00</th>\n",
       "      <td>89.0</td>\n",
       "      <td>35.0</td>\n",
       "      <td>124.0</td>\n",
       "      <td>45.0</td>\n",
       "      <td>79.0</td>\n",
       "      <td>10.0</td>\n",
       "      <td>35.0</td>\n",
       "      <td>79.0</td>\n",
       "      <td>0.0</td>\n",
       "      <td>0.009</td>\n",
       "      <td>0.002</td>\n",
       "    </tr>\n",
       "    <tr>\n",
       "      <th>2021-12-14 10:34:00 -&gt; 2022-03-23 15:00:00</th>\n",
       "      <td>103.0</td>\n",
       "      <td>34.0</td>\n",
       "      <td>137.0</td>\n",
       "      <td>44.0</td>\n",
       "      <td>93.0</td>\n",
       "      <td>10.0</td>\n",
       "      <td>34.0</td>\n",
       "      <td>93.0</td>\n",
       "      <td>0.0</td>\n",
       "      <td>0.009</td>\n",
       "      <td>0.003</td>\n",
       "    </tr>\n",
       "    <tr>\n",
       "      <th>2021-12-14 10:36:00 -&gt; 2022-03-23 15:00:00</th>\n",
       "      <td>70.0</td>\n",
       "      <td>32.0</td>\n",
       "      <td>102.0</td>\n",
       "      <td>46.0</td>\n",
       "      <td>56.0</td>\n",
       "      <td>14.0</td>\n",
       "      <td>32.0</td>\n",
       "      <td>56.0</td>\n",
       "      <td>0.0</td>\n",
       "      <td>0.010</td>\n",
       "      <td>0.000</td>\n",
       "    </tr>\n",
       "    <tr>\n",
       "      <th>2021-12-14 10:36:00 -&gt; 2022-03-23 15:00:00</th>\n",
       "      <td>73.0</td>\n",
       "      <td>32.0</td>\n",
       "      <td>105.0</td>\n",
       "      <td>45.0</td>\n",
       "      <td>60.0</td>\n",
       "      <td>13.0</td>\n",
       "      <td>32.0</td>\n",
       "      <td>60.0</td>\n",
       "      <td>0.0</td>\n",
       "      <td>0.010</td>\n",
       "      <td>0.001</td>\n",
       "    </tr>\n",
       "    <tr>\n",
       "      <th>2021-12-14 10:36:00 -&gt; 2022-03-23 15:00:00</th>\n",
       "      <td>77.0</td>\n",
       "      <td>32.0</td>\n",
       "      <td>109.0</td>\n",
       "      <td>43.0</td>\n",
       "      <td>66.0</td>\n",
       "      <td>11.0</td>\n",
       "      <td>32.0</td>\n",
       "      <td>66.0</td>\n",
       "      <td>0.0</td>\n",
       "      <td>0.010</td>\n",
       "      <td>0.002</td>\n",
       "    </tr>\n",
       "    <tr>\n",
       "      <th>2021-12-14 10:36:00 -&gt; 2022-03-23 15:00:00</th>\n",
       "      <td>83.0</td>\n",
       "      <td>32.0</td>\n",
       "      <td>115.0</td>\n",
       "      <td>43.0</td>\n",
       "      <td>72.0</td>\n",
       "      <td>11.0</td>\n",
       "      <td>32.0</td>\n",
       "      <td>72.0</td>\n",
       "      <td>0.0</td>\n",
       "      <td>0.010</td>\n",
       "      <td>0.003</td>\n",
       "    </tr>\n",
       "    <tr>\n",
       "      <th>2021-12-14 10:36:00 -&gt; 2022-03-23 15:00:00</th>\n",
       "      <td>58.0</td>\n",
       "      <td>30.0</td>\n",
       "      <td>88.0</td>\n",
       "      <td>43.0</td>\n",
       "      <td>45.0</td>\n",
       "      <td>13.0</td>\n",
       "      <td>30.0</td>\n",
       "      <td>45.0</td>\n",
       "      <td>0.0</td>\n",
       "      <td>0.011</td>\n",
       "      <td>0.000</td>\n",
       "    </tr>\n",
       "    <tr>\n",
       "      <th>2021-12-14 10:36:00 -&gt; 2022-03-23 15:00:00</th>\n",
       "      <td>60.0</td>\n",
       "      <td>30.0</td>\n",
       "      <td>90.0</td>\n",
       "      <td>42.0</td>\n",
       "      <td>48.0</td>\n",
       "      <td>12.0</td>\n",
       "      <td>30.0</td>\n",
       "      <td>48.0</td>\n",
       "      <td>0.0</td>\n",
       "      <td>0.011</td>\n",
       "      <td>0.001</td>\n",
       "    </tr>\n",
       "    <tr>\n",
       "      <th>2021-12-14 10:36:00 -&gt; 2022-03-23 15:00:00</th>\n",
       "      <td>63.0</td>\n",
       "      <td>31.0</td>\n",
       "      <td>94.0</td>\n",
       "      <td>41.0</td>\n",
       "      <td>53.0</td>\n",
       "      <td>10.0</td>\n",
       "      <td>31.0</td>\n",
       "      <td>53.0</td>\n",
       "      <td>0.0</td>\n",
       "      <td>0.011</td>\n",
       "      <td>0.002</td>\n",
       "    </tr>\n",
       "    <tr>\n",
       "      <th>2021-12-14 10:36:00 -&gt; 2022-03-23 15:00:00</th>\n",
       "      <td>67.0</td>\n",
       "      <td>32.0</td>\n",
       "      <td>99.0</td>\n",
       "      <td>41.0</td>\n",
       "      <td>58.0</td>\n",
       "      <td>9.0</td>\n",
       "      <td>32.0</td>\n",
       "      <td>58.0</td>\n",
       "      <td>0.0</td>\n",
       "      <td>0.011</td>\n",
       "      <td>0.003</td>\n",
       "    </tr>\n",
       "    <tr>\n",
       "      <th>2021-12-14 10:37:00 -&gt; 2022-03-23 15:00:00</th>\n",
       "      <td>51.0</td>\n",
       "      <td>26.0</td>\n",
       "      <td>77.0</td>\n",
       "      <td>38.0</td>\n",
       "      <td>39.0</td>\n",
       "      <td>12.0</td>\n",
       "      <td>26.0</td>\n",
       "      <td>39.0</td>\n",
       "      <td>0.0</td>\n",
       "      <td>0.012</td>\n",
       "      <td>0.000</td>\n",
       "    </tr>\n",
       "    <tr>\n",
       "      <th>2021-12-14 10:37:00 -&gt; 2022-03-23 15:00:00</th>\n",
       "      <td>53.0</td>\n",
       "      <td>26.0</td>\n",
       "      <td>79.0</td>\n",
       "      <td>37.0</td>\n",
       "      <td>42.0</td>\n",
       "      <td>11.0</td>\n",
       "      <td>26.0</td>\n",
       "      <td>42.0</td>\n",
       "      <td>0.0</td>\n",
       "      <td>0.012</td>\n",
       "      <td>0.001</td>\n",
       "    </tr>\n",
       "    <tr>\n",
       "      <th>2021-12-14 10:37:00 -&gt; 2022-03-23 15:00:00</th>\n",
       "      <td>56.0</td>\n",
       "      <td>26.0</td>\n",
       "      <td>82.0</td>\n",
       "      <td>36.0</td>\n",
       "      <td>46.0</td>\n",
       "      <td>10.0</td>\n",
       "      <td>26.0</td>\n",
       "      <td>46.0</td>\n",
       "      <td>0.0</td>\n",
       "      <td>0.012</td>\n",
       "      <td>0.002</td>\n",
       "    </tr>\n",
       "    <tr>\n",
       "      <th>2021-12-14 10:37:00 -&gt; 2022-03-23 15:00:00</th>\n",
       "      <td>59.0</td>\n",
       "      <td>27.0</td>\n",
       "      <td>86.0</td>\n",
       "      <td>36.0</td>\n",
       "      <td>50.0</td>\n",
       "      <td>9.0</td>\n",
       "      <td>27.0</td>\n",
       "      <td>50.0</td>\n",
       "      <td>0.0</td>\n",
       "      <td>0.012</td>\n",
       "      <td>0.003</td>\n",
       "    </tr>\n",
       "    <tr>\n",
       "      <th>2021-12-14 11:09:00 -&gt; 2022-03-23 15:00:00</th>\n",
       "      <td>46.0</td>\n",
       "      <td>24.0</td>\n",
       "      <td>70.0</td>\n",
       "      <td>37.0</td>\n",
       "      <td>33.0</td>\n",
       "      <td>13.0</td>\n",
       "      <td>24.0</td>\n",
       "      <td>33.0</td>\n",
       "      <td>0.0</td>\n",
       "      <td>0.013</td>\n",
       "      <td>0.000</td>\n",
       "    </tr>\n",
       "    <tr>\n",
       "      <th>2021-12-14 11:09:00 -&gt; 2022-03-23 15:00:00</th>\n",
       "      <td>47.0</td>\n",
       "      <td>24.0</td>\n",
       "      <td>71.0</td>\n",
       "      <td>36.0</td>\n",
       "      <td>35.0</td>\n",
       "      <td>12.0</td>\n",
       "      <td>24.0</td>\n",
       "      <td>35.0</td>\n",
       "      <td>0.0</td>\n",
       "      <td>0.013</td>\n",
       "      <td>0.001</td>\n",
       "    </tr>\n",
       "    <tr>\n",
       "      <th>2021-12-14 11:09:00 -&gt; 2022-03-23 15:00:00</th>\n",
       "      <td>50.0</td>\n",
       "      <td>24.0</td>\n",
       "      <td>74.0</td>\n",
       "      <td>35.0</td>\n",
       "      <td>39.0</td>\n",
       "      <td>11.0</td>\n",
       "      <td>24.0</td>\n",
       "      <td>39.0</td>\n",
       "      <td>0.0</td>\n",
       "      <td>0.013</td>\n",
       "      <td>0.002</td>\n",
       "    </tr>\n",
       "    <tr>\n",
       "      <th>2021-12-14 11:09:00 -&gt; 2022-03-23 15:00:00</th>\n",
       "      <td>53.0</td>\n",
       "      <td>24.0</td>\n",
       "      <td>77.0</td>\n",
       "      <td>35.0</td>\n",
       "      <td>42.0</td>\n",
       "      <td>11.0</td>\n",
       "      <td>24.0</td>\n",
       "      <td>42.0</td>\n",
       "      <td>0.0</td>\n",
       "      <td>0.013</td>\n",
       "      <td>0.003</td>\n",
       "    </tr>\n",
       "    <tr>\n",
       "      <th>2021-12-14 11:14:00 -&gt; 2022-03-23 15:00:00</th>\n",
       "      <td>39.0</td>\n",
       "      <td>23.0</td>\n",
       "      <td>62.0</td>\n",
       "      <td>36.0</td>\n",
       "      <td>26.0</td>\n",
       "      <td>13.0</td>\n",
       "      <td>23.0</td>\n",
       "      <td>26.0</td>\n",
       "      <td>0.0</td>\n",
       "      <td>0.014</td>\n",
       "      <td>0.000</td>\n",
       "    </tr>\n",
       "    <tr>\n",
       "      <th>2021-12-14 11:14:00 -&gt; 2022-03-23 15:00:00</th>\n",
       "      <td>40.0</td>\n",
       "      <td>23.0</td>\n",
       "      <td>63.0</td>\n",
       "      <td>36.0</td>\n",
       "      <td>27.0</td>\n",
       "      <td>13.0</td>\n",
       "      <td>23.0</td>\n",
       "      <td>27.0</td>\n",
       "      <td>0.0</td>\n",
       "      <td>0.014</td>\n",
       "      <td>0.001</td>\n",
       "    </tr>\n",
       "    <tr>\n",
       "      <th>2021-12-14 11:14:00 -&gt; 2022-03-23 15:00:00</th>\n",
       "      <td>44.0</td>\n",
       "      <td>22.0</td>\n",
       "      <td>66.0</td>\n",
       "      <td>35.0</td>\n",
       "      <td>31.0</td>\n",
       "      <td>13.0</td>\n",
       "      <td>22.0</td>\n",
       "      <td>31.0</td>\n",
       "      <td>0.0</td>\n",
       "      <td>0.014</td>\n",
       "      <td>0.002</td>\n",
       "    </tr>\n",
       "    <tr>\n",
       "      <th>2021-12-14 11:14:00 -&gt; 2022-03-23 15:00:00</th>\n",
       "      <td>47.0</td>\n",
       "      <td>22.0</td>\n",
       "      <td>69.0</td>\n",
       "      <td>35.0</td>\n",
       "      <td>34.0</td>\n",
       "      <td>13.0</td>\n",
       "      <td>22.0</td>\n",
       "      <td>34.0</td>\n",
       "      <td>0.0</td>\n",
       "      <td>0.014</td>\n",
       "      <td>0.003</td>\n",
       "    </tr>\n",
       "    <tr>\n",
       "      <th>2021-12-14 11:15:00 -&gt; 2022-03-23 15:00:00</th>\n",
       "      <td>37.0</td>\n",
       "      <td>20.0</td>\n",
       "      <td>57.0</td>\n",
       "      <td>35.0</td>\n",
       "      <td>22.0</td>\n",
       "      <td>15.0</td>\n",
       "      <td>20.0</td>\n",
       "      <td>22.0</td>\n",
       "      <td>0.0</td>\n",
       "      <td>0.015</td>\n",
       "      <td>0.000</td>\n",
       "    </tr>\n",
       "    <tr>\n",
       "      <th>2021-12-14 11:15:00 -&gt; 2022-03-23 15:00:00</th>\n",
       "      <td>37.0</td>\n",
       "      <td>20.0</td>\n",
       "      <td>57.0</td>\n",
       "      <td>34.0</td>\n",
       "      <td>23.0</td>\n",
       "      <td>14.0</td>\n",
       "      <td>20.0</td>\n",
       "      <td>23.0</td>\n",
       "      <td>0.0</td>\n",
       "      <td>0.015</td>\n",
       "      <td>0.001</td>\n",
       "    </tr>\n",
       "    <tr>\n",
       "      <th>2021-12-14 11:15:00 -&gt; 2022-03-23 15:00:00</th>\n",
       "      <td>40.0</td>\n",
       "      <td>19.0</td>\n",
       "      <td>59.0</td>\n",
       "      <td>34.0</td>\n",
       "      <td>25.0</td>\n",
       "      <td>15.0</td>\n",
       "      <td>19.0</td>\n",
       "      <td>25.0</td>\n",
       "      <td>0.0</td>\n",
       "      <td>0.015</td>\n",
       "      <td>0.002</td>\n",
       "    </tr>\n",
       "    <tr>\n",
       "      <th>2021-12-14 11:15:00 -&gt; 2022-03-23 15:00:00</th>\n",
       "      <td>43.0</td>\n",
       "      <td>19.0</td>\n",
       "      <td>62.0</td>\n",
       "      <td>34.0</td>\n",
       "      <td>28.0</td>\n",
       "      <td>15.0</td>\n",
       "      <td>19.0</td>\n",
       "      <td>28.0</td>\n",
       "      <td>0.0</td>\n",
       "      <td>0.015</td>\n",
       "      <td>0.003</td>\n",
       "    </tr>\n",
       "  </tbody>\n",
       "</table>\n",
       "</div>"
      ],
      "text/plain": [
       "                                              win  lose  total round  \\\n",
       "2021-12-14 09:30:00 -> 2022-03-23 15:00:00  179.0  47.0        226.0   \n",
       "2021-12-14 09:30:00 -> 2022-03-23 15:00:00  207.0  48.0        255.0   \n",
       "2021-12-14 09:30:00 -> 2022-03-23 15:00:00  262.0  49.0        311.0   \n",
       "2021-12-14 09:30:00 -> 2022-03-23 15:00:00  329.0  49.0        378.0   \n",
       "2021-12-14 09:32:00 -> 2022-03-23 15:00:00  148.0  41.0        189.0   \n",
       "2021-12-14 09:32:00 -> 2022-03-23 15:00:00  165.0  42.0        207.0   \n",
       "2021-12-14 09:32:00 -> 2022-03-23 15:00:00  196.0  44.0        240.0   \n",
       "2021-12-14 09:32:00 -> 2022-03-23 15:00:00  235.0  44.0        279.0   \n",
       "2021-12-14 10:33:00 -> 2022-03-23 15:00:00  107.0  41.0        148.0   \n",
       "2021-12-14 10:33:00 -> 2022-03-23 15:00:00  119.0  42.0        161.0   \n",
       "2021-12-14 10:33:00 -> 2022-03-23 15:00:00  135.0  41.0        176.0   \n",
       "2021-12-14 10:33:00 -> 2022-03-23 15:00:00  159.0  40.0        199.0   \n",
       "2021-12-14 10:34:00 -> 2022-03-23 15:00:00   87.0  40.0        127.0   \n",
       "2021-12-14 10:34:00 -> 2022-03-23 15:00:00   96.0  40.0        136.0   \n",
       "2021-12-14 10:34:00 -> 2022-03-23 15:00:00  105.0  38.0        143.0   \n",
       "2021-12-14 10:34:00 -> 2022-03-23 15:00:00  122.0  37.0        159.0   \n",
       "2021-12-14 10:34:00 -> 2022-03-23 15:00:00   76.0  35.0        111.0   \n",
       "2021-12-14 10:34:00 -> 2022-03-23 15:00:00   84.0  35.0        119.0   \n",
       "2021-12-14 10:34:00 -> 2022-03-23 15:00:00   89.0  35.0        124.0   \n",
       "2021-12-14 10:34:00 -> 2022-03-23 15:00:00  103.0  34.0        137.0   \n",
       "2021-12-14 10:36:00 -> 2022-03-23 15:00:00   70.0  32.0        102.0   \n",
       "2021-12-14 10:36:00 -> 2022-03-23 15:00:00   73.0  32.0        105.0   \n",
       "2021-12-14 10:36:00 -> 2022-03-23 15:00:00   77.0  32.0        109.0   \n",
       "2021-12-14 10:36:00 -> 2022-03-23 15:00:00   83.0  32.0        115.0   \n",
       "2021-12-14 10:36:00 -> 2022-03-23 15:00:00   58.0  30.0         88.0   \n",
       "2021-12-14 10:36:00 -> 2022-03-23 15:00:00   60.0  30.0         90.0   \n",
       "2021-12-14 10:36:00 -> 2022-03-23 15:00:00   63.0  31.0         94.0   \n",
       "2021-12-14 10:36:00 -> 2022-03-23 15:00:00   67.0  32.0         99.0   \n",
       "2021-12-14 10:37:00 -> 2022-03-23 15:00:00   51.0  26.0         77.0   \n",
       "2021-12-14 10:37:00 -> 2022-03-23 15:00:00   53.0  26.0         79.0   \n",
       "2021-12-14 10:37:00 -> 2022-03-23 15:00:00   56.0  26.0         82.0   \n",
       "2021-12-14 10:37:00 -> 2022-03-23 15:00:00   59.0  27.0         86.0   \n",
       "2021-12-14 11:09:00 -> 2022-03-23 15:00:00   46.0  24.0         70.0   \n",
       "2021-12-14 11:09:00 -> 2022-03-23 15:00:00   47.0  24.0         71.0   \n",
       "2021-12-14 11:09:00 -> 2022-03-23 15:00:00   50.0  24.0         74.0   \n",
       "2021-12-14 11:09:00 -> 2022-03-23 15:00:00   53.0  24.0         77.0   \n",
       "2021-12-14 11:14:00 -> 2022-03-23 15:00:00   39.0  23.0         62.0   \n",
       "2021-12-14 11:14:00 -> 2022-03-23 15:00:00   40.0  23.0         63.0   \n",
       "2021-12-14 11:14:00 -> 2022-03-23 15:00:00   44.0  22.0         66.0   \n",
       "2021-12-14 11:14:00 -> 2022-03-23 15:00:00   47.0  22.0         69.0   \n",
       "2021-12-14 11:15:00 -> 2022-03-23 15:00:00   37.0  20.0         57.0   \n",
       "2021-12-14 11:15:00 -> 2022-03-23 15:00:00   37.0  20.0         57.0   \n",
       "2021-12-14 11:15:00 -> 2022-03-23 15:00:00   40.0  19.0         59.0   \n",
       "2021-12-14 11:15:00 -> 2022-03-23 15:00:00   43.0  19.0         62.0   \n",
       "\n",
       "                                            close by time  close by signal  \\\n",
       "2021-12-14 09:30:00 -> 2022-03-23 15:00:00           57.0            169.0   \n",
       "2021-12-14 09:30:00 -> 2022-03-23 15:00:00           56.0            199.0   \n",
       "2021-12-14 09:30:00 -> 2022-03-23 15:00:00           56.0            255.0   \n",
       "2021-12-14 09:30:00 -> 2022-03-23 15:00:00           53.0            325.0   \n",
       "2021-12-14 09:32:00 -> 2022-03-23 15:00:00           55.0            134.0   \n",
       "2021-12-14 09:32:00 -> 2022-03-23 15:00:00           53.0            154.0   \n",
       "2021-12-14 09:32:00 -> 2022-03-23 15:00:00           53.0            187.0   \n",
       "2021-12-14 09:32:00 -> 2022-03-23 15:00:00           50.0            229.0   \n",
       "2021-12-14 10:33:00 -> 2022-03-23 15:00:00           52.0             96.0   \n",
       "2021-12-14 10:33:00 -> 2022-03-23 15:00:00           50.0            111.0   \n",
       "2021-12-14 10:33:00 -> 2022-03-23 15:00:00           49.0            127.0   \n",
       "2021-12-14 10:33:00 -> 2022-03-23 15:00:00           48.0            151.0   \n",
       "2021-12-14 10:34:00 -> 2022-03-23 15:00:00           50.0             77.0   \n",
       "2021-12-14 10:34:00 -> 2022-03-23 15:00:00           49.0             87.0   \n",
       "2021-12-14 10:34:00 -> 2022-03-23 15:00:00           46.0             97.0   \n",
       "2021-12-14 10:34:00 -> 2022-03-23 15:00:00           45.0            114.0   \n",
       "2021-12-14 10:34:00 -> 2022-03-23 15:00:00           48.0             63.0   \n",
       "2021-12-14 10:34:00 -> 2022-03-23 15:00:00           47.0             72.0   \n",
       "2021-12-14 10:34:00 -> 2022-03-23 15:00:00           45.0             79.0   \n",
       "2021-12-14 10:34:00 -> 2022-03-23 15:00:00           44.0             93.0   \n",
       "2021-12-14 10:36:00 -> 2022-03-23 15:00:00           46.0             56.0   \n",
       "2021-12-14 10:36:00 -> 2022-03-23 15:00:00           45.0             60.0   \n",
       "2021-12-14 10:36:00 -> 2022-03-23 15:00:00           43.0             66.0   \n",
       "2021-12-14 10:36:00 -> 2022-03-23 15:00:00           43.0             72.0   \n",
       "2021-12-14 10:36:00 -> 2022-03-23 15:00:00           43.0             45.0   \n",
       "2021-12-14 10:36:00 -> 2022-03-23 15:00:00           42.0             48.0   \n",
       "2021-12-14 10:36:00 -> 2022-03-23 15:00:00           41.0             53.0   \n",
       "2021-12-14 10:36:00 -> 2022-03-23 15:00:00           41.0             58.0   \n",
       "2021-12-14 10:37:00 -> 2022-03-23 15:00:00           38.0             39.0   \n",
       "2021-12-14 10:37:00 -> 2022-03-23 15:00:00           37.0             42.0   \n",
       "2021-12-14 10:37:00 -> 2022-03-23 15:00:00           36.0             46.0   \n",
       "2021-12-14 10:37:00 -> 2022-03-23 15:00:00           36.0             50.0   \n",
       "2021-12-14 11:09:00 -> 2022-03-23 15:00:00           37.0             33.0   \n",
       "2021-12-14 11:09:00 -> 2022-03-23 15:00:00           36.0             35.0   \n",
       "2021-12-14 11:09:00 -> 2022-03-23 15:00:00           35.0             39.0   \n",
       "2021-12-14 11:09:00 -> 2022-03-23 15:00:00           35.0             42.0   \n",
       "2021-12-14 11:14:00 -> 2022-03-23 15:00:00           36.0             26.0   \n",
       "2021-12-14 11:14:00 -> 2022-03-23 15:00:00           36.0             27.0   \n",
       "2021-12-14 11:14:00 -> 2022-03-23 15:00:00           35.0             31.0   \n",
       "2021-12-14 11:14:00 -> 2022-03-23 15:00:00           35.0             34.0   \n",
       "2021-12-14 11:15:00 -> 2022-03-23 15:00:00           35.0             22.0   \n",
       "2021-12-14 11:15:00 -> 2022-03-23 15:00:00           34.0             23.0   \n",
       "2021-12-14 11:15:00 -> 2022-03-23 15:00:00           34.0             25.0   \n",
       "2021-12-14 11:15:00 -> 2022-03-23 15:00:00           34.0             28.0   \n",
       "\n",
       "                                            close by time win  \\\n",
       "2021-12-14 09:30:00 -> 2022-03-23 15:00:00               11.0   \n",
       "2021-12-14 09:30:00 -> 2022-03-23 15:00:00               10.0   \n",
       "2021-12-14 09:30:00 -> 2022-03-23 15:00:00                9.0   \n",
       "2021-12-14 09:30:00 -> 2022-03-23 15:00:00                7.0   \n",
       "2021-12-14 09:32:00 -> 2022-03-23 15:00:00               15.0   \n",
       "2021-12-14 09:32:00 -> 2022-03-23 15:00:00               13.0   \n",
       "2021-12-14 09:32:00 -> 2022-03-23 15:00:00               11.0   \n",
       "2021-12-14 09:32:00 -> 2022-03-23 15:00:00                8.0   \n",
       "2021-12-14 10:33:00 -> 2022-03-23 15:00:00               12.0   \n",
       "2021-12-14 10:33:00 -> 2022-03-23 15:00:00               10.0   \n",
       "2021-12-14 10:33:00 -> 2022-03-23 15:00:00               10.0   \n",
       "2021-12-14 10:33:00 -> 2022-03-23 15:00:00               10.0   \n",
       "2021-12-14 10:34:00 -> 2022-03-23 15:00:00               10.0   \n",
       "2021-12-14 10:34:00 -> 2022-03-23 15:00:00                9.0   \n",
       "2021-12-14 10:34:00 -> 2022-03-23 15:00:00                8.0   \n",
       "2021-12-14 10:34:00 -> 2022-03-23 15:00:00                8.0   \n",
       "2021-12-14 10:34:00 -> 2022-03-23 15:00:00               13.0   \n",
       "2021-12-14 10:34:00 -> 2022-03-23 15:00:00               12.0   \n",
       "2021-12-14 10:34:00 -> 2022-03-23 15:00:00               10.0   \n",
       "2021-12-14 10:34:00 -> 2022-03-23 15:00:00               10.0   \n",
       "2021-12-14 10:36:00 -> 2022-03-23 15:00:00               14.0   \n",
       "2021-12-14 10:36:00 -> 2022-03-23 15:00:00               13.0   \n",
       "2021-12-14 10:36:00 -> 2022-03-23 15:00:00               11.0   \n",
       "2021-12-14 10:36:00 -> 2022-03-23 15:00:00               11.0   \n",
       "2021-12-14 10:36:00 -> 2022-03-23 15:00:00               13.0   \n",
       "2021-12-14 10:36:00 -> 2022-03-23 15:00:00               12.0   \n",
       "2021-12-14 10:36:00 -> 2022-03-23 15:00:00               10.0   \n",
       "2021-12-14 10:36:00 -> 2022-03-23 15:00:00                9.0   \n",
       "2021-12-14 10:37:00 -> 2022-03-23 15:00:00               12.0   \n",
       "2021-12-14 10:37:00 -> 2022-03-23 15:00:00               11.0   \n",
       "2021-12-14 10:37:00 -> 2022-03-23 15:00:00               10.0   \n",
       "2021-12-14 10:37:00 -> 2022-03-23 15:00:00                9.0   \n",
       "2021-12-14 11:09:00 -> 2022-03-23 15:00:00               13.0   \n",
       "2021-12-14 11:09:00 -> 2022-03-23 15:00:00               12.0   \n",
       "2021-12-14 11:09:00 -> 2022-03-23 15:00:00               11.0   \n",
       "2021-12-14 11:09:00 -> 2022-03-23 15:00:00               11.0   \n",
       "2021-12-14 11:14:00 -> 2022-03-23 15:00:00               13.0   \n",
       "2021-12-14 11:14:00 -> 2022-03-23 15:00:00               13.0   \n",
       "2021-12-14 11:14:00 -> 2022-03-23 15:00:00               13.0   \n",
       "2021-12-14 11:14:00 -> 2022-03-23 15:00:00               13.0   \n",
       "2021-12-14 11:15:00 -> 2022-03-23 15:00:00               15.0   \n",
       "2021-12-14 11:15:00 -> 2022-03-23 15:00:00               14.0   \n",
       "2021-12-14 11:15:00 -> 2022-03-23 15:00:00               15.0   \n",
       "2021-12-14 11:15:00 -> 2022-03-23 15:00:00               15.0   \n",
       "\n",
       "                                            close by time lose  \\\n",
       "2021-12-14 09:30:00 -> 2022-03-23 15:00:00                46.0   \n",
       "2021-12-14 09:30:00 -> 2022-03-23 15:00:00                46.0   \n",
       "2021-12-14 09:30:00 -> 2022-03-23 15:00:00                47.0   \n",
       "2021-12-14 09:30:00 -> 2022-03-23 15:00:00                46.0   \n",
       "2021-12-14 09:32:00 -> 2022-03-23 15:00:00                40.0   \n",
       "2021-12-14 09:32:00 -> 2022-03-23 15:00:00                40.0   \n",
       "2021-12-14 09:32:00 -> 2022-03-23 15:00:00                42.0   \n",
       "2021-12-14 09:32:00 -> 2022-03-23 15:00:00                42.0   \n",
       "2021-12-14 10:33:00 -> 2022-03-23 15:00:00                40.0   \n",
       "2021-12-14 10:33:00 -> 2022-03-23 15:00:00                40.0   \n",
       "2021-12-14 10:33:00 -> 2022-03-23 15:00:00                39.0   \n",
       "2021-12-14 10:33:00 -> 2022-03-23 15:00:00                38.0   \n",
       "2021-12-14 10:34:00 -> 2022-03-23 15:00:00                40.0   \n",
       "2021-12-14 10:34:00 -> 2022-03-23 15:00:00                40.0   \n",
       "2021-12-14 10:34:00 -> 2022-03-23 15:00:00                38.0   \n",
       "2021-12-14 10:34:00 -> 2022-03-23 15:00:00                37.0   \n",
       "2021-12-14 10:34:00 -> 2022-03-23 15:00:00                35.0   \n",
       "2021-12-14 10:34:00 -> 2022-03-23 15:00:00                35.0   \n",
       "2021-12-14 10:34:00 -> 2022-03-23 15:00:00                35.0   \n",
       "2021-12-14 10:34:00 -> 2022-03-23 15:00:00                34.0   \n",
       "2021-12-14 10:36:00 -> 2022-03-23 15:00:00                32.0   \n",
       "2021-12-14 10:36:00 -> 2022-03-23 15:00:00                32.0   \n",
       "2021-12-14 10:36:00 -> 2022-03-23 15:00:00                32.0   \n",
       "2021-12-14 10:36:00 -> 2022-03-23 15:00:00                32.0   \n",
       "2021-12-14 10:36:00 -> 2022-03-23 15:00:00                30.0   \n",
       "2021-12-14 10:36:00 -> 2022-03-23 15:00:00                30.0   \n",
       "2021-12-14 10:36:00 -> 2022-03-23 15:00:00                31.0   \n",
       "2021-12-14 10:36:00 -> 2022-03-23 15:00:00                32.0   \n",
       "2021-12-14 10:37:00 -> 2022-03-23 15:00:00                26.0   \n",
       "2021-12-14 10:37:00 -> 2022-03-23 15:00:00                26.0   \n",
       "2021-12-14 10:37:00 -> 2022-03-23 15:00:00                26.0   \n",
       "2021-12-14 10:37:00 -> 2022-03-23 15:00:00                27.0   \n",
       "2021-12-14 11:09:00 -> 2022-03-23 15:00:00                24.0   \n",
       "2021-12-14 11:09:00 -> 2022-03-23 15:00:00                24.0   \n",
       "2021-12-14 11:09:00 -> 2022-03-23 15:00:00                24.0   \n",
       "2021-12-14 11:09:00 -> 2022-03-23 15:00:00                24.0   \n",
       "2021-12-14 11:14:00 -> 2022-03-23 15:00:00                23.0   \n",
       "2021-12-14 11:14:00 -> 2022-03-23 15:00:00                23.0   \n",
       "2021-12-14 11:14:00 -> 2022-03-23 15:00:00                22.0   \n",
       "2021-12-14 11:14:00 -> 2022-03-23 15:00:00                22.0   \n",
       "2021-12-14 11:15:00 -> 2022-03-23 15:00:00                20.0   \n",
       "2021-12-14 11:15:00 -> 2022-03-23 15:00:00                20.0   \n",
       "2021-12-14 11:15:00 -> 2022-03-23 15:00:00                19.0   \n",
       "2021-12-14 11:15:00 -> 2022-03-23 15:00:00                19.0   \n",
       "\n",
       "                                            close by signal win  \\\n",
       "2021-12-14 09:30:00 -> 2022-03-23 15:00:00                168.0   \n",
       "2021-12-14 09:30:00 -> 2022-03-23 15:00:00                197.0   \n",
       "2021-12-14 09:30:00 -> 2022-03-23 15:00:00                253.0   \n",
       "2021-12-14 09:30:00 -> 2022-03-23 15:00:00                322.0   \n",
       "2021-12-14 09:32:00 -> 2022-03-23 15:00:00                133.0   \n",
       "2021-12-14 09:32:00 -> 2022-03-23 15:00:00                152.0   \n",
       "2021-12-14 09:32:00 -> 2022-03-23 15:00:00                185.0   \n",
       "2021-12-14 09:32:00 -> 2022-03-23 15:00:00                227.0   \n",
       "2021-12-14 10:33:00 -> 2022-03-23 15:00:00                 95.0   \n",
       "2021-12-14 10:33:00 -> 2022-03-23 15:00:00                109.0   \n",
       "2021-12-14 10:33:00 -> 2022-03-23 15:00:00                125.0   \n",
       "2021-12-14 10:33:00 -> 2022-03-23 15:00:00                149.0   \n",
       "2021-12-14 10:34:00 -> 2022-03-23 15:00:00                 77.0   \n",
       "2021-12-14 10:34:00 -> 2022-03-23 15:00:00                 87.0   \n",
       "2021-12-14 10:34:00 -> 2022-03-23 15:00:00                 97.0   \n",
       "2021-12-14 10:34:00 -> 2022-03-23 15:00:00                114.0   \n",
       "2021-12-14 10:34:00 -> 2022-03-23 15:00:00                 63.0   \n",
       "2021-12-14 10:34:00 -> 2022-03-23 15:00:00                 72.0   \n",
       "2021-12-14 10:34:00 -> 2022-03-23 15:00:00                 79.0   \n",
       "2021-12-14 10:34:00 -> 2022-03-23 15:00:00                 93.0   \n",
       "2021-12-14 10:36:00 -> 2022-03-23 15:00:00                 56.0   \n",
       "2021-12-14 10:36:00 -> 2022-03-23 15:00:00                 60.0   \n",
       "2021-12-14 10:36:00 -> 2022-03-23 15:00:00                 66.0   \n",
       "2021-12-14 10:36:00 -> 2022-03-23 15:00:00                 72.0   \n",
       "2021-12-14 10:36:00 -> 2022-03-23 15:00:00                 45.0   \n",
       "2021-12-14 10:36:00 -> 2022-03-23 15:00:00                 48.0   \n",
       "2021-12-14 10:36:00 -> 2022-03-23 15:00:00                 53.0   \n",
       "2021-12-14 10:36:00 -> 2022-03-23 15:00:00                 58.0   \n",
       "2021-12-14 10:37:00 -> 2022-03-23 15:00:00                 39.0   \n",
       "2021-12-14 10:37:00 -> 2022-03-23 15:00:00                 42.0   \n",
       "2021-12-14 10:37:00 -> 2022-03-23 15:00:00                 46.0   \n",
       "2021-12-14 10:37:00 -> 2022-03-23 15:00:00                 50.0   \n",
       "2021-12-14 11:09:00 -> 2022-03-23 15:00:00                 33.0   \n",
       "2021-12-14 11:09:00 -> 2022-03-23 15:00:00                 35.0   \n",
       "2021-12-14 11:09:00 -> 2022-03-23 15:00:00                 39.0   \n",
       "2021-12-14 11:09:00 -> 2022-03-23 15:00:00                 42.0   \n",
       "2021-12-14 11:14:00 -> 2022-03-23 15:00:00                 26.0   \n",
       "2021-12-14 11:14:00 -> 2022-03-23 15:00:00                 27.0   \n",
       "2021-12-14 11:14:00 -> 2022-03-23 15:00:00                 31.0   \n",
       "2021-12-14 11:14:00 -> 2022-03-23 15:00:00                 34.0   \n",
       "2021-12-14 11:15:00 -> 2022-03-23 15:00:00                 22.0   \n",
       "2021-12-14 11:15:00 -> 2022-03-23 15:00:00                 23.0   \n",
       "2021-12-14 11:15:00 -> 2022-03-23 15:00:00                 25.0   \n",
       "2021-12-14 11:15:00 -> 2022-03-23 15:00:00                 28.0   \n",
       "\n",
       "                                            close by signal lose  \\\n",
       "2021-12-14 09:30:00 -> 2022-03-23 15:00:00                   1.0   \n",
       "2021-12-14 09:30:00 -> 2022-03-23 15:00:00                   2.0   \n",
       "2021-12-14 09:30:00 -> 2022-03-23 15:00:00                   2.0   \n",
       "2021-12-14 09:30:00 -> 2022-03-23 15:00:00                   3.0   \n",
       "2021-12-14 09:32:00 -> 2022-03-23 15:00:00                   1.0   \n",
       "2021-12-14 09:32:00 -> 2022-03-23 15:00:00                   2.0   \n",
       "2021-12-14 09:32:00 -> 2022-03-23 15:00:00                   2.0   \n",
       "2021-12-14 09:32:00 -> 2022-03-23 15:00:00                   2.0   \n",
       "2021-12-14 10:33:00 -> 2022-03-23 15:00:00                   1.0   \n",
       "2021-12-14 10:33:00 -> 2022-03-23 15:00:00                   2.0   \n",
       "2021-12-14 10:33:00 -> 2022-03-23 15:00:00                   2.0   \n",
       "2021-12-14 10:33:00 -> 2022-03-23 15:00:00                   2.0   \n",
       "2021-12-14 10:34:00 -> 2022-03-23 15:00:00                   0.0   \n",
       "2021-12-14 10:34:00 -> 2022-03-23 15:00:00                   0.0   \n",
       "2021-12-14 10:34:00 -> 2022-03-23 15:00:00                   0.0   \n",
       "2021-12-14 10:34:00 -> 2022-03-23 15:00:00                   0.0   \n",
       "2021-12-14 10:34:00 -> 2022-03-23 15:00:00                   0.0   \n",
       "2021-12-14 10:34:00 -> 2022-03-23 15:00:00                   0.0   \n",
       "2021-12-14 10:34:00 -> 2022-03-23 15:00:00                   0.0   \n",
       "2021-12-14 10:34:00 -> 2022-03-23 15:00:00                   0.0   \n",
       "2021-12-14 10:36:00 -> 2022-03-23 15:00:00                   0.0   \n",
       "2021-12-14 10:36:00 -> 2022-03-23 15:00:00                   0.0   \n",
       "2021-12-14 10:36:00 -> 2022-03-23 15:00:00                   0.0   \n",
       "2021-12-14 10:36:00 -> 2022-03-23 15:00:00                   0.0   \n",
       "2021-12-14 10:36:00 -> 2022-03-23 15:00:00                   0.0   \n",
       "2021-12-14 10:36:00 -> 2022-03-23 15:00:00                   0.0   \n",
       "2021-12-14 10:36:00 -> 2022-03-23 15:00:00                   0.0   \n",
       "2021-12-14 10:36:00 -> 2022-03-23 15:00:00                   0.0   \n",
       "2021-12-14 10:37:00 -> 2022-03-23 15:00:00                   0.0   \n",
       "2021-12-14 10:37:00 -> 2022-03-23 15:00:00                   0.0   \n",
       "2021-12-14 10:37:00 -> 2022-03-23 15:00:00                   0.0   \n",
       "2021-12-14 10:37:00 -> 2022-03-23 15:00:00                   0.0   \n",
       "2021-12-14 11:09:00 -> 2022-03-23 15:00:00                   0.0   \n",
       "2021-12-14 11:09:00 -> 2022-03-23 15:00:00                   0.0   \n",
       "2021-12-14 11:09:00 -> 2022-03-23 15:00:00                   0.0   \n",
       "2021-12-14 11:09:00 -> 2022-03-23 15:00:00                   0.0   \n",
       "2021-12-14 11:14:00 -> 2022-03-23 15:00:00                   0.0   \n",
       "2021-12-14 11:14:00 -> 2022-03-23 15:00:00                   0.0   \n",
       "2021-12-14 11:14:00 -> 2022-03-23 15:00:00                   0.0   \n",
       "2021-12-14 11:14:00 -> 2022-03-23 15:00:00                   0.0   \n",
       "2021-12-14 11:15:00 -> 2022-03-23 15:00:00                   0.0   \n",
       "2021-12-14 11:15:00 -> 2022-03-23 15:00:00                   0.0   \n",
       "2021-12-14 11:15:00 -> 2022-03-23 15:00:00                   0.0   \n",
       "2021-12-14 11:15:00 -> 2022-03-23 15:00:00                   0.0   \n",
       "\n",
       "                                            open threshold  close threshold  \n",
       "2021-12-14 09:30:00 -> 2022-03-23 15:00:00           0.005            0.000  \n",
       "2021-12-14 09:30:00 -> 2022-03-23 15:00:00           0.005            0.001  \n",
       "2021-12-14 09:30:00 -> 2022-03-23 15:00:00           0.005            0.002  \n",
       "2021-12-14 09:30:00 -> 2022-03-23 15:00:00           0.005            0.003  \n",
       "2021-12-14 09:32:00 -> 2022-03-23 15:00:00           0.006            0.000  \n",
       "2021-12-14 09:32:00 -> 2022-03-23 15:00:00           0.006            0.001  \n",
       "2021-12-14 09:32:00 -> 2022-03-23 15:00:00           0.006            0.002  \n",
       "2021-12-14 09:32:00 -> 2022-03-23 15:00:00           0.006            0.003  \n",
       "2021-12-14 10:33:00 -> 2022-03-23 15:00:00           0.007            0.000  \n",
       "2021-12-14 10:33:00 -> 2022-03-23 15:00:00           0.007            0.001  \n",
       "2021-12-14 10:33:00 -> 2022-03-23 15:00:00           0.007            0.002  \n",
       "2021-12-14 10:33:00 -> 2022-03-23 15:00:00           0.007            0.003  \n",
       "2021-12-14 10:34:00 -> 2022-03-23 15:00:00           0.008            0.000  \n",
       "2021-12-14 10:34:00 -> 2022-03-23 15:00:00           0.008            0.001  \n",
       "2021-12-14 10:34:00 -> 2022-03-23 15:00:00           0.008            0.002  \n",
       "2021-12-14 10:34:00 -> 2022-03-23 15:00:00           0.008            0.003  \n",
       "2021-12-14 10:34:00 -> 2022-03-23 15:00:00           0.009            0.000  \n",
       "2021-12-14 10:34:00 -> 2022-03-23 15:00:00           0.009            0.001  \n",
       "2021-12-14 10:34:00 -> 2022-03-23 15:00:00           0.009            0.002  \n",
       "2021-12-14 10:34:00 -> 2022-03-23 15:00:00           0.009            0.003  \n",
       "2021-12-14 10:36:00 -> 2022-03-23 15:00:00           0.010            0.000  \n",
       "2021-12-14 10:36:00 -> 2022-03-23 15:00:00           0.010            0.001  \n",
       "2021-12-14 10:36:00 -> 2022-03-23 15:00:00           0.010            0.002  \n",
       "2021-12-14 10:36:00 -> 2022-03-23 15:00:00           0.010            0.003  \n",
       "2021-12-14 10:36:00 -> 2022-03-23 15:00:00           0.011            0.000  \n",
       "2021-12-14 10:36:00 -> 2022-03-23 15:00:00           0.011            0.001  \n",
       "2021-12-14 10:36:00 -> 2022-03-23 15:00:00           0.011            0.002  \n",
       "2021-12-14 10:36:00 -> 2022-03-23 15:00:00           0.011            0.003  \n",
       "2021-12-14 10:37:00 -> 2022-03-23 15:00:00           0.012            0.000  \n",
       "2021-12-14 10:37:00 -> 2022-03-23 15:00:00           0.012            0.001  \n",
       "2021-12-14 10:37:00 -> 2022-03-23 15:00:00           0.012            0.002  \n",
       "2021-12-14 10:37:00 -> 2022-03-23 15:00:00           0.012            0.003  \n",
       "2021-12-14 11:09:00 -> 2022-03-23 15:00:00           0.013            0.000  \n",
       "2021-12-14 11:09:00 -> 2022-03-23 15:00:00           0.013            0.001  \n",
       "2021-12-14 11:09:00 -> 2022-03-23 15:00:00           0.013            0.002  \n",
       "2021-12-14 11:09:00 -> 2022-03-23 15:00:00           0.013            0.003  \n",
       "2021-12-14 11:14:00 -> 2022-03-23 15:00:00           0.014            0.000  \n",
       "2021-12-14 11:14:00 -> 2022-03-23 15:00:00           0.014            0.001  \n",
       "2021-12-14 11:14:00 -> 2022-03-23 15:00:00           0.014            0.002  \n",
       "2021-12-14 11:14:00 -> 2022-03-23 15:00:00           0.014            0.003  \n",
       "2021-12-14 11:15:00 -> 2022-03-23 15:00:00           0.015            0.000  \n",
       "2021-12-14 11:15:00 -> 2022-03-23 15:00:00           0.015            0.001  \n",
       "2021-12-14 11:15:00 -> 2022-03-23 15:00:00           0.015            0.002  \n",
       "2021-12-14 11:15:00 -> 2022-03-23 15:00:00           0.015            0.003  "
      ]
     },
     "execution_count": 12,
     "metadata": {},
     "output_type": "execute_result"
    }
   ],
   "source": [
    "df_grid_search_res[['win','lose','total round',\n",
    "                    'close by time','close by signal',\n",
    "                    'close by time win','close by time lose',\n",
    "                    'close by signal win','close by signal lose',\n",
    "                    'open threshold', 'close threshold'\n",
    "                    ]]"
   ]
  },
  {
   "cell_type": "code",
   "execution_count": 13,
   "metadata": {},
   "outputs": [
    {
     "data": {
      "text/html": [
       "<div>\n",
       "<style scoped>\n",
       "    .dataframe tbody tr th:only-of-type {\n",
       "        vertical-align: middle;\n",
       "    }\n",
       "\n",
       "    .dataframe tbody tr th {\n",
       "        vertical-align: top;\n",
       "    }\n",
       "\n",
       "    .dataframe thead th {\n",
       "        text-align: right;\n",
       "    }\n",
       "</style>\n",
       "<table border=\"1\" class=\"dataframe\">\n",
       "  <thead>\n",
       "    <tr style=\"text-align: right;\">\n",
       "      <th></th>\n",
       "      <th>win</th>\n",
       "      <th>lose</th>\n",
       "      <th>total round</th>\n",
       "      <th>close by time</th>\n",
       "      <th>close by signal</th>\n",
       "      <th>close by time win</th>\n",
       "      <th>close by time lose</th>\n",
       "      <th>close by signal win</th>\n",
       "      <th>close by signal lose</th>\n",
       "      <th>open threshold</th>\n",
       "      <th>close threshold</th>\n",
       "      <th>win rate</th>\n",
       "      <th>close by time win/close by time</th>\n",
       "      <th>close by signal win/close by signal</th>\n",
       "      <th>close by time lose/lose</th>\n",
       "    </tr>\n",
       "  </thead>\n",
       "  <tbody>\n",
       "    <tr>\n",
       "      <th>2021-12-14 09:30:00 -&gt; 2022-03-23 15:00:00</th>\n",
       "      <td>179.0</td>\n",
       "      <td>47.0</td>\n",
       "      <td>226.0</td>\n",
       "      <td>57.0</td>\n",
       "      <td>169.0</td>\n",
       "      <td>11.0</td>\n",
       "      <td>46.0</td>\n",
       "      <td>168.0</td>\n",
       "      <td>1.0</td>\n",
       "      <td>0.005</td>\n",
       "      <td>0.000</td>\n",
       "      <td>0.792035</td>\n",
       "      <td>0.192982</td>\n",
       "      <td>0.994083</td>\n",
       "      <td>0.978723</td>\n",
       "    </tr>\n",
       "    <tr>\n",
       "      <th>2021-12-14 09:30:00 -&gt; 2022-03-23 15:00:00</th>\n",
       "      <td>207.0</td>\n",
       "      <td>48.0</td>\n",
       "      <td>255.0</td>\n",
       "      <td>56.0</td>\n",
       "      <td>199.0</td>\n",
       "      <td>10.0</td>\n",
       "      <td>46.0</td>\n",
       "      <td>197.0</td>\n",
       "      <td>2.0</td>\n",
       "      <td>0.005</td>\n",
       "      <td>0.001</td>\n",
       "      <td>0.811765</td>\n",
       "      <td>0.178571</td>\n",
       "      <td>0.989950</td>\n",
       "      <td>0.958333</td>\n",
       "    </tr>\n",
       "    <tr>\n",
       "      <th>2021-12-14 09:30:00 -&gt; 2022-03-23 15:00:00</th>\n",
       "      <td>262.0</td>\n",
       "      <td>49.0</td>\n",
       "      <td>311.0</td>\n",
       "      <td>56.0</td>\n",
       "      <td>255.0</td>\n",
       "      <td>9.0</td>\n",
       "      <td>47.0</td>\n",
       "      <td>253.0</td>\n",
       "      <td>2.0</td>\n",
       "      <td>0.005</td>\n",
       "      <td>0.002</td>\n",
       "      <td>0.842444</td>\n",
       "      <td>0.160714</td>\n",
       "      <td>0.992157</td>\n",
       "      <td>0.959184</td>\n",
       "    </tr>\n",
       "    <tr>\n",
       "      <th>2021-12-14 09:30:00 -&gt; 2022-03-23 15:00:00</th>\n",
       "      <td>329.0</td>\n",
       "      <td>49.0</td>\n",
       "      <td>378.0</td>\n",
       "      <td>53.0</td>\n",
       "      <td>325.0</td>\n",
       "      <td>7.0</td>\n",
       "      <td>46.0</td>\n",
       "      <td>322.0</td>\n",
       "      <td>3.0</td>\n",
       "      <td>0.005</td>\n",
       "      <td>0.003</td>\n",
       "      <td>0.870370</td>\n",
       "      <td>0.132075</td>\n",
       "      <td>0.990769</td>\n",
       "      <td>0.938776</td>\n",
       "    </tr>\n",
       "    <tr>\n",
       "      <th>2021-12-14 09:32:00 -&gt; 2022-03-23 15:00:00</th>\n",
       "      <td>148.0</td>\n",
       "      <td>41.0</td>\n",
       "      <td>189.0</td>\n",
       "      <td>55.0</td>\n",
       "      <td>134.0</td>\n",
       "      <td>15.0</td>\n",
       "      <td>40.0</td>\n",
       "      <td>133.0</td>\n",
       "      <td>1.0</td>\n",
       "      <td>0.006</td>\n",
       "      <td>0.000</td>\n",
       "      <td>0.783069</td>\n",
       "      <td>0.272727</td>\n",
       "      <td>0.992537</td>\n",
       "      <td>0.975610</td>\n",
       "    </tr>\n",
       "    <tr>\n",
       "      <th>2021-12-14 09:32:00 -&gt; 2022-03-23 15:00:00</th>\n",
       "      <td>165.0</td>\n",
       "      <td>42.0</td>\n",
       "      <td>207.0</td>\n",
       "      <td>53.0</td>\n",
       "      <td>154.0</td>\n",
       "      <td>13.0</td>\n",
       "      <td>40.0</td>\n",
       "      <td>152.0</td>\n",
       "      <td>2.0</td>\n",
       "      <td>0.006</td>\n",
       "      <td>0.001</td>\n",
       "      <td>0.797101</td>\n",
       "      <td>0.245283</td>\n",
       "      <td>0.987013</td>\n",
       "      <td>0.952381</td>\n",
       "    </tr>\n",
       "    <tr>\n",
       "      <th>2021-12-14 09:32:00 -&gt; 2022-03-23 15:00:00</th>\n",
       "      <td>196.0</td>\n",
       "      <td>44.0</td>\n",
       "      <td>240.0</td>\n",
       "      <td>53.0</td>\n",
       "      <td>187.0</td>\n",
       "      <td>11.0</td>\n",
       "      <td>42.0</td>\n",
       "      <td>185.0</td>\n",
       "      <td>2.0</td>\n",
       "      <td>0.006</td>\n",
       "      <td>0.002</td>\n",
       "      <td>0.816667</td>\n",
       "      <td>0.207547</td>\n",
       "      <td>0.989305</td>\n",
       "      <td>0.954545</td>\n",
       "    </tr>\n",
       "    <tr>\n",
       "      <th>2021-12-14 09:32:00 -&gt; 2022-03-23 15:00:00</th>\n",
       "      <td>235.0</td>\n",
       "      <td>44.0</td>\n",
       "      <td>279.0</td>\n",
       "      <td>50.0</td>\n",
       "      <td>229.0</td>\n",
       "      <td>8.0</td>\n",
       "      <td>42.0</td>\n",
       "      <td>227.0</td>\n",
       "      <td>2.0</td>\n",
       "      <td>0.006</td>\n",
       "      <td>0.003</td>\n",
       "      <td>0.842294</td>\n",
       "      <td>0.160000</td>\n",
       "      <td>0.991266</td>\n",
       "      <td>0.954545</td>\n",
       "    </tr>\n",
       "    <tr>\n",
       "      <th>2021-12-14 10:33:00 -&gt; 2022-03-23 15:00:00</th>\n",
       "      <td>107.0</td>\n",
       "      <td>41.0</td>\n",
       "      <td>148.0</td>\n",
       "      <td>52.0</td>\n",
       "      <td>96.0</td>\n",
       "      <td>12.0</td>\n",
       "      <td>40.0</td>\n",
       "      <td>95.0</td>\n",
       "      <td>1.0</td>\n",
       "      <td>0.007</td>\n",
       "      <td>0.000</td>\n",
       "      <td>0.722973</td>\n",
       "      <td>0.230769</td>\n",
       "      <td>0.989583</td>\n",
       "      <td>0.975610</td>\n",
       "    </tr>\n",
       "    <tr>\n",
       "      <th>2021-12-14 10:33:00 -&gt; 2022-03-23 15:00:00</th>\n",
       "      <td>119.0</td>\n",
       "      <td>42.0</td>\n",
       "      <td>161.0</td>\n",
       "      <td>50.0</td>\n",
       "      <td>111.0</td>\n",
       "      <td>10.0</td>\n",
       "      <td>40.0</td>\n",
       "      <td>109.0</td>\n",
       "      <td>2.0</td>\n",
       "      <td>0.007</td>\n",
       "      <td>0.001</td>\n",
       "      <td>0.739130</td>\n",
       "      <td>0.200000</td>\n",
       "      <td>0.981982</td>\n",
       "      <td>0.952381</td>\n",
       "    </tr>\n",
       "    <tr>\n",
       "      <th>2021-12-14 10:33:00 -&gt; 2022-03-23 15:00:00</th>\n",
       "      <td>135.0</td>\n",
       "      <td>41.0</td>\n",
       "      <td>176.0</td>\n",
       "      <td>49.0</td>\n",
       "      <td>127.0</td>\n",
       "      <td>10.0</td>\n",
       "      <td>39.0</td>\n",
       "      <td>125.0</td>\n",
       "      <td>2.0</td>\n",
       "      <td>0.007</td>\n",
       "      <td>0.002</td>\n",
       "      <td>0.767045</td>\n",
       "      <td>0.204082</td>\n",
       "      <td>0.984252</td>\n",
       "      <td>0.951220</td>\n",
       "    </tr>\n",
       "    <tr>\n",
       "      <th>2021-12-14 10:33:00 -&gt; 2022-03-23 15:00:00</th>\n",
       "      <td>159.0</td>\n",
       "      <td>40.0</td>\n",
       "      <td>199.0</td>\n",
       "      <td>48.0</td>\n",
       "      <td>151.0</td>\n",
       "      <td>10.0</td>\n",
       "      <td>38.0</td>\n",
       "      <td>149.0</td>\n",
       "      <td>2.0</td>\n",
       "      <td>0.007</td>\n",
       "      <td>0.003</td>\n",
       "      <td>0.798995</td>\n",
       "      <td>0.208333</td>\n",
       "      <td>0.986755</td>\n",
       "      <td>0.950000</td>\n",
       "    </tr>\n",
       "    <tr>\n",
       "      <th>2021-12-14 10:34:00 -&gt; 2022-03-23 15:00:00</th>\n",
       "      <td>87.0</td>\n",
       "      <td>40.0</td>\n",
       "      <td>127.0</td>\n",
       "      <td>50.0</td>\n",
       "      <td>77.0</td>\n",
       "      <td>10.0</td>\n",
       "      <td>40.0</td>\n",
       "      <td>77.0</td>\n",
       "      <td>0.0</td>\n",
       "      <td>0.008</td>\n",
       "      <td>0.000</td>\n",
       "      <td>0.685039</td>\n",
       "      <td>0.200000</td>\n",
       "      <td>1.000000</td>\n",
       "      <td>1.000000</td>\n",
       "    </tr>\n",
       "    <tr>\n",
       "      <th>2021-12-14 10:34:00 -&gt; 2022-03-23 15:00:00</th>\n",
       "      <td>96.0</td>\n",
       "      <td>40.0</td>\n",
       "      <td>136.0</td>\n",
       "      <td>49.0</td>\n",
       "      <td>87.0</td>\n",
       "      <td>9.0</td>\n",
       "      <td>40.0</td>\n",
       "      <td>87.0</td>\n",
       "      <td>0.0</td>\n",
       "      <td>0.008</td>\n",
       "      <td>0.001</td>\n",
       "      <td>0.705882</td>\n",
       "      <td>0.183673</td>\n",
       "      <td>1.000000</td>\n",
       "      <td>1.000000</td>\n",
       "    </tr>\n",
       "    <tr>\n",
       "      <th>2021-12-14 10:34:00 -&gt; 2022-03-23 15:00:00</th>\n",
       "      <td>105.0</td>\n",
       "      <td>38.0</td>\n",
       "      <td>143.0</td>\n",
       "      <td>46.0</td>\n",
       "      <td>97.0</td>\n",
       "      <td>8.0</td>\n",
       "      <td>38.0</td>\n",
       "      <td>97.0</td>\n",
       "      <td>0.0</td>\n",
       "      <td>0.008</td>\n",
       "      <td>0.002</td>\n",
       "      <td>0.734266</td>\n",
       "      <td>0.173913</td>\n",
       "      <td>1.000000</td>\n",
       "      <td>1.000000</td>\n",
       "    </tr>\n",
       "    <tr>\n",
       "      <th>2021-12-14 10:34:00 -&gt; 2022-03-23 15:00:00</th>\n",
       "      <td>122.0</td>\n",
       "      <td>37.0</td>\n",
       "      <td>159.0</td>\n",
       "      <td>45.0</td>\n",
       "      <td>114.0</td>\n",
       "      <td>8.0</td>\n",
       "      <td>37.0</td>\n",
       "      <td>114.0</td>\n",
       "      <td>0.0</td>\n",
       "      <td>0.008</td>\n",
       "      <td>0.003</td>\n",
       "      <td>0.767296</td>\n",
       "      <td>0.177778</td>\n",
       "      <td>1.000000</td>\n",
       "      <td>1.000000</td>\n",
       "    </tr>\n",
       "    <tr>\n",
       "      <th>2021-12-14 10:34:00 -&gt; 2022-03-23 15:00:00</th>\n",
       "      <td>76.0</td>\n",
       "      <td>35.0</td>\n",
       "      <td>111.0</td>\n",
       "      <td>48.0</td>\n",
       "      <td>63.0</td>\n",
       "      <td>13.0</td>\n",
       "      <td>35.0</td>\n",
       "      <td>63.0</td>\n",
       "      <td>0.0</td>\n",
       "      <td>0.009</td>\n",
       "      <td>0.000</td>\n",
       "      <td>0.684685</td>\n",
       "      <td>0.270833</td>\n",
       "      <td>1.000000</td>\n",
       "      <td>1.000000</td>\n",
       "    </tr>\n",
       "    <tr>\n",
       "      <th>2021-12-14 10:34:00 -&gt; 2022-03-23 15:00:00</th>\n",
       "      <td>84.0</td>\n",
       "      <td>35.0</td>\n",
       "      <td>119.0</td>\n",
       "      <td>47.0</td>\n",
       "      <td>72.0</td>\n",
       "      <td>12.0</td>\n",
       "      <td>35.0</td>\n",
       "      <td>72.0</td>\n",
       "      <td>0.0</td>\n",
       "      <td>0.009</td>\n",
       "      <td>0.001</td>\n",
       "      <td>0.705882</td>\n",
       "      <td>0.255319</td>\n",
       "      <td>1.000000</td>\n",
       "      <td>1.000000</td>\n",
       "    </tr>\n",
       "    <tr>\n",
       "      <th>2021-12-14 10:34:00 -&gt; 2022-03-23 15:00:00</th>\n",
       "      <td>89.0</td>\n",
       "      <td>35.0</td>\n",
       "      <td>124.0</td>\n",
       "      <td>45.0</td>\n",
       "      <td>79.0</td>\n",
       "      <td>10.0</td>\n",
       "      <td>35.0</td>\n",
       "      <td>79.0</td>\n",
       "      <td>0.0</td>\n",
       "      <td>0.009</td>\n",
       "      <td>0.002</td>\n",
       "      <td>0.717742</td>\n",
       "      <td>0.222222</td>\n",
       "      <td>1.000000</td>\n",
       "      <td>1.000000</td>\n",
       "    </tr>\n",
       "    <tr>\n",
       "      <th>2021-12-14 10:34:00 -&gt; 2022-03-23 15:00:00</th>\n",
       "      <td>103.0</td>\n",
       "      <td>34.0</td>\n",
       "      <td>137.0</td>\n",
       "      <td>44.0</td>\n",
       "      <td>93.0</td>\n",
       "      <td>10.0</td>\n",
       "      <td>34.0</td>\n",
       "      <td>93.0</td>\n",
       "      <td>0.0</td>\n",
       "      <td>0.009</td>\n",
       "      <td>0.003</td>\n",
       "      <td>0.751825</td>\n",
       "      <td>0.227273</td>\n",
       "      <td>1.000000</td>\n",
       "      <td>1.000000</td>\n",
       "    </tr>\n",
       "    <tr>\n",
       "      <th>2021-12-14 10:36:00 -&gt; 2022-03-23 15:00:00</th>\n",
       "      <td>70.0</td>\n",
       "      <td>32.0</td>\n",
       "      <td>102.0</td>\n",
       "      <td>46.0</td>\n",
       "      <td>56.0</td>\n",
       "      <td>14.0</td>\n",
       "      <td>32.0</td>\n",
       "      <td>56.0</td>\n",
       "      <td>0.0</td>\n",
       "      <td>0.010</td>\n",
       "      <td>0.000</td>\n",
       "      <td>0.686275</td>\n",
       "      <td>0.304348</td>\n",
       "      <td>1.000000</td>\n",
       "      <td>1.000000</td>\n",
       "    </tr>\n",
       "    <tr>\n",
       "      <th>2021-12-14 10:36:00 -&gt; 2022-03-23 15:00:00</th>\n",
       "      <td>73.0</td>\n",
       "      <td>32.0</td>\n",
       "      <td>105.0</td>\n",
       "      <td>45.0</td>\n",
       "      <td>60.0</td>\n",
       "      <td>13.0</td>\n",
       "      <td>32.0</td>\n",
       "      <td>60.0</td>\n",
       "      <td>0.0</td>\n",
       "      <td>0.010</td>\n",
       "      <td>0.001</td>\n",
       "      <td>0.695238</td>\n",
       "      <td>0.288889</td>\n",
       "      <td>1.000000</td>\n",
       "      <td>1.000000</td>\n",
       "    </tr>\n",
       "    <tr>\n",
       "      <th>2021-12-14 10:36:00 -&gt; 2022-03-23 15:00:00</th>\n",
       "      <td>77.0</td>\n",
       "      <td>32.0</td>\n",
       "      <td>109.0</td>\n",
       "      <td>43.0</td>\n",
       "      <td>66.0</td>\n",
       "      <td>11.0</td>\n",
       "      <td>32.0</td>\n",
       "      <td>66.0</td>\n",
       "      <td>0.0</td>\n",
       "      <td>0.010</td>\n",
       "      <td>0.002</td>\n",
       "      <td>0.706422</td>\n",
       "      <td>0.255814</td>\n",
       "      <td>1.000000</td>\n",
       "      <td>1.000000</td>\n",
       "    </tr>\n",
       "    <tr>\n",
       "      <th>2021-12-14 10:36:00 -&gt; 2022-03-23 15:00:00</th>\n",
       "      <td>83.0</td>\n",
       "      <td>32.0</td>\n",
       "      <td>115.0</td>\n",
       "      <td>43.0</td>\n",
       "      <td>72.0</td>\n",
       "      <td>11.0</td>\n",
       "      <td>32.0</td>\n",
       "      <td>72.0</td>\n",
       "      <td>0.0</td>\n",
       "      <td>0.010</td>\n",
       "      <td>0.003</td>\n",
       "      <td>0.721739</td>\n",
       "      <td>0.255814</td>\n",
       "      <td>1.000000</td>\n",
       "      <td>1.000000</td>\n",
       "    </tr>\n",
       "    <tr>\n",
       "      <th>2021-12-14 10:36:00 -&gt; 2022-03-23 15:00:00</th>\n",
       "      <td>58.0</td>\n",
       "      <td>30.0</td>\n",
       "      <td>88.0</td>\n",
       "      <td>43.0</td>\n",
       "      <td>45.0</td>\n",
       "      <td>13.0</td>\n",
       "      <td>30.0</td>\n",
       "      <td>45.0</td>\n",
       "      <td>0.0</td>\n",
       "      <td>0.011</td>\n",
       "      <td>0.000</td>\n",
       "      <td>0.659091</td>\n",
       "      <td>0.302326</td>\n",
       "      <td>1.000000</td>\n",
       "      <td>1.000000</td>\n",
       "    </tr>\n",
       "    <tr>\n",
       "      <th>2021-12-14 10:36:00 -&gt; 2022-03-23 15:00:00</th>\n",
       "      <td>60.0</td>\n",
       "      <td>30.0</td>\n",
       "      <td>90.0</td>\n",
       "      <td>42.0</td>\n",
       "      <td>48.0</td>\n",
       "      <td>12.0</td>\n",
       "      <td>30.0</td>\n",
       "      <td>48.0</td>\n",
       "      <td>0.0</td>\n",
       "      <td>0.011</td>\n",
       "      <td>0.001</td>\n",
       "      <td>0.666667</td>\n",
       "      <td>0.285714</td>\n",
       "      <td>1.000000</td>\n",
       "      <td>1.000000</td>\n",
       "    </tr>\n",
       "    <tr>\n",
       "      <th>2021-12-14 10:36:00 -&gt; 2022-03-23 15:00:00</th>\n",
       "      <td>63.0</td>\n",
       "      <td>31.0</td>\n",
       "      <td>94.0</td>\n",
       "      <td>41.0</td>\n",
       "      <td>53.0</td>\n",
       "      <td>10.0</td>\n",
       "      <td>31.0</td>\n",
       "      <td>53.0</td>\n",
       "      <td>0.0</td>\n",
       "      <td>0.011</td>\n",
       "      <td>0.002</td>\n",
       "      <td>0.670213</td>\n",
       "      <td>0.243902</td>\n",
       "      <td>1.000000</td>\n",
       "      <td>1.000000</td>\n",
       "    </tr>\n",
       "    <tr>\n",
       "      <th>2021-12-14 10:36:00 -&gt; 2022-03-23 15:00:00</th>\n",
       "      <td>67.0</td>\n",
       "      <td>32.0</td>\n",
       "      <td>99.0</td>\n",
       "      <td>41.0</td>\n",
       "      <td>58.0</td>\n",
       "      <td>9.0</td>\n",
       "      <td>32.0</td>\n",
       "      <td>58.0</td>\n",
       "      <td>0.0</td>\n",
       "      <td>0.011</td>\n",
       "      <td>0.003</td>\n",
       "      <td>0.676768</td>\n",
       "      <td>0.219512</td>\n",
       "      <td>1.000000</td>\n",
       "      <td>1.000000</td>\n",
       "    </tr>\n",
       "    <tr>\n",
       "      <th>2021-12-14 10:37:00 -&gt; 2022-03-23 15:00:00</th>\n",
       "      <td>51.0</td>\n",
       "      <td>26.0</td>\n",
       "      <td>77.0</td>\n",
       "      <td>38.0</td>\n",
       "      <td>39.0</td>\n",
       "      <td>12.0</td>\n",
       "      <td>26.0</td>\n",
       "      <td>39.0</td>\n",
       "      <td>0.0</td>\n",
       "      <td>0.012</td>\n",
       "      <td>0.000</td>\n",
       "      <td>0.662338</td>\n",
       "      <td>0.315789</td>\n",
       "      <td>1.000000</td>\n",
       "      <td>1.000000</td>\n",
       "    </tr>\n",
       "    <tr>\n",
       "      <th>2021-12-14 10:37:00 -&gt; 2022-03-23 15:00:00</th>\n",
       "      <td>53.0</td>\n",
       "      <td>26.0</td>\n",
       "      <td>79.0</td>\n",
       "      <td>37.0</td>\n",
       "      <td>42.0</td>\n",
       "      <td>11.0</td>\n",
       "      <td>26.0</td>\n",
       "      <td>42.0</td>\n",
       "      <td>0.0</td>\n",
       "      <td>0.012</td>\n",
       "      <td>0.001</td>\n",
       "      <td>0.670886</td>\n",
       "      <td>0.297297</td>\n",
       "      <td>1.000000</td>\n",
       "      <td>1.000000</td>\n",
       "    </tr>\n",
       "    <tr>\n",
       "      <th>2021-12-14 10:37:00 -&gt; 2022-03-23 15:00:00</th>\n",
       "      <td>56.0</td>\n",
       "      <td>26.0</td>\n",
       "      <td>82.0</td>\n",
       "      <td>36.0</td>\n",
       "      <td>46.0</td>\n",
       "      <td>10.0</td>\n",
       "      <td>26.0</td>\n",
       "      <td>46.0</td>\n",
       "      <td>0.0</td>\n",
       "      <td>0.012</td>\n",
       "      <td>0.002</td>\n",
       "      <td>0.682927</td>\n",
       "      <td>0.277778</td>\n",
       "      <td>1.000000</td>\n",
       "      <td>1.000000</td>\n",
       "    </tr>\n",
       "    <tr>\n",
       "      <th>2021-12-14 10:37:00 -&gt; 2022-03-23 15:00:00</th>\n",
       "      <td>59.0</td>\n",
       "      <td>27.0</td>\n",
       "      <td>86.0</td>\n",
       "      <td>36.0</td>\n",
       "      <td>50.0</td>\n",
       "      <td>9.0</td>\n",
       "      <td>27.0</td>\n",
       "      <td>50.0</td>\n",
       "      <td>0.0</td>\n",
       "      <td>0.012</td>\n",
       "      <td>0.003</td>\n",
       "      <td>0.686047</td>\n",
       "      <td>0.250000</td>\n",
       "      <td>1.000000</td>\n",
       "      <td>1.000000</td>\n",
       "    </tr>\n",
       "    <tr>\n",
       "      <th>2021-12-14 11:09:00 -&gt; 2022-03-23 15:00:00</th>\n",
       "      <td>46.0</td>\n",
       "      <td>24.0</td>\n",
       "      <td>70.0</td>\n",
       "      <td>37.0</td>\n",
       "      <td>33.0</td>\n",
       "      <td>13.0</td>\n",
       "      <td>24.0</td>\n",
       "      <td>33.0</td>\n",
       "      <td>0.0</td>\n",
       "      <td>0.013</td>\n",
       "      <td>0.000</td>\n",
       "      <td>0.657143</td>\n",
       "      <td>0.351351</td>\n",
       "      <td>1.000000</td>\n",
       "      <td>1.000000</td>\n",
       "    </tr>\n",
       "    <tr>\n",
       "      <th>2021-12-14 11:09:00 -&gt; 2022-03-23 15:00:00</th>\n",
       "      <td>47.0</td>\n",
       "      <td>24.0</td>\n",
       "      <td>71.0</td>\n",
       "      <td>36.0</td>\n",
       "      <td>35.0</td>\n",
       "      <td>12.0</td>\n",
       "      <td>24.0</td>\n",
       "      <td>35.0</td>\n",
       "      <td>0.0</td>\n",
       "      <td>0.013</td>\n",
       "      <td>0.001</td>\n",
       "      <td>0.661972</td>\n",
       "      <td>0.333333</td>\n",
       "      <td>1.000000</td>\n",
       "      <td>1.000000</td>\n",
       "    </tr>\n",
       "    <tr>\n",
       "      <th>2021-12-14 11:09:00 -&gt; 2022-03-23 15:00:00</th>\n",
       "      <td>50.0</td>\n",
       "      <td>24.0</td>\n",
       "      <td>74.0</td>\n",
       "      <td>35.0</td>\n",
       "      <td>39.0</td>\n",
       "      <td>11.0</td>\n",
       "      <td>24.0</td>\n",
       "      <td>39.0</td>\n",
       "      <td>0.0</td>\n",
       "      <td>0.013</td>\n",
       "      <td>0.002</td>\n",
       "      <td>0.675676</td>\n",
       "      <td>0.314286</td>\n",
       "      <td>1.000000</td>\n",
       "      <td>1.000000</td>\n",
       "    </tr>\n",
       "    <tr>\n",
       "      <th>2021-12-14 11:09:00 -&gt; 2022-03-23 15:00:00</th>\n",
       "      <td>53.0</td>\n",
       "      <td>24.0</td>\n",
       "      <td>77.0</td>\n",
       "      <td>35.0</td>\n",
       "      <td>42.0</td>\n",
       "      <td>11.0</td>\n",
       "      <td>24.0</td>\n",
       "      <td>42.0</td>\n",
       "      <td>0.0</td>\n",
       "      <td>0.013</td>\n",
       "      <td>0.003</td>\n",
       "      <td>0.688312</td>\n",
       "      <td>0.314286</td>\n",
       "      <td>1.000000</td>\n",
       "      <td>1.000000</td>\n",
       "    </tr>\n",
       "    <tr>\n",
       "      <th>2021-12-14 11:14:00 -&gt; 2022-03-23 15:00:00</th>\n",
       "      <td>39.0</td>\n",
       "      <td>23.0</td>\n",
       "      <td>62.0</td>\n",
       "      <td>36.0</td>\n",
       "      <td>26.0</td>\n",
       "      <td>13.0</td>\n",
       "      <td>23.0</td>\n",
       "      <td>26.0</td>\n",
       "      <td>0.0</td>\n",
       "      <td>0.014</td>\n",
       "      <td>0.000</td>\n",
       "      <td>0.629032</td>\n",
       "      <td>0.361111</td>\n",
       "      <td>1.000000</td>\n",
       "      <td>1.000000</td>\n",
       "    </tr>\n",
       "    <tr>\n",
       "      <th>2021-12-14 11:14:00 -&gt; 2022-03-23 15:00:00</th>\n",
       "      <td>40.0</td>\n",
       "      <td>23.0</td>\n",
       "      <td>63.0</td>\n",
       "      <td>36.0</td>\n",
       "      <td>27.0</td>\n",
       "      <td>13.0</td>\n",
       "      <td>23.0</td>\n",
       "      <td>27.0</td>\n",
       "      <td>0.0</td>\n",
       "      <td>0.014</td>\n",
       "      <td>0.001</td>\n",
       "      <td>0.634921</td>\n",
       "      <td>0.361111</td>\n",
       "      <td>1.000000</td>\n",
       "      <td>1.000000</td>\n",
       "    </tr>\n",
       "    <tr>\n",
       "      <th>2021-12-14 11:14:00 -&gt; 2022-03-23 15:00:00</th>\n",
       "      <td>44.0</td>\n",
       "      <td>22.0</td>\n",
       "      <td>66.0</td>\n",
       "      <td>35.0</td>\n",
       "      <td>31.0</td>\n",
       "      <td>13.0</td>\n",
       "      <td>22.0</td>\n",
       "      <td>31.0</td>\n",
       "      <td>0.0</td>\n",
       "      <td>0.014</td>\n",
       "      <td>0.002</td>\n",
       "      <td>0.666667</td>\n",
       "      <td>0.371429</td>\n",
       "      <td>1.000000</td>\n",
       "      <td>1.000000</td>\n",
       "    </tr>\n",
       "    <tr>\n",
       "      <th>2021-12-14 11:14:00 -&gt; 2022-03-23 15:00:00</th>\n",
       "      <td>47.0</td>\n",
       "      <td>22.0</td>\n",
       "      <td>69.0</td>\n",
       "      <td>35.0</td>\n",
       "      <td>34.0</td>\n",
       "      <td>13.0</td>\n",
       "      <td>22.0</td>\n",
       "      <td>34.0</td>\n",
       "      <td>0.0</td>\n",
       "      <td>0.014</td>\n",
       "      <td>0.003</td>\n",
       "      <td>0.681159</td>\n",
       "      <td>0.371429</td>\n",
       "      <td>1.000000</td>\n",
       "      <td>1.000000</td>\n",
       "    </tr>\n",
       "    <tr>\n",
       "      <th>2021-12-14 11:15:00 -&gt; 2022-03-23 15:00:00</th>\n",
       "      <td>37.0</td>\n",
       "      <td>20.0</td>\n",
       "      <td>57.0</td>\n",
       "      <td>35.0</td>\n",
       "      <td>22.0</td>\n",
       "      <td>15.0</td>\n",
       "      <td>20.0</td>\n",
       "      <td>22.0</td>\n",
       "      <td>0.0</td>\n",
       "      <td>0.015</td>\n",
       "      <td>0.000</td>\n",
       "      <td>0.649123</td>\n",
       "      <td>0.428571</td>\n",
       "      <td>1.000000</td>\n",
       "      <td>1.000000</td>\n",
       "    </tr>\n",
       "    <tr>\n",
       "      <th>2021-12-14 11:15:00 -&gt; 2022-03-23 15:00:00</th>\n",
       "      <td>37.0</td>\n",
       "      <td>20.0</td>\n",
       "      <td>57.0</td>\n",
       "      <td>34.0</td>\n",
       "      <td>23.0</td>\n",
       "      <td>14.0</td>\n",
       "      <td>20.0</td>\n",
       "      <td>23.0</td>\n",
       "      <td>0.0</td>\n",
       "      <td>0.015</td>\n",
       "      <td>0.001</td>\n",
       "      <td>0.649123</td>\n",
       "      <td>0.411765</td>\n",
       "      <td>1.000000</td>\n",
       "      <td>1.000000</td>\n",
       "    </tr>\n",
       "    <tr>\n",
       "      <th>2021-12-14 11:15:00 -&gt; 2022-03-23 15:00:00</th>\n",
       "      <td>40.0</td>\n",
       "      <td>19.0</td>\n",
       "      <td>59.0</td>\n",
       "      <td>34.0</td>\n",
       "      <td>25.0</td>\n",
       "      <td>15.0</td>\n",
       "      <td>19.0</td>\n",
       "      <td>25.0</td>\n",
       "      <td>0.0</td>\n",
       "      <td>0.015</td>\n",
       "      <td>0.002</td>\n",
       "      <td>0.677966</td>\n",
       "      <td>0.441176</td>\n",
       "      <td>1.000000</td>\n",
       "      <td>1.000000</td>\n",
       "    </tr>\n",
       "    <tr>\n",
       "      <th>2021-12-14 11:15:00 -&gt; 2022-03-23 15:00:00</th>\n",
       "      <td>43.0</td>\n",
       "      <td>19.0</td>\n",
       "      <td>62.0</td>\n",
       "      <td>34.0</td>\n",
       "      <td>28.0</td>\n",
       "      <td>15.0</td>\n",
       "      <td>19.0</td>\n",
       "      <td>28.0</td>\n",
       "      <td>0.0</td>\n",
       "      <td>0.015</td>\n",
       "      <td>0.003</td>\n",
       "      <td>0.693548</td>\n",
       "      <td>0.441176</td>\n",
       "      <td>1.000000</td>\n",
       "      <td>1.000000</td>\n",
       "    </tr>\n",
       "  </tbody>\n",
       "</table>\n",
       "</div>"
      ],
      "text/plain": [
       "                                              win  lose  total round  \\\n",
       "2021-12-14 09:30:00 -> 2022-03-23 15:00:00  179.0  47.0        226.0   \n",
       "2021-12-14 09:30:00 -> 2022-03-23 15:00:00  207.0  48.0        255.0   \n",
       "2021-12-14 09:30:00 -> 2022-03-23 15:00:00  262.0  49.0        311.0   \n",
       "2021-12-14 09:30:00 -> 2022-03-23 15:00:00  329.0  49.0        378.0   \n",
       "2021-12-14 09:32:00 -> 2022-03-23 15:00:00  148.0  41.0        189.0   \n",
       "2021-12-14 09:32:00 -> 2022-03-23 15:00:00  165.0  42.0        207.0   \n",
       "2021-12-14 09:32:00 -> 2022-03-23 15:00:00  196.0  44.0        240.0   \n",
       "2021-12-14 09:32:00 -> 2022-03-23 15:00:00  235.0  44.0        279.0   \n",
       "2021-12-14 10:33:00 -> 2022-03-23 15:00:00  107.0  41.0        148.0   \n",
       "2021-12-14 10:33:00 -> 2022-03-23 15:00:00  119.0  42.0        161.0   \n",
       "2021-12-14 10:33:00 -> 2022-03-23 15:00:00  135.0  41.0        176.0   \n",
       "2021-12-14 10:33:00 -> 2022-03-23 15:00:00  159.0  40.0        199.0   \n",
       "2021-12-14 10:34:00 -> 2022-03-23 15:00:00   87.0  40.0        127.0   \n",
       "2021-12-14 10:34:00 -> 2022-03-23 15:00:00   96.0  40.0        136.0   \n",
       "2021-12-14 10:34:00 -> 2022-03-23 15:00:00  105.0  38.0        143.0   \n",
       "2021-12-14 10:34:00 -> 2022-03-23 15:00:00  122.0  37.0        159.0   \n",
       "2021-12-14 10:34:00 -> 2022-03-23 15:00:00   76.0  35.0        111.0   \n",
       "2021-12-14 10:34:00 -> 2022-03-23 15:00:00   84.0  35.0        119.0   \n",
       "2021-12-14 10:34:00 -> 2022-03-23 15:00:00   89.0  35.0        124.0   \n",
       "2021-12-14 10:34:00 -> 2022-03-23 15:00:00  103.0  34.0        137.0   \n",
       "2021-12-14 10:36:00 -> 2022-03-23 15:00:00   70.0  32.0        102.0   \n",
       "2021-12-14 10:36:00 -> 2022-03-23 15:00:00   73.0  32.0        105.0   \n",
       "2021-12-14 10:36:00 -> 2022-03-23 15:00:00   77.0  32.0        109.0   \n",
       "2021-12-14 10:36:00 -> 2022-03-23 15:00:00   83.0  32.0        115.0   \n",
       "2021-12-14 10:36:00 -> 2022-03-23 15:00:00   58.0  30.0         88.0   \n",
       "2021-12-14 10:36:00 -> 2022-03-23 15:00:00   60.0  30.0         90.0   \n",
       "2021-12-14 10:36:00 -> 2022-03-23 15:00:00   63.0  31.0         94.0   \n",
       "2021-12-14 10:36:00 -> 2022-03-23 15:00:00   67.0  32.0         99.0   \n",
       "2021-12-14 10:37:00 -> 2022-03-23 15:00:00   51.0  26.0         77.0   \n",
       "2021-12-14 10:37:00 -> 2022-03-23 15:00:00   53.0  26.0         79.0   \n",
       "2021-12-14 10:37:00 -> 2022-03-23 15:00:00   56.0  26.0         82.0   \n",
       "2021-12-14 10:37:00 -> 2022-03-23 15:00:00   59.0  27.0         86.0   \n",
       "2021-12-14 11:09:00 -> 2022-03-23 15:00:00   46.0  24.0         70.0   \n",
       "2021-12-14 11:09:00 -> 2022-03-23 15:00:00   47.0  24.0         71.0   \n",
       "2021-12-14 11:09:00 -> 2022-03-23 15:00:00   50.0  24.0         74.0   \n",
       "2021-12-14 11:09:00 -> 2022-03-23 15:00:00   53.0  24.0         77.0   \n",
       "2021-12-14 11:14:00 -> 2022-03-23 15:00:00   39.0  23.0         62.0   \n",
       "2021-12-14 11:14:00 -> 2022-03-23 15:00:00   40.0  23.0         63.0   \n",
       "2021-12-14 11:14:00 -> 2022-03-23 15:00:00   44.0  22.0         66.0   \n",
       "2021-12-14 11:14:00 -> 2022-03-23 15:00:00   47.0  22.0         69.0   \n",
       "2021-12-14 11:15:00 -> 2022-03-23 15:00:00   37.0  20.0         57.0   \n",
       "2021-12-14 11:15:00 -> 2022-03-23 15:00:00   37.0  20.0         57.0   \n",
       "2021-12-14 11:15:00 -> 2022-03-23 15:00:00   40.0  19.0         59.0   \n",
       "2021-12-14 11:15:00 -> 2022-03-23 15:00:00   43.0  19.0         62.0   \n",
       "\n",
       "                                            close by time  close by signal  \\\n",
       "2021-12-14 09:30:00 -> 2022-03-23 15:00:00           57.0            169.0   \n",
       "2021-12-14 09:30:00 -> 2022-03-23 15:00:00           56.0            199.0   \n",
       "2021-12-14 09:30:00 -> 2022-03-23 15:00:00           56.0            255.0   \n",
       "2021-12-14 09:30:00 -> 2022-03-23 15:00:00           53.0            325.0   \n",
       "2021-12-14 09:32:00 -> 2022-03-23 15:00:00           55.0            134.0   \n",
       "2021-12-14 09:32:00 -> 2022-03-23 15:00:00           53.0            154.0   \n",
       "2021-12-14 09:32:00 -> 2022-03-23 15:00:00           53.0            187.0   \n",
       "2021-12-14 09:32:00 -> 2022-03-23 15:00:00           50.0            229.0   \n",
       "2021-12-14 10:33:00 -> 2022-03-23 15:00:00           52.0             96.0   \n",
       "2021-12-14 10:33:00 -> 2022-03-23 15:00:00           50.0            111.0   \n",
       "2021-12-14 10:33:00 -> 2022-03-23 15:00:00           49.0            127.0   \n",
       "2021-12-14 10:33:00 -> 2022-03-23 15:00:00           48.0            151.0   \n",
       "2021-12-14 10:34:00 -> 2022-03-23 15:00:00           50.0             77.0   \n",
       "2021-12-14 10:34:00 -> 2022-03-23 15:00:00           49.0             87.0   \n",
       "2021-12-14 10:34:00 -> 2022-03-23 15:00:00           46.0             97.0   \n",
       "2021-12-14 10:34:00 -> 2022-03-23 15:00:00           45.0            114.0   \n",
       "2021-12-14 10:34:00 -> 2022-03-23 15:00:00           48.0             63.0   \n",
       "2021-12-14 10:34:00 -> 2022-03-23 15:00:00           47.0             72.0   \n",
       "2021-12-14 10:34:00 -> 2022-03-23 15:00:00           45.0             79.0   \n",
       "2021-12-14 10:34:00 -> 2022-03-23 15:00:00           44.0             93.0   \n",
       "2021-12-14 10:36:00 -> 2022-03-23 15:00:00           46.0             56.0   \n",
       "2021-12-14 10:36:00 -> 2022-03-23 15:00:00           45.0             60.0   \n",
       "2021-12-14 10:36:00 -> 2022-03-23 15:00:00           43.0             66.0   \n",
       "2021-12-14 10:36:00 -> 2022-03-23 15:00:00           43.0             72.0   \n",
       "2021-12-14 10:36:00 -> 2022-03-23 15:00:00           43.0             45.0   \n",
       "2021-12-14 10:36:00 -> 2022-03-23 15:00:00           42.0             48.0   \n",
       "2021-12-14 10:36:00 -> 2022-03-23 15:00:00           41.0             53.0   \n",
       "2021-12-14 10:36:00 -> 2022-03-23 15:00:00           41.0             58.0   \n",
       "2021-12-14 10:37:00 -> 2022-03-23 15:00:00           38.0             39.0   \n",
       "2021-12-14 10:37:00 -> 2022-03-23 15:00:00           37.0             42.0   \n",
       "2021-12-14 10:37:00 -> 2022-03-23 15:00:00           36.0             46.0   \n",
       "2021-12-14 10:37:00 -> 2022-03-23 15:00:00           36.0             50.0   \n",
       "2021-12-14 11:09:00 -> 2022-03-23 15:00:00           37.0             33.0   \n",
       "2021-12-14 11:09:00 -> 2022-03-23 15:00:00           36.0             35.0   \n",
       "2021-12-14 11:09:00 -> 2022-03-23 15:00:00           35.0             39.0   \n",
       "2021-12-14 11:09:00 -> 2022-03-23 15:00:00           35.0             42.0   \n",
       "2021-12-14 11:14:00 -> 2022-03-23 15:00:00           36.0             26.0   \n",
       "2021-12-14 11:14:00 -> 2022-03-23 15:00:00           36.0             27.0   \n",
       "2021-12-14 11:14:00 -> 2022-03-23 15:00:00           35.0             31.0   \n",
       "2021-12-14 11:14:00 -> 2022-03-23 15:00:00           35.0             34.0   \n",
       "2021-12-14 11:15:00 -> 2022-03-23 15:00:00           35.0             22.0   \n",
       "2021-12-14 11:15:00 -> 2022-03-23 15:00:00           34.0             23.0   \n",
       "2021-12-14 11:15:00 -> 2022-03-23 15:00:00           34.0             25.0   \n",
       "2021-12-14 11:15:00 -> 2022-03-23 15:00:00           34.0             28.0   \n",
       "\n",
       "                                            close by time win  \\\n",
       "2021-12-14 09:30:00 -> 2022-03-23 15:00:00               11.0   \n",
       "2021-12-14 09:30:00 -> 2022-03-23 15:00:00               10.0   \n",
       "2021-12-14 09:30:00 -> 2022-03-23 15:00:00                9.0   \n",
       "2021-12-14 09:30:00 -> 2022-03-23 15:00:00                7.0   \n",
       "2021-12-14 09:32:00 -> 2022-03-23 15:00:00               15.0   \n",
       "2021-12-14 09:32:00 -> 2022-03-23 15:00:00               13.0   \n",
       "2021-12-14 09:32:00 -> 2022-03-23 15:00:00               11.0   \n",
       "2021-12-14 09:32:00 -> 2022-03-23 15:00:00                8.0   \n",
       "2021-12-14 10:33:00 -> 2022-03-23 15:00:00               12.0   \n",
       "2021-12-14 10:33:00 -> 2022-03-23 15:00:00               10.0   \n",
       "2021-12-14 10:33:00 -> 2022-03-23 15:00:00               10.0   \n",
       "2021-12-14 10:33:00 -> 2022-03-23 15:00:00               10.0   \n",
       "2021-12-14 10:34:00 -> 2022-03-23 15:00:00               10.0   \n",
       "2021-12-14 10:34:00 -> 2022-03-23 15:00:00                9.0   \n",
       "2021-12-14 10:34:00 -> 2022-03-23 15:00:00                8.0   \n",
       "2021-12-14 10:34:00 -> 2022-03-23 15:00:00                8.0   \n",
       "2021-12-14 10:34:00 -> 2022-03-23 15:00:00               13.0   \n",
       "2021-12-14 10:34:00 -> 2022-03-23 15:00:00               12.0   \n",
       "2021-12-14 10:34:00 -> 2022-03-23 15:00:00               10.0   \n",
       "2021-12-14 10:34:00 -> 2022-03-23 15:00:00               10.0   \n",
       "2021-12-14 10:36:00 -> 2022-03-23 15:00:00               14.0   \n",
       "2021-12-14 10:36:00 -> 2022-03-23 15:00:00               13.0   \n",
       "2021-12-14 10:36:00 -> 2022-03-23 15:00:00               11.0   \n",
       "2021-12-14 10:36:00 -> 2022-03-23 15:00:00               11.0   \n",
       "2021-12-14 10:36:00 -> 2022-03-23 15:00:00               13.0   \n",
       "2021-12-14 10:36:00 -> 2022-03-23 15:00:00               12.0   \n",
       "2021-12-14 10:36:00 -> 2022-03-23 15:00:00               10.0   \n",
       "2021-12-14 10:36:00 -> 2022-03-23 15:00:00                9.0   \n",
       "2021-12-14 10:37:00 -> 2022-03-23 15:00:00               12.0   \n",
       "2021-12-14 10:37:00 -> 2022-03-23 15:00:00               11.0   \n",
       "2021-12-14 10:37:00 -> 2022-03-23 15:00:00               10.0   \n",
       "2021-12-14 10:37:00 -> 2022-03-23 15:00:00                9.0   \n",
       "2021-12-14 11:09:00 -> 2022-03-23 15:00:00               13.0   \n",
       "2021-12-14 11:09:00 -> 2022-03-23 15:00:00               12.0   \n",
       "2021-12-14 11:09:00 -> 2022-03-23 15:00:00               11.0   \n",
       "2021-12-14 11:09:00 -> 2022-03-23 15:00:00               11.0   \n",
       "2021-12-14 11:14:00 -> 2022-03-23 15:00:00               13.0   \n",
       "2021-12-14 11:14:00 -> 2022-03-23 15:00:00               13.0   \n",
       "2021-12-14 11:14:00 -> 2022-03-23 15:00:00               13.0   \n",
       "2021-12-14 11:14:00 -> 2022-03-23 15:00:00               13.0   \n",
       "2021-12-14 11:15:00 -> 2022-03-23 15:00:00               15.0   \n",
       "2021-12-14 11:15:00 -> 2022-03-23 15:00:00               14.0   \n",
       "2021-12-14 11:15:00 -> 2022-03-23 15:00:00               15.0   \n",
       "2021-12-14 11:15:00 -> 2022-03-23 15:00:00               15.0   \n",
       "\n",
       "                                            close by time lose  \\\n",
       "2021-12-14 09:30:00 -> 2022-03-23 15:00:00                46.0   \n",
       "2021-12-14 09:30:00 -> 2022-03-23 15:00:00                46.0   \n",
       "2021-12-14 09:30:00 -> 2022-03-23 15:00:00                47.0   \n",
       "2021-12-14 09:30:00 -> 2022-03-23 15:00:00                46.0   \n",
       "2021-12-14 09:32:00 -> 2022-03-23 15:00:00                40.0   \n",
       "2021-12-14 09:32:00 -> 2022-03-23 15:00:00                40.0   \n",
       "2021-12-14 09:32:00 -> 2022-03-23 15:00:00                42.0   \n",
       "2021-12-14 09:32:00 -> 2022-03-23 15:00:00                42.0   \n",
       "2021-12-14 10:33:00 -> 2022-03-23 15:00:00                40.0   \n",
       "2021-12-14 10:33:00 -> 2022-03-23 15:00:00                40.0   \n",
       "2021-12-14 10:33:00 -> 2022-03-23 15:00:00                39.0   \n",
       "2021-12-14 10:33:00 -> 2022-03-23 15:00:00                38.0   \n",
       "2021-12-14 10:34:00 -> 2022-03-23 15:00:00                40.0   \n",
       "2021-12-14 10:34:00 -> 2022-03-23 15:00:00                40.0   \n",
       "2021-12-14 10:34:00 -> 2022-03-23 15:00:00                38.0   \n",
       "2021-12-14 10:34:00 -> 2022-03-23 15:00:00                37.0   \n",
       "2021-12-14 10:34:00 -> 2022-03-23 15:00:00                35.0   \n",
       "2021-12-14 10:34:00 -> 2022-03-23 15:00:00                35.0   \n",
       "2021-12-14 10:34:00 -> 2022-03-23 15:00:00                35.0   \n",
       "2021-12-14 10:34:00 -> 2022-03-23 15:00:00                34.0   \n",
       "2021-12-14 10:36:00 -> 2022-03-23 15:00:00                32.0   \n",
       "2021-12-14 10:36:00 -> 2022-03-23 15:00:00                32.0   \n",
       "2021-12-14 10:36:00 -> 2022-03-23 15:00:00                32.0   \n",
       "2021-12-14 10:36:00 -> 2022-03-23 15:00:00                32.0   \n",
       "2021-12-14 10:36:00 -> 2022-03-23 15:00:00                30.0   \n",
       "2021-12-14 10:36:00 -> 2022-03-23 15:00:00                30.0   \n",
       "2021-12-14 10:36:00 -> 2022-03-23 15:00:00                31.0   \n",
       "2021-12-14 10:36:00 -> 2022-03-23 15:00:00                32.0   \n",
       "2021-12-14 10:37:00 -> 2022-03-23 15:00:00                26.0   \n",
       "2021-12-14 10:37:00 -> 2022-03-23 15:00:00                26.0   \n",
       "2021-12-14 10:37:00 -> 2022-03-23 15:00:00                26.0   \n",
       "2021-12-14 10:37:00 -> 2022-03-23 15:00:00                27.0   \n",
       "2021-12-14 11:09:00 -> 2022-03-23 15:00:00                24.0   \n",
       "2021-12-14 11:09:00 -> 2022-03-23 15:00:00                24.0   \n",
       "2021-12-14 11:09:00 -> 2022-03-23 15:00:00                24.0   \n",
       "2021-12-14 11:09:00 -> 2022-03-23 15:00:00                24.0   \n",
       "2021-12-14 11:14:00 -> 2022-03-23 15:00:00                23.0   \n",
       "2021-12-14 11:14:00 -> 2022-03-23 15:00:00                23.0   \n",
       "2021-12-14 11:14:00 -> 2022-03-23 15:00:00                22.0   \n",
       "2021-12-14 11:14:00 -> 2022-03-23 15:00:00                22.0   \n",
       "2021-12-14 11:15:00 -> 2022-03-23 15:00:00                20.0   \n",
       "2021-12-14 11:15:00 -> 2022-03-23 15:00:00                20.0   \n",
       "2021-12-14 11:15:00 -> 2022-03-23 15:00:00                19.0   \n",
       "2021-12-14 11:15:00 -> 2022-03-23 15:00:00                19.0   \n",
       "\n",
       "                                            close by signal win  \\\n",
       "2021-12-14 09:30:00 -> 2022-03-23 15:00:00                168.0   \n",
       "2021-12-14 09:30:00 -> 2022-03-23 15:00:00                197.0   \n",
       "2021-12-14 09:30:00 -> 2022-03-23 15:00:00                253.0   \n",
       "2021-12-14 09:30:00 -> 2022-03-23 15:00:00                322.0   \n",
       "2021-12-14 09:32:00 -> 2022-03-23 15:00:00                133.0   \n",
       "2021-12-14 09:32:00 -> 2022-03-23 15:00:00                152.0   \n",
       "2021-12-14 09:32:00 -> 2022-03-23 15:00:00                185.0   \n",
       "2021-12-14 09:32:00 -> 2022-03-23 15:00:00                227.0   \n",
       "2021-12-14 10:33:00 -> 2022-03-23 15:00:00                 95.0   \n",
       "2021-12-14 10:33:00 -> 2022-03-23 15:00:00                109.0   \n",
       "2021-12-14 10:33:00 -> 2022-03-23 15:00:00                125.0   \n",
       "2021-12-14 10:33:00 -> 2022-03-23 15:00:00                149.0   \n",
       "2021-12-14 10:34:00 -> 2022-03-23 15:00:00                 77.0   \n",
       "2021-12-14 10:34:00 -> 2022-03-23 15:00:00                 87.0   \n",
       "2021-12-14 10:34:00 -> 2022-03-23 15:00:00                 97.0   \n",
       "2021-12-14 10:34:00 -> 2022-03-23 15:00:00                114.0   \n",
       "2021-12-14 10:34:00 -> 2022-03-23 15:00:00                 63.0   \n",
       "2021-12-14 10:34:00 -> 2022-03-23 15:00:00                 72.0   \n",
       "2021-12-14 10:34:00 -> 2022-03-23 15:00:00                 79.0   \n",
       "2021-12-14 10:34:00 -> 2022-03-23 15:00:00                 93.0   \n",
       "2021-12-14 10:36:00 -> 2022-03-23 15:00:00                 56.0   \n",
       "2021-12-14 10:36:00 -> 2022-03-23 15:00:00                 60.0   \n",
       "2021-12-14 10:36:00 -> 2022-03-23 15:00:00                 66.0   \n",
       "2021-12-14 10:36:00 -> 2022-03-23 15:00:00                 72.0   \n",
       "2021-12-14 10:36:00 -> 2022-03-23 15:00:00                 45.0   \n",
       "2021-12-14 10:36:00 -> 2022-03-23 15:00:00                 48.0   \n",
       "2021-12-14 10:36:00 -> 2022-03-23 15:00:00                 53.0   \n",
       "2021-12-14 10:36:00 -> 2022-03-23 15:00:00                 58.0   \n",
       "2021-12-14 10:37:00 -> 2022-03-23 15:00:00                 39.0   \n",
       "2021-12-14 10:37:00 -> 2022-03-23 15:00:00                 42.0   \n",
       "2021-12-14 10:37:00 -> 2022-03-23 15:00:00                 46.0   \n",
       "2021-12-14 10:37:00 -> 2022-03-23 15:00:00                 50.0   \n",
       "2021-12-14 11:09:00 -> 2022-03-23 15:00:00                 33.0   \n",
       "2021-12-14 11:09:00 -> 2022-03-23 15:00:00                 35.0   \n",
       "2021-12-14 11:09:00 -> 2022-03-23 15:00:00                 39.0   \n",
       "2021-12-14 11:09:00 -> 2022-03-23 15:00:00                 42.0   \n",
       "2021-12-14 11:14:00 -> 2022-03-23 15:00:00                 26.0   \n",
       "2021-12-14 11:14:00 -> 2022-03-23 15:00:00                 27.0   \n",
       "2021-12-14 11:14:00 -> 2022-03-23 15:00:00                 31.0   \n",
       "2021-12-14 11:14:00 -> 2022-03-23 15:00:00                 34.0   \n",
       "2021-12-14 11:15:00 -> 2022-03-23 15:00:00                 22.0   \n",
       "2021-12-14 11:15:00 -> 2022-03-23 15:00:00                 23.0   \n",
       "2021-12-14 11:15:00 -> 2022-03-23 15:00:00                 25.0   \n",
       "2021-12-14 11:15:00 -> 2022-03-23 15:00:00                 28.0   \n",
       "\n",
       "                                            close by signal lose  \\\n",
       "2021-12-14 09:30:00 -> 2022-03-23 15:00:00                   1.0   \n",
       "2021-12-14 09:30:00 -> 2022-03-23 15:00:00                   2.0   \n",
       "2021-12-14 09:30:00 -> 2022-03-23 15:00:00                   2.0   \n",
       "2021-12-14 09:30:00 -> 2022-03-23 15:00:00                   3.0   \n",
       "2021-12-14 09:32:00 -> 2022-03-23 15:00:00                   1.0   \n",
       "2021-12-14 09:32:00 -> 2022-03-23 15:00:00                   2.0   \n",
       "2021-12-14 09:32:00 -> 2022-03-23 15:00:00                   2.0   \n",
       "2021-12-14 09:32:00 -> 2022-03-23 15:00:00                   2.0   \n",
       "2021-12-14 10:33:00 -> 2022-03-23 15:00:00                   1.0   \n",
       "2021-12-14 10:33:00 -> 2022-03-23 15:00:00                   2.0   \n",
       "2021-12-14 10:33:00 -> 2022-03-23 15:00:00                   2.0   \n",
       "2021-12-14 10:33:00 -> 2022-03-23 15:00:00                   2.0   \n",
       "2021-12-14 10:34:00 -> 2022-03-23 15:00:00                   0.0   \n",
       "2021-12-14 10:34:00 -> 2022-03-23 15:00:00                   0.0   \n",
       "2021-12-14 10:34:00 -> 2022-03-23 15:00:00                   0.0   \n",
       "2021-12-14 10:34:00 -> 2022-03-23 15:00:00                   0.0   \n",
       "2021-12-14 10:34:00 -> 2022-03-23 15:00:00                   0.0   \n",
       "2021-12-14 10:34:00 -> 2022-03-23 15:00:00                   0.0   \n",
       "2021-12-14 10:34:00 -> 2022-03-23 15:00:00                   0.0   \n",
       "2021-12-14 10:34:00 -> 2022-03-23 15:00:00                   0.0   \n",
       "2021-12-14 10:36:00 -> 2022-03-23 15:00:00                   0.0   \n",
       "2021-12-14 10:36:00 -> 2022-03-23 15:00:00                   0.0   \n",
       "2021-12-14 10:36:00 -> 2022-03-23 15:00:00                   0.0   \n",
       "2021-12-14 10:36:00 -> 2022-03-23 15:00:00                   0.0   \n",
       "2021-12-14 10:36:00 -> 2022-03-23 15:00:00                   0.0   \n",
       "2021-12-14 10:36:00 -> 2022-03-23 15:00:00                   0.0   \n",
       "2021-12-14 10:36:00 -> 2022-03-23 15:00:00                   0.0   \n",
       "2021-12-14 10:36:00 -> 2022-03-23 15:00:00                   0.0   \n",
       "2021-12-14 10:37:00 -> 2022-03-23 15:00:00                   0.0   \n",
       "2021-12-14 10:37:00 -> 2022-03-23 15:00:00                   0.0   \n",
       "2021-12-14 10:37:00 -> 2022-03-23 15:00:00                   0.0   \n",
       "2021-12-14 10:37:00 -> 2022-03-23 15:00:00                   0.0   \n",
       "2021-12-14 11:09:00 -> 2022-03-23 15:00:00                   0.0   \n",
       "2021-12-14 11:09:00 -> 2022-03-23 15:00:00                   0.0   \n",
       "2021-12-14 11:09:00 -> 2022-03-23 15:00:00                   0.0   \n",
       "2021-12-14 11:09:00 -> 2022-03-23 15:00:00                   0.0   \n",
       "2021-12-14 11:14:00 -> 2022-03-23 15:00:00                   0.0   \n",
       "2021-12-14 11:14:00 -> 2022-03-23 15:00:00                   0.0   \n",
       "2021-12-14 11:14:00 -> 2022-03-23 15:00:00                   0.0   \n",
       "2021-12-14 11:14:00 -> 2022-03-23 15:00:00                   0.0   \n",
       "2021-12-14 11:15:00 -> 2022-03-23 15:00:00                   0.0   \n",
       "2021-12-14 11:15:00 -> 2022-03-23 15:00:00                   0.0   \n",
       "2021-12-14 11:15:00 -> 2022-03-23 15:00:00                   0.0   \n",
       "2021-12-14 11:15:00 -> 2022-03-23 15:00:00                   0.0   \n",
       "\n",
       "                                            open threshold  close threshold  \\\n",
       "2021-12-14 09:30:00 -> 2022-03-23 15:00:00           0.005            0.000   \n",
       "2021-12-14 09:30:00 -> 2022-03-23 15:00:00           0.005            0.001   \n",
       "2021-12-14 09:30:00 -> 2022-03-23 15:00:00           0.005            0.002   \n",
       "2021-12-14 09:30:00 -> 2022-03-23 15:00:00           0.005            0.003   \n",
       "2021-12-14 09:32:00 -> 2022-03-23 15:00:00           0.006            0.000   \n",
       "2021-12-14 09:32:00 -> 2022-03-23 15:00:00           0.006            0.001   \n",
       "2021-12-14 09:32:00 -> 2022-03-23 15:00:00           0.006            0.002   \n",
       "2021-12-14 09:32:00 -> 2022-03-23 15:00:00           0.006            0.003   \n",
       "2021-12-14 10:33:00 -> 2022-03-23 15:00:00           0.007            0.000   \n",
       "2021-12-14 10:33:00 -> 2022-03-23 15:00:00           0.007            0.001   \n",
       "2021-12-14 10:33:00 -> 2022-03-23 15:00:00           0.007            0.002   \n",
       "2021-12-14 10:33:00 -> 2022-03-23 15:00:00           0.007            0.003   \n",
       "2021-12-14 10:34:00 -> 2022-03-23 15:00:00           0.008            0.000   \n",
       "2021-12-14 10:34:00 -> 2022-03-23 15:00:00           0.008            0.001   \n",
       "2021-12-14 10:34:00 -> 2022-03-23 15:00:00           0.008            0.002   \n",
       "2021-12-14 10:34:00 -> 2022-03-23 15:00:00           0.008            0.003   \n",
       "2021-12-14 10:34:00 -> 2022-03-23 15:00:00           0.009            0.000   \n",
       "2021-12-14 10:34:00 -> 2022-03-23 15:00:00           0.009            0.001   \n",
       "2021-12-14 10:34:00 -> 2022-03-23 15:00:00           0.009            0.002   \n",
       "2021-12-14 10:34:00 -> 2022-03-23 15:00:00           0.009            0.003   \n",
       "2021-12-14 10:36:00 -> 2022-03-23 15:00:00           0.010            0.000   \n",
       "2021-12-14 10:36:00 -> 2022-03-23 15:00:00           0.010            0.001   \n",
       "2021-12-14 10:36:00 -> 2022-03-23 15:00:00           0.010            0.002   \n",
       "2021-12-14 10:36:00 -> 2022-03-23 15:00:00           0.010            0.003   \n",
       "2021-12-14 10:36:00 -> 2022-03-23 15:00:00           0.011            0.000   \n",
       "2021-12-14 10:36:00 -> 2022-03-23 15:00:00           0.011            0.001   \n",
       "2021-12-14 10:36:00 -> 2022-03-23 15:00:00           0.011            0.002   \n",
       "2021-12-14 10:36:00 -> 2022-03-23 15:00:00           0.011            0.003   \n",
       "2021-12-14 10:37:00 -> 2022-03-23 15:00:00           0.012            0.000   \n",
       "2021-12-14 10:37:00 -> 2022-03-23 15:00:00           0.012            0.001   \n",
       "2021-12-14 10:37:00 -> 2022-03-23 15:00:00           0.012            0.002   \n",
       "2021-12-14 10:37:00 -> 2022-03-23 15:00:00           0.012            0.003   \n",
       "2021-12-14 11:09:00 -> 2022-03-23 15:00:00           0.013            0.000   \n",
       "2021-12-14 11:09:00 -> 2022-03-23 15:00:00           0.013            0.001   \n",
       "2021-12-14 11:09:00 -> 2022-03-23 15:00:00           0.013            0.002   \n",
       "2021-12-14 11:09:00 -> 2022-03-23 15:00:00           0.013            0.003   \n",
       "2021-12-14 11:14:00 -> 2022-03-23 15:00:00           0.014            0.000   \n",
       "2021-12-14 11:14:00 -> 2022-03-23 15:00:00           0.014            0.001   \n",
       "2021-12-14 11:14:00 -> 2022-03-23 15:00:00           0.014            0.002   \n",
       "2021-12-14 11:14:00 -> 2022-03-23 15:00:00           0.014            0.003   \n",
       "2021-12-14 11:15:00 -> 2022-03-23 15:00:00           0.015            0.000   \n",
       "2021-12-14 11:15:00 -> 2022-03-23 15:00:00           0.015            0.001   \n",
       "2021-12-14 11:15:00 -> 2022-03-23 15:00:00           0.015            0.002   \n",
       "2021-12-14 11:15:00 -> 2022-03-23 15:00:00           0.015            0.003   \n",
       "\n",
       "                                            win rate  \\\n",
       "2021-12-14 09:30:00 -> 2022-03-23 15:00:00  0.792035   \n",
       "2021-12-14 09:30:00 -> 2022-03-23 15:00:00  0.811765   \n",
       "2021-12-14 09:30:00 -> 2022-03-23 15:00:00  0.842444   \n",
       "2021-12-14 09:30:00 -> 2022-03-23 15:00:00  0.870370   \n",
       "2021-12-14 09:32:00 -> 2022-03-23 15:00:00  0.783069   \n",
       "2021-12-14 09:32:00 -> 2022-03-23 15:00:00  0.797101   \n",
       "2021-12-14 09:32:00 -> 2022-03-23 15:00:00  0.816667   \n",
       "2021-12-14 09:32:00 -> 2022-03-23 15:00:00  0.842294   \n",
       "2021-12-14 10:33:00 -> 2022-03-23 15:00:00  0.722973   \n",
       "2021-12-14 10:33:00 -> 2022-03-23 15:00:00  0.739130   \n",
       "2021-12-14 10:33:00 -> 2022-03-23 15:00:00  0.767045   \n",
       "2021-12-14 10:33:00 -> 2022-03-23 15:00:00  0.798995   \n",
       "2021-12-14 10:34:00 -> 2022-03-23 15:00:00  0.685039   \n",
       "2021-12-14 10:34:00 -> 2022-03-23 15:00:00  0.705882   \n",
       "2021-12-14 10:34:00 -> 2022-03-23 15:00:00  0.734266   \n",
       "2021-12-14 10:34:00 -> 2022-03-23 15:00:00  0.767296   \n",
       "2021-12-14 10:34:00 -> 2022-03-23 15:00:00  0.684685   \n",
       "2021-12-14 10:34:00 -> 2022-03-23 15:00:00  0.705882   \n",
       "2021-12-14 10:34:00 -> 2022-03-23 15:00:00  0.717742   \n",
       "2021-12-14 10:34:00 -> 2022-03-23 15:00:00  0.751825   \n",
       "2021-12-14 10:36:00 -> 2022-03-23 15:00:00  0.686275   \n",
       "2021-12-14 10:36:00 -> 2022-03-23 15:00:00  0.695238   \n",
       "2021-12-14 10:36:00 -> 2022-03-23 15:00:00  0.706422   \n",
       "2021-12-14 10:36:00 -> 2022-03-23 15:00:00  0.721739   \n",
       "2021-12-14 10:36:00 -> 2022-03-23 15:00:00  0.659091   \n",
       "2021-12-14 10:36:00 -> 2022-03-23 15:00:00  0.666667   \n",
       "2021-12-14 10:36:00 -> 2022-03-23 15:00:00  0.670213   \n",
       "2021-12-14 10:36:00 -> 2022-03-23 15:00:00  0.676768   \n",
       "2021-12-14 10:37:00 -> 2022-03-23 15:00:00  0.662338   \n",
       "2021-12-14 10:37:00 -> 2022-03-23 15:00:00  0.670886   \n",
       "2021-12-14 10:37:00 -> 2022-03-23 15:00:00  0.682927   \n",
       "2021-12-14 10:37:00 -> 2022-03-23 15:00:00  0.686047   \n",
       "2021-12-14 11:09:00 -> 2022-03-23 15:00:00  0.657143   \n",
       "2021-12-14 11:09:00 -> 2022-03-23 15:00:00  0.661972   \n",
       "2021-12-14 11:09:00 -> 2022-03-23 15:00:00  0.675676   \n",
       "2021-12-14 11:09:00 -> 2022-03-23 15:00:00  0.688312   \n",
       "2021-12-14 11:14:00 -> 2022-03-23 15:00:00  0.629032   \n",
       "2021-12-14 11:14:00 -> 2022-03-23 15:00:00  0.634921   \n",
       "2021-12-14 11:14:00 -> 2022-03-23 15:00:00  0.666667   \n",
       "2021-12-14 11:14:00 -> 2022-03-23 15:00:00  0.681159   \n",
       "2021-12-14 11:15:00 -> 2022-03-23 15:00:00  0.649123   \n",
       "2021-12-14 11:15:00 -> 2022-03-23 15:00:00  0.649123   \n",
       "2021-12-14 11:15:00 -> 2022-03-23 15:00:00  0.677966   \n",
       "2021-12-14 11:15:00 -> 2022-03-23 15:00:00  0.693548   \n",
       "\n",
       "                                            close by time win/close by time  \\\n",
       "2021-12-14 09:30:00 -> 2022-03-23 15:00:00                         0.192982   \n",
       "2021-12-14 09:30:00 -> 2022-03-23 15:00:00                         0.178571   \n",
       "2021-12-14 09:30:00 -> 2022-03-23 15:00:00                         0.160714   \n",
       "2021-12-14 09:30:00 -> 2022-03-23 15:00:00                         0.132075   \n",
       "2021-12-14 09:32:00 -> 2022-03-23 15:00:00                         0.272727   \n",
       "2021-12-14 09:32:00 -> 2022-03-23 15:00:00                         0.245283   \n",
       "2021-12-14 09:32:00 -> 2022-03-23 15:00:00                         0.207547   \n",
       "2021-12-14 09:32:00 -> 2022-03-23 15:00:00                         0.160000   \n",
       "2021-12-14 10:33:00 -> 2022-03-23 15:00:00                         0.230769   \n",
       "2021-12-14 10:33:00 -> 2022-03-23 15:00:00                         0.200000   \n",
       "2021-12-14 10:33:00 -> 2022-03-23 15:00:00                         0.204082   \n",
       "2021-12-14 10:33:00 -> 2022-03-23 15:00:00                         0.208333   \n",
       "2021-12-14 10:34:00 -> 2022-03-23 15:00:00                         0.200000   \n",
       "2021-12-14 10:34:00 -> 2022-03-23 15:00:00                         0.183673   \n",
       "2021-12-14 10:34:00 -> 2022-03-23 15:00:00                         0.173913   \n",
       "2021-12-14 10:34:00 -> 2022-03-23 15:00:00                         0.177778   \n",
       "2021-12-14 10:34:00 -> 2022-03-23 15:00:00                         0.270833   \n",
       "2021-12-14 10:34:00 -> 2022-03-23 15:00:00                         0.255319   \n",
       "2021-12-14 10:34:00 -> 2022-03-23 15:00:00                         0.222222   \n",
       "2021-12-14 10:34:00 -> 2022-03-23 15:00:00                         0.227273   \n",
       "2021-12-14 10:36:00 -> 2022-03-23 15:00:00                         0.304348   \n",
       "2021-12-14 10:36:00 -> 2022-03-23 15:00:00                         0.288889   \n",
       "2021-12-14 10:36:00 -> 2022-03-23 15:00:00                         0.255814   \n",
       "2021-12-14 10:36:00 -> 2022-03-23 15:00:00                         0.255814   \n",
       "2021-12-14 10:36:00 -> 2022-03-23 15:00:00                         0.302326   \n",
       "2021-12-14 10:36:00 -> 2022-03-23 15:00:00                         0.285714   \n",
       "2021-12-14 10:36:00 -> 2022-03-23 15:00:00                         0.243902   \n",
       "2021-12-14 10:36:00 -> 2022-03-23 15:00:00                         0.219512   \n",
       "2021-12-14 10:37:00 -> 2022-03-23 15:00:00                         0.315789   \n",
       "2021-12-14 10:37:00 -> 2022-03-23 15:00:00                         0.297297   \n",
       "2021-12-14 10:37:00 -> 2022-03-23 15:00:00                         0.277778   \n",
       "2021-12-14 10:37:00 -> 2022-03-23 15:00:00                         0.250000   \n",
       "2021-12-14 11:09:00 -> 2022-03-23 15:00:00                         0.351351   \n",
       "2021-12-14 11:09:00 -> 2022-03-23 15:00:00                         0.333333   \n",
       "2021-12-14 11:09:00 -> 2022-03-23 15:00:00                         0.314286   \n",
       "2021-12-14 11:09:00 -> 2022-03-23 15:00:00                         0.314286   \n",
       "2021-12-14 11:14:00 -> 2022-03-23 15:00:00                         0.361111   \n",
       "2021-12-14 11:14:00 -> 2022-03-23 15:00:00                         0.361111   \n",
       "2021-12-14 11:14:00 -> 2022-03-23 15:00:00                         0.371429   \n",
       "2021-12-14 11:14:00 -> 2022-03-23 15:00:00                         0.371429   \n",
       "2021-12-14 11:15:00 -> 2022-03-23 15:00:00                         0.428571   \n",
       "2021-12-14 11:15:00 -> 2022-03-23 15:00:00                         0.411765   \n",
       "2021-12-14 11:15:00 -> 2022-03-23 15:00:00                         0.441176   \n",
       "2021-12-14 11:15:00 -> 2022-03-23 15:00:00                         0.441176   \n",
       "\n",
       "                                            close by signal win/close by signal  \\\n",
       "2021-12-14 09:30:00 -> 2022-03-23 15:00:00                             0.994083   \n",
       "2021-12-14 09:30:00 -> 2022-03-23 15:00:00                             0.989950   \n",
       "2021-12-14 09:30:00 -> 2022-03-23 15:00:00                             0.992157   \n",
       "2021-12-14 09:30:00 -> 2022-03-23 15:00:00                             0.990769   \n",
       "2021-12-14 09:32:00 -> 2022-03-23 15:00:00                             0.992537   \n",
       "2021-12-14 09:32:00 -> 2022-03-23 15:00:00                             0.987013   \n",
       "2021-12-14 09:32:00 -> 2022-03-23 15:00:00                             0.989305   \n",
       "2021-12-14 09:32:00 -> 2022-03-23 15:00:00                             0.991266   \n",
       "2021-12-14 10:33:00 -> 2022-03-23 15:00:00                             0.989583   \n",
       "2021-12-14 10:33:00 -> 2022-03-23 15:00:00                             0.981982   \n",
       "2021-12-14 10:33:00 -> 2022-03-23 15:00:00                             0.984252   \n",
       "2021-12-14 10:33:00 -> 2022-03-23 15:00:00                             0.986755   \n",
       "2021-12-14 10:34:00 -> 2022-03-23 15:00:00                             1.000000   \n",
       "2021-12-14 10:34:00 -> 2022-03-23 15:00:00                             1.000000   \n",
       "2021-12-14 10:34:00 -> 2022-03-23 15:00:00                             1.000000   \n",
       "2021-12-14 10:34:00 -> 2022-03-23 15:00:00                             1.000000   \n",
       "2021-12-14 10:34:00 -> 2022-03-23 15:00:00                             1.000000   \n",
       "2021-12-14 10:34:00 -> 2022-03-23 15:00:00                             1.000000   \n",
       "2021-12-14 10:34:00 -> 2022-03-23 15:00:00                             1.000000   \n",
       "2021-12-14 10:34:00 -> 2022-03-23 15:00:00                             1.000000   \n",
       "2021-12-14 10:36:00 -> 2022-03-23 15:00:00                             1.000000   \n",
       "2021-12-14 10:36:00 -> 2022-03-23 15:00:00                             1.000000   \n",
       "2021-12-14 10:36:00 -> 2022-03-23 15:00:00                             1.000000   \n",
       "2021-12-14 10:36:00 -> 2022-03-23 15:00:00                             1.000000   \n",
       "2021-12-14 10:36:00 -> 2022-03-23 15:00:00                             1.000000   \n",
       "2021-12-14 10:36:00 -> 2022-03-23 15:00:00                             1.000000   \n",
       "2021-12-14 10:36:00 -> 2022-03-23 15:00:00                             1.000000   \n",
       "2021-12-14 10:36:00 -> 2022-03-23 15:00:00                             1.000000   \n",
       "2021-12-14 10:37:00 -> 2022-03-23 15:00:00                             1.000000   \n",
       "2021-12-14 10:37:00 -> 2022-03-23 15:00:00                             1.000000   \n",
       "2021-12-14 10:37:00 -> 2022-03-23 15:00:00                             1.000000   \n",
       "2021-12-14 10:37:00 -> 2022-03-23 15:00:00                             1.000000   \n",
       "2021-12-14 11:09:00 -> 2022-03-23 15:00:00                             1.000000   \n",
       "2021-12-14 11:09:00 -> 2022-03-23 15:00:00                             1.000000   \n",
       "2021-12-14 11:09:00 -> 2022-03-23 15:00:00                             1.000000   \n",
       "2021-12-14 11:09:00 -> 2022-03-23 15:00:00                             1.000000   \n",
       "2021-12-14 11:14:00 -> 2022-03-23 15:00:00                             1.000000   \n",
       "2021-12-14 11:14:00 -> 2022-03-23 15:00:00                             1.000000   \n",
       "2021-12-14 11:14:00 -> 2022-03-23 15:00:00                             1.000000   \n",
       "2021-12-14 11:14:00 -> 2022-03-23 15:00:00                             1.000000   \n",
       "2021-12-14 11:15:00 -> 2022-03-23 15:00:00                             1.000000   \n",
       "2021-12-14 11:15:00 -> 2022-03-23 15:00:00                             1.000000   \n",
       "2021-12-14 11:15:00 -> 2022-03-23 15:00:00                             1.000000   \n",
       "2021-12-14 11:15:00 -> 2022-03-23 15:00:00                             1.000000   \n",
       "\n",
       "                                            close by time lose/lose  \n",
       "2021-12-14 09:30:00 -> 2022-03-23 15:00:00                 0.978723  \n",
       "2021-12-14 09:30:00 -> 2022-03-23 15:00:00                 0.958333  \n",
       "2021-12-14 09:30:00 -> 2022-03-23 15:00:00                 0.959184  \n",
       "2021-12-14 09:30:00 -> 2022-03-23 15:00:00                 0.938776  \n",
       "2021-12-14 09:32:00 -> 2022-03-23 15:00:00                 0.975610  \n",
       "2021-12-14 09:32:00 -> 2022-03-23 15:00:00                 0.952381  \n",
       "2021-12-14 09:32:00 -> 2022-03-23 15:00:00                 0.954545  \n",
       "2021-12-14 09:32:00 -> 2022-03-23 15:00:00                 0.954545  \n",
       "2021-12-14 10:33:00 -> 2022-03-23 15:00:00                 0.975610  \n",
       "2021-12-14 10:33:00 -> 2022-03-23 15:00:00                 0.952381  \n",
       "2021-12-14 10:33:00 -> 2022-03-23 15:00:00                 0.951220  \n",
       "2021-12-14 10:33:00 -> 2022-03-23 15:00:00                 0.950000  \n",
       "2021-12-14 10:34:00 -> 2022-03-23 15:00:00                 1.000000  \n",
       "2021-12-14 10:34:00 -> 2022-03-23 15:00:00                 1.000000  \n",
       "2021-12-14 10:34:00 -> 2022-03-23 15:00:00                 1.000000  \n",
       "2021-12-14 10:34:00 -> 2022-03-23 15:00:00                 1.000000  \n",
       "2021-12-14 10:34:00 -> 2022-03-23 15:00:00                 1.000000  \n",
       "2021-12-14 10:34:00 -> 2022-03-23 15:00:00                 1.000000  \n",
       "2021-12-14 10:34:00 -> 2022-03-23 15:00:00                 1.000000  \n",
       "2021-12-14 10:34:00 -> 2022-03-23 15:00:00                 1.000000  \n",
       "2021-12-14 10:36:00 -> 2022-03-23 15:00:00                 1.000000  \n",
       "2021-12-14 10:36:00 -> 2022-03-23 15:00:00                 1.000000  \n",
       "2021-12-14 10:36:00 -> 2022-03-23 15:00:00                 1.000000  \n",
       "2021-12-14 10:36:00 -> 2022-03-23 15:00:00                 1.000000  \n",
       "2021-12-14 10:36:00 -> 2022-03-23 15:00:00                 1.000000  \n",
       "2021-12-14 10:36:00 -> 2022-03-23 15:00:00                 1.000000  \n",
       "2021-12-14 10:36:00 -> 2022-03-23 15:00:00                 1.000000  \n",
       "2021-12-14 10:36:00 -> 2022-03-23 15:00:00                 1.000000  \n",
       "2021-12-14 10:37:00 -> 2022-03-23 15:00:00                 1.000000  \n",
       "2021-12-14 10:37:00 -> 2022-03-23 15:00:00                 1.000000  \n",
       "2021-12-14 10:37:00 -> 2022-03-23 15:00:00                 1.000000  \n",
       "2021-12-14 10:37:00 -> 2022-03-23 15:00:00                 1.000000  \n",
       "2021-12-14 11:09:00 -> 2022-03-23 15:00:00                 1.000000  \n",
       "2021-12-14 11:09:00 -> 2022-03-23 15:00:00                 1.000000  \n",
       "2021-12-14 11:09:00 -> 2022-03-23 15:00:00                 1.000000  \n",
       "2021-12-14 11:09:00 -> 2022-03-23 15:00:00                 1.000000  \n",
       "2021-12-14 11:14:00 -> 2022-03-23 15:00:00                 1.000000  \n",
       "2021-12-14 11:14:00 -> 2022-03-23 15:00:00                 1.000000  \n",
       "2021-12-14 11:14:00 -> 2022-03-23 15:00:00                 1.000000  \n",
       "2021-12-14 11:14:00 -> 2022-03-23 15:00:00                 1.000000  \n",
       "2021-12-14 11:15:00 -> 2022-03-23 15:00:00                 1.000000  \n",
       "2021-12-14 11:15:00 -> 2022-03-23 15:00:00                 1.000000  \n",
       "2021-12-14 11:15:00 -> 2022-03-23 15:00:00                 1.000000  \n",
       "2021-12-14 11:15:00 -> 2022-03-23 15:00:00                 1.000000  "
      ]
     },
     "execution_count": 13,
     "metadata": {},
     "output_type": "execute_result"
    }
   ],
   "source": [
    "tmp_grid_res = df_grid_search_res[['win','lose','total round',\n",
    "                    'close by time','close by signal',\n",
    "                    'close by time win','close by time lose',\n",
    "                    'close by signal win','close by signal lose',\n",
    "                    'open threshold', 'close threshold','win rate'\n",
    "                    ]]\n",
    "\n",
    "tmp_grid_res['close by time win/close by time'] = tmp_grid_res['close by time win']/tmp_grid_res['close by time']\n",
    "tmp_grid_res['close by signal win/close by signal'] = tmp_grid_res['close by signal win']/tmp_grid_res['close by signal']\n",
    "tmp_grid_res['close by time lose/lose'] = tmp_grid_res['close by time lose']/tmp_grid_res['lose']\n",
    "# tmp_df.to_excel('')\n",
    "# tmp_grid_res.to_excel('tmp_grid_res.xlsx')\n",
    "tmp_grid_res"
   ]
  },
  {
   "cell_type": "markdown",
   "metadata": {},
   "source": [
    "# return per round surface"
   ]
  },
  {
   "cell_type": "code",
   "execution_count": 14,
   "metadata": {},
   "outputs": [
    {
     "name": "stdout",
     "output_type": "stream",
     "text": [
      "max return per round: \n",
      " 0.000    0.005445\n",
      "0.001    0.005202\n",
      "0.002    0.005288\n",
      "0.003    0.005349\n",
      "dtype: float64\n",
      "min return per round: \n",
      " 0.000    0.003365\n",
      "0.001    0.003064\n",
      "0.002    0.002637\n",
      "0.003    0.002182\n",
      "dtype: float64\n"
     ]
    },
    {
     "data": {
      "text/html": [
       "<div>\n",
       "<style scoped>\n",
       "    .dataframe tbody tr th:only-of-type {\n",
       "        vertical-align: middle;\n",
       "    }\n",
       "\n",
       "    .dataframe tbody tr th {\n",
       "        vertical-align: top;\n",
       "    }\n",
       "\n",
       "    .dataframe thead th {\n",
       "        text-align: right;\n",
       "    }\n",
       "</style>\n",
       "<table border=\"1\" class=\"dataframe\">\n",
       "  <thead>\n",
       "    <tr style=\"text-align: right;\">\n",
       "      <th></th>\n",
       "      <th>0.000</th>\n",
       "      <th>0.001</th>\n",
       "      <th>0.002</th>\n",
       "      <th>0.003</th>\n",
       "    </tr>\n",
       "  </thead>\n",
       "  <tbody>\n",
       "    <tr>\n",
       "      <th>0.005</th>\n",
       "      <td>0.003365</td>\n",
       "      <td>0.003064</td>\n",
       "      <td>0.002637</td>\n",
       "      <td>0.002182</td>\n",
       "    </tr>\n",
       "    <tr>\n",
       "      <th>0.006</th>\n",
       "      <td>0.003585</td>\n",
       "      <td>0.003308</td>\n",
       "      <td>0.002898</td>\n",
       "      <td>0.002541</td>\n",
       "    </tr>\n",
       "    <tr>\n",
       "      <th>0.007</th>\n",
       "      <td>0.003525</td>\n",
       "      <td>0.003320</td>\n",
       "      <td>0.002906</td>\n",
       "      <td>0.002653</td>\n",
       "    </tr>\n",
       "    <tr>\n",
       "      <th>0.008</th>\n",
       "      <td>0.003747</td>\n",
       "      <td>0.003527</td>\n",
       "      <td>0.003216</td>\n",
       "      <td>0.003027</td>\n",
       "    </tr>\n",
       "    <tr>\n",
       "      <th>0.009</th>\n",
       "      <td>0.003941</td>\n",
       "      <td>0.003778</td>\n",
       "      <td>0.003420</td>\n",
       "      <td>0.003364</td>\n",
       "    </tr>\n",
       "    <tr>\n",
       "      <th>0.010</th>\n",
       "      <td>0.004237</td>\n",
       "      <td>0.003904</td>\n",
       "      <td>0.003596</td>\n",
       "      <td>0.003456</td>\n",
       "    </tr>\n",
       "    <tr>\n",
       "      <th>0.011</th>\n",
       "      <td>0.004277</td>\n",
       "      <td>0.003908</td>\n",
       "      <td>0.003582</td>\n",
       "      <td>0.003541</td>\n",
       "    </tr>\n",
       "    <tr>\n",
       "      <th>0.012</th>\n",
       "      <td>0.004864</td>\n",
       "      <td>0.004450</td>\n",
       "      <td>0.004295</td>\n",
       "      <td>0.004204</td>\n",
       "    </tr>\n",
       "    <tr>\n",
       "      <th>0.013</th>\n",
       "      <td>0.005302</td>\n",
       "      <td>0.004936</td>\n",
       "      <td>0.004836</td>\n",
       "      <td>0.004772</td>\n",
       "    </tr>\n",
       "    <tr>\n",
       "      <th>0.014</th>\n",
       "      <td>0.005445</td>\n",
       "      <td>0.005202</td>\n",
       "      <td>0.005288</td>\n",
       "      <td>0.005349</td>\n",
       "    </tr>\n",
       "    <tr>\n",
       "      <th>0.015</th>\n",
       "      <td>0.005116</td>\n",
       "      <td>0.004801</td>\n",
       "      <td>0.004801</td>\n",
       "      <td>0.005003</td>\n",
       "    </tr>\n",
       "  </tbody>\n",
       "</table>\n",
       "</div>"
      ],
      "text/plain": [
       "          0.000     0.001     0.002     0.003\n",
       "0.005  0.003365  0.003064  0.002637  0.002182\n",
       "0.006  0.003585  0.003308  0.002898  0.002541\n",
       "0.007  0.003525  0.003320  0.002906  0.002653\n",
       "0.008  0.003747  0.003527  0.003216  0.003027\n",
       "0.009  0.003941  0.003778  0.003420  0.003364\n",
       "0.010  0.004237  0.003904  0.003596  0.003456\n",
       "0.011  0.004277  0.003908  0.003582  0.003541\n",
       "0.012  0.004864  0.004450  0.004295  0.004204\n",
       "0.013  0.005302  0.004936  0.004836  0.004772\n",
       "0.014  0.005445  0.005202  0.005288  0.005349\n",
       "0.015  0.005116  0.004801  0.004801  0.005003"
      ]
     },
     "execution_count": 14,
     "metadata": {},
     "output_type": "execute_result"
    }
   ],
   "source": [
    "df_return_per_round = pd.DataFrame([])\n",
    "for index,row in df_grid_search_res.iterrows():\n",
    "    open_threshold = row['open threshold']\n",
    "    close_threshold = row['close threshold']\n",
    "    df_return_per_round.loc[open_threshold,close_threshold] = row['return per round']\n",
    "print('max return per round: \\n',df_return_per_round.max())\n",
    "print('min return per round: \\n',df_return_per_round.min())\n",
    "df_return_per_round"
   ]
  },
  {
   "cell_type": "code",
   "execution_count": 15,
   "metadata": {},
   "outputs": [
    {
     "data": {
      "application/vnd.plotly.v1+json": {
       "config": {
        "plotlyServerURL": "https://plot.ly"
       },
       "data": [
        {
         "type": "surface",
         "x": [
          0,
          0.001,
          0.002,
          0.003
         ],
         "y": [
          0.005,
          0.006,
          0.007,
          0.008,
          0.009,
          0.01,
          0.011,
          0.012,
          0.013,
          0.014,
          0.015
         ],
         "z": [
          [
           0.0033650922534885414,
           0.0030644545689594376,
           0.0026366070181881576,
           0.002181894932623185
          ],
          [
           0.0035849251227976623,
           0.003307848095956996,
           0.002898227083390441,
           0.0025409966729150343
          ],
          [
           0.0035247703878853874,
           0.0033203600965785577,
           0.002906465011988112,
           0.002653491927429919
          ],
          [
           0.0037472456419794884,
           0.0035272332454786416,
           0.0032160257448917077,
           0.003027200658578506
          ],
          [
           0.00394102291118139,
           0.0037777245829923086,
           0.0034197567933594705,
           0.0033643036203216104
          ],
          [
           0.00423678705253027,
           0.003903641621966402,
           0.0035958944749597916,
           0.003456389776668151
          ],
          [
           0.004277439385622203,
           0.003908459349528763,
           0.0035824919158914128,
           0.003540748924407757
          ],
          [
           0.0048643643712473926,
           0.004449537452785148,
           0.004294662756713903,
           0.004203640843877093
          ],
          [
           0.005301900029490305,
           0.004936312184469148,
           0.0048357642447329294,
           0.00477157901494044
          ],
          [
           0.005444989390986226,
           0.005201885444516434,
           0.005288128243209793,
           0.0053492756311937515
          ],
          [
           0.005116428221717069,
           0.004801282702580623,
           0.004800792084827017,
           0.0050033108778089926
          ]
         ]
        }
       ],
       "layout": {
        "autosize": false,
        "height": 600,
        "margin": {
         "b": 65,
         "l": 65,
         "r": 50,
         "t": 90
        },
        "scene": {
         "xaxis": {
          "title": {
           "text": "X-close-threshold"
          }
         },
         "yaxis": {
          "title": {
           "text": "Y-open-threshold"
          }
         }
        },
        "template": {
         "data": {
          "bar": [
           {
            "error_x": {
             "color": "#2a3f5f"
            },
            "error_y": {
             "color": "#2a3f5f"
            },
            "marker": {
             "line": {
              "color": "#E5ECF6",
              "width": 0.5
             },
             "pattern": {
              "fillmode": "overlay",
              "size": 10,
              "solidity": 0.2
             }
            },
            "type": "bar"
           }
          ],
          "barpolar": [
           {
            "marker": {
             "line": {
              "color": "#E5ECF6",
              "width": 0.5
             },
             "pattern": {
              "fillmode": "overlay",
              "size": 10,
              "solidity": 0.2
             }
            },
            "type": "barpolar"
           }
          ],
          "carpet": [
           {
            "aaxis": {
             "endlinecolor": "#2a3f5f",
             "gridcolor": "white",
             "linecolor": "white",
             "minorgridcolor": "white",
             "startlinecolor": "#2a3f5f"
            },
            "baxis": {
             "endlinecolor": "#2a3f5f",
             "gridcolor": "white",
             "linecolor": "white",
             "minorgridcolor": "white",
             "startlinecolor": "#2a3f5f"
            },
            "type": "carpet"
           }
          ],
          "choropleth": [
           {
            "colorbar": {
             "outlinewidth": 0,
             "ticks": ""
            },
            "type": "choropleth"
           }
          ],
          "contour": [
           {
            "colorbar": {
             "outlinewidth": 0,
             "ticks": ""
            },
            "colorscale": [
             [
              0,
              "#0d0887"
             ],
             [
              0.1111111111111111,
              "#46039f"
             ],
             [
              0.2222222222222222,
              "#7201a8"
             ],
             [
              0.3333333333333333,
              "#9c179e"
             ],
             [
              0.4444444444444444,
              "#bd3786"
             ],
             [
              0.5555555555555556,
              "#d8576b"
             ],
             [
              0.6666666666666666,
              "#ed7953"
             ],
             [
              0.7777777777777778,
              "#fb9f3a"
             ],
             [
              0.8888888888888888,
              "#fdca26"
             ],
             [
              1,
              "#f0f921"
             ]
            ],
            "type": "contour"
           }
          ],
          "contourcarpet": [
           {
            "colorbar": {
             "outlinewidth": 0,
             "ticks": ""
            },
            "type": "contourcarpet"
           }
          ],
          "heatmap": [
           {
            "colorbar": {
             "outlinewidth": 0,
             "ticks": ""
            },
            "colorscale": [
             [
              0,
              "#0d0887"
             ],
             [
              0.1111111111111111,
              "#46039f"
             ],
             [
              0.2222222222222222,
              "#7201a8"
             ],
             [
              0.3333333333333333,
              "#9c179e"
             ],
             [
              0.4444444444444444,
              "#bd3786"
             ],
             [
              0.5555555555555556,
              "#d8576b"
             ],
             [
              0.6666666666666666,
              "#ed7953"
             ],
             [
              0.7777777777777778,
              "#fb9f3a"
             ],
             [
              0.8888888888888888,
              "#fdca26"
             ],
             [
              1,
              "#f0f921"
             ]
            ],
            "type": "heatmap"
           }
          ],
          "heatmapgl": [
           {
            "colorbar": {
             "outlinewidth": 0,
             "ticks": ""
            },
            "colorscale": [
             [
              0,
              "#0d0887"
             ],
             [
              0.1111111111111111,
              "#46039f"
             ],
             [
              0.2222222222222222,
              "#7201a8"
             ],
             [
              0.3333333333333333,
              "#9c179e"
             ],
             [
              0.4444444444444444,
              "#bd3786"
             ],
             [
              0.5555555555555556,
              "#d8576b"
             ],
             [
              0.6666666666666666,
              "#ed7953"
             ],
             [
              0.7777777777777778,
              "#fb9f3a"
             ],
             [
              0.8888888888888888,
              "#fdca26"
             ],
             [
              1,
              "#f0f921"
             ]
            ],
            "type": "heatmapgl"
           }
          ],
          "histogram": [
           {
            "marker": {
             "pattern": {
              "fillmode": "overlay",
              "size": 10,
              "solidity": 0.2
             }
            },
            "type": "histogram"
           }
          ],
          "histogram2d": [
           {
            "colorbar": {
             "outlinewidth": 0,
             "ticks": ""
            },
            "colorscale": [
             [
              0,
              "#0d0887"
             ],
             [
              0.1111111111111111,
              "#46039f"
             ],
             [
              0.2222222222222222,
              "#7201a8"
             ],
             [
              0.3333333333333333,
              "#9c179e"
             ],
             [
              0.4444444444444444,
              "#bd3786"
             ],
             [
              0.5555555555555556,
              "#d8576b"
             ],
             [
              0.6666666666666666,
              "#ed7953"
             ],
             [
              0.7777777777777778,
              "#fb9f3a"
             ],
             [
              0.8888888888888888,
              "#fdca26"
             ],
             [
              1,
              "#f0f921"
             ]
            ],
            "type": "histogram2d"
           }
          ],
          "histogram2dcontour": [
           {
            "colorbar": {
             "outlinewidth": 0,
             "ticks": ""
            },
            "colorscale": [
             [
              0,
              "#0d0887"
             ],
             [
              0.1111111111111111,
              "#46039f"
             ],
             [
              0.2222222222222222,
              "#7201a8"
             ],
             [
              0.3333333333333333,
              "#9c179e"
             ],
             [
              0.4444444444444444,
              "#bd3786"
             ],
             [
              0.5555555555555556,
              "#d8576b"
             ],
             [
              0.6666666666666666,
              "#ed7953"
             ],
             [
              0.7777777777777778,
              "#fb9f3a"
             ],
             [
              0.8888888888888888,
              "#fdca26"
             ],
             [
              1,
              "#f0f921"
             ]
            ],
            "type": "histogram2dcontour"
           }
          ],
          "mesh3d": [
           {
            "colorbar": {
             "outlinewidth": 0,
             "ticks": ""
            },
            "type": "mesh3d"
           }
          ],
          "parcoords": [
           {
            "line": {
             "colorbar": {
              "outlinewidth": 0,
              "ticks": ""
             }
            },
            "type": "parcoords"
           }
          ],
          "pie": [
           {
            "automargin": true,
            "type": "pie"
           }
          ],
          "scatter": [
           {
            "fillpattern": {
             "fillmode": "overlay",
             "size": 10,
             "solidity": 0.2
            },
            "type": "scatter"
           }
          ],
          "scatter3d": [
           {
            "line": {
             "colorbar": {
              "outlinewidth": 0,
              "ticks": ""
             }
            },
            "marker": {
             "colorbar": {
              "outlinewidth": 0,
              "ticks": ""
             }
            },
            "type": "scatter3d"
           }
          ],
          "scattercarpet": [
           {
            "marker": {
             "colorbar": {
              "outlinewidth": 0,
              "ticks": ""
             }
            },
            "type": "scattercarpet"
           }
          ],
          "scattergeo": [
           {
            "marker": {
             "colorbar": {
              "outlinewidth": 0,
              "ticks": ""
             }
            },
            "type": "scattergeo"
           }
          ],
          "scattergl": [
           {
            "marker": {
             "colorbar": {
              "outlinewidth": 0,
              "ticks": ""
             }
            },
            "type": "scattergl"
           }
          ],
          "scattermapbox": [
           {
            "marker": {
             "colorbar": {
              "outlinewidth": 0,
              "ticks": ""
             }
            },
            "type": "scattermapbox"
           }
          ],
          "scatterpolar": [
           {
            "marker": {
             "colorbar": {
              "outlinewidth": 0,
              "ticks": ""
             }
            },
            "type": "scatterpolar"
           }
          ],
          "scatterpolargl": [
           {
            "marker": {
             "colorbar": {
              "outlinewidth": 0,
              "ticks": ""
             }
            },
            "type": "scatterpolargl"
           }
          ],
          "scatterternary": [
           {
            "marker": {
             "colorbar": {
              "outlinewidth": 0,
              "ticks": ""
             }
            },
            "type": "scatterternary"
           }
          ],
          "surface": [
           {
            "colorbar": {
             "outlinewidth": 0,
             "ticks": ""
            },
            "colorscale": [
             [
              0,
              "#0d0887"
             ],
             [
              0.1111111111111111,
              "#46039f"
             ],
             [
              0.2222222222222222,
              "#7201a8"
             ],
             [
              0.3333333333333333,
              "#9c179e"
             ],
             [
              0.4444444444444444,
              "#bd3786"
             ],
             [
              0.5555555555555556,
              "#d8576b"
             ],
             [
              0.6666666666666666,
              "#ed7953"
             ],
             [
              0.7777777777777778,
              "#fb9f3a"
             ],
             [
              0.8888888888888888,
              "#fdca26"
             ],
             [
              1,
              "#f0f921"
             ]
            ],
            "type": "surface"
           }
          ],
          "table": [
           {
            "cells": {
             "fill": {
              "color": "#EBF0F8"
             },
             "line": {
              "color": "white"
             }
            },
            "header": {
             "fill": {
              "color": "#C8D4E3"
             },
             "line": {
              "color": "white"
             }
            },
            "type": "table"
           }
          ]
         },
         "layout": {
          "annotationdefaults": {
           "arrowcolor": "#2a3f5f",
           "arrowhead": 0,
           "arrowwidth": 1
          },
          "autotypenumbers": "strict",
          "coloraxis": {
           "colorbar": {
            "outlinewidth": 0,
            "ticks": ""
           }
          },
          "colorscale": {
           "diverging": [
            [
             0,
             "#8e0152"
            ],
            [
             0.1,
             "#c51b7d"
            ],
            [
             0.2,
             "#de77ae"
            ],
            [
             0.3,
             "#f1b6da"
            ],
            [
             0.4,
             "#fde0ef"
            ],
            [
             0.5,
             "#f7f7f7"
            ],
            [
             0.6,
             "#e6f5d0"
            ],
            [
             0.7,
             "#b8e186"
            ],
            [
             0.8,
             "#7fbc41"
            ],
            [
             0.9,
             "#4d9221"
            ],
            [
             1,
             "#276419"
            ]
           ],
           "sequential": [
            [
             0,
             "#0d0887"
            ],
            [
             0.1111111111111111,
             "#46039f"
            ],
            [
             0.2222222222222222,
             "#7201a8"
            ],
            [
             0.3333333333333333,
             "#9c179e"
            ],
            [
             0.4444444444444444,
             "#bd3786"
            ],
            [
             0.5555555555555556,
             "#d8576b"
            ],
            [
             0.6666666666666666,
             "#ed7953"
            ],
            [
             0.7777777777777778,
             "#fb9f3a"
            ],
            [
             0.8888888888888888,
             "#fdca26"
            ],
            [
             1,
             "#f0f921"
            ]
           ],
           "sequentialminus": [
            [
             0,
             "#0d0887"
            ],
            [
             0.1111111111111111,
             "#46039f"
            ],
            [
             0.2222222222222222,
             "#7201a8"
            ],
            [
             0.3333333333333333,
             "#9c179e"
            ],
            [
             0.4444444444444444,
             "#bd3786"
            ],
            [
             0.5555555555555556,
             "#d8576b"
            ],
            [
             0.6666666666666666,
             "#ed7953"
            ],
            [
             0.7777777777777778,
             "#fb9f3a"
            ],
            [
             0.8888888888888888,
             "#fdca26"
            ],
            [
             1,
             "#f0f921"
            ]
           ]
          },
          "colorway": [
           "#636efa",
           "#EF553B",
           "#00cc96",
           "#ab63fa",
           "#FFA15A",
           "#19d3f3",
           "#FF6692",
           "#B6E880",
           "#FF97FF",
           "#FECB52"
          ],
          "font": {
           "color": "#2a3f5f"
          },
          "geo": {
           "bgcolor": "white",
           "lakecolor": "white",
           "landcolor": "#E5ECF6",
           "showlakes": true,
           "showland": true,
           "subunitcolor": "white"
          },
          "hoverlabel": {
           "align": "left"
          },
          "hovermode": "closest",
          "mapbox": {
           "style": "light"
          },
          "paper_bgcolor": "white",
          "plot_bgcolor": "#E5ECF6",
          "polar": {
           "angularaxis": {
            "gridcolor": "white",
            "linecolor": "white",
            "ticks": ""
           },
           "bgcolor": "#E5ECF6",
           "radialaxis": {
            "gridcolor": "white",
            "linecolor": "white",
            "ticks": ""
           }
          },
          "scene": {
           "xaxis": {
            "backgroundcolor": "#E5ECF6",
            "gridcolor": "white",
            "gridwidth": 2,
            "linecolor": "white",
            "showbackground": true,
            "ticks": "",
            "zerolinecolor": "white"
           },
           "yaxis": {
            "backgroundcolor": "#E5ECF6",
            "gridcolor": "white",
            "gridwidth": 2,
            "linecolor": "white",
            "showbackground": true,
            "ticks": "",
            "zerolinecolor": "white"
           },
           "zaxis": {
            "backgroundcolor": "#E5ECF6",
            "gridcolor": "white",
            "gridwidth": 2,
            "linecolor": "white",
            "showbackground": true,
            "ticks": "",
            "zerolinecolor": "white"
           }
          },
          "shapedefaults": {
           "line": {
            "color": "#2a3f5f"
           }
          },
          "ternary": {
           "aaxis": {
            "gridcolor": "white",
            "linecolor": "white",
            "ticks": ""
           },
           "baxis": {
            "gridcolor": "white",
            "linecolor": "white",
            "ticks": ""
           },
           "bgcolor": "#E5ECF6",
           "caxis": {
            "gridcolor": "white",
            "linecolor": "white",
            "ticks": ""
           }
          },
          "title": {
           "x": 0.05
          },
          "xaxis": {
           "automargin": true,
           "gridcolor": "white",
           "linecolor": "white",
           "ticks": "",
           "title": {
            "standoff": 15
           },
           "zerolinecolor": "white",
           "zerolinewidth": 2
          },
          "yaxis": {
           "automargin": true,
           "gridcolor": "white",
           "linecolor": "white",
           "ticks": "",
           "title": {
            "standoff": 15
           },
           "zerolinecolor": "white",
           "zerolinewidth": 2
          }
         }
        },
        "title": {
         "text": "return per round"
        },
        "width": 700
       }
      }
     },
     "metadata": {},
     "output_type": "display_data"
    }
   ],
   "source": [
    "import plotly.graph_objects as go\n",
    "\n",
    "x_data = df_return_per_round.columns.to_list() # close threshold\n",
    "\n",
    "y_data = df_return_per_round.index.to_list() # open threshold\n",
    "\n",
    "z_data = df_return_per_round.copy(deep=True) # return per round\n",
    "\n",
    "fig = go.Figure(data=[go.Surface(z=z_data.values,x=x_data,y=y_data)])\n",
    "\n",
    "fig.update_layout(title=\"return per round\", # 标题\n",
    "                  autosize=False,  # 尺度自动缩放\n",
    "                  width=700,  # 长宽\n",
    "                  height=600,\n",
    "                  margin=dict(l=65,r=50,b=65,t=90),  # 4个位置的距离\n",
    "                  scene=dict(xaxis_title='X-close-threshold',yaxis_title='Y-open-threshold')\n",
    "                 )\n",
    "\n",
    "fig.show()"
   ]
  },
  {
   "cell_type": "markdown",
   "metadata": {},
   "source": [
    "# win rate surface"
   ]
  },
  {
   "cell_type": "code",
   "execution_count": 16,
   "metadata": {},
   "outputs": [
    {
     "name": "stdout",
     "output_type": "stream",
     "text": [
      "max win rate: \n",
      " 0.000    0.792035\n",
      "0.001    0.811765\n",
      "0.002    0.842444\n",
      "0.003    0.870370\n",
      "dtype: float64\n",
      "min win rate: \n",
      " 0.000    0.629032\n",
      "0.001    0.634921\n",
      "0.002    0.666667\n",
      "0.003    0.676768\n",
      "dtype: float64\n"
     ]
    },
    {
     "data": {
      "text/html": [
       "<div>\n",
       "<style scoped>\n",
       "    .dataframe tbody tr th:only-of-type {\n",
       "        vertical-align: middle;\n",
       "    }\n",
       "\n",
       "    .dataframe tbody tr th {\n",
       "        vertical-align: top;\n",
       "    }\n",
       "\n",
       "    .dataframe thead th {\n",
       "        text-align: right;\n",
       "    }\n",
       "</style>\n",
       "<table border=\"1\" class=\"dataframe\">\n",
       "  <thead>\n",
       "    <tr style=\"text-align: right;\">\n",
       "      <th></th>\n",
       "      <th>0.000</th>\n",
       "      <th>0.001</th>\n",
       "      <th>0.002</th>\n",
       "      <th>0.003</th>\n",
       "    </tr>\n",
       "  </thead>\n",
       "  <tbody>\n",
       "    <tr>\n",
       "      <th>0.005</th>\n",
       "      <td>0.792035</td>\n",
       "      <td>0.811765</td>\n",
       "      <td>0.842444</td>\n",
       "      <td>0.870370</td>\n",
       "    </tr>\n",
       "    <tr>\n",
       "      <th>0.006</th>\n",
       "      <td>0.783069</td>\n",
       "      <td>0.797101</td>\n",
       "      <td>0.816667</td>\n",
       "      <td>0.842294</td>\n",
       "    </tr>\n",
       "    <tr>\n",
       "      <th>0.007</th>\n",
       "      <td>0.722973</td>\n",
       "      <td>0.739130</td>\n",
       "      <td>0.767045</td>\n",
       "      <td>0.798995</td>\n",
       "    </tr>\n",
       "    <tr>\n",
       "      <th>0.008</th>\n",
       "      <td>0.685039</td>\n",
       "      <td>0.705882</td>\n",
       "      <td>0.734266</td>\n",
       "      <td>0.767296</td>\n",
       "    </tr>\n",
       "    <tr>\n",
       "      <th>0.009</th>\n",
       "      <td>0.684685</td>\n",
       "      <td>0.705882</td>\n",
       "      <td>0.717742</td>\n",
       "      <td>0.751825</td>\n",
       "    </tr>\n",
       "    <tr>\n",
       "      <th>0.010</th>\n",
       "      <td>0.686275</td>\n",
       "      <td>0.695238</td>\n",
       "      <td>0.706422</td>\n",
       "      <td>0.721739</td>\n",
       "    </tr>\n",
       "    <tr>\n",
       "      <th>0.011</th>\n",
       "      <td>0.659091</td>\n",
       "      <td>0.666667</td>\n",
       "      <td>0.670213</td>\n",
       "      <td>0.676768</td>\n",
       "    </tr>\n",
       "    <tr>\n",
       "      <th>0.012</th>\n",
       "      <td>0.662338</td>\n",
       "      <td>0.670886</td>\n",
       "      <td>0.682927</td>\n",
       "      <td>0.686047</td>\n",
       "    </tr>\n",
       "    <tr>\n",
       "      <th>0.013</th>\n",
       "      <td>0.657143</td>\n",
       "      <td>0.661972</td>\n",
       "      <td>0.675676</td>\n",
       "      <td>0.688312</td>\n",
       "    </tr>\n",
       "    <tr>\n",
       "      <th>0.014</th>\n",
       "      <td>0.629032</td>\n",
       "      <td>0.634921</td>\n",
       "      <td>0.666667</td>\n",
       "      <td>0.681159</td>\n",
       "    </tr>\n",
       "    <tr>\n",
       "      <th>0.015</th>\n",
       "      <td>0.649123</td>\n",
       "      <td>0.649123</td>\n",
       "      <td>0.677966</td>\n",
       "      <td>0.693548</td>\n",
       "    </tr>\n",
       "  </tbody>\n",
       "</table>\n",
       "</div>"
      ],
      "text/plain": [
       "          0.000     0.001     0.002     0.003\n",
       "0.005  0.792035  0.811765  0.842444  0.870370\n",
       "0.006  0.783069  0.797101  0.816667  0.842294\n",
       "0.007  0.722973  0.739130  0.767045  0.798995\n",
       "0.008  0.685039  0.705882  0.734266  0.767296\n",
       "0.009  0.684685  0.705882  0.717742  0.751825\n",
       "0.010  0.686275  0.695238  0.706422  0.721739\n",
       "0.011  0.659091  0.666667  0.670213  0.676768\n",
       "0.012  0.662338  0.670886  0.682927  0.686047\n",
       "0.013  0.657143  0.661972  0.675676  0.688312\n",
       "0.014  0.629032  0.634921  0.666667  0.681159\n",
       "0.015  0.649123  0.649123  0.677966  0.693548"
      ]
     },
     "execution_count": 16,
     "metadata": {},
     "output_type": "execute_result"
    }
   ],
   "source": [
    "df_win_rate = pd.DataFrame([])\n",
    "for index,row in df_grid_search_res.iterrows():\n",
    "    open_threshold = row['open threshold']\n",
    "    close_threshold = row['close threshold']\n",
    "    df_win_rate.loc[open_threshold,close_threshold] = row['win rate']\n",
    "print('max win rate: \\n',df_win_rate.max())\n",
    "print('min win rate: \\n',df_win_rate.min())    \n",
    "df_win_rate"
   ]
  },
  {
   "cell_type": "code",
   "execution_count": 17,
   "metadata": {},
   "outputs": [
    {
     "data": {
      "application/vnd.plotly.v1+json": {
       "config": {
        "plotlyServerURL": "https://plot.ly"
       },
       "data": [
        {
         "type": "surface",
         "x": [
          0,
          0.001,
          0.002,
          0.003
         ],
         "y": [
          0.005,
          0.006,
          0.007,
          0.008,
          0.009,
          0.01,
          0.011,
          0.012,
          0.013,
          0.014,
          0.015
         ],
         "z": [
          [
           0.7920353982300885,
           0.8117647058823529,
           0.842443729903537,
           0.8703703703703703
          ],
          [
           0.783068783068783,
           0.7971014492753623,
           0.8166666666666667,
           0.8422939068100358
          ],
          [
           0.722972972972973,
           0.7391304347826086,
           0.7670454545454546,
           0.7989949748743719
          ],
          [
           0.6850393700787402,
           0.7058823529411765,
           0.7342657342657343,
           0.7672955974842768
          ],
          [
           0.6846846846846847,
           0.7058823529411765,
           0.717741935483871,
           0.7518248175182481
          ],
          [
           0.6862745098039216,
           0.6952380952380952,
           0.7064220183486238,
           0.7217391304347827
          ],
          [
           0.6590909090909091,
           0.6666666666666666,
           0.6702127659574468,
           0.6767676767676768
          ],
          [
           0.6623376623376623,
           0.6708860759493671,
           0.6829268292682927,
           0.686046511627907
          ],
          [
           0.6571428571428571,
           0.6619718309859155,
           0.6756756756756757,
           0.6883116883116883
          ],
          [
           0.6290322580645161,
           0.6349206349206349,
           0.6666666666666666,
           0.6811594202898551
          ],
          [
           0.6491228070175439,
           0.6491228070175439,
           0.6779661016949152,
           0.6935483870967742
          ]
         ]
        }
       ],
       "layout": {
        "autosize": false,
        "height": 600,
        "margin": {
         "b": 65,
         "l": 65,
         "r": 50,
         "t": 90
        },
        "scene": {
         "xaxis": {
          "title": {
           "text": "X-close-threshold"
          }
         },
         "yaxis": {
          "title": {
           "text": "Y-open-threshold"
          }
         }
        },
        "template": {
         "data": {
          "bar": [
           {
            "error_x": {
             "color": "#2a3f5f"
            },
            "error_y": {
             "color": "#2a3f5f"
            },
            "marker": {
             "line": {
              "color": "#E5ECF6",
              "width": 0.5
             },
             "pattern": {
              "fillmode": "overlay",
              "size": 10,
              "solidity": 0.2
             }
            },
            "type": "bar"
           }
          ],
          "barpolar": [
           {
            "marker": {
             "line": {
              "color": "#E5ECF6",
              "width": 0.5
             },
             "pattern": {
              "fillmode": "overlay",
              "size": 10,
              "solidity": 0.2
             }
            },
            "type": "barpolar"
           }
          ],
          "carpet": [
           {
            "aaxis": {
             "endlinecolor": "#2a3f5f",
             "gridcolor": "white",
             "linecolor": "white",
             "minorgridcolor": "white",
             "startlinecolor": "#2a3f5f"
            },
            "baxis": {
             "endlinecolor": "#2a3f5f",
             "gridcolor": "white",
             "linecolor": "white",
             "minorgridcolor": "white",
             "startlinecolor": "#2a3f5f"
            },
            "type": "carpet"
           }
          ],
          "choropleth": [
           {
            "colorbar": {
             "outlinewidth": 0,
             "ticks": ""
            },
            "type": "choropleth"
           }
          ],
          "contour": [
           {
            "colorbar": {
             "outlinewidth": 0,
             "ticks": ""
            },
            "colorscale": [
             [
              0,
              "#0d0887"
             ],
             [
              0.1111111111111111,
              "#46039f"
             ],
             [
              0.2222222222222222,
              "#7201a8"
             ],
             [
              0.3333333333333333,
              "#9c179e"
             ],
             [
              0.4444444444444444,
              "#bd3786"
             ],
             [
              0.5555555555555556,
              "#d8576b"
             ],
             [
              0.6666666666666666,
              "#ed7953"
             ],
             [
              0.7777777777777778,
              "#fb9f3a"
             ],
             [
              0.8888888888888888,
              "#fdca26"
             ],
             [
              1,
              "#f0f921"
             ]
            ],
            "type": "contour"
           }
          ],
          "contourcarpet": [
           {
            "colorbar": {
             "outlinewidth": 0,
             "ticks": ""
            },
            "type": "contourcarpet"
           }
          ],
          "heatmap": [
           {
            "colorbar": {
             "outlinewidth": 0,
             "ticks": ""
            },
            "colorscale": [
             [
              0,
              "#0d0887"
             ],
             [
              0.1111111111111111,
              "#46039f"
             ],
             [
              0.2222222222222222,
              "#7201a8"
             ],
             [
              0.3333333333333333,
              "#9c179e"
             ],
             [
              0.4444444444444444,
              "#bd3786"
             ],
             [
              0.5555555555555556,
              "#d8576b"
             ],
             [
              0.6666666666666666,
              "#ed7953"
             ],
             [
              0.7777777777777778,
              "#fb9f3a"
             ],
             [
              0.8888888888888888,
              "#fdca26"
             ],
             [
              1,
              "#f0f921"
             ]
            ],
            "type": "heatmap"
           }
          ],
          "heatmapgl": [
           {
            "colorbar": {
             "outlinewidth": 0,
             "ticks": ""
            },
            "colorscale": [
             [
              0,
              "#0d0887"
             ],
             [
              0.1111111111111111,
              "#46039f"
             ],
             [
              0.2222222222222222,
              "#7201a8"
             ],
             [
              0.3333333333333333,
              "#9c179e"
             ],
             [
              0.4444444444444444,
              "#bd3786"
             ],
             [
              0.5555555555555556,
              "#d8576b"
             ],
             [
              0.6666666666666666,
              "#ed7953"
             ],
             [
              0.7777777777777778,
              "#fb9f3a"
             ],
             [
              0.8888888888888888,
              "#fdca26"
             ],
             [
              1,
              "#f0f921"
             ]
            ],
            "type": "heatmapgl"
           }
          ],
          "histogram": [
           {
            "marker": {
             "pattern": {
              "fillmode": "overlay",
              "size": 10,
              "solidity": 0.2
             }
            },
            "type": "histogram"
           }
          ],
          "histogram2d": [
           {
            "colorbar": {
             "outlinewidth": 0,
             "ticks": ""
            },
            "colorscale": [
             [
              0,
              "#0d0887"
             ],
             [
              0.1111111111111111,
              "#46039f"
             ],
             [
              0.2222222222222222,
              "#7201a8"
             ],
             [
              0.3333333333333333,
              "#9c179e"
             ],
             [
              0.4444444444444444,
              "#bd3786"
             ],
             [
              0.5555555555555556,
              "#d8576b"
             ],
             [
              0.6666666666666666,
              "#ed7953"
             ],
             [
              0.7777777777777778,
              "#fb9f3a"
             ],
             [
              0.8888888888888888,
              "#fdca26"
             ],
             [
              1,
              "#f0f921"
             ]
            ],
            "type": "histogram2d"
           }
          ],
          "histogram2dcontour": [
           {
            "colorbar": {
             "outlinewidth": 0,
             "ticks": ""
            },
            "colorscale": [
             [
              0,
              "#0d0887"
             ],
             [
              0.1111111111111111,
              "#46039f"
             ],
             [
              0.2222222222222222,
              "#7201a8"
             ],
             [
              0.3333333333333333,
              "#9c179e"
             ],
             [
              0.4444444444444444,
              "#bd3786"
             ],
             [
              0.5555555555555556,
              "#d8576b"
             ],
             [
              0.6666666666666666,
              "#ed7953"
             ],
             [
              0.7777777777777778,
              "#fb9f3a"
             ],
             [
              0.8888888888888888,
              "#fdca26"
             ],
             [
              1,
              "#f0f921"
             ]
            ],
            "type": "histogram2dcontour"
           }
          ],
          "mesh3d": [
           {
            "colorbar": {
             "outlinewidth": 0,
             "ticks": ""
            },
            "type": "mesh3d"
           }
          ],
          "parcoords": [
           {
            "line": {
             "colorbar": {
              "outlinewidth": 0,
              "ticks": ""
             }
            },
            "type": "parcoords"
           }
          ],
          "pie": [
           {
            "automargin": true,
            "type": "pie"
           }
          ],
          "scatter": [
           {
            "fillpattern": {
             "fillmode": "overlay",
             "size": 10,
             "solidity": 0.2
            },
            "type": "scatter"
           }
          ],
          "scatter3d": [
           {
            "line": {
             "colorbar": {
              "outlinewidth": 0,
              "ticks": ""
             }
            },
            "marker": {
             "colorbar": {
              "outlinewidth": 0,
              "ticks": ""
             }
            },
            "type": "scatter3d"
           }
          ],
          "scattercarpet": [
           {
            "marker": {
             "colorbar": {
              "outlinewidth": 0,
              "ticks": ""
             }
            },
            "type": "scattercarpet"
           }
          ],
          "scattergeo": [
           {
            "marker": {
             "colorbar": {
              "outlinewidth": 0,
              "ticks": ""
             }
            },
            "type": "scattergeo"
           }
          ],
          "scattergl": [
           {
            "marker": {
             "colorbar": {
              "outlinewidth": 0,
              "ticks": ""
             }
            },
            "type": "scattergl"
           }
          ],
          "scattermapbox": [
           {
            "marker": {
             "colorbar": {
              "outlinewidth": 0,
              "ticks": ""
             }
            },
            "type": "scattermapbox"
           }
          ],
          "scatterpolar": [
           {
            "marker": {
             "colorbar": {
              "outlinewidth": 0,
              "ticks": ""
             }
            },
            "type": "scatterpolar"
           }
          ],
          "scatterpolargl": [
           {
            "marker": {
             "colorbar": {
              "outlinewidth": 0,
              "ticks": ""
             }
            },
            "type": "scatterpolargl"
           }
          ],
          "scatterternary": [
           {
            "marker": {
             "colorbar": {
              "outlinewidth": 0,
              "ticks": ""
             }
            },
            "type": "scatterternary"
           }
          ],
          "surface": [
           {
            "colorbar": {
             "outlinewidth": 0,
             "ticks": ""
            },
            "colorscale": [
             [
              0,
              "#0d0887"
             ],
             [
              0.1111111111111111,
              "#46039f"
             ],
             [
              0.2222222222222222,
              "#7201a8"
             ],
             [
              0.3333333333333333,
              "#9c179e"
             ],
             [
              0.4444444444444444,
              "#bd3786"
             ],
             [
              0.5555555555555556,
              "#d8576b"
             ],
             [
              0.6666666666666666,
              "#ed7953"
             ],
             [
              0.7777777777777778,
              "#fb9f3a"
             ],
             [
              0.8888888888888888,
              "#fdca26"
             ],
             [
              1,
              "#f0f921"
             ]
            ],
            "type": "surface"
           }
          ],
          "table": [
           {
            "cells": {
             "fill": {
              "color": "#EBF0F8"
             },
             "line": {
              "color": "white"
             }
            },
            "header": {
             "fill": {
              "color": "#C8D4E3"
             },
             "line": {
              "color": "white"
             }
            },
            "type": "table"
           }
          ]
         },
         "layout": {
          "annotationdefaults": {
           "arrowcolor": "#2a3f5f",
           "arrowhead": 0,
           "arrowwidth": 1
          },
          "autotypenumbers": "strict",
          "coloraxis": {
           "colorbar": {
            "outlinewidth": 0,
            "ticks": ""
           }
          },
          "colorscale": {
           "diverging": [
            [
             0,
             "#8e0152"
            ],
            [
             0.1,
             "#c51b7d"
            ],
            [
             0.2,
             "#de77ae"
            ],
            [
             0.3,
             "#f1b6da"
            ],
            [
             0.4,
             "#fde0ef"
            ],
            [
             0.5,
             "#f7f7f7"
            ],
            [
             0.6,
             "#e6f5d0"
            ],
            [
             0.7,
             "#b8e186"
            ],
            [
             0.8,
             "#7fbc41"
            ],
            [
             0.9,
             "#4d9221"
            ],
            [
             1,
             "#276419"
            ]
           ],
           "sequential": [
            [
             0,
             "#0d0887"
            ],
            [
             0.1111111111111111,
             "#46039f"
            ],
            [
             0.2222222222222222,
             "#7201a8"
            ],
            [
             0.3333333333333333,
             "#9c179e"
            ],
            [
             0.4444444444444444,
             "#bd3786"
            ],
            [
             0.5555555555555556,
             "#d8576b"
            ],
            [
             0.6666666666666666,
             "#ed7953"
            ],
            [
             0.7777777777777778,
             "#fb9f3a"
            ],
            [
             0.8888888888888888,
             "#fdca26"
            ],
            [
             1,
             "#f0f921"
            ]
           ],
           "sequentialminus": [
            [
             0,
             "#0d0887"
            ],
            [
             0.1111111111111111,
             "#46039f"
            ],
            [
             0.2222222222222222,
             "#7201a8"
            ],
            [
             0.3333333333333333,
             "#9c179e"
            ],
            [
             0.4444444444444444,
             "#bd3786"
            ],
            [
             0.5555555555555556,
             "#d8576b"
            ],
            [
             0.6666666666666666,
             "#ed7953"
            ],
            [
             0.7777777777777778,
             "#fb9f3a"
            ],
            [
             0.8888888888888888,
             "#fdca26"
            ],
            [
             1,
             "#f0f921"
            ]
           ]
          },
          "colorway": [
           "#636efa",
           "#EF553B",
           "#00cc96",
           "#ab63fa",
           "#FFA15A",
           "#19d3f3",
           "#FF6692",
           "#B6E880",
           "#FF97FF",
           "#FECB52"
          ],
          "font": {
           "color": "#2a3f5f"
          },
          "geo": {
           "bgcolor": "white",
           "lakecolor": "white",
           "landcolor": "#E5ECF6",
           "showlakes": true,
           "showland": true,
           "subunitcolor": "white"
          },
          "hoverlabel": {
           "align": "left"
          },
          "hovermode": "closest",
          "mapbox": {
           "style": "light"
          },
          "paper_bgcolor": "white",
          "plot_bgcolor": "#E5ECF6",
          "polar": {
           "angularaxis": {
            "gridcolor": "white",
            "linecolor": "white",
            "ticks": ""
           },
           "bgcolor": "#E5ECF6",
           "radialaxis": {
            "gridcolor": "white",
            "linecolor": "white",
            "ticks": ""
           }
          },
          "scene": {
           "xaxis": {
            "backgroundcolor": "#E5ECF6",
            "gridcolor": "white",
            "gridwidth": 2,
            "linecolor": "white",
            "showbackground": true,
            "ticks": "",
            "zerolinecolor": "white"
           },
           "yaxis": {
            "backgroundcolor": "#E5ECF6",
            "gridcolor": "white",
            "gridwidth": 2,
            "linecolor": "white",
            "showbackground": true,
            "ticks": "",
            "zerolinecolor": "white"
           },
           "zaxis": {
            "backgroundcolor": "#E5ECF6",
            "gridcolor": "white",
            "gridwidth": 2,
            "linecolor": "white",
            "showbackground": true,
            "ticks": "",
            "zerolinecolor": "white"
           }
          },
          "shapedefaults": {
           "line": {
            "color": "#2a3f5f"
           }
          },
          "ternary": {
           "aaxis": {
            "gridcolor": "white",
            "linecolor": "white",
            "ticks": ""
           },
           "baxis": {
            "gridcolor": "white",
            "linecolor": "white",
            "ticks": ""
           },
           "bgcolor": "#E5ECF6",
           "caxis": {
            "gridcolor": "white",
            "linecolor": "white",
            "ticks": ""
           }
          },
          "title": {
           "x": 0.05
          },
          "xaxis": {
           "automargin": true,
           "gridcolor": "white",
           "linecolor": "white",
           "ticks": "",
           "title": {
            "standoff": 15
           },
           "zerolinecolor": "white",
           "zerolinewidth": 2
          },
          "yaxis": {
           "automargin": true,
           "gridcolor": "white",
           "linecolor": "white",
           "ticks": "",
           "title": {
            "standoff": 15
           },
           "zerolinecolor": "white",
           "zerolinewidth": 2
          }
         }
        },
        "title": {
         "text": "win rate"
        },
        "width": 700
       }
      }
     },
     "metadata": {},
     "output_type": "display_data"
    }
   ],
   "source": [
    "import plotly.graph_objects as go\n",
    "\n",
    "x_data = df_win_rate.columns.to_list() # close threshold\n",
    "\n",
    "y_data = df_win_rate.index.to_list() # open threshold\n",
    "\n",
    "z_data = df_win_rate.copy(deep=True) # win rate\n",
    "\n",
    "fig = go.Figure(data=[go.Surface(z=z_data.values,x=x_data,y=y_data)])\n",
    "\n",
    "fig.update_layout(title=\"win rate\", # 标题\n",
    "                  autosize=False,  # 尺度自动缩放\n",
    "                  width=700,  # 长宽\n",
    "                  height=600,\n",
    "                  margin=dict(l=65,r=50,b=65,t=90),  # 4个位置的距离\n",
    "                  scene=dict(xaxis_title='X-close-threshold',yaxis_title='Y-open-threshold')\n",
    "                 )\n",
    "\n",
    "fig.show()"
   ]
  },
  {
   "cell_type": "markdown",
   "metadata": {},
   "source": [
    "# total round surface"
   ]
  },
  {
   "cell_type": "code",
   "execution_count": 18,
   "metadata": {},
   "outputs": [
    {
     "name": "stdout",
     "output_type": "stream",
     "text": [
      "max total round: \n",
      " 0.000    226.0\n",
      "0.001    255.0\n",
      "0.002    311.0\n",
      "0.003    378.0\n",
      "dtype: float64\n",
      "min total round: \n",
      " 0.000    57.0\n",
      "0.001    57.0\n",
      "0.002    59.0\n",
      "0.003    62.0\n",
      "dtype: float64\n"
     ]
    },
    {
     "data": {
      "text/html": [
       "<div>\n",
       "<style scoped>\n",
       "    .dataframe tbody tr th:only-of-type {\n",
       "        vertical-align: middle;\n",
       "    }\n",
       "\n",
       "    .dataframe tbody tr th {\n",
       "        vertical-align: top;\n",
       "    }\n",
       "\n",
       "    .dataframe thead th {\n",
       "        text-align: right;\n",
       "    }\n",
       "</style>\n",
       "<table border=\"1\" class=\"dataframe\">\n",
       "  <thead>\n",
       "    <tr style=\"text-align: right;\">\n",
       "      <th></th>\n",
       "      <th>0.000</th>\n",
       "      <th>0.001</th>\n",
       "      <th>0.002</th>\n",
       "      <th>0.003</th>\n",
       "    </tr>\n",
       "  </thead>\n",
       "  <tbody>\n",
       "    <tr>\n",
       "      <th>0.005</th>\n",
       "      <td>226.0</td>\n",
       "      <td>255.0</td>\n",
       "      <td>311.0</td>\n",
       "      <td>378.0</td>\n",
       "    </tr>\n",
       "    <tr>\n",
       "      <th>0.006</th>\n",
       "      <td>189.0</td>\n",
       "      <td>207.0</td>\n",
       "      <td>240.0</td>\n",
       "      <td>279.0</td>\n",
       "    </tr>\n",
       "    <tr>\n",
       "      <th>0.007</th>\n",
       "      <td>148.0</td>\n",
       "      <td>161.0</td>\n",
       "      <td>176.0</td>\n",
       "      <td>199.0</td>\n",
       "    </tr>\n",
       "    <tr>\n",
       "      <th>0.008</th>\n",
       "      <td>127.0</td>\n",
       "      <td>136.0</td>\n",
       "      <td>143.0</td>\n",
       "      <td>159.0</td>\n",
       "    </tr>\n",
       "    <tr>\n",
       "      <th>0.009</th>\n",
       "      <td>111.0</td>\n",
       "      <td>119.0</td>\n",
       "      <td>124.0</td>\n",
       "      <td>137.0</td>\n",
       "    </tr>\n",
       "    <tr>\n",
       "      <th>0.010</th>\n",
       "      <td>102.0</td>\n",
       "      <td>105.0</td>\n",
       "      <td>109.0</td>\n",
       "      <td>115.0</td>\n",
       "    </tr>\n",
       "    <tr>\n",
       "      <th>0.011</th>\n",
       "      <td>88.0</td>\n",
       "      <td>90.0</td>\n",
       "      <td>94.0</td>\n",
       "      <td>99.0</td>\n",
       "    </tr>\n",
       "    <tr>\n",
       "      <th>0.012</th>\n",
       "      <td>77.0</td>\n",
       "      <td>79.0</td>\n",
       "      <td>82.0</td>\n",
       "      <td>86.0</td>\n",
       "    </tr>\n",
       "    <tr>\n",
       "      <th>0.013</th>\n",
       "      <td>70.0</td>\n",
       "      <td>71.0</td>\n",
       "      <td>74.0</td>\n",
       "      <td>77.0</td>\n",
       "    </tr>\n",
       "    <tr>\n",
       "      <th>0.014</th>\n",
       "      <td>62.0</td>\n",
       "      <td>63.0</td>\n",
       "      <td>66.0</td>\n",
       "      <td>69.0</td>\n",
       "    </tr>\n",
       "    <tr>\n",
       "      <th>0.015</th>\n",
       "      <td>57.0</td>\n",
       "      <td>57.0</td>\n",
       "      <td>59.0</td>\n",
       "      <td>62.0</td>\n",
       "    </tr>\n",
       "  </tbody>\n",
       "</table>\n",
       "</div>"
      ],
      "text/plain": [
       "       0.000  0.001  0.002  0.003\n",
       "0.005  226.0  255.0  311.0  378.0\n",
       "0.006  189.0  207.0  240.0  279.0\n",
       "0.007  148.0  161.0  176.0  199.0\n",
       "0.008  127.0  136.0  143.0  159.0\n",
       "0.009  111.0  119.0  124.0  137.0\n",
       "0.010  102.0  105.0  109.0  115.0\n",
       "0.011   88.0   90.0   94.0   99.0\n",
       "0.012   77.0   79.0   82.0   86.0\n",
       "0.013   70.0   71.0   74.0   77.0\n",
       "0.014   62.0   63.0   66.0   69.0\n",
       "0.015   57.0   57.0   59.0   62.0"
      ]
     },
     "execution_count": 18,
     "metadata": {},
     "output_type": "execute_result"
    }
   ],
   "source": [
    "df_total_round = pd.DataFrame([])\n",
    "for index,row in df_grid_search_res.iterrows():\n",
    "    open_threshold = row['open threshold']\n",
    "    close_threshold = row['close threshold']\n",
    "    df_total_round.loc[open_threshold,close_threshold] = row['total round']\n",
    "print('max total round: \\n',df_total_round.max())\n",
    "print('min total round: \\n',df_total_round.min())    \n",
    "df_total_round"
   ]
  },
  {
   "cell_type": "code",
   "execution_count": 19,
   "metadata": {},
   "outputs": [
    {
     "data": {
      "application/vnd.plotly.v1+json": {
       "config": {
        "plotlyServerURL": "https://plot.ly"
       },
       "data": [
        {
         "type": "surface",
         "x": [
          0,
          0.001,
          0.002,
          0.003
         ],
         "y": [
          0.005,
          0.006,
          0.007,
          0.008,
          0.009,
          0.01,
          0.011,
          0.012,
          0.013,
          0.014,
          0.015
         ],
         "z": [
          [
           226,
           255,
           311,
           378
          ],
          [
           189,
           207,
           240,
           279
          ],
          [
           148,
           161,
           176,
           199
          ],
          [
           127,
           136,
           143,
           159
          ],
          [
           111,
           119,
           124,
           137
          ],
          [
           102,
           105,
           109,
           115
          ],
          [
           88,
           90,
           94,
           99
          ],
          [
           77,
           79,
           82,
           86
          ],
          [
           70,
           71,
           74,
           77
          ],
          [
           62,
           63,
           66,
           69
          ],
          [
           57,
           57,
           59,
           62
          ]
         ]
        }
       ],
       "layout": {
        "autosize": false,
        "height": 600,
        "margin": {
         "b": 65,
         "l": 65,
         "r": 50,
         "t": 90
        },
        "scene": {
         "xaxis": {
          "title": {
           "text": "X-close-threshold"
          }
         },
         "yaxis": {
          "title": {
           "text": "Y-open-threshold"
          }
         }
        },
        "template": {
         "data": {
          "bar": [
           {
            "error_x": {
             "color": "#2a3f5f"
            },
            "error_y": {
             "color": "#2a3f5f"
            },
            "marker": {
             "line": {
              "color": "#E5ECF6",
              "width": 0.5
             },
             "pattern": {
              "fillmode": "overlay",
              "size": 10,
              "solidity": 0.2
             }
            },
            "type": "bar"
           }
          ],
          "barpolar": [
           {
            "marker": {
             "line": {
              "color": "#E5ECF6",
              "width": 0.5
             },
             "pattern": {
              "fillmode": "overlay",
              "size": 10,
              "solidity": 0.2
             }
            },
            "type": "barpolar"
           }
          ],
          "carpet": [
           {
            "aaxis": {
             "endlinecolor": "#2a3f5f",
             "gridcolor": "white",
             "linecolor": "white",
             "minorgridcolor": "white",
             "startlinecolor": "#2a3f5f"
            },
            "baxis": {
             "endlinecolor": "#2a3f5f",
             "gridcolor": "white",
             "linecolor": "white",
             "minorgridcolor": "white",
             "startlinecolor": "#2a3f5f"
            },
            "type": "carpet"
           }
          ],
          "choropleth": [
           {
            "colorbar": {
             "outlinewidth": 0,
             "ticks": ""
            },
            "type": "choropleth"
           }
          ],
          "contour": [
           {
            "colorbar": {
             "outlinewidth": 0,
             "ticks": ""
            },
            "colorscale": [
             [
              0,
              "#0d0887"
             ],
             [
              0.1111111111111111,
              "#46039f"
             ],
             [
              0.2222222222222222,
              "#7201a8"
             ],
             [
              0.3333333333333333,
              "#9c179e"
             ],
             [
              0.4444444444444444,
              "#bd3786"
             ],
             [
              0.5555555555555556,
              "#d8576b"
             ],
             [
              0.6666666666666666,
              "#ed7953"
             ],
             [
              0.7777777777777778,
              "#fb9f3a"
             ],
             [
              0.8888888888888888,
              "#fdca26"
             ],
             [
              1,
              "#f0f921"
             ]
            ],
            "type": "contour"
           }
          ],
          "contourcarpet": [
           {
            "colorbar": {
             "outlinewidth": 0,
             "ticks": ""
            },
            "type": "contourcarpet"
           }
          ],
          "heatmap": [
           {
            "colorbar": {
             "outlinewidth": 0,
             "ticks": ""
            },
            "colorscale": [
             [
              0,
              "#0d0887"
             ],
             [
              0.1111111111111111,
              "#46039f"
             ],
             [
              0.2222222222222222,
              "#7201a8"
             ],
             [
              0.3333333333333333,
              "#9c179e"
             ],
             [
              0.4444444444444444,
              "#bd3786"
             ],
             [
              0.5555555555555556,
              "#d8576b"
             ],
             [
              0.6666666666666666,
              "#ed7953"
             ],
             [
              0.7777777777777778,
              "#fb9f3a"
             ],
             [
              0.8888888888888888,
              "#fdca26"
             ],
             [
              1,
              "#f0f921"
             ]
            ],
            "type": "heatmap"
           }
          ],
          "heatmapgl": [
           {
            "colorbar": {
             "outlinewidth": 0,
             "ticks": ""
            },
            "colorscale": [
             [
              0,
              "#0d0887"
             ],
             [
              0.1111111111111111,
              "#46039f"
             ],
             [
              0.2222222222222222,
              "#7201a8"
             ],
             [
              0.3333333333333333,
              "#9c179e"
             ],
             [
              0.4444444444444444,
              "#bd3786"
             ],
             [
              0.5555555555555556,
              "#d8576b"
             ],
             [
              0.6666666666666666,
              "#ed7953"
             ],
             [
              0.7777777777777778,
              "#fb9f3a"
             ],
             [
              0.8888888888888888,
              "#fdca26"
             ],
             [
              1,
              "#f0f921"
             ]
            ],
            "type": "heatmapgl"
           }
          ],
          "histogram": [
           {
            "marker": {
             "pattern": {
              "fillmode": "overlay",
              "size": 10,
              "solidity": 0.2
             }
            },
            "type": "histogram"
           }
          ],
          "histogram2d": [
           {
            "colorbar": {
             "outlinewidth": 0,
             "ticks": ""
            },
            "colorscale": [
             [
              0,
              "#0d0887"
             ],
             [
              0.1111111111111111,
              "#46039f"
             ],
             [
              0.2222222222222222,
              "#7201a8"
             ],
             [
              0.3333333333333333,
              "#9c179e"
             ],
             [
              0.4444444444444444,
              "#bd3786"
             ],
             [
              0.5555555555555556,
              "#d8576b"
             ],
             [
              0.6666666666666666,
              "#ed7953"
             ],
             [
              0.7777777777777778,
              "#fb9f3a"
             ],
             [
              0.8888888888888888,
              "#fdca26"
             ],
             [
              1,
              "#f0f921"
             ]
            ],
            "type": "histogram2d"
           }
          ],
          "histogram2dcontour": [
           {
            "colorbar": {
             "outlinewidth": 0,
             "ticks": ""
            },
            "colorscale": [
             [
              0,
              "#0d0887"
             ],
             [
              0.1111111111111111,
              "#46039f"
             ],
             [
              0.2222222222222222,
              "#7201a8"
             ],
             [
              0.3333333333333333,
              "#9c179e"
             ],
             [
              0.4444444444444444,
              "#bd3786"
             ],
             [
              0.5555555555555556,
              "#d8576b"
             ],
             [
              0.6666666666666666,
              "#ed7953"
             ],
             [
              0.7777777777777778,
              "#fb9f3a"
             ],
             [
              0.8888888888888888,
              "#fdca26"
             ],
             [
              1,
              "#f0f921"
             ]
            ],
            "type": "histogram2dcontour"
           }
          ],
          "mesh3d": [
           {
            "colorbar": {
             "outlinewidth": 0,
             "ticks": ""
            },
            "type": "mesh3d"
           }
          ],
          "parcoords": [
           {
            "line": {
             "colorbar": {
              "outlinewidth": 0,
              "ticks": ""
             }
            },
            "type": "parcoords"
           }
          ],
          "pie": [
           {
            "automargin": true,
            "type": "pie"
           }
          ],
          "scatter": [
           {
            "fillpattern": {
             "fillmode": "overlay",
             "size": 10,
             "solidity": 0.2
            },
            "type": "scatter"
           }
          ],
          "scatter3d": [
           {
            "line": {
             "colorbar": {
              "outlinewidth": 0,
              "ticks": ""
             }
            },
            "marker": {
             "colorbar": {
              "outlinewidth": 0,
              "ticks": ""
             }
            },
            "type": "scatter3d"
           }
          ],
          "scattercarpet": [
           {
            "marker": {
             "colorbar": {
              "outlinewidth": 0,
              "ticks": ""
             }
            },
            "type": "scattercarpet"
           }
          ],
          "scattergeo": [
           {
            "marker": {
             "colorbar": {
              "outlinewidth": 0,
              "ticks": ""
             }
            },
            "type": "scattergeo"
           }
          ],
          "scattergl": [
           {
            "marker": {
             "colorbar": {
              "outlinewidth": 0,
              "ticks": ""
             }
            },
            "type": "scattergl"
           }
          ],
          "scattermapbox": [
           {
            "marker": {
             "colorbar": {
              "outlinewidth": 0,
              "ticks": ""
             }
            },
            "type": "scattermapbox"
           }
          ],
          "scatterpolar": [
           {
            "marker": {
             "colorbar": {
              "outlinewidth": 0,
              "ticks": ""
             }
            },
            "type": "scatterpolar"
           }
          ],
          "scatterpolargl": [
           {
            "marker": {
             "colorbar": {
              "outlinewidth": 0,
              "ticks": ""
             }
            },
            "type": "scatterpolargl"
           }
          ],
          "scatterternary": [
           {
            "marker": {
             "colorbar": {
              "outlinewidth": 0,
              "ticks": ""
             }
            },
            "type": "scatterternary"
           }
          ],
          "surface": [
           {
            "colorbar": {
             "outlinewidth": 0,
             "ticks": ""
            },
            "colorscale": [
             [
              0,
              "#0d0887"
             ],
             [
              0.1111111111111111,
              "#46039f"
             ],
             [
              0.2222222222222222,
              "#7201a8"
             ],
             [
              0.3333333333333333,
              "#9c179e"
             ],
             [
              0.4444444444444444,
              "#bd3786"
             ],
             [
              0.5555555555555556,
              "#d8576b"
             ],
             [
              0.6666666666666666,
              "#ed7953"
             ],
             [
              0.7777777777777778,
              "#fb9f3a"
             ],
             [
              0.8888888888888888,
              "#fdca26"
             ],
             [
              1,
              "#f0f921"
             ]
            ],
            "type": "surface"
           }
          ],
          "table": [
           {
            "cells": {
             "fill": {
              "color": "#EBF0F8"
             },
             "line": {
              "color": "white"
             }
            },
            "header": {
             "fill": {
              "color": "#C8D4E3"
             },
             "line": {
              "color": "white"
             }
            },
            "type": "table"
           }
          ]
         },
         "layout": {
          "annotationdefaults": {
           "arrowcolor": "#2a3f5f",
           "arrowhead": 0,
           "arrowwidth": 1
          },
          "autotypenumbers": "strict",
          "coloraxis": {
           "colorbar": {
            "outlinewidth": 0,
            "ticks": ""
           }
          },
          "colorscale": {
           "diverging": [
            [
             0,
             "#8e0152"
            ],
            [
             0.1,
             "#c51b7d"
            ],
            [
             0.2,
             "#de77ae"
            ],
            [
             0.3,
             "#f1b6da"
            ],
            [
             0.4,
             "#fde0ef"
            ],
            [
             0.5,
             "#f7f7f7"
            ],
            [
             0.6,
             "#e6f5d0"
            ],
            [
             0.7,
             "#b8e186"
            ],
            [
             0.8,
             "#7fbc41"
            ],
            [
             0.9,
             "#4d9221"
            ],
            [
             1,
             "#276419"
            ]
           ],
           "sequential": [
            [
             0,
             "#0d0887"
            ],
            [
             0.1111111111111111,
             "#46039f"
            ],
            [
             0.2222222222222222,
             "#7201a8"
            ],
            [
             0.3333333333333333,
             "#9c179e"
            ],
            [
             0.4444444444444444,
             "#bd3786"
            ],
            [
             0.5555555555555556,
             "#d8576b"
            ],
            [
             0.6666666666666666,
             "#ed7953"
            ],
            [
             0.7777777777777778,
             "#fb9f3a"
            ],
            [
             0.8888888888888888,
             "#fdca26"
            ],
            [
             1,
             "#f0f921"
            ]
           ],
           "sequentialminus": [
            [
             0,
             "#0d0887"
            ],
            [
             0.1111111111111111,
             "#46039f"
            ],
            [
             0.2222222222222222,
             "#7201a8"
            ],
            [
             0.3333333333333333,
             "#9c179e"
            ],
            [
             0.4444444444444444,
             "#bd3786"
            ],
            [
             0.5555555555555556,
             "#d8576b"
            ],
            [
             0.6666666666666666,
             "#ed7953"
            ],
            [
             0.7777777777777778,
             "#fb9f3a"
            ],
            [
             0.8888888888888888,
             "#fdca26"
            ],
            [
             1,
             "#f0f921"
            ]
           ]
          },
          "colorway": [
           "#636efa",
           "#EF553B",
           "#00cc96",
           "#ab63fa",
           "#FFA15A",
           "#19d3f3",
           "#FF6692",
           "#B6E880",
           "#FF97FF",
           "#FECB52"
          ],
          "font": {
           "color": "#2a3f5f"
          },
          "geo": {
           "bgcolor": "white",
           "lakecolor": "white",
           "landcolor": "#E5ECF6",
           "showlakes": true,
           "showland": true,
           "subunitcolor": "white"
          },
          "hoverlabel": {
           "align": "left"
          },
          "hovermode": "closest",
          "mapbox": {
           "style": "light"
          },
          "paper_bgcolor": "white",
          "plot_bgcolor": "#E5ECF6",
          "polar": {
           "angularaxis": {
            "gridcolor": "white",
            "linecolor": "white",
            "ticks": ""
           },
           "bgcolor": "#E5ECF6",
           "radialaxis": {
            "gridcolor": "white",
            "linecolor": "white",
            "ticks": ""
           }
          },
          "scene": {
           "xaxis": {
            "backgroundcolor": "#E5ECF6",
            "gridcolor": "white",
            "gridwidth": 2,
            "linecolor": "white",
            "showbackground": true,
            "ticks": "",
            "zerolinecolor": "white"
           },
           "yaxis": {
            "backgroundcolor": "#E5ECF6",
            "gridcolor": "white",
            "gridwidth": 2,
            "linecolor": "white",
            "showbackground": true,
            "ticks": "",
            "zerolinecolor": "white"
           },
           "zaxis": {
            "backgroundcolor": "#E5ECF6",
            "gridcolor": "white",
            "gridwidth": 2,
            "linecolor": "white",
            "showbackground": true,
            "ticks": "",
            "zerolinecolor": "white"
           }
          },
          "shapedefaults": {
           "line": {
            "color": "#2a3f5f"
           }
          },
          "ternary": {
           "aaxis": {
            "gridcolor": "white",
            "linecolor": "white",
            "ticks": ""
           },
           "baxis": {
            "gridcolor": "white",
            "linecolor": "white",
            "ticks": ""
           },
           "bgcolor": "#E5ECF6",
           "caxis": {
            "gridcolor": "white",
            "linecolor": "white",
            "ticks": ""
           }
          },
          "title": {
           "x": 0.05
          },
          "xaxis": {
           "automargin": true,
           "gridcolor": "white",
           "linecolor": "white",
           "ticks": "",
           "title": {
            "standoff": 15
           },
           "zerolinecolor": "white",
           "zerolinewidth": 2
          },
          "yaxis": {
           "automargin": true,
           "gridcolor": "white",
           "linecolor": "white",
           "ticks": "",
           "title": {
            "standoff": 15
           },
           "zerolinecolor": "white",
           "zerolinewidth": 2
          }
         }
        },
        "title": {
         "text": "total round"
        },
        "width": 700
       }
      }
     },
     "metadata": {},
     "output_type": "display_data"
    }
   ],
   "source": [
    "import plotly.graph_objects as go\n",
    "\n",
    "x_data = df_total_round.columns.to_list() # close threshold\n",
    "\n",
    "y_data = df_total_round.index.to_list() # open threshold\n",
    "\n",
    "z_data = df_total_round.copy(deep=True) # win rate\n",
    "\n",
    "fig = go.Figure(data=[go.Surface(z=z_data.values,x=x_data,y=y_data)])\n",
    "\n",
    "fig.update_layout(title=\"total round\", # 标题\n",
    "                  autosize=False,  # 尺度自动缩放\n",
    "                  width=700,  # 长宽\n",
    "                  height=600,\n",
    "                  margin=dict(l=65,r=50,b=65,t=90),  # 4个位置的距离\n",
    "                  scene=dict(xaxis_title='X-close-threshold',yaxis_title='Y-open-threshold')\n",
    "                 )\n",
    "\n",
    "fig.show()"
   ]
  },
  {
   "cell_type": "markdown",
   "metadata": {},
   "source": [
    "# win round surface"
   ]
  },
  {
   "cell_type": "code",
   "execution_count": 20,
   "metadata": {},
   "outputs": [
    {
     "name": "stdout",
     "output_type": "stream",
     "text": [
      "max win round: \n",
      " 0.000    179.0\n",
      "0.001    207.0\n",
      "0.002    262.0\n",
      "0.003    329.0\n",
      "dtype: float64\n",
      "min win round: \n",
      " 0.000    37.0\n",
      "0.001    37.0\n",
      "0.002    40.0\n",
      "0.003    43.0\n",
      "dtype: float64\n"
     ]
    },
    {
     "data": {
      "text/html": [
       "<div>\n",
       "<style scoped>\n",
       "    .dataframe tbody tr th:only-of-type {\n",
       "        vertical-align: middle;\n",
       "    }\n",
       "\n",
       "    .dataframe tbody tr th {\n",
       "        vertical-align: top;\n",
       "    }\n",
       "\n",
       "    .dataframe thead th {\n",
       "        text-align: right;\n",
       "    }\n",
       "</style>\n",
       "<table border=\"1\" class=\"dataframe\">\n",
       "  <thead>\n",
       "    <tr style=\"text-align: right;\">\n",
       "      <th></th>\n",
       "      <th>0.000</th>\n",
       "      <th>0.001</th>\n",
       "      <th>0.002</th>\n",
       "      <th>0.003</th>\n",
       "    </tr>\n",
       "  </thead>\n",
       "  <tbody>\n",
       "    <tr>\n",
       "      <th>0.005</th>\n",
       "      <td>179.0</td>\n",
       "      <td>207.0</td>\n",
       "      <td>262.0</td>\n",
       "      <td>329.0</td>\n",
       "    </tr>\n",
       "    <tr>\n",
       "      <th>0.006</th>\n",
       "      <td>148.0</td>\n",
       "      <td>165.0</td>\n",
       "      <td>196.0</td>\n",
       "      <td>235.0</td>\n",
       "    </tr>\n",
       "    <tr>\n",
       "      <th>0.007</th>\n",
       "      <td>107.0</td>\n",
       "      <td>119.0</td>\n",
       "      <td>135.0</td>\n",
       "      <td>159.0</td>\n",
       "    </tr>\n",
       "    <tr>\n",
       "      <th>0.008</th>\n",
       "      <td>87.0</td>\n",
       "      <td>96.0</td>\n",
       "      <td>105.0</td>\n",
       "      <td>122.0</td>\n",
       "    </tr>\n",
       "    <tr>\n",
       "      <th>0.009</th>\n",
       "      <td>76.0</td>\n",
       "      <td>84.0</td>\n",
       "      <td>89.0</td>\n",
       "      <td>103.0</td>\n",
       "    </tr>\n",
       "    <tr>\n",
       "      <th>0.010</th>\n",
       "      <td>70.0</td>\n",
       "      <td>73.0</td>\n",
       "      <td>77.0</td>\n",
       "      <td>83.0</td>\n",
       "    </tr>\n",
       "    <tr>\n",
       "      <th>0.011</th>\n",
       "      <td>58.0</td>\n",
       "      <td>60.0</td>\n",
       "      <td>63.0</td>\n",
       "      <td>67.0</td>\n",
       "    </tr>\n",
       "    <tr>\n",
       "      <th>0.012</th>\n",
       "      <td>51.0</td>\n",
       "      <td>53.0</td>\n",
       "      <td>56.0</td>\n",
       "      <td>59.0</td>\n",
       "    </tr>\n",
       "    <tr>\n",
       "      <th>0.013</th>\n",
       "      <td>46.0</td>\n",
       "      <td>47.0</td>\n",
       "      <td>50.0</td>\n",
       "      <td>53.0</td>\n",
       "    </tr>\n",
       "    <tr>\n",
       "      <th>0.014</th>\n",
       "      <td>39.0</td>\n",
       "      <td>40.0</td>\n",
       "      <td>44.0</td>\n",
       "      <td>47.0</td>\n",
       "    </tr>\n",
       "    <tr>\n",
       "      <th>0.015</th>\n",
       "      <td>37.0</td>\n",
       "      <td>37.0</td>\n",
       "      <td>40.0</td>\n",
       "      <td>43.0</td>\n",
       "    </tr>\n",
       "  </tbody>\n",
       "</table>\n",
       "</div>"
      ],
      "text/plain": [
       "       0.000  0.001  0.002  0.003\n",
       "0.005  179.0  207.0  262.0  329.0\n",
       "0.006  148.0  165.0  196.0  235.0\n",
       "0.007  107.0  119.0  135.0  159.0\n",
       "0.008   87.0   96.0  105.0  122.0\n",
       "0.009   76.0   84.0   89.0  103.0\n",
       "0.010   70.0   73.0   77.0   83.0\n",
       "0.011   58.0   60.0   63.0   67.0\n",
       "0.012   51.0   53.0   56.0   59.0\n",
       "0.013   46.0   47.0   50.0   53.0\n",
       "0.014   39.0   40.0   44.0   47.0\n",
       "0.015   37.0   37.0   40.0   43.0"
      ]
     },
     "execution_count": 20,
     "metadata": {},
     "output_type": "execute_result"
    }
   ],
   "source": [
    "df_win_round = pd.DataFrame([])\n",
    "for index,row in df_grid_search_res.iterrows():\n",
    "    open_threshold = row['open threshold']\n",
    "    close_threshold = row['close threshold']\n",
    "    df_win_round.loc[open_threshold,close_threshold] = row['win']\n",
    "print('max win round: \\n',df_win_round.max())\n",
    "print('min win round: \\n',df_win_round.min())    \n",
    "df_win_round"
   ]
  },
  {
   "cell_type": "code",
   "execution_count": 21,
   "metadata": {},
   "outputs": [
    {
     "data": {
      "application/vnd.plotly.v1+json": {
       "config": {
        "plotlyServerURL": "https://plot.ly"
       },
       "data": [
        {
         "type": "surface",
         "x": [
          0,
          0.001,
          0.002,
          0.003
         ],
         "y": [
          0.005,
          0.006,
          0.007,
          0.008,
          0.009,
          0.01,
          0.011,
          0.012,
          0.013,
          0.014,
          0.015
         ],
         "z": [
          [
           179,
           207,
           262,
           329
          ],
          [
           148,
           165,
           196,
           235
          ],
          [
           107,
           119,
           135,
           159
          ],
          [
           87,
           96,
           105,
           122
          ],
          [
           76,
           84,
           89,
           103
          ],
          [
           70,
           73,
           77,
           83
          ],
          [
           58,
           60,
           63,
           67
          ],
          [
           51,
           53,
           56,
           59
          ],
          [
           46,
           47,
           50,
           53
          ],
          [
           39,
           40,
           44,
           47
          ],
          [
           37,
           37,
           40,
           43
          ]
         ]
        }
       ],
       "layout": {
        "autosize": false,
        "height": 600,
        "margin": {
         "b": 65,
         "l": 65,
         "r": 50,
         "t": 90
        },
        "scene": {
         "xaxis": {
          "title": {
           "text": "X-close-threshold"
          }
         },
         "yaxis": {
          "title": {
           "text": "Y-open-threshold"
          }
         }
        },
        "template": {
         "data": {
          "bar": [
           {
            "error_x": {
             "color": "#2a3f5f"
            },
            "error_y": {
             "color": "#2a3f5f"
            },
            "marker": {
             "line": {
              "color": "#E5ECF6",
              "width": 0.5
             },
             "pattern": {
              "fillmode": "overlay",
              "size": 10,
              "solidity": 0.2
             }
            },
            "type": "bar"
           }
          ],
          "barpolar": [
           {
            "marker": {
             "line": {
              "color": "#E5ECF6",
              "width": 0.5
             },
             "pattern": {
              "fillmode": "overlay",
              "size": 10,
              "solidity": 0.2
             }
            },
            "type": "barpolar"
           }
          ],
          "carpet": [
           {
            "aaxis": {
             "endlinecolor": "#2a3f5f",
             "gridcolor": "white",
             "linecolor": "white",
             "minorgridcolor": "white",
             "startlinecolor": "#2a3f5f"
            },
            "baxis": {
             "endlinecolor": "#2a3f5f",
             "gridcolor": "white",
             "linecolor": "white",
             "minorgridcolor": "white",
             "startlinecolor": "#2a3f5f"
            },
            "type": "carpet"
           }
          ],
          "choropleth": [
           {
            "colorbar": {
             "outlinewidth": 0,
             "ticks": ""
            },
            "type": "choropleth"
           }
          ],
          "contour": [
           {
            "colorbar": {
             "outlinewidth": 0,
             "ticks": ""
            },
            "colorscale": [
             [
              0,
              "#0d0887"
             ],
             [
              0.1111111111111111,
              "#46039f"
             ],
             [
              0.2222222222222222,
              "#7201a8"
             ],
             [
              0.3333333333333333,
              "#9c179e"
             ],
             [
              0.4444444444444444,
              "#bd3786"
             ],
             [
              0.5555555555555556,
              "#d8576b"
             ],
             [
              0.6666666666666666,
              "#ed7953"
             ],
             [
              0.7777777777777778,
              "#fb9f3a"
             ],
             [
              0.8888888888888888,
              "#fdca26"
             ],
             [
              1,
              "#f0f921"
             ]
            ],
            "type": "contour"
           }
          ],
          "contourcarpet": [
           {
            "colorbar": {
             "outlinewidth": 0,
             "ticks": ""
            },
            "type": "contourcarpet"
           }
          ],
          "heatmap": [
           {
            "colorbar": {
             "outlinewidth": 0,
             "ticks": ""
            },
            "colorscale": [
             [
              0,
              "#0d0887"
             ],
             [
              0.1111111111111111,
              "#46039f"
             ],
             [
              0.2222222222222222,
              "#7201a8"
             ],
             [
              0.3333333333333333,
              "#9c179e"
             ],
             [
              0.4444444444444444,
              "#bd3786"
             ],
             [
              0.5555555555555556,
              "#d8576b"
             ],
             [
              0.6666666666666666,
              "#ed7953"
             ],
             [
              0.7777777777777778,
              "#fb9f3a"
             ],
             [
              0.8888888888888888,
              "#fdca26"
             ],
             [
              1,
              "#f0f921"
             ]
            ],
            "type": "heatmap"
           }
          ],
          "heatmapgl": [
           {
            "colorbar": {
             "outlinewidth": 0,
             "ticks": ""
            },
            "colorscale": [
             [
              0,
              "#0d0887"
             ],
             [
              0.1111111111111111,
              "#46039f"
             ],
             [
              0.2222222222222222,
              "#7201a8"
             ],
             [
              0.3333333333333333,
              "#9c179e"
             ],
             [
              0.4444444444444444,
              "#bd3786"
             ],
             [
              0.5555555555555556,
              "#d8576b"
             ],
             [
              0.6666666666666666,
              "#ed7953"
             ],
             [
              0.7777777777777778,
              "#fb9f3a"
             ],
             [
              0.8888888888888888,
              "#fdca26"
             ],
             [
              1,
              "#f0f921"
             ]
            ],
            "type": "heatmapgl"
           }
          ],
          "histogram": [
           {
            "marker": {
             "pattern": {
              "fillmode": "overlay",
              "size": 10,
              "solidity": 0.2
             }
            },
            "type": "histogram"
           }
          ],
          "histogram2d": [
           {
            "colorbar": {
             "outlinewidth": 0,
             "ticks": ""
            },
            "colorscale": [
             [
              0,
              "#0d0887"
             ],
             [
              0.1111111111111111,
              "#46039f"
             ],
             [
              0.2222222222222222,
              "#7201a8"
             ],
             [
              0.3333333333333333,
              "#9c179e"
             ],
             [
              0.4444444444444444,
              "#bd3786"
             ],
             [
              0.5555555555555556,
              "#d8576b"
             ],
             [
              0.6666666666666666,
              "#ed7953"
             ],
             [
              0.7777777777777778,
              "#fb9f3a"
             ],
             [
              0.8888888888888888,
              "#fdca26"
             ],
             [
              1,
              "#f0f921"
             ]
            ],
            "type": "histogram2d"
           }
          ],
          "histogram2dcontour": [
           {
            "colorbar": {
             "outlinewidth": 0,
             "ticks": ""
            },
            "colorscale": [
             [
              0,
              "#0d0887"
             ],
             [
              0.1111111111111111,
              "#46039f"
             ],
             [
              0.2222222222222222,
              "#7201a8"
             ],
             [
              0.3333333333333333,
              "#9c179e"
             ],
             [
              0.4444444444444444,
              "#bd3786"
             ],
             [
              0.5555555555555556,
              "#d8576b"
             ],
             [
              0.6666666666666666,
              "#ed7953"
             ],
             [
              0.7777777777777778,
              "#fb9f3a"
             ],
             [
              0.8888888888888888,
              "#fdca26"
             ],
             [
              1,
              "#f0f921"
             ]
            ],
            "type": "histogram2dcontour"
           }
          ],
          "mesh3d": [
           {
            "colorbar": {
             "outlinewidth": 0,
             "ticks": ""
            },
            "type": "mesh3d"
           }
          ],
          "parcoords": [
           {
            "line": {
             "colorbar": {
              "outlinewidth": 0,
              "ticks": ""
             }
            },
            "type": "parcoords"
           }
          ],
          "pie": [
           {
            "automargin": true,
            "type": "pie"
           }
          ],
          "scatter": [
           {
            "fillpattern": {
             "fillmode": "overlay",
             "size": 10,
             "solidity": 0.2
            },
            "type": "scatter"
           }
          ],
          "scatter3d": [
           {
            "line": {
             "colorbar": {
              "outlinewidth": 0,
              "ticks": ""
             }
            },
            "marker": {
             "colorbar": {
              "outlinewidth": 0,
              "ticks": ""
             }
            },
            "type": "scatter3d"
           }
          ],
          "scattercarpet": [
           {
            "marker": {
             "colorbar": {
              "outlinewidth": 0,
              "ticks": ""
             }
            },
            "type": "scattercarpet"
           }
          ],
          "scattergeo": [
           {
            "marker": {
             "colorbar": {
              "outlinewidth": 0,
              "ticks": ""
             }
            },
            "type": "scattergeo"
           }
          ],
          "scattergl": [
           {
            "marker": {
             "colorbar": {
              "outlinewidth": 0,
              "ticks": ""
             }
            },
            "type": "scattergl"
           }
          ],
          "scattermapbox": [
           {
            "marker": {
             "colorbar": {
              "outlinewidth": 0,
              "ticks": ""
             }
            },
            "type": "scattermapbox"
           }
          ],
          "scatterpolar": [
           {
            "marker": {
             "colorbar": {
              "outlinewidth": 0,
              "ticks": ""
             }
            },
            "type": "scatterpolar"
           }
          ],
          "scatterpolargl": [
           {
            "marker": {
             "colorbar": {
              "outlinewidth": 0,
              "ticks": ""
             }
            },
            "type": "scatterpolargl"
           }
          ],
          "scatterternary": [
           {
            "marker": {
             "colorbar": {
              "outlinewidth": 0,
              "ticks": ""
             }
            },
            "type": "scatterternary"
           }
          ],
          "surface": [
           {
            "colorbar": {
             "outlinewidth": 0,
             "ticks": ""
            },
            "colorscale": [
             [
              0,
              "#0d0887"
             ],
             [
              0.1111111111111111,
              "#46039f"
             ],
             [
              0.2222222222222222,
              "#7201a8"
             ],
             [
              0.3333333333333333,
              "#9c179e"
             ],
             [
              0.4444444444444444,
              "#bd3786"
             ],
             [
              0.5555555555555556,
              "#d8576b"
             ],
             [
              0.6666666666666666,
              "#ed7953"
             ],
             [
              0.7777777777777778,
              "#fb9f3a"
             ],
             [
              0.8888888888888888,
              "#fdca26"
             ],
             [
              1,
              "#f0f921"
             ]
            ],
            "type": "surface"
           }
          ],
          "table": [
           {
            "cells": {
             "fill": {
              "color": "#EBF0F8"
             },
             "line": {
              "color": "white"
             }
            },
            "header": {
             "fill": {
              "color": "#C8D4E3"
             },
             "line": {
              "color": "white"
             }
            },
            "type": "table"
           }
          ]
         },
         "layout": {
          "annotationdefaults": {
           "arrowcolor": "#2a3f5f",
           "arrowhead": 0,
           "arrowwidth": 1
          },
          "autotypenumbers": "strict",
          "coloraxis": {
           "colorbar": {
            "outlinewidth": 0,
            "ticks": ""
           }
          },
          "colorscale": {
           "diverging": [
            [
             0,
             "#8e0152"
            ],
            [
             0.1,
             "#c51b7d"
            ],
            [
             0.2,
             "#de77ae"
            ],
            [
             0.3,
             "#f1b6da"
            ],
            [
             0.4,
             "#fde0ef"
            ],
            [
             0.5,
             "#f7f7f7"
            ],
            [
             0.6,
             "#e6f5d0"
            ],
            [
             0.7,
             "#b8e186"
            ],
            [
             0.8,
             "#7fbc41"
            ],
            [
             0.9,
             "#4d9221"
            ],
            [
             1,
             "#276419"
            ]
           ],
           "sequential": [
            [
             0,
             "#0d0887"
            ],
            [
             0.1111111111111111,
             "#46039f"
            ],
            [
             0.2222222222222222,
             "#7201a8"
            ],
            [
             0.3333333333333333,
             "#9c179e"
            ],
            [
             0.4444444444444444,
             "#bd3786"
            ],
            [
             0.5555555555555556,
             "#d8576b"
            ],
            [
             0.6666666666666666,
             "#ed7953"
            ],
            [
             0.7777777777777778,
             "#fb9f3a"
            ],
            [
             0.8888888888888888,
             "#fdca26"
            ],
            [
             1,
             "#f0f921"
            ]
           ],
           "sequentialminus": [
            [
             0,
             "#0d0887"
            ],
            [
             0.1111111111111111,
             "#46039f"
            ],
            [
             0.2222222222222222,
             "#7201a8"
            ],
            [
             0.3333333333333333,
             "#9c179e"
            ],
            [
             0.4444444444444444,
             "#bd3786"
            ],
            [
             0.5555555555555556,
             "#d8576b"
            ],
            [
             0.6666666666666666,
             "#ed7953"
            ],
            [
             0.7777777777777778,
             "#fb9f3a"
            ],
            [
             0.8888888888888888,
             "#fdca26"
            ],
            [
             1,
             "#f0f921"
            ]
           ]
          },
          "colorway": [
           "#636efa",
           "#EF553B",
           "#00cc96",
           "#ab63fa",
           "#FFA15A",
           "#19d3f3",
           "#FF6692",
           "#B6E880",
           "#FF97FF",
           "#FECB52"
          ],
          "font": {
           "color": "#2a3f5f"
          },
          "geo": {
           "bgcolor": "white",
           "lakecolor": "white",
           "landcolor": "#E5ECF6",
           "showlakes": true,
           "showland": true,
           "subunitcolor": "white"
          },
          "hoverlabel": {
           "align": "left"
          },
          "hovermode": "closest",
          "mapbox": {
           "style": "light"
          },
          "paper_bgcolor": "white",
          "plot_bgcolor": "#E5ECF6",
          "polar": {
           "angularaxis": {
            "gridcolor": "white",
            "linecolor": "white",
            "ticks": ""
           },
           "bgcolor": "#E5ECF6",
           "radialaxis": {
            "gridcolor": "white",
            "linecolor": "white",
            "ticks": ""
           }
          },
          "scene": {
           "xaxis": {
            "backgroundcolor": "#E5ECF6",
            "gridcolor": "white",
            "gridwidth": 2,
            "linecolor": "white",
            "showbackground": true,
            "ticks": "",
            "zerolinecolor": "white"
           },
           "yaxis": {
            "backgroundcolor": "#E5ECF6",
            "gridcolor": "white",
            "gridwidth": 2,
            "linecolor": "white",
            "showbackground": true,
            "ticks": "",
            "zerolinecolor": "white"
           },
           "zaxis": {
            "backgroundcolor": "#E5ECF6",
            "gridcolor": "white",
            "gridwidth": 2,
            "linecolor": "white",
            "showbackground": true,
            "ticks": "",
            "zerolinecolor": "white"
           }
          },
          "shapedefaults": {
           "line": {
            "color": "#2a3f5f"
           }
          },
          "ternary": {
           "aaxis": {
            "gridcolor": "white",
            "linecolor": "white",
            "ticks": ""
           },
           "baxis": {
            "gridcolor": "white",
            "linecolor": "white",
            "ticks": ""
           },
           "bgcolor": "#E5ECF6",
           "caxis": {
            "gridcolor": "white",
            "linecolor": "white",
            "ticks": ""
           }
          },
          "title": {
           "x": 0.05
          },
          "xaxis": {
           "automargin": true,
           "gridcolor": "white",
           "linecolor": "white",
           "ticks": "",
           "title": {
            "standoff": 15
           },
           "zerolinecolor": "white",
           "zerolinewidth": 2
          },
          "yaxis": {
           "automargin": true,
           "gridcolor": "white",
           "linecolor": "white",
           "ticks": "",
           "title": {
            "standoff": 15
           },
           "zerolinecolor": "white",
           "zerolinewidth": 2
          }
         }
        },
        "title": {
         "text": "win round"
        },
        "width": 700
       }
      }
     },
     "metadata": {},
     "output_type": "display_data"
    }
   ],
   "source": [
    "import plotly.graph_objects as go\n",
    "\n",
    "x_data = df_win_round.columns.to_list() # close threshold\n",
    "\n",
    "y_data = df_win_round.index.to_list() # open threshold\n",
    "\n",
    "z_data = df_win_round.copy(deep=True) # win rate\n",
    "\n",
    "fig = go.Figure(data=[go.Surface(z=z_data.values,x=x_data,y=y_data)])\n",
    "\n",
    "fig.update_layout(title=\"win round\", # 标题\n",
    "                  autosize=False,  # 尺度自动缩放\n",
    "                  width=700,  # 长宽\n",
    "                  height=600,\n",
    "                  margin=dict(l=65,r=50,b=65,t=90),  # 4个位置的距离\n",
    "                  scene=dict(xaxis_title='X-close-threshold',yaxis_title='Y-open-threshold')\n",
    "                 )\n",
    "\n",
    "fig.show()"
   ]
  },
  {
   "cell_type": "markdown",
   "metadata": {},
   "source": [
    "# lose round surface"
   ]
  },
  {
   "cell_type": "code",
   "execution_count": 22,
   "metadata": {},
   "outputs": [
    {
     "name": "stdout",
     "output_type": "stream",
     "text": [
      "max win round: \n",
      " 0.000    47.0\n",
      "0.001    48.0\n",
      "0.002    49.0\n",
      "0.003    49.0\n",
      "dtype: float64\n",
      "min win round: \n",
      " 0.000    20.0\n",
      "0.001    20.0\n",
      "0.002    19.0\n",
      "0.003    19.0\n",
      "dtype: float64\n"
     ]
    },
    {
     "data": {
      "text/html": [
       "<div>\n",
       "<style scoped>\n",
       "    .dataframe tbody tr th:only-of-type {\n",
       "        vertical-align: middle;\n",
       "    }\n",
       "\n",
       "    .dataframe tbody tr th {\n",
       "        vertical-align: top;\n",
       "    }\n",
       "\n",
       "    .dataframe thead th {\n",
       "        text-align: right;\n",
       "    }\n",
       "</style>\n",
       "<table border=\"1\" class=\"dataframe\">\n",
       "  <thead>\n",
       "    <tr style=\"text-align: right;\">\n",
       "      <th></th>\n",
       "      <th>0.000</th>\n",
       "      <th>0.001</th>\n",
       "      <th>0.002</th>\n",
       "      <th>0.003</th>\n",
       "    </tr>\n",
       "  </thead>\n",
       "  <tbody>\n",
       "    <tr>\n",
       "      <th>0.005</th>\n",
       "      <td>47.0</td>\n",
       "      <td>48.0</td>\n",
       "      <td>49.0</td>\n",
       "      <td>49.0</td>\n",
       "    </tr>\n",
       "    <tr>\n",
       "      <th>0.006</th>\n",
       "      <td>41.0</td>\n",
       "      <td>42.0</td>\n",
       "      <td>44.0</td>\n",
       "      <td>44.0</td>\n",
       "    </tr>\n",
       "    <tr>\n",
       "      <th>0.007</th>\n",
       "      <td>41.0</td>\n",
       "      <td>42.0</td>\n",
       "      <td>41.0</td>\n",
       "      <td>40.0</td>\n",
       "    </tr>\n",
       "    <tr>\n",
       "      <th>0.008</th>\n",
       "      <td>40.0</td>\n",
       "      <td>40.0</td>\n",
       "      <td>38.0</td>\n",
       "      <td>37.0</td>\n",
       "    </tr>\n",
       "    <tr>\n",
       "      <th>0.009</th>\n",
       "      <td>35.0</td>\n",
       "      <td>35.0</td>\n",
       "      <td>35.0</td>\n",
       "      <td>34.0</td>\n",
       "    </tr>\n",
       "    <tr>\n",
       "      <th>0.010</th>\n",
       "      <td>32.0</td>\n",
       "      <td>32.0</td>\n",
       "      <td>32.0</td>\n",
       "      <td>32.0</td>\n",
       "    </tr>\n",
       "    <tr>\n",
       "      <th>0.011</th>\n",
       "      <td>30.0</td>\n",
       "      <td>30.0</td>\n",
       "      <td>31.0</td>\n",
       "      <td>32.0</td>\n",
       "    </tr>\n",
       "    <tr>\n",
       "      <th>0.012</th>\n",
       "      <td>26.0</td>\n",
       "      <td>26.0</td>\n",
       "      <td>26.0</td>\n",
       "      <td>27.0</td>\n",
       "    </tr>\n",
       "    <tr>\n",
       "      <th>0.013</th>\n",
       "      <td>24.0</td>\n",
       "      <td>24.0</td>\n",
       "      <td>24.0</td>\n",
       "      <td>24.0</td>\n",
       "    </tr>\n",
       "    <tr>\n",
       "      <th>0.014</th>\n",
       "      <td>23.0</td>\n",
       "      <td>23.0</td>\n",
       "      <td>22.0</td>\n",
       "      <td>22.0</td>\n",
       "    </tr>\n",
       "    <tr>\n",
       "      <th>0.015</th>\n",
       "      <td>20.0</td>\n",
       "      <td>20.0</td>\n",
       "      <td>19.0</td>\n",
       "      <td>19.0</td>\n",
       "    </tr>\n",
       "  </tbody>\n",
       "</table>\n",
       "</div>"
      ],
      "text/plain": [
       "       0.000  0.001  0.002  0.003\n",
       "0.005   47.0   48.0   49.0   49.0\n",
       "0.006   41.0   42.0   44.0   44.0\n",
       "0.007   41.0   42.0   41.0   40.0\n",
       "0.008   40.0   40.0   38.0   37.0\n",
       "0.009   35.0   35.0   35.0   34.0\n",
       "0.010   32.0   32.0   32.0   32.0\n",
       "0.011   30.0   30.0   31.0   32.0\n",
       "0.012   26.0   26.0   26.0   27.0\n",
       "0.013   24.0   24.0   24.0   24.0\n",
       "0.014   23.0   23.0   22.0   22.0\n",
       "0.015   20.0   20.0   19.0   19.0"
      ]
     },
     "execution_count": 22,
     "metadata": {},
     "output_type": "execute_result"
    }
   ],
   "source": [
    "df_lose_round = pd.DataFrame([])\n",
    "for index,row in df_grid_search_res.iterrows():\n",
    "    open_threshold = row['open threshold']\n",
    "    close_threshold = row['close threshold']\n",
    "    df_lose_round.loc[open_threshold,close_threshold] = row['lose']\n",
    "print('max win round: \\n',df_lose_round.max())\n",
    "print('min win round: \\n',df_lose_round.min())    \n",
    "df_lose_round"
   ]
  },
  {
   "cell_type": "code",
   "execution_count": 23,
   "metadata": {},
   "outputs": [
    {
     "data": {
      "application/vnd.plotly.v1+json": {
       "config": {
        "plotlyServerURL": "https://plot.ly"
       },
       "data": [
        {
         "type": "surface",
         "x": [
          0,
          0.001,
          0.002,
          0.003
         ],
         "y": [
          0.005,
          0.006,
          0.007,
          0.008,
          0.009,
          0.01,
          0.011,
          0.012,
          0.013,
          0.014,
          0.015
         ],
         "z": [
          [
           47,
           48,
           49,
           49
          ],
          [
           41,
           42,
           44,
           44
          ],
          [
           41,
           42,
           41,
           40
          ],
          [
           40,
           40,
           38,
           37
          ],
          [
           35,
           35,
           35,
           34
          ],
          [
           32,
           32,
           32,
           32
          ],
          [
           30,
           30,
           31,
           32
          ],
          [
           26,
           26,
           26,
           27
          ],
          [
           24,
           24,
           24,
           24
          ],
          [
           23,
           23,
           22,
           22
          ],
          [
           20,
           20,
           19,
           19
          ]
         ]
        }
       ],
       "layout": {
        "autosize": false,
        "height": 600,
        "margin": {
         "b": 65,
         "l": 65,
         "r": 50,
         "t": 90
        },
        "scene": {
         "xaxis": {
          "title": {
           "text": "X-close-threshold"
          }
         },
         "yaxis": {
          "title": {
           "text": "Y-open-threshold"
          }
         }
        },
        "template": {
         "data": {
          "bar": [
           {
            "error_x": {
             "color": "#2a3f5f"
            },
            "error_y": {
             "color": "#2a3f5f"
            },
            "marker": {
             "line": {
              "color": "#E5ECF6",
              "width": 0.5
             },
             "pattern": {
              "fillmode": "overlay",
              "size": 10,
              "solidity": 0.2
             }
            },
            "type": "bar"
           }
          ],
          "barpolar": [
           {
            "marker": {
             "line": {
              "color": "#E5ECF6",
              "width": 0.5
             },
             "pattern": {
              "fillmode": "overlay",
              "size": 10,
              "solidity": 0.2
             }
            },
            "type": "barpolar"
           }
          ],
          "carpet": [
           {
            "aaxis": {
             "endlinecolor": "#2a3f5f",
             "gridcolor": "white",
             "linecolor": "white",
             "minorgridcolor": "white",
             "startlinecolor": "#2a3f5f"
            },
            "baxis": {
             "endlinecolor": "#2a3f5f",
             "gridcolor": "white",
             "linecolor": "white",
             "minorgridcolor": "white",
             "startlinecolor": "#2a3f5f"
            },
            "type": "carpet"
           }
          ],
          "choropleth": [
           {
            "colorbar": {
             "outlinewidth": 0,
             "ticks": ""
            },
            "type": "choropleth"
           }
          ],
          "contour": [
           {
            "colorbar": {
             "outlinewidth": 0,
             "ticks": ""
            },
            "colorscale": [
             [
              0,
              "#0d0887"
             ],
             [
              0.1111111111111111,
              "#46039f"
             ],
             [
              0.2222222222222222,
              "#7201a8"
             ],
             [
              0.3333333333333333,
              "#9c179e"
             ],
             [
              0.4444444444444444,
              "#bd3786"
             ],
             [
              0.5555555555555556,
              "#d8576b"
             ],
             [
              0.6666666666666666,
              "#ed7953"
             ],
             [
              0.7777777777777778,
              "#fb9f3a"
             ],
             [
              0.8888888888888888,
              "#fdca26"
             ],
             [
              1,
              "#f0f921"
             ]
            ],
            "type": "contour"
           }
          ],
          "contourcarpet": [
           {
            "colorbar": {
             "outlinewidth": 0,
             "ticks": ""
            },
            "type": "contourcarpet"
           }
          ],
          "heatmap": [
           {
            "colorbar": {
             "outlinewidth": 0,
             "ticks": ""
            },
            "colorscale": [
             [
              0,
              "#0d0887"
             ],
             [
              0.1111111111111111,
              "#46039f"
             ],
             [
              0.2222222222222222,
              "#7201a8"
             ],
             [
              0.3333333333333333,
              "#9c179e"
             ],
             [
              0.4444444444444444,
              "#bd3786"
             ],
             [
              0.5555555555555556,
              "#d8576b"
             ],
             [
              0.6666666666666666,
              "#ed7953"
             ],
             [
              0.7777777777777778,
              "#fb9f3a"
             ],
             [
              0.8888888888888888,
              "#fdca26"
             ],
             [
              1,
              "#f0f921"
             ]
            ],
            "type": "heatmap"
           }
          ],
          "heatmapgl": [
           {
            "colorbar": {
             "outlinewidth": 0,
             "ticks": ""
            },
            "colorscale": [
             [
              0,
              "#0d0887"
             ],
             [
              0.1111111111111111,
              "#46039f"
             ],
             [
              0.2222222222222222,
              "#7201a8"
             ],
             [
              0.3333333333333333,
              "#9c179e"
             ],
             [
              0.4444444444444444,
              "#bd3786"
             ],
             [
              0.5555555555555556,
              "#d8576b"
             ],
             [
              0.6666666666666666,
              "#ed7953"
             ],
             [
              0.7777777777777778,
              "#fb9f3a"
             ],
             [
              0.8888888888888888,
              "#fdca26"
             ],
             [
              1,
              "#f0f921"
             ]
            ],
            "type": "heatmapgl"
           }
          ],
          "histogram": [
           {
            "marker": {
             "pattern": {
              "fillmode": "overlay",
              "size": 10,
              "solidity": 0.2
             }
            },
            "type": "histogram"
           }
          ],
          "histogram2d": [
           {
            "colorbar": {
             "outlinewidth": 0,
             "ticks": ""
            },
            "colorscale": [
             [
              0,
              "#0d0887"
             ],
             [
              0.1111111111111111,
              "#46039f"
             ],
             [
              0.2222222222222222,
              "#7201a8"
             ],
             [
              0.3333333333333333,
              "#9c179e"
             ],
             [
              0.4444444444444444,
              "#bd3786"
             ],
             [
              0.5555555555555556,
              "#d8576b"
             ],
             [
              0.6666666666666666,
              "#ed7953"
             ],
             [
              0.7777777777777778,
              "#fb9f3a"
             ],
             [
              0.8888888888888888,
              "#fdca26"
             ],
             [
              1,
              "#f0f921"
             ]
            ],
            "type": "histogram2d"
           }
          ],
          "histogram2dcontour": [
           {
            "colorbar": {
             "outlinewidth": 0,
             "ticks": ""
            },
            "colorscale": [
             [
              0,
              "#0d0887"
             ],
             [
              0.1111111111111111,
              "#46039f"
             ],
             [
              0.2222222222222222,
              "#7201a8"
             ],
             [
              0.3333333333333333,
              "#9c179e"
             ],
             [
              0.4444444444444444,
              "#bd3786"
             ],
             [
              0.5555555555555556,
              "#d8576b"
             ],
             [
              0.6666666666666666,
              "#ed7953"
             ],
             [
              0.7777777777777778,
              "#fb9f3a"
             ],
             [
              0.8888888888888888,
              "#fdca26"
             ],
             [
              1,
              "#f0f921"
             ]
            ],
            "type": "histogram2dcontour"
           }
          ],
          "mesh3d": [
           {
            "colorbar": {
             "outlinewidth": 0,
             "ticks": ""
            },
            "type": "mesh3d"
           }
          ],
          "parcoords": [
           {
            "line": {
             "colorbar": {
              "outlinewidth": 0,
              "ticks": ""
             }
            },
            "type": "parcoords"
           }
          ],
          "pie": [
           {
            "automargin": true,
            "type": "pie"
           }
          ],
          "scatter": [
           {
            "fillpattern": {
             "fillmode": "overlay",
             "size": 10,
             "solidity": 0.2
            },
            "type": "scatter"
           }
          ],
          "scatter3d": [
           {
            "line": {
             "colorbar": {
              "outlinewidth": 0,
              "ticks": ""
             }
            },
            "marker": {
             "colorbar": {
              "outlinewidth": 0,
              "ticks": ""
             }
            },
            "type": "scatter3d"
           }
          ],
          "scattercarpet": [
           {
            "marker": {
             "colorbar": {
              "outlinewidth": 0,
              "ticks": ""
             }
            },
            "type": "scattercarpet"
           }
          ],
          "scattergeo": [
           {
            "marker": {
             "colorbar": {
              "outlinewidth": 0,
              "ticks": ""
             }
            },
            "type": "scattergeo"
           }
          ],
          "scattergl": [
           {
            "marker": {
             "colorbar": {
              "outlinewidth": 0,
              "ticks": ""
             }
            },
            "type": "scattergl"
           }
          ],
          "scattermapbox": [
           {
            "marker": {
             "colorbar": {
              "outlinewidth": 0,
              "ticks": ""
             }
            },
            "type": "scattermapbox"
           }
          ],
          "scatterpolar": [
           {
            "marker": {
             "colorbar": {
              "outlinewidth": 0,
              "ticks": ""
             }
            },
            "type": "scatterpolar"
           }
          ],
          "scatterpolargl": [
           {
            "marker": {
             "colorbar": {
              "outlinewidth": 0,
              "ticks": ""
             }
            },
            "type": "scatterpolargl"
           }
          ],
          "scatterternary": [
           {
            "marker": {
             "colorbar": {
              "outlinewidth": 0,
              "ticks": ""
             }
            },
            "type": "scatterternary"
           }
          ],
          "surface": [
           {
            "colorbar": {
             "outlinewidth": 0,
             "ticks": ""
            },
            "colorscale": [
             [
              0,
              "#0d0887"
             ],
             [
              0.1111111111111111,
              "#46039f"
             ],
             [
              0.2222222222222222,
              "#7201a8"
             ],
             [
              0.3333333333333333,
              "#9c179e"
             ],
             [
              0.4444444444444444,
              "#bd3786"
             ],
             [
              0.5555555555555556,
              "#d8576b"
             ],
             [
              0.6666666666666666,
              "#ed7953"
             ],
             [
              0.7777777777777778,
              "#fb9f3a"
             ],
             [
              0.8888888888888888,
              "#fdca26"
             ],
             [
              1,
              "#f0f921"
             ]
            ],
            "type": "surface"
           }
          ],
          "table": [
           {
            "cells": {
             "fill": {
              "color": "#EBF0F8"
             },
             "line": {
              "color": "white"
             }
            },
            "header": {
             "fill": {
              "color": "#C8D4E3"
             },
             "line": {
              "color": "white"
             }
            },
            "type": "table"
           }
          ]
         },
         "layout": {
          "annotationdefaults": {
           "arrowcolor": "#2a3f5f",
           "arrowhead": 0,
           "arrowwidth": 1
          },
          "autotypenumbers": "strict",
          "coloraxis": {
           "colorbar": {
            "outlinewidth": 0,
            "ticks": ""
           }
          },
          "colorscale": {
           "diverging": [
            [
             0,
             "#8e0152"
            ],
            [
             0.1,
             "#c51b7d"
            ],
            [
             0.2,
             "#de77ae"
            ],
            [
             0.3,
             "#f1b6da"
            ],
            [
             0.4,
             "#fde0ef"
            ],
            [
             0.5,
             "#f7f7f7"
            ],
            [
             0.6,
             "#e6f5d0"
            ],
            [
             0.7,
             "#b8e186"
            ],
            [
             0.8,
             "#7fbc41"
            ],
            [
             0.9,
             "#4d9221"
            ],
            [
             1,
             "#276419"
            ]
           ],
           "sequential": [
            [
             0,
             "#0d0887"
            ],
            [
             0.1111111111111111,
             "#46039f"
            ],
            [
             0.2222222222222222,
             "#7201a8"
            ],
            [
             0.3333333333333333,
             "#9c179e"
            ],
            [
             0.4444444444444444,
             "#bd3786"
            ],
            [
             0.5555555555555556,
             "#d8576b"
            ],
            [
             0.6666666666666666,
             "#ed7953"
            ],
            [
             0.7777777777777778,
             "#fb9f3a"
            ],
            [
             0.8888888888888888,
             "#fdca26"
            ],
            [
             1,
             "#f0f921"
            ]
           ],
           "sequentialminus": [
            [
             0,
             "#0d0887"
            ],
            [
             0.1111111111111111,
             "#46039f"
            ],
            [
             0.2222222222222222,
             "#7201a8"
            ],
            [
             0.3333333333333333,
             "#9c179e"
            ],
            [
             0.4444444444444444,
             "#bd3786"
            ],
            [
             0.5555555555555556,
             "#d8576b"
            ],
            [
             0.6666666666666666,
             "#ed7953"
            ],
            [
             0.7777777777777778,
             "#fb9f3a"
            ],
            [
             0.8888888888888888,
             "#fdca26"
            ],
            [
             1,
             "#f0f921"
            ]
           ]
          },
          "colorway": [
           "#636efa",
           "#EF553B",
           "#00cc96",
           "#ab63fa",
           "#FFA15A",
           "#19d3f3",
           "#FF6692",
           "#B6E880",
           "#FF97FF",
           "#FECB52"
          ],
          "font": {
           "color": "#2a3f5f"
          },
          "geo": {
           "bgcolor": "white",
           "lakecolor": "white",
           "landcolor": "#E5ECF6",
           "showlakes": true,
           "showland": true,
           "subunitcolor": "white"
          },
          "hoverlabel": {
           "align": "left"
          },
          "hovermode": "closest",
          "mapbox": {
           "style": "light"
          },
          "paper_bgcolor": "white",
          "plot_bgcolor": "#E5ECF6",
          "polar": {
           "angularaxis": {
            "gridcolor": "white",
            "linecolor": "white",
            "ticks": ""
           },
           "bgcolor": "#E5ECF6",
           "radialaxis": {
            "gridcolor": "white",
            "linecolor": "white",
            "ticks": ""
           }
          },
          "scene": {
           "xaxis": {
            "backgroundcolor": "#E5ECF6",
            "gridcolor": "white",
            "gridwidth": 2,
            "linecolor": "white",
            "showbackground": true,
            "ticks": "",
            "zerolinecolor": "white"
           },
           "yaxis": {
            "backgroundcolor": "#E5ECF6",
            "gridcolor": "white",
            "gridwidth": 2,
            "linecolor": "white",
            "showbackground": true,
            "ticks": "",
            "zerolinecolor": "white"
           },
           "zaxis": {
            "backgroundcolor": "#E5ECF6",
            "gridcolor": "white",
            "gridwidth": 2,
            "linecolor": "white",
            "showbackground": true,
            "ticks": "",
            "zerolinecolor": "white"
           }
          },
          "shapedefaults": {
           "line": {
            "color": "#2a3f5f"
           }
          },
          "ternary": {
           "aaxis": {
            "gridcolor": "white",
            "linecolor": "white",
            "ticks": ""
           },
           "baxis": {
            "gridcolor": "white",
            "linecolor": "white",
            "ticks": ""
           },
           "bgcolor": "#E5ECF6",
           "caxis": {
            "gridcolor": "white",
            "linecolor": "white",
            "ticks": ""
           }
          },
          "title": {
           "x": 0.05
          },
          "xaxis": {
           "automargin": true,
           "gridcolor": "white",
           "linecolor": "white",
           "ticks": "",
           "title": {
            "standoff": 15
           },
           "zerolinecolor": "white",
           "zerolinewidth": 2
          },
          "yaxis": {
           "automargin": true,
           "gridcolor": "white",
           "linecolor": "white",
           "ticks": "",
           "title": {
            "standoff": 15
           },
           "zerolinecolor": "white",
           "zerolinewidth": 2
          }
         }
        },
        "title": {
         "text": "lose round"
        },
        "width": 700
       }
      }
     },
     "metadata": {},
     "output_type": "display_data"
    }
   ],
   "source": [
    "import plotly.graph_objects as go\n",
    "\n",
    "x_data = df_lose_round.columns.to_list() # close threshold\n",
    "\n",
    "y_data = df_lose_round.index.to_list() # open threshold\n",
    "\n",
    "z_data = df_lose_round.copy(deep=True) # win rate\n",
    "\n",
    "fig = go.Figure(data=[go.Surface(z=z_data.values,x=x_data,y=y_data)])\n",
    "\n",
    "fig.update_layout(title=\"lose round\", # 标题\n",
    "                  autosize=False,  # 尺度自动缩放\n",
    "                  width=700,  # 长宽\n",
    "                  height=600,\n",
    "                  margin=dict(l=65,r=50,b=65,t=90),  # 4个位置的距离\n",
    "                  scene=dict(xaxis_title='X-close-threshold',yaxis_title='Y-open-threshold')\n",
    "                )\n",
    "\n",
    "fig.show()"
   ]
  },
  {
   "cell_type": "markdown",
   "metadata": {},
   "source": [
    "# close by signal win ratio surface"
   ]
  },
  {
   "cell_type": "code",
   "execution_count": 24,
   "metadata": {},
   "outputs": [
    {
     "ename": "KeyError",
     "evalue": "'close by signal win/win'",
     "output_type": "error",
     "traceback": [
      "\u001b[0;31m---------------------------------------------------------------------------\u001b[0m",
      "\u001b[0;31mKeyError\u001b[0m                                  Traceback (most recent call last)",
      "\u001b[0;32m~/opt/anaconda3/lib/python3.9/site-packages/pandas/core/indexes/base.py\u001b[0m in \u001b[0;36mget_loc\u001b[0;34m(self, key, method, tolerance)\u001b[0m\n\u001b[1;32m   3360\u001b[0m             \u001b[0;32mtry\u001b[0m\u001b[0;34m:\u001b[0m\u001b[0;34m\u001b[0m\u001b[0;34m\u001b[0m\u001b[0m\n\u001b[0;32m-> 3361\u001b[0;31m                 \u001b[0;32mreturn\u001b[0m \u001b[0mself\u001b[0m\u001b[0;34m.\u001b[0m\u001b[0m_engine\u001b[0m\u001b[0;34m.\u001b[0m\u001b[0mget_loc\u001b[0m\u001b[0;34m(\u001b[0m\u001b[0mcasted_key\u001b[0m\u001b[0;34m)\u001b[0m\u001b[0;34m\u001b[0m\u001b[0;34m\u001b[0m\u001b[0m\n\u001b[0m\u001b[1;32m   3362\u001b[0m             \u001b[0;32mexcept\u001b[0m \u001b[0mKeyError\u001b[0m \u001b[0;32mas\u001b[0m \u001b[0merr\u001b[0m\u001b[0;34m:\u001b[0m\u001b[0;34m\u001b[0m\u001b[0;34m\u001b[0m\u001b[0m\n",
      "\u001b[0;32m~/opt/anaconda3/lib/python3.9/site-packages/pandas/_libs/index.pyx\u001b[0m in \u001b[0;36mpandas._libs.index.IndexEngine.get_loc\u001b[0;34m()\u001b[0m\n",
      "\u001b[0;32m~/opt/anaconda3/lib/python3.9/site-packages/pandas/_libs/index.pyx\u001b[0m in \u001b[0;36mpandas._libs.index.IndexEngine.get_loc\u001b[0;34m()\u001b[0m\n",
      "\u001b[0;32mpandas/_libs/hashtable_class_helper.pxi\u001b[0m in \u001b[0;36mpandas._libs.hashtable.PyObjectHashTable.get_item\u001b[0;34m()\u001b[0m\n",
      "\u001b[0;32mpandas/_libs/hashtable_class_helper.pxi\u001b[0m in \u001b[0;36mpandas._libs.hashtable.PyObjectHashTable.get_item\u001b[0;34m()\u001b[0m\n",
      "\u001b[0;31mKeyError\u001b[0m: 'close by signal win/win'",
      "\nThe above exception was the direct cause of the following exception:\n",
      "\u001b[0;31mKeyError\u001b[0m                                  Traceback (most recent call last)",
      "\u001b[0;32m/var/folders/4y/tm0f5s2n00s3g71c6qrvd0bh0000gn/T/ipykernel_31812/2863595293.py\u001b[0m in \u001b[0;36m<module>\u001b[0;34m\u001b[0m\n\u001b[1;32m      4\u001b[0m     \u001b[0mopen_threshold\u001b[0m \u001b[0;34m=\u001b[0m \u001b[0mrow\u001b[0m\u001b[0;34m[\u001b[0m\u001b[0;34m'open threshold'\u001b[0m\u001b[0;34m]\u001b[0m\u001b[0;34m\u001b[0m\u001b[0;34m\u001b[0m\u001b[0m\n\u001b[1;32m      5\u001b[0m     \u001b[0mclose_threshold\u001b[0m \u001b[0;34m=\u001b[0m \u001b[0mrow\u001b[0m\u001b[0;34m[\u001b[0m\u001b[0;34m'close threshold'\u001b[0m\u001b[0;34m]\u001b[0m\u001b[0;34m\u001b[0m\u001b[0;34m\u001b[0m\u001b[0m\n\u001b[0;32m----> 6\u001b[0;31m     \u001b[0mdf_cbsw\u001b[0m\u001b[0;34m.\u001b[0m\u001b[0mloc\u001b[0m\u001b[0;34m[\u001b[0m\u001b[0mopen_threshold\u001b[0m\u001b[0;34m,\u001b[0m\u001b[0mclose_threshold\u001b[0m\u001b[0;34m]\u001b[0m \u001b[0;34m=\u001b[0m \u001b[0mrow\u001b[0m\u001b[0;34m[\u001b[0m\u001b[0;34m'close by signal win/win'\u001b[0m\u001b[0;34m]\u001b[0m\u001b[0;34m\u001b[0m\u001b[0;34m\u001b[0m\u001b[0m\n\u001b[0m\u001b[1;32m      7\u001b[0m \u001b[0mprint\u001b[0m\u001b[0;34m(\u001b[0m\u001b[0;34m'max close by signal win/win: \\n'\u001b[0m\u001b[0;34m,\u001b[0m\u001b[0mdf_cbsw\u001b[0m\u001b[0;34m.\u001b[0m\u001b[0mmax\u001b[0m\u001b[0;34m(\u001b[0m\u001b[0;34m)\u001b[0m\u001b[0;34m)\u001b[0m\u001b[0;34m\u001b[0m\u001b[0;34m\u001b[0m\u001b[0m\n\u001b[1;32m      8\u001b[0m \u001b[0mprint\u001b[0m\u001b[0;34m(\u001b[0m\u001b[0;34m'min close by signal win/win: \\n'\u001b[0m\u001b[0;34m,\u001b[0m\u001b[0mdf_cbsw\u001b[0m\u001b[0;34m.\u001b[0m\u001b[0mmin\u001b[0m\u001b[0;34m(\u001b[0m\u001b[0;34m)\u001b[0m\u001b[0;34m)\u001b[0m\u001b[0;34m\u001b[0m\u001b[0;34m\u001b[0m\u001b[0m\n",
      "\u001b[0;32m~/opt/anaconda3/lib/python3.9/site-packages/pandas/core/series.py\u001b[0m in \u001b[0;36m__getitem__\u001b[0;34m(self, key)\u001b[0m\n\u001b[1;32m    940\u001b[0m \u001b[0;34m\u001b[0m\u001b[0m\n\u001b[1;32m    941\u001b[0m         \u001b[0;32melif\u001b[0m \u001b[0mkey_is_scalar\u001b[0m\u001b[0;34m:\u001b[0m\u001b[0;34m\u001b[0m\u001b[0;34m\u001b[0m\u001b[0m\n\u001b[0;32m--> 942\u001b[0;31m             \u001b[0;32mreturn\u001b[0m \u001b[0mself\u001b[0m\u001b[0;34m.\u001b[0m\u001b[0m_get_value\u001b[0m\u001b[0;34m(\u001b[0m\u001b[0mkey\u001b[0m\u001b[0;34m)\u001b[0m\u001b[0;34m\u001b[0m\u001b[0;34m\u001b[0m\u001b[0m\n\u001b[0m\u001b[1;32m    943\u001b[0m \u001b[0;34m\u001b[0m\u001b[0m\n\u001b[1;32m    944\u001b[0m         \u001b[0;32mif\u001b[0m \u001b[0mis_hashable\u001b[0m\u001b[0;34m(\u001b[0m\u001b[0mkey\u001b[0m\u001b[0;34m)\u001b[0m\u001b[0;34m:\u001b[0m\u001b[0;34m\u001b[0m\u001b[0;34m\u001b[0m\u001b[0m\n",
      "\u001b[0;32m~/opt/anaconda3/lib/python3.9/site-packages/pandas/core/series.py\u001b[0m in \u001b[0;36m_get_value\u001b[0;34m(self, label, takeable)\u001b[0m\n\u001b[1;32m   1049\u001b[0m \u001b[0;34m\u001b[0m\u001b[0m\n\u001b[1;32m   1050\u001b[0m         \u001b[0;31m# Similar to Index.get_value, but we do not fall back to positional\u001b[0m\u001b[0;34m\u001b[0m\u001b[0;34m\u001b[0m\u001b[0m\n\u001b[0;32m-> 1051\u001b[0;31m         \u001b[0mloc\u001b[0m \u001b[0;34m=\u001b[0m \u001b[0mself\u001b[0m\u001b[0;34m.\u001b[0m\u001b[0mindex\u001b[0m\u001b[0;34m.\u001b[0m\u001b[0mget_loc\u001b[0m\u001b[0;34m(\u001b[0m\u001b[0mlabel\u001b[0m\u001b[0;34m)\u001b[0m\u001b[0;34m\u001b[0m\u001b[0;34m\u001b[0m\u001b[0m\n\u001b[0m\u001b[1;32m   1052\u001b[0m         \u001b[0;32mreturn\u001b[0m \u001b[0mself\u001b[0m\u001b[0;34m.\u001b[0m\u001b[0mindex\u001b[0m\u001b[0;34m.\u001b[0m\u001b[0m_get_values_for_loc\u001b[0m\u001b[0;34m(\u001b[0m\u001b[0mself\u001b[0m\u001b[0;34m,\u001b[0m \u001b[0mloc\u001b[0m\u001b[0;34m,\u001b[0m \u001b[0mlabel\u001b[0m\u001b[0;34m)\u001b[0m\u001b[0;34m\u001b[0m\u001b[0;34m\u001b[0m\u001b[0m\n\u001b[1;32m   1053\u001b[0m \u001b[0;34m\u001b[0m\u001b[0m\n",
      "\u001b[0;32m~/opt/anaconda3/lib/python3.9/site-packages/pandas/core/indexes/base.py\u001b[0m in \u001b[0;36mget_loc\u001b[0;34m(self, key, method, tolerance)\u001b[0m\n\u001b[1;32m   3361\u001b[0m                 \u001b[0;32mreturn\u001b[0m \u001b[0mself\u001b[0m\u001b[0;34m.\u001b[0m\u001b[0m_engine\u001b[0m\u001b[0;34m.\u001b[0m\u001b[0mget_loc\u001b[0m\u001b[0;34m(\u001b[0m\u001b[0mcasted_key\u001b[0m\u001b[0;34m)\u001b[0m\u001b[0;34m\u001b[0m\u001b[0;34m\u001b[0m\u001b[0m\n\u001b[1;32m   3362\u001b[0m             \u001b[0;32mexcept\u001b[0m \u001b[0mKeyError\u001b[0m \u001b[0;32mas\u001b[0m \u001b[0merr\u001b[0m\u001b[0;34m:\u001b[0m\u001b[0;34m\u001b[0m\u001b[0;34m\u001b[0m\u001b[0m\n\u001b[0;32m-> 3363\u001b[0;31m                 \u001b[0;32mraise\u001b[0m \u001b[0mKeyError\u001b[0m\u001b[0;34m(\u001b[0m\u001b[0mkey\u001b[0m\u001b[0;34m)\u001b[0m \u001b[0;32mfrom\u001b[0m \u001b[0merr\u001b[0m\u001b[0;34m\u001b[0m\u001b[0;34m\u001b[0m\u001b[0m\n\u001b[0m\u001b[1;32m   3364\u001b[0m \u001b[0;34m\u001b[0m\u001b[0m\n\u001b[1;32m   3365\u001b[0m         \u001b[0;32mif\u001b[0m \u001b[0mis_scalar\u001b[0m\u001b[0;34m(\u001b[0m\u001b[0mkey\u001b[0m\u001b[0;34m)\u001b[0m \u001b[0;32mand\u001b[0m \u001b[0misna\u001b[0m\u001b[0;34m(\u001b[0m\u001b[0mkey\u001b[0m\u001b[0;34m)\u001b[0m \u001b[0;32mand\u001b[0m \u001b[0;32mnot\u001b[0m \u001b[0mself\u001b[0m\u001b[0;34m.\u001b[0m\u001b[0mhasnans\u001b[0m\u001b[0;34m:\u001b[0m\u001b[0;34m\u001b[0m\u001b[0;34m\u001b[0m\u001b[0m\n",
      "\u001b[0;31mKeyError\u001b[0m: 'close by signal win/win'"
     ]
    }
   ],
   "source": [
    "tmp_grid_res\n",
    "df_cbsw = pd.DataFrame([])\n",
    "for index,row in tmp_grid_res.iterrows():\n",
    "    open_threshold = row['open threshold']\n",
    "    close_threshold = row['close threshold']\n",
    "    df_cbsw.loc[open_threshold,close_threshold] = row['close by signal win/win']\n",
    "print('max close by signal win/win: \\n',df_cbsw.max())\n",
    "print('min close by signal win/win: \\n',df_cbsw.min())    \n",
    "df_cbsw"
   ]
  },
  {
   "cell_type": "code",
   "execution_count": null,
   "metadata": {},
   "outputs": [],
   "source": [
    "import plotly.graph_objects as go\n",
    "\n",
    "x_data = df_cbsw.columns.to_list() # close threshold\n",
    "\n",
    "y_data = df_cbsw.index.to_list() # open threshold\n",
    "\n",
    "z_data = df_cbsw.copy(deep=True) # win rate\n",
    "\n",
    "fig = go.Figure(data=[go.Surface(z=z_data.values,x=x_data,y=y_data)])\n",
    "\n",
    "fig.update_layout(title=\"lose round\", # 标题\n",
    "                  autosize=False,  # 尺度自动缩放\n",
    "                  width=700,  # 长宽\n",
    "                  height=600,\n",
    "                  margin=dict(l=65,r=50,b=65,t=90),  # 4个位置的距离\n",
    "                  scene=dict(xaxis_title='X-close-threshold',yaxis_title='Y-open-threshold')\n",
    "                )\n",
    "\n",
    "fig.show()"
   ]
  },
  {
   "cell_type": "markdown",
   "metadata": {},
   "source": [
    "# signal check"
   ]
  },
  {
   "cell_type": "code",
   "execution_count": null,
   "metadata": {},
   "outputs": [],
   "source": [
    "print('open threshold: ',open_threshold,'close threshold: ',close_threshold)\n",
    "# df_signal"
   ]
  },
  {
   "cell_type": "code",
   "execution_count": null,
   "metadata": {},
   "outputs": [],
   "source": [
    "len(rounds)"
   ]
  },
  {
   "cell_type": "code",
   "execution_count": null,
   "metadata": {},
   "outputs": [],
   "source": [
    "cnt = 0\n",
    "for index, row in df_trade.iterrows():\n",
    "    \n",
    "    if str(index)[-8:] == '15:00:00':\n",
    "        cnt += 1\n",
    "print(cnt)"
   ]
  },
  {
   "cell_type": "code",
   "execution_count": null,
   "metadata": {},
   "outputs": [],
   "source": [
    "df_pos_list = []\n",
    "for k,v in signal_res.items():\n",
    "    # print(k.split('@'))\n",
    "    tmp_df_pos = v[['bond_pos','stock_pos']]\n",
    "    # print(tmp_df_pos.head())\n",
    "    tmp_df_pos.columns = ['bond_pos'+k,'stock_pos']\n",
    "    df_pos_list.append(tmp_df_pos)\n"
   ]
  },
  {
   "cell_type": "code",
   "execution_count": null,
   "metadata": {},
   "outputs": [],
   "source": [
    "df_pos = pd.concat([df_signal.iloc[:,:-2],df_pos_list[0],df_pos_list[-4]],axis=1)\n",
    "print(len(df_pos))\n",
    "df_pos.head(300)"
   ]
  },
  {
   "cell_type": "code",
   "execution_count": null,
   "metadata": {},
   "outputs": [],
   "source": []
  },
  {
   "cell_type": "code",
   "execution_count": null,
   "metadata": {},
   "outputs": [],
   "source": [
    "cnt = 0\n",
    "for index,row in df_trade.iloc[1:,:].iterrows():\n",
    "    if index.time() == time(15,0,0):\n",
    "        cnt += 1\n",
    "print(cnt)"
   ]
  },
  {
   "cell_type": "code",
   "execution_count": null,
   "metadata": {},
   "outputs": [],
   "source": [
    "len(rounds)"
   ]
  },
  {
   "cell_type": "code",
   "execution_count": null,
   "metadata": {},
   "outputs": [],
   "source": [
    "# trade_res['0.005@0.001']"
   ]
  },
  {
   "cell_type": "code",
   "execution_count": null,
   "metadata": {},
   "outputs": [],
   "source": []
  }
 ],
 "metadata": {
  "kernelspec": {
   "display_name": "Python 3 (ipykernel)",
   "language": "python",
   "name": "python3"
  },
  "language_info": {
   "codemirror_mode": {
    "name": "ipython",
    "version": 3
   },
   "file_extension": ".py",
   "mimetype": "text/x-python",
   "name": "python",
   "nbconvert_exporter": "python",
   "pygments_lexer": "ipython3",
   "version": "3.9.7"
  },
  "toc": {
   "base_numbering": 1,
   "nav_menu": {},
   "number_sections": true,
   "sideBar": true,
   "skip_h1_title": false,
   "title_cell": "Table of Contents",
   "title_sidebar": "Contents",
   "toc_cell": false,
   "toc_position": {
    "height": "calc(100% - 180px)",
    "left": "10px",
    "top": "150px",
    "width": "202.59375px"
   },
   "toc_section_display": true,
   "toc_window_display": true
  },
  "varInspector": {
   "cols": {
    "lenName": 16,
    "lenType": 16,
    "lenVar": 40
   },
   "kernels_config": {
    "python": {
     "delete_cmd_postfix": "",
     "delete_cmd_prefix": "del ",
     "library": "var_list.py",
     "varRefreshCmd": "print(var_dic_list())"
    },
    "r": {
     "delete_cmd_postfix": ") ",
     "delete_cmd_prefix": "rm(",
     "library": "var_list.r",
     "varRefreshCmd": "cat(var_dic_list()) "
    }
   },
   "types_to_exclude": [
    "module",
    "function",
    "builtin_function_or_method",
    "instance",
    "_Feature"
   ],
   "window_display": false
  },
  "vscode": {
   "interpreter": {
    "hash": "4b7a3c99c09164ed3315a85b9be868456d78d186d21965e8a7155bab558fd18f"
   }
  }
 },
 "nbformat": 4,
 "nbformat_minor": 2
}
