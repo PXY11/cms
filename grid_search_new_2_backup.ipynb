{
 "cells": [
  {
   "cell_type": "markdown",
   "metadata": {},
   "source": [
    "# import data"
   ]
  },
  {
   "cell_type": "code",
   "execution_count": 1,
   "metadata": {},
   "outputs": [
    {
     "name": "stdout",
     "output_type": "stream",
     "text": [
      "dict_keys(['123046.SZ', '300587.SZ', '113642.SH', '603185.SH', '110061.SH', '600674.SH', '128081.SZ', '002203.SZ'])\n",
      "123046.SZ  data length:  31460\n",
      "300587.SZ  data length:  31460\n",
      "113642.SH  data length:  13552\n",
      "603185.SH  data length:  31460\n",
      "110061.SH  data length:  31460\n",
      "600674.SH  data length:  31460\n",
      "128081.SZ  data length:  31460\n",
      "002203.SZ  data length:  31460\n",
      "数据起始日期 2021-12-13 09:30:00\n",
      "数据结束日期 2022-06-28 15:00:00\n",
      "113642.SH数据起始日期 2022-04-06 09:30:00\n",
      "113642.SH数据结束日期 2022-06-28 15:00:00\n"
     ]
    }
   ],
   "source": [
    "import platform\n",
    "import pandas as pd\n",
    "from datetime import datetime, timedelta, time\n",
    "ohlcv_data = pd.read_pickle('/Users/bokie/code/python/CMS/可转债套利/cms/stock_data_min_new.pkl')\n",
    "print(ohlcv_data.keys())\n",
    "for k,v in ohlcv_data.items():\n",
    "    print(k,' data length: ',len(v))\n",
    "print('数据起始日期',v.index[0])\n",
    "print('数据结束日期',v.index[-1])\n",
    "print('113642.SH数据起始日期',ohlcv_data['113642.SH'].index[0])\n",
    "print('113642.SH数据结束日期',ohlcv_data['113642.SH'].index[-1])"
   ]
  },
  {
   "cell_type": "markdown",
   "metadata": {},
   "source": [
    "# bond-stock pair"
   ]
  },
  {
   "cell_type": "code",
   "execution_count": 2,
   "metadata": {},
   "outputs": [],
   "source": [
    "# cbond_pair = ['128081.SZ','002203.SZ']\n",
    "# part = 1\n",
    "# convert_price = 9.69\n",
    "# stock_volume = 100/convert_price #整个回测期间不变\n",
    "\n",
    "\n",
    "cbond_pair = ['123046.SZ','300587.SZ']\n",
    "part = 1 \n",
    "convert_price = 6.73\n",
    "stock_volume = 100/convert_price  # 2021-12-13至2022-03-23\n",
    "# part = 2\n",
    "# convert_price = 6.74\n",
    "# stock_volume = 100/convert_price  # 2022-03-24至2022-06-28\n",
    "\n",
    "\n",
    "# cbond_pair = ['110061.SH','600674.SH']\n",
    "# part = 1\n",
    "# convert_price = 9.2\n",
    "# stock_volume = 100/convert_price #整个回测期间不变\n",
    "\n",
    "\n",
    "# cbond_pair = ['113642.SH','603185.SH']\n",
    "# part = 1\n",
    "# convert_price = 145.66\n",
    "# stock_volume = 100/convert_price  # 2022-04-06至2022-06-02\n",
    "# part = 2\n",
    "# convert_price = 102.61\n",
    "# stock_volume = 100/convert_price  # 2022-06-03至2022-06-28\n"
   ]
  },
  {
   "cell_type": "code",
   "execution_count": 3,
   "metadata": {},
   "outputs": [],
   "source": [
    "cbond_pair_price = pd.DataFrame([])\n",
    "cbond_pair_price = pd.concat([ohlcv_data[cbond_pair[0]]['close'],ohlcv_data[cbond_pair[1]]['close']],axis=1)\n",
    "cbond_pair_price.columns = cbond_pair\n",
    "cbond_pair_price = cbond_pair_price.dropna()\n",
    "if cbond_pair[0] == '128081.SZ' or cbond_pair[0] == '110061.SH':\n",
    "    cbond_pair_price = cbond_pair_price.loc['2021-12-13 15:00:00':]\n",
    "elif cbond_pair[0] == '123046.SZ' and part == 1:\n",
    "    cbond_pair_price = cbond_pair_price.loc['2021-12-13 15:00:00':'2022-03-23 15:00:00']\n",
    "elif cbond_pair[0] == '123046.SZ' and part == 2:\n",
    "    cbond_pair_price = cbond_pair_price.loc['2022-03-25 15:00:00':]\n",
    "elif cbond_pair[0] == '113642.SH' and part == 1:\n",
    "    cbond_pair_price = cbond_pair_price.loc['2022-04-07 15:00:00':'2022-06-02 15:00:00']\n",
    "elif cbond_pair[0] == '113642.SH' and part == 2:\n",
    "    cbond_pair_price = cbond_pair_price.loc['2022-06-03 15:00:00':]\n"
   ]
  },
  {
   "cell_type": "markdown",
   "metadata": {},
   "source": [
    "# signal calculate"
   ]
  },
  {
   "cell_type": "code",
   "execution_count": 4,
   "metadata": {},
   "outputs": [
    {
     "data": {
      "text/plain": [
       "0"
      ]
     },
     "execution_count": 4,
     "metadata": {},
     "output_type": "execute_result"
    }
   ],
   "source": [
    "cbond_return = pd.DataFrame([])\n",
    "\n",
    "cbond_preclose = cbond_pair_price.iloc[0,0] # 初始时刻的bond前收盘价\n",
    "stock_preclose = cbond_pair_price.iloc[0,1] # 初始时刻的stock前收盘价\n",
    "\n",
    "for index,row in cbond_pair_price.iterrows():\n",
    "    \n",
    "    cbond_return.loc[index,cbond_pair[0]] = row[cbond_pair[0]]/cbond_preclose - 1 # 算日内的return\n",
    "    cbond_return.loc[index,cbond_pair[1]] = row[cbond_pair[1]]/stock_preclose - 1\n",
    "\n",
    "    if index.time()==time(15,0,0):  #算完日内return，迭代到今日价格的最后一个time bar的时候，将其设为前收盘价\n",
    "        cbond_preclose = row[cbond_pair[0]]    # 日内return指标用 现价/昨日收盘价 计算\n",
    "        stock_preclose = row[cbond_pair[1]]\n",
    "        \n",
    "# 检查df是否有空值\n",
    "cbond_return.isnull().sum(axis=0)  # 按列统计\n",
    "cbond_return.isnull().sum(axis=1) # 按行统计\n",
    "cbond_return.isnull().sum(axis=1).sum() # 统计整张表"
   ]
  },
  {
   "cell_type": "code",
   "execution_count": 5,
   "metadata": {},
   "outputs": [
    {
     "data": {
      "text/plain": [
       "15107"
      ]
     },
     "execution_count": 5,
     "metadata": {},
     "output_type": "execute_result"
    }
   ],
   "source": [
    "pd.set_option('display.max_rows', None)\n",
    "# pair moving trend: diff = cbond reutrn - stock return \n",
    "cbond_return['diff'] = cbond_return[cbond_pair[0]] - cbond_return[cbond_pair[1]]\n",
    "\n",
    "len(cbond_return)"
   ]
  },
  {
   "cell_type": "markdown",
   "metadata": {},
   "source": [
    "# grid search"
   ]
  },
  {
   "cell_type": "code",
   "execution_count": 6,
   "metadata": {},
   "outputs": [],
   "source": [
    "import warnings\n",
    "warnings.filterwarnings(\"ignore\")\n",
    "grid_search_res = {}\n",
    "signal_res = {}\n",
    "trade_res = {}"
   ]
  },
  {
   "cell_type": "code",
   "execution_count": 7,
   "metadata": {},
   "outputs": [
    {
     "name": "stdout",
     "output_type": "stream",
     "text": [
      "0.005@0\n",
      "0.005@0.001\n",
      "0.005@0.002\n",
      "0.005@0.003\n",
      "0.006@0\n",
      "0.006@0.001\n",
      "0.006@0.002\n",
      "0.006@0.003\n",
      "0.007@0\n",
      "0.007@0.001\n",
      "0.007@0.002\n",
      "0.007@0.003\n",
      "0.008@0\n",
      "0.008@0.001\n",
      "0.008@0.002\n",
      "0.008@0.003\n",
      "0.009@0\n",
      "0.009@0.001\n",
      "0.009@0.002\n",
      "0.009@0.003\n",
      "0.01@0\n",
      "0.01@0.001\n",
      "0.01@0.002\n",
      "0.01@0.003\n",
      "0.011@0\n",
      "0.011@0.001\n",
      "0.011@0.002\n",
      "0.011@0.003\n",
      "0.012@0\n",
      "0.012@0.001\n",
      "0.012@0.002\n",
      "0.012@0.003\n",
      "0.013@0\n",
      "0.013@0.001\n",
      "0.013@0.002\n",
      "0.013@0.003\n",
      "0.014@0\n",
      "0.014@0.001\n",
      "0.014@0.002\n",
      "0.014@0.003\n",
      "0.015@0\n",
      "0.015@0.001\n",
      "0.015@0.002\n",
      "0.015@0.003\n"
     ]
    }
   ],
   "source": [
    "open_threshold_list = [0.005,0.006,0.007,0.008,0.009,\n",
    "                        0.01,0.011,0.012,0.013,0.014,0.015,\n",
    "                        # 0.016,0.017,0.018,0.019,0.020,0.021,0.022 # 0.005 ~ 0.01 ~ 0.015 间隔是0.001\n",
    "                        ]\n",
    "\n",
    "close_threshold_list = [0,0.001,0.002,0.003] #  0 ~ 0.001 ~ 0.002 ~ 0.003\n",
    "for open_threshold in open_threshold_list:\n",
    "    for close_threshold in close_threshold_list:\n",
    "        ############################################################################################################################################\n",
    "        # open_threshold = 0.005  # 0.005 ~ 0.01 ~ 0.015 间隔是0.001\n",
    "        # open_threshold = 0.008\n",
    "        # close_threshold = 0.001 #  0 ~ 0.001 ~ 0.002 ~ 0.003\n",
    "        pos_open_flag = 0\n",
    "        neg_open_flag = 0\n",
    "        cbond_position = pd.DataFrame([])\n",
    "        cbond_position.index = cbond_return.index\n",
    "        for index,row in cbond_return.iterrows():\n",
    "\n",
    "            if row['diff'] >= open_threshold and pos_open_flag==0 and neg_open_flag==0:\n",
    "                #diff落在A区间，且无仓位，正开\n",
    "                pos_open_flag = 1\n",
    "                neg_open_flag = 0\n",
    "                cbond_position.loc[index,cbond_pair[0]] = -1*pos_open_flag\n",
    "                cbond_position.loc[index,cbond_pair[1]] = pos_open_flag\n",
    "            elif row['diff'] >= open_threshold and pos_open_flag==0 and neg_open_flag==1:\n",
    "                #diff落在A区间，且有负仓，平仓再正开\n",
    "                pos_open_flag=1\n",
    "                neg_open_flag=0\n",
    "                cbond_position.loc[index,cbond_pair[0]] = -1*pos_open_flag\n",
    "                cbond_position.loc[index,cbond_pair[1]] = pos_open_flag\n",
    "            elif row['diff'] >= open_threshold and pos_open_flag==1 and neg_open_flag==0:\n",
    "                #diff落在A区间，且有正仓，keep\n",
    "                pos_open_flag=1\n",
    "                neg_open_flag=0\n",
    "                cbond_position.loc[index,cbond_pair[0]] = -1*pos_open_flag\n",
    "                cbond_position.loc[index,cbond_pair[1]] = pos_open_flag\n",
    "\n",
    "            if row['diff'] > close_threshold and row['diff'] < open_threshold and pos_open_flag==1 and neg_open_flag==0:\n",
    "                #diff 落在B区间，且有正仓，keep\n",
    "                pos_open_flag=1\n",
    "                neg_open_flag=0\n",
    "                cbond_position.loc[index,cbond_pair[0]] = -1*pos_open_flag\n",
    "                cbond_position.loc[index,cbond_pair[1]] = pos_open_flag\n",
    "            elif row['diff'] > close_threshold and row['diff'] < open_threshold and pos_open_flag==0 and neg_open_flag==1:\n",
    "                #diff 落在B区间，且有负仓，平仓\n",
    "                pos_open_flag=0\n",
    "                neg_open_flag=0\n",
    "                cbond_position.loc[index,cbond_pair[0]] = neg_open_flag\n",
    "                cbond_position.loc[index,cbond_pair[1]] = neg_open_flag\n",
    "            elif row['diff'] > close_threshold and row['diff'] < open_threshold and pos_open_flag==0 and neg_open_flag==0:\n",
    "                #diff 落在B区间，且无仓，keep\n",
    "                pos_open_flag=0\n",
    "                neg_open_flag=0\n",
    "                cbond_position.loc[index,cbond_pair[0]] = neg_open_flag\n",
    "                cbond_position.loc[index,cbond_pair[1]] = neg_open_flag\n",
    "            \n",
    "            if row['diff'] >= -1*close_threshold and row['diff'] <= close_threshold and pos_open_flag==1 and neg_open_flag==0:\n",
    "                #diff 落在C区间，且有正仓，平仓\n",
    "                pos_open_flag=0\n",
    "                neg_open_flag=0\n",
    "                cbond_position.loc[index,cbond_pair[0]] = pos_open_flag\n",
    "                cbond_position.loc[index,cbond_pair[1]] = pos_open_flag\n",
    "            elif row['diff'] >= -1*close_threshold and row['diff'] <= close_threshold and pos_open_flag==0 and neg_open_flag==1:\n",
    "                #diff 落在C区间，且有负仓，平仓\n",
    "                pos_open_flag=0\n",
    "                neg_open_flag=0\n",
    "                cbond_position.loc[index,cbond_pair[0]] = neg_open_flag\n",
    "                cbond_position.loc[index,cbond_pair[1]] = neg_open_flag\n",
    "            elif row['diff'] >= -1*close_threshold and row['diff'] <= close_threshold and pos_open_flag==0 and neg_open_flag==0:\n",
    "                #diff 落在C区间，且无仓位，keep\n",
    "                pos_open_flag=0\n",
    "                neg_open_flag=0\n",
    "                cbond_position.loc[index,cbond_pair[0]] = neg_open_flag\n",
    "                cbond_position.loc[index,cbond_pair[1]] = neg_open_flag\n",
    "            \n",
    "            if row['diff'] > -1*open_threshold and row['diff'] < -1*close_threshold and pos_open_flag==0 and neg_open_flag==1:\n",
    "                #diff 落在D区间，且有负仓，keep\n",
    "                pos_open_flag=0\n",
    "                neg_open_flag=1\n",
    "                cbond_position.loc[index,cbond_pair[0]] = neg_open_flag\n",
    "                cbond_position.loc[index,cbond_pair[1]] = -1*neg_open_flag\n",
    "\n",
    "            elif row['diff'] > -1*open_threshold and row['diff'] < -1*close_threshold and pos_open_flag==1 and neg_open_flag==0:\n",
    "                #diff 落在D区间，且有正仓，平仓\n",
    "                pos_open_flag=0\n",
    "                neg_open_flag=0\n",
    "                cbond_position.loc[index,cbond_pair[0]] = pos_open_flag\n",
    "                cbond_position.loc[index,cbond_pair[1]] = pos_open_flag\n",
    "            elif row['diff'] > -1*open_threshold and row['diff'] < -1*close_threshold and pos_open_flag==0 and neg_open_flag==0:\n",
    "                #diff 落在D区间，且无仓位，keep\n",
    "                pos_open_flag=0\n",
    "                neg_open_flag=0\n",
    "                cbond_position.loc[index,cbond_pair[0]] = pos_open_flag\n",
    "                cbond_position.loc[index,cbond_pair[1]] = pos_open_flag\n",
    "\n",
    "            if row['diff'] <= -1*open_threshold and pos_open_flag==0 and neg_open_flag==0:\n",
    "                #diff 落在E区间，且无仓位，反开\n",
    "                pos_open_flag=0\n",
    "                neg_open_flag=1\n",
    "                cbond_position.loc[index,cbond_pair[0]] = neg_open_flag\n",
    "                cbond_position.loc[index,cbond_pair[1]] = -1*neg_open_flag\n",
    "            elif row['diff'] <= -1*open_threshold and pos_open_flag==1 and neg_open_flag==0:\n",
    "                #diff 落在E区间，且有正仓，平仓反开\n",
    "                pos_open_flag=0\n",
    "                neg_open_flag=1\n",
    "                cbond_position.loc[index,cbond_pair[0]] = neg_open_flag\n",
    "                cbond_position.loc[index,cbond_pair[1]] = -1*neg_open_flag\n",
    "            elif row['diff'] <= -1*open_threshold and pos_open_flag==0 and neg_open_flag==1:\n",
    "                #diff 落在E区间，且有负仓，keep\n",
    "                pos_open_flag=0\n",
    "                neg_open_flag=1\n",
    "                cbond_position.loc[index,cbond_pair[0]] = neg_open_flag\n",
    "                cbond_position.loc[index,cbond_pair[1]] = -1*neg_open_flag\n",
    "\n",
    "            if index.time()==time(15,0,0): # 每日收盘时必须平仓（时间止损信号）\n",
    "                pos_open_flag=0\n",
    "                neg_open_flag=0\n",
    "                cbond_position.loc[index,cbond_pair[0]] = pos_open_flag\n",
    "                cbond_position.loc[index,cbond_pair[1]] = pos_open_flag\n",
    "\n",
    "        ############################################################################################################################################\n",
    "\n",
    "        df_signal = pd.concat([cbond_pair_price,cbond_return,cbond_position],axis=1)\n",
    "        df_signal.columns = ['bond_price','stock_price','bond_rtn','stock_rtn','diff','bond_pos','stock_pos']\n",
    "        # df_signal\n",
    "        ############################################################################################################################################\n",
    "        # backtest\n",
    "        # 用来记录交易流水的表格,一边遍历df_signal，一边填入内容到流水表格里\n",
    "\n",
    "        import numpy as np\n",
    "        cols = ['balance','signal','bond price','stock price','bond hold','stock hold','commission','tax','reverse open']\n",
    "        df_trade = pd.DataFrame(\n",
    "            data = [[0,np.nan,np.nan,np.nan,0,0,0,0,np.nan]],\n",
    "            columns=cols\n",
    "            ) \n",
    "\n",
    "        balance_last = 0 # 现金账户初始余额\n",
    "\n",
    "        bond_hold = 0 # 债券持有数量\n",
    "        stock_hold = 0 # 股票持有数量\n",
    "\n",
    "        commission_rate = 2/10000 # 佣金买卖万二\n",
    "        tax_rate = 1/1000 #\n",
    "\n",
    "\n",
    "\n",
    "        for i in range(len(df_signal)-1):\n",
    "            if df_signal.values[i][-1] != df_signal.values[i+1][-1]:\n",
    "                index = df_signal.index[i+1]\n",
    "\n",
    "            # df_signal的columns\n",
    "            # ['bond_price','stock_price','bond_rtn','stock_rtn','diff','bond_pos','stock_pos']\n",
    "                signal = str(int(df_signal.values[i+1][-2]))+str(int(df_signal.values[i+1][-1]))\n",
    "                \n",
    "                bond_price = df_signal.values[i+1][0] \n",
    "\n",
    "                stock_price = df_signal.values[i+1][1]\n",
    "\n",
    "                commission = (bond_price + stock_price * stock_volume) * commission_rate\n",
    "\n",
    "                reverse_open = False #表明这笔交易，是否包含平仓后再反向开仓的操作\n",
    "\n",
    "                if signal == '00' and stock_hold == stock_volume: #有股票持仓并且需要卖出平仓时，有印花税\n",
    "                    tax = stock_price * tax_rate * stock_volume\n",
    "                else:\n",
    "                    tax = 0\n",
    "\n",
    "                if signal == '00':\n",
    "                    balance_last += bond_hold*bond_price\n",
    "                    balance_last += stock_hold*stock_price\n",
    "                    \n",
    "                    bond_hold = 0\n",
    "                    stock_hold = 0\n",
    "                    \n",
    "\n",
    "                if signal == '1-1':\n",
    "                    '''\n",
    "                    加一个检测之前持仓的模块,如果之前因为-11的信号有持仓,需要先平掉(即买债卖股票),同时再反向开仓\n",
    "                    '''\n",
    "                    reverse_flag = False\n",
    "                    if bond_hold == -1 and stock_hold == 1*stock_volume:\n",
    "                        bond_hold = 0\n",
    "                        stock_hold = 0\n",
    "                        balance_last -= bond_price \n",
    "                        balance_last += stock_price * stock_volume\n",
    "                        commission *= 2 # 因为平掉之后再反向开仓，手续费double\n",
    "                        tax = stock_price * tax_rate * stock_volume # 卖股票要收印花税\n",
    "                        reverse_flag = True\n",
    "                        reverse_open = True\n",
    "\n",
    "                    bond_hold += 1\n",
    "                    stock_hold += (-1 * stock_volume)\n",
    "                    # stock_hold += stock_volume\n",
    "                    balance_last -= bond_price\n",
    "                    balance_last += stock_price * stock_volume\n",
    "                    \n",
    "                    if reverse_flag:\n",
    "                        tax *= 2 #平仓然后反向开仓的时候 已经计算过tax了，直接double\n",
    "                    else:\n",
    "                        tax = stock_price * tax_rate * stock_volume # 卖股票要收印花税\n",
    "\n",
    "                if signal == '-11':\n",
    "                    '''\n",
    "                    加一个检测之前持仓的模块,如果之前因为1-1的信号有持仓,需要先平掉(卖债买股票),同时再反向开仓\n",
    "                    '''\n",
    "                    if bond_hold == 1 and stock_hold == -1*stock_volume:\n",
    "                        bond_hold = 0\n",
    "                        stock_hold = 0\n",
    "                        balance_last += bond_price\n",
    "                        balance_last -= stock_price * stock_volume\n",
    "                        commission *= 2 # 因为平掉之后再反向开仓，手续费double\n",
    "                                        # 买股票无印花税\n",
    "                        reverse_open = True\n",
    "                    bond_hold += -1\n",
    "                    stock_hold += (1 * stock_volume)\n",
    "                    # stock_hold += stock_volume\n",
    "                    balance_last += bond_price\n",
    "                    balance_last -= stock_price * stock_volume\n",
    "                \n",
    "\n",
    "                balance = balance_last\n",
    "\n",
    "                line = [balance,signal,bond_price,stock_price,bond_hold,stock_hold,commission,tax,reverse_open]\n",
    "                # df_trade.loc[index,['balance','asset','signal','bond price','stock price','commission','tax']] = line\n",
    "                # df_trade.loc[index,cols] = [0,0,np.nan,np.nan,np.nan,0,0,0,0]\n",
    "                df_trade.loc[index,cols] = line\n",
    "\n",
    "        ############################################################################################################################################\n",
    "        df_trade['net value'] = df_trade['balance'] + \\\n",
    "                                df_trade['bond price']*df_trade['bond hold'] + \\\n",
    "                                df_trade['stock price']*df_trade['stock hold'] - \\\n",
    "                                df_trade['commission'] - \\\n",
    "                                df_trade['tax']\n",
    "        ############################################################################################################################################\n",
    "        #把交易序列单个时间节点的扩展到整个序列\n",
    "        # assert False\n",
    "        df_nv = df_trade[['net value']].iloc[1:]\n",
    "        df_nv['time'] = df_nv.index\n",
    "        df_tmp = df_signal[['diff']]\n",
    "        df_tmp['time'] = df_tmp.index\n",
    "        #  merge之后再前向往后fillna\n",
    "        df_nv_full =  pd.merge(df_nv,df_tmp,how='outer').sort_values(by='time').fillna(method='ffill').fillna(0)\n",
    "        df_nv_full.index = df_tmp.index\n",
    "        df_nv_full = df_nv_full[['net value']]\n",
    "\n",
    "        ############################################################################################################################################\n",
    "        df_trade_2 = df_trade.copy(deep=True)\n",
    "        df_trade_2 = df_trade_2.iloc[1:,:] #删掉df_trade原来构建时带有的空行\n",
    "        rounds = [] #只包含单个来回，每2条交易记录组成一个来回的组\n",
    "        reverse_rounds = [] # 包含多个来回，信号之间包含平仓同时反向开仓的组\n",
    "        # for i in range(len(df_trade)-1,0,-1):\n",
    "        for i in range(len(df_trade)-1,-1,-1):\n",
    "            if df_trade_2.iloc[i-1,:]['signal'] == '00':\n",
    "                round = df_trade_2.iloc[i:,:]\n",
    "                if len(round)>2:\n",
    "                    reverse_rounds.append(round)\n",
    "                elif len(round)==2:\n",
    "                    rounds.append(round)\n",
    "                df_trade_2 = df_trade_2.iloc[:i]\n",
    "        ############################################################################################################################################\n",
    "        #检查切片是否完全\n",
    "        clips_length = 0\n",
    "        for tmp_round in rounds:\n",
    "            clips_length += len(tmp_round)\n",
    "        for tmp_round in reverse_rounds:\n",
    "            clips_length += len(tmp_round)\n",
    "\n",
    "        ############################################################################################################################################\n",
    "        num_round = len(rounds)\n",
    "        for i in reverse_rounds:\n",
    "            num_round += len(i)-1\n",
    "\n",
    "        ############################################################################################################################################\n",
    "        # normal round stat\n",
    "        return_in_rounds = []\n",
    "        win = 0\n",
    "        lose = 0\n",
    "        win_profit = 0\n",
    "        lose_profit = 0\n",
    "        for i in rounds:\n",
    "            \n",
    "            tmp_profit = (i['net value'] - i['net value'].shift(1)).values[-1]\n",
    "            single_round_cost = (i['bond price'].sum() + (i['stock price']*stock_volume).sum())/4\n",
    "            \n",
    "            return_in_round = tmp_profit/single_round_cost\n",
    "            return_in_rounds.append(return_in_round)\n",
    "            \n",
    "            \n",
    "            if tmp_profit>0:\n",
    "                win += 1\n",
    "                win_profit += tmp_profit\n",
    "            else:\n",
    "                lose += 1\n",
    "                lose_profit += tmp_profit\n",
    "\n",
    "        ############################################################################################################################################\n",
    "        ''' \n",
    "        先把连续反向开仓的信号拆开\n",
    "        e.g.  1-1 -11 00 ---> 1-1 00 -11 00\n",
    "        '''\n",
    "\n",
    "        reverse_rounds_reconstruct = []\n",
    "        for reverse_round in reverse_rounds:\n",
    "            reverse_rounds0_reconstruct = []\n",
    "            for i in range(0,len(reverse_round)-1): #4-2\n",
    "\n",
    "                # tmp_cols = reverse_rounds[0].columns\n",
    "                # tmp_index = reverse_rounds[0].iloc[i,:].reset_index()\n",
    "                m = reverse_round.iloc[i,:].tolist()\n",
    "                n = reverse_round.iloc[i+1,:].tolist()\n",
    "                # reverse_rounds0_reconstruct.append(m)\n",
    "                tmp_balance = m[0] + n[2]*m[4] + n[3]*m[5] \n",
    "                tmp_commission = n[6]/2\n",
    "                tmp_tax = n[7]/2\n",
    "                tmp_nv =  tmp_balance - tmp_commission - tmp_tax\n",
    "                \n",
    "                insert_line  = [tmp_balance,'00',np.nan,np.nan,0,0,tmp_commission,tmp_tax,'-',tmp_nv]\n",
    "                reverse_rounds0_reconstruct.append(m)\n",
    "                reverse_rounds0_reconstruct.append(insert_line)\n",
    "            # reverse_rounds0_reconstruct.append(n)    \n",
    "            tmp_cols = reverse_round.columns\n",
    "            reverse_rounds0_reconstruct[-1] = reverse_round.iloc[-1,:].tolist()\n",
    "            tmp_round = pd.DataFrame(reverse_rounds0_reconstruct[:],columns=tmp_cols)\n",
    "            tmp_round\n",
    "            for index,row in tmp_round.iterrows():\n",
    "                if row['reverse open'] == True:\n",
    "                    tmp_round.loc[index,['commission','tax']] = tmp_round.loc[index,['commission','tax']]/2\n",
    "            tmp_round = tmp_round.fillna(method = 'bfill')\n",
    "            \n",
    "            tmp_round['new nv'] = tmp_round['balance'] + tmp_round['bond price']*tmp_round['bond hold'] + tmp_round['stock price']*tmp_round['stock hold'] - tmp_round['commission'] - tmp_round['tax']\n",
    "            reverse_rounds_reconstruct.append(tmp_round)\n",
    "\n",
    "        reverse_rounds_detail = []\n",
    "        for reverse_round in reverse_rounds_reconstruct:\n",
    "            # print(len(reverse_round))\n",
    "            for i in range(0,len(reverse_round)-1,2):\n",
    "                df_tmp = reverse_round.iloc[i:i+2,:]\n",
    "                reverse_rounds_detail.append(df_tmp)\n",
    "\n",
    "        ##########################################################################################################################################\n",
    "        # reverse round stat\n",
    "        # return_in_rounds = []\n",
    "        # win = 0\n",
    "        # lose = 0\n",
    "        # win_profit = 0\n",
    "        # lose_profit = 0\n",
    "        for i in reverse_rounds_detail:\n",
    "            \n",
    "            tmp_profit = (i['new nv'] - i['new nv'].shift(1)).values[-1]\n",
    "            single_round_cost = (i['bond price'].sum() + (i['stock price']*stock_volume).sum())/4\n",
    "            \n",
    "            return_in_round = tmp_profit/single_round_cost\n",
    "            return_in_rounds.append(return_in_round)\n",
    "            \n",
    "            \n",
    "            if tmp_profit>0:\n",
    "                win += 1\n",
    "                win_profit += tmp_profit\n",
    "            else:\n",
    "                lose += 1\n",
    "                lose_profit += tmp_profit\n",
    "\n",
    "        ############################################################################################################################################\n",
    "        # close by time&signal stat\n",
    "        close_by_time = 0\n",
    "        close_by_time_win = 0\n",
    "        close_by_time_lose = 0\n",
    "\n",
    "        close_by_signal = 0\n",
    "        close_by_signal_win = 0\n",
    "        close_by_signal_lose = 0\n",
    "\n",
    "        for tmp_round in rounds:\n",
    "            tmp_profit = tmp_round['net value'].tolist()[1] - tmp_round['net value'].tolist()[0]\n",
    "            if tmp_round.index[1].time() == time(15,0,0):\n",
    "                close_by_time += 1\n",
    "                if tmp_profit > 0:\n",
    "                    close_by_time_win += 1\n",
    "                else:\n",
    "                    close_by_time_lose += 1\n",
    "            else:\n",
    "                close_by_signal += 1\n",
    "                if tmp_profit > 0:\n",
    "                    close_by_signal_win += 1\n",
    "                else:\n",
    "                    close_by_signal_lose += 1\n",
    "\n",
    "\n",
    "        ############################################################################################################################################\n",
    "\n",
    "        for tmp_round in reverse_rounds_detail: #统计reverse_rounds_detail的时候，所有round都当做是close by signal的\n",
    "            tmp_profit = tmp_round['new nv'].tolist()[1] - tmp_round['new nv'].tolist()[0]  \n",
    "            close_by_signal += 1\n",
    "            if tmp_profit > 0:\n",
    "                close_by_signal_win += 1\n",
    "            else:\n",
    "                close_by_signal_lose += 1\n",
    "\n",
    "        for i in range(len(reverse_rounds)-1):\n",
    "            if reverse_rounds[i].index[-1].time()==time(15,0,0):\n",
    "                close_by_time += 1\n",
    "                close_by_signal -= 1\n",
    "                tmp_profit = reverse_rounds_reconstruct[i]['new nv'].tolist()[-1] - reverse_rounds_reconstruct[i]['new nv'].tolist()[-2]\n",
    "                if tmp_profit > 0:\n",
    "                    close_by_time_win += 1\n",
    "                    close_by_signal_win -= 1\n",
    "                else:\n",
    "                    close_by_time_lose += 1\n",
    "                    close_by_signal_lose -= 1      \n",
    "\n",
    "\n",
    "        ############################################################################################################################################\n",
    "        # final performance\n",
    "        win_rate = win/(win+lose)\n",
    "        win_profit_avg = win_profit/win\n",
    "        lose_profit_avg = lose_profit/lose\n",
    "        profit_ratio = win_profit_avg/abs(lose_profit_avg)\n",
    "\n",
    "        total_round = win + lose \n",
    "\n",
    "        trade_days = len(df_nv_full.resample('D').last().dropna()) -1 \n",
    "        round_per_day = total_round/trade_days\n",
    "        return_per_round = sum(return_in_rounds)/len(return_in_rounds)\n",
    "\n",
    "\n",
    "        ############################################################################################################################################\n",
    "        df_res = pd.DataFrame(data = [[np.nan]*20],\n",
    "            columns=['cbond pair','convert price','win','lose','win profit','lose profit',\n",
    "            'sum of win&lose profit','final net value','win rate',\n",
    "            'profit ratio','trade days','total round','avg round in a day','return per round',\n",
    "            'close by time','close by time win','close by time lose',\n",
    "            'close by signal','close by signal win','close by signal lose'])\n",
    "\n",
    "        tmp_idx = str(df_trade.index[1]) + ' -> ' + str(df_trade.index[-1])\n",
    "        tmp_line = [cbond_pair,convert_price,win,lose,win_profit,lose_profit,\n",
    "                    win_profit+lose_profit,df_trade['net value'].values[-1],win_rate,\n",
    "                    profit_ratio,trade_days,total_round,round_per_day,return_per_round,\n",
    "                    close_by_time,close_by_time_win,close_by_time_lose,\n",
    "                    close_by_signal,close_by_signal_win,close_by_signal_lose]\n",
    "\n",
    "        df_res.loc[tmp_idx,df_res.columns] = tmp_line\n",
    "        df_res = df_res.dropna()\n",
    "        df_res\n",
    "        ############################################################################################################################################\n",
    "        # df_res = pd.DataFrame(data = [[np.nan]*20],\n",
    "        #     columns=['cbond pair','convert price','win','lose','win profit','lose profit',\n",
    "        #     'sum of win&lose profit','final net value','win rate',\n",
    "        #     'profit ratio','trade days','total round','avg round in a day','return per round',\n",
    "        #     'close by time','close by time win','close by time lose',\n",
    "        #     'close by signal','close by signal win','close by signal lose'])\n",
    "\n",
    "        # tmp_idx = str(df_trade.index[1]) + ' -> ' + str(df_trade.index[-1])\n",
    "        # tmp_line = [cbond_pair,convert_price,win,lose,win_profit,lose_profit,\n",
    "        #             win_profit+lose_profit,df_trade['net value'].values[-1],win_rate,\n",
    "        #             profit_ratio,trade_days,total_round,round_per_day,return_per_round,\n",
    "        #             close_by_time,close_by_time_win,close_by_time_lose,\n",
    "        #             close_by_signal,close_by_signal_win,close_by_signal_lose]\n",
    "\n",
    "        # df_res.loc[tmp_idx,df_res.columns] = tmp_line\n",
    "        # df_res = df_res.dropna()\n",
    "        df_res['open threshold'] = open_threshold\n",
    "        df_res['close threshold'] = close_threshold\n",
    "\n",
    "        tmp_key = str(open_threshold) +'@'+ str(close_threshold)\n",
    "        grid_search_res[tmp_key] = df_res\n",
    "        signal_res[tmp_key] = df_signal \n",
    "        trade_res[tmp_key] = df_trade\n",
    "        print(tmp_key)"
   ]
  },
  {
   "cell_type": "code",
   "execution_count": 8,
   "metadata": {},
   "outputs": [],
   "source": [
    "# print(len(rounds))\n",
    "# print(len(df_trade))\n",
    "# rounds[0]"
   ]
  },
  {
   "cell_type": "code",
   "execution_count": 9,
   "metadata": {},
   "outputs": [],
   "source": [
    "# df_trade"
   ]
  },
  {
   "cell_type": "code",
   "execution_count": 10,
   "metadata": {},
   "outputs": [],
   "source": [
    "df_grid_search_res =  pd.concat(list(grid_search_res.values()),axis=0)"
   ]
  },
  {
   "cell_type": "code",
   "execution_count": 11,
   "metadata": {},
   "outputs": [
    {
     "data": {
      "text/plain": [
       "Index(['cbond pair', 'convert price', 'win', 'lose', 'win profit',\n",
       "       'lose profit', 'sum of win&lose profit', 'final net value', 'win rate',\n",
       "       'profit ratio', 'trade days', 'total round', 'avg round in a day',\n",
       "       'return per round', 'close by time', 'close by time win',\n",
       "       'close by time lose', 'close by signal', 'close by signal win',\n",
       "       'close by signal lose', 'open threshold', 'close threshold'],\n",
       "      dtype='object')"
      ]
     },
     "execution_count": 11,
     "metadata": {},
     "output_type": "execute_result"
    }
   ],
   "source": [
    "df_grid_search_res.columns"
   ]
  },
  {
   "cell_type": "code",
   "execution_count": 12,
   "metadata": {},
   "outputs": [
    {
     "data": {
      "text/html": [
       "<div>\n",
       "<style scoped>\n",
       "    .dataframe tbody tr th:only-of-type {\n",
       "        vertical-align: middle;\n",
       "    }\n",
       "\n",
       "    .dataframe tbody tr th {\n",
       "        vertical-align: top;\n",
       "    }\n",
       "\n",
       "    .dataframe thead th {\n",
       "        text-align: right;\n",
       "    }\n",
       "</style>\n",
       "<table border=\"1\" class=\"dataframe\">\n",
       "  <thead>\n",
       "    <tr style=\"text-align: right;\">\n",
       "      <th></th>\n",
       "      <th>win</th>\n",
       "      <th>lose</th>\n",
       "      <th>total round</th>\n",
       "      <th>close by time</th>\n",
       "      <th>close by signal</th>\n",
       "      <th>close by time win</th>\n",
       "      <th>close by time lose</th>\n",
       "      <th>close by signal win</th>\n",
       "      <th>close by signal lose</th>\n",
       "      <th>open threshold</th>\n",
       "      <th>close threshold</th>\n",
       "    </tr>\n",
       "  </thead>\n",
       "  <tbody>\n",
       "    <tr>\n",
       "      <th>2021-12-14 09:30:00 -&gt; 2022-03-23 15:00:00</th>\n",
       "      <td>185.0</td>\n",
       "      <td>41.0</td>\n",
       "      <td>226.0</td>\n",
       "      <td>57.0</td>\n",
       "      <td>169.0</td>\n",
       "      <td>16.0</td>\n",
       "      <td>41.0</td>\n",
       "      <td>169.0</td>\n",
       "      <td>0.0</td>\n",
       "      <td>0.005</td>\n",
       "      <td>0.000</td>\n",
       "    </tr>\n",
       "    <tr>\n",
       "      <th>2021-12-14 09:30:00 -&gt; 2022-03-23 15:00:00</th>\n",
       "      <td>214.0</td>\n",
       "      <td>41.0</td>\n",
       "      <td>255.0</td>\n",
       "      <td>56.0</td>\n",
       "      <td>199.0</td>\n",
       "      <td>16.0</td>\n",
       "      <td>40.0</td>\n",
       "      <td>198.0</td>\n",
       "      <td>1.0</td>\n",
       "      <td>0.005</td>\n",
       "      <td>0.001</td>\n",
       "    </tr>\n",
       "    <tr>\n",
       "      <th>2021-12-14 09:30:00 -&gt; 2022-03-23 15:00:00</th>\n",
       "      <td>270.0</td>\n",
       "      <td>41.0</td>\n",
       "      <td>311.0</td>\n",
       "      <td>56.0</td>\n",
       "      <td>255.0</td>\n",
       "      <td>16.0</td>\n",
       "      <td>40.0</td>\n",
       "      <td>254.0</td>\n",
       "      <td>1.0</td>\n",
       "      <td>0.005</td>\n",
       "      <td>0.002</td>\n",
       "    </tr>\n",
       "    <tr>\n",
       "      <th>2021-12-14 09:30:00 -&gt; 2022-03-23 15:00:00</th>\n",
       "      <td>335.0</td>\n",
       "      <td>43.0</td>\n",
       "      <td>378.0</td>\n",
       "      <td>53.0</td>\n",
       "      <td>325.0</td>\n",
       "      <td>13.0</td>\n",
       "      <td>40.0</td>\n",
       "      <td>322.0</td>\n",
       "      <td>3.0</td>\n",
       "      <td>0.005</td>\n",
       "      <td>0.003</td>\n",
       "    </tr>\n",
       "    <tr>\n",
       "      <th>2021-12-14 09:32:00 -&gt; 2022-03-23 15:00:00</th>\n",
       "      <td>150.0</td>\n",
       "      <td>39.0</td>\n",
       "      <td>189.0</td>\n",
       "      <td>55.0</td>\n",
       "      <td>134.0</td>\n",
       "      <td>17.0</td>\n",
       "      <td>38.0</td>\n",
       "      <td>133.0</td>\n",
       "      <td>1.0</td>\n",
       "      <td>0.006</td>\n",
       "      <td>0.000</td>\n",
       "    </tr>\n",
       "    <tr>\n",
       "      <th>2021-12-14 09:32:00 -&gt; 2022-03-23 15:00:00</th>\n",
       "      <td>167.0</td>\n",
       "      <td>40.0</td>\n",
       "      <td>207.0</td>\n",
       "      <td>53.0</td>\n",
       "      <td>154.0</td>\n",
       "      <td>15.0</td>\n",
       "      <td>38.0</td>\n",
       "      <td>152.0</td>\n",
       "      <td>2.0</td>\n",
       "      <td>0.006</td>\n",
       "      <td>0.001</td>\n",
       "    </tr>\n",
       "    <tr>\n",
       "      <th>2021-12-14 09:32:00 -&gt; 2022-03-23 15:00:00</th>\n",
       "      <td>200.0</td>\n",
       "      <td>40.0</td>\n",
       "      <td>240.0</td>\n",
       "      <td>53.0</td>\n",
       "      <td>187.0</td>\n",
       "      <td>15.0</td>\n",
       "      <td>38.0</td>\n",
       "      <td>185.0</td>\n",
       "      <td>2.0</td>\n",
       "      <td>0.006</td>\n",
       "      <td>0.002</td>\n",
       "    </tr>\n",
       "    <tr>\n",
       "      <th>2021-12-14 09:32:00 -&gt; 2022-03-23 15:00:00</th>\n",
       "      <td>240.0</td>\n",
       "      <td>39.0</td>\n",
       "      <td>279.0</td>\n",
       "      <td>50.0</td>\n",
       "      <td>229.0</td>\n",
       "      <td>13.0</td>\n",
       "      <td>37.0</td>\n",
       "      <td>227.0</td>\n",
       "      <td>2.0</td>\n",
       "      <td>0.006</td>\n",
       "      <td>0.003</td>\n",
       "    </tr>\n",
       "    <tr>\n",
       "      <th>2021-12-14 10:33:00 -&gt; 2022-03-23 15:00:00</th>\n",
       "      <td>109.0</td>\n",
       "      <td>39.0</td>\n",
       "      <td>148.0</td>\n",
       "      <td>52.0</td>\n",
       "      <td>96.0</td>\n",
       "      <td>14.0</td>\n",
       "      <td>38.0</td>\n",
       "      <td>95.0</td>\n",
       "      <td>1.0</td>\n",
       "      <td>0.007</td>\n",
       "      <td>0.000</td>\n",
       "    </tr>\n",
       "    <tr>\n",
       "      <th>2021-12-14 10:33:00 -&gt; 2022-03-23 15:00:00</th>\n",
       "      <td>121.0</td>\n",
       "      <td>40.0</td>\n",
       "      <td>161.0</td>\n",
       "      <td>50.0</td>\n",
       "      <td>111.0</td>\n",
       "      <td>12.0</td>\n",
       "      <td>38.0</td>\n",
       "      <td>109.0</td>\n",
       "      <td>2.0</td>\n",
       "      <td>0.007</td>\n",
       "      <td>0.001</td>\n",
       "    </tr>\n",
       "    <tr>\n",
       "      <th>2021-12-14 10:33:00 -&gt; 2022-03-23 15:00:00</th>\n",
       "      <td>137.0</td>\n",
       "      <td>39.0</td>\n",
       "      <td>176.0</td>\n",
       "      <td>49.0</td>\n",
       "      <td>127.0</td>\n",
       "      <td>12.0</td>\n",
       "      <td>37.0</td>\n",
       "      <td>125.0</td>\n",
       "      <td>2.0</td>\n",
       "      <td>0.007</td>\n",
       "      <td>0.002</td>\n",
       "    </tr>\n",
       "    <tr>\n",
       "      <th>2021-12-14 10:33:00 -&gt; 2022-03-23 15:00:00</th>\n",
       "      <td>160.0</td>\n",
       "      <td>39.0</td>\n",
       "      <td>199.0</td>\n",
       "      <td>48.0</td>\n",
       "      <td>151.0</td>\n",
       "      <td>11.0</td>\n",
       "      <td>37.0</td>\n",
       "      <td>149.0</td>\n",
       "      <td>2.0</td>\n",
       "      <td>0.007</td>\n",
       "      <td>0.003</td>\n",
       "    </tr>\n",
       "    <tr>\n",
       "      <th>2021-12-14 10:34:00 -&gt; 2022-03-23 15:00:00</th>\n",
       "      <td>90.0</td>\n",
       "      <td>37.0</td>\n",
       "      <td>127.0</td>\n",
       "      <td>50.0</td>\n",
       "      <td>77.0</td>\n",
       "      <td>13.0</td>\n",
       "      <td>37.0</td>\n",
       "      <td>77.0</td>\n",
       "      <td>0.0</td>\n",
       "      <td>0.008</td>\n",
       "      <td>0.000</td>\n",
       "    </tr>\n",
       "    <tr>\n",
       "      <th>2021-12-14 10:34:00 -&gt; 2022-03-23 15:00:00</th>\n",
       "      <td>99.0</td>\n",
       "      <td>37.0</td>\n",
       "      <td>136.0</td>\n",
       "      <td>49.0</td>\n",
       "      <td>87.0</td>\n",
       "      <td>12.0</td>\n",
       "      <td>37.0</td>\n",
       "      <td>87.0</td>\n",
       "      <td>0.0</td>\n",
       "      <td>0.008</td>\n",
       "      <td>0.001</td>\n",
       "    </tr>\n",
       "    <tr>\n",
       "      <th>2021-12-14 10:34:00 -&gt; 2022-03-23 15:00:00</th>\n",
       "      <td>108.0</td>\n",
       "      <td>35.0</td>\n",
       "      <td>143.0</td>\n",
       "      <td>46.0</td>\n",
       "      <td>97.0</td>\n",
       "      <td>11.0</td>\n",
       "      <td>35.0</td>\n",
       "      <td>97.0</td>\n",
       "      <td>0.0</td>\n",
       "      <td>0.008</td>\n",
       "      <td>0.002</td>\n",
       "    </tr>\n",
       "    <tr>\n",
       "      <th>2021-12-14 10:34:00 -&gt; 2022-03-23 15:00:00</th>\n",
       "      <td>124.0</td>\n",
       "      <td>35.0</td>\n",
       "      <td>159.0</td>\n",
       "      <td>45.0</td>\n",
       "      <td>114.0</td>\n",
       "      <td>10.0</td>\n",
       "      <td>35.0</td>\n",
       "      <td>114.0</td>\n",
       "      <td>0.0</td>\n",
       "      <td>0.008</td>\n",
       "      <td>0.003</td>\n",
       "    </tr>\n",
       "    <tr>\n",
       "      <th>2021-12-14 10:34:00 -&gt; 2022-03-23 15:00:00</th>\n",
       "      <td>79.0</td>\n",
       "      <td>32.0</td>\n",
       "      <td>111.0</td>\n",
       "      <td>48.0</td>\n",
       "      <td>63.0</td>\n",
       "      <td>16.0</td>\n",
       "      <td>32.0</td>\n",
       "      <td>63.0</td>\n",
       "      <td>0.0</td>\n",
       "      <td>0.009</td>\n",
       "      <td>0.000</td>\n",
       "    </tr>\n",
       "    <tr>\n",
       "      <th>2021-12-14 10:34:00 -&gt; 2022-03-23 15:00:00</th>\n",
       "      <td>87.0</td>\n",
       "      <td>32.0</td>\n",
       "      <td>119.0</td>\n",
       "      <td>47.0</td>\n",
       "      <td>72.0</td>\n",
       "      <td>15.0</td>\n",
       "      <td>32.0</td>\n",
       "      <td>72.0</td>\n",
       "      <td>0.0</td>\n",
       "      <td>0.009</td>\n",
       "      <td>0.001</td>\n",
       "    </tr>\n",
       "    <tr>\n",
       "      <th>2021-12-14 10:34:00 -&gt; 2022-03-23 15:00:00</th>\n",
       "      <td>92.0</td>\n",
       "      <td>32.0</td>\n",
       "      <td>124.0</td>\n",
       "      <td>45.0</td>\n",
       "      <td>79.0</td>\n",
       "      <td>13.0</td>\n",
       "      <td>32.0</td>\n",
       "      <td>79.0</td>\n",
       "      <td>0.0</td>\n",
       "      <td>0.009</td>\n",
       "      <td>0.002</td>\n",
       "    </tr>\n",
       "    <tr>\n",
       "      <th>2021-12-14 10:34:00 -&gt; 2022-03-23 15:00:00</th>\n",
       "      <td>106.0</td>\n",
       "      <td>31.0</td>\n",
       "      <td>137.0</td>\n",
       "      <td>44.0</td>\n",
       "      <td>93.0</td>\n",
       "      <td>13.0</td>\n",
       "      <td>31.0</td>\n",
       "      <td>93.0</td>\n",
       "      <td>0.0</td>\n",
       "      <td>0.009</td>\n",
       "      <td>0.003</td>\n",
       "    </tr>\n",
       "    <tr>\n",
       "      <th>2021-12-14 10:36:00 -&gt; 2022-03-23 15:00:00</th>\n",
       "      <td>70.0</td>\n",
       "      <td>32.0</td>\n",
       "      <td>102.0</td>\n",
       "      <td>46.0</td>\n",
       "      <td>56.0</td>\n",
       "      <td>14.0</td>\n",
       "      <td>32.0</td>\n",
       "      <td>56.0</td>\n",
       "      <td>0.0</td>\n",
       "      <td>0.010</td>\n",
       "      <td>0.000</td>\n",
       "    </tr>\n",
       "    <tr>\n",
       "      <th>2021-12-14 10:36:00 -&gt; 2022-03-23 15:00:00</th>\n",
       "      <td>73.0</td>\n",
       "      <td>32.0</td>\n",
       "      <td>105.0</td>\n",
       "      <td>45.0</td>\n",
       "      <td>60.0</td>\n",
       "      <td>13.0</td>\n",
       "      <td>32.0</td>\n",
       "      <td>60.0</td>\n",
       "      <td>0.0</td>\n",
       "      <td>0.010</td>\n",
       "      <td>0.001</td>\n",
       "    </tr>\n",
       "    <tr>\n",
       "      <th>2021-12-14 10:36:00 -&gt; 2022-03-23 15:00:00</th>\n",
       "      <td>77.0</td>\n",
       "      <td>32.0</td>\n",
       "      <td>109.0</td>\n",
       "      <td>43.0</td>\n",
       "      <td>66.0</td>\n",
       "      <td>11.0</td>\n",
       "      <td>32.0</td>\n",
       "      <td>66.0</td>\n",
       "      <td>0.0</td>\n",
       "      <td>0.010</td>\n",
       "      <td>0.002</td>\n",
       "    </tr>\n",
       "    <tr>\n",
       "      <th>2021-12-14 10:36:00 -&gt; 2022-03-23 15:00:00</th>\n",
       "      <td>84.0</td>\n",
       "      <td>31.0</td>\n",
       "      <td>115.0</td>\n",
       "      <td>43.0</td>\n",
       "      <td>72.0</td>\n",
       "      <td>12.0</td>\n",
       "      <td>31.0</td>\n",
       "      <td>72.0</td>\n",
       "      <td>0.0</td>\n",
       "      <td>0.010</td>\n",
       "      <td>0.003</td>\n",
       "    </tr>\n",
       "    <tr>\n",
       "      <th>2021-12-14 10:36:00 -&gt; 2022-03-23 15:00:00</th>\n",
       "      <td>59.0</td>\n",
       "      <td>29.0</td>\n",
       "      <td>88.0</td>\n",
       "      <td>43.0</td>\n",
       "      <td>45.0</td>\n",
       "      <td>14.0</td>\n",
       "      <td>29.0</td>\n",
       "      <td>45.0</td>\n",
       "      <td>0.0</td>\n",
       "      <td>0.011</td>\n",
       "      <td>0.000</td>\n",
       "    </tr>\n",
       "    <tr>\n",
       "      <th>2021-12-14 10:36:00 -&gt; 2022-03-23 15:00:00</th>\n",
       "      <td>61.0</td>\n",
       "      <td>29.0</td>\n",
       "      <td>90.0</td>\n",
       "      <td>42.0</td>\n",
       "      <td>48.0</td>\n",
       "      <td>13.0</td>\n",
       "      <td>29.0</td>\n",
       "      <td>48.0</td>\n",
       "      <td>0.0</td>\n",
       "      <td>0.011</td>\n",
       "      <td>0.001</td>\n",
       "    </tr>\n",
       "    <tr>\n",
       "      <th>2021-12-14 10:36:00 -&gt; 2022-03-23 15:00:00</th>\n",
       "      <td>64.0</td>\n",
       "      <td>30.0</td>\n",
       "      <td>94.0</td>\n",
       "      <td>41.0</td>\n",
       "      <td>53.0</td>\n",
       "      <td>11.0</td>\n",
       "      <td>30.0</td>\n",
       "      <td>53.0</td>\n",
       "      <td>0.0</td>\n",
       "      <td>0.011</td>\n",
       "      <td>0.002</td>\n",
       "    </tr>\n",
       "    <tr>\n",
       "      <th>2021-12-14 10:36:00 -&gt; 2022-03-23 15:00:00</th>\n",
       "      <td>69.0</td>\n",
       "      <td>30.0</td>\n",
       "      <td>99.0</td>\n",
       "      <td>41.0</td>\n",
       "      <td>58.0</td>\n",
       "      <td>11.0</td>\n",
       "      <td>30.0</td>\n",
       "      <td>58.0</td>\n",
       "      <td>0.0</td>\n",
       "      <td>0.011</td>\n",
       "      <td>0.003</td>\n",
       "    </tr>\n",
       "    <tr>\n",
       "      <th>2021-12-14 10:37:00 -&gt; 2022-03-23 15:00:00</th>\n",
       "      <td>51.0</td>\n",
       "      <td>26.0</td>\n",
       "      <td>77.0</td>\n",
       "      <td>38.0</td>\n",
       "      <td>39.0</td>\n",
       "      <td>12.0</td>\n",
       "      <td>26.0</td>\n",
       "      <td>39.0</td>\n",
       "      <td>0.0</td>\n",
       "      <td>0.012</td>\n",
       "      <td>0.000</td>\n",
       "    </tr>\n",
       "    <tr>\n",
       "      <th>2021-12-14 10:37:00 -&gt; 2022-03-23 15:00:00</th>\n",
       "      <td>53.0</td>\n",
       "      <td>26.0</td>\n",
       "      <td>79.0</td>\n",
       "      <td>37.0</td>\n",
       "      <td>42.0</td>\n",
       "      <td>11.0</td>\n",
       "      <td>26.0</td>\n",
       "      <td>42.0</td>\n",
       "      <td>0.0</td>\n",
       "      <td>0.012</td>\n",
       "      <td>0.001</td>\n",
       "    </tr>\n",
       "    <tr>\n",
       "      <th>2021-12-14 10:37:00 -&gt; 2022-03-23 15:00:00</th>\n",
       "      <td>56.0</td>\n",
       "      <td>26.0</td>\n",
       "      <td>82.0</td>\n",
       "      <td>36.0</td>\n",
       "      <td>46.0</td>\n",
       "      <td>10.0</td>\n",
       "      <td>26.0</td>\n",
       "      <td>46.0</td>\n",
       "      <td>0.0</td>\n",
       "      <td>0.012</td>\n",
       "      <td>0.002</td>\n",
       "    </tr>\n",
       "    <tr>\n",
       "      <th>2021-12-14 10:37:00 -&gt; 2022-03-23 15:00:00</th>\n",
       "      <td>60.0</td>\n",
       "      <td>26.0</td>\n",
       "      <td>86.0</td>\n",
       "      <td>36.0</td>\n",
       "      <td>50.0</td>\n",
       "      <td>10.0</td>\n",
       "      <td>26.0</td>\n",
       "      <td>50.0</td>\n",
       "      <td>0.0</td>\n",
       "      <td>0.012</td>\n",
       "      <td>0.003</td>\n",
       "    </tr>\n",
       "    <tr>\n",
       "      <th>2021-12-14 11:09:00 -&gt; 2022-03-23 15:00:00</th>\n",
       "      <td>47.0</td>\n",
       "      <td>23.0</td>\n",
       "      <td>70.0</td>\n",
       "      <td>37.0</td>\n",
       "      <td>33.0</td>\n",
       "      <td>14.0</td>\n",
       "      <td>23.0</td>\n",
       "      <td>33.0</td>\n",
       "      <td>0.0</td>\n",
       "      <td>0.013</td>\n",
       "      <td>0.000</td>\n",
       "    </tr>\n",
       "    <tr>\n",
       "      <th>2021-12-14 11:09:00 -&gt; 2022-03-23 15:00:00</th>\n",
       "      <td>48.0</td>\n",
       "      <td>23.0</td>\n",
       "      <td>71.0</td>\n",
       "      <td>36.0</td>\n",
       "      <td>35.0</td>\n",
       "      <td>13.0</td>\n",
       "      <td>23.0</td>\n",
       "      <td>35.0</td>\n",
       "      <td>0.0</td>\n",
       "      <td>0.013</td>\n",
       "      <td>0.001</td>\n",
       "    </tr>\n",
       "    <tr>\n",
       "      <th>2021-12-14 11:09:00 -&gt; 2022-03-23 15:00:00</th>\n",
       "      <td>52.0</td>\n",
       "      <td>22.0</td>\n",
       "      <td>74.0</td>\n",
       "      <td>35.0</td>\n",
       "      <td>39.0</td>\n",
       "      <td>13.0</td>\n",
       "      <td>22.0</td>\n",
       "      <td>39.0</td>\n",
       "      <td>0.0</td>\n",
       "      <td>0.013</td>\n",
       "      <td>0.002</td>\n",
       "    </tr>\n",
       "    <tr>\n",
       "      <th>2021-12-14 11:09:00 -&gt; 2022-03-23 15:00:00</th>\n",
       "      <td>55.0</td>\n",
       "      <td>22.0</td>\n",
       "      <td>77.0</td>\n",
       "      <td>35.0</td>\n",
       "      <td>42.0</td>\n",
       "      <td>13.0</td>\n",
       "      <td>22.0</td>\n",
       "      <td>42.0</td>\n",
       "      <td>0.0</td>\n",
       "      <td>0.013</td>\n",
       "      <td>0.003</td>\n",
       "    </tr>\n",
       "    <tr>\n",
       "      <th>2021-12-14 11:14:00 -&gt; 2022-03-23 15:00:00</th>\n",
       "      <td>41.0</td>\n",
       "      <td>21.0</td>\n",
       "      <td>62.0</td>\n",
       "      <td>36.0</td>\n",
       "      <td>26.0</td>\n",
       "      <td>15.0</td>\n",
       "      <td>21.0</td>\n",
       "      <td>26.0</td>\n",
       "      <td>0.0</td>\n",
       "      <td>0.014</td>\n",
       "      <td>0.000</td>\n",
       "    </tr>\n",
       "    <tr>\n",
       "      <th>2021-12-14 11:14:00 -&gt; 2022-03-23 15:00:00</th>\n",
       "      <td>42.0</td>\n",
       "      <td>21.0</td>\n",
       "      <td>63.0</td>\n",
       "      <td>36.0</td>\n",
       "      <td>27.0</td>\n",
       "      <td>15.0</td>\n",
       "      <td>21.0</td>\n",
       "      <td>27.0</td>\n",
       "      <td>0.0</td>\n",
       "      <td>0.014</td>\n",
       "      <td>0.001</td>\n",
       "    </tr>\n",
       "    <tr>\n",
       "      <th>2021-12-14 11:14:00 -&gt; 2022-03-23 15:00:00</th>\n",
       "      <td>47.0</td>\n",
       "      <td>19.0</td>\n",
       "      <td>66.0</td>\n",
       "      <td>35.0</td>\n",
       "      <td>31.0</td>\n",
       "      <td>16.0</td>\n",
       "      <td>19.0</td>\n",
       "      <td>31.0</td>\n",
       "      <td>0.0</td>\n",
       "      <td>0.014</td>\n",
       "      <td>0.002</td>\n",
       "    </tr>\n",
       "    <tr>\n",
       "      <th>2021-12-14 11:14:00 -&gt; 2022-03-23 15:00:00</th>\n",
       "      <td>50.0</td>\n",
       "      <td>19.0</td>\n",
       "      <td>69.0</td>\n",
       "      <td>35.0</td>\n",
       "      <td>34.0</td>\n",
       "      <td>16.0</td>\n",
       "      <td>19.0</td>\n",
       "      <td>34.0</td>\n",
       "      <td>0.0</td>\n",
       "      <td>0.014</td>\n",
       "      <td>0.003</td>\n",
       "    </tr>\n",
       "    <tr>\n",
       "      <th>2021-12-14 11:15:00 -&gt; 2022-03-23 15:00:00</th>\n",
       "      <td>39.0</td>\n",
       "      <td>18.0</td>\n",
       "      <td>57.0</td>\n",
       "      <td>35.0</td>\n",
       "      <td>22.0</td>\n",
       "      <td>17.0</td>\n",
       "      <td>18.0</td>\n",
       "      <td>22.0</td>\n",
       "      <td>0.0</td>\n",
       "      <td>0.015</td>\n",
       "      <td>0.000</td>\n",
       "    </tr>\n",
       "    <tr>\n",
       "      <th>2021-12-14 11:15:00 -&gt; 2022-03-23 15:00:00</th>\n",
       "      <td>39.0</td>\n",
       "      <td>18.0</td>\n",
       "      <td>57.0</td>\n",
       "      <td>34.0</td>\n",
       "      <td>23.0</td>\n",
       "      <td>16.0</td>\n",
       "      <td>18.0</td>\n",
       "      <td>23.0</td>\n",
       "      <td>0.0</td>\n",
       "      <td>0.015</td>\n",
       "      <td>0.001</td>\n",
       "    </tr>\n",
       "    <tr>\n",
       "      <th>2021-12-14 11:15:00 -&gt; 2022-03-23 15:00:00</th>\n",
       "      <td>42.0</td>\n",
       "      <td>17.0</td>\n",
       "      <td>59.0</td>\n",
       "      <td>34.0</td>\n",
       "      <td>25.0</td>\n",
       "      <td>17.0</td>\n",
       "      <td>17.0</td>\n",
       "      <td>25.0</td>\n",
       "      <td>0.0</td>\n",
       "      <td>0.015</td>\n",
       "      <td>0.002</td>\n",
       "    </tr>\n",
       "    <tr>\n",
       "      <th>2021-12-14 11:15:00 -&gt; 2022-03-23 15:00:00</th>\n",
       "      <td>45.0</td>\n",
       "      <td>17.0</td>\n",
       "      <td>62.0</td>\n",
       "      <td>34.0</td>\n",
       "      <td>28.0</td>\n",
       "      <td>17.0</td>\n",
       "      <td>17.0</td>\n",
       "      <td>28.0</td>\n",
       "      <td>0.0</td>\n",
       "      <td>0.015</td>\n",
       "      <td>0.003</td>\n",
       "    </tr>\n",
       "  </tbody>\n",
       "</table>\n",
       "</div>"
      ],
      "text/plain": [
       "                                              win  lose  total round  \\\n",
       "2021-12-14 09:30:00 -> 2022-03-23 15:00:00  185.0  41.0        226.0   \n",
       "2021-12-14 09:30:00 -> 2022-03-23 15:00:00  214.0  41.0        255.0   \n",
       "2021-12-14 09:30:00 -> 2022-03-23 15:00:00  270.0  41.0        311.0   \n",
       "2021-12-14 09:30:00 -> 2022-03-23 15:00:00  335.0  43.0        378.0   \n",
       "2021-12-14 09:32:00 -> 2022-03-23 15:00:00  150.0  39.0        189.0   \n",
       "2021-12-14 09:32:00 -> 2022-03-23 15:00:00  167.0  40.0        207.0   \n",
       "2021-12-14 09:32:00 -> 2022-03-23 15:00:00  200.0  40.0        240.0   \n",
       "2021-12-14 09:32:00 -> 2022-03-23 15:00:00  240.0  39.0        279.0   \n",
       "2021-12-14 10:33:00 -> 2022-03-23 15:00:00  109.0  39.0        148.0   \n",
       "2021-12-14 10:33:00 -> 2022-03-23 15:00:00  121.0  40.0        161.0   \n",
       "2021-12-14 10:33:00 -> 2022-03-23 15:00:00  137.0  39.0        176.0   \n",
       "2021-12-14 10:33:00 -> 2022-03-23 15:00:00  160.0  39.0        199.0   \n",
       "2021-12-14 10:34:00 -> 2022-03-23 15:00:00   90.0  37.0        127.0   \n",
       "2021-12-14 10:34:00 -> 2022-03-23 15:00:00   99.0  37.0        136.0   \n",
       "2021-12-14 10:34:00 -> 2022-03-23 15:00:00  108.0  35.0        143.0   \n",
       "2021-12-14 10:34:00 -> 2022-03-23 15:00:00  124.0  35.0        159.0   \n",
       "2021-12-14 10:34:00 -> 2022-03-23 15:00:00   79.0  32.0        111.0   \n",
       "2021-12-14 10:34:00 -> 2022-03-23 15:00:00   87.0  32.0        119.0   \n",
       "2021-12-14 10:34:00 -> 2022-03-23 15:00:00   92.0  32.0        124.0   \n",
       "2021-12-14 10:34:00 -> 2022-03-23 15:00:00  106.0  31.0        137.0   \n",
       "2021-12-14 10:36:00 -> 2022-03-23 15:00:00   70.0  32.0        102.0   \n",
       "2021-12-14 10:36:00 -> 2022-03-23 15:00:00   73.0  32.0        105.0   \n",
       "2021-12-14 10:36:00 -> 2022-03-23 15:00:00   77.0  32.0        109.0   \n",
       "2021-12-14 10:36:00 -> 2022-03-23 15:00:00   84.0  31.0        115.0   \n",
       "2021-12-14 10:36:00 -> 2022-03-23 15:00:00   59.0  29.0         88.0   \n",
       "2021-12-14 10:36:00 -> 2022-03-23 15:00:00   61.0  29.0         90.0   \n",
       "2021-12-14 10:36:00 -> 2022-03-23 15:00:00   64.0  30.0         94.0   \n",
       "2021-12-14 10:36:00 -> 2022-03-23 15:00:00   69.0  30.0         99.0   \n",
       "2021-12-14 10:37:00 -> 2022-03-23 15:00:00   51.0  26.0         77.0   \n",
       "2021-12-14 10:37:00 -> 2022-03-23 15:00:00   53.0  26.0         79.0   \n",
       "2021-12-14 10:37:00 -> 2022-03-23 15:00:00   56.0  26.0         82.0   \n",
       "2021-12-14 10:37:00 -> 2022-03-23 15:00:00   60.0  26.0         86.0   \n",
       "2021-12-14 11:09:00 -> 2022-03-23 15:00:00   47.0  23.0         70.0   \n",
       "2021-12-14 11:09:00 -> 2022-03-23 15:00:00   48.0  23.0         71.0   \n",
       "2021-12-14 11:09:00 -> 2022-03-23 15:00:00   52.0  22.0         74.0   \n",
       "2021-12-14 11:09:00 -> 2022-03-23 15:00:00   55.0  22.0         77.0   \n",
       "2021-12-14 11:14:00 -> 2022-03-23 15:00:00   41.0  21.0         62.0   \n",
       "2021-12-14 11:14:00 -> 2022-03-23 15:00:00   42.0  21.0         63.0   \n",
       "2021-12-14 11:14:00 -> 2022-03-23 15:00:00   47.0  19.0         66.0   \n",
       "2021-12-14 11:14:00 -> 2022-03-23 15:00:00   50.0  19.0         69.0   \n",
       "2021-12-14 11:15:00 -> 2022-03-23 15:00:00   39.0  18.0         57.0   \n",
       "2021-12-14 11:15:00 -> 2022-03-23 15:00:00   39.0  18.0         57.0   \n",
       "2021-12-14 11:15:00 -> 2022-03-23 15:00:00   42.0  17.0         59.0   \n",
       "2021-12-14 11:15:00 -> 2022-03-23 15:00:00   45.0  17.0         62.0   \n",
       "\n",
       "                                            close by time  close by signal  \\\n",
       "2021-12-14 09:30:00 -> 2022-03-23 15:00:00           57.0            169.0   \n",
       "2021-12-14 09:30:00 -> 2022-03-23 15:00:00           56.0            199.0   \n",
       "2021-12-14 09:30:00 -> 2022-03-23 15:00:00           56.0            255.0   \n",
       "2021-12-14 09:30:00 -> 2022-03-23 15:00:00           53.0            325.0   \n",
       "2021-12-14 09:32:00 -> 2022-03-23 15:00:00           55.0            134.0   \n",
       "2021-12-14 09:32:00 -> 2022-03-23 15:00:00           53.0            154.0   \n",
       "2021-12-14 09:32:00 -> 2022-03-23 15:00:00           53.0            187.0   \n",
       "2021-12-14 09:32:00 -> 2022-03-23 15:00:00           50.0            229.0   \n",
       "2021-12-14 10:33:00 -> 2022-03-23 15:00:00           52.0             96.0   \n",
       "2021-12-14 10:33:00 -> 2022-03-23 15:00:00           50.0            111.0   \n",
       "2021-12-14 10:33:00 -> 2022-03-23 15:00:00           49.0            127.0   \n",
       "2021-12-14 10:33:00 -> 2022-03-23 15:00:00           48.0            151.0   \n",
       "2021-12-14 10:34:00 -> 2022-03-23 15:00:00           50.0             77.0   \n",
       "2021-12-14 10:34:00 -> 2022-03-23 15:00:00           49.0             87.0   \n",
       "2021-12-14 10:34:00 -> 2022-03-23 15:00:00           46.0             97.0   \n",
       "2021-12-14 10:34:00 -> 2022-03-23 15:00:00           45.0            114.0   \n",
       "2021-12-14 10:34:00 -> 2022-03-23 15:00:00           48.0             63.0   \n",
       "2021-12-14 10:34:00 -> 2022-03-23 15:00:00           47.0             72.0   \n",
       "2021-12-14 10:34:00 -> 2022-03-23 15:00:00           45.0             79.0   \n",
       "2021-12-14 10:34:00 -> 2022-03-23 15:00:00           44.0             93.0   \n",
       "2021-12-14 10:36:00 -> 2022-03-23 15:00:00           46.0             56.0   \n",
       "2021-12-14 10:36:00 -> 2022-03-23 15:00:00           45.0             60.0   \n",
       "2021-12-14 10:36:00 -> 2022-03-23 15:00:00           43.0             66.0   \n",
       "2021-12-14 10:36:00 -> 2022-03-23 15:00:00           43.0             72.0   \n",
       "2021-12-14 10:36:00 -> 2022-03-23 15:00:00           43.0             45.0   \n",
       "2021-12-14 10:36:00 -> 2022-03-23 15:00:00           42.0             48.0   \n",
       "2021-12-14 10:36:00 -> 2022-03-23 15:00:00           41.0             53.0   \n",
       "2021-12-14 10:36:00 -> 2022-03-23 15:00:00           41.0             58.0   \n",
       "2021-12-14 10:37:00 -> 2022-03-23 15:00:00           38.0             39.0   \n",
       "2021-12-14 10:37:00 -> 2022-03-23 15:00:00           37.0             42.0   \n",
       "2021-12-14 10:37:00 -> 2022-03-23 15:00:00           36.0             46.0   \n",
       "2021-12-14 10:37:00 -> 2022-03-23 15:00:00           36.0             50.0   \n",
       "2021-12-14 11:09:00 -> 2022-03-23 15:00:00           37.0             33.0   \n",
       "2021-12-14 11:09:00 -> 2022-03-23 15:00:00           36.0             35.0   \n",
       "2021-12-14 11:09:00 -> 2022-03-23 15:00:00           35.0             39.0   \n",
       "2021-12-14 11:09:00 -> 2022-03-23 15:00:00           35.0             42.0   \n",
       "2021-12-14 11:14:00 -> 2022-03-23 15:00:00           36.0             26.0   \n",
       "2021-12-14 11:14:00 -> 2022-03-23 15:00:00           36.0             27.0   \n",
       "2021-12-14 11:14:00 -> 2022-03-23 15:00:00           35.0             31.0   \n",
       "2021-12-14 11:14:00 -> 2022-03-23 15:00:00           35.0             34.0   \n",
       "2021-12-14 11:15:00 -> 2022-03-23 15:00:00           35.0             22.0   \n",
       "2021-12-14 11:15:00 -> 2022-03-23 15:00:00           34.0             23.0   \n",
       "2021-12-14 11:15:00 -> 2022-03-23 15:00:00           34.0             25.0   \n",
       "2021-12-14 11:15:00 -> 2022-03-23 15:00:00           34.0             28.0   \n",
       "\n",
       "                                            close by time win  \\\n",
       "2021-12-14 09:30:00 -> 2022-03-23 15:00:00               16.0   \n",
       "2021-12-14 09:30:00 -> 2022-03-23 15:00:00               16.0   \n",
       "2021-12-14 09:30:00 -> 2022-03-23 15:00:00               16.0   \n",
       "2021-12-14 09:30:00 -> 2022-03-23 15:00:00               13.0   \n",
       "2021-12-14 09:32:00 -> 2022-03-23 15:00:00               17.0   \n",
       "2021-12-14 09:32:00 -> 2022-03-23 15:00:00               15.0   \n",
       "2021-12-14 09:32:00 -> 2022-03-23 15:00:00               15.0   \n",
       "2021-12-14 09:32:00 -> 2022-03-23 15:00:00               13.0   \n",
       "2021-12-14 10:33:00 -> 2022-03-23 15:00:00               14.0   \n",
       "2021-12-14 10:33:00 -> 2022-03-23 15:00:00               12.0   \n",
       "2021-12-14 10:33:00 -> 2022-03-23 15:00:00               12.0   \n",
       "2021-12-14 10:33:00 -> 2022-03-23 15:00:00               11.0   \n",
       "2021-12-14 10:34:00 -> 2022-03-23 15:00:00               13.0   \n",
       "2021-12-14 10:34:00 -> 2022-03-23 15:00:00               12.0   \n",
       "2021-12-14 10:34:00 -> 2022-03-23 15:00:00               11.0   \n",
       "2021-12-14 10:34:00 -> 2022-03-23 15:00:00               10.0   \n",
       "2021-12-14 10:34:00 -> 2022-03-23 15:00:00               16.0   \n",
       "2021-12-14 10:34:00 -> 2022-03-23 15:00:00               15.0   \n",
       "2021-12-14 10:34:00 -> 2022-03-23 15:00:00               13.0   \n",
       "2021-12-14 10:34:00 -> 2022-03-23 15:00:00               13.0   \n",
       "2021-12-14 10:36:00 -> 2022-03-23 15:00:00               14.0   \n",
       "2021-12-14 10:36:00 -> 2022-03-23 15:00:00               13.0   \n",
       "2021-12-14 10:36:00 -> 2022-03-23 15:00:00               11.0   \n",
       "2021-12-14 10:36:00 -> 2022-03-23 15:00:00               12.0   \n",
       "2021-12-14 10:36:00 -> 2022-03-23 15:00:00               14.0   \n",
       "2021-12-14 10:36:00 -> 2022-03-23 15:00:00               13.0   \n",
       "2021-12-14 10:36:00 -> 2022-03-23 15:00:00               11.0   \n",
       "2021-12-14 10:36:00 -> 2022-03-23 15:00:00               11.0   \n",
       "2021-12-14 10:37:00 -> 2022-03-23 15:00:00               12.0   \n",
       "2021-12-14 10:37:00 -> 2022-03-23 15:00:00               11.0   \n",
       "2021-12-14 10:37:00 -> 2022-03-23 15:00:00               10.0   \n",
       "2021-12-14 10:37:00 -> 2022-03-23 15:00:00               10.0   \n",
       "2021-12-14 11:09:00 -> 2022-03-23 15:00:00               14.0   \n",
       "2021-12-14 11:09:00 -> 2022-03-23 15:00:00               13.0   \n",
       "2021-12-14 11:09:00 -> 2022-03-23 15:00:00               13.0   \n",
       "2021-12-14 11:09:00 -> 2022-03-23 15:00:00               13.0   \n",
       "2021-12-14 11:14:00 -> 2022-03-23 15:00:00               15.0   \n",
       "2021-12-14 11:14:00 -> 2022-03-23 15:00:00               15.0   \n",
       "2021-12-14 11:14:00 -> 2022-03-23 15:00:00               16.0   \n",
       "2021-12-14 11:14:00 -> 2022-03-23 15:00:00               16.0   \n",
       "2021-12-14 11:15:00 -> 2022-03-23 15:00:00               17.0   \n",
       "2021-12-14 11:15:00 -> 2022-03-23 15:00:00               16.0   \n",
       "2021-12-14 11:15:00 -> 2022-03-23 15:00:00               17.0   \n",
       "2021-12-14 11:15:00 -> 2022-03-23 15:00:00               17.0   \n",
       "\n",
       "                                            close by time lose  \\\n",
       "2021-12-14 09:30:00 -> 2022-03-23 15:00:00                41.0   \n",
       "2021-12-14 09:30:00 -> 2022-03-23 15:00:00                40.0   \n",
       "2021-12-14 09:30:00 -> 2022-03-23 15:00:00                40.0   \n",
       "2021-12-14 09:30:00 -> 2022-03-23 15:00:00                40.0   \n",
       "2021-12-14 09:32:00 -> 2022-03-23 15:00:00                38.0   \n",
       "2021-12-14 09:32:00 -> 2022-03-23 15:00:00                38.0   \n",
       "2021-12-14 09:32:00 -> 2022-03-23 15:00:00                38.0   \n",
       "2021-12-14 09:32:00 -> 2022-03-23 15:00:00                37.0   \n",
       "2021-12-14 10:33:00 -> 2022-03-23 15:00:00                38.0   \n",
       "2021-12-14 10:33:00 -> 2022-03-23 15:00:00                38.0   \n",
       "2021-12-14 10:33:00 -> 2022-03-23 15:00:00                37.0   \n",
       "2021-12-14 10:33:00 -> 2022-03-23 15:00:00                37.0   \n",
       "2021-12-14 10:34:00 -> 2022-03-23 15:00:00                37.0   \n",
       "2021-12-14 10:34:00 -> 2022-03-23 15:00:00                37.0   \n",
       "2021-12-14 10:34:00 -> 2022-03-23 15:00:00                35.0   \n",
       "2021-12-14 10:34:00 -> 2022-03-23 15:00:00                35.0   \n",
       "2021-12-14 10:34:00 -> 2022-03-23 15:00:00                32.0   \n",
       "2021-12-14 10:34:00 -> 2022-03-23 15:00:00                32.0   \n",
       "2021-12-14 10:34:00 -> 2022-03-23 15:00:00                32.0   \n",
       "2021-12-14 10:34:00 -> 2022-03-23 15:00:00                31.0   \n",
       "2021-12-14 10:36:00 -> 2022-03-23 15:00:00                32.0   \n",
       "2021-12-14 10:36:00 -> 2022-03-23 15:00:00                32.0   \n",
       "2021-12-14 10:36:00 -> 2022-03-23 15:00:00                32.0   \n",
       "2021-12-14 10:36:00 -> 2022-03-23 15:00:00                31.0   \n",
       "2021-12-14 10:36:00 -> 2022-03-23 15:00:00                29.0   \n",
       "2021-12-14 10:36:00 -> 2022-03-23 15:00:00                29.0   \n",
       "2021-12-14 10:36:00 -> 2022-03-23 15:00:00                30.0   \n",
       "2021-12-14 10:36:00 -> 2022-03-23 15:00:00                30.0   \n",
       "2021-12-14 10:37:00 -> 2022-03-23 15:00:00                26.0   \n",
       "2021-12-14 10:37:00 -> 2022-03-23 15:00:00                26.0   \n",
       "2021-12-14 10:37:00 -> 2022-03-23 15:00:00                26.0   \n",
       "2021-12-14 10:37:00 -> 2022-03-23 15:00:00                26.0   \n",
       "2021-12-14 11:09:00 -> 2022-03-23 15:00:00                23.0   \n",
       "2021-12-14 11:09:00 -> 2022-03-23 15:00:00                23.0   \n",
       "2021-12-14 11:09:00 -> 2022-03-23 15:00:00                22.0   \n",
       "2021-12-14 11:09:00 -> 2022-03-23 15:00:00                22.0   \n",
       "2021-12-14 11:14:00 -> 2022-03-23 15:00:00                21.0   \n",
       "2021-12-14 11:14:00 -> 2022-03-23 15:00:00                21.0   \n",
       "2021-12-14 11:14:00 -> 2022-03-23 15:00:00                19.0   \n",
       "2021-12-14 11:14:00 -> 2022-03-23 15:00:00                19.0   \n",
       "2021-12-14 11:15:00 -> 2022-03-23 15:00:00                18.0   \n",
       "2021-12-14 11:15:00 -> 2022-03-23 15:00:00                18.0   \n",
       "2021-12-14 11:15:00 -> 2022-03-23 15:00:00                17.0   \n",
       "2021-12-14 11:15:00 -> 2022-03-23 15:00:00                17.0   \n",
       "\n",
       "                                            close by signal win  \\\n",
       "2021-12-14 09:30:00 -> 2022-03-23 15:00:00                169.0   \n",
       "2021-12-14 09:30:00 -> 2022-03-23 15:00:00                198.0   \n",
       "2021-12-14 09:30:00 -> 2022-03-23 15:00:00                254.0   \n",
       "2021-12-14 09:30:00 -> 2022-03-23 15:00:00                322.0   \n",
       "2021-12-14 09:32:00 -> 2022-03-23 15:00:00                133.0   \n",
       "2021-12-14 09:32:00 -> 2022-03-23 15:00:00                152.0   \n",
       "2021-12-14 09:32:00 -> 2022-03-23 15:00:00                185.0   \n",
       "2021-12-14 09:32:00 -> 2022-03-23 15:00:00                227.0   \n",
       "2021-12-14 10:33:00 -> 2022-03-23 15:00:00                 95.0   \n",
       "2021-12-14 10:33:00 -> 2022-03-23 15:00:00                109.0   \n",
       "2021-12-14 10:33:00 -> 2022-03-23 15:00:00                125.0   \n",
       "2021-12-14 10:33:00 -> 2022-03-23 15:00:00                149.0   \n",
       "2021-12-14 10:34:00 -> 2022-03-23 15:00:00                 77.0   \n",
       "2021-12-14 10:34:00 -> 2022-03-23 15:00:00                 87.0   \n",
       "2021-12-14 10:34:00 -> 2022-03-23 15:00:00                 97.0   \n",
       "2021-12-14 10:34:00 -> 2022-03-23 15:00:00                114.0   \n",
       "2021-12-14 10:34:00 -> 2022-03-23 15:00:00                 63.0   \n",
       "2021-12-14 10:34:00 -> 2022-03-23 15:00:00                 72.0   \n",
       "2021-12-14 10:34:00 -> 2022-03-23 15:00:00                 79.0   \n",
       "2021-12-14 10:34:00 -> 2022-03-23 15:00:00                 93.0   \n",
       "2021-12-14 10:36:00 -> 2022-03-23 15:00:00                 56.0   \n",
       "2021-12-14 10:36:00 -> 2022-03-23 15:00:00                 60.0   \n",
       "2021-12-14 10:36:00 -> 2022-03-23 15:00:00                 66.0   \n",
       "2021-12-14 10:36:00 -> 2022-03-23 15:00:00                 72.0   \n",
       "2021-12-14 10:36:00 -> 2022-03-23 15:00:00                 45.0   \n",
       "2021-12-14 10:36:00 -> 2022-03-23 15:00:00                 48.0   \n",
       "2021-12-14 10:36:00 -> 2022-03-23 15:00:00                 53.0   \n",
       "2021-12-14 10:36:00 -> 2022-03-23 15:00:00                 58.0   \n",
       "2021-12-14 10:37:00 -> 2022-03-23 15:00:00                 39.0   \n",
       "2021-12-14 10:37:00 -> 2022-03-23 15:00:00                 42.0   \n",
       "2021-12-14 10:37:00 -> 2022-03-23 15:00:00                 46.0   \n",
       "2021-12-14 10:37:00 -> 2022-03-23 15:00:00                 50.0   \n",
       "2021-12-14 11:09:00 -> 2022-03-23 15:00:00                 33.0   \n",
       "2021-12-14 11:09:00 -> 2022-03-23 15:00:00                 35.0   \n",
       "2021-12-14 11:09:00 -> 2022-03-23 15:00:00                 39.0   \n",
       "2021-12-14 11:09:00 -> 2022-03-23 15:00:00                 42.0   \n",
       "2021-12-14 11:14:00 -> 2022-03-23 15:00:00                 26.0   \n",
       "2021-12-14 11:14:00 -> 2022-03-23 15:00:00                 27.0   \n",
       "2021-12-14 11:14:00 -> 2022-03-23 15:00:00                 31.0   \n",
       "2021-12-14 11:14:00 -> 2022-03-23 15:00:00                 34.0   \n",
       "2021-12-14 11:15:00 -> 2022-03-23 15:00:00                 22.0   \n",
       "2021-12-14 11:15:00 -> 2022-03-23 15:00:00                 23.0   \n",
       "2021-12-14 11:15:00 -> 2022-03-23 15:00:00                 25.0   \n",
       "2021-12-14 11:15:00 -> 2022-03-23 15:00:00                 28.0   \n",
       "\n",
       "                                            close by signal lose  \\\n",
       "2021-12-14 09:30:00 -> 2022-03-23 15:00:00                   0.0   \n",
       "2021-12-14 09:30:00 -> 2022-03-23 15:00:00                   1.0   \n",
       "2021-12-14 09:30:00 -> 2022-03-23 15:00:00                   1.0   \n",
       "2021-12-14 09:30:00 -> 2022-03-23 15:00:00                   3.0   \n",
       "2021-12-14 09:32:00 -> 2022-03-23 15:00:00                   1.0   \n",
       "2021-12-14 09:32:00 -> 2022-03-23 15:00:00                   2.0   \n",
       "2021-12-14 09:32:00 -> 2022-03-23 15:00:00                   2.0   \n",
       "2021-12-14 09:32:00 -> 2022-03-23 15:00:00                   2.0   \n",
       "2021-12-14 10:33:00 -> 2022-03-23 15:00:00                   1.0   \n",
       "2021-12-14 10:33:00 -> 2022-03-23 15:00:00                   2.0   \n",
       "2021-12-14 10:33:00 -> 2022-03-23 15:00:00                   2.0   \n",
       "2021-12-14 10:33:00 -> 2022-03-23 15:00:00                   2.0   \n",
       "2021-12-14 10:34:00 -> 2022-03-23 15:00:00                   0.0   \n",
       "2021-12-14 10:34:00 -> 2022-03-23 15:00:00                   0.0   \n",
       "2021-12-14 10:34:00 -> 2022-03-23 15:00:00                   0.0   \n",
       "2021-12-14 10:34:00 -> 2022-03-23 15:00:00                   0.0   \n",
       "2021-12-14 10:34:00 -> 2022-03-23 15:00:00                   0.0   \n",
       "2021-12-14 10:34:00 -> 2022-03-23 15:00:00                   0.0   \n",
       "2021-12-14 10:34:00 -> 2022-03-23 15:00:00                   0.0   \n",
       "2021-12-14 10:34:00 -> 2022-03-23 15:00:00                   0.0   \n",
       "2021-12-14 10:36:00 -> 2022-03-23 15:00:00                   0.0   \n",
       "2021-12-14 10:36:00 -> 2022-03-23 15:00:00                   0.0   \n",
       "2021-12-14 10:36:00 -> 2022-03-23 15:00:00                   0.0   \n",
       "2021-12-14 10:36:00 -> 2022-03-23 15:00:00                   0.0   \n",
       "2021-12-14 10:36:00 -> 2022-03-23 15:00:00                   0.0   \n",
       "2021-12-14 10:36:00 -> 2022-03-23 15:00:00                   0.0   \n",
       "2021-12-14 10:36:00 -> 2022-03-23 15:00:00                   0.0   \n",
       "2021-12-14 10:36:00 -> 2022-03-23 15:00:00                   0.0   \n",
       "2021-12-14 10:37:00 -> 2022-03-23 15:00:00                   0.0   \n",
       "2021-12-14 10:37:00 -> 2022-03-23 15:00:00                   0.0   \n",
       "2021-12-14 10:37:00 -> 2022-03-23 15:00:00                   0.0   \n",
       "2021-12-14 10:37:00 -> 2022-03-23 15:00:00                   0.0   \n",
       "2021-12-14 11:09:00 -> 2022-03-23 15:00:00                   0.0   \n",
       "2021-12-14 11:09:00 -> 2022-03-23 15:00:00                   0.0   \n",
       "2021-12-14 11:09:00 -> 2022-03-23 15:00:00                   0.0   \n",
       "2021-12-14 11:09:00 -> 2022-03-23 15:00:00                   0.0   \n",
       "2021-12-14 11:14:00 -> 2022-03-23 15:00:00                   0.0   \n",
       "2021-12-14 11:14:00 -> 2022-03-23 15:00:00                   0.0   \n",
       "2021-12-14 11:14:00 -> 2022-03-23 15:00:00                   0.0   \n",
       "2021-12-14 11:14:00 -> 2022-03-23 15:00:00                   0.0   \n",
       "2021-12-14 11:15:00 -> 2022-03-23 15:00:00                   0.0   \n",
       "2021-12-14 11:15:00 -> 2022-03-23 15:00:00                   0.0   \n",
       "2021-12-14 11:15:00 -> 2022-03-23 15:00:00                   0.0   \n",
       "2021-12-14 11:15:00 -> 2022-03-23 15:00:00                   0.0   \n",
       "\n",
       "                                            open threshold  close threshold  \n",
       "2021-12-14 09:30:00 -> 2022-03-23 15:00:00           0.005            0.000  \n",
       "2021-12-14 09:30:00 -> 2022-03-23 15:00:00           0.005            0.001  \n",
       "2021-12-14 09:30:00 -> 2022-03-23 15:00:00           0.005            0.002  \n",
       "2021-12-14 09:30:00 -> 2022-03-23 15:00:00           0.005            0.003  \n",
       "2021-12-14 09:32:00 -> 2022-03-23 15:00:00           0.006            0.000  \n",
       "2021-12-14 09:32:00 -> 2022-03-23 15:00:00           0.006            0.001  \n",
       "2021-12-14 09:32:00 -> 2022-03-23 15:00:00           0.006            0.002  \n",
       "2021-12-14 09:32:00 -> 2022-03-23 15:00:00           0.006            0.003  \n",
       "2021-12-14 10:33:00 -> 2022-03-23 15:00:00           0.007            0.000  \n",
       "2021-12-14 10:33:00 -> 2022-03-23 15:00:00           0.007            0.001  \n",
       "2021-12-14 10:33:00 -> 2022-03-23 15:00:00           0.007            0.002  \n",
       "2021-12-14 10:33:00 -> 2022-03-23 15:00:00           0.007            0.003  \n",
       "2021-12-14 10:34:00 -> 2022-03-23 15:00:00           0.008            0.000  \n",
       "2021-12-14 10:34:00 -> 2022-03-23 15:00:00           0.008            0.001  \n",
       "2021-12-14 10:34:00 -> 2022-03-23 15:00:00           0.008            0.002  \n",
       "2021-12-14 10:34:00 -> 2022-03-23 15:00:00           0.008            0.003  \n",
       "2021-12-14 10:34:00 -> 2022-03-23 15:00:00           0.009            0.000  \n",
       "2021-12-14 10:34:00 -> 2022-03-23 15:00:00           0.009            0.001  \n",
       "2021-12-14 10:34:00 -> 2022-03-23 15:00:00           0.009            0.002  \n",
       "2021-12-14 10:34:00 -> 2022-03-23 15:00:00           0.009            0.003  \n",
       "2021-12-14 10:36:00 -> 2022-03-23 15:00:00           0.010            0.000  \n",
       "2021-12-14 10:36:00 -> 2022-03-23 15:00:00           0.010            0.001  \n",
       "2021-12-14 10:36:00 -> 2022-03-23 15:00:00           0.010            0.002  \n",
       "2021-12-14 10:36:00 -> 2022-03-23 15:00:00           0.010            0.003  \n",
       "2021-12-14 10:36:00 -> 2022-03-23 15:00:00           0.011            0.000  \n",
       "2021-12-14 10:36:00 -> 2022-03-23 15:00:00           0.011            0.001  \n",
       "2021-12-14 10:36:00 -> 2022-03-23 15:00:00           0.011            0.002  \n",
       "2021-12-14 10:36:00 -> 2022-03-23 15:00:00           0.011            0.003  \n",
       "2021-12-14 10:37:00 -> 2022-03-23 15:00:00           0.012            0.000  \n",
       "2021-12-14 10:37:00 -> 2022-03-23 15:00:00           0.012            0.001  \n",
       "2021-12-14 10:37:00 -> 2022-03-23 15:00:00           0.012            0.002  \n",
       "2021-12-14 10:37:00 -> 2022-03-23 15:00:00           0.012            0.003  \n",
       "2021-12-14 11:09:00 -> 2022-03-23 15:00:00           0.013            0.000  \n",
       "2021-12-14 11:09:00 -> 2022-03-23 15:00:00           0.013            0.001  \n",
       "2021-12-14 11:09:00 -> 2022-03-23 15:00:00           0.013            0.002  \n",
       "2021-12-14 11:09:00 -> 2022-03-23 15:00:00           0.013            0.003  \n",
       "2021-12-14 11:14:00 -> 2022-03-23 15:00:00           0.014            0.000  \n",
       "2021-12-14 11:14:00 -> 2022-03-23 15:00:00           0.014            0.001  \n",
       "2021-12-14 11:14:00 -> 2022-03-23 15:00:00           0.014            0.002  \n",
       "2021-12-14 11:14:00 -> 2022-03-23 15:00:00           0.014            0.003  \n",
       "2021-12-14 11:15:00 -> 2022-03-23 15:00:00           0.015            0.000  \n",
       "2021-12-14 11:15:00 -> 2022-03-23 15:00:00           0.015            0.001  \n",
       "2021-12-14 11:15:00 -> 2022-03-23 15:00:00           0.015            0.002  \n",
       "2021-12-14 11:15:00 -> 2022-03-23 15:00:00           0.015            0.003  "
      ]
     },
     "execution_count": 12,
     "metadata": {},
     "output_type": "execute_result"
    }
   ],
   "source": [
    "df_grid_search_res[['win','lose','total round',\n",
    "                    'close by time','close by signal',\n",
    "                    'close by time win','close by time lose',\n",
    "                    'close by signal win','close by signal lose',\n",
    "                    'open threshold', 'close threshold'\n",
    "                    ]]"
   ]
  },
  {
   "cell_type": "markdown",
   "metadata": {},
   "source": [
    "# return per round surface"
   ]
  },
  {
   "cell_type": "code",
   "execution_count": 14,
   "metadata": {},
   "outputs": [
    {
     "name": "stdout",
     "output_type": "stream",
     "text": [
      "max return per round: \n",
      " 0.000    0.006382\n",
      "0.001    0.006145\n",
      "0.002    0.006221\n",
      "0.003    0.006273\n",
      "dtype: float64\n",
      "min return per round: \n",
      " 0.000    0.004272\n",
      "0.001    0.003962\n",
      "0.002    0.003534\n",
      "0.003    0.003096\n",
      "dtype: float64\n"
     ]
    },
    {
     "data": {
      "text/html": [
       "<div>\n",
       "<style scoped>\n",
       "    .dataframe tbody tr th:only-of-type {\n",
       "        vertical-align: middle;\n",
       "    }\n",
       "\n",
       "    .dataframe tbody tr th {\n",
       "        vertical-align: top;\n",
       "    }\n",
       "\n",
       "    .dataframe thead th {\n",
       "        text-align: right;\n",
       "    }\n",
       "</style>\n",
       "<table border=\"1\" class=\"dataframe\">\n",
       "  <thead>\n",
       "    <tr style=\"text-align: right;\">\n",
       "      <th></th>\n",
       "      <th>0.000</th>\n",
       "      <th>0.001</th>\n",
       "      <th>0.002</th>\n",
       "      <th>0.003</th>\n",
       "    </tr>\n",
       "  </thead>\n",
       "  <tbody>\n",
       "    <tr>\n",
       "      <th>0.005</th>\n",
       "      <td>0.004272</td>\n",
       "      <td>0.003962</td>\n",
       "      <td>0.003534</td>\n",
       "      <td>0.003096</td>\n",
       "    </tr>\n",
       "    <tr>\n",
       "      <th>0.006</th>\n",
       "      <td>0.004500</td>\n",
       "      <td>0.004215</td>\n",
       "      <td>0.003803</td>\n",
       "      <td>0.003454</td>\n",
       "    </tr>\n",
       "    <tr>\n",
       "      <th>0.007</th>\n",
       "      <td>0.004446</td>\n",
       "      <td>0.004241</td>\n",
       "      <td>0.003816</td>\n",
       "      <td>0.003561</td>\n",
       "    </tr>\n",
       "    <tr>\n",
       "      <th>0.008</th>\n",
       "      <td>0.004665</td>\n",
       "      <td>0.004446</td>\n",
       "      <td>0.004123</td>\n",
       "      <td>0.003936</td>\n",
       "    </tr>\n",
       "    <tr>\n",
       "      <th>0.009</th>\n",
       "      <td>0.004830</td>\n",
       "      <td>0.004666</td>\n",
       "      <td>0.004296</td>\n",
       "      <td>0.004250</td>\n",
       "    </tr>\n",
       "    <tr>\n",
       "      <th>0.010</th>\n",
       "      <td>0.005131</td>\n",
       "      <td>0.004802</td>\n",
       "      <td>0.004484</td>\n",
       "      <td>0.004352</td>\n",
       "    </tr>\n",
       "    <tr>\n",
       "      <th>0.011</th>\n",
       "      <td>0.005185</td>\n",
       "      <td>0.004815</td>\n",
       "      <td>0.004478</td>\n",
       "      <td>0.004439</td>\n",
       "    </tr>\n",
       "    <tr>\n",
       "      <th>0.012</th>\n",
       "      <td>0.005745</td>\n",
       "      <td>0.005330</td>\n",
       "      <td>0.005169</td>\n",
       "      <td>0.005078</td>\n",
       "    </tr>\n",
       "    <tr>\n",
       "      <th>0.013</th>\n",
       "      <td>0.006218</td>\n",
       "      <td>0.005858</td>\n",
       "      <td>0.005749</td>\n",
       "      <td>0.005677</td>\n",
       "    </tr>\n",
       "    <tr>\n",
       "      <th>0.014</th>\n",
       "      <td>0.006382</td>\n",
       "      <td>0.006145</td>\n",
       "      <td>0.006221</td>\n",
       "      <td>0.006273</td>\n",
       "    </tr>\n",
       "    <tr>\n",
       "      <th>0.015</th>\n",
       "      <td>0.006018</td>\n",
       "      <td>0.005703</td>\n",
       "      <td>0.005685</td>\n",
       "      <td>0.005880</td>\n",
       "    </tr>\n",
       "  </tbody>\n",
       "</table>\n",
       "</div>"
      ],
      "text/plain": [
       "          0.000     0.001     0.002     0.003\n",
       "0.005  0.004272  0.003962  0.003534  0.003096\n",
       "0.006  0.004500  0.004215  0.003803  0.003454\n",
       "0.007  0.004446  0.004241  0.003816  0.003561\n",
       "0.008  0.004665  0.004446  0.004123  0.003936\n",
       "0.009  0.004830  0.004666  0.004296  0.004250\n",
       "0.010  0.005131  0.004802  0.004484  0.004352\n",
       "0.011  0.005185  0.004815  0.004478  0.004439\n",
       "0.012  0.005745  0.005330  0.005169  0.005078\n",
       "0.013  0.006218  0.005858  0.005749  0.005677\n",
       "0.014  0.006382  0.006145  0.006221  0.006273\n",
       "0.015  0.006018  0.005703  0.005685  0.005880"
      ]
     },
     "execution_count": 14,
     "metadata": {},
     "output_type": "execute_result"
    }
   ],
   "source": [
    "df_return_per_round = pd.DataFrame([])\n",
    "for index,row in df_grid_search_res.iterrows():\n",
    "    open_threshold = row['open threshold']\n",
    "    close_threshold = row['close threshold']\n",
    "    df_return_per_round.loc[open_threshold,close_threshold] = row['return per round']\n",
    "print('max return per round: \\n',df_return_per_round.max())\n",
    "print('min return per round: \\n',df_return_per_round.min())\n",
    "df_return_per_round"
   ]
  },
  {
   "cell_type": "code",
   "execution_count": 15,
   "metadata": {},
   "outputs": [
    {
     "data": {
      "application/vnd.plotly.v1+json": {
       "config": {
        "plotlyServerURL": "https://plot.ly"
       },
       "data": [
        {
         "type": "surface",
         "x": [
          0,
          0.001,
          0.002,
          0.003
         ],
         "y": [
          0.005,
          0.006,
          0.007,
          0.008,
          0.009,
          0.01,
          0.011,
          0.012,
          0.013,
          0.014,
          0.015
         ],
         "z": [
          [
           0.004271905574684271,
           0.003962241858781758,
           0.003533751896123567,
           0.0030964002977916507
          ],
          [
           0.004499921823634923,
           0.004214974734036405,
           0.0038034358616782344,
           0.00345395587901957
          ],
          [
           0.004446451491459865,
           0.004241379710452489,
           0.0038156766680097114,
           0.0035606362824558264
          ],
          [
           0.0046652042255465745,
           0.004445982697584579,
           0.004122923674791272,
           0.003936398301047038
          ],
          [
           0.004829706913840671,
           0.004665538853405149,
           0.004295642509334317,
           0.0042501258556751475
          ],
          [
           0.005130918842562174,
           0.004801529749808553,
           0.004484364397071507,
           0.004351888881936611
          ],
          [
           0.005185107362620117,
           0.004815040905505084,
           0.00447781167651691,
           0.004439381877633617
          ],
          [
           0.0057454199950724965,
           0.0053300847502085165,
           0.005169391563817813,
           0.005078161433681562
          ],
          [
           0.006217682321776849,
           0.005857880028520159,
           0.005749241483770009,
           0.005677367581565198
          ],
          [
           0.006381798227624291,
           0.006144873668649991,
           0.006221100357358702,
           0.006272848947529923
          ],
          [
           0.006018140468161492,
           0.005702850564369266,
           0.005685400172485509,
           0.005879808612387981
          ]
         ]
        }
       ],
       "layout": {
        "autosize": false,
        "height": 600,
        "margin": {
         "b": 65,
         "l": 65,
         "r": 50,
         "t": 90
        },
        "scene": {
         "xaxis": {
          "title": {
           "text": "X-close-threshold"
          }
         },
         "yaxis": {
          "title": {
           "text": "Y-open-threshold"
          }
         }
        },
        "template": {
         "data": {
          "bar": [
           {
            "error_x": {
             "color": "#2a3f5f"
            },
            "error_y": {
             "color": "#2a3f5f"
            },
            "marker": {
             "line": {
              "color": "#E5ECF6",
              "width": 0.5
             },
             "pattern": {
              "fillmode": "overlay",
              "size": 10,
              "solidity": 0.2
             }
            },
            "type": "bar"
           }
          ],
          "barpolar": [
           {
            "marker": {
             "line": {
              "color": "#E5ECF6",
              "width": 0.5
             },
             "pattern": {
              "fillmode": "overlay",
              "size": 10,
              "solidity": 0.2
             }
            },
            "type": "barpolar"
           }
          ],
          "carpet": [
           {
            "aaxis": {
             "endlinecolor": "#2a3f5f",
             "gridcolor": "white",
             "linecolor": "white",
             "minorgridcolor": "white",
             "startlinecolor": "#2a3f5f"
            },
            "baxis": {
             "endlinecolor": "#2a3f5f",
             "gridcolor": "white",
             "linecolor": "white",
             "minorgridcolor": "white",
             "startlinecolor": "#2a3f5f"
            },
            "type": "carpet"
           }
          ],
          "choropleth": [
           {
            "colorbar": {
             "outlinewidth": 0,
             "ticks": ""
            },
            "type": "choropleth"
           }
          ],
          "contour": [
           {
            "colorbar": {
             "outlinewidth": 0,
             "ticks": ""
            },
            "colorscale": [
             [
              0,
              "#0d0887"
             ],
             [
              0.1111111111111111,
              "#46039f"
             ],
             [
              0.2222222222222222,
              "#7201a8"
             ],
             [
              0.3333333333333333,
              "#9c179e"
             ],
             [
              0.4444444444444444,
              "#bd3786"
             ],
             [
              0.5555555555555556,
              "#d8576b"
             ],
             [
              0.6666666666666666,
              "#ed7953"
             ],
             [
              0.7777777777777778,
              "#fb9f3a"
             ],
             [
              0.8888888888888888,
              "#fdca26"
             ],
             [
              1,
              "#f0f921"
             ]
            ],
            "type": "contour"
           }
          ],
          "contourcarpet": [
           {
            "colorbar": {
             "outlinewidth": 0,
             "ticks": ""
            },
            "type": "contourcarpet"
           }
          ],
          "heatmap": [
           {
            "colorbar": {
             "outlinewidth": 0,
             "ticks": ""
            },
            "colorscale": [
             [
              0,
              "#0d0887"
             ],
             [
              0.1111111111111111,
              "#46039f"
             ],
             [
              0.2222222222222222,
              "#7201a8"
             ],
             [
              0.3333333333333333,
              "#9c179e"
             ],
             [
              0.4444444444444444,
              "#bd3786"
             ],
             [
              0.5555555555555556,
              "#d8576b"
             ],
             [
              0.6666666666666666,
              "#ed7953"
             ],
             [
              0.7777777777777778,
              "#fb9f3a"
             ],
             [
              0.8888888888888888,
              "#fdca26"
             ],
             [
              1,
              "#f0f921"
             ]
            ],
            "type": "heatmap"
           }
          ],
          "heatmapgl": [
           {
            "colorbar": {
             "outlinewidth": 0,
             "ticks": ""
            },
            "colorscale": [
             [
              0,
              "#0d0887"
             ],
             [
              0.1111111111111111,
              "#46039f"
             ],
             [
              0.2222222222222222,
              "#7201a8"
             ],
             [
              0.3333333333333333,
              "#9c179e"
             ],
             [
              0.4444444444444444,
              "#bd3786"
             ],
             [
              0.5555555555555556,
              "#d8576b"
             ],
             [
              0.6666666666666666,
              "#ed7953"
             ],
             [
              0.7777777777777778,
              "#fb9f3a"
             ],
             [
              0.8888888888888888,
              "#fdca26"
             ],
             [
              1,
              "#f0f921"
             ]
            ],
            "type": "heatmapgl"
           }
          ],
          "histogram": [
           {
            "marker": {
             "pattern": {
              "fillmode": "overlay",
              "size": 10,
              "solidity": 0.2
             }
            },
            "type": "histogram"
           }
          ],
          "histogram2d": [
           {
            "colorbar": {
             "outlinewidth": 0,
             "ticks": ""
            },
            "colorscale": [
             [
              0,
              "#0d0887"
             ],
             [
              0.1111111111111111,
              "#46039f"
             ],
             [
              0.2222222222222222,
              "#7201a8"
             ],
             [
              0.3333333333333333,
              "#9c179e"
             ],
             [
              0.4444444444444444,
              "#bd3786"
             ],
             [
              0.5555555555555556,
              "#d8576b"
             ],
             [
              0.6666666666666666,
              "#ed7953"
             ],
             [
              0.7777777777777778,
              "#fb9f3a"
             ],
             [
              0.8888888888888888,
              "#fdca26"
             ],
             [
              1,
              "#f0f921"
             ]
            ],
            "type": "histogram2d"
           }
          ],
          "histogram2dcontour": [
           {
            "colorbar": {
             "outlinewidth": 0,
             "ticks": ""
            },
            "colorscale": [
             [
              0,
              "#0d0887"
             ],
             [
              0.1111111111111111,
              "#46039f"
             ],
             [
              0.2222222222222222,
              "#7201a8"
             ],
             [
              0.3333333333333333,
              "#9c179e"
             ],
             [
              0.4444444444444444,
              "#bd3786"
             ],
             [
              0.5555555555555556,
              "#d8576b"
             ],
             [
              0.6666666666666666,
              "#ed7953"
             ],
             [
              0.7777777777777778,
              "#fb9f3a"
             ],
             [
              0.8888888888888888,
              "#fdca26"
             ],
             [
              1,
              "#f0f921"
             ]
            ],
            "type": "histogram2dcontour"
           }
          ],
          "mesh3d": [
           {
            "colorbar": {
             "outlinewidth": 0,
             "ticks": ""
            },
            "type": "mesh3d"
           }
          ],
          "parcoords": [
           {
            "line": {
             "colorbar": {
              "outlinewidth": 0,
              "ticks": ""
             }
            },
            "type": "parcoords"
           }
          ],
          "pie": [
           {
            "automargin": true,
            "type": "pie"
           }
          ],
          "scatter": [
           {
            "fillpattern": {
             "fillmode": "overlay",
             "size": 10,
             "solidity": 0.2
            },
            "type": "scatter"
           }
          ],
          "scatter3d": [
           {
            "line": {
             "colorbar": {
              "outlinewidth": 0,
              "ticks": ""
             }
            },
            "marker": {
             "colorbar": {
              "outlinewidth": 0,
              "ticks": ""
             }
            },
            "type": "scatter3d"
           }
          ],
          "scattercarpet": [
           {
            "marker": {
             "colorbar": {
              "outlinewidth": 0,
              "ticks": ""
             }
            },
            "type": "scattercarpet"
           }
          ],
          "scattergeo": [
           {
            "marker": {
             "colorbar": {
              "outlinewidth": 0,
              "ticks": ""
             }
            },
            "type": "scattergeo"
           }
          ],
          "scattergl": [
           {
            "marker": {
             "colorbar": {
              "outlinewidth": 0,
              "ticks": ""
             }
            },
            "type": "scattergl"
           }
          ],
          "scattermapbox": [
           {
            "marker": {
             "colorbar": {
              "outlinewidth": 0,
              "ticks": ""
             }
            },
            "type": "scattermapbox"
           }
          ],
          "scatterpolar": [
           {
            "marker": {
             "colorbar": {
              "outlinewidth": 0,
              "ticks": ""
             }
            },
            "type": "scatterpolar"
           }
          ],
          "scatterpolargl": [
           {
            "marker": {
             "colorbar": {
              "outlinewidth": 0,
              "ticks": ""
             }
            },
            "type": "scatterpolargl"
           }
          ],
          "scatterternary": [
           {
            "marker": {
             "colorbar": {
              "outlinewidth": 0,
              "ticks": ""
             }
            },
            "type": "scatterternary"
           }
          ],
          "surface": [
           {
            "colorbar": {
             "outlinewidth": 0,
             "ticks": ""
            },
            "colorscale": [
             [
              0,
              "#0d0887"
             ],
             [
              0.1111111111111111,
              "#46039f"
             ],
             [
              0.2222222222222222,
              "#7201a8"
             ],
             [
              0.3333333333333333,
              "#9c179e"
             ],
             [
              0.4444444444444444,
              "#bd3786"
             ],
             [
              0.5555555555555556,
              "#d8576b"
             ],
             [
              0.6666666666666666,
              "#ed7953"
             ],
             [
              0.7777777777777778,
              "#fb9f3a"
             ],
             [
              0.8888888888888888,
              "#fdca26"
             ],
             [
              1,
              "#f0f921"
             ]
            ],
            "type": "surface"
           }
          ],
          "table": [
           {
            "cells": {
             "fill": {
              "color": "#EBF0F8"
             },
             "line": {
              "color": "white"
             }
            },
            "header": {
             "fill": {
              "color": "#C8D4E3"
             },
             "line": {
              "color": "white"
             }
            },
            "type": "table"
           }
          ]
         },
         "layout": {
          "annotationdefaults": {
           "arrowcolor": "#2a3f5f",
           "arrowhead": 0,
           "arrowwidth": 1
          },
          "autotypenumbers": "strict",
          "coloraxis": {
           "colorbar": {
            "outlinewidth": 0,
            "ticks": ""
           }
          },
          "colorscale": {
           "diverging": [
            [
             0,
             "#8e0152"
            ],
            [
             0.1,
             "#c51b7d"
            ],
            [
             0.2,
             "#de77ae"
            ],
            [
             0.3,
             "#f1b6da"
            ],
            [
             0.4,
             "#fde0ef"
            ],
            [
             0.5,
             "#f7f7f7"
            ],
            [
             0.6,
             "#e6f5d0"
            ],
            [
             0.7,
             "#b8e186"
            ],
            [
             0.8,
             "#7fbc41"
            ],
            [
             0.9,
             "#4d9221"
            ],
            [
             1,
             "#276419"
            ]
           ],
           "sequential": [
            [
             0,
             "#0d0887"
            ],
            [
             0.1111111111111111,
             "#46039f"
            ],
            [
             0.2222222222222222,
             "#7201a8"
            ],
            [
             0.3333333333333333,
             "#9c179e"
            ],
            [
             0.4444444444444444,
             "#bd3786"
            ],
            [
             0.5555555555555556,
             "#d8576b"
            ],
            [
             0.6666666666666666,
             "#ed7953"
            ],
            [
             0.7777777777777778,
             "#fb9f3a"
            ],
            [
             0.8888888888888888,
             "#fdca26"
            ],
            [
             1,
             "#f0f921"
            ]
           ],
           "sequentialminus": [
            [
             0,
             "#0d0887"
            ],
            [
             0.1111111111111111,
             "#46039f"
            ],
            [
             0.2222222222222222,
             "#7201a8"
            ],
            [
             0.3333333333333333,
             "#9c179e"
            ],
            [
             0.4444444444444444,
             "#bd3786"
            ],
            [
             0.5555555555555556,
             "#d8576b"
            ],
            [
             0.6666666666666666,
             "#ed7953"
            ],
            [
             0.7777777777777778,
             "#fb9f3a"
            ],
            [
             0.8888888888888888,
             "#fdca26"
            ],
            [
             1,
             "#f0f921"
            ]
           ]
          },
          "colorway": [
           "#636efa",
           "#EF553B",
           "#00cc96",
           "#ab63fa",
           "#FFA15A",
           "#19d3f3",
           "#FF6692",
           "#B6E880",
           "#FF97FF",
           "#FECB52"
          ],
          "font": {
           "color": "#2a3f5f"
          },
          "geo": {
           "bgcolor": "white",
           "lakecolor": "white",
           "landcolor": "#E5ECF6",
           "showlakes": true,
           "showland": true,
           "subunitcolor": "white"
          },
          "hoverlabel": {
           "align": "left"
          },
          "hovermode": "closest",
          "mapbox": {
           "style": "light"
          },
          "paper_bgcolor": "white",
          "plot_bgcolor": "#E5ECF6",
          "polar": {
           "angularaxis": {
            "gridcolor": "white",
            "linecolor": "white",
            "ticks": ""
           },
           "bgcolor": "#E5ECF6",
           "radialaxis": {
            "gridcolor": "white",
            "linecolor": "white",
            "ticks": ""
           }
          },
          "scene": {
           "xaxis": {
            "backgroundcolor": "#E5ECF6",
            "gridcolor": "white",
            "gridwidth": 2,
            "linecolor": "white",
            "showbackground": true,
            "ticks": "",
            "zerolinecolor": "white"
           },
           "yaxis": {
            "backgroundcolor": "#E5ECF6",
            "gridcolor": "white",
            "gridwidth": 2,
            "linecolor": "white",
            "showbackground": true,
            "ticks": "",
            "zerolinecolor": "white"
           },
           "zaxis": {
            "backgroundcolor": "#E5ECF6",
            "gridcolor": "white",
            "gridwidth": 2,
            "linecolor": "white",
            "showbackground": true,
            "ticks": "",
            "zerolinecolor": "white"
           }
          },
          "shapedefaults": {
           "line": {
            "color": "#2a3f5f"
           }
          },
          "ternary": {
           "aaxis": {
            "gridcolor": "white",
            "linecolor": "white",
            "ticks": ""
           },
           "baxis": {
            "gridcolor": "white",
            "linecolor": "white",
            "ticks": ""
           },
           "bgcolor": "#E5ECF6",
           "caxis": {
            "gridcolor": "white",
            "linecolor": "white",
            "ticks": ""
           }
          },
          "title": {
           "x": 0.05
          },
          "xaxis": {
           "automargin": true,
           "gridcolor": "white",
           "linecolor": "white",
           "ticks": "",
           "title": {
            "standoff": 15
           },
           "zerolinecolor": "white",
           "zerolinewidth": 2
          },
          "yaxis": {
           "automargin": true,
           "gridcolor": "white",
           "linecolor": "white",
           "ticks": "",
           "title": {
            "standoff": 15
           },
           "zerolinecolor": "white",
           "zerolinewidth": 2
          }
         }
        },
        "title": {
         "text": "return per round"
        },
        "width": 700
       }
      }
     },
     "metadata": {},
     "output_type": "display_data"
    }
   ],
   "source": [
    "import plotly.graph_objects as go\n",
    "\n",
    "x_data = df_return_per_round.columns.to_list() # close threshold\n",
    "\n",
    "y_data = df_return_per_round.index.to_list() # open threshold\n",
    "\n",
    "z_data = df_return_per_round.copy(deep=True) # return per round\n",
    "\n",
    "fig = go.Figure(data=[go.Surface(z=z_data.values,x=x_data,y=y_data)])\n",
    "\n",
    "fig.update_layout(title=\"return per round\", # 标题\n",
    "                  autosize=False,  # 尺度自动缩放\n",
    "                  width=700,  # 长宽\n",
    "                  height=600,\n",
    "                  margin=dict(l=65,r=50,b=65,t=90),  # 4个位置的距离\n",
    "                  scene=dict(xaxis_title='X-close-threshold',yaxis_title='Y-open-threshold')\n",
    "                 )\n",
    "\n",
    "fig.show()"
   ]
  },
  {
   "cell_type": "markdown",
   "metadata": {},
   "source": [
    "# win rate surface"
   ]
  },
  {
   "cell_type": "code",
   "execution_count": 16,
   "metadata": {},
   "outputs": [
    {
     "name": "stdout",
     "output_type": "stream",
     "text": [
      "max win rate: \n",
      " 0.000    0.818584\n",
      "0.001    0.839216\n",
      "0.002    0.868167\n",
      "0.003    0.886243\n",
      "dtype: float64\n",
      "min win rate: \n",
      " 0.000    0.661290\n",
      "0.001    0.666667\n",
      "0.002    0.680851\n",
      "0.003    0.696970\n",
      "dtype: float64\n"
     ]
    },
    {
     "data": {
      "text/html": [
       "<div>\n",
       "<style scoped>\n",
       "    .dataframe tbody tr th:only-of-type {\n",
       "        vertical-align: middle;\n",
       "    }\n",
       "\n",
       "    .dataframe tbody tr th {\n",
       "        vertical-align: top;\n",
       "    }\n",
       "\n",
       "    .dataframe thead th {\n",
       "        text-align: right;\n",
       "    }\n",
       "</style>\n",
       "<table border=\"1\" class=\"dataframe\">\n",
       "  <thead>\n",
       "    <tr style=\"text-align: right;\">\n",
       "      <th></th>\n",
       "      <th>0.000</th>\n",
       "      <th>0.001</th>\n",
       "      <th>0.002</th>\n",
       "      <th>0.003</th>\n",
       "    </tr>\n",
       "  </thead>\n",
       "  <tbody>\n",
       "    <tr>\n",
       "      <th>0.005</th>\n",
       "      <td>0.818584</td>\n",
       "      <td>0.839216</td>\n",
       "      <td>0.868167</td>\n",
       "      <td>0.886243</td>\n",
       "    </tr>\n",
       "    <tr>\n",
       "      <th>0.006</th>\n",
       "      <td>0.793651</td>\n",
       "      <td>0.806763</td>\n",
       "      <td>0.833333</td>\n",
       "      <td>0.860215</td>\n",
       "    </tr>\n",
       "    <tr>\n",
       "      <th>0.007</th>\n",
       "      <td>0.736486</td>\n",
       "      <td>0.751553</td>\n",
       "      <td>0.778409</td>\n",
       "      <td>0.804020</td>\n",
       "    </tr>\n",
       "    <tr>\n",
       "      <th>0.008</th>\n",
       "      <td>0.708661</td>\n",
       "      <td>0.727941</td>\n",
       "      <td>0.755245</td>\n",
       "      <td>0.779874</td>\n",
       "    </tr>\n",
       "    <tr>\n",
       "      <th>0.009</th>\n",
       "      <td>0.711712</td>\n",
       "      <td>0.731092</td>\n",
       "      <td>0.741935</td>\n",
       "      <td>0.773723</td>\n",
       "    </tr>\n",
       "    <tr>\n",
       "      <th>0.010</th>\n",
       "      <td>0.686275</td>\n",
       "      <td>0.695238</td>\n",
       "      <td>0.706422</td>\n",
       "      <td>0.730435</td>\n",
       "    </tr>\n",
       "    <tr>\n",
       "      <th>0.011</th>\n",
       "      <td>0.670455</td>\n",
       "      <td>0.677778</td>\n",
       "      <td>0.680851</td>\n",
       "      <td>0.696970</td>\n",
       "    </tr>\n",
       "    <tr>\n",
       "      <th>0.012</th>\n",
       "      <td>0.662338</td>\n",
       "      <td>0.670886</td>\n",
       "      <td>0.682927</td>\n",
       "      <td>0.697674</td>\n",
       "    </tr>\n",
       "    <tr>\n",
       "      <th>0.013</th>\n",
       "      <td>0.671429</td>\n",
       "      <td>0.676056</td>\n",
       "      <td>0.702703</td>\n",
       "      <td>0.714286</td>\n",
       "    </tr>\n",
       "    <tr>\n",
       "      <th>0.014</th>\n",
       "      <td>0.661290</td>\n",
       "      <td>0.666667</td>\n",
       "      <td>0.712121</td>\n",
       "      <td>0.724638</td>\n",
       "    </tr>\n",
       "    <tr>\n",
       "      <th>0.015</th>\n",
       "      <td>0.684211</td>\n",
       "      <td>0.684211</td>\n",
       "      <td>0.711864</td>\n",
       "      <td>0.725806</td>\n",
       "    </tr>\n",
       "  </tbody>\n",
       "</table>\n",
       "</div>"
      ],
      "text/plain": [
       "          0.000     0.001     0.002     0.003\n",
       "0.005  0.818584  0.839216  0.868167  0.886243\n",
       "0.006  0.793651  0.806763  0.833333  0.860215\n",
       "0.007  0.736486  0.751553  0.778409  0.804020\n",
       "0.008  0.708661  0.727941  0.755245  0.779874\n",
       "0.009  0.711712  0.731092  0.741935  0.773723\n",
       "0.010  0.686275  0.695238  0.706422  0.730435\n",
       "0.011  0.670455  0.677778  0.680851  0.696970\n",
       "0.012  0.662338  0.670886  0.682927  0.697674\n",
       "0.013  0.671429  0.676056  0.702703  0.714286\n",
       "0.014  0.661290  0.666667  0.712121  0.724638\n",
       "0.015  0.684211  0.684211  0.711864  0.725806"
      ]
     },
     "execution_count": 16,
     "metadata": {},
     "output_type": "execute_result"
    }
   ],
   "source": [
    "df_win_rate = pd.DataFrame([])\n",
    "for index,row in df_grid_search_res.iterrows():\n",
    "    open_threshold = row['open threshold']\n",
    "    close_threshold = row['close threshold']\n",
    "    df_win_rate.loc[open_threshold,close_threshold] = row['win rate']\n",
    "print('max win rate: \\n',df_win_rate.max())\n",
    "print('min win rate: \\n',df_win_rate.min())    \n",
    "df_win_rate"
   ]
  },
  {
   "cell_type": "code",
   "execution_count": 17,
   "metadata": {},
   "outputs": [
    {
     "data": {
      "application/vnd.plotly.v1+json": {
       "config": {
        "plotlyServerURL": "https://plot.ly"
       },
       "data": [
        {
         "type": "surface",
         "x": [
          0,
          0.001,
          0.002,
          0.003
         ],
         "y": [
          0.005,
          0.006,
          0.007,
          0.008,
          0.009,
          0.01,
          0.011,
          0.012,
          0.013,
          0.014,
          0.015
         ],
         "z": [
          [
           0.8185840707964602,
           0.8392156862745098,
           0.8681672025723473,
           0.8862433862433863
          ],
          [
           0.7936507936507936,
           0.8067632850241546,
           0.8333333333333334,
           0.8602150537634409
          ],
          [
           0.7364864864864865,
           0.7515527950310559,
           0.7784090909090909,
           0.8040201005025126
          ],
          [
           0.7086614173228346,
           0.7279411764705882,
           0.7552447552447552,
           0.779874213836478
          ],
          [
           0.7117117117117117,
           0.7310924369747899,
           0.7419354838709677,
           0.7737226277372263
          ],
          [
           0.6862745098039216,
           0.6952380952380952,
           0.7064220183486238,
           0.7304347826086957
          ],
          [
           0.6704545454545454,
           0.6777777777777778,
           0.6808510638297872,
           0.696969696969697
          ],
          [
           0.6623376623376623,
           0.6708860759493671,
           0.6829268292682927,
           0.6976744186046512
          ],
          [
           0.6714285714285714,
           0.676056338028169,
           0.7027027027027027,
           0.7142857142857143
          ],
          [
           0.6612903225806451,
           0.6666666666666666,
           0.7121212121212122,
           0.7246376811594203
          ],
          [
           0.6842105263157895,
           0.6842105263157895,
           0.711864406779661,
           0.7258064516129032
          ]
         ]
        }
       ],
       "layout": {
        "autosize": false,
        "height": 600,
        "margin": {
         "b": 65,
         "l": 65,
         "r": 50,
         "t": 90
        },
        "scene": {
         "xaxis": {
          "title": {
           "text": "X-close-threshold"
          }
         },
         "yaxis": {
          "title": {
           "text": "Y-open-threshold"
          }
         }
        },
        "template": {
         "data": {
          "bar": [
           {
            "error_x": {
             "color": "#2a3f5f"
            },
            "error_y": {
             "color": "#2a3f5f"
            },
            "marker": {
             "line": {
              "color": "#E5ECF6",
              "width": 0.5
             },
             "pattern": {
              "fillmode": "overlay",
              "size": 10,
              "solidity": 0.2
             }
            },
            "type": "bar"
           }
          ],
          "barpolar": [
           {
            "marker": {
             "line": {
              "color": "#E5ECF6",
              "width": 0.5
             },
             "pattern": {
              "fillmode": "overlay",
              "size": 10,
              "solidity": 0.2
             }
            },
            "type": "barpolar"
           }
          ],
          "carpet": [
           {
            "aaxis": {
             "endlinecolor": "#2a3f5f",
             "gridcolor": "white",
             "linecolor": "white",
             "minorgridcolor": "white",
             "startlinecolor": "#2a3f5f"
            },
            "baxis": {
             "endlinecolor": "#2a3f5f",
             "gridcolor": "white",
             "linecolor": "white",
             "minorgridcolor": "white",
             "startlinecolor": "#2a3f5f"
            },
            "type": "carpet"
           }
          ],
          "choropleth": [
           {
            "colorbar": {
             "outlinewidth": 0,
             "ticks": ""
            },
            "type": "choropleth"
           }
          ],
          "contour": [
           {
            "colorbar": {
             "outlinewidth": 0,
             "ticks": ""
            },
            "colorscale": [
             [
              0,
              "#0d0887"
             ],
             [
              0.1111111111111111,
              "#46039f"
             ],
             [
              0.2222222222222222,
              "#7201a8"
             ],
             [
              0.3333333333333333,
              "#9c179e"
             ],
             [
              0.4444444444444444,
              "#bd3786"
             ],
             [
              0.5555555555555556,
              "#d8576b"
             ],
             [
              0.6666666666666666,
              "#ed7953"
             ],
             [
              0.7777777777777778,
              "#fb9f3a"
             ],
             [
              0.8888888888888888,
              "#fdca26"
             ],
             [
              1,
              "#f0f921"
             ]
            ],
            "type": "contour"
           }
          ],
          "contourcarpet": [
           {
            "colorbar": {
             "outlinewidth": 0,
             "ticks": ""
            },
            "type": "contourcarpet"
           }
          ],
          "heatmap": [
           {
            "colorbar": {
             "outlinewidth": 0,
             "ticks": ""
            },
            "colorscale": [
             [
              0,
              "#0d0887"
             ],
             [
              0.1111111111111111,
              "#46039f"
             ],
             [
              0.2222222222222222,
              "#7201a8"
             ],
             [
              0.3333333333333333,
              "#9c179e"
             ],
             [
              0.4444444444444444,
              "#bd3786"
             ],
             [
              0.5555555555555556,
              "#d8576b"
             ],
             [
              0.6666666666666666,
              "#ed7953"
             ],
             [
              0.7777777777777778,
              "#fb9f3a"
             ],
             [
              0.8888888888888888,
              "#fdca26"
             ],
             [
              1,
              "#f0f921"
             ]
            ],
            "type": "heatmap"
           }
          ],
          "heatmapgl": [
           {
            "colorbar": {
             "outlinewidth": 0,
             "ticks": ""
            },
            "colorscale": [
             [
              0,
              "#0d0887"
             ],
             [
              0.1111111111111111,
              "#46039f"
             ],
             [
              0.2222222222222222,
              "#7201a8"
             ],
             [
              0.3333333333333333,
              "#9c179e"
             ],
             [
              0.4444444444444444,
              "#bd3786"
             ],
             [
              0.5555555555555556,
              "#d8576b"
             ],
             [
              0.6666666666666666,
              "#ed7953"
             ],
             [
              0.7777777777777778,
              "#fb9f3a"
             ],
             [
              0.8888888888888888,
              "#fdca26"
             ],
             [
              1,
              "#f0f921"
             ]
            ],
            "type": "heatmapgl"
           }
          ],
          "histogram": [
           {
            "marker": {
             "pattern": {
              "fillmode": "overlay",
              "size": 10,
              "solidity": 0.2
             }
            },
            "type": "histogram"
           }
          ],
          "histogram2d": [
           {
            "colorbar": {
             "outlinewidth": 0,
             "ticks": ""
            },
            "colorscale": [
             [
              0,
              "#0d0887"
             ],
             [
              0.1111111111111111,
              "#46039f"
             ],
             [
              0.2222222222222222,
              "#7201a8"
             ],
             [
              0.3333333333333333,
              "#9c179e"
             ],
             [
              0.4444444444444444,
              "#bd3786"
             ],
             [
              0.5555555555555556,
              "#d8576b"
             ],
             [
              0.6666666666666666,
              "#ed7953"
             ],
             [
              0.7777777777777778,
              "#fb9f3a"
             ],
             [
              0.8888888888888888,
              "#fdca26"
             ],
             [
              1,
              "#f0f921"
             ]
            ],
            "type": "histogram2d"
           }
          ],
          "histogram2dcontour": [
           {
            "colorbar": {
             "outlinewidth": 0,
             "ticks": ""
            },
            "colorscale": [
             [
              0,
              "#0d0887"
             ],
             [
              0.1111111111111111,
              "#46039f"
             ],
             [
              0.2222222222222222,
              "#7201a8"
             ],
             [
              0.3333333333333333,
              "#9c179e"
             ],
             [
              0.4444444444444444,
              "#bd3786"
             ],
             [
              0.5555555555555556,
              "#d8576b"
             ],
             [
              0.6666666666666666,
              "#ed7953"
             ],
             [
              0.7777777777777778,
              "#fb9f3a"
             ],
             [
              0.8888888888888888,
              "#fdca26"
             ],
             [
              1,
              "#f0f921"
             ]
            ],
            "type": "histogram2dcontour"
           }
          ],
          "mesh3d": [
           {
            "colorbar": {
             "outlinewidth": 0,
             "ticks": ""
            },
            "type": "mesh3d"
           }
          ],
          "parcoords": [
           {
            "line": {
             "colorbar": {
              "outlinewidth": 0,
              "ticks": ""
             }
            },
            "type": "parcoords"
           }
          ],
          "pie": [
           {
            "automargin": true,
            "type": "pie"
           }
          ],
          "scatter": [
           {
            "fillpattern": {
             "fillmode": "overlay",
             "size": 10,
             "solidity": 0.2
            },
            "type": "scatter"
           }
          ],
          "scatter3d": [
           {
            "line": {
             "colorbar": {
              "outlinewidth": 0,
              "ticks": ""
             }
            },
            "marker": {
             "colorbar": {
              "outlinewidth": 0,
              "ticks": ""
             }
            },
            "type": "scatter3d"
           }
          ],
          "scattercarpet": [
           {
            "marker": {
             "colorbar": {
              "outlinewidth": 0,
              "ticks": ""
             }
            },
            "type": "scattercarpet"
           }
          ],
          "scattergeo": [
           {
            "marker": {
             "colorbar": {
              "outlinewidth": 0,
              "ticks": ""
             }
            },
            "type": "scattergeo"
           }
          ],
          "scattergl": [
           {
            "marker": {
             "colorbar": {
              "outlinewidth": 0,
              "ticks": ""
             }
            },
            "type": "scattergl"
           }
          ],
          "scattermapbox": [
           {
            "marker": {
             "colorbar": {
              "outlinewidth": 0,
              "ticks": ""
             }
            },
            "type": "scattermapbox"
           }
          ],
          "scatterpolar": [
           {
            "marker": {
             "colorbar": {
              "outlinewidth": 0,
              "ticks": ""
             }
            },
            "type": "scatterpolar"
           }
          ],
          "scatterpolargl": [
           {
            "marker": {
             "colorbar": {
              "outlinewidth": 0,
              "ticks": ""
             }
            },
            "type": "scatterpolargl"
           }
          ],
          "scatterternary": [
           {
            "marker": {
             "colorbar": {
              "outlinewidth": 0,
              "ticks": ""
             }
            },
            "type": "scatterternary"
           }
          ],
          "surface": [
           {
            "colorbar": {
             "outlinewidth": 0,
             "ticks": ""
            },
            "colorscale": [
             [
              0,
              "#0d0887"
             ],
             [
              0.1111111111111111,
              "#46039f"
             ],
             [
              0.2222222222222222,
              "#7201a8"
             ],
             [
              0.3333333333333333,
              "#9c179e"
             ],
             [
              0.4444444444444444,
              "#bd3786"
             ],
             [
              0.5555555555555556,
              "#d8576b"
             ],
             [
              0.6666666666666666,
              "#ed7953"
             ],
             [
              0.7777777777777778,
              "#fb9f3a"
             ],
             [
              0.8888888888888888,
              "#fdca26"
             ],
             [
              1,
              "#f0f921"
             ]
            ],
            "type": "surface"
           }
          ],
          "table": [
           {
            "cells": {
             "fill": {
              "color": "#EBF0F8"
             },
             "line": {
              "color": "white"
             }
            },
            "header": {
             "fill": {
              "color": "#C8D4E3"
             },
             "line": {
              "color": "white"
             }
            },
            "type": "table"
           }
          ]
         },
         "layout": {
          "annotationdefaults": {
           "arrowcolor": "#2a3f5f",
           "arrowhead": 0,
           "arrowwidth": 1
          },
          "autotypenumbers": "strict",
          "coloraxis": {
           "colorbar": {
            "outlinewidth": 0,
            "ticks": ""
           }
          },
          "colorscale": {
           "diverging": [
            [
             0,
             "#8e0152"
            ],
            [
             0.1,
             "#c51b7d"
            ],
            [
             0.2,
             "#de77ae"
            ],
            [
             0.3,
             "#f1b6da"
            ],
            [
             0.4,
             "#fde0ef"
            ],
            [
             0.5,
             "#f7f7f7"
            ],
            [
             0.6,
             "#e6f5d0"
            ],
            [
             0.7,
             "#b8e186"
            ],
            [
             0.8,
             "#7fbc41"
            ],
            [
             0.9,
             "#4d9221"
            ],
            [
             1,
             "#276419"
            ]
           ],
           "sequential": [
            [
             0,
             "#0d0887"
            ],
            [
             0.1111111111111111,
             "#46039f"
            ],
            [
             0.2222222222222222,
             "#7201a8"
            ],
            [
             0.3333333333333333,
             "#9c179e"
            ],
            [
             0.4444444444444444,
             "#bd3786"
            ],
            [
             0.5555555555555556,
             "#d8576b"
            ],
            [
             0.6666666666666666,
             "#ed7953"
            ],
            [
             0.7777777777777778,
             "#fb9f3a"
            ],
            [
             0.8888888888888888,
             "#fdca26"
            ],
            [
             1,
             "#f0f921"
            ]
           ],
           "sequentialminus": [
            [
             0,
             "#0d0887"
            ],
            [
             0.1111111111111111,
             "#46039f"
            ],
            [
             0.2222222222222222,
             "#7201a8"
            ],
            [
             0.3333333333333333,
             "#9c179e"
            ],
            [
             0.4444444444444444,
             "#bd3786"
            ],
            [
             0.5555555555555556,
             "#d8576b"
            ],
            [
             0.6666666666666666,
             "#ed7953"
            ],
            [
             0.7777777777777778,
             "#fb9f3a"
            ],
            [
             0.8888888888888888,
             "#fdca26"
            ],
            [
             1,
             "#f0f921"
            ]
           ]
          },
          "colorway": [
           "#636efa",
           "#EF553B",
           "#00cc96",
           "#ab63fa",
           "#FFA15A",
           "#19d3f3",
           "#FF6692",
           "#B6E880",
           "#FF97FF",
           "#FECB52"
          ],
          "font": {
           "color": "#2a3f5f"
          },
          "geo": {
           "bgcolor": "white",
           "lakecolor": "white",
           "landcolor": "#E5ECF6",
           "showlakes": true,
           "showland": true,
           "subunitcolor": "white"
          },
          "hoverlabel": {
           "align": "left"
          },
          "hovermode": "closest",
          "mapbox": {
           "style": "light"
          },
          "paper_bgcolor": "white",
          "plot_bgcolor": "#E5ECF6",
          "polar": {
           "angularaxis": {
            "gridcolor": "white",
            "linecolor": "white",
            "ticks": ""
           },
           "bgcolor": "#E5ECF6",
           "radialaxis": {
            "gridcolor": "white",
            "linecolor": "white",
            "ticks": ""
           }
          },
          "scene": {
           "xaxis": {
            "backgroundcolor": "#E5ECF6",
            "gridcolor": "white",
            "gridwidth": 2,
            "linecolor": "white",
            "showbackground": true,
            "ticks": "",
            "zerolinecolor": "white"
           },
           "yaxis": {
            "backgroundcolor": "#E5ECF6",
            "gridcolor": "white",
            "gridwidth": 2,
            "linecolor": "white",
            "showbackground": true,
            "ticks": "",
            "zerolinecolor": "white"
           },
           "zaxis": {
            "backgroundcolor": "#E5ECF6",
            "gridcolor": "white",
            "gridwidth": 2,
            "linecolor": "white",
            "showbackground": true,
            "ticks": "",
            "zerolinecolor": "white"
           }
          },
          "shapedefaults": {
           "line": {
            "color": "#2a3f5f"
           }
          },
          "ternary": {
           "aaxis": {
            "gridcolor": "white",
            "linecolor": "white",
            "ticks": ""
           },
           "baxis": {
            "gridcolor": "white",
            "linecolor": "white",
            "ticks": ""
           },
           "bgcolor": "#E5ECF6",
           "caxis": {
            "gridcolor": "white",
            "linecolor": "white",
            "ticks": ""
           }
          },
          "title": {
           "x": 0.05
          },
          "xaxis": {
           "automargin": true,
           "gridcolor": "white",
           "linecolor": "white",
           "ticks": "",
           "title": {
            "standoff": 15
           },
           "zerolinecolor": "white",
           "zerolinewidth": 2
          },
          "yaxis": {
           "automargin": true,
           "gridcolor": "white",
           "linecolor": "white",
           "ticks": "",
           "title": {
            "standoff": 15
           },
           "zerolinecolor": "white",
           "zerolinewidth": 2
          }
         }
        },
        "title": {
         "text": "win rate"
        },
        "width": 700
       }
      }
     },
     "metadata": {},
     "output_type": "display_data"
    }
   ],
   "source": [
    "import plotly.graph_objects as go\n",
    "\n",
    "x_data = df_win_rate.columns.to_list() # close threshold\n",
    "\n",
    "y_data = df_win_rate.index.to_list() # open threshold\n",
    "\n",
    "z_data = df_win_rate.copy(deep=True) # win rate\n",
    "\n",
    "fig = go.Figure(data=[go.Surface(z=z_data.values,x=x_data,y=y_data)])\n",
    "\n",
    "fig.update_layout(title=\"win rate\", # 标题\n",
    "                  autosize=False,  # 尺度自动缩放\n",
    "                  width=700,  # 长宽\n",
    "                  height=600,\n",
    "                  margin=dict(l=65,r=50,b=65,t=90),  # 4个位置的距离\n",
    "                  scene=dict(xaxis_title='X-close-threshold',yaxis_title='Y-open-threshold')\n",
    "                 )\n",
    "\n",
    "fig.show()"
   ]
  },
  {
   "cell_type": "markdown",
   "metadata": {},
   "source": [
    "# total round surface"
   ]
  },
  {
   "cell_type": "code",
   "execution_count": 18,
   "metadata": {},
   "outputs": [
    {
     "name": "stdout",
     "output_type": "stream",
     "text": [
      "max total round: \n",
      " 0.000    226.0\n",
      "0.001    255.0\n",
      "0.002    311.0\n",
      "0.003    378.0\n",
      "dtype: float64\n",
      "min total round: \n",
      " 0.000    57.0\n",
      "0.001    57.0\n",
      "0.002    59.0\n",
      "0.003    62.0\n",
      "dtype: float64\n"
     ]
    },
    {
     "data": {
      "text/html": [
       "<div>\n",
       "<style scoped>\n",
       "    .dataframe tbody tr th:only-of-type {\n",
       "        vertical-align: middle;\n",
       "    }\n",
       "\n",
       "    .dataframe tbody tr th {\n",
       "        vertical-align: top;\n",
       "    }\n",
       "\n",
       "    .dataframe thead th {\n",
       "        text-align: right;\n",
       "    }\n",
       "</style>\n",
       "<table border=\"1\" class=\"dataframe\">\n",
       "  <thead>\n",
       "    <tr style=\"text-align: right;\">\n",
       "      <th></th>\n",
       "      <th>0.000</th>\n",
       "      <th>0.001</th>\n",
       "      <th>0.002</th>\n",
       "      <th>0.003</th>\n",
       "    </tr>\n",
       "  </thead>\n",
       "  <tbody>\n",
       "    <tr>\n",
       "      <th>0.005</th>\n",
       "      <td>226.0</td>\n",
       "      <td>255.0</td>\n",
       "      <td>311.0</td>\n",
       "      <td>378.0</td>\n",
       "    </tr>\n",
       "    <tr>\n",
       "      <th>0.006</th>\n",
       "      <td>189.0</td>\n",
       "      <td>207.0</td>\n",
       "      <td>240.0</td>\n",
       "      <td>279.0</td>\n",
       "    </tr>\n",
       "    <tr>\n",
       "      <th>0.007</th>\n",
       "      <td>148.0</td>\n",
       "      <td>161.0</td>\n",
       "      <td>176.0</td>\n",
       "      <td>199.0</td>\n",
       "    </tr>\n",
       "    <tr>\n",
       "      <th>0.008</th>\n",
       "      <td>127.0</td>\n",
       "      <td>136.0</td>\n",
       "      <td>143.0</td>\n",
       "      <td>159.0</td>\n",
       "    </tr>\n",
       "    <tr>\n",
       "      <th>0.009</th>\n",
       "      <td>111.0</td>\n",
       "      <td>119.0</td>\n",
       "      <td>124.0</td>\n",
       "      <td>137.0</td>\n",
       "    </tr>\n",
       "    <tr>\n",
       "      <th>0.010</th>\n",
       "      <td>102.0</td>\n",
       "      <td>105.0</td>\n",
       "      <td>109.0</td>\n",
       "      <td>115.0</td>\n",
       "    </tr>\n",
       "    <tr>\n",
       "      <th>0.011</th>\n",
       "      <td>88.0</td>\n",
       "      <td>90.0</td>\n",
       "      <td>94.0</td>\n",
       "      <td>99.0</td>\n",
       "    </tr>\n",
       "    <tr>\n",
       "      <th>0.012</th>\n",
       "      <td>77.0</td>\n",
       "      <td>79.0</td>\n",
       "      <td>82.0</td>\n",
       "      <td>86.0</td>\n",
       "    </tr>\n",
       "    <tr>\n",
       "      <th>0.013</th>\n",
       "      <td>70.0</td>\n",
       "      <td>71.0</td>\n",
       "      <td>74.0</td>\n",
       "      <td>77.0</td>\n",
       "    </tr>\n",
       "    <tr>\n",
       "      <th>0.014</th>\n",
       "      <td>62.0</td>\n",
       "      <td>63.0</td>\n",
       "      <td>66.0</td>\n",
       "      <td>69.0</td>\n",
       "    </tr>\n",
       "    <tr>\n",
       "      <th>0.015</th>\n",
       "      <td>57.0</td>\n",
       "      <td>57.0</td>\n",
       "      <td>59.0</td>\n",
       "      <td>62.0</td>\n",
       "    </tr>\n",
       "  </tbody>\n",
       "</table>\n",
       "</div>"
      ],
      "text/plain": [
       "       0.000  0.001  0.002  0.003\n",
       "0.005  226.0  255.0  311.0  378.0\n",
       "0.006  189.0  207.0  240.0  279.0\n",
       "0.007  148.0  161.0  176.0  199.0\n",
       "0.008  127.0  136.0  143.0  159.0\n",
       "0.009  111.0  119.0  124.0  137.0\n",
       "0.010  102.0  105.0  109.0  115.0\n",
       "0.011   88.0   90.0   94.0   99.0\n",
       "0.012   77.0   79.0   82.0   86.0\n",
       "0.013   70.0   71.0   74.0   77.0\n",
       "0.014   62.0   63.0   66.0   69.0\n",
       "0.015   57.0   57.0   59.0   62.0"
      ]
     },
     "execution_count": 18,
     "metadata": {},
     "output_type": "execute_result"
    }
   ],
   "source": [
    "df_total_round = pd.DataFrame([])\n",
    "for index,row in df_grid_search_res.iterrows():\n",
    "    open_threshold = row['open threshold']\n",
    "    close_threshold = row['close threshold']\n",
    "    df_total_round.loc[open_threshold,close_threshold] = row['total round']\n",
    "print('max total round: \\n',df_total_round.max())\n",
    "print('min total round: \\n',df_total_round.min())    \n",
    "df_total_round"
   ]
  },
  {
   "cell_type": "code",
   "execution_count": 19,
   "metadata": {},
   "outputs": [
    {
     "data": {
      "application/vnd.plotly.v1+json": {
       "config": {
        "plotlyServerURL": "https://plot.ly"
       },
       "data": [
        {
         "type": "surface",
         "x": [
          0,
          0.001,
          0.002,
          0.003
         ],
         "y": [
          0.005,
          0.006,
          0.007,
          0.008,
          0.009,
          0.01,
          0.011,
          0.012,
          0.013,
          0.014,
          0.015
         ],
         "z": [
          [
           226,
           255,
           311,
           378
          ],
          [
           189,
           207,
           240,
           279
          ],
          [
           148,
           161,
           176,
           199
          ],
          [
           127,
           136,
           143,
           159
          ],
          [
           111,
           119,
           124,
           137
          ],
          [
           102,
           105,
           109,
           115
          ],
          [
           88,
           90,
           94,
           99
          ],
          [
           77,
           79,
           82,
           86
          ],
          [
           70,
           71,
           74,
           77
          ],
          [
           62,
           63,
           66,
           69
          ],
          [
           57,
           57,
           59,
           62
          ]
         ]
        }
       ],
       "layout": {
        "autosize": false,
        "height": 600,
        "margin": {
         "b": 65,
         "l": 65,
         "r": 50,
         "t": 90
        },
        "scene": {
         "xaxis": {
          "title": {
           "text": "X-close-threshold"
          }
         },
         "yaxis": {
          "title": {
           "text": "Y-open-threshold"
          }
         }
        },
        "template": {
         "data": {
          "bar": [
           {
            "error_x": {
             "color": "#2a3f5f"
            },
            "error_y": {
             "color": "#2a3f5f"
            },
            "marker": {
             "line": {
              "color": "#E5ECF6",
              "width": 0.5
             },
             "pattern": {
              "fillmode": "overlay",
              "size": 10,
              "solidity": 0.2
             }
            },
            "type": "bar"
           }
          ],
          "barpolar": [
           {
            "marker": {
             "line": {
              "color": "#E5ECF6",
              "width": 0.5
             },
             "pattern": {
              "fillmode": "overlay",
              "size": 10,
              "solidity": 0.2
             }
            },
            "type": "barpolar"
           }
          ],
          "carpet": [
           {
            "aaxis": {
             "endlinecolor": "#2a3f5f",
             "gridcolor": "white",
             "linecolor": "white",
             "minorgridcolor": "white",
             "startlinecolor": "#2a3f5f"
            },
            "baxis": {
             "endlinecolor": "#2a3f5f",
             "gridcolor": "white",
             "linecolor": "white",
             "minorgridcolor": "white",
             "startlinecolor": "#2a3f5f"
            },
            "type": "carpet"
           }
          ],
          "choropleth": [
           {
            "colorbar": {
             "outlinewidth": 0,
             "ticks": ""
            },
            "type": "choropleth"
           }
          ],
          "contour": [
           {
            "colorbar": {
             "outlinewidth": 0,
             "ticks": ""
            },
            "colorscale": [
             [
              0,
              "#0d0887"
             ],
             [
              0.1111111111111111,
              "#46039f"
             ],
             [
              0.2222222222222222,
              "#7201a8"
             ],
             [
              0.3333333333333333,
              "#9c179e"
             ],
             [
              0.4444444444444444,
              "#bd3786"
             ],
             [
              0.5555555555555556,
              "#d8576b"
             ],
             [
              0.6666666666666666,
              "#ed7953"
             ],
             [
              0.7777777777777778,
              "#fb9f3a"
             ],
             [
              0.8888888888888888,
              "#fdca26"
             ],
             [
              1,
              "#f0f921"
             ]
            ],
            "type": "contour"
           }
          ],
          "contourcarpet": [
           {
            "colorbar": {
             "outlinewidth": 0,
             "ticks": ""
            },
            "type": "contourcarpet"
           }
          ],
          "heatmap": [
           {
            "colorbar": {
             "outlinewidth": 0,
             "ticks": ""
            },
            "colorscale": [
             [
              0,
              "#0d0887"
             ],
             [
              0.1111111111111111,
              "#46039f"
             ],
             [
              0.2222222222222222,
              "#7201a8"
             ],
             [
              0.3333333333333333,
              "#9c179e"
             ],
             [
              0.4444444444444444,
              "#bd3786"
             ],
             [
              0.5555555555555556,
              "#d8576b"
             ],
             [
              0.6666666666666666,
              "#ed7953"
             ],
             [
              0.7777777777777778,
              "#fb9f3a"
             ],
             [
              0.8888888888888888,
              "#fdca26"
             ],
             [
              1,
              "#f0f921"
             ]
            ],
            "type": "heatmap"
           }
          ],
          "heatmapgl": [
           {
            "colorbar": {
             "outlinewidth": 0,
             "ticks": ""
            },
            "colorscale": [
             [
              0,
              "#0d0887"
             ],
             [
              0.1111111111111111,
              "#46039f"
             ],
             [
              0.2222222222222222,
              "#7201a8"
             ],
             [
              0.3333333333333333,
              "#9c179e"
             ],
             [
              0.4444444444444444,
              "#bd3786"
             ],
             [
              0.5555555555555556,
              "#d8576b"
             ],
             [
              0.6666666666666666,
              "#ed7953"
             ],
             [
              0.7777777777777778,
              "#fb9f3a"
             ],
             [
              0.8888888888888888,
              "#fdca26"
             ],
             [
              1,
              "#f0f921"
             ]
            ],
            "type": "heatmapgl"
           }
          ],
          "histogram": [
           {
            "marker": {
             "pattern": {
              "fillmode": "overlay",
              "size": 10,
              "solidity": 0.2
             }
            },
            "type": "histogram"
           }
          ],
          "histogram2d": [
           {
            "colorbar": {
             "outlinewidth": 0,
             "ticks": ""
            },
            "colorscale": [
             [
              0,
              "#0d0887"
             ],
             [
              0.1111111111111111,
              "#46039f"
             ],
             [
              0.2222222222222222,
              "#7201a8"
             ],
             [
              0.3333333333333333,
              "#9c179e"
             ],
             [
              0.4444444444444444,
              "#bd3786"
             ],
             [
              0.5555555555555556,
              "#d8576b"
             ],
             [
              0.6666666666666666,
              "#ed7953"
             ],
             [
              0.7777777777777778,
              "#fb9f3a"
             ],
             [
              0.8888888888888888,
              "#fdca26"
             ],
             [
              1,
              "#f0f921"
             ]
            ],
            "type": "histogram2d"
           }
          ],
          "histogram2dcontour": [
           {
            "colorbar": {
             "outlinewidth": 0,
             "ticks": ""
            },
            "colorscale": [
             [
              0,
              "#0d0887"
             ],
             [
              0.1111111111111111,
              "#46039f"
             ],
             [
              0.2222222222222222,
              "#7201a8"
             ],
             [
              0.3333333333333333,
              "#9c179e"
             ],
             [
              0.4444444444444444,
              "#bd3786"
             ],
             [
              0.5555555555555556,
              "#d8576b"
             ],
             [
              0.6666666666666666,
              "#ed7953"
             ],
             [
              0.7777777777777778,
              "#fb9f3a"
             ],
             [
              0.8888888888888888,
              "#fdca26"
             ],
             [
              1,
              "#f0f921"
             ]
            ],
            "type": "histogram2dcontour"
           }
          ],
          "mesh3d": [
           {
            "colorbar": {
             "outlinewidth": 0,
             "ticks": ""
            },
            "type": "mesh3d"
           }
          ],
          "parcoords": [
           {
            "line": {
             "colorbar": {
              "outlinewidth": 0,
              "ticks": ""
             }
            },
            "type": "parcoords"
           }
          ],
          "pie": [
           {
            "automargin": true,
            "type": "pie"
           }
          ],
          "scatter": [
           {
            "fillpattern": {
             "fillmode": "overlay",
             "size": 10,
             "solidity": 0.2
            },
            "type": "scatter"
           }
          ],
          "scatter3d": [
           {
            "line": {
             "colorbar": {
              "outlinewidth": 0,
              "ticks": ""
             }
            },
            "marker": {
             "colorbar": {
              "outlinewidth": 0,
              "ticks": ""
             }
            },
            "type": "scatter3d"
           }
          ],
          "scattercarpet": [
           {
            "marker": {
             "colorbar": {
              "outlinewidth": 0,
              "ticks": ""
             }
            },
            "type": "scattercarpet"
           }
          ],
          "scattergeo": [
           {
            "marker": {
             "colorbar": {
              "outlinewidth": 0,
              "ticks": ""
             }
            },
            "type": "scattergeo"
           }
          ],
          "scattergl": [
           {
            "marker": {
             "colorbar": {
              "outlinewidth": 0,
              "ticks": ""
             }
            },
            "type": "scattergl"
           }
          ],
          "scattermapbox": [
           {
            "marker": {
             "colorbar": {
              "outlinewidth": 0,
              "ticks": ""
             }
            },
            "type": "scattermapbox"
           }
          ],
          "scatterpolar": [
           {
            "marker": {
             "colorbar": {
              "outlinewidth": 0,
              "ticks": ""
             }
            },
            "type": "scatterpolar"
           }
          ],
          "scatterpolargl": [
           {
            "marker": {
             "colorbar": {
              "outlinewidth": 0,
              "ticks": ""
             }
            },
            "type": "scatterpolargl"
           }
          ],
          "scatterternary": [
           {
            "marker": {
             "colorbar": {
              "outlinewidth": 0,
              "ticks": ""
             }
            },
            "type": "scatterternary"
           }
          ],
          "surface": [
           {
            "colorbar": {
             "outlinewidth": 0,
             "ticks": ""
            },
            "colorscale": [
             [
              0,
              "#0d0887"
             ],
             [
              0.1111111111111111,
              "#46039f"
             ],
             [
              0.2222222222222222,
              "#7201a8"
             ],
             [
              0.3333333333333333,
              "#9c179e"
             ],
             [
              0.4444444444444444,
              "#bd3786"
             ],
             [
              0.5555555555555556,
              "#d8576b"
             ],
             [
              0.6666666666666666,
              "#ed7953"
             ],
             [
              0.7777777777777778,
              "#fb9f3a"
             ],
             [
              0.8888888888888888,
              "#fdca26"
             ],
             [
              1,
              "#f0f921"
             ]
            ],
            "type": "surface"
           }
          ],
          "table": [
           {
            "cells": {
             "fill": {
              "color": "#EBF0F8"
             },
             "line": {
              "color": "white"
             }
            },
            "header": {
             "fill": {
              "color": "#C8D4E3"
             },
             "line": {
              "color": "white"
             }
            },
            "type": "table"
           }
          ]
         },
         "layout": {
          "annotationdefaults": {
           "arrowcolor": "#2a3f5f",
           "arrowhead": 0,
           "arrowwidth": 1
          },
          "autotypenumbers": "strict",
          "coloraxis": {
           "colorbar": {
            "outlinewidth": 0,
            "ticks": ""
           }
          },
          "colorscale": {
           "diverging": [
            [
             0,
             "#8e0152"
            ],
            [
             0.1,
             "#c51b7d"
            ],
            [
             0.2,
             "#de77ae"
            ],
            [
             0.3,
             "#f1b6da"
            ],
            [
             0.4,
             "#fde0ef"
            ],
            [
             0.5,
             "#f7f7f7"
            ],
            [
             0.6,
             "#e6f5d0"
            ],
            [
             0.7,
             "#b8e186"
            ],
            [
             0.8,
             "#7fbc41"
            ],
            [
             0.9,
             "#4d9221"
            ],
            [
             1,
             "#276419"
            ]
           ],
           "sequential": [
            [
             0,
             "#0d0887"
            ],
            [
             0.1111111111111111,
             "#46039f"
            ],
            [
             0.2222222222222222,
             "#7201a8"
            ],
            [
             0.3333333333333333,
             "#9c179e"
            ],
            [
             0.4444444444444444,
             "#bd3786"
            ],
            [
             0.5555555555555556,
             "#d8576b"
            ],
            [
             0.6666666666666666,
             "#ed7953"
            ],
            [
             0.7777777777777778,
             "#fb9f3a"
            ],
            [
             0.8888888888888888,
             "#fdca26"
            ],
            [
             1,
             "#f0f921"
            ]
           ],
           "sequentialminus": [
            [
             0,
             "#0d0887"
            ],
            [
             0.1111111111111111,
             "#46039f"
            ],
            [
             0.2222222222222222,
             "#7201a8"
            ],
            [
             0.3333333333333333,
             "#9c179e"
            ],
            [
             0.4444444444444444,
             "#bd3786"
            ],
            [
             0.5555555555555556,
             "#d8576b"
            ],
            [
             0.6666666666666666,
             "#ed7953"
            ],
            [
             0.7777777777777778,
             "#fb9f3a"
            ],
            [
             0.8888888888888888,
             "#fdca26"
            ],
            [
             1,
             "#f0f921"
            ]
           ]
          },
          "colorway": [
           "#636efa",
           "#EF553B",
           "#00cc96",
           "#ab63fa",
           "#FFA15A",
           "#19d3f3",
           "#FF6692",
           "#B6E880",
           "#FF97FF",
           "#FECB52"
          ],
          "font": {
           "color": "#2a3f5f"
          },
          "geo": {
           "bgcolor": "white",
           "lakecolor": "white",
           "landcolor": "#E5ECF6",
           "showlakes": true,
           "showland": true,
           "subunitcolor": "white"
          },
          "hoverlabel": {
           "align": "left"
          },
          "hovermode": "closest",
          "mapbox": {
           "style": "light"
          },
          "paper_bgcolor": "white",
          "plot_bgcolor": "#E5ECF6",
          "polar": {
           "angularaxis": {
            "gridcolor": "white",
            "linecolor": "white",
            "ticks": ""
           },
           "bgcolor": "#E5ECF6",
           "radialaxis": {
            "gridcolor": "white",
            "linecolor": "white",
            "ticks": ""
           }
          },
          "scene": {
           "xaxis": {
            "backgroundcolor": "#E5ECF6",
            "gridcolor": "white",
            "gridwidth": 2,
            "linecolor": "white",
            "showbackground": true,
            "ticks": "",
            "zerolinecolor": "white"
           },
           "yaxis": {
            "backgroundcolor": "#E5ECF6",
            "gridcolor": "white",
            "gridwidth": 2,
            "linecolor": "white",
            "showbackground": true,
            "ticks": "",
            "zerolinecolor": "white"
           },
           "zaxis": {
            "backgroundcolor": "#E5ECF6",
            "gridcolor": "white",
            "gridwidth": 2,
            "linecolor": "white",
            "showbackground": true,
            "ticks": "",
            "zerolinecolor": "white"
           }
          },
          "shapedefaults": {
           "line": {
            "color": "#2a3f5f"
           }
          },
          "ternary": {
           "aaxis": {
            "gridcolor": "white",
            "linecolor": "white",
            "ticks": ""
           },
           "baxis": {
            "gridcolor": "white",
            "linecolor": "white",
            "ticks": ""
           },
           "bgcolor": "#E5ECF6",
           "caxis": {
            "gridcolor": "white",
            "linecolor": "white",
            "ticks": ""
           }
          },
          "title": {
           "x": 0.05
          },
          "xaxis": {
           "automargin": true,
           "gridcolor": "white",
           "linecolor": "white",
           "ticks": "",
           "title": {
            "standoff": 15
           },
           "zerolinecolor": "white",
           "zerolinewidth": 2
          },
          "yaxis": {
           "automargin": true,
           "gridcolor": "white",
           "linecolor": "white",
           "ticks": "",
           "title": {
            "standoff": 15
           },
           "zerolinecolor": "white",
           "zerolinewidth": 2
          }
         }
        },
        "title": {
         "text": "total round"
        },
        "width": 700
       }
      }
     },
     "metadata": {},
     "output_type": "display_data"
    }
   ],
   "source": [
    "import plotly.graph_objects as go\n",
    "\n",
    "x_data = df_total_round.columns.to_list() # close threshold\n",
    "\n",
    "y_data = df_total_round.index.to_list() # open threshold\n",
    "\n",
    "z_data = df_total_round.copy(deep=True) # win rate\n",
    "\n",
    "fig = go.Figure(data=[go.Surface(z=z_data.values,x=x_data,y=y_data)])\n",
    "\n",
    "fig.update_layout(title=\"total round\", # 标题\n",
    "                  autosize=False,  # 尺度自动缩放\n",
    "                  width=700,  # 长宽\n",
    "                  height=600,\n",
    "                  margin=dict(l=65,r=50,b=65,t=90),  # 4个位置的距离\n",
    "                  scene=dict(xaxis_title='X-close-threshold',yaxis_title='Y-open-threshold')\n",
    "                 )\n",
    "\n",
    "fig.show()"
   ]
  },
  {
   "cell_type": "markdown",
   "metadata": {},
   "source": [
    "# win round surface"
   ]
  },
  {
   "cell_type": "code",
   "execution_count": 20,
   "metadata": {},
   "outputs": [
    {
     "name": "stdout",
     "output_type": "stream",
     "text": [
      "max win round: \n",
      " 0.000    185.0\n",
      "0.001    214.0\n",
      "0.002    270.0\n",
      "0.003    335.0\n",
      "dtype: float64\n",
      "min win round: \n",
      " 0.000    39.0\n",
      "0.001    39.0\n",
      "0.002    42.0\n",
      "0.003    45.0\n",
      "dtype: float64\n"
     ]
    },
    {
     "data": {
      "text/html": [
       "<div>\n",
       "<style scoped>\n",
       "    .dataframe tbody tr th:only-of-type {\n",
       "        vertical-align: middle;\n",
       "    }\n",
       "\n",
       "    .dataframe tbody tr th {\n",
       "        vertical-align: top;\n",
       "    }\n",
       "\n",
       "    .dataframe thead th {\n",
       "        text-align: right;\n",
       "    }\n",
       "</style>\n",
       "<table border=\"1\" class=\"dataframe\">\n",
       "  <thead>\n",
       "    <tr style=\"text-align: right;\">\n",
       "      <th></th>\n",
       "      <th>0.000</th>\n",
       "      <th>0.001</th>\n",
       "      <th>0.002</th>\n",
       "      <th>0.003</th>\n",
       "    </tr>\n",
       "  </thead>\n",
       "  <tbody>\n",
       "    <tr>\n",
       "      <th>0.005</th>\n",
       "      <td>185.0</td>\n",
       "      <td>214.0</td>\n",
       "      <td>270.0</td>\n",
       "      <td>335.0</td>\n",
       "    </tr>\n",
       "    <tr>\n",
       "      <th>0.006</th>\n",
       "      <td>150.0</td>\n",
       "      <td>167.0</td>\n",
       "      <td>200.0</td>\n",
       "      <td>240.0</td>\n",
       "    </tr>\n",
       "    <tr>\n",
       "      <th>0.007</th>\n",
       "      <td>109.0</td>\n",
       "      <td>121.0</td>\n",
       "      <td>137.0</td>\n",
       "      <td>160.0</td>\n",
       "    </tr>\n",
       "    <tr>\n",
       "      <th>0.008</th>\n",
       "      <td>90.0</td>\n",
       "      <td>99.0</td>\n",
       "      <td>108.0</td>\n",
       "      <td>124.0</td>\n",
       "    </tr>\n",
       "    <tr>\n",
       "      <th>0.009</th>\n",
       "      <td>79.0</td>\n",
       "      <td>87.0</td>\n",
       "      <td>92.0</td>\n",
       "      <td>106.0</td>\n",
       "    </tr>\n",
       "    <tr>\n",
       "      <th>0.010</th>\n",
       "      <td>70.0</td>\n",
       "      <td>73.0</td>\n",
       "      <td>77.0</td>\n",
       "      <td>84.0</td>\n",
       "    </tr>\n",
       "    <tr>\n",
       "      <th>0.011</th>\n",
       "      <td>59.0</td>\n",
       "      <td>61.0</td>\n",
       "      <td>64.0</td>\n",
       "      <td>69.0</td>\n",
       "    </tr>\n",
       "    <tr>\n",
       "      <th>0.012</th>\n",
       "      <td>51.0</td>\n",
       "      <td>53.0</td>\n",
       "      <td>56.0</td>\n",
       "      <td>60.0</td>\n",
       "    </tr>\n",
       "    <tr>\n",
       "      <th>0.013</th>\n",
       "      <td>47.0</td>\n",
       "      <td>48.0</td>\n",
       "      <td>52.0</td>\n",
       "      <td>55.0</td>\n",
       "    </tr>\n",
       "    <tr>\n",
       "      <th>0.014</th>\n",
       "      <td>41.0</td>\n",
       "      <td>42.0</td>\n",
       "      <td>47.0</td>\n",
       "      <td>50.0</td>\n",
       "    </tr>\n",
       "    <tr>\n",
       "      <th>0.015</th>\n",
       "      <td>39.0</td>\n",
       "      <td>39.0</td>\n",
       "      <td>42.0</td>\n",
       "      <td>45.0</td>\n",
       "    </tr>\n",
       "  </tbody>\n",
       "</table>\n",
       "</div>"
      ],
      "text/plain": [
       "       0.000  0.001  0.002  0.003\n",
       "0.005  185.0  214.0  270.0  335.0\n",
       "0.006  150.0  167.0  200.0  240.0\n",
       "0.007  109.0  121.0  137.0  160.0\n",
       "0.008   90.0   99.0  108.0  124.0\n",
       "0.009   79.0   87.0   92.0  106.0\n",
       "0.010   70.0   73.0   77.0   84.0\n",
       "0.011   59.0   61.0   64.0   69.0\n",
       "0.012   51.0   53.0   56.0   60.0\n",
       "0.013   47.0   48.0   52.0   55.0\n",
       "0.014   41.0   42.0   47.0   50.0\n",
       "0.015   39.0   39.0   42.0   45.0"
      ]
     },
     "execution_count": 20,
     "metadata": {},
     "output_type": "execute_result"
    }
   ],
   "source": [
    "df_win_round = pd.DataFrame([])\n",
    "for index,row in df_grid_search_res.iterrows():\n",
    "    open_threshold = row['open threshold']\n",
    "    close_threshold = row['close threshold']\n",
    "    df_win_round.loc[open_threshold,close_threshold] = row['win']\n",
    "print('max win round: \\n',df_win_round.max())\n",
    "print('min win round: \\n',df_win_round.min())    \n",
    "df_win_round"
   ]
  },
  {
   "cell_type": "code",
   "execution_count": 21,
   "metadata": {},
   "outputs": [
    {
     "data": {
      "application/vnd.plotly.v1+json": {
       "config": {
        "plotlyServerURL": "https://plot.ly"
       },
       "data": [
        {
         "type": "surface",
         "x": [
          0,
          0.001,
          0.002,
          0.003
         ],
         "y": [
          0.005,
          0.006,
          0.007,
          0.008,
          0.009,
          0.01,
          0.011,
          0.012,
          0.013,
          0.014,
          0.015
         ],
         "z": [
          [
           185,
           214,
           270,
           335
          ],
          [
           150,
           167,
           200,
           240
          ],
          [
           109,
           121,
           137,
           160
          ],
          [
           90,
           99,
           108,
           124
          ],
          [
           79,
           87,
           92,
           106
          ],
          [
           70,
           73,
           77,
           84
          ],
          [
           59,
           61,
           64,
           69
          ],
          [
           51,
           53,
           56,
           60
          ],
          [
           47,
           48,
           52,
           55
          ],
          [
           41,
           42,
           47,
           50
          ],
          [
           39,
           39,
           42,
           45
          ]
         ]
        }
       ],
       "layout": {
        "autosize": false,
        "height": 600,
        "margin": {
         "b": 65,
         "l": 65,
         "r": 50,
         "t": 90
        },
        "scene": {
         "xaxis": {
          "title": {
           "text": "X-close-threshold"
          }
         },
         "yaxis": {
          "title": {
           "text": "Y-open-threshold"
          }
         }
        },
        "template": {
         "data": {
          "bar": [
           {
            "error_x": {
             "color": "#2a3f5f"
            },
            "error_y": {
             "color": "#2a3f5f"
            },
            "marker": {
             "line": {
              "color": "#E5ECF6",
              "width": 0.5
             },
             "pattern": {
              "fillmode": "overlay",
              "size": 10,
              "solidity": 0.2
             }
            },
            "type": "bar"
           }
          ],
          "barpolar": [
           {
            "marker": {
             "line": {
              "color": "#E5ECF6",
              "width": 0.5
             },
             "pattern": {
              "fillmode": "overlay",
              "size": 10,
              "solidity": 0.2
             }
            },
            "type": "barpolar"
           }
          ],
          "carpet": [
           {
            "aaxis": {
             "endlinecolor": "#2a3f5f",
             "gridcolor": "white",
             "linecolor": "white",
             "minorgridcolor": "white",
             "startlinecolor": "#2a3f5f"
            },
            "baxis": {
             "endlinecolor": "#2a3f5f",
             "gridcolor": "white",
             "linecolor": "white",
             "minorgridcolor": "white",
             "startlinecolor": "#2a3f5f"
            },
            "type": "carpet"
           }
          ],
          "choropleth": [
           {
            "colorbar": {
             "outlinewidth": 0,
             "ticks": ""
            },
            "type": "choropleth"
           }
          ],
          "contour": [
           {
            "colorbar": {
             "outlinewidth": 0,
             "ticks": ""
            },
            "colorscale": [
             [
              0,
              "#0d0887"
             ],
             [
              0.1111111111111111,
              "#46039f"
             ],
             [
              0.2222222222222222,
              "#7201a8"
             ],
             [
              0.3333333333333333,
              "#9c179e"
             ],
             [
              0.4444444444444444,
              "#bd3786"
             ],
             [
              0.5555555555555556,
              "#d8576b"
             ],
             [
              0.6666666666666666,
              "#ed7953"
             ],
             [
              0.7777777777777778,
              "#fb9f3a"
             ],
             [
              0.8888888888888888,
              "#fdca26"
             ],
             [
              1,
              "#f0f921"
             ]
            ],
            "type": "contour"
           }
          ],
          "contourcarpet": [
           {
            "colorbar": {
             "outlinewidth": 0,
             "ticks": ""
            },
            "type": "contourcarpet"
           }
          ],
          "heatmap": [
           {
            "colorbar": {
             "outlinewidth": 0,
             "ticks": ""
            },
            "colorscale": [
             [
              0,
              "#0d0887"
             ],
             [
              0.1111111111111111,
              "#46039f"
             ],
             [
              0.2222222222222222,
              "#7201a8"
             ],
             [
              0.3333333333333333,
              "#9c179e"
             ],
             [
              0.4444444444444444,
              "#bd3786"
             ],
             [
              0.5555555555555556,
              "#d8576b"
             ],
             [
              0.6666666666666666,
              "#ed7953"
             ],
             [
              0.7777777777777778,
              "#fb9f3a"
             ],
             [
              0.8888888888888888,
              "#fdca26"
             ],
             [
              1,
              "#f0f921"
             ]
            ],
            "type": "heatmap"
           }
          ],
          "heatmapgl": [
           {
            "colorbar": {
             "outlinewidth": 0,
             "ticks": ""
            },
            "colorscale": [
             [
              0,
              "#0d0887"
             ],
             [
              0.1111111111111111,
              "#46039f"
             ],
             [
              0.2222222222222222,
              "#7201a8"
             ],
             [
              0.3333333333333333,
              "#9c179e"
             ],
             [
              0.4444444444444444,
              "#bd3786"
             ],
             [
              0.5555555555555556,
              "#d8576b"
             ],
             [
              0.6666666666666666,
              "#ed7953"
             ],
             [
              0.7777777777777778,
              "#fb9f3a"
             ],
             [
              0.8888888888888888,
              "#fdca26"
             ],
             [
              1,
              "#f0f921"
             ]
            ],
            "type": "heatmapgl"
           }
          ],
          "histogram": [
           {
            "marker": {
             "pattern": {
              "fillmode": "overlay",
              "size": 10,
              "solidity": 0.2
             }
            },
            "type": "histogram"
           }
          ],
          "histogram2d": [
           {
            "colorbar": {
             "outlinewidth": 0,
             "ticks": ""
            },
            "colorscale": [
             [
              0,
              "#0d0887"
             ],
             [
              0.1111111111111111,
              "#46039f"
             ],
             [
              0.2222222222222222,
              "#7201a8"
             ],
             [
              0.3333333333333333,
              "#9c179e"
             ],
             [
              0.4444444444444444,
              "#bd3786"
             ],
             [
              0.5555555555555556,
              "#d8576b"
             ],
             [
              0.6666666666666666,
              "#ed7953"
             ],
             [
              0.7777777777777778,
              "#fb9f3a"
             ],
             [
              0.8888888888888888,
              "#fdca26"
             ],
             [
              1,
              "#f0f921"
             ]
            ],
            "type": "histogram2d"
           }
          ],
          "histogram2dcontour": [
           {
            "colorbar": {
             "outlinewidth": 0,
             "ticks": ""
            },
            "colorscale": [
             [
              0,
              "#0d0887"
             ],
             [
              0.1111111111111111,
              "#46039f"
             ],
             [
              0.2222222222222222,
              "#7201a8"
             ],
             [
              0.3333333333333333,
              "#9c179e"
             ],
             [
              0.4444444444444444,
              "#bd3786"
             ],
             [
              0.5555555555555556,
              "#d8576b"
             ],
             [
              0.6666666666666666,
              "#ed7953"
             ],
             [
              0.7777777777777778,
              "#fb9f3a"
             ],
             [
              0.8888888888888888,
              "#fdca26"
             ],
             [
              1,
              "#f0f921"
             ]
            ],
            "type": "histogram2dcontour"
           }
          ],
          "mesh3d": [
           {
            "colorbar": {
             "outlinewidth": 0,
             "ticks": ""
            },
            "type": "mesh3d"
           }
          ],
          "parcoords": [
           {
            "line": {
             "colorbar": {
              "outlinewidth": 0,
              "ticks": ""
             }
            },
            "type": "parcoords"
           }
          ],
          "pie": [
           {
            "automargin": true,
            "type": "pie"
           }
          ],
          "scatter": [
           {
            "fillpattern": {
             "fillmode": "overlay",
             "size": 10,
             "solidity": 0.2
            },
            "type": "scatter"
           }
          ],
          "scatter3d": [
           {
            "line": {
             "colorbar": {
              "outlinewidth": 0,
              "ticks": ""
             }
            },
            "marker": {
             "colorbar": {
              "outlinewidth": 0,
              "ticks": ""
             }
            },
            "type": "scatter3d"
           }
          ],
          "scattercarpet": [
           {
            "marker": {
             "colorbar": {
              "outlinewidth": 0,
              "ticks": ""
             }
            },
            "type": "scattercarpet"
           }
          ],
          "scattergeo": [
           {
            "marker": {
             "colorbar": {
              "outlinewidth": 0,
              "ticks": ""
             }
            },
            "type": "scattergeo"
           }
          ],
          "scattergl": [
           {
            "marker": {
             "colorbar": {
              "outlinewidth": 0,
              "ticks": ""
             }
            },
            "type": "scattergl"
           }
          ],
          "scattermapbox": [
           {
            "marker": {
             "colorbar": {
              "outlinewidth": 0,
              "ticks": ""
             }
            },
            "type": "scattermapbox"
           }
          ],
          "scatterpolar": [
           {
            "marker": {
             "colorbar": {
              "outlinewidth": 0,
              "ticks": ""
             }
            },
            "type": "scatterpolar"
           }
          ],
          "scatterpolargl": [
           {
            "marker": {
             "colorbar": {
              "outlinewidth": 0,
              "ticks": ""
             }
            },
            "type": "scatterpolargl"
           }
          ],
          "scatterternary": [
           {
            "marker": {
             "colorbar": {
              "outlinewidth": 0,
              "ticks": ""
             }
            },
            "type": "scatterternary"
           }
          ],
          "surface": [
           {
            "colorbar": {
             "outlinewidth": 0,
             "ticks": ""
            },
            "colorscale": [
             [
              0,
              "#0d0887"
             ],
             [
              0.1111111111111111,
              "#46039f"
             ],
             [
              0.2222222222222222,
              "#7201a8"
             ],
             [
              0.3333333333333333,
              "#9c179e"
             ],
             [
              0.4444444444444444,
              "#bd3786"
             ],
             [
              0.5555555555555556,
              "#d8576b"
             ],
             [
              0.6666666666666666,
              "#ed7953"
             ],
             [
              0.7777777777777778,
              "#fb9f3a"
             ],
             [
              0.8888888888888888,
              "#fdca26"
             ],
             [
              1,
              "#f0f921"
             ]
            ],
            "type": "surface"
           }
          ],
          "table": [
           {
            "cells": {
             "fill": {
              "color": "#EBF0F8"
             },
             "line": {
              "color": "white"
             }
            },
            "header": {
             "fill": {
              "color": "#C8D4E3"
             },
             "line": {
              "color": "white"
             }
            },
            "type": "table"
           }
          ]
         },
         "layout": {
          "annotationdefaults": {
           "arrowcolor": "#2a3f5f",
           "arrowhead": 0,
           "arrowwidth": 1
          },
          "autotypenumbers": "strict",
          "coloraxis": {
           "colorbar": {
            "outlinewidth": 0,
            "ticks": ""
           }
          },
          "colorscale": {
           "diverging": [
            [
             0,
             "#8e0152"
            ],
            [
             0.1,
             "#c51b7d"
            ],
            [
             0.2,
             "#de77ae"
            ],
            [
             0.3,
             "#f1b6da"
            ],
            [
             0.4,
             "#fde0ef"
            ],
            [
             0.5,
             "#f7f7f7"
            ],
            [
             0.6,
             "#e6f5d0"
            ],
            [
             0.7,
             "#b8e186"
            ],
            [
             0.8,
             "#7fbc41"
            ],
            [
             0.9,
             "#4d9221"
            ],
            [
             1,
             "#276419"
            ]
           ],
           "sequential": [
            [
             0,
             "#0d0887"
            ],
            [
             0.1111111111111111,
             "#46039f"
            ],
            [
             0.2222222222222222,
             "#7201a8"
            ],
            [
             0.3333333333333333,
             "#9c179e"
            ],
            [
             0.4444444444444444,
             "#bd3786"
            ],
            [
             0.5555555555555556,
             "#d8576b"
            ],
            [
             0.6666666666666666,
             "#ed7953"
            ],
            [
             0.7777777777777778,
             "#fb9f3a"
            ],
            [
             0.8888888888888888,
             "#fdca26"
            ],
            [
             1,
             "#f0f921"
            ]
           ],
           "sequentialminus": [
            [
             0,
             "#0d0887"
            ],
            [
             0.1111111111111111,
             "#46039f"
            ],
            [
             0.2222222222222222,
             "#7201a8"
            ],
            [
             0.3333333333333333,
             "#9c179e"
            ],
            [
             0.4444444444444444,
             "#bd3786"
            ],
            [
             0.5555555555555556,
             "#d8576b"
            ],
            [
             0.6666666666666666,
             "#ed7953"
            ],
            [
             0.7777777777777778,
             "#fb9f3a"
            ],
            [
             0.8888888888888888,
             "#fdca26"
            ],
            [
             1,
             "#f0f921"
            ]
           ]
          },
          "colorway": [
           "#636efa",
           "#EF553B",
           "#00cc96",
           "#ab63fa",
           "#FFA15A",
           "#19d3f3",
           "#FF6692",
           "#B6E880",
           "#FF97FF",
           "#FECB52"
          ],
          "font": {
           "color": "#2a3f5f"
          },
          "geo": {
           "bgcolor": "white",
           "lakecolor": "white",
           "landcolor": "#E5ECF6",
           "showlakes": true,
           "showland": true,
           "subunitcolor": "white"
          },
          "hoverlabel": {
           "align": "left"
          },
          "hovermode": "closest",
          "mapbox": {
           "style": "light"
          },
          "paper_bgcolor": "white",
          "plot_bgcolor": "#E5ECF6",
          "polar": {
           "angularaxis": {
            "gridcolor": "white",
            "linecolor": "white",
            "ticks": ""
           },
           "bgcolor": "#E5ECF6",
           "radialaxis": {
            "gridcolor": "white",
            "linecolor": "white",
            "ticks": ""
           }
          },
          "scene": {
           "xaxis": {
            "backgroundcolor": "#E5ECF6",
            "gridcolor": "white",
            "gridwidth": 2,
            "linecolor": "white",
            "showbackground": true,
            "ticks": "",
            "zerolinecolor": "white"
           },
           "yaxis": {
            "backgroundcolor": "#E5ECF6",
            "gridcolor": "white",
            "gridwidth": 2,
            "linecolor": "white",
            "showbackground": true,
            "ticks": "",
            "zerolinecolor": "white"
           },
           "zaxis": {
            "backgroundcolor": "#E5ECF6",
            "gridcolor": "white",
            "gridwidth": 2,
            "linecolor": "white",
            "showbackground": true,
            "ticks": "",
            "zerolinecolor": "white"
           }
          },
          "shapedefaults": {
           "line": {
            "color": "#2a3f5f"
           }
          },
          "ternary": {
           "aaxis": {
            "gridcolor": "white",
            "linecolor": "white",
            "ticks": ""
           },
           "baxis": {
            "gridcolor": "white",
            "linecolor": "white",
            "ticks": ""
           },
           "bgcolor": "#E5ECF6",
           "caxis": {
            "gridcolor": "white",
            "linecolor": "white",
            "ticks": ""
           }
          },
          "title": {
           "x": 0.05
          },
          "xaxis": {
           "automargin": true,
           "gridcolor": "white",
           "linecolor": "white",
           "ticks": "",
           "title": {
            "standoff": 15
           },
           "zerolinecolor": "white",
           "zerolinewidth": 2
          },
          "yaxis": {
           "automargin": true,
           "gridcolor": "white",
           "linecolor": "white",
           "ticks": "",
           "title": {
            "standoff": 15
           },
           "zerolinecolor": "white",
           "zerolinewidth": 2
          }
         }
        },
        "title": {
         "text": "win round"
        },
        "width": 700
       }
      }
     },
     "metadata": {},
     "output_type": "display_data"
    }
   ],
   "source": [
    "import plotly.graph_objects as go\n",
    "\n",
    "x_data = df_win_round.columns.to_list() # close threshold\n",
    "\n",
    "y_data = df_win_round.index.to_list() # open threshold\n",
    "\n",
    "z_data = df_win_round.copy(deep=True) # win rate\n",
    "\n",
    "fig = go.Figure(data=[go.Surface(z=z_data.values,x=x_data,y=y_data)])\n",
    "\n",
    "fig.update_layout(title=\"win round\", # 标题\n",
    "                  autosize=False,  # 尺度自动缩放\n",
    "                  width=700,  # 长宽\n",
    "                  height=600,\n",
    "                  margin=dict(l=65,r=50,b=65,t=90),  # 4个位置的距离\n",
    "                  scene=dict(xaxis_title='X-close-threshold',yaxis_title='Y-open-threshold')\n",
    "                 )\n",
    "\n",
    "fig.show()"
   ]
  },
  {
   "cell_type": "markdown",
   "metadata": {},
   "source": [
    "# lose round surface"
   ]
  },
  {
   "cell_type": "code",
   "execution_count": 22,
   "metadata": {},
   "outputs": [
    {
     "name": "stdout",
     "output_type": "stream",
     "text": [
      "max win round: \n",
      " 0.000    41.0\n",
      "0.001    41.0\n",
      "0.002    41.0\n",
      "0.003    43.0\n",
      "dtype: float64\n",
      "min win round: \n",
      " 0.000    18.0\n",
      "0.001    18.0\n",
      "0.002    17.0\n",
      "0.003    17.0\n",
      "dtype: float64\n"
     ]
    },
    {
     "data": {
      "text/html": [
       "<div>\n",
       "<style scoped>\n",
       "    .dataframe tbody tr th:only-of-type {\n",
       "        vertical-align: middle;\n",
       "    }\n",
       "\n",
       "    .dataframe tbody tr th {\n",
       "        vertical-align: top;\n",
       "    }\n",
       "\n",
       "    .dataframe thead th {\n",
       "        text-align: right;\n",
       "    }\n",
       "</style>\n",
       "<table border=\"1\" class=\"dataframe\">\n",
       "  <thead>\n",
       "    <tr style=\"text-align: right;\">\n",
       "      <th></th>\n",
       "      <th>0.000</th>\n",
       "      <th>0.001</th>\n",
       "      <th>0.002</th>\n",
       "      <th>0.003</th>\n",
       "    </tr>\n",
       "  </thead>\n",
       "  <tbody>\n",
       "    <tr>\n",
       "      <th>0.005</th>\n",
       "      <td>41.0</td>\n",
       "      <td>41.0</td>\n",
       "      <td>41.0</td>\n",
       "      <td>43.0</td>\n",
       "    </tr>\n",
       "    <tr>\n",
       "      <th>0.006</th>\n",
       "      <td>39.0</td>\n",
       "      <td>40.0</td>\n",
       "      <td>40.0</td>\n",
       "      <td>39.0</td>\n",
       "    </tr>\n",
       "    <tr>\n",
       "      <th>0.007</th>\n",
       "      <td>39.0</td>\n",
       "      <td>40.0</td>\n",
       "      <td>39.0</td>\n",
       "      <td>39.0</td>\n",
       "    </tr>\n",
       "    <tr>\n",
       "      <th>0.008</th>\n",
       "      <td>37.0</td>\n",
       "      <td>37.0</td>\n",
       "      <td>35.0</td>\n",
       "      <td>35.0</td>\n",
       "    </tr>\n",
       "    <tr>\n",
       "      <th>0.009</th>\n",
       "      <td>32.0</td>\n",
       "      <td>32.0</td>\n",
       "      <td>32.0</td>\n",
       "      <td>31.0</td>\n",
       "    </tr>\n",
       "    <tr>\n",
       "      <th>0.010</th>\n",
       "      <td>32.0</td>\n",
       "      <td>32.0</td>\n",
       "      <td>32.0</td>\n",
       "      <td>31.0</td>\n",
       "    </tr>\n",
       "    <tr>\n",
       "      <th>0.011</th>\n",
       "      <td>29.0</td>\n",
       "      <td>29.0</td>\n",
       "      <td>30.0</td>\n",
       "      <td>30.0</td>\n",
       "    </tr>\n",
       "    <tr>\n",
       "      <th>0.012</th>\n",
       "      <td>26.0</td>\n",
       "      <td>26.0</td>\n",
       "      <td>26.0</td>\n",
       "      <td>26.0</td>\n",
       "    </tr>\n",
       "    <tr>\n",
       "      <th>0.013</th>\n",
       "      <td>23.0</td>\n",
       "      <td>23.0</td>\n",
       "      <td>22.0</td>\n",
       "      <td>22.0</td>\n",
       "    </tr>\n",
       "    <tr>\n",
       "      <th>0.014</th>\n",
       "      <td>21.0</td>\n",
       "      <td>21.0</td>\n",
       "      <td>19.0</td>\n",
       "      <td>19.0</td>\n",
       "    </tr>\n",
       "    <tr>\n",
       "      <th>0.015</th>\n",
       "      <td>18.0</td>\n",
       "      <td>18.0</td>\n",
       "      <td>17.0</td>\n",
       "      <td>17.0</td>\n",
       "    </tr>\n",
       "  </tbody>\n",
       "</table>\n",
       "</div>"
      ],
      "text/plain": [
       "       0.000  0.001  0.002  0.003\n",
       "0.005   41.0   41.0   41.0   43.0\n",
       "0.006   39.0   40.0   40.0   39.0\n",
       "0.007   39.0   40.0   39.0   39.0\n",
       "0.008   37.0   37.0   35.0   35.0\n",
       "0.009   32.0   32.0   32.0   31.0\n",
       "0.010   32.0   32.0   32.0   31.0\n",
       "0.011   29.0   29.0   30.0   30.0\n",
       "0.012   26.0   26.0   26.0   26.0\n",
       "0.013   23.0   23.0   22.0   22.0\n",
       "0.014   21.0   21.0   19.0   19.0\n",
       "0.015   18.0   18.0   17.0   17.0"
      ]
     },
     "execution_count": 22,
     "metadata": {},
     "output_type": "execute_result"
    }
   ],
   "source": [
    "df_lose_round = pd.DataFrame([])\n",
    "for index,row in df_grid_search_res.iterrows():\n",
    "    open_threshold = row['open threshold']\n",
    "    close_threshold = row['close threshold']\n",
    "    df_lose_round.loc[open_threshold,close_threshold] = row['lose']\n",
    "print('max win round: \\n',df_lose_round.max())\n",
    "print('min win round: \\n',df_lose_round.min())    \n",
    "df_lose_round"
   ]
  },
  {
   "cell_type": "code",
   "execution_count": 23,
   "metadata": {},
   "outputs": [
    {
     "data": {
      "application/vnd.plotly.v1+json": {
       "config": {
        "plotlyServerURL": "https://plot.ly"
       },
       "data": [
        {
         "type": "surface",
         "x": [
          0,
          0.001,
          0.002,
          0.003
         ],
         "y": [
          0.005,
          0.006,
          0.007,
          0.008,
          0.009,
          0.01,
          0.011,
          0.012,
          0.013,
          0.014,
          0.015
         ],
         "z": [
          [
           41,
           41,
           41,
           43
          ],
          [
           39,
           40,
           40,
           39
          ],
          [
           39,
           40,
           39,
           39
          ],
          [
           37,
           37,
           35,
           35
          ],
          [
           32,
           32,
           32,
           31
          ],
          [
           32,
           32,
           32,
           31
          ],
          [
           29,
           29,
           30,
           30
          ],
          [
           26,
           26,
           26,
           26
          ],
          [
           23,
           23,
           22,
           22
          ],
          [
           21,
           21,
           19,
           19
          ],
          [
           18,
           18,
           17,
           17
          ]
         ]
        }
       ],
       "layout": {
        "autosize": false,
        "height": 600,
        "margin": {
         "b": 65,
         "l": 65,
         "r": 50,
         "t": 90
        },
        "scene": {
         "xaxis": {
          "title": {
           "text": "X-close-threshold"
          }
         },
         "yaxis": {
          "title": {
           "text": "Y-open-threshold"
          }
         }
        },
        "template": {
         "data": {
          "bar": [
           {
            "error_x": {
             "color": "#2a3f5f"
            },
            "error_y": {
             "color": "#2a3f5f"
            },
            "marker": {
             "line": {
              "color": "#E5ECF6",
              "width": 0.5
             },
             "pattern": {
              "fillmode": "overlay",
              "size": 10,
              "solidity": 0.2
             }
            },
            "type": "bar"
           }
          ],
          "barpolar": [
           {
            "marker": {
             "line": {
              "color": "#E5ECF6",
              "width": 0.5
             },
             "pattern": {
              "fillmode": "overlay",
              "size": 10,
              "solidity": 0.2
             }
            },
            "type": "barpolar"
           }
          ],
          "carpet": [
           {
            "aaxis": {
             "endlinecolor": "#2a3f5f",
             "gridcolor": "white",
             "linecolor": "white",
             "minorgridcolor": "white",
             "startlinecolor": "#2a3f5f"
            },
            "baxis": {
             "endlinecolor": "#2a3f5f",
             "gridcolor": "white",
             "linecolor": "white",
             "minorgridcolor": "white",
             "startlinecolor": "#2a3f5f"
            },
            "type": "carpet"
           }
          ],
          "choropleth": [
           {
            "colorbar": {
             "outlinewidth": 0,
             "ticks": ""
            },
            "type": "choropleth"
           }
          ],
          "contour": [
           {
            "colorbar": {
             "outlinewidth": 0,
             "ticks": ""
            },
            "colorscale": [
             [
              0,
              "#0d0887"
             ],
             [
              0.1111111111111111,
              "#46039f"
             ],
             [
              0.2222222222222222,
              "#7201a8"
             ],
             [
              0.3333333333333333,
              "#9c179e"
             ],
             [
              0.4444444444444444,
              "#bd3786"
             ],
             [
              0.5555555555555556,
              "#d8576b"
             ],
             [
              0.6666666666666666,
              "#ed7953"
             ],
             [
              0.7777777777777778,
              "#fb9f3a"
             ],
             [
              0.8888888888888888,
              "#fdca26"
             ],
             [
              1,
              "#f0f921"
             ]
            ],
            "type": "contour"
           }
          ],
          "contourcarpet": [
           {
            "colorbar": {
             "outlinewidth": 0,
             "ticks": ""
            },
            "type": "contourcarpet"
           }
          ],
          "heatmap": [
           {
            "colorbar": {
             "outlinewidth": 0,
             "ticks": ""
            },
            "colorscale": [
             [
              0,
              "#0d0887"
             ],
             [
              0.1111111111111111,
              "#46039f"
             ],
             [
              0.2222222222222222,
              "#7201a8"
             ],
             [
              0.3333333333333333,
              "#9c179e"
             ],
             [
              0.4444444444444444,
              "#bd3786"
             ],
             [
              0.5555555555555556,
              "#d8576b"
             ],
             [
              0.6666666666666666,
              "#ed7953"
             ],
             [
              0.7777777777777778,
              "#fb9f3a"
             ],
             [
              0.8888888888888888,
              "#fdca26"
             ],
             [
              1,
              "#f0f921"
             ]
            ],
            "type": "heatmap"
           }
          ],
          "heatmapgl": [
           {
            "colorbar": {
             "outlinewidth": 0,
             "ticks": ""
            },
            "colorscale": [
             [
              0,
              "#0d0887"
             ],
             [
              0.1111111111111111,
              "#46039f"
             ],
             [
              0.2222222222222222,
              "#7201a8"
             ],
             [
              0.3333333333333333,
              "#9c179e"
             ],
             [
              0.4444444444444444,
              "#bd3786"
             ],
             [
              0.5555555555555556,
              "#d8576b"
             ],
             [
              0.6666666666666666,
              "#ed7953"
             ],
             [
              0.7777777777777778,
              "#fb9f3a"
             ],
             [
              0.8888888888888888,
              "#fdca26"
             ],
             [
              1,
              "#f0f921"
             ]
            ],
            "type": "heatmapgl"
           }
          ],
          "histogram": [
           {
            "marker": {
             "pattern": {
              "fillmode": "overlay",
              "size": 10,
              "solidity": 0.2
             }
            },
            "type": "histogram"
           }
          ],
          "histogram2d": [
           {
            "colorbar": {
             "outlinewidth": 0,
             "ticks": ""
            },
            "colorscale": [
             [
              0,
              "#0d0887"
             ],
             [
              0.1111111111111111,
              "#46039f"
             ],
             [
              0.2222222222222222,
              "#7201a8"
             ],
             [
              0.3333333333333333,
              "#9c179e"
             ],
             [
              0.4444444444444444,
              "#bd3786"
             ],
             [
              0.5555555555555556,
              "#d8576b"
             ],
             [
              0.6666666666666666,
              "#ed7953"
             ],
             [
              0.7777777777777778,
              "#fb9f3a"
             ],
             [
              0.8888888888888888,
              "#fdca26"
             ],
             [
              1,
              "#f0f921"
             ]
            ],
            "type": "histogram2d"
           }
          ],
          "histogram2dcontour": [
           {
            "colorbar": {
             "outlinewidth": 0,
             "ticks": ""
            },
            "colorscale": [
             [
              0,
              "#0d0887"
             ],
             [
              0.1111111111111111,
              "#46039f"
             ],
             [
              0.2222222222222222,
              "#7201a8"
             ],
             [
              0.3333333333333333,
              "#9c179e"
             ],
             [
              0.4444444444444444,
              "#bd3786"
             ],
             [
              0.5555555555555556,
              "#d8576b"
             ],
             [
              0.6666666666666666,
              "#ed7953"
             ],
             [
              0.7777777777777778,
              "#fb9f3a"
             ],
             [
              0.8888888888888888,
              "#fdca26"
             ],
             [
              1,
              "#f0f921"
             ]
            ],
            "type": "histogram2dcontour"
           }
          ],
          "mesh3d": [
           {
            "colorbar": {
             "outlinewidth": 0,
             "ticks": ""
            },
            "type": "mesh3d"
           }
          ],
          "parcoords": [
           {
            "line": {
             "colorbar": {
              "outlinewidth": 0,
              "ticks": ""
             }
            },
            "type": "parcoords"
           }
          ],
          "pie": [
           {
            "automargin": true,
            "type": "pie"
           }
          ],
          "scatter": [
           {
            "fillpattern": {
             "fillmode": "overlay",
             "size": 10,
             "solidity": 0.2
            },
            "type": "scatter"
           }
          ],
          "scatter3d": [
           {
            "line": {
             "colorbar": {
              "outlinewidth": 0,
              "ticks": ""
             }
            },
            "marker": {
             "colorbar": {
              "outlinewidth": 0,
              "ticks": ""
             }
            },
            "type": "scatter3d"
           }
          ],
          "scattercarpet": [
           {
            "marker": {
             "colorbar": {
              "outlinewidth": 0,
              "ticks": ""
             }
            },
            "type": "scattercarpet"
           }
          ],
          "scattergeo": [
           {
            "marker": {
             "colorbar": {
              "outlinewidth": 0,
              "ticks": ""
             }
            },
            "type": "scattergeo"
           }
          ],
          "scattergl": [
           {
            "marker": {
             "colorbar": {
              "outlinewidth": 0,
              "ticks": ""
             }
            },
            "type": "scattergl"
           }
          ],
          "scattermapbox": [
           {
            "marker": {
             "colorbar": {
              "outlinewidth": 0,
              "ticks": ""
             }
            },
            "type": "scattermapbox"
           }
          ],
          "scatterpolar": [
           {
            "marker": {
             "colorbar": {
              "outlinewidth": 0,
              "ticks": ""
             }
            },
            "type": "scatterpolar"
           }
          ],
          "scatterpolargl": [
           {
            "marker": {
             "colorbar": {
              "outlinewidth": 0,
              "ticks": ""
             }
            },
            "type": "scatterpolargl"
           }
          ],
          "scatterternary": [
           {
            "marker": {
             "colorbar": {
              "outlinewidth": 0,
              "ticks": ""
             }
            },
            "type": "scatterternary"
           }
          ],
          "surface": [
           {
            "colorbar": {
             "outlinewidth": 0,
             "ticks": ""
            },
            "colorscale": [
             [
              0,
              "#0d0887"
             ],
             [
              0.1111111111111111,
              "#46039f"
             ],
             [
              0.2222222222222222,
              "#7201a8"
             ],
             [
              0.3333333333333333,
              "#9c179e"
             ],
             [
              0.4444444444444444,
              "#bd3786"
             ],
             [
              0.5555555555555556,
              "#d8576b"
             ],
             [
              0.6666666666666666,
              "#ed7953"
             ],
             [
              0.7777777777777778,
              "#fb9f3a"
             ],
             [
              0.8888888888888888,
              "#fdca26"
             ],
             [
              1,
              "#f0f921"
             ]
            ],
            "type": "surface"
           }
          ],
          "table": [
           {
            "cells": {
             "fill": {
              "color": "#EBF0F8"
             },
             "line": {
              "color": "white"
             }
            },
            "header": {
             "fill": {
              "color": "#C8D4E3"
             },
             "line": {
              "color": "white"
             }
            },
            "type": "table"
           }
          ]
         },
         "layout": {
          "annotationdefaults": {
           "arrowcolor": "#2a3f5f",
           "arrowhead": 0,
           "arrowwidth": 1
          },
          "autotypenumbers": "strict",
          "coloraxis": {
           "colorbar": {
            "outlinewidth": 0,
            "ticks": ""
           }
          },
          "colorscale": {
           "diverging": [
            [
             0,
             "#8e0152"
            ],
            [
             0.1,
             "#c51b7d"
            ],
            [
             0.2,
             "#de77ae"
            ],
            [
             0.3,
             "#f1b6da"
            ],
            [
             0.4,
             "#fde0ef"
            ],
            [
             0.5,
             "#f7f7f7"
            ],
            [
             0.6,
             "#e6f5d0"
            ],
            [
             0.7,
             "#b8e186"
            ],
            [
             0.8,
             "#7fbc41"
            ],
            [
             0.9,
             "#4d9221"
            ],
            [
             1,
             "#276419"
            ]
           ],
           "sequential": [
            [
             0,
             "#0d0887"
            ],
            [
             0.1111111111111111,
             "#46039f"
            ],
            [
             0.2222222222222222,
             "#7201a8"
            ],
            [
             0.3333333333333333,
             "#9c179e"
            ],
            [
             0.4444444444444444,
             "#bd3786"
            ],
            [
             0.5555555555555556,
             "#d8576b"
            ],
            [
             0.6666666666666666,
             "#ed7953"
            ],
            [
             0.7777777777777778,
             "#fb9f3a"
            ],
            [
             0.8888888888888888,
             "#fdca26"
            ],
            [
             1,
             "#f0f921"
            ]
           ],
           "sequentialminus": [
            [
             0,
             "#0d0887"
            ],
            [
             0.1111111111111111,
             "#46039f"
            ],
            [
             0.2222222222222222,
             "#7201a8"
            ],
            [
             0.3333333333333333,
             "#9c179e"
            ],
            [
             0.4444444444444444,
             "#bd3786"
            ],
            [
             0.5555555555555556,
             "#d8576b"
            ],
            [
             0.6666666666666666,
             "#ed7953"
            ],
            [
             0.7777777777777778,
             "#fb9f3a"
            ],
            [
             0.8888888888888888,
             "#fdca26"
            ],
            [
             1,
             "#f0f921"
            ]
           ]
          },
          "colorway": [
           "#636efa",
           "#EF553B",
           "#00cc96",
           "#ab63fa",
           "#FFA15A",
           "#19d3f3",
           "#FF6692",
           "#B6E880",
           "#FF97FF",
           "#FECB52"
          ],
          "font": {
           "color": "#2a3f5f"
          },
          "geo": {
           "bgcolor": "white",
           "lakecolor": "white",
           "landcolor": "#E5ECF6",
           "showlakes": true,
           "showland": true,
           "subunitcolor": "white"
          },
          "hoverlabel": {
           "align": "left"
          },
          "hovermode": "closest",
          "mapbox": {
           "style": "light"
          },
          "paper_bgcolor": "white",
          "plot_bgcolor": "#E5ECF6",
          "polar": {
           "angularaxis": {
            "gridcolor": "white",
            "linecolor": "white",
            "ticks": ""
           },
           "bgcolor": "#E5ECF6",
           "radialaxis": {
            "gridcolor": "white",
            "linecolor": "white",
            "ticks": ""
           }
          },
          "scene": {
           "xaxis": {
            "backgroundcolor": "#E5ECF6",
            "gridcolor": "white",
            "gridwidth": 2,
            "linecolor": "white",
            "showbackground": true,
            "ticks": "",
            "zerolinecolor": "white"
           },
           "yaxis": {
            "backgroundcolor": "#E5ECF6",
            "gridcolor": "white",
            "gridwidth": 2,
            "linecolor": "white",
            "showbackground": true,
            "ticks": "",
            "zerolinecolor": "white"
           },
           "zaxis": {
            "backgroundcolor": "#E5ECF6",
            "gridcolor": "white",
            "gridwidth": 2,
            "linecolor": "white",
            "showbackground": true,
            "ticks": "",
            "zerolinecolor": "white"
           }
          },
          "shapedefaults": {
           "line": {
            "color": "#2a3f5f"
           }
          },
          "ternary": {
           "aaxis": {
            "gridcolor": "white",
            "linecolor": "white",
            "ticks": ""
           },
           "baxis": {
            "gridcolor": "white",
            "linecolor": "white",
            "ticks": ""
           },
           "bgcolor": "#E5ECF6",
           "caxis": {
            "gridcolor": "white",
            "linecolor": "white",
            "ticks": ""
           }
          },
          "title": {
           "x": 0.05
          },
          "xaxis": {
           "automargin": true,
           "gridcolor": "white",
           "linecolor": "white",
           "ticks": "",
           "title": {
            "standoff": 15
           },
           "zerolinecolor": "white",
           "zerolinewidth": 2
          },
          "yaxis": {
           "automargin": true,
           "gridcolor": "white",
           "linecolor": "white",
           "ticks": "",
           "title": {
            "standoff": 15
           },
           "zerolinecolor": "white",
           "zerolinewidth": 2
          }
         }
        },
        "title": {
         "text": "lose round"
        },
        "width": 700
       }
      }
     },
     "metadata": {},
     "output_type": "display_data"
    }
   ],
   "source": [
    "import plotly.graph_objects as go\n",
    "\n",
    "x_data = df_lose_round.columns.to_list() # close threshold\n",
    "\n",
    "y_data = df_lose_round.index.to_list() # open threshold\n",
    "\n",
    "z_data = df_lose_round.copy(deep=True) # win rate\n",
    "\n",
    "fig = go.Figure(data=[go.Surface(z=z_data.values,x=x_data,y=y_data)])\n",
    "\n",
    "fig.update_layout(title=\"lose round\", # 标题\n",
    "                  autosize=False,  # 尺度自动缩放\n",
    "                  width=700,  # 长宽\n",
    "                  height=600,\n",
    "                  margin=dict(l=65,r=50,b=65,t=90),  # 4个位置的距离\n",
    "                  scene=dict(xaxis_title='X-close-threshold',yaxis_title='Y-open-threshold')\n",
    "                )\n",
    "\n",
    "fig.show()"
   ]
  },
  {
   "cell_type": "code",
   "execution_count": 24,
   "metadata": {},
   "outputs": [
    {
     "ename": "AssertionError",
     "evalue": "",
     "output_type": "error",
     "traceback": [
      "\u001b[0;31m---------------------------------------------------------------------------\u001b[0m",
      "\u001b[0;31mAssertionError\u001b[0m                            Traceback (most recent call last)",
      "\u001b[0;32m/var/folders/4y/tm0f5s2n00s3g71c6qrvd0bh0000gn/T/ipykernel_18422/2103537015.py\u001b[0m in \u001b[0;36m<module>\u001b[0;34m\u001b[0m\n\u001b[0;32m----> 1\u001b[0;31m \u001b[0;32massert\u001b[0m \u001b[0;32mFalse\u001b[0m\u001b[0;34m\u001b[0m\u001b[0;34m\u001b[0m\u001b[0m\n\u001b[0m",
      "\u001b[0;31mAssertionError\u001b[0m: "
     ]
    }
   ],
   "source": [
    "assert False"
   ]
  },
  {
   "cell_type": "markdown",
   "metadata": {},
   "source": [
    "# signal check"
   ]
  },
  {
   "cell_type": "code",
   "execution_count": null,
   "metadata": {},
   "outputs": [],
   "source": [
    "print('open threshold: ',open_threshold,'close threshold: ',close_threshold)\n",
    "# df_signal"
   ]
  },
  {
   "cell_type": "code",
   "execution_count": null,
   "metadata": {},
   "outputs": [],
   "source": [
    "len(rounds)"
   ]
  },
  {
   "cell_type": "code",
   "execution_count": null,
   "metadata": {},
   "outputs": [],
   "source": [
    "cnt = 0\n",
    "for index, row in df_trade.iterrows():\n",
    "    \n",
    "    if str(index)[-8:] == '15:00:00':\n",
    "        cnt += 1\n",
    "print(cnt)"
   ]
  },
  {
   "cell_type": "code",
   "execution_count": null,
   "metadata": {},
   "outputs": [],
   "source": [
    "df_pos_list = []\n",
    "for k,v in signal_res.items():\n",
    "    # print(k.split('@'))\n",
    "    tmp_df_pos = v[['bond_pos','stock_pos']]\n",
    "    # print(tmp_df_pos.head())\n",
    "    tmp_df_pos.columns = ['bond_pos'+k,'stock_pos']\n",
    "    df_pos_list.append(tmp_df_pos)\n"
   ]
  },
  {
   "cell_type": "code",
   "execution_count": null,
   "metadata": {},
   "outputs": [],
   "source": [
    "df_pos = pd.concat([df_signal.iloc[:,:-2],df_pos_list[0],df_pos_list[-4]],axis=1)\n",
    "print(len(df_pos))\n",
    "df_pos.head(300)"
   ]
  },
  {
   "cell_type": "code",
   "execution_count": null,
   "metadata": {},
   "outputs": [],
   "source": []
  },
  {
   "cell_type": "code",
   "execution_count": null,
   "metadata": {},
   "outputs": [],
   "source": [
    "cnt = 0\n",
    "for index,row in df_trade.iloc[1:,:].iterrows():\n",
    "    if index.time() == time(15,0,0):\n",
    "        cnt += 1\n",
    "print(cnt)"
   ]
  },
  {
   "cell_type": "code",
   "execution_count": null,
   "metadata": {},
   "outputs": [],
   "source": [
    "len(rounds)"
   ]
  },
  {
   "cell_type": "code",
   "execution_count": null,
   "metadata": {},
   "outputs": [],
   "source": []
  }
 ],
 "metadata": {
  "kernelspec": {
   "display_name": "Python 3.9.7 ('base')",
   "language": "python",
   "name": "python3"
  },
  "language_info": {
   "codemirror_mode": {
    "name": "ipython",
    "version": 3
   },
   "file_extension": ".py",
   "mimetype": "text/x-python",
   "name": "python",
   "nbconvert_exporter": "python",
   "pygments_lexer": "ipython3",
   "version": "3.9.7"
  },
  "orig_nbformat": 4,
  "vscode": {
   "interpreter": {
    "hash": "4b7a3c99c09164ed3315a85b9be868456d78d186d21965e8a7155bab558fd18f"
   }
  }
 },
 "nbformat": 4,
 "nbformat_minor": 2
}
